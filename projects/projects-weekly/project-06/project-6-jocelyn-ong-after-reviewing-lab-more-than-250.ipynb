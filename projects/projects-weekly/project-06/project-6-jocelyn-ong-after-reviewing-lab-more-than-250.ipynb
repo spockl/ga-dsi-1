{
 "cells": [
  {
   "cell_type": "code",
   "execution_count": 1,
   "metadata": {
    "ExecuteTime": {
     "end_time": "2016-10-28T09:48:13.921787",
     "start_time": "2016-10-28T09:48:05.570718"
    },
    "collapsed": false
   },
   "outputs": [],
   "source": [
    "# import relevant libraries\n",
    "\n",
    "# basic libraries\n",
    "import pandas as pd\n",
    "import numpy as np\n",
    "from collections import Counter\n",
    "import re\n",
    "\n",
    "# visualization libraries\n",
    "import matplotlib.pyplot as plt\n",
    "import seaborn as sns\n",
    "\n",
    "# machine learning libraries\n",
    "from sklearn import tree, metrics, model_selection, linear_model, ensemble, preprocessing, feature_extraction, feature_selection\n",
    "\n",
    "# data collection libraries\n",
    "import requests\n",
    "from selenium import webdriver\n",
    "import bs4\n",
    "import imdbpie\n",
    "import json\n",
    "\n",
    "%matplotlib inline"
   ]
  },
  {
   "cell_type": "markdown",
   "metadata": {},
   "source": [
    "# Identify: Problem Statement & Goals"
   ]
  },
  {
   "cell_type": "markdown",
   "metadata": {},
   "source": [
    "**Using data from IMDB, can we build a model that predicts movie ratings based on certain inputs?**\n",
    "\n",
    "- Predict movie ratings using information about the movie (e.g. genre, length of movie etc.)\n",
    "- What are the factors that affect movie rating?"
   ]
  },
  {
   "cell_type": "markdown",
   "metadata": {},
   "source": [
    "# Acquire: Query IMDB, write results, scrape IMDB"
   ]
  },
  {
   "cell_type": "markdown",
   "metadata": {},
   "source": [
    "## Basic information using OMDBAPI, requests and BeautifulSoup"
   ]
  },
  {
   "cell_type": "code",
   "execution_count": 11,
   "metadata": {
    "collapsed": false
   },
   "outputs": [],
   "source": [
    "r2 = requests.get(\"http://www.imdb.com/chart/top\")\n",
    "soup = bs4.BeautifulSoup(r2.content, \"lxml\")\n",
    "id_list = re.findall(\"tt[0-9]{7,8}\", r2.content)\n",
    "id_list = list(set(id_list))"
   ]
  },
  {
   "cell_type": "code",
   "execution_count": 12,
   "metadata": {
    "collapsed": false
   },
   "outputs": [
    {
     "data": {
      "text/plain": [
       "['tt2582802', 'tt0047478', 'tt0082971', 'tt0050212', 'tt0848228']"
      ]
     },
     "execution_count": 12,
     "metadata": {},
     "output_type": "execute_result"
    }
   ],
   "source": [
    "id_list[:5]"
   ]
  },
  {
   "cell_type": "code",
   "execution_count": 13,
   "metadata": {
    "collapsed": false
   },
   "outputs": [
    {
     "data": {
      "text/plain": [
       "250"
      ]
     },
     "execution_count": 13,
     "metadata": {},
     "output_type": "execute_result"
    }
   ],
   "source": [
    "len(id_list)"
   ]
  },
  {
   "cell_type": "code",
   "execution_count": 31,
   "metadata": {
    "collapsed": false
   },
   "outputs": [],
   "source": [
    "# Getting more IDs\n",
    "low_ratings = 'http://www.imdb.com/search/title?genres={}&title_type=feature&sort=user_rating,asc&page={}&ref_=adv_nxt'\n",
    "high_ratings = 'http://www.imdb.com/search/title?genres={}&title_type=feature&sort=user_rating,desc&page={}&ref_=adv_nxt'\n",
    "high_num = 'http://www.imdb.com/search/title?genres={}&title_type=feature&sort=num_votes,desc&page={}&ref_=adv_nxt'\n",
    "low_num = 'http://www.imdb.com/search/title?genres={}&title_type=feature&sort=num_votes,asc&page={}&ref_=adv_nxt'\n",
    "\n",
    "# path to phantomjs\n",
    "phan_path = '//Applications/phantomjs'\n",
    "\n",
    "# function to get list of genres from IMDB\n",
    "def get_genre_list():\n",
    "    r = requests.get(\"http://www.imdb.com/genre/\")\n",
    "    soup = bs4.BeautifulSoup(r.text, \"lxml\")\n",
    "    genre_list = []\n",
    "    for i in soup.findAll('a'):\n",
    "        try:\n",
    "            if 'genre/' in i['href'] and 'genre/?' not in i['href'] and i.find('span'):\n",
    "                genre_list.append(i.text.split()[0])\n",
    "        except:\n",
    "            pass\n",
    "    return genre_list\n",
    "\n",
    "# function to get a list of IDs from each genre\n",
    "def get_id(genre, target_url,page):\n",
    "    r = requests.get(target_url.format(genre, page))\n",
    "    soup = bs4.BeautifulSoup(r.text, \"lxml\")\n",
    "    ids = []\n",
    "    count = 5\n",
    "    ids = re.findall(\"tt[0-9]{7,8}\", soup.prettify())\n",
    "    ids = list(set(ids))\n",
    "#     for i in soup.findAll('a'):\n",
    "#         try:\n",
    "#             if count > 0 and 'title/tt' in i['href'] and 'http' not in i['href']:\n",
    "# #                 print i\n",
    "#                 try:\n",
    "#                     for j in i['href'].split('/'):\n",
    "#                         if 'tt' in j and '_' not in j:\n",
    "#                             ids.append(j.strip())\n",
    "#                     count -= 1\n",
    "#                 except:\n",
    "#                     pass\n",
    "#         except:\n",
    "#             pass\n",
    "    return ids[:5]"
   ]
  },
  {
   "cell_type": "code",
   "execution_count": 32,
   "metadata": {
    "collapsed": true
   },
   "outputs": [],
   "source": [
    "# variables\n",
    "all_genres = []\n",
    "all_ids = []\n",
    "url_list = [low_ratings, high_ratings, high_num, low_num]"
   ]
  },
  {
   "cell_type": "code",
   "execution_count": 33,
   "metadata": {
    "collapsed": false
   },
   "outputs": [],
   "source": [
    "all_genres = get_genre_list()"
   ]
  },
  {
   "cell_type": "code",
   "execution_count": 34,
   "metadata": {
    "collapsed": false
   },
   "outputs": [
    {
     "name": "stdout",
     "output_type": "stream",
     "text": [
      "Action Adventure Animation Biography Comedy Crime Documentary Drama Family Fantasy Film-Noir History Horror Music Musical Mystery Romance Sci-Fi Sport Thriller War Western\n"
     ]
    }
   ],
   "source": [
    "for i in all_genres:\n",
    "    print i, \n",
    "    for x,j in enumerate(url_list):\n",
    "        for k in [1,15]:\n",
    "            id_l = get_id(i,j,k)\n",
    "#             print len(id_l),\n",
    "            all_ids.extend(id_l)"
   ]
  },
  {
   "cell_type": "code",
   "execution_count": 37,
   "metadata": {
    "collapsed": false
   },
   "outputs": [
    {
     "data": {
      "text/plain": [
       "947"
      ]
     },
     "execution_count": 37,
     "metadata": {},
     "output_type": "execute_result"
    }
   ],
   "source": [
    "extra_ids = id_list + all_ids\n",
    "extra_ids = list(set(extra_ids))\n",
    "len(extra_ids)"
   ]
  },
  {
   "cell_type": "code",
   "execution_count": 38,
   "metadata": {
    "collapsed": true
   },
   "outputs": [],
   "source": [
    "# OMDB API URL\n",
    "api_url = \"http://www.omdbapi.com/?i={}&plot=full&r=json\""
   ]
  },
  {
   "cell_type": "code",
   "execution_count": 39,
   "metadata": {
    "ExecuteTime": {
     "end_time": "2016-10-27T17:00:53.106308",
     "start_time": "2016-10-27T17:00:53.101581"
    },
    "collapsed": false
   },
   "outputs": [],
   "source": [
    "# path to phantomjs\n",
    "phan_path = \"//Applications/phantomjs\""
   ]
  },
  {
   "cell_type": "code",
   "execution_count": 40,
   "metadata": {
    "ExecuteTime": {
     "end_time": "2016-10-27T17:00:53.994155",
     "start_time": "2016-10-27T17:00:53.988279"
    },
    "collapsed": false
   },
   "outputs": [],
   "source": [
    "def get_content(id_num):\n",
    "    r = requests.get(api_url.format(id_num))\n",
    "#     tmp = pd.DataFrame(json.loads(r.text), index=[0])\n",
    "    tmp = json.loads(r.text)\n",
    "    return tmp"
   ]
  },
  {
   "cell_type": "code",
   "execution_count": 44,
   "metadata": {
    "ExecuteTime": {
     "end_time": "2016-10-27T17:01:01.033267",
     "start_time": "2016-10-27T17:00:56.557489"
    },
    "collapsed": false
   },
   "outputs": [],
   "source": [
    "df = pd.DataFrame([get_content(i) for i in extra_ids])"
   ]
  },
  {
   "cell_type": "code",
   "execution_count": 45,
   "metadata": {
    "ExecuteTime": {
     "end_time": "2016-10-27T17:01:40.905365",
     "start_time": "2016-10-27T17:01:40.819295"
    },
    "collapsed": false
   },
   "outputs": [
    {
     "data": {
      "text/html": [
       "<div>\n",
       "<table border=\"1\" class=\"dataframe\">\n",
       "  <thead>\n",
       "    <tr style=\"text-align: right;\">\n",
       "      <th></th>\n",
       "      <th>Actors</th>\n",
       "      <th>Awards</th>\n",
       "      <th>Country</th>\n",
       "      <th>Director</th>\n",
       "      <th>Error</th>\n",
       "      <th>Genre</th>\n",
       "      <th>Language</th>\n",
       "      <th>Metascore</th>\n",
       "      <th>Plot</th>\n",
       "      <th>Poster</th>\n",
       "      <th>...</th>\n",
       "      <th>Released</th>\n",
       "      <th>Response</th>\n",
       "      <th>Runtime</th>\n",
       "      <th>Title</th>\n",
       "      <th>Type</th>\n",
       "      <th>Writer</th>\n",
       "      <th>Year</th>\n",
       "      <th>imdbID</th>\n",
       "      <th>imdbRating</th>\n",
       "      <th>imdbVotes</th>\n",
       "    </tr>\n",
       "  </thead>\n",
       "  <tbody>\n",
       "    <tr>\n",
       "      <th>0</th>\n",
       "      <td>Miles Teller, J.K. Simmons, Paul Reiser, Melis...</td>\n",
       "      <td>Won 3 Oscars. Another 87 wins &amp; 131 nominations.</td>\n",
       "      <td>USA</td>\n",
       "      <td>Damien Chazelle</td>\n",
       "      <td>NaN</td>\n",
       "      <td>Drama, Music</td>\n",
       "      <td>English</td>\n",
       "      <td>88</td>\n",
       "      <td>A promising young drummer enrolls at a cut-thr...</td>\n",
       "      <td>https://images-na.ssl-images-amazon.com/images...</td>\n",
       "      <td>...</td>\n",
       "      <td>15 Oct 2014</td>\n",
       "      <td>True</td>\n",
       "      <td>107 min</td>\n",
       "      <td>Whiplash</td>\n",
       "      <td>movie</td>\n",
       "      <td>Damien Chazelle</td>\n",
       "      <td>2014</td>\n",
       "      <td>tt2582802</td>\n",
       "      <td>8.5</td>\n",
       "      <td>413,720</td>\n",
       "    </tr>\n",
       "    <tr>\n",
       "      <th>1</th>\n",
       "      <td>Liam Card, Ana Candia, Eva Redpath, David Bajurny</td>\n",
       "      <td>N/A</td>\n",
       "      <td>Canada</td>\n",
       "      <td>Alberto Diamante</td>\n",
       "      <td>NaN</td>\n",
       "      <td>Comedy, Music, Romance</td>\n",
       "      <td>English</td>\n",
       "      <td>N/A</td>\n",
       "      <td>A corpse lies on a living room floor. Our lead...</td>\n",
       "      <td>http://ia.media-imdb.com/images/M/MV5BMjEwMzA0...</td>\n",
       "      <td>...</td>\n",
       "      <td>14 Oct 2011</td>\n",
       "      <td>True</td>\n",
       "      <td>90 min</td>\n",
       "      <td>Love... and Other Reasons to Panic</td>\n",
       "      <td>movie</td>\n",
       "      <td>Alberto Diamante</td>\n",
       "      <td>2007</td>\n",
       "      <td>tt0979965</td>\n",
       "      <td>7.9</td>\n",
       "      <td>47</td>\n",
       "    </tr>\n",
       "    <tr>\n",
       "      <th>2</th>\n",
       "      <td>Gheorghe Cozorici, Sergiu Nicolaescu, Mircea A...</td>\n",
       "      <td>1 nomination.</td>\n",
       "      <td>Romania, East Germany</td>\n",
       "      <td>Sergiu Nicolaescu</td>\n",
       "      <td>NaN</td>\n",
       "      <td>Adventure, Drama, War</td>\n",
       "      <td>Romanian</td>\n",
       "      <td>N/A</td>\n",
       "      <td>In 1918 a defeated Austro-Hungarian Baron Colo...</td>\n",
       "      <td>http://ia.media-imdb.com/images/M/MV5BMjYxYWM2...</td>\n",
       "      <td>...</td>\n",
       "      <td>26 Jan 1981</td>\n",
       "      <td>True</td>\n",
       "      <td>111 min</td>\n",
       "      <td>Mercenaries' Trap</td>\n",
       "      <td>movie</td>\n",
       "      <td>Liviu Gheorghiu (screenplay), Sergiu Nicolaesc...</td>\n",
       "      <td>1981</td>\n",
       "      <td>tt0080494</td>\n",
       "      <td>7.5</td>\n",
       "      <td>278</td>\n",
       "    </tr>\n",
       "    <tr>\n",
       "      <th>3</th>\n",
       "      <td>Ky Baldwin, Dylan Elchaar, Kate Fitzpatrick, M...</td>\n",
       "      <td>N/A</td>\n",
       "      <td>N/A</td>\n",
       "      <td>N/A</td>\n",
       "      <td>NaN</td>\n",
       "      <td>Animation</td>\n",
       "      <td>N/A</td>\n",
       "      <td>N/A</td>\n",
       "      <td>Autumn is here and it's time for a change. In ...</td>\n",
       "      <td>http://ia.media-imdb.com/images/M/MV5BMTAyMDQw...</td>\n",
       "      <td>...</td>\n",
       "      <td>01 Sep 2014</td>\n",
       "      <td>True</td>\n",
       "      <td>72 min</td>\n",
       "      <td>Guess How Much I Love You: Autumn's Here</td>\n",
       "      <td>movie</td>\n",
       "      <td>N/A</td>\n",
       "      <td>2014</td>\n",
       "      <td>tt4061854</td>\n",
       "      <td>8.2</td>\n",
       "      <td>5</td>\n",
       "    </tr>\n",
       "    <tr>\n",
       "      <th>4</th>\n",
       "      <td>Luis Aguilar, Julio Aldama, Roberto Cañedo, No...</td>\n",
       "      <td>N/A</td>\n",
       "      <td>Mexico</td>\n",
       "      <td>Rafael Baledón</td>\n",
       "      <td>NaN</td>\n",
       "      <td>Adventure, Drama, Western</td>\n",
       "      <td>Spanish</td>\n",
       "      <td>N/A</td>\n",
       "      <td>N/A</td>\n",
       "      <td>N/A</td>\n",
       "      <td>...</td>\n",
       "      <td>12 Aug 1965</td>\n",
       "      <td>True</td>\n",
       "      <td>85 min</td>\n",
       "      <td>El tigre de Guanajuato: Leyenda de venganza</td>\n",
       "      <td>movie</td>\n",
       "      <td>José María Fernández Unsáin (story)</td>\n",
       "      <td>1965</td>\n",
       "      <td>tt0281286</td>\n",
       "      <td>4.4</td>\n",
       "      <td>5</td>\n",
       "    </tr>\n",
       "  </tbody>\n",
       "</table>\n",
       "<p>5 rows × 21 columns</p>\n",
       "</div>"
      ],
      "text/plain": [
       "                                              Actors  \\\n",
       "0  Miles Teller, J.K. Simmons, Paul Reiser, Melis...   \n",
       "1  Liam Card, Ana Candia, Eva Redpath, David Bajurny   \n",
       "2  Gheorghe Cozorici, Sergiu Nicolaescu, Mircea A...   \n",
       "3  Ky Baldwin, Dylan Elchaar, Kate Fitzpatrick, M...   \n",
       "4  Luis Aguilar, Julio Aldama, Roberto Cañedo, No...   \n",
       "\n",
       "                                             Awards                Country  \\\n",
       "0  Won 3 Oscars. Another 87 wins & 131 nominations.                    USA   \n",
       "1                                               N/A                 Canada   \n",
       "2                                     1 nomination.  Romania, East Germany   \n",
       "3                                               N/A                    N/A   \n",
       "4                                               N/A                 Mexico   \n",
       "\n",
       "            Director Error                      Genre  Language Metascore  \\\n",
       "0    Damien Chazelle   NaN               Drama, Music   English        88   \n",
       "1   Alberto Diamante   NaN     Comedy, Music, Romance   English       N/A   \n",
       "2  Sergiu Nicolaescu   NaN      Adventure, Drama, War  Romanian       N/A   \n",
       "3                N/A   NaN                  Animation       N/A       N/A   \n",
       "4     Rafael Baledón   NaN  Adventure, Drama, Western   Spanish       N/A   \n",
       "\n",
       "                                                Plot  \\\n",
       "0  A promising young drummer enrolls at a cut-thr...   \n",
       "1  A corpse lies on a living room floor. Our lead...   \n",
       "2  In 1918 a defeated Austro-Hungarian Baron Colo...   \n",
       "3  Autumn is here and it's time for a change. In ...   \n",
       "4                                                N/A   \n",
       "\n",
       "                                              Poster    ...        Released  \\\n",
       "0  https://images-na.ssl-images-amazon.com/images...    ...     15 Oct 2014   \n",
       "1  http://ia.media-imdb.com/images/M/MV5BMjEwMzA0...    ...     14 Oct 2011   \n",
       "2  http://ia.media-imdb.com/images/M/MV5BMjYxYWM2...    ...     26 Jan 1981   \n",
       "3  http://ia.media-imdb.com/images/M/MV5BMTAyMDQw...    ...     01 Sep 2014   \n",
       "4                                                N/A    ...     12 Aug 1965   \n",
       "\n",
       "  Response  Runtime                                        Title   Type  \\\n",
       "0     True  107 min                                     Whiplash  movie   \n",
       "1     True   90 min           Love... and Other Reasons to Panic  movie   \n",
       "2     True  111 min                            Mercenaries' Trap  movie   \n",
       "3     True   72 min     Guess How Much I Love You: Autumn's Here  movie   \n",
       "4     True   85 min  El tigre de Guanajuato: Leyenda de venganza  movie   \n",
       "\n",
       "                                              Writer  Year     imdbID  \\\n",
       "0                                    Damien Chazelle  2014  tt2582802   \n",
       "1                                   Alberto Diamante  2007  tt0979965   \n",
       "2  Liviu Gheorghiu (screenplay), Sergiu Nicolaesc...  1981  tt0080494   \n",
       "3                                                N/A  2014  tt4061854   \n",
       "4                José María Fernández Unsáin (story)  1965  tt0281286   \n",
       "\n",
       "  imdbRating imdbVotes  \n",
       "0        8.5   413,720  \n",
       "1        7.9        47  \n",
       "2        7.5       278  \n",
       "3        8.2         5  \n",
       "4        4.4         5  \n",
       "\n",
       "[5 rows x 21 columns]"
      ]
     },
     "execution_count": 45,
     "metadata": {},
     "output_type": "execute_result"
    }
   ],
   "source": [
    "df.head()"
   ]
  },
  {
   "cell_type": "code",
   "execution_count": 46,
   "metadata": {
    "collapsed": false
   },
   "outputs": [
    {
     "data": {
      "text/plain": [
       "(947, 21)"
      ]
     },
     "execution_count": 46,
     "metadata": {},
     "output_type": "execute_result"
    }
   ],
   "source": [
    "df.shape"
   ]
  },
  {
   "cell_type": "code",
   "execution_count": 47,
   "metadata": {
    "collapsed": true
   },
   "outputs": [],
   "source": [
    "df.to_csv(\"imdb_extra_id.csv\", encoding=\"utf-8\")"
   ]
  },
  {
   "cell_type": "markdown",
   "metadata": {},
   "source": [
    "## Add gross revenue"
   ]
  },
  {
   "cell_type": "code",
   "execution_count": 48,
   "metadata": {
    "collapsed": true
   },
   "outputs": [],
   "source": [
    "def get_gross(id_num):\n",
    "    r = requests.get(\"http://www.imdb.com/title/{}/\".format(id_num))\n",
    "    soup = bs4.BeautifulSoup(r.text, \"lxml\")\n",
    "    try:\n",
    "        for i in soup.findAll(\"div\", class_=\"txt-block\"):\n",
    "            for j in i.findAll(\"h4\", class_=\"inline\"):\n",
    "                if \"Gross\" in j.text:\n",
    "                    text = j.parent.text.split()[1]\n",
    "                    num = text.replace(\",\", \"\").strip(\"$\")\n",
    "                    return float(num)\n",
    "    except:\n",
    "        return 0"
   ]
  },
  {
   "cell_type": "code",
   "execution_count": null,
   "metadata": {
    "collapsed": false
   },
   "outputs": [],
   "source": [
    "df[\"Gross_earnings\"] = df[\"imdbID\"].map(get_gross)"
   ]
  },
  {
   "cell_type": "code",
   "execution_count": 26,
   "metadata": {
    "collapsed": false
   },
   "outputs": [],
   "source": [
    "df = df.replace(\"\", np.nan)\n",
    "df = df.replace(\"N/A\", np.nan)"
   ]
  },
  {
   "cell_type": "code",
   "execution_count": 27,
   "metadata": {
    "collapsed": false
   },
   "outputs": [
    {
     "name": "stdout",
     "output_type": "stream",
     "text": [
      "<class 'pandas.core.frame.DataFrame'>\n",
      "RangeIndex: 250 entries, 0 to 249\n",
      "Data columns (total 21 columns):\n",
      "Actors            250 non-null object\n",
      "Awards            246 non-null object\n",
      "Country           250 non-null object\n",
      "Director          250 non-null object\n",
      "Genre             250 non-null object\n",
      "Language          249 non-null object\n",
      "Metascore         169 non-null object\n",
      "Plot              250 non-null object\n",
      "Poster            248 non-null object\n",
      "Rated             249 non-null object\n",
      "Released          249 non-null object\n",
      "Response          250 non-null object\n",
      "Runtime           250 non-null object\n",
      "Title             250 non-null object\n",
      "Type              250 non-null object\n",
      "Writer            250 non-null object\n",
      "Year              250 non-null object\n",
      "imdbID            250 non-null object\n",
      "imdbRating        250 non-null object\n",
      "imdbVotes         250 non-null object\n",
      "Gross_earnings    184 non-null float64\n",
      "dtypes: float64(1), object(20)\n",
      "memory usage: 41.1+ KB\n"
     ]
    }
   ],
   "source": [
    "df.info()"
   ]
  },
  {
   "cell_type": "code",
   "execution_count": 30,
   "metadata": {
    "collapsed": false
   },
   "outputs": [],
   "source": [
    "df.to_csv(\"imdb_scraped.csv\", encoding=\"utf-8\")"
   ]
  },
  {
   "cell_type": "markdown",
   "metadata": {},
   "source": [
    "# Mine: Rename & describe data"
   ]
  },
  {
   "cell_type": "code",
   "execution_count": 102,
   "metadata": {
    "ExecuteTime": {
     "end_time": "2016-10-27T17:02:16.390420",
     "start_time": "2016-10-27T17:02:16.384931"
    },
    "collapsed": false
   },
   "outputs": [],
   "source": [
    "df2 = df.copy()"
   ]
  },
  {
   "cell_type": "code",
   "execution_count": 103,
   "metadata": {
    "collapsed": true
   },
   "outputs": [],
   "source": [
    "df2[\"Date\"] = pd.to_datetime(df2[\"Released\"])"
   ]
  },
  {
   "cell_type": "code",
   "execution_count": 104,
   "metadata": {
    "collapsed": false
   },
   "outputs": [
    {
     "data": {
      "text/plain": [
       "73    The Gold Rush\n",
       "Name: Title, dtype: object"
      ]
     },
     "execution_count": 104,
     "metadata": {},
     "output_type": "execute_result"
    }
   ],
   "source": [
    "df2.Title[df2.Date.isnull()]"
   ]
  },
  {
   "cell_type": "code",
   "execution_count": 105,
   "metadata": {
    "collapsed": false
   },
   "outputs": [],
   "source": [
    "df2.set_value(df2.Date.isnull(), \"Released\",\"26 June 1925\");\n",
    "df2.set_value(df2[\"Title\"] == \"The Gold Rush\", \"Date\", pd.to_datetime(df2[\"Released\"][df2[\"Title\"] == \"The Gold Rush\"]));"
   ]
  },
  {
   "cell_type": "code",
   "execution_count": 106,
   "metadata": {
    "collapsed": true
   },
   "outputs": [],
   "source": [
    "df2[\"Runtime_min\"] = df2[\"Runtime\"].map(lambda x: float(x.split()[0]))"
   ]
  },
  {
   "cell_type": "code",
   "execution_count": 107,
   "metadata": {
    "collapsed": true
   },
   "outputs": [],
   "source": [
    "df2[\"Year\"] = df2[\"Year\"].astype(int)"
   ]
  },
  {
   "cell_type": "code",
   "execution_count": 108,
   "metadata": {
    "collapsed": false
   },
   "outputs": [],
   "source": [
    "df2[\"Month\"] = df2[\"Date\"].map(lambda x: x.month)"
   ]
  },
  {
   "cell_type": "code",
   "execution_count": 109,
   "metadata": {
    "collapsed": true
   },
   "outputs": [],
   "source": [
    "df2[\"imdbRating\"] = df2[\"imdbRating\"].astype(float)"
   ]
  },
  {
   "cell_type": "code",
   "execution_count": 110,
   "metadata": {
    "collapsed": true
   },
   "outputs": [],
   "source": [
    "df2[\"imdbVotes\"] = df2[\"imdbVotes\"].map(lambda x: float(x.replace(\",\", \"\")))"
   ]
  },
  {
   "cell_type": "code",
   "execution_count": 161,
   "metadata": {
    "ExecuteTime": {
     "end_time": "2016-10-27T17:09:56.898755",
     "start_time": "2016-10-27T17:09:56.892170"
    },
    "collapsed": false
   },
   "outputs": [],
   "source": [
    "def oscars_won(i):\n",
    "    try:\n",
    "        i_list = i.split()\n",
    "        if \"Oscars.\" in i.split() and i_list[i_list.index(\"Oscars.\")-2] == \"Won\":\n",
    "            return float(i_list[i_list.index(\"Oscars.\")-1])\n",
    "        else:\n",
    "            return 0\n",
    "    except:\n",
    "        return 0"
   ]
  },
  {
   "cell_type": "code",
   "execution_count": 162,
   "metadata": {
    "ExecuteTime": {
     "end_time": "2016-10-27T17:10:10.788954",
     "start_time": "2016-10-27T17:10:10.779764"
    },
    "collapsed": false
   },
   "outputs": [],
   "source": [
    "df2[\"Oscars_won\"] = df2[\"Awards\"].map(oscars_won)"
   ]
  },
  {
   "cell_type": "code",
   "execution_count": 163,
   "metadata": {
    "collapsed": false
   },
   "outputs": [
    {
     "data": {
      "text/html": [
       "<div>\n",
       "<table border=\"1\" class=\"dataframe\">\n",
       "  <thead>\n",
       "    <tr style=\"text-align: right;\">\n",
       "      <th></th>\n",
       "      <th>Actors</th>\n",
       "      <th>Awards</th>\n",
       "      <th>Country</th>\n",
       "      <th>Director</th>\n",
       "      <th>Genre</th>\n",
       "      <th>Language</th>\n",
       "      <th>Metascore</th>\n",
       "      <th>Plot</th>\n",
       "      <th>Poster</th>\n",
       "      <th>Rated</th>\n",
       "      <th>...</th>\n",
       "      <th>Genre_Drama</th>\n",
       "      <th>Genre_ Sport</th>\n",
       "      <th>Genre_ Biography</th>\n",
       "      <th>Genre_ Fantasy</th>\n",
       "      <th>Genre_ Crime</th>\n",
       "      <th>Genre_ Music</th>\n",
       "      <th>Genre_ Comedy</th>\n",
       "      <th>Genre_ War</th>\n",
       "      <th>Genre_Biography</th>\n",
       "      <th>Genre_ Romance</th>\n",
       "    </tr>\n",
       "  </thead>\n",
       "  <tbody>\n",
       "    <tr>\n",
       "      <th>0</th>\n",
       "      <td>Miles Teller, J.K. Simmons, Paul Reiser, Melis...</td>\n",
       "      <td>Won 3 Oscars. Another 87 wins &amp; 131 nominations.</td>\n",
       "      <td>USA</td>\n",
       "      <td>Damien Chazelle</td>\n",
       "      <td>Drama, Music</td>\n",
       "      <td>English</td>\n",
       "      <td>88</td>\n",
       "      <td>A promising young drummer enrolls at a cut-thr...</td>\n",
       "      <td>https://images-na.ssl-images-amazon.com/images...</td>\n",
       "      <td>R</td>\n",
       "      <td>...</td>\n",
       "      <td>1</td>\n",
       "      <td>0</td>\n",
       "      <td>0</td>\n",
       "      <td>0</td>\n",
       "      <td>0</td>\n",
       "      <td>1</td>\n",
       "      <td>0</td>\n",
       "      <td>0</td>\n",
       "      <td>0</td>\n",
       "      <td>0</td>\n",
       "    </tr>\n",
       "    <tr>\n",
       "      <th>1</th>\n",
       "      <td>Toshirô Mifune, Takashi Shimura, Keiko Tsushim...</td>\n",
       "      <td>Nominated for 2 Oscars. Another 5 wins &amp; 6 nom...</td>\n",
       "      <td>Japan</td>\n",
       "      <td>Akira Kurosawa</td>\n",
       "      <td>Action, Adventure, Drama</td>\n",
       "      <td>Japanese</td>\n",
       "      <td>98</td>\n",
       "      <td>A veteran samurai, who has fallen on hard time...</td>\n",
       "      <td>https://images-na.ssl-images-amazon.com/images...</td>\n",
       "      <td>UNRATED</td>\n",
       "      <td>...</td>\n",
       "      <td>1</td>\n",
       "      <td>0</td>\n",
       "      <td>0</td>\n",
       "      <td>0</td>\n",
       "      <td>0</td>\n",
       "      <td>0</td>\n",
       "      <td>0</td>\n",
       "      <td>0</td>\n",
       "      <td>0</td>\n",
       "      <td>0</td>\n",
       "    </tr>\n",
       "    <tr>\n",
       "      <th>2</th>\n",
       "      <td>Harrison Ford, Karen Allen, Paul Freeman, Rona...</td>\n",
       "      <td>Won 4 Oscars. Another 30 wins &amp; 23 nominations.</td>\n",
       "      <td>USA</td>\n",
       "      <td>Steven Spielberg</td>\n",
       "      <td>Action, Adventure</td>\n",
       "      <td>English, German, Hebrew, Spanish, Arabic, Nepali</td>\n",
       "      <td>85</td>\n",
       "      <td>The year is 1936. An archeology professor name...</td>\n",
       "      <td>https://images-na.ssl-images-amazon.com/images...</td>\n",
       "      <td>PG</td>\n",
       "      <td>...</td>\n",
       "      <td>0</td>\n",
       "      <td>0</td>\n",
       "      <td>0</td>\n",
       "      <td>0</td>\n",
       "      <td>0</td>\n",
       "      <td>0</td>\n",
       "      <td>0</td>\n",
       "      <td>0</td>\n",
       "      <td>0</td>\n",
       "      <td>0</td>\n",
       "    </tr>\n",
       "    <tr>\n",
       "      <th>3</th>\n",
       "      <td>William Holden, Alec Guinness, Jack Hawkins, S...</td>\n",
       "      <td>Won 7 Oscars. Another 23 wins &amp; 7 nominations.</td>\n",
       "      <td>UK, USA</td>\n",
       "      <td>David Lean</td>\n",
       "      <td>Adventure, Drama, War</td>\n",
       "      <td>English, Japanese, Thai</td>\n",
       "      <td>0</td>\n",
       "      <td>After settling his differences with a Japanese...</td>\n",
       "      <td>https://images-na.ssl-images-amazon.com/images...</td>\n",
       "      <td>PG</td>\n",
       "      <td>...</td>\n",
       "      <td>1</td>\n",
       "      <td>0</td>\n",
       "      <td>0</td>\n",
       "      <td>0</td>\n",
       "      <td>0</td>\n",
       "      <td>0</td>\n",
       "      <td>0</td>\n",
       "      <td>1</td>\n",
       "      <td>0</td>\n",
       "      <td>0</td>\n",
       "    </tr>\n",
       "    <tr>\n",
       "      <th>4</th>\n",
       "      <td>Robert Downey Jr., Chris Evans, Mark Ruffalo, ...</td>\n",
       "      <td>Nominated for 1 Oscar. Another 34 wins &amp; 75 no...</td>\n",
       "      <td>USA</td>\n",
       "      <td>Joss Whedon</td>\n",
       "      <td>Action, Sci-Fi, Thriller</td>\n",
       "      <td>English, Russian</td>\n",
       "      <td>69</td>\n",
       "      <td>Nick Fury is the director of S.H.I.E.L.D., an ...</td>\n",
       "      <td>https://images-na.ssl-images-amazon.com/images...</td>\n",
       "      <td>PG-13</td>\n",
       "      <td>...</td>\n",
       "      <td>0</td>\n",
       "      <td>0</td>\n",
       "      <td>0</td>\n",
       "      <td>0</td>\n",
       "      <td>0</td>\n",
       "      <td>0</td>\n",
       "      <td>0</td>\n",
       "      <td>0</td>\n",
       "      <td>0</td>\n",
       "      <td>0</td>\n",
       "    </tr>\n",
       "  </tbody>\n",
       "</table>\n",
       "<p>5 rows × 72 columns</p>\n",
       "</div>"
      ],
      "text/plain": [
       "                                              Actors  \\\n",
       "0  Miles Teller, J.K. Simmons, Paul Reiser, Melis...   \n",
       "1  Toshirô Mifune, Takashi Shimura, Keiko Tsushim...   \n",
       "2  Harrison Ford, Karen Allen, Paul Freeman, Rona...   \n",
       "3  William Holden, Alec Guinness, Jack Hawkins, S...   \n",
       "4  Robert Downey Jr., Chris Evans, Mark Ruffalo, ...   \n",
       "\n",
       "                                              Awards  Country  \\\n",
       "0   Won 3 Oscars. Another 87 wins & 131 nominations.      USA   \n",
       "1  Nominated for 2 Oscars. Another 5 wins & 6 nom...    Japan   \n",
       "2    Won 4 Oscars. Another 30 wins & 23 nominations.      USA   \n",
       "3     Won 7 Oscars. Another 23 wins & 7 nominations.  UK, USA   \n",
       "4  Nominated for 1 Oscar. Another 34 wins & 75 no...      USA   \n",
       "\n",
       "           Director                     Genre  \\\n",
       "0   Damien Chazelle              Drama, Music   \n",
       "1    Akira Kurosawa  Action, Adventure, Drama   \n",
       "2  Steven Spielberg         Action, Adventure   \n",
       "3        David Lean     Adventure, Drama, War   \n",
       "4       Joss Whedon  Action, Sci-Fi, Thriller   \n",
       "\n",
       "                                           Language Metascore  \\\n",
       "0                                           English        88   \n",
       "1                                          Japanese        98   \n",
       "2  English, German, Hebrew, Spanish, Arabic, Nepali        85   \n",
       "3                           English, Japanese, Thai         0   \n",
       "4                                  English, Russian        69   \n",
       "\n",
       "                                                Plot  \\\n",
       "0  A promising young drummer enrolls at a cut-thr...   \n",
       "1  A veteran samurai, who has fallen on hard time...   \n",
       "2  The year is 1936. An archeology professor name...   \n",
       "3  After settling his differences with a Japanese...   \n",
       "4  Nick Fury is the director of S.H.I.E.L.D., an ...   \n",
       "\n",
       "                                              Poster    Rated       ...        \\\n",
       "0  https://images-na.ssl-images-amazon.com/images...        R       ...         \n",
       "1  https://images-na.ssl-images-amazon.com/images...  UNRATED       ...         \n",
       "2  https://images-na.ssl-images-amazon.com/images...       PG       ...         \n",
       "3  https://images-na.ssl-images-amazon.com/images...       PG       ...         \n",
       "4  https://images-na.ssl-images-amazon.com/images...    PG-13       ...         \n",
       "\n",
       "  Genre_Drama Genre_ Sport Genre_ Biography Genre_ Fantasy Genre_ Crime  \\\n",
       "0           1            0                0              0            0   \n",
       "1           1            0                0              0            0   \n",
       "2           0            0                0              0            0   \n",
       "3           1            0                0              0            0   \n",
       "4           0            0                0              0            0   \n",
       "\n",
       "  Genre_ Music  Genre_ Comedy Genre_ War  Genre_Biography  Genre_ Romance  \n",
       "0            1              0          0                0               0  \n",
       "1            0              0          0                0               0  \n",
       "2            0              0          0                0               0  \n",
       "3            0              0          1                0               0  \n",
       "4            0              0          0                0               0  \n",
       "\n",
       "[5 rows x 72 columns]"
      ]
     },
     "execution_count": 163,
     "metadata": {},
     "output_type": "execute_result"
    }
   ],
   "source": [
    "df2.head()"
   ]
  },
  {
   "cell_type": "code",
   "execution_count": 164,
   "metadata": {
    "collapsed": false
   },
   "outputs": [
    {
     "data": {
      "text/plain": [
       "['English', 'French', 'German', 'Spanish', 'Italian']"
      ]
     },
     "execution_count": 164,
     "metadata": {},
     "output_type": "execute_result"
    }
   ],
   "source": [
    "# Let\"s consider the language the movie is available in\n",
    "# For model simplicity, we'll consider just the top 5 languages\n",
    "all_languages = []\n",
    "for i in df2[\"Language\"]:\n",
    "    lang_list = str(i).split(\",\")\n",
    "    all_languages.extend([j.strip() for j in lang_list])\n",
    "top_5_languages = [i[0] for i in Counter(all_languages).most_common(5)]\n",
    "top_5_languages"
   ]
  },
  {
   "cell_type": "code",
   "execution_count": 165,
   "metadata": {
    "ExecuteTime": {
     "end_time": "2016-10-28T10:17:07.859493",
     "start_time": "2016-10-28T10:17:07.853555"
    },
    "collapsed": false
   },
   "outputs": [],
   "source": [
    "for i in top_5_languages:\n",
    "    df2[\"Language_\"+i] = df2[\"Language\"].map(lambda x: 1 if i in str(x) else 0)\n",
    "# df2[\"Language_English\"] = df2[\"Language\"].map(lambda x: 1 if \"English\" in str(x) else 0)"
   ]
  },
  {
   "cell_type": "code",
   "execution_count": 166,
   "metadata": {
    "ExecuteTime": {
     "end_time": "2016-10-28T10:17:08.724010",
     "start_time": "2016-10-28T10:17:08.717531"
    },
    "collapsed": false
   },
   "outputs": [],
   "source": [
    "country = []\n",
    "for i in df2[\"Country\"]:\n",
    "    country.extend(i.split(\",\"))\n",
    "country_counts = Counter(country)"
   ]
  },
  {
   "cell_type": "code",
   "execution_count": 167,
   "metadata": {
    "ExecuteTime": {
     "end_time": "2016-10-28T10:17:09.150532",
     "start_time": "2016-10-28T10:17:09.142323"
    },
    "collapsed": false
   },
   "outputs": [
    {
     "data": {
      "text/plain": [
       "[u'USA', u' UK', u' USA', u'UK', u'Japan']"
      ]
     },
     "execution_count": 167,
     "metadata": {},
     "output_type": "execute_result"
    }
   ],
   "source": [
    "# Let\"s consider where the movies are made\n",
    "# For model simplicity, we'll consider just the top 5 countries\n",
    "top_5_countries = [i[0] for i in country_counts.most_common(5)]\n",
    "top_5_countries"
   ]
  },
  {
   "cell_type": "code",
   "execution_count": 168,
   "metadata": {
    "ExecuteTime": {
     "end_time": "2016-10-28T10:17:09.607065",
     "start_time": "2016-10-28T10:17:09.597557"
    },
    "collapsed": true
   },
   "outputs": [],
   "source": [
    "for i in top_5_countries:\n",
    "    df2[\"Country_\"+i] = df2[\"Country\"].map(lambda x: 1 if i in str(x) else 0)"
   ]
  },
  {
   "cell_type": "code",
   "execution_count": 169,
   "metadata": {
    "collapsed": false
   },
   "outputs": [
    {
     "data": {
      "text/plain": [
       "R            106\n",
       "PG            37\n",
       "PG-13         33\n",
       "NOT RATED     28\n",
       "APPROVED      18\n",
       "G             13\n",
       "UNRATED        9\n",
       "PASSED         4\n",
       "M              1\n",
       "Name: Rated, dtype: int64"
      ]
     },
     "execution_count": 169,
     "metadata": {},
     "output_type": "execute_result"
    }
   ],
   "source": [
    "df2[\"Rated\"].value_counts()"
   ]
  },
  {
   "cell_type": "code",
   "execution_count": 170,
   "metadata": {
    "collapsed": true
   },
   "outputs": [],
   "source": [
    "def group_rating(rate):\n",
    "    if rate in [\"R\", \"PG\", \"PG-13\", \"G\"]:\n",
    "        return rate\n",
    "    else:\n",
    "        return \"OTHER\""
   ]
  },
  {
   "cell_type": "code",
   "execution_count": 171,
   "metadata": {
    "collapsed": true
   },
   "outputs": [],
   "source": [
    "df2[\"Rate_clean\"] = df2[\"Rated\"].map(group_rating)"
   ]
  },
  {
   "cell_type": "code",
   "execution_count": 172,
   "metadata": {
    "collapsed": true
   },
   "outputs": [],
   "source": [
    "rate_dummies = pd.get_dummies(df2[\"Rate_clean\"])\n",
    "rate_dummies = rate_dummies.drop(\"OTHER\", axis=1)"
   ]
  },
  {
   "cell_type": "code",
   "execution_count": 173,
   "metadata": {
    "collapsed": true
   },
   "outputs": [],
   "source": [
    "df2 = pd.concat([df2, rate_dummies], axis=1)"
   ]
  },
  {
   "cell_type": "code",
   "execution_count": 174,
   "metadata": {
    "collapsed": true
   },
   "outputs": [],
   "source": [
    "# Get genre_dummies\n",
    "genre_list = []\n",
    "for i in df2[\"Genre\"]:\n",
    "    genre_list.extend(i.split(\",\"))\n",
    "genre_list = list(set(genre_list))\n",
    "\n",
    "for i in genre_list:\n",
    "    df2[\"Genre_\"+i] = df2[\"Genre\"].apply(lambda x: 1 if i in str(x) else 0)"
   ]
  },
  {
   "cell_type": "code",
   "execution_count": 175,
   "metadata": {
    "collapsed": false
   },
   "outputs": [
    {
     "data": {
      "text/plain": [
       "movie    250\n",
       "Name: Type, dtype: int64"
      ]
     },
     "execution_count": 175,
     "metadata": {},
     "output_type": "execute_result"
    }
   ],
   "source": [
    "df2[\"Type\"].value_counts()"
   ]
  },
  {
   "cell_type": "code",
   "execution_count": 176,
   "metadata": {
    "collapsed": false
   },
   "outputs": [
    {
     "data": {
      "text/plain": [
       "True    250\n",
       "Name: Response, dtype: int64"
      ]
     },
     "execution_count": 176,
     "metadata": {},
     "output_type": "execute_result"
    }
   ],
   "source": [
    "df2[\"Response\"].value_counts()"
   ]
  },
  {
   "cell_type": "code",
   "execution_count": 177,
   "metadata": {
    "collapsed": false
   },
   "outputs": [
    {
     "data": {
      "text/plain": [
       "0    15 Oct 2014\n",
       "1    19 Nov 1956\n",
       "2    12 Jun 1981\n",
       "3    14 Dec 1957\n",
       "4    04 May 2012\n",
       "Name: Released, dtype: object"
      ]
     },
     "execution_count": 177,
     "metadata": {},
     "output_type": "execute_result"
    }
   ],
   "source": [
    "df2[\"Released\"][:5]"
   ]
  },
  {
   "cell_type": "code",
   "execution_count": 178,
   "metadata": {
    "ExecuteTime": {
     "end_time": "2016-10-28T10:17:10.367167",
     "start_time": "2016-10-28T10:17:10.290660"
    },
    "collapsed": false
   },
   "outputs": [
    {
     "data": {
      "text/html": [
       "<div>\n",
       "<table border=\"1\" class=\"dataframe\">\n",
       "  <thead>\n",
       "    <tr style=\"text-align: right;\">\n",
       "      <th></th>\n",
       "      <th>Actors</th>\n",
       "      <th>Awards</th>\n",
       "      <th>Country</th>\n",
       "      <th>Director</th>\n",
       "      <th>Genre</th>\n",
       "      <th>Language</th>\n",
       "      <th>Metascore</th>\n",
       "      <th>Plot</th>\n",
       "      <th>Poster</th>\n",
       "      <th>Rated</th>\n",
       "      <th>...</th>\n",
       "      <th>Genre_ Crime</th>\n",
       "      <th>Genre_ Music</th>\n",
       "      <th>Genre_ Comedy</th>\n",
       "      <th>Genre_ War</th>\n",
       "      <th>Genre_Biography</th>\n",
       "      <th>Genre_ Romance</th>\n",
       "      <th>G</th>\n",
       "      <th>PG</th>\n",
       "      <th>PG-13</th>\n",
       "      <th>R</th>\n",
       "    </tr>\n",
       "  </thead>\n",
       "  <tbody>\n",
       "    <tr>\n",
       "      <th>0</th>\n",
       "      <td>Miles Teller, J.K. Simmons, Paul Reiser, Melis...</td>\n",
       "      <td>Won 3 Oscars. Another 87 wins &amp; 131 nominations.</td>\n",
       "      <td>USA</td>\n",
       "      <td>Damien Chazelle</td>\n",
       "      <td>Drama, Music</td>\n",
       "      <td>English</td>\n",
       "      <td>88</td>\n",
       "      <td>A promising young drummer enrolls at a cut-thr...</td>\n",
       "      <td>https://images-na.ssl-images-amazon.com/images...</td>\n",
       "      <td>R</td>\n",
       "      <td>...</td>\n",
       "      <td>0</td>\n",
       "      <td>1</td>\n",
       "      <td>0</td>\n",
       "      <td>0</td>\n",
       "      <td>0</td>\n",
       "      <td>0</td>\n",
       "      <td>0</td>\n",
       "      <td>0</td>\n",
       "      <td>0</td>\n",
       "      <td>1</td>\n",
       "    </tr>\n",
       "    <tr>\n",
       "      <th>1</th>\n",
       "      <td>Toshirô Mifune, Takashi Shimura, Keiko Tsushim...</td>\n",
       "      <td>Nominated for 2 Oscars. Another 5 wins &amp; 6 nom...</td>\n",
       "      <td>Japan</td>\n",
       "      <td>Akira Kurosawa</td>\n",
       "      <td>Action, Adventure, Drama</td>\n",
       "      <td>Japanese</td>\n",
       "      <td>98</td>\n",
       "      <td>A veteran samurai, who has fallen on hard time...</td>\n",
       "      <td>https://images-na.ssl-images-amazon.com/images...</td>\n",
       "      <td>UNRATED</td>\n",
       "      <td>...</td>\n",
       "      <td>0</td>\n",
       "      <td>0</td>\n",
       "      <td>0</td>\n",
       "      <td>0</td>\n",
       "      <td>0</td>\n",
       "      <td>0</td>\n",
       "      <td>0</td>\n",
       "      <td>0</td>\n",
       "      <td>0</td>\n",
       "      <td>0</td>\n",
       "    </tr>\n",
       "    <tr>\n",
       "      <th>2</th>\n",
       "      <td>Harrison Ford, Karen Allen, Paul Freeman, Rona...</td>\n",
       "      <td>Won 4 Oscars. Another 30 wins &amp; 23 nominations.</td>\n",
       "      <td>USA</td>\n",
       "      <td>Steven Spielberg</td>\n",
       "      <td>Action, Adventure</td>\n",
       "      <td>English, German, Hebrew, Spanish, Arabic, Nepali</td>\n",
       "      <td>85</td>\n",
       "      <td>The year is 1936. An archeology professor name...</td>\n",
       "      <td>https://images-na.ssl-images-amazon.com/images...</td>\n",
       "      <td>PG</td>\n",
       "      <td>...</td>\n",
       "      <td>0</td>\n",
       "      <td>0</td>\n",
       "      <td>0</td>\n",
       "      <td>0</td>\n",
       "      <td>0</td>\n",
       "      <td>0</td>\n",
       "      <td>0</td>\n",
       "      <td>1</td>\n",
       "      <td>0</td>\n",
       "      <td>0</td>\n",
       "    </tr>\n",
       "    <tr>\n",
       "      <th>3</th>\n",
       "      <td>William Holden, Alec Guinness, Jack Hawkins, S...</td>\n",
       "      <td>Won 7 Oscars. Another 23 wins &amp; 7 nominations.</td>\n",
       "      <td>UK, USA</td>\n",
       "      <td>David Lean</td>\n",
       "      <td>Adventure, Drama, War</td>\n",
       "      <td>English, Japanese, Thai</td>\n",
       "      <td>0</td>\n",
       "      <td>After settling his differences with a Japanese...</td>\n",
       "      <td>https://images-na.ssl-images-amazon.com/images...</td>\n",
       "      <td>PG</td>\n",
       "      <td>...</td>\n",
       "      <td>0</td>\n",
       "      <td>0</td>\n",
       "      <td>0</td>\n",
       "      <td>1</td>\n",
       "      <td>0</td>\n",
       "      <td>0</td>\n",
       "      <td>0</td>\n",
       "      <td>1</td>\n",
       "      <td>0</td>\n",
       "      <td>0</td>\n",
       "    </tr>\n",
       "    <tr>\n",
       "      <th>4</th>\n",
       "      <td>Robert Downey Jr., Chris Evans, Mark Ruffalo, ...</td>\n",
       "      <td>Nominated for 1 Oscar. Another 34 wins &amp; 75 no...</td>\n",
       "      <td>USA</td>\n",
       "      <td>Joss Whedon</td>\n",
       "      <td>Action, Sci-Fi, Thriller</td>\n",
       "      <td>English, Russian</td>\n",
       "      <td>69</td>\n",
       "      <td>Nick Fury is the director of S.H.I.E.L.D., an ...</td>\n",
       "      <td>https://images-na.ssl-images-amazon.com/images...</td>\n",
       "      <td>PG-13</td>\n",
       "      <td>...</td>\n",
       "      <td>0</td>\n",
       "      <td>0</td>\n",
       "      <td>0</td>\n",
       "      <td>0</td>\n",
       "      <td>0</td>\n",
       "      <td>0</td>\n",
       "      <td>0</td>\n",
       "      <td>0</td>\n",
       "      <td>1</td>\n",
       "      <td>0</td>\n",
       "    </tr>\n",
       "  </tbody>\n",
       "</table>\n",
       "<p>5 rows × 76 columns</p>\n",
       "</div>"
      ],
      "text/plain": [
       "                                              Actors  \\\n",
       "0  Miles Teller, J.K. Simmons, Paul Reiser, Melis...   \n",
       "1  Toshirô Mifune, Takashi Shimura, Keiko Tsushim...   \n",
       "2  Harrison Ford, Karen Allen, Paul Freeman, Rona...   \n",
       "3  William Holden, Alec Guinness, Jack Hawkins, S...   \n",
       "4  Robert Downey Jr., Chris Evans, Mark Ruffalo, ...   \n",
       "\n",
       "                                              Awards  Country  \\\n",
       "0   Won 3 Oscars. Another 87 wins & 131 nominations.      USA   \n",
       "1  Nominated for 2 Oscars. Another 5 wins & 6 nom...    Japan   \n",
       "2    Won 4 Oscars. Another 30 wins & 23 nominations.      USA   \n",
       "3     Won 7 Oscars. Another 23 wins & 7 nominations.  UK, USA   \n",
       "4  Nominated for 1 Oscar. Another 34 wins & 75 no...      USA   \n",
       "\n",
       "           Director                     Genre  \\\n",
       "0   Damien Chazelle              Drama, Music   \n",
       "1    Akira Kurosawa  Action, Adventure, Drama   \n",
       "2  Steven Spielberg         Action, Adventure   \n",
       "3        David Lean     Adventure, Drama, War   \n",
       "4       Joss Whedon  Action, Sci-Fi, Thriller   \n",
       "\n",
       "                                           Language Metascore  \\\n",
       "0                                           English        88   \n",
       "1                                          Japanese        98   \n",
       "2  English, German, Hebrew, Spanish, Arabic, Nepali        85   \n",
       "3                           English, Japanese, Thai         0   \n",
       "4                                  English, Russian        69   \n",
       "\n",
       "                                                Plot  \\\n",
       "0  A promising young drummer enrolls at a cut-thr...   \n",
       "1  A veteran samurai, who has fallen on hard time...   \n",
       "2  The year is 1936. An archeology professor name...   \n",
       "3  After settling his differences with a Japanese...   \n",
       "4  Nick Fury is the director of S.H.I.E.L.D., an ...   \n",
       "\n",
       "                                              Poster    Rated ...  \\\n",
       "0  https://images-na.ssl-images-amazon.com/images...        R ...   \n",
       "1  https://images-na.ssl-images-amazon.com/images...  UNRATED ...   \n",
       "2  https://images-na.ssl-images-amazon.com/images...       PG ...   \n",
       "3  https://images-na.ssl-images-amazon.com/images...       PG ...   \n",
       "4  https://images-na.ssl-images-amazon.com/images...    PG-13 ...   \n",
       "\n",
       "  Genre_ Crime Genre_ Music Genre_ Comedy Genre_ War Genre_Biography  \\\n",
       "0            0            1             0          0               0   \n",
       "1            0            0             0          0               0   \n",
       "2            0            0             0          0               0   \n",
       "3            0            0             0          1               0   \n",
       "4            0            0             0          0               0   \n",
       "\n",
       "  Genre_ Romance  G PG  PG-13  R  \n",
       "0              0  0  0      0  1  \n",
       "1              0  0  0      0  0  \n",
       "2              0  0  1      0  0  \n",
       "3              0  0  1      0  0  \n",
       "4              0  0  0      1  0  \n",
       "\n",
       "[5 rows x 76 columns]"
      ]
     },
     "execution_count": 178,
     "metadata": {},
     "output_type": "execute_result"
    }
   ],
   "source": [
    "df2.head()"
   ]
  },
  {
   "cell_type": "code",
   "execution_count": 179,
   "metadata": {
    "collapsed": false
   },
   "outputs": [
    {
     "name": "stdout",
     "output_type": "stream",
     "text": [
      "<class 'pandas.core.frame.DataFrame'>\n",
      "RangeIndex: 250 entries, 0 to 249\n",
      "Data columns (total 76 columns):\n",
      "Actors              250 non-null object\n",
      "Awards              246 non-null object\n",
      "Country             250 non-null object\n",
      "Director            250 non-null object\n",
      "Genre               250 non-null object\n",
      "Language            249 non-null object\n",
      "Metascore           250 non-null object\n",
      "Plot                250 non-null object\n",
      "Poster              248 non-null object\n",
      "Rated               249 non-null object\n",
      "Released            250 non-null object\n",
      "Response            250 non-null object\n",
      "Runtime             250 non-null object\n",
      "Title               250 non-null object\n",
      "Type                250 non-null object\n",
      "Writer              250 non-null object\n",
      "Year                250 non-null int64\n",
      "imdbID              250 non-null object\n",
      "imdbRating          250 non-null float64\n",
      "imdbVotes           250 non-null float64\n",
      "Gross_earnings      250 non-null float64\n",
      "Date                250 non-null datetime64[ns]\n",
      "Runtime_min         250 non-null float64\n",
      "Month               250 non-null int64\n",
      "Oscars_won          250 non-null float64\n",
      "Language_English    250 non-null int64\n",
      "Language_French     250 non-null int64\n",
      "Language_German     250 non-null int64\n",
      "Language_Spanish    250 non-null int64\n",
      "Language_Italian    250 non-null int64\n",
      "Country_USA         250 non-null int64\n",
      "Country_ UK         250 non-null int64\n",
      "Country_ USA        250 non-null int64\n",
      "Country_UK          250 non-null int64\n",
      "Country_Japan       250 non-null int64\n",
      "Rate_clean          250 non-null object\n",
      "G                   250 non-null uint8\n",
      "PG                  250 non-null uint8\n",
      "PG-13               250 non-null uint8\n",
      "R                   250 non-null uint8\n",
      "Genre_Sci-Fi        250 non-null int64\n",
      "Genre_ Horror       250 non-null int64\n",
      "Genre_Crime         250 non-null int64\n",
      "Genre_Action        250 non-null int64\n",
      "Genre_Animation     250 non-null int64\n",
      "Genre_ Adventure    250 non-null int64\n",
      "Genre_ Western      250 non-null int64\n",
      "Genre_Comedy        250 non-null int64\n",
      "Genre_ Thriller     250 non-null int64\n",
      "Genre_ Sci-Fi       250 non-null int64\n",
      "Genre_Horror        250 non-null int64\n",
      "Genre_Film-Noir     250 non-null int64\n",
      "Genre_ Mystery      250 non-null int64\n",
      "Genre_ History      250 non-null int64\n",
      "Genre_ Musical      250 non-null int64\n",
      "Genre_ Drama        250 non-null int64\n",
      "Genre_Adventure     250 non-null int64\n",
      "Genre_ Action       250 non-null int64\n",
      "Genre_Western       250 non-null int64\n",
      "Genre_Mystery       250 non-null int64\n",
      "Genre_ Family       250 non-null int64\n",
      "Genre_ Film-Noir    250 non-null int64\n",
      "Genre_Drama         250 non-null int64\n",
      "Genre_ Sport        250 non-null int64\n",
      "Genre_ Biography    250 non-null int64\n",
      "Genre_ Fantasy      250 non-null int64\n",
      "Genre_ Crime        250 non-null int64\n",
      "Genre_ Music        250 non-null int64\n",
      "Genre_ Comedy       250 non-null int64\n",
      "Genre_ War          250 non-null int64\n",
      "Genre_Biography     250 non-null int64\n",
      "Genre_ Romance      250 non-null int64\n",
      "G                   250 non-null uint8\n",
      "PG                  250 non-null uint8\n",
      "PG-13               250 non-null uint8\n",
      "R                   250 non-null uint8\n",
      "dtypes: datetime64[ns](1), float64(5), int64(44), object(18), uint8(8)\n",
      "memory usage: 134.8+ KB\n"
     ]
    }
   ],
   "source": [
    "df2.info()"
   ]
  },
  {
   "cell_type": "code",
   "execution_count": 180,
   "metadata": {
    "collapsed": false
   },
   "outputs": [],
   "source": [
    "# To be able to use gross earnings in our model, \n",
    "# we'll assume that if the gross earnings information is not available, then the movie earned $0\n",
    "df2[\"Gross_earnings\"].fillna(0, inplace=True)"
   ]
  },
  {
   "cell_type": "code",
   "execution_count": 181,
   "metadata": {
    "collapsed": true
   },
   "outputs": [],
   "source": [
    "# Similarly for metascore\n",
    "# we'll assume that it's 0 if the information is not available\n",
    "df2[\"Metascore\"].fillna(0, inplace=True)"
   ]
  },
  {
   "cell_type": "code",
   "execution_count": 182,
   "metadata": {
    "collapsed": true
   },
   "outputs": [],
   "source": [
    "df2.to_csv(\"imdb_clean.csv\", encoding=\"utf-8\")"
   ]
  },
  {
   "cell_type": "markdown",
   "metadata": {},
   "source": [
    "# Refine: Visualize data\n",
    "Bonus: Use multiple data viz tools"
   ]
  },
  {
   "cell_type": "code",
   "execution_count": 333,
   "metadata": {
    "collapsed": true
   },
   "outputs": [],
   "source": [
    "df3 = df2.copy()"
   ]
  },
  {
   "cell_type": "code",
   "execution_count": 334,
   "metadata": {
    "collapsed": false
   },
   "outputs": [
    {
     "name": "stdout",
     "output_type": "stream",
     "text": [
      "\"Actors\", \"Awards\", \"Country\", \"Director\", \"Genre\", \"Language\", \"Metascore\", \"Plot\", \"Poster\", \"Rated\", \"Released\", \"Response\", \"Runtime\", \"Title\", \"Type\", \"Writer\", \"Year\", \"imdbID\", \"imdbRating\", \"imdbVotes\", \"Gross_earnings\", \"Date\", \"Runtime_min\", \"Month\", \"Oscars_won\", \"Language_English\", \"Language_French\", \"Language_German\", \"Language_Spanish\", \"Language_Italian\", \"Country_USA\", \"Country_ UK\", \"Country_ USA\", \"Country_UK\", \"Country_Japan\", \"Rate_clean\", \"G\", \"PG\", \"PG-13\", \"R\", \"Genre_Sci-Fi\", \"Genre_ Horror\", \"Genre_Crime\", \"Genre_Action\", \"Genre_Animation\", \"Genre_ Adventure\", \"Genre_ Western\", \"Genre_Comedy\", \"Genre_ Thriller\", \"Genre_ Sci-Fi\", \"Genre_Horror\", \"Genre_Film-Noir\", \"Genre_ Mystery\", \"Genre_ History\", \"Genre_ Musical\", \"Genre_ Drama\", \"Genre_Adventure\", \"Genre_ Action\", \"Genre_Western\", \"Genre_Mystery\", \"Genre_ Family\", \"Genre_ Film-Noir\", \"Genre_Drama\", \"Genre_ Sport\", \"Genre_ Biography\", \"Genre_ Fantasy\", \"Genre_ Crime\", \"Genre_ Music\", \"Genre_ Comedy\", \"Genre_ War\", \"Genre_Biography\", \"Genre_ Romance\", \"G\", \"PG\", \"PG-13\", \"R\",\n"
     ]
    }
   ],
   "source": [
    "for i in df3.columns.values:\n",
    "    print '\"'+i+'\"'+\",\","
   ]
  },
  {
   "cell_type": "code",
   "execution_count": 349,
   "metadata": {
    "collapsed": true
   },
   "outputs": [],
   "source": [
    "rel_columns = [\"imdbRating\", \"imdbID\", \"Title\", \n",
    "               \"Writer\", \"Actors\", \"Director\", \"Plot\",\"Metascore\", \n",
    "               \"Year\", \"Month\", \"imdbVotes\", \"Gross_earnings\", \n",
    "               \"Runtime_min\", \"Oscars_won\", \n",
    "               \"Language_English\", \"Language_French\", \"Language_German\", \n",
    "               \"Language_Spanish\", \"Language_Italian\", \n",
    "               \"Country_USA\", \"Country_ UK\", \"Country_ USA\", \"Country_UK\", \"Country_Japan\", \n",
    "               \"G\", \"PG\", \"PG-13\", \"R\", \n",
    "               \"Genre_Sci-Fi\", \"Genre_ Horror\", \"Genre_Crime\", \"Genre_Action\", \n",
    "               \"Genre_Animation\", \"Genre_ Adventure\", \"Genre_ Western\", \"Genre_Comedy\", \n",
    "               \"Genre_ Thriller\", \"Genre_ Sci-Fi\", \"Genre_Horror\", \"Genre_Film-Noir\", \n",
    "               \"Genre_ Mystery\", \"Genre_ History\", \"Genre_ Musical\", \"Genre_ Drama\", \n",
    "               \"Genre_Adventure\", \"Genre_ Action\", \"Genre_Western\", \"Genre_Mystery\", \n",
    "               \"Genre_ Family\", \"Genre_ Film-Noir\", \"Genre_Drama\", \"Genre_ Sport\", \n",
    "               \"Genre_ Biography\", \"Genre_ Fantasy\", \"Genre_ Crime\", \"Genre_ Music\", \n",
    "               \"Genre_ Comedy\", \"Genre_ War\", \"Genre_Biography\", \"Genre_ Romance\"]\n",
    "num_cat_features = rel_columns[7:]\n"
   ]
  },
  {
   "cell_type": "code",
   "execution_count": 350,
   "metadata": {
    "collapsed": false
   },
   "outputs": [],
   "source": [
    "df3 = df3[rel_columns]"
   ]
  },
  {
   "cell_type": "code",
   "execution_count": 351,
   "metadata": {
    "collapsed": false
   },
   "outputs": [],
   "source": [
    "# Scale our continuous colums\n",
    "# We'll consider year and month as continuous for this\n",
    "scale_columns = [\"Metascore\", \"Year\", \"Month\", \"imdbVotes\", \"Gross_earnings\", \"Runtime_min\", \"Oscars_won\"]\n",
    "scaler = preprocessing.StandardScaler()\n",
    "scaler.fit(df3[scale_columns])\n",
    "\n",
    "for i,j in enumerate(scale_columns):\n",
    "    df3[j] = scaler.transform(df3[scale_columns])[:,i]"
   ]
  },
  {
   "cell_type": "code",
   "execution_count": 352,
   "metadata": {
    "ExecuteTime": {
     "end_time": "2016-10-28T10:17:11.836507",
     "start_time": "2016-10-28T10:17:11.422917"
    },
    "collapsed": false
   },
   "outputs": [
    {
     "data": {
      "image/png": "[encoded data removed]",
      "text/plain": [
       "<matplotlib.figure.Figure at 0x121c62e90>"
      ]
     },
     "metadata": {},
     "output_type": "display_data"
    }
   ],
   "source": [
    "sns.heatmap(df3.iloc[:,:14].corr());"
   ]
  },
  {
   "cell_type": "code",
   "execution_count": 353,
   "metadata": {
    "collapsed": false
   },
   "outputs": [
    {
     "data": {
      "image/png": "[encoded data removed]",
      "text/plain": [
       "<matplotlib.figure.Figure at 0x125a60f10>"
      ]
     },
     "metadata": {},
     "output_type": "display_data"
    }
   ],
   "source": [
    "sns.heatmap(df3.iloc[:,:14].corr()[[\"imdbRating\"]].iloc[1:]);"
   ]
  },
  {
   "cell_type": "code",
   "execution_count": 354,
   "metadata": {
    "collapsed": false
   },
   "outputs": [
    {
     "data": {
      "image/png": "[encoded data removed]",
      "text/plain": [
       "<matplotlib.figure.Figure at 0x118ea8150>"
      ]
     },
     "metadata": {},
     "output_type": "display_data"
    }
   ],
   "source": [
    "sns.pairplot(df3[[\"imdbRating\", \"imdbVotes\", \"Gross_earnings\", \"Runtime_min\"]]);"
   ]
  },
  {
   "cell_type": "code",
   "execution_count": 355,
   "metadata": {
    "collapsed": false
   },
   "outputs": [
    {
     "data": {
      "image/png": "[encoded data removed]",
      "text/plain": [
       "<matplotlib.figure.Figure at 0x122a6ed10>"
      ]
     },
     "metadata": {},
     "output_type": "display_data"
    }
   ],
   "source": [
    "sns.pairplot(df3[[\"imdbRating\", \"Year\", \"Month\"]]);"
   ]
  },
  {
   "cell_type": "code",
   "execution_count": 356,
   "metadata": {
    "collapsed": false
   },
   "outputs": [],
   "source": [
    "df3.to_csv(\"imdb_model.csv\", encoding=\"utf-8\")"
   ]
  },
  {
   "cell_type": "markdown",
   "metadata": {},
   "source": [
    "# Model: Define training set"
   ]
  },
  {
   "cell_type": "code",
   "execution_count": 357,
   "metadata": {
    "collapsed": false
   },
   "outputs": [],
   "source": [
    "df4 = df3.copy()"
   ]
  },
  {
   "cell_type": "code",
   "execution_count": 358,
   "metadata": {
    "collapsed": false
   },
   "outputs": [
    {
     "data": {
      "text/plain": [
       "count    250.000000\n",
       "mean       8.311600\n",
       "std        0.231603\n",
       "min        8.000000\n",
       "25%        8.100000\n",
       "50%        8.300000\n",
       "75%        8.400000\n",
       "max        9.300000\n",
       "Name: imdbRating, dtype: float64"
      ]
     },
     "execution_count": 358,
     "metadata": {},
     "output_type": "execute_result"
    }
   ],
   "source": [
    "df3[\"imdbRating\"].describe()"
   ]
  },
  {
   "cell_type": "code",
   "execution_count": 359,
   "metadata": {
    "collapsed": false
   },
   "outputs": [],
   "source": [
    "X = df4.copy()[num_cat_features]\n",
    "y = df4.copy()[\"imdbRating\"]"
   ]
  },
  {
   "cell_type": "code",
   "execution_count": 360,
   "metadata": {
    "collapsed": false
   },
   "outputs": [],
   "source": [
    "X_train, X_test, y_train, y_test = model_selection.train_test_split(X, y, test_size=0.3, random_state=77)"
   ]
  },
  {
   "cell_type": "markdown",
   "metadata": {},
   "source": [
    "# Model: Fit and evaluate model\n",
    "Bonus: How is model at risk of overfitting?"
   ]
  },
  {
   "cell_type": "markdown",
   "metadata": {},
   "source": [
    "## Regression\n",
    "Trying to predict an actual rating"
   ]
  },
  {
   "cell_type": "code",
   "execution_count": 361,
   "metadata": {
    "collapsed": false
   },
   "outputs": [
    {
     "data": {
      "text/plain": [
       "GridSearchCV(cv=5, error_score='raise',\n",
       "       estimator=GradientBoostingRegressor(alpha=0.9, criterion='friedman_mse', init=None,\n",
       "             learning_rate=0.1, loss='ls', max_depth=3, max_features=None,\n",
       "             max_leaf_nodes=None, min_impurity_split=1e-07,\n",
       "             min_samples_leaf=1, min_samples_split=2,\n",
       "             min_weight_fraction_leaf=0.0, n_estimators=100,\n",
       "             presort='auto', random_state=1, subsample=1.0, verbose=0,\n",
       "             warm_start=False),\n",
       "       fit_params={}, iid=True, n_jobs=1,\n",
       "       param_grid={'n_estimators': array([50, 60, 70, 80, 90])},\n",
       "       pre_dispatch='2*n_jobs', refit=True, return_train_score=True,\n",
       "       scoring=None, verbose=0)"
      ]
     },
     "execution_count": 361,
     "metadata": {},
     "output_type": "execute_result"
    }
   ],
   "source": [
    "gs = model_selection.GridSearchCV(ensemble.GradientBoostingRegressor(random_state=1),\n",
    "                                  {\"n_estimators\": np.arange(50,100,10)},\n",
    "                                  cv=5)\n",
    "gs.fit(X_train,y_train)"
   ]
  },
  {
   "cell_type": "code",
   "execution_count": 362,
   "metadata": {
    "collapsed": false
   },
   "outputs": [
    {
     "data": {
      "text/plain": [
       "{'n_estimators': 90}"
      ]
     },
     "execution_count": 362,
     "metadata": {},
     "output_type": "execute_result"
    }
   ],
   "source": [
    "gs.best_params_"
   ]
  },
  {
   "cell_type": "code",
   "execution_count": 363,
   "metadata": {
    "collapsed": true
   },
   "outputs": [],
   "source": [
    "gbr = gs.best_estimator_"
   ]
  },
  {
   "cell_type": "code",
   "execution_count": 364,
   "metadata": {
    "collapsed": false
   },
   "outputs": [],
   "source": [
    "y_pred = gbr.predict(X_test)"
   ]
  },
  {
   "cell_type": "code",
   "execution_count": 365,
   "metadata": {
    "collapsed": true
   },
   "outputs": [],
   "source": [
    "check = pd.DataFrame([y_test, y_pred], index=[\"actual\", \"predicted\"]).T"
   ]
  },
  {
   "cell_type": "code",
   "execution_count": 366,
   "metadata": {
    "collapsed": false
   },
   "outputs": [
    {
     "data": {
      "text/plain": [
       "0.43752653818349341"
      ]
     },
     "execution_count": 366,
     "metadata": {},
     "output_type": "execute_result"
    }
   ],
   "source": [
    "gbr.score(X_test, y_test)"
   ]
  },
  {
   "cell_type": "code",
   "execution_count": 367,
   "metadata": {
    "collapsed": false
   },
   "outputs": [
    {
     "data": {
      "text/plain": [
       "0.023772878366623368"
      ]
     },
     "execution_count": 367,
     "metadata": {},
     "output_type": "execute_result"
    }
   ],
   "source": [
    "metrics.mean_squared_error(y_test, y_pred)"
   ]
  },
  {
   "cell_type": "code",
   "execution_count": 368,
   "metadata": {
    "collapsed": false
   },
   "outputs": [
    {
     "data": {
      "text/html": [
       "<div>\n",
       "<table border=\"1\" class=\"dataframe\">\n",
       "  <thead>\n",
       "    <tr style=\"text-align: right;\">\n",
       "      <th></th>\n",
       "      <th>actual</th>\n",
       "      <th>predicted</th>\n",
       "    </tr>\n",
       "  </thead>\n",
       "  <tbody>\n",
       "    <tr>\n",
       "      <th>241</th>\n",
       "      <td>8.2</td>\n",
       "      <td>NaN</td>\n",
       "    </tr>\n",
       "    <tr>\n",
       "      <th>85</th>\n",
       "      <td>8.2</td>\n",
       "      <td>NaN</td>\n",
       "    </tr>\n",
       "    <tr>\n",
       "      <th>104</th>\n",
       "      <td>8.1</td>\n",
       "      <td>NaN</td>\n",
       "    </tr>\n",
       "    <tr>\n",
       "      <th>92</th>\n",
       "      <td>8.1</td>\n",
       "      <td>NaN</td>\n",
       "    </tr>\n",
       "    <tr>\n",
       "      <th>13</th>\n",
       "      <td>8.1</td>\n",
       "      <td>8.157351</td>\n",
       "    </tr>\n",
       "  </tbody>\n",
       "</table>\n",
       "</div>"
      ],
      "text/plain": [
       "     actual  predicted\n",
       "241     8.2        NaN\n",
       "85      8.2        NaN\n",
       "104     8.1        NaN\n",
       "92      8.1        NaN\n",
       "13      8.1   8.157351"
      ]
     },
     "execution_count": 368,
     "metadata": {},
     "output_type": "execute_result"
    }
   ],
   "source": [
    "check.head()"
   ]
  },
  {
   "cell_type": "markdown",
   "metadata": {},
   "source": [
    "Observations:\n",
    "- Our model didn't do very well with the test set\n",
    "- Seems like the random forest regressor overfit our training data and performed poorly on our test set"
   ]
  },
  {
   "cell_type": "markdown",
   "metadata": {},
   "source": [
    "## Classification"
   ]
  },
  {
   "cell_type": "code",
   "execution_count": 369,
   "metadata": {
    "collapsed": true
   },
   "outputs": [],
   "source": [
    "df5 = df4.copy()"
   ]
  },
  {
   "cell_type": "code",
   "execution_count": 370,
   "metadata": {
    "collapsed": true
   },
   "outputs": [],
   "source": [
    "df5[\"rating_higher_8.5\"] = df5[\"imdbRating\"].map(lambda x: 1 if x >= 8.5 else 0)"
   ]
  },
  {
   "cell_type": "code",
   "execution_count": 371,
   "metadata": {
    "collapsed": true
   },
   "outputs": [],
   "source": [
    "X = df5[num_cat_features]\n",
    "y = df5[\"rating_higher_8.5\"]"
   ]
  },
  {
   "cell_type": "code",
   "execution_count": 372,
   "metadata": {
    "collapsed": true
   },
   "outputs": [],
   "source": [
    "X_train, X_test, y_train, y_test = model_selection.train_test_split(X, y, stratify=y, test_size=0.3, random_state=77)"
   ]
  },
  {
   "cell_type": "code",
   "execution_count": 373,
   "metadata": {
    "collapsed": false
   },
   "outputs": [
    {
     "data": {
      "text/plain": [
       "GridSearchCV(cv=5, error_score='raise',\n",
       "       estimator=GradientBoostingClassifier(criterion='friedman_mse', init=None,\n",
       "              learning_rate=0.1, loss='deviance', max_depth=3,\n",
       "              max_features=None, max_leaf_nodes=None,\n",
       "              min_impurity_split=1e-07, min_samples_leaf=1,\n",
       "              min_samples_split=2, min_weight_fraction_leaf=0.0,\n",
       "              n_estimators=100, presort='auto', random_state=1,\n",
       "              subsample=1.0, verbose=0, warm_start=False),\n",
       "       fit_params={}, iid=True, n_jobs=1,\n",
       "       param_grid={'n_estimators': array([50, 60, 70, 80, 90]), 'min_samples_split': array([5, 6, 7, 8, 9]), 'min_samples_leaf': array([5, 6, 7, 8, 9])},\n",
       "       pre_dispatch='2*n_jobs', refit=True, return_train_score=True,\n",
       "       scoring=None, verbose=0)"
      ]
     },
     "execution_count": 373,
     "metadata": {},
     "output_type": "execute_result"
    }
   ],
   "source": [
    "gs2 = model_selection.GridSearchCV(ensemble.GradientBoostingClassifier(random_state=1),\n",
    "                                  {\"n_estimators\": np.arange(50,100,10),\n",
    "                                   \"min_samples_split\": np.arange(5,10,1), \n",
    "                                   \"min_samples_leaf\": np.arange(5,10,1)},\n",
    "                                  cv=5)\n",
    "gs2.fit(X_train,y_train)"
   ]
  },
  {
   "cell_type": "code",
   "execution_count": 374,
   "metadata": {
    "collapsed": false
   },
   "outputs": [
    {
     "data": {
      "text/plain": [
       "{'min_samples_leaf': 6, 'min_samples_split': 5, 'n_estimators': 70}"
      ]
     },
     "execution_count": 374,
     "metadata": {},
     "output_type": "execute_result"
    }
   ],
   "source": [
    "gs2.best_params_"
   ]
  },
  {
   "cell_type": "code",
   "execution_count": 375,
   "metadata": {
    "collapsed": true
   },
   "outputs": [],
   "source": [
    "gbc = gs2.best_estimator_"
   ]
  },
  {
   "cell_type": "code",
   "execution_count": 376,
   "metadata": {
    "collapsed": true
   },
   "outputs": [],
   "source": [
    "y_pred = gbc.predict(X_test)"
   ]
  },
  {
   "cell_type": "code",
   "execution_count": 377,
   "metadata": {
    "collapsed": false
   },
   "outputs": [
    {
     "data": {
      "text/plain": [
       "0.78666666666666663"
      ]
     },
     "execution_count": 377,
     "metadata": {},
     "output_type": "execute_result"
    }
   ],
   "source": [
    "gbc.score(X_test, y_test)"
   ]
  },
  {
   "cell_type": "markdown",
   "metadata": {},
   "source": [
    "Classification does much better than regression."
   ]
  },
  {
   "cell_type": "markdown",
   "metadata": {},
   "source": [
    "## Adding in text features"
   ]
  },
  {
   "cell_type": "code",
   "execution_count": 454,
   "metadata": {
    "collapsed": true
   },
   "outputs": [],
   "source": [
    "df6 = df4.copy()"
   ]
  },
  {
   "cell_type": "code",
   "execution_count": 455,
   "metadata": {
    "collapsed": false
   },
   "outputs": [],
   "source": [
    "vectorizer = feature_extraction.text.CountVectorizer(token_pattern=u'(?u)\\w+.?\\w?.? \\w+')\n",
    "actors_df = pd.DataFrame(vectorizer.fit_transform(df6[\"Actors\"]).todense(), columns = vectorizer.get_feature_names())"
   ]
  },
  {
   "cell_type": "code",
   "execution_count": 456,
   "metadata": {
    "collapsed": true
   },
   "outputs": [],
   "source": [
    "top_10_actors = actors_df.sum().sort_values(ascending=False).head(10).index\n",
    "top_10_actors = [i.replace(\" \", \"_\") for i in top_10_actors]"
   ]
  },
  {
   "cell_type": "code",
   "execution_count": 457,
   "metadata": {
    "collapsed": false
   },
   "outputs": [
    {
     "data": {
      "text/plain": [
       "[u'robert_de_niro',\n",
       " u'harrison_ford',\n",
       " u'leonardo_dicaprio',\n",
       " u'clint_eastwood',\n",
       " u'tom_hanks',\n",
       " u'mark_hamill',\n",
       " u'james_stewart',\n",
       " u'christian_bale',\n",
       " u'matt_damon',\n",
       " u'joe_pesci']"
      ]
     },
     "execution_count": 457,
     "metadata": {},
     "output_type": "execute_result"
    }
   ],
   "source": [
    "top_10_actors"
   ]
  },
  {
   "cell_type": "code",
   "execution_count": 458,
   "metadata": {
    "collapsed": false
   },
   "outputs": [],
   "source": [
    "for i in top_10_actors:\n",
    "    df6[\"Actor_\"+i.replace(\" \", \"_\")] = actors_df.loc[:,i.replace(\"_\", \" \")]"
   ]
  },
  {
   "cell_type": "code",
   "execution_count": 459,
   "metadata": {
    "collapsed": false
   },
   "outputs": [
    {
     "data": {
      "text/html": [
       "<div>\n",
       "<table border=\"1\" class=\"dataframe\">\n",
       "  <thead>\n",
       "    <tr style=\"text-align: right;\">\n",
       "      <th></th>\n",
       "      <th>imdbRating</th>\n",
       "      <th>imdbID</th>\n",
       "      <th>Title</th>\n",
       "      <th>Writer</th>\n",
       "      <th>Actors</th>\n",
       "      <th>Director</th>\n",
       "      <th>Plot</th>\n",
       "      <th>Metascore</th>\n",
       "      <th>Year</th>\n",
       "      <th>Month</th>\n",
       "      <th>...</th>\n",
       "      <th>Actor_robert_de_niro</th>\n",
       "      <th>Actor_harrison_ford</th>\n",
       "      <th>Actor_leonardo_dicaprio</th>\n",
       "      <th>Actor_clint_eastwood</th>\n",
       "      <th>Actor_tom_hanks</th>\n",
       "      <th>Actor_mark_hamill</th>\n",
       "      <th>Actor_james_stewart</th>\n",
       "      <th>Actor_christian_bale</th>\n",
       "      <th>Actor_matt_damon</th>\n",
       "      <th>Actor_joe_pesci</th>\n",
       "    </tr>\n",
       "  </thead>\n",
       "  <tbody>\n",
       "    <tr>\n",
       "      <th>0</th>\n",
       "      <td>8.5</td>\n",
       "      <td>tt2582802</td>\n",
       "      <td>Whiplash</td>\n",
       "      <td>Damien Chazelle</td>\n",
       "      <td>Miles Teller, J.K. Simmons, Paul Reiser, Melis...</td>\n",
       "      <td>Damien Chazelle</td>\n",
       "      <td>A promising young drummer enrolls at a cut-thr...</td>\n",
       "      <td>0.880238</td>\n",
       "      <td>1.237621</td>\n",
       "      <td>0.924913</td>\n",
       "      <td>...</td>\n",
       "      <td>0</td>\n",
       "      <td>0</td>\n",
       "      <td>0</td>\n",
       "      <td>0</td>\n",
       "      <td>0</td>\n",
       "      <td>0</td>\n",
       "      <td>0</td>\n",
       "      <td>0</td>\n",
       "      <td>0</td>\n",
       "      <td>0</td>\n",
       "    </tr>\n",
       "    <tr>\n",
       "      <th>1</th>\n",
       "      <td>8.7</td>\n",
       "      <td>tt0047478</td>\n",
       "      <td>Seven Samurai</td>\n",
       "      <td>Akira Kurosawa (screenplay), Shinobu Hashimoto...</td>\n",
       "      <td>Toshirô Mifune, Takashi Shimura, Keiko Tsushim...</td>\n",
       "      <td>Akira Kurosawa</td>\n",
       "      <td>A veteran samurai, who has fallen on hard time...</td>\n",
       "      <td>1.140018</td>\n",
       "      <td>-1.240595</td>\n",
       "      <td>1.201833</td>\n",
       "      <td>...</td>\n",
       "      <td>0</td>\n",
       "      <td>0</td>\n",
       "      <td>0</td>\n",
       "      <td>0</td>\n",
       "      <td>0</td>\n",
       "      <td>0</td>\n",
       "      <td>0</td>\n",
       "      <td>0</td>\n",
       "      <td>0</td>\n",
       "      <td>0</td>\n",
       "    </tr>\n",
       "    <tr>\n",
       "      <th>2</th>\n",
       "      <td>8.5</td>\n",
       "      <td>tt0082971</td>\n",
       "      <td>Raiders of the Lost Ark</td>\n",
       "      <td>Lawrence Kasdan (screenplay), George Lucas (st...</td>\n",
       "      <td>Harrison Ford, Karen Allen, Paul Freeman, Rona...</td>\n",
       "      <td>Steven Spielberg</td>\n",
       "      <td>The year is 1936. An archeology professor name...</td>\n",
       "      <td>0.802304</td>\n",
       "      <td>-0.125398</td>\n",
       "      <td>-0.182767</td>\n",
       "      <td>...</td>\n",
       "      <td>0</td>\n",
       "      <td>1</td>\n",
       "      <td>0</td>\n",
       "      <td>0</td>\n",
       "      <td>0</td>\n",
       "      <td>0</td>\n",
       "      <td>0</td>\n",
       "      <td>0</td>\n",
       "      <td>0</td>\n",
       "      <td>0</td>\n",
       "    </tr>\n",
       "    <tr>\n",
       "      <th>3</th>\n",
       "      <td>8.2</td>\n",
       "      <td>tt0050212</td>\n",
       "      <td>The Bridge on the River Kwai</td>\n",
       "      <td>Pierre Boulle (novel), Carl Foreman (screenpla...</td>\n",
       "      <td>William Holden, Alec Guinness, Jack Hawkins, S...</td>\n",
       "      <td>David Lean</td>\n",
       "      <td>After settling his differences with a Japanese...</td>\n",
       "      <td>-1.405824</td>\n",
       "      <td>-1.116684</td>\n",
       "      <td>1.478754</td>\n",
       "      <td>...</td>\n",
       "      <td>0</td>\n",
       "      <td>0</td>\n",
       "      <td>0</td>\n",
       "      <td>0</td>\n",
       "      <td>0</td>\n",
       "      <td>0</td>\n",
       "      <td>0</td>\n",
       "      <td>0</td>\n",
       "      <td>0</td>\n",
       "      <td>0</td>\n",
       "    </tr>\n",
       "    <tr>\n",
       "      <th>4</th>\n",
       "      <td>8.1</td>\n",
       "      <td>tt0848228</td>\n",
       "      <td>The Avengers</td>\n",
       "      <td>Joss Whedon (screenplay), Zak Penn (story), Jo...</td>\n",
       "      <td>Robert Downey Jr., Chris Evans, Mark Ruffalo, ...</td>\n",
       "      <td>Joss Whedon</td>\n",
       "      <td>Nick Fury is the director of S.H.I.E.L.D., an ...</td>\n",
       "      <td>0.386656</td>\n",
       "      <td>1.155014</td>\n",
       "      <td>-0.459687</td>\n",
       "      <td>...</td>\n",
       "      <td>0</td>\n",
       "      <td>0</td>\n",
       "      <td>0</td>\n",
       "      <td>0</td>\n",
       "      <td>0</td>\n",
       "      <td>0</td>\n",
       "      <td>0</td>\n",
       "      <td>0</td>\n",
       "      <td>0</td>\n",
       "      <td>0</td>\n",
       "    </tr>\n",
       "  </tbody>\n",
       "</table>\n",
       "<p>5 rows × 74 columns</p>\n",
       "</div>"
      ],
      "text/plain": [
       "   imdbRating     imdbID                         Title  \\\n",
       "0         8.5  tt2582802                      Whiplash   \n",
       "1         8.7  tt0047478                 Seven Samurai   \n",
       "2         8.5  tt0082971       Raiders of the Lost Ark   \n",
       "3         8.2  tt0050212  The Bridge on the River Kwai   \n",
       "4         8.1  tt0848228                  The Avengers   \n",
       "\n",
       "                                              Writer  \\\n",
       "0                                    Damien Chazelle   \n",
       "1  Akira Kurosawa (screenplay), Shinobu Hashimoto...   \n",
       "2  Lawrence Kasdan (screenplay), George Lucas (st...   \n",
       "3  Pierre Boulle (novel), Carl Foreman (screenpla...   \n",
       "4  Joss Whedon (screenplay), Zak Penn (story), Jo...   \n",
       "\n",
       "                                              Actors          Director  \\\n",
       "0  Miles Teller, J.K. Simmons, Paul Reiser, Melis...   Damien Chazelle   \n",
       "1  Toshirô Mifune, Takashi Shimura, Keiko Tsushim...    Akira Kurosawa   \n",
       "2  Harrison Ford, Karen Allen, Paul Freeman, Rona...  Steven Spielberg   \n",
       "3  William Holden, Alec Guinness, Jack Hawkins, S...        David Lean   \n",
       "4  Robert Downey Jr., Chris Evans, Mark Ruffalo, ...       Joss Whedon   \n",
       "\n",
       "                                                Plot  Metascore      Year  \\\n",
       "0  A promising young drummer enrolls at a cut-thr...   0.880238  1.237621   \n",
       "1  A veteran samurai, who has fallen on hard time...   1.140018 -1.240595   \n",
       "2  The year is 1936. An archeology professor name...   0.802304 -0.125398   \n",
       "3  After settling his differences with a Japanese...  -1.405824 -1.116684   \n",
       "4  Nick Fury is the director of S.H.I.E.L.D., an ...   0.386656  1.155014   \n",
       "\n",
       "      Month       ...         Actor_robert_de_niro  Actor_harrison_ford  \\\n",
       "0  0.924913       ...                            0                    0   \n",
       "1  1.201833       ...                            0                    0   \n",
       "2 -0.182767       ...                            0                    1   \n",
       "3  1.478754       ...                            0                    0   \n",
       "4 -0.459687       ...                            0                    0   \n",
       "\n",
       "   Actor_leonardo_dicaprio  Actor_clint_eastwood  Actor_tom_hanks  \\\n",
       "0                        0                     0                0   \n",
       "1                        0                     0                0   \n",
       "2                        0                     0                0   \n",
       "3                        0                     0                0   \n",
       "4                        0                     0                0   \n",
       "\n",
       "   Actor_mark_hamill  Actor_james_stewart  Actor_christian_bale  \\\n",
       "0                  0                    0                     0   \n",
       "1                  0                    0                     0   \n",
       "2                  0                    0                     0   \n",
       "3                  0                    0                     0   \n",
       "4                  0                    0                     0   \n",
       "\n",
       "   Actor_matt_damon  Actor_joe_pesci  \n",
       "0                 0                0  \n",
       "1                 0                0  \n",
       "2                 0                0  \n",
       "3                 0                0  \n",
       "4                 0                0  \n",
       "\n",
       "[5 rows x 74 columns]"
      ]
     },
     "execution_count": 459,
     "metadata": {},
     "output_type": "execute_result"
    }
   ],
   "source": [
    "df6.head()"
   ]
  },
  {
   "cell_type": "code",
   "execution_count": 432,
   "metadata": {
    "collapsed": true
   },
   "outputs": [],
   "source": [
    "tfidf = feature_extraction.text.TfidfVectorizer(stop_words=\"english\", ngram_range=(1,1), max_features=1000)"
   ]
  },
  {
   "cell_type": "code",
   "execution_count": 433,
   "metadata": {
    "collapsed": true
   },
   "outputs": [],
   "source": [
    "plot_df = pd.DataFrame(tfidf.fit_transform(df6[\"Plot\"]).todense(), columns=tfidf.get_feature_names())"
   ]
  },
  {
   "cell_type": "code",
   "execution_count": 434,
   "metadata": {
    "collapsed": false
   },
   "outputs": [
    {
     "data": {
      "text/html": [
       "<div>\n",
       "<table border=\"1\" class=\"dataframe\">\n",
       "  <thead>\n",
       "    <tr style=\"text-align: right;\">\n",
       "      <th></th>\n",
       "      <th>000</th>\n",
       "      <th>15</th>\n",
       "      <th>30</th>\n",
       "      <th>abandoned</th>\n",
       "      <th>abducted</th>\n",
       "      <th>ability</th>\n",
       "      <th>able</th>\n",
       "      <th>abroad</th>\n",
       "      <th>accept</th>\n",
       "      <th>accident</th>\n",
       "      <th>...</th>\n",
       "      <th>worst</th>\n",
       "      <th>writer</th>\n",
       "      <th>writes</th>\n",
       "      <th>wrong</th>\n",
       "      <th>wwi</th>\n",
       "      <th>wwii</th>\n",
       "      <th>year</th>\n",
       "      <th>years</th>\n",
       "      <th>york</th>\n",
       "      <th>young</th>\n",
       "    </tr>\n",
       "  </thead>\n",
       "  <tbody>\n",
       "    <tr>\n",
       "      <th>0</th>\n",
       "      <td>0.0</td>\n",
       "      <td>0.0</td>\n",
       "      <td>0.0</td>\n",
       "      <td>0.0</td>\n",
       "      <td>0.0</td>\n",
       "      <td>0.0</td>\n",
       "      <td>0.0</td>\n",
       "      <td>0.0</td>\n",
       "      <td>0.0</td>\n",
       "      <td>0.0</td>\n",
       "      <td>...</td>\n",
       "      <td>0.0</td>\n",
       "      <td>0.0</td>\n",
       "      <td>0.0</td>\n",
       "      <td>0.0</td>\n",
       "      <td>0.0</td>\n",
       "      <td>0.0</td>\n",
       "      <td>0.000000</td>\n",
       "      <td>0.0</td>\n",
       "      <td>0.0</td>\n",
       "      <td>0.245541</td>\n",
       "    </tr>\n",
       "    <tr>\n",
       "      <th>1</th>\n",
       "      <td>0.0</td>\n",
       "      <td>0.0</td>\n",
       "      <td>0.0</td>\n",
       "      <td>0.0</td>\n",
       "      <td>0.0</td>\n",
       "      <td>0.0</td>\n",
       "      <td>0.0</td>\n",
       "      <td>0.0</td>\n",
       "      <td>0.0</td>\n",
       "      <td>0.0</td>\n",
       "      <td>...</td>\n",
       "      <td>0.0</td>\n",
       "      <td>0.0</td>\n",
       "      <td>0.0</td>\n",
       "      <td>0.0</td>\n",
       "      <td>0.0</td>\n",
       "      <td>0.0</td>\n",
       "      <td>0.000000</td>\n",
       "      <td>0.0</td>\n",
       "      <td>0.0</td>\n",
       "      <td>0.000000</td>\n",
       "    </tr>\n",
       "    <tr>\n",
       "      <th>2</th>\n",
       "      <td>0.0</td>\n",
       "      <td>0.0</td>\n",
       "      <td>0.0</td>\n",
       "      <td>0.0</td>\n",
       "      <td>0.0</td>\n",
       "      <td>0.0</td>\n",
       "      <td>0.0</td>\n",
       "      <td>0.0</td>\n",
       "      <td>0.0</td>\n",
       "      <td>0.0</td>\n",
       "      <td>...</td>\n",
       "      <td>0.0</td>\n",
       "      <td>0.0</td>\n",
       "      <td>0.0</td>\n",
       "      <td>0.0</td>\n",
       "      <td>0.0</td>\n",
       "      <td>0.0</td>\n",
       "      <td>0.133198</td>\n",
       "      <td>0.0</td>\n",
       "      <td>0.0</td>\n",
       "      <td>0.000000</td>\n",
       "    </tr>\n",
       "    <tr>\n",
       "      <th>3</th>\n",
       "      <td>0.0</td>\n",
       "      <td>0.0</td>\n",
       "      <td>0.0</td>\n",
       "      <td>0.0</td>\n",
       "      <td>0.0</td>\n",
       "      <td>0.0</td>\n",
       "      <td>0.0</td>\n",
       "      <td>0.0</td>\n",
       "      <td>0.0</td>\n",
       "      <td>0.0</td>\n",
       "      <td>...</td>\n",
       "      <td>0.0</td>\n",
       "      <td>0.0</td>\n",
       "      <td>0.0</td>\n",
       "      <td>0.0</td>\n",
       "      <td>0.0</td>\n",
       "      <td>0.0</td>\n",
       "      <td>0.000000</td>\n",
       "      <td>0.0</td>\n",
       "      <td>0.0</td>\n",
       "      <td>0.000000</td>\n",
       "    </tr>\n",
       "    <tr>\n",
       "      <th>4</th>\n",
       "      <td>0.0</td>\n",
       "      <td>0.0</td>\n",
       "      <td>0.0</td>\n",
       "      <td>0.0</td>\n",
       "      <td>0.0</td>\n",
       "      <td>0.0</td>\n",
       "      <td>0.0</td>\n",
       "      <td>0.0</td>\n",
       "      <td>0.0</td>\n",
       "      <td>0.0</td>\n",
       "      <td>...</td>\n",
       "      <td>0.0</td>\n",
       "      <td>0.0</td>\n",
       "      <td>0.0</td>\n",
       "      <td>0.0</td>\n",
       "      <td>0.0</td>\n",
       "      <td>0.0</td>\n",
       "      <td>0.000000</td>\n",
       "      <td>0.0</td>\n",
       "      <td>0.0</td>\n",
       "      <td>0.000000</td>\n",
       "    </tr>\n",
       "  </tbody>\n",
       "</table>\n",
       "<p>5 rows × 1000 columns</p>\n",
       "</div>"
      ],
      "text/plain": [
       "   000   15   30  abandoned  abducted  ability  able  abroad  accept  \\\n",
       "0  0.0  0.0  0.0        0.0       0.0      0.0   0.0     0.0     0.0   \n",
       "1  0.0  0.0  0.0        0.0       0.0      0.0   0.0     0.0     0.0   \n",
       "2  0.0  0.0  0.0        0.0       0.0      0.0   0.0     0.0     0.0   \n",
       "3  0.0  0.0  0.0        0.0       0.0      0.0   0.0     0.0     0.0   \n",
       "4  0.0  0.0  0.0        0.0       0.0      0.0   0.0     0.0     0.0   \n",
       "\n",
       "   accident    ...     worst  writer  writes  wrong  wwi  wwii      year  \\\n",
       "0       0.0    ...       0.0     0.0     0.0    0.0  0.0   0.0  0.000000   \n",
       "1       0.0    ...       0.0     0.0     0.0    0.0  0.0   0.0  0.000000   \n",
       "2       0.0    ...       0.0     0.0     0.0    0.0  0.0   0.0  0.133198   \n",
       "3       0.0    ...       0.0     0.0     0.0    0.0  0.0   0.0  0.000000   \n",
       "4       0.0    ...       0.0     0.0     0.0    0.0  0.0   0.0  0.000000   \n",
       "\n",
       "   years  york     young  \n",
       "0    0.0   0.0  0.245541  \n",
       "1    0.0   0.0  0.000000  \n",
       "2    0.0   0.0  0.000000  \n",
       "3    0.0   0.0  0.000000  \n",
       "4    0.0   0.0  0.000000  \n",
       "\n",
       "[5 rows x 1000 columns]"
      ]
     },
     "execution_count": 434,
     "metadata": {},
     "output_type": "execute_result"
    }
   ],
   "source": [
    "plot_df.head()"
   ]
  },
  {
   "cell_type": "code",
   "execution_count": 435,
   "metadata": {
    "collapsed": false
   },
   "outputs": [],
   "source": [
    "df6 = pd.concat([df6,plot_df], axis=1)"
   ]
  },
  {
   "cell_type": "code",
   "execution_count": 460,
   "metadata": {
    "collapsed": true
   },
   "outputs": [],
   "source": [
    "X = df6.iloc[:,7:]"
   ]
  },
  {
   "cell_type": "markdown",
   "metadata": {},
   "source": [
    "### Regression"
   ]
  },
  {
   "cell_type": "code",
   "execution_count": 461,
   "metadata": {
    "collapsed": false
   },
   "outputs": [],
   "source": [
    "y = df6[\"imdbRating\"]"
   ]
  },
  {
   "cell_type": "code",
   "execution_count": 462,
   "metadata": {
    "collapsed": true
   },
   "outputs": [],
   "source": [
    "X_train, X_test, y_train, y_test = model_selection.train_test_split(X, y, test_size=0.3, random_state=77)"
   ]
  },
  {
   "cell_type": "code",
   "execution_count": 463,
   "metadata": {
    "collapsed": false
   },
   "outputs": [
    {
     "data": {
      "text/plain": [
       "GridSearchCV(cv=5, error_score='raise',\n",
       "       estimator=GradientBoostingRegressor(alpha=0.9, criterion='friedman_mse', init=None,\n",
       "             learning_rate=0.1, loss='ls', max_depth=3, max_features=None,\n",
       "             max_leaf_nodes=None, min_impurity_split=1e-07,\n",
       "             min_samples_leaf=1, min_samples_split=2,\n",
       "             min_weight_fraction_leaf=0.0, n_estimators=100,\n",
       "             presort='auto', random_state=1, subsample=1.0, verbose=0,\n",
       "             warm_start=False),\n",
       "       fit_params={}, iid=True, n_jobs=1,\n",
       "       param_grid={'n_estimators': array([50, 60, 70, 80, 90])},\n",
       "       pre_dispatch='2*n_jobs', refit=True, return_train_score=True,\n",
       "       scoring=None, verbose=0)"
      ]
     },
     "execution_count": 463,
     "metadata": {},
     "output_type": "execute_result"
    }
   ],
   "source": [
    "gs3 = model_selection.GridSearchCV(ensemble.GradientBoostingRegressor(random_state=1),\n",
    "                                  {\"n_estimators\": np.arange(50,100,10)},\n",
    "                                  cv=5)\n",
    "gs3.fit(X_train,y_train)"
   ]
  },
  {
   "cell_type": "code",
   "execution_count": 464,
   "metadata": {
    "collapsed": false
   },
   "outputs": [
    {
     "data": {
      "text/plain": [
       "{'n_estimators': 90}"
      ]
     },
     "execution_count": 464,
     "metadata": {},
     "output_type": "execute_result"
    }
   ],
   "source": [
    "gs3.best_params_"
   ]
  },
  {
   "cell_type": "code",
   "execution_count": 465,
   "metadata": {
    "collapsed": true
   },
   "outputs": [],
   "source": [
    "gbr2 = gs3.best_estimator_"
   ]
  },
  {
   "cell_type": "code",
   "execution_count": 466,
   "metadata": {
    "collapsed": false
   },
   "outputs": [],
   "source": [
    "y_pred = gbr2.predict(X_test)"
   ]
  },
  {
   "cell_type": "code",
   "execution_count": 467,
   "metadata": {
    "collapsed": true
   },
   "outputs": [],
   "source": [
    "check = pd.DataFrame([y_test, y_pred], index=[\"actual\", \"predicted\"]).T"
   ]
  },
  {
   "cell_type": "code",
   "execution_count": 468,
   "metadata": {
    "collapsed": false
   },
   "outputs": [
    {
     "data": {
      "text/plain": [
       "0.44127180940856792"
      ]
     },
     "execution_count": 468,
     "metadata": {},
     "output_type": "execute_result"
    }
   ],
   "source": [
    "gbr2.score(X_test, y_test)"
   ]
  },
  {
   "cell_type": "code",
   "execution_count": 469,
   "metadata": {
    "collapsed": false
   },
   "outputs": [
    {
     "data": {
      "text/plain": [
       "0.023614584894436838"
      ]
     },
     "execution_count": 469,
     "metadata": {},
     "output_type": "execute_result"
    }
   ],
   "source": [
    "metrics.mean_squared_error(y_test, y_pred)"
   ]
  },
  {
   "cell_type": "markdown",
   "metadata": {},
   "source": [
    "Regression is still not performing well."
   ]
  },
  {
   "cell_type": "markdown",
   "metadata": {},
   "source": [
    "### Classification"
   ]
  },
  {
   "cell_type": "code",
   "execution_count": 470,
   "metadata": {
    "collapsed": true
   },
   "outputs": [],
   "source": [
    "df6[\"rating_higher_8.5\"] = df6[\"imdbRating\"].map(lambda x: 1 if x >= 8.5 else 0)\n",
    "y = df6[\"rating_higher_8.5\"]"
   ]
  },
  {
   "cell_type": "code",
   "execution_count": 471,
   "metadata": {
    "collapsed": true
   },
   "outputs": [],
   "source": [
    "X_train, X_test, y_train, y_test = model_selection.train_test_split(X, y, stratify=y, test_size=0.3, random_state=77)"
   ]
  },
  {
   "cell_type": "code",
   "execution_count": 472,
   "metadata": {
    "collapsed": false
   },
   "outputs": [
    {
     "data": {
      "text/plain": [
       "GridSearchCV(cv=5, error_score='raise',\n",
       "       estimator=GradientBoostingClassifier(criterion='friedman_mse', init=None,\n",
       "              learning_rate=0.1, loss='deviance', max_depth=3,\n",
       "              max_features=None, max_leaf_nodes=None,\n",
       "              min_impurity_split=1e-07, min_samples_leaf=1,\n",
       "              min_samples_split=2, min_weight_fraction_leaf=0.0,\n",
       "              n_estimators=100, presort='auto', random_state=1,\n",
       "              subsample=1.0, verbose=0, warm_start=False),\n",
       "       fit_params={}, iid=True, n_jobs=1,\n",
       "       param_grid={'n_estimators': array([50, 60, 70, 80, 90]), 'min_samples_split': array([5, 6, 7, 8, 9]), 'min_samples_leaf': array([5, 6, 7, 8, 9])},\n",
       "       pre_dispatch='2*n_jobs', refit=True, return_train_score=True,\n",
       "       scoring=None, verbose=0)"
      ]
     },
     "execution_count": 472,
     "metadata": {},
     "output_type": "execute_result"
    }
   ],
   "source": [
    "gs4 = model_selection.GridSearchCV(ensemble.GradientBoostingClassifier(random_state=1),\n",
    "                                  {\"n_estimators\": np.arange(50,100,10),\n",
    "                                   \"min_samples_split\": np.arange(5,10,1), \n",
    "                                   \"min_samples_leaf\": np.arange(5,10,1)},\n",
    "                                  cv=5)\n",
    "gs4.fit(X_train,y_train)"
   ]
  },
  {
   "cell_type": "code",
   "execution_count": 473,
   "metadata": {
    "collapsed": false
   },
   "outputs": [
    {
     "data": {
      "text/plain": [
       "{'min_samples_leaf': 6, 'min_samples_split': 5, 'n_estimators': 70}"
      ]
     },
     "execution_count": 473,
     "metadata": {},
     "output_type": "execute_result"
    }
   ],
   "source": [
    "gs4.best_params_"
   ]
  },
  {
   "cell_type": "code",
   "execution_count": 474,
   "metadata": {
    "collapsed": true
   },
   "outputs": [],
   "source": [
    "gbc2 = gs4.best_estimator_"
   ]
  },
  {
   "cell_type": "code",
   "execution_count": 475,
   "metadata": {
    "collapsed": true
   },
   "outputs": [],
   "source": [
    "y_pred = gbc2.predict(X_test)"
   ]
  },
  {
   "cell_type": "code",
   "execution_count": 476,
   "metadata": {
    "collapsed": false
   },
   "outputs": [
    {
     "data": {
      "text/plain": [
       "0.78666666666666663"
      ]
     },
     "execution_count": 476,
     "metadata": {},
     "output_type": "execute_result"
    }
   ],
   "source": [
    "gbc2.score(X_test, y_test)"
   ]
  },
  {
   "cell_type": "markdown",
   "metadata": {},
   "source": [
    "## Feature selection"
   ]
  },
  {
   "cell_type": "code",
   "execution_count": 479,
   "metadata": {
    "collapsed": false
   },
   "outputs": [],
   "source": [
    "select = feature_selection.RFECV(gbc2,cv=5)"
   ]
  },
  {
   "cell_type": "code",
   "execution_count": 488,
   "metadata": {
    "collapsed": false
   },
   "outputs": [
    {
     "data": {
      "text/plain": [
       "RFECV(cv=5,\n",
       "   estimator=GradientBoostingClassifier(criterion='friedman_mse', init=None,\n",
       "              learning_rate=0.1, loss='deviance', max_depth=3,\n",
       "              max_features=None, max_leaf_nodes=None,\n",
       "              min_impurity_split=1e-07, min_samples_leaf=6,\n",
       "              min_samples_split=5, min_weight_fraction_leaf=0.0,\n",
       "              n_estimators=70, presort='auto', random_state=1,\n",
       "              subsample=1.0, verbose=0, warm_start=False),\n",
       "   n_jobs=1, scoring=None, step=1, verbose=0)"
      ]
     },
     "execution_count": 488,
     "metadata": {},
     "output_type": "execute_result"
    }
   ],
   "source": [
    "select.fit(X_train, y_train)"
   ]
  },
  {
   "cell_type": "code",
   "execution_count": 489,
   "metadata": {
    "collapsed": false
   },
   "outputs": [
    {
     "data": {
      "text/plain": [
       "array([ True,  True,  True,  True,  True,  True,  True,  True,  True,\n",
       "        True,  True,  True,  True,  True,  True,  True,  True,  True,\n",
       "        True,  True,  True,  True,  True,  True,  True,  True,  True,\n",
       "        True,  True,  True,  True, False,  True,  True,  True,  True,\n",
       "        True,  True,  True,  True,  True,  True,  True,  True,  True,\n",
       "        True,  True,  True,  True,  True,  True,  True,  True,  True,\n",
       "        True,  True,  True,  True,  True,  True,  True,  True,  True,\n",
       "        True, False, False, False], dtype=bool)"
      ]
     },
     "execution_count": 489,
     "metadata": {},
     "output_type": "execute_result"
    }
   ],
   "source": [
    "select.support_"
   ]
  },
  {
   "cell_type": "code",
   "execution_count": 490,
   "metadata": {
    "collapsed": false
   },
   "outputs": [],
   "source": [
    "X_train = select.transform(X_train)"
   ]
  },
  {
   "cell_type": "code",
   "execution_count": 491,
   "metadata": {
    "collapsed": false
   },
   "outputs": [
    {
     "data": {
      "text/plain": [
       "GradientBoostingClassifier(criterion='friedman_mse', init=None,\n",
       "              learning_rate=0.1, loss='deviance', max_depth=3,\n",
       "              max_features=None, max_leaf_nodes=None,\n",
       "              min_impurity_split=1e-07, min_samples_leaf=6,\n",
       "              min_samples_split=5, min_weight_fraction_leaf=0.0,\n",
       "              n_estimators=70, presort='auto', random_state=1,\n",
       "              subsample=1.0, verbose=0, warm_start=False)"
      ]
     },
     "execution_count": 491,
     "metadata": {},
     "output_type": "execute_result"
    }
   ],
   "source": [
    "gbc2.fit(X_train, y_train)"
   ]
  },
  {
   "cell_type": "code",
   "execution_count": 492,
   "metadata": {
    "collapsed": false
   },
   "outputs": [
    {
     "data": {
      "text/plain": [
       "0.78666666666666663"
      ]
     },
     "execution_count": 492,
     "metadata": {},
     "output_type": "execute_result"
    }
   ],
   "source": [
    "gbc2.score(select.transform(X_test), y_test)"
   ]
  },
  {
   "cell_type": "code",
   "execution_count": null,
   "metadata": {
    "collapsed": true
   },
   "outputs": [],
   "source": []
  }
 ],
 "metadata": {
  "anaconda-cloud": {},
  "kernelspec": {
   "display_name": "Python [default]",
   "language": "python",
   "name": "python2"
  },
  "language_info": {
   "codemirror_mode": {
    "name": "ipython",
    "version": 2
   },
   "file_extension": ".py",
   "mimetype": "text/x-python",
   "name": "python",
   "nbconvert_exporter": "python",
   "pygments_lexer": "ipython2",
   "version": "2.7.12"
  }
 },
 "nbformat": 4,
 "nbformat_minor": 0
}
