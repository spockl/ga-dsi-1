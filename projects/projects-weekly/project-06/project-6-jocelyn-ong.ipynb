{
 "cells": [
  {
   "cell_type": "code",
   "execution_count": 46,
   "metadata": {
    "ExecuteTime": {
     "end_time": "2016-10-27T17:00:47.841532",
     "start_time": "2016-10-27T17:00:47.654851"
    },
    "collapsed": false
   },
   "outputs": [],
   "source": [
    "# import relevant libraries\n",
    "\n",
    "# basic libraries\n",
    "import pandas as pd\n",
    "import numpy as np\n",
    "\n",
    "# visualization libraries\n",
    "import matplotlib.pyplot as plt\n",
    "import seaborn as sns\n",
    "\n",
    "# machine learning libraries\n",
    "import sklearn.tree\n",
    "import sklearn.metrics\n",
    "import sklearn.model_selection\n",
    "import sklearn.linear_model\n",
    "\n",
    "# data collection libraries\n",
    "import requests\n",
    "from selenium import webdriver\n",
    "import bs4\n",
    "import imdbpie\n",
    "import json\n",
    "\n",
    "%matplotlib inline"
   ]
  },
  {
   "cell_type": "markdown",
   "metadata": {},
   "source": [
    "# Identify: Problem Statement & Goals"
   ]
  },
  {
   "cell_type": "markdown",
   "metadata": {},
   "source": [
    "**Using data from IMDB, can we build a model that predicts movie ratings based on certain inputs?**\n",
    "\n",
    "- Predict movie ratings using information about the movie (e.g. genre, length of movie etc.)\n",
    "- What are the factors that affect movie rating?"
   ]
  },
  {
   "cell_type": "markdown",
   "metadata": {},
   "source": [
    "# Acquire: Query IMDB, write results, scrape IMDB"
   ]
  },
  {
   "cell_type": "markdown",
   "metadata": {},
   "source": [
    "## Using IMDBpie"
   ]
  },
  {
   "cell_type": "code",
   "execution_count": 47,
   "metadata": {
    "ExecuteTime": {
     "end_time": "2016-10-27T17:00:49.779608",
     "start_time": "2016-10-27T17:00:49.774117"
    },
    "collapsed": false
   },
   "outputs": [],
   "source": [
    "imdb = imdbpie.Imdb()"
   ]
  },
  {
   "cell_type": "code",
   "execution_count": 48,
   "metadata": {
    "ExecuteTime": {
     "end_time": "2016-10-27T17:00:51.069335",
     "start_time": "2016-10-27T17:00:50.432946"
    },
    "collapsed": false
   },
   "outputs": [],
   "source": [
    "imdb_df = pd.read_json(json.dumps(imdb.top_250()))"
   ]
  },
  {
   "cell_type": "code",
   "execution_count": 49,
   "metadata": {
    "ExecuteTime": {
     "end_time": "2016-10-27T17:00:51.250230",
     "start_time": "2016-10-27T17:00:51.205837"
    },
    "collapsed": false
   },
   "outputs": [
    {
     "data": {
      "text/html": [
       "<div>\n",
       "<table border=\"1\" class=\"dataframe\">\n",
       "  <thead>\n",
       "    <tr style=\"text-align: right;\">\n",
       "      <th></th>\n",
       "      <th>can_rate</th>\n",
       "      <th>image</th>\n",
       "      <th>num_votes</th>\n",
       "      <th>rating</th>\n",
       "      <th>tconst</th>\n",
       "      <th>title</th>\n",
       "      <th>type</th>\n",
       "      <th>year</th>\n",
       "    </tr>\n",
       "  </thead>\n",
       "  <tbody>\n",
       "    <tr>\n",
       "      <th>0</th>\n",
       "      <td>True</td>\n",
       "      <td>{u'url': u'https://images-na.ssl-images-amazon...</td>\n",
       "      <td>1720615</td>\n",
       "      <td>9.3</td>\n",
       "      <td>tt0111161</td>\n",
       "      <td>The Shawshank Redemption</td>\n",
       "      <td>feature</td>\n",
       "      <td>1994</td>\n",
       "    </tr>\n",
       "    <tr>\n",
       "      <th>1</th>\n",
       "      <td>True</td>\n",
       "      <td>{u'url': u'https://images-na.ssl-images-amazon...</td>\n",
       "      <td>1175974</td>\n",
       "      <td>9.2</td>\n",
       "      <td>tt0068646</td>\n",
       "      <td>The Godfather</td>\n",
       "      <td>feature</td>\n",
       "      <td>1972</td>\n",
       "    </tr>\n",
       "    <tr>\n",
       "      <th>2</th>\n",
       "      <td>True</td>\n",
       "      <td>{u'url': u'https://images-na.ssl-images-amazon...</td>\n",
       "      <td>806018</td>\n",
       "      <td>9.0</td>\n",
       "      <td>tt0071562</td>\n",
       "      <td>The Godfather: Part II</td>\n",
       "      <td>feature</td>\n",
       "      <td>1974</td>\n",
       "    </tr>\n",
       "    <tr>\n",
       "      <th>3</th>\n",
       "      <td>True</td>\n",
       "      <td>{u'url': u'https://images-na.ssl-images-amazon...</td>\n",
       "      <td>1706594</td>\n",
       "      <td>9.0</td>\n",
       "      <td>tt0468569</td>\n",
       "      <td>The Dark Knight</td>\n",
       "      <td>feature</td>\n",
       "      <td>2008</td>\n",
       "    </tr>\n",
       "    <tr>\n",
       "      <th>4</th>\n",
       "      <td>True</td>\n",
       "      <td>{u'url': u'https://images-na.ssl-images-amazon...</td>\n",
       "      <td>458359</td>\n",
       "      <td>8.9</td>\n",
       "      <td>tt0050083</td>\n",
       "      <td>12 Angry Men</td>\n",
       "      <td>feature</td>\n",
       "      <td>1957</td>\n",
       "    </tr>\n",
       "  </tbody>\n",
       "</table>\n",
       "</div>"
      ],
      "text/plain": [
       "  can_rate                                              image  num_votes  \\\n",
       "0     True  {u'url': u'https://images-na.ssl-images-amazon...    1720615   \n",
       "1     True  {u'url': u'https://images-na.ssl-images-amazon...    1175974   \n",
       "2     True  {u'url': u'https://images-na.ssl-images-amazon...     806018   \n",
       "3     True  {u'url': u'https://images-na.ssl-images-amazon...    1706594   \n",
       "4     True  {u'url': u'https://images-na.ssl-images-amazon...     458359   \n",
       "\n",
       "   rating     tconst                     title     type  year  \n",
       "0     9.3  tt0111161  The Shawshank Redemption  feature  1994  \n",
       "1     9.2  tt0068646             The Godfather  feature  1972  \n",
       "2     9.0  tt0071562    The Godfather: Part II  feature  1974  \n",
       "3     9.0  tt0468569           The Dark Knight  feature  2008  \n",
       "4     8.9  tt0050083              12 Angry Men  feature  1957  "
      ]
     },
     "execution_count": 49,
     "metadata": {},
     "output_type": "execute_result"
    }
   ],
   "source": [
    "imdb_df.head()"
   ]
  },
  {
   "cell_type": "code",
   "execution_count": 50,
   "metadata": {
    "ExecuteTime": {
     "end_time": "2016-10-27T17:00:51.986760",
     "start_time": "2016-10-27T17:00:51.981879"
    },
    "collapsed": true
   },
   "outputs": [],
   "source": [
    "top_250_id = imdb_df['tconst']"
   ]
  },
  {
   "cell_type": "code",
   "execution_count": 51,
   "metadata": {
    "ExecuteTime": {
     "end_time": "2016-10-27T17:00:53.106308",
     "start_time": "2016-10-27T17:00:53.101581"
    },
    "collapsed": false
   },
   "outputs": [],
   "source": [
    "# path to phantomjs\n",
    "phan_path = '//Applications/phantomjs'"
   ]
  },
  {
   "cell_type": "code",
   "execution_count": 52,
   "metadata": {
    "ExecuteTime": {
     "end_time": "2016-10-27T17:00:53.994155",
     "start_time": "2016-10-27T17:00:53.988279"
    },
    "collapsed": false
   },
   "outputs": [],
   "source": [
    "def get_content(id_num):\n",
    "    r = requests.get(api_url.format(id_num))\n",
    "#     tmp = pd.DataFrame(json.loads(r.text), index=[0])\n",
    "    tmp = json.loads(r.text)\n",
    "    return tmp"
   ]
  },
  {
   "cell_type": "code",
   "execution_count": 53,
   "metadata": {
    "ExecuteTime": {
     "end_time": "2016-10-27T17:01:01.033267",
     "start_time": "2016-10-27T17:00:56.557489"
    },
    "collapsed": false
   },
   "outputs": [],
   "source": [
    "df = pd.DataFrame([get_content(i) for i in top_250_id])"
   ]
  },
  {
   "cell_type": "code",
   "execution_count": 55,
   "metadata": {
    "ExecuteTime": {
     "end_time": "2016-10-27T17:01:40.905365",
     "start_time": "2016-10-27T17:01:40.819295"
    },
    "collapsed": false
   },
   "outputs": [
    {
     "data": {
      "text/html": [
       "<div>\n",
       "<table border=\"1\" class=\"dataframe\">\n",
       "  <thead>\n",
       "    <tr style=\"text-align: right;\">\n",
       "      <th></th>\n",
       "      <th>Actors</th>\n",
       "      <th>Awards</th>\n",
       "      <th>Country</th>\n",
       "      <th>Director</th>\n",
       "      <th>Genre</th>\n",
       "      <th>Language</th>\n",
       "      <th>Metascore</th>\n",
       "      <th>Plot</th>\n",
       "      <th>Poster</th>\n",
       "      <th>Rated</th>\n",
       "      <th>Released</th>\n",
       "      <th>Response</th>\n",
       "      <th>Runtime</th>\n",
       "      <th>Title</th>\n",
       "      <th>Type</th>\n",
       "      <th>Writer</th>\n",
       "      <th>Year</th>\n",
       "      <th>imdbID</th>\n",
       "      <th>imdbRating</th>\n",
       "      <th>imdbVotes</th>\n",
       "    </tr>\n",
       "  </thead>\n",
       "  <tbody>\n",
       "    <tr>\n",
       "      <th>0</th>\n",
       "      <td>Tim Robbins, Morgan Freeman, Bob Gunton, Willi...</td>\n",
       "      <td>Nominated for 7 Oscars. Another 18 wins &amp; 30 n...</td>\n",
       "      <td>USA</td>\n",
       "      <td>Frank Darabont</td>\n",
       "      <td>Crime, Drama</td>\n",
       "      <td>English</td>\n",
       "      <td>80</td>\n",
       "      <td>Chronicles the experiences of a formerly succe...</td>\n",
       "      <td>https://images-na.ssl-images-amazon.com/images...</td>\n",
       "      <td>R</td>\n",
       "      <td>14 Oct 1994</td>\n",
       "      <td>True</td>\n",
       "      <td>142 min</td>\n",
       "      <td>The Shawshank Redemption</td>\n",
       "      <td>movie</td>\n",
       "      <td>Stephen King (short story \"Rita Hayworth and S...</td>\n",
       "      <td>1994</td>\n",
       "      <td>tt0111161</td>\n",
       "      <td>9.3</td>\n",
       "      <td>1,711,064</td>\n",
       "    </tr>\n",
       "    <tr>\n",
       "      <th>1</th>\n",
       "      <td>Marlon Brando, Al Pacino, James Caan, Richard ...</td>\n",
       "      <td>Won 3 Oscars. Another 23 wins &amp; 27 nominations.</td>\n",
       "      <td>USA</td>\n",
       "      <td>Francis Ford Coppola</td>\n",
       "      <td>Crime, Drama</td>\n",
       "      <td>English, Italian, Latin</td>\n",
       "      <td>100</td>\n",
       "      <td>When the aging head of a famous crime family d...</td>\n",
       "      <td>https://images-na.ssl-images-amazon.com/images...</td>\n",
       "      <td>R</td>\n",
       "      <td>24 Mar 1972</td>\n",
       "      <td>True</td>\n",
       "      <td>175 min</td>\n",
       "      <td>The Godfather</td>\n",
       "      <td>movie</td>\n",
       "      <td>Mario Puzo (screenplay), Francis Ford Coppola ...</td>\n",
       "      <td>1972</td>\n",
       "      <td>tt0068646</td>\n",
       "      <td>9.2</td>\n",
       "      <td>1,169,904</td>\n",
       "    </tr>\n",
       "    <tr>\n",
       "      <th>2</th>\n",
       "      <td>Al Pacino, Robert Duvall, Diane Keaton, Robert...</td>\n",
       "      <td>Won 6 Oscars. Another 10 wins &amp; 20 nominations.</td>\n",
       "      <td>USA</td>\n",
       "      <td>Francis Ford Coppola</td>\n",
       "      <td>Crime, Drama</td>\n",
       "      <td>English, Italian, Spanish, Latin, Sicilian</td>\n",
       "      <td>80</td>\n",
       "      <td>The continuing saga of the Corleone crime fami...</td>\n",
       "      <td>https://images-na.ssl-images-amazon.com/images...</td>\n",
       "      <td>R</td>\n",
       "      <td>20 Dec 1974</td>\n",
       "      <td>True</td>\n",
       "      <td>202 min</td>\n",
       "      <td>The Godfather: Part II</td>\n",
       "      <td>movie</td>\n",
       "      <td>Francis Ford Coppola (screenplay), Mario Puzo ...</td>\n",
       "      <td>1974</td>\n",
       "      <td>tt0071562</td>\n",
       "      <td>9.0</td>\n",
       "      <td>800,469</td>\n",
       "    </tr>\n",
       "    <tr>\n",
       "      <th>3</th>\n",
       "      <td>Christian Bale, Heath Ledger, Aaron Eckhart, M...</td>\n",
       "      <td>Won 2 Oscars. Another 146 wins &amp; 142 nominations.</td>\n",
       "      <td>USA, UK</td>\n",
       "      <td>Christopher Nolan</td>\n",
       "      <td>Action, Crime, Drama</td>\n",
       "      <td>English, Mandarin</td>\n",
       "      <td>82</td>\n",
       "      <td>When the menace known as the Joker wreaks havo...</td>\n",
       "      <td>https://images-na.ssl-images-amazon.com/images...</td>\n",
       "      <td>PG-13</td>\n",
       "      <td>18 Jul 2008</td>\n",
       "      <td>True</td>\n",
       "      <td>152 min</td>\n",
       "      <td>The Dark Knight</td>\n",
       "      <td>movie</td>\n",
       "      <td>Jonathan Nolan (screenplay), Christopher Nolan...</td>\n",
       "      <td>2008</td>\n",
       "      <td>tt0468569</td>\n",
       "      <td>9.0</td>\n",
       "      <td>1,699,835</td>\n",
       "    </tr>\n",
       "    <tr>\n",
       "      <th>4</th>\n",
       "      <td>Martin Balsam, John Fiedler, Lee J. Cobb, E.G....</td>\n",
       "      <td>Nominated for 3 Oscars. Another 16 wins &amp; 8 no...</td>\n",
       "      <td>USA</td>\n",
       "      <td>Sidney Lumet</td>\n",
       "      <td>Crime, Drama</td>\n",
       "      <td>English</td>\n",
       "      <td>N/A</td>\n",
       "      <td>The defense and the prosecution have rested an...</td>\n",
       "      <td>https://images-na.ssl-images-amazon.com/images...</td>\n",
       "      <td>APPROVED</td>\n",
       "      <td>01 Apr 1957</td>\n",
       "      <td>True</td>\n",
       "      <td>96 min</td>\n",
       "      <td>12 Angry Men</td>\n",
       "      <td>movie</td>\n",
       "      <td>Reginald Rose (story), Reginald Rose (screenplay)</td>\n",
       "      <td>1957</td>\n",
       "      <td>tt0050083</td>\n",
       "      <td>8.9</td>\n",
       "      <td>455,987</td>\n",
       "    </tr>\n",
       "  </tbody>\n",
       "</table>\n",
       "</div>"
      ],
      "text/plain": [
       "                                              Actors  \\\n",
       "0  Tim Robbins, Morgan Freeman, Bob Gunton, Willi...   \n",
       "1  Marlon Brando, Al Pacino, James Caan, Richard ...   \n",
       "2  Al Pacino, Robert Duvall, Diane Keaton, Robert...   \n",
       "3  Christian Bale, Heath Ledger, Aaron Eckhart, M...   \n",
       "4  Martin Balsam, John Fiedler, Lee J. Cobb, E.G....   \n",
       "\n",
       "                                              Awards  Country  \\\n",
       "0  Nominated for 7 Oscars. Another 18 wins & 30 n...      USA   \n",
       "1    Won 3 Oscars. Another 23 wins & 27 nominations.      USA   \n",
       "2    Won 6 Oscars. Another 10 wins & 20 nominations.      USA   \n",
       "3  Won 2 Oscars. Another 146 wins & 142 nominations.  USA, UK   \n",
       "4  Nominated for 3 Oscars. Another 16 wins & 8 no...      USA   \n",
       "\n",
       "               Director                 Genre  \\\n",
       "0        Frank Darabont          Crime, Drama   \n",
       "1  Francis Ford Coppola          Crime, Drama   \n",
       "2  Francis Ford Coppola          Crime, Drama   \n",
       "3     Christopher Nolan  Action, Crime, Drama   \n",
       "4          Sidney Lumet          Crime, Drama   \n",
       "\n",
       "                                     Language Metascore  \\\n",
       "0                                     English        80   \n",
       "1                     English, Italian, Latin       100   \n",
       "2  English, Italian, Spanish, Latin, Sicilian        80   \n",
       "3                           English, Mandarin        82   \n",
       "4                                     English       N/A   \n",
       "\n",
       "                                                Plot  \\\n",
       "0  Chronicles the experiences of a formerly succe...   \n",
       "1  When the aging head of a famous crime family d...   \n",
       "2  The continuing saga of the Corleone crime fami...   \n",
       "3  When the menace known as the Joker wreaks havo...   \n",
       "4  The defense and the prosecution have rested an...   \n",
       "\n",
       "                                              Poster     Rated     Released  \\\n",
       "0  https://images-na.ssl-images-amazon.com/images...         R  14 Oct 1994   \n",
       "1  https://images-na.ssl-images-amazon.com/images...         R  24 Mar 1972   \n",
       "2  https://images-na.ssl-images-amazon.com/images...         R  20 Dec 1974   \n",
       "3  https://images-na.ssl-images-amazon.com/images...     PG-13  18 Jul 2008   \n",
       "4  https://images-na.ssl-images-amazon.com/images...  APPROVED  01 Apr 1957   \n",
       "\n",
       "  Response  Runtime                     Title   Type  \\\n",
       "0     True  142 min  The Shawshank Redemption  movie   \n",
       "1     True  175 min             The Godfather  movie   \n",
       "2     True  202 min    The Godfather: Part II  movie   \n",
       "3     True  152 min           The Dark Knight  movie   \n",
       "4     True   96 min              12 Angry Men  movie   \n",
       "\n",
       "                                              Writer  Year     imdbID  \\\n",
       "0  Stephen King (short story \"Rita Hayworth and S...  1994  tt0111161   \n",
       "1  Mario Puzo (screenplay), Francis Ford Coppola ...  1972  tt0068646   \n",
       "2  Francis Ford Coppola (screenplay), Mario Puzo ...  1974  tt0071562   \n",
       "3  Jonathan Nolan (screenplay), Christopher Nolan...  2008  tt0468569   \n",
       "4  Reginald Rose (story), Reginald Rose (screenplay)  1957  tt0050083   \n",
       "\n",
       "  imdbRating  imdbVotes  \n",
       "0        9.3  1,711,064  \n",
       "1        9.2  1,169,904  \n",
       "2        9.0    800,469  \n",
       "3        9.0  1,699,835  \n",
       "4        8.9    455,987  "
      ]
     },
     "execution_count": 55,
     "metadata": {},
     "output_type": "execute_result"
    }
   ],
   "source": [
    "df.head()"
   ]
  },
  {
   "cell_type": "code",
   "execution_count": 56,
   "metadata": {
    "ExecuteTime": {
     "end_time": "2016-10-27T17:01:45.208622",
     "start_time": "2016-10-27T17:01:45.081530"
    },
    "collapsed": false
   },
   "outputs": [
    {
     "name": "stdout",
     "output_type": "stream",
     "text": [
      "<class 'pandas.core.frame.DataFrame'>\n",
      "RangeIndex: 250 entries, 0 to 249\n",
      "Data columns (total 20 columns):\n",
      "Actors        250 non-null object\n",
      "Awards        250 non-null object\n",
      "Country       250 non-null object\n",
      "Director      250 non-null object\n",
      "Genre         250 non-null object\n",
      "Language      250 non-null object\n",
      "Metascore     250 non-null object\n",
      "Plot          250 non-null object\n",
      "Poster        250 non-null object\n",
      "Rated         250 non-null object\n",
      "Released      250 non-null object\n",
      "Response      250 non-null object\n",
      "Runtime       250 non-null object\n",
      "Title         250 non-null object\n",
      "Type          250 non-null object\n",
      "Writer        250 non-null object\n",
      "Year          250 non-null object\n",
      "imdbID        250 non-null object\n",
      "imdbRating    250 non-null object\n",
      "imdbVotes     250 non-null object\n",
      "dtypes: object(20)\n",
      "memory usage: 39.1+ KB\n"
     ]
    }
   ],
   "source": [
    "df.info()"
   ]
  },
  {
   "cell_type": "markdown",
   "metadata": {},
   "source": [
    "# Mine: Rename & describe data"
   ]
  },
  {
   "cell_type": "code",
   "execution_count": 57,
   "metadata": {
    "ExecuteTime": {
     "end_time": "2016-10-27T17:02:16.390420",
     "start_time": "2016-10-27T17:02:16.384931"
    },
    "collapsed": true
   },
   "outputs": [],
   "source": [
    "df2 = df.copy()"
   ]
  },
  {
   "cell_type": "code",
   "execution_count": 65,
   "metadata": {
    "ExecuteTime": {
     "end_time": "2016-10-27T17:04:06.946375",
     "start_time": "2016-10-27T17:04:06.941920"
    },
    "collapsed": false
   },
   "outputs": [],
   "source": [
    "languages = []"
   ]
  },
  {
   "cell_type": "code",
   "execution_count": 68,
   "metadata": {
    "ExecuteTime": {
     "end_time": "2016-10-27T17:04:33.500427",
     "start_time": "2016-10-27T17:04:33.495406"
    },
    "collapsed": false
   },
   "outputs": [],
   "source": [
    "for i in df2['Language']:\n",
    "    languages.extend(i.split(','))"
   ]
  },
  {
   "cell_type": "code",
   "execution_count": 69,
   "metadata": {
    "ExecuteTime": {
     "end_time": "2016-10-27T17:04:47.426285",
     "start_time": "2016-10-27T17:04:47.419289"
    },
    "collapsed": false
   },
   "outputs": [
    {
     "data": {
      "text/plain": [
       "456"
      ]
     },
     "execution_count": 69,
     "metadata": {},
     "output_type": "execute_result"
    }
   ],
   "source": [
    "len(languages)"
   ]
  },
  {
   "cell_type": "code",
   "execution_count": 70,
   "metadata": {
    "ExecuteTime": {
     "end_time": "2016-10-27T17:04:48.615924",
     "start_time": "2016-10-27T17:04:48.611426"
    },
    "collapsed": true
   },
   "outputs": [],
   "source": [
    "languages = set(languages)"
   ]
  },
  {
   "cell_type": "code",
   "execution_count": 71,
   "metadata": {
    "ExecuteTime": {
     "end_time": "2016-10-27T17:04:53.468550",
     "start_time": "2016-10-27T17:04:53.461153"
    },
    "collapsed": false
   },
   "outputs": [
    {
     "data": {
      "text/plain": [
       "53"
      ]
     },
     "execution_count": 71,
     "metadata": {},
     "output_type": "execute_result"
    }
   ],
   "source": [
    "len(languages)"
   ]
  },
  {
   "cell_type": "code",
   "execution_count": 72,
   "metadata": {
    "ExecuteTime": {
     "end_time": "2016-10-27T17:05:58.033837",
     "start_time": "2016-10-27T17:05:57.960109"
    },
    "collapsed": true
   },
   "outputs": [],
   "source": [
    "for i in languages:\n",
    "    df2['language_'+i] = df2['Language'].map(lambda x: 1 if i in x else 0)"
   ]
  },
  {
   "cell_type": "code",
   "execution_count": 86,
   "metadata": {
    "ExecuteTime": {
     "end_time": "2016-10-27T17:09:56.898755",
     "start_time": "2016-10-27T17:09:56.892170"
    },
    "collapsed": false
   },
   "outputs": [],
   "source": [
    "def oscars_won(i):\n",
    "    i_list = i.split()\n",
    "    if 'Oscars.' in i.split() and i_list[i_list.index('Oscars.')-2] == 'Won':\n",
    "        return i_list[i_list.index('Oscars.')-1]\n",
    "    else:\n",
    "        return 0"
   ]
  },
  {
   "cell_type": "code",
   "execution_count": 87,
   "metadata": {
    "ExecuteTime": {
     "end_time": "2016-10-27T17:10:10.788954",
     "start_time": "2016-10-27T17:10:10.779764"
    },
    "collapsed": true
   },
   "outputs": [],
   "source": [
    "df2['Oscars_won'] = df2['Awards'].map(oscars_won)"
   ]
  },
  {
   "cell_type": "code",
   "execution_count": 91,
   "metadata": {
    "ExecuteTime": {
     "end_time": "2016-10-27T17:11:20.360740",
     "start_time": "2016-10-27T17:11:20.353455"
    },
    "collapsed": false
   },
   "outputs": [],
   "source": [
    "country = []\n",
    "for i in df2['Country']:\n",
    "    country.extend(i.split(','))\n",
    "country = set(country)"
   ]
  },
  {
   "cell_type": "code",
   "execution_count": 92,
   "metadata": {
    "ExecuteTime": {
     "end_time": "2016-10-27T17:11:55.369861",
     "start_time": "2016-10-27T17:11:55.297519"
    },
    "collapsed": true
   },
   "outputs": [],
   "source": [
    "for i in country:\n",
    "    df2['country_'+i] = df2['Country'].map(lambda x: 1 if i in x else 0)"
   ]
  },
  {
   "cell_type": "code",
   "execution_count": 99,
   "metadata": {
    "ExecuteTime": {
     "end_time": "2016-10-27T17:14:36.982233",
     "start_time": "2016-10-27T17:14:36.971448"
    },
    "collapsed": false
   },
   "outputs": [
    {
     "name": "stdout",
     "output_type": "stream",
     "text": [
      "\"Actors\" , \"Awards\" , \"Country\" , \"Director\" , \"Genre\" , \"Language\" , \"Metascore\" , \"Plot\" , \"Poster\" , \"Rated\" , \"Released\" , \"Response\" , \"Runtime\" , \"Title\" , \"Type\" , \"Writer\" , \"Year\" , \"imdbID\" , \"imdbRating\" , \"imdbVotes\" , \"language_ Latin\" , \"language_Swedish\" , \"language_ Hungarian\" , \"language_ Sindarin\" , \"language_ Quenya\" , \"language_ French\" , \"language_ Spanish\" , \"language_ Norwegian\" , \"language_Hindi\" , \"language_ Russian\" , \"language_Korean\" , \"language_ Thai\" , \"language_ Danish\" , \"language_Danish\" , \"language_ Nepali\" , \"language_ Zulu\" , \"language_French\" , \"language_ Italian\" , \"language_ American Sign Language\" , \"language_ Greek\" , \"language_ English\" , \"language_ Scottish Gaelic\" , \"language_Cantonese\" , \"language_ Irish\" , \"language_ Pawnee\" , \"language_ Sicilian\" , \"language_ German\" , \"language_ Czech\" , \"language_ Japanese\" , \"language_N/A\" , \"language_ Urdu\" , \"language_Russian\" , \"language_ Cantonese\" , \"language_ Hebrew\" , \"language_English\" , \"language_ Polish\" , \"language_ Esperanto\" , \"language_ Yiddish\" , \"language_ Arabic\" , \"language_ Xhosa\" , \"language_Italian\" , \"language_Portuguese\" , \"language_ Hmong\" , \"language_ Vietnamese\" , \"language_German\" , \"language_Japanese\" , \"language_Belarusian\" , \"language_ Swahili\" , \"language_ Turkish\" , \"language_Persian\" , \"language_Spanish\" , \"language_ Mandarin\" , \"language_ Old English\" , \"Oscars_won\" , \"country_Brazil\" , \"country_Canada\" , \"country_Italy\" , \"country_Ireland\" , \"country_USA\" , \"country_Lebanon\" , \"country_ Belgium\" , \"country_France\" , \"country_ Algeria\" , \"country_West Germany\" , \"country_ UK\" , \"country_Argentina\" , \"country_ Germany\" , \"country_ Spain\" , \"country_Australia\" , \"country_Iran\" , \"country_ Libya\" , \"country_ Denmark\" , \"country_Mexico\" , \"country_ Poland\" , \"country_ Sweden\" , \"country_Germany\" , \"country_ West Germany\" , \"country_Soviet Union\" , \"country_Hong Kong\" , \"country_Spain\" , \"country_ Switzerland\" , \"country_ Mexico\" , \"country_ Canada\" , \"country_ United Arab Emirates\" , \"country_Denmark\" , \"country_ India\" , \"country_Sweden\" , \"country_ China\" , \"country_ Ireland\" , \"country_New Zealand\" , \"country_ Taiwan\" , \"country_ Austria\" , \"country_ Hong Kong\" , \"country_ USA\" , \"country_ Italy\" , \"country_ Kuwait\" , \"country_ Australia\" , \"country_ South Africa\" , \"country_India\" , \"country_ France\" , \"country_ Luxembourg\" , \"country_ Morocco\" , \"country_UK\" , \"country_Japan\" , \"country_South Korea\" , \"country_ New Zealand\" ,\n"
     ]
    }
   ],
   "source": [
    "for i in df2.columns:\n",
    "    print '\"'+i+'\"',',',"
   ]
  },
  {
   "cell_type": "code",
   "execution_count": 103,
   "metadata": {
    "ExecuteTime": {
     "end_time": "2016-10-27T17:28:03.337137",
     "start_time": "2016-10-27T17:28:03.322045"
    },
    "collapsed": true
   },
   "outputs": [],
   "source": [
    "features = [\"Year\" , \"imdbVotes\" , \"language_ English\", \"Oscars_won\" , \"country_USA\"]"
   ]
  },
  {
   "cell_type": "code",
   "execution_count": 102,
   "metadata": {
    "ExecuteTime": {
     "end_time": "2016-10-27T17:16:39.849145",
     "start_time": "2016-10-27T17:16:39.712283"
    },
    "collapsed": false
   },
   "outputs": [],
   "source": [
    "df2.to_csv('test_data.csv', encoding='utf-8')"
   ]
  },
  {
   "cell_type": "markdown",
   "metadata": {},
   "source": [
    "# Refine: Visualize data\n",
    "Bonus: Use multiple data viz tools"
   ]
  },
  {
   "cell_type": "markdown",
   "metadata": {},
   "source": [
    "# Model: Define training set"
   ]
  },
  {
   "cell_type": "markdown",
   "metadata": {},
   "source": [
    "# Model: Fit and evaluate model\n",
    "Bonus: How is model at risk of overfitting?"
   ]
  },
  {
   "cell_type": "markdown",
   "metadata": {},
   "source": [
    "# Present: Describe findings in blog post: summary, model, recommendations"
   ]
  },
  {
   "cell_type": "code",
   "execution_count": null,
   "metadata": {
    "collapsed": false
   },
   "outputs": [],
   "source": []
  },
  {
   "cell_type": "code",
   "execution_count": null,
   "metadata": {
    "collapsed": false
   },
   "outputs": [],
   "source": []
  }
 ],
 "metadata": {
  "kernelspec": {
   "display_name": "Python 2",
   "language": "python",
   "name": "python2"
  },
  "language_info": {
   "codemirror_mode": {
    "name": "ipython",
    "version": 2
   },
   "file_extension": ".py",
   "mimetype": "text/x-python",
   "name": "python",
   "nbconvert_exporter": "python",
   "pygments_lexer": "ipython2",
   "version": "2.7.12"
  }
 },
 "nbformat": 4,
 "nbformat_minor": 0
}
