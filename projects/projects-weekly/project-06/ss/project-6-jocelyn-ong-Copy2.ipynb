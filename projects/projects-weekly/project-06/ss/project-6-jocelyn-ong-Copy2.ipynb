{
 "cells": [
  {
   "cell_type": "code",
   "execution_count": 7,
   "metadata": {
    "ExecuteTime": {
     "end_time": "2016-10-27T16:41:43.460996",
     "start_time": "2016-10-27T16:41:34.500616"
    },
    "collapsed": false
   },
   "outputs": [],
   "source": [
    "# import relevant libraries\n",
    "\n",
    "# basic libraries\n",
    "import pandas as pd\n",
    "import numpy as np\n",
    "\n",
    "# visualization libraries\n",
    "import matplotlib.pyplot as plt\n",
    "import seaborn as sns\n",
    "\n",
    "# machine learning libraries\n",
    "import sklearn.tree\n",
    "import sklearn.metrics\n",
    "import sklearn.model_selection\n",
    "import sklearn.linear_model\n",
    "\n",
    "# data collection libraries\n",
    "import requests\n",
    "from selenium import webdriver\n",
    "import bs4\n",
    "import imdbpie\n",
    "import json\n",
    "\n",
    "%matplotlib inline"
   ]
  },
  {
   "cell_type": "markdown",
   "metadata": {},
   "source": [
    "# Identify: Problem Statement & Goals"
   ]
  },
  {
   "cell_type": "markdown",
   "metadata": {},
   "source": [
    "**Using data from IMDB, can we build a model that predicts movie ratings based on certain inputs?**\n",
    "\n",
    "- Predict movie ratings using information about the movie (e.g. genre, length of movie etc.)\n",
    "- What are the factors that affect movie rating?"
   ]
  },
  {
   "cell_type": "markdown",
   "metadata": {},
   "source": [
    "# Acquire: Query IMDB, write results, scrape IMDB"
   ]
  },
  {
   "cell_type": "markdown",
   "metadata": {},
   "source": [
    "## Using IMDBpie"
   ]
  },
  {
   "cell_type": "code",
   "execution_count": 43,
   "metadata": {
    "ExecuteTime": {
     "end_time": "2016-10-27T15:58:08.220820",
     "start_time": "2016-10-27T15:58:08.203731"
    },
    "collapsed": false
   },
   "outputs": [],
   "source": [
    "imdb = imdbpie.Imdb()"
   ]
  },
  {
   "cell_type": "code",
   "execution_count": 44,
   "metadata": {
    "ExecuteTime": {
     "end_time": "2016-10-27T15:58:10.427336",
     "start_time": "2016-10-27T15:58:08.755454"
    },
    "collapsed": false
   },
   "outputs": [],
   "source": [
    "imdb_df = pd.read_json(json.dumps(imdb.top_250()))"
   ]
  },
  {
   "cell_type": "code",
   "execution_count": 42,
   "metadata": {
    "ExecuteTime": {
     "end_time": "2016-10-26T17:17:19.813761",
     "start_time": "2016-10-26T17:17:19.770371"
    },
    "collapsed": false
   },
   "outputs": [
    {
     "data": {
      "text/html": [
       "<div>\n",
       "<table border=\"1\" class=\"dataframe\">\n",
       "  <thead>\n",
       "    <tr style=\"text-align: right;\">\n",
       "      <th></th>\n",
       "      <th>can_rate</th>\n",
       "      <th>image</th>\n",
       "      <th>num_votes</th>\n",
       "      <th>rating</th>\n",
       "      <th>tconst</th>\n",
       "      <th>title</th>\n",
       "      <th>type</th>\n",
       "      <th>year</th>\n",
       "    </tr>\n",
       "  </thead>\n",
       "  <tbody>\n",
       "    <tr>\n",
       "      <th>0</th>\n",
       "      <td>True</td>\n",
       "      <td>{u'url': u'https://images-na.ssl-images-amazon...</td>\n",
       "      <td>1720313</td>\n",
       "      <td>9.3</td>\n",
       "      <td>tt0111161</td>\n",
       "      <td>The Shawshank Redemption</td>\n",
       "      <td>feature</td>\n",
       "      <td>1994</td>\n",
       "    </tr>\n",
       "    <tr>\n",
       "      <th>1</th>\n",
       "      <td>True</td>\n",
       "      <td>{u'url': u'https://images-na.ssl-images-amazon...</td>\n",
       "      <td>1175776</td>\n",
       "      <td>9.2</td>\n",
       "      <td>tt0068646</td>\n",
       "      <td>The Godfather</td>\n",
       "      <td>feature</td>\n",
       "      <td>1972</td>\n",
       "    </tr>\n",
       "    <tr>\n",
       "      <th>2</th>\n",
       "      <td>True</td>\n",
       "      <td>{u'url': u'https://images-na.ssl-images-amazon...</td>\n",
       "      <td>805875</td>\n",
       "      <td>9.0</td>\n",
       "      <td>tt0071562</td>\n",
       "      <td>The Godfather: Part II</td>\n",
       "      <td>feature</td>\n",
       "      <td>1974</td>\n",
       "    </tr>\n",
       "    <tr>\n",
       "      <th>3</th>\n",
       "      <td>True</td>\n",
       "      <td>{u'url': u'https://images-na.ssl-images-amazon...</td>\n",
       "      <td>1706334</td>\n",
       "      <td>9.0</td>\n",
       "      <td>tt0468569</td>\n",
       "      <td>The Dark Knight</td>\n",
       "      <td>feature</td>\n",
       "      <td>2008</td>\n",
       "    </tr>\n",
       "    <tr>\n",
       "      <th>4</th>\n",
       "      <td>True</td>\n",
       "      <td>{u'url': u'https://images-na.ssl-images-amazon...</td>\n",
       "      <td>458263</td>\n",
       "      <td>8.9</td>\n",
       "      <td>tt0050083</td>\n",
       "      <td>12 Angry Men</td>\n",
       "      <td>feature</td>\n",
       "      <td>1957</td>\n",
       "    </tr>\n",
       "  </tbody>\n",
       "</table>\n",
       "</div>"
      ],
      "text/plain": [
       "  can_rate                                              image  num_votes  \\\n",
       "0     True  {u'url': u'https://images-na.ssl-images-amazon...    1720313   \n",
       "1     True  {u'url': u'https://images-na.ssl-images-amazon...    1175776   \n",
       "2     True  {u'url': u'https://images-na.ssl-images-amazon...     805875   \n",
       "3     True  {u'url': u'https://images-na.ssl-images-amazon...    1706334   \n",
       "4     True  {u'url': u'https://images-na.ssl-images-amazon...     458263   \n",
       "\n",
       "   rating     tconst                     title     type  year  \n",
       "0     9.3  tt0111161  The Shawshank Redemption  feature  1994  \n",
       "1     9.2  tt0068646             The Godfather  feature  1972  \n",
       "2     9.0  tt0071562    The Godfather: Part II  feature  1974  \n",
       "3     9.0  tt0468569           The Dark Knight  feature  2008  \n",
       "4     8.9  tt0050083              12 Angry Men  feature  1957  "
      ]
     },
     "execution_count": 42,
     "metadata": {},
     "output_type": "execute_result"
    }
   ],
   "source": [
    "imdb_df.head()"
   ]
  },
  {
   "cell_type": "code",
   "execution_count": 135,
   "metadata": {
    "ExecuteTime": {
     "end_time": "2016-10-26T18:11:02.858729",
     "start_time": "2016-10-26T18:11:02.854307"
    },
    "collapsed": false
   },
   "outputs": [],
   "source": [
    "imdb_details = []"
   ]
  },
  {
   "cell_type": "code",
   "execution_count": 134,
   "metadata": {
    "ExecuteTime": {
     "end_time": "2016-10-26T18:10:27.665291",
     "start_time": "2016-10-26T18:10:27.660768"
    },
    "collapsed": false
   },
   "outputs": [],
   "source": [
    "#id, title, rating, num_votes, genre, stars, director, plots, length, certification"
   ]
  },
  {
   "cell_type": "code",
   "execution_count": 137,
   "metadata": {
    "ExecuteTime": {
     "end_time": "2016-10-26T18:13:06.956874",
     "start_time": "2016-10-26T18:13:03.462851"
    },
    "collapsed": false
   },
   "outputs": [],
   "source": [
    "for i in imdb_df['tconst'][:5]:\n",
    "    title = imdb.get_title_by_id(i)\n",
    "    details = [i, title.title, title.rating, title.votes,\n",
    "               title.genres, title.cast_summary, title.directors_summary, \n",
    "               title.plots, title.runtime, title.certification]\n",
    "    imdb_details.append(details)"
   ]
  },
  {
   "cell_type": "code",
   "execution_count": 138,
   "metadata": {
    "ExecuteTime": {
     "end_time": "2016-10-26T18:13:15.070047",
     "start_time": "2016-10-26T18:13:15.007671"
    },
    "collapsed": false
   },
   "outputs": [
    {
     "data": {
      "text/html": [
       "<div>\n",
       "<table border=\"1\" class=\"dataframe\">\n",
       "  <thead>\n",
       "    <tr style=\"text-align: right;\">\n",
       "      <th></th>\n",
       "      <th>0</th>\n",
       "      <th>1</th>\n",
       "      <th>2</th>\n",
       "      <th>3</th>\n",
       "      <th>4</th>\n",
       "      <th>5</th>\n",
       "      <th>6</th>\n",
       "      <th>7</th>\n",
       "      <th>8</th>\n",
       "      <th>9</th>\n",
       "    </tr>\n",
       "  </thead>\n",
       "  <tbody>\n",
       "    <tr>\n",
       "      <th>0</th>\n",
       "      <td>tt0111161</td>\n",
       "      <td>The Shawshank Redemption</td>\n",
       "      <td>9.3</td>\n",
       "      <td>1720336</td>\n",
       "      <td>[Crime, Drama]</td>\n",
       "      <td>[&lt;Person: Tim Robbins (nm0000209)&gt;, &lt;Person: M...</td>\n",
       "      <td>[&lt;Person: Frank Darabont (nm0001104)&gt;]</td>\n",
       "      <td>[Chronicles the experiences of a formerly succ...</td>\n",
       "      <td>8520</td>\n",
       "      <td>R</td>\n",
       "    </tr>\n",
       "    <tr>\n",
       "      <th>1</th>\n",
       "      <td>tt0068646</td>\n",
       "      <td>The Godfather</td>\n",
       "      <td>9.2</td>\n",
       "      <td>1175796</td>\n",
       "      <td>[Crime, Drama]</td>\n",
       "      <td>[&lt;Person: Marlon Brando (nm0000008)&gt;, &lt;Person:...</td>\n",
       "      <td>[&lt;Person: Francis Ford Coppola (nm0000338)&gt;]</td>\n",
       "      <td>[When the aging head of a famous crime family ...</td>\n",
       "      <td>10500</td>\n",
       "      <td>R</td>\n",
       "    </tr>\n",
       "    <tr>\n",
       "      <th>2</th>\n",
       "      <td>tt0071562</td>\n",
       "      <td>The Godfather: Part II</td>\n",
       "      <td>9.0</td>\n",
       "      <td>805891</td>\n",
       "      <td>[Crime, Drama]</td>\n",
       "      <td>[&lt;Person: Al Pacino (nm0000199)&gt;, &lt;Person: Rob...</td>\n",
       "      <td>[&lt;Person: Francis Ford Coppola (nm0000338)&gt;]</td>\n",
       "      <td>[The continuing saga of the Corleone crime fam...</td>\n",
       "      <td>12120</td>\n",
       "      <td>R</td>\n",
       "    </tr>\n",
       "    <tr>\n",
       "      <th>3</th>\n",
       "      <td>tt0468569</td>\n",
       "      <td>The Dark Knight</td>\n",
       "      <td>9.0</td>\n",
       "      <td>1706354</td>\n",
       "      <td>[Action, Crime, Drama, Thriller]</td>\n",
       "      <td>[&lt;Person: Christian Bale (nm0000288)&gt;, &lt;Person...</td>\n",
       "      <td>[&lt;Person: Christopher Nolan (nm0634240)&gt;]</td>\n",
       "      <td>[Set within a year after the events of Batman ...</td>\n",
       "      <td>9120</td>\n",
       "      <td>PG-13</td>\n",
       "    </tr>\n",
       "    <tr>\n",
       "      <th>4</th>\n",
       "      <td>tt0050083</td>\n",
       "      <td>12 Angry Men</td>\n",
       "      <td>8.9</td>\n",
       "      <td>458267</td>\n",
       "      <td>[Crime, Drama]</td>\n",
       "      <td>[&lt;Person: Henry Fonda (nm0000020)&gt;, &lt;Person: L...</td>\n",
       "      <td>[&lt;Person: Sidney Lumet (nm0001486)&gt;]</td>\n",
       "      <td>[The defense and the prosecution have rested a...</td>\n",
       "      <td>5760</td>\n",
       "      <td>Approved</td>\n",
       "    </tr>\n",
       "  </tbody>\n",
       "</table>\n",
       "</div>"
      ],
      "text/plain": [
       "           0                         1    2        3  \\\n",
       "0  tt0111161  The Shawshank Redemption  9.3  1720336   \n",
       "1  tt0068646             The Godfather  9.2  1175796   \n",
       "2  tt0071562    The Godfather: Part II  9.0   805891   \n",
       "3  tt0468569           The Dark Knight  9.0  1706354   \n",
       "4  tt0050083              12 Angry Men  8.9   458267   \n",
       "\n",
       "                                  4  \\\n",
       "0                    [Crime, Drama]   \n",
       "1                    [Crime, Drama]   \n",
       "2                    [Crime, Drama]   \n",
       "3  [Action, Crime, Drama, Thriller]   \n",
       "4                    [Crime, Drama]   \n",
       "\n",
       "                                                   5  \\\n",
       "0  [<Person: Tim Robbins (nm0000209)>, <Person: M...   \n",
       "1  [<Person: Marlon Brando (nm0000008)>, <Person:...   \n",
       "2  [<Person: Al Pacino (nm0000199)>, <Person: Rob...   \n",
       "3  [<Person: Christian Bale (nm0000288)>, <Person...   \n",
       "4  [<Person: Henry Fonda (nm0000020)>, <Person: L...   \n",
       "\n",
       "                                              6  \\\n",
       "0        [<Person: Frank Darabont (nm0001104)>]   \n",
       "1  [<Person: Francis Ford Coppola (nm0000338)>]   \n",
       "2  [<Person: Francis Ford Coppola (nm0000338)>]   \n",
       "3     [<Person: Christopher Nolan (nm0634240)>]   \n",
       "4          [<Person: Sidney Lumet (nm0001486)>]   \n",
       "\n",
       "                                                   7      8         9  \n",
       "0  [Chronicles the experiences of a formerly succ...   8520         R  \n",
       "1  [When the aging head of a famous crime family ...  10500         R  \n",
       "2  [The continuing saga of the Corleone crime fam...  12120         R  \n",
       "3  [Set within a year after the events of Batman ...   9120     PG-13  \n",
       "4  [The defense and the prosecution have rested a...   5760  Approved  "
      ]
     },
     "execution_count": 138,
     "metadata": {},
     "output_type": "execute_result"
    }
   ],
   "source": [
    "pd.DataFrame(imdb_details)"
   ]
  },
  {
   "cell_type": "markdown",
   "metadata": {},
   "source": [
    "## Bonus: Scrape with BeautifulSoup"
   ]
  },
  {
   "cell_type": "markdown",
   "metadata": {},
   "source": [
    "We want there to be as even a mix of movies as possible.\n",
    "\n",
    "- Consider all genres\n",
    "- Consider highest and lowest ratings, and if possible, some in the middle\n",
    "- Consider highest and lowest number of votes, and if possible, some in the middle"
   ]
  },
  {
   "cell_type": "markdown",
   "metadata": {},
   "source": [
    "Note: Each movie has a unique IMDB ID which can be used to search for it in the database."
   ]
  },
  {
   "cell_type": "markdown",
   "metadata": {},
   "source": [
    "### Defining our functions and variables"
   ]
  },
  {
   "cell_type": "code",
   "execution_count": 8,
   "metadata": {
    "ExecuteTime": {
     "end_time": "2016-10-27T16:41:50.018415",
     "start_time": "2016-10-27T16:41:50.013554"
    },
    "collapsed": false
   },
   "outputs": [],
   "source": [
    "# path to phantomjs\n",
    "phan_path = '//Applications/phantomjs'"
   ]
  },
  {
   "cell_type": "code",
   "execution_count": 9,
   "metadata": {
    "ExecuteTime": {
     "end_time": "2016-10-27T16:41:50.571566",
     "start_time": "2016-10-27T16:41:50.565053"
    },
    "collapsed": false
   },
   "outputs": [],
   "source": [
    "# url templates\n",
    "low_ratings = 'http://www.imdb.com/search/title?genres={}&title_type=feature&sort=user_rating,asc&page={}&ref_=adv_nxt'\n",
    "high_ratings = 'http://www.imdb.com/search/title?genres={}&title_type=feature&sort=user_rating,desc&page={}&ref_=adv_nxt'\n",
    "high_num = 'http://www.imdb.com/search/title?genres={}&title_type=feature&sort=num_votes,desc&page={}&ref_=adv_nxt'\n",
    "low_num = 'http://www.imdb.com/search/title?genres={}&title_type=feature&sort=num_votes,asc&page={}&ref_=adv_nxt'\n",
    "api_url = 'http://www.omdbapi.com/?i={}&plot=full&r=json'"
   ]
  },
  {
   "cell_type": "code",
   "execution_count": 10,
   "metadata": {
    "ExecuteTime": {
     "end_time": "2016-10-27T16:41:51.331142",
     "start_time": "2016-10-27T16:41:51.324987"
    },
    "collapsed": false
   },
   "outputs": [],
   "source": [
    "# variables\n",
    "all_genres = []\n",
    "all_ids = []\n",
    "url_list = [low_ratings, high_ratings, high_num, low_num]"
   ]
  },
  {
   "cell_type": "code",
   "execution_count": 11,
   "metadata": {
    "ExecuteTime": {
     "end_time": "2016-10-27T16:41:51.931498",
     "start_time": "2016-10-27T16:41:51.925304"
    },
    "collapsed": false
   },
   "outputs": [],
   "source": [
    "# function to create a soup variable\n",
    "def create_soup(url):\n",
    "    driver = webdriver.PhantomJS(executable_path=phan_path)\n",
    "    driver.get(url)\n",
    "    soup = bs4.BeautifulSoup(driver.page_source, 'lxml')\n",
    "    return soup"
   ]
  },
  {
   "cell_type": "code",
   "execution_count": 12,
   "metadata": {
    "ExecuteTime": {
     "end_time": "2016-10-27T16:41:52.758050",
     "start_time": "2016-10-27T16:41:52.749908"
    },
    "collapsed": false
   },
   "outputs": [],
   "source": [
    "# function to get list of genres from IMDB\n",
    "def get_genre_list():\n",
    "    soup = create_soup('http://www.imdb.com/genre/')\n",
    "    genre_list = []\n",
    "    for i in soup.findAll('a'):\n",
    "        try:\n",
    "            if 'genre/' in i['href'] and 'genre/?' not in i['href'] and i.find('span'):\n",
    "                genre_list.append(i.text.split()[0])\n",
    "        except:\n",
    "            pass\n",
    "    return genre_list"
   ]
  },
  {
   "cell_type": "code",
   "execution_count": 13,
   "metadata": {
    "ExecuteTime": {
     "end_time": "2016-10-27T16:41:53.248434",
     "start_time": "2016-10-27T16:41:53.234590"
    },
    "collapsed": false
   },
   "outputs": [],
   "source": [
    "# function to get a list of IDs from each genre\n",
    "def get_id(genre, target_url,page):\n",
    "    soup = create_soup(target_url.format(genre, page))\n",
    "    ids = []\n",
    "    count = 5\n",
    "    for i in soup.findAll('a'):\n",
    "        try:\n",
    "            if count > 0 and 'title/tt' in i['href'] and 'http' not in i['href']:\n",
    "#                 print i\n",
    "                try:\n",
    "                    for j in i['href'].split('/'):\n",
    "                        if 'tt' in j and '_' not in j:\n",
    "                            ids.append(j.strip())\n",
    "                    count -= 1\n",
    "                except:\n",
    "                    pass\n",
    "        except:\n",
    "            pass\n",
    "    return ids"
   ]
  },
  {
   "cell_type": "code",
   "execution_count": 29,
   "metadata": {
    "ExecuteTime": {
     "end_time": "2016-10-27T16:43:49.674597",
     "start_time": "2016-10-27T16:43:49.668226"
    },
    "collapsed": true
   },
   "outputs": [],
   "source": [
    "def get_content(id_num):\n",
    "    r = requests.get(api_url.format(id_num))\n",
    "#     tmp = pd.DataFrame(json.loads(r.text), index=[0])\n",
    "    tmp = json.loads(r.text)\n",
    "    return tmp"
   ]
  },
  {
   "cell_type": "raw",
   "metadata": {
    "ExecuteTime": {
     "end_time": "2016-10-27T16:44:32.063953",
     "start_time": "2016-10-27T16:44:31.406119"
    }
   },
   "source": [
    "pd.DataFrame([get_content('tt2245137'), get_content('tt0427637')])"
   ]
  },
  {
   "cell_type": "code",
   "execution_count": 34,
   "metadata": {
    "ExecuteTime": {
     "end_time": "2016-10-27T16:45:47.353791",
     "start_time": "2016-10-27T16:45:42.675478"
    },
    "collapsed": false
   },
   "outputs": [],
   "source": [
    "all_genres = get_genre_list()"
   ]
  },
  {
   "cell_type": "code",
   "execution_count": 35,
   "metadata": {
    "ExecuteTime": {
     "end_time": "2016-10-27T16:57:31.678571",
     "start_time": "2016-10-27T16:45:48.146842"
    },
    "collapsed": false
   },
   "outputs": [
    {
     "name": "stdout",
     "output_type": "stream",
     "text": [
      "Action 5 5 5 5 5 5 5 5 Adventure 5 5 5 5 5 5 5 5 Animation 5 5 5 5 5 5 5 5 Biography 5 5 5 5 5 5 5 5 Comedy 5 5 5 5 5 5 5 5 Crime 5 5 5 5 5 5 5 5 Documentary 0 0 0 0 0 0 0 0 Drama 5 5 5 5 5 5 5 5 Family 5 5 5 5 5 5 5 5 Fantasy 5 5 5 5 5 5 5 5 Film-Noir 5 5 5 5 5 5 5 5 History 5 5 5 5 5 5 5 5 Horror 5 5 5 5 5 5 5 5 Music 5 5 5 5 5 5 5 5 Musical 5 5 5 5 5 5 5 5 Mystery 5 5 5 5 5 5 5 5 Romance 5 5 5 5 5 5 5 5 Sci-Fi 5 5 5 5 5 5 5 5 Sport 5 5 5 5 5 5 5 5 Thriller 5 5 5 5 5 5 5 5 War 5 5 5 5 5 5 5 5 Western 5 5 5 5 5 5 5 5\n"
     ]
    }
   ],
   "source": [
    "for i in all_genres:\n",
    "    print i, \n",
    "    for j in range(len(url_list)):\n",
    "        for k in [1,15]:\n",
    "            id_l = get_id(i,url_list[j],k)\n",
    "            print len(id_l),\n",
    "            all_ids.extend(id_l)"
   ]
  },
  {
   "cell_type": "code",
   "execution_count": 93,
   "metadata": {
    "ExecuteTime": {
     "end_time": "2016-10-27T16:29:45.944407",
     "start_time": "2016-10-27T16:29:45.938227"
    },
    "collapsed": false
   },
   "outputs": [],
   "source": [
    "all_ids = set(all_ids)"
   ]
  },
  {
   "cell_type": "code",
   "execution_count": 94,
   "metadata": {
    "ExecuteTime": {
     "end_time": "2016-10-27T16:29:48.633985",
     "start_time": "2016-10-27T16:29:48.414979"
    },
    "collapsed": false
   },
   "outputs": [],
   "source": [
    "df = pd.DataFrame([get_content(i) for i in all_ids])"
   ]
  },
  {
   "cell_type": "code",
   "execution_count": 95,
   "metadata": {
    "ExecuteTime": {
     "end_time": "2016-10-27T16:29:49.581302",
     "start_time": "2016-10-27T16:29:49.504142"
    },
    "collapsed": false
   },
   "outputs": [
    {
     "data": {
      "text/html": [
       "<div>\n",
       "<table border=\"1\" class=\"dataframe\">\n",
       "  <thead>\n",
       "    <tr style=\"text-align: right;\">\n",
       "      <th></th>\n",
       "      <th>id</th>\n",
       "    </tr>\n",
       "  </thead>\n",
       "  <tbody>\n",
       "    <tr>\n",
       "      <th>0</th>\n",
       "      <td>tt2582802</td>\n",
       "    </tr>\n",
       "    <tr>\n",
       "      <th>1</th>\n",
       "      <td>tt1620487</td>\n",
       "    </tr>\n",
       "    <tr>\n",
       "      <th>2</th>\n",
       "      <td>tt4061854</td>\n",
       "    </tr>\n",
       "    <tr>\n",
       "      <th>3</th>\n",
       "      <td>tt2245137</td>\n",
       "    </tr>\n",
       "    <tr>\n",
       "      <th>4</th>\n",
       "      <td>tt0427637</td>\n",
       "    </tr>\n",
       "  </tbody>\n",
       "</table>\n",
       "</div>"
      ],
      "text/plain": [
       "          id\n",
       "0  tt2582802\n",
       "1  tt1620487\n",
       "2  tt4061854\n",
       "3  tt2245137\n",
       "4  tt0427637"
      ]
     },
     "execution_count": 95,
     "metadata": {},
     "output_type": "execute_result"
    }
   ],
   "source": [
    "df.head()"
   ]
  },
  {
   "cell_type": "code",
   "execution_count": null,
   "metadata": {
    "collapsed": true
   },
   "outputs": [],
   "source": []
  },
  {
   "cell_type": "code",
   "execution_count": null,
   "metadata": {
    "collapsed": true
   },
   "outputs": [],
   "source": []
  },
  {
   "cell_type": "code",
   "execution_count": null,
   "metadata": {
    "collapsed": true
   },
   "outputs": [],
   "source": []
  },
  {
   "cell_type": "code",
   "execution_count": null,
   "metadata": {
    "collapsed": true
   },
   "outputs": [],
   "source": []
  },
  {
   "cell_type": "code",
   "execution_count": null,
   "metadata": {
    "collapsed": true
   },
   "outputs": [],
   "source": []
  },
  {
   "cell_type": "code",
   "execution_count": null,
   "metadata": {
    "collapsed": true
   },
   "outputs": [],
   "source": []
  },
  {
   "cell_type": "raw",
   "metadata": {
    "ExecuteTime": {
     "end_time": "2016-10-27T16:02:31.554219",
     "start_time": "2016-10-27T16:02:31.546036"
    },
    "collapsed": false
   },
   "source": [
    "def get_title(id_num):\n",
    "    soup = create_soup(main_url.format(id_num))\n",
    "\n",
    "    # Get title of the movie\n",
    "    try:\n",
    "        title = soup.find('title').text\n",
    "    except:\n",
    "        title = ''\n",
    "\n",
    "    return title"
   ]
  },
  {
   "cell_type": "raw",
   "metadata": {
    "ExecuteTime": {
     "end_time": "2016-10-27T15:58:20.217188",
     "start_time": "2016-10-27T15:58:20.209442"
    },
    "collapsed": false
   },
   "source": [
    "def get_genres(id_num):\n",
    "    soup = create_soup(main_url.format(id_num))\n",
    "    # Get genre(s) of the movie\n",
    "    genres = []\n",
    "    for i in soup.find('div', class_='subtext').findAll('span', itemprop='genre'):\n",
    "        genres.append(i.text)\n",
    "    genres = ' '.join(genres)\n",
    "\n",
    "    return genres"
   ]
  },
  {
   "cell_type": "raw",
   "metadata": {
    "ExecuteTime": {
     "end_time": "2016-10-27T15:58:20.633624",
     "start_time": "2016-10-27T15:58:20.600625"
    },
    "collapsed": false
   },
   "source": [
    "def get_rating(id_num):\n",
    "    soup = create_soup(main_url.format(id_num))\n",
    "    # Get rating of the movie\n",
    "    try:\n",
    "        rating = soup.find('div', class_='ratingValue').find('strong')['title'].split()[0]\n",
    "    except:\n",
    "        rating = ''\n",
    "\n",
    "    return rating"
   ]
  },
  {
   "cell_type": "raw",
   "metadata": {
    "ExecuteTime": {
     "end_time": "2016-10-27T15:58:20.946509",
     "start_time": "2016-10-27T15:58:20.936778"
    },
    "collapsed": false
   },
   "source": [
    "def get_num_rating(id_num):\n",
    "    soup = create_soup(main_url.format(id_num))\n",
    "    \n",
    "    # Get number of user ratings\n",
    "    try:\n",
    "        num_rating = soup.find('div', class_='ratingValue').find('strong')['title'].split()[-3]\n",
    "    except:\n",
    "        num_rating = ''\n",
    "\n",
    "    return num_rating"
   ]
  },
  {
   "cell_type": "raw",
   "metadata": {
    "ExecuteTime": {
     "end_time": "2016-10-27T15:58:21.494530",
     "start_time": "2016-10-27T15:58:21.487238"
    },
    "collapsed": false
   },
   "source": [
    "def get_length(id_num):\n",
    "    soup = create_soup(main_url.format(id_num))\n",
    "    \n",
    "    # Get length of movie\n",
    "    try:\n",
    "        length = soup.find('div', class_='subtext').find('time').text.strip()\n",
    "    except:\n",
    "        length = ''\n",
    "\n",
    "    return length"
   ]
  },
  {
   "cell_type": "raw",
   "metadata": {
    "ExecuteTime": {
     "end_time": "2016-10-27T15:58:21.506785",
     "start_time": "2016-10-27T15:58:21.498361"
    },
    "collapsed": false
   },
   "source": [
    "def get_cert(id_num):\n",
    "    soup = create_soup(main_url.format(id_num))\n",
    "    \n",
    "    # Get certification\n",
    "    try:\n",
    "        certification = soup.find('span', itemprop='contentRating').text\n",
    "    except:\n",
    "        certification = ''\n",
    "\n",
    "    return certification"
   ]
  },
  {
   "cell_type": "raw",
   "metadata": {
    "ExecuteTime": {
     "end_time": "2016-10-27T15:58:21.764403",
     "start_time": "2016-10-27T15:58:21.751457"
    },
    "collapsed": false
   },
   "source": [
    "def get_directors(id_num):\n",
    "    soup = create_soup(main_url.format(id_num))\n",
    "    \n",
    "    # Get directors, names are linked by underscores\n",
    "    directors = []\n",
    "    for j in soup.findAll('div', class_='credit_summary_item'):\n",
    "        if 'Direct' in j.find('h4').text:\n",
    "            for i in j.findAll('span', itemprop='name'):\n",
    "                directors.append('_'.join(i.text.split()))\n",
    "    directors = ' '.join(directors)\n",
    "\n",
    "    return directors"
   ]
  },
  {
   "cell_type": "raw",
   "metadata": {
    "ExecuteTime": {
     "end_time": "2016-10-27T15:58:22.078405",
     "start_time": "2016-10-27T15:58:22.066561"
    },
    "collapsed": false
   },
   "source": [
    "def get_writers(id_num):\n",
    "    soup = create_soup(main_url.format(id_num))\n",
    "    \n",
    "    # Get writers, names are linked by underscores\n",
    "    writers = []\n",
    "    for j in soup.findAll('div', class_='credit_summary_item'):\n",
    "        if 'Writ' in j.find('h4').text:\n",
    "            for i in j.findAll('span', itemprop='name'):\n",
    "                writers.append('_'.join(i.text.split()))\n",
    "    writers = ' '.join(writers)\n",
    "    return writers"
   ]
  },
  {
   "cell_type": "raw",
   "metadata": {
    "ExecuteTime": {
     "end_time": "2016-10-27T15:58:22.426415",
     "start_time": "2016-10-27T15:58:22.415818"
    },
    "collapsed": false
   },
   "source": [
    "def get_stars(id_num):\n",
    "    soup = create_soup(main_url.format(id_num))\n",
    "\n",
    "    # Get stars, names are linked by underscores\n",
    "    stars = []\n",
    "    for j in soup.findAll('div', class_='credit_summary_item'):\n",
    "        if 'Star' in j.find('h4').text:\n",
    "            for i in j.findAll('span', itemprop='name'):\n",
    "                stars.append('_'.join(i.text.split()))\n",
    "    stars = ' '.join(stars)\n",
    "    return stars"
   ]
  },
  {
   "cell_type": "raw",
   "metadata": {
    "ExecuteTime": {
     "end_time": "2016-10-27T15:58:22.747467",
     "start_time": "2016-10-27T15:58:22.737131"
    },
    "collapsed": false
   },
   "source": [
    "def get_plot(id_num):\n",
    "    soup = create_soup(main_url.format(id_num))\n",
    "\n",
    "    # Get one-liner for the movie\n",
    "    plot = []\n",
    "    try:\n",
    "        plot.append(soup.find('div', class_='summary_text').text.strip())\n",
    "    except:\n",
    "        pass\n",
    "    \n",
    "    soup = create_soup(summary_url.format(id_num))\n",
    "    for j in soup.findAll('p', class_='plotSummary'):\n",
    "        plot.append(j.text.strip())\n",
    "    plot = ' '.join(plot)\n",
    "    return plot"
   ]
  },
  {
   "cell_type": "raw",
   "metadata": {
    "ExecuteTime": {
     "end_time": "2016-10-27T15:58:23.041080",
     "start_time": "2016-10-27T15:58:23.031368"
    },
    "collapsed": false
   },
   "source": [
    "def get_keywords(id_num):\n",
    "    soup = create_soup(keywords_url.format(id_num))\n",
    "\n",
    "    keywords = []\n",
    "    for j in soup.findAll('div', class_='sodatext'):\n",
    "        keywords.append('_'.join(j.text.strip().split()))\n",
    "    keywords = ' '.join(keywords)\n",
    "\n",
    "    return keywords"
   ]
  },
  {
   "cell_type": "raw",
   "metadata": {
    "ExecuteTime": {
     "end_time": "2016-10-27T15:58:23.358176",
     "start_time": "2016-10-27T15:58:23.344929"
    },
    "collapsed": false
   },
   "source": [
    "# Combine content functions\n",
    "def get_content(id_num):\n",
    "    title = get_title(id_num)\n",
    "    length = get_length(id_num)\n",
    "    rating = get_rating(id_num)\n",
    "    num_rating = get_num_rating(id_num)\n",
    "    cert = get_cert(id_num)\n",
    "    directors = get_directors(id_num)\n",
    "    writers = get_writers(id_num)\n",
    "    stars = get_stars(id_num)\n",
    "    plot = get_plot(id_num)\n",
    "    keywords = get_keywords(id_num)\n",
    "    return [title, length, cert, directors, writers, stars, plot, keywords, rating, num_rating]"
   ]
  },
  {
   "cell_type": "code",
   "execution_count": 96,
   "metadata": {
    "ExecuteTime": {
     "end_time": "2016-10-27T16:30:03.213495",
     "start_time": "2016-10-27T16:30:03.205977"
    },
    "collapsed": false
   },
   "outputs": [
    {
     "data": {
      "text/plain": [
       "(618, 1)"
      ]
     },
     "execution_count": 96,
     "metadata": {},
     "output_type": "execute_result"
    }
   ],
   "source": [
    "df.shape"
   ]
  },
  {
   "cell_type": "code",
   "execution_count": 58,
   "metadata": {
    "ExecuteTime": {
     "end_time": "2016-10-26T23:00:46.390284",
     "start_time": "2016-10-26T23:00:46.326008"
    },
    "collapsed": false
   },
   "outputs": [],
   "source": [
    "df['random'] = [np.random.randint(0,100) for i in range(df.shape[0])]"
   ]
  },
  {
   "cell_type": "code",
   "execution_count": 59,
   "metadata": {
    "ExecuteTime": {
     "end_time": "2016-10-26T23:00:47.385867",
     "start_time": "2016-10-26T23:00:47.359974"
    },
    "collapsed": false
   },
   "outputs": [
    {
     "data": {
      "text/plain": [
       "93    86\n",
       "44    86\n",
       "55    83\n",
       "16    82\n",
       "73    80\n",
       "79    80\n",
       "78    79\n",
       "56    78\n",
       "82    78\n",
       "85    77\n",
       "75    76\n",
       "42    76\n",
       "20    76\n",
       "31    75\n",
       "14    75\n",
       "98    75\n",
       "71    74\n",
       "6     74\n",
       "51    73\n",
       "15    73\n",
       "34    73\n",
       "35    72\n",
       "26    72\n",
       "54    72\n",
       "94    72\n",
       "86    71\n",
       "29    71\n",
       "46    70\n",
       "5     70\n",
       "60    70\n",
       "      ..\n",
       "36    62\n",
       "65    62\n",
       "92    62\n",
       "12    62\n",
       "88    62\n",
       "17    62\n",
       "3     61\n",
       "45    61\n",
       "23    60\n",
       "47    60\n",
       "48    60\n",
       "13    60\n",
       "83    60\n",
       "81    60\n",
       "10    60\n",
       "49    59\n",
       "68    58\n",
       "33    58\n",
       "74    56\n",
       "4     56\n",
       "24    56\n",
       "18    55\n",
       "77    55\n",
       "40    55\n",
       "27    55\n",
       "76    54\n",
       "9     54\n",
       "70    54\n",
       "96    52\n",
       "58    52\n",
       "Name: random, dtype: int64"
      ]
     },
     "execution_count": 59,
     "metadata": {},
     "output_type": "execute_result"
    }
   ],
   "source": [
    "df['random'].value_counts()"
   ]
  },
  {
   "cell_type": "code",
   "execution_count": null,
   "metadata": {
    "collapsed": false
   },
   "outputs": [],
   "source": []
  },
  {
   "cell_type": "code",
   "execution_count": null,
   "metadata": {
    "collapsed": false
   },
   "outputs": [],
   "source": []
  },
  {
   "cell_type": "code",
   "execution_count": null,
   "metadata": {
    "collapsed": false
   },
   "outputs": [],
   "source": []
  },
  {
   "cell_type": "code",
   "execution_count": null,
   "metadata": {
    "collapsed": false
   },
   "outputs": [],
   "source": []
  },
  {
   "cell_type": "code",
   "execution_count": null,
   "metadata": {
    "collapsed": false
   },
   "outputs": [],
   "source": []
  },
  {
   "cell_type": "code",
   "execution_count": null,
   "metadata": {
    "collapsed": false
   },
   "outputs": [],
   "source": []
  },
  {
   "cell_type": "code",
   "execution_count": null,
   "metadata": {
    "collapsed": false
   },
   "outputs": [],
   "source": []
  },
  {
   "cell_type": "markdown",
   "metadata": {},
   "source": [
    "# Mine: Rename & describe data"
   ]
  },
  {
   "cell_type": "markdown",
   "metadata": {},
   "source": [
    "# Refine: Visualize data\n",
    "Bonus: Use multiple data viz tools"
   ]
  },
  {
   "cell_type": "markdown",
   "metadata": {},
   "source": [
    "# Model: Define training set"
   ]
  },
  {
   "cell_type": "markdown",
   "metadata": {},
   "source": [
    "# Model: Fit and evaluate model\n",
    "Bonus: How is model at risk of overfitting?"
   ]
  },
  {
   "cell_type": "markdown",
   "metadata": {},
   "source": [
    "# Present: Describe findings in blog post: summary, model, recommendations"
   ]
  },
  {
   "cell_type": "code",
   "execution_count": null,
   "metadata": {
    "collapsed": false
   },
   "outputs": [],
   "source": []
  },
  {
   "cell_type": "code",
   "execution_count": null,
   "metadata": {
    "collapsed": false
   },
   "outputs": [],
   "source": []
  }
 ],
 "metadata": {
  "kernelspec": {
   "display_name": "Python 2",
   "language": "python",
   "name": "python2"
  },
  "language_info": {
   "codemirror_mode": {
    "name": "ipython",
    "version": 2
   },
   "file_extension": ".py",
   "mimetype": "text/x-python",
   "name": "python",
   "nbconvert_exporter": "python",
   "pygments_lexer": "ipython2",
   "version": "2.7.12"
  }
 },
 "nbformat": 4,
 "nbformat_minor": 0
}
