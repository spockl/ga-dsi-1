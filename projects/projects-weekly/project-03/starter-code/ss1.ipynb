{
 "cells": [
  {
   "cell_type": "markdown",
   "metadata": {
    "slideshow": {
     "slide_type": "slide"
    }
   },
   "source": [
    "# Getting started\n",
    "\n",
    "Once you've chosen your scenario, download the data from [the Iowa website](https://data.iowa.gov/Economy/Iowa-Liquor-Sales/m3tr-qhgy) in csv format. Start by loading the data with pandas. You may need to parse the date columns appropriately."
   ]
  },
  {
   "cell_type": "code",
   "execution_count": 227,
   "metadata": {
    "ExecuteTime": {
     "end_time": "2016-10-07T17:39:20.790999",
     "start_time": "2016-10-07T17:39:20.672567"
    },
    "collapsed": false,
    "slideshow": {
     "slide_type": "slide"
    }
   },
   "outputs": [],
   "source": [
    "# Import relevant libraries\n",
    "import pandas as pd\n",
    "import numpy as np\n",
    "import seaborn as sns\n",
    "import matplotlib.pyplot as plt\n",
    "%matplotlib inline\n",
    "from sklearn import linear_model"
   ]
  },
  {
   "cell_type": "code",
   "execution_count": 228,
   "metadata": {
    "ExecuteTime": {
     "end_time": "2016-10-07T17:39:21.999893",
     "start_time": "2016-10-07T17:39:20.793880"
    },
    "collapsed": false,
    "slideshow": {
     "slide_type": "-"
    }
   },
   "outputs": [],
   "source": [
    "## Load the data into a DataFrame\n",
    "df = pd.read_csv('/Users/stel/joce/data_science/project-3-datasets/Iowa_Liquor_sales_sample_10pct.csv')"
   ]
  },
  {
   "cell_type": "code",
   "execution_count": 229,
   "metadata": {
    "ExecuteTime": {
     "end_time": "2016-10-07T17:39:22.062186",
     "start_time": "2016-10-07T17:39:22.002725"
    },
    "collapsed": false,
    "slideshow": {
     "slide_type": "skip"
    }
   },
   "outputs": [
    {
     "data": {
      "text/html": [
       "<div>\n",
       "<table border=\"1\" class=\"dataframe\">\n",
       "  <thead>\n",
       "    <tr style=\"text-align: right;\">\n",
       "      <th></th>\n",
       "      <th>Date</th>\n",
       "      <th>Store Number</th>\n",
       "      <th>City</th>\n",
       "      <th>Zip Code</th>\n",
       "      <th>County Number</th>\n",
       "      <th>County</th>\n",
       "      <th>Category</th>\n",
       "      <th>Category Name</th>\n",
       "      <th>Vendor Number</th>\n",
       "      <th>Item Number</th>\n",
       "      <th>Item Description</th>\n",
       "      <th>Bottle Volume (ml)</th>\n",
       "      <th>State Bottle Cost</th>\n",
       "      <th>State Bottle Retail</th>\n",
       "      <th>Bottles Sold</th>\n",
       "      <th>Sale (Dollars)</th>\n",
       "      <th>Volume Sold (Liters)</th>\n",
       "      <th>Volume Sold (Gallons)</th>\n",
       "    </tr>\n",
       "  </thead>\n",
       "  <tbody>\n",
       "    <tr>\n",
       "      <th>0</th>\n",
       "      <td>11/04/2015</td>\n",
       "      <td>3717</td>\n",
       "      <td>SUMNER</td>\n",
       "      <td>50674</td>\n",
       "      <td>9.0</td>\n",
       "      <td>Bremer</td>\n",
       "      <td>1051100.0</td>\n",
       "      <td>APRICOT BRANDIES</td>\n",
       "      <td>55</td>\n",
       "      <td>54436</td>\n",
       "      <td>Mr. Boston Apricot Brandy</td>\n",
       "      <td>750</td>\n",
       "      <td>$4.50</td>\n",
       "      <td>$6.75</td>\n",
       "      <td>12</td>\n",
       "      <td>$81.00</td>\n",
       "      <td>9.0</td>\n",
       "      <td>2.38</td>\n",
       "    </tr>\n",
       "    <tr>\n",
       "      <th>1</th>\n",
       "      <td>03/02/2016</td>\n",
       "      <td>2614</td>\n",
       "      <td>DAVENPORT</td>\n",
       "      <td>52807</td>\n",
       "      <td>82.0</td>\n",
       "      <td>Scott</td>\n",
       "      <td>1011100.0</td>\n",
       "      <td>BLENDED WHISKIES</td>\n",
       "      <td>395</td>\n",
       "      <td>27605</td>\n",
       "      <td>Tin Cup</td>\n",
       "      <td>750</td>\n",
       "      <td>$13.75</td>\n",
       "      <td>$20.63</td>\n",
       "      <td>2</td>\n",
       "      <td>$41.26</td>\n",
       "      <td>1.5</td>\n",
       "      <td>0.40</td>\n",
       "    </tr>\n",
       "    <tr>\n",
       "      <th>2</th>\n",
       "      <td>02/11/2016</td>\n",
       "      <td>2106</td>\n",
       "      <td>CEDAR FALLS</td>\n",
       "      <td>50613</td>\n",
       "      <td>7.0</td>\n",
       "      <td>Black Hawk</td>\n",
       "      <td>1011200.0</td>\n",
       "      <td>STRAIGHT BOURBON WHISKIES</td>\n",
       "      <td>65</td>\n",
       "      <td>19067</td>\n",
       "      <td>Jim Beam</td>\n",
       "      <td>1000</td>\n",
       "      <td>$12.59</td>\n",
       "      <td>$18.89</td>\n",
       "      <td>24</td>\n",
       "      <td>$453.36</td>\n",
       "      <td>24.0</td>\n",
       "      <td>6.34</td>\n",
       "    </tr>\n",
       "  </tbody>\n",
       "</table>\n",
       "</div>"
      ],
      "text/plain": [
       "         Date  Store Number         City Zip Code  County Number      County  \\\n",
       "0  11/04/2015          3717       SUMNER    50674            9.0      Bremer   \n",
       "1  03/02/2016          2614    DAVENPORT    52807           82.0       Scott   \n",
       "2  02/11/2016          2106  CEDAR FALLS    50613            7.0  Black Hawk   \n",
       "\n",
       "    Category              Category Name  Vendor Number  Item Number  \\\n",
       "0  1051100.0           APRICOT BRANDIES             55        54436   \n",
       "1  1011100.0           BLENDED WHISKIES            395        27605   \n",
       "2  1011200.0  STRAIGHT BOURBON WHISKIES             65        19067   \n",
       "\n",
       "            Item Description  Bottle Volume (ml) State Bottle Cost  \\\n",
       "0  Mr. Boston Apricot Brandy                 750             $4.50   \n",
       "1                    Tin Cup                 750            $13.75   \n",
       "2                   Jim Beam                1000            $12.59   \n",
       "\n",
       "  State Bottle Retail  Bottles Sold Sale (Dollars)  Volume Sold (Liters)  \\\n",
       "0               $6.75            12         $81.00                   9.0   \n",
       "1              $20.63             2         $41.26                   1.5   \n",
       "2              $18.89            24        $453.36                  24.0   \n",
       "\n",
       "   Volume Sold (Gallons)  \n",
       "0                   2.38  \n",
       "1                   0.40  \n",
       "2                   6.34  "
      ]
     },
     "execution_count": 229,
     "metadata": {},
     "output_type": "execute_result"
    }
   ],
   "source": [
    "df.head(3)"
   ]
  },
  {
   "cell_type": "code",
   "execution_count": 230,
   "metadata": {
    "ExecuteTime": {
     "end_time": "2016-10-07T17:39:23.970407",
     "start_time": "2016-10-07T17:39:22.068232"
    },
    "collapsed": false,
    "slideshow": {
     "slide_type": "-"
    }
   },
   "outputs": [],
   "source": [
    "## Transform the dates column\n",
    "df[\"Date\"] = pd.to_datetime(df[\"Date\"], format='%m/%d/%Y')"
   ]
  },
  {
   "cell_type": "code",
   "execution_count": 231,
   "metadata": {
    "ExecuteTime": {
     "end_time": "2016-10-07T17:39:24.030604",
     "start_time": "2016-10-07T17:39:23.972511"
    },
    "collapsed": false,
    "slideshow": {
     "slide_type": "skip"
    }
   },
   "outputs": [
    {
     "data": {
      "text/html": [
       "<div>\n",
       "<table border=\"1\" class=\"dataframe\">\n",
       "  <thead>\n",
       "    <tr style=\"text-align: right;\">\n",
       "      <th></th>\n",
       "      <th>Date</th>\n",
       "      <th>Store Number</th>\n",
       "      <th>City</th>\n",
       "      <th>Zip Code</th>\n",
       "      <th>County Number</th>\n",
       "      <th>County</th>\n",
       "      <th>Category</th>\n",
       "      <th>Category Name</th>\n",
       "      <th>Vendor Number</th>\n",
       "      <th>Item Number</th>\n",
       "      <th>Item Description</th>\n",
       "      <th>Bottle Volume (ml)</th>\n",
       "      <th>State Bottle Cost</th>\n",
       "      <th>State Bottle Retail</th>\n",
       "      <th>Bottles Sold</th>\n",
       "      <th>Sale (Dollars)</th>\n",
       "      <th>Volume Sold (Liters)</th>\n",
       "      <th>Volume Sold (Gallons)</th>\n",
       "    </tr>\n",
       "  </thead>\n",
       "  <tbody>\n",
       "    <tr>\n",
       "      <th>0</th>\n",
       "      <td>2015-11-04</td>\n",
       "      <td>3717</td>\n",
       "      <td>SUMNER</td>\n",
       "      <td>50674</td>\n",
       "      <td>9.0</td>\n",
       "      <td>Bremer</td>\n",
       "      <td>1051100.0</td>\n",
       "      <td>APRICOT BRANDIES</td>\n",
       "      <td>55</td>\n",
       "      <td>54436</td>\n",
       "      <td>Mr. Boston Apricot Brandy</td>\n",
       "      <td>750</td>\n",
       "      <td>$4.50</td>\n",
       "      <td>$6.75</td>\n",
       "      <td>12</td>\n",
       "      <td>$81.00</td>\n",
       "      <td>9.0</td>\n",
       "      <td>2.38</td>\n",
       "    </tr>\n",
       "    <tr>\n",
       "      <th>1</th>\n",
       "      <td>2016-03-02</td>\n",
       "      <td>2614</td>\n",
       "      <td>DAVENPORT</td>\n",
       "      <td>52807</td>\n",
       "      <td>82.0</td>\n",
       "      <td>Scott</td>\n",
       "      <td>1011100.0</td>\n",
       "      <td>BLENDED WHISKIES</td>\n",
       "      <td>395</td>\n",
       "      <td>27605</td>\n",
       "      <td>Tin Cup</td>\n",
       "      <td>750</td>\n",
       "      <td>$13.75</td>\n",
       "      <td>$20.63</td>\n",
       "      <td>2</td>\n",
       "      <td>$41.26</td>\n",
       "      <td>1.5</td>\n",
       "      <td>0.40</td>\n",
       "    </tr>\n",
       "    <tr>\n",
       "      <th>2</th>\n",
       "      <td>2016-02-11</td>\n",
       "      <td>2106</td>\n",
       "      <td>CEDAR FALLS</td>\n",
       "      <td>50613</td>\n",
       "      <td>7.0</td>\n",
       "      <td>Black Hawk</td>\n",
       "      <td>1011200.0</td>\n",
       "      <td>STRAIGHT BOURBON WHISKIES</td>\n",
       "      <td>65</td>\n",
       "      <td>19067</td>\n",
       "      <td>Jim Beam</td>\n",
       "      <td>1000</td>\n",
       "      <td>$12.59</td>\n",
       "      <td>$18.89</td>\n",
       "      <td>24</td>\n",
       "      <td>$453.36</td>\n",
       "      <td>24.0</td>\n",
       "      <td>6.34</td>\n",
       "    </tr>\n",
       "  </tbody>\n",
       "</table>\n",
       "</div>"
      ],
      "text/plain": [
       "        Date  Store Number         City Zip Code  County Number      County  \\\n",
       "0 2015-11-04          3717       SUMNER    50674            9.0      Bremer   \n",
       "1 2016-03-02          2614    DAVENPORT    52807           82.0       Scott   \n",
       "2 2016-02-11          2106  CEDAR FALLS    50613            7.0  Black Hawk   \n",
       "\n",
       "    Category              Category Name  Vendor Number  Item Number  \\\n",
       "0  1051100.0           APRICOT BRANDIES             55        54436   \n",
       "1  1011100.0           BLENDED WHISKIES            395        27605   \n",
       "2  1011200.0  STRAIGHT BOURBON WHISKIES             65        19067   \n",
       "\n",
       "            Item Description  Bottle Volume (ml) State Bottle Cost  \\\n",
       "0  Mr. Boston Apricot Brandy                 750             $4.50   \n",
       "1                    Tin Cup                 750            $13.75   \n",
       "2                   Jim Beam                1000            $12.59   \n",
       "\n",
       "  State Bottle Retail  Bottles Sold Sale (Dollars)  Volume Sold (Liters)  \\\n",
       "0               $6.75            12         $81.00                   9.0   \n",
       "1              $20.63             2         $41.26                   1.5   \n",
       "2              $18.89            24        $453.36                  24.0   \n",
       "\n",
       "   Volume Sold (Gallons)  \n",
       "0                   2.38  \n",
       "1                   0.40  \n",
       "2                   6.34  "
      ]
     },
     "execution_count": 231,
     "metadata": {},
     "output_type": "execute_result"
    }
   ],
   "source": [
    "df.head(3)"
   ]
  },
  {
   "cell_type": "markdown",
   "metadata": {},
   "source": [
    "Columns that we would be interested in:\n",
    "- Date\n",
    "- Store number\n",
    "- City\n",
    "- Zip code\n",
    "- County\n",
    "- Category\n",
    "- Category name\n",
    "- Vendor number\n",
    "- Item number\n",
    "- Item description\n",
    "- State bottle cost\n",
    "- State bottle retail\n",
    "- Bottles sold\n",
    "- Sales (dollars)\n",
    "- Volumes (liters)"
   ]
  },
  {
   "cell_type": "code",
   "execution_count": 232,
   "metadata": {
    "ExecuteTime": {
     "end_time": "2016-10-07T17:39:25.239241",
     "start_time": "2016-10-07T17:39:24.033729"
    },
    "collapsed": false
   },
   "outputs": [],
   "source": [
    "# Seems like there are duplicates in city where the upper and lower case doesnt match\n",
    "df['City'] = df['City'].map(lambda x: x.title())\n",
    "\n",
    "# Guttenberg has been misspelled in some entries\n",
    "df['City'] = df['City'].map(lambda x: 'Guttenberg' if x == 'Guttenburg' else x)\n",
    "\n",
    "# Let's use Arnolds Park without the apostrophe\n",
    "df['City'] = df['City'].map(lambda x: 'Arnolds Park' if x == \"Arnold'S Park\" else x)\n",
    "\n",
    "# Kellogg has been misspelled in some entries\n",
    "df['City'] = df['City'].map(lambda x: 'Kellogg' if x == 'Kellog' else x)\n",
    "\n",
    "# Let's use Mount instead of Mt\n",
    "df['City'] = df['City'].map(lambda x: 'Mount Pleasant' if x == \"Mt Pleasant\" else x)\n",
    "df['City'] = df['City'].map(lambda x: 'Mount Vernon' if x == \"Mt Vernon\" else x)\n",
    "\n",
    "# Ottumwa has been misspelled in some entries\n",
    "df['City'] = df['City'].map(lambda x: 'Ottumwa' if x == 'Ottuwma' else x)\n",
    "\n",
    "# Remove city from Rockwell city\n",
    "df['City'] = df['City'].map(lambda x: 'Rockwell' if x == 'Rockwell City' else x)"
   ]
  },
  {
   "cell_type": "code",
   "execution_count": 233,
   "metadata": {
    "ExecuteTime": {
     "end_time": "2016-10-07T17:39:25.596817",
     "start_time": "2016-10-07T17:39:25.243833"
    },
    "collapsed": false,
    "slideshow": {
     "slide_type": "slide"
    }
   },
   "outputs": [
    {
     "name": "stdout",
     "output_type": "stream",
     "text": [
      "712-2    1\n",
      "dtype: int64\n"
     ]
    }
   ],
   "source": [
    "# Zip code should be integers\n",
    "\n",
    "# Find the entries which are causing the type to be forced to object\n",
    "# We may have to do this a few times, so we'll define a function that takes a column name to do it\n",
    "def find_non_int(col):\n",
    "    non_int = []\n",
    "    for i in df[col]:\n",
    "        try:\n",
    "            int(i)\n",
    "        except:\n",
    "            if i not in non_int:\n",
    "                non_int.append(i)\n",
    "    non_int = pd.Series(non_int)\n",
    "    return non_int.value_counts(dropna=False)\n",
    "print find_non_int('Zip Code')"
   ]
  },
  {
   "cell_type": "code",
   "execution_count": 234,
   "metadata": {
    "ExecuteTime": {
     "end_time": "2016-10-07T17:39:25.640447",
     "start_time": "2016-10-07T17:39:25.599784"
    },
    "collapsed": false,
    "slideshow": {
     "slide_type": "fragment"
    }
   },
   "outputs": [
    {
     "data": {
      "text/plain": [
       "array(['Dunlap'], dtype=object)"
      ]
     },
     "execution_count": 234,
     "metadata": {},
     "output_type": "execute_result"
    }
   ],
   "source": [
    "# Find the cities that have '712-2' as the zip code\n",
    "\n",
    "df['City'][df['Zip Code'] == '712-2'].unique()"
   ]
  },
  {
   "cell_type": "code",
   "execution_count": 235,
   "metadata": {
    "ExecuteTime": {
     "end_time": "2016-10-07T17:39:25.702256",
     "start_time": "2016-10-07T17:39:25.644307"
    },
    "collapsed": false,
    "slideshow": {
     "slide_type": "fragment"
    }
   },
   "outputs": [
    {
     "name": "stdout",
     "output_type": "stream",
     "text": [
      "['712-2']\n",
      "['Harrison' nan]\n",
      "[ 43.  nan]\n"
     ]
    }
   ],
   "source": [
    "# Find the corresponding zip codes and counties for entries with 'Dunlap' as city\n",
    "print df['Zip Code'][df['City'] == 'Dunlap'].unique()\n",
    "print df['County'][df['City'] == 'Dunlap'].unique()\n",
    "print df['County Number'][df['City'] == 'Dunlap'].unique()"
   ]
  },
  {
   "cell_type": "markdown",
   "metadata": {
    "slideshow": {
     "slide_type": "slide"
    }
   },
   "source": [
    "Based on [Wikipedia](https://en.wikipedia.org/wiki/Dunlap,_Iowa),\n",
    "\n",
    "> Dunlap is a city in Harrison County, Iowa, United States, along the Boyer River.\n",
    "\n",
    "> County: Harrison\n",
    "\n",
    "> Zip code: 51529"
   ]
  },
  {
   "cell_type": "code",
   "execution_count": 236,
   "metadata": {
    "ExecuteTime": {
     "end_time": "2016-10-07T17:39:25.775920",
     "start_time": "2016-10-07T17:39:25.705907"
    },
    "collapsed": false,
    "slideshow": {
     "slide_type": "fragment"
    }
   },
   "outputs": [],
   "source": [
    "# For all entries with 'DUNLAP' as city\n",
    "# Set zip code as 51529\n",
    "df.ix[df['City']=='Dunlap', 'Zip Code'] = '51529'\n",
    "\n",
    "# Set county as Harrison\n",
    "df.ix[df['City']=='Dunlap', 'County'] = 'Harrison'\n",
    "\n",
    "# Set county number as 43.0\n",
    "df.ix[df['City']=='Dunlap', 'County Number'] = 43.0"
   ]
  },
  {
   "cell_type": "code",
   "execution_count": 237,
   "metadata": {
    "ExecuteTime": {
     "end_time": "2016-10-07T17:39:25.979403",
     "start_time": "2016-10-07T17:39:25.779115"
    },
    "collapsed": false,
    "slideshow": {
     "slide_type": "slide"
    }
   },
   "outputs": [],
   "source": [
    "# Now change zip code to integers\n",
    "df['Zip Code'] = df['Zip Code'].astype(int)"
   ]
  },
  {
   "cell_type": "code",
   "execution_count": 238,
   "metadata": {
    "ExecuteTime": {
     "end_time": "2016-10-07T17:39:25.994075",
     "start_time": "2016-10-07T17:39:25.982250"
    },
    "collapsed": false,
    "slideshow": {
     "slide_type": "fragment"
    }
   },
   "outputs": [
    {
     "data": {
      "text/plain": [
       "Date                     datetime64[ns]\n",
       "Store Number                      int64\n",
       "City                             object\n",
       "Zip Code                          int64\n",
       "County Number                   float64\n",
       "County                           object\n",
       "Category                        float64\n",
       "Category Name                    object\n",
       "Vendor Number                     int64\n",
       "Item Number                       int64\n",
       "Item Description                 object\n",
       "Bottle Volume (ml)                int64\n",
       "State Bottle Cost                object\n",
       "State Bottle Retail              object\n",
       "Bottles Sold                      int64\n",
       "Sale (Dollars)                   object\n",
       "Volume Sold (Liters)            float64\n",
       "Volume Sold (Gallons)           float64\n",
       "dtype: object"
      ]
     },
     "execution_count": 238,
     "metadata": {},
     "output_type": "execute_result"
    }
   ],
   "source": [
    "df.dtypes"
   ]
  },
  {
   "cell_type": "markdown",
   "metadata": {},
   "source": [
    "City, Zip code, County and County Number should be related"
   ]
  },
  {
   "cell_type": "code",
   "execution_count": 239,
   "metadata": {
    "ExecuteTime": {
     "end_time": "2016-10-07T17:39:26.011718",
     "start_time": "2016-10-07T17:39:25.996902"
    },
    "collapsed": false
   },
   "outputs": [],
   "source": [
    "# Write a function that cross references City, Zip Code, County and County Number\n",
    "# and fills the data in where it's missing\n",
    "def fill_missing(related_cols, column):\n",
    "    related_cols.remove(column)\n",
    "    reference = df[related_cols][df[column].isnull()].drop_duplicates()\n",
    "    for j in range(len(related_cols)):\n",
    "        col_1 = reference[related_cols[j]]\n",
    "        for i in col_1:\n",
    "            try:\n",
    "                value = df[column][(df[related_cols[j]]==i) & (df[column].notnull())].drop_duplicates().iloc[0]\n",
    "                df.iloc[(df[related_cols[j]]==i) & (df[column].isnull()), column] = value\n",
    "            except:\n",
    "                pass"
   ]
  },
  {
   "cell_type": "code",
   "execution_count": 240,
   "metadata": {
    "ExecuteTime": {
     "end_time": "2016-10-07T17:39:30.476090",
     "start_time": "2016-10-07T17:39:26.015017"
    },
    "collapsed": false
   },
   "outputs": [],
   "source": [
    "fill_missing(['Store Number', 'City', 'Zip Code', 'County', 'County Number'], 'County')"
   ]
  },
  {
   "cell_type": "code",
   "execution_count": 241,
   "metadata": {
    "ExecuteTime": {
     "end_time": "2016-10-07T17:39:30.660744",
     "start_time": "2016-10-07T17:39:30.478549"
    },
    "collapsed": false
   },
   "outputs": [],
   "source": [
    "fill_missing(['Category', 'Category Name'], 'Category Name')\n",
    "fill_missing(['Category', 'Category Name'], 'Category')"
   ]
  },
  {
   "cell_type": "code",
   "execution_count": 242,
   "metadata": {
    "ExecuteTime": {
     "end_time": "2016-10-07T17:39:30.691648",
     "start_time": "2016-10-07T17:39:30.662890"
    },
    "collapsed": false
   },
   "outputs": [],
   "source": [
    "fill_missing(['Item Number', 'Item Description'], 'Item Description')\n",
    "fill_missing(['Item Number', 'Item Description'], 'Item Number')"
   ]
  },
  {
   "cell_type": "code",
   "execution_count": 243,
   "metadata": {
    "ExecuteTime": {
     "end_time": "2016-10-07T17:39:30.900272",
     "start_time": "2016-10-07T17:39:30.694718"
    },
    "collapsed": false
   },
   "outputs": [
    {
     "name": "stdout",
     "output_type": "stream",
     "text": [
      "<class 'pandas.core.frame.DataFrame'>\n",
      "RangeIndex: 270955 entries, 0 to 270954\n",
      "Data columns (total 18 columns):\n",
      "Date                     270955 non-null datetime64[ns]\n",
      "Store Number             270955 non-null int64\n",
      "City                     270955 non-null object\n",
      "Zip Code                 270955 non-null int64\n",
      "County Number            269909 non-null float64\n",
      "County                   269909 non-null object\n",
      "Category                 270887 non-null float64\n",
      "Category Name            270323 non-null object\n",
      "Vendor Number            270955 non-null int64\n",
      "Item Number              270955 non-null int64\n",
      "Item Description         270955 non-null object\n",
      "Bottle Volume (ml)       270955 non-null int64\n",
      "State Bottle Cost        270955 non-null object\n",
      "State Bottle Retail      270955 non-null object\n",
      "Bottles Sold             270955 non-null int64\n",
      "Sale (Dollars)           270955 non-null object\n",
      "Volume Sold (Liters)     270955 non-null float64\n",
      "Volume Sold (Gallons)    270955 non-null float64\n",
      "dtypes: datetime64[ns](1), float64(4), int64(6), object(7)\n",
      "memory usage: 37.2+ MB\n"
     ]
    }
   ],
   "source": [
    "df.info()"
   ]
  },
  {
   "cell_type": "code",
   "execution_count": 244,
   "metadata": {
    "ExecuteTime": {
     "end_time": "2016-10-07T17:39:31.511653",
     "start_time": "2016-10-07T17:39:30.902959"
    },
    "collapsed": false
   },
   "outputs": [],
   "source": [
    "# Convert all dollar columns to floats\n",
    "df['State Bottle Cost'] = df['State Bottle Cost'].map(lambda x: x.strip('$')).astype(float)\n",
    "df['State Bottle Retail'] = df['State Bottle Retail'].map(lambda x: x.strip('$')).astype(float)\n",
    "df['Sale (Dollars)'] = df['Sale (Dollars)'].map(lambda x: x.strip('$')).astype(float)"
   ]
  },
  {
   "cell_type": "code",
   "execution_count": 245,
   "metadata": {
    "ExecuteTime": {
     "end_time": "2016-10-07T17:39:31.711682",
     "start_time": "2016-10-07T17:39:31.513974"
    },
    "collapsed": false
   },
   "outputs": [
    {
     "name": "stdout",
     "output_type": "stream",
     "text": [
      "<class 'pandas.core.frame.DataFrame'>\n",
      "RangeIndex: 270955 entries, 0 to 270954\n",
      "Data columns (total 18 columns):\n",
      "Date                     270955 non-null datetime64[ns]\n",
      "Store Number             270955 non-null int64\n",
      "City                     270955 non-null object\n",
      "Zip Code                 270955 non-null int64\n",
      "County Number            269909 non-null float64\n",
      "County                   269909 non-null object\n",
      "Category                 270887 non-null float64\n",
      "Category Name            270323 non-null object\n",
      "Vendor Number            270955 non-null int64\n",
      "Item Number              270955 non-null int64\n",
      "Item Description         270955 non-null object\n",
      "Bottle Volume (ml)       270955 non-null int64\n",
      "State Bottle Cost        270955 non-null float64\n",
      "State Bottle Retail      270955 non-null float64\n",
      "Bottles Sold             270955 non-null int64\n",
      "Sale (Dollars)           270955 non-null float64\n",
      "Volume Sold (Liters)     270955 non-null float64\n",
      "Volume Sold (Gallons)    270955 non-null float64\n",
      "dtypes: datetime64[ns](1), float64(7), int64(6), object(4)\n",
      "memory usage: 37.2+ MB\n"
     ]
    }
   ],
   "source": [
    "df.info()"
   ]
  },
  {
   "cell_type": "code",
   "execution_count": 246,
   "metadata": {
    "ExecuteTime": {
     "end_time": "2016-10-07T17:39:31.772807",
     "start_time": "2016-10-07T17:39:31.714775"
    },
    "collapsed": false
   },
   "outputs": [
    {
     "data": {
      "text/html": [
       "<div>\n",
       "<table border=\"1\" class=\"dataframe\">\n",
       "  <thead>\n",
       "    <tr style=\"text-align: right;\">\n",
       "      <th></th>\n",
       "      <th>Date</th>\n",
       "      <th>Store Number</th>\n",
       "      <th>City</th>\n",
       "      <th>Zip Code</th>\n",
       "      <th>County Number</th>\n",
       "      <th>County</th>\n",
       "      <th>Category</th>\n",
       "      <th>Category Name</th>\n",
       "      <th>Vendor Number</th>\n",
       "      <th>Item Number</th>\n",
       "      <th>Item Description</th>\n",
       "      <th>Bottle Volume (ml)</th>\n",
       "      <th>State Bottle Cost</th>\n",
       "      <th>State Bottle Retail</th>\n",
       "      <th>Bottles Sold</th>\n",
       "      <th>Sale (Dollars)</th>\n",
       "      <th>Volume Sold (Liters)</th>\n",
       "      <th>Volume Sold (Gallons)</th>\n",
       "    </tr>\n",
       "  </thead>\n",
       "  <tbody>\n",
       "    <tr>\n",
       "      <th>0</th>\n",
       "      <td>2015-11-04</td>\n",
       "      <td>3717</td>\n",
       "      <td>Sumner</td>\n",
       "      <td>50674</td>\n",
       "      <td>9.0</td>\n",
       "      <td>Bremer</td>\n",
       "      <td>1051100.0</td>\n",
       "      <td>APRICOT BRANDIES</td>\n",
       "      <td>55</td>\n",
       "      <td>54436</td>\n",
       "      <td>Mr. Boston Apricot Brandy</td>\n",
       "      <td>750</td>\n",
       "      <td>4.50</td>\n",
       "      <td>6.75</td>\n",
       "      <td>12</td>\n",
       "      <td>81.00</td>\n",
       "      <td>9.0</td>\n",
       "      <td>2.38</td>\n",
       "    </tr>\n",
       "    <tr>\n",
       "      <th>1</th>\n",
       "      <td>2016-03-02</td>\n",
       "      <td>2614</td>\n",
       "      <td>Davenport</td>\n",
       "      <td>52807</td>\n",
       "      <td>82.0</td>\n",
       "      <td>Scott</td>\n",
       "      <td>1011100.0</td>\n",
       "      <td>BLENDED WHISKIES</td>\n",
       "      <td>395</td>\n",
       "      <td>27605</td>\n",
       "      <td>Tin Cup</td>\n",
       "      <td>750</td>\n",
       "      <td>13.75</td>\n",
       "      <td>20.63</td>\n",
       "      <td>2</td>\n",
       "      <td>41.26</td>\n",
       "      <td>1.5</td>\n",
       "      <td>0.40</td>\n",
       "    </tr>\n",
       "    <tr>\n",
       "      <th>2</th>\n",
       "      <td>2016-02-11</td>\n",
       "      <td>2106</td>\n",
       "      <td>Cedar Falls</td>\n",
       "      <td>50613</td>\n",
       "      <td>7.0</td>\n",
       "      <td>Black Hawk</td>\n",
       "      <td>1011200.0</td>\n",
       "      <td>STRAIGHT BOURBON WHISKIES</td>\n",
       "      <td>65</td>\n",
       "      <td>19067</td>\n",
       "      <td>Jim Beam</td>\n",
       "      <td>1000</td>\n",
       "      <td>12.59</td>\n",
       "      <td>18.89</td>\n",
       "      <td>24</td>\n",
       "      <td>453.36</td>\n",
       "      <td>24.0</td>\n",
       "      <td>6.34</td>\n",
       "    </tr>\n",
       "    <tr>\n",
       "      <th>3</th>\n",
       "      <td>2016-02-03</td>\n",
       "      <td>2501</td>\n",
       "      <td>Ames</td>\n",
       "      <td>50010</td>\n",
       "      <td>85.0</td>\n",
       "      <td>Story</td>\n",
       "      <td>1071100.0</td>\n",
       "      <td>AMERICAN COCKTAILS</td>\n",
       "      <td>395</td>\n",
       "      <td>59154</td>\n",
       "      <td>1800 Ultimate Margarita</td>\n",
       "      <td>1750</td>\n",
       "      <td>9.50</td>\n",
       "      <td>14.25</td>\n",
       "      <td>6</td>\n",
       "      <td>85.50</td>\n",
       "      <td>10.5</td>\n",
       "      <td>2.77</td>\n",
       "    </tr>\n",
       "    <tr>\n",
       "      <th>4</th>\n",
       "      <td>2015-08-18</td>\n",
       "      <td>3654</td>\n",
       "      <td>Belmond</td>\n",
       "      <td>50421</td>\n",
       "      <td>99.0</td>\n",
       "      <td>Wright</td>\n",
       "      <td>1031080.0</td>\n",
       "      <td>VODKA 80 PROOF</td>\n",
       "      <td>297</td>\n",
       "      <td>35918</td>\n",
       "      <td>Five O'clock Vodka</td>\n",
       "      <td>1750</td>\n",
       "      <td>7.20</td>\n",
       "      <td>10.80</td>\n",
       "      <td>12</td>\n",
       "      <td>129.60</td>\n",
       "      <td>21.0</td>\n",
       "      <td>5.55</td>\n",
       "    </tr>\n",
       "  </tbody>\n",
       "</table>\n",
       "</div>"
      ],
      "text/plain": [
       "        Date  Store Number         City  Zip Code  County Number      County  \\\n",
       "0 2015-11-04          3717       Sumner     50674            9.0      Bremer   \n",
       "1 2016-03-02          2614    Davenport     52807           82.0       Scott   \n",
       "2 2016-02-11          2106  Cedar Falls     50613            7.0  Black Hawk   \n",
       "3 2016-02-03          2501         Ames     50010           85.0       Story   \n",
       "4 2015-08-18          3654      Belmond     50421           99.0      Wright   \n",
       "\n",
       "    Category              Category Name  Vendor Number  Item Number  \\\n",
       "0  1051100.0           APRICOT BRANDIES             55        54436   \n",
       "1  1011100.0           BLENDED WHISKIES            395        27605   \n",
       "2  1011200.0  STRAIGHT BOURBON WHISKIES             65        19067   \n",
       "3  1071100.0         AMERICAN COCKTAILS            395        59154   \n",
       "4  1031080.0             VODKA 80 PROOF            297        35918   \n",
       "\n",
       "            Item Description  Bottle Volume (ml)  State Bottle Cost  \\\n",
       "0  Mr. Boston Apricot Brandy                 750               4.50   \n",
       "1                    Tin Cup                 750              13.75   \n",
       "2                   Jim Beam                1000              12.59   \n",
       "3    1800 Ultimate Margarita                1750               9.50   \n",
       "4         Five O'clock Vodka                1750               7.20   \n",
       "\n",
       "   State Bottle Retail  Bottles Sold  Sale (Dollars)  Volume Sold (Liters)  \\\n",
       "0                 6.75            12           81.00                   9.0   \n",
       "1                20.63             2           41.26                   1.5   \n",
       "2                18.89            24          453.36                  24.0   \n",
       "3                14.25             6           85.50                  10.5   \n",
       "4                10.80            12          129.60                  21.0   \n",
       "\n",
       "   Volume Sold (Gallons)  \n",
       "0                   2.38  \n",
       "1                   0.40  \n",
       "2                   6.34  \n",
       "3                   2.77  \n",
       "4                   5.55  "
      ]
     },
     "execution_count": 246,
     "metadata": {},
     "output_type": "execute_result"
    }
   ],
   "source": [
    "df.head()"
   ]
  },
  {
   "cell_type": "markdown",
   "metadata": {},
   "source": [
    "\n",
    "# Explore the data\n",
    "\n",
    "Perform some exploratory statistical analysis and make some plots, such as histograms of transaction totals, bottles sold, etc."
   ]
  },
  {
   "cell_type": "code",
   "execution_count": 247,
   "metadata": {
    "ExecuteTime": {
     "end_time": "2016-10-07T17:39:31.781181",
     "start_time": "2016-10-07T17:39:31.776460"
    },
    "collapsed": false
   },
   "outputs": [],
   "source": [
    "cols = ['Date', 'Store Number', 'City', 'Zip Code', 'County', 'Category', 'Category Name', \\\n",
    "        'Vendor Number', 'Item Number', 'Item Description', 'Bottle Volume (ml)', 'State Bottle Cost', \\\n",
    "        'State Bottle Retail', 'Bottles Sold', 'Sale (Dollars)', 'Volume Sold (Liters)']"
   ]
  },
  {
   "cell_type": "code",
   "execution_count": 248,
   "metadata": {
    "ExecuteTime": {
     "end_time": "2016-10-07T17:39:31.848554",
     "start_time": "2016-10-07T17:39:31.784548"
    },
    "collapsed": false
   },
   "outputs": [],
   "source": [
    "df2 = df.copy()[cols]"
   ]
  },
  {
   "cell_type": "code",
   "execution_count": 249,
   "metadata": {
    "ExecuteTime": {
     "end_time": "2016-10-07T17:39:32.529033",
     "start_time": "2016-10-07T17:39:31.851139"
    },
    "collapsed": false
   },
   "outputs": [
    {
     "data": {
      "text/plain": [
       "<matplotlib.axes._subplots.AxesSubplot at 0x12eaa6990>"
      ]
     },
     "execution_count": 249,
     "metadata": {},
     "output_type": "execute_result"
    },
    {
     "data": {
      "image/png": "[encoded data removed]",
      "text/plain": [
       "<matplotlib.figure.Figure at 0x12eaaad50>"
      ]
     },
     "metadata": {},
     "output_type": "display_data"
    }
   ],
   "source": [
    "sns.heatmap(df2.corr(), linewidths=0.5)"
   ]
  },
  {
   "cell_type": "code",
   "execution_count": 250,
   "metadata": {
    "ExecuteTime": {
     "end_time": "2016-10-07T17:39:32.961830",
     "start_time": "2016-10-07T17:39:32.532193"
    },
    "collapsed": false
   },
   "outputs": [],
   "source": [
    "df2.dropna(inplace=True)"
   ]
  },
  {
   "cell_type": "code",
   "execution_count": 251,
   "metadata": {
    "ExecuteTime": {
     "end_time": "2016-10-07T17:39:36.044377",
     "start_time": "2016-10-07T17:39:32.963934"
    },
    "collapsed": false
   },
   "outputs": [
    {
     "name": "stdout",
     "output_type": "stream",
     "text": [
      "r-squared: 0.842141467295\n"
     ]
    },
    {
     "data": {
      "image/png": "[encoded data removed]",
      "text/plain": [
       "<matplotlib.figure.Figure at 0x124b3b990>"
      ]
     },
     "metadata": {},
     "output_type": "display_data"
    }
   ],
   "source": [
    "X = df2[['Zip Code','Bottle Volume (ml)', 'Bottles Sold', 'Sale (Dollars)']]\n",
    "y = df2['Volume Sold (Liters)']\n",
    "lm = linear_model.LinearRegression()\n",
    "model = lm.fit(X,y)\n",
    "print 'r-squared: {}'.format(model.score(X,y))\n",
    "predicted = model.predict(X)\n",
    "plt.scatter(predicted, y)\n",
    "plt.plot([min(y), max(y)], [min(y), max(y)], '-')\n",
    "plt.show()"
   ]
  },
  {
   "cell_type": "code",
   "execution_count": 252,
   "metadata": {
    "ExecuteTime": {
     "end_time": "2016-10-07T17:39:36.132925",
     "start_time": "2016-10-07T17:39:36.047271"
    },
    "collapsed": false
   },
   "outputs": [],
   "source": [
    "demo_df = pd.read_csv('/Users/stel/joce/data_science/project-3-datasets/IowaZIPdemos.csv')"
   ]
  },
  {
   "cell_type": "code",
   "execution_count": 253,
   "metadata": {
    "ExecuteTime": {
     "end_time": "2016-10-07T17:39:36.147225",
     "start_time": "2016-10-07T17:39:36.135098"
    },
    "collapsed": false
   },
   "outputs": [],
   "source": [
    "demo_df.dropna(inplace=True)\n",
    "demo_df['Area'] = demo_df['Area'].astype(int)"
   ]
  },
  {
   "cell_type": "code",
   "execution_count": 254,
   "metadata": {
    "ExecuteTime": {
     "end_time": "2016-10-07T17:39:36.172937",
     "start_time": "2016-10-07T17:39:36.150777"
    },
    "collapsed": false
   },
   "outputs": [
    {
     "name": "stdout",
     "output_type": "stream",
     "text": [
      "<class 'pandas.core.frame.DataFrame'>\n",
      "Int64Index: 949 entries, 0 to 948\n",
      "Data columns (total 42 columns):\n",
      "Area                                949 non-null int64\n",
      "Total Pop                           949 non-null object\n",
      "Median HH Inc                       949 non-null object\n",
      "Per Capita Inc                      949 non-null object\n",
      "White                               949 non-null object\n",
      "Afr Amer                            949 non-null object\n",
      "Native Amer                         949 non-null float64\n",
      "Asian Amer                          949 non-null object\n",
      "Pac Islander                        949 non-null float64\n",
      "Other                               949 non-null object\n",
      "Bi- Multi-Racial                    949 non-null float64\n",
      "Hispanic or Latino                  949 non-null object\n",
      "Med Age                             949 non-null float64\n",
      "<5 years                            949 non-null float64\n",
      "5-17 yrs                            949 non-null float64\n",
      "18-20 yrs                           949 non-null float64\n",
      "21-24 yrs                           949 non-null float64\n",
      "25-34 yrs                           949 non-null float64\n",
      "35-44 yrs                           949 non-null float64\n",
      "45-54 yrs                           949 non-null float64\n",
      "55-59 yrs                           949 non-null float64\n",
      "60-64 yrs                           949 non-null float64\n",
      "65-74 yrs                           949 non-null float64\n",
      "78-84 yrs                           949 non-null float64\n",
      "85+ yrs                             949 non-null float64\n",
      "% P16+ in labor force               949 non-null object\n",
      "Total # Homes Owned                 949 non-null object\n",
      "Med. Home Value                     949 non-null object\n",
      "Tot Housing units                   949 non-null object\n",
      "Owner occupied housing units        949 non-null object\n",
      "Renter occupied housing units       949 non-null object\n",
      "households                          949 non-null object\n",
      "Family households                   949 non-null object\n",
      "Married-couple family households    949 non-null object\n",
      "Single mother households            949 non-null object\n",
      "Nonfamily households                949 non-null object\n",
      "Single Occupancy                    949 non-null object\n",
      "Avg HH Size                         949 non-null float64\n",
      "Avg Family Size                     949 non-null float64\n",
      "Pop Below Poverty Level             949 non-null object\n",
      "% P25+ HS Grad                      949 non-null object\n",
      "% P25-54 BA+                        949 non-null object\n",
      "dtypes: float64(18), int64(1), object(23)\n",
      "memory usage: 318.8+ KB\n"
     ]
    }
   ],
   "source": [
    "demo_df.info()"
   ]
  },
  {
   "cell_type": "code",
   "execution_count": 255,
   "metadata": {
    "ExecuteTime": {
     "end_time": "2016-10-07T17:39:36.183493",
     "start_time": "2016-10-07T17:39:36.176256"
    },
    "collapsed": false
   },
   "outputs": [
    {
     "data": {
      "text/plain": [
       "dtype('O')"
      ]
     },
     "execution_count": 255,
     "metadata": {},
     "output_type": "execute_result"
    }
   ],
   "source": [
    "demo_df['Pop Below Poverty Level'].dtype"
   ]
  },
  {
   "cell_type": "code",
   "execution_count": 256,
   "metadata": {
    "ExecuteTime": {
     "end_time": "2016-10-07T17:39:36.192312",
     "start_time": "2016-10-07T17:39:36.186163"
    },
    "collapsed": false
   },
   "outputs": [],
   "source": [
    "demo_cols = demo_df.columns.values.tolist()\n",
    "object_cols = [i for i in demo_cols if demo_df[i].dtype == 'O']"
   ]
  },
  {
   "cell_type": "code",
   "execution_count": 257,
   "metadata": {
    "ExecuteTime": {
     "end_time": "2016-10-07T17:39:41.885661",
     "start_time": "2016-10-07T17:39:41.763655"
    },
    "collapsed": false
   },
   "outputs": [],
   "source": [
    "def rem_symbols(x):\n",
    "    for i in [',', '%', '$', '-']:\n",
    "        x = x.replace(i, '')\n",
    "    try:\n",
    "        return float(x)\n",
    "    except:\n",
    "        print x\n",
    "    \n",
    "for i in object_cols:\n",
    "    demo_df[i] = demo_df[i].map(rem_symbols)"
   ]
  },
  {
   "cell_type": "code",
   "execution_count": 258,
   "metadata": {
    "ExecuteTime": {
     "end_time": "2016-10-07T17:39:45.749854",
     "start_time": "2016-10-07T17:39:45.736754"
    },
    "collapsed": false
   },
   "outputs": [
    {
     "data": {
      "text/plain": [
       "Area                                  int64\n",
       "Total Pop                           float64\n",
       "Median HH Inc                       float64\n",
       "Per Capita Inc                      float64\n",
       "White                               float64\n",
       "Afr Amer                            float64\n",
       "Native Amer                         float64\n",
       "Asian Amer                          float64\n",
       "Pac Islander                        float64\n",
       "Other                               float64\n",
       "Bi- Multi-Racial                    float64\n",
       "Hispanic or Latino                  float64\n",
       "Med Age                             float64\n",
       "<5 years                            float64\n",
       "5-17 yrs                            float64\n",
       "18-20 yrs                           float64\n",
       "21-24 yrs                           float64\n",
       "25-34 yrs                           float64\n",
       "35-44 yrs                           float64\n",
       "45-54 yrs                           float64\n",
       "55-59 yrs                           float64\n",
       "60-64 yrs                           float64\n",
       "65-74 yrs                           float64\n",
       "78-84 yrs                           float64\n",
       "85+ yrs                             float64\n",
       "% P16+ in labor force               float64\n",
       "Total # Homes Owned                 float64\n",
       "Med. Home Value                     float64\n",
       "Tot Housing units                   float64\n",
       "Owner occupied housing units        float64\n",
       "Renter occupied housing units       float64\n",
       "households                          float64\n",
       "Family households                   float64\n",
       "Married-couple family households    float64\n",
       "Single mother households            float64\n",
       "Nonfamily households                float64\n",
       "Single Occupancy                    float64\n",
       "Avg HH Size                         float64\n",
       "Avg Family Size                     float64\n",
       "Pop Below Poverty Level             float64\n",
       "% P25+ HS Grad                      float64\n",
       "% P25-54 BA+                        float64\n",
       "dtype: object"
      ]
     },
     "execution_count": 258,
     "metadata": {},
     "output_type": "execute_result"
    }
   ],
   "source": [
    "demo_df.dtypes"
   ]
  },
  {
   "cell_type": "code",
   "execution_count": 259,
   "metadata": {
    "ExecuteTime": {
     "end_time": "2016-10-07T17:39:47.644211",
     "start_time": "2016-10-07T17:39:47.565909"
    },
    "collapsed": false
   },
   "outputs": [
    {
     "data": {
      "text/html": [
       "<div>\n",
       "<table border=\"1\" class=\"dataframe\">\n",
       "  <thead>\n",
       "    <tr style=\"text-align: right;\">\n",
       "      <th></th>\n",
       "      <th>Area</th>\n",
       "      <th>Total Pop</th>\n",
       "      <th>Median HH Inc</th>\n",
       "      <th>Per Capita Inc</th>\n",
       "      <th>White</th>\n",
       "      <th>Afr Amer</th>\n",
       "      <th>Native Amer</th>\n",
       "      <th>Asian Amer</th>\n",
       "      <th>Pac Islander</th>\n",
       "      <th>Other</th>\n",
       "      <th>...</th>\n",
       "      <th>Family households</th>\n",
       "      <th>Married-couple family households</th>\n",
       "      <th>Single mother households</th>\n",
       "      <th>Nonfamily households</th>\n",
       "      <th>Single Occupancy</th>\n",
       "      <th>Avg HH Size</th>\n",
       "      <th>Avg Family Size</th>\n",
       "      <th>Pop Below Poverty Level</th>\n",
       "      <th>% P25+ HS Grad</th>\n",
       "      <th>% P25-54 BA+</th>\n",
       "    </tr>\n",
       "  </thead>\n",
       "  <tbody>\n",
       "    <tr>\n",
       "      <th>0</th>\n",
       "      <td>50001</td>\n",
       "      <td>615.0</td>\n",
       "      <td>43611.0</td>\n",
       "      <td>17803.0</td>\n",
       "      <td>594.0</td>\n",
       "      <td>3.0</td>\n",
       "      <td>1.0</td>\n",
       "      <td>0.0</td>\n",
       "      <td>0.0</td>\n",
       "      <td>2.0</td>\n",
       "      <td>...</td>\n",
       "      <td>174.0</td>\n",
       "      <td>158.0</td>\n",
       "      <td>12.0</td>\n",
       "      <td>42.0</td>\n",
       "      <td>34.0</td>\n",
       "      <td>2.85</td>\n",
       "      <td>3.21</td>\n",
       "      <td>711.0</td>\n",
       "      <td>88.8</td>\n",
       "      <td>9.7</td>\n",
       "    </tr>\n",
       "    <tr>\n",
       "      <th>1</th>\n",
       "      <td>50002</td>\n",
       "      <td>1339.0</td>\n",
       "      <td>32500.0</td>\n",
       "      <td>20580.0</td>\n",
       "      <td>1323.0</td>\n",
       "      <td>0.0</td>\n",
       "      <td>1.0</td>\n",
       "      <td>5.0</td>\n",
       "      <td>0.0</td>\n",
       "      <td>2.0</td>\n",
       "      <td>...</td>\n",
       "      <td>370.0</td>\n",
       "      <td>333.0</td>\n",
       "      <td>30.0</td>\n",
       "      <td>205.0</td>\n",
       "      <td>185.0</td>\n",
       "      <td>2.25</td>\n",
       "      <td>2.86</td>\n",
       "      <td>1232.0</td>\n",
       "      <td>87.6</td>\n",
       "      <td>11.2</td>\n",
       "    </tr>\n",
       "    <tr>\n",
       "      <th>2</th>\n",
       "      <td>50003</td>\n",
       "      <td>5835.0</td>\n",
       "      <td>47649.0</td>\n",
       "      <td>22429.0</td>\n",
       "      <td>5733.0</td>\n",
       "      <td>8.0</td>\n",
       "      <td>6.0</td>\n",
       "      <td>22.0</td>\n",
       "      <td>0.0</td>\n",
       "      <td>23.0</td>\n",
       "      <td>...</td>\n",
       "      <td>1615.0</td>\n",
       "      <td>1390.0</td>\n",
       "      <td>162.0</td>\n",
       "      <td>619.0</td>\n",
       "      <td>529.0</td>\n",
       "      <td>2.58</td>\n",
       "      <td>3.08</td>\n",
       "      <td>5816.0</td>\n",
       "      <td>91.0</td>\n",
       "      <td>24.0</td>\n",
       "    </tr>\n",
       "    <tr>\n",
       "      <th>3</th>\n",
       "      <td>50005</td>\n",
       "      <td>851.0</td>\n",
       "      <td>41786.0</td>\n",
       "      <td>15267.0</td>\n",
       "      <td>840.0</td>\n",
       "      <td>0.0</td>\n",
       "      <td>5.0</td>\n",
       "      <td>4.0</td>\n",
       "      <td>0.0</td>\n",
       "      <td>0.0</td>\n",
       "      <td>...</td>\n",
       "      <td>251.0</td>\n",
       "      <td>208.0</td>\n",
       "      <td>28.0</td>\n",
       "      <td>69.0</td>\n",
       "      <td>56.0</td>\n",
       "      <td>2.66</td>\n",
       "      <td>2.98</td>\n",
       "      <td>917.0</td>\n",
       "      <td>80.8</td>\n",
       "      <td>12.7</td>\n",
       "    </tr>\n",
       "    <tr>\n",
       "      <th>4</th>\n",
       "      <td>50006</td>\n",
       "      <td>1959.0</td>\n",
       "      <td>36494.0</td>\n",
       "      <td>16957.0</td>\n",
       "      <td>1930.0</td>\n",
       "      <td>0.0</td>\n",
       "      <td>1.0</td>\n",
       "      <td>3.0</td>\n",
       "      <td>0.0</td>\n",
       "      <td>21.0</td>\n",
       "      <td>...</td>\n",
       "      <td>547.0</td>\n",
       "      <td>477.0</td>\n",
       "      <td>43.0</td>\n",
       "      <td>220.0</td>\n",
       "      <td>194.0</td>\n",
       "      <td>2.55</td>\n",
       "      <td>3.09</td>\n",
       "      <td>1939.0</td>\n",
       "      <td>88.9</td>\n",
       "      <td>14.8</td>\n",
       "    </tr>\n",
       "  </tbody>\n",
       "</table>\n",
       "<p>5 rows × 42 columns</p>\n",
       "</div>"
      ],
      "text/plain": [
       "    Area  Total Pop  Median HH Inc  Per Capita Inc   White  Afr Amer  \\\n",
       "0  50001      615.0        43611.0         17803.0   594.0       3.0   \n",
       "1  50002     1339.0        32500.0         20580.0  1323.0       0.0   \n",
       "2  50003     5835.0        47649.0         22429.0  5733.0       8.0   \n",
       "3  50005      851.0        41786.0         15267.0   840.0       0.0   \n",
       "4  50006     1959.0        36494.0         16957.0  1930.0       0.0   \n",
       "\n",
       "   Native Amer  Asian Amer  Pac Islander  Other      ...       \\\n",
       "0          1.0         0.0           0.0    2.0      ...        \n",
       "1          1.0         5.0           0.0    2.0      ...        \n",
       "2          6.0        22.0           0.0   23.0      ...        \n",
       "3          5.0         4.0           0.0    0.0      ...        \n",
       "4          1.0         3.0           0.0   21.0      ...        \n",
       "\n",
       "   Family households  Married-couple family households  \\\n",
       "0              174.0                             158.0   \n",
       "1              370.0                             333.0   \n",
       "2             1615.0                            1390.0   \n",
       "3              251.0                             208.0   \n",
       "4              547.0                             477.0   \n",
       "\n",
       "   Single mother households  Nonfamily households  Single Occupancy  \\\n",
       "0                      12.0                  42.0              34.0   \n",
       "1                      30.0                 205.0             185.0   \n",
       "2                     162.0                 619.0             529.0   \n",
       "3                      28.0                  69.0              56.0   \n",
       "4                      43.0                 220.0             194.0   \n",
       "\n",
       "   Avg HH Size  Avg Family Size  Pop Below Poverty Level  % P25+ HS Grad  \\\n",
       "0         2.85             3.21                    711.0            88.8   \n",
       "1         2.25             2.86                   1232.0            87.6   \n",
       "2         2.58             3.08                   5816.0            91.0   \n",
       "3         2.66             2.98                    917.0            80.8   \n",
       "4         2.55             3.09                   1939.0            88.9   \n",
       "\n",
       "   % P25-54 BA+  \n",
       "0           9.7  \n",
       "1          11.2  \n",
       "2          24.0  \n",
       "3          12.7  \n",
       "4          14.8  \n",
       "\n",
       "[5 rows x 42 columns]"
      ]
     },
     "execution_count": 259,
     "metadata": {},
     "output_type": "execute_result"
    }
   ],
   "source": [
    "demo_df.head()"
   ]
  },
  {
   "cell_type": "code",
   "execution_count": 260,
   "metadata": {
    "ExecuteTime": {
     "end_time": "2016-10-07T17:39:48.623762",
     "start_time": "2016-10-07T17:39:48.372320"
    },
    "collapsed": false
   },
   "outputs": [],
   "source": [
    "df3 = df2.merge(demo_df, left_on='Zip Code', right_on='Area')"
   ]
  },
  {
   "cell_type": "code",
   "execution_count": 261,
   "metadata": {
    "ExecuteTime": {
     "end_time": "2016-10-07T17:39:51.794269",
     "start_time": "2016-10-07T17:39:49.147561"
    },
    "collapsed": false
   },
   "outputs": [],
   "source": [
    "df3['Month'] = df3['Date'].map(lambda x: x.month)\n",
    "df3['Year'] = df3['Date'].map(lambda x: x.year)"
   ]
  },
  {
   "cell_type": "code",
   "execution_count": 262,
   "metadata": {
    "ExecuteTime": {
     "end_time": "2016-10-07T17:39:56.211374",
     "start_time": "2016-10-07T17:39:51.796284"
    },
    "collapsed": false
   },
   "outputs": [
    {
     "data": {
      "text/plain": [
       "<matplotlib.axes._subplots.AxesSubplot at 0x12900dd90>"
      ]
     },
     "execution_count": 262,
     "metadata": {},
     "output_type": "execute_result"
    },
    {
     "data": {
      "image/png": "[encoded data removed]",
      "text/plain": [
       "<matplotlib.figure.Figure at 0x1263b26d0>"
      ]
     },
     "metadata": {},
     "output_type": "display_data"
    }
   ],
   "source": [
    "fig = plt.subplots(figsize=(16,8))\n",
    "sns.heatmap(df3.corr(), linewidths=0.5, linecolor='#000000')"
   ]
  },
  {
   "cell_type": "code",
   "execution_count": 263,
   "metadata": {
    "ExecuteTime": {
     "end_time": "2016-10-07T17:39:56.298164",
     "start_time": "2016-10-07T17:39:56.214822"
    },
    "collapsed": false
   },
   "outputs": [],
   "source": [
    "df4 = pd.pivot_table(df3, index=['Store Number', 'Zip Code','Year'], \\\n",
    "               values=['Bottles Sold', 'Volume Sold (Liters)', 'Sale (Dollars)'], aggfunc=sum).reset_index()"
   ]
  },
  {
   "cell_type": "code",
   "execution_count": 264,
   "metadata": {
    "ExecuteTime": {
     "end_time": "2016-10-07T17:39:56.336939",
     "start_time": "2016-10-07T17:39:56.301067"
    },
    "collapsed": false
   },
   "outputs": [],
   "source": [
    "df4.to_csv('liqour_plus_demo.csv')"
   ]
  },
  {
   "cell_type": "code",
   "execution_count": 265,
   "metadata": {
    "ExecuteTime": {
     "end_time": "2016-10-07T17:39:56.357129",
     "start_time": "2016-10-07T17:39:56.339487"
    },
    "collapsed": false
   },
   "outputs": [],
   "source": [
    "df5 = df4.merge(demo_df, left_on='Zip Code', right_on='Area')"
   ]
  },
  {
   "cell_type": "code",
   "execution_count": 266,
   "metadata": {
    "ExecuteTime": {
     "end_time": "2016-10-07T17:39:58.307912",
     "start_time": "2016-10-07T17:39:56.359823"
    },
    "collapsed": false
   },
   "outputs": [
    {
     "data": {
      "text/plain": [
       "<matplotlib.axes._subplots.AxesSubplot at 0x119af2690>"
      ]
     },
     "execution_count": 266,
     "metadata": {},
     "output_type": "execute_result"
    },
    {
     "data": {
      "image/png": "[encoded data removed]",
      "text/plain": [
       "<matplotlib.figure.Figure at 0x11a0c7810>"
      ]
     },
     "metadata": {},
     "output_type": "display_data"
    }
   ],
   "source": [
    "fig = plt.subplots(figsize=(16,8))\n",
    "sns.heatmap(df5[df5['Year']==2015].corr())"
   ]
  },
  {
   "cell_type": "code",
   "execution_count": 267,
   "metadata": {
    "ExecuteTime": {
     "end_time": "2016-10-07T17:39:58.317832",
     "start_time": "2016-10-07T17:39:58.310979"
    },
    "collapsed": false
   },
   "outputs": [
    {
     "data": {
      "text/plain": [
       "(2615, 48)"
      ]
     },
     "execution_count": 267,
     "metadata": {},
     "output_type": "execute_result"
    }
   ],
   "source": [
    "df5.shape"
   ]
  },
  {
   "cell_type": "code",
   "execution_count": 268,
   "metadata": {
    "ExecuteTime": {
     "end_time": "2016-10-07T17:39:58.327784",
     "start_time": "2016-10-07T17:39:58.320750"
    },
    "collapsed": false
   },
   "outputs": [],
   "source": [
    "df5['Above 21'] = pd.Series(df5[df5.columns.values[22:31]].sum(axis=1))"
   ]
  },
  {
   "cell_type": "code",
   "execution_count": 269,
   "metadata": {
    "ExecuteTime": {
     "end_time": "2016-10-07T17:39:58.414643",
     "start_time": "2016-10-07T17:39:58.330978"
    },
    "collapsed": false
   },
   "outputs": [
    {
     "data": {
      "text/html": [
       "<div>\n",
       "<table border=\"1\" class=\"dataframe\">\n",
       "  <thead>\n",
       "    <tr style=\"text-align: right;\">\n",
       "      <th></th>\n",
       "      <th>Store Number</th>\n",
       "      <th>Zip Code</th>\n",
       "      <th>Year</th>\n",
       "      <th>Bottles Sold</th>\n",
       "      <th>Sale (Dollars)</th>\n",
       "      <th>Volume Sold (Liters)</th>\n",
       "      <th>Area</th>\n",
       "      <th>Total Pop</th>\n",
       "      <th>Median HH Inc</th>\n",
       "      <th>Per Capita Inc</th>\n",
       "      <th>...</th>\n",
       "      <th>Married-couple family households</th>\n",
       "      <th>Single mother households</th>\n",
       "      <th>Nonfamily households</th>\n",
       "      <th>Single Occupancy</th>\n",
       "      <th>Avg HH Size</th>\n",
       "      <th>Avg Family Size</th>\n",
       "      <th>Pop Below Poverty Level</th>\n",
       "      <th>% P25+ HS Grad</th>\n",
       "      <th>% P25-54 BA+</th>\n",
       "      <th>Above 21</th>\n",
       "    </tr>\n",
       "  </thead>\n",
       "  <tbody>\n",
       "    <tr>\n",
       "      <th>0</th>\n",
       "      <td>2106</td>\n",
       "      <td>50613</td>\n",
       "      <td>2015</td>\n",
       "      <td>10355</td>\n",
       "      <td>146038.70</td>\n",
       "      <td>9719.85</td>\n",
       "      <td>50613</td>\n",
       "      <td>38681.0</td>\n",
       "      <td>41047.0</td>\n",
       "      <td>19460.0</td>\n",
       "      <td>...</td>\n",
       "      <td>6991.0</td>\n",
       "      <td>1014.0</td>\n",
       "      <td>5444.0</td>\n",
       "      <td>3416.0</td>\n",
       "      <td>2.46</td>\n",
       "      <td>2.91</td>\n",
       "      <td>34431.0</td>\n",
       "      <td>92.8</td>\n",
       "      <td>38.2</td>\n",
       "      <td>26041.0</td>\n",
       "    </tr>\n",
       "    <tr>\n",
       "      <th>1</th>\n",
       "      <td>2106</td>\n",
       "      <td>50613</td>\n",
       "      <td>2016</td>\n",
       "      <td>2218</td>\n",
       "      <td>30478.75</td>\n",
       "      <td>2116.25</td>\n",
       "      <td>50613</td>\n",
       "      <td>38681.0</td>\n",
       "      <td>41047.0</td>\n",
       "      <td>19460.0</td>\n",
       "      <td>...</td>\n",
       "      <td>6991.0</td>\n",
       "      <td>1014.0</td>\n",
       "      <td>5444.0</td>\n",
       "      <td>3416.0</td>\n",
       "      <td>2.46</td>\n",
       "      <td>2.91</td>\n",
       "      <td>34431.0</td>\n",
       "      <td>92.8</td>\n",
       "      <td>38.2</td>\n",
       "      <td>26041.0</td>\n",
       "    </tr>\n",
       "    <tr>\n",
       "      <th>2</th>\n",
       "      <td>2572</td>\n",
       "      <td>50613</td>\n",
       "      <td>2015</td>\n",
       "      <td>6549</td>\n",
       "      <td>98831.43</td>\n",
       "      <td>6080.74</td>\n",
       "      <td>50613</td>\n",
       "      <td>38681.0</td>\n",
       "      <td>41047.0</td>\n",
       "      <td>19460.0</td>\n",
       "      <td>...</td>\n",
       "      <td>6991.0</td>\n",
       "      <td>1014.0</td>\n",
       "      <td>5444.0</td>\n",
       "      <td>3416.0</td>\n",
       "      <td>2.46</td>\n",
       "      <td>2.91</td>\n",
       "      <td>34431.0</td>\n",
       "      <td>92.8</td>\n",
       "      <td>38.2</td>\n",
       "      <td>26041.0</td>\n",
       "    </tr>\n",
       "    <tr>\n",
       "      <th>3</th>\n",
       "      <td>2572</td>\n",
       "      <td>50613</td>\n",
       "      <td>2016</td>\n",
       "      <td>1364</td>\n",
       "      <td>20714.10</td>\n",
       "      <td>1282.11</td>\n",
       "      <td>50613</td>\n",
       "      <td>38681.0</td>\n",
       "      <td>41047.0</td>\n",
       "      <td>19460.0</td>\n",
       "      <td>...</td>\n",
       "      <td>6991.0</td>\n",
       "      <td>1014.0</td>\n",
       "      <td>5444.0</td>\n",
       "      <td>3416.0</td>\n",
       "      <td>2.46</td>\n",
       "      <td>2.91</td>\n",
       "      <td>34431.0</td>\n",
       "      <td>92.8</td>\n",
       "      <td>38.2</td>\n",
       "      <td>26041.0</td>\n",
       "    </tr>\n",
       "    <tr>\n",
       "      <th>4</th>\n",
       "      <td>2835</td>\n",
       "      <td>50613</td>\n",
       "      <td>2015</td>\n",
       "      <td>790</td>\n",
       "      <td>11751.32</td>\n",
       "      <td>991.50</td>\n",
       "      <td>50613</td>\n",
       "      <td>38681.0</td>\n",
       "      <td>41047.0</td>\n",
       "      <td>19460.0</td>\n",
       "      <td>...</td>\n",
       "      <td>6991.0</td>\n",
       "      <td>1014.0</td>\n",
       "      <td>5444.0</td>\n",
       "      <td>3416.0</td>\n",
       "      <td>2.46</td>\n",
       "      <td>2.91</td>\n",
       "      <td>34431.0</td>\n",
       "      <td>92.8</td>\n",
       "      <td>38.2</td>\n",
       "      <td>26041.0</td>\n",
       "    </tr>\n",
       "  </tbody>\n",
       "</table>\n",
       "<p>5 rows × 49 columns</p>\n",
       "</div>"
      ],
      "text/plain": [
       "   Store Number  Zip Code  Year  Bottles Sold  Sale (Dollars)  \\\n",
       "0          2106     50613  2015         10355       146038.70   \n",
       "1          2106     50613  2016          2218        30478.75   \n",
       "2          2572     50613  2015          6549        98831.43   \n",
       "3          2572     50613  2016          1364        20714.10   \n",
       "4          2835     50613  2015           790        11751.32   \n",
       "\n",
       "   Volume Sold (Liters)   Area  Total Pop  Median HH Inc  Per Capita Inc  \\\n",
       "0               9719.85  50613    38681.0        41047.0         19460.0   \n",
       "1               2116.25  50613    38681.0        41047.0         19460.0   \n",
       "2               6080.74  50613    38681.0        41047.0         19460.0   \n",
       "3               1282.11  50613    38681.0        41047.0         19460.0   \n",
       "4                991.50  50613    38681.0        41047.0         19460.0   \n",
       "\n",
       "     ...     Married-couple family households  Single mother households  \\\n",
       "0    ...                               6991.0                    1014.0   \n",
       "1    ...                               6991.0                    1014.0   \n",
       "2    ...                               6991.0                    1014.0   \n",
       "3    ...                               6991.0                    1014.0   \n",
       "4    ...                               6991.0                    1014.0   \n",
       "\n",
       "   Nonfamily households  Single Occupancy  Avg HH Size  Avg Family Size  \\\n",
       "0                5444.0            3416.0         2.46             2.91   \n",
       "1                5444.0            3416.0         2.46             2.91   \n",
       "2                5444.0            3416.0         2.46             2.91   \n",
       "3                5444.0            3416.0         2.46             2.91   \n",
       "4                5444.0            3416.0         2.46             2.91   \n",
       "\n",
       "   Pop Below Poverty Level  % P25+ HS Grad  % P25-54 BA+  Above 21  \n",
       "0                  34431.0            92.8          38.2   26041.0  \n",
       "1                  34431.0            92.8          38.2   26041.0  \n",
       "2                  34431.0            92.8          38.2   26041.0  \n",
       "3                  34431.0            92.8          38.2   26041.0  \n",
       "4                  34431.0            92.8          38.2   26041.0  \n",
       "\n",
       "[5 rows x 49 columns]"
      ]
     },
     "execution_count": 269,
     "metadata": {},
     "output_type": "execute_result"
    }
   ],
   "source": [
    "df5.head()"
   ]
  },
  {
   "cell_type": "raw",
   "metadata": {
    "collapsed": false
   },
   "source": [
    "# groupby store, then by year\n",
    "df3.groupby(['Store Number', 'Year'])[['Bottles Sold']].sum()"
   ]
  },
  {
   "cell_type": "raw",
   "metadata": {
    "collapsed": false,
    "scrolled": false
   },
   "source": [
    "df3.corr().loc['Sale (Dollars)',:]"
   ]
  },
  {
   "cell_type": "raw",
   "metadata": {
    "ExecuteTime": {
     "end_time": "2016-10-07T16:46:47.577651",
     "start_time": "2016-10-07T16:46:47.552072"
    }
   },
   "source": [
    "df5.info()"
   ]
  },
  {
   "cell_type": "code",
   "execution_count": 270,
   "metadata": {
    "ExecuteTime": {
     "end_time": "2016-10-07T17:39:58.425993",
     "start_time": "2016-10-07T17:39:58.417904"
    },
    "collapsed": false
   },
   "outputs": [],
   "source": [
    "df6 = df5.copy()"
   ]
  },
  {
   "cell_type": "raw",
   "metadata": {
    "ExecuteTime": {
     "end_time": "2016-10-07T16:55:49.870068",
     "start_time": "2016-10-07T16:55:49.859740"
    }
   },
   "source": [
    "df5 = df5.drop(df5[(df5['Store Number'] == 4829) | (df5['Store Number'] == 2633) | (df5['Store Number'] == 3385)].index)"
   ]
  },
  {
   "cell_type": "raw",
   "metadata": {
    "ExecuteTime": {
     "end_time": "2016-10-07T16:55:38.550818",
     "start_time": "2016-10-07T16:55:38.537251"
    }
   },
   "source": [
    "df5[(df5['Store Number'] == 4829) | (df5['Store Number'] == 2633) | (df5['Store Number'] == 3385)].index"
   ]
  },
  {
   "cell_type": "code",
   "execution_count": 271,
   "metadata": {
    "ExecuteTime": {
     "end_time": "2016-10-07T17:39:59.871381",
     "start_time": "2016-10-07T17:39:59.865175"
    },
    "collapsed": false
   },
   "outputs": [],
   "source": [
    "sales_median = df5['Sale (Dollars)'].median()\n",
    "sales_std = df5['Sale (Dollars)'].std()"
   ]
  },
  {
   "cell_type": "code",
   "execution_count": 272,
   "metadata": {
    "ExecuteTime": {
     "end_time": "2016-10-07T17:40:01.019506",
     "start_time": "2016-10-07T17:40:01.009529"
    },
    "collapsed": false
   },
   "outputs": [],
   "source": [
    "df5 = df5[abs(df5['Sale (Dollars)'] - sales_median) <= 3*sales_std]\n",
    "df5 = df5[df5['Year']==2015]"
   ]
  },
  {
   "cell_type": "code",
   "execution_count": 273,
   "metadata": {
    "ExecuteTime": {
     "end_time": "2016-10-07T17:40:01.745592",
     "start_time": "2016-10-07T17:40:01.730865"
    },
    "collapsed": false
   },
   "outputs": [
    {
     "data": {
      "text/plain": [
       "count      1307.000000\n",
       "mean      14220.088133\n",
       "std       19053.260493\n",
       "min          39.020000\n",
       "25%        3101.720000\n",
       "50%        6719.350000\n",
       "75%       17018.700000\n",
       "max      116129.540000\n",
       "Name: Sale (Dollars), dtype: float64"
      ]
     },
     "execution_count": 273,
     "metadata": {},
     "output_type": "execute_result"
    }
   ],
   "source": [
    "df5['Sale (Dollars)'].describe()"
   ]
  },
  {
   "cell_type": "code",
   "execution_count": 277,
   "metadata": {
    "ExecuteTime": {
     "end_time": "2016-10-07T17:40:17.432727",
     "start_time": "2016-10-07T17:40:17.426386"
    },
    "collapsed": false
   },
   "outputs": [
    {
     "name": "stdout",
     "output_type": "stream",
     "text": [
      "['Store Number', 'Zip Code', 'Year', 'Bottles Sold', 'Sale (Dollars)', 'Volume Sold (Liters)', 'Area', 'Total Pop', 'Median HH Inc', 'Per Capita Inc', 'White', 'Afr Amer', 'Native Amer', 'Asian Amer', 'Pac Islander', 'Other', 'Bi- Multi-Racial', 'Hispanic or Latino', 'Med Age', '<5 years', '5-17 yrs', '18-20 yrs', '21-24 yrs', '25-34 yrs', '35-44 yrs', '45-54 yrs', '55-59 yrs', '60-64 yrs', '65-74 yrs', '78-84 yrs', '85+ yrs', '% P16+ in labor force', 'Total # Homes Owned', 'Med. Home Value', 'Tot Housing units', 'Owner occupied housing units', 'Renter occupied housing units', 'households', 'Family households', 'Married-couple family households', 'Single mother households', 'Nonfamily households', 'Single Occupancy', 'Avg HH Size', 'Avg Family Size', 'Pop Below Poverty Level', '% P25+ HS Grad', '% P25-54 BA+', 'Above 21']\n"
     ]
    }
   ],
   "source": [
    "features = df5.columns.values.tolist()\n",
    "print features"
   ]
  },
  {
   "cell_type": "code",
   "execution_count": 278,
   "metadata": {
    "ExecuteTime": {
     "end_time": "2016-10-07T17:40:17.990804",
     "start_time": "2016-10-07T17:40:17.984810"
    },
    "collapsed": false
   },
   "outputs": [],
   "source": [
    "drop_features = ['Store Number', 'Bottles Sold', 'Sale (Dollars)', 'Volume Sold (Liters)']\n",
    "for i in drop_features:\n",
    "    features.remove(i)\n"
   ]
  },
  {
   "cell_type": "code",
   "execution_count": 279,
   "metadata": {
    "ExecuteTime": {
     "end_time": "2016-10-07T17:40:18.911466",
     "start_time": "2016-10-07T17:40:18.729706"
    },
    "collapsed": false
   },
   "outputs": [
    {
     "data": {
      "text/plain": [
       "0.076700659319217213"
      ]
     },
     "execution_count": 279,
     "metadata": {},
     "output_type": "execute_result"
    }
   ],
   "source": [
    "X = df5[features]\n",
    "y = df5['Sale (Dollars)']\n",
    "ridge = linear_model.RidgeCV(cv=5)\n",
    "model = ridge.fit(X,y)\n",
    "model.score(X,y)"
   ]
  },
  {
   "cell_type": "code",
   "execution_count": 280,
   "metadata": {
    "ExecuteTime": {
     "end_time": "2016-10-07T17:40:20.088247",
     "start_time": "2016-10-07T17:40:20.081476"
    },
    "collapsed": false
   },
   "outputs": [
    {
     "data": {
      "text/plain": [
       "10.0"
      ]
     },
     "execution_count": 280,
     "metadata": {},
     "output_type": "execute_result"
    }
   ],
   "source": [
    "model.alpha_"
   ]
  },
  {
   "cell_type": "code",
   "execution_count": 225,
   "metadata": {
    "ExecuteTime": {
     "end_time": "2016-10-07T17:30:33.500057",
     "start_time": "2016-10-07T17:30:33.495549"
    },
    "collapsed": false
   },
   "outputs": [],
   "source": [
    "from sklearn.metrics import r2_score"
   ]
  },
  {
   "cell_type": "code",
   "execution_count": 226,
   "metadata": {
    "ExecuteTime": {
     "end_time": "2016-10-07T17:30:48.103035",
     "start_time": "2016-10-07T17:30:48.094274"
    },
    "collapsed": false
   },
   "outputs": [
    {
     "data": {
      "text/plain": [
       "0.065359910218921624"
      ]
     },
     "execution_count": 226,
     "metadata": {},
     "output_type": "execute_result"
    }
   ],
   "source": [
    "r2_score(y, model.predict(X))"
   ]
  },
  {
   "cell_type": "code",
   "execution_count": 224,
   "metadata": {
    "ExecuteTime": {
     "end_time": "2016-10-07T17:30:22.779254",
     "start_time": "2016-10-07T17:30:22.766566"
    },
    "collapsed": false
   },
   "outputs": [],
   "source": [
    "feature_imp = pd.DataFrame([features, model.coef_.tolist()], index=['feature', 'coef']).T"
   ]
  },
  {
   "cell_type": "raw",
   "metadata": {
    "ExecuteTime": {
     "end_time": "2016-10-07T17:11:38.747529",
     "start_time": "2016-10-07T17:11:38.697601"
    }
   },
   "source": [
    "df5.info()"
   ]
  },
  {
   "cell_type": "code",
   "execution_count": 207,
   "metadata": {
    "ExecuteTime": {
     "end_time": "2016-10-07T17:23:44.579440",
     "start_time": "2016-10-07T17:23:44.574221"
    },
    "collapsed": false
   },
   "outputs": [],
   "source": [
    "x = feature_imp.sort_values(by='coef', ascending=False)"
   ]
  },
  {
   "cell_type": "code",
   "execution_count": 208,
   "metadata": {
    "ExecuteTime": {
     "end_time": "2016-10-07T17:23:45.162922",
     "start_time": "2016-10-07T17:23:45.157071"
    },
    "collapsed": false
   },
   "outputs": [],
   "source": [
    "x['coef'] = x['coef'].astype(float)"
   ]
  },
  {
   "cell_type": "code",
   "execution_count": 199,
   "metadata": {
    "ExecuteTime": {
     "end_time": "2016-10-07T17:22:58.869926",
     "start_time": "2016-10-07T17:22:58.861754"
    },
    "collapsed": false
   },
   "outputs": [
    {
     "name": "stdout",
     "output_type": "stream",
     "text": [
      "['Tot Housing units', 'households', 'Med. Home Value', 'Year', 'Per Capita Inc', 'Median HH Inc', 'Zip Code', 'Area', '<5 years', '45-54 yrs', 'Above 21', 'Pop Below Poverty Level']\n"
     ]
    }
   ],
   "source": [
    "print x[((x['coef'] < 2) & (x['coef'] >-2))]['feature'].tolist()"
   ]
  },
  {
   "cell_type": "code",
   "execution_count": 200,
   "metadata": {
    "ExecuteTime": {
     "end_time": "2016-10-07T17:23:01.205669",
     "start_time": "2016-10-07T17:23:01.160234"
    },
    "collapsed": false
   },
   "outputs": [
    {
     "data": {
      "text/html": [
       "<div>\n",
       "<table border=\"1\" class=\"dataframe\">\n",
       "  <thead>\n",
       "    <tr style=\"text-align: right;\">\n",
       "      <th></th>\n",
       "      <th>feature</th>\n",
       "      <th>coef</th>\n",
       "    </tr>\n",
       "  </thead>\n",
       "  <tbody>\n",
       "    <tr>\n",
       "      <th>27</th>\n",
       "      <td>% P16+ in labor force</td>\n",
       "      <td>272.789951</td>\n",
       "    </tr>\n",
       "    <tr>\n",
       "      <th>43</th>\n",
       "      <td>% P25-54 BA+</td>\n",
       "      <td>45.051187</td>\n",
       "    </tr>\n",
       "    <tr>\n",
       "      <th>8</th>\n",
       "      <td>Native Amer</td>\n",
       "      <td>37.955891</td>\n",
       "    </tr>\n",
       "    <tr>\n",
       "      <th>9</th>\n",
       "      <td>Asian Amer</td>\n",
       "      <td>23.621925</td>\n",
       "    </tr>\n",
       "    <tr>\n",
       "      <th>7</th>\n",
       "      <td>Afr Amer</td>\n",
       "      <td>21.803434</td>\n",
       "    </tr>\n",
       "    <tr>\n",
       "      <th>6</th>\n",
       "      <td>White</td>\n",
       "      <td>19.916837</td>\n",
       "    </tr>\n",
       "    <tr>\n",
       "      <th>25</th>\n",
       "      <td>78-84 yrs</td>\n",
       "      <td>14.366709</td>\n",
       "    </tr>\n",
       "    <tr>\n",
       "      <th>37</th>\n",
       "      <td>Nonfamily households</td>\n",
       "      <td>11.000986</td>\n",
       "    </tr>\n",
       "    <tr>\n",
       "      <th>11</th>\n",
       "      <td>Other</td>\n",
       "      <td>10.712671</td>\n",
       "    </tr>\n",
       "    <tr>\n",
       "      <th>12</th>\n",
       "      <td>Bi- Multi-Racial</td>\n",
       "      <td>8.700783</td>\n",
       "    </tr>\n",
       "    <tr>\n",
       "      <th>26</th>\n",
       "      <td>85+ yrs</td>\n",
       "      <td>7.950364</td>\n",
       "    </tr>\n",
       "    <tr>\n",
       "      <th>23</th>\n",
       "      <td>60-64 yrs</td>\n",
       "      <td>7.254824</td>\n",
       "    </tr>\n",
       "    <tr>\n",
       "      <th>36</th>\n",
       "      <td>Single mother households</td>\n",
       "      <td>5.633333</td>\n",
       "    </tr>\n",
       "    <tr>\n",
       "      <th>13</th>\n",
       "      <td>Hispanic or Latino</td>\n",
       "      <td>4.665855</td>\n",
       "    </tr>\n",
       "    <tr>\n",
       "      <th>31</th>\n",
       "      <td>Owner occupied housing units</td>\n",
       "      <td>4.496311</td>\n",
       "    </tr>\n",
       "    <tr>\n",
       "      <th>20</th>\n",
       "      <td>35-44 yrs</td>\n",
       "      <td>3.158684</td>\n",
       "    </tr>\n",
       "    <tr>\n",
       "      <th>35</th>\n",
       "      <td>Married-couple family households</td>\n",
       "      <td>2.668965</td>\n",
       "    </tr>\n",
       "    <tr>\n",
       "      <th>30</th>\n",
       "      <td>Tot Housing units</td>\n",
       "      <td>1.908455</td>\n",
       "    </tr>\n",
       "    <tr>\n",
       "      <th>33</th>\n",
       "      <td>households</td>\n",
       "      <td>1.530617</td>\n",
       "    </tr>\n",
       "    <tr>\n",
       "      <th>29</th>\n",
       "      <td>Med. Home Value</td>\n",
       "      <td>0.127369</td>\n",
       "    </tr>\n",
       "    <tr>\n",
       "      <th>1</th>\n",
       "      <td>Year</td>\n",
       "      <td>0.000000</td>\n",
       "    </tr>\n",
       "    <tr>\n",
       "      <th>5</th>\n",
       "      <td>Per Capita Inc</td>\n",
       "      <td>-0.151705</td>\n",
       "    </tr>\n",
       "    <tr>\n",
       "      <th>4</th>\n",
       "      <td>Median HH Inc</td>\n",
       "      <td>-0.273332</td>\n",
       "    </tr>\n",
       "    <tr>\n",
       "      <th>0</th>\n",
       "      <td>Zip Code</td>\n",
       "      <td>-0.307351</td>\n",
       "    </tr>\n",
       "    <tr>\n",
       "      <th>2</th>\n",
       "      <td>Area</td>\n",
       "      <td>-0.307360</td>\n",
       "    </tr>\n",
       "    <tr>\n",
       "      <th>15</th>\n",
       "      <td>&lt;5 years</td>\n",
       "      <td>-0.371163</td>\n",
       "    </tr>\n",
       "    <tr>\n",
       "      <th>21</th>\n",
       "      <td>45-54 yrs</td>\n",
       "      <td>-0.928151</td>\n",
       "    </tr>\n",
       "    <tr>\n",
       "      <th>44</th>\n",
       "      <td>Above 21</td>\n",
       "      <td>-1.806301</td>\n",
       "    </tr>\n",
       "    <tr>\n",
       "      <th>41</th>\n",
       "      <td>Pop Below Poverty Level</td>\n",
       "      <td>-1.956954</td>\n",
       "    </tr>\n",
       "    <tr>\n",
       "      <th>32</th>\n",
       "      <td>Renter occupied housing units</td>\n",
       "      <td>-2.965025</td>\n",
       "    </tr>\n",
       "    <tr>\n",
       "      <th>16</th>\n",
       "      <td>5-17 yrs</td>\n",
       "      <td>-3.257914</td>\n",
       "    </tr>\n",
       "    <tr>\n",
       "      <th>28</th>\n",
       "      <td>Total # Homes Owned</td>\n",
       "      <td>-3.648408</td>\n",
       "    </tr>\n",
       "    <tr>\n",
       "      <th>18</th>\n",
       "      <td>21-24 yrs</td>\n",
       "      <td>-3.991289</td>\n",
       "    </tr>\n",
       "    <tr>\n",
       "      <th>19</th>\n",
       "      <td>25-34 yrs</td>\n",
       "      <td>-6.185338</td>\n",
       "    </tr>\n",
       "    <tr>\n",
       "      <th>17</th>\n",
       "      <td>18-20 yrs</td>\n",
       "      <td>-8.444841</td>\n",
       "    </tr>\n",
       "    <tr>\n",
       "      <th>34</th>\n",
       "      <td>Family households</td>\n",
       "      <td>-9.468349</td>\n",
       "    </tr>\n",
       "    <tr>\n",
       "      <th>24</th>\n",
       "      <td>65-74 yrs</td>\n",
       "      <td>-11.168706</td>\n",
       "    </tr>\n",
       "    <tr>\n",
       "      <th>22</th>\n",
       "      <td>55-59 yrs</td>\n",
       "      <td>-12.262046</td>\n",
       "    </tr>\n",
       "    <tr>\n",
       "      <th>3</th>\n",
       "      <td>Total Pop</td>\n",
       "      <td>-13.880859</td>\n",
       "    </tr>\n",
       "    <tr>\n",
       "      <th>38</th>\n",
       "      <td>Single Occupancy</td>\n",
       "      <td>-17.546026</td>\n",
       "    </tr>\n",
       "    <tr>\n",
       "      <th>10</th>\n",
       "      <td>Pac Islander</td>\n",
       "      <td>-136.592138</td>\n",
       "    </tr>\n",
       "    <tr>\n",
       "      <th>14</th>\n",
       "      <td>Med Age</td>\n",
       "      <td>-276.226014</td>\n",
       "    </tr>\n",
       "    <tr>\n",
       "      <th>42</th>\n",
       "      <td>% P25+ HS Grad</td>\n",
       "      <td>-283.503890</td>\n",
       "    </tr>\n",
       "    <tr>\n",
       "      <th>40</th>\n",
       "      <td>Avg Family Size</td>\n",
       "      <td>-5029.988372</td>\n",
       "    </tr>\n",
       "    <tr>\n",
       "      <th>39</th>\n",
       "      <td>Avg HH Size</td>\n",
       "      <td>-5500.102574</td>\n",
       "    </tr>\n",
       "  </tbody>\n",
       "</table>\n",
       "</div>"
      ],
      "text/plain": [
       "                             feature         coef\n",
       "27             % P16+ in labor force   272.789951\n",
       "43                      % P25-54 BA+    45.051187\n",
       "8                        Native Amer    37.955891\n",
       "9                         Asian Amer    23.621925\n",
       "7                           Afr Amer    21.803434\n",
       "6                              White    19.916837\n",
       "25                         78-84 yrs    14.366709\n",
       "37              Nonfamily households    11.000986\n",
       "11                             Other    10.712671\n",
       "12                  Bi- Multi-Racial     8.700783\n",
       "26                           85+ yrs     7.950364\n",
       "23                         60-64 yrs     7.254824\n",
       "36          Single mother households     5.633333\n",
       "13                Hispanic or Latino     4.665855\n",
       "31      Owner occupied housing units     4.496311\n",
       "20                         35-44 yrs     3.158684\n",
       "35  Married-couple family households     2.668965\n",
       "30                 Tot Housing units     1.908455\n",
       "33                        households     1.530617\n",
       "29                   Med. Home Value     0.127369\n",
       "1                               Year     0.000000\n",
       "5                     Per Capita Inc    -0.151705\n",
       "4                      Median HH Inc    -0.273332\n",
       "0                           Zip Code    -0.307351\n",
       "2                               Area    -0.307360\n",
       "15                          <5 years    -0.371163\n",
       "21                         45-54 yrs    -0.928151\n",
       "44                          Above 21    -1.806301\n",
       "41           Pop Below Poverty Level    -1.956954\n",
       "32     Renter occupied housing units    -2.965025\n",
       "16                          5-17 yrs    -3.257914\n",
       "28               Total # Homes Owned    -3.648408\n",
       "18                         21-24 yrs    -3.991289\n",
       "19                         25-34 yrs    -6.185338\n",
       "17                         18-20 yrs    -8.444841\n",
       "34                 Family households    -9.468349\n",
       "24                         65-74 yrs   -11.168706\n",
       "22                         55-59 yrs   -12.262046\n",
       "3                          Total Pop   -13.880859\n",
       "38                  Single Occupancy   -17.546026\n",
       "10                      Pac Islander  -136.592138\n",
       "14                           Med Age  -276.226014\n",
       "42                    % P25+ HS Grad  -283.503890\n",
       "40                   Avg Family Size -5029.988372\n",
       "39                       Avg HH Size -5500.102574"
      ]
     },
     "execution_count": 200,
     "metadata": {},
     "output_type": "execute_result"
    }
   ],
   "source": [
    "x"
   ]
  },
  {
   "cell_type": "code",
   "execution_count": 164,
   "metadata": {
    "ExecuteTime": {
     "end_time": "2016-10-07T17:19:45.034729",
     "start_time": "2016-10-07T17:19:45.029016"
    },
    "collapsed": false
   },
   "outputs": [],
   "source": [
    "predicted = model.predict(X)"
   ]
  },
  {
   "cell_type": "code",
   "execution_count": null,
   "metadata": {
    "collapsed": false
   },
   "outputs": [],
   "source": []
  },
  {
   "cell_type": "code",
   "execution_count": 140,
   "metadata": {
    "ExecuteTime": {
     "end_time": "2016-10-07T17:16:15.000543",
     "start_time": "2016-10-07T17:16:14.660567"
    },
    "collapsed": false
   },
   "outputs": [
    {
     "data": {
      "text/plain": [
       "<matplotlib.collections.PathCollection at 0x125f6eed0>"
      ]
     },
     "execution_count": 140,
     "metadata": {},
     "output_type": "execute_result"
    },
    {
     "data": {
      "image/png": "[encoded data removed]",
      "text/plain": [
       "<matplotlib.figure.Figure at 0x125f78c90>"
      ]
     },
     "metadata": {},
     "output_type": "display_data"
    }
   ],
   "source": [
    "plt.scatter(predicted, y)"
   ]
  },
  {
   "cell_type": "markdown",
   "metadata": {},
   "source": [
    "## Record your findings\n",
    "\n",
    "Be sure to write out anything observations from your exploratory analysis."
   ]
  },
  {
   "cell_type": "markdown",
   "metadata": {},
   "source": [
    "# Mine the data\n",
    "Now you are ready to compute the variables you will use for your regression from the data. For example, you may want to\n",
    "compute total sales per store from Jan to March of 2015, mean price per bottle, etc. Refer to the readme for more ideas appropriate to your scenario.\n",
    "\n",
    "Pandas is your friend for this task. Take a look at the operations [here](http://pandas.pydata.org/pandas-docs/stable/groupby.html) for ideas on how to make the best use of pandas and feel free to search for blog and Stack Overflow posts to help you group data by certain variables and compute sums, means, etc. You may find it useful to create a new data frame to house this summary data."
   ]
  },
  {
   "cell_type": "markdown",
   "metadata": {},
   "source": [
    "# Refine the data\n",
    "Look for any statistical relationships, correlations, or other relevant properties of the dataset."
   ]
  },
  {
   "cell_type": "code",
   "execution_count": null,
   "metadata": {
    "collapsed": false
   },
   "outputs": [],
   "source": []
  },
  {
   "cell_type": "markdown",
   "metadata": {},
   "source": [
    "# Build your models\n",
    "\n",
    "Using scikit-learn or statsmodels, build the necessary models for your scenario. Evaluate model fit."
   ]
  },
  {
   "cell_type": "code",
   "execution_count": 45,
   "metadata": {
    "ExecuteTime": {
     "end_time": "2016-10-07T16:46:47.586938",
     "start_time": "2016-10-07T16:46:47.580555"
    },
    "collapsed": false
   },
   "outputs": [],
   "source": [
    "from sklearn import linear_model\n"
   ]
  },
  {
   "cell_type": "markdown",
   "metadata": {},
   "source": [
    "## Plot your results\n",
    "\n",
    "Again make sure that you record any valuable information. For example, in the tax scenario, did you find the sales from the first three months of the year to be a good predictor of the total sales for the year? Plot the predictions versus the true values and discuss the successes and limitations of your models"
   ]
  },
  {
   "cell_type": "code",
   "execution_count": null,
   "metadata": {
    "collapsed": false
   },
   "outputs": [],
   "source": []
  },
  {
   "cell_type": "markdown",
   "metadata": {},
   "source": [
    "# Present the Results\n",
    "\n",
    "Present your conclusions and results. If you have more than one interesting model feel free to include more than one along with a discussion. Use your work in this notebook to prepare your write-up."
   ]
  },
  {
   "cell_type": "code",
   "execution_count": null,
   "metadata": {
    "collapsed": false
   },
   "outputs": [],
   "source": []
  }
 ],
 "metadata": {
  "celltoolbar": "Slideshow",
  "kernelspec": {
   "display_name": "Python 2",
   "language": "python",
   "name": "python2"
  },
  "language_info": {
   "codemirror_mode": {
    "name": "ipython",
    "version": 2
   },
   "file_extension": ".py",
   "mimetype": "text/x-python",
   "name": "python",
   "nbconvert_exporter": "python",
   "pygments_lexer": "ipython2",
   "version": "2.7.12"
  }
 },
 "nbformat": 4,
 "nbformat_minor": 0
}
