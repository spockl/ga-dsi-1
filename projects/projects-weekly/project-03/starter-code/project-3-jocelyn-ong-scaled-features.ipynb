{
 "cells": [
  {
   "cell_type": "markdown",
   "metadata": {
    "slideshow": {
     "slide_type": "slide"
    }
   },
   "source": [
    "# Getting started\n",
    "\n",
    "Once you've chosen your scenario, download the data from [the Iowa website](https://data.iowa.gov/Economy/Iowa-Liquor-Sales/m3tr-qhgy) in csv format. Start by loading the data with pandas. You may need to parse the date columns appropriately."
   ]
  },
  {
   "cell_type": "code",
   "execution_count": 1,
   "metadata": {
    "ExecuteTime": {
     "end_time": "2016-10-11T23:19:53.613894",
     "start_time": "2016-10-11T23:19:45.204851"
    },
    "collapsed": false,
    "slideshow": {
     "slide_type": "slide"
    }
   },
   "outputs": [],
   "source": [
    "# Import relevant libraries\n",
    "import pandas as pd\n",
    "import numpy as np\n",
    "import seaborn as sns\n",
    "import matplotlib.pyplot as plt\n",
    "%matplotlib inline\n",
    "from sklearn import linear_model"
   ]
  },
  {
   "cell_type": "code",
   "execution_count": 2,
   "metadata": {
    "ExecuteTime": {
     "end_time": "2016-10-11T23:19:54.582772",
     "start_time": "2016-10-11T23:19:54.576648"
    },
    "collapsed": false,
    "slideshow": {
     "slide_type": "-"
    }
   },
   "outputs": [],
   "source": [
    "def load_file(file_path):\n",
    "    try:\n",
    "        return pd.read_csv(file_path_name, low_memory=False)\n",
    "    except:\n",
    "        print 'Error: Check file path/ name'"
   ]
  },
  {
   "cell_type": "code",
   "execution_count": 3,
   "metadata": {
    "ExecuteTime": {
     "end_time": "2016-10-11T23:19:57.220821",
     "start_time": "2016-10-11T23:19:55.968255"
    },
    "collapsed": false
   },
   "outputs": [],
   "source": [
    "# Load the data into a DataFrame\n",
    "base_path = '/Users/joce/learning/data_science/project-3-datasets/'\n",
    "file_path_name = base_path + 'Iowa_Liquor_sales_sample_10pct.csv'\n",
    "df = load_file(file_path_name)"
   ]
  },
  {
   "cell_type": "code",
   "execution_count": 4,
   "metadata": {
    "ExecuteTime": {
     "end_time": "2016-10-11T23:19:59.594331",
     "start_time": "2016-10-11T23:19:57.865042"
    },
    "collapsed": false,
    "slideshow": {
     "slide_type": "-"
    }
   },
   "outputs": [],
   "source": [
    "## Transform the dates column\n",
    "df[\"Date\"] = pd.to_datetime(df[\"Date\"], format='%m/%d/%Y')"
   ]
  },
  {
   "cell_type": "markdown",
   "metadata": {},
   "source": [
    "To ensure accuracy, we are importing a list of Iowa zip codes, cities, counties and county numbers."
   ]
  },
  {
   "cell_type": "code",
   "execution_count": 5,
   "metadata": {
    "ExecuteTime": {
     "end_time": "2016-10-11T23:20:05.425783",
     "start_time": "2016-10-11T23:20:05.376231"
    },
    "collapsed": false
   },
   "outputs": [],
   "source": [
    "file_path_name = base_path + 'ia_zip_city_county_sqm.csv'\n",
    "location_data = load_file(file_path_name)"
   ]
  },
  {
   "cell_type": "code",
   "execution_count": 6,
   "metadata": {
    "ExecuteTime": {
     "end_time": "2016-10-11T23:20:06.537283",
     "start_time": "2016-10-11T23:20:06.499166"
    },
    "collapsed": false
   },
   "outputs": [
    {
     "data": {
      "text/html": [
       "<div>\n",
       "<table border=\"1\" class=\"dataframe\">\n",
       "  <thead>\n",
       "    <tr style=\"text-align: right;\">\n",
       "      <th></th>\n",
       "      <th>Unnamed: 0</th>\n",
       "      <th>zip</th>\n",
       "      <th>primary_city</th>\n",
       "      <th>county</th>\n",
       "      <th>state</th>\n",
       "      <th>County#</th>\n",
       "      <th>ZCTA5CE10</th>\n",
       "      <th>area-sqm</th>\n",
       "    </tr>\n",
       "  </thead>\n",
       "  <tbody>\n",
       "    <tr>\n",
       "      <th>0</th>\n",
       "      <td>0</td>\n",
       "      <td>50001</td>\n",
       "      <td>ACKWORTH</td>\n",
       "      <td>Warren</td>\n",
       "      <td>IA</td>\n",
       "      <td>91</td>\n",
       "      <td>50001</td>\n",
       "      <td>62796656</td>\n",
       "    </tr>\n",
       "    <tr>\n",
       "      <th>1</th>\n",
       "      <td>1</td>\n",
       "      <td>50002</td>\n",
       "      <td>ADAIR</td>\n",
       "      <td>Guthrie</td>\n",
       "      <td>IA</td>\n",
       "      <td>39</td>\n",
       "      <td>50002</td>\n",
       "      <td>279202219</td>\n",
       "    </tr>\n",
       "    <tr>\n",
       "      <th>2</th>\n",
       "      <td>2</td>\n",
       "      <td>50003</td>\n",
       "      <td>ADEL</td>\n",
       "      <td>Dallas</td>\n",
       "      <td>IA</td>\n",
       "      <td>25</td>\n",
       "      <td>50003</td>\n",
       "      <td>298086291</td>\n",
       "    </tr>\n",
       "    <tr>\n",
       "      <th>3</th>\n",
       "      <td>3</td>\n",
       "      <td>50005</td>\n",
       "      <td>ALBION</td>\n",
       "      <td>Marshall</td>\n",
       "      <td>IA</td>\n",
       "      <td>64</td>\n",
       "      <td>50005</td>\n",
       "      <td>69623573</td>\n",
       "    </tr>\n",
       "    <tr>\n",
       "      <th>4</th>\n",
       "      <td>4</td>\n",
       "      <td>50006</td>\n",
       "      <td>ALDEN</td>\n",
       "      <td>Hardin</td>\n",
       "      <td>IA</td>\n",
       "      <td>42</td>\n",
       "      <td>50006</td>\n",
       "      <td>317745150</td>\n",
       "    </tr>\n",
       "  </tbody>\n",
       "</table>\n",
       "</div>"
      ],
      "text/plain": [
       "   Unnamed: 0    zip primary_city    county state  County#  ZCTA5CE10  \\\n",
       "0           0  50001     ACKWORTH    Warren    IA       91      50001   \n",
       "1           1  50002        ADAIR   Guthrie    IA       39      50002   \n",
       "2           2  50003         ADEL    Dallas    IA       25      50003   \n",
       "3           3  50005       ALBION  Marshall    IA       64      50005   \n",
       "4           4  50006        ALDEN    Hardin    IA       42      50006   \n",
       "\n",
       "    area-sqm  \n",
       "0   62796656  \n",
       "1  279202219  \n",
       "2  298086291  \n",
       "3   69623573  \n",
       "4  317745150  "
      ]
     },
     "execution_count": 6,
     "metadata": {},
     "output_type": "execute_result"
    }
   ],
   "source": [
    "location_data.head()"
   ]
  },
  {
   "cell_type": "code",
   "execution_count": 7,
   "metadata": {
    "ExecuteTime": {
     "end_time": "2016-10-11T23:20:07.175478",
     "start_time": "2016-10-11T23:20:07.168667"
    },
    "collapsed": false
   },
   "outputs": [],
   "source": [
    "location_data.columns = ['number', 'Zip Code', 'City', 'County', 'State','County Number', 'repeat', 'Area (sqkm)']\n",
    "location_data['Area (sqkm)'] = location_data['Area (sqkm)'] / 1000000"
   ]
  },
  {
   "cell_type": "code",
   "execution_count": 8,
   "metadata": {
    "ExecuteTime": {
     "end_time": "2016-10-11T23:20:08.182854",
     "start_time": "2016-10-11T23:20:08.176427"
    },
    "collapsed": false
   },
   "outputs": [],
   "source": [
    "location_data.drop(['number', 'repeat'], axis=1, inplace=True)"
   ]
  },
  {
   "cell_type": "markdown",
   "metadata": {},
   "source": [
    "We will run a check on zip codes before joining the 2 tables"
   ]
  },
  {
   "cell_type": "code",
   "execution_count": 9,
   "metadata": {
    "ExecuteTime": {
     "end_time": "2016-10-11T23:20:09.484900",
     "start_time": "2016-10-11T23:20:09.432587"
    },
    "collapsed": false
   },
   "outputs": [
    {
     "name": "stdout",
     "output_type": "stream",
     "text": [
      "['52303', '712-2', '52087', '52084', '52036', '52733', '56201', '50300']\n"
     ]
    }
   ],
   "source": [
    "liquor_zips = df['Zip Code'].drop_duplicates().tolist()\n",
    "ref_zips = location_data['Zip Code'].astype(str).tolist()\n",
    "z = [x for x in liquor_zips if x not in ref_zips]\n",
    "print z"
   ]
  },
  {
   "cell_type": "code",
   "execution_count": 10,
   "metadata": {
    "ExecuteTime": {
     "end_time": "2016-10-11T23:20:10.880414",
     "start_time": "2016-10-11T23:20:10.360432"
    },
    "collapsed": false
   },
   "outputs": [
    {
     "name": "stdout",
     "output_type": "stream",
     "text": [
      "   Zip Code          City County  County Number\n",
      "78    52303  CEDAR RAPIDS   Linn           57.0\n",
      "CEDAR RAPIDS\n",
      "     Zip Code          City County State  County Number  Area (sqkm)\n",
      "805     52401  CEDAR RAPIDS   Linn    IA             57     3.464505\n",
      "806     52402  CEDAR RAPIDS   Linn    IA             57    36.420817\n",
      "807     52403  CEDAR RAPIDS   Linn    IA             57    69.523743\n",
      "808     52404  CEDAR RAPIDS   Linn    IA             57   142.933490\n",
      "809     52405  CEDAR RAPIDS   Linn    IA             57    38.493180\n",
      "810     52411  CEDAR RAPIDS   Linn    IA             57    44.635019\n",
      "\n",
      "     Zip Code    City    County  County Number\n",
      "114     712-2  DUNLAP  Harrison           43.0\n",
      "8186    712-2  DUNLAP       NaN            NaN\n",
      "DUNLAP\n",
      "     Zip Code    City    County State  County Number  Area (sqkm)\n",
      "570     51529  DUNLAP  Harrison    IA             43   333.953737\n",
      "\n",
      "    Zip Code        City    County  County Number\n",
      "267    52087  MANCHESTER  Delaware           28.0\n",
      "MANCHESTER\n",
      "     Zip Code        City    County State  County Number  Area (sqkm)\n",
      "658     52057  MANCHESTER  Delaware    IA             28   362.350079\n",
      "\n",
      "    Zip Code       City County  County Number\n",
      "464    52084  DAVENPORT  Scott           82.0\n",
      "DAVENPORT\n",
      "     Zip Code       City County State  County Number  Area (sqkm)\n",
      "934     52801  DAVENPORT  Scott    IA             82     1.359908\n",
      "935     52802  DAVENPORT  Scott    IA             82    29.294412\n",
      "936     52803  DAVENPORT  Scott    IA             82    14.068035\n",
      "937     52804  DAVENPORT  Scott    IA             82    88.861422\n",
      "938     52806  DAVENPORT  Scott    IA             82    79.448284\n",
      "939     52807  DAVENPORT  Scott    IA             82    76.469440\n",
      "\n",
      "    Zip Code      City    County  County Number\n",
      "496    52036  DELAWARE  Delaware           28.0\n",
      "DELAWARE\n",
      "Empty DataFrame\n",
      "Columns: [Zip Code, City, County, State, County Number, Area (sqkm)]\n",
      "Index: []\n",
      "\n",
      "     Zip Code     City   County  County Number\n",
      "1055    52733  CLINTON  Clinton           23.0\n",
      "CLINTON\n",
      "     Zip Code     City   County State  County Number  Area (sqkm)\n",
      "901     52732  CLINTON  Clinton    IA             23   310.704633\n",
      "\n",
      "     Zip Code        City      County  County Number\n",
      "1871    56201  BURLINGTON  Des Moines           29.0\n",
      "BURLINGTON\n",
      "     Zip Code        City      County State  County Number  Area (sqkm)\n",
      "859     52601  BURLINGTON  Des Moines    IA             29    312.02532\n",
      "\n",
      "     Zip Code        City County  County Number\n",
      "4942    50300  DES MOINES   Polk           77.0\n",
      "DES MOINES\n",
      "     Zip Code        City County State  County Number  Area (sqkm)\n",
      "190     50309  DES MOINES   Polk    IA             77     7.776473\n",
      "191     50310  DES MOINES   Polk    IA             77    21.123546\n",
      "192     50311  DES MOINES   Polk    IA             77     6.511832\n",
      "193     50312  DES MOINES   Polk    IA             77    15.051060\n",
      "194     50313  DES MOINES   Polk    IA             77    47.635293\n",
      "195     50314  DES MOINES   Polk    IA             77     6.629721\n",
      "196     50315  DES MOINES   Polk    IA             77    26.560331\n",
      "197     50316  DES MOINES   Polk    IA             77     9.302481\n",
      "198     50317  DES MOINES   Polk    IA             77    60.041842\n",
      "199     50319  DES MOINES   Polk    IA             77     0.213707\n",
      "200     50320  DES MOINES   Polk    IA             77    49.547031\n",
      "201     50321  DES MOINES   Polk    IA             77    30.969186\n",
      "\n"
     ]
    }
   ],
   "source": [
    "for i in z:\n",
    "    print df[['Zip Code', 'City', 'County', 'County Number']][df['Zip Code'] == i].drop_duplicates()\n",
    "    city = df['City'][df['Zip Code'] == i].drop_duplicates().iloc[0].upper()\n",
    "    print city\n",
    "    try:\n",
    "        print location_data[location_data['City']==city].drop_duplicates()\n",
    "    except:\n",
    "        print i, 'not in Iowa'\n",
    "    print"
   ]
  },
  {
   "cell_type": "markdown",
   "metadata": {},
   "source": [
    "Based on the above, we get a vague idea of what the zips are supposed to be"
   ]
  },
  {
   "cell_type": "code",
   "execution_count": 11,
   "metadata": {
    "ExecuteTime": {
     "end_time": "2016-10-11T23:20:12.589120",
     "start_time": "2016-10-11T23:20:12.431957"
    },
    "collapsed": false
   },
   "outputs": [],
   "source": [
    "corrected_zips = ['52403','51529', '52057','52804','0','52732','52601','50309']\n",
    "for i in range(len(z)):\n",
    "    df.ix[df['Zip Code']==z[i], 'Zip Code']=corrected_zips[i]"
   ]
  },
  {
   "cell_type": "code",
   "execution_count": 12,
   "metadata": {
    "ExecuteTime": {
     "end_time": "2016-10-11T23:20:12.976945",
     "start_time": "2016-10-11T23:20:12.954981"
    },
    "collapsed": false
   },
   "outputs": [
    {
     "name": "stdout",
     "output_type": "stream",
     "text": [
      "['0']\n"
     ]
    }
   ],
   "source": [
    "# Run the test again\n",
    "liquor_zips = df['Zip Code'].drop_duplicates().tolist()\n",
    "ref_zips = location_data['Zip Code'].astype(str).tolist()\n",
    "z = [x for x in liquor_zips if x not in ref_zips]\n",
    "print z"
   ]
  },
  {
   "cell_type": "code",
   "execution_count": 13,
   "metadata": {
    "ExecuteTime": {
     "end_time": "2016-10-11T23:20:13.715873",
     "start_time": "2016-10-11T23:20:13.547644"
    },
    "collapsed": false
   },
   "outputs": [],
   "source": [
    "df['Zip Code'] = df['Zip Code'].astype(int)"
   ]
  },
  {
   "cell_type": "markdown",
   "metadata": {},
   "source": [
    "Now we merge our location data to our liquor sales"
   ]
  },
  {
   "cell_type": "code",
   "execution_count": 14,
   "metadata": {
    "ExecuteTime": {
     "end_time": "2016-10-11T23:20:14.968652",
     "start_time": "2016-10-11T23:20:14.607361"
    },
    "collapsed": false
   },
   "outputs": [],
   "source": [
    "df2 = df.copy()\n",
    "df2.drop(['County Number', 'City', 'County'], axis=1, inplace=True)\n",
    "df2 = df2.merge(location_data, how='left', on='Zip Code')\n",
    "df2.drop(['State'], axis=1, inplace=True)"
   ]
  },
  {
   "cell_type": "code",
   "execution_count": 15,
   "metadata": {
    "ExecuteTime": {
     "end_time": "2016-10-11T23:20:15.588714",
     "start_time": "2016-10-11T23:20:15.485993"
    },
    "collapsed": false
   },
   "outputs": [
    {
     "data": {
      "text/html": [
       "<div>\n",
       "<table border=\"1\" class=\"dataframe\">\n",
       "  <thead>\n",
       "    <tr style=\"text-align: right;\">\n",
       "      <th></th>\n",
       "      <th>Date</th>\n",
       "      <th>Store Number</th>\n",
       "      <th>Zip Code</th>\n",
       "      <th>Category</th>\n",
       "      <th>Category Name</th>\n",
       "      <th>Vendor Number</th>\n",
       "      <th>Item Number</th>\n",
       "      <th>Item Description</th>\n",
       "      <th>Bottle Volume (ml)</th>\n",
       "      <th>State Bottle Cost</th>\n",
       "      <th>State Bottle Retail</th>\n",
       "      <th>Bottles Sold</th>\n",
       "      <th>Sale (Dollars)</th>\n",
       "      <th>Volume Sold (Liters)</th>\n",
       "      <th>Volume Sold (Gallons)</th>\n",
       "      <th>City</th>\n",
       "      <th>County</th>\n",
       "      <th>County Number</th>\n",
       "      <th>Area (sqkm)</th>\n",
       "    </tr>\n",
       "  </thead>\n",
       "  <tbody>\n",
       "    <tr>\n",
       "      <th>0</th>\n",
       "      <td>2015-11-04</td>\n",
       "      <td>3717</td>\n",
       "      <td>50674</td>\n",
       "      <td>1051100.0</td>\n",
       "      <td>APRICOT BRANDIES</td>\n",
       "      <td>55</td>\n",
       "      <td>54436</td>\n",
       "      <td>Mr. Boston Apricot Brandy</td>\n",
       "      <td>750</td>\n",
       "      <td>$4.50</td>\n",
       "      <td>$6.75</td>\n",
       "      <td>12</td>\n",
       "      <td>$81.00</td>\n",
       "      <td>9.0</td>\n",
       "      <td>2.38</td>\n",
       "      <td>SUMNER</td>\n",
       "      <td>Bremer</td>\n",
       "      <td>9.0</td>\n",
       "      <td>408.690075</td>\n",
       "    </tr>\n",
       "    <tr>\n",
       "      <th>1</th>\n",
       "      <td>2016-03-02</td>\n",
       "      <td>2614</td>\n",
       "      <td>52807</td>\n",
       "      <td>1011100.0</td>\n",
       "      <td>BLENDED WHISKIES</td>\n",
       "      <td>395</td>\n",
       "      <td>27605</td>\n",
       "      <td>Tin Cup</td>\n",
       "      <td>750</td>\n",
       "      <td>$13.75</td>\n",
       "      <td>$20.63</td>\n",
       "      <td>2</td>\n",
       "      <td>$41.26</td>\n",
       "      <td>1.5</td>\n",
       "      <td>0.40</td>\n",
       "      <td>DAVENPORT</td>\n",
       "      <td>Scott</td>\n",
       "      <td>82.0</td>\n",
       "      <td>76.469440</td>\n",
       "    </tr>\n",
       "    <tr>\n",
       "      <th>2</th>\n",
       "      <td>2016-02-11</td>\n",
       "      <td>2106</td>\n",
       "      <td>50613</td>\n",
       "      <td>1011200.0</td>\n",
       "      <td>STRAIGHT BOURBON WHISKIES</td>\n",
       "      <td>65</td>\n",
       "      <td>19067</td>\n",
       "      <td>Jim Beam</td>\n",
       "      <td>1000</td>\n",
       "      <td>$12.59</td>\n",
       "      <td>$18.89</td>\n",
       "      <td>24</td>\n",
       "      <td>$453.36</td>\n",
       "      <td>24.0</td>\n",
       "      <td>6.34</td>\n",
       "      <td>CEDAR FALLS</td>\n",
       "      <td>Black Hawk</td>\n",
       "      <td>7.0</td>\n",
       "      <td>329.972902</td>\n",
       "    </tr>\n",
       "    <tr>\n",
       "      <th>3</th>\n",
       "      <td>2016-02-03</td>\n",
       "      <td>2501</td>\n",
       "      <td>50010</td>\n",
       "      <td>1071100.0</td>\n",
       "      <td>AMERICAN COCKTAILS</td>\n",
       "      <td>395</td>\n",
       "      <td>59154</td>\n",
       "      <td>1800 Ultimate Margarita</td>\n",
       "      <td>1750</td>\n",
       "      <td>$9.50</td>\n",
       "      <td>$14.25</td>\n",
       "      <td>6</td>\n",
       "      <td>$85.50</td>\n",
       "      <td>10.5</td>\n",
       "      <td>2.77</td>\n",
       "      <td>AMES</td>\n",
       "      <td>Story</td>\n",
       "      <td>85.0</td>\n",
       "      <td>155.294118</td>\n",
       "    </tr>\n",
       "    <tr>\n",
       "      <th>4</th>\n",
       "      <td>2015-08-18</td>\n",
       "      <td>3654</td>\n",
       "      <td>50421</td>\n",
       "      <td>1031080.0</td>\n",
       "      <td>VODKA 80 PROOF</td>\n",
       "      <td>297</td>\n",
       "      <td>35918</td>\n",
       "      <td>Five O'clock Vodka</td>\n",
       "      <td>1750</td>\n",
       "      <td>$7.20</td>\n",
       "      <td>$10.80</td>\n",
       "      <td>12</td>\n",
       "      <td>$129.60</td>\n",
       "      <td>21.0</td>\n",
       "      <td>5.55</td>\n",
       "      <td>BELMOND</td>\n",
       "      <td>Wright</td>\n",
       "      <td>99.0</td>\n",
       "      <td>232.911303</td>\n",
       "    </tr>\n",
       "  </tbody>\n",
       "</table>\n",
       "</div>"
      ],
      "text/plain": [
       "        Date  Store Number  Zip Code   Category              Category Name  \\\n",
       "0 2015-11-04          3717     50674  1051100.0           APRICOT BRANDIES   \n",
       "1 2016-03-02          2614     52807  1011100.0           BLENDED WHISKIES   \n",
       "2 2016-02-11          2106     50613  1011200.0  STRAIGHT BOURBON WHISKIES   \n",
       "3 2016-02-03          2501     50010  1071100.0         AMERICAN COCKTAILS   \n",
       "4 2015-08-18          3654     50421  1031080.0             VODKA 80 PROOF   \n",
       "\n",
       "   Vendor Number  Item Number           Item Description  Bottle Volume (ml)  \\\n",
       "0             55        54436  Mr. Boston Apricot Brandy                 750   \n",
       "1            395        27605                    Tin Cup                 750   \n",
       "2             65        19067                   Jim Beam                1000   \n",
       "3            395        59154    1800 Ultimate Margarita                1750   \n",
       "4            297        35918         Five O'clock Vodka                1750   \n",
       "\n",
       "  State Bottle Cost State Bottle Retail  Bottles Sold Sale (Dollars)  \\\n",
       "0             $4.50               $6.75            12         $81.00   \n",
       "1            $13.75              $20.63             2         $41.26   \n",
       "2            $12.59              $18.89            24        $453.36   \n",
       "3             $9.50              $14.25             6         $85.50   \n",
       "4             $7.20              $10.80            12        $129.60   \n",
       "\n",
       "   Volume Sold (Liters)  Volume Sold (Gallons)         City      County  \\\n",
       "0                   9.0                   2.38       SUMNER      Bremer   \n",
       "1                   1.5                   0.40    DAVENPORT       Scott   \n",
       "2                  24.0                   6.34  CEDAR FALLS  Black Hawk   \n",
       "3                  10.5                   2.77         AMES       Story   \n",
       "4                  21.0                   5.55      BELMOND      Wright   \n",
       "\n",
       "   County Number  Area (sqkm)  \n",
       "0            9.0   408.690075  \n",
       "1           82.0    76.469440  \n",
       "2            7.0   329.972902  \n",
       "3           85.0   155.294118  \n",
       "4           99.0   232.911303  "
      ]
     },
     "execution_count": 15,
     "metadata": {},
     "output_type": "execute_result"
    }
   ],
   "source": [
    "df2.head()"
   ]
  },
  {
   "cell_type": "raw",
   "metadata": {
    "ExecuteTime": {
     "end_time": "2016-10-11T09:23:40.875953",
     "start_time": "2016-10-11T09:23:40.864499"
    },
    "collapsed": false,
    "slideshow": {
     "slide_type": "fragment"
    }
   },
   "source": [
    "df2.dtypes"
   ]
  },
  {
   "cell_type": "code",
   "execution_count": 16,
   "metadata": {
    "ExecuteTime": {
     "end_time": "2016-10-11T23:20:17.141245",
     "start_time": "2016-10-11T23:20:17.128315"
    },
    "collapsed": false
   },
   "outputs": [],
   "source": [
    "# Write a function that cross references related columns and fills the data in where it's missing\n",
    "def fill_missing(related_cols, column, dataframe):\n",
    "    related_cols.remove(column)\n",
    "    reference = dataframe[related_cols][dataframe[column].isnull()].drop_duplicates()\n",
    "    for j in range(len(related_cols)):\n",
    "        col_1 = reference[related_cols[j]]\n",
    "        for i in col_1:\n",
    "            try:\n",
    "                x = dataframe[column][(dataframe[related_cols[j]]==i) & (dataframe[column].notnull())].drop_duplicates()\n",
    "                if len(x) < 2:\n",
    "                    #print 'Missing: {}, Reference: {}, Ref_value: {}, filler: {}'.\\\n",
    "                    #format(column, related_cols[j], i, x.iloc[0])\n",
    "                    value = x.iloc[0]\n",
    "                    dataframe.ix[(dataframe[related_cols[j]]==i) & (dataframe[column].isnull()), column] = value\n",
    "            except:\n",
    "                pass"
   ]
  },
  {
   "cell_type": "code",
   "execution_count": 17,
   "metadata": {
    "ExecuteTime": {
     "end_time": "2016-10-11T23:20:18.145773",
     "start_time": "2016-10-11T23:20:17.935797"
    },
    "collapsed": false,
    "scrolled": false
   },
   "outputs": [],
   "source": [
    "fill_missing(['Category', 'Category Name'], 'Category Name', df2)\n",
    "fill_missing(['Category', 'Category Name'], 'Category', df2)\n",
    "\n",
    "fill_missing(['Item Number', 'Item Description'], 'Item Description', df2)\n",
    "fill_missing(['Item Number', 'Item Description'], 'Item Number', df2)"
   ]
  },
  {
   "cell_type": "code",
   "execution_count": 18,
   "metadata": {
    "ExecuteTime": {
     "end_time": "2016-10-11T23:20:19.615946",
     "start_time": "2016-10-11T23:20:19.031832"
    },
    "collapsed": false
   },
   "outputs": [],
   "source": [
    "# Convert all dollar columns to floats\n",
    "df2['State Bottle Cost'] = df2['State Bottle Cost'].map(lambda x: x.strip('$')).astype(float)\n",
    "df2['State Bottle Retail'] = df2['State Bottle Retail'].map(lambda x: x.strip('$')).astype(float)\n",
    "df2['Sale (Dollars)'] = df2['Sale (Dollars)'].map(lambda x: x.strip('$')).astype(float)"
   ]
  },
  {
   "cell_type": "code",
   "execution_count": 19,
   "metadata": {
    "ExecuteTime": {
     "end_time": "2016-10-11T23:20:22.622510",
     "start_time": "2016-10-11T23:20:20.054451"
    },
    "collapsed": false
   },
   "outputs": [],
   "source": [
    "# Extract Month and Year\n",
    "df2['Month'] = df2['Date'].map(lambda x: x.month)\n",
    "df2['Year'] = df2['Date'].map(lambda x: x.year)"
   ]
  },
  {
   "cell_type": "code",
   "execution_count": 20,
   "metadata": {
    "ExecuteTime": {
     "end_time": "2016-10-11T23:20:23.192484",
     "start_time": "2016-10-11T23:20:22.624766"
    },
    "collapsed": false
   },
   "outputs": [],
   "source": [
    "df3 = df2.copy()\n",
    "\n",
    "# Aggregate sales and volume by zip code\n",
    "agg_sales = pd.pivot_table(df3, index=['Zip Code'], \\\n",
    "               values=['Bottles Sold', 'Volume Sold (Liters)', 'Sale (Dollars)'],\\\n",
    "                     aggfunc=sum).reset_index()\n",
    "df2 = df2.merge(agg_sales, how='left',on='Zip Code')\n",
    "\n",
    "# Get number of stores\n",
    "df3_gb = df2[['Zip Code','Store Number']].drop_duplicates()\n",
    "df3_gb = df3_gb.rename(columns={'Store Number': 'StoreCount'})\n",
    "df3_gb = df3_gb.groupby(['Zip Code']).count().reset_index()\n",
    "df2 = df2.merge(df3_gb, how='left', on='Zip Code')"
   ]
  },
  {
   "cell_type": "code",
   "execution_count": 21,
   "metadata": {
    "ExecuteTime": {
     "end_time": "2016-10-11T23:20:24.452431",
     "start_time": "2016-10-11T23:20:24.400098"
    },
    "collapsed": false
   },
   "outputs": [
    {
     "data": {
      "text/plain": [
       "array(['Date', 'Store Number', 'Zip Code', 'Category', 'Category Name',\n",
       "       'Vendor Number', 'Item Number', 'Item Description',\n",
       "       'Bottle Volume (ml)', 'State Bottle Cost', 'State Bottle Retail',\n",
       "       'Bottles Sold_x', 'Sale (Dollars)_x', 'Volume Sold (Liters)_x',\n",
       "       'Volume Sold (Gallons)', 'City', 'County', 'County Number',\n",
       "       'Area (sqkm)', 'Month', 'Year', 'Bottles Sold_y',\n",
       "       'Sale (Dollars)_y', 'Volume Sold (Liters)_y', 'StoreCount'], dtype=object)"
      ]
     },
     "execution_count": 21,
     "metadata": {},
     "output_type": "execute_result"
    }
   ],
   "source": [
    "df2.columns.values"
   ]
  },
  {
   "cell_type": "code",
   "execution_count": 22,
   "metadata": {
    "ExecuteTime": {
     "end_time": "2016-10-11T23:20:25.238250",
     "start_time": "2016-10-11T23:20:25.231790"
    },
    "collapsed": false
   },
   "outputs": [],
   "source": [
    "# Rename the columns\n",
    "df2.columns = ['Date', 'Store Number', 'Zip Code', 'Category', 'Category Name',\\\n",
    "       'Vendor Number', 'Item Number', 'Item Description',\\\n",
    "       'Bottle Volume (ml)', 'State Bottle Cost', 'State Bottle Retail',\\\n",
    "       'Bottles Sold', 'Sale (Dollars)', 'Volume Sold (Liters)',\\\n",
    "       'Volume Sold (Gallons)', 'City', 'County', 'County Number', 'Area (sqkm)','Month',\\\n",
    "       'Year', 'total bottles sold', 'total sales', 'total volume sold', 'Store Count']"
   ]
  },
  {
   "cell_type": "code",
   "execution_count": 23,
   "metadata": {
    "ExecuteTime": {
     "end_time": "2016-10-11T23:20:26.544504",
     "start_time": "2016-10-11T23:20:26.160550"
    },
    "collapsed": false
   },
   "outputs": [],
   "source": [
    "# Adding a column for dollar per litre\n",
    "df2['Dollar per litre'] = df2['total sales']/df2['total volume sold']"
   ]
  },
  {
   "cell_type": "code",
   "execution_count": 24,
   "metadata": {
    "ExecuteTime": {
     "end_time": "2016-10-11T23:20:27.089143",
     "start_time": "2016-10-11T23:20:27.079204"
    },
    "collapsed": false
   },
   "outputs": [],
   "source": [
    "# Adding a column for stores per sqkm\n",
    "df2['Stores per sqkm'] = df2['Store Count']/df2['Area (sqkm)']"
   ]
  },
  {
   "cell_type": "markdown",
   "metadata": {},
   "source": [
    "\n",
    "# Explore the data\n",
    "\n",
    "Perform some exploratory statistical analysis and make some plots, such as histograms of transaction totals, bottles sold, etc."
   ]
  },
  {
   "cell_type": "markdown",
   "metadata": {},
   "source": [
    "For the purposes of our market research, we will only be considering full years' data.  \n",
    "Any year which is not a full year will be dropped.  \n",
    "We would also like to aggregate sales by zip code and dollar per litre by zip code.  \n",
    "We also want to know how many stores there are per zip code."
   ]
  },
  {
   "cell_type": "code",
   "execution_count": 25,
   "metadata": {
    "ExecuteTime": {
     "end_time": "2016-10-11T23:20:30.097849",
     "start_time": "2016-10-11T23:20:30.063849"
    },
    "collapsed": false
   },
   "outputs": [
    {
     "data": {
      "text/plain": [
       "[2016]"
      ]
     },
     "execution_count": 25,
     "metadata": {},
     "output_type": "execute_result"
    }
   ],
   "source": [
    "# Find all the full years in the data set\n",
    "not_full_years = [i for i in df2['Year'].unique() if len(df2['Month'][df2['Year']==i].unique()) != 12]\n",
    "not_full_years"
   ]
  },
  {
   "cell_type": "code",
   "execution_count": 26,
   "metadata": {
    "ExecuteTime": {
     "end_time": "2016-10-11T23:20:31.172910",
     "start_time": "2016-10-11T23:20:30.966937"
    },
    "collapsed": false
   },
   "outputs": [],
   "source": [
    "# We're just interested in the following columns\n",
    "col_required = ['Zip Code',\\\n",
    "                'total bottles sold', 'total sales', 'total volume sold', 'Store Count',\\\n",
    "                'Dollar per litre', 'Area (sqkm)', 'Stores per sqkm', 'Year']\n",
    "full_df = df2\n",
    "sales_df = full_df.copy()"
   ]
  },
  {
   "cell_type": "code",
   "execution_count": 27,
   "metadata": {
    "ExecuteTime": {
     "end_time": "2016-10-11T23:20:31.779971",
     "start_time": "2016-10-11T23:20:31.631985"
    },
    "collapsed": false
   },
   "outputs": [],
   "source": [
    "for i in not_full_years:\n",
    "    sales_df = sales_df.drop(sales_df[sales_df['Year']==i].index)\n",
    "sales_df = sales_df[col_required]"
   ]
  },
  {
   "cell_type": "code",
   "execution_count": 28,
   "metadata": {
    "ExecuteTime": {
     "end_time": "2016-10-11T23:20:34.712397",
     "start_time": "2016-10-11T23:20:32.329913"
    },
    "collapsed": false
   },
   "outputs": [
    {
     "data": {
      "image/png": "[encoded data removed]",
      "text/plain": [
       "<matplotlib.figure.Figure at 0x117854ed0>"
      ]
     },
     "metadata": {},
     "output_type": "display_data"
    },
    {
     "name": "stdout",
     "output_type": "stream",
     "text": [
      "\n"
     ]
    },
    {
     "data": {
      "image/png": "[encoded data removed]",
      "text/plain": [
       "<matplotlib.figure.Figure at 0x10a1aca50>"
      ]
     },
     "metadata": {},
     "output_type": "display_data"
    },
    {
     "name": "stdout",
     "output_type": "stream",
     "text": [
      "\n"
     ]
    },
    {
     "data": {
      "image/png": "[encoded data removed]",
      "text/plain": [
       "<matplotlib.figure.Figure at 0x1186fd190>"
      ]
     },
     "metadata": {},
     "output_type": "display_data"
    },
    {
     "name": "stdout",
     "output_type": "stream",
     "text": [
      "\n"
     ]
    },
    {
     "data": {
      "image/png": "[encoded data removed]",
      "text/plain": [
       "<matplotlib.figure.Figure at 0x11b46a890>"
      ]
     },
     "metadata": {},
     "output_type": "display_data"
    },
    {
     "name": "stdout",
     "output_type": "stream",
     "text": [
      "\n"
     ]
    },
    {
     "data": {
      "image/png": "[encoded data removed]",
      "text/plain": [
       "<matplotlib.figure.Figure at 0x11b46abd0>"
      ]
     },
     "metadata": {},
     "output_type": "display_data"
    },
    {
     "name": "stdout",
     "output_type": "stream",
     "text": [
      "\n"
     ]
    },
    {
     "data": {
      "image/png": "[encoded data removed]",
      "text/plain": [
       "<matplotlib.figure.Figure at 0x11c388150>"
      ]
     },
     "metadata": {},
     "output_type": "display_data"
    },
    {
     "name": "stdout",
     "output_type": "stream",
     "text": [
      "\n"
     ]
    }
   ],
   "source": [
    "# Distribution of aggregate columns\n",
    "agg_cols = ['total bottles sold', 'total sales', 'total volume sold', 'Store Count',\\\n",
    "                'Dollar per litre', 'Stores per sqkm']\n",
    "\n",
    "for i in agg_cols:\n",
    "    d = sales_df[i].dropna()\n",
    "    places = -1*(len(str(d.max()))-len(str(d.min())))\n",
    "    lower = round(d.min(),places)\n",
    "    upper = round(d.max(),places)\n",
    "    steps = (upper-lower)/10\n",
    "    bins_ = np.arange(lower, upper, steps)\n",
    "    sns.distplot(d, bins=bins_)\n",
    "    plt.title(i);\n",
    "    plt.xlabel(i);\n",
    "    plt.ylabel('Frequency');\n",
    "    plt.xticks(bins_,rotation=45);\n",
    "    plt.show();\n",
    "    print "
   ]
  },
  {
   "cell_type": "markdown",
   "metadata": {},
   "source": [
    "## Record your findings\n",
    "\n",
    "Be sure to write out anything observations from your exploratory analysis."
   ]
  },
  {
   "cell_type": "markdown",
   "metadata": {},
   "source": [
    "We're interested in total sales and total volume:\n",
    "\n",
    "- These two variables seem to be highly positively skewed"
   ]
  },
  {
   "cell_type": "markdown",
   "metadata": {},
   "source": [
    "# Mine the data\n",
    "Now you are ready to compute the variables you will use for your regression from the data. For example, you may want to\n",
    "compute total sales per store from Jan to March of 2015, mean price per bottle, etc. Refer to the readme for more ideas appropriate to your scenario.\n",
    "\n",
    "Pandas is your friend for this task. Take a look at the operations [here](http://pandas.pydata.org/pandas-docs/stable/groupby.html) for ideas on how to make the best use of pandas and feel free to search for blog and Stack Overflow posts to help you group data by certain variables and compute sums, means, etc. You may find it useful to create a new data frame to house this summary data."
   ]
  },
  {
   "cell_type": "markdown",
   "metadata": {},
   "source": [
    "Our hypothesis is that the demographics of an area would affect the liquor sales there.  \n",
    "Ideally, we would want to combine our liquor sales data with the demographics data of the corresponding year.  "
   ]
  },
  {
   "cell_type": "code",
   "execution_count": 29,
   "metadata": {
    "ExecuteTime": {
     "end_time": "2016-10-11T23:20:37.448945",
     "start_time": "2016-10-11T23:20:37.409874"
    },
    "collapsed": false
   },
   "outputs": [
    {
     "data": {
      "text/html": [
       "<div>\n",
       "<table border=\"1\" class=\"dataframe\">\n",
       "  <thead>\n",
       "    <tr style=\"text-align: right;\">\n",
       "      <th></th>\n",
       "      <th>Zip Code</th>\n",
       "      <th>total bottles sold</th>\n",
       "      <th>total sales</th>\n",
       "      <th>total volume sold</th>\n",
       "      <th>Store Count</th>\n",
       "      <th>Dollar per litre</th>\n",
       "      <th>Area (sqkm)</th>\n",
       "      <th>Stores per sqkm</th>\n",
       "      <th>Year</th>\n",
       "    </tr>\n",
       "  </thead>\n",
       "  <tbody>\n",
       "    <tr>\n",
       "      <th>0</th>\n",
       "      <td>50674</td>\n",
       "      <td>801</td>\n",
       "      <td>11533.32</td>\n",
       "      <td>872.53</td>\n",
       "      <td>1</td>\n",
       "      <td>13.218250</td>\n",
       "      <td>408.690075</td>\n",
       "      <td>0.002447</td>\n",
       "      <td>2015</td>\n",
       "    </tr>\n",
       "    <tr>\n",
       "      <th>4</th>\n",
       "      <td>50421</td>\n",
       "      <td>2679</td>\n",
       "      <td>34198.21</td>\n",
       "      <td>3083.70</td>\n",
       "      <td>3</td>\n",
       "      <td>11.089993</td>\n",
       "      <td>232.911303</td>\n",
       "      <td>0.012880</td>\n",
       "      <td>2015</td>\n",
       "    </tr>\n",
       "    <tr>\n",
       "      <th>5</th>\n",
       "      <td>52402</td>\n",
       "      <td>90743</td>\n",
       "      <td>1171002.49</td>\n",
       "      <td>82746.06</td>\n",
       "      <td>30</td>\n",
       "      <td>14.151761</td>\n",
       "      <td>36.420817</td>\n",
       "      <td>0.823705</td>\n",
       "      <td>2015</td>\n",
       "    </tr>\n",
       "    <tr>\n",
       "      <th>6</th>\n",
       "      <td>52501</td>\n",
       "      <td>23926</td>\n",
       "      <td>310672.94</td>\n",
       "      <td>21653.76</td>\n",
       "      <td>11</td>\n",
       "      <td>14.347298</td>\n",
       "      <td>591.297871</td>\n",
       "      <td>0.018603</td>\n",
       "      <td>2015</td>\n",
       "    </tr>\n",
       "    <tr>\n",
       "      <th>7</th>\n",
       "      <td>50428</td>\n",
       "      <td>14187</td>\n",
       "      <td>201903.11</td>\n",
       "      <td>14752.74</td>\n",
       "      <td>4</td>\n",
       "      <td>13.685804</td>\n",
       "      <td>316.380154</td>\n",
       "      <td>0.012643</td>\n",
       "      <td>2015</td>\n",
       "    </tr>\n",
       "  </tbody>\n",
       "</table>\n",
       "</div>"
      ],
      "text/plain": [
       "   Zip Code  total bottles sold  total sales  total volume sold  Store Count  \\\n",
       "0     50674                 801     11533.32             872.53            1   \n",
       "4     50421                2679     34198.21            3083.70            3   \n",
       "5     52402               90743   1171002.49           82746.06           30   \n",
       "6     52501               23926    310672.94           21653.76           11   \n",
       "7     50428               14187    201903.11           14752.74            4   \n",
       "\n",
       "   Dollar per litre  Area (sqkm)  Stores per sqkm  Year  \n",
       "0         13.218250   408.690075         0.002447  2015  \n",
       "4         11.089993   232.911303         0.012880  2015  \n",
       "5         14.151761    36.420817         0.823705  2015  \n",
       "6         14.347298   591.297871         0.018603  2015  \n",
       "7         13.685804   316.380154         0.012643  2015  "
      ]
     },
     "execution_count": 29,
     "metadata": {},
     "output_type": "execute_result"
    }
   ],
   "source": [
    "sales_df.head()"
   ]
  },
  {
   "cell_type": "code",
   "execution_count": 73,
   "metadata": {
    "ExecuteTime": {
     "end_time": "2016-10-11T23:29:34.291260",
     "start_time": "2016-10-11T23:29:34.247673"
    },
    "collapsed": false
   },
   "outputs": [],
   "source": [
    "# Read in our demographics data\n",
    "file_path_name = base_path + 'IowaZIPdemos.csv'\n",
    "demo_df = load_file(file_path_name)"
   ]
  },
  {
   "cell_type": "code",
   "execution_count": 74,
   "metadata": {
    "ExecuteTime": {
     "end_time": "2016-10-11T23:29:34.594317",
     "start_time": "2016-10-11T23:29:34.582459"
    },
    "collapsed": false
   },
   "outputs": [],
   "source": [
    "# Remove any rows with null values\n",
    "# Convert zips to integers for easy comparison\n",
    "demo_df.dropna(inplace=True)\n",
    "demo_df['Area'] = demo_df['Area'].astype(int)"
   ]
  },
  {
   "cell_type": "code",
   "execution_count": 75,
   "metadata": {
    "ExecuteTime": {
     "end_time": "2016-10-11T23:29:34.841763",
     "start_time": "2016-10-11T23:29:34.831706"
    },
    "collapsed": false
   },
   "outputs": [],
   "source": [
    "demo_cols = demo_df.columns.values.tolist()\n",
    "\n",
    "object_cols = [i for i in demo_cols if demo_df[i].dtype == 'O']"
   ]
  },
  {
   "cell_type": "code",
   "execution_count": 76,
   "metadata": {
    "ExecuteTime": {
     "end_time": "2016-10-11T23:29:35.126827",
     "start_time": "2016-10-11T23:29:35.016725"
    },
    "collapsed": false
   },
   "outputs": [],
   "source": [
    "# Define a function to remove symbols and convert numbers to floats\n",
    "def rem_symbols(x):\n",
    "    for i in [',', '%', '$', '-']:\n",
    "        x = x.replace(i, '')\n",
    "    try:\n",
    "        return float(x)\n",
    "    except:\n",
    "        print x\n",
    "    \n",
    "for i in object_cols:\n",
    "    demo_df[i] = demo_df[i].map(rem_symbols)"
   ]
  },
  {
   "cell_type": "raw",
   "metadata": {
    "ExecuteTime": {
     "end_time": "2016-10-11T23:21:31.498851",
     "start_time": "2016-10-11T23:21:31.493769"
    }
   },
   "source": [
    "cols_scale = demo_df.columns.values.tolist()[1:]\n",
    "\n",
    "from sklearn.preprocessing import StandardScaler\n",
    "\n",
    "scaler = StandardScaler().fit(demo_df[cols_scale])\n",
    "scaled_values = scaler.transform(demo_df[cols_scale])\n",
    "\n",
    "for i in range(len(cols_scale)):\n",
    "    demo_df[cols_scale[i]] = [x[i] for x in scaled_values]"
   ]
  },
  {
   "cell_type": "code",
   "execution_count": 77,
   "metadata": {
    "ExecuteTime": {
     "end_time": "2016-10-11T23:29:35.610355",
     "start_time": "2016-10-11T23:29:35.447576"
    },
    "collapsed": false
   },
   "outputs": [],
   "source": [
    "model_df = sales_df.merge(demo_df, how='left', left_on='Zip Code', right_on='Area')"
   ]
  },
  {
   "cell_type": "markdown",
   "metadata": {},
   "source": [
    "# Refine the data\n",
    "Look for any statistical relationships, correlations, or other relevant properties of the dataset."
   ]
  },
  {
   "cell_type": "code",
   "execution_count": 78,
   "metadata": {
    "ExecuteTime": {
     "end_time": "2016-10-11T23:29:38.600109",
     "start_time": "2016-10-11T23:29:36.247711"
    },
    "collapsed": false
   },
   "outputs": [
    {
     "data": {
      "image/png": "[encoded data removed]",
      "text/plain": [
       "<matplotlib.figure.Figure at 0x118e21dd0>"
      ]
     },
     "metadata": {},
     "output_type": "display_data"
    }
   ],
   "source": [
    "fig, ax = plt.subplots(figsize=(4,10));\n",
    "sns.heatmap(model_df.corr()[['total sales']].iloc[8:]);"
   ]
  },
  {
   "cell_type": "code",
   "execution_count": 79,
   "metadata": {
    "ExecuteTime": {
     "end_time": "2016-10-11T23:29:39.061503",
     "start_time": "2016-10-11T23:29:38.602962"
    },
    "collapsed": false
   },
   "outputs": [
    {
     "data": {
      "image/png": "[encoded data removed]",
      "text/plain": [
       "<matplotlib.figure.Figure at 0x118e5c910>"
      ]
     },
     "metadata": {},
     "output_type": "display_data"
    }
   ],
   "source": [
    "model_df['total sales'].hist(bins=np.arange(100000,max(model_df['total sales']),100000)+0.5);\n",
    "plt.title('Total sales');\n",
    "plt.xlabel('Total sales');\n",
    "plt.ylabel('Frequency');\n",
    "plt.xticks(np.arange(100000,max(model_df['total sales']),100000),rotation=45);"
   ]
  },
  {
   "cell_type": "code",
   "execution_count": 80,
   "metadata": {
    "ExecuteTime": {
     "end_time": "2016-10-11T23:29:41.344849",
     "start_time": "2016-10-11T23:29:39.064268"
    },
    "collapsed": false
   },
   "outputs": [
    {
     "data": {
      "image/png": "[encoded data removed]",
      "text/plain": [
       "<matplotlib.figure.Figure at 0x11c7c0c10>"
      ]
     },
     "metadata": {},
     "output_type": "display_data"
    }
   ],
   "source": [
    "fig, ax = plt.subplots(figsize=(4,10));\n",
    "sns.heatmap(model_df.corr()[['Dollar per litre']].iloc[8:]);"
   ]
  },
  {
   "cell_type": "code",
   "execution_count": 81,
   "metadata": {
    "ExecuteTime": {
     "end_time": "2016-10-11T23:29:41.950452",
     "start_time": "2016-10-11T23:29:41.347706"
    },
    "collapsed": false
   },
   "outputs": [
    {
     "data": {
      "image/png": "[encoded data removed]",
      "text/plain": [
       "<matplotlib.figure.Figure at 0x11c0fb790>"
      ]
     },
     "metadata": {},
     "output_type": "display_data"
    }
   ],
   "source": [
    "model_df['Dollar per litre'].hist(bins=np.arange(min(model_df['Dollar per litre']).round(),\\\n",
    "                                                 max(model_df['Dollar per litre']).round(),1)+0.5);\n",
    "plt.title('Price per litre');\n",
    "plt.xlabel('Price per litre');\n",
    "plt.ylabel('Frequency');\n",
    "plt.xticks(np.arange(min(model_df['Dollar per litre']).round(),\\\n",
    "                                                 max(model_df['Dollar per litre']).round(),1),rotation=45);"
   ]
  },
  {
   "cell_type": "code",
   "execution_count": 82,
   "metadata": {
    "ExecuteTime": {
     "end_time": "2016-10-11T23:29:42.023006",
     "start_time": "2016-10-11T23:29:41.953280"
    },
    "collapsed": false
   },
   "outputs": [],
   "source": [
    "# Remove outliers in sales that are 3 std away from the median\n",
    "sales_median = model_df['total sales'].median()\n",
    "sales_std = model_df['total sales'].std()\n",
    "model_df = model_df[abs(model_df['total sales'] - sales_median) <= 3*sales_std]"
   ]
  },
  {
   "cell_type": "code",
   "execution_count": 83,
   "metadata": {
    "ExecuteTime": {
     "end_time": "2016-10-11T23:29:42.086906",
     "start_time": "2016-10-11T23:29:42.025845"
    },
    "collapsed": false
   },
   "outputs": [],
   "source": [
    "# Remove outliers in dollar per litre that are 3 std away from the median\n",
    "dollar_median = model_df['Dollar per litre'].median()\n",
    "dollar_std = model_df['Dollar per litre'].std()\n",
    "model_df = model_df[abs(model_df['Dollar per litre'] - dollar_median) <= 3*dollar_std]"
   ]
  },
  {
   "cell_type": "code",
   "execution_count": 84,
   "metadata": {
    "ExecuteTime": {
     "end_time": "2016-10-11T23:29:42.594019",
     "start_time": "2016-10-11T23:29:42.089629"
    },
    "collapsed": false
   },
   "outputs": [
    {
     "data": {
      "image/png": "[encoded data removed]",
      "text/plain": [
       "<matplotlib.figure.Figure at 0x118e95dd0>"
      ]
     },
     "metadata": {},
     "output_type": "display_data"
    }
   ],
   "source": [
    "model_df['total sales'].hist(bins=np.arange(100000,max(model_df['total sales']),100000)+0.5);\n",
    "plt.title('Total sales');\n",
    "plt.xlabel('Total sales');\n",
    "plt.ylabel('Frequency');\n",
    "plt.xticks(np.arange(100000,max(model_df['total sales']),100000),rotation=45);"
   ]
  },
  {
   "cell_type": "code",
   "execution_count": 85,
   "metadata": {
    "ExecuteTime": {
     "end_time": "2016-10-11T23:29:43.037674",
     "start_time": "2016-10-11T23:29:42.596821"
    },
    "collapsed": false
   },
   "outputs": [
    {
     "data": {
      "image/png": "[encoded data removed]",
      "text/plain": [
       "<matplotlib.figure.Figure at 0x11c7ab350>"
      ]
     },
     "metadata": {},
     "output_type": "display_data"
    }
   ],
   "source": [
    "model_df['Dollar per litre'].hist(bins=np.arange(min(model_df['Dollar per litre']).round(),\\\n",
    "                                                 max(model_df['Dollar per litre']).round(),1)+0.5);\n",
    "plt.title('Price per litre');\n",
    "plt.xlabel('Price per litre');\n",
    "plt.ylabel('Frequency');"
   ]
  },
  {
   "cell_type": "markdown",
   "metadata": {},
   "source": [
    "# Build your models\n",
    "\n",
    "Using scikit-learn or statsmodels, build the necessary models for your scenario. Evaluate model fit."
   ]
  },
  {
   "cell_type": "code",
   "execution_count": 86,
   "metadata": {
    "ExecuteTime": {
     "end_time": "2016-10-11T23:29:45.070261",
     "start_time": "2016-10-11T23:29:45.064018"
    },
    "collapsed": false
   },
   "outputs": [
    {
     "name": "stdout",
     "output_type": "stream",
     "text": [
      "['Zip Code', 'total bottles sold', 'total sales', 'total volume sold', 'Store Count', 'Dollar per litre', 'Area (sqkm)', 'Stores per sqkm', 'Year', 'Area', 'Total Pop', 'Median HH Inc', 'Per Capita Inc', 'White', 'Afr Amer', 'Native Amer', 'Asian Amer', 'Pac Islander', 'Other', 'Bi- Multi-Racial', 'Hispanic or Latino', 'Med Age', '<5 years', '5-17 yrs', '18-20 yrs', '21-24 yrs', '25-34 yrs', '35-44 yrs', '45-54 yrs', '55-59 yrs', '60-64 yrs', '65-74 yrs', '78-84 yrs', '85+ yrs', '% P16+ in labor force', 'Total # Homes Owned', 'Med. Home Value', 'Tot Housing units', 'Owner occupied housing units', 'Renter occupied housing units', 'households', 'Family households', 'Married-couple family households', 'Single mother households', 'Nonfamily households', 'Single Occupancy', 'Avg HH Size', 'Avg Family Size', 'Pop Below Poverty Level', '% P25+ HS Grad', '% P25-54 BA+']\n"
     ]
    }
   ],
   "source": [
    "features = model_df.columns.values.tolist()\n",
    "print features"
   ]
  },
  {
   "cell_type": "code",
   "execution_count": 87,
   "metadata": {
    "ExecuteTime": {
     "end_time": "2016-10-11T23:29:46.317029",
     "start_time": "2016-10-11T23:29:46.311049"
    },
    "collapsed": false
   },
   "outputs": [],
   "source": [
    "drop_features = ['Zip Code', 'total bottles sold', 'total sales',\\\n",
    "                 'total volume sold', 'Store Count', 'Dollar per litre', 'Area (sqkm)', 'Stores per sqkm', 'Area']\n",
    "for i in drop_features:\n",
    "    features.remove(i)\n"
   ]
  },
  {
   "cell_type": "code",
   "execution_count": 88,
   "metadata": {
    "ExecuteTime": {
     "end_time": "2016-10-11T23:29:47.724520",
     "start_time": "2016-10-11T23:29:47.319533"
    },
    "collapsed": false
   },
   "outputs": [],
   "source": [
    "model_df.dropna(inplace=True)\n",
    "X = model_df[features]"
   ]
  },
  {
   "cell_type": "markdown",
   "metadata": {},
   "source": [
    "## Plot your results\n",
    "\n",
    "Again make sure that you record any valuable information. For example, in the tax scenario, did you find the sales from the first three months of the year to be a good predictor of the total sales for the year? Plot the predictions versus the true values and discuss the successes and limitations of your models"
   ]
  },
  {
   "cell_type": "code",
   "execution_count": 89,
   "metadata": {
    "ExecuteTime": {
     "end_time": "2016-10-11T23:30:16.287594",
     "start_time": "2016-10-11T23:30:06.712688"
    },
    "collapsed": false
   },
   "outputs": [
    {
     "name": "stdout",
     "output_type": "stream",
     "text": [
      "r-squared: 0.865402146202\n",
      "alpha applied: 0.1\n"
     ]
    },
    {
     "data": {
      "image/png": "[encoded data removed]",
      "text/plain": [
       "<matplotlib.figure.Figure at 0x11b035610>"
      ]
     },
     "metadata": {},
     "output_type": "display_data"
    }
   ],
   "source": [
    "y_sales = model_df['total sales']\n",
    "ridge = linear_model.RidgeCV(cv=5, fit_intercept=False, normalize=True)\n",
    "model_sales = ridge.fit(X,y_sales)\n",
    "print 'r-squared: {}'.format(model_sales.score(X,y_sales))\n",
    "print 'alpha applied: {}'.format(model_sales.alpha_)\n",
    "\n",
    "feature_imp = pd.DataFrame([features, model_sales.coef_.tolist()], index=['feature', 'coef']).T\n",
    "feature_imp['coef'] = feature_imp['coef'].astype(float)\n",
    "feature_imp = feature_imp.sort_values(by='coef', ascending=False)\n",
    "\n",
    "predicted_sales = model_sales.predict(X)\n",
    "fig, ax = plt.subplots(figsize=(8,8));\n",
    "plt.scatter(predicted_sales, y_sales);\n",
    "plt.plot([min(y_sales), max(y_sales)], [min(y_sales), max(y_sales)], '-');\n",
    "plt.title('Predicted and actual sales');\n",
    "plt.xlabel('Predicted sales');\n",
    "plt.ylabel('Actual sales');"
   ]
  },
  {
   "cell_type": "code",
   "execution_count": 53,
   "metadata": {
    "ExecuteTime": {
     "end_time": "2016-10-11T23:24:21.118563",
     "start_time": "2016-10-11T23:24:12.069612"
    },
    "collapsed": false
   },
   "outputs": [
    {
     "name": "stdout",
     "output_type": "stream",
     "text": [
      "r-squared: 0.688057233895\n",
      "alpha applied: 0.1\n"
     ]
    },
    {
     "data": {
      "image/png": "[encoded data removed]",
      "text/plain": [
       "<matplotlib.figure.Figure at 0x118e31bd0>"
      ]
     },
     "metadata": {},
     "output_type": "display_data"
    }
   ],
   "source": [
    "y_dollar = model_df['Dollar per litre']\n",
    "ridge2 = linear_model.RidgeCV(cv=5)\n",
    "model_dollar = ridge2.fit(X,y_dollar)\n",
    "print 'r-squared: {}'.format(model_dollar.score(X,y_dollar))\n",
    "print 'alpha applied: {}'.format(model_dollar.alpha_)\n",
    "\n",
    "feature_imp_d = pd.DataFrame([features, model_dollar.coef_.tolist()], index=['feature', 'coef']).T\n",
    "feature_imp_d['coef'] = feature_imp_d['coef'].astype(float)\n",
    "feature_imp_d = feature_imp_d.sort_values(by='coef', ascending=False)\n",
    "\n",
    "predicted_dollar = model_dollar.predict(X)\n",
    "fig, ax = plt.subplots(figsize=(8,8));\n",
    "plt.scatter(predicted_dollar, y_dollar);\n",
    "plt.plot([min(y_dollar), max(y_dollar)], [min(y_dollar), max(y_dollar)], '-');\n",
    "plt.title('Predicted and actual dollar per litre');\n",
    "plt.xlabel('Predicted');\n",
    "plt.ylabel('Actual');"
   ]
  },
  {
   "cell_type": "markdown",
   "metadata": {},
   "source": [
    "# Present the Results\n",
    "\n",
    "Present your conclusions and results. If you have more than one interesting model feel free to include more than one along with a discussion. Use your work in this notebook to prepare your write-up."
   ]
  },
  {
   "cell_type": "code",
   "execution_count": 59,
   "metadata": {
    "ExecuteTime": {
     "end_time": "2016-10-11T23:26:56.074164",
     "start_time": "2016-10-11T23:26:56.062598"
    },
    "collapsed": false
   },
   "outputs": [],
   "source": [
    "predict_df = location_data.copy()\n",
    "predict_df['Year'] = 2016\n",
    "predict_df = predict_df.merge(demo_df, left_on='Zip Code', right_on='Area')"
   ]
  },
  {
   "cell_type": "code",
   "execution_count": 60,
   "metadata": {
    "ExecuteTime": {
     "end_time": "2016-10-11T23:26:57.472881",
     "start_time": "2016-10-11T23:26:57.411114"
    },
    "collapsed": false
   },
   "outputs": [
    {
     "data": {
      "text/html": [
       "<div>\n",
       "<table border=\"1\" class=\"dataframe\">\n",
       "  <thead>\n",
       "    <tr style=\"text-align: right;\">\n",
       "      <th></th>\n",
       "      <th>Zip Code</th>\n",
       "      <th>City</th>\n",
       "      <th>County</th>\n",
       "      <th>State</th>\n",
       "      <th>County Number</th>\n",
       "      <th>Area (sqkm)</th>\n",
       "      <th>Year</th>\n",
       "      <th>Area</th>\n",
       "      <th>Total Pop</th>\n",
       "      <th>Median HH Inc</th>\n",
       "      <th>...</th>\n",
       "      <th>Family households</th>\n",
       "      <th>Married-couple family households</th>\n",
       "      <th>Single mother households</th>\n",
       "      <th>Nonfamily households</th>\n",
       "      <th>Single Occupancy</th>\n",
       "      <th>Avg HH Size</th>\n",
       "      <th>Avg Family Size</th>\n",
       "      <th>Pop Below Poverty Level</th>\n",
       "      <th>% P25+ HS Grad</th>\n",
       "      <th>% P25-54 BA+</th>\n",
       "    </tr>\n",
       "  </thead>\n",
       "  <tbody>\n",
       "    <tr>\n",
       "      <th>0</th>\n",
       "      <td>50001</td>\n",
       "      <td>ACKWORTH</td>\n",
       "      <td>Warren</td>\n",
       "      <td>IA</td>\n",
       "      <td>91</td>\n",
       "      <td>62.796656</td>\n",
       "      <td>2016</td>\n",
       "      <td>50001</td>\n",
       "      <td>-0.402318</td>\n",
       "      <td>0.632447</td>\n",
       "      <td>...</td>\n",
       "      <td>-0.407414</td>\n",
       "      <td>-0.410999</td>\n",
       "      <td>-0.356453</td>\n",
       "      <td>-0.398466</td>\n",
       "      <td>-0.420166</td>\n",
       "      <td>1.592650</td>\n",
       "      <td>1.064148</td>\n",
       "      <td>-0.384457</td>\n",
       "      <td>0.566488</td>\n",
       "      <td>-0.498753</td>\n",
       "    </tr>\n",
       "    <tr>\n",
       "      <th>1</th>\n",
       "      <td>50002</td>\n",
       "      <td>ADAIR</td>\n",
       "      <td>Guthrie</td>\n",
       "      <td>IA</td>\n",
       "      <td>39</td>\n",
       "      <td>279.202219</td>\n",
       "      <td>2016</td>\n",
       "      <td>50002</td>\n",
       "      <td>-0.284515</td>\n",
       "      <td>-0.631802</td>\n",
       "      <td>...</td>\n",
       "      <td>-0.282276</td>\n",
       "      <td>-0.270028</td>\n",
       "      <td>-0.286441</td>\n",
       "      <td>-0.217299</td>\n",
       "      <td>-0.206103</td>\n",
       "      <td>-1.178827</td>\n",
       "      <td>-0.686938</td>\n",
       "      <td>-0.296179</td>\n",
       "      <td>0.367935</td>\n",
       "      <td>-0.328642</td>\n",
       "    </tr>\n",
       "    <tr>\n",
       "      <th>2</th>\n",
       "      <td>50003</td>\n",
       "      <td>ADEL</td>\n",
       "      <td>Dallas</td>\n",
       "      <td>IA</td>\n",
       "      <td>25</td>\n",
       "      <td>298.086291</td>\n",
       "      <td>2016</td>\n",
       "      <td>50003</td>\n",
       "      <td>0.447040</td>\n",
       "      <td>1.091906</td>\n",
       "      <td>...</td>\n",
       "      <td>0.512604</td>\n",
       "      <td>0.581433</td>\n",
       "      <td>0.226979</td>\n",
       "      <td>0.242845</td>\n",
       "      <td>0.281565</td>\n",
       "      <td>0.345486</td>\n",
       "      <td>0.413745</td>\n",
       "      <td>0.480524</td>\n",
       "      <td>0.930500</td>\n",
       "      <td>1.122970</td>\n",
       "    </tr>\n",
       "    <tr>\n",
       "      <th>3</th>\n",
       "      <td>50005</td>\n",
       "      <td>ALBION</td>\n",
       "      <td>Marshall</td>\n",
       "      <td>IA</td>\n",
       "      <td>64</td>\n",
       "      <td>69.623573</td>\n",
       "      <td>2016</td>\n",
       "      <td>50005</td>\n",
       "      <td>-0.363918</td>\n",
       "      <td>0.424792</td>\n",
       "      <td>...</td>\n",
       "      <td>-0.358252</td>\n",
       "      <td>-0.370721</td>\n",
       "      <td>-0.294220</td>\n",
       "      <td>-0.368457</td>\n",
       "      <td>-0.388978</td>\n",
       "      <td>0.715016</td>\n",
       "      <td>-0.086566</td>\n",
       "      <td>-0.349552</td>\n",
       "      <td>-0.757194</td>\n",
       "      <td>-0.158531</td>\n",
       "    </tr>\n",
       "    <tr>\n",
       "      <th>4</th>\n",
       "      <td>50006</td>\n",
       "      <td>ALDEN</td>\n",
       "      <td>Hardin</td>\n",
       "      <td>IA</td>\n",
       "      <td>42</td>\n",
       "      <td>317.745150</td>\n",
       "      <td>2016</td>\n",
       "      <td>50006</td>\n",
       "      <td>-0.183633</td>\n",
       "      <td>-0.177351</td>\n",
       "      <td>...</td>\n",
       "      <td>-0.169269</td>\n",
       "      <td>-0.154030</td>\n",
       "      <td>-0.235877</td>\n",
       "      <td>-0.200627</td>\n",
       "      <td>-0.193344</td>\n",
       "      <td>0.206912</td>\n",
       "      <td>0.463776</td>\n",
       "      <td>-0.176387</td>\n",
       "      <td>0.583034</td>\n",
       "      <td>0.079624</td>\n",
       "    </tr>\n",
       "  </tbody>\n",
       "</table>\n",
       "<p>5 rows × 49 columns</p>\n",
       "</div>"
      ],
      "text/plain": [
       "   Zip Code      City    County State  County Number  Area (sqkm)  Year  \\\n",
       "0     50001  ACKWORTH    Warren    IA             91    62.796656  2016   \n",
       "1     50002     ADAIR   Guthrie    IA             39   279.202219  2016   \n",
       "2     50003      ADEL    Dallas    IA             25   298.086291  2016   \n",
       "3     50005    ALBION  Marshall    IA             64    69.623573  2016   \n",
       "4     50006     ALDEN    Hardin    IA             42   317.745150  2016   \n",
       "\n",
       "    Area  Total Pop  Median HH Inc      ...       Family households  \\\n",
       "0  50001  -0.402318       0.632447      ...               -0.407414   \n",
       "1  50002  -0.284515      -0.631802      ...               -0.282276   \n",
       "2  50003   0.447040       1.091906      ...                0.512604   \n",
       "3  50005  -0.363918       0.424792      ...               -0.358252   \n",
       "4  50006  -0.183633      -0.177351      ...               -0.169269   \n",
       "\n",
       "   Married-couple family households  Single mother households  \\\n",
       "0                         -0.410999                 -0.356453   \n",
       "1                         -0.270028                 -0.286441   \n",
       "2                          0.581433                  0.226979   \n",
       "3                         -0.370721                 -0.294220   \n",
       "4                         -0.154030                 -0.235877   \n",
       "\n",
       "   Nonfamily households  Single Occupancy  Avg HH Size  Avg Family Size  \\\n",
       "0             -0.398466         -0.420166     1.592650         1.064148   \n",
       "1             -0.217299         -0.206103    -1.178827        -0.686938   \n",
       "2              0.242845          0.281565     0.345486         0.413745   \n",
       "3             -0.368457         -0.388978     0.715016        -0.086566   \n",
       "4             -0.200627         -0.193344     0.206912         0.463776   \n",
       "\n",
       "   Pop Below Poverty Level  % P25+ HS Grad  % P25-54 BA+  \n",
       "0                -0.384457        0.566488     -0.498753  \n",
       "1                -0.296179        0.367935     -0.328642  \n",
       "2                 0.480524        0.930500      1.122970  \n",
       "3                -0.349552       -0.757194     -0.158531  \n",
       "4                -0.176387        0.583034      0.079624  \n",
       "\n",
       "[5 rows x 49 columns]"
      ]
     },
     "execution_count": 60,
     "metadata": {},
     "output_type": "execute_result"
    }
   ],
   "source": [
    "predict_df.head()"
   ]
  },
  {
   "cell_type": "code",
   "execution_count": 61,
   "metadata": {
    "ExecuteTime": {
     "end_time": "2016-10-11T23:26:58.631843",
     "start_time": "2016-10-11T23:26:58.622403"
    },
    "collapsed": false
   },
   "outputs": [],
   "source": [
    "X_predict = predict_df[features]\n",
    "all_sales = model_sales.predict(X_predict)\n",
    "all_dollar_per_litre = model_dollar.predict(X_predict)"
   ]
  },
  {
   "cell_type": "code",
   "execution_count": 62,
   "metadata": {
    "ExecuteTime": {
     "end_time": "2016-10-11T23:26:59.940742",
     "start_time": "2016-10-11T23:26:59.934793"
    },
    "collapsed": false
   },
   "outputs": [],
   "source": [
    "all_sales = pd.DataFrame(all_sales, columns=['predicted total sales'])\n",
    "all_dollar_per_litre = pd.DataFrame(all_dollar_per_litre, columns=['predicted dollar/litre'])"
   ]
  },
  {
   "cell_type": "code",
   "execution_count": 63,
   "metadata": {
    "ExecuteTime": {
     "end_time": "2016-10-11T23:27:01.284795",
     "start_time": "2016-10-11T23:27:01.278407"
    },
    "collapsed": false
   },
   "outputs": [],
   "source": [
    "predict_df['predicted total sales'] = all_sales['predicted total sales']\n",
    "predict_df['predicted dollar/litre'] = all_dollar_per_litre['predicted dollar/litre']"
   ]
  },
  {
   "cell_type": "code",
   "execution_count": 64,
   "metadata": {
    "ExecuteTime": {
     "end_time": "2016-10-11T23:27:02.466406",
     "start_time": "2016-10-11T23:27:02.385203"
    },
    "collapsed": false
   },
   "outputs": [
    {
     "data": {
      "text/html": [
       "<div>\n",
       "<table border=\"1\" class=\"dataframe\">\n",
       "  <thead>\n",
       "    <tr style=\"text-align: right;\">\n",
       "      <th></th>\n",
       "      <th>Zip Code</th>\n",
       "      <th>City</th>\n",
       "      <th>County</th>\n",
       "      <th>State</th>\n",
       "      <th>County Number</th>\n",
       "      <th>Area (sqkm)</th>\n",
       "      <th>Year</th>\n",
       "      <th>Area</th>\n",
       "      <th>Total Pop</th>\n",
       "      <th>Median HH Inc</th>\n",
       "      <th>...</th>\n",
       "      <th>Single mother households</th>\n",
       "      <th>Nonfamily households</th>\n",
       "      <th>Single Occupancy</th>\n",
       "      <th>Avg HH Size</th>\n",
       "      <th>Avg Family Size</th>\n",
       "      <th>Pop Below Poverty Level</th>\n",
       "      <th>% P25+ HS Grad</th>\n",
       "      <th>% P25-54 BA+</th>\n",
       "      <th>predicted total sales</th>\n",
       "      <th>predicted dollar/litre</th>\n",
       "    </tr>\n",
       "  </thead>\n",
       "  <tbody>\n",
       "    <tr>\n",
       "      <th>0</th>\n",
       "      <td>50001</td>\n",
       "      <td>ACKWORTH</td>\n",
       "      <td>Warren</td>\n",
       "      <td>IA</td>\n",
       "      <td>91</td>\n",
       "      <td>62.796656</td>\n",
       "      <td>2016</td>\n",
       "      <td>50001</td>\n",
       "      <td>-0.402318</td>\n",
       "      <td>0.632447</td>\n",
       "      <td>...</td>\n",
       "      <td>-0.356453</td>\n",
       "      <td>-0.398466</td>\n",
       "      <td>-0.420166</td>\n",
       "      <td>1.592650</td>\n",
       "      <td>1.064148</td>\n",
       "      <td>-0.384457</td>\n",
       "      <td>0.566488</td>\n",
       "      <td>-0.498753</td>\n",
       "      <td>31202.502921</td>\n",
       "      <td>12.088286</td>\n",
       "    </tr>\n",
       "    <tr>\n",
       "      <th>1</th>\n",
       "      <td>50002</td>\n",
       "      <td>ADAIR</td>\n",
       "      <td>Guthrie</td>\n",
       "      <td>IA</td>\n",
       "      <td>39</td>\n",
       "      <td>279.202219</td>\n",
       "      <td>2016</td>\n",
       "      <td>50002</td>\n",
       "      <td>-0.284515</td>\n",
       "      <td>-0.631802</td>\n",
       "      <td>...</td>\n",
       "      <td>-0.286441</td>\n",
       "      <td>-0.217299</td>\n",
       "      <td>-0.206103</td>\n",
       "      <td>-1.178827</td>\n",
       "      <td>-0.686938</td>\n",
       "      <td>-0.296179</td>\n",
       "      <td>0.367935</td>\n",
       "      <td>-0.328642</td>\n",
       "      <td>-23018.750433</td>\n",
       "      <td>13.008922</td>\n",
       "    </tr>\n",
       "    <tr>\n",
       "      <th>2</th>\n",
       "      <td>50003</td>\n",
       "      <td>ADEL</td>\n",
       "      <td>Dallas</td>\n",
       "      <td>IA</td>\n",
       "      <td>25</td>\n",
       "      <td>298.086291</td>\n",
       "      <td>2016</td>\n",
       "      <td>50003</td>\n",
       "      <td>0.447040</td>\n",
       "      <td>1.091906</td>\n",
       "      <td>...</td>\n",
       "      <td>0.226979</td>\n",
       "      <td>0.242845</td>\n",
       "      <td>0.281565</td>\n",
       "      <td>0.345486</td>\n",
       "      <td>0.413745</td>\n",
       "      <td>0.480524</td>\n",
       "      <td>0.930500</td>\n",
       "      <td>1.122970</td>\n",
       "      <td>117469.036582</td>\n",
       "      <td>13.213946</td>\n",
       "    </tr>\n",
       "    <tr>\n",
       "      <th>3</th>\n",
       "      <td>50005</td>\n",
       "      <td>ALBION</td>\n",
       "      <td>Marshall</td>\n",
       "      <td>IA</td>\n",
       "      <td>64</td>\n",
       "      <td>69.623573</td>\n",
       "      <td>2016</td>\n",
       "      <td>50005</td>\n",
       "      <td>-0.363918</td>\n",
       "      <td>0.424792</td>\n",
       "      <td>...</td>\n",
       "      <td>-0.294220</td>\n",
       "      <td>-0.368457</td>\n",
       "      <td>-0.388978</td>\n",
       "      <td>0.715016</td>\n",
       "      <td>-0.086566</td>\n",
       "      <td>-0.349552</td>\n",
       "      <td>-0.757194</td>\n",
       "      <td>-0.158531</td>\n",
       "      <td>-49922.822295</td>\n",
       "      <td>12.267277</td>\n",
       "    </tr>\n",
       "    <tr>\n",
       "      <th>4</th>\n",
       "      <td>50006</td>\n",
       "      <td>ALDEN</td>\n",
       "      <td>Hardin</td>\n",
       "      <td>IA</td>\n",
       "      <td>42</td>\n",
       "      <td>317.745150</td>\n",
       "      <td>2016</td>\n",
       "      <td>50006</td>\n",
       "      <td>-0.183633</td>\n",
       "      <td>-0.177351</td>\n",
       "      <td>...</td>\n",
       "      <td>-0.235877</td>\n",
       "      <td>-0.200627</td>\n",
       "      <td>-0.193344</td>\n",
       "      <td>0.206912</td>\n",
       "      <td>0.463776</td>\n",
       "      <td>-0.176387</td>\n",
       "      <td>0.583034</td>\n",
       "      <td>0.079624</td>\n",
       "      <td>4544.686297</td>\n",
       "      <td>12.876011</td>\n",
       "    </tr>\n",
       "  </tbody>\n",
       "</table>\n",
       "<p>5 rows × 51 columns</p>\n",
       "</div>"
      ],
      "text/plain": [
       "   Zip Code      City    County State  County Number  Area (sqkm)  Year  \\\n",
       "0     50001  ACKWORTH    Warren    IA             91    62.796656  2016   \n",
       "1     50002     ADAIR   Guthrie    IA             39   279.202219  2016   \n",
       "2     50003      ADEL    Dallas    IA             25   298.086291  2016   \n",
       "3     50005    ALBION  Marshall    IA             64    69.623573  2016   \n",
       "4     50006     ALDEN    Hardin    IA             42   317.745150  2016   \n",
       "\n",
       "    Area  Total Pop  Median HH Inc           ...            \\\n",
       "0  50001  -0.402318       0.632447           ...             \n",
       "1  50002  -0.284515      -0.631802           ...             \n",
       "2  50003   0.447040       1.091906           ...             \n",
       "3  50005  -0.363918       0.424792           ...             \n",
       "4  50006  -0.183633      -0.177351           ...             \n",
       "\n",
       "   Single mother households  Nonfamily households  Single Occupancy  \\\n",
       "0                 -0.356453             -0.398466         -0.420166   \n",
       "1                 -0.286441             -0.217299         -0.206103   \n",
       "2                  0.226979              0.242845          0.281565   \n",
       "3                 -0.294220             -0.368457         -0.388978   \n",
       "4                 -0.235877             -0.200627         -0.193344   \n",
       "\n",
       "   Avg HH Size  Avg Family Size  Pop Below Poverty Level  % P25+ HS Grad  \\\n",
       "0     1.592650         1.064148                -0.384457        0.566488   \n",
       "1    -1.178827        -0.686938                -0.296179        0.367935   \n",
       "2     0.345486         0.413745                 0.480524        0.930500   \n",
       "3     0.715016        -0.086566                -0.349552       -0.757194   \n",
       "4     0.206912         0.463776                -0.176387        0.583034   \n",
       "\n",
       "   % P25-54 BA+  predicted total sales  predicted dollar/litre  \n",
       "0     -0.498753           31202.502921               12.088286  \n",
       "1     -0.328642          -23018.750433               13.008922  \n",
       "2      1.122970          117469.036582               13.213946  \n",
       "3     -0.158531          -49922.822295               12.267277  \n",
       "4      0.079624            4544.686297               12.876011  \n",
       "\n",
       "[5 rows x 51 columns]"
      ]
     },
     "execution_count": 64,
     "metadata": {},
     "output_type": "execute_result"
    }
   ],
   "source": [
    "predict_df.head()"
   ]
  },
  {
   "cell_type": "code",
   "execution_count": 65,
   "metadata": {
    "ExecuteTime": {
     "end_time": "2016-10-11T23:27:04.250320",
     "start_time": "2016-10-11T23:27:04.245518"
    },
    "collapsed": false
   },
   "outputs": [],
   "source": [
    "present_columns = ['Zip Code', 'predicted total sales', 'predicted dollar/litre']"
   ]
  },
  {
   "cell_type": "code",
   "execution_count": 66,
   "metadata": {
    "ExecuteTime": {
     "end_time": "2016-10-11T23:27:05.516436",
     "start_time": "2016-10-11T23:27:05.509475"
    },
    "collapsed": false
   },
   "outputs": [],
   "source": [
    "present_df = predict_df[present_columns]"
   ]
  },
  {
   "cell_type": "code",
   "execution_count": 67,
   "metadata": {
    "ExecuteTime": {
     "end_time": "2016-10-11T23:27:07.905494",
     "start_time": "2016-10-11T23:27:07.669529"
    },
    "collapsed": false
   },
   "outputs": [],
   "source": [
    "present_df = present_df.merge(df2[['Zip Code', 'Store Count', 'Area (sqkm)', 'Stores per sqkm', 'total sales']],\\\n",
    "                              how='left', on='Zip Code').drop_duplicates()"
   ]
  },
  {
   "cell_type": "code",
   "execution_count": 68,
   "metadata": {
    "ExecuteTime": {
     "end_time": "2016-10-11T23:27:08.806084",
     "start_time": "2016-10-11T23:27:08.775364"
    },
    "collapsed": false
   },
   "outputs": [
    {
     "data": {
      "text/html": [
       "<div>\n",
       "<table border=\"1\" class=\"dataframe\">\n",
       "  <thead>\n",
       "    <tr style=\"text-align: right;\">\n",
       "      <th></th>\n",
       "      <th>Zip Code</th>\n",
       "      <th>predicted total sales</th>\n",
       "      <th>predicted dollar/litre</th>\n",
       "      <th>Store Count</th>\n",
       "      <th>Area (sqkm)</th>\n",
       "      <th>Stores per sqkm</th>\n",
       "      <th>total sales</th>\n",
       "    </tr>\n",
       "  </thead>\n",
       "  <tbody>\n",
       "    <tr>\n",
       "      <th>0</th>\n",
       "      <td>50001</td>\n",
       "      <td>31202.502921</td>\n",
       "      <td>12.088286</td>\n",
       "      <td>NaN</td>\n",
       "      <td>NaN</td>\n",
       "      <td>NaN</td>\n",
       "      <td>NaN</td>\n",
       "    </tr>\n",
       "    <tr>\n",
       "      <th>1</th>\n",
       "      <td>50002</td>\n",
       "      <td>-23018.750433</td>\n",
       "      <td>13.008922</td>\n",
       "      <td>2.0</td>\n",
       "      <td>279.202219</td>\n",
       "      <td>0.007163</td>\n",
       "      <td>5851.20</td>\n",
       "    </tr>\n",
       "    <tr>\n",
       "      <th>44</th>\n",
       "      <td>50003</td>\n",
       "      <td>117469.036582</td>\n",
       "      <td>13.213946</td>\n",
       "      <td>3.0</td>\n",
       "      <td>298.086291</td>\n",
       "      <td>0.010064</td>\n",
       "      <td>47716.10</td>\n",
       "    </tr>\n",
       "    <tr>\n",
       "      <th>362</th>\n",
       "      <td>50005</td>\n",
       "      <td>-49922.822295</td>\n",
       "      <td>12.267277</td>\n",
       "      <td>NaN</td>\n",
       "      <td>NaN</td>\n",
       "      <td>NaN</td>\n",
       "      <td>NaN</td>\n",
       "    </tr>\n",
       "    <tr>\n",
       "      <th>363</th>\n",
       "      <td>50006</td>\n",
       "      <td>4544.686297</td>\n",
       "      <td>12.876011</td>\n",
       "      <td>2.0</td>\n",
       "      <td>317.745150</td>\n",
       "      <td>0.006294</td>\n",
       "      <td>12280.24</td>\n",
       "    </tr>\n",
       "  </tbody>\n",
       "</table>\n",
       "</div>"
      ],
      "text/plain": [
       "     Zip Code  predicted total sales  predicted dollar/litre  Store Count  \\\n",
       "0       50001           31202.502921               12.088286          NaN   \n",
       "1       50002          -23018.750433               13.008922          2.0   \n",
       "44      50003          117469.036582               13.213946          3.0   \n",
       "362     50005          -49922.822295               12.267277          NaN   \n",
       "363     50006            4544.686297               12.876011          2.0   \n",
       "\n",
       "     Area (sqkm)  Stores per sqkm  total sales  \n",
       "0            NaN              NaN          NaN  \n",
       "1     279.202219         0.007163      5851.20  \n",
       "44    298.086291         0.010064     47716.10  \n",
       "362          NaN              NaN          NaN  \n",
       "363   317.745150         0.006294     12280.24  "
      ]
     },
     "execution_count": 68,
     "metadata": {},
     "output_type": "execute_result"
    }
   ],
   "source": [
    "present_df.head()"
   ]
  },
  {
   "cell_type": "raw",
   "metadata": {
    "ExecuteTime": {
     "end_time": "2016-10-11T17:23:17.043926",
     "start_time": "2016-10-11T17:23:16.929347"
    }
   },
   "source": [
    "present_df.to_csv('predictions.csv')"
   ]
  },
  {
   "cell_type": "code",
   "execution_count": 69,
   "metadata": {
    "ExecuteTime": {
     "end_time": "2016-10-11T23:27:24.393636",
     "start_time": "2016-10-11T23:27:24.387672"
    },
    "collapsed": false
   },
   "outputs": [],
   "source": [
    "top_10 = present_df.sort_values(by='predicted total sales', ascending=False).head(10)"
   ]
  },
  {
   "cell_type": "code",
   "execution_count": 70,
   "metadata": {
    "ExecuteTime": {
     "end_time": "2016-10-11T23:27:25.151710",
     "start_time": "2016-10-11T23:27:25.147123"
    },
    "collapsed": false
   },
   "outputs": [],
   "source": [
    "pd.set_option('display.float_format', '{:.2f}'.format)"
   ]
  },
  {
   "cell_type": "code",
   "execution_count": 71,
   "metadata": {
    "ExecuteTime": {
     "end_time": "2016-10-11T23:27:26.381242",
     "start_time": "2016-10-11T23:27:26.342426"
    },
    "collapsed": false
   },
   "outputs": [
    {
     "data": {
      "text/html": [
       "<div>\n",
       "<table border=\"1\" class=\"dataframe\">\n",
       "  <thead>\n",
       "    <tr style=\"text-align: right;\">\n",
       "      <th></th>\n",
       "      <th>Zip Code</th>\n",
       "      <th>predicted total sales</th>\n",
       "      <th>predicted dollar/litre</th>\n",
       "      <th>Store Count</th>\n",
       "      <th>Area (sqkm)</th>\n",
       "      <th>Stores per sqkm</th>\n",
       "      <th>total sales</th>\n",
       "    </tr>\n",
       "  </thead>\n",
       "  <tbody>\n",
       "    <tr>\n",
       "      <th>185116</th>\n",
       "      <td>52240</td>\n",
       "      <td>1083196.56</td>\n",
       "      <td>15.67</td>\n",
       "      <td>20.00</td>\n",
       "      <td>415.57</td>\n",
       "      <td>0.05</td>\n",
       "      <td>1083845.19</td>\n",
       "    </tr>\n",
       "    <tr>\n",
       "      <th>211962</th>\n",
       "      <td>52402</td>\n",
       "      <td>968710.35</td>\n",
       "      <td>13.87</td>\n",
       "      <td>30.00</td>\n",
       "      <td>36.42</td>\n",
       "      <td>0.82</td>\n",
       "      <td>1171002.49</td>\n",
       "    </tr>\n",
       "    <tr>\n",
       "      <th>2600</th>\n",
       "      <td>50010</td>\n",
       "      <td>862680.62</td>\n",
       "      <td>14.55</td>\n",
       "      <td>21.00</td>\n",
       "      <td>155.29</td>\n",
       "      <td>0.14</td>\n",
       "      <td>932695.71</td>\n",
       "    </tr>\n",
       "    <tr>\n",
       "      <th>45989</th>\n",
       "      <td>50266</td>\n",
       "      <td>739248.09</td>\n",
       "      <td>17.13</td>\n",
       "      <td>16.00</td>\n",
       "      <td>43.06</td>\n",
       "      <td>0.37</td>\n",
       "      <td>678653.20</td>\n",
       "    </tr>\n",
       "    <tr>\n",
       "      <th>154613</th>\n",
       "      <td>51501</td>\n",
       "      <td>701321.25</td>\n",
       "      <td>15.12</td>\n",
       "      <td>26.00</td>\n",
       "      <td>68.66</td>\n",
       "      <td>0.38</td>\n",
       "      <td>714195.06</td>\n",
       "    </tr>\n",
       "    <tr>\n",
       "      <th>168403</th>\n",
       "      <td>52001</td>\n",
       "      <td>661859.68</td>\n",
       "      <td>14.72</td>\n",
       "      <td>18.00</td>\n",
       "      <td>75.06</td>\n",
       "      <td>0.24</td>\n",
       "      <td>654800.67</td>\n",
       "    </tr>\n",
       "    <tr>\n",
       "      <th>103139</th>\n",
       "      <td>50613</td>\n",
       "      <td>612379.27</td>\n",
       "      <td>14.31</td>\n",
       "      <td>16.00</td>\n",
       "      <td>329.97</td>\n",
       "      <td>0.05</td>\n",
       "      <td>627366.95</td>\n",
       "    </tr>\n",
       "    <tr>\n",
       "      <th>268241</th>\n",
       "      <td>52807</td>\n",
       "      <td>602670.00</td>\n",
       "      <td>15.28</td>\n",
       "      <td>9.00</td>\n",
       "      <td>76.47</td>\n",
       "      <td>0.12</td>\n",
       "      <td>735109.35</td>\n",
       "    </tr>\n",
       "    <tr>\n",
       "      <th>52467</th>\n",
       "      <td>50311</td>\n",
       "      <td>584526.22</td>\n",
       "      <td>15.03</td>\n",
       "      <td>7.00</td>\n",
       "      <td>6.51</td>\n",
       "      <td>1.07</td>\n",
       "      <td>692932.41</td>\n",
       "    </tr>\n",
       "    <tr>\n",
       "      <th>76254</th>\n",
       "      <td>50322</td>\n",
       "      <td>581784.16</td>\n",
       "      <td>16.08</td>\n",
       "      <td>19.00</td>\n",
       "      <td>27.94</td>\n",
       "      <td>0.68</td>\n",
       "      <td>389398.00</td>\n",
       "    </tr>\n",
       "  </tbody>\n",
       "</table>\n",
       "</div>"
      ],
      "text/plain": [
       "        Zip Code  predicted total sales  predicted dollar/litre  Store Count  \\\n",
       "185116     52240             1083196.56                   15.67        20.00   \n",
       "211962     52402              968710.35                   13.87        30.00   \n",
       "2600       50010              862680.62                   14.55        21.00   \n",
       "45989      50266              739248.09                   17.13        16.00   \n",
       "154613     51501              701321.25                   15.12        26.00   \n",
       "168403     52001              661859.68                   14.72        18.00   \n",
       "103139     50613              612379.27                   14.31        16.00   \n",
       "268241     52807              602670.00                   15.28         9.00   \n",
       "52467      50311              584526.22                   15.03         7.00   \n",
       "76254      50322              581784.16                   16.08        19.00   \n",
       "\n",
       "        Area (sqkm)  Stores per sqkm  total sales  \n",
       "185116       415.57             0.05   1083845.19  \n",
       "211962        36.42             0.82   1171002.49  \n",
       "2600         155.29             0.14    932695.71  \n",
       "45989         43.06             0.37    678653.20  \n",
       "154613        68.66             0.38    714195.06  \n",
       "168403        75.06             0.24    654800.67  \n",
       "103139       329.97             0.05    627366.95  \n",
       "268241        76.47             0.12    735109.35  \n",
       "52467          6.51             1.07    692932.41  \n",
       "76254         27.94             0.68    389398.00  "
      ]
     },
     "execution_count": 71,
     "metadata": {},
     "output_type": "execute_result"
    }
   ],
   "source": [
    "top_10"
   ]
  },
  {
   "cell_type": "code",
   "execution_count": null,
   "metadata": {
    "collapsed": false
   },
   "outputs": [],
   "source": [
    "s"
   ]
  }
 ],
 "metadata": {
  "celltoolbar": "Slideshow",
  "kernelspec": {
   "display_name": "Python 2",
   "language": "python",
   "name": "python2"
  },
  "language_info": {
   "codemirror_mode": {
    "name": "ipython",
    "version": 2
   },
   "file_extension": ".py",
   "mimetype": "text/x-python",
   "name": "python",
   "nbconvert_exporter": "python",
   "pygments_lexer": "ipython2",
   "version": "2.7.12"
  }
 },
 "nbformat": 4,
 "nbformat_minor": 0
}
