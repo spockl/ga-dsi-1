{
 "cells": [
  {
   "cell_type": "code",
   "execution_count": 137,
   "metadata": {
    "ExecuteTime": {
     "end_time": "2016-10-18T23:12:50.430589",
     "start_time": "2016-10-18T23:12:50.336956"
    },
    "collapsed": false
   },
   "outputs": [],
   "source": [
    "import pandas as pd\n",
    "import numpy as np\n",
    "import requests\n",
    "from bs4 import BeautifulSoup\n",
    "import datetime\n",
    "import urllib\n",
    "import statsmodels.api as sm\n",
    "from sklearn.cross_validation import train_test_split\n",
    "import matplotlib.pyplot as plt\n",
    "import seaborn as sns\n",
    "import time\n",
    "import statsmodels.api as sm\n",
    "from scipy import stats\n",
    "from sklearn import datasets\n",
    "from sklearn.pipeline import Pipeline\n",
    "from sklearn.preprocessing import PolynomialFeatures\n",
    "from sklearn.linear_model import LinearRegression, Ridge, Lasso, LogisticRegression, LogisticRegressionCV\n",
    "from sklearn.metrics import mean_squared_error, classification_report, confusion_matrix, accuracy_score\n",
    "from sklearn.cross_validation import train_test_split, cross_val_score\n",
    "from sklearn.grid_search import GridSearchCV\n",
    "from sklearn.metrics import roc_auc_score, roc_curve, auc\n",
    "% matplotlib inline"
   ]
  },
  {
   "cell_type": "code",
   "execution_count": 138,
   "metadata": {
    "ExecuteTime": {
     "end_time": "2016-10-18T23:12:50.461412",
     "start_time": "2016-10-18T23:12:50.434307"
    },
    "collapsed": false,
    "scrolled": false
   },
   "outputs": [],
   "source": [
    "lm = LinearRegression()\n",
    "LR= LogisticRegression\n",
    "LRCV= LogisticRegressionCV"
   ]
  },
  {
   "cell_type": "code",
   "execution_count": 139,
   "metadata": {
    "ExecuteTime": {
     "end_time": "2016-10-18T23:12:50.521204",
     "start_time": "2016-10-18T23:12:50.463858"
    },
    "collapsed": false
   },
   "outputs": [],
   "source": [
    "def renaming(x):\n",
    "    new_name=\"\"\n",
    "    if x in [\"Junior Data Scientist\", \"Entry Level Data Scientist\", \"Data Scientist II\", \"Associate Data Scientist\"]:\n",
    "        new_name=\"Junior DS\"\n",
    "    elif x in [\"Senior Data Scientist\", \"Principal Data Scientist\"]:\n",
    "        new_name=\"Senior DS\"\n",
    "    else:\n",
    "        new_name=\"DS\"\n",
    "    return new_name\n",
    "def name_change(x):\n",
    "    new_value=\"\"\n",
    "    if x in change.keys():\n",
    "        new_value=change[x]\n",
    "    else:\n",
    "        new_value=x\n",
    "    return new_value\n",
    "def cap(x):\n",
    "    value=0\n",
    "    if x is np.NAN:\n",
    "        value=\"Unknown\"\n",
    "    elif x>2000:\n",
    "        value=\"Hugecap\"\n",
    "    elif x>500:\n",
    "        value=\"Largecap\"\n",
    "    elif x>100:\n",
    "        value=\"Midcap\"\n",
    "    else:\n",
    "        value=\"Smallcap\"\n",
    "    return value\n",
    "def create_bins(low,high,n):\n",
    "    increment=(high-low)/float(n)\n",
    "    bins=[]\n",
    "    for i in range(n+1):\n",
    "        bins.append(low+increment*(i))\n",
    "    replacements=[]\n",
    "    i=0\n",
    "    while i<len(bins)-1:\n",
    "        replacements.append(str(int(round(bins[i])))+\"-\"+str(int(round(bins[i+1]))))\n",
    "        i+=1\n",
    "    return bins,replacements\n",
    "def salary_bin(bins,replacements,x):\n",
    "    i=0\n",
    "    value=0\n",
    "    while i<len(bins)-1:\n",
    "        if x<=int(round(bins[i+1])):\n",
    "            value=replacements[i]\n",
    "            i=len(bins)\n",
    "        i+=1\n",
    "    if value==0:\n",
    "        value=str(bins[-1])+\"+\"\n",
    "    return value\n",
    "def only_numerics(seq):\n",
    "    seq = seq.split('-')\n",
    "    try:\n",
    "        out = ((int(filter(type(seq[0]).isdigit, seq[0])) + int(filter(type(seq[1]).isdigit, seq[1])))/2)*1000\n",
    "    except:\n",
    "        out = int(filter(type(seq[0]).isdigit, seq[0]))\n",
    "    return out\n"
   ]
  },
  {
   "cell_type": "markdown",
   "metadata": {
    "collapsed": true
   },
   "source": [
    "Uploads the non-Glass Door data.\n",
    "The stock data is cleaned for:\n",
    "* Certain terms in the name. Things like 'inc,' or 'corp' are deleted. This helps the matching process.\n",
    "* The market cap information is converted from strings to millions of dollars.\n",
    "\n",
    "The city data is cleaned for:\n",
    "\n",
    "* Cities containing '-'\n",
    "* Cities containing 'county'\n",
    "* Removing ',' from city names"
   ]
  },
  {
   "cell_type": "code",
   "execution_count": 140,
   "metadata": {
    "ExecuteTime": {
     "end_time": "2016-10-18T23:12:50.681192",
     "start_time": "2016-10-18T23:12:50.524284"
    },
    "collapsed": false
   },
   "outputs": [],
   "source": [
    "#Cleans up the Stock information\n",
    "nyse=pd.read_csv(\"Data/NYSE.csv\")\n",
    "nasdaq=pd.read_csv(\"Data/NASDAQ.csv\")\n",
    "amex=pd.read_csv(\"Data/AMEX.csv\")\n",
    "stocks=nyse.append(nasdaq,ignore_index=True).append(amex,ignore_index=True)\n",
    "del stocks[\"Summary Quote\"]\n",
    "i=0"
   ]
  },
  {
   "cell_type": "markdown",
   "metadata": {
    "ExecuteTime": {
     "end_time": "2016-10-18T14:37:15.643836",
     "start_time": "2016-10-18T14:37:15.635873"
    },
    "collapsed": true
   },
   "source": [
    "We had discrepancies between the names of the scraped Glass Door data, and the names of the stock information. This led to information not being merged when it should have. So, we manually searched for the pairs of names and input them into a dictionary. This dictionary would be used to rename the mislabeled Glass Door entries."
   ]
  },
  {
   "cell_type": "code",
   "execution_count": 141,
   "metadata": {
    "ExecuteTime": {
     "end_time": "2016-10-18T23:12:52.380712",
     "start_time": "2016-10-18T23:12:50.683449"
    },
    "collapsed": false
   },
   "outputs": [],
   "source": [
    "\"\"\"ONLY USED FOR FINDING STOCKS\"\"\"\n",
    "\n",
    "names=[x for x,y in zip(stocks[\"Name\"].value_counts().sort_values(ascending=False).index,\\\n",
    "                        stocks[\"Name\"].value_counts().sort_values(ascending=False).values) if y>1]\n",
    "\n",
    "names=['Price']\n",
    "\n",
    "#Finds all instances of a company name within stocks[\"Name\"], and prints the instance and its index numer\n",
    "for name in names:\n",
    "    i=0\n",
    "    while i<len(stocks):\n",
    "        if stocks.loc[i,\"Name\"]==name:\n",
    "            print \"index: \",i\n",
    "            print stocks.iloc[i]\n",
    "            print \"\\n\"\n",
    "        i+=1\n",
    "\n",
    "# [x for x in stocks[\"Name\"] if x[0:3]==\"Exp\"] #-->Additional Search Method; looks for first three letters\n",
    "# [x for x in stocks[\"Name\"] if \"Price\".lower() in x.lower()]"
   ]
  },
  {
   "cell_type": "code",
   "execution_count": 142,
   "metadata": {
    "ExecuteTime": {
     "end_time": "2016-10-18T23:12:52.396513",
     "start_time": "2016-10-18T23:12:52.383199"
    },
    "collapsed": false
   },
   "outputs": [],
   "source": [
    "change={\"GE\": \"General Electric Company\", \"IBM\":\"Microsoft\",\"Capital One\":\"Capital One Financial\",\n",
    "        \"Verizon\":\"Verizon Communications\",\"Hewlett Packard Enterprise | HPE\":'Hewlett Packard Enterprise Company',\n",
    "       \"Hewlett-Packard\":'Hewlett Packard Enterprise Company',\"Alliance Data\":\"Alliance Data Systems\",\n",
    "       'Raytheon':'Raytheon Company',\"GE\":'General Electric Company',\"Verizon Wireless\":\"Verizon Communications\",\n",
    "       \"Intel Corporation\":\"Intel\",\"MaxPoint\":\"MaxPoint Interactive\",\"General Motors\":\"General Motors Company\",\n",
    "       \"Booz Allen Hamilton\":\"Booz Allen Hamilton Holding\",\"Nielsen\":\"Nielsen N.V.\",\"SAP\":\"SAP SE\",\n",
    "       \"General Dynamics Mission Systems\":\"General Dynamics\",\"Leidos\":\"Leidos Holdings\",\n",
    "       \"Honeywell\":\"Honeywell International\",\"Akamai\":\"Akamai Technologies\",\"BNY Mellon\":\"Bank Of New York Mellon\",\n",
    "       \"FIS\":\"Fidelity National Information Services\",\"J.P. Morgan\":'J P Morgan Chase & Co',\n",
    "       \"Walmart\":'Wal-Mart Stores',\"PayPal\":\"PayPal Holdings\",\"Adobe\":\"Adobe Systems\",'AOL':\"Verizon Communications\"}"
   ]
  },
  {
   "cell_type": "code",
   "execution_count": 143,
   "metadata": {
    "ExecuteTime": {
     "end_time": "2016-10-18T23:12:59.103125",
     "start_time": "2016-10-18T23:12:52.399908"
    },
    "collapsed": false
   },
   "outputs": [],
   "source": [
    "while i<len(stocks[\"Symbol\"]):\n",
    "    if \" (The)\" in stocks.iloc[i,1]:\n",
    "        stocks.iloc[i,1]=stocks.iloc[i,1][:len(stocks.iloc[i,1])-len(\" (The)\")]\n",
    "    if \" Incorporated\" in stocks.iloc[i,1]:\n",
    "        stocks.iloc[i,1]=stocks.iloc[i,1][:len(stocks.iloc[i,1])-len(\" Incorporated\")]\n",
    "    if \", Inc.\" in stocks.iloc[i,1]:\n",
    "        stocks.iloc[i,1]=stocks.iloc[i,1][:len(stocks.iloc[i,1])-len(\", Inc.\")]\n",
    "    if \", Inc\" in stocks.iloc[i,1]:\n",
    "        stocks.iloc[i,1]=stocks.iloc[i,1][:len(stocks.iloc[i,1])-len(\", Inc\")]\n",
    "    if \", INC\" in stocks.iloc[i,1]:\n",
    "        stocks.iloc[i,1]=stocks.iloc[i,1][:len(stocks.iloc[i,1])-len(\", Inc\")]\n",
    "    if \" Inc.\" in stocks.iloc[i,1]:\n",
    "        stocks.iloc[i,1]=stocks.iloc[i,1][:len(stocks.iloc[i,1])-len(\" Inc.\")]\n",
    "    if \" Inc\" in stocks.iloc[i,1]:\n",
    "        stocks.iloc[i,1]=stocks.iloc[i,1][:len(stocks.iloc[i,1])-len(\" Inc\")]\n",
    "    if \" INC\" in stocks.iloc[i,1]:\n",
    "        stocks.iloc[i,1]=stocks.iloc[i,1][:len(stocks.iloc[i,1])-len(\" Inc\")]\n",
    "    if  \" Corporation\" in stocks.iloc[i,1]:\n",
    "        stocks.iloc[i,1]=stocks.iloc[i,1][:len(stocks.iloc[i,1])-len(\" Corporation\")]\n",
    "    if \" Corp.\" in stocks.iloc[i,1]:\n",
    "        stocks.iloc[i,1]=stocks.iloc[i,1][:len(stocks.iloc[i,1])-len(\" Corp.\")]\n",
    "    if \" Corp\" in stocks.iloc[i,1]:\n",
    "        stocks.iloc[i,1]=stocks.iloc[i,1][:len(stocks.iloc[i,1])-len(\" Corp\")]\n",
    "    if \" CORP\" in stocks.iloc[i,1]:\n",
    "        stocks.iloc[i,1]=stocks.iloc[i,1][:len(stocks.iloc[i,1])-len(\" Corp\")]\n",
    "    i+=1\n",
    "\n",
    "#Convert MarketCap to Millions of dollars\n",
    "i=0\n",
    "while i<len(stocks[\"MarketCap\"]):\n",
    "    if \"B\" in str(stocks.iloc[i,3])[-1:]:\n",
    "        stocks.iloc[i,3]=float(str(stocks.iloc[i,3])[1:-1])*1000\n",
    "    else:\n",
    "        stocks.iloc[i,3]=str(stocks.iloc[i,3])[1:-1]\n",
    "    i+=1\n",
    "\n",
    "stocks=stocks.reset_index()\n",
    "del stocks['index']\n",
    "\n",
    "#Cleans cities data (eliminates counties and combined cities/towns)\n",
    "cities=pd.read_csv(\"Data/Living_Index.csv\")\n",
    "cities=cities.rename(columns={\"Urban Area\":\"City\"})\n",
    "values=[]\n",
    "for x in cities[\"City\"]:\n",
    "    if \"-\" in x:\n",
    "        values.append(False)\n",
    "    else:\n",
    "        values.append(True)\n",
    "cities=cities[values]\n",
    "values=[]\n",
    "for x in cities[\"City\"]:\n",
    "    if \"county\" in x.lower():\n",
    "        values.append(False)\n",
    "    else:\n",
    "        values.append(True)\n",
    "cities=cities[values]\n",
    "new_city_list=[]\n",
    "\n",
    "for x in cities[\"City\"]:\n",
    "    y=x[-4:]\n",
    "    z=x[:-len(y)].replace(\",\",\"\")+y\n",
    "    new_city_list.append(z)\n",
    "cities[\"City\"]=new_city_list"
   ]
  },
  {
   "cell_type": "markdown",
   "metadata": {},
   "source": [
    "We initiate a Glass Door data frame to connect the json to.\n",
    "We upload the json, which has four columns:\n",
    "* Location\n",
    "* Company\n",
    "* Salary\n",
    "* Job\n",
    "\n",
    "We clean the json df for:\n",
    "* Changing salary ranges to averagees\n",
    "\n",
    "We save the json df as 'glass_door'.\n",
    "\n",
    "We clean the glass_door df for:\n",
    "* Name changes found listed above\n",
    "\n",
    "We merge the glass_door df with cities. \n",
    "\n",
    "We create a new column \"Normalized Salary\"."
   ]
  },
  {
   "cell_type": "code",
   "execution_count": 144,
   "metadata": {
    "ExecuteTime": {
     "end_time": "2016-10-18T23:12:59.364619",
     "start_time": "2016-10-18T23:12:59.105299"
    },
    "collapsed": false
   },
   "outputs": [],
   "source": [
    "glass_door=pd.DataFrame(columns=[\"Salary\",\"Company\",\"Location\"])\n",
    "\n",
    "extension=\"Data/allcities.json\"\n",
    "json=pd.read_json(extension)\n",
    "df=pd.DataFrame([json[\"city\"],json[\"company\"],json[\"meanPay\"],json[\"jobTitle\"]]).T\n",
    "df.columns=[\"Location\",\"Company\",\"Salary\",\"Job\"]\n",
    "temp=[]\n",
    "\n",
    "\n",
    "df['Salary'] = df['Salary'].apply(only_numerics)\n",
    "df=df[pd.notnull(df[\"Salary\"])].reset_index()\n",
    "del df['index']\n",
    "df[\"Salary\"]=df['Salary'].astype(np.float)#\n",
    "\n",
    "glass_door=glass_door.append(df,ignore_index=True)\n",
    "\n",
    "glass_door[\"Company\"]=glass_door[\"Company\"].apply(lambda x: name_change(x))\n",
    "\n",
    "glass_door=glass_door.merge(cities, left_on=\"Location\", right_on=\"City\")\n",
    "glass_door[\"Normalized Salary\"]=glass_door[\"Salary\"]/glass_door[\"100% Composite Index\"]"
   ]
  },
  {
   "cell_type": "code",
   "execution_count": 145,
   "metadata": {
    "ExecuteTime": {
     "end_time": "2016-10-18T23:12:59.395894",
     "start_time": "2016-10-18T23:12:59.367866"
    },
    "collapsed": false
   },
   "outputs": [
    {
     "data": {
      "text/html": [
       "<div>\n",
       "<table border=\"1\" class=\"dataframe\">\n",
       "  <thead>\n",
       "    <tr style=\"text-align: right;\">\n",
       "      <th></th>\n",
       "      <th>Location</th>\n",
       "      <th>Company</th>\n",
       "      <th>Salary</th>\n",
       "      <th>Job</th>\n",
       "    </tr>\n",
       "  </thead>\n",
       "  <tbody>\n",
       "    <tr>\n",
       "      <th>0</th>\n",
       "      <td>Albany, NY</td>\n",
       "      <td>GE</td>\n",
       "      <td>104000.0</td>\n",
       "      <td>Data Scientist</td>\n",
       "    </tr>\n",
       "    <tr>\n",
       "      <th>1</th>\n",
       "      <td>Arlington, TX</td>\n",
       "      <td>State Farm</td>\n",
       "      <td>105000.0</td>\n",
       "      <td>Data Scientist</td>\n",
       "    </tr>\n",
       "    <tr>\n",
       "      <th>2</th>\n",
       "      <td>Arlington, TX</td>\n",
       "      <td>Epsilon</td>\n",
       "      <td>166000.0</td>\n",
       "      <td>Data Scientist</td>\n",
       "    </tr>\n",
       "    <tr>\n",
       "      <th>3</th>\n",
       "      <td>Arlington, TX</td>\n",
       "      <td>Match</td>\n",
       "      <td>82000.0</td>\n",
       "      <td>Data Scientist</td>\n",
       "    </tr>\n",
       "    <tr>\n",
       "      <th>4</th>\n",
       "      <td>Arlington, TX</td>\n",
       "      <td>Hudl</td>\n",
       "      <td>90000.0</td>\n",
       "      <td>Data Scientist</td>\n",
       "    </tr>\n",
       "  </tbody>\n",
       "</table>\n",
       "</div>"
      ],
      "text/plain": [
       "        Location     Company    Salary             Job\n",
       "0     Albany, NY          GE  104000.0  Data Scientist\n",
       "1  Arlington, TX  State Farm  105000.0  Data Scientist\n",
       "2  Arlington, TX     Epsilon  166000.0  Data Scientist\n",
       "3  Arlington, TX       Match   82000.0  Data Scientist\n",
       "4  Arlington, TX        Hudl   90000.0  Data Scientist"
      ]
     },
     "execution_count": 145,
     "metadata": {},
     "output_type": "execute_result"
    }
   ],
   "source": [
    "df.head()"
   ]
  },
  {
   "cell_type": "code",
   "execution_count": 146,
   "metadata": {
    "ExecuteTime": {
     "end_time": "2016-10-18T23:12:59.412442",
     "start_time": "2016-10-18T23:12:59.399599"
    },
    "collapsed": false
   },
   "outputs": [
    {
     "data": {
      "text/plain": [
       "Data Scientist                                945\n",
       "Senior Data Scientist                         375\n",
       "Principal Data Scientist                       59\n",
       "Junior Data Scientist                          38\n",
       "Entry Level Data Scientist                     28\n",
       "Data Scientist II                              18\n",
       "Data Scientist Intern                          17\n",
       "Associate Data Scientist                       16\n",
       "Data Scientist Intern - Hourly                 15\n",
       "Data Scientist Intern - Monthly                11\n",
       "Data Scientist I                                6\n",
       "Senior Data Scientist/Statistician              4\n",
       "Staff Data Scientist                            3\n",
       "Clinical Laboratory Scientist-data Analyst      2\n",
       "Chief Data Scientist                            2\n",
       "Scientist, Statistical and Data Sciences        2\n",
       "Data Visualization Scientist                    2\n",
       "Lead Data Scientist                             1\n",
       "Software Engineer (Data Scientist)              1\n",
       "Data Scientist - Hourly                         1\n",
       "Name: Job, dtype: int64"
      ]
     },
     "execution_count": 146,
     "metadata": {},
     "output_type": "execute_result"
    }
   ],
   "source": [
    "df.Job.value_counts()"
   ]
  },
  {
   "cell_type": "markdown",
   "metadata": {},
   "source": [
    "We merge the glass_door df with stocks. We only select those Jobs that are Junior Level, Middle Level, or Senior Level. We dont want to end up with internships. We then bin the jobs with their respective bin names (as just mentioned).\n",
    "\n",
    "For the most recurring private companies, market cap and sectors were updated as they had an impact on prediction ability.\n",
    "\n",
    "Null values in market cap and sector were changed appropriately."
   ]
  },
  {
   "cell_type": "code",
   "execution_count": 147,
   "metadata": {
    "ExecuteTime": {
     "end_time": "2016-10-18T23:12:59.440231",
     "start_time": "2016-10-18T23:12:59.415451"
    },
    "collapsed": false
   },
   "outputs": [],
   "source": [
    "df=glass_door.copy()\n",
    "df=df.merge(stocks, how='left',left_on=\"Company\",right_on=\"Name\")\n",
    "keep = [\"Senior Data Scientist\", \"Principal Data Scientist\", \"Data Scientist\", \"Junior Data Scientist\", \\\n",
    "        \"Entry Level Data Scientist\", \"Data Scientist II\", \"Associate Data Scientist\"]\n",
    "df['keep']=df['Job'].map(lambda x: True if x in keep else False)\n",
    "df = df[df['keep'] == True]"
   ]
  },
  {
   "cell_type": "code",
   "execution_count": 148,
   "metadata": {
    "ExecuteTime": {
     "end_time": "2016-10-18T23:12:59.457269",
     "start_time": "2016-10-18T23:12:59.444638"
    },
    "collapsed": false
   },
   "outputs": [
    {
     "data": {
      "text/plain": [
       "Data Scientist                929\n",
       "Senior Data Scientist         377\n",
       "Principal Data Scientist       54\n",
       "Junior Data Scientist          34\n",
       "Entry Level Data Scientist     27\n",
       "Data Scientist II              15\n",
       "Associate Data Scientist       15\n",
       "Name: Job, dtype: int64"
      ]
     },
     "execution_count": 148,
     "metadata": {},
     "output_type": "execute_result"
    }
   ],
   "source": [
    "df[\"Job\"].value_counts()"
   ]
  },
  {
   "cell_type": "code",
   "execution_count": 149,
   "metadata": {
    "ExecuteTime": {
     "end_time": "2016-10-18T23:13:00.203955",
     "start_time": "2016-10-18T23:12:59.460901"
    },
    "collapsed": false
   },
   "outputs": [],
   "source": [
    "df[\"Job\"]=df[\"Job\"].apply(lambda x: renaming(x))\n",
    "\n",
    "\n",
    "\n",
    "marketcap_sectors={'KPMG':[24440,\"Consulting\"],'Razorfish':[np.NaN,\"Technology\"],\n",
    "                   'Elevate Credit':[640,\"Finance\"],'BCG Digital Ventures':[np.NaN,\"Finance\"]}\n",
    "\n",
    "df=df.reset_index()\n",
    "del df[\"index\"]\n",
    "i=0\n",
    "while i<len(df):\n",
    "    if df.loc[i,\"Company\"] in marketcap_sectors.keys():\n",
    "        df.loc[i,\"MarketCap\"]=marketcap_sectors[df.loc[i,\"Company\"]][0]\n",
    "        df.loc[i,\"Sector\"]=marketcap_sectors[df.loc[i,\"Company\"]][1]\n",
    "    i+=1\n",
    "\n",
    "df[\"Sector\"]=[\"Technology\" if pd.isnull(x) else x for x in df[\"Sector\"]]\n",
    "df[\"MarketCap\"]=df[\"MarketCap\"].apply(lambda x: cap(x))\n",
    "#df[\"MarketCapSector\"]=df[\"Sector\"]+df[\"MarketCap\"]"
   ]
  },
  {
   "cell_type": "code",
   "execution_count": 150,
   "metadata": {
    "ExecuteTime": {
     "end_time": "2016-10-18T23:13:00.217592",
     "start_time": "2016-10-18T23:13:00.206273"
    },
    "collapsed": false
   },
   "outputs": [
    {
     "data": {
      "text/plain": [
       "DS           929\n",
       "Senior DS    431\n",
       "Junior DS     91\n",
       "Name: Job, dtype: int64"
      ]
     },
     "execution_count": 150,
     "metadata": {},
     "output_type": "execute_result"
    }
   ],
   "source": [
    "df['Job'].value_counts()"
   ]
  },
  {
   "cell_type": "code",
   "execution_count": 151,
   "metadata": {
    "ExecuteTime": {
     "end_time": "2016-10-18T23:13:00.290309",
     "start_time": "2016-10-18T23:13:00.220194"
    },
    "collapsed": false
   },
   "outputs": [
    {
     "data": {
      "text/html": [
       "<div>\n",
       "<table border=\"1\" class=\"dataframe\">\n",
       "  <thead>\n",
       "    <tr style=\"text-align: right;\">\n",
       "      <th></th>\n",
       "      <th>Job</th>\n",
       "      <th>Company</th>\n",
       "      <th>Sector</th>\n",
       "      <th>MarketCap</th>\n",
       "      <th>State</th>\n",
       "      <th>Region</th>\n",
       "      <th>industry</th>\n",
       "      <th>Location</th>\n",
       "      <th>Salary</th>\n",
       "      <th>City</th>\n",
       "      <th>Symbol</th>\n",
       "      <th>Name</th>\n",
       "      <th>LastSale</th>\n",
       "      <th>IPOyear</th>\n",
       "      <th>Normalized Salary</th>\n",
       "      <th>100% Composite Index</th>\n",
       "    </tr>\n",
       "  </thead>\n",
       "  <tbody>\n",
       "    <tr>\n",
       "      <th>0</th>\n",
       "      <td>DS</td>\n",
       "      <td>General Electric Company</td>\n",
       "      <td>Energy</td>\n",
       "      <td>Hugecap</td>\n",
       "      <td>NY</td>\n",
       "      <td>NE</td>\n",
       "      <td>Consumer Electronics/Appliances</td>\n",
       "      <td>Albany, NY</td>\n",
       "      <td>104000.0</td>\n",
       "      <td>Albany, NY</td>\n",
       "      <td>GE</td>\n",
       "      <td>General Electric Company</td>\n",
       "      <td>28.89</td>\n",
       "      <td>n/a</td>\n",
       "      <td>962.072155</td>\n",
       "      <td>108.1</td>\n",
       "    </tr>\n",
       "    <tr>\n",
       "      <th>1</th>\n",
       "      <td>DS</td>\n",
       "      <td>General Electric Company</td>\n",
       "      <td>Energy</td>\n",
       "      <td>Hugecap</td>\n",
       "      <td>NY</td>\n",
       "      <td>NE</td>\n",
       "      <td>Consumer Electronics/Appliances</td>\n",
       "      <td>Albany, NY</td>\n",
       "      <td>104000.0</td>\n",
       "      <td>Albany, NY</td>\n",
       "      <td>GEB</td>\n",
       "      <td>General Electric Company</td>\n",
       "      <td>25.69</td>\n",
       "      <td>n/a</td>\n",
       "      <td>962.072155</td>\n",
       "      <td>108.1</td>\n",
       "    </tr>\n",
       "    <tr>\n",
       "      <th>2</th>\n",
       "      <td>DS</td>\n",
       "      <td>State Farm</td>\n",
       "      <td>Technology</td>\n",
       "      <td>Unknown</td>\n",
       "      <td>TX</td>\n",
       "      <td>S</td>\n",
       "      <td>NaN</td>\n",
       "      <td>Arlington, TX</td>\n",
       "      <td>105000.0</td>\n",
       "      <td>Arlington, TX</td>\n",
       "      <td>NaN</td>\n",
       "      <td>NaN</td>\n",
       "      <td>NaN</td>\n",
       "      <td>NaN</td>\n",
       "      <td>1057.401813</td>\n",
       "      <td>99.3</td>\n",
       "    </tr>\n",
       "    <tr>\n",
       "      <th>3</th>\n",
       "      <td>DS</td>\n",
       "      <td>Epsilon</td>\n",
       "      <td>Technology</td>\n",
       "      <td>Unknown</td>\n",
       "      <td>TX</td>\n",
       "      <td>S</td>\n",
       "      <td>NaN</td>\n",
       "      <td>Arlington, TX</td>\n",
       "      <td>166000.0</td>\n",
       "      <td>Arlington, TX</td>\n",
       "      <td>NaN</td>\n",
       "      <td>NaN</td>\n",
       "      <td>NaN</td>\n",
       "      <td>NaN</td>\n",
       "      <td>1671.701913</td>\n",
       "      <td>99.3</td>\n",
       "    </tr>\n",
       "    <tr>\n",
       "      <th>4</th>\n",
       "      <td>DS</td>\n",
       "      <td>Match</td>\n",
       "      <td>Technology</td>\n",
       "      <td>Unknown</td>\n",
       "      <td>TX</td>\n",
       "      <td>S</td>\n",
       "      <td>NaN</td>\n",
       "      <td>Arlington, TX</td>\n",
       "      <td>82000.0</td>\n",
       "      <td>Arlington, TX</td>\n",
       "      <td>NaN</td>\n",
       "      <td>NaN</td>\n",
       "      <td>NaN</td>\n",
       "      <td>NaN</td>\n",
       "      <td>825.780463</td>\n",
       "      <td>99.3</td>\n",
       "    </tr>\n",
       "  </tbody>\n",
       "</table>\n",
       "</div>"
      ],
      "text/plain": [
       "  Job                   Company      Sector MarketCap State Region  \\\n",
       "0  DS  General Electric Company      Energy   Hugecap    NY     NE   \n",
       "1  DS  General Electric Company      Energy   Hugecap    NY     NE   \n",
       "2  DS                State Farm  Technology   Unknown    TX      S   \n",
       "3  DS                   Epsilon  Technology   Unknown    TX      S   \n",
       "4  DS                     Match  Technology   Unknown    TX      S   \n",
       "\n",
       "                          industry       Location    Salary           City  \\\n",
       "0  Consumer Electronics/Appliances     Albany, NY  104000.0     Albany, NY   \n",
       "1  Consumer Electronics/Appliances     Albany, NY  104000.0     Albany, NY   \n",
       "2                              NaN  Arlington, TX  105000.0  Arlington, TX   \n",
       "3                              NaN  Arlington, TX  166000.0  Arlington, TX   \n",
       "4                              NaN  Arlington, TX   82000.0  Arlington, TX   \n",
       "\n",
       "  Symbol                      Name LastSale IPOyear  Normalized Salary  \\\n",
       "0     GE  General Electric Company    28.89     n/a         962.072155   \n",
       "1    GEB  General Electric Company    25.69     n/a         962.072155   \n",
       "2    NaN                       NaN      NaN     NaN        1057.401813   \n",
       "3    NaN                       NaN      NaN     NaN        1671.701913   \n",
       "4    NaN                       NaN      NaN     NaN         825.780463   \n",
       "\n",
       "   100% Composite Index  \n",
       "0                 108.1  \n",
       "1                 108.1  \n",
       "2                  99.3  \n",
       "3                  99.3  \n",
       "4                  99.3  "
      ]
     },
     "execution_count": 151,
     "metadata": {},
     "output_type": "execute_result"
    }
   ],
   "source": [
    "df[['Job',u'Company', \"Sector\",\"MarketCap\",\"State\",\"Region\", u'industry',u'Location', u'Salary', u'City',\n",
    "       u'Symbol', u'Name', u'LastSale', u'IPOyear',u'Normalized Salary',u'100% Composite Index']].head()"
   ]
  },
  {
   "cell_type": "code",
   "execution_count": 104,
   "metadata": {
    "ExecuteTime": {
     "end_time": "2016-10-18T22:54:19.929933",
     "start_time": "2016-10-18T22:54:19.919049"
    },
    "collapsed": false
   },
   "outputs": [
    {
     "data": {
      "text/plain": [
       "DS           929\n",
       "Senior DS    431\n",
       "Junior DS     91\n",
       "Name: Job, dtype: int64"
      ]
     },
     "execution_count": 104,
     "metadata": {},
     "output_type": "execute_result"
    }
   ],
   "source": [
    "df['Job'].value_counts()"
   ]
  },
  {
   "cell_type": "code",
   "execution_count": 153,
   "metadata": {
    "ExecuteTime": {
     "end_time": "2016-10-18T23:13:22.480422",
     "start_time": "2016-10-18T23:13:22.408111"
    },
    "collapsed": false
   },
   "outputs": [
    {
     "data": {
      "text/plain": [
       "count      1451.000000\n",
       "mean     113602.785665\n",
       "std       24397.855261\n",
       "min       40000.000000\n",
       "25%       96000.000000\n",
       "50%      109000.000000\n",
       "75%      128000.000000\n",
       "max      211000.000000\n",
       "Name: Salary, dtype: float64"
      ]
     },
     "execution_count": 153,
     "metadata": {},
     "output_type": "execute_result"
    }
   ],
   "source": [
    "df['Salary'].describe()"
   ]
  },
  {
   "cell_type": "raw",
   "metadata": {
    "ExecuteTime": {
     "end_time": "2016-10-18T22:54:29.366805",
     "start_time": "2016-10-18T22:54:29.242539"
    }
   },
   "source": [
    "df2=pd.get_dummies(df,columns=[\"Sector\",\"MarketCap\",\"State\",\"Region\", \"Job\"])\n",
    "df2.head()"
   ]
  },
  {
   "cell_type": "code",
   "execution_count": 154,
   "metadata": {
    "ExecuteTime": {
     "end_time": "2016-10-18T23:14:40.807550",
     "start_time": "2016-10-18T23:13:33.006606"
    },
    "collapsed": false,
    "scrolled": false
   },
   "outputs": [],
   "source": [
    "df2=pd.get_dummies(df,columns=[\"Sector\",\"MarketCap\",\"State\",\"Region\", \"Job\"])\n",
    "delete=[u'industry',u'Company', u'Location', u'Salary', u'City',\n",
    "       u'Symbol', u'Name', u'LastSale', u'IPOyear',u'Normalized Salary',u'100% Composite Index'] \n",
    "#u'13 % Grocery Items', u'29 % Housing',\n",
    "#      u'10% Utilities', u'12 % Transportation', u'4% Health Care',\n",
    "#       u'32 % Miscellaneous Goods and Services',\n",
    "for x in delete:\n",
    "    del df2[x]\n",
    "\n",
    "normalizer=pd.DataFrame(df[\"100% Composite Index\"].copy(),columns=[\"100% Composite Index\"])\n",
    "df2=df2.reset_index()\n",
    "del df2['index']\n",
    "normalizer=normalizer.reset_index()\n",
    "del normalizer['index']\n",
    "i=0\n",
    "cols=df2.columns\n",
    "while i<len(df2):\n",
    "    for x in cols:\n",
    "        df2.loc[i,x]=df2.loc[i,x]*normalizer.loc[i,\"100% Composite Index\"]\n",
    "    i+=1"
   ]
  },
  {
   "cell_type": "code",
   "execution_count": 155,
   "metadata": {
    "ExecuteTime": {
     "end_time": "2016-10-18T23:14:40.833402",
     "start_time": "2016-10-18T23:14:40.810055"
    },
    "collapsed": false
   },
   "outputs": [],
   "source": [
    "#ENTER BINS BELOW\n",
    "bin_NUMBER=3\n",
    "\n",
    "temp2=pd.DataFrame(df[\"Salary\"].copy(),columns=[\"Salary\"])\n",
    "bins2,replacements2=create_bins(min(temp2[\"Salary\"]),max(temp2[\"Salary\"]),bin_NUMBER)\n",
    "\n",
    "temp=pd.DataFrame(df[\"Salary\"].copy(),columns=[\"Salary\"])\n",
    "bins,replacements=create_bins(min(temp[\"Salary\"]),max(temp[\"Salary\"]),bin_NUMBER)\n",
    "temp[\"Normalized Salary\"]=temp[\"Salary\"].apply(lambda x: salary_bin(bins,replacements,x))\n",
    "#df1=pd.get_dummies(temp,columns=[\"Normalized Salary\"])\n",
    "df1=temp[\"Normalized Salary\"]"
   ]
  },
  {
   "cell_type": "code",
   "execution_count": 157,
   "metadata": {
    "ExecuteTime": {
     "end_time": "2016-10-18T23:14:54.839987",
     "start_time": "2016-10-18T23:14:54.765445"
    },
    "collapsed": false
   },
   "outputs": [
    {
     "data": {
      "text/html": [
       "<div>\n",
       "<table border=\"1\" class=\"dataframe\">\n",
       "  <thead>\n",
       "    <tr style=\"text-align: right;\">\n",
       "      <th></th>\n",
       "      <th>Salary</th>\n",
       "    </tr>\n",
       "  </thead>\n",
       "  <tbody>\n",
       "    <tr>\n",
       "      <th>count</th>\n",
       "      <td>1451.000000</td>\n",
       "    </tr>\n",
       "    <tr>\n",
       "      <th>mean</th>\n",
       "      <td>113602.785665</td>\n",
       "    </tr>\n",
       "    <tr>\n",
       "      <th>std</th>\n",
       "      <td>24397.855261</td>\n",
       "    </tr>\n",
       "    <tr>\n",
       "      <th>min</th>\n",
       "      <td>40000.000000</td>\n",
       "    </tr>\n",
       "    <tr>\n",
       "      <th>25%</th>\n",
       "      <td>96000.000000</td>\n",
       "    </tr>\n",
       "    <tr>\n",
       "      <th>50%</th>\n",
       "      <td>109000.000000</td>\n",
       "    </tr>\n",
       "    <tr>\n",
       "      <th>75%</th>\n",
       "      <td>128000.000000</td>\n",
       "    </tr>\n",
       "    <tr>\n",
       "      <th>max</th>\n",
       "      <td>211000.000000</td>\n",
       "    </tr>\n",
       "  </tbody>\n",
       "</table>\n",
       "</div>"
      ],
      "text/plain": [
       "              Salary\n",
       "count    1451.000000\n",
       "mean   113602.785665\n",
       "std     24397.855261\n",
       "min     40000.000000\n",
       "25%     96000.000000\n",
       "50%    109000.000000\n",
       "75%    128000.000000\n",
       "max    211000.000000"
      ]
     },
     "execution_count": 157,
     "metadata": {},
     "output_type": "execute_result"
    }
   ],
   "source": [
    "temp.describe()"
   ]
  },
  {
   "cell_type": "code",
   "execution_count": 159,
   "metadata": {
    "ExecuteTime": {
     "end_time": "2016-10-18T23:15:26.274364",
     "start_time": "2016-10-18T23:15:22.629572"
    },
    "collapsed": false,
    "scrolled": false
   },
   "outputs": [
    {
     "name": "stdout",
     "output_type": "stream",
     "text": [
      "Number of bins:     3\n",
      "Random Iterations:  1\n",
      "\n",
      "Average Precision:  0.65\n",
      "Average Recall:     0.7\n",
      "Average F1-Score:   0.66\n",
      "\n",
      "Variance Precision: 0.0\n",
      "Variance Recall:    0.0\n",
      "Variance F1-Score:  0.0\n",
      "               154000-211000  40000-97000  97000-154000\n",
      "154000-211000              0            0            32\n",
      "40000-97000                1           62            82\n",
      "97000-154000               0           38           293\n",
      "               precision    recall  f1-score   support\n",
      "\n",
      "154000-211000       0.00      0.00      0.00        32\n",
      "  40000-97000       0.62      0.43      0.51       145\n",
      " 97000-154000       0.72      0.89      0.79       331\n",
      "\n",
      "  avg / total       0.65      0.70      0.66       508\n",
      "\n"
     ]
    }
   ],
   "source": [
    "prec=[]\n",
    "recall=[]\n",
    "f1score=[]\n",
    "max_rand=2\n",
    "\n",
    "for random in range(1,max_rand):\n",
    "    x_train,x_test,y_train,y_test=train_test_split(df2,df1,test_size=.35,stratify=df1,random_state=random)\n",
    "    logreg = LogisticRegression(solver='lbfgs') #'newton-cg', 'lbfgs', 'liblinear', 'sag'\n",
    "    C_vals = np.linspace(1,1001,10)\n",
    "    penalties = ['l2']\n",
    "\n",
    "    gs = GridSearchCV(logreg, {'penalty': penalties, 'C': C_vals}, cv=3)\n",
    "    gs.fit(x_train, y_train)\n",
    "\n",
    "    logreg = LogisticRegression(C=gs.best_params_['C'], penalty=gs.best_params_['penalty'])\n",
    "    cv_model = logreg.fit(x_train, y_train)\n",
    "    cv_pred = cv_model.predict(x_test)\n",
    "\n",
    "    y_score = cv_model.decision_function(x_test) # Submit these response, the output of model.decision_function\n",
    "\n",
    "    \"\"\" Check your performance so far.\"\"\"\n",
    "\n",
    "    conmat = np.array(confusion_matrix(y_test, cv_pred))\n",
    "    confusion = pd.DataFrame(conmat, index=cv_model.classes_, columns=cv_model.classes_)\n",
    "#     print random, classification_report(y_test,cv_pred)\n",
    "    prec.append(float(classification_report(y_test,cv_pred)[-35:-31]))\n",
    "    recall.append(float(classification_report(y_test,cv_pred)[-25:-21]))\n",
    "    f1score.append(float(classification_report(y_test,cv_pred)[-15:-11]))\n",
    "#    \n",
    "print \"Number of bins:    \", bin_NUMBER\n",
    "print \"Random Iterations: \", max_rand-1\n",
    "print \n",
    "print \"Average Precision: \", np.mean(prec)\n",
    "print \"Average Recall:    \", np.mean(recall)\n",
    "print \"Average F1-Score:  \", np.mean(f1score)\n",
    "print \n",
    "print \"Variance Precision:\", np.var(prec)\n",
    "print \"Variance Recall:   \", np.var(recall)\n",
    "print \"Variance F1-Score: \", np.var(f1score)\n",
    "\n",
    "\n",
    "print(confusion)\n",
    "print classification_report(y_test,cv_pred)\n",
    "    #print cv_model.coef_"
   ]
  },
  {
   "cell_type": "markdown",
   "metadata": {},
   "source": [
    "## BEST with Junior Jobs and no Job Dummies\n",
    "* Number of bins:    3\n",
    "* Average Precision: 0.756315789474\n",
    "* Average Recall:    0.754736842105\n",
    "* Average F1-Score:  0.751052631579\n",
    "\n",
    "## Best with No Junior Jobs and Job Dummies\n",
    "* Number of bins:    3\n",
    "* Average Precision:  0.755789473684\n",
    "* Average Recall:     0.754210526316\n",
    "* Average F1-Score:   0.75\n",
    "\n",
    "## Best with No Junior Jobs and no Job Dummies\n",
    "* Number of bins:    3\n",
    "* Average Precision:  0.756315789474\n",
    "* Average Recall:     0.754736842105\n",
    "* Average F1-Score:   0.751052631579"
   ]
  },
  {
   "cell_type": "markdown",
   "metadata": {},
   "source": [
    "## Standard Company Changes:\n",
    "* Number of bins:    3\n",
    "* Average Precision: 0.748947368421\n",
    "* Average Recall:    0.748947368421\n",
    "* Average F1-Score:  0.744736842105\n",
    "\n",
    "## With Private Company changes:\n",
    "* Number of bins:    3\n",
    "* Average Precision: 0.755789473684\n",
    "* Average Recall:    0.754210526316\n",
    "* Average F1-Score:  0.75\n",
    "\n",
    "## With PC changes and no Job Dummies:\n",
    "* Number of bins:    3\n",
    "* Average Precision: 0.756315789474\n",
    "* Average Recall:    0.754736842105\n",
    "* Average F1-Score:  0.751052631579"
   ]
  },
  {
   "cell_type": "markdown",
   "metadata": {},
   "source": [
    "## Standard Company Changes:\n",
    "* Number of bins:    3\n",
    "* Average Precision: 0.748947368421\n",
    "* Average Recall:    0.748947368421\n",
    "* Average F1-Score:  0.744736842105\n",
    "\n",
    "## With Private Company changes:\n",
    "* Number of bins:    3\n",
    "* Average Precision: 0.755789473684\n",
    "* Average Recall:    0.754210526316\n",
    "* Average F1-Score:  0.75\n",
    "\n",
    "## With Private Company changes and Sector-MarketCap Bin:\n",
    "* Number of bins:    3\n",
    "* Average Precision: 0.753157894737\n",
    "* Average Recall:    0.752105263158\n",
    "* Average F1-Score:  0.748421052632\n",
    "\n",
    "## With PC changes and no State Dummies:\n",
    "* Number of bins:    3\n",
    "* Average Precision: 0.723684210526\n",
    "* Average Recall:    0.726842105263\n",
    "* Average F1-Score:  0.72\n",
    "\n",
    "## With PC changes and no Region Dummies:\n",
    "* Number of bins:    3\n",
    "* Average Precision: 0.754210526316\n",
    "* Average Recall:    0.754210526316\n",
    "* Average F1-Score:  0.748421052632\n",
    "\n",
    "## With PC changes and no Job Dummies:\n",
    "* Number of bins:    3\n",
    "* Average Precision: 0.756315789474\n",
    "* Average Recall:    0.754736842105\n",
    "* Average F1-Score:  0.751052631579\n",
    "\n",
    "## With PC changes, no J D, and no MarketCap Dummies\n"
   ]
  },
  {
   "cell_type": "raw",
   "metadata": {
    "ExecuteTime": {
     "end_time": "2016-10-18T14:49:35.406474",
     "start_time": "2016-10-18T14:49:35.380856"
    },
    "collapsed": false
   },
   "source": [
    "print classification_report(y_test,cv_pred)[-35:]\n",
    "prec=classification_report(y_test,cv_pred)[-35:-31]\n",
    "recall=classification_report(y_test,cv_pred)[-25:-21]\n",
    "f1score=classification_report(y_test,cv_pred)[-15:-11]\n",
    "\n",
    "print prec\n",
    "print recall\n",
    "print f1score"
   ]
  },
  {
   "cell_type": "raw",
   "metadata": {
    "ExecuteTime": {
     "end_time": "2016-10-18T14:49:36.144281",
     "start_time": "2016-10-18T14:49:36.121777"
    },
    "collapsed": false
   },
   "source": [
    "cv_model.classes_"
   ]
  },
  {
   "cell_type": "raw",
   "metadata": {
    "ExecuteTime": {
     "end_time": "2016-10-18T14:49:36.830309",
     "start_time": "2016-10-18T14:49:36.819957"
    },
    "collapsed": false
   },
   "source": [
    "#plt.hist(df[\"Salary\"],bins=30)\n",
    "172*len(df[df[\"Salary\"]>145000])/float(len(df[\"Salary\"]))"
   ]
  },
  {
   "cell_type": "code",
   "execution_count": 160,
   "metadata": {
    "ExecuteTime": {
     "end_time": "2016-10-18T23:15:34.931127",
     "start_time": "2016-10-18T23:15:34.925248"
    },
    "collapsed": false
   },
   "outputs": [
    {
     "name": "stdout",
     "output_type": "stream",
     "text": [
      "778.777777778 l2\n"
     ]
    }
   ],
   "source": [
    "print gs.best_params_['C'], gs.best_params_['penalty']"
   ]
  },
  {
   "cell_type": "raw",
   "metadata": {
    "ExecuteTime": {
     "end_time": "2016-10-18T22:57:52.040119",
     "start_time": "2016-10-18T22:57:51.919518"
    }
   },
   "source": [
    "feature_imp = pd.DataFrame([x_test.columns, gs.best_estimator_.coef_[0],\\\n",
    "              gs.best_estimator_.coef_[1],gs.best_estimator_.coef_[2]],\\\n",
    "             index=['features', gs.best_estimator_.classes_[0], gs.best_estimator_.classes_[1], gs.best_estimator_.classes_[2]]).T\n",
    "feature_imp.sort_values(by=gs.best_estimator_.classes_[0], ascending=False)"
   ]
  },
  {
   "cell_type": "code",
   "execution_count": 161,
   "metadata": {
    "ExecuteTime": {
     "end_time": "2016-10-18T23:15:36.646771",
     "start_time": "2016-10-18T23:15:36.635618"
    },
    "collapsed": false
   },
   "outputs": [],
   "source": [
    "x_train2,x_test2,y_train2,y_test2=train_test_split(df2,df['Salary'],test_size=.35)"
   ]
  },
  {
   "cell_type": "code",
   "execution_count": 162,
   "metadata": {
    "ExecuteTime": {
     "end_time": "2016-10-18T23:15:38.488820",
     "start_time": "2016-10-18T23:15:38.070357"
    },
    "collapsed": false
   },
   "outputs": [
    {
     "data": {
      "image/png": "[encoded data removed]",
      "text/plain": [
       "<matplotlib.figure.Figure at 0x11914b5d0>"
      ]
     },
     "metadata": {},
     "output_type": "display_data"
    },
    {
     "name": "stdout",
     "output_type": "stream",
     "text": [
      "                  Results: Ordinary least squares\n",
      "===================================================================\n",
      "Model:              OLS              Adj. R-squared:     0.977     \n",
      "Dependent Variable: Salary           AIC:                21156.2759\n",
      "Date:               2016-10-18 23:15 BIC:                21413.2764\n",
      "No. Observations:   943              Log-Likelihood:     -10525.   \n",
      "Df Model:           53               F-statistic:        759.2     \n",
      "Df Residuals:       890              Prob (F-statistic): 0.00      \n",
      "R-squared:          0.978            Scale:              3.0709e+08\n",
      "--------------------------------------------------------------------\n",
      "            Coef.    Std.Err.     t     P>|t|     [0.025     0.975] \n",
      "--------------------------------------------------------------------\n",
      "x1          -0.6331    1.8769  -0.3373  0.7360    -4.3167     3.0505\n",
      "x2          -1.3829    0.2379  -5.8139  0.0000    -1.8498    -0.9161\n",
      "x3          -0.3885    0.7594  -0.5116  0.6090    -1.8789     1.1019\n",
      "x4          -6.7684    1.8535  -3.6517  0.0003   -10.4061    -3.1307\n",
      "x5           0.5590    1.7347   0.3223  0.7473    -2.8455     3.9635\n",
      "x6          -0.9771    1.4892  -0.6562  0.5119    -3.8998     1.9455\n",
      "x7        1000.1094  112.0973   8.9218  0.0000   780.1036  1220.1152\n",
      "const        0.0000    0.0000   3.9111  0.0001     0.0000     0.0000\n",
      "x8         314.2236   51.3324   6.1214  0.0000   213.4770   414.9702\n",
      "x9         146.0630   40.8445   3.5761  0.0004    65.9002   226.2259\n",
      "x10       -114.2507  123.2773  -0.9268  0.3543  -356.1988   127.6974\n",
      "x11        252.4470   42.0155   6.0084  0.0000   169.9859   334.9080\n",
      "x12         78.9439   37.6388   2.0974  0.0362     5.0727   152.8151\n",
      "x13          0.1748   45.5839   0.0038  0.9969   -89.2896    89.6392\n",
      "x14        152.6451   33.7968   4.5166  0.0000    86.3143   218.9759\n",
      "x15        169.8627   35.5543   4.7776  0.0000   100.0826   239.6427\n",
      "x16        244.4554   47.9398   5.0992  0.0000   150.3671   338.5437\n",
      "x17        438.1417   74.9414   5.8465  0.0000   291.0592   585.2241\n",
      "x18        317.5124   49.7142   6.3868  0.0000   219.9417   415.0831\n",
      "x19        -30.9323  104.4949  -0.2960  0.7673  -236.0175   174.1529\n",
      "x20         44.7333   73.4403   0.6091  0.5426   -99.4029   188.8696\n",
      "x21        158.7290   68.4407   2.3192  0.0206    24.4050   293.0531\n",
      "x22        197.4789   36.8033   5.3658  0.0000   125.2475   269.7103\n",
      "x23         -8.7962   40.1115  -0.2193  0.8265   -87.5203    69.9279\n",
      "x24         12.2639   53.1165   0.2309  0.8175   -91.9842   116.5121\n",
      "x25         30.3197   41.7200   0.7267  0.4676   -51.5613   112.2007\n",
      "x26          1.7593   55.4923   0.0317  0.9747  -107.1517   110.6704\n",
      "x27         48.7665   43.1042   1.1314  0.2582   -35.8312   133.3641\n",
      "x28        -27.6366   94.0434  -0.2939  0.7689  -212.2094   156.9361\n",
      "x29        -22.2567  178.3322  -0.1248  0.9007  -372.2573   327.7439\n",
      "x30         49.6669  135.5463   0.3664  0.7141  -216.3608   315.6946\n",
      "x31        128.0975   51.4131   2.4915  0.0129    27.1925   229.0025\n",
      "x32         -4.7087  133.9134  -0.0352  0.9720  -267.5317   258.1142\n",
      "x33         80.9011  176.1520   0.4593  0.6462  -264.8206   426.6228\n",
      "x34        197.3059   78.7853   2.5043  0.0124    42.6793   351.9325\n",
      "x35          2.0855   75.4032   0.0277  0.9779  -145.9033   150.0743\n",
      "x36         20.3827   46.6995   0.4365  0.6626   -71.2712   112.0367\n",
      "x37        -11.4678   64.1648  -0.1787  0.8582  -137.3997   114.4641\n",
      "x38          0.0000    0.0000   1.4489  0.1477    -0.0000     0.0000\n",
      "x39         18.8010   70.3227   0.2674  0.7893  -119.2166   156.8187\n",
      "x40        -21.6989   54.0172  -0.4017  0.6880  -127.7148    84.3170\n",
      "x41        -75.6850  132.7146  -0.5703  0.5686  -336.1551   184.7852\n",
      "x42         43.6187   48.4063   0.9011  0.3678   -51.3851   138.6225\n",
      "x43        107.2758  132.2818   0.8110  0.4176  -152.3449   366.8965\n",
      "x44          0.0000    0.0000   1.2617  0.2074    -0.0000     0.0000\n",
      "x45         69.6736   79.8517   0.8725  0.3832   -87.0460   226.3932\n",
      "x46        -15.7381   49.1010  -0.3205  0.7486  -112.1054    80.6293\n",
      "x47         50.3205   65.4813   0.7685  0.4424   -78.1953   178.8363\n",
      "x48         27.3762   37.5253   0.7295  0.4659   -46.2722   101.0247\n",
      "x49        -42.0791   94.4300  -0.4456  0.6560  -227.4106   143.2523\n",
      "x50        -82.6707  166.6762  -0.4960  0.6200  -409.7950   244.4535\n",
      "x51        -12.6867  131.5881  -0.0964  0.9232  -270.9459   245.5725\n",
      "x52         98.3058   43.0591   2.2830  0.0227    13.7966   182.8151\n",
      "x53        -48.7432   47.6587  -1.0228  0.3067  -142.2798    44.7933\n",
      "x54        -47.4192  150.9169  -0.3142  0.7534  -343.6136   248.7753\n",
      "x55        111.0138   55.0744   2.0157  0.0441     2.9230   219.1045\n",
      "x56        -46.2473   69.6693  -0.6638  0.5070  -182.9826    90.4879\n",
      "x57        148.7408   36.0927   4.1211  0.0000    77.9041   219.5775\n",
      "x58        106.4693   37.8582   2.8123  0.0050    32.1675   180.7712\n",
      "x59        211.0011   50.2899   4.1957  0.0000   112.3006   309.7017\n",
      "x60        143.0392   36.3443   3.9357  0.0001    71.7086   214.3697\n",
      "x61        119.8271   31.8520   3.7620  0.0002    57.3134   182.3408\n",
      "x62        131.0924   54.7456   2.3946  0.0168    23.6468   238.5379\n",
      "x63        139.9395   26.1716   5.3470  0.0000    88.5743   191.3046\n",
      "x64        308.0093   38.1445   8.0748  0.0000   233.1457   382.8730\n",
      "x65        225.3311   40.6086   5.5488  0.0000   145.6312   305.0309\n",
      "x66        466.7690   38.4746  12.1319  0.0000   391.2575   542.2805\n",
      "-------------------------------------------------------------------\n",
      "Omnibus:           97.691    Durbin-Watson:       2.017            \n",
      "Prob(Omnibus):     0.000     Jarque-Bera (JB):    521.737          \n",
      "Skew:              0.292     Prob(JB):            0.000            \n",
      "Kurtosis:          6.597     Condition No.:       10837939506183430\n",
      "===================================================================\n",
      "* The condition number is large (1e+16). This might indicate\n",
      "strong multicollinearity or other numerical problems.\n"
     ]
    }
   ],
   "source": [
    "\"\"\" Fit a binary classification predictor.\"\"\"\n",
    "#Linear Regression\n",
    "xtr=x_train2\n",
    "xte=x_test2\n",
    "ytr=y_train2\n",
    "yte=y_test2\n",
    "\n",
    "xtr=np.array(xtr).reshape(len(xtr),len(x_train2.columns))\n",
    "xte=np.array(xte).reshape(len(xte),len(x_train2.columns))\n",
    "xtr2=sm.add_constant(xtr)\n",
    "model=sm.OLS(ytr,xtr).fit()\n",
    "\n",
    "xte2=sm.add_constant(xte)\n",
    "pred=model.predict(xte)\n",
    "\n",
    "plt.plot(pred,yte,'o')\n",
    "plt.plot(pred,pred,'-')\n",
    "plt.xlim(0,200000)\n",
    "plt.ylim(0,200000)\n",
    "plt.show()\n",
    "\n",
    "print model.summary2()"
   ]
  },
  {
   "cell_type": "code",
   "execution_count": 163,
   "metadata": {
    "ExecuteTime": {
     "end_time": "2016-10-18T23:15:40.908354",
     "start_time": "2016-10-18T23:15:40.598372"
    },
    "collapsed": false,
    "scrolled": false
   },
   "outputs": [
    {
     "data": {
      "image/png": "[encoded data removed]",
      "text/plain": [
       "<matplotlib.figure.Figure at 0x1194bc310>"
      ]
     },
     "metadata": {},
     "output_type": "display_data"
    },
    {
     "name": "stdout",
     "output_type": "stream",
     "text": [
      "0.486415555987\n",
      "\n",
      "\n",
      "13 % Grocery Items\n",
      "1.27718589649\n",
      "\n",
      "29 % Housing\n",
      "-0.0288188312847\n",
      "\n",
      "10% Utilities\n",
      "0.55638305729\n",
      "\n",
      "12 % Transportation\n",
      "-4.64719568342\n",
      "\n",
      "4% Health Care\n",
      "1.46044359205\n",
      "\n",
      "32 % Miscellaneous Goods and Services\n",
      "1.77478908197\n",
      "\n",
      "keep\n",
      "219.730102751\n",
      "\n",
      "Sector_Basic Industries\n",
      "0.0\n",
      "\n",
      "Sector_Capital Goods\n",
      "164.7414925\n",
      "\n",
      "Sector_Consulting\n",
      "-8.72815313344\n",
      "\n",
      "Sector_Consumer Services\n",
      "-255.06144298\n",
      "\n",
      "Sector_Energy\n",
      "100.750300394\n",
      "\n",
      "Sector_Finance\n",
      "-74.1262551038\n",
      "\n",
      "Sector_Miscellaneous\n",
      "-152.375852372\n",
      "\n",
      "Sector_Technology\n",
      "-1.11367030219\n",
      "\n",
      "Sector_n/a\n",
      "19.0202309921\n",
      "\n",
      "MarketCap_Hugecap\n",
      "-73.1243023763\n",
      "\n",
      "MarketCap_Largecap\n",
      "124.621332623\n",
      "\n",
      "MarketCap_Unknown\n",
      "0.853310192921\n",
      "\n",
      "State_AL\n",
      "-169.579147247\n",
      "\n",
      "State_AR\n",
      "-110.417658354\n",
      "\n",
      "State_AZ\n",
      "0.0\n",
      "\n",
      "State_CA\n",
      "136.356336058\n",
      "\n",
      "State_CO\n",
      "-78.3606613551\n",
      "\n",
      "State_CT\n",
      "-122.579096138\n",
      "\n",
      "State_DE\n",
      "-109.298606775\n",
      "\n",
      "State_FL\n",
      "-135.061356428\n",
      "\n",
      "State_GA\n",
      "-77.9047946924\n",
      "\n",
      "State_HI\n",
      "-245.956963376\n",
      "\n",
      "State_IA\n",
      "-132.022193953\n",
      "\n",
      "State_ID\n",
      "-32.3236279717\n",
      "\n",
      "State_IL\n",
      "37.6767545981\n",
      "\n",
      "State_IN\n",
      "-155.155531232\n",
      "\n",
      "State_KS\n",
      "-41.1944454722\n",
      "\n",
      "State_KY\n",
      "48.9908127461\n",
      "\n",
      "State_LA\n",
      "-95.645527987\n",
      "\n",
      "State_MA\n",
      "-122.808725115\n",
      "\n",
      "State_MD\n",
      "-104.189459617\n",
      "\n",
      "State_ME\n",
      "0.0\n",
      "\n",
      "State_MI\n",
      "-77.6166074653\n",
      "\n",
      "State_MN\n",
      "-110.154991647\n",
      "\n",
      "State_MO\n",
      "-215.700453153\n",
      "\n",
      "State_NC\n",
      "-81.9365289878\n",
      "\n",
      "State_NE\n",
      "-33.3450240461\n",
      "\n",
      "State_NM\n",
      "0.0\n",
      "\n",
      "State_NY\n",
      "-69.8286615956\n",
      "\n",
      "State_OH\n",
      "-137.53608856\n",
      "\n",
      "State_OR\n",
      "24.9995938548\n",
      "\n",
      "State_PA\n",
      "-119.619861156\n",
      "\n",
      "State_RI\n",
      "-178.364157426\n",
      "\n",
      "State_SC\n",
      "-188.964850868\n",
      "\n",
      "State_TN\n",
      "-135.743026777\n",
      "\n",
      "State_TX\n",
      "-42.6814991016\n",
      "\n",
      "State_UT\n",
      "-117.927111959\n",
      "\n",
      "State_VA\n",
      "-109.462971484\n",
      "\n",
      "State_WA\n",
      "58.383680582\n",
      "\n",
      "State_WI\n",
      "-165.23783731\n",
      "\n",
      "Region_MW\n",
      "-22.5125268387\n",
      "\n",
      "Region_NE\n",
      "-22.1516426276\n",
      "\n",
      "Region_NW\n",
      "-7.40986489593\n",
      "\n",
      "Region_S\n",
      "-3.73763826988\n",
      "\n",
      "Region_SE\n",
      "-38.079141509\n",
      "\n",
      "Region_SW\n",
      "-7.04147235928\n",
      "\n",
      "Region_W\n",
      "-46.9882705742\n",
      "\n",
      "Job_DS\n",
      "-163.04544383\n",
      "\n",
      "Job_Junior DS\n",
      "-244.777748717\n",
      "\n",
      "Job_Senior DS\n",
      "-4.00539454066\n",
      "\n"
     ]
    }
   ],
   "source": [
    "ridge=Ridge(alpha=10) #Ridge is .28269 at 230\n",
    "lasso=Lasso(alpha=0.5) #Lasso is 0.289105 at 2.01\n",
    "lr=LinearRegression() #Linear Regression is .2763265\n",
    "model=lasso.fit(x_train2,y_train2)\n",
    "pred=model.predict(x_test2)\n",
    "plt.scatter(pred,y_test2)\n",
    "plt.plot(pred,pred)\n",
    "plt.ylim(0,200000)\n",
    "plt.xlim(0,200000)\n",
    "plt.show()\n",
    "print model.score(x_test2, y_test2)\n",
    "print \"\\n\"\n",
    "for x,y in zip(x_test2.columns,model.coef_):\n",
    "    print x\n",
    "    print y\n",
    "    print"
   ]
  },
  {
   "cell_type": "code",
   "execution_count": 164,
   "metadata": {
    "ExecuteTime": {
     "end_time": "2016-10-18T23:16:09.021982",
     "start_time": "2016-10-18T23:16:08.123966"
    },
    "collapsed": false
   },
   "outputs": [
    {
     "data": {
      "image/png": "[encoded data removed]",
      "text/plain": [
       "<matplotlib.figure.Figure at 0x11d769290>"
      ]
     },
     "metadata": {},
     "output_type": "display_data"
    },
    {
     "data": {
      "image/png": "[encoded data removed]",
      "text/plain": [
       "<matplotlib.figure.Figure at 0x11dbebd50>"
      ]
     },
     "metadata": {},
     "output_type": "display_data"
    }
   ],
   "source": [
    "\"\"\" Fit a binary classification predictor.\"\"\"\n",
    "#Linear Regression\n",
    "xtr=x_train2\n",
    "xte=x_test2\n",
    "ytr=y_train2\n",
    "yte=y_test2\n",
    "\n",
    "xtr=np.array(xtr).reshape(len(xtr),len(x_train2.columns))\n",
    "xte=np.array(xte).reshape(len(xte),len(x_train2.columns))\n",
    "xtr2=sm.add_constant(xtr)\n",
    "model=sm.OLS(ytr,xtr).fit()\n",
    "\n",
    "xte2=sm.add_constant(xte)\n",
    "pred=model.predict(xte)\n",
    "\n",
    "fig,axes=plt.subplots(figsize=(7,6))\n",
    "plt.scatter(pred,yte,c=(0,.7,0,1),s=[35 for x in range(len(pred))])\n",
    "temp=pred\n",
    "temp.sort()\n",
    "plt.plot(temp,temp,'--',c=(0,0,0,1),linewidth=4)\n",
    "plt.xlim(50000,190000)\n",
    "plt.ylim(50000,190000)\n",
    "plt.xlabel(\"Predicted Salary\",size=12)\n",
    "plt.ylabel(\"Actual Salary\",size=12)\n",
    "plt.title(\"Predictive Accuracy of Coefficients\",size=16)\n",
    "plt.xticks(np.linspace(60000,180000,7),['$60,000','$80,000','$100,000','$120,000','$140,000','$160,000',\n",
    "                                        '$180,000'])\n",
    "plt.yticks(np.linspace(60000,180000,7),['$60,000','$80,000','$100,000','$120,000','$140,000','$160,000',\n",
    "                                        '$180,000'])\n",
    "plt.show()\n",
    "\n",
    "#print model.summary2()```\n",
    "\n",
    "##MAKE THIS PRETTIER; We will present with this\n",
    "\n",
    "fig,ax=plt.subplots(figsize=(8,4))\n",
    "average=np.mean(glass_door[\"100% Composite Index\"])\n",
    "#\\plt.hist(glass_door[\"Salary\"]/average,width=50)\n",
    "plt.hist(glass_door[\"Salary\"],bins=45,color=(0,0,0,1),histtype='stepfilled',label=\"Non-Normalized\")\n",
    "plt.hist(glass_door[\"Normalized Salary\"]*115,bins=45,color=(0,1,1,.6),histtype='stepfilled',label=\"Normalized\")\n",
    "plt.xlabel(\"Salary\",size=12)\n",
    "plt.ylabel(\"Count\",size=12)\n",
    "plt.title(\"Salary Distribution w/ and w/o Normalization\",size=16)\n",
    "plt.legend(loc='upper right')\n",
    "plt.xticks(np.linspace(0,250000,6),['$0',\"$50,000\",\"$100,000\",'$150,000','$200,000','$250,000'])\n",
    "plt.show()"
   ]
  },
  {
   "cell_type": "code",
   "execution_count": 165,
   "metadata": {
    "ExecuteTime": {
     "end_time": "2016-10-18T23:16:16.644346",
     "start_time": "2016-10-18T23:16:16.634054"
    },
    "collapsed": false
   },
   "outputs": [
    {
     "name": "stdout",
     "output_type": "stream",
     "text": [
      "               precision    recall  f1-score   support\n",
      "\n",
      "154000-211000       0.00      0.00      0.00        32\n",
      "  40000-97000       0.62      0.43      0.51       145\n",
      " 97000-154000       0.72      0.89      0.79       331\n",
      "\n",
      "  avg / total       0.65      0.70      0.66       508\n",
      "\n"
     ]
    }
   ],
   "source": [
    "print classification_report(y_test, cv_pred)"
   ]
  },
  {
   "cell_type": "code",
   "execution_count": 166,
   "metadata": {
    "ExecuteTime": {
     "end_time": "2016-10-18T23:16:17.288460",
     "start_time": "2016-10-18T23:16:17.281130"
    },
    "collapsed": false
   },
   "outputs": [
    {
     "data": {
      "text/plain": [
       "array(['154000-211000', '40000-97000', '97000-154000'], dtype=object)"
      ]
     },
     "execution_count": 166,
     "metadata": {},
     "output_type": "execute_result"
    }
   ],
   "source": [
    "logreg.classes_"
   ]
  },
  {
   "cell_type": "code",
   "execution_count": 168,
   "metadata": {
    "ExecuteTime": {
     "end_time": "2016-10-18T23:16:47.110504",
     "start_time": "2016-10-18T23:16:46.046247"
    },
    "collapsed": false
   },
   "outputs": [
    {
     "data": {
      "image/png": "[encoded data removed]",
      "text/plain": [
       "<matplotlib.figure.Figure at 0x11d83bf10>"
      ]
     },
     "metadata": {},
     "output_type": "display_data"
    },
    {
     "data": {
      "image/png": "[encoded data removed]",
      "text/plain": [
       "<matplotlib.figure.Figure at 0x11e294ad0>"
      ]
     },
     "metadata": {},
     "output_type": "display_data"
    },
    {
     "data": {
      "image/png": "[encoded data removed]",
      "text/plain": [
       "<matplotlib.figure.Figure at 0x11e60f7d0>"
      ]
     },
     "metadata": {},
     "output_type": "display_data"
    }
   ],
   "source": [
    "for j in range(len(logreg.classes_)):\n",
    "\n",
    "    FPR, TPR, _ = roc_curve(y_test, [i[j] for i in y_score], pos_label=logreg.classes_[j])\n",
    "    ROC_AUC = auc(FPR, TPR)\n",
    "\n",
    "    amounts = logreg.classes_[j].split('-')\n",
    "    title = 'Receiver operating characteristic for salary range \\${} to \\${}'.format(amounts[0], amounts[1])\n",
    "\n",
    "    plt.figure(figsize=[11,9])\n",
    "    plt.plot(FPR, TPR, label='ROC curve (area = %0.2f)' % ROC_AUC, linewidth=4)\n",
    "    plt.plot([0, 1], [0, 1], 'k--', linewidth=4)\n",
    "    plt.xlim([0.0, 1.0])\n",
    "    plt.ylim([0.0, 1.05])\n",
    "    plt.xlabel('False Positive Rate', fontsize=18)\n",
    "    plt.ylabel('True Positive Rate', fontsize=18)\n",
    "    plt.title(title, fontsize=18)\n",
    "    plt.legend(loc=\"lower right\")\n",
    "    plt.show()"
   ]
  },
  {
   "cell_type": "code",
   "execution_count": null,
   "metadata": {
    "collapsed": false
   },
   "outputs": [],
   "source": []
  },
  {
   "cell_type": "code",
   "execution_count": null,
   "metadata": {
    "collapsed": false
   },
   "outputs": [],
   "source": []
  },
  {
   "cell_type": "code",
   "execution_count": null,
   "metadata": {
    "collapsed": false
   },
   "outputs": [],
   "source": []
  },
  {
   "cell_type": "code",
   "execution_count": 20,
   "metadata": {
    "ExecuteTime": {
     "end_time": "2016-10-18T17:17:33.169082",
     "start_time": "2016-10-18T17:17:32.440892"
    },
    "collapsed": false
   },
   "outputs": [
    {
     "data": {
      "image/png": "[encoded data removed]",
      "text/plain": [
       "<matplotlib.figure.Figure at 0x11871cd50>"
      ]
     },
     "metadata": {},
     "output_type": "display_data"
    }
   ],
   "source": [
    "##MAKE THIS PRETTIER; We will present with this\n",
    "\n",
    "average=np.mean(glass_door[\"100% Composite Index\"])\n",
    "#\\plt.hist(glass_door[\"Salary\"]/average,width=50)\n",
    "fig, ax = plt.subplots(figsize=(16,8));\n",
    "plt.hist(glass_door[\"Normalized Salary\"]*115,bins=30,alpha=1);\n",
    "plt.hist(glass_door[\"Salary\"],bins=30,alpha=0.4,color='white', edgecolor='black', lw=3);\n",
    "plt.title('Salaries vs Normalized Salaries', fontsize=20);\n",
    "plt.legend(['Salaries', 'Normalized Salaries'], fontsize=15);\n",
    "plt.xlabel('Amount', fontsize=15);\n",
    "plt.ylabel('Frequency', fontsize=15);"
   ]
  },
  {
   "cell_type": "code",
   "execution_count": null,
   "metadata": {
    "collapsed": false
   },
   "outputs": [],
   "source": []
  }
 ],
 "metadata": {
  "anaconda-cloud": {},
  "kernelspec": {
   "display_name": "Python 2",
   "language": "python",
   "name": "python2"
  },
  "language_info": {
   "codemirror_mode": {
    "name": "ipython",
    "version": 2
   },
   "file_extension": ".py",
   "mimetype": "text/x-python",
   "name": "python",
   "nbconvert_exporter": "python",
   "pygments_lexer": "ipython2",
   "version": "2.7.12"
  }
 },
 "nbformat": 4,
 "nbformat_minor": 1
}
