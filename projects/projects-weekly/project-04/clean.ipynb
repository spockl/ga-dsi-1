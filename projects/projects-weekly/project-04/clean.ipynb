{
 "cells": [
  {
   "cell_type": "code",
   "execution_count": 2,
   "metadata": {
    "ExecuteTime": {
     "end_time": "2016-10-17T10:12:23.127695",
     "start_time": "2016-10-17T10:12:23.108101"
    },
    "collapsed": false
   },
   "outputs": [],
   "source": [
    "import requests\n",
    "import bs4\n",
    "from bs4 import BeautifulSoup\n",
    "from selenium import webdriver\n",
    "\n",
    "import pandas as pd\n",
    "\n",
    "import numpy as np\n",
    "\n",
    "import seaborn as sns\n",
    "import matplotlib.pyplot as plt\n",
    "%matplotlib inline\n",
    "\n",
    "path_phantom = '//Applications/phantomjs'\n",
    "\n",
    "from sklearn.feature_extraction.text import CountVectorizer\n",
    "\n",
    "from sklearn.linear_model import LogisticRegressionCV, LogisticRegression, LinearRegression\n",
    "\n",
    "from wordcloud import WordCloud, ImageColorGenerator, get_single_color_func"
   ]
  },
  {
   "cell_type": "code",
   "execution_count": 3,
   "metadata": {
    "ExecuteTime": {
     "end_time": "2016-10-17T10:12:45.981152",
     "start_time": "2016-10-17T10:12:45.804812"
    },
    "collapsed": true
   },
   "outputs": [],
   "source": [
    "indeed = pd.read_csv('indeed.csv')\n",
    "glassdoor = pd.read_csv('glassdoor.csv')"
   ]
  },
  {
   "cell_type": "code",
   "execution_count": 4,
   "metadata": {
    "ExecuteTime": {
     "end_time": "2016-10-17T10:12:49.782810",
     "start_time": "2016-10-17T10:12:49.741569"
    },
    "collapsed": false
   },
   "outputs": [
    {
     "data": {
      "text/html": [
       "<div>\n",
       "<table border=\"1\" class=\"dataframe\">\n",
       "  <thead>\n",
       "    <tr style=\"text-align: right;\">\n",
       "      <th></th>\n",
       "      <th>Unnamed: 0</th>\n",
       "      <th>title</th>\n",
       "      <th>company</th>\n",
       "      <th>location</th>\n",
       "      <th>summary</th>\n",
       "      <th>est_annual_sal</th>\n",
       "    </tr>\n",
       "  </thead>\n",
       "  <tbody>\n",
       "    <tr>\n",
       "      <th>0</th>\n",
       "      <td>0</td>\n",
       "      <td>Software Development Engineer, Data Science- R...</td>\n",
       "      <td>Audible, Inc.</td>\n",
       "      <td>United States</td>\n",
       "      <td>Do you enjoy working with Data Scientists to w...</td>\n",
       "      <td>NaN</td>\n",
       "    </tr>\n",
       "    <tr>\n",
       "      <th>1</th>\n",
       "      <td>1</td>\n",
       "      <td>Software Development Engineer, Big Data Analyt...</td>\n",
       "      <td>Amazon Corporate LLC</td>\n",
       "      <td>United States</td>\n",
       "      <td>We specifically seek candidates who want to jo...</td>\n",
       "      <td>NaN</td>\n",
       "    </tr>\n",
       "    <tr>\n",
       "      <th>2</th>\n",
       "      <td>2</td>\n",
       "      <td>Principal Research Scientist- Relocation Oppor...</td>\n",
       "      <td>Amazon Corporate LLC</td>\n",
       "      <td>United States</td>\n",
       "      <td>Experience with very large-scale data and the ...</td>\n",
       "      <td>NaN</td>\n",
       "    </tr>\n",
       "    <tr>\n",
       "      <th>3</th>\n",
       "      <td>3</td>\n",
       "      <td>Applications/Product Development Engineer/Scie...</td>\n",
       "      <td>Lohmann Specialty Coatings, LLC (Orange, VA)</td>\n",
       "      <td>Roanoke, VA</td>\n",
       "      <td>Ability to conduct routine lab tests, analyze ...</td>\n",
       "      <td>NaN</td>\n",
       "    </tr>\n",
       "    <tr>\n",
       "      <th>4</th>\n",
       "      <td>4</td>\n",
       "      <td>Software Development Engineer, Big Data- Reloc...</td>\n",
       "      <td>Amazon Corporate LLC</td>\n",
       "      <td>United States</td>\n",
       "      <td>Are you interested in building data pipelines ...</td>\n",
       "      <td>NaN</td>\n",
       "    </tr>\n",
       "  </tbody>\n",
       "</table>\n",
       "</div>"
      ],
      "text/plain": [
       "   Unnamed: 0                                              title  \\\n",
       "0           0  Software Development Engineer, Data Science- R...   \n",
       "1           1  Software Development Engineer, Big Data Analyt...   \n",
       "2           2  Principal Research Scientist- Relocation Oppor...   \n",
       "3           3  Applications/Product Development Engineer/Scie...   \n",
       "4           4  Software Development Engineer, Big Data- Reloc...   \n",
       "\n",
       "                                        company       location  \\\n",
       "0                                 Audible, Inc.  United States   \n",
       "1                          Amazon Corporate LLC  United States   \n",
       "2                          Amazon Corporate LLC  United States   \n",
       "3  Lohmann Specialty Coatings, LLC (Orange, VA)    Roanoke, VA   \n",
       "4                          Amazon Corporate LLC  United States   \n",
       "\n",
       "                                             summary  est_annual_sal  \n",
       "0  Do you enjoy working with Data Scientists to w...             NaN  \n",
       "1  We specifically seek candidates who want to jo...             NaN  \n",
       "2  Experience with very large-scale data and the ...             NaN  \n",
       "3  Ability to conduct routine lab tests, analyze ...             NaN  \n",
       "4  Are you interested in building data pipelines ...             NaN  "
      ]
     },
     "execution_count": 4,
     "metadata": {},
     "output_type": "execute_result"
    }
   ],
   "source": [
    "indeed.head()"
   ]
  },
  {
   "cell_type": "code",
   "execution_count": 5,
   "metadata": {
    "ExecuteTime": {
     "end_time": "2016-10-17T10:12:57.406755",
     "start_time": "2016-10-17T10:12:57.373243"
    },
    "collapsed": false
   },
   "outputs": [
    {
     "data": {
      "text/html": [
       "<div>\n",
       "<table border=\"1\" class=\"dataframe\">\n",
       "  <thead>\n",
       "    <tr style=\"text-align: right;\">\n",
       "      <th></th>\n",
       "      <th>Unnamed: 0</th>\n",
       "      <th>city</th>\n",
       "      <th>company</th>\n",
       "      <th>jobTitle</th>\n",
       "      <th>meanPay</th>\n",
       "      <th>rate</th>\n",
       "      <th>est_annual_salary</th>\n",
       "    </tr>\n",
       "  </thead>\n",
       "  <tbody>\n",
       "    <tr>\n",
       "      <th>0</th>\n",
       "      <td>0</td>\n",
       "      <td>Albany, NY</td>\n",
       "      <td>GE</td>\n",
       "      <td>Data Scientist</td>\n",
       "      <td>$100k - $108k</td>\n",
       "      <td>1</td>\n",
       "      <td>104000.0</td>\n",
       "    </tr>\n",
       "    <tr>\n",
       "      <th>1</th>\n",
       "      <td>1</td>\n",
       "      <td>Arlington, TX</td>\n",
       "      <td>State Farm</td>\n",
       "      <td>Data Scientist</td>\n",
       "      <td>$100k - $110k</td>\n",
       "      <td>1</td>\n",
       "      <td>105000.0</td>\n",
       "    </tr>\n",
       "    <tr>\n",
       "      <th>2</th>\n",
       "      <td>2</td>\n",
       "      <td>Arlington, TX</td>\n",
       "      <td>Epsilon</td>\n",
       "      <td>Data Scientist</td>\n",
       "      <td>$160k - $173k</td>\n",
       "      <td>1</td>\n",
       "      <td>166500.0</td>\n",
       "    </tr>\n",
       "    <tr>\n",
       "      <th>3</th>\n",
       "      <td>3</td>\n",
       "      <td>Arlington, TX</td>\n",
       "      <td>Match</td>\n",
       "      <td>Data Scientist</td>\n",
       "      <td>$79k - $86k</td>\n",
       "      <td>1</td>\n",
       "      <td>82500.0</td>\n",
       "    </tr>\n",
       "    <tr>\n",
       "      <th>4</th>\n",
       "      <td>4</td>\n",
       "      <td>Arlington, TX</td>\n",
       "      <td>Hudl</td>\n",
       "      <td>Data Scientist</td>\n",
       "      <td>$86k - $94k</td>\n",
       "      <td>1</td>\n",
       "      <td>90000.0</td>\n",
       "    </tr>\n",
       "  </tbody>\n",
       "</table>\n",
       "</div>"
      ],
      "text/plain": [
       "   Unnamed: 0           city     company        jobTitle        meanPay  rate  \\\n",
       "0           0     Albany, NY          GE  Data Scientist  $100k - $108k     1   \n",
       "1           1  Arlington, TX  State Farm  Data Scientist  $100k - $110k     1   \n",
       "2           2  Arlington, TX     Epsilon  Data Scientist  $160k - $173k     1   \n",
       "3           3  Arlington, TX       Match  Data Scientist    $79k - $86k     1   \n",
       "4           4  Arlington, TX        Hudl  Data Scientist    $86k - $94k     1   \n",
       "\n",
       "   est_annual_salary  \n",
       "0           104000.0  \n",
       "1           105000.0  \n",
       "2           166500.0  \n",
       "3            82500.0  \n",
       "4            90000.0  "
      ]
     },
     "execution_count": 5,
     "metadata": {},
     "output_type": "execute_result"
    }
   ],
   "source": [
    "glassdoor.head()"
   ]
  },
  {
   "cell_type": "code",
   "execution_count": null,
   "metadata": {
    "collapsed": true
   },
   "outputs": [],
   "source": [
    "s"
   ]
  }
 ],
 "metadata": {
  "kernelspec": {
   "display_name": "Python 2",
   "language": "python",
   "name": "python2"
  },
  "language_info": {
   "codemirror_mode": {
    "name": "ipython",
    "version": 2
   },
   "file_extension": ".py",
   "mimetype": "text/x-python",
   "name": "python",
   "nbconvert_exporter": "python",
   "pygments_lexer": "ipython2",
   "version": "2.7.12"
  }
 },
 "nbformat": 4,
 "nbformat_minor": 0
}
