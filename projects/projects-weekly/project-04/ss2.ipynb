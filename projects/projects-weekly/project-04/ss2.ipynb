{
 "cells": [
  {
   "cell_type": "code",
   "execution_count": 1,
   "metadata": {
    "ExecuteTime": {
     "end_time": "2016-10-19T09:12:28.828356",
     "start_time": "2016-10-19T09:12:17.150796"
    },
    "collapsed": false
   },
   "outputs": [
    {
     "name": "stderr",
     "output_type": "stream",
     "text": [
      "//anaconda/lib/python2.7/site-packages/sklearn/cross_validation.py:44: DeprecationWarning: This module was deprecated in version 0.18 in favor of the model_selection module into which all the refactored classes and functions are moved. Also note that the interface of the new CV iterators are different from that of this module. This module will be removed in 0.20.\n",
      "  \"This module will be removed in 0.20.\", DeprecationWarning)\n",
      "//anaconda/lib/python2.7/site-packages/sklearn/grid_search.py:43: DeprecationWarning: This module was deprecated in version 0.18 in favor of the model_selection module into which all the refactored classes and functions are moved. This module will be removed in 0.20.\n",
      "  DeprecationWarning)\n"
     ]
    }
   ],
   "source": [
    "import pandas as pd\n",
    "import numpy as np\n",
    "import requests\n",
    "from bs4 import BeautifulSoup\n",
    "import datetime\n",
    "import urllib\n",
    "import statsmodels.api as sm\n",
    "from sklearn.cross_validation import train_test_split\n",
    "import matplotlib.pyplot as plt\n",
    "import seaborn as sns\n",
    "import time\n",
    "import statsmodels.api as sm\n",
    "from scipy import stats\n",
    "from sklearn import datasets\n",
    "from sklearn.pipeline import Pipeline\n",
    "from sklearn.preprocessing import PolynomialFeatures\n",
    "from sklearn.linear_model import LinearRegression, Ridge, Lasso, LogisticRegression, LogisticRegressionCV\n",
    "from sklearn.metrics import mean_squared_error, classification_report, confusion_matrix, accuracy_score\n",
    "from sklearn.cross_validation import train_test_split, cross_val_score\n",
    "from sklearn.grid_search import GridSearchCV\n",
    "from sklearn.metrics import roc_auc_score, roc_curve, auc\n",
    "% matplotlib inline"
   ]
  },
  {
   "cell_type": "code",
   "execution_count": 2,
   "metadata": {
    "ExecuteTime": {
     "end_time": "2016-10-19T09:12:28.836647",
     "start_time": "2016-10-19T09:12:28.831227"
    },
    "collapsed": false,
    "scrolled": false
   },
   "outputs": [],
   "source": [
    "lm = LinearRegression()\n",
    "LR=LogisticRegression\n",
    "LRCV=LogisticRegressionCV"
   ]
  },
  {
   "cell_type": "code",
   "execution_count": 3,
   "metadata": {
    "ExecuteTime": {
     "end_time": "2016-10-19T09:12:28.934591",
     "start_time": "2016-10-19T09:12:28.839521"
    },
    "collapsed": false
   },
   "outputs": [],
   "source": [
    "def renaming(x):\n",
    "    new_name=\"\"\n",
    "    if x==(\"Junior Data Scientist\"or\"Entry Level Data Scientist\" or \"Data Scientist II\" or \"Associate Data Scientist\"):\n",
    "        new_name=\"Junior DS\"\n",
    "    elif x==(\"Senior Data Scientist\" or \"Principal Data Scientist\"):\n",
    "        new_name==\"Senior DS\"\n",
    "    else:\n",
    "        new_name=\"DS\"\n",
    "    return new_name\n",
    "def name_change(x):\n",
    "    new_value=\"\"\n",
    "    if x in change.keys():\n",
    "        new_value=change[x]\n",
    "    else:\n",
    "        new_value=x\n",
    "    return new_value\n",
    "def cap(x):\n",
    "    value=0\n",
    "    if x is np.NAN:\n",
    "        value=\"Unknown\"\n",
    "    elif x>2000:\n",
    "        value=\"Hugecap\"\n",
    "    elif x>500:\n",
    "        value=\"Largecap\"\n",
    "    elif x>100:\n",
    "        value=\"Midcap\"\n",
    "    else:\n",
    "        value=\"Smallcap\"\n",
    "    return value\n",
    "def create_bins(low,high,n):\n",
    "    increment=(high-low)/float(n)\n",
    "    bins=[]\n",
    "    for i in range(n+1):\n",
    "        bins.append(low+increment*(i))\n",
    "    replacements=[]\n",
    "    i=0\n",
    "    while i<len(bins)-1:\n",
    "        replacements.append(str(int(round(bins[i])))+\"-\"+str(int(round(bins[i+1]))))\n",
    "        i+=1\n",
    "    return bins,replacements\n",
    "def salary_bin(bins,replacements,x):\n",
    "    i=0\n",
    "    value=0\n",
    "    while i<len(bins)-1:\n",
    "        if x<=int(round(bins[i+1])):\n",
    "            value=replacements[i]\n",
    "            i=len(bins)\n",
    "        i+=1\n",
    "    if value==0:\n",
    "        value=str(bins[-1])+\"+\"\n",
    "    return value\n",
    "def only_numerics(seq):\n",
    "    seq = seq.split('-')\n",
    "    try:\n",
    "        out = ((int(filter(type(seq[0]).isdigit, seq[0])) + int(filter(type(seq[1]).isdigit, seq[1])))/2)*1000\n",
    "    except:\n",
    "        out = int(filter(type(seq[0]).isdigit, seq[0]))\n",
    "    return out\n"
   ]
  },
  {
   "cell_type": "markdown",
   "metadata": {
    "collapsed": true
   },
   "source": [
    "Uploads the non-Glass Door data.\n",
    "The stock data is cleaned for:\n",
    "* Certain terms in the name. Things like 'inc,' or 'corp' are deleted. This helps the matching process.\n",
    "* The market cap information is converted from strings to millions of dollars.\n",
    "\n",
    "The city data is cleaned for:\n",
    "\n",
    "* Cities containing '-'\n",
    "* Cities containing 'county'\n",
    "* Removing ',' from city names"
   ]
  },
  {
   "cell_type": "code",
   "execution_count": 4,
   "metadata": {
    "ExecuteTime": {
     "end_time": "2016-10-19T09:12:29.280023",
     "start_time": "2016-10-19T09:12:28.936816"
    },
    "collapsed": false
   },
   "outputs": [],
   "source": [
    "#Cleans up the Stock information\n",
    "nyse=pd.read_csv(\"Data/NYSE.csv\")\n",
    "nasdaq=pd.read_csv(\"Data/NASDAQ.csv\")\n",
    "amex=pd.read_csv(\"Data/AMEX.csv\")\n",
    "stocks=nyse.append(nasdaq,ignore_index=True).append(amex,ignore_index=True)\n",
    "del stocks[\"Summary Quote\"]\n",
    "i=0"
   ]
  },
  {
   "cell_type": "markdown",
   "metadata": {
    "ExecuteTime": {
     "end_time": "2016-10-18T14:37:15.643836",
     "start_time": "2016-10-18T14:37:15.635873"
    },
    "collapsed": true
   },
   "source": [
    "We had discrepancies between the names of the scraped Glass Door data, and the names of the stock information. This led to information not being merged when it should have. So, we manually searched for the pairs of names and input them into a dictionary. This dictionary would be used to rename the mislabeled Glass Door entries."
   ]
  },
  {
   "cell_type": "code",
   "execution_count": 5,
   "metadata": {
    "ExecuteTime": {
     "end_time": "2016-10-19T09:12:31.808649",
     "start_time": "2016-10-19T09:12:29.282483"
    },
    "collapsed": false
   },
   "outputs": [],
   "source": [
    "\"\"\"ONLY USED FOR FINDING STOCKS\"\"\"\n",
    "\n",
    "names=[x for x,y in zip(stocks[\"Name\"].value_counts().sort_values(ascending=False).index,\\\n",
    "                        stocks[\"Name\"].value_counts().sort_values(ascending=False).values) if y>1]\n",
    "\n",
    "names=['Price']\n",
    "\n",
    "#Finds all instances of a company name within stocks[\"Name\"], and prints the instance and its index numer\n",
    "for name in names:\n",
    "    i=0\n",
    "    while i<len(stocks):\n",
    "        if stocks.loc[i,\"Name\"]==name:\n",
    "            print \"index: \",i\n",
    "            print stocks.iloc[i]\n",
    "            print \"\\n\"\n",
    "        i+=1\n",
    "\n",
    "# [x for x in stocks[\"Name\"] if x[0:3]==\"Exp\"] #-->Additional Search Method; looks for first three letters\n",
    "# [x for x in stocks[\"Name\"] if \"Price\".lower() in x.lower()]"
   ]
  },
  {
   "cell_type": "code",
   "execution_count": 6,
   "metadata": {
    "ExecuteTime": {
     "end_time": "2016-10-19T09:12:31.822729",
     "start_time": "2016-10-19T09:12:31.811726"
    },
    "collapsed": false
   },
   "outputs": [],
   "source": [
    "change={\"GE\": \"General Electric Company\", \"IBM\":\"Microsoft\",\"Capital One\":\"Capital One Financial\",\n",
    "        \"Verizon\":\"Verizon Communications\",\"Hewlett Packard Enterprise | HPE\":'Hewlett Packard Enterprise Company',\n",
    "       \"Hewlett-Packard\":'Hewlett Packard Enterprise Company',\"Alliance Data\":\"Alliance Data Systems\",\n",
    "       'Raytheon':'Raytheon Company',\"GE\":'General Electric Company',\"Verizon Wireless\":\"Verizon Communications\",\n",
    "       \"Intel Corporation\":\"Intel\",\"MaxPoint\":\"MaxPoint Interactive\",\"General Motors\":\"General Motors Company\",\n",
    "       \"Booz Allen Hamilton\":\"Booz Allen Hamilton Holding\",\"Nielsen\":\"Nielsen N.V.\",\"SAP\":\"SAP SE\",\n",
    "       \"General Dynamics Mission Systems\":\"General Dynamics\",\"Leidos\":\"Leidos Holdings\",\n",
    "       \"Honeywell\":\"Honeywell International\",\"Akamai\":\"Akamai Technologies\",\"BNY Mellon\":\"Bank Of New York Mellon\",\n",
    "       \"FIS\":\"Fidelity National Information Services\",\"J.P. Morgan\":'J P Morgan Chase & Co',\n",
    "       \"Walmart\":'Wal-Mart Stores',\"PayPal\":\"PayPal Holdings\",\"Adobe\":\"Adobe Systems\",'AOL':\"Verizon Communications\"}"
   ]
  },
  {
   "cell_type": "code",
   "execution_count": 7,
   "metadata": {
    "ExecuteTime": {
     "end_time": "2016-10-19T09:12:37.918153",
     "start_time": "2016-10-19T09:12:31.826506"
    },
    "collapsed": false
   },
   "outputs": [],
   "source": [
    "while i<len(stocks[\"Symbol\"]):\n",
    "    if \" (The)\" in stocks.iloc[i,1]:\n",
    "        stocks.iloc[i,1]=stocks.iloc[i,1][:len(stocks.iloc[i,1])-len(\" (The)\")]\n",
    "    if \" Incorporated\" in stocks.iloc[i,1]:\n",
    "        stocks.iloc[i,1]=stocks.iloc[i,1][:len(stocks.iloc[i,1])-len(\" Incorporated\")]\n",
    "    if \", Inc.\" in stocks.iloc[i,1]:\n",
    "        stocks.iloc[i,1]=stocks.iloc[i,1][:len(stocks.iloc[i,1])-len(\", Inc.\")]\n",
    "    if \", Inc\" in stocks.iloc[i,1]:\n",
    "        stocks.iloc[i,1]=stocks.iloc[i,1][:len(stocks.iloc[i,1])-len(\", Inc\")]\n",
    "    if \", INC\" in stocks.iloc[i,1]:\n",
    "        stocks.iloc[i,1]=stocks.iloc[i,1][:len(stocks.iloc[i,1])-len(\", Inc\")]\n",
    "    if \" Inc.\" in stocks.iloc[i,1]:\n",
    "        stocks.iloc[i,1]=stocks.iloc[i,1][:len(stocks.iloc[i,1])-len(\" Inc.\")]\n",
    "    if \" Inc\" in stocks.iloc[i,1]:\n",
    "        stocks.iloc[i,1]=stocks.iloc[i,1][:len(stocks.iloc[i,1])-len(\" Inc\")]\n",
    "    if \" INC\" in stocks.iloc[i,1]:\n",
    "        stocks.iloc[i,1]=stocks.iloc[i,1][:len(stocks.iloc[i,1])-len(\" Inc\")]\n",
    "    if  \" Corporation\" in stocks.iloc[i,1]:\n",
    "        stocks.iloc[i,1]=stocks.iloc[i,1][:len(stocks.iloc[i,1])-len(\" Corporation\")]\n",
    "    if \" Corp.\" in stocks.iloc[i,1]:\n",
    "        stocks.iloc[i,1]=stocks.iloc[i,1][:len(stocks.iloc[i,1])-len(\" Corp.\")]\n",
    "    if \" Corp\" in stocks.iloc[i,1]:\n",
    "        stocks.iloc[i,1]=stocks.iloc[i,1][:len(stocks.iloc[i,1])-len(\" Corp\")]\n",
    "    if \" CORP\" in stocks.iloc[i,1]:\n",
    "        stocks.iloc[i,1]=stocks.iloc[i,1][:len(stocks.iloc[i,1])-len(\" Corp\")]\n",
    "    i+=1\n",
    "\n",
    "#Convert MarketCap to Millions of dollars\n",
    "i=0\n",
    "while i<len(stocks[\"MarketCap\"]):\n",
    "    if \"B\" in str(stocks.iloc[i,3])[-1:]:\n",
    "        stocks.iloc[i,3]=float(str(stocks.iloc[i,3])[1:-1])*1000\n",
    "    else:\n",
    "        stocks.iloc[i,3]=str(stocks.iloc[i,3])[1:-1]\n",
    "    i+=1\n",
    "\n",
    "stocks=stocks.reset_index()\n",
    "del stocks['index']\n",
    "\n",
    "#Cleans cities data (eliminates counties and combined cities/towns)\n",
    "cities=pd.read_csv(\"Data/Living_Index.csv\")\n",
    "cities=cities.rename(columns={\"Urban Area\":\"City\"})\n",
    "values=[]\n",
    "for x in cities[\"City\"]:\n",
    "    if \"-\" in x:\n",
    "        values.append(False)\n",
    "    else:\n",
    "        values.append(True)\n",
    "cities=cities[values]\n",
    "values=[]\n",
    "for x in cities[\"City\"]:\n",
    "    if \"county\" in x.lower():\n",
    "        values.append(False)\n",
    "    else:\n",
    "        values.append(True)\n",
    "cities=cities[values]\n",
    "new_city_list=[]\n",
    "\n",
    "for x in cities[\"City\"]:\n",
    "    y=x[-4:]\n",
    "    z=x[:-len(y)].replace(\",\",\"\")+y\n",
    "    new_city_list.append(z)\n",
    "cities[\"City\"]=new_city_list"
   ]
  },
  {
   "cell_type": "markdown",
   "metadata": {},
   "source": [
    "We initiate a Glass Door data frame to connect the json to.\n",
    "We upload the json, which has four columns:\n",
    "* Location\n",
    "* Company\n",
    "* Salary\n",
    "* Job\n",
    "\n",
    "We clean the json df for:\n",
    "* Changing salary ranges to averagees\n",
    "\n",
    "We save the json df as 'glass_door'.\n",
    "\n",
    "We clean the glass_door df for:\n",
    "* Name changes found listed above\n",
    "\n",
    "We merge the glass_door df with cities. \n",
    "\n",
    "We create a new column \"Normalized Salary\"."
   ]
  },
  {
   "cell_type": "code",
   "execution_count": 8,
   "metadata": {
    "ExecuteTime": {
     "end_time": "2016-10-19T09:12:38.428388",
     "start_time": "2016-10-19T09:12:37.920682"
    },
    "collapsed": false
   },
   "outputs": [],
   "source": [
    "glass_door=pd.DataFrame(columns=[\"Salary\",\"Company\",\"Location\"])\n",
    "\n",
    "extension=\"Data/allcities.json\"\n",
    "json=pd.read_json(extension)\n",
    "df=pd.DataFrame([json[\"city\"],json[\"company\"],json[\"meanPay\"],json[\"jobTitle\"]]).T\n",
    "df.columns=[\"Location\",\"Company\",\"Salary\",\"Job\"]\n",
    "temp=[]\n",
    "\n",
    "\n",
    "df['Salary'] = df['Salary'].apply(only_numerics)\n",
    "df=df[pd.notnull(df[\"Salary\"])].reset_index()\n",
    "del df['index']\n",
    "df[\"Salary\"]=df['Salary'].astype(np.float)#\n",
    "\n",
    "glass_door=glass_door.append(df,ignore_index=True)\n",
    "\n",
    "glass_door[\"Company\"]=glass_door[\"Company\"].apply(lambda x: name_change(x))\n",
    "\n",
    "glass_door=glass_door.merge(cities, left_on=\"Location\", right_on=\"City\")\n",
    "glass_door[\"Normalized Salary\"]=glass_door[\"Salary\"]/glass_door[\"100% Composite Index\"]"
   ]
  },
  {
   "cell_type": "code",
   "execution_count": 9,
   "metadata": {
    "ExecuteTime": {
     "end_time": "2016-10-19T09:12:38.451868",
     "start_time": "2016-10-19T09:12:38.430725"
    },
    "collapsed": false
   },
   "outputs": [
    {
     "data": {
      "text/plain": [
       "1512"
      ]
     },
     "execution_count": 9,
     "metadata": {},
     "output_type": "execute_result"
    }
   ],
   "source": [
    "df=glass_door.copy()\n",
    "df=df.merge(stocks, how='left',left_on=\"Company\",right_on=\"Name\")\n",
    "len(df)"
   ]
  },
  {
   "cell_type": "markdown",
   "metadata": {},
   "source": [
    "We merge the glass_door df with stocks. We only select those Jobs that are Junior Level, Middle Level, or Senior Level. We dont want to end up with internships. We then bin the jobs with their respective bin names (as just mentioned).\n",
    "\n",
    "For the most recurring private companies, market cap and sectors were updated as they had an impact on prediction ability.\n",
    "\n",
    "Null values in market cap and sector were changed appropriately."
   ]
  },
  {
   "cell_type": "code",
   "execution_count": 10,
   "metadata": {
    "ExecuteTime": {
     "end_time": "2016-10-19T09:12:41.414417",
     "start_time": "2016-10-19T09:12:38.455494"
    },
    "collapsed": false
   },
   "outputs": [],
   "source": [
    "df=glass_door.copy()\n",
    "df=df.merge(stocks, how='left',left_on=\"Company\",right_on=\"Name\")\n",
    "\n",
    "keep=[ \"Data Scientist\", \"Senior Data Scientist\" , \"Principal Data Scientist\" ,\"Junior Data Scientist\" ]\n",
    "#\"Entry Level Data Scientist\" , \"Data Scientist II\" , \"Associate Data Scientist\"\n",
    "df=df.reset_index()\n",
    "del df['index']\n",
    "\n",
    "i=0\n",
    "indices=[]\n",
    "while i<len(df):\n",
    "    if df.loc[i,\"Job\"] not in keep:\n",
    "        indices.append(i)\n",
    "    i+=1\n",
    "indices.sort()\n",
    "indices=indices[::-1]\n",
    "for key in indices:\n",
    "    df=df.iloc[:key].append(df.iloc[key+1:])\n",
    "df=df[df[\"Salary\"]>60000]\n",
    "df=df.reset_index()\n",
    "del df['index']\n",
    "\n",
    "\n",
    "\n",
    "df[\"Job\"]=df[\"Job\"].apply(lambda x: renaming(x))\n",
    "\n",
    "\n",
    "\n",
    "marketcap_sectors={'KPMG':[24440,\"Consulting\"],'Razorfish':[np.NaN,\"Technology\"],\n",
    "                   'Elevate Credit':[640,\"Finance\"],'BCG Digital Ventures':[np.NaN,\"Finance\"]}\n",
    "\n",
    "df=df.reset_index()\n",
    "del df[\"index\"]\n",
    "i=0\n",
    "while i<len(df):\n",
    "    if df.loc[i,\"Company\"] in marketcap_sectors.keys():\n",
    "        df.loc[i,\"MarketCap\"]=marketcap_sectors[df.loc[i,\"Company\"]][0]\n",
    "        df.loc[i,\"Sector\"]=marketcap_sectors[df.loc[i,\"Company\"]][1]\n",
    "    i+=1\n",
    "\n",
    "df[\"Sector\"]=[\"Technology\" if pd.isnull(x) else x for x in df[\"Sector\"]]\n",
    "df[\"MarketCap\"]=df[\"MarketCap\"].apply(lambda x: cap(x))\n",
    "#df[\"MarketCapSector\"]=df[\"Sector\"]+df[\"MarketCap\"]"
   ]
  },
  {
   "cell_type": "markdown",
   "metadata": {},
   "source": [
    "Here we convert the most relevant columns to dummy variables. We played around with this a lot, and found that Sector, Region, Job, MarketCap, and various living index components contributed positively to our logistic regression. All other columns were deleted.\n",
    "\n",
    "Additionally, we found that normalizing the salary data against the total living index helped to make the salary data gaussian. So, we also multiplied all of the independent variables against their corresponding living index."
   ]
  },
  {
   "cell_type": "code",
   "execution_count": 11,
   "metadata": {
    "ExecuteTime": {
     "end_time": "2016-10-19T09:13:16.446340",
     "start_time": "2016-10-19T09:12:41.417270"
    },
    "collapsed": false,
    "scrolled": false
   },
   "outputs": [],
   "source": [
    "df2=pd.get_dummies(df,columns=[\"Sector\",\"Region\",\"Job\",\"MarketCap\"])\n",
    "delete=[u'industry', u'Location', u'Salary',\"State\",\"City\",\"Company\",\n",
    "       u'Symbol', u'Name', u'LastSale', u'IPOyear',u'Normalized Salary',u'100% Composite Index'] \n",
    "#u'13 % Grocery Items', u'29 % Housing',\n",
    "#      u'10% Utilities', u'12 % Transportation', u'4% Health Care',\n",
    "#       u'32 % Miscellaneous Goods and Services',\n",
    "for x in delete:\n",
    "    del df2[x]\n",
    "\n",
    "normalizer=pd.DataFrame(df[\"100% Composite Index\"].copy(),columns=[\"100% Composite Index\"])\n",
    "df2=df2.reset_index()\n",
    "del df2['index']\n",
    "normalizer=normalizer.reset_index()\n",
    "del normalizer['index']\n",
    "i=0\n",
    "cols=df2.columns\n",
    "while i<len(df2):\n",
    "    for x in cols:\n",
    "        df2.loc[i,x]=df2.loc[i,x]*normalizer.loc[i,\"100% Composite Index\"]\n",
    "    i+=1"
   ]
  },
  {
   "cell_type": "markdown",
   "metadata": {},
   "source": [
    "Below are plots demonstrating the strength of our coefficents and the normalization of our salaries. \n",
    "\n",
    "We decided to run a normal regression on our variables to see their predictive power. We figured that reducing the variance would greatly help our ability to classify our outputs for the logistic regression."
   ]
  },
  {
   "cell_type": "code",
   "execution_count": 12,
   "metadata": {
    "ExecuteTime": {
     "end_time": "2016-10-19T09:13:16.559440",
     "start_time": "2016-10-19T09:13:16.449084"
    },
    "collapsed": false
   },
   "outputs": [],
   "source": [
    "x_train2,x_test2,y_train2,y_test2=train_test_split(df2,df['Salary'],test_size=.35, random_state=20)"
   ]
  },
  {
   "cell_type": "code",
   "execution_count": 13,
   "metadata": {
    "ExecuteTime": {
     "end_time": "2016-10-19T09:13:18.445660",
     "start_time": "2016-10-19T09:13:16.561578"
    },
    "collapsed": false,
    "scrolled": false
   },
   "outputs": [
    {
     "data": {
      "image/png": "[encoded data removed]",
      "text/plain": [
       "<matplotlib.figure.Figure at 0x1187e5dd0>"
      ]
     },
     "metadata": {},
     "output_type": "display_data"
    },
    {
     "data": {
      "image/png": "[encoded data removed]",
      "text/plain": [
       "<matplotlib.figure.Figure at 0x11bd47b10>"
      ]
     },
     "metadata": {},
     "output_type": "display_data"
    }
   ],
   "source": [
    "\"\"\" Fit a binary classification predictor.\"\"\"\n",
    "#Linear Regression\n",
    "xtr=x_train2\n",
    "xte=x_test2\n",
    "ytr=y_train2\n",
    "yte=y_test2\n",
    "\n",
    "xtr=np.array(xtr).reshape(len(xtr),len(x_train2.columns))\n",
    "xte=np.array(xte).reshape(len(xte),len(x_train2.columns))\n",
    "xtr2=sm.add_constant(xtr)\n",
    "model=sm.OLS(ytr,xtr).fit()\n",
    "\n",
    "xte2=sm.add_constant(xte)\n",
    "pred=model.predict(xte)\n",
    "\n",
    "fig,axes=plt.subplots(figsize=(7,6))\n",
    "plt.scatter(pred,yte,c=(0,.7,0,1),s=[35 for x in range(len(pred))])\n",
    "temp=pred\n",
    "temp.sort()\n",
    "plt.plot(temp,temp,'--',c=(0,0,0,1),linewidth=4)\n",
    "plt.xlim(50000,190000)\n",
    "plt.ylim(50000,190000)\n",
    "plt.xlabel(\"Predicted Salary\",size=12)\n",
    "plt.ylabel(\"Actual Salary\",size=12)\n",
    "plt.title(\"Predictive Accuracy of Coefficients\",size=16)\n",
    "plt.xticks(np.linspace(60000,180000,7),['$60,000','$80,000','$100,000','$120,000','$140,000','$160,000',\n",
    "                                        '$180,000'])\n",
    "plt.yticks(np.linspace(60000,180000,7),['$60,000','$80,000','$100,000','$120,000','$140,000','$160,000',\n",
    "                                        '$180,000'])\n",
    "plt.show()\n",
    "\n",
    "#print model.summary2()```\n",
    "\n",
    "##MAKE THIS PRETTIER; We will present with this\n",
    "\n",
    "fig,ax=plt.subplots(figsize=(8,4))\n",
    "average=np.mean(glass_door[\"100% Composite Index\"])\n",
    "#\\plt.hist(glass_door[\"Salary\"]/average,width=50)\n",
    "plt.hist(glass_door[\"Salary\"],bins=45,color=(0,0,0,1),histtype='stepfilled',label=\"Non-Normalized\")\n",
    "plt.hist(glass_door[\"Normalized Salary\"]*115,bins=45,color=(0,1,1,.6),histtype='stepfilled',label=\"Normalized\")\n",
    "plt.xlabel(\"Salary\",size=12)\n",
    "plt.ylabel(\"Count\",size=12)\n",
    "plt.title(\"Salary Distribution w/ and w/o Normalization\",size=16)\n",
    "plt.legend(loc='upper right')\n",
    "plt.xticks(np.linspace(0,250000,6),['$0',\"$50,000\",\"$100,000\",'$150,000','$200,000','$250,000'])\n",
    "plt.show()"
   ]
  },
  {
   "cell_type": "markdown",
   "metadata": {},
   "source": [
    "The code below creates bin names for the salary data and classifies the correct output accordingly. This is used for the logistic regression."
   ]
  },
  {
   "cell_type": "code",
   "execution_count": 16,
   "metadata": {
    "ExecuteTime": {
     "end_time": "2016-10-19T09:15:13.777038",
     "start_time": "2016-10-19T09:15:13.753422"
    },
    "collapsed": false
   },
   "outputs": [],
   "source": [
    "#ENTER BINS BELOW\n",
    "bin_NUMBER=3\n",
    "\n",
    "temp2=pd.DataFrame(df[\"Salary\"].copy(),columns=[\"Salary\"])\n",
    "bins2,replacements2=create_bins(min(temp2[\"Salary\"]),max(temp2[\"Salary\"]),bin_NUMBER)\n",
    "\n",
    "temp=pd.DataFrame(df[\"Salary\"].copy(),columns=[\"Salary\"])\n",
    "bins,replacements=create_bins(min(temp[\"Salary\"]),max(temp[\"Salary\"]),bin_NUMBER)\n",
    "temp[\"Normalized Salary\"]=temp[\"Salary\"].apply(lambda x: salary_bin(bins,replacements,x))\n",
    "#df1=pd.get_dummies(temp,columns=[\"Normalized Salary\"])\n",
    "df1=temp[\"Normalized Salary\"]"
   ]
  },
  {
   "cell_type": "markdown",
   "metadata": {},
   "source": [
    "For the logistic regression below, we found the optimal tunings for our logistic regression outputs by running a series of for loops to find the best calibrations parameters. Furthermore, we took the average of the precision, recall, and f1scores over the course of 20 different random_states to find a more fair score."
   ]
  },
  {
   "cell_type": "code",
   "execution_count": 17,
   "metadata": {
    "ExecuteTime": {
     "end_time": "2016-10-19T09:18:03.425586",
     "start_time": "2016-10-19T09:15:14.843872"
    },
    "collapsed": false
   },
   "outputs": [
    {
     "ename": "KeyboardInterrupt",
     "evalue": "",
     "output_type": "error",
     "traceback": [
      "\u001b[0;31m---------------------------------------------------------------------------\u001b[0m",
      "\u001b[0;31mKeyboardInterrupt\u001b[0m                         Traceback (most recent call last)",
      "\u001b[0;32m<ipython-input-17-ed560f6322dd>\u001b[0m in \u001b[0;36m<module>\u001b[0;34m()\u001b[0m\n\u001b[1;32m     16\u001b[0m \u001b[0;34m\u001b[0m\u001b[0m\n\u001b[1;32m     17\u001b[0m             \u001b[0mgs\u001b[0m \u001b[0;34m=\u001b[0m \u001b[0mGridSearchCV\u001b[0m\u001b[0;34m(\u001b[0m\u001b[0mlogreg\u001b[0m\u001b[0;34m,\u001b[0m \u001b[0;34m{\u001b[0m\u001b[0;34m'penalty'\u001b[0m\u001b[0;34m:\u001b[0m \u001b[0mpenalties\u001b[0m\u001b[0;34m,\u001b[0m \u001b[0;34m'C'\u001b[0m\u001b[0;34m:\u001b[0m \u001b[0mC_vals\u001b[0m\u001b[0;34m}\u001b[0m\u001b[0;34m,\u001b[0m \u001b[0mcv\u001b[0m\u001b[0;34m=\u001b[0m\u001b[0;36m2\u001b[0m\u001b[0;34m)\u001b[0m\u001b[0;34m\u001b[0m\u001b[0m\n\u001b[0;32m---> 18\u001b[0;31m             \u001b[0mgs\u001b[0m\u001b[0;34m.\u001b[0m\u001b[0mfit\u001b[0m\u001b[0;34m(\u001b[0m\u001b[0mx_train\u001b[0m\u001b[0;34m,\u001b[0m \u001b[0my_train\u001b[0m\u001b[0;34m)\u001b[0m\u001b[0;34m\u001b[0m\u001b[0m\n\u001b[0m\u001b[1;32m     19\u001b[0m \u001b[0;34m\u001b[0m\u001b[0m\n\u001b[1;32m     20\u001b[0m             \u001b[0mlogreg\u001b[0m \u001b[0;34m=\u001b[0m \u001b[0mLogisticRegression\u001b[0m\u001b[0;34m(\u001b[0m\u001b[0mC\u001b[0m\u001b[0;34m=\u001b[0m\u001b[0mgs\u001b[0m\u001b[0;34m.\u001b[0m\u001b[0mbest_params_\u001b[0m\u001b[0;34m[\u001b[0m\u001b[0;34m'C'\u001b[0m\u001b[0;34m]\u001b[0m\u001b[0;34m,\u001b[0m \u001b[0mpenalty\u001b[0m\u001b[0;34m=\u001b[0m\u001b[0mgs\u001b[0m\u001b[0;34m.\u001b[0m\u001b[0mbest_params_\u001b[0m\u001b[0;34m[\u001b[0m\u001b[0;34m'penalty'\u001b[0m\u001b[0;34m]\u001b[0m\u001b[0;34m)\u001b[0m\u001b[0;34m\u001b[0m\u001b[0m\n",
      "\u001b[0;32m//anaconda/lib/python2.7/site-packages/sklearn/grid_search.pyc\u001b[0m in \u001b[0;36mfit\u001b[0;34m(self, X, y)\u001b[0m\n\u001b[1;32m    811\u001b[0m \u001b[0;34m\u001b[0m\u001b[0m\n\u001b[1;32m    812\u001b[0m         \"\"\"\n\u001b[0;32m--> 813\u001b[0;31m         \u001b[0;32mreturn\u001b[0m \u001b[0mself\u001b[0m\u001b[0;34m.\u001b[0m\u001b[0m_fit\u001b[0m\u001b[0;34m(\u001b[0m\u001b[0mX\u001b[0m\u001b[0;34m,\u001b[0m \u001b[0my\u001b[0m\u001b[0;34m,\u001b[0m \u001b[0mParameterGrid\u001b[0m\u001b[0;34m(\u001b[0m\u001b[0mself\u001b[0m\u001b[0;34m.\u001b[0m\u001b[0mparam_grid\u001b[0m\u001b[0;34m)\u001b[0m\u001b[0;34m)\u001b[0m\u001b[0;34m\u001b[0m\u001b[0m\n\u001b[0m\u001b[1;32m    814\u001b[0m \u001b[0;34m\u001b[0m\u001b[0m\n\u001b[1;32m    815\u001b[0m \u001b[0;34m\u001b[0m\u001b[0m\n",
      "\u001b[0;32m//anaconda/lib/python2.7/site-packages/sklearn/grid_search.pyc\u001b[0m in \u001b[0;36m_fit\u001b[0;34m(self, X, y, parameter_iterable)\u001b[0m\n\u001b[1;32m    559\u001b[0m                                     \u001b[0mself\u001b[0m\u001b[0;34m.\u001b[0m\u001b[0mfit_params\u001b[0m\u001b[0;34m,\u001b[0m \u001b[0mreturn_parameters\u001b[0m\u001b[0;34m=\u001b[0m\u001b[0mTrue\u001b[0m\u001b[0;34m,\u001b[0m\u001b[0;34m\u001b[0m\u001b[0m\n\u001b[1;32m    560\u001b[0m                                     error_score=self.error_score)\n\u001b[0;32m--> 561\u001b[0;31m                 \u001b[0;32mfor\u001b[0m \u001b[0mparameters\u001b[0m \u001b[0;32min\u001b[0m \u001b[0mparameter_iterable\u001b[0m\u001b[0;34m\u001b[0m\u001b[0m\n\u001b[0m\u001b[1;32m    562\u001b[0m                 for train, test in cv)\n\u001b[1;32m    563\u001b[0m \u001b[0;34m\u001b[0m\u001b[0m\n",
      "\u001b[0;32m//anaconda/lib/python2.7/site-packages/sklearn/externals/joblib/parallel.pyc\u001b[0m in \u001b[0;36m__call__\u001b[0;34m(self, iterable)\u001b[0m\n\u001b[1;32m    756\u001b[0m             \u001b[0;31m# was dispatched. In particular this covers the edge\u001b[0m\u001b[0;34m\u001b[0m\u001b[0;34m\u001b[0m\u001b[0m\n\u001b[1;32m    757\u001b[0m             \u001b[0;31m# case of Parallel used with an exhausted iterator.\u001b[0m\u001b[0;34m\u001b[0m\u001b[0;34m\u001b[0m\u001b[0m\n\u001b[0;32m--> 758\u001b[0;31m             \u001b[0;32mwhile\u001b[0m \u001b[0mself\u001b[0m\u001b[0;34m.\u001b[0m\u001b[0mdispatch_one_batch\u001b[0m\u001b[0;34m(\u001b[0m\u001b[0miterator\u001b[0m\u001b[0;34m)\u001b[0m\u001b[0;34m:\u001b[0m\u001b[0;34m\u001b[0m\u001b[0m\n\u001b[0m\u001b[1;32m    759\u001b[0m                 \u001b[0mself\u001b[0m\u001b[0;34m.\u001b[0m\u001b[0m_iterating\u001b[0m \u001b[0;34m=\u001b[0m \u001b[0mTrue\u001b[0m\u001b[0;34m\u001b[0m\u001b[0m\n\u001b[1;32m    760\u001b[0m             \u001b[0;32melse\u001b[0m\u001b[0;34m:\u001b[0m\u001b[0;34m\u001b[0m\u001b[0m\n",
      "\u001b[0;32m//anaconda/lib/python2.7/site-packages/sklearn/externals/joblib/parallel.pyc\u001b[0m in \u001b[0;36mdispatch_one_batch\u001b[0;34m(self, iterator)\u001b[0m\n\u001b[1;32m    606\u001b[0m                 \u001b[0;32mreturn\u001b[0m \u001b[0mFalse\u001b[0m\u001b[0;34m\u001b[0m\u001b[0m\n\u001b[1;32m    607\u001b[0m             \u001b[0;32melse\u001b[0m\u001b[0;34m:\u001b[0m\u001b[0;34m\u001b[0m\u001b[0m\n\u001b[0;32m--> 608\u001b[0;31m                 \u001b[0mself\u001b[0m\u001b[0;34m.\u001b[0m\u001b[0m_dispatch\u001b[0m\u001b[0;34m(\u001b[0m\u001b[0mtasks\u001b[0m\u001b[0;34m)\u001b[0m\u001b[0;34m\u001b[0m\u001b[0m\n\u001b[0m\u001b[1;32m    609\u001b[0m                 \u001b[0;32mreturn\u001b[0m \u001b[0mTrue\u001b[0m\u001b[0;34m\u001b[0m\u001b[0m\n\u001b[1;32m    610\u001b[0m \u001b[0;34m\u001b[0m\u001b[0m\n",
      "\u001b[0;32m//anaconda/lib/python2.7/site-packages/sklearn/externals/joblib/parallel.pyc\u001b[0m in \u001b[0;36m_dispatch\u001b[0;34m(self, batch)\u001b[0m\n\u001b[1;32m    569\u001b[0m         \u001b[0mdispatch_timestamp\u001b[0m \u001b[0;34m=\u001b[0m \u001b[0mtime\u001b[0m\u001b[0;34m.\u001b[0m\u001b[0mtime\u001b[0m\u001b[0;34m(\u001b[0m\u001b[0;34m)\u001b[0m\u001b[0;34m\u001b[0m\u001b[0m\n\u001b[1;32m    570\u001b[0m         \u001b[0mcb\u001b[0m \u001b[0;34m=\u001b[0m \u001b[0mBatchCompletionCallBack\u001b[0m\u001b[0;34m(\u001b[0m\u001b[0mdispatch_timestamp\u001b[0m\u001b[0;34m,\u001b[0m \u001b[0mlen\u001b[0m\u001b[0;34m(\u001b[0m\u001b[0mbatch\u001b[0m\u001b[0;34m)\u001b[0m\u001b[0;34m,\u001b[0m \u001b[0mself\u001b[0m\u001b[0;34m)\u001b[0m\u001b[0;34m\u001b[0m\u001b[0m\n\u001b[0;32m--> 571\u001b[0;31m         \u001b[0mjob\u001b[0m \u001b[0;34m=\u001b[0m \u001b[0mself\u001b[0m\u001b[0;34m.\u001b[0m\u001b[0m_backend\u001b[0m\u001b[0;34m.\u001b[0m\u001b[0mapply_async\u001b[0m\u001b[0;34m(\u001b[0m\u001b[0mbatch\u001b[0m\u001b[0;34m,\u001b[0m \u001b[0mcallback\u001b[0m\u001b[0;34m=\u001b[0m\u001b[0mcb\u001b[0m\u001b[0;34m)\u001b[0m\u001b[0;34m\u001b[0m\u001b[0m\n\u001b[0m\u001b[1;32m    572\u001b[0m         \u001b[0mself\u001b[0m\u001b[0;34m.\u001b[0m\u001b[0m_jobs\u001b[0m\u001b[0;34m.\u001b[0m\u001b[0mappend\u001b[0m\u001b[0;34m(\u001b[0m\u001b[0mjob\u001b[0m\u001b[0;34m)\u001b[0m\u001b[0;34m\u001b[0m\u001b[0m\n\u001b[1;32m    573\u001b[0m \u001b[0;34m\u001b[0m\u001b[0m\n",
      "\u001b[0;32m//anaconda/lib/python2.7/site-packages/sklearn/externals/joblib/_parallel_backends.pyc\u001b[0m in \u001b[0;36mapply_async\u001b[0;34m(self, func, callback)\u001b[0m\n\u001b[1;32m    107\u001b[0m     \u001b[0;32mdef\u001b[0m \u001b[0mapply_async\u001b[0m\u001b[0;34m(\u001b[0m\u001b[0mself\u001b[0m\u001b[0;34m,\u001b[0m \u001b[0mfunc\u001b[0m\u001b[0;34m,\u001b[0m \u001b[0mcallback\u001b[0m\u001b[0;34m=\u001b[0m\u001b[0mNone\u001b[0m\u001b[0;34m)\u001b[0m\u001b[0;34m:\u001b[0m\u001b[0;34m\u001b[0m\u001b[0m\n\u001b[1;32m    108\u001b[0m         \u001b[0;34m\"\"\"Schedule a func to be run\"\"\"\u001b[0m\u001b[0;34m\u001b[0m\u001b[0m\n\u001b[0;32m--> 109\u001b[0;31m         \u001b[0mresult\u001b[0m \u001b[0;34m=\u001b[0m \u001b[0mImmediateResult\u001b[0m\u001b[0;34m(\u001b[0m\u001b[0mfunc\u001b[0m\u001b[0;34m)\u001b[0m\u001b[0;34m\u001b[0m\u001b[0m\n\u001b[0m\u001b[1;32m    110\u001b[0m         \u001b[0;32mif\u001b[0m \u001b[0mcallback\u001b[0m\u001b[0;34m:\u001b[0m\u001b[0;34m\u001b[0m\u001b[0m\n\u001b[1;32m    111\u001b[0m             \u001b[0mcallback\u001b[0m\u001b[0;34m(\u001b[0m\u001b[0mresult\u001b[0m\u001b[0;34m)\u001b[0m\u001b[0;34m\u001b[0m\u001b[0m\n",
      "\u001b[0;32m//anaconda/lib/python2.7/site-packages/sklearn/externals/joblib/_parallel_backends.pyc\u001b[0m in \u001b[0;36m__init__\u001b[0;34m(self, batch)\u001b[0m\n\u001b[1;32m    320\u001b[0m         \u001b[0;31m# Don't delay the application, to avoid keeping the input\u001b[0m\u001b[0;34m\u001b[0m\u001b[0;34m\u001b[0m\u001b[0m\n\u001b[1;32m    321\u001b[0m         \u001b[0;31m# arguments in memory\u001b[0m\u001b[0;34m\u001b[0m\u001b[0;34m\u001b[0m\u001b[0m\n\u001b[0;32m--> 322\u001b[0;31m         \u001b[0mself\u001b[0m\u001b[0;34m.\u001b[0m\u001b[0mresults\u001b[0m \u001b[0;34m=\u001b[0m \u001b[0mbatch\u001b[0m\u001b[0;34m(\u001b[0m\u001b[0;34m)\u001b[0m\u001b[0;34m\u001b[0m\u001b[0m\n\u001b[0m\u001b[1;32m    323\u001b[0m \u001b[0;34m\u001b[0m\u001b[0m\n\u001b[1;32m    324\u001b[0m     \u001b[0;32mdef\u001b[0m \u001b[0mget\u001b[0m\u001b[0;34m(\u001b[0m\u001b[0mself\u001b[0m\u001b[0;34m)\u001b[0m\u001b[0;34m:\u001b[0m\u001b[0;34m\u001b[0m\u001b[0m\n",
      "\u001b[0;32m//anaconda/lib/python2.7/site-packages/sklearn/externals/joblib/parallel.pyc\u001b[0m in \u001b[0;36m__call__\u001b[0;34m(self)\u001b[0m\n\u001b[1;32m    129\u001b[0m \u001b[0;34m\u001b[0m\u001b[0m\n\u001b[1;32m    130\u001b[0m     \u001b[0;32mdef\u001b[0m \u001b[0m__call__\u001b[0m\u001b[0;34m(\u001b[0m\u001b[0mself\u001b[0m\u001b[0;34m)\u001b[0m\u001b[0;34m:\u001b[0m\u001b[0;34m\u001b[0m\u001b[0m\n\u001b[0;32m--> 131\u001b[0;31m         \u001b[0;32mreturn\u001b[0m \u001b[0;34m[\u001b[0m\u001b[0mfunc\u001b[0m\u001b[0;34m(\u001b[0m\u001b[0;34m*\u001b[0m\u001b[0margs\u001b[0m\u001b[0;34m,\u001b[0m \u001b[0;34m**\u001b[0m\u001b[0mkwargs\u001b[0m\u001b[0;34m)\u001b[0m \u001b[0;32mfor\u001b[0m \u001b[0mfunc\u001b[0m\u001b[0;34m,\u001b[0m \u001b[0margs\u001b[0m\u001b[0;34m,\u001b[0m \u001b[0mkwargs\u001b[0m \u001b[0;32min\u001b[0m \u001b[0mself\u001b[0m\u001b[0;34m.\u001b[0m\u001b[0mitems\u001b[0m\u001b[0;34m]\u001b[0m\u001b[0;34m\u001b[0m\u001b[0m\n\u001b[0m\u001b[1;32m    132\u001b[0m \u001b[0;34m\u001b[0m\u001b[0m\n\u001b[1;32m    133\u001b[0m     \u001b[0;32mdef\u001b[0m \u001b[0m__len__\u001b[0m\u001b[0;34m(\u001b[0m\u001b[0mself\u001b[0m\u001b[0;34m)\u001b[0m\u001b[0;34m:\u001b[0m\u001b[0;34m\u001b[0m\u001b[0m\n",
      "\u001b[0;32m//anaconda/lib/python2.7/site-packages/sklearn/cross_validation.pyc\u001b[0m in \u001b[0;36m_fit_and_score\u001b[0;34m(estimator, X, y, scorer, train, test, verbose, parameters, fit_params, return_train_score, return_parameters, error_score)\u001b[0m\n\u001b[1;32m   1611\u001b[0m             \u001b[0mestimator\u001b[0m\u001b[0;34m.\u001b[0m\u001b[0mfit\u001b[0m\u001b[0;34m(\u001b[0m\u001b[0mX_train\u001b[0m\u001b[0;34m,\u001b[0m \u001b[0;34m**\u001b[0m\u001b[0mfit_params\u001b[0m\u001b[0;34m)\u001b[0m\u001b[0;34m\u001b[0m\u001b[0m\n\u001b[1;32m   1612\u001b[0m         \u001b[0;32melse\u001b[0m\u001b[0;34m:\u001b[0m\u001b[0;34m\u001b[0m\u001b[0m\n\u001b[0;32m-> 1613\u001b[0;31m             \u001b[0mestimator\u001b[0m\u001b[0;34m.\u001b[0m\u001b[0mfit\u001b[0m\u001b[0;34m(\u001b[0m\u001b[0mX_train\u001b[0m\u001b[0;34m,\u001b[0m \u001b[0my_train\u001b[0m\u001b[0;34m,\u001b[0m \u001b[0;34m**\u001b[0m\u001b[0mfit_params\u001b[0m\u001b[0;34m)\u001b[0m\u001b[0;34m\u001b[0m\u001b[0m\n\u001b[0m\u001b[1;32m   1614\u001b[0m \u001b[0;34m\u001b[0m\u001b[0m\n\u001b[1;32m   1615\u001b[0m     \u001b[0;32mexcept\u001b[0m \u001b[0mException\u001b[0m \u001b[0;32mas\u001b[0m \u001b[0me\u001b[0m\u001b[0;34m:\u001b[0m\u001b[0;34m\u001b[0m\u001b[0m\n",
      "\u001b[0;32m//anaconda/lib/python2.7/site-packages/sklearn/linear_model/logistic.pyc\u001b[0m in \u001b[0;36mfit\u001b[0;34m(self, X, y, sample_weight)\u001b[0m\n\u001b[1;32m   1240\u001b[0m                       \u001b[0mmax_squared_sum\u001b[0m\u001b[0;34m=\u001b[0m\u001b[0mmax_squared_sum\u001b[0m\u001b[0;34m,\u001b[0m\u001b[0;34m\u001b[0m\u001b[0m\n\u001b[1;32m   1241\u001b[0m                       sample_weight=sample_weight)\n\u001b[0;32m-> 1242\u001b[0;31m             for (class_, warm_start_coef_) in zip(classes_, warm_start_coef))\n\u001b[0m\u001b[1;32m   1243\u001b[0m \u001b[0;34m\u001b[0m\u001b[0m\n\u001b[1;32m   1244\u001b[0m         \u001b[0mfold_coefs_\u001b[0m\u001b[0;34m,\u001b[0m \u001b[0m_\u001b[0m\u001b[0;34m,\u001b[0m \u001b[0mn_iter_\u001b[0m \u001b[0;34m=\u001b[0m \u001b[0mzip\u001b[0m\u001b[0;34m(\u001b[0m\u001b[0;34m*\u001b[0m\u001b[0mfold_coefs_\u001b[0m\u001b[0;34m)\u001b[0m\u001b[0;34m\u001b[0m\u001b[0m\n",
      "\u001b[0;32m//anaconda/lib/python2.7/site-packages/sklearn/externals/joblib/parallel.pyc\u001b[0m in \u001b[0;36m__call__\u001b[0;34m(self, iterable)\u001b[0m\n\u001b[1;32m    756\u001b[0m             \u001b[0;31m# was dispatched. In particular this covers the edge\u001b[0m\u001b[0;34m\u001b[0m\u001b[0;34m\u001b[0m\u001b[0m\n\u001b[1;32m    757\u001b[0m             \u001b[0;31m# case of Parallel used with an exhausted iterator.\u001b[0m\u001b[0;34m\u001b[0m\u001b[0;34m\u001b[0m\u001b[0m\n\u001b[0;32m--> 758\u001b[0;31m             \u001b[0;32mwhile\u001b[0m \u001b[0mself\u001b[0m\u001b[0;34m.\u001b[0m\u001b[0mdispatch_one_batch\u001b[0m\u001b[0;34m(\u001b[0m\u001b[0miterator\u001b[0m\u001b[0;34m)\u001b[0m\u001b[0;34m:\u001b[0m\u001b[0;34m\u001b[0m\u001b[0m\n\u001b[0m\u001b[1;32m    759\u001b[0m                 \u001b[0mself\u001b[0m\u001b[0;34m.\u001b[0m\u001b[0m_iterating\u001b[0m \u001b[0;34m=\u001b[0m \u001b[0mTrue\u001b[0m\u001b[0;34m\u001b[0m\u001b[0m\n\u001b[1;32m    760\u001b[0m             \u001b[0;32melse\u001b[0m\u001b[0;34m:\u001b[0m\u001b[0;34m\u001b[0m\u001b[0m\n",
      "\u001b[0;32m//anaconda/lib/python2.7/site-packages/sklearn/externals/joblib/parallel.pyc\u001b[0m in \u001b[0;36mdispatch_one_batch\u001b[0;34m(self, iterator)\u001b[0m\n\u001b[1;32m    606\u001b[0m                 \u001b[0;32mreturn\u001b[0m \u001b[0mFalse\u001b[0m\u001b[0;34m\u001b[0m\u001b[0m\n\u001b[1;32m    607\u001b[0m             \u001b[0;32melse\u001b[0m\u001b[0;34m:\u001b[0m\u001b[0;34m\u001b[0m\u001b[0m\n\u001b[0;32m--> 608\u001b[0;31m                 \u001b[0mself\u001b[0m\u001b[0;34m.\u001b[0m\u001b[0m_dispatch\u001b[0m\u001b[0;34m(\u001b[0m\u001b[0mtasks\u001b[0m\u001b[0;34m)\u001b[0m\u001b[0;34m\u001b[0m\u001b[0m\n\u001b[0m\u001b[1;32m    609\u001b[0m                 \u001b[0;32mreturn\u001b[0m \u001b[0mTrue\u001b[0m\u001b[0;34m\u001b[0m\u001b[0m\n\u001b[1;32m    610\u001b[0m \u001b[0;34m\u001b[0m\u001b[0m\n",
      "\u001b[0;32m//anaconda/lib/python2.7/site-packages/sklearn/externals/joblib/parallel.pyc\u001b[0m in \u001b[0;36m_dispatch\u001b[0;34m(self, batch)\u001b[0m\n\u001b[1;32m    569\u001b[0m         \u001b[0mdispatch_timestamp\u001b[0m \u001b[0;34m=\u001b[0m \u001b[0mtime\u001b[0m\u001b[0;34m.\u001b[0m\u001b[0mtime\u001b[0m\u001b[0;34m(\u001b[0m\u001b[0;34m)\u001b[0m\u001b[0;34m\u001b[0m\u001b[0m\n\u001b[1;32m    570\u001b[0m         \u001b[0mcb\u001b[0m \u001b[0;34m=\u001b[0m \u001b[0mBatchCompletionCallBack\u001b[0m\u001b[0;34m(\u001b[0m\u001b[0mdispatch_timestamp\u001b[0m\u001b[0;34m,\u001b[0m \u001b[0mlen\u001b[0m\u001b[0;34m(\u001b[0m\u001b[0mbatch\u001b[0m\u001b[0;34m)\u001b[0m\u001b[0;34m,\u001b[0m \u001b[0mself\u001b[0m\u001b[0;34m)\u001b[0m\u001b[0;34m\u001b[0m\u001b[0m\n\u001b[0;32m--> 571\u001b[0;31m         \u001b[0mjob\u001b[0m \u001b[0;34m=\u001b[0m \u001b[0mself\u001b[0m\u001b[0;34m.\u001b[0m\u001b[0m_backend\u001b[0m\u001b[0;34m.\u001b[0m\u001b[0mapply_async\u001b[0m\u001b[0;34m(\u001b[0m\u001b[0mbatch\u001b[0m\u001b[0;34m,\u001b[0m \u001b[0mcallback\u001b[0m\u001b[0;34m=\u001b[0m\u001b[0mcb\u001b[0m\u001b[0;34m)\u001b[0m\u001b[0;34m\u001b[0m\u001b[0m\n\u001b[0m\u001b[1;32m    572\u001b[0m         \u001b[0mself\u001b[0m\u001b[0;34m.\u001b[0m\u001b[0m_jobs\u001b[0m\u001b[0;34m.\u001b[0m\u001b[0mappend\u001b[0m\u001b[0;34m(\u001b[0m\u001b[0mjob\u001b[0m\u001b[0;34m)\u001b[0m\u001b[0;34m\u001b[0m\u001b[0m\n\u001b[1;32m    573\u001b[0m \u001b[0;34m\u001b[0m\u001b[0m\n",
      "\u001b[0;32m//anaconda/lib/python2.7/site-packages/sklearn/externals/joblib/_parallel_backends.pyc\u001b[0m in \u001b[0;36mapply_async\u001b[0;34m(self, func, callback)\u001b[0m\n\u001b[1;32m    107\u001b[0m     \u001b[0;32mdef\u001b[0m \u001b[0mapply_async\u001b[0m\u001b[0;34m(\u001b[0m\u001b[0mself\u001b[0m\u001b[0;34m,\u001b[0m \u001b[0mfunc\u001b[0m\u001b[0;34m,\u001b[0m \u001b[0mcallback\u001b[0m\u001b[0;34m=\u001b[0m\u001b[0mNone\u001b[0m\u001b[0;34m)\u001b[0m\u001b[0;34m:\u001b[0m\u001b[0;34m\u001b[0m\u001b[0m\n\u001b[1;32m    108\u001b[0m         \u001b[0;34m\"\"\"Schedule a func to be run\"\"\"\u001b[0m\u001b[0;34m\u001b[0m\u001b[0m\n\u001b[0;32m--> 109\u001b[0;31m         \u001b[0mresult\u001b[0m \u001b[0;34m=\u001b[0m \u001b[0mImmediateResult\u001b[0m\u001b[0;34m(\u001b[0m\u001b[0mfunc\u001b[0m\u001b[0;34m)\u001b[0m\u001b[0;34m\u001b[0m\u001b[0m\n\u001b[0m\u001b[1;32m    110\u001b[0m         \u001b[0;32mif\u001b[0m \u001b[0mcallback\u001b[0m\u001b[0;34m:\u001b[0m\u001b[0;34m\u001b[0m\u001b[0m\n\u001b[1;32m    111\u001b[0m             \u001b[0mcallback\u001b[0m\u001b[0;34m(\u001b[0m\u001b[0mresult\u001b[0m\u001b[0;34m)\u001b[0m\u001b[0;34m\u001b[0m\u001b[0m\n",
      "\u001b[0;32m//anaconda/lib/python2.7/site-packages/sklearn/externals/joblib/_parallel_backends.pyc\u001b[0m in \u001b[0;36m__init__\u001b[0;34m(self, batch)\u001b[0m\n\u001b[1;32m    320\u001b[0m         \u001b[0;31m# Don't delay the application, to avoid keeping the input\u001b[0m\u001b[0;34m\u001b[0m\u001b[0;34m\u001b[0m\u001b[0m\n\u001b[1;32m    321\u001b[0m         \u001b[0;31m# arguments in memory\u001b[0m\u001b[0;34m\u001b[0m\u001b[0;34m\u001b[0m\u001b[0m\n\u001b[0;32m--> 322\u001b[0;31m         \u001b[0mself\u001b[0m\u001b[0;34m.\u001b[0m\u001b[0mresults\u001b[0m \u001b[0;34m=\u001b[0m \u001b[0mbatch\u001b[0m\u001b[0;34m(\u001b[0m\u001b[0;34m)\u001b[0m\u001b[0;34m\u001b[0m\u001b[0m\n\u001b[0m\u001b[1;32m    323\u001b[0m \u001b[0;34m\u001b[0m\u001b[0m\n\u001b[1;32m    324\u001b[0m     \u001b[0;32mdef\u001b[0m \u001b[0mget\u001b[0m\u001b[0;34m(\u001b[0m\u001b[0mself\u001b[0m\u001b[0;34m)\u001b[0m\u001b[0;34m:\u001b[0m\u001b[0;34m\u001b[0m\u001b[0m\n",
      "\u001b[0;32m//anaconda/lib/python2.7/site-packages/sklearn/externals/joblib/parallel.pyc\u001b[0m in \u001b[0;36m__call__\u001b[0;34m(self)\u001b[0m\n\u001b[1;32m    129\u001b[0m \u001b[0;34m\u001b[0m\u001b[0m\n\u001b[1;32m    130\u001b[0m     \u001b[0;32mdef\u001b[0m \u001b[0m__call__\u001b[0m\u001b[0;34m(\u001b[0m\u001b[0mself\u001b[0m\u001b[0;34m)\u001b[0m\u001b[0;34m:\u001b[0m\u001b[0;34m\u001b[0m\u001b[0m\n\u001b[0;32m--> 131\u001b[0;31m         \u001b[0;32mreturn\u001b[0m \u001b[0;34m[\u001b[0m\u001b[0mfunc\u001b[0m\u001b[0;34m(\u001b[0m\u001b[0;34m*\u001b[0m\u001b[0margs\u001b[0m\u001b[0;34m,\u001b[0m \u001b[0;34m**\u001b[0m\u001b[0mkwargs\u001b[0m\u001b[0;34m)\u001b[0m \u001b[0;32mfor\u001b[0m \u001b[0mfunc\u001b[0m\u001b[0;34m,\u001b[0m \u001b[0margs\u001b[0m\u001b[0;34m,\u001b[0m \u001b[0mkwargs\u001b[0m \u001b[0;32min\u001b[0m \u001b[0mself\u001b[0m\u001b[0;34m.\u001b[0m\u001b[0mitems\u001b[0m\u001b[0;34m]\u001b[0m\u001b[0;34m\u001b[0m\u001b[0m\n\u001b[0m\u001b[1;32m    132\u001b[0m \u001b[0;34m\u001b[0m\u001b[0m\n\u001b[1;32m    133\u001b[0m     \u001b[0;32mdef\u001b[0m \u001b[0m__len__\u001b[0m\u001b[0;34m(\u001b[0m\u001b[0mself\u001b[0m\u001b[0;34m)\u001b[0m\u001b[0;34m:\u001b[0m\u001b[0;34m\u001b[0m\u001b[0m\n",
      "\u001b[0;32m//anaconda/lib/python2.7/site-packages/sklearn/linear_model/logistic.pyc\u001b[0m in \u001b[0;36mlogistic_regression_path\u001b[0;34m(X, y, pos_class, Cs, fit_intercept, max_iter, tol, verbose, solver, coef, copy, class_weight, dual, penalty, intercept_scaling, multi_class, random_state, check_input, max_squared_sum, sample_weight)\u001b[0m\n\u001b[1;32m    709\u001b[0m                     \u001b[0mfunc\u001b[0m\u001b[0;34m,\u001b[0m \u001b[0mw0\u001b[0m\u001b[0;34m,\u001b[0m \u001b[0mfprime\u001b[0m\u001b[0;34m=\u001b[0m\u001b[0mNone\u001b[0m\u001b[0;34m,\u001b[0m\u001b[0;34m\u001b[0m\u001b[0m\n\u001b[1;32m    710\u001b[0m                     \u001b[0margs\u001b[0m\u001b[0;34m=\u001b[0m\u001b[0;34m(\u001b[0m\u001b[0mX\u001b[0m\u001b[0;34m,\u001b[0m \u001b[0mtarget\u001b[0m\u001b[0;34m,\u001b[0m \u001b[0;36m1.\u001b[0m \u001b[0;34m/\u001b[0m \u001b[0mC\u001b[0m\u001b[0;34m,\u001b[0m \u001b[0msample_weight\u001b[0m\u001b[0;34m)\u001b[0m\u001b[0;34m,\u001b[0m\u001b[0;34m\u001b[0m\u001b[0m\n\u001b[0;32m--> 711\u001b[0;31m                     iprint=(verbose > 0) - 1, pgtol=tol, maxiter=max_iter)\n\u001b[0m\u001b[1;32m    712\u001b[0m             \u001b[0;32mexcept\u001b[0m \u001b[0mTypeError\u001b[0m\u001b[0;34m:\u001b[0m\u001b[0;34m\u001b[0m\u001b[0m\n\u001b[1;32m    713\u001b[0m                 \u001b[0;31m# old scipy doesn't have maxiter\u001b[0m\u001b[0;34m\u001b[0m\u001b[0;34m\u001b[0m\u001b[0m\n",
      "\u001b[0;32m//anaconda/lib/python2.7/site-packages/scipy/optimize/lbfgsb.pyc\u001b[0m in \u001b[0;36mfmin_l_bfgs_b\u001b[0;34m(func, x0, fprime, args, approx_grad, bounds, m, factr, pgtol, epsilon, iprint, maxfun, maxiter, disp, callback, maxls)\u001b[0m\n\u001b[1;32m    191\u001b[0m \u001b[0;34m\u001b[0m\u001b[0m\n\u001b[1;32m    192\u001b[0m     res = _minimize_lbfgsb(fun, x0, args=args, jac=jac, bounds=bounds,\n\u001b[0;32m--> 193\u001b[0;31m                            **opts)\n\u001b[0m\u001b[1;32m    194\u001b[0m     d = {'grad': res['jac'],\n\u001b[1;32m    195\u001b[0m          \u001b[0;34m'task'\u001b[0m\u001b[0;34m:\u001b[0m \u001b[0mres\u001b[0m\u001b[0;34m[\u001b[0m\u001b[0;34m'message'\u001b[0m\u001b[0;34m]\u001b[0m\u001b[0;34m,\u001b[0m\u001b[0;34m\u001b[0m\u001b[0m\n",
      "\u001b[0;32m//anaconda/lib/python2.7/site-packages/scipy/optimize/lbfgsb.pyc\u001b[0m in \u001b[0;36m_minimize_lbfgsb\u001b[0;34m(fun, x0, args, jac, bounds, disp, maxcor, ftol, gtol, eps, maxfun, maxiter, iprint, callback, maxls, **unknown_options)\u001b[0m\n\u001b[1;32m    326\u001b[0m             \u001b[0;31m# until the completion of the current minimization iteration.\u001b[0m\u001b[0;34m\u001b[0m\u001b[0;34m\u001b[0m\u001b[0m\n\u001b[1;32m    327\u001b[0m             \u001b[0;31m# Overwrite f and g:\u001b[0m\u001b[0;34m\u001b[0m\u001b[0;34m\u001b[0m\u001b[0m\n\u001b[0;32m--> 328\u001b[0;31m             \u001b[0mf\u001b[0m\u001b[0;34m,\u001b[0m \u001b[0mg\u001b[0m \u001b[0;34m=\u001b[0m \u001b[0mfunc_and_grad\u001b[0m\u001b[0;34m(\u001b[0m\u001b[0mx\u001b[0m\u001b[0;34m)\u001b[0m\u001b[0;34m\u001b[0m\u001b[0m\n\u001b[0m\u001b[1;32m    329\u001b[0m         \u001b[0;32melif\u001b[0m \u001b[0mtask_str\u001b[0m\u001b[0;34m.\u001b[0m\u001b[0mstartswith\u001b[0m\u001b[0;34m(\u001b[0m\u001b[0;34mb'NEW_X'\u001b[0m\u001b[0;34m)\u001b[0m\u001b[0;34m:\u001b[0m\u001b[0;34m\u001b[0m\u001b[0m\n\u001b[1;32m    330\u001b[0m             \u001b[0;31m# new iteration\u001b[0m\u001b[0;34m\u001b[0m\u001b[0;34m\u001b[0m\u001b[0m\n",
      "\u001b[0;32m//anaconda/lib/python2.7/site-packages/scipy/optimize/lbfgsb.pyc\u001b[0m in \u001b[0;36mfunc_and_grad\u001b[0;34m(x)\u001b[0m\n\u001b[1;32m    276\u001b[0m     \u001b[0;32melse\u001b[0m\u001b[0;34m:\u001b[0m\u001b[0;34m\u001b[0m\u001b[0m\n\u001b[1;32m    277\u001b[0m         \u001b[0;32mdef\u001b[0m \u001b[0mfunc_and_grad\u001b[0m\u001b[0;34m(\u001b[0m\u001b[0mx\u001b[0m\u001b[0;34m)\u001b[0m\u001b[0;34m:\u001b[0m\u001b[0;34m\u001b[0m\u001b[0m\n\u001b[0;32m--> 278\u001b[0;31m             \u001b[0mf\u001b[0m \u001b[0;34m=\u001b[0m \u001b[0mfun\u001b[0m\u001b[0;34m(\u001b[0m\u001b[0mx\u001b[0m\u001b[0;34m,\u001b[0m \u001b[0;34m*\u001b[0m\u001b[0margs\u001b[0m\u001b[0;34m)\u001b[0m\u001b[0;34m\u001b[0m\u001b[0m\n\u001b[0m\u001b[1;32m    279\u001b[0m             \u001b[0mg\u001b[0m \u001b[0;34m=\u001b[0m \u001b[0mjac\u001b[0m\u001b[0;34m(\u001b[0m\u001b[0mx\u001b[0m\u001b[0;34m,\u001b[0m \u001b[0;34m*\u001b[0m\u001b[0margs\u001b[0m\u001b[0;34m)\u001b[0m\u001b[0;34m\u001b[0m\u001b[0m\n\u001b[1;32m    280\u001b[0m             \u001b[0;32mreturn\u001b[0m \u001b[0mf\u001b[0m\u001b[0;34m,\u001b[0m \u001b[0mg\u001b[0m\u001b[0;34m\u001b[0m\u001b[0m\n",
      "\u001b[0;32m//anaconda/lib/python2.7/site-packages/scipy/optimize/optimize.pyc\u001b[0m in \u001b[0;36mfunction_wrapper\u001b[0;34m(*wrapper_args)\u001b[0m\n\u001b[1;32m    290\u001b[0m     \u001b[0;32mdef\u001b[0m \u001b[0mfunction_wrapper\u001b[0m\u001b[0;34m(\u001b[0m\u001b[0;34m*\u001b[0m\u001b[0mwrapper_args\u001b[0m\u001b[0;34m)\u001b[0m\u001b[0;34m:\u001b[0m\u001b[0;34m\u001b[0m\u001b[0m\n\u001b[1;32m    291\u001b[0m         \u001b[0mncalls\u001b[0m\u001b[0;34m[\u001b[0m\u001b[0;36m0\u001b[0m\u001b[0;34m]\u001b[0m \u001b[0;34m+=\u001b[0m \u001b[0;36m1\u001b[0m\u001b[0;34m\u001b[0m\u001b[0m\n\u001b[0;32m--> 292\u001b[0;31m         \u001b[0;32mreturn\u001b[0m \u001b[0mfunction\u001b[0m\u001b[0;34m(\u001b[0m\u001b[0;34m*\u001b[0m\u001b[0;34m(\u001b[0m\u001b[0mwrapper_args\u001b[0m \u001b[0;34m+\u001b[0m \u001b[0margs\u001b[0m\u001b[0;34m)\u001b[0m\u001b[0;34m)\u001b[0m\u001b[0;34m\u001b[0m\u001b[0m\n\u001b[0m\u001b[1;32m    293\u001b[0m \u001b[0;34m\u001b[0m\u001b[0m\n\u001b[1;32m    294\u001b[0m     \u001b[0;32mreturn\u001b[0m \u001b[0mncalls\u001b[0m\u001b[0;34m,\u001b[0m \u001b[0mfunction_wrapper\u001b[0m\u001b[0;34m\u001b[0m\u001b[0m\n",
      "\u001b[0;32m//anaconda/lib/python2.7/site-packages/scipy/optimize/optimize.pyc\u001b[0m in \u001b[0;36m__call__\u001b[0;34m(self, x, *args)\u001b[0m\n\u001b[1;32m     61\u001b[0m     \u001b[0;32mdef\u001b[0m \u001b[0m__call__\u001b[0m\u001b[0;34m(\u001b[0m\u001b[0mself\u001b[0m\u001b[0;34m,\u001b[0m \u001b[0mx\u001b[0m\u001b[0;34m,\u001b[0m \u001b[0;34m*\u001b[0m\u001b[0margs\u001b[0m\u001b[0;34m)\u001b[0m\u001b[0;34m:\u001b[0m\u001b[0;34m\u001b[0m\u001b[0m\n\u001b[1;32m     62\u001b[0m         \u001b[0mself\u001b[0m\u001b[0;34m.\u001b[0m\u001b[0mx\u001b[0m \u001b[0;34m=\u001b[0m \u001b[0mnumpy\u001b[0m\u001b[0;34m.\u001b[0m\u001b[0masarray\u001b[0m\u001b[0;34m(\u001b[0m\u001b[0mx\u001b[0m\u001b[0;34m)\u001b[0m\u001b[0;34m.\u001b[0m\u001b[0mcopy\u001b[0m\u001b[0;34m(\u001b[0m\u001b[0;34m)\u001b[0m\u001b[0;34m\u001b[0m\u001b[0m\n\u001b[0;32m---> 63\u001b[0;31m         \u001b[0mfg\u001b[0m \u001b[0;34m=\u001b[0m \u001b[0mself\u001b[0m\u001b[0;34m.\u001b[0m\u001b[0mfun\u001b[0m\u001b[0;34m(\u001b[0m\u001b[0mx\u001b[0m\u001b[0;34m,\u001b[0m \u001b[0;34m*\u001b[0m\u001b[0margs\u001b[0m\u001b[0;34m)\u001b[0m\u001b[0;34m\u001b[0m\u001b[0m\n\u001b[0m\u001b[1;32m     64\u001b[0m         \u001b[0mself\u001b[0m\u001b[0;34m.\u001b[0m\u001b[0mjac\u001b[0m \u001b[0;34m=\u001b[0m \u001b[0mfg\u001b[0m\u001b[0;34m[\u001b[0m\u001b[0;36m1\u001b[0m\u001b[0;34m]\u001b[0m\u001b[0;34m\u001b[0m\u001b[0m\n\u001b[1;32m     65\u001b[0m         \u001b[0;32mreturn\u001b[0m \u001b[0mfg\u001b[0m\u001b[0;34m[\u001b[0m\u001b[0;36m0\u001b[0m\u001b[0;34m]\u001b[0m\u001b[0;34m\u001b[0m\u001b[0m\n",
      "\u001b[0;32m//anaconda/lib/python2.7/site-packages/sklearn/linear_model/logistic.pyc\u001b[0m in \u001b[0;36m_logistic_loss_and_grad\u001b[0;34m(w, X, y, alpha, sample_weight)\u001b[0m\n\u001b[1;32m    116\u001b[0m \u001b[0;34m\u001b[0m\u001b[0m\n\u001b[1;32m    117\u001b[0m     \u001b[0;31m# Logistic loss is the negative of the log of the logistic function.\u001b[0m\u001b[0;34m\u001b[0m\u001b[0;34m\u001b[0m\u001b[0m\n\u001b[0;32m--> 118\u001b[0;31m     \u001b[0mout\u001b[0m \u001b[0;34m=\u001b[0m \u001b[0;34m-\u001b[0m\u001b[0mnp\u001b[0m\u001b[0;34m.\u001b[0m\u001b[0msum\u001b[0m\u001b[0;34m(\u001b[0m\u001b[0msample_weight\u001b[0m \u001b[0;34m*\u001b[0m \u001b[0mlog_logistic\u001b[0m\u001b[0;34m(\u001b[0m\u001b[0myz\u001b[0m\u001b[0;34m)\u001b[0m\u001b[0;34m)\u001b[0m \u001b[0;34m+\u001b[0m \u001b[0;36m.5\u001b[0m \u001b[0;34m*\u001b[0m \u001b[0malpha\u001b[0m \u001b[0;34m*\u001b[0m \u001b[0mnp\u001b[0m\u001b[0;34m.\u001b[0m\u001b[0mdot\u001b[0m\u001b[0;34m(\u001b[0m\u001b[0mw\u001b[0m\u001b[0;34m,\u001b[0m \u001b[0mw\u001b[0m\u001b[0;34m)\u001b[0m\u001b[0;34m\u001b[0m\u001b[0m\n\u001b[0m\u001b[1;32m    119\u001b[0m \u001b[0;34m\u001b[0m\u001b[0m\n\u001b[1;32m    120\u001b[0m     \u001b[0mz\u001b[0m \u001b[0;34m=\u001b[0m \u001b[0mexpit\u001b[0m\u001b[0;34m(\u001b[0m\u001b[0myz\u001b[0m\u001b[0;34m)\u001b[0m\u001b[0;34m\u001b[0m\u001b[0m\n",
      "\u001b[0;32m//anaconda/lib/python2.7/site-packages/sklearn/utils/extmath.pyc\u001b[0m in \u001b[0;36mlog_logistic\u001b[0;34m(X, out)\u001b[0m\n\u001b[1;32m    681\u001b[0m         \u001b[0mout\u001b[0m \u001b[0;34m=\u001b[0m \u001b[0mnp\u001b[0m\u001b[0;34m.\u001b[0m\u001b[0mempty_like\u001b[0m\u001b[0;34m(\u001b[0m\u001b[0mX\u001b[0m\u001b[0;34m)\u001b[0m\u001b[0;34m\u001b[0m\u001b[0m\n\u001b[1;32m    682\u001b[0m \u001b[0;34m\u001b[0m\u001b[0m\n\u001b[0;32m--> 683\u001b[0;31m     \u001b[0m_log_logistic_sigmoid\u001b[0m\u001b[0;34m(\u001b[0m\u001b[0mn_samples\u001b[0m\u001b[0;34m,\u001b[0m \u001b[0mn_features\u001b[0m\u001b[0;34m,\u001b[0m \u001b[0mX\u001b[0m\u001b[0;34m,\u001b[0m \u001b[0mout\u001b[0m\u001b[0;34m)\u001b[0m\u001b[0;34m\u001b[0m\u001b[0m\n\u001b[0m\u001b[1;32m    684\u001b[0m \u001b[0;34m\u001b[0m\u001b[0m\n\u001b[1;32m    685\u001b[0m     \u001b[0;32mif\u001b[0m \u001b[0mis_1d\u001b[0m\u001b[0;34m:\u001b[0m\u001b[0;34m\u001b[0m\u001b[0m\n",
      "\u001b[0;31mKeyboardInterrupt\u001b[0m: "
     ]
    }
   ],
   "source": [
    "random=1\n",
    "bestx0=0.\n",
    "bestx1=0.\n",
    "bestx2=0.\n",
    "bestf1=0.\n",
    "\n",
    "\n",
    "\n",
    "for x0_change in  np.linspace(-1.5,-1,5):\n",
    "    for x1_change in np.linspace(.9,1.5,6):\n",
    "        for x2_change in np.linspace(-3,-1.5,7):\n",
    "            x_train,x_test,y_train,y_test=train_test_split(df2,df1,test_size=.35,stratify=df1,random_state=random)\n",
    "            logreg = LogisticRegression(solver='lbfgs') #'newton-cg', 'lbfgs', 'liblinear', 'sag'\n",
    "            C_vals = np.linspace(1,1001,10)\n",
    "            penalties = ['l2']\n",
    "\n",
    "            gs = GridSearchCV(logreg, {'penalty': penalties, 'C': C_vals}, cv=2)\n",
    "            gs.fit(x_train, y_train)\n",
    "\n",
    "            logreg = LogisticRegression(C=gs.best_params_['C'], penalty=gs.best_params_['penalty'])\n",
    "            cv_model = logreg.fit(x_train, y_train)\n",
    "            cv_pred = cv_model.predict(x_test)\n",
    "\n",
    "            y_score = cv_model.decision_function(x_test) # Submit these response, the output of model.decision_function\n",
    "\n",
    "            i=0\n",
    "            pred=[]\n",
    "            for x in y_score:\n",
    "                if x[0]+x0_change>(x[1]+x1_change and x[2]+x2_change):\n",
    "                    pred.append(cv_model.classes_[0])\n",
    "                elif x[1]+x1_change>(x[0]+x0_change and x[2]+x2_change):\n",
    "                    pred.append(cv_model.classes_[1])\n",
    "                elif x[2]+x2_change>(x[1]+x1_change and x[0]+x0_change):\n",
    "                    pred.append(cv_model.classes_[2])\n",
    "                i+=1\n",
    "            cv_pred=pred\n",
    "\n",
    "            \"\"\" Check your performance so far.\"\"\"\n",
    "\n",
    "            conmat = np.array(confusion_matrix(y_test, cv_pred))\n",
    "            confusion = pd.DataFrame(conmat, index=cv_model.classes_, columns=cv_model.classes_)\n",
    "            \n",
    "            if float(classification_report(y_test,cv_pred)[-15:-11])>bestf1:\n",
    "                bestf1=float(classification_report(y_test,cv_pred)[-15:-11])\n",
    "                bestx0=x0_change\n",
    "                bestx1=x1_change\n",
    "                bestx2=x2_change\n",
    "                \n"
   ]
  },
  {
   "cell_type": "code",
   "execution_count": null,
   "metadata": {
    "ExecuteTime": {
     "end_time": "2016-10-19T09:15:11.912387",
     "start_time": "2016-10-19T13:12:17.242Z"
    },
    "collapsed": false
   },
   "outputs": [],
   "source": [
    "prec=[]\n",
    "recall=[]\n",
    "f1score=[]\n",
    "max_rand=6\n",
    "\n",
    "for random in range(1,max_rand):\n",
    "    x_train,x_test,y_train,y_test=train_test_split(df2,df1,test_size=.35,stratify=df1,random_state=random)\n",
    "    logreg = LogisticRegression(solver='lbfgs') #'newton-cg', 'lbfgs', 'liblinear', 'sag'\n",
    "    C_vals = np.linspace(1,1001,10)\n",
    "    penalties = ['l2']\n",
    "\n",
    "    gs = GridSearchCV(logreg, {'penalty': penalties, 'C': C_vals}, cv=3)\n",
    "    gs.fit(x_train, y_train)\n",
    "\n",
    "    logreg = LogisticRegression(C=gs.best_params_['C'], penalty=gs.best_params_['penalty'])\n",
    "    cv_model = logreg.fit(x_train, y_train)\n",
    "    cv_pred = cv_model.predict(x_test)\n",
    "\n",
    "    y_score = cv_model.decision_function(x_test) # Submit these response, the output of model.decision_function\n",
    "\n",
    "    i=0\n",
    "    pred=[]\n",
    "    x0_change=bestx0\n",
    "    x1_change=bestx1\n",
    "    x2_change=bestx2\n",
    "    for x in y_score:\n",
    "        if x[0]+x0_change>(x[1]+x1_change and x[2]+x2_change):\n",
    "            pred.append(cv_model.classes_[0])\n",
    "        elif x[1]+x1_change>(x[0]+x0_change and x[2]+x2_change):\n",
    "            pred.append(cv_model.classes_[1])\n",
    "        elif x[2]+x2_change>(x[1]+x1_change and x[0]+x0_change):\n",
    "            pred.append(cv_model.classes_[2])\n",
    "        i+=1\n",
    "    cv_pred=pred\n",
    "\n",
    "    \"\"\" Check your performance so far.\"\"\"\n",
    "\n",
    "    conmat = np.array(confusion_matrix(y_test, cv_pred))\n",
    "    confusion = pd.DataFrame(conmat, index=cv_model.classes_, columns=cv_model.classes_)      \n",
    "    \n",
    "    prec.append(float(classification_report(y_test,cv_pred)[-35:-31]))\n",
    "    recall.append(float(classification_report(y_test,cv_pred)[-25:-21]))\n",
    "    f1score.append(float(classification_report(y_test,cv_pred)[-15:-11]))\n",
    "\n",
    "print \"Best f1:  \",bestf1\n",
    "print \"Best x0:  \",bestx0\n",
    "print \"Best x1:  \",bestx1\n",
    "print \"Best x2:  \",bestx2\n",
    "\n",
    "\n",
    "#    \n",
    "print \"Number of bins:    \", bin_NUMBER\n",
    "print \"Random Iterations: \", max_rand-1\n",
    "print \n",
    "print \"Average Precision: \", np.mean(prec)\n",
    "print \"Average Recall:    \", np.mean(recall)\n",
    "print \"Average F1-Score:  \", np.mean(f1score)\n",
    "print \n",
    "print \"Variance Precision:\", np.var(prec)\n",
    "print \"Variance Recall:   \", np.var(recall)\n",
    "print \"Variance F1-Score: \", np.var(f1score)\n",
    "print \n",
    "\n",
    "print(confusion)\n",
    "print classification_report(y_test,cv_pred)\n",
    "#print cv_model.coef_"
   ]
  },
  {
   "cell_type": "markdown",
   "metadata": {},
   "source": [
    "The markdown cells below represent our trials on only Senior Data Scientist positions, but reflect upon how the model changes with subsequent changes in the input parameters. The best f1-score we obtained surprisingly did not use job dummy variables."
   ]
  },
  {
   "cell_type": "markdown",
   "metadata": {},
   "source": [
    "## BEST with Junior Jobs and no Job Dummies\n",
    "* Number of bins:    3\n",
    "* Average Precision: 0.756315789474\n",
    "* Average Recall:    0.754736842105\n",
    "* Average F1-Score:  0.751052631579\n",
    "\n",
    "## Best with No Junior Jobs and Job Dummies\n",
    "* Number of bins:    3\n",
    "* Average Precision:  0.755789473684\n",
    "* Average Recall:     0.754210526316\n",
    "* Average F1-Score:   0.75\n",
    "\n",
    "## Best with No Junior Jobs and no Job Dummies\n",
    "* Number of bins:    3\n",
    "* Average Precision:  0.756315789474\n",
    "* Average Recall:     0.754736842105\n",
    "* Average F1-Score:   0.751052631579"
   ]
  },
  {
   "cell_type": "markdown",
   "metadata": {},
   "source": [
    "## Standard Company Changes:\n",
    "* Number of bins:    3\n",
    "* Average Precision: 0.748947368421\n",
    "* Average Recall:    0.748947368421\n",
    "* Average F1-Score:  0.744736842105\n",
    "\n",
    "## With Private Company changes:\n",
    "* Number of bins:    3\n",
    "* Average Precision: 0.755789473684\n",
    "* Average Recall:    0.754210526316\n",
    "* Average F1-Score:  0.75\n",
    "\n",
    "## With PC changes and no Job Dummies:\n",
    "* Number of bins:    3\n",
    "* Average Precision: 0.756315789474\n",
    "* Average Recall:    0.754736842105\n",
    "* Average F1-Score:  0.751052631579"
   ]
  },
  {
   "cell_type": "markdown",
   "metadata": {},
   "source": [
    "## Standard Company Changes:\n",
    "* Number of bins:    3\n",
    "* Average Precision: 0.748947368421\n",
    "* Average Recall:    0.748947368421\n",
    "* Average F1-Score:  0.744736842105\n",
    "\n",
    "## With Private Company changes:\n",
    "* Number of bins:    3\n",
    "* Average Precision: 0.755789473684\n",
    "* Average Recall:    0.754210526316\n",
    "* Average F1-Score:  0.75\n",
    "\n",
    "## With Private Company changes and Sector-MarketCap Bin:\n",
    "* Number of bins:    3\n",
    "* Average Precision: 0.753157894737\n",
    "* Average Recall:    0.752105263158\n",
    "* Average F1-Score:  0.748421052632\n",
    "\n",
    "## With PC changes and no State Dummies:\n",
    "* Number of bins:    3\n",
    "* Average Precision: 0.723684210526\n",
    "* Average Recall:    0.726842105263\n",
    "* Average F1-Score:  0.72\n",
    "\n",
    "## With PC changes and no Region Dummies:\n",
    "* Number of bins:    3\n",
    "* Average Precision: 0.754210526316\n",
    "* Average Recall:    0.754210526316\n",
    "* Average F1-Score:  0.748421052632\n",
    "\n",
    "## With PC changes and no Job Dummies:\n",
    "* Number of bins:    3\n",
    "* Average Precision: 0.756315789474\n",
    "* Average Recall:    0.754736842105\n",
    "* Average F1-Score:  0.751052631579\n",
    "\n",
    "## With PC changes, no J D, and no MarketCap Dummies\n"
   ]
  },
  {
   "cell_type": "markdown",
   "metadata": {},
   "source": [
    "This is another regression on our input variables. It is of a different library, for added coefficient information.\n",
    "\n",
    "The x_train,y_train,... can be found just above the other regression graphs."
   ]
  },
  {
   "cell_type": "code",
   "execution_count": null,
   "metadata": {
    "ExecuteTime": {
     "end_time": "2016-10-19T09:15:11.912906",
     "start_time": "2016-10-19T13:12:17.246Z"
    },
    "collapsed": false,
    "scrolled": true
   },
   "outputs": [],
   "source": [
    "\"\"\" Fit a binary classification predictor.\"\"\"\n",
    "#Linear Regression\n",
    "xtr=x_train2\n",
    "xte=x_test2\n",
    "ytr=y_train2\n",
    "yte=y_test2\n",
    "\n",
    "xtr=np.array(xtr).reshape(len(xtr),len(x_train2.columns))\n",
    "xte=np.array(xte).reshape(len(xte),len(x_train2.columns))\n",
    "xtr2=sm.add_constant(xtr)\n",
    "model=sm.OLS(ytr,xtr).fit()\n",
    "\n",
    "xte2=sm.add_constant(xte)\n",
    "pred=model.predict(xte)\n",
    "\n",
    "plt.plot(pred,yte,'o')\n",
    "plt.plot(pred,pred,'-')\n",
    "plt.xlim(0,200000)\n",
    "plt.ylim(0,200000)\n",
    "plt.show()\n",
    "\n",
    "print model.summary()"
   ]
  },
  {
   "cell_type": "code",
   "execution_count": null,
   "metadata": {
    "ExecuteTime": {
     "end_time": "2016-10-19T09:15:11.913387",
     "start_time": "2016-10-19T13:12:17.249Z"
    },
    "collapsed": false,
    "scrolled": false
   },
   "outputs": [],
   "source": [
    "ridge=Ridge(alpha=10) #Ridge is .28269 at 230\n",
    "lasso=Lasso(alpha=0.5) #Lasso is 0.289105 at 2.01\n",
    "lr=LinearRegression() #Linear Regression is .2763265\n",
    "model=lasso.fit(x_train2,y_train2)\n",
    "pred=model.predict(x_test2)\n",
    "plt.scatter(pred,y_test2)\n",
    "plt.plot(pred,pred)\n",
    "plt.ylim(0,200000)\n",
    "plt.xlim(0,200000)\n",
    "plt.show()\n",
    "print model.score(x_test2, y_test2)\n",
    "print \"\\n\"\n",
    "coef=[]\n",
    "for x,y in zip(x_test2.columns,model.coef_):\n",
    "    coef.append([x,y])"
   ]
  },
  {
   "cell_type": "code",
   "execution_count": null,
   "metadata": {
    "ExecuteTime": {
     "end_time": "2016-10-19T09:15:11.913861",
     "start_time": "2016-10-19T13:12:17.251Z"
    },
    "collapsed": false
   },
   "outputs": [],
   "source": [
    "for j in range(len(logreg.classes_)):\n",
    "\n",
    "    FPR, TPR, _ = roc_curve(y_test, [i[j] for i in y_score], pos_label=logreg.classes_[j])\n",
    "    ROC_AUC = auc(FPR, TPR)\n",
    "\n",
    "    amounts = logreg.classes_[j].split('-')\n",
    "    title = 'Receiver operating characteristic for salary range \\${} to \\${}'.format(amounts[0], amounts[1])\n",
    "\n",
    "    plt.figure(figsize=[11,9])\n",
    "    plt.plot(FPR, TPR, label='ROC curve (area = %0.2f)' % ROC_AUC, linewidth=4)\n",
    "    plt.plot([0, 1], [0, 1], 'k--', linewidth=4)\n",
    "    plt.xlim([0.0, 1.0])\n",
    "    plt.ylim([0.0, 1.05])\n",
    "    plt.xlabel('False Positive Rate', fontsize=18)\n",
    "    plt.ylabel('True Positive Rate', fontsize=18)\n",
    "    plt.title(title, fontsize=18)\n",
    "    plt.legend(loc=\"lower right\")\n",
    "    plt.show()"
   ]
  },
  {
   "cell_type": "code",
   "execution_count": null,
   "metadata": {
    "collapsed": false
   },
   "outputs": [],
   "source": []
  },
  {
   "cell_type": "code",
   "execution_count": null,
   "metadata": {
    "collapsed": false
   },
   "outputs": [],
   "source": []
  },
  {
   "cell_type": "code",
   "execution_count": null,
   "metadata": {
    "collapsed": false
   },
   "outputs": [],
   "source": []
  },
  {
   "cell_type": "raw",
   "metadata": {
    "ExecuteTime": {
     "end_time": "2016-10-18T16:52:13.589281",
     "start_time": "2016-10-18T16:52:12.904011"
    },
    "collapsed": false
   },
   "source": [
    "##MAKE THIS PRETTIER; We will present with this\n",
    "\n",
    "average=np.mean(glass_door[\"100% Composite Index\"])\n",
    "#\\plt.hist(glass_door[\"Salary\"]/average,width=50)\n",
    "fig, ax = plt.subplots(figsize=(16,8));\n",
    "plt.hist(glass_door[\"Normalized Salary\"]*115,bins=30,alpha=1);\n",
    "plt.hist(glass_door[\"Salary\"],bins=30,alpha=0.4,color='white', edgecolor='black', lw=3);\n",
    "plt.title('Salaries vs Normalized Salaries', fontsize=20);\n",
    "plt.legend(['Salaries', 'Normalized Salaries'], fontsize=15);\n",
    "plt.xlabel('Amount', fontsize=15);\n",
    "plt.ylabel('Frequency', fontsize=15);"
   ]
  },
  {
   "cell_type": "code",
   "execution_count": null,
   "metadata": {
    "collapsed": false
   },
   "outputs": [],
   "source": []
  }
 ],
 "metadata": {
  "anaconda-cloud": {},
  "kernelspec": {
   "display_name": "Python 2",
   "language": "python",
   "name": "python2"
  },
  "language_info": {
   "codemirror_mode": {
    "name": "ipython",
    "version": 2
   },
   "file_extension": ".py",
   "mimetype": "text/x-python",
   "name": "python",
   "nbconvert_exporter": "python",
   "pygments_lexer": "ipython2",
   "version": "2.7.12"
  }
 },
 "nbformat": 4,
 "nbformat_minor": 1
}
