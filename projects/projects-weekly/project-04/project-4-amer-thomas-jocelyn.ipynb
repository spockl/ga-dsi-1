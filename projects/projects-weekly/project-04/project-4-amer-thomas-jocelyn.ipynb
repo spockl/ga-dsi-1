{
 "cells": [
  {
   "cell_type": "markdown",
   "metadata": {},
   "source": [
    "- Find out what factors most directly impact salaries (title, location, department, etc.). In this case, we do not want to predict mean salary as would be done in a regression. Your boss believes that salary is better represented in categories than continuously\n",
    "- Test, validate, and describe your models. What factors predict salary category? How do your models perform?\n",
    "- Prepare a presentation for your Principal detailing your analysis."
   ]
  },
  {
   "cell_type": "code",
   "execution_count": 1,
   "metadata": {
    "ExecuteTime": {
     "end_time": "2016-10-14T09:41:20.230809",
     "start_time": "2016-10-14T09:41:13.884409"
    },
    "collapsed": false
   },
   "outputs": [],
   "source": [
    "# Import relevant libraries\n",
    "import requests\n",
    "import numpy as np\n",
    "import pandas as pd\n",
    "import seaborn as sns\n",
    "import matplotlib.pyplot as plt\n",
    "from spacy import English\n",
    "from sklearn.feature_extraction.text import CountVectorizer, TfidfVectorizer\n",
    "from sklearn import linear_model\n",
    "from bs4 import BeautifulSoup\n",
    "from selenium import webdriver\n",
    "from selenium.webdriver.common.keys import Keys\n",
    "from IPython.core.display import HTML\n",
    "from __future__ import unicode_literals\n",
    "\n",
    "%matplotlib inline"
   ]
  },
  {
   "cell_type": "code",
   "execution_count": 2,
   "metadata": {
    "ExecuteTime": {
     "end_time": "2016-10-14T09:41:20.237622",
     "start_time": "2016-10-14T09:41:20.233076"
    },
    "collapsed": false
   },
   "outputs": [],
   "source": [
    "path_to_phantom = '//Applications/phantomjs'"
   ]
  },
  {
   "cell_type": "markdown",
   "metadata": {},
   "source": [
    "# Identify: Problem Statement / Aim"
   ]
  },
  {
   "cell_type": "markdown",
   "metadata": {},
   "source": [
    "Our aim is to determine the factors that result in higher salaries for a data scientist."
   ]
  },
  {
   "cell_type": "markdown",
   "metadata": {},
   "source": [
    "# Acquire: Import Data Using Requests + BeautifulSoup\n",
    "\n",
    "- Collect data on data science salary trends from a job listings aggregator for your analysis.\n",
    "- Select and parse data from at least ~1000 postings for jobs, potentially from multiple location searches."
   ]
  },
  {
   "cell_type": "code",
   "execution_count": 3,
   "metadata": {
    "ExecuteTime": {
     "end_time": "2016-10-14T09:41:21.324321",
     "start_time": "2016-10-14T09:41:20.241170"
    },
    "collapsed": false
   },
   "outputs": [],
   "source": [
    "# create a webdriver PhantomJS object\n",
    "driver = webdriver.PhantomJS(executable_path=path_to_phantom)\n",
    "driver.set_window_size(1024,768)"
   ]
  },
  {
   "cell_type": "code",
   "execution_count": 4,
   "metadata": {
    "ExecuteTime": {
     "end_time": "2016-10-14T09:41:21.333806",
     "start_time": "2016-10-14T09:41:21.327288"
    },
    "collapsed": false
   },
   "outputs": [],
   "source": [
    "# Indeed.com url formats\n",
    "# http://www.indeed.com/jobs?q=data+scientist&l=New+York&start=10&pp=\n",
    "# base - http://www.indeed.com/jobs?q=data+scientist&l=\n",
    "# location - City, separated by +\n",
    "# page 2 onwards - &start=10&pp=\n",
    "# full url - base+location+page\n",
    "\n",
    "url_top = 'http://www.indeed.com/jobs?q=data+scientist&l='\n",
    "location = ['New+York', 'Seattle', 'San+Francisco', 'Boston']"
   ]
  },
  {
   "cell_type": "code",
   "execution_count": 5,
   "metadata": {
    "ExecuteTime": {
     "end_time": "2016-10-14T09:41:21.368136",
     "start_time": "2016-10-14T09:41:21.337740"
    },
    "collapsed": false
   },
   "outputs": [],
   "source": [
    "# in the search results, each result is wrapped in a div class=' row result'\n",
    "\n",
    "# for all results we want to get back\n",
    "# company, span class='company'\n",
    "# jobtitle, link class='jobtitle'\n",
    "# location, span class='location'\n",
    "# summary, span class='summary'\n",
    "# salary, td class=\"snip\", nobr with a $\n",
    "# we need to account for missing data\n",
    "\n",
    "# write a function that can retrieve job title, company, location, summary, and salary for each result\n",
    "# if there are blanks, return '' for the first 4, and np.nan for salary\n",
    "def get_details(each_item):\n",
    "    try:\n",
    "        job_title = each_item.find('h2', class_='jobtitle').text.strip('\\n')\n",
    "    except:\n",
    "        job_title = ''\n",
    "        \n",
    "    try:\n",
    "        company = each_item.find('span', class_='company').text.strip()\n",
    "    except:\n",
    "        company = ''\n",
    "    \n",
    "    try:\n",
    "        location = each_item.find('span', class_='location').text.strip()\n",
    "    except:\n",
    "        location = ''\n",
    "    \n",
    "    try:\n",
    "        summary = each_item.find('span', class_='summary').text.strip()\n",
    "    except:\n",
    "        summary = ''\n",
    "        \n",
    "    try:\n",
    "        salary_text = each_item.find('td', class_='snip').find('nobr').text\n",
    "        salary_text = salary_text.split()\n",
    "        salary = float(salary_text[0].strip('$').replace(',',''))\n",
    "    except:\n",
    "        salary = np.nan\n",
    "    \n",
    "    return [job_title, company, location, summary, salary]"
   ]
  },
  {
   "cell_type": "code",
   "execution_count": 6,
   "metadata": {
    "ExecuteTime": {
     "end_time": "2016-10-14T09:41:21.377281",
     "start_time": "2016-10-14T09:41:21.371639"
    },
    "collapsed": false
   },
   "outputs": [],
   "source": [
    "entries_required = 1000\n",
    "entries_per_page = 9\n",
    "pages_required_per_loc = (entries_required / entries_per_page) / len(location)"
   ]
  },
  {
   "cell_type": "code",
   "execution_count": 7,
   "metadata": {
    "ExecuteTime": {
     "end_time": "2016-10-14T09:42:27.826671",
     "start_time": "2016-10-14T09:41:21.381484"
    },
    "collapsed": false
   },
   "outputs": [
    {
     "name": "stdout",
     "output_type": "stream",
     "text": [
      "done\n"
     ]
    }
   ],
   "source": [
    "data = []\n",
    "for x in location:\n",
    "    page = 1\n",
    "    while page < pages_required_per_loc+1:\n",
    "        full_url = url_top + x\n",
    "        if page != 1:\n",
    "            page_url = '&start=' + str((page-1)*10) + '&pp='\n",
    "            full_url = full_url + page_url\n",
    "        #print full_url\n",
    "        page += 1\n",
    "        driver.get(full_url)\n",
    "        soup = BeautifulSoup(driver.page_source, 'lxml')\n",
    "        for item in soup.findAll('div', class_=' row result'):\n",
    "            data.append(get_details(item))\n",
    "print 'done'"
   ]
  },
  {
   "cell_type": "code",
   "execution_count": 8,
   "metadata": {
    "ExecuteTime": {
     "end_time": "2016-10-14T09:42:27.837801",
     "start_time": "2016-10-14T09:42:27.829515"
    },
    "collapsed": false
   },
   "outputs": [],
   "source": [
    "df = pd.DataFrame(data, columns=['job_title', 'company', 'location','summary','salary'])"
   ]
  },
  {
   "cell_type": "code",
   "execution_count": 12,
   "metadata": {
    "ExecuteTime": {
     "end_time": "2016-10-14T09:43:55.407160",
     "start_time": "2016-10-14T09:43:55.366048"
    },
    "collapsed": false
   },
   "outputs": [
    {
     "data": {
      "text/html": [
       "<div>\n",
       "<table border=\"1\" class=\"dataframe\">\n",
       "  <thead>\n",
       "    <tr style=\"text-align: right;\">\n",
       "      <th></th>\n",
       "      <th>job_title</th>\n",
       "      <th>company</th>\n",
       "      <th>location</th>\n",
       "      <th>summary</th>\n",
       "      <th>salary</th>\n",
       "    </tr>\n",
       "  </thead>\n",
       "  <tbody>\n",
       "    <tr>\n",
       "      <th>0</th>\n",
       "      <td>Digital Data Scientist</td>\n",
       "      <td>JPMorgan Chase</td>\n",
       "      <td>Manhattan, NY</td>\n",
       "      <td>Digital Data Scientist. 5+ years of combined i...</td>\n",
       "      <td>NaN</td>\n",
       "    </tr>\n",
       "    <tr>\n",
       "      <th>1</th>\n",
       "      <td>Data Scientist</td>\n",
       "      <td>Squarespace</td>\n",
       "      <td>New York, NY 10014 (West Village area)</td>\n",
       "      <td>Impressive skill with a major programming lang...</td>\n",
       "      <td>NaN</td>\n",
       "    </tr>\n",
       "    <tr>\n",
       "      <th>2</th>\n",
       "      <td>Data Scientist</td>\n",
       "      <td>Verizon</td>\n",
       "      <td>New York, NY 10003 (Greenwich Village area)</td>\n",
       "      <td>Familiarity and experience with creating analy...</td>\n",
       "      <td>NaN</td>\n",
       "    </tr>\n",
       "    <tr>\n",
       "      <th>3</th>\n",
       "      <td>Data Scientist / Modeler</td>\n",
       "      <td>Morgan Stanley</td>\n",
       "      <td>New York, NY 10032 (Washington Heights area)</td>\n",
       "      <td>The Modeling team and other MSSM project based...</td>\n",
       "      <td>NaN</td>\n",
       "    </tr>\n",
       "    <tr>\n",
       "      <th>4</th>\n",
       "      <td>Data Scientist</td>\n",
       "      <td>Barclays</td>\n",
       "      <td>New York, NY</td>\n",
       "      <td>Or Master’s Degree in operations research, app...</td>\n",
       "      <td>NaN</td>\n",
       "    </tr>\n",
       "    <tr>\n",
       "      <th>5</th>\n",
       "      <td>Data Scientist, Analytics</td>\n",
       "      <td>SoundCloud</td>\n",
       "      <td>New York, NY 10003 (Greenwich Village area)</td>\n",
       "      <td>We’re looking for Data Scientists to join our ...</td>\n",
       "      <td>NaN</td>\n",
       "    </tr>\n",
       "    <tr>\n",
       "      <th>6</th>\n",
       "      <td>Data Scientist, Pricing &amp; Yield</td>\n",
       "      <td>NBCUniversal</td>\n",
       "      <td>New York, NY</td>\n",
       "      <td>Experience in handling large data sets, combin...</td>\n",
       "      <td>NaN</td>\n",
       "    </tr>\n",
       "    <tr>\n",
       "      <th>7</th>\n",
       "      <td>Data Scientist</td>\n",
       "      <td>WebMD</td>\n",
       "      <td>New York, NY</td>\n",
       "      <td>Medscape, a division of WebMD, develops and ho...</td>\n",
       "      <td>NaN</td>\n",
       "    </tr>\n",
       "    <tr>\n",
       "      <th>8</th>\n",
       "      <td>Data Scientist - USA</td>\n",
       "      <td>Dataiku</td>\n",
       "      <td>New York, NY</td>\n",
       "      <td>Familiarity with data visualization in R or Ja...</td>\n",
       "      <td>NaN</td>\n",
       "    </tr>\n",
       "    <tr>\n",
       "      <th>9</th>\n",
       "      <td>Data Scientist/Analyst</td>\n",
       "      <td>YouNow</td>\n",
       "      <td>New York, NY</td>\n",
       "      <td>Conduct in-depth research and analyses that tr...</td>\n",
       "      <td>NaN</td>\n",
       "    </tr>\n",
       "  </tbody>\n",
       "</table>\n",
       "</div>"
      ],
      "text/plain": [
       "                         job_title         company  \\\n",
       "0           Digital Data Scientist  JPMorgan Chase   \n",
       "1                   Data Scientist     Squarespace   \n",
       "2                   Data Scientist         Verizon   \n",
       "3         Data Scientist / Modeler  Morgan Stanley   \n",
       "4                   Data Scientist        Barclays   \n",
       "5        Data Scientist, Analytics      SoundCloud   \n",
       "6  Data Scientist, Pricing & Yield    NBCUniversal   \n",
       "7                   Data Scientist           WebMD   \n",
       "8             Data Scientist - USA         Dataiku   \n",
       "9           Data Scientist/Analyst          YouNow   \n",
       "\n",
       "                                       location  \\\n",
       "0                                 Manhattan, NY   \n",
       "1        New York, NY 10014 (West Village area)   \n",
       "2   New York, NY 10003 (Greenwich Village area)   \n",
       "3  New York, NY 10032 (Washington Heights area)   \n",
       "4                                  New York, NY   \n",
       "5   New York, NY 10003 (Greenwich Village area)   \n",
       "6                                  New York, NY   \n",
       "7                                  New York, NY   \n",
       "8                                  New York, NY   \n",
       "9                                  New York, NY   \n",
       "\n",
       "                                             summary  salary  \n",
       "0  Digital Data Scientist. 5+ years of combined i...     NaN  \n",
       "1  Impressive skill with a major programming lang...     NaN  \n",
       "2  Familiarity and experience with creating analy...     NaN  \n",
       "3  The Modeling team and other MSSM project based...     NaN  \n",
       "4  Or Master’s Degree in operations research, app...     NaN  \n",
       "5  We’re looking for Data Scientists to join our ...     NaN  \n",
       "6  Experience in handling large data sets, combin...     NaN  \n",
       "7  Medscape, a division of WebMD, develops and ho...     NaN  \n",
       "8  Familiarity with data visualization in R or Ja...     NaN  \n",
       "9  Conduct in-depth research and analyses that tr...     NaN  "
      ]
     },
     "execution_count": 12,
     "metadata": {},
     "output_type": "execute_result"
    }
   ],
   "source": [
    "df.head(10)"
   ]
  },
  {
   "cell_type": "code",
   "execution_count": 11,
   "metadata": {
    "ExecuteTime": {
     "end_time": "2016-10-14T09:42:43.305071",
     "start_time": "2016-10-14T09:42:43.161599"
    },
    "collapsed": false
   },
   "outputs": [
    {
     "data": {
      "text/html": [
       "<div>\n",
       "<table border=\"1\" class=\"dataframe\">\n",
       "  <thead>\n",
       "    <tr style=\"text-align: right;\">\n",
       "      <th></th>\n",
       "      <th>job_title</th>\n",
       "      <th>company</th>\n",
       "      <th>location</th>\n",
       "      <th>summary</th>\n",
       "      <th>salary</th>\n",
       "    </tr>\n",
       "  </thead>\n",
       "  <tbody>\n",
       "    <tr>\n",
       "      <th>count</th>\n",
       "      <td>972</td>\n",
       "      <td>972</td>\n",
       "      <td>972</td>\n",
       "      <td>972</td>\n",
       "      <td>53.000000</td>\n",
       "    </tr>\n",
       "    <tr>\n",
       "      <th>unique</th>\n",
       "      <td>625</td>\n",
       "      <td>586</td>\n",
       "      <td>134</td>\n",
       "      <td>897</td>\n",
       "      <td>NaN</td>\n",
       "    </tr>\n",
       "    <tr>\n",
       "      <th>top</th>\n",
       "      <td>Data Scientist</td>\n",
       "      <td>Amazon Corporate LLC</td>\n",
       "      <td>New York, NY</td>\n",
       "      <td>UW Medicine’s mission is to improve the health...</td>\n",
       "      <td>NaN</td>\n",
       "    </tr>\n",
       "    <tr>\n",
       "      <th>freq</th>\n",
       "      <td>165</td>\n",
       "      <td>59</td>\n",
       "      <td>156</td>\n",
       "      <td>7</td>\n",
       "      <td>NaN</td>\n",
       "    </tr>\n",
       "    <tr>\n",
       "      <th>mean</th>\n",
       "      <td>NaN</td>\n",
       "      <td>NaN</td>\n",
       "      <td>NaN</td>\n",
       "      <td>NaN</td>\n",
       "      <td>102634.339623</td>\n",
       "    </tr>\n",
       "    <tr>\n",
       "      <th>std</th>\n",
       "      <td>NaN</td>\n",
       "      <td>NaN</td>\n",
       "      <td>NaN</td>\n",
       "      <td>NaN</td>\n",
       "      <td>55532.974045</td>\n",
       "    </tr>\n",
       "    <tr>\n",
       "      <th>min</th>\n",
       "      <td>NaN</td>\n",
       "      <td>NaN</td>\n",
       "      <td>NaN</td>\n",
       "      <td>NaN</td>\n",
       "      <td>45.000000</td>\n",
       "    </tr>\n",
       "    <tr>\n",
       "      <th>25%</th>\n",
       "      <td>NaN</td>\n",
       "      <td>NaN</td>\n",
       "      <td>NaN</td>\n",
       "      <td>NaN</td>\n",
       "      <td>67500.000000</td>\n",
       "    </tr>\n",
       "    <tr>\n",
       "      <th>50%</th>\n",
       "      <td>NaN</td>\n",
       "      <td>NaN</td>\n",
       "      <td>NaN</td>\n",
       "      <td>NaN</td>\n",
       "      <td>110000.000000</td>\n",
       "    </tr>\n",
       "    <tr>\n",
       "      <th>75%</th>\n",
       "      <td>NaN</td>\n",
       "      <td>NaN</td>\n",
       "      <td>NaN</td>\n",
       "      <td>NaN</td>\n",
       "      <td>150000.000000</td>\n",
       "    </tr>\n",
       "    <tr>\n",
       "      <th>max</th>\n",
       "      <td>NaN</td>\n",
       "      <td>NaN</td>\n",
       "      <td>NaN</td>\n",
       "      <td>NaN</td>\n",
       "      <td>200000.000000</td>\n",
       "    </tr>\n",
       "  </tbody>\n",
       "</table>\n",
       "</div>"
      ],
      "text/plain": [
       "             job_title               company      location  \\\n",
       "count              972                   972           972   \n",
       "unique             625                   586           134   \n",
       "top     Data Scientist  Amazon Corporate LLC  New York, NY   \n",
       "freq               165                    59           156   \n",
       "mean               NaN                   NaN           NaN   \n",
       "std                NaN                   NaN           NaN   \n",
       "min                NaN                   NaN           NaN   \n",
       "25%                NaN                   NaN           NaN   \n",
       "50%                NaN                   NaN           NaN   \n",
       "75%                NaN                   NaN           NaN   \n",
       "max                NaN                   NaN           NaN   \n",
       "\n",
       "                                                  summary         salary  \n",
       "count                                                 972      53.000000  \n",
       "unique                                                897            NaN  \n",
       "top     UW Medicine’s mission is to improve the health...            NaN  \n",
       "freq                                                    7            NaN  \n",
       "mean                                                  NaN  102634.339623  \n",
       "std                                                   NaN   55532.974045  \n",
       "min                                                   NaN      45.000000  \n",
       "25%                                                   NaN   67500.000000  \n",
       "50%                                                   NaN  110000.000000  \n",
       "75%                                                   NaN  150000.000000  \n",
       "max                                                   NaN  200000.000000  "
      ]
     },
     "execution_count": 11,
     "metadata": {},
     "output_type": "execute_result"
    }
   ],
   "source": [
    "df.describe(include='all')"
   ]
  },
  {
   "cell_type": "markdown",
   "metadata": {},
   "source": [
    "# Parse: Clean & Organize Data"
   ]
  },
  {
   "cell_type": "markdown",
   "metadata": {},
   "source": [
    "# Model: Perform Logistic Regression"
   ]
  },
  {
   "cell_type": "markdown",
   "metadata": {},
   "source": [
    "# Evaluate: Logistic Regression\n",
    "# Bonus: Countvectorizer, Regularization Parameters"
   ]
  },
  {
   "cell_type": "markdown",
   "metadata": {},
   "source": [
    "# Present: Write a report for your audience addressing findings & recommendations"
   ]
  },
  {
   "cell_type": "code",
   "execution_count": null,
   "metadata": {
    "collapsed": false
   },
   "outputs": [],
   "source": []
  }
 ],
 "metadata": {
  "kernelspec": {
   "display_name": "Python 2",
   "language": "python",
   "name": "python2"
  },
  "language_info": {
   "codemirror_mode": {
    "name": "ipython",
    "version": 2
   },
   "file_extension": ".py",
   "mimetype": "text/x-python",
   "name": "python",
   "nbconvert_exporter": "python",
   "pygments_lexer": "ipython2",
   "version": "2.7.12"
  }
 },
 "nbformat": 4,
 "nbformat_minor": 0
}
