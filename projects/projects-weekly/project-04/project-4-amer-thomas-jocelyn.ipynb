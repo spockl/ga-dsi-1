{
 "cells": [
  {
   "cell_type": "markdown",
   "metadata": {},
   "source": [
    "- Find out what factors most directly impact salaries (title, location, department, etc.). In this case, we do not want to predict mean salary as would be done in a regression. Your boss believes that salary is better represented in categories than continuously\n",
    "- Test, validate, and describe your models. What factors predict salary category? How do your models perform?\n",
    "- Prepare a presentation for your Principal detailing your analysis."
   ]
  },
  {
   "cell_type": "code",
   "execution_count": 1,
   "metadata": {
    "ExecuteTime": {
     "end_time": "2016-10-14T09:41:20.230809",
     "start_time": "2016-10-14T09:41:13.884409"
    },
    "collapsed": false
   },
   "outputs": [],
   "source": [
    "# Import relevant libraries\n",
    "import requests\n",
    "import numpy as np\n",
    "import pandas as pd\n",
    "import seaborn as sns\n",
    "import matplotlib.pyplot as plt\n",
    "from spacy import English\n",
    "from sklearn.feature_extraction.text import CountVectorizer, TfidfVectorizer\n",
    "from sklearn import linear_model\n",
    "from bs4 import BeautifulSoup\n",
    "from selenium import webdriver\n",
    "from selenium.webdriver.common.keys import Keys\n",
    "from IPython.core.display import HTML\n",
    "from __future__ import unicode_literals\n",
    "\n",
    "%matplotlib inline"
   ]
  },
  {
   "cell_type": "code",
   "execution_count": 2,
   "metadata": {
    "ExecuteTime": {
     "end_time": "2016-10-14T09:41:20.237622",
     "start_time": "2016-10-14T09:41:20.233076"
    },
    "collapsed": false
   },
   "outputs": [],
   "source": [
    "path_to_phantom = '//Applications/phantomjs'"
   ]
  },
  {
   "cell_type": "markdown",
   "metadata": {},
   "source": [
    "# Identify: Problem Statement / Aim"
   ]
  },
  {
   "cell_type": "markdown",
   "metadata": {},
   "source": [
    "Our aim is to determine the factors that result in higher salaries for a data scientist."
   ]
  },
  {
   "cell_type": "markdown",
   "metadata": {},
   "source": [
    "# Acquire: Import Data Using Requests + BeautifulSoup\n",
    "\n",
    "- Collect data on data science salary trends from a job listings aggregator for your analysis.\n",
    "- Select and parse data from at least ~1000 postings for jobs, potentially from multiple location searches."
   ]
  },
  {
   "cell_type": "code",
   "execution_count": 22,
   "metadata": {
    "ExecuteTime": {
     "end_time": "2016-10-14T10:01:11.872259",
     "start_time": "2016-10-14T10:01:10.804506"
    },
    "collapsed": false
   },
   "outputs": [],
   "source": [
    "# create a webdriver PhantomJS object\n",
    "driver = webdriver.PhantomJS(executable_path=path_to_phantom)\n",
    "driver.set_window_size(1024,768)"
   ]
  },
  {
   "cell_type": "code",
   "execution_count": 23,
   "metadata": {
    "ExecuteTime": {
     "end_time": "2016-10-14T10:01:12.396724",
     "start_time": "2016-10-14T10:01:12.389257"
    },
    "collapsed": false
   },
   "outputs": [],
   "source": [
    "# Indeed.com url formats\n",
    "# http://www.indeed.com/jobs?q=data+scientist&l=New+York&start=10&pp=\n",
    "# base - http://www.indeed.com/jobs?q=data+scientist&l=\n",
    "# location - City, separated by +\n",
    "# page 2 onwards - &start=10&pp=\n",
    "# full url - base+location+page\n",
    "\n",
    "url_top = 'http://www.indeed.com/jobs?q=data+scientist&l='\n",
    "location = ['New+York', 'Seattle', 'San+Francisco', 'Boston']"
   ]
  },
  {
   "cell_type": "code",
   "execution_count": 35,
   "metadata": {
    "ExecuteTime": {
     "end_time": "2016-10-14T10:04:19.212247",
     "start_time": "2016-10-14T10:04:19.180114"
    },
    "collapsed": false
   },
   "outputs": [],
   "source": [
    "# in the search results, each result is wrapped in a div class=' row result'\n",
    "\n",
    "# for all results we want to get back\n",
    "# company, span class='company'\n",
    "# jobtitle, link class='jobtitle'\n",
    "# location, span class='location'\n",
    "# summary, span class='summary'\n",
    "# salary, td class=\"snip\", nobr with a $\n",
    "# we need to account for missing data\n",
    "\n",
    "# write a function that can retrieve job title, company, location, summary, and salary for each result\n",
    "# if there are blanks, return '' for the first 4, and np.nan for salary\n",
    "def get_details(each_item):\n",
    "    try:\n",
    "        salary_text = each_item.find('td', class_='snip').find('nobr').text\n",
    "        salary_text = salary_text.split()\n",
    "        salary = float(salary_text[0].strip('$').replace(',',''))\n",
    "        try:\n",
    "            job_title = each_item.find('h2', class_='jobtitle').text.strip('\\n')\n",
    "        except:\n",
    "            job_title = ''\n",
    "\n",
    "        try:\n",
    "            company = each_item.find('span', class_='company').text.strip()\n",
    "        except:\n",
    "            company = ''\n",
    "\n",
    "        try:\n",
    "            location = each_item.find('span', class_='location').text.strip()\n",
    "        except:\n",
    "            location = ''\n",
    "\n",
    "        try:\n",
    "            summary = each_item.find('span', class_='summary').text.strip()\n",
    "        except:\n",
    "            summary = ''\n",
    "            \n",
    "        return [job_title, company, location, summary, salary]\n",
    "    except:\n",
    "        return 'skip'\n",
    "    \n",
    "    \n",
    "    "
   ]
  },
  {
   "cell_type": "code",
   "execution_count": 41,
   "metadata": {
    "ExecuteTime": {
     "end_time": "2016-10-14T10:05:07.962152",
     "start_time": "2016-10-14T10:05:07.957630"
    },
    "collapsed": false
   },
   "outputs": [],
   "source": [
    "entries_required = 100\n",
    "entries_per_loc = entries_required / len(location)"
   ]
  },
  {
   "cell_type": "code",
   "execution_count": null,
   "metadata": {
    "ExecuteTime": {
     "start_time": "2016-10-14T14:05:09.314Z"
    },
    "collapsed": false
   },
   "outputs": [],
   "source": [
    "data = []\n",
    "for x in location:\n",
    "    page = 1\n",
    "    one_loc = []\n",
    "    while len(one_loc) <= entries_per_loc:\n",
    "        full_url = url_top + x\n",
    "        if page != 1:\n",
    "            page_url = '&start=' + str((page-1)*10) + '&pp='\n",
    "            full_url = full_url + page_url\n",
    "        #print full_url\n",
    "        page += 1\n",
    "        driver.get(full_url)\n",
    "        soup = BeautifulSoup(driver.page_source, 'lxml')\n",
    "        for item in soup.findAll('div', class_=' row result'):\n",
    "            if get_details(item) != 'skip':\n",
    "                one_loc.append(get_details(item))\n",
    "    #print one_loc\n",
    "    data.extend(one_loc)\n",
    "print 'done'"
   ]
  },
  {
   "cell_type": "code",
   "execution_count": 38,
   "metadata": {
    "ExecuteTime": {
     "end_time": "2016-10-14T10:04:46.668719",
     "start_time": "2016-10-14T10:04:46.660989"
    },
    "collapsed": false
   },
   "outputs": [],
   "source": [
    "df = pd.DataFrame(data, columns=['job_title', 'company', 'location','summary','salary'])"
   ]
  },
  {
   "cell_type": "code",
   "execution_count": 40,
   "metadata": {
    "ExecuteTime": {
     "end_time": "2016-10-14T10:04:56.558741",
     "start_time": "2016-10-14T10:04:56.513215"
    },
    "collapsed": false
   },
   "outputs": [
    {
     "data": {
      "text/html": [
       "<div>\n",
       "<table border=\"1\" class=\"dataframe\">\n",
       "  <thead>\n",
       "    <tr style=\"text-align: right;\">\n",
       "      <th></th>\n",
       "      <th>job_title</th>\n",
       "      <th>company</th>\n",
       "      <th>location</th>\n",
       "      <th>summary</th>\n",
       "      <th>salary</th>\n",
       "    </tr>\n",
       "  </thead>\n",
       "  <tbody>\n",
       "    <tr>\n",
       "      <th>0</th>\n",
       "      <td>Modeler/Data Scientist, Policy and Strategy</td>\n",
       "      <td>CONSUMER AFFAIRS</td>\n",
       "      <td>Manhattan, NY</td>\n",
       "      <td>For Assignment Level I (only physical, biologi...</td>\n",
       "      <td>59708.0</td>\n",
       "    </tr>\n",
       "    <tr>\n",
       "      <th>1</th>\n",
       "      <td>Top 1% Business Intelligence Analyst</td>\n",
       "      <td>Consulting.com</td>\n",
       "      <td>New York, NY</td>\n",
       "      <td>We're looking for somebody who's versatile, ca...</td>\n",
       "      <td>150000.0</td>\n",
       "    </tr>\n",
       "    <tr>\n",
       "      <th>2</th>\n",
       "      <td>Data Scientist</td>\n",
       "      <td>Big Cloud</td>\n",
       "      <td>New York, NY</td>\n",
       "      <td>An exciting, innovative company in the heart o...</td>\n",
       "      <td>150000.0</td>\n",
       "    </tr>\n",
       "    <tr>\n",
       "      <th>3</th>\n",
       "      <td>Data Scientist</td>\n",
       "      <td>Prime Team Partners</td>\n",
       "      <td>Seattle, WA 98119 (Queen Anne area)</td>\n",
       "      <td>Prime Team Partners is currently partnering wi...</td>\n",
       "      <td>150000.0</td>\n",
       "    </tr>\n",
       "    <tr>\n",
       "      <th>4</th>\n",
       "      <td>Machine Learning Engineer - Big Data, Python, R</td>\n",
       "      <td>HERO.Jobs</td>\n",
       "      <td>Seattle, WA</td>\n",
       "      <td>Build big data, machine learning applications ...</td>\n",
       "      <td>160000.0</td>\n",
       "    </tr>\n",
       "    <tr>\n",
       "      <th>5</th>\n",
       "      <td>Business Intelligence Scientist</td>\n",
       "      <td>All-In Analytics</td>\n",
       "      <td>Seattle, WA</td>\n",
       "      <td>SQL, Digital Analytics, eCommerce, Big Data, A...</td>\n",
       "      <td>100000.0</td>\n",
       "    </tr>\n",
       "    <tr>\n",
       "      <th>6</th>\n",
       "      <td>Data scientist</td>\n",
       "      <td>Even</td>\n",
       "      <td>Oakland, CA</td>\n",
       "      <td>Collaborate with our engineers on our internal...</td>\n",
       "      <td>34142.0</td>\n",
       "    </tr>\n",
       "    <tr>\n",
       "      <th>7</th>\n",
       "      <td>UC Berkeley - BACEM Computer Support Analyst</td>\n",
       "      <td>Lawrence Berkeley National Laboratory</td>\n",
       "      <td>Berkeley, CA 94720</td>\n",
       "      <td>QB3 scientists make. Build, debugs and optimiz...</td>\n",
       "      <td>67500.0</td>\n",
       "    </tr>\n",
       "    <tr>\n",
       "      <th>8</th>\n",
       "      <td>Data Scientist</td>\n",
       "      <td>Workbridge Associates</td>\n",
       "      <td>Redwood City, CA</td>\n",
       "      <td>With millions of downloads, this leader in onl...</td>\n",
       "      <td>100000.0</td>\n",
       "    </tr>\n",
       "    <tr>\n",
       "      <th>9</th>\n",
       "      <td>Data Scientist (Machine Learning)</td>\n",
       "      <td>Corporate Labs Technology</td>\n",
       "      <td>Brisbane, CA</td>\n",
       "      <td>Machine Learning Developer. Fast growing socia...</td>\n",
       "      <td>110000.0</td>\n",
       "    </tr>\n",
       "    <tr>\n",
       "      <th>10</th>\n",
       "      <td>Data Scientist</td>\n",
       "      <td>Mayovika LLC</td>\n",
       "      <td>Boston, MA</td>\n",
       "      <td>Data scientists or individuals possessing data...</td>\n",
       "      <td>68.0</td>\n",
       "    </tr>\n",
       "    <tr>\n",
       "      <th>11</th>\n",
       "      <td>Senior Data Scientist</td>\n",
       "      <td>Jobspring Partners</td>\n",
       "      <td>Boston, MA 02116 (South End area)</td>\n",
       "      <td>Senior Data Scientist Job Description. Experie...</td>\n",
       "      <td>150000.0</td>\n",
       "    </tr>\n",
       "    <tr>\n",
       "      <th>12</th>\n",
       "      <td>Data Scientist</td>\n",
       "      <td>Jobspring Partners</td>\n",
       "      <td>Boston, MA 02116 (South End area)</td>\n",
       "      <td>A new company in the mental health space is lo...</td>\n",
       "      <td>90000.0</td>\n",
       "    </tr>\n",
       "  </tbody>\n",
       "</table>\n",
       "</div>"
      ],
      "text/plain": [
       "                                          job_title  \\\n",
       "0       Modeler/Data Scientist, Policy and Strategy   \n",
       "1              Top 1% Business Intelligence Analyst   \n",
       "2                                    Data Scientist   \n",
       "3                                    Data Scientist   \n",
       "4   Machine Learning Engineer - Big Data, Python, R   \n",
       "5                   Business Intelligence Scientist   \n",
       "6                                    Data scientist   \n",
       "7      UC Berkeley - BACEM Computer Support Analyst   \n",
       "8                                    Data Scientist   \n",
       "9                 Data Scientist (Machine Learning)   \n",
       "10                                   Data Scientist   \n",
       "11                            Senior Data Scientist   \n",
       "12                                   Data Scientist   \n",
       "\n",
       "                                  company  \\\n",
       "0                        CONSUMER AFFAIRS   \n",
       "1                          Consulting.com   \n",
       "2                               Big Cloud   \n",
       "3                     Prime Team Partners   \n",
       "4                               HERO.Jobs   \n",
       "5                        All-In Analytics   \n",
       "6                                    Even   \n",
       "7   Lawrence Berkeley National Laboratory   \n",
       "8                   Workbridge Associates   \n",
       "9               Corporate Labs Technology   \n",
       "10                           Mayovika LLC   \n",
       "11                     Jobspring Partners   \n",
       "12                     Jobspring Partners   \n",
       "\n",
       "                               location  \\\n",
       "0                         Manhattan, NY   \n",
       "1                          New York, NY   \n",
       "2                          New York, NY   \n",
       "3   Seattle, WA 98119 (Queen Anne area)   \n",
       "4                           Seattle, WA   \n",
       "5                           Seattle, WA   \n",
       "6                           Oakland, CA   \n",
       "7                    Berkeley, CA 94720   \n",
       "8                      Redwood City, CA   \n",
       "9                          Brisbane, CA   \n",
       "10                           Boston, MA   \n",
       "11    Boston, MA 02116 (South End area)   \n",
       "12    Boston, MA 02116 (South End area)   \n",
       "\n",
       "                                              summary    salary  \n",
       "0   For Assignment Level I (only physical, biologi...   59708.0  \n",
       "1   We're looking for somebody who's versatile, ca...  150000.0  \n",
       "2   An exciting, innovative company in the heart o...  150000.0  \n",
       "3   Prime Team Partners is currently partnering wi...  150000.0  \n",
       "4   Build big data, machine learning applications ...  160000.0  \n",
       "5   SQL, Digital Analytics, eCommerce, Big Data, A...  100000.0  \n",
       "6   Collaborate with our engineers on our internal...   34142.0  \n",
       "7   QB3 scientists make. Build, debugs and optimiz...   67500.0  \n",
       "8   With millions of downloads, this leader in onl...  100000.0  \n",
       "9   Machine Learning Developer. Fast growing socia...  110000.0  \n",
       "10  Data scientists or individuals possessing data...      68.0  \n",
       "11  Senior Data Scientist Job Description. Experie...  150000.0  \n",
       "12  A new company in the mental health space is lo...   90000.0  "
      ]
     },
     "execution_count": 40,
     "metadata": {},
     "output_type": "execute_result"
    }
   ],
   "source": [
    "df"
   ]
  },
  {
   "cell_type": "code",
   "execution_count": 11,
   "metadata": {
    "ExecuteTime": {
     "end_time": "2016-10-14T09:42:43.305071",
     "start_time": "2016-10-14T09:42:43.161599"
    },
    "collapsed": false
   },
   "outputs": [
    {
     "data": {
      "text/html": [
       "<div>\n",
       "<table border=\"1\" class=\"dataframe\">\n",
       "  <thead>\n",
       "    <tr style=\"text-align: right;\">\n",
       "      <th></th>\n",
       "      <th>job_title</th>\n",
       "      <th>company</th>\n",
       "      <th>location</th>\n",
       "      <th>summary</th>\n",
       "      <th>salary</th>\n",
       "    </tr>\n",
       "  </thead>\n",
       "  <tbody>\n",
       "    <tr>\n",
       "      <th>count</th>\n",
       "      <td>972</td>\n",
       "      <td>972</td>\n",
       "      <td>972</td>\n",
       "      <td>972</td>\n",
       "      <td>53.000000</td>\n",
       "    </tr>\n",
       "    <tr>\n",
       "      <th>unique</th>\n",
       "      <td>625</td>\n",
       "      <td>586</td>\n",
       "      <td>134</td>\n",
       "      <td>897</td>\n",
       "      <td>NaN</td>\n",
       "    </tr>\n",
       "    <tr>\n",
       "      <th>top</th>\n",
       "      <td>Data Scientist</td>\n",
       "      <td>Amazon Corporate LLC</td>\n",
       "      <td>New York, NY</td>\n",
       "      <td>UW Medicine’s mission is to improve the health...</td>\n",
       "      <td>NaN</td>\n",
       "    </tr>\n",
       "    <tr>\n",
       "      <th>freq</th>\n",
       "      <td>165</td>\n",
       "      <td>59</td>\n",
       "      <td>156</td>\n",
       "      <td>7</td>\n",
       "      <td>NaN</td>\n",
       "    </tr>\n",
       "    <tr>\n",
       "      <th>mean</th>\n",
       "      <td>NaN</td>\n",
       "      <td>NaN</td>\n",
       "      <td>NaN</td>\n",
       "      <td>NaN</td>\n",
       "      <td>102634.339623</td>\n",
       "    </tr>\n",
       "    <tr>\n",
       "      <th>std</th>\n",
       "      <td>NaN</td>\n",
       "      <td>NaN</td>\n",
       "      <td>NaN</td>\n",
       "      <td>NaN</td>\n",
       "      <td>55532.974045</td>\n",
       "    </tr>\n",
       "    <tr>\n",
       "      <th>min</th>\n",
       "      <td>NaN</td>\n",
       "      <td>NaN</td>\n",
       "      <td>NaN</td>\n",
       "      <td>NaN</td>\n",
       "      <td>45.000000</td>\n",
       "    </tr>\n",
       "    <tr>\n",
       "      <th>25%</th>\n",
       "      <td>NaN</td>\n",
       "      <td>NaN</td>\n",
       "      <td>NaN</td>\n",
       "      <td>NaN</td>\n",
       "      <td>67500.000000</td>\n",
       "    </tr>\n",
       "    <tr>\n",
       "      <th>50%</th>\n",
       "      <td>NaN</td>\n",
       "      <td>NaN</td>\n",
       "      <td>NaN</td>\n",
       "      <td>NaN</td>\n",
       "      <td>110000.000000</td>\n",
       "    </tr>\n",
       "    <tr>\n",
       "      <th>75%</th>\n",
       "      <td>NaN</td>\n",
       "      <td>NaN</td>\n",
       "      <td>NaN</td>\n",
       "      <td>NaN</td>\n",
       "      <td>150000.000000</td>\n",
       "    </tr>\n",
       "    <tr>\n",
       "      <th>max</th>\n",
       "      <td>NaN</td>\n",
       "      <td>NaN</td>\n",
       "      <td>NaN</td>\n",
       "      <td>NaN</td>\n",
       "      <td>200000.000000</td>\n",
       "    </tr>\n",
       "  </tbody>\n",
       "</table>\n",
       "</div>"
      ],
      "text/plain": [
       "             job_title               company      location  \\\n",
       "count              972                   972           972   \n",
       "unique             625                   586           134   \n",
       "top     Data Scientist  Amazon Corporate LLC  New York, NY   \n",
       "freq               165                    59           156   \n",
       "mean               NaN                   NaN           NaN   \n",
       "std                NaN                   NaN           NaN   \n",
       "min                NaN                   NaN           NaN   \n",
       "25%                NaN                   NaN           NaN   \n",
       "50%                NaN                   NaN           NaN   \n",
       "75%                NaN                   NaN           NaN   \n",
       "max                NaN                   NaN           NaN   \n",
       "\n",
       "                                                  summary         salary  \n",
       "count                                                 972      53.000000  \n",
       "unique                                                897            NaN  \n",
       "top     UW Medicine’s mission is to improve the health...            NaN  \n",
       "freq                                                    7            NaN  \n",
       "mean                                                  NaN  102634.339623  \n",
       "std                                                   NaN   55532.974045  \n",
       "min                                                   NaN      45.000000  \n",
       "25%                                                   NaN   67500.000000  \n",
       "50%                                                   NaN  110000.000000  \n",
       "75%                                                   NaN  150000.000000  \n",
       "max                                                   NaN  200000.000000  "
      ]
     },
     "execution_count": 11,
     "metadata": {},
     "output_type": "execute_result"
    }
   ],
   "source": [
    "df.describe(include='all')"
   ]
  },
  {
   "cell_type": "markdown",
   "metadata": {},
   "source": [
    "# Parse: Clean & Organize Data"
   ]
  },
  {
   "cell_type": "markdown",
   "metadata": {},
   "source": [
    "# Model: Perform Logistic Regression"
   ]
  },
  {
   "cell_type": "markdown",
   "metadata": {},
   "source": [
    "# Evaluate: Logistic Regression\n",
    "# Bonus: Countvectorizer, Regularization Parameters"
   ]
  },
  {
   "cell_type": "markdown",
   "metadata": {},
   "source": [
    "# Present: Write a report for your audience addressing findings & recommendations"
   ]
  },
  {
   "cell_type": "code",
   "execution_count": null,
   "metadata": {
    "collapsed": false
   },
   "outputs": [],
   "source": []
  }
 ],
 "metadata": {
  "kernelspec": {
   "display_name": "Python 2",
   "language": "python",
   "name": "python2"
  },
  "language_info": {
   "codemirror_mode": {
    "name": "ipython",
    "version": 2
   },
   "file_extension": ".py",
   "mimetype": "text/x-python",
   "name": "python",
   "nbconvert_exporter": "python",
   "pygments_lexer": "ipython2",
   "version": "2.7.12"
  }
 },
 "nbformat": 4,
 "nbformat_minor": 0
}
