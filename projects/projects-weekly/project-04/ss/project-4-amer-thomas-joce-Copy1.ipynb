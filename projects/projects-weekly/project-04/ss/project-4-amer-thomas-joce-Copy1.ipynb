{
 "cells": [
  {
   "cell_type": "raw",
   "metadata": {
    "ExecuteTime": {
     "end_time": "2016-10-18T14:32:06.854398",
     "start_time": "2016-10-18T14:31:34.464786"
    },
    "collapsed": false
   },
   "source": [
    "import pandas as pd\n",
    "import numpy as np\n",
    "\n",
    "#Cleans up the Stock information\n",
    "nyse=pd.read_csv(\"Data/NYSE.csv\")\n",
    "nasdaq=pd.read_csv(\"Data/NASDAQ.csv\")\n",
    "amex=pd.read_csv(\"Data/AMEX.csv\")\n",
    "stocks=nyse.append(nasdaq,ignore_index=True).append(amex,ignore_index=True)\n",
    "del stocks[\"Summary Quote\"]\n",
    "i=0\n",
    "while i<len(stocks[\"Symbol\"]):\n",
    "    if \" (The)\" in stocks.iloc[i,1]:\n",
    "        stocks.iloc[i,1]=stocks.iloc[i,1][:len(stocks.iloc[i,1])-len(\" (The)\")]\n",
    "    if \" Incorporated\" in stocks.iloc[i,1]:\n",
    "        stocks.iloc[i,1]=stocks.iloc[i,1][:len(stocks.iloc[i,1])-len(\" Incorporated\")]\n",
    "    if \", Inc.\" in stocks.iloc[i,1]:\n",
    "        stocks.iloc[i,1]=stocks.iloc[i,1][:len(stocks.iloc[i,1])-len(\", Inc.\")]\n",
    "    if \", Inc\" in stocks.iloc[i,1]:\n",
    "        stocks.iloc[i,1]=stocks.iloc[i,1][:len(stocks.iloc[i,1])-len(\", Inc\")]\n",
    "    if \", INC\" in stocks.iloc[i,1]:\n",
    "        stocks.iloc[i,1]=stocks.iloc[i,1][:len(stocks.iloc[i,1])-len(\", Inc\")]\n",
    "    if \" Inc.\" in stocks.iloc[i,1]:\n",
    "        stocks.iloc[i,1]=stocks.iloc[i,1][:len(stocks.iloc[i,1])-len(\" Inc.\")]\n",
    "    if \" Inc\" in stocks.iloc[i,1]:\n",
    "        stocks.iloc[i,1]=stocks.iloc[i,1][:len(stocks.iloc[i,1])-len(\" Inc\")]\n",
    "    if \" INC\" in stocks.iloc[i,1]:\n",
    "        stocks.iloc[i,1]=stocks.iloc[i,1][:len(stocks.iloc[i,1])-len(\" Inc\")]\n",
    "    if  \" Corporation\" in stocks.iloc[i,1]:\n",
    "        stocks.iloc[i,1]=stocks.iloc[i,1][:len(stocks.iloc[i,1])-len(\" Corporation\")]\n",
    "    if \" Corp.\" in stocks.iloc[i,1]:\n",
    "        stocks.iloc[i,1]=stocks.iloc[i,1][:len(stocks.iloc[i,1])-len(\" Corp.\")]\n",
    "    if \" Corp\" in stocks.iloc[i,1]:\n",
    "        stocks.iloc[i,1]=stocks.iloc[i,1][:len(stocks.iloc[i,1])-len(\" Corp\")]\n",
    "    if \" CORP\" in stocks.iloc[i,1]:\n",
    "        stocks.iloc[i,1]=stocks.iloc[i,1][:len(stocks.iloc[i,1])-len(\" Corp\")]\n",
    "    i+=1\n",
    "\n",
    "#Eliminates Duplicates, inactive tickers, and funds\n",
    "#For MarketCap n/a; the tickers listed had 1 market value and all other duplicates were n/a; safe to remove\n",
    "#Additionally, there was the occasional case of no market cap; market cap must have been insignificant or bankrupt\n",
    "#stocks= stocks[stocks['MarketCap']!=\"n/a\"]\n",
    "#stocks= stocks[stocks['industry']!=\"n/a\"]\n",
    "#stocks= stocks[stocks['Sector']!=\"n/a\"]\n",
    "#stocks= stocks[stocks['IPOyear']!=\"n/a\"]\n",
    "\n",
    "#Convert MarketCap to Millions of dollars\n",
    "i=0\n",
    "while i<len(stocks[\"MarketCap\"]):\n",
    "    if \"B\" in str(stocks.iloc[i,3])[-1:]:\n",
    "        stocks.iloc[i,3]=float(str(stocks.iloc[i,3])[1:-1])*1000\n",
    "    else:\n",
    "        stocks.iloc[i,3]=str(stocks.iloc[i,3])[1:-1]\n",
    "    i+=1\n",
    "\n",
    "stocks=stocks.reset_index()\n",
    "del stocks['index']\n",
    "#delete={1572:'WYIGU',1001:'ANDAU',873:'FNFV',1322:'ELECU',1376:'FCFS',1134:'CLACU',2041:'TRTLU',1706:'MSG'}\n",
    "# keys=delete.keys()\n",
    "# keys.sort()\n",
    "# keys=keys[::-1]\n",
    "# for key in keys:\n",
    "#     stocks=stocks.iloc[:key].append(stocks.iloc[key+1:])\n",
    "# stocks=stocks.reset_index()\n",
    "# del stocks['index']\n",
    "\n",
    "#Cleans cities data (eliminates counties and combined cities/towns)\n",
    "cities=pd.read_csv(\"Data/Living_Index.csv\")\n",
    "cities=cities.rename(columns={\"Urban Area\":\"City\"})\n",
    "values=[]\n",
    "for x in cities[\"City\"]:\n",
    "    if \"-\" in x:\n",
    "        values.append(False)\n",
    "    else:\n",
    "        values.append(True)\n",
    "cities=cities[values]\n",
    "values=[]\n",
    "for x in cities[\"City\"]:\n",
    "    if \"county\" in x.lower():\n",
    "        values.append(False)\n",
    "    else:\n",
    "        values.append(True)\n",
    "cities=cities[values]\n",
    "new_city_list=[]\n",
    "\n",
    "for x in cities[\"City\"]:\n",
    "    y=x[-4:]\n",
    "    z=x[:-len(y)].replace(\",\",\"\")+y\n",
    "    new_city_list.append(z)\n",
    "cities[\"City\"]=new_city_list"
   ]
  },
  {
   "cell_type": "raw",
   "metadata": {
    "ExecuteTime": {
     "end_time": "2016-10-18T14:32:20.251782",
     "start_time": "2016-10-18T14:32:06.856716"
    },
    "collapsed": false,
    "scrolled": true
   },
   "source": [
    "#Put ticker of name instances into a dictionary for all duplicates\n",
    "\n",
    "#Gives the duplicates in a list called names\n",
    "names=[x for x,y in zip(stocks[\"Name\"].value_counts().sort_values(ascending=False).index,\\\n",
    "                        stocks[\"Name\"].value_counts().sort_values(ascending=False).values) if y>1]\n",
    "indices=[]\n",
    "index=[]\n",
    "dic={}\n",
    "i=0\n",
    "while i < len(stocks[\"Name\"]):\n",
    "    if stocks.loc[i,\"Name\"] in names:\n",
    "        if stocks.loc[i,\"Name\"] in dic.keys():\n",
    "            dic[stocks.loc[i,\"Name\"]].append([stocks.loc[i,\"Symbol\"],stocks.loc[i,\"MarketCap\"]])\n",
    "        else:\n",
    "            dic[stocks.loc[i,\"Name\"]]=[[stocks.loc[i,\"Symbol\"],stocks.loc[i,\"MarketCap\"]]]\n",
    "    i+=1\n",
    "\n",
    "#Look up to see if there is a single entry with a market cap for the duplicates; if there is, delete others\n",
    "\n",
    "#Checks to see if among duplicate entries there is only a single one with market cap\n",
    "caps=[]\n",
    "for key in dic.keys():\n",
    "    l=dic[key]\n",
    "    single_cap=False\n",
    "    num_caps=0\n",
    "    for x in l:\n",
    "        if x[1]!=\"/\":\n",
    "            num_caps+=1\n",
    "        if num_caps==1:\n",
    "            single_cap=True\n",
    "        else: \n",
    "            single_cap=False\n",
    "    caps.append([key,single_cap])\n",
    "\n",
    "#Finds tickers without market cap to delete\n",
    "delete=[]\n",
    "for x in caps:\n",
    "    if x[1]==True:\n",
    "            #If there is a single market cap value, deletes all others\n",
    "        for y in dic[x[0]]:\n",
    "            if y[1]==\"/\":\n",
    "                delete.append(y[0])\n",
    "    if x[1]==False:\n",
    "            #Checks to see if there are duplicate market cap values; if there are, resorts to largest\n",
    "        mult=False\n",
    "        count=0\n",
    "        for y in dic[x[0]]:\n",
    "            if y[1]!=\"/\":\n",
    "                count+=1\n",
    "            if count>1:\n",
    "                mult=True\n",
    "        largest=0\n",
    "        save_ticker=\"\"\n",
    "        if mult:\n",
    "            for y in dic[x[0]]:\n",
    "                if y[1]!=\"/\":\n",
    "                    if y[1]>largest:\n",
    "                        largest=y[1]\n",
    "                        save_ticker=y[0]\n",
    "            for z in dic[x[0]]:\n",
    "                if z[0]!=save_ticker:\n",
    "                    delete.append(z[0])\n",
    "            #If there are no market cap values, resorts to shortest ticker name\n",
    "        else:\n",
    "            save_ticker=\"\"\n",
    "            length=10\n",
    "            for y in dic[x[0]]:\n",
    "                if len(y[0])<length:\n",
    "                    save_ticker=y[1]\n",
    "            for z in dic[x[0]]:\n",
    "                if z[0]!=save_ticker:\n",
    "                    delete.append(z[0])\n",
    "\n",
    "#NOW, time to go through and delete the unneeded rows; \n",
    "    #reset the index, get the indices, reverse order the sort,\n",
    "    #and reset the dataframe on each value; then reset index\n",
    "\n",
    "indices=[]\n",
    "i=0\n",
    "while i<len(stocks):\n",
    "    if stocks.loc[i,\"Symbol\"] in delete:\n",
    "        indices.append(i)\n",
    "    i+=1\n",
    "indices.sort()\n",
    "indices=indices[::-1]\n",
    "for key in indices:\n",
    "    stocks=stocks.iloc[:key].append(stocks.iloc[key+1:])\n",
    "stocks=stocks.reset_index()\n",
    "del stocks['index']\n",
    "\n",
    "#There is only one case left; where there are duplicate entries; let's delete those now\n",
    "names=[x for x,y in zip(stocks[\"Name\"].value_counts().sort_values(ascending=False).index,\\\n",
    "                        stocks[\"Name\"].value_counts().sort_values(ascending=False).values) if y>1]\n",
    "delete=[]\n",
    "\n",
    "for name in names:\n",
    "    first=True\n",
    "    i=0\n",
    "    while i<len(stocks[\"Name\"]):\n",
    "        if first:\n",
    "            first=False\n",
    "        if stocks.loc[i,\"Name\"]==name:\n",
    "            delete.append(i)\n",
    "        i+=1\n",
    "delete.sort()\n",
    "delete=delete[::-1]\n",
    "for key in delete:\n",
    "    stocks=stocks.iloc[:key].append(stocks.iloc[key+1:])\n",
    "stocks=stocks.reset_index()\n",
    "del stocks['index']"
   ]
  },
  {
   "cell_type": "raw",
   "metadata": {
    "ExecuteTime": {
     "end_time": "2016-10-18T14:32:22.291552",
     "start_time": "2016-10-18T14:32:20.254019"
    },
    "collapsed": false
   },
   "source": [
    "#Takes in json of webscraped information, puts it into a dataframe, converts Salary information to integers\n",
    "glass_door=pd.DataFrame(columns=[\"Salary\",\"Company\",\"Location\"])\n",
    "\n",
    "extension=\"Data/allcities.json\"\n",
    "json=pd.read_json(extension)\n",
    "df=pd.DataFrame([json[\"city\"],json[\"company\"],json[\"meanPay\"],json[\"jobTitle\"]]).T\n",
    "df.columns=[\"Location\",\"Company\",\"Salary\",\"Job\"]\n",
    "temp=[]\n",
    "\n",
    "\n",
    "df['Salary'] = df['Salary'].apply(only_numerics)\n",
    "df=df[pd.notnull(df[\"Salary\"])].reset_index()\n",
    "del df['index']\n",
    "df[\"Salary\"]=df['Salary'].astype(np.float)#\n",
    "\n",
    "glass_door=glass_door.append(df,ignore_index=True)\n",
    "\n",
    "\n",
    "\n",
    "df.columns=[\"Location\",\"Company\",\"Salary\",\"Job\"]\n",
    "temp=[]\n",
    "\n",
    "\n",
    "df['Salary'] = df['Salary'].apply(only_numerics)\n",
    "df=df[pd.notnull(df[\"Salary\"])].reset_index()\n",
    "del df['index']\n",
    "df[\"Salary\"]=df['Salary'].astype(np.float)#\n",
    "\n",
    "glass_door=glass_door.append(df,ignore_index=True)\n",
    "\n",
    "df=pd.merge(glass_door,cities,left_on=\"Location\",right_on=\"City\")\n",
    "df=pd.merge(df,stocks,left_on=\"Company\",right_on=\"Name\",how='inner')\n",
    "i=0\n",
    "delete=[]\n",
    "for x in df[\"Salary\"]:\n",
    "    if x<10000:\n",
    "        delete.append(i)\n",
    "    i+=1\n",
    "delete.sort()\n",
    "delete=delete[::-1]\n",
    "for key in delete:\n",
    "    df=df.iloc[:key].append(df.iloc[key+1:])\n",
    "df=df.reset_index()\n",
    "del df['index']\n",
    "\n",
    "df['Salary']=df['Salary'].astype(np.int)\n",
    "df.columns\n",
    "\n",
    "\n",
    "# todrop=[\"Software Engineer (Data Scientist)\",\"Data Visualization Scientist\",\\\n",
    "#         \"Scientist, Statistical and Data Sciences\",\"Associate Data Scientist\",\"Data Scientist Intern - Hourly\",\\\n",
    "#         \"Data Scientist Intern\"]\n",
    "\n",
    "\n",
    "df[\"Senior\"]=[1 if x else 0 for x in df[\"Job\"]==(\"Senior Data Scientist\")]\n",
    "df[\"Mid\"]=[1 if x else 0 for x in df[\"Job\"]==(\"Data Scientist\" or \"Principal Data Scientist\")]\n",
    "#df[\"Junior\"]=[1 if x else 0 for x in df[\"Job\"]==(\"Data Scientist I\" or \"Junior Data Scientist\" \n",
    "#                                                 or \"Data Scientist II\")]\n",
    "df[\"Large\"]=[1 if x else 0 for x in df[\"MarketCap\"]>=500]\n",
    "df[\"Small\"]=[1 if x else 0 for x in df[\"MarketCap\"]<100]\n",
    "i=0\n",
    "while i<len(df):\n",
    "    if df.loc[i,\"MarketCap\"] is np.NAN:\n",
    "        df.loc[i,\"MarketCap\"]=350\n",
    "    i+=1\n",
    "df[\"MarketCap\"]=df[\"MarketCap\"].astype(np.float)\n",
    "\n",
    "copy=df.copy()\n",
    "print len(df[df[\"Senior\"]==1])\n",
    "print len(df[df[\"Mid\"]==1])"
   ]
  },
  {
   "cell_type": "raw",
   "metadata": {
    "ExecuteTime": {
     "end_time": "2016-10-18T14:32:22.292507",
     "start_time": "2016-10-18T18:31:34.482Z"
    },
    "collapsed": false
   },
   "source": [
    "240/92."
   ]
  },
  {
   "cell_type": "raw",
   "metadata": {
    "ExecuteTime": {
     "end_time": "2016-10-18T14:32:22.293044",
     "start_time": "2016-10-18T18:31:34.486Z"
    },
    "collapsed": false,
    "scrolled": false
   },
   "source": [
    "plt.hist(df[df[\"Senior\"]==1][\"Salary\"],bins=10);\n",
    "plt.hist((df[df[\"Mid\"]==1][\"Salary\"]),bins=26);"
   ]
  },
  {
   "cell_type": "raw",
   "metadata": {
    "collapsed": false
   },
   "source": []
  },
  {
   "cell_type": "raw",
   "metadata": {
    "ExecuteTime": {
     "end_time": "2016-10-18T14:32:22.293572",
     "start_time": "2016-10-18T18:31:34.490Z"
    },
    "collapsed": false,
    "scrolled": false
   },
   "source": [
    "n=3\n",
    "increment=(199000-48000.)/float(n)\n",
    "bins=[48000,85750,148667,199000]\n",
    "bins=[]\n",
    "for i in range(n+1):\n",
    "    bins.append(48000+increment*(i))\n",
    "\n",
    "replacements=[]\n",
    "i=0\n",
    "while i<len(bins)-1:\n",
    "    replacements.append(str(int(round(bins[i])))+\"-\"+str(int(round(bins[i+1]))))\n",
    "    i+=1\n",
    "    \n",
    "\n",
    "df=copy.copy()\n",
    "df[\"Salary\"]=df['Salary'].apply(lambda x: salary_bin(x))\n",
    "df1=pd.get_dummies(df,columns=[\"Salary\"])\n",
    "\n",
    "cols=['100% Composite Index','Senior',\"Mid\",\"Large\"]\n",
    "# for y in [x for x in df1.columns[20:]]:\n",
    "#     cols.append(y) \n",
    "    \n",
    "    \n",
    "X_train,X_test,y_train,y_test=train_test_split(df1[cols],df['Salary'],test_size=.4)#,random_state=69\n",
    "\"\"\" Fit a binary classification predictor.\"\"\"\n",
    "logreg = LogisticRegression(solver='lbfgs') #'newton-cg', 'lbfgs', 'liblinear', 'sag'\n",
    "C_vals = [10**x for x in range (-5,5)]\n",
    "penalties = ['l2']\n",
    "\n",
    "gs = GridSearchCV(logreg, {'penalty': penalties, 'C': C_vals}, verbose=False, cv=3)\n",
    "gs.fit(X_train, y_train)\n",
    "\n",
    "logreg = LogisticRegression(C=gs.best_params_['C'], penalty=gs.best_params_['penalty'])\n",
    "cv_model = logreg.fit(X_train, y_train)\n",
    "cv_pred = cv_model.predict(X_test)\n",
    "\n",
    "y_score = cv_model.decision_function(X_test) # Submit these response, the output of model.decision_function\n",
    "\n",
    "\"\"\" Check your performance so far.\"\"\"\n",
    "\n",
    "conmat = np.array(confusion_matrix(y_test, cv_pred))\n",
    "confusion = pd.DataFrame(conmat, index=replacements, columns=replacements)\n",
    "\n",
    "print(confusion)\n",
    "print classification_report(y_test,cv_pred)\n",
    "print cv_model.coef_"
   ]
  },
  {
   "cell_type": "raw",
   "metadata": {
    "ExecuteTime": {
     "end_time": "2016-10-18T14:32:22.294048",
     "start_time": "2016-10-18T18:31:34.494Z"
    },
    "collapsed": false
   },
   "source": [
    "\"\"\" Fit a binary classification predictor.\"\"\"\n",
    "logreg = LogisticRegression(solver='liblinear') #'newton-cg', 'lbfgs', 'liblinear', 'sag'\n",
    "C_vals = [10**x for x in range (-5,5)]\n",
    "penalties = ['l1','l2']\n",
    "\n",
    "gs = GridSearchCV(logreg, {'penalty': penalties, 'C': C_vals}, verbose=False, cv=3)\n",
    "gs.fit(X_train, y_train)\n",
    "\n",
    "logreg = LogisticRegression(C=gs.best_params_['C'], penalty=gs.best_params_['penalty'])\n",
    "cv_model = logreg.fit(X_train, y_train)\n",
    "cv_pred = cv_model.predict(X_test)\n",
    "\n",
    "y_score = cv_model.decision_function(X_test) # Submit these response, the output of model.decision_function\n",
    "\n",
    "\"\"\" Check your performance so far.\"\"\"\n",
    "\n",
    "conmat = np.array(confusion_matrix(y_test, cv_pred))\n",
    "confusion = pd.DataFrame(conmat, index=replacements,\n",
    "                            columns=replacements)\n",
    "\n",
    "print(confusion)\n",
    "print classification_report(y_test,cv_pred)\n"
   ]
  },
  {
   "cell_type": "raw",
   "metadata": {
    "ExecuteTime": {
     "end_time": "2016-10-18T14:32:22.294526",
     "start_time": "2016-10-18T18:31:34.500Z"
    },
    "collapsed": false
   },
   "source": [
    "roc_auc_score(y_test, y_score)\n",
    "\n",
    "\"\"\" Plot AUC\"\"\"\n",
    "\n",
    "FPR = dict()\n",
    "TPR = dict()\n",
    "ROC_AUC = dict()\n",
    "\n",
    "# For class 1, find the area under the curve\n",
    "FPR[1], TPR[1], _ = roc_curve(y_test, y_score)\n",
    "ROC_AUC[1] = auc(FPR[1], TPR[1])\n",
    "\n",
    "# Plot of a ROC curve for class 1 (has_cancer)\n",
    "plt.figure(figsize=[11,9])\n",
    "plt.plot(FPR[1], TPR[1], label='ROC curve (area = %0.2f)' % ROC_AUC[1], linewidth=4)\n",
    "plt.plot([0, 1], [0, 1], 'k--', linewidth=4)\n",
    "plt.xlim([0.0, 1.0])\n",
    "plt.ylim([0.0, 1.05])\n",
    "plt.xlabel('False Positive Rate', fontsize=18)\n",
    "plt.ylabel('True Positive Rate', fontsize=18)\n",
    "plt.title('Receiver operating characteristic for high/low income', fontsize=18)\n",
    "plt.legend(loc=\"lower right\")\n",
    "plt.show()"
   ]
  },
  {
   "cell_type": "raw",
   "metadata": {
    "ExecuteTime": {
     "end_time": "2016-10-18T14:32:22.295061",
     "start_time": "2016-10-18T18:31:34.503Z"
    },
    "collapsed": false,
    "scrolled": false
   },
   "source": [
    "#Linear Regression\n",
    "xtr=x_train\n",
    "xte=x_test\n",
    "ytr=y_train\n",
    "yte=y_test\n",
    "\n",
    "xtr=np.array(xtr).reshape(len(xtr),4)\n",
    "xte=np.array(xte).reshape(len(xte),4)\n",
    "xtr2=sm.add_constant(xtr)\n",
    "model=sm.OLS(ytr,xtr).fit()\n",
    "\n",
    "xte2=sm.add_constant(xte)\n",
    "pred=model.predict(xte)\n",
    "\n",
    "plt.plot(pred,yte,'o')\n",
    "plt.plot(pred,pred,'-')\n",
    "plt.xlim(0,180000)\n",
    "plt.ylim(0,180000)\n",
    "plt.show()\n",
    "\n",
    "print model.summary2()"
   ]
  },
  {
   "cell_type": "raw",
   "metadata": {
    "ExecuteTime": {
     "end_time": "2016-10-18T14:32:22.295965",
     "start_time": "2016-10-18T18:31:34.507Z"
    },
    "collapsed": false
   },
   "source": [
    "temp=xtr[:len(xtr)/3]\n",
    "plt.hist(xte[\"100% Composite Index\"],bins=5)\n",
    "plt.hist(temp[\"100% Composite Index\"],bins=5)\n",
    "plt.show()"
   ]
  },
  {
   "cell_type": "raw",
   "metadata": {
    "ExecuteTime": {
     "end_time": "2016-10-18T14:32:22.296807",
     "start_time": "2016-10-18T18:31:34.510Z"
    },
    "collapsed": false
   },
   "source": [
    "df.iloc[730]"
   ]
  },
  {
   "cell_type": "raw",
   "metadata": {},
   "source": [
    "For the logistic regressions, make the discrete value a bin; the smallest bin will be 0. The goal should be to make the bins be organized so that a linear plot can be drawn through them. If the linear plot does not run through them, then there is significant risk of misidentifying a bin. Depending on what the x-axis is (most-likely score), the bins will have to have an equal width along this x-axis (i.e., all bins having a width of x-units on the x-axis).\n",
    "\n",
    "Contrarily, we want evenly distributed bins in the price aspect.\n",
    "\n",
    "So, if one were to not do a multinomial logistic regression, one could additionally do a series of logistic regressions. One would check to see if the point goes into bin 0 or 1. If it goes into 1, one would check to see if it goes into bins 1 or 2. If it is in bin 2, one would see if it goes into bins 2 or 3... If it does not go into the higher bin, the regression sequence ends, and the point enters the lower of the two bins.\n",
    "### Scratch ^; essentially a multinomial logistic regression"
   ]
  },
  {
   "cell_type": "raw",
   "metadata": {
    "ExecuteTime": {
     "end_time": "2016-10-18T14:32:22.297363",
     "start_time": "2016-10-18T18:31:34.520Z"
    },
    "collapsed": false,
    "scrolled": true
   },
   "source": [
    "df.head()"
   ]
  },
  {
   "cell_type": "raw",
   "metadata": {
    "ExecuteTime": {
     "end_time": "2016-10-18T14:32:22.297797",
     "start_time": "2016-10-18T18:31:34.525Z"
    },
    "collapsed": false
   },
   "source": [
    "#Merge Company Data and Location Data"
   ]
  },
  {
   "cell_type": "raw",
   "metadata": {
    "collapsed": true
   },
   "source": []
  },
  {
   "cell_type": "raw",
   "metadata": {
    "collapsed": true
   },
   "source": []
  },
  {
   "cell_type": "raw",
   "metadata": {
    "ExecuteTime": {
     "end_time": "2016-10-18T14:32:22.298256",
     "start_time": "2016-10-18T18:31:34.530Z"
    },
    "collapsed": false
   },
   "source": [
    "plt.hist(glass_door[glass_door[\"Job\"]==\"Senior Data Scientist\"][\"Salary\"],bins=10)\n",
    "plt.hist(glass_door[glass_door[\"Job\"]==\"Data Scientist\"][\"Salary\"],bins=36);"
   ]
  },
  {
   "cell_type": "raw",
   "metadata": {
    "ExecuteTime": {
     "end_time": "2016-10-18T14:32:22.298696",
     "start_time": "2016-10-18T18:31:34.534Z"
    },
    "collapsed": false
   },
   "source": [
    "glass_door=glass_door.merge(cities, left_on=\"Location\", right_on=\"City\")"
   ]
  },
  {
   "cell_type": "raw",
   "metadata": {
    "ExecuteTime": {
     "end_time": "2016-10-18T14:32:22.299150",
     "start_time": "2016-10-18T18:31:34.536Z"
    },
    "collapsed": false
   },
   "source": [
    "glass_door=glass_door.merge(cities, left_on=\"Location\", right_on=\"City\")\n",
    "glass_door[\"Normalized Salary\"]=glass_door[\"Salary\"]/glass_door[\"100% Composite Index\"]"
   ]
  },
  {
   "cell_type": "raw",
   "metadata": {
    "ExecuteTime": {
     "end_time": "2016-10-18T14:32:22.299584",
     "start_time": "2016-10-18T18:31:34.568Z"
    },
    "collapsed": false
   },
   "source": [
    "glass_door"
   ]
  },
  {
   "cell_type": "raw",
   "metadata": {
    "ExecuteTime": {
     "end_time": "2016-10-18T14:32:22.300062",
     "start_time": "2016-10-18T18:31:34.573Z"
    },
    "collapsed": false,
    "scrolled": false
   },
   "source": [
    "df=glass_door.copy()\n",
    "df[\"Senior\"]=[1 if x else 0 for x in df[\"Job\"]==(\"Senior Data Scientist\" or \"Principal Data Scientist\")]\n",
    "df[\"Mid\"]=[1 if x else 0 for x in df[\"Job\"]==(\"Data Scientist\")]\n",
    "    \n",
    "#df=df[df[\"Job\"]==(\"Data Scientist\" or \"Principal Data Scientist\" or \"Senior Data Scientist\")]\n",
    "cols=['Senior',\"Mid\"]\n",
    "    \n",
    "    \n",
    "x_train,x_test,y_train,y_test=train_test_split(df[cols],df['Normalized Salary'],test_size=.35,random_state=70)\n",
    "\"\"\" Fit a binary classification predictor.\"\"\"\n",
    "#Linear Regression\n",
    "xtr=x_train\n",
    "xte=x_test\n",
    "ytr=y_train\n",
    "yte=y_test\n",
    "\n",
    "xtr=np.array(xtr).reshape(len(xtr),2)\n",
    "xte=np.array(xte).reshape(len(xte),2)\n",
    "xtr2=sm.add_constant(xtr)\n",
    "model=sm.OLS(ytr,xtr).fit()\n",
    "\n",
    "xte2=sm.add_constant(xte)\n",
    "pred=model.predict(xte)\n",
    "\n",
    "plt.plot(pred,yte,'o')\n",
    "plt.plot(pred,pred,'-')\n",
    "plt.xlim(0,2000)\n",
    "plt.ylim(0,2000)\n",
    "plt.show()\n",
    "\n",
    "print model.summary2()"
   ]
  },
  {
   "cell_type": "raw",
   "metadata": {
    "collapsed": false,
    "scrolled": false
   },
   "source": []
  },
  {
   "cell_type": "raw",
   "metadata": {
    "collapsed": true
   },
   "source": []
  },
  {
   "cell_type": "raw",
   "metadata": {
    "collapsed": true
   },
   "source": []
  },
  {
   "cell_type": "raw",
   "metadata": {
    "collapsed": true
   },
   "source": []
  },
  {
   "cell_type": "raw",
   "metadata": {
    "collapsed": true
   },
   "source": []
  },
  {
   "cell_type": "raw",
   "metadata": {
    "collapsed": true
   },
   "source": []
  },
  {
   "cell_type": "raw",
   "metadata": {
    "collapsed": true
   },
   "source": []
  },
  {
   "cell_type": "raw",
   "metadata": {
    "collapsed": true
   },
   "source": []
  },
  {
   "cell_type": "raw",
   "metadata": {
    "collapsed": true
   },
   "source": []
  },
  {
   "cell_type": "raw",
   "metadata": {
    "collapsed": true
   },
   "source": []
  },
  {
   "cell_type": "raw",
   "metadata": {
    "collapsed": false
   },
   "source": []
  },
  {
   "cell_type": "markdown",
   "metadata": {
    "ExecuteTime": {
     "end_time": "2016-10-18T14:37:15.643836",
     "start_time": "2016-10-18T14:37:15.635873"
    },
    "collapsed": true
   },
   "source": [
    "We had discrepancies between the names of the scraped Glass Door data, and the names of the stock information. This led to information not being merged when it should have. So, we manually searched for the pairs of names and input them into a dictionary. This dictionary would be used to rename the mislabeled Glass Door entries."
   ]
  },
  {
   "cell_type": "code",
   "execution_count": 8,
   "metadata": {
    "ExecuteTime": {
     "end_time": "2016-10-18T14:37:20.882309",
     "start_time": "2016-10-18T14:37:19.120559"
    },
    "collapsed": true
   },
   "outputs": [],
   "source": [
    "\"\"\"ONLY USED FOR FINDING STOCKS\"\"\"\n",
    "\n",
    "names=[x for x,y in zip(stocks[\"Name\"].value_counts().sort_values(ascending=False).index,\\\n",
    "                        stocks[\"Name\"].value_counts().sort_values(ascending=False).values) if y>1]\n",
    "\n",
    "names=['Price']\n",
    "\n",
    "#Finds all instances of a company name within stocks[\"Name\"], and prints the instance and its index numer\n",
    "for name in names:\n",
    "    i=0\n",
    "    while i<len(stocks):\n",
    "        if stocks.loc[i,\"Name\"]==name:\n",
    "            print \"index: \",i\n",
    "            print stocks.iloc[i]\n",
    "            print \"\\n\"\n",
    "        i+=1\n",
    "\n",
    "# [x for x in stocks[\"Name\"] if x[0:3]==\"Exp\"] #-->Additional Search Method; looks for first three letters\n",
    "# [x for x in stocks[\"Name\"] if \"Price\".lower() in x.lower()]"
   ]
  },
  {
   "cell_type": "code",
   "execution_count": 9,
   "metadata": {
    "ExecuteTime": {
     "end_time": "2016-10-18T14:37:20.895650",
     "start_time": "2016-10-18T14:37:20.884730"
    },
    "collapsed": true
   },
   "outputs": [],
   "source": [
    "change={\"GE\": \"General Electric Company\", \"IBM\":\"Microsoft\",\"Capital One\":\"Capital One Financial\",\n",
    "        \"Verizon\":\"Verizon Communications\",\"Hewlett Packard Enterprise | HPE\":'Hewlett Packard Enterprise Company',\n",
    "       \"Hewlett-Packard\":'Hewlett Packard Enterprise Company',\"Alliance Data\":\"Alliance Data Systems\",\n",
    "       'Raytheon':'Raytheon Company',\"GE\":'General Electric Company',\"Verizon Wireless\":\"Verizon Communications\",\n",
    "       \"Intel Corporation\":\"Intel\",\"MaxPoint\":\"MaxPoint Interactive\",\"General Motors\":\"General Motors Company\",\n",
    "       \"Booz Allen Hamilton\":\"Booz Allen Hamilton Holding\",\"Nielsen\":\"Nielsen N.V.\",\"SAP\":\"SAP SE\",\n",
    "       \"General Dynamics Mission Systems\":\"General Dynamics\",\"Leidos\":\"Leidos Holdings\",\n",
    "       \"Honeywell\":\"Honeywell International\",\"Akamai\":\"Akamai Technologies\",\"BNY Mellon\":\"Bank Of New York Mellon\",\n",
    "       \"FIS\":\"Fidelity National Information Services\",\"J.P. Morgan\":'J P Morgan Chase & Co',\n",
    "       \"Walmart\":'Wal-Mart Stores',\"PayPal\":\"PayPal Holdings\",\"Adobe\":\"Adobe Systems\",'AOL':\"Verizon Communications\"}"
   ]
  },
  {
   "cell_type": "raw",
   "metadata": {
    "collapsed": false,
    "scrolled": true
   },
   "source": []
  },
  {
   "cell_type": "raw",
   "metadata": {
    "collapsed": false
   },
   "source": []
  },
  {
   "cell_type": "raw",
   "metadata": {
    "collapsed": false
   },
   "source": []
  },
  {
   "cell_type": "raw",
   "metadata": {
    "collapsed": true
   },
   "source": []
  },
  {
   "cell_type": "code",
   "execution_count": 15,
   "metadata": {
    "ExecuteTime": {
     "end_time": "2016-10-18T14:47:24.202022",
     "start_time": "2016-10-18T14:47:24.067987"
    },
    "collapsed": false,
    "scrolled": false
   },
   "outputs": [],
   "source": [
    "import pandas as pd\n",
    "import numpy as np\n",
    "import requests\n",
    "import bs4\n",
    "import pandas as pd\n",
    "from bs4 import BeautifulSoup\n",
    "import datetime\n",
    "import urllib\n",
    "import statsmodels.api as sm\n",
    "from sklearn import linear_model\n",
    "import sklearn\n",
    "from sklearn.cross_validation import train_test_split\n",
    "import matplotlib.pyplot as plt\n",
    "import seaborn as sns\n",
    "import time\n",
    "import statsmodels.api as sm\n",
    "from scipy import stats\n",
    "from sklearn import datasets, linear_model\n",
    "from sklearn.pipeline import Pipeline\n",
    "from sklearn.preprocessing import PolynomialFeatures\n",
    "from sklearn.linear_model import LinearRegression\n",
    "from sklearn.linear_model import Ridge\n",
    "from sklearn.linear_model import Lasso\n",
    "from sklearn.metrics import mean_squared_error\n",
    "from sklearn.metrics import classification_report, confusion_matrix, accuracy_score\n",
    "from sklearn.cross_validation import train_test_split, cross_val_score\n",
    "from sklearn.linear_model import LogisticRegression, LogisticRegressionCV\n",
    "from sklearn.grid_search import GridSearchCV\n",
    "from sklearn.cross_validation import train_test_split\n",
    "from sklearn.metrics import roc_auc_score\n",
    "from sklearn.metrics import roc_curve\n",
    "from sklearn.metrics import auc\n",
    "% matplotlib inline\n",
    "lm = linear_model.LinearRegression()\n",
    "LR=sklearn.linear_model.LogisticRegression\n",
    "LRCV=sklearn.linear_model.LogisticRegressionCV"
   ]
  },
  {
   "cell_type": "code",
   "execution_count": 16,
   "metadata": {
    "ExecuteTime": {
     "end_time": "2016-10-18T14:47:24.615574",
     "start_time": "2016-10-18T14:47:24.554118"
    },
    "collapsed": true
   },
   "outputs": [],
   "source": [
    "def renaming(x):\n",
    "    new_name=\"\"\n",
    "    if x==(\"Junior Data Scientist\"or\"Entry Level Data Scientist\" or \"Data Scientist II\" or \"Associate Data Scientist\"):\n",
    "        new_name=\"Junior DS\"\n",
    "    elif x==(\"Senior Data Scientist\" or \"Principal Data Scientist\"):\n",
    "        new_name==\"Senior DS\"\n",
    "    else:\n",
    "        new_name=\"DS\"\n",
    "    return new_name\n",
    "def name_change(x):\n",
    "    new_value=\"\"\n",
    "    if x in change.keys():\n",
    "        new_value=change[x]\n",
    "    else:\n",
    "        new_value=x\n",
    "    return new_value\n",
    "def cap(x):\n",
    "    value=0\n",
    "    if x is np.NAN:\n",
    "        value=\"Unknown\"\n",
    "    elif x>2000:\n",
    "        value=\"Hugecap\"\n",
    "    elif x>500:\n",
    "        value=\"Largecap\"\n",
    "    elif x>100:\n",
    "        value=\"Midcap\"\n",
    "    else:\n",
    "        value=\"Smallcap\"\n",
    "    return value\n",
    "def create_bins(low,high,n):\n",
    "    increment=(high-low)/float(n)\n",
    "    bins=[]\n",
    "    for i in range(n+1):\n",
    "        bins.append(low+increment*(i))\n",
    "    replacements=[]\n",
    "    i=0\n",
    "    while i<len(bins)-1:\n",
    "        replacements.append(str(int(round(bins[i])))+\"-\"+str(int(round(bins[i+1]))))\n",
    "        i+=1\n",
    "    return bins,replacements\n",
    "def salary_bin(bins,replacements,x):\n",
    "    i=0\n",
    "    value=0\n",
    "    while i<len(bins)-1:\n",
    "        if x<=int(round(bins[i+1])):\n",
    "            value=replacements[i]\n",
    "            i=len(bins)\n",
    "        i+=1\n",
    "    if value==0:\n",
    "        value=str(bins[-1])+\"+\"\n",
    "    return value\n",
    "def only_numerics(seq):\n",
    "    seq = seq.split('-')\n",
    "    try:\n",
    "        out = ((int(filter(type(seq[0]).isdigit, seq[0])) + int(filter(type(seq[1]).isdigit, seq[1])))/2)*1000\n",
    "    except:\n",
    "        out = int(filter(type(seq[0]).isdigit, seq[0]))\n",
    "    return out\n"
   ]
  },
  {
   "cell_type": "raw",
   "metadata": {
    "collapsed": true
   },
   "source": []
  },
  {
   "cell_type": "raw",
   "metadata": {
    "collapsed": true
   },
   "source": []
  },
  {
   "cell_type": "raw",
   "metadata": {
    "collapsed": true
   },
   "source": []
  },
  {
   "cell_type": "markdown",
   "metadata": {
    "collapsed": true
   },
   "source": [
    "Uploads the non-Glass Door data.\n",
    "The stock data is cleaned for:\n",
    "* Certain terms in the name. Things like 'inc,' or 'corp' are deleted. This helps the matching process.\n",
    "* The market cap information is converted from strings to millions of dollars.\n",
    "\n",
    "The city data is cleaned for:\n",
    "\n",
    "* Cities containing '-'\n",
    "* Cities containing 'county'\n",
    "* Removing ',' from city names"
   ]
  },
  {
   "cell_type": "code",
   "execution_count": 17,
   "metadata": {
    "ExecuteTime": {
     "end_time": "2016-10-18T14:47:55.034028",
     "start_time": "2016-10-18T14:47:27.152576"
    },
    "collapsed": false
   },
   "outputs": [],
   "source": [
    "#Cleans up the Stock information\n",
    "nyse=pd.read_csv(\"Data/NYSE.csv\")\n",
    "nasdaq=pd.read_csv(\"Data/NASDAQ.csv\")\n",
    "amex=pd.read_csv(\"Data/AMEX.csv\")\n",
    "stocks=nyse.append(nasdaq,ignore_index=True).append(amex,ignore_index=True)\n",
    "del stocks[\"Summary Quote\"]\n",
    "i=0\n",
    "while i<len(stocks[\"Symbol\"]):\n",
    "    if \" (The)\" in stocks.iloc[i,1]:\n",
    "        stocks.iloc[i,1]=stocks.iloc[i,1][:len(stocks.iloc[i,1])-len(\" (The)\")]\n",
    "    if \" Incorporated\" in stocks.iloc[i,1]:\n",
    "        stocks.iloc[i,1]=stocks.iloc[i,1][:len(stocks.iloc[i,1])-len(\" Incorporated\")]\n",
    "    if \", Inc.\" in stocks.iloc[i,1]:\n",
    "        stocks.iloc[i,1]=stocks.iloc[i,1][:len(stocks.iloc[i,1])-len(\", Inc.\")]\n",
    "    if \", Inc\" in stocks.iloc[i,1]:\n",
    "        stocks.iloc[i,1]=stocks.iloc[i,1][:len(stocks.iloc[i,1])-len(\", Inc\")]\n",
    "    if \", INC\" in stocks.iloc[i,1]:\n",
    "        stocks.iloc[i,1]=stocks.iloc[i,1][:len(stocks.iloc[i,1])-len(\", Inc\")]\n",
    "    if \" Inc.\" in stocks.iloc[i,1]:\n",
    "        stocks.iloc[i,1]=stocks.iloc[i,1][:len(stocks.iloc[i,1])-len(\" Inc.\")]\n",
    "    if \" Inc\" in stocks.iloc[i,1]:\n",
    "        stocks.iloc[i,1]=stocks.iloc[i,1][:len(stocks.iloc[i,1])-len(\" Inc\")]\n",
    "    if \" INC\" in stocks.iloc[i,1]:\n",
    "        stocks.iloc[i,1]=stocks.iloc[i,1][:len(stocks.iloc[i,1])-len(\" Inc\")]\n",
    "    if  \" Corporation\" in stocks.iloc[i,1]:\n",
    "        stocks.iloc[i,1]=stocks.iloc[i,1][:len(stocks.iloc[i,1])-len(\" Corporation\")]\n",
    "    if \" Corp.\" in stocks.iloc[i,1]:\n",
    "        stocks.iloc[i,1]=stocks.iloc[i,1][:len(stocks.iloc[i,1])-len(\" Corp.\")]\n",
    "    if \" Corp\" in stocks.iloc[i,1]:\n",
    "        stocks.iloc[i,1]=stocks.iloc[i,1][:len(stocks.iloc[i,1])-len(\" Corp\")]\n",
    "    if \" CORP\" in stocks.iloc[i,1]:\n",
    "        stocks.iloc[i,1]=stocks.iloc[i,1][:len(stocks.iloc[i,1])-len(\" Corp\")]\n",
    "    i+=1\n",
    "\n",
    "#Convert MarketCap to Millions of dollars\n",
    "i=0\n",
    "while i<len(stocks[\"MarketCap\"]):\n",
    "    if \"B\" in str(stocks.iloc[i,3])[-1:]:\n",
    "        stocks.iloc[i,3]=float(str(stocks.iloc[i,3])[1:-1])*1000\n",
    "    else:\n",
    "        stocks.iloc[i,3]=str(stocks.iloc[i,3])[1:-1]\n",
    "    i+=1\n",
    "\n",
    "stocks=stocks.reset_index()\n",
    "del stocks['index']\n",
    "\n",
    "#Cleans cities data (eliminates counties and combined cities/towns)\n",
    "cities=pd.read_csv(\"Data/Living_Index.csv\")\n",
    "cities=cities.rename(columns={\"Urban Area\":\"City\"})\n",
    "values=[]\n",
    "for x in cities[\"City\"]:\n",
    "    if \"-\" in x:\n",
    "        values.append(False)\n",
    "    else:\n",
    "        values.append(True)\n",
    "cities=cities[values]\n",
    "values=[]\n",
    "for x in cities[\"City\"]:\n",
    "    if \"county\" in x.lower():\n",
    "        values.append(False)\n",
    "    else:\n",
    "        values.append(True)\n",
    "cities=cities[values]\n",
    "new_city_list=[]\n",
    "\n",
    "for x in cities[\"City\"]:\n",
    "    y=x[-4:]\n",
    "    z=x[:-len(y)].replace(\",\",\"\")+y\n",
    "    new_city_list.append(z)\n",
    "cities[\"City\"]=new_city_list"
   ]
  },
  {
   "cell_type": "markdown",
   "metadata": {},
   "source": [
    "We initiate a Glass Door data frame to connect the json to.\n",
    "We upload the json, which has four columns:\n",
    "* Location\n",
    "* Company\n",
    "* Salary\n",
    "* Job\n",
    "\n",
    "We clean the json df for:\n",
    "* Changing salary ranges to averagees\n",
    "\n",
    "We save the json df as 'glass_door'.\n",
    "\n",
    "We clean the glass_door df for:\n",
    "* Name changes found listed above\n",
    "\n",
    "We merge the glass_door df with cities. \n",
    "\n",
    "We create a new column \"Normalized Salary\"."
   ]
  },
  {
   "cell_type": "code",
   "execution_count": 18,
   "metadata": {
    "ExecuteTime": {
     "end_time": "2016-10-18T14:47:59.317525",
     "start_time": "2016-10-18T14:47:58.989871"
    },
    "collapsed": false
   },
   "outputs": [],
   "source": [
    "glass_door=pd.DataFrame(columns=[\"Salary\",\"Company\",\"Location\"])\n",
    "\n",
    "extension=\"Data/allcities.json\"\n",
    "json=pd.read_json(extension)\n",
    "df=pd.DataFrame([json[\"city\"],json[\"company\"],json[\"meanPay\"],json[\"jobTitle\"]]).T\n",
    "df.columns=[\"Location\",\"Company\",\"Salary\",\"Job\"]\n",
    "temp=[]\n",
    "\n",
    "\n",
    "df['Salary'] = df['Salary'].apply(only_numerics)\n",
    "df=df[pd.notnull(df[\"Salary\"])].reset_index()\n",
    "del df['index']\n",
    "df[\"Salary\"]=df['Salary'].astype(np.float)#\n",
    "\n",
    "glass_door=glass_door.append(df,ignore_index=True)\n",
    "\n",
    "glass_door[\"Company\"]=glass_door[\"Company\"].apply(lambda x: name_change(x))\n",
    "\n",
    "glass_door=glass_door.merge(cities, left_on=\"Location\", right_on=\"City\")\n",
    "glass_door[\"Normalized Salary\"]=glass_door[\"Salary\"]/glass_door[\"100% Composite Index\"]"
   ]
  },
  {
   "cell_type": "markdown",
   "metadata": {},
   "source": [
    "We merge the glass_door df with stocks. We only select those Jobs that are Junior Level, Middle Level, or Senior Level. We dont want to end up with internships. We then bin the jobs with their respective bin names (as just mentioned).\n",
    "\n",
    "For the most recurring private companies, market cap and sectors were updated as they had an impact on prediction ability.\n",
    "\n",
    "Null values in market cap and sector were changed appropriately."
   ]
  },
  {
   "cell_type": "code",
   "execution_count": 19,
   "metadata": {
    "ExecuteTime": {
     "end_time": "2016-10-18T14:48:00.706181",
     "start_time": "2016-10-18T14:48:00.381383"
    },
    "collapsed": false
   },
   "outputs": [],
   "source": [
    "df=glass_door.copy()\n",
    "df=df.merge(stocks, how='left',left_on=\"Company\",right_on=\"Name\")\n",
    "df=df[df[\"Job\"]==(\"Senior Data Scientist\" or \"Principal Data Scientist\" or \"Data Scientist\" or \"Junior Data Scientist\"\n",
    "                 or \"Entry Level Data Scientist\" or \"Data Scientist II\" or \"Associate Data Scientist\")]\n",
    "\n",
    "\n",
    "df[\"Job\"]=df[\"Job\"].apply(lambda x: renaming(x))\n",
    "\n",
    "\n",
    "\n",
    "marketcap_sectors={'KPMG':[24440,\"Consulting\"],'Razorfish':[np.NaN,\"Technology\"],\n",
    "                   'Elevate Credit':[640,\"Finance\"],'BCG Digital Ventures':[np.NaN,\"Finance\"]}\n",
    "\n",
    "df=df.reset_index()\n",
    "del df[\"index\"]\n",
    "i=0\n",
    "while i<len(df):\n",
    "    if df.loc[i,\"Company\"] in marketcap_sectors.keys():\n",
    "        df.loc[i,\"MarketCap\"]=marketcap_sectors[df.loc[i,\"Company\"]][0]\n",
    "        df.loc[i,\"Sector\"]=marketcap_sectors[df.loc[i,\"Company\"]][1]\n",
    "    i+=1\n",
    "\n",
    "df[\"Sector\"]=[\"Technology\" if pd.isnull(x) else x for x in df[\"Sector\"]]\n",
    "df[\"MarketCap\"]=df[\"MarketCap\"].apply(lambda x: cap(x))\n",
    "#df[\"MarketCapSector\"]=df[\"Sector\"]+df[\"MarketCap\"]"
   ]
  },
  {
   "cell_type": "code",
   "execution_count": 20,
   "metadata": {
    "ExecuteTime": {
     "end_time": "2016-10-18T14:48:26.184660",
     "start_time": "2016-10-18T14:48:05.800338"
    },
    "collapsed": false,
    "scrolled": false
   },
   "outputs": [],
   "source": [
    "df2=pd.get_dummies(df,columns=[\"Sector\",\"MarketCap\",\"State\",\"Region\"])\n",
    "delete=[u'industry',u'Company', u'Location', u'Salary', u'City',\n",
    "       u'Symbol', u'Name', u'LastSale', u'IPOyear',u'Normalized Salary',u'100% Composite Index',\"Job\"] \n",
    "#u'13 % Grocery Items', u'29 % Housing',\n",
    "#      u'10% Utilities', u'12 % Transportation', u'4% Health Care',\n",
    "#       u'32 % Miscellaneous Goods and Services',\n",
    "for x in delete:\n",
    "    del df2[x]\n",
    "\n",
    "normalizer=pd.DataFrame(df[\"100% Composite Index\"].copy(),columns=[\"100% Composite Index\"])\n",
    "df2=df2.reset_index()\n",
    "del df2['index']\n",
    "normalizer=normalizer.reset_index()\n",
    "del normalizer['index']\n",
    "i=0\n",
    "cols=df2.columns\n",
    "while i<len(df2):\n",
    "    for x in cols:\n",
    "        df2.loc[i,x]=df2.loc[i,x]*normalizer.loc[i,\"100% Composite Index\"]\n",
    "    i+=1"
   ]
  },
  {
   "cell_type": "code",
   "execution_count": 21,
   "metadata": {
    "ExecuteTime": {
     "end_time": "2016-10-18T14:48:28.365028",
     "start_time": "2016-10-18T14:48:28.348861"
    },
    "collapsed": false
   },
   "outputs": [],
   "source": [
    "#ENTER BINS BELOW\n",
    "bin_NUMBER=3\n",
    "\n",
    "temp2=pd.DataFrame(df[\"Salary\"].copy(),columns=[\"Salary\"])\n",
    "bins2,replacements2=create_bins(min(temp2[\"Salary\"]),max(temp2[\"Salary\"]),bin_NUMBER)\n",
    "\n",
    "temp=pd.DataFrame(df[\"Salary\"].copy(),columns=[\"Salary\"])\n",
    "bins,replacements=create_bins(min(temp[\"Salary\"]),max(temp[\"Salary\"]),bin_NUMBER)\n",
    "temp[\"Normalized Salary\"]=temp[\"Salary\"].apply(lambda x: salary_bin(bins,replacements,x))\n",
    "#df1=pd.get_dummies(temp,columns=[\"Normalized Salary\"])\n",
    "df1=temp[\"Normalized Salary\"]"
   ]
  },
  {
   "cell_type": "code",
   "execution_count": 22,
   "metadata": {
    "ExecuteTime": {
     "end_time": "2016-10-18T14:49:27.392703",
     "start_time": "2016-10-18T14:48:30.982479"
    },
    "collapsed": false,
    "scrolled": false
   },
   "outputs": [
    {
     "name": "stdout",
     "output_type": "stream",
     "text": [
      "Number of bins:     3\n",
      "Random Iterations:  19\n",
      "\n",
      "Average Precision:  0.755789473684\n",
      "Average Recall:     0.755789473684\n",
      "Average F1-Score:   0.750526315789\n",
      "\n",
      "Variance Precision: 0.000719113573407\n",
      "Variance Recall:    0.000645429362881\n",
      "Variance F1-Score:  0.000594459833795\n"
     ]
    }
   ],
   "source": [
    "prec=[]\n",
    "recall=[]\n",
    "f1score=[]\n",
    "max_rand=20\n",
    "\n",
    "for random in range(1,max_rand):\n",
    "    x_train,x_test,y_train,y_test=train_test_split(df2,df1,test_size=.35,stratify=df1,random_state=random)\n",
    "    logreg = LogisticRegression(solver='lbfgs') #'newton-cg', 'lbfgs', 'liblinear', 'sag'\n",
    "    C_vals = np.linspace(1,1001,10)\n",
    "    penalties = ['l2']\n",
    "\n",
    "    gs = GridSearchCV(logreg, {'penalty': penalties, 'C': C_vals}, cv=3)\n",
    "    gs.fit(x_train, y_train)\n",
    "\n",
    "    logreg = LogisticRegression(C=gs.best_params_['C'], penalty=gs.best_params_['penalty'])\n",
    "    cv_model = logreg.fit(x_train, y_train)\n",
    "    cv_pred = cv_model.predict(x_test)\n",
    "\n",
    "    y_score = cv_model.decision_function(x_test) # Submit these response, the output of model.decision_function\n",
    "\n",
    "    \"\"\" Check your performance so far.\"\"\"\n",
    "\n",
    "    conmat = np.array(confusion_matrix(y_test, cv_pred))\n",
    "    confusion = pd.DataFrame(conmat, index=cv_model.classes_, columns=cv_model.classes_)\n",
    "    \n",
    "    prec.append(float(classification_report(y_test,cv_pred)[-35:-31]))\n",
    "    recall.append(float(classification_report(y_test,cv_pred)[-25:-21]))\n",
    "    f1score.append(float(classification_report(y_test,cv_pred)[-15:-11]))\n",
    "#    \n",
    "print \"Number of bins:    \", bin_NUMBER\n",
    "print \"Random Iterations: \", max_rand-1\n",
    "print \n",
    "print \"Average Precision: \", np.mean(prec)\n",
    "print \"Average Recall:    \", np.mean(recall)\n",
    "print \"Average F1-Score:  \", np.mean(f1score)\n",
    "print \n",
    "print \"Variance Precision:\", np.var(prec)\n",
    "print \"Variance Recall:   \", np.var(recall)\n",
    "print \"Variance F1-Score: \", np.var(f1score)\n",
    "\n",
    "\n",
    "#     print(confusion)\n",
    "#     print classification_report(y_test,cv_pred)\n",
    "    #print cv_model.coef_"
   ]
  },
  {
   "cell_type": "markdown",
   "metadata": {},
   "source": [
    "## BEST with Junior Jobs and no Job Dummies\n",
    "* Number of bins:    3\n",
    "* Average Precision: 0.756315789474\n",
    "* Average Recall:    0.754736842105\n",
    "* Average F1-Score:  0.751052631579\n",
    "\n",
    "## Best with No Junior Jobs and Job Dummies\n",
    "* Number of bins:    3\n",
    "* Average Precision:  0.755789473684\n",
    "* Average Recall:     0.754210526316\n",
    "* Average F1-Score:   0.75\n",
    "\n",
    "## Best with No Junior Jobs and no Job Dummies\n",
    "* Number of bins:    3\n",
    "* Average Precision:  0.756315789474\n",
    "* Average Recall:     0.754736842105\n",
    "* Average F1-Score:   0.751052631579"
   ]
  },
  {
   "cell_type": "markdown",
   "metadata": {},
   "source": [
    "## Standard Company Changes:\n",
    "* Number of bins:    3\n",
    "* Average Precision: 0.748947368421\n",
    "* Average Recall:    0.748947368421\n",
    "* Average F1-Score:  0.744736842105\n",
    "\n",
    "## With Private Company changes:\n",
    "* Number of bins:    3\n",
    "* Average Precision: 0.755789473684\n",
    "* Average Recall:    0.754210526316\n",
    "* Average F1-Score:  0.75\n",
    "\n",
    "## With PC changes and no Job Dummies:\n",
    "* Number of bins:    3\n",
    "* Average Precision: 0.756315789474\n",
    "* Average Recall:    0.754736842105\n",
    "* Average F1-Score:  0.751052631579"
   ]
  },
  {
   "cell_type": "markdown",
   "metadata": {},
   "source": [
    "## Standard Company Changes:\n",
    "* Number of bins:    3\n",
    "* Average Precision: 0.748947368421\n",
    "* Average Recall:    0.748947368421\n",
    "* Average F1-Score:  0.744736842105\n",
    "\n",
    "## With Private Company changes:\n",
    "* Number of bins:    3\n",
    "* Average Precision: 0.755789473684\n",
    "* Average Recall:    0.754210526316\n",
    "* Average F1-Score:  0.75\n",
    "\n",
    "## With Private Company changes and Sector-MarketCap Bin:\n",
    "* Number of bins:    3\n",
    "* Average Precision: 0.753157894737\n",
    "* Average Recall:    0.752105263158\n",
    "* Average F1-Score:  0.748421052632\n",
    "\n",
    "## With PC changes and no State Dummies:\n",
    "* Number of bins:    3\n",
    "* Average Precision: 0.723684210526\n",
    "* Average Recall:    0.726842105263\n",
    "* Average F1-Score:  0.72\n",
    "\n",
    "## With PC changes and no Region Dummies:\n",
    "* Number of bins:    3\n",
    "* Average Precision: 0.754210526316\n",
    "* Average Recall:    0.754210526316\n",
    "* Average F1-Score:  0.748421052632\n",
    "\n",
    "## With PC changes and no Job Dummies:\n",
    "* Number of bins:    3\n",
    "* Average Precision: 0.756315789474\n",
    "* Average Recall:    0.754736842105\n",
    "* Average F1-Score:  0.751052631579\n",
    "\n",
    "## With PC changes, no J D, and no MarketCap Dummies\n"
   ]
  },
  {
   "cell_type": "raw",
   "metadata": {
    "ExecuteTime": {
     "end_time": "2016-10-18T14:49:35.406474",
     "start_time": "2016-10-18T14:49:35.380856"
    },
    "collapsed": false
   },
   "source": [
    "print classification_report(y_test,cv_pred)[-35:]\n",
    "prec=classification_report(y_test,cv_pred)[-35:-31]\n",
    "recall=classification_report(y_test,cv_pred)[-25:-21]\n",
    "f1score=classification_report(y_test,cv_pred)[-15:-11]\n",
    "\n",
    "print prec\n",
    "print recall\n",
    "print f1score"
   ]
  },
  {
   "cell_type": "raw",
   "metadata": {
    "ExecuteTime": {
     "end_time": "2016-10-18T14:49:36.144281",
     "start_time": "2016-10-18T14:49:36.121777"
    },
    "collapsed": false
   },
   "source": [
    "cv_model.classes_"
   ]
  },
  {
   "cell_type": "raw",
   "metadata": {
    "ExecuteTime": {
     "end_time": "2016-10-18T14:49:36.830309",
     "start_time": "2016-10-18T14:49:36.819957"
    },
    "collapsed": false
   },
   "source": [
    "#plt.hist(df[\"Salary\"],bins=30)\n",
    "172*len(df[df[\"Salary\"]>145000])/float(len(df[\"Salary\"]))"
   ]
  },
  {
   "cell_type": "code",
   "execution_count": 28,
   "metadata": {
    "ExecuteTime": {
     "end_time": "2016-10-18T14:49:46.110105",
     "start_time": "2016-10-18T14:49:46.105334"
    },
    "collapsed": false
   },
   "outputs": [
    {
     "name": "stdout",
     "output_type": "stream",
     "text": [
      "445.444444444 l2\n"
     ]
    }
   ],
   "source": [
    "print gs.best_params_['C'], gs.best_params_['penalty']"
   ]
  },
  {
   "cell_type": "code",
   "execution_count": 29,
   "metadata": {
    "ExecuteTime": {
     "end_time": "2016-10-18T14:49:46.688838",
     "start_time": "2016-10-18T14:49:46.681461"
    },
    "collapsed": false
   },
   "outputs": [],
   "source": [
    "x_train2,x_test2,y_train2,y_test2=train_test_split(df2,df['Salary'],test_size=.35)"
   ]
  },
  {
   "cell_type": "code",
   "execution_count": 30,
   "metadata": {
    "ExecuteTime": {
     "end_time": "2016-10-18T14:49:49.026620",
     "start_time": "2016-10-18T14:49:48.008778"
    },
    "collapsed": false
   },
   "outputs": [
    {
     "data": {
      "image/png": "[encoded data removed]",
      "text/plain": [
       "<matplotlib.figure.Figure at 0x118e23410>"
      ]
     },
     "metadata": {},
     "output_type": "display_data"
    },
    {
     "name": "stdout",
     "output_type": "stream",
     "text": [
      "                  Results: Ordinary least squares\n",
      "===================================================================\n",
      "Model:              OLS              Adj. R-squared:     0.988     \n",
      "Dependent Variable: Salary           AIC:                6979.0757 \n",
      "Date:               2016-10-18 14:49 BIC:                7136.9496 \n",
      "No. Observations:   317              Log-Likelihood:     -3447.5   \n",
      "Df Model:           42               F-statistic:        642.5     \n",
      "Df Residuals:       275              Prob (F-statistic): 2.83e-250 \n",
      "R-squared:          0.990            Scale:              1.8863e+08\n",
      "--------------------------------------------------------------------\n",
      "            Coef.    Std.Err.     t     P>|t|     [0.025     0.975] \n",
      "--------------------------------------------------------------------\n",
      "x1           3.0046    2.6637   1.1280  0.2603    -2.2393     8.2485\n",
      "x2          -1.3517    0.3221  -4.1968  0.0000    -1.9858    -0.7177\n",
      "x3          -0.9937    1.0100  -0.9838  0.3261    -2.9821     0.9947\n",
      "x4          -7.1135    2.9551  -2.4072  0.0167   -12.9310    -1.2961\n",
      "x5           1.4824    2.1345   0.6945  0.4880    -2.7197     5.6845\n",
      "x6          -1.9438    1.9116  -1.0168  0.3101    -5.7071     1.8195\n",
      "x7         242.5230   63.8156   3.8004  0.0002   116.8939   368.1521\n",
      "x8         143.5033   59.1710   2.4252  0.0159    27.0175   259.9890\n",
      "x9         478.1446  152.9591   3.1260  0.0020   177.0250   779.2641\n",
      "x10        278.8223   51.4977   5.4143  0.0000   177.4426   380.2021\n",
      "x11        161.1739   62.2752   2.5881  0.0102    38.5773   283.7705\n",
      "x12        238.2762   54.4590   4.3753  0.0000   131.0666   345.4858\n",
      "x13        306.3267  114.8172   2.6680  0.0081    80.2943   532.3591\n",
      "x14        204.1423   57.2277   3.5672  0.0004    91.4822   316.8023\n",
      "x15        282.6708   56.7500   4.9810  0.0000   170.9511   394.3905\n",
      "x16        294.4104   51.7461   5.6895  0.0000   192.5416   396.2793\n",
      "x17        213.1077   52.4046   4.0666  0.0001   109.9425   316.2729\n",
      "x18        996.7772  175.4051   5.6827  0.0000   651.4698  1342.0846\n",
      "x19        906.9465  174.0859   5.2098  0.0000   564.2361  1249.6569\n",
      "x20        939.3774  175.8679   5.3414  0.0000   593.1589  1285.5959\n",
      "x21         77.5218  134.1779   0.5778  0.5639  -186.6245   341.6681\n",
      "x22         71.6444   75.4928   0.9490  0.3434   -76.9728   220.2616\n",
      "x23        260.5920   86.2239   3.0223  0.0027    90.8492   430.3349\n",
      "x24        277.5912   68.7286   4.0389  0.0001   142.2901   412.8922\n",
      "x25        124.9129   44.2126   2.8253  0.0051    37.8747   211.9511\n",
      "const        0.0000    0.0000   3.3835  0.0008     0.0000     0.0000\n",
      "x26         97.3314   50.8616   1.9137  0.0567    -2.7962   197.4589\n",
      "x27        -99.6919   83.1251  -1.1993  0.2314  -263.3343    63.9506\n",
      "x28        173.3033   59.9014   2.8931  0.0041    55.3797   291.2269\n",
      "x29        120.3365   66.4834   1.8100  0.0714   -10.5447   251.2176\n",
      "x30         -0.0000    0.0000  -3.8775  0.0001    -0.0000    -0.0000\n",
      "x31         -0.0000    0.0000  -5.0664  0.0000    -0.0000    -0.0000\n",
      "x32         61.3485  127.0391   0.4829  0.6295  -188.7442   311.4413\n",
      "x33         57.8829   75.3990   0.7677  0.4433   -90.5496   206.3155\n",
      "x34        -56.8604   70.0748  -0.8114  0.4178  -194.8116    81.0907\n",
      "x35        329.8895  109.7200   3.0066  0.0029   113.8917   545.8873\n",
      "x36        156.9112   67.4002   2.3281  0.0206    24.2253   289.5971\n",
      "x37         33.0690   67.8746   0.4872  0.6265  -100.5508   166.6889\n",
      "x38         65.8430  141.0036   0.4670  0.6409  -211.7406   343.4265\n",
      "x39        154.5476   73.9443   2.0901  0.0375     8.9788   300.1164\n",
      "x40         -0.0000    0.0000  -0.3908  0.6963    -0.0000     0.0000\n",
      "x41         -0.0000    0.0000  -0.9036  0.3670    -0.0000     0.0000\n",
      "x42          0.0000    0.0000      nan     nan     0.0000     0.0000\n",
      "x43         78.7189   51.3970   1.5316  0.1268   -22.4627   179.9006\n",
      "x44        161.6819   56.3253   2.8705  0.0044    50.7983   272.5654\n",
      "x45         48.4874   54.0219   0.8976  0.3702   -57.8616   154.8364\n",
      "x46         91.7815  143.2663   0.6406  0.5223  -190.2565   373.8195\n",
      "x47        325.9286   54.8176   5.9457  0.0000   218.0130   433.8441\n",
      "x48          0.0000    0.0000      nan     nan     0.0000     0.0000\n",
      "x49        217.8849   61.1296   3.5643  0.0004    97.5434   338.2264\n",
      "x50         12.4451   69.1723   0.1799  0.8574  -123.7294   148.6196\n",
      "x51        467.3236   90.7130   5.1517  0.0000   288.7434   645.9039\n",
      "x52        476.7307   99.6782   4.7827  0.0000   280.5014   672.9600\n",
      "x53        379.5668   87.4595   4.3399  0.0000   207.3915   551.7420\n",
      "x54        397.5730   64.5480   6.1593  0.0000   270.5019   524.6441\n",
      "x55        458.8108   82.4368   5.5656  0.0000   296.5235   621.0982\n",
      "x56        260.5920   86.2239   3.0223  0.0027    90.8492   430.3349\n",
      "x57        402.5041   77.3988   5.2004  0.0000   250.1347   554.8735\n",
      "-------------------------------------------------------------------\n",
      "Omnibus:           5.427     Durbin-Watson:       2.146            \n",
      "Prob(Omnibus):     0.066     Jarque-Bera (JB):    7.177            \n",
      "Skew:              -0.095    Prob(JB):            0.028            \n",
      "Kurtosis:          3.712     Condition No.:       10827877128752230\n",
      "===================================================================\n",
      "* The condition number is large (1e+16). This might indicate\n",
      "strong multicollinearity or other numerical problems.\n"
     ]
    }
   ],
   "source": [
    "\"\"\" Fit a binary classification predictor.\"\"\"\n",
    "#Linear Regression\n",
    "xtr=x_train2\n",
    "xte=x_test2\n",
    "ytr=y_train2\n",
    "yte=y_test2\n",
    "\n",
    "xtr=np.array(xtr).reshape(len(xtr),len(x_train2.columns))\n",
    "xte=np.array(xte).reshape(len(xte),len(x_train2.columns))\n",
    "xtr2=sm.add_constant(xtr)\n",
    "model=sm.OLS(ytr,xtr).fit()\n",
    "\n",
    "xte2=sm.add_constant(xte)\n",
    "pred=model.predict(xte)\n",
    "\n",
    "plt.plot(pred,yte,'o')\n",
    "plt.plot(pred,pred,'-')\n",
    "plt.xlim(0,200000)\n",
    "plt.ylim(0,200000)\n",
    "plt.show()\n",
    "\n",
    "print model.summary2()"
   ]
  },
  {
   "cell_type": "code",
   "execution_count": 31,
   "metadata": {
    "ExecuteTime": {
     "end_time": "2016-10-18T14:50:03.691254",
     "start_time": "2016-10-18T14:50:03.311910"
    },
    "collapsed": false,
    "scrolled": false
   },
   "outputs": [
    {
     "name": "stderr",
     "output_type": "stream",
     "text": [
      "//anaconda/lib/python2.7/site-packages/sklearn/linear_model/coordinate_descent.py:479: ConvergenceWarning: Objective did not converge. You might want to increase the number of iterations. Fitting data with very small alpha may cause precision problems.\n",
      "  ConvergenceWarning)\n"
     ]
    },
    {
     "data": {
      "image/png": "[encoded data removed]",
      "text/plain": [
       "<matplotlib.figure.Figure at 0x118e23f50>"
      ]
     },
     "metadata": {},
     "output_type": "display_data"
    },
    {
     "name": "stdout",
     "output_type": "stream",
     "text": [
      "0.523151860698\n",
      "\n",
      "\n",
      "13 % Grocery Items\n",
      "4.42936931326\n",
      "\n",
      "29 % Housing\n",
      "-0.324368075466\n",
      "\n",
      "10% Utilities\n",
      "-0.0369633417992\n",
      "\n",
      "12 % Transportation\n",
      "-5.70012000075\n",
      "\n",
      "4% Health Care\n",
      "2.62250738611\n",
      "\n",
      "32 % Miscellaneous Goods and Services\n",
      "0.646721357887\n",
      "\n",
      "Sector_Capital Goods\n",
      "45.7007929066\n",
      "\n",
      "Sector_Consulting\n",
      "-57.9669054783\n",
      "\n",
      "Sector_Consumer Durables\n",
      "276.379958656\n",
      "\n",
      "Sector_Consumer Services\n",
      "80.2923480558\n",
      "\n",
      "Sector_Energy\n",
      "-38.6330157476\n",
      "\n",
      "Sector_Finance\n",
      "36.6326399245\n",
      "\n",
      "Sector_Health Care\n",
      "105.621461628\n",
      "\n",
      "Sector_Miscellaneous\n",
      "2.56807866336\n",
      "\n",
      "Sector_Public Utilities\n",
      "82.2737853277\n",
      "\n",
      "Sector_Technology\n",
      "93.8745129924\n",
      "\n",
      "Sector_n/a\n",
      "12.4567710017\n",
      "\n",
      "MarketCap_Hugecap\n",
      "145.191922045\n",
      "\n",
      "MarketCap_Largecap\n",
      "72.3419227465\n",
      "\n",
      "MarketCap_Unknown\n",
      "88.8192113206\n",
      "\n",
      "State_AL\n",
      "-85.1863752638\n",
      "\n",
      "State_AR\n",
      "-139.326930887\n",
      "\n",
      "State_AZ\n",
      "-112.181192761\n",
      "\n",
      "State_CA\n",
      "90.8213213502\n",
      "\n",
      "State_CO\n",
      "-61.2975463643\n",
      "\n",
      "State_CT\n",
      "0.0\n",
      "\n",
      "State_DE\n",
      "-30.8894956431\n",
      "\n",
      "State_FL\n",
      "-253.394213229\n",
      "\n",
      "State_GA\n",
      "17.4900060075\n",
      "\n",
      "State_IL\n",
      "-3.42134512302\n",
      "\n",
      "State_IN\n",
      "0.0\n",
      "\n",
      "State_KY\n",
      "0.0\n",
      "\n",
      "State_LA\n",
      "-54.6505557689\n",
      "\n",
      "State_MA\n",
      "-91.9043202645\n",
      "\n",
      "State_MD\n",
      "-140.212330953\n",
      "\n",
      "State_ME\n",
      "230.542608185\n",
      "\n",
      "State_MI\n",
      "25.8866139269\n",
      "\n",
      "State_MN\n",
      "-95.8672867575\n",
      "\n",
      "State_MO\n",
      "-89.8636506379\n",
      "\n",
      "State_NC\n",
      "-0.903465349866\n",
      "\n",
      "State_NE\n",
      "0.0\n",
      "\n",
      "State_NM\n",
      "0.0\n",
      "\n",
      "State_NY\n",
      "0.0\n",
      "\n",
      "State_OH\n",
      "-66.7487510695\n",
      "\n",
      "State_OR\n",
      "-23.2665838112\n",
      "\n",
      "State_PA\n",
      "-90.0549480329\n",
      "\n",
      "State_TN\n",
      "-54.8085176724\n",
      "\n",
      "State_TX\n",
      "117.970922071\n",
      "\n",
      "State_UT\n",
      "0.0\n",
      "\n",
      "State_WA\n",
      "9.72529475147\n",
      "\n",
      "State_WI\n",
      "-135.112792474\n",
      "\n",
      "Region_MW\n",
      "14.8974376346\n",
      "\n",
      "Region_NE\n",
      "19.0913128028\n",
      "\n",
      "Region_NW\n",
      "2.92720313012\n",
      "\n",
      "Region_S\n",
      "6.68611230767\n",
      "\n",
      "Region_SE\n",
      "23.8107634927\n",
      "\n",
      "Region_SW\n",
      "31.0146711405\n",
      "\n",
      "Region_W\n",
      "18.7536616809\n",
      "\n"
     ]
    }
   ],
   "source": [
    "ridge=Ridge(alpha=10) #Ridge is .28269 at 230\n",
    "lasso=Lasso(alpha=0.5) #Lasso is 0.289105 at 2.01\n",
    "lr=LinearRegression() #Linear Regression is .2763265\n",
    "model=lasso.fit(x_train2,y_train2)\n",
    "pred=model.predict(x_test2)\n",
    "plt.scatter(pred,y_test2)\n",
    "plt.plot(pred,pred)\n",
    "plt.ylim(0,200000)\n",
    "plt.xlim(0,200000)\n",
    "plt.show()\n",
    "print model.score(x_test2, y_test2)\n",
    "print \"\\n\"\n",
    "for x,y in zip(x_test2.columns,model.coef_):\n",
    "    print x\n",
    "    print y\n",
    "    print"
   ]
  },
  {
   "cell_type": "code",
   "execution_count": 32,
   "metadata": {
    "ExecuteTime": {
     "end_time": "2016-10-18T14:50:43.929219",
     "start_time": "2016-10-18T14:50:43.191482"
    },
    "collapsed": false
   },
   "outputs": [
    {
     "data": {
      "image/png": "[encoded data removed]",
      "text/plain": [
       "<matplotlib.figure.Figure at 0x118e29590>"
      ]
     },
     "metadata": {},
     "output_type": "display_data"
    }
   ],
   "source": [
    "##MAKE THIS PRETTIER; We will present with this\n",
    "\n",
    "average=np.mean(glass_door[\"100% Composite Index\"])\n",
    "#\\plt.hist(glass_door[\"Salary\"]/average,width=50)\n",
    "plt.hist(glass_door[\"Salary\"],bins=30,width=4000)\n",
    "plt.hist(glass_door[\"Normalized Salary\"]*115,bins=30,width=4000);"
   ]
  },
  {
   "cell_type": "code",
   "execution_count": null,
   "metadata": {
    "collapsed": true
   },
   "outputs": [],
   "source": []
  }
 ],
 "metadata": {
  "anaconda-cloud": {},
  "kernelspec": {
   "display_name": "Python 2",
   "language": "python",
   "name": "python2"
  },
  "language_info": {
   "codemirror_mode": {
    "name": "ipython",
    "version": 2
   },
   "file_extension": ".py",
   "mimetype": "text/x-python",
   "name": "python",
   "nbconvert_exporter": "python",
   "pygments_lexer": "ipython2",
   "version": "2.7.12"
  }
 },
 "nbformat": 4,
 "nbformat_minor": 1
}
