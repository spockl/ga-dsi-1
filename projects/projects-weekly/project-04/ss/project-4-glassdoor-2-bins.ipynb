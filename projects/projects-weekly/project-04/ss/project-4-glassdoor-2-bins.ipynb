{
 "cells": [
  {
   "cell_type": "code",
   "execution_count": 1,
   "metadata": {
    "ExecuteTime": {
     "end_time": "2016-10-18T23:17:59.355638",
     "start_time": "2016-10-18T23:17:49.918202"
    },
    "collapsed": false
   },
   "outputs": [
    {
     "name": "stderr",
     "output_type": "stream",
     "text": [
      "//anaconda/lib/python2.7/site-packages/sklearn/cross_validation.py:44: DeprecationWarning: This module was deprecated in version 0.18 in favor of the model_selection module into which all the refactored classes and functions are moved. Also note that the interface of the new CV iterators are different from that of this module. This module will be removed in 0.20.\n",
      "  \"This module will be removed in 0.20.\", DeprecationWarning)\n",
      "//anaconda/lib/python2.7/site-packages/sklearn/grid_search.py:43: DeprecationWarning: This module was deprecated in version 0.18 in favor of the model_selection module into which all the refactored classes and functions are moved. This module will be removed in 0.20.\n",
      "  DeprecationWarning)\n"
     ]
    }
   ],
   "source": [
    "import pandas as pd\n",
    "import numpy as np\n",
    "import requests\n",
    "from bs4 import BeautifulSoup\n",
    "import datetime\n",
    "import urllib\n",
    "import statsmodels.api as sm\n",
    "from sklearn.cross_validation import train_test_split\n",
    "import matplotlib.pyplot as plt\n",
    "import seaborn as sns\n",
    "import time\n",
    "import statsmodels.api as sm\n",
    "from scipy import stats\n",
    "from sklearn import datasets\n",
    "from sklearn.pipeline import Pipeline\n",
    "from sklearn.preprocessing import PolynomialFeatures\n",
    "from sklearn.linear_model import LinearRegression, Ridge, Lasso, LogisticRegression, LogisticRegressionCV\n",
    "from sklearn.metrics import mean_squared_error, classification_report, confusion_matrix, accuracy_score\n",
    "from sklearn.cross_validation import train_test_split, cross_val_score\n",
    "from sklearn.grid_search import GridSearchCV\n",
    "from sklearn.metrics import roc_auc_score, roc_curve, auc\n",
    "% matplotlib inline"
   ]
  },
  {
   "cell_type": "code",
   "execution_count": 2,
   "metadata": {
    "ExecuteTime": {
     "end_time": "2016-10-18T23:17:59.363725",
     "start_time": "2016-10-18T23:17:59.358890"
    },
    "collapsed": false,
    "scrolled": false
   },
   "outputs": [],
   "source": [
    "lm = LinearRegression()\n",
    "LR= LogisticRegression\n",
    "LRCV= LogisticRegressionCV"
   ]
  },
  {
   "cell_type": "code",
   "execution_count": 3,
   "metadata": {
    "ExecuteTime": {
     "end_time": "2016-10-18T23:17:59.432105",
     "start_time": "2016-10-18T23:17:59.366672"
    },
    "collapsed": false
   },
   "outputs": [],
   "source": [
    "def renaming(x):\n",
    "    new_name=\"\"\n",
    "    if x in [\"Junior Data Scientist\", \"Entry Level Data Scientist\", \"Data Scientist II\", \"Associate Data Scientist\"]:\n",
    "        new_name=\"Junior DS\"\n",
    "    elif x in [\"Senior Data Scientist\", \"Principal Data Scientist\"]:\n",
    "        new_name=\"Senior DS\"\n",
    "    else:\n",
    "        new_name=\"DS\"\n",
    "    return new_name\n",
    "def name_change(x):\n",
    "    new_value=\"\"\n",
    "    if x in change.keys():\n",
    "        new_value=change[x]\n",
    "    else:\n",
    "        new_value=x\n",
    "    return new_value\n",
    "def cap(x):\n",
    "    value=0\n",
    "    if x is np.NAN:\n",
    "        value=\"Unknown\"\n",
    "    elif x>2000:\n",
    "        value=\"Hugecap\"\n",
    "    elif x>500:\n",
    "        value=\"Largecap\"\n",
    "    elif x>100:\n",
    "        value=\"Midcap\"\n",
    "    else:\n",
    "        value=\"Smallcap\"\n",
    "    return value\n",
    "def create_bins(low,high,n):\n",
    "    increment=(high-low)/float(n)\n",
    "    bins=[]\n",
    "    for i in range(n+1):\n",
    "        bins.append(low+increment*(i))\n",
    "    replacements=[]\n",
    "    i=0\n",
    "    while i<len(bins)-1:\n",
    "        replacements.append(str(int(round(bins[i])))+\"-\"+str(int(round(bins[i+1]))))\n",
    "        i+=1\n",
    "    return bins,replacements\n",
    "def salary_bin(bins,replacements,x):\n",
    "    i=0\n",
    "    value=0\n",
    "    while i<len(bins)-1:\n",
    "        if x<=int(round(bins[i+1])):\n",
    "            value=replacements[i]\n",
    "            i=len(bins)\n",
    "        i+=1\n",
    "    if value==0:\n",
    "        value=str(bins[-1])+\"+\"\n",
    "    return value\n",
    "def only_numerics(seq):\n",
    "    seq = seq.split('-')\n",
    "    try:\n",
    "        out = ((int(filter(type(seq[0]).isdigit, seq[0])) + int(filter(type(seq[1]).isdigit, seq[1])))/2)*1000\n",
    "    except:\n",
    "        out = int(filter(type(seq[0]).isdigit, seq[0]))\n",
    "    return out\n"
   ]
  },
  {
   "cell_type": "markdown",
   "metadata": {
    "collapsed": true
   },
   "source": [
    "Uploads the non-Glass Door data.\n",
    "The stock data is cleaned for:\n",
    "* Certain terms in the name. Things like 'inc,' or 'corp' are deleted. This helps the matching process.\n",
    "* The market cap information is converted from strings to millions of dollars.\n",
    "\n",
    "The city data is cleaned for:\n",
    "\n",
    "* Cities containing '-'\n",
    "* Cities containing 'county'\n",
    "* Removing ',' from city names"
   ]
  },
  {
   "cell_type": "code",
   "execution_count": 4,
   "metadata": {
    "ExecuteTime": {
     "end_time": "2016-10-18T23:17:59.536906",
     "start_time": "2016-10-18T23:17:59.435092"
    },
    "collapsed": false
   },
   "outputs": [],
   "source": [
    "#Cleans up the Stock information\n",
    "nyse=pd.read_csv(\"Data/NYSE.csv\")\n",
    "nasdaq=pd.read_csv(\"Data/NASDAQ.csv\")\n",
    "amex=pd.read_csv(\"Data/AMEX.csv\")\n",
    "stocks=nyse.append(nasdaq,ignore_index=True).append(amex,ignore_index=True)\n",
    "del stocks[\"Summary Quote\"]\n",
    "i=0"
   ]
  },
  {
   "cell_type": "markdown",
   "metadata": {
    "ExecuteTime": {
     "end_time": "2016-10-18T14:37:15.643836",
     "start_time": "2016-10-18T14:37:15.635873"
    },
    "collapsed": true
   },
   "source": [
    "We had discrepancies between the names of the scraped Glass Door data, and the names of the stock information. This led to information not being merged when it should have. So, we manually searched for the pairs of names and input them into a dictionary. This dictionary would be used to rename the mislabeled Glass Door entries."
   ]
  },
  {
   "cell_type": "code",
   "execution_count": 5,
   "metadata": {
    "ExecuteTime": {
     "end_time": "2016-10-18T23:18:03.582140",
     "start_time": "2016-10-18T23:18:01.923644"
    },
    "collapsed": false
   },
   "outputs": [],
   "source": [
    "\"\"\"ONLY USED FOR FINDING STOCKS\"\"\"\n",
    "\n",
    "names=[x for x,y in zip(stocks[\"Name\"].value_counts().sort_values(ascending=False).index,\\\n",
    "                        stocks[\"Name\"].value_counts().sort_values(ascending=False).values) if y>1]\n",
    "\n",
    "names=['Price']\n",
    "\n",
    "#Finds all instances of a company name within stocks[\"Name\"], and prints the instance and its index numer\n",
    "for name in names:\n",
    "    i=0\n",
    "    while i<len(stocks):\n",
    "        if stocks.loc[i,\"Name\"]==name:\n",
    "            print \"index: \",i\n",
    "            print stocks.iloc[i]\n",
    "            print \"\\n\"\n",
    "        i+=1\n",
    "\n",
    "# [x for x in stocks[\"Name\"] if x[0:3]==\"Exp\"] #-->Additional Search Method; looks for first three letters\n",
    "# [x for x in stocks[\"Name\"] if \"Price\".lower() in x.lower()]"
   ]
  },
  {
   "cell_type": "code",
   "execution_count": 6,
   "metadata": {
    "ExecuteTime": {
     "end_time": "2016-10-18T23:18:03.595341",
     "start_time": "2016-10-18T23:18:03.584205"
    },
    "collapsed": false
   },
   "outputs": [],
   "source": [
    "change={\"GE\": \"General Electric Company\", \"IBM\":\"Microsoft\",\"Capital One\":\"Capital One Financial\",\n",
    "        \"Verizon\":\"Verizon Communications\",\"Hewlett Packard Enterprise | HPE\":'Hewlett Packard Enterprise Company',\n",
    "       \"Hewlett-Packard\":'Hewlett Packard Enterprise Company',\"Alliance Data\":\"Alliance Data Systems\",\n",
    "       'Raytheon':'Raytheon Company',\"GE\":'General Electric Company',\"Verizon Wireless\":\"Verizon Communications\",\n",
    "       \"Intel Corporation\":\"Intel\",\"MaxPoint\":\"MaxPoint Interactive\",\"General Motors\":\"General Motors Company\",\n",
    "       \"Booz Allen Hamilton\":\"Booz Allen Hamilton Holding\",\"Nielsen\":\"Nielsen N.V.\",\"SAP\":\"SAP SE\",\n",
    "       \"General Dynamics Mission Systems\":\"General Dynamics\",\"Leidos\":\"Leidos Holdings\",\n",
    "       \"Honeywell\":\"Honeywell International\",\"Akamai\":\"Akamai Technologies\",\"BNY Mellon\":\"Bank Of New York Mellon\",\n",
    "       \"FIS\":\"Fidelity National Information Services\",\"J.P. Morgan\":'J P Morgan Chase & Co',\n",
    "       \"Walmart\":'Wal-Mart Stores',\"PayPal\":\"PayPal Holdings\",\"Adobe\":\"Adobe Systems\",'AOL':\"Verizon Communications\"}"
   ]
  },
  {
   "cell_type": "code",
   "execution_count": 7,
   "metadata": {
    "ExecuteTime": {
     "end_time": "2016-10-18T23:18:08.921681",
     "start_time": "2016-10-18T23:18:03.923882"
    },
    "collapsed": false
   },
   "outputs": [],
   "source": [
    "while i<len(stocks[\"Symbol\"]):\n",
    "    if \" (The)\" in stocks.iloc[i,1]:\n",
    "        stocks.iloc[i,1]=stocks.iloc[i,1][:len(stocks.iloc[i,1])-len(\" (The)\")]\n",
    "    if \" Incorporated\" in stocks.iloc[i,1]:\n",
    "        stocks.iloc[i,1]=stocks.iloc[i,1][:len(stocks.iloc[i,1])-len(\" Incorporated\")]\n",
    "    if \", Inc.\" in stocks.iloc[i,1]:\n",
    "        stocks.iloc[i,1]=stocks.iloc[i,1][:len(stocks.iloc[i,1])-len(\", Inc.\")]\n",
    "    if \", Inc\" in stocks.iloc[i,1]:\n",
    "        stocks.iloc[i,1]=stocks.iloc[i,1][:len(stocks.iloc[i,1])-len(\", Inc\")]\n",
    "    if \", INC\" in stocks.iloc[i,1]:\n",
    "        stocks.iloc[i,1]=stocks.iloc[i,1][:len(stocks.iloc[i,1])-len(\", Inc\")]\n",
    "    if \" Inc.\" in stocks.iloc[i,1]:\n",
    "        stocks.iloc[i,1]=stocks.iloc[i,1][:len(stocks.iloc[i,1])-len(\" Inc.\")]\n",
    "    if \" Inc\" in stocks.iloc[i,1]:\n",
    "        stocks.iloc[i,1]=stocks.iloc[i,1][:len(stocks.iloc[i,1])-len(\" Inc\")]\n",
    "    if \" INC\" in stocks.iloc[i,1]:\n",
    "        stocks.iloc[i,1]=stocks.iloc[i,1][:len(stocks.iloc[i,1])-len(\" Inc\")]\n",
    "    if  \" Corporation\" in stocks.iloc[i,1]:\n",
    "        stocks.iloc[i,1]=stocks.iloc[i,1][:len(stocks.iloc[i,1])-len(\" Corporation\")]\n",
    "    if \" Corp.\" in stocks.iloc[i,1]:\n",
    "        stocks.iloc[i,1]=stocks.iloc[i,1][:len(stocks.iloc[i,1])-len(\" Corp.\")]\n",
    "    if \" Corp\" in stocks.iloc[i,1]:\n",
    "        stocks.iloc[i,1]=stocks.iloc[i,1][:len(stocks.iloc[i,1])-len(\" Corp\")]\n",
    "    if \" CORP\" in stocks.iloc[i,1]:\n",
    "        stocks.iloc[i,1]=stocks.iloc[i,1][:len(stocks.iloc[i,1])-len(\" Corp\")]\n",
    "    i+=1\n",
    "\n",
    "#Convert MarketCap to Millions of dollars\n",
    "i=0\n",
    "while i<len(stocks[\"MarketCap\"]):\n",
    "    if \"B\" in str(stocks.iloc[i,3])[-1:]:\n",
    "        stocks.iloc[i,3]=float(str(stocks.iloc[i,3])[1:-1])*1000\n",
    "    else:\n",
    "        stocks.iloc[i,3]=str(stocks.iloc[i,3])[1:-1]\n",
    "    i+=1\n",
    "\n",
    "stocks=stocks.reset_index()\n",
    "del stocks['index']\n",
    "\n",
    "#Cleans cities data (eliminates counties and combined cities/towns)\n",
    "cities=pd.read_csv(\"Data/Living_Index.csv\")\n",
    "cities=cities.rename(columns={\"Urban Area\":\"City\"})\n",
    "values=[]\n",
    "for x in cities[\"City\"]:\n",
    "    if \"-\" in x:\n",
    "        values.append(False)\n",
    "    else:\n",
    "        values.append(True)\n",
    "cities=cities[values]\n",
    "values=[]\n",
    "for x in cities[\"City\"]:\n",
    "    if \"county\" in x.lower():\n",
    "        values.append(False)\n",
    "    else:\n",
    "        values.append(True)\n",
    "cities=cities[values]\n",
    "new_city_list=[]\n",
    "\n",
    "for x in cities[\"City\"]:\n",
    "    y=x[-4:]\n",
    "    z=x[:-len(y)].replace(\",\",\"\")+y\n",
    "    new_city_list.append(z)\n",
    "cities[\"City\"]=new_city_list"
   ]
  },
  {
   "cell_type": "markdown",
   "metadata": {},
   "source": [
    "We initiate a Glass Door data frame to connect the json to.\n",
    "We upload the json, which has four columns:\n",
    "* Location\n",
    "* Company\n",
    "* Salary\n",
    "* Job\n",
    "\n",
    "We clean the json df for:\n",
    "* Changing salary ranges to averagees\n",
    "\n",
    "We save the json df as 'glass_door'.\n",
    "\n",
    "We clean the glass_door df for:\n",
    "* Name changes found listed above\n",
    "\n",
    "We merge the glass_door df with cities. \n",
    "\n",
    "We create a new column \"Normalized Salary\"."
   ]
  },
  {
   "cell_type": "code",
   "execution_count": 8,
   "metadata": {
    "ExecuteTime": {
     "end_time": "2016-10-18T23:18:09.172931",
     "start_time": "2016-10-18T23:18:08.923739"
    },
    "collapsed": false
   },
   "outputs": [],
   "source": [
    "glass_door=pd.DataFrame(columns=[\"Salary\",\"Company\",\"Location\"])\n",
    "\n",
    "extension=\"Data/allcities.json\"\n",
    "json=pd.read_json(extension)\n",
    "df=pd.DataFrame([json[\"city\"],json[\"company\"],json[\"meanPay\"],json[\"jobTitle\"]]).T\n",
    "df.columns=[\"Location\",\"Company\",\"Salary\",\"Job\"]\n",
    "temp=[]\n",
    "\n",
    "\n",
    "df['Salary'] = df['Salary'].apply(only_numerics)\n",
    "df=df[pd.notnull(df[\"Salary\"])].reset_index()\n",
    "del df['index']\n",
    "df[\"Salary\"]=df['Salary'].astype(np.float)#\n",
    "\n",
    "glass_door=glass_door.append(df,ignore_index=True)\n",
    "\n",
    "glass_door[\"Company\"]=glass_door[\"Company\"].apply(lambda x: name_change(x))\n",
    "\n",
    "glass_door=glass_door.merge(cities, left_on=\"Location\", right_on=\"City\")\n",
    "glass_door[\"Normalized Salary\"]=glass_door[\"Salary\"]/glass_door[\"100% Composite Index\"]"
   ]
  },
  {
   "cell_type": "code",
   "execution_count": 9,
   "metadata": {
    "ExecuteTime": {
     "end_time": "2016-10-18T23:18:09.200424",
     "start_time": "2016-10-18T23:18:09.175016"
    },
    "collapsed": false
   },
   "outputs": [
    {
     "data": {
      "text/html": [
       "<div>\n",
       "<table border=\"1\" class=\"dataframe\">\n",
       "  <thead>\n",
       "    <tr style=\"text-align: right;\">\n",
       "      <th></th>\n",
       "      <th>Location</th>\n",
       "      <th>Company</th>\n",
       "      <th>Salary</th>\n",
       "      <th>Job</th>\n",
       "    </tr>\n",
       "  </thead>\n",
       "  <tbody>\n",
       "    <tr>\n",
       "      <th>0</th>\n",
       "      <td>Albany, NY</td>\n",
       "      <td>GE</td>\n",
       "      <td>104000.0</td>\n",
       "      <td>Data Scientist</td>\n",
       "    </tr>\n",
       "    <tr>\n",
       "      <th>1</th>\n",
       "      <td>Arlington, TX</td>\n",
       "      <td>State Farm</td>\n",
       "      <td>105000.0</td>\n",
       "      <td>Data Scientist</td>\n",
       "    </tr>\n",
       "    <tr>\n",
       "      <th>2</th>\n",
       "      <td>Arlington, TX</td>\n",
       "      <td>Epsilon</td>\n",
       "      <td>166000.0</td>\n",
       "      <td>Data Scientist</td>\n",
       "    </tr>\n",
       "    <tr>\n",
       "      <th>3</th>\n",
       "      <td>Arlington, TX</td>\n",
       "      <td>Match</td>\n",
       "      <td>82000.0</td>\n",
       "      <td>Data Scientist</td>\n",
       "    </tr>\n",
       "    <tr>\n",
       "      <th>4</th>\n",
       "      <td>Arlington, TX</td>\n",
       "      <td>Hudl</td>\n",
       "      <td>90000.0</td>\n",
       "      <td>Data Scientist</td>\n",
       "    </tr>\n",
       "  </tbody>\n",
       "</table>\n",
       "</div>"
      ],
      "text/plain": [
       "        Location     Company    Salary             Job\n",
       "0     Albany, NY          GE  104000.0  Data Scientist\n",
       "1  Arlington, TX  State Farm  105000.0  Data Scientist\n",
       "2  Arlington, TX     Epsilon  166000.0  Data Scientist\n",
       "3  Arlington, TX       Match   82000.0  Data Scientist\n",
       "4  Arlington, TX        Hudl   90000.0  Data Scientist"
      ]
     },
     "execution_count": 9,
     "metadata": {},
     "output_type": "execute_result"
    }
   ],
   "source": [
    "df.head()"
   ]
  },
  {
   "cell_type": "raw",
   "metadata": {
    "ExecuteTime": {
     "end_time": "2016-10-18T23:18:09.214101",
     "start_time": "2016-10-18T23:18:09.203564"
    },
    "collapsed": false
   },
   "source": [
    "df.Job.value_counts()"
   ]
  },
  {
   "cell_type": "markdown",
   "metadata": {},
   "source": [
    "We merge the glass_door df with stocks. We only select those Jobs that are Junior Level, Middle Level, or Senior Level. We dont want to end up with internships. We then bin the jobs with their respective bin names (as just mentioned).\n",
    "\n",
    "For the most recurring private companies, market cap and sectors were updated as they had an impact on prediction ability.\n",
    "\n",
    "Null values in market cap and sector were changed appropriately."
   ]
  },
  {
   "cell_type": "code",
   "execution_count": 11,
   "metadata": {
    "ExecuteTime": {
     "end_time": "2016-10-18T23:18:14.934837",
     "start_time": "2016-10-18T23:18:14.914737"
    },
    "collapsed": false
   },
   "outputs": [],
   "source": [
    "df=glass_door.copy()\n",
    "df=df.merge(stocks, how='left',left_on=\"Company\",right_on=\"Name\")\n",
    "keep = [\"Senior Data Scientist\", \"Principal Data Scientist\", \"Data Scientist\", \"Junior Data Scientist\", \\\n",
    "        \"Entry Level Data Scientist\", \"Data Scientist II\", \"Associate Data Scientist\"]\n",
    "df['keep']=df['Job'].map(lambda x: True if x in keep else False)\n",
    "df = df[df['keep'] == True]"
   ]
  },
  {
   "cell_type": "raw",
   "metadata": {
    "ExecuteTime": {
     "end_time": "2016-10-18T23:18:17.884869",
     "start_time": "2016-10-18T23:18:17.875113"
    },
    "collapsed": false
   },
   "source": [
    "df[\"Job\"].value_counts()"
   ]
  },
  {
   "cell_type": "code",
   "execution_count": 13,
   "metadata": {
    "ExecuteTime": {
     "end_time": "2016-10-18T23:18:20.707870",
     "start_time": "2016-10-18T23:18:19.987014"
    },
    "collapsed": false
   },
   "outputs": [],
   "source": [
    "df[\"Job\"]=df[\"Job\"].apply(lambda x: renaming(x))\n",
    "\n",
    "\n",
    "\n",
    "marketcap_sectors={'KPMG':[24440,\"Consulting\"],'Razorfish':[np.NaN,\"Technology\"],\n",
    "                   'Elevate Credit':[640,\"Finance\"],'BCG Digital Ventures':[np.NaN,\"Finance\"]}\n",
    "\n",
    "df=df.reset_index()\n",
    "del df[\"index\"]\n",
    "i=0\n",
    "while i<len(df):\n",
    "    if df.loc[i,\"Company\"] in marketcap_sectors.keys():\n",
    "        df.loc[i,\"MarketCap\"]=marketcap_sectors[df.loc[i,\"Company\"]][0]\n",
    "        df.loc[i,\"Sector\"]=marketcap_sectors[df.loc[i,\"Company\"]][1]\n",
    "    i+=1\n",
    "\n",
    "df[\"Sector\"]=[\"Technology\" if pd.isnull(x) else x for x in df[\"Sector\"]]\n",
    "df[\"MarketCap\"]=df[\"MarketCap\"].apply(lambda x: cap(x))\n",
    "#df[\"MarketCapSector\"]=df[\"Sector\"]+df[\"MarketCap\"]"
   ]
  },
  {
   "cell_type": "raw",
   "metadata": {
    "ExecuteTime": {
     "end_time": "2016-10-18T23:18:21.732059",
     "start_time": "2016-10-18T23:18:21.723222"
    },
    "collapsed": false
   },
   "source": [
    "df['Job'].value_counts()"
   ]
  },
  {
   "cell_type": "code",
   "execution_count": 15,
   "metadata": {
    "ExecuteTime": {
     "end_time": "2016-10-18T23:18:24.873477",
     "start_time": "2016-10-18T23:18:24.821223"
    },
    "collapsed": false
   },
   "outputs": [
    {
     "data": {
      "text/html": [
       "<div>\n",
       "<table border=\"1\" class=\"dataframe\">\n",
       "  <thead>\n",
       "    <tr style=\"text-align: right;\">\n",
       "      <th></th>\n",
       "      <th>Job</th>\n",
       "      <th>Company</th>\n",
       "      <th>Sector</th>\n",
       "      <th>MarketCap</th>\n",
       "      <th>State</th>\n",
       "      <th>Region</th>\n",
       "      <th>industry</th>\n",
       "      <th>Location</th>\n",
       "      <th>Salary</th>\n",
       "      <th>City</th>\n",
       "      <th>Symbol</th>\n",
       "      <th>Name</th>\n",
       "      <th>LastSale</th>\n",
       "      <th>IPOyear</th>\n",
       "      <th>Normalized Salary</th>\n",
       "      <th>100% Composite Index</th>\n",
       "    </tr>\n",
       "  </thead>\n",
       "  <tbody>\n",
       "    <tr>\n",
       "      <th>0</th>\n",
       "      <td>DS</td>\n",
       "      <td>General Electric Company</td>\n",
       "      <td>Energy</td>\n",
       "      <td>Hugecap</td>\n",
       "      <td>NY</td>\n",
       "      <td>NE</td>\n",
       "      <td>Consumer Electronics/Appliances</td>\n",
       "      <td>Albany, NY</td>\n",
       "      <td>104000.0</td>\n",
       "      <td>Albany, NY</td>\n",
       "      <td>GE</td>\n",
       "      <td>General Electric Company</td>\n",
       "      <td>28.89</td>\n",
       "      <td>n/a</td>\n",
       "      <td>962.072155</td>\n",
       "      <td>108.1</td>\n",
       "    </tr>\n",
       "    <tr>\n",
       "      <th>1</th>\n",
       "      <td>DS</td>\n",
       "      <td>General Electric Company</td>\n",
       "      <td>Energy</td>\n",
       "      <td>Hugecap</td>\n",
       "      <td>NY</td>\n",
       "      <td>NE</td>\n",
       "      <td>Consumer Electronics/Appliances</td>\n",
       "      <td>Albany, NY</td>\n",
       "      <td>104000.0</td>\n",
       "      <td>Albany, NY</td>\n",
       "      <td>GEB</td>\n",
       "      <td>General Electric Company</td>\n",
       "      <td>25.69</td>\n",
       "      <td>n/a</td>\n",
       "      <td>962.072155</td>\n",
       "      <td>108.1</td>\n",
       "    </tr>\n",
       "    <tr>\n",
       "      <th>2</th>\n",
       "      <td>DS</td>\n",
       "      <td>State Farm</td>\n",
       "      <td>Technology</td>\n",
       "      <td>Unknown</td>\n",
       "      <td>TX</td>\n",
       "      <td>S</td>\n",
       "      <td>NaN</td>\n",
       "      <td>Arlington, TX</td>\n",
       "      <td>105000.0</td>\n",
       "      <td>Arlington, TX</td>\n",
       "      <td>NaN</td>\n",
       "      <td>NaN</td>\n",
       "      <td>NaN</td>\n",
       "      <td>NaN</td>\n",
       "      <td>1057.401813</td>\n",
       "      <td>99.3</td>\n",
       "    </tr>\n",
       "    <tr>\n",
       "      <th>3</th>\n",
       "      <td>DS</td>\n",
       "      <td>Epsilon</td>\n",
       "      <td>Technology</td>\n",
       "      <td>Unknown</td>\n",
       "      <td>TX</td>\n",
       "      <td>S</td>\n",
       "      <td>NaN</td>\n",
       "      <td>Arlington, TX</td>\n",
       "      <td>166000.0</td>\n",
       "      <td>Arlington, TX</td>\n",
       "      <td>NaN</td>\n",
       "      <td>NaN</td>\n",
       "      <td>NaN</td>\n",
       "      <td>NaN</td>\n",
       "      <td>1671.701913</td>\n",
       "      <td>99.3</td>\n",
       "    </tr>\n",
       "    <tr>\n",
       "      <th>4</th>\n",
       "      <td>DS</td>\n",
       "      <td>Match</td>\n",
       "      <td>Technology</td>\n",
       "      <td>Unknown</td>\n",
       "      <td>TX</td>\n",
       "      <td>S</td>\n",
       "      <td>NaN</td>\n",
       "      <td>Arlington, TX</td>\n",
       "      <td>82000.0</td>\n",
       "      <td>Arlington, TX</td>\n",
       "      <td>NaN</td>\n",
       "      <td>NaN</td>\n",
       "      <td>NaN</td>\n",
       "      <td>NaN</td>\n",
       "      <td>825.780463</td>\n",
       "      <td>99.3</td>\n",
       "    </tr>\n",
       "  </tbody>\n",
       "</table>\n",
       "</div>"
      ],
      "text/plain": [
       "  Job                   Company      Sector MarketCap State Region  \\\n",
       "0  DS  General Electric Company      Energy   Hugecap    NY     NE   \n",
       "1  DS  General Electric Company      Energy   Hugecap    NY     NE   \n",
       "2  DS                State Farm  Technology   Unknown    TX      S   \n",
       "3  DS                   Epsilon  Technology   Unknown    TX      S   \n",
       "4  DS                     Match  Technology   Unknown    TX      S   \n",
       "\n",
       "                          industry       Location    Salary           City  \\\n",
       "0  Consumer Electronics/Appliances     Albany, NY  104000.0     Albany, NY   \n",
       "1  Consumer Electronics/Appliances     Albany, NY  104000.0     Albany, NY   \n",
       "2                              NaN  Arlington, TX  105000.0  Arlington, TX   \n",
       "3                              NaN  Arlington, TX  166000.0  Arlington, TX   \n",
       "4                              NaN  Arlington, TX   82000.0  Arlington, TX   \n",
       "\n",
       "  Symbol                      Name LastSale IPOyear  Normalized Salary  \\\n",
       "0     GE  General Electric Company    28.89     n/a         962.072155   \n",
       "1    GEB  General Electric Company    25.69     n/a         962.072155   \n",
       "2    NaN                       NaN      NaN     NaN        1057.401813   \n",
       "3    NaN                       NaN      NaN     NaN        1671.701913   \n",
       "4    NaN                       NaN      NaN     NaN         825.780463   \n",
       "\n",
       "   100% Composite Index  \n",
       "0                 108.1  \n",
       "1                 108.1  \n",
       "2                  99.3  \n",
       "3                  99.3  \n",
       "4                  99.3  "
      ]
     },
     "execution_count": 15,
     "metadata": {},
     "output_type": "execute_result"
    }
   ],
   "source": [
    "df[['Job',u'Company', \"Sector\",\"MarketCap\",\"State\",\"Region\", u'industry',u'Location', u'Salary', u'City',\n",
    "       u'Symbol', u'Name', u'LastSale', u'IPOyear',u'Normalized Salary',u'100% Composite Index']].head()"
   ]
  },
  {
   "cell_type": "raw",
   "metadata": {
    "ExecuteTime": {
     "end_time": "2016-10-18T23:18:25.859406",
     "start_time": "2016-10-18T23:18:25.850747"
    },
    "collapsed": false
   },
   "source": [
    "df['Job'].value_counts()"
   ]
  },
  {
   "cell_type": "raw",
   "metadata": {
    "ExecuteTime": {
     "end_time": "2016-10-18T23:13:22.480422",
     "start_time": "2016-10-18T23:13:22.408111"
    },
    "collapsed": false
   },
   "source": [
    "df['Salary'].describe()"
   ]
  },
  {
   "cell_type": "raw",
   "metadata": {
    "ExecuteTime": {
     "end_time": "2016-10-18T22:54:29.366805",
     "start_time": "2016-10-18T22:54:29.242539"
    }
   },
   "source": [
    "df2=pd.get_dummies(df,columns=[\"Sector\",\"MarketCap\",\"State\",\"Region\", \"Job\"])\n",
    "df2.head()"
   ]
  },
  {
   "cell_type": "code",
   "execution_count": 17,
   "metadata": {
    "ExecuteTime": {
     "end_time": "2016-10-18T23:19:41.106624",
     "start_time": "2016-10-18T23:18:32.266724"
    },
    "collapsed": false,
    "scrolled": false
   },
   "outputs": [],
   "source": [
    "df2=pd.get_dummies(df,columns=[\"Sector\",\"MarketCap\",\"State\",\"Region\", \"Job\"])\n",
    "delete=[u'industry',u'Company', u'Location', u'Salary', u'City',\n",
    "       u'Symbol', u'Name', u'LastSale', u'IPOyear',u'Normalized Salary',u'100% Composite Index'] \n",
    "#u'13 % Grocery Items', u'29 % Housing',\n",
    "#      u'10% Utilities', u'12 % Transportation', u'4% Health Care',\n",
    "#       u'32 % Miscellaneous Goods and Services',\n",
    "for x in delete:\n",
    "    del df2[x]\n",
    "\n",
    "normalizer=pd.DataFrame(df[\"100% Composite Index\"].copy(),columns=[\"100% Composite Index\"])\n",
    "df2=df2.reset_index()\n",
    "del df2['index']\n",
    "normalizer=normalizer.reset_index()\n",
    "del normalizer['index']\n",
    "i=0\n",
    "cols=df2.columns\n",
    "while i<len(df2):\n",
    "    for x in cols:\n",
    "        df2.loc[i,x]=df2.loc[i,x]*normalizer.loc[i,\"100% Composite Index\"]\n",
    "    i+=1"
   ]
  },
  {
   "cell_type": "code",
   "execution_count": 20,
   "metadata": {
    "ExecuteTime": {
     "end_time": "2016-10-18T23:19:48.349192",
     "start_time": "2016-10-18T23:19:48.328317"
    },
    "collapsed": false
   },
   "outputs": [],
   "source": [
    "#ENTER BINS BELOW\n",
    "bin_NUMBER=2\n",
    "\n",
    "temp2=pd.DataFrame(df[\"Salary\"].copy(),columns=[\"Salary\"])\n",
    "bins2,replacements2=create_bins(min(temp2[\"Salary\"]),max(temp2[\"Salary\"]),bin_NUMBER)\n",
    "\n",
    "temp=pd.DataFrame(df[\"Salary\"].copy(),columns=[\"Salary\"])\n",
    "bins,replacements=create_bins(min(temp[\"Salary\"]),max(temp[\"Salary\"]),bin_NUMBER)\n",
    "temp[\"Normalized Salary\"]=temp[\"Salary\"].apply(lambda x: salary_bin(bins,replacements,x))\n",
    "#df1=pd.get_dummies(temp,columns=[\"Normalized Salary\"])\n",
    "df1=temp[\"Normalized Salary\"]"
   ]
  },
  {
   "cell_type": "raw",
   "metadata": {
    "ExecuteTime": {
     "end_time": "2016-10-18T23:14:54.839987",
     "start_time": "2016-10-18T23:14:54.765445"
    },
    "collapsed": false
   },
   "source": [
    "temp.describe()"
   ]
  },
  {
   "cell_type": "code",
   "execution_count": 21,
   "metadata": {
    "ExecuteTime": {
     "end_time": "2016-10-18T23:19:51.370847",
     "start_time": "2016-10-18T23:19:49.840759"
    },
    "collapsed": false,
    "scrolled": false
   },
   "outputs": [
    {
     "name": "stdout",
     "output_type": "stream",
     "text": [
      "Number of bins:     2\n",
      "Random Iterations:  1\n",
      "\n",
      "Average Precision:  0.85\n",
      "Average Recall:     0.84\n",
      "Average F1-Score:   0.84\n",
      "\n",
      "Variance Precision: 0.0\n",
      "Variance Recall:    0.0\n",
      "Variance F1-Score:  0.0\n",
      "               125500-211000  40000-125500\n",
      "125500-211000            107            33\n",
      "40000-125500              48           320\n",
      "               precision    recall  f1-score   support\n",
      "\n",
      "125500-211000       0.69      0.76      0.73       140\n",
      " 40000-125500       0.91      0.87      0.89       368\n",
      "\n",
      "  avg / total       0.85      0.84      0.84       508\n",
      "\n"
     ]
    }
   ],
   "source": [
    "prec=[]\n",
    "recall=[]\n",
    "f1score=[]\n",
    "max_rand=2\n",
    "\n",
    "for random in range(1,max_rand):\n",
    "    x_train,x_test,y_train,y_test=train_test_split(df2,df1,test_size=.35,stratify=df1,random_state=random)\n",
    "    logreg = LogisticRegression(solver='lbfgs') #'newton-cg', 'lbfgs', 'liblinear', 'sag'\n",
    "    C_vals = np.linspace(1,1001,10)\n",
    "    penalties = ['l2']\n",
    "\n",
    "    gs = GridSearchCV(logreg, {'penalty': penalties, 'C': C_vals}, cv=3)\n",
    "    gs.fit(x_train, y_train)\n",
    "\n",
    "    logreg = LogisticRegression(C=gs.best_params_['C'], penalty=gs.best_params_['penalty'])\n",
    "    cv_model = logreg.fit(x_train, y_train)\n",
    "    cv_pred = cv_model.predict(x_test)\n",
    "\n",
    "    y_score = cv_model.decision_function(x_test)\n",
    "\n",
    "    \"\"\" Check your performance so far.\"\"\"\n",
    "\n",
    "    conmat = np.array(confusion_matrix(y_test, cv_pred))\n",
    "    confusion = pd.DataFrame(conmat, index=cv_model.classes_, columns=cv_model.classes_)\n",
    "#     print random, classification_report(y_test,cv_pred)\n",
    "    prec.append(float(classification_report(y_test,cv_pred)[-35:-31]))\n",
    "    recall.append(float(classification_report(y_test,cv_pred)[-25:-21]))\n",
    "    f1score.append(float(classification_report(y_test,cv_pred)[-15:-11]))\n",
    "#    \n",
    "print \"Number of bins:    \", bin_NUMBER\n",
    "print \"Random Iterations: \", max_rand-1\n",
    "print \n",
    "print \"Average Precision: \", np.mean(prec)\n",
    "print \"Average Recall:    \", np.mean(recall)\n",
    "print \"Average F1-Score:  \", np.mean(f1score)\n",
    "print \n",
    "print \"Variance Precision:\", np.var(prec)\n",
    "print \"Variance Recall:   \", np.var(recall)\n",
    "print \"Variance F1-Score: \", np.var(f1score)\n",
    "\n",
    "\n",
    "print(confusion)\n",
    "print classification_report(y_test,cv_pred)\n",
    "    #print cv_model.coef_"
   ]
  },
  {
   "cell_type": "raw",
   "metadata": {},
   "source": [
    "## BEST with Junior Jobs and no Job Dummies\n",
    "* Number of bins:    3\n",
    "* Average Precision: 0.756315789474\n",
    "* Average Recall:    0.754736842105\n",
    "* Average F1-Score:  0.751052631579\n",
    "\n",
    "## Best with No Junior Jobs and Job Dummies\n",
    "* Number of bins:    3\n",
    "* Average Precision:  0.755789473684\n",
    "* Average Recall:     0.754210526316\n",
    "* Average F1-Score:   0.75\n",
    "\n",
    "## Best with No Junior Jobs and no Job Dummies\n",
    "* Number of bins:    3\n",
    "* Average Precision:  0.756315789474\n",
    "* Average Recall:     0.754736842105\n",
    "* Average F1-Score:   0.751052631579"
   ]
  },
  {
   "cell_type": "raw",
   "metadata": {},
   "source": [
    "## Standard Company Changes:\n",
    "* Number of bins:    3\n",
    "* Average Precision: 0.748947368421\n",
    "* Average Recall:    0.748947368421\n",
    "* Average F1-Score:  0.744736842105\n",
    "\n",
    "## With Private Company changes:\n",
    "* Number of bins:    3\n",
    "* Average Precision: 0.755789473684\n",
    "* Average Recall:    0.754210526316\n",
    "* Average F1-Score:  0.75\n",
    "\n",
    "## With PC changes and no Job Dummies:\n",
    "* Number of bins:    3\n",
    "* Average Precision: 0.756315789474\n",
    "* Average Recall:    0.754736842105\n",
    "* Average F1-Score:  0.751052631579"
   ]
  },
  {
   "cell_type": "raw",
   "metadata": {},
   "source": [
    "## Standard Company Changes:\n",
    "* Number of bins:    3\n",
    "* Average Precision: 0.748947368421\n",
    "* Average Recall:    0.748947368421\n",
    "* Average F1-Score:  0.744736842105\n",
    "\n",
    "## With Private Company changes:\n",
    "* Number of bins:    3\n",
    "* Average Precision: 0.755789473684\n",
    "* Average Recall:    0.754210526316\n",
    "* Average F1-Score:  0.75\n",
    "\n",
    "## With Private Company changes and Sector-MarketCap Bin:\n",
    "* Number of bins:    3\n",
    "* Average Precision: 0.753157894737\n",
    "* Average Recall:    0.752105263158\n",
    "* Average F1-Score:  0.748421052632\n",
    "\n",
    "## With PC changes and no State Dummies:\n",
    "* Number of bins:    3\n",
    "* Average Precision: 0.723684210526\n",
    "* Average Recall:    0.726842105263\n",
    "* Average F1-Score:  0.72\n",
    "\n",
    "## With PC changes and no Region Dummies:\n",
    "* Number of bins:    3\n",
    "* Average Precision: 0.754210526316\n",
    "* Average Recall:    0.754210526316\n",
    "* Average F1-Score:  0.748421052632\n",
    "\n",
    "## With PC changes and no Job Dummies:\n",
    "* Number of bins:    3\n",
    "* Average Precision: 0.756315789474\n",
    "* Average Recall:    0.754736842105\n",
    "* Average F1-Score:  0.751052631579\n",
    "\n",
    "## With PC changes, no J D, and no MarketCap Dummies\n"
   ]
  },
  {
   "cell_type": "raw",
   "metadata": {
    "ExecuteTime": {
     "end_time": "2016-10-18T14:49:35.406474",
     "start_time": "2016-10-18T14:49:35.380856"
    },
    "collapsed": false
   },
   "source": [
    "print classification_report(y_test,cv_pred)[-35:]\n",
    "prec=classification_report(y_test,cv_pred)[-35:-31]\n",
    "recall=classification_report(y_test,cv_pred)[-25:-21]\n",
    "f1score=classification_report(y_test,cv_pred)[-15:-11]\n",
    "\n",
    "print prec\n",
    "print recall\n",
    "print f1score"
   ]
  },
  {
   "cell_type": "raw",
   "metadata": {
    "ExecuteTime": {
     "end_time": "2016-10-18T14:49:36.144281",
     "start_time": "2016-10-18T14:49:36.121777"
    },
    "collapsed": false
   },
   "source": [
    "cv_model.classes_"
   ]
  },
  {
   "cell_type": "raw",
   "metadata": {
    "ExecuteTime": {
     "end_time": "2016-10-18T14:49:36.830309",
     "start_time": "2016-10-18T14:49:36.819957"
    },
    "collapsed": false
   },
   "source": [
    "#plt.hist(df[\"Salary\"],bins=30)\n",
    "172*len(df[df[\"Salary\"]>145000])/float(len(df[\"Salary\"]))"
   ]
  },
  {
   "cell_type": "code",
   "execution_count": 22,
   "metadata": {
    "ExecuteTime": {
     "end_time": "2016-10-18T23:20:15.200954",
     "start_time": "2016-10-18T23:20:15.194130"
    },
    "collapsed": false
   },
   "outputs": [
    {
     "name": "stdout",
     "output_type": "stream",
     "text": [
      "667.666666667 l2\n"
     ]
    }
   ],
   "source": [
    "print gs.best_params_['C'], gs.best_params_['penalty']"
   ]
  },
  {
   "cell_type": "raw",
   "metadata": {
    "ExecuteTime": {
     "end_time": "2016-10-18T22:57:52.040119",
     "start_time": "2016-10-18T22:57:51.919518"
    }
   },
   "source": [
    "feature_imp = pd.DataFrame([x_test.columns, gs.best_estimator_.coef_[0],\\\n",
    "              gs.best_estimator_.coef_[1],gs.best_estimator_.coef_[2]],\\\n",
    "             index=['features', gs.best_estimator_.classes_[0], gs.best_estimator_.classes_[1], gs.best_estimator_.classes_[2]]).T\n",
    "feature_imp.sort_values(by=gs.best_estimator_.classes_[0], ascending=False)"
   ]
  },
  {
   "cell_type": "raw",
   "metadata": {
    "ExecuteTime": {
     "end_time": "2016-10-18T23:15:36.646771",
     "start_time": "2016-10-18T23:15:36.635618"
    },
    "collapsed": false
   },
   "source": [
    "x_train2,x_test2,y_train2,y_test2=train_test_split(df2,df['Salary'],test_size=.35)"
   ]
  },
  {
   "cell_type": "raw",
   "metadata": {
    "ExecuteTime": {
     "end_time": "2016-10-18T23:15:38.488820",
     "start_time": "2016-10-18T23:15:38.070357"
    },
    "collapsed": false
   },
   "source": [
    "\"\"\" Fit a binary classification predictor.\"\"\"\n",
    "#Linear Regression\n",
    "xtr=x_train2\n",
    "xte=x_test2\n",
    "ytr=y_train2\n",
    "yte=y_test2\n",
    "\n",
    "xtr=np.array(xtr).reshape(len(xtr),len(x_train2.columns))\n",
    "xte=np.array(xte).reshape(len(xte),len(x_train2.columns))\n",
    "xtr2=sm.add_constant(xtr)\n",
    "model=sm.OLS(ytr,xtr).fit()\n",
    "\n",
    "xte2=sm.add_constant(xte)\n",
    "pred=model.predict(xte)\n",
    "\n",
    "plt.plot(pred,yte,'o')\n",
    "plt.plot(pred,pred,'-')\n",
    "plt.xlim(0,200000)\n",
    "plt.ylim(0,200000)\n",
    "plt.show()\n",
    "\n",
    "print model.summary2()"
   ]
  },
  {
   "cell_type": "raw",
   "metadata": {
    "ExecuteTime": {
     "end_time": "2016-10-18T23:15:40.908354",
     "start_time": "2016-10-18T23:15:40.598372"
    },
    "collapsed": false,
    "scrolled": false
   },
   "source": [
    "ridge=Ridge(alpha=10) #Ridge is .28269 at 230\n",
    "lasso=Lasso(alpha=0.5) #Lasso is 0.289105 at 2.01\n",
    "lr=LinearRegression() #Linear Regression is .2763265\n",
    "model=lasso.fit(x_train2,y_train2)\n",
    "pred=model.predict(x_test2)\n",
    "plt.scatter(pred,y_test2)\n",
    "plt.plot(pred,pred)\n",
    "plt.ylim(0,200000)\n",
    "plt.xlim(0,200000)\n",
    "plt.show()\n",
    "print model.score(x_test2, y_test2)\n",
    "print \"\\n\"\n",
    "for x,y in zip(x_test2.columns,model.coef_):\n",
    "    print x\n",
    "    print y\n",
    "    print"
   ]
  },
  {
   "cell_type": "raw",
   "metadata": {
    "ExecuteTime": {
     "end_time": "2016-10-18T23:16:09.021982",
     "start_time": "2016-10-18T23:16:08.123966"
    },
    "collapsed": false
   },
   "source": [
    "\"\"\" Fit a binary classification predictor.\"\"\"\n",
    "#Linear Regression\n",
    "xtr=x_train2\n",
    "xte=x_test2\n",
    "ytr=y_train2\n",
    "yte=y_test2\n",
    "\n",
    "xtr=np.array(xtr).reshape(len(xtr),len(x_train2.columns))\n",
    "xte=np.array(xte).reshape(len(xte),len(x_train2.columns))\n",
    "xtr2=sm.add_constant(xtr)\n",
    "model=sm.OLS(ytr,xtr).fit()\n",
    "\n",
    "xte2=sm.add_constant(xte)\n",
    "pred=model.predict(xte)\n",
    "\n",
    "fig,axes=plt.subplots(figsize=(7,6))\n",
    "plt.scatter(pred,yte,c=(0,.7,0,1),s=[35 for x in range(len(pred))])\n",
    "temp=pred\n",
    "temp.sort()\n",
    "plt.plot(temp,temp,'--',c=(0,0,0,1),linewidth=4)\n",
    "plt.xlim(50000,190000)\n",
    "plt.ylim(50000,190000)\n",
    "plt.xlabel(\"Predicted Salary\",size=12)\n",
    "plt.ylabel(\"Actual Salary\",size=12)\n",
    "plt.title(\"Predictive Accuracy of Coefficients\",size=16)\n",
    "plt.xticks(np.linspace(60000,180000,7),['$60,000','$80,000','$100,000','$120,000','$140,000','$160,000',\n",
    "                                        '$180,000'])\n",
    "plt.yticks(np.linspace(60000,180000,7),['$60,000','$80,000','$100,000','$120,000','$140,000','$160,000',\n",
    "                                        '$180,000'])\n",
    "plt.show()\n",
    "\n",
    "#print model.summary2()```\n",
    "\n",
    "##MAKE THIS PRETTIER; We will present with this\n",
    "\n",
    "fig,ax=plt.subplots(figsize=(8,4))\n",
    "average=np.mean(glass_door[\"100% Composite Index\"])\n",
    "#\\plt.hist(glass_door[\"Salary\"]/average,width=50)\n",
    "plt.hist(glass_door[\"Salary\"],bins=45,color=(0,0,0,1),histtype='stepfilled',label=\"Non-Normalized\")\n",
    "plt.hist(glass_door[\"Normalized Salary\"]*115,bins=45,color=(0,1,1,.6),histtype='stepfilled',label=\"Normalized\")\n",
    "plt.xlabel(\"Salary\",size=12)\n",
    "plt.ylabel(\"Count\",size=12)\n",
    "plt.title(\"Salary Distribution w/ and w/o Normalization\",size=16)\n",
    "plt.legend(loc='upper right')\n",
    "plt.xticks(np.linspace(0,250000,6),['$0',\"$50,000\",\"$100,000\",'$150,000','$200,000','$250,000'])\n",
    "plt.show()"
   ]
  },
  {
   "cell_type": "raw",
   "metadata": {
    "ExecuteTime": {
     "end_time": "2016-10-18T23:20:47.268938",
     "start_time": "2016-10-18T23:20:47.259150"
    },
    "collapsed": false
   },
   "source": [
    "print classification_report(y_test, cv_pred)"
   ]
  },
  {
   "cell_type": "code",
   "execution_count": 24,
   "metadata": {
    "ExecuteTime": {
     "end_time": "2016-10-18T23:21:00.498080",
     "start_time": "2016-10-18T23:21:00.490547"
    },
    "collapsed": false
   },
   "outputs": [
    {
     "data": {
      "text/plain": [
       "array(['125500-211000', '40000-125500'], dtype=object)"
      ]
     },
     "execution_count": 24,
     "metadata": {},
     "output_type": "execute_result"
    }
   ],
   "source": [
    "logreg.classes_"
   ]
  },
  {
   "cell_type": "code",
   "execution_count": 37,
   "metadata": {
    "ExecuteTime": {
     "end_time": "2016-10-18T23:30:28.974172",
     "start_time": "2016-10-18T23:30:28.598527"
    },
    "collapsed": false
   },
   "outputs": [
    {
     "data": {
      "image/png": "[encoded data removed]",
      "text/plain": [
       "<matplotlib.figure.Figure at 0x11c6f1690>"
      ]
     },
     "metadata": {},
     "output_type": "display_data"
    }
   ],
   "source": [
    "# for j in range(len(logreg.classes_)):\n",
    "FPR, TPR, _ = roc_curve(y_test, y_score, pos_label=logreg.classes_[1])\n",
    "ROC_AUC = auc(FPR, TPR)\n",
    "\n",
    "amounts = logreg.classes_[j].split('-')\n",
    "title = 'Receiver operating characteristic'\n",
    "\n",
    "plt.figure(figsize=[11,9])\n",
    "plt.plot(FPR, TPR, label='ROC curve (area = %0.2f)' % ROC_AUC, linewidth=4)\n",
    "plt.plot([0, 1], [0, 1], 'k--', linewidth=4)\n",
    "plt.xlim([0.0, 1.0])\n",
    "plt.ylim([0.0, 1.05])\n",
    "plt.xlabel('False Positive Rate', fontsize=18)\n",
    "plt.ylabel('True Positive Rate', fontsize=18)\n",
    "plt.title(title, fontsize=18)\n",
    "plt.legend(loc=\"lower right\")\n",
    "plt.show()"
   ]
  },
  {
   "cell_type": "code",
   "execution_count": null,
   "metadata": {
    "collapsed": false
   },
   "outputs": [],
   "source": []
  },
  {
   "cell_type": "code",
   "execution_count": null,
   "metadata": {
    "collapsed": false
   },
   "outputs": [],
   "source": []
  },
  {
   "cell_type": "code",
   "execution_count": null,
   "metadata": {
    "collapsed": false
   },
   "outputs": [],
   "source": []
  },
  {
   "cell_type": "code",
   "execution_count": 36,
   "metadata": {
    "ExecuteTime": {
     "end_time": "2016-10-18T23:30:13.102365",
     "start_time": "2016-10-18T23:30:12.261250"
    },
    "collapsed": false
   },
   "outputs": [
    {
     "data": {
      "image/png": "[encoded data removed]",
      "text/plain": [
       "<matplotlib.figure.Figure at 0x11c6cb410>"
      ]
     },
     "metadata": {},
     "output_type": "display_data"
    }
   ],
   "source": [
    "##MAKE THIS PRETTIER; We will present with this\n",
    "\n",
    "average=np.mean(glass_door[\"100% Composite Index\"])\n",
    "#\\plt.hist(glass_door[\"Salary\"]/average,width=50)\n",
    "fig, ax = plt.subplots(figsize=(16,8));\n",
    "plt.hist(glass_door[\"Normalized Salary\"]*115,bins=30,alpha=1);\n",
    "plt.hist(glass_door[\"Salary\"],bins=30,alpha=0.4,color='white', edgecolor='black', lw=3);\n",
    "plt.title('Salaries vs Normalized Salaries', fontsize=20);\n",
    "plt.legend(['Salaries', 'Normalized Salaries'], fontsize=15);\n",
    "plt.xlabel('Amount', fontsize=15);\n",
    "plt.ylabel('Frequency', fontsize=15);"
   ]
  },
  {
   "cell_type": "code",
   "execution_count": null,
   "metadata": {
    "collapsed": false
   },
   "outputs": [],
   "source": []
  }
 ],
 "metadata": {
  "anaconda-cloud": {},
  "kernelspec": {
   "display_name": "Python 2",
   "language": "python",
   "name": "python2"
  },
  "language_info": {
   "codemirror_mode": {
    "name": "ipython",
    "version": 2
   },
   "file_extension": ".py",
   "mimetype": "text/x-python",
   "name": "python",
   "nbconvert_exporter": "python",
   "pygments_lexer": "ipython2",
   "version": "2.7.12"
  }
 },
 "nbformat": 4,
 "nbformat_minor": 1
}
