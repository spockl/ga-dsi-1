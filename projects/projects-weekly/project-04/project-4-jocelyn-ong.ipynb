{
 "cells": [
  {
   "cell_type": "markdown",
   "metadata": {},
   "source": [
    "# ![](https://ga-dash.s3.amazonaws.com/production/assets/logo-9f88ae6c9c3871690e33280fcf557f33.png) Webscraping Project 4 Lab\n",
    "\n",
    "Week 4 | Day 4"
   ]
  },
  {
   "cell_type": "markdown",
   "metadata": {
    "focus": false,
    "id": "34681254-c802-462f-829d-8894d0772d08"
   },
   "source": [
    "In this project, we will practice two major skills: collecting data by scraping a website and then building a binary predictor with Logistic Regression.\n",
    "\n",
    "We are going to collect salary information on data science jobs in a variety of markets. Then using the location, title and summary of the job we will attempt to predict the salary of the job. For job posting sites, this would be extraordinarily useful. While most listings DO NOT come with salary information (as you will see in this exercise), being to able extrapolate or predict the expected salaries from other listings can help guide negotiations.\n",
    "\n",
    "Normally, we could use regression for this task; however, we will convert this problem into classification and use Logistic Regression.\n",
    "\n",
    "- Question: Why would we want this to be a classification problem?\n",
    "- Answer: While more precision may be better, there is a fair amount of natural variance in job salaries - predicting a range be may be useful.\n",
    "\n",
    "Therefore, the first part of the assignment will be focused on scraping Indeed.com (or other sites at your team's discretion). In the second part, the focus is on using listings with salary information to build a model and predict high or low salaries and what features are predictive of that result."
   ]
  },
  {
   "cell_type": "markdown",
   "metadata": {
    "focus": false,
    "id": "a948d79c-5527-4c0d-ab23-f5d43ce72056"
   },
   "source": [
    "### Scraping job listings from Indeed.com"
   ]
  },
  {
   "cell_type": "markdown",
   "metadata": {
    "focus": true,
    "id": "7203e0c9-e437-4802-a6ad-7dc464f94436"
   },
   "source": [
    "We will be scraping job listings from Indeed.com using BeautifulSoup. Luckily, Indeed.com is a simple text page where we can easily find relevant entries.\n",
    "\n",
    "First, look at the source of an Indeed.com page: (http://www.indeed.com/jobs?q=data+scientist+%2420%2C000&l=New+York&start=10\")\n",
    "\n",
    "Notice, each job listing is underneath a `div` tag with a class name of `result`. We can use BeautifulSoup to extract those. "
   ]
  },
  {
   "cell_type": "markdown",
   "metadata": {
    "focus": false,
    "id": "9732c901-ae26-4160-8376-42e22dd327df"
   },
   "source": [
    "#### Setup a request (using `requests`) to the URL below. Use BeautifulSoup to parse the page and extract all results (HINT: Look for div tags with class name result)"
   ]
  },
  {
   "cell_type": "raw",
   "metadata": {
    "ExecuteTime": {
     "end_time": "2016-10-14T22:18:41.296742",
     "start_time": "2016-10-14T22:18:41.289725"
    },
    "collapsed": false,
    "focus": false,
    "id": "e915023e-6b0d-4982-af2a-b1e0355f4927"
   },
   "source": [
    "URL = \"http://www.indeed.com/jobs?q=data+scientist+%2420%2C000&l=New+York&start=10\""
   ]
  },
  {
   "cell_type": "code",
   "execution_count": 3,
   "metadata": {
    "ExecuteTime": {
     "end_time": "2016-10-16T12:09:43.253491",
     "start_time": "2016-10-16T12:09:33.314564"
    },
    "collapsed": false,
    "focus": false,
    "id": "2efefc73-064a-482d-b3b5-ddf5508cb4ec"
   },
   "outputs": [],
   "source": [
    "import requests\n",
    "import bs4\n",
    "from bs4 import BeautifulSoup\n",
    "from selenium import webdriver\n",
    "\n",
    "import pandas as pd\n",
    "\n",
    "import numpy as np\n",
    "\n",
    "import seaborn as sns\n",
    "import matplotlib.pyplot as plt\n",
    "%matplotlib inline\n",
    "\n",
    "path_phantom = '//Applications/phantomjs'"
   ]
  },
  {
   "cell_type": "code",
   "execution_count": 177,
   "metadata": {
    "ExecuteTime": {
     "end_time": "2016-10-15T21:48:23.113542",
     "start_time": "2016-10-15T21:48:19.895346"
    },
    "collapsed": false,
    "focus": false,
    "id": "2c6752c4-7704-4c94-8bc0-6f13d2d0d570"
   },
   "outputs": [],
   "source": [
    "## YOUR CODE HERE\n",
    "driver = webdriver.PhantomJS(executable_path=path_phantom)"
   ]
  },
  {
   "cell_type": "code",
   "execution_count": 178,
   "metadata": {
    "ExecuteTime": {
     "end_time": "2016-10-15T21:48:23.241532",
     "start_time": "2016-10-15T21:48:23.116333"
    },
    "collapsed": false
   },
   "outputs": [],
   "source": [
    "soup = BeautifulSoup(driver.page_source, 'lxml')"
   ]
  },
  {
   "cell_type": "raw",
   "metadata": {
    "ExecuteTime": {
     "end_time": "2016-10-14T10:43:42.360870",
     "start_time": "2016-10-14T10:43:42.338146"
    }
   },
   "source": [
    "print soup.find('div', class_='result').prettify()"
   ]
  },
  {
   "cell_type": "markdown",
   "metadata": {
    "focus": false,
    "id": "f1eddb90-4ba8-483c-a229-77e93aa53119"
   },
   "source": [
    "### Write 4 functions to extract each item: location, company, job, and salary.\n",
    "\n",
    "example: \n",
    "```python\n",
    "def extract_location_from_result(result):\n",
    "    return result.find ...\n",
    "```\n",
    "\n",
    "\n",
    "- Make sure these functions are robust and can handle cases where the data/field may not be available.\n",
    "- Test the functions on the results above\n",
    "- Include any other features you may want to use later (e.g. summary, #of reviews...)"
   ]
  },
  {
   "cell_type": "code",
   "execution_count": 179,
   "metadata": {
    "ExecuteTime": {
     "end_time": "2016-10-15T21:48:25.583607",
     "start_time": "2016-10-15T21:48:25.538408"
    },
    "collapsed": false,
    "focus": false,
    "id": "a1af53c9-9090-494f-b82e-cadb60a54909"
   },
   "outputs": [],
   "source": [
    "## YOUR CODE HERE\n",
    "def extract_location_from_result(result):\n",
    "    try:\n",
    "        location = result.find('span', class_='location').text.strip()\n",
    "    except:\n",
    "        location = ''\n",
    "    return location\n",
    "\n",
    "def extract_title_from_result(result):\n",
    "    try:\n",
    "        job_title = result.find('a', class_='jobtitle').text.strip('\\n')\n",
    "    except:\n",
    "        try:\n",
    "            job_title = result.find('h2', class_='jobtitle').text.strip('\\n')\n",
    "        except:\n",
    "            job_title = ''\n",
    "    return job_title\n",
    "\n",
    "def extract_summary_from_result(result):\n",
    "    try:\n",
    "        summary = result.find('span', class_='summary').text.strip()\n",
    "    except:\n",
    "        summary = ''\n",
    "    return summary\n",
    "\n",
    "def extract_company_from_result(result):\n",
    "    try:\n",
    "        company = result.find('span', class_='company').text.strip()\n",
    "    except:\n",
    "        company = ''\n",
    "    return company\n",
    "\n",
    "def extract_reviews_from_result(result):\n",
    "    try:\n",
    "        sub = result.find('span', class_='slNoUnderline').text.strip()\n",
    "        if 'review' in sub:\n",
    "            reviews = sub.split()[0]\n",
    "    except:\n",
    "        reviews = ''\n",
    "    return reviews\n",
    "\n",
    "def extract_salary_from_result(result):\n",
    "    try:\n",
    "        salary = result.find('td', class_='snip').find('nobr').text.strip()\n",
    "#         salary_text = salary_text.split()\n",
    "#         salary = float(salary_text[0].strip('$').replace(',',''))\n",
    "    except:\n",
    "        salary = ''\n",
    "    return salary\n",
    "\n",
    "def get_all_details(result):\n",
    "    if extract_salary_from_result(result) != '':\n",
    "        return [extract_title_from_result(result),\\\n",
    "                extract_company_from_result(result),\\\n",
    "                extract_location_from_result(result),\\\n",
    "                extract_summary_from_result(result),\\\n",
    "                extract_salary_from_result(result)]\n",
    "    else:\n",
    "        return 'skip'"
   ]
  },
  {
   "cell_type": "markdown",
   "metadata": {
    "focus": false,
    "id": "34070e89-9521-4b45-90c8-57a6599aac68"
   },
   "source": [
    "Now, to scale up our scraping, we need to accumulate more results. We can do this by examining the URL above.\n",
    "\n",
    "- \"http://www.indeed.com/jobs?q=data+scientist+%2420%2C000&l=New+York&start=10\"\n",
    "\n",
    "There are two query parameters here we can alter to collect more results, the `l=New+York` and the `start=10`. The first controls the location of the results (so we can try a different city). The second controls where in the results to start and gives 10 results (thus, we can keep incrementing by 10 to go further in the list)."
   ]
  },
  {
   "cell_type": "markdown",
   "metadata": {
    "focus": false,
    "id": "e8beed7c-3e42-40c0-810f-5f67f8f885a0"
   },
   "source": [
    "### Complete the following code to collect results from multiple cities and starting points. \n",
    "- Indeed.com only has salary information for an estimated 20% of job postings. You may want to add other cities to the list below to gather more data. \n",
    "- Remember to convert your salary to U.S. Dollars to match the other cities if the currency is different"
   ]
  },
  {
   "cell_type": "code",
   "execution_count": 180,
   "metadata": {
    "ExecuteTime": {
     "end_time": "2016-10-15T21:48:41.567230",
     "start_time": "2016-10-15T21:48:41.561250"
    },
    "collapsed": false
   },
   "outputs": [],
   "source": [
    "url_template = \"http://www.indeed.com/jobs?q=data+scientist+%2420%2C000&l={}&start={}\"\n",
    "max_results_per_city = 800\n",
    "results = []"
   ]
  },
  {
   "cell_type": "code",
   "execution_count": 181,
   "metadata": {
    "ExecuteTime": {
     "end_time": "2016-10-15T21:52:37.505562",
     "start_time": "2016-10-15T21:48:42.857370"
    },
    "collapsed": false,
    "focus": false,
    "id": "04b0f9af-540e-402f-8292-81748707c676"
   },
   "outputs": [],
   "source": [
    "for city in set(['New+York', 'Chicago', 'San+Francisco', 'Austin', 'Atlanta']):\n",
    "    for start in range(0, max_results_per_city, 10):\n",
    "        # Grab the results from the request (as above)\n",
    "        full_url = url_template.format(city, start)\n",
    "        driver.get(full_url)\n",
    "        soup = BeautifulSoup(driver.page_source, 'lxml')\n",
    "        # Append to the full set of results\n",
    "        for item in soup.findAll('div', class_='result'):\n",
    "            if get_all_details(item) != 'skip':\n",
    "                results.append(get_all_details(item))\n",
    "#         pass"
   ]
  },
  {
   "cell_type": "markdown",
   "metadata": {
    "focus": false,
    "id": "20339c09-5032-4e27-91be-286e9b46cd13"
   },
   "source": [
    "#### Use the functions you wrote above to parse out the 4 fields - location, title, company and salary. Create a dataframe from the results with those 4 columns."
   ]
  },
  {
   "cell_type": "code",
   "execution_count": 182,
   "metadata": {
    "ExecuteTime": {
     "end_time": "2016-10-15T21:52:40.855367",
     "start_time": "2016-10-15T21:52:40.522704"
    },
    "collapsed": false
   },
   "outputs": [],
   "source": [
    "df = pd.DataFrame(results, columns=['title', 'company', 'location', 'summary', 'salary'])"
   ]
  },
  {
   "cell_type": "code",
   "execution_count": 183,
   "metadata": {
    "ExecuteTime": {
     "end_time": "2016-10-15T21:52:41.401798",
     "start_time": "2016-10-15T21:52:41.394795"
    },
    "collapsed": false
   },
   "outputs": [
    {
     "data": {
      "text/plain": [
       "(244, 5)"
      ]
     },
     "execution_count": 183,
     "metadata": {},
     "output_type": "execute_result"
    }
   ],
   "source": [
    "df.shape"
   ]
  },
  {
   "cell_type": "markdown",
   "metadata": {
    "focus": false,
    "id": "ff98ce64-78a7-441f-a675-63464e32c834"
   },
   "source": [
    "Lastly, we need to clean up salary data. \n",
    "1. Some of the salaries are not yearly but hourly, these will be useful to us for now\n",
    "2. The salaries are given as text and usually with ranges.\n",
    "\n",
    "#### Filter out the salaries that are not yearly (filter those that refer to hour)"
   ]
  },
  {
   "cell_type": "code",
   "execution_count": 184,
   "metadata": {
    "ExecuteTime": {
     "end_time": "2016-10-15T21:52:43.086961",
     "start_time": "2016-10-15T21:52:43.076625"
    },
    "collapsed": false
   },
   "outputs": [],
   "source": [
    "df['rate'] = df['salary'].map(lambda x: (40*50) if 'hour' in x else 12 if 'month' in x else 1)"
   ]
  },
  {
   "cell_type": "markdown",
   "metadata": {
    "focus": false,
    "id": "7d4bc860-b214-4f75-9cd0-b234830b1ec2"
   },
   "source": [
    "#### Write a function that takes a salary string and converts it to a number, averaging a salary range if necessary"
   ]
  },
  {
   "cell_type": "code",
   "execution_count": 140,
   "metadata": {
    "ExecuteTime": {
     "end_time": "2016-10-16T16:15:26.216730",
     "start_time": "2016-10-16T16:15:26.189161"
    },
    "collapsed": false,
    "focus": false,
    "id": "a0f701e0-80bd-40ba-9101-4535860c0968"
   },
   "outputs": [],
   "source": [
    "## YOUR CODE HERE\n",
    "def get_salary_amount(salary_string):\n",
    "    try:\n",
    "        #print salary_string\n",
    "        salary_string.replace('-', ' ')\n",
    "        sal_list = salary_string.split()\n",
    "        #print sal_list\n",
    "        figures = []\n",
    "        for i in sal_list:\n",
    "            try:\n",
    "#                 print i.strip('$')\n",
    "                if 'k' in i:\n",
    "                    num = float(i.strip('$').strip('k').replace(',','')) * 1000\n",
    "                else:\n",
    "                    num = float(i.strip('$').strip('k').replace(',',''))\n",
    "                figures.append(num)\n",
    "            except:\n",
    "                pass\n",
    "#         print figures\n",
    "        return (np.mean(figures))\n",
    "    except:\n",
    "        return np.nan"
   ]
  },
  {
   "cell_type": "code",
   "execution_count": 186,
   "metadata": {
    "ExecuteTime": {
     "end_time": "2016-10-15T21:52:45.614761",
     "start_time": "2016-10-15T21:52:45.595418"
    },
    "collapsed": false
   },
   "outputs": [],
   "source": [
    "df['est_sal_per_unit_time'] = df['salary'].map(get_salary_amount)"
   ]
  },
  {
   "cell_type": "code",
   "execution_count": 187,
   "metadata": {
    "ExecuteTime": {
     "end_time": "2016-10-15T21:52:46.176514",
     "start_time": "2016-10-15T21:52:46.170201"
    },
    "collapsed": false
   },
   "outputs": [],
   "source": [
    "df['est_annual_sal'] = df['est_sal_per_unit_time']*df['rate']"
   ]
  },
  {
   "cell_type": "code",
   "execution_count": 188,
   "metadata": {
    "ExecuteTime": {
     "end_time": "2016-10-15T21:52:47.052793",
     "start_time": "2016-10-15T21:52:47.013843"
    },
    "collapsed": false
   },
   "outputs": [
    {
     "data": {
      "text/html": [
       "<div>\n",
       "<table border=\"1\" class=\"dataframe\">\n",
       "  <thead>\n",
       "    <tr style=\"text-align: right;\">\n",
       "      <th></th>\n",
       "      <th>title</th>\n",
       "      <th>company</th>\n",
       "      <th>location</th>\n",
       "      <th>summary</th>\n",
       "      <th>salary</th>\n",
       "      <th>rate</th>\n",
       "      <th>est_sal_per_unit_time</th>\n",
       "      <th>est_annual_sal</th>\n",
       "    </tr>\n",
       "  </thead>\n",
       "  <tbody>\n",
       "    <tr>\n",
       "      <th>0</th>\n",
       "      <td>Machine Learning Engineer</td>\n",
       "      <td>Workbridge Associates</td>\n",
       "      <td>San Francisco, CA</td>\n",
       "      <td>This person will be working alongside the Data...</td>\n",
       "      <td>$120,000 - $150,000 a year</td>\n",
       "      <td>1</td>\n",
       "      <td>135000.0</td>\n",
       "      <td>135000.0</td>\n",
       "    </tr>\n",
       "    <tr>\n",
       "      <th>1</th>\n",
       "      <td>Senior Data Scientist</td>\n",
       "      <td>Workbridge Associates</td>\n",
       "      <td>San Francisco, CA</td>\n",
       "      <td>A leading healthcare start up is looking to br...</td>\n",
       "      <td>$150,000 - $180,000 a year</td>\n",
       "      <td>1</td>\n",
       "      <td>165000.0</td>\n",
       "      <td>165000.0</td>\n",
       "    </tr>\n",
       "    <tr>\n",
       "      <th>2</th>\n",
       "      <td>Data Science Resident (DSR), and gU Resident</td>\n",
       "      <td>Galvanize</td>\n",
       "      <td>San Francisco, CA</td>\n",
       "      <td>As part of the Residency program, you will rec...</td>\n",
       "      <td>$1,250 a week</td>\n",
       "      <td>1</td>\n",
       "      <td>1250.0</td>\n",
       "      <td>1250.0</td>\n",
       "    </tr>\n",
       "    <tr>\n",
       "      <th>3</th>\n",
       "      <td>Lead Data Scientist (Life Sciences)</td>\n",
       "      <td>Workbridge Associates</td>\n",
       "      <td>San Francisco, CA</td>\n",
       "      <td>A leading technology company is looking for Da...</td>\n",
       "      <td>$150,000 - $180,000 a year</td>\n",
       "      <td>1</td>\n",
       "      <td>165000.0</td>\n",
       "      <td>165000.0</td>\n",
       "    </tr>\n",
       "    <tr>\n",
       "      <th>4</th>\n",
       "      <td>Associate Scientist</td>\n",
       "      <td>Hart</td>\n",
       "      <td>South San Francisco, CA</td>\n",
       "      <td>Communicates data and interpretation to work g...</td>\n",
       "      <td>$30 an hour</td>\n",
       "      <td>2000</td>\n",
       "      <td>30.0</td>\n",
       "      <td>60000.0</td>\n",
       "    </tr>\n",
       "  </tbody>\n",
       "</table>\n",
       "</div>"
      ],
      "text/plain": [
       "                                          title                company  \\\n",
       "0                     Machine Learning Engineer  Workbridge Associates   \n",
       "1                         Senior Data Scientist  Workbridge Associates   \n",
       "2  Data Science Resident (DSR), and gU Resident              Galvanize   \n",
       "3           Lead Data Scientist (Life Sciences)  Workbridge Associates   \n",
       "4                           Associate Scientist                   Hart   \n",
       "\n",
       "                  location                                            summary  \\\n",
       "0        San Francisco, CA  This person will be working alongside the Data...   \n",
       "1        San Francisco, CA  A leading healthcare start up is looking to br...   \n",
       "2        San Francisco, CA  As part of the Residency program, you will rec...   \n",
       "3        San Francisco, CA  A leading technology company is looking for Da...   \n",
       "4  South San Francisco, CA  Communicates data and interpretation to work g...   \n",
       "\n",
       "                       salary  rate  est_sal_per_unit_time  est_annual_sal  \n",
       "0  $120,000 - $150,000 a year     1               135000.0        135000.0  \n",
       "1  $150,000 - $180,000 a year     1               165000.0        165000.0  \n",
       "2               $1,250 a week     1                 1250.0          1250.0  \n",
       "3  $150,000 - $180,000 a year     1               165000.0        165000.0  \n",
       "4                 $30 an hour  2000                   30.0         60000.0  "
      ]
     },
     "execution_count": 188,
     "metadata": {},
     "output_type": "execute_result"
    }
   ],
   "source": [
    "df.head()"
   ]
  },
  {
   "cell_type": "code",
   "execution_count": 189,
   "metadata": {
    "ExecuteTime": {
     "end_time": "2016-10-15T21:52:50.445942",
     "start_time": "2016-10-15T21:52:50.295270"
    },
    "collapsed": false
   },
   "outputs": [
    {
     "data": {
      "text/html": [
       "<div>\n",
       "<table border=\"1\" class=\"dataframe\">\n",
       "  <thead>\n",
       "    <tr style=\"text-align: right;\">\n",
       "      <th></th>\n",
       "      <th>rate</th>\n",
       "      <th>est_sal_per_unit_time</th>\n",
       "      <th>est_annual_sal</th>\n",
       "    </tr>\n",
       "  </thead>\n",
       "  <tbody>\n",
       "    <tr>\n",
       "      <th>count</th>\n",
       "      <td>244.000000</td>\n",
       "      <td>244.000000</td>\n",
       "      <td>244.000000</td>\n",
       "    </tr>\n",
       "    <tr>\n",
       "      <th>mean</th>\n",
       "      <td>135.823770</td>\n",
       "      <td>68255.915471</td>\n",
       "      <td>96132.463115</td>\n",
       "    </tr>\n",
       "    <tr>\n",
       "      <th>std</th>\n",
       "      <td>494.873977</td>\n",
       "      <td>64939.377613</td>\n",
       "      <td>44278.388283</td>\n",
       "    </tr>\n",
       "    <tr>\n",
       "      <th>min</th>\n",
       "      <td>1.000000</td>\n",
       "      <td>15.500000</td>\n",
       "      <td>886.000000</td>\n",
       "    </tr>\n",
       "    <tr>\n",
       "      <th>25%</th>\n",
       "      <td>1.000000</td>\n",
       "      <td>6500.000000</td>\n",
       "      <td>73928.875000</td>\n",
       "    </tr>\n",
       "    <tr>\n",
       "      <th>50%</th>\n",
       "      <td>1.000000</td>\n",
       "      <td>65000.000000</td>\n",
       "      <td>78000.000000</td>\n",
       "    </tr>\n",
       "    <tr>\n",
       "      <th>75%</th>\n",
       "      <td>12.000000</td>\n",
       "      <td>115748.500000</td>\n",
       "      <td>117453.125000</td>\n",
       "    </tr>\n",
       "    <tr>\n",
       "      <th>max</th>\n",
       "      <td>2000.000000</td>\n",
       "      <td>250000.000000</td>\n",
       "      <td>250000.000000</td>\n",
       "    </tr>\n",
       "  </tbody>\n",
       "</table>\n",
       "</div>"
      ],
      "text/plain": [
       "              rate  est_sal_per_unit_time  est_annual_sal\n",
       "count   244.000000             244.000000      244.000000\n",
       "mean    135.823770           68255.915471    96132.463115\n",
       "std     494.873977           64939.377613    44278.388283\n",
       "min       1.000000              15.500000      886.000000\n",
       "25%       1.000000            6500.000000    73928.875000\n",
       "50%       1.000000           65000.000000    78000.000000\n",
       "75%      12.000000          115748.500000   117453.125000\n",
       "max    2000.000000          250000.000000   250000.000000"
      ]
     },
     "execution_count": 189,
     "metadata": {},
     "output_type": "execute_result"
    }
   ],
   "source": [
    "df.describe()"
   ]
  },
  {
   "cell_type": "raw",
   "metadata": {
    "ExecuteTime": {
     "end_time": "2016-10-15T12:38:20.188357",
     "start_time": "2016-10-15T12:38:19.999176"
    },
    "collapsed": false
   },
   "source": [
    "df[df['est_annual_sal'].notnull()]"
   ]
  },
  {
   "cell_type": "markdown",
   "metadata": {
    "collapsed": false,
    "focus": false,
    "id": "43e71edd-210e-42b1-9336-70a931f048af"
   },
   "source": [
    "### Save your results as a CSV"
   ]
  },
  {
   "cell_type": "code",
   "execution_count": 190,
   "metadata": {
    "ExecuteTime": {
     "end_time": "2016-10-15T21:52:55.278202",
     "start_time": "2016-10-15T21:52:55.273901"
    },
    "collapsed": false,
    "focus": false,
    "id": "783fd153-28ac-47ab-bfca-27e7c1de95b4"
   },
   "outputs": [],
   "source": [
    "## YOUR CODE HERE"
   ]
  },
  {
   "cell_type": "code",
   "execution_count": 191,
   "metadata": {
    "ExecuteTime": {
     "end_time": "2016-10-15T21:52:56.321431",
     "start_time": "2016-10-15T21:52:56.314350"
    },
    "collapsed": false
   },
   "outputs": [],
   "source": [
    "df2 = df.copy()\n",
    "df2 = df2.drop(['salary', 'rate', 'est_sal_per_unit_time'], axis=1)"
   ]
  },
  {
   "cell_type": "code",
   "execution_count": 192,
   "metadata": {
    "ExecuteTime": {
     "end_time": "2016-10-15T21:52:57.615150",
     "start_time": "2016-10-15T21:52:57.506389"
    },
    "collapsed": false
   },
   "outputs": [],
   "source": [
    "df2.to_csv('indeed.csv', encoding='utf-8')"
   ]
  },
  {
   "cell_type": "code",
   "execution_count": 2,
   "metadata": {
    "ExecuteTime": {
     "end_time": "2016-10-16T11:17:07.185859",
     "start_time": "2016-10-16T11:17:06.993740"
    },
    "collapsed": true
   },
   "outputs": [],
   "source": [
    "df2 = pd.read_csv('indeed.csv')"
   ]
  },
  {
   "cell_type": "code",
   "execution_count": 3,
   "metadata": {
    "ExecuteTime": {
     "end_time": "2016-10-16T11:17:09.001462",
     "start_time": "2016-10-16T11:17:07.719263"
    },
    "collapsed": false
   },
   "outputs": [
    {
     "data": {
      "text/plain": [
       "<matplotlib.axes._subplots.AxesSubplot at 0x117712b50>"
      ]
     },
     "execution_count": 3,
     "metadata": {},
     "output_type": "execute_result"
    },
    {
     "data": {
      "image/png": "[encoded data removed]",
      "text/plain": [
       "<matplotlib.figure.Figure at 0x10411afd0>"
      ]
     },
     "metadata": {},
     "output_type": "display_data"
    }
   ],
   "source": [
    "df2.est_annual_sal.hist() "
   ]
  },
  {
   "cell_type": "code",
   "execution_count": 4,
   "metadata": {
    "ExecuteTime": {
     "end_time": "2016-10-16T11:17:13.241938",
     "start_time": "2016-10-16T11:17:12.775934"
    },
    "collapsed": false
   },
   "outputs": [],
   "source": [
    "from sklearn.feature_extraction.text import CountVectorizer"
   ]
  },
  {
   "cell_type": "code",
   "execution_count": 30,
   "metadata": {
    "ExecuteTime": {
     "end_time": "2016-10-16T11:22:13.455843",
     "start_time": "2016-10-16T11:22:13.449801"
    },
    "collapsed": false
   },
   "outputs": [],
   "source": [
    "vectorizer = CountVectorizer(ngram_range=(1,5),\\\n",
    "                            stop_words='english',\\\n",
    "                            max_features=1000,\\\n",
    "                            binary=True)"
   ]
  },
  {
   "cell_type": "code",
   "execution_count": 31,
   "metadata": {
    "ExecuteTime": {
     "end_time": "2016-10-16T11:22:14.327563",
     "start_time": "2016-10-16T11:22:14.216208"
    },
    "collapsed": false
   },
   "outputs": [
    {
     "data": {
      "text/plain": [
       "CountVectorizer(analyzer=u'word', binary=True, decode_error=u'strict',\n",
       "        dtype=<type 'numpy.int64'>, encoding=u'utf-8', input=u'content',\n",
       "        lowercase=True, max_df=1.0, max_features=1000, min_df=1,\n",
       "        ngram_range=(1, 5), preprocessor=None, stop_words='english',\n",
       "        strip_accents=None, token_pattern=u'(?u)\\\\b\\\\w\\\\w+\\\\b',\n",
       "        tokenizer=None, vocabulary=None)"
      ]
     },
     "execution_count": 31,
     "metadata": {},
     "output_type": "execute_result"
    }
   ],
   "source": [
    "vectorizer.fit(df2['summary'])"
   ]
  },
  {
   "cell_type": "code",
   "execution_count": 32,
   "metadata": {
    "ExecuteTime": {
     "end_time": "2016-10-16T11:22:15.033481",
     "start_time": "2016-10-16T11:22:14.960698"
    },
    "collapsed": false
   },
   "outputs": [],
   "source": [
    "summary_features = vectorizer.transform(df2['summary'])"
   ]
  },
  {
   "cell_type": "code",
   "execution_count": 33,
   "metadata": {
    "ExecuteTime": {
     "end_time": "2016-10-16T11:22:15.647710",
     "start_time": "2016-10-16T11:22:15.640584"
    },
    "collapsed": false
   },
   "outputs": [
    {
     "data": {
      "text/plain": [
       "<244x1000 sparse matrix of type '<type 'numpy.int64'>'\n",
       "\twith 7784 stored elements in Compressed Sparse Row format>"
      ]
     },
     "execution_count": 33,
     "metadata": {},
     "output_type": "execute_result"
    }
   ],
   "source": [
    "summary_features"
   ]
  },
  {
   "cell_type": "raw",
   "metadata": {
    "ExecuteTime": {
     "end_time": "2016-10-15T12:47:42.696846",
     "start_time": "2016-10-15T12:47:42.654397"
    }
   },
   "source": [
    "# Identify the features you want from the original dataset\n",
    "other_features_columns = ['html_ratio', 'image_ratio']\n",
    "other_features = data[other_features_columns]\n",
    "\n",
    "# Stack them horizontally together\n",
    "# This takes all of the word/n-gram columns and appends on two more columns for `html_ratio` and `image_ratio`\n",
    "from scipy.sparse import hstack\n",
    "X = hstack((X_text_features, other_features)).toarray()"
   ]
  },
  {
   "cell_type": "code",
   "execution_count": 34,
   "metadata": {
    "ExecuteTime": {
     "end_time": "2016-10-16T11:22:16.795548",
     "start_time": "2016-10-16T11:22:16.768297"
    },
    "collapsed": false
   },
   "outputs": [],
   "source": [
    "df2['high_sal'] = df2['est_annual_sal'].map(lambda x: 1 if x > df2['est_annual_sal'].median() else 0)"
   ]
  },
  {
   "cell_type": "code",
   "execution_count": 35,
   "metadata": {
    "ExecuteTime": {
     "end_time": "2016-10-16T11:22:17.416106",
     "start_time": "2016-10-16T11:22:17.411469"
    },
    "collapsed": false
   },
   "outputs": [],
   "source": [
    "y = df2['high_sal']"
   ]
  },
  {
   "cell_type": "code",
   "execution_count": 55,
   "metadata": {
    "ExecuteTime": {
     "end_time": "2016-10-16T11:26:40.188533",
     "start_time": "2016-10-16T11:26:40.104456"
    },
    "collapsed": false
   },
   "outputs": [],
   "source": [
    "df2['sal_range'] = df2['est_annual_sal'].map(lambda x: 2 if x >\\\n",
    "                                             df2['est_annual_sal'].median()+2*df2['est_annual_sal'].std() else\\\n",
    "                                            1 if x > df2['est_annual_sal'].median()-df2['est_annual_sal'].std()\\\n",
    "                                            else 0)"
   ]
  },
  {
   "cell_type": "code",
   "execution_count": 56,
   "metadata": {
    "ExecuteTime": {
     "end_time": "2016-10-16T11:26:40.773792",
     "start_time": "2016-10-16T11:26:40.738373"
    },
    "collapsed": false
   },
   "outputs": [
    {
     "data": {
      "text/html": [
       "<div>\n",
       "<table border=\"1\" class=\"dataframe\">\n",
       "  <thead>\n",
       "    <tr style=\"text-align: right;\">\n",
       "      <th></th>\n",
       "      <th>Unnamed: 0</th>\n",
       "      <th>title</th>\n",
       "      <th>company</th>\n",
       "      <th>location</th>\n",
       "      <th>summary</th>\n",
       "      <th>est_annual_sal</th>\n",
       "      <th>high_sal</th>\n",
       "      <th>sal_range</th>\n",
       "    </tr>\n",
       "  </thead>\n",
       "  <tbody>\n",
       "    <tr>\n",
       "      <th>0</th>\n",
       "      <td>0</td>\n",
       "      <td>Machine Learning Engineer</td>\n",
       "      <td>Workbridge Associates</td>\n",
       "      <td>San Francisco, CA</td>\n",
       "      <td>This person will be working alongside the Data...</td>\n",
       "      <td>135000.0</td>\n",
       "      <td>1</td>\n",
       "      <td>1</td>\n",
       "    </tr>\n",
       "    <tr>\n",
       "      <th>1</th>\n",
       "      <td>1</td>\n",
       "      <td>Senior Data Scientist</td>\n",
       "      <td>Workbridge Associates</td>\n",
       "      <td>San Francisco, CA</td>\n",
       "      <td>A leading healthcare start up is looking to br...</td>\n",
       "      <td>165000.0</td>\n",
       "      <td>1</td>\n",
       "      <td>1</td>\n",
       "    </tr>\n",
       "    <tr>\n",
       "      <th>2</th>\n",
       "      <td>2</td>\n",
       "      <td>Data Science Resident (DSR), and gU Resident</td>\n",
       "      <td>Galvanize</td>\n",
       "      <td>San Francisco, CA</td>\n",
       "      <td>As part of the Residency program, you will rec...</td>\n",
       "      <td>1250.0</td>\n",
       "      <td>0</td>\n",
       "      <td>0</td>\n",
       "    </tr>\n",
       "    <tr>\n",
       "      <th>3</th>\n",
       "      <td>3</td>\n",
       "      <td>Lead Data Scientist (Life Sciences)</td>\n",
       "      <td>Workbridge Associates</td>\n",
       "      <td>San Francisco, CA</td>\n",
       "      <td>A leading technology company is looking for Da...</td>\n",
       "      <td>165000.0</td>\n",
       "      <td>1</td>\n",
       "      <td>1</td>\n",
       "    </tr>\n",
       "    <tr>\n",
       "      <th>4</th>\n",
       "      <td>4</td>\n",
       "      <td>Associate Scientist</td>\n",
       "      <td>Hart</td>\n",
       "      <td>South San Francisco, CA</td>\n",
       "      <td>Communicates data and interpretation to work g...</td>\n",
       "      <td>60000.0</td>\n",
       "      <td>0</td>\n",
       "      <td>1</td>\n",
       "    </tr>\n",
       "  </tbody>\n",
       "</table>\n",
       "</div>"
      ],
      "text/plain": [
       "   Unnamed: 0                                         title  \\\n",
       "0           0                     Machine Learning Engineer   \n",
       "1           1                         Senior Data Scientist   \n",
       "2           2  Data Science Resident (DSR), and gU Resident   \n",
       "3           3           Lead Data Scientist (Life Sciences)   \n",
       "4           4                           Associate Scientist   \n",
       "\n",
       "                 company                 location  \\\n",
       "0  Workbridge Associates        San Francisco, CA   \n",
       "1  Workbridge Associates        San Francisco, CA   \n",
       "2              Galvanize        San Francisco, CA   \n",
       "3  Workbridge Associates        San Francisco, CA   \n",
       "4                   Hart  South San Francisco, CA   \n",
       "\n",
       "                                             summary  est_annual_sal  \\\n",
       "0  This person will be working alongside the Data...        135000.0   \n",
       "1  A leading healthcare start up is looking to br...        165000.0   \n",
       "2  As part of the Residency program, you will rec...          1250.0   \n",
       "3  A leading technology company is looking for Da...        165000.0   \n",
       "4  Communicates data and interpretation to work g...         60000.0   \n",
       "\n",
       "   high_sal  sal_range  \n",
       "0         1          1  \n",
       "1         1          1  \n",
       "2         0          0  \n",
       "3         1          1  \n",
       "4         0          1  "
      ]
     },
     "execution_count": 56,
     "metadata": {},
     "output_type": "execute_result"
    }
   ],
   "source": [
    "df2.head()"
   ]
  },
  {
   "cell_type": "code",
   "execution_count": 100,
   "metadata": {
    "ExecuteTime": {
     "end_time": "2016-10-16T16:05:54.454955",
     "start_time": "2016-10-16T16:05:51.387386"
    },
    "collapsed": false
   },
   "outputs": [],
   "source": [
    "from sklearn.linear_model import LogisticRegressionCV"
   ]
  },
  {
   "cell_type": "code",
   "execution_count": 58,
   "metadata": {
    "ExecuteTime": {
     "end_time": "2016-10-16T11:26:43.977290",
     "start_time": "2016-10-16T11:26:41.882982"
    },
    "collapsed": false
   },
   "outputs": [],
   "source": [
    "y = df2['sal_range']\n",
    "logreg = LogisticRegressionCV(cv=10, multi_class='multinomial', solver='lbfgs')\n",
    "model = logreg.fit(summary_features, y)\n",
    "predicted = model.predict(summary_features)"
   ]
  },
  {
   "cell_type": "code",
   "execution_count": 59,
   "metadata": {
    "ExecuteTime": {
     "end_time": "2016-10-16T11:26:48.670487",
     "start_time": "2016-10-16T11:26:48.636934"
    },
    "collapsed": false
   },
   "outputs": [],
   "source": [
    "results = pd.DataFrame([y,predicted], index = ['actual', 'predicted']).T"
   ]
  },
  {
   "cell_type": "code",
   "execution_count": 60,
   "metadata": {
    "ExecuteTime": {
     "end_time": "2016-10-16T11:26:49.217971",
     "start_time": "2016-10-16T11:26:49.211979"
    },
    "collapsed": false
   },
   "outputs": [],
   "source": [
    "results['match'] = results['actual'] == results['predicted']"
   ]
  },
  {
   "cell_type": "code",
   "execution_count": 61,
   "metadata": {
    "ExecuteTime": {
     "end_time": "2016-10-16T11:26:49.716189",
     "start_time": "2016-10-16T11:26:49.707735"
    },
    "collapsed": false
   },
   "outputs": [
    {
     "data": {
      "text/plain": [
       "1.0"
      ]
     },
     "execution_count": 61,
     "metadata": {},
     "output_type": "execute_result"
    }
   ],
   "source": [
    "model.score(summary_features, y)"
   ]
  },
  {
   "cell_type": "code",
   "execution_count": 62,
   "metadata": {
    "ExecuteTime": {
     "end_time": "2016-10-16T11:26:50.605545",
     "start_time": "2016-10-16T11:26:50.596381"
    },
    "collapsed": false
   },
   "outputs": [
    {
     "data": {
      "text/plain": [
       "<bound method LogisticRegressionCV.get_params of LogisticRegressionCV(Cs=10, class_weight=None, cv=10, dual=False,\n",
       "           fit_intercept=True, intercept_scaling=1.0, max_iter=100,\n",
       "           multi_class='multinomial', n_jobs=1, penalty='l2',\n",
       "           random_state=None, refit=True, scoring=None, solver='lbfgs',\n",
       "           tol=0.0001, verbose=0)>"
      ]
     },
     "execution_count": 62,
     "metadata": {},
     "output_type": "execute_result"
    }
   ],
   "source": [
    "model.get_params"
   ]
  },
  {
   "cell_type": "code",
   "execution_count": 63,
   "metadata": {
    "ExecuteTime": {
     "end_time": "2016-10-16T11:26:52.085004",
     "start_time": "2016-10-16T11:26:52.069386"
    },
    "collapsed": false
   },
   "outputs": [
    {
     "data": {
      "text/plain": [
       "0      1\n",
       "1      1\n",
       "2      0\n",
       "3      1\n",
       "4      1\n",
       "5      1\n",
       "6      2\n",
       "7      1\n",
       "8      1\n",
       "9      2\n",
       "10     1\n",
       "11     1\n",
       "12     1\n",
       "13     1\n",
       "14     1\n",
       "15     1\n",
       "16     1\n",
       "17     1\n",
       "18     1\n",
       "19     1\n",
       "20     1\n",
       "21     1\n",
       "22     1\n",
       "23     1\n",
       "24     1\n",
       "25     1\n",
       "26     1\n",
       "27     1\n",
       "28     1\n",
       "29     1\n",
       "      ..\n",
       "214    2\n",
       "215    1\n",
       "216    1\n",
       "217    1\n",
       "218    1\n",
       "219    1\n",
       "220    1\n",
       "221    1\n",
       "222    1\n",
       "223    2\n",
       "224    1\n",
       "225    1\n",
       "226    1\n",
       "227    1\n",
       "228    1\n",
       "229    1\n",
       "230    1\n",
       "231    2\n",
       "232    1\n",
       "233    1\n",
       "234    1\n",
       "235    1\n",
       "236    1\n",
       "237    1\n",
       "238    1\n",
       "239    1\n",
       "240    1\n",
       "241    1\n",
       "242    1\n",
       "243    0\n",
       "Name: sal_range, dtype: int64"
      ]
     },
     "execution_count": 63,
     "metadata": {},
     "output_type": "execute_result"
    }
   ],
   "source": [
    "y"
   ]
  },
  {
   "cell_type": "code",
   "execution_count": 64,
   "metadata": {
    "ExecuteTime": {
     "end_time": "2016-10-16T11:26:56.614683",
     "start_time": "2016-10-16T11:26:56.430337"
    },
    "collapsed": false
   },
   "outputs": [
    {
     "data": {
      "text/html": [
       "<div>\n",
       "<table border=\"1\" class=\"dataframe\">\n",
       "  <thead>\n",
       "    <tr style=\"text-align: right;\">\n",
       "      <th></th>\n",
       "      <th>features</th>\n",
       "      <th>coef</th>\n",
       "    </tr>\n",
       "  </thead>\n",
       "  <tbody>\n",
       "    <tr>\n",
       "      <th>549</th>\n",
       "      <td>managing</td>\n",
       "      <td>2.94407</td>\n",
       "    </tr>\n",
       "    <tr>\n",
       "      <th>813</th>\n",
       "      <td>responsible</td>\n",
       "      <td>2.22959</td>\n",
       "    </tr>\n",
       "    <tr>\n",
       "      <th>286</th>\n",
       "      <td>development data</td>\n",
       "      <td>1.62624</td>\n",
       "    </tr>\n",
       "    <tr>\n",
       "      <th>361</th>\n",
       "      <td>faculty</td>\n",
       "      <td>1.1066</td>\n",
       "    </tr>\n",
       "    <tr>\n",
       "      <th>722</th>\n",
       "      <td>program</td>\n",
       "      <td>1.09317</td>\n",
       "    </tr>\n",
       "  </tbody>\n",
       "</table>\n",
       "</div>"
      ],
      "text/plain": [
       "             features     coef\n",
       "549          managing  2.94407\n",
       "813       responsible  2.22959\n",
       "286  development data  1.62624\n",
       "361           faculty   1.1066\n",
       "722           program  1.09317"
      ]
     },
     "execution_count": 64,
     "metadata": {},
     "output_type": "execute_result"
    }
   ],
   "source": [
    "feature_imp = pd.DataFrame([vectorizer.get_feature_names(), model.coef_.tolist()[0]], index=['features', 'coef']).T\n",
    "\n",
    "feature_imp.sort_values(by='coef', ascending=False).head()"
   ]
  },
  {
   "cell_type": "code",
   "execution_count": 85,
   "metadata": {
    "ExecuteTime": {
     "end_time": "2016-10-16T11:36:49.729026",
     "start_time": "2016-10-16T11:36:49.721596"
    },
    "collapsed": false
   },
   "outputs": [],
   "source": [
    "from sklearn.feature_extraction.text import TfidfVectorizer"
   ]
  },
  {
   "cell_type": "code",
   "execution_count": 86,
   "metadata": {
    "ExecuteTime": {
     "end_time": "2016-10-16T11:36:50.035939",
     "start_time": "2016-10-16T11:36:50.027873"
    },
    "collapsed": false
   },
   "outputs": [],
   "source": [
    "tv = TfidfVectorizer(ngram_range=(1,5),\\\n",
    "                            stop_words='english',\\\n",
    "                            max_features=1000,\\\n",
    "                            binary=True)"
   ]
  },
  {
   "cell_type": "code",
   "execution_count": 87,
   "metadata": {
    "ExecuteTime": {
     "end_time": "2016-10-16T11:36:50.510223",
     "start_time": "2016-10-16T11:36:50.399002"
    },
    "collapsed": false
   },
   "outputs": [],
   "source": [
    "X2 = tv.fit_transform(df2['summary'])"
   ]
  },
  {
   "cell_type": "code",
   "execution_count": 88,
   "metadata": {
    "ExecuteTime": {
     "end_time": "2016-10-16T11:36:52.717581",
     "start_time": "2016-10-16T11:36:50.810454"
    },
    "collapsed": false
   },
   "outputs": [],
   "source": [
    "logreg2 = LogisticRegressionCV(cv=10, multi_class='multinomial', solver='lbfgs')\n",
    "model2 = logreg2.fit(X2, y)\n",
    "predicted = model.predict(X2)"
   ]
  },
  {
   "cell_type": "code",
   "execution_count": 89,
   "metadata": {
    "ExecuteTime": {
     "end_time": "2016-10-16T11:36:52.727253",
     "start_time": "2016-10-16T11:36:52.719531"
    },
    "collapsed": false
   },
   "outputs": [
    {
     "data": {
      "text/plain": [
       "1.0"
      ]
     },
     "execution_count": 89,
     "metadata": {},
     "output_type": "execute_result"
    }
   ],
   "source": [
    "model2.score(X2, y)"
   ]
  },
  {
   "cell_type": "code",
   "execution_count": 90,
   "metadata": {
    "ExecuteTime": {
     "end_time": "2016-10-16T11:36:53.460183",
     "start_time": "2016-10-16T11:36:53.279495"
    },
    "collapsed": false
   },
   "outputs": [
    {
     "data": {
      "text/html": [
       "<div>\n",
       "<table border=\"1\" class=\"dataframe\">\n",
       "  <thead>\n",
       "    <tr style=\"text-align: right;\">\n",
       "      <th></th>\n",
       "      <th>features</th>\n",
       "      <th>coef</th>\n",
       "    </tr>\n",
       "  </thead>\n",
       "  <tbody>\n",
       "    <tr>\n",
       "      <th>549</th>\n",
       "      <td>managing</td>\n",
       "      <td>5.77044</td>\n",
       "    </tr>\n",
       "    <tr>\n",
       "      <th>286</th>\n",
       "      <td>development data</td>\n",
       "      <td>4.9468</td>\n",
       "    </tr>\n",
       "    <tr>\n",
       "      <th>813</th>\n",
       "      <td>responsible</td>\n",
       "      <td>4.1983</td>\n",
       "    </tr>\n",
       "    <tr>\n",
       "      <th>739</th>\n",
       "      <td>provider</td>\n",
       "      <td>3.30627</td>\n",
       "    </tr>\n",
       "    <tr>\n",
       "      <th>378</th>\n",
       "      <td>fortune</td>\n",
       "      <td>3.18399</td>\n",
       "    </tr>\n",
       "  </tbody>\n",
       "</table>\n",
       "</div>"
      ],
      "text/plain": [
       "             features     coef\n",
       "549          managing  5.77044\n",
       "286  development data   4.9468\n",
       "813       responsible   4.1983\n",
       "739          provider  3.30627\n",
       "378           fortune  3.18399"
      ]
     },
     "execution_count": 90,
     "metadata": {},
     "output_type": "execute_result"
    }
   ],
   "source": [
    "feature_imp2 = pd.DataFrame([tv.get_feature_names(), model2.coef_.tolist()[0]], index=['features', 'coef']).T\n",
    "\n",
    "feature_imp2.sort_values(by='coef', ascending=False).head()"
   ]
  },
  {
   "cell_type": "code",
   "execution_count": 68,
   "metadata": {
    "ExecuteTime": {
     "end_time": "2016-10-16T11:28:41.018164",
     "start_time": "2016-10-16T11:28:41.013265"
    },
    "collapsed": false
   },
   "outputs": [],
   "source": [
    "from sklearn.cross_validation import train_test_split"
   ]
  },
  {
   "cell_type": "code",
   "execution_count": 69,
   "metadata": {
    "ExecuteTime": {
     "end_time": "2016-10-16T11:28:46.321416",
     "start_time": "2016-10-16T11:28:46.311899"
    },
    "collapsed": false
   },
   "outputs": [],
   "source": [
    "X_train, X_test, y_train, y_test = train_test_split(summary_features,y,test_size=0.2, stratify=y)"
   ]
  },
  {
   "cell_type": "code",
   "execution_count": 71,
   "metadata": {
    "ExecuteTime": {
     "end_time": "2016-10-16T11:29:00.519418",
     "start_time": "2016-10-16T11:28:58.232840"
    },
    "collapsed": false
   },
   "outputs": [
    {
     "name": "stderr",
     "output_type": "stream",
     "text": [
      "//anaconda/lib/python2.7/site-packages/sklearn/model_selection/_split.py:579: Warning: The least populated class in y has only 5 members, which is too few. The minimum number of groups for any class cannot be less than n_splits=10.\n",
      "  % (min_groups, self.n_splits)), Warning)\n"
     ]
    }
   ],
   "source": [
    "lr2 = LogisticRegressionCV(cv=10, multi_class='multinomial', solver='lbfgs')\n",
    "m2 = lr2.fit(X_train, y_train)"
   ]
  },
  {
   "cell_type": "code",
   "execution_count": 72,
   "metadata": {
    "ExecuteTime": {
     "end_time": "2016-10-16T11:29:03.012753",
     "start_time": "2016-10-16T11:29:03.007892"
    },
    "collapsed": false
   },
   "outputs": [],
   "source": [
    "p2 = m2.predict_proba(X_test)"
   ]
  },
  {
   "cell_type": "raw",
   "metadata": {
    "ExecuteTime": {
     "end_time": "2016-10-15T21:18:39.172564",
     "start_time": "2016-10-15T21:18:39.163587"
    }
   },
   "source": [
    "check = pd.DataFrame([y_test, p2], index = ['actual', 'predicted']).T"
   ]
  },
  {
   "cell_type": "raw",
   "metadata": {
    "ExecuteTime": {
     "end_time": "2016-10-15T21:18:39.890524",
     "start_time": "2016-10-15T21:18:39.854210"
    }
   },
   "source": [
    "check"
   ]
  },
  {
   "cell_type": "code",
   "execution_count": 82,
   "metadata": {
    "ExecuteTime": {
     "end_time": "2016-10-16T11:30:39.665694",
     "start_time": "2016-10-16T11:30:39.659961"
    },
    "collapsed": false
   },
   "outputs": [],
   "source": [
    "check = pd.DataFrame(p2, columns=['p_low', 'p_medium','p_high'])"
   ]
  },
  {
   "cell_type": "code",
   "execution_count": 76,
   "metadata": {
    "ExecuteTime": {
     "end_time": "2016-10-16T11:29:45.271336",
     "start_time": "2016-10-16T11:29:45.263137"
    },
    "collapsed": false
   },
   "outputs": [
    {
     "data": {
      "text/plain": [
       "0.8571428571428571"
      ]
     },
     "execution_count": 76,
     "metadata": {},
     "output_type": "execute_result"
    }
   ],
   "source": [
    "m2.score(X_test, y_test)"
   ]
  },
  {
   "cell_type": "code",
   "execution_count": 83,
   "metadata": {
    "ExecuteTime": {
     "end_time": "2016-10-16T11:30:45.226735",
     "start_time": "2016-10-16T11:30:45.220897"
    },
    "collapsed": false
   },
   "outputs": [],
   "source": [
    "check['actaul'] = np.array(y_test)"
   ]
  },
  {
   "cell_type": "code",
   "execution_count": 84,
   "metadata": {
    "ExecuteTime": {
     "end_time": "2016-10-16T11:30:46.531370",
     "start_time": "2016-10-16T11:30:46.508926"
    },
    "collapsed": false
   },
   "outputs": [
    {
     "data": {
      "text/html": [
       "<div>\n",
       "<table border=\"1\" class=\"dataframe\">\n",
       "  <thead>\n",
       "    <tr style=\"text-align: right;\">\n",
       "      <th></th>\n",
       "      <th>p_low</th>\n",
       "      <th>p_medium</th>\n",
       "      <th>p_high</th>\n",
       "      <th>actaul</th>\n",
       "    </tr>\n",
       "  </thead>\n",
       "  <tbody>\n",
       "    <tr>\n",
       "      <th>0</th>\n",
       "      <td>0.001443</td>\n",
       "      <td>0.984454</td>\n",
       "      <td>0.014103</td>\n",
       "      <td>1</td>\n",
       "    </tr>\n",
       "    <tr>\n",
       "      <th>1</th>\n",
       "      <td>0.000318</td>\n",
       "      <td>0.999432</td>\n",
       "      <td>0.000250</td>\n",
       "      <td>1</td>\n",
       "    </tr>\n",
       "    <tr>\n",
       "      <th>2</th>\n",
       "      <td>0.000162</td>\n",
       "      <td>0.999721</td>\n",
       "      <td>0.000117</td>\n",
       "      <td>1</td>\n",
       "    </tr>\n",
       "    <tr>\n",
       "      <th>3</th>\n",
       "      <td>0.000015</td>\n",
       "      <td>0.999977</td>\n",
       "      <td>0.000009</td>\n",
       "      <td>1</td>\n",
       "    </tr>\n",
       "    <tr>\n",
       "      <th>4</th>\n",
       "      <td>0.000004</td>\n",
       "      <td>0.999994</td>\n",
       "      <td>0.000003</td>\n",
       "      <td>1</td>\n",
       "    </tr>\n",
       "  </tbody>\n",
       "</table>\n",
       "</div>"
      ],
      "text/plain": [
       "      p_low  p_medium    p_high  actaul\n",
       "0  0.001443  0.984454  0.014103       1\n",
       "1  0.000318  0.999432  0.000250       1\n",
       "2  0.000162  0.999721  0.000117       1\n",
       "3  0.000015  0.999977  0.000009       1\n",
       "4  0.000004  0.999994  0.000003       1"
      ]
     },
     "execution_count": 84,
     "metadata": {},
     "output_type": "execute_result"
    }
   ],
   "source": [
    "check.head()"
   ]
  },
  {
   "cell_type": "code",
   "execution_count": 217,
   "metadata": {
    "ExecuteTime": {
     "end_time": "2016-10-15T21:54:10.238277",
     "start_time": "2016-10-15T21:54:10.231725"
    },
    "collapsed": false
   },
   "outputs": [],
   "source": [
    "check['p_high_2'] = check['p_high'].map(lambda x: 1 if x > 0.5 else 0)"
   ]
  },
  {
   "cell_type": "code",
   "execution_count": 218,
   "metadata": {
    "ExecuteTime": {
     "end_time": "2016-10-15T21:54:13.228512",
     "start_time": "2016-10-15T21:54:13.202273"
    },
    "collapsed": false
   },
   "outputs": [
    {
     "data": {
      "text/html": [
       "<div>\n",
       "<table border=\"1\" class=\"dataframe\">\n",
       "  <thead>\n",
       "    <tr style=\"text-align: right;\">\n",
       "      <th></th>\n",
       "      <th>p_low</th>\n",
       "      <th>p_high</th>\n",
       "      <th>high_sal</th>\n",
       "      <th>p_high_2</th>\n",
       "    </tr>\n",
       "  </thead>\n",
       "  <tbody>\n",
       "    <tr>\n",
       "      <th>0</th>\n",
       "      <td>0.997098</td>\n",
       "      <td>0.002902</td>\n",
       "      <td>0</td>\n",
       "      <td>0</td>\n",
       "    </tr>\n",
       "    <tr>\n",
       "      <th>1</th>\n",
       "      <td>0.997098</td>\n",
       "      <td>0.002902</td>\n",
       "      <td>0</td>\n",
       "      <td>0</td>\n",
       "    </tr>\n",
       "    <tr>\n",
       "      <th>2</th>\n",
       "      <td>0.943380</td>\n",
       "      <td>0.056620</td>\n",
       "      <td>0</td>\n",
       "      <td>0</td>\n",
       "    </tr>\n",
       "    <tr>\n",
       "      <th>3</th>\n",
       "      <td>0.336774</td>\n",
       "      <td>0.663226</td>\n",
       "      <td>1</td>\n",
       "      <td>1</td>\n",
       "    </tr>\n",
       "    <tr>\n",
       "      <th>4</th>\n",
       "      <td>0.611941</td>\n",
       "      <td>0.388059</td>\n",
       "      <td>0</td>\n",
       "      <td>0</td>\n",
       "    </tr>\n",
       "    <tr>\n",
       "      <th>5</th>\n",
       "      <td>0.997098</td>\n",
       "      <td>0.002902</td>\n",
       "      <td>0</td>\n",
       "      <td>0</td>\n",
       "    </tr>\n",
       "    <tr>\n",
       "      <th>6</th>\n",
       "      <td>0.997098</td>\n",
       "      <td>0.002902</td>\n",
       "      <td>0</td>\n",
       "      <td>0</td>\n",
       "    </tr>\n",
       "    <tr>\n",
       "      <th>7</th>\n",
       "      <td>0.048309</td>\n",
       "      <td>0.951691</td>\n",
       "      <td>1</td>\n",
       "      <td>1</td>\n",
       "    </tr>\n",
       "    <tr>\n",
       "      <th>8</th>\n",
       "      <td>0.591519</td>\n",
       "      <td>0.408481</td>\n",
       "      <td>1</td>\n",
       "      <td>0</td>\n",
       "    </tr>\n",
       "    <tr>\n",
       "      <th>9</th>\n",
       "      <td>0.997098</td>\n",
       "      <td>0.002902</td>\n",
       "      <td>0</td>\n",
       "      <td>0</td>\n",
       "    </tr>\n",
       "  </tbody>\n",
       "</table>\n",
       "</div>"
      ],
      "text/plain": [
       "      p_low    p_high  high_sal  p_high_2\n",
       "0  0.997098  0.002902         0         0\n",
       "1  0.997098  0.002902         0         0\n",
       "2  0.943380  0.056620         0         0\n",
       "3  0.336774  0.663226         1         1\n",
       "4  0.611941  0.388059         0         0\n",
       "5  0.997098  0.002902         0         0\n",
       "6  0.997098  0.002902         0         0\n",
       "7  0.048309  0.951691         1         1\n",
       "8  0.591519  0.408481         1         0\n",
       "9  0.997098  0.002902         0         0"
      ]
     },
     "execution_count": 218,
     "metadata": {},
     "output_type": "execute_result"
    }
   ],
   "source": [
    "check.head(10)"
   ]
  },
  {
   "cell_type": "code",
   "execution_count": 219,
   "metadata": {
    "ExecuteTime": {
     "end_time": "2016-10-15T21:54:15.569141",
     "start_time": "2016-10-15T21:54:15.560013"
    },
    "collapsed": false
   },
   "outputs": [
    {
     "data": {
      "text/plain": [
       "43"
      ]
     },
     "execution_count": 219,
     "metadata": {},
     "output_type": "execute_result"
    }
   ],
   "source": [
    "len(check[check['high_sal'] == check['p_high_2']])"
   ]
  },
  {
   "cell_type": "code",
   "execution_count": 220,
   "metadata": {
    "ExecuteTime": {
     "end_time": "2016-10-15T21:54:16.325476",
     "start_time": "2016-10-15T21:54:16.319770"
    },
    "collapsed": false
   },
   "outputs": [],
   "source": [
    "check['p'] = m2.predict(X_test)"
   ]
  },
  {
   "cell_type": "code",
   "execution_count": 221,
   "metadata": {
    "ExecuteTime": {
     "end_time": "2016-10-15T21:54:17.087173",
     "start_time": "2016-10-15T21:54:17.078625"
    },
    "collapsed": false
   },
   "outputs": [
    {
     "data": {
      "text/plain": [
       "43"
      ]
     },
     "execution_count": 221,
     "metadata": {},
     "output_type": "execute_result"
    }
   ],
   "source": [
    "len(check[check['high_sal'] == check['p']])"
   ]
  },
  {
   "cell_type": "code",
   "execution_count": 223,
   "metadata": {
    "ExecuteTime": {
     "end_time": "2016-10-15T21:54:30.438289",
     "start_time": "2016-10-15T21:54:30.424470"
    },
    "collapsed": false
   },
   "outputs": [
    {
     "data": {
      "text/plain": [
       "49"
      ]
     },
     "execution_count": 223,
     "metadata": {},
     "output_type": "execute_result"
    }
   ],
   "source": [
    "len(check)"
   ]
  },
  {
   "cell_type": "code",
   "execution_count": 123,
   "metadata": {
    "ExecuteTime": {
     "end_time": "2016-10-16T11:52:19.421423",
     "start_time": "2016-10-16T11:52:19.311439"
    },
    "collapsed": false
   },
   "outputs": [],
   "source": [
    "tv2 = TfidfVectorizer(ngram_range=(1,5),\\\n",
    "                            stop_words='english',\\\n",
    "                            max_features=100,\\\n",
    "                            binary=True)\n",
    "tv2.fit(df2['summary'])\n",
    "test = tv2.get_feature_names()"
   ]
  },
  {
   "cell_type": "code",
   "execution_count": 124,
   "metadata": {
    "ExecuteTime": {
     "end_time": "2016-10-16T11:52:19.957554",
     "start_time": "2016-10-16T11:52:19.953436"
    },
    "collapsed": false
   },
   "outputs": [],
   "source": [
    "from wordcloud import WordCloud, ImageColorGenerator"
   ]
  },
  {
   "cell_type": "code",
   "execution_count": 125,
   "metadata": {
    "ExecuteTime": {
     "end_time": "2016-10-16T11:52:21.125839",
     "start_time": "2016-10-16T11:52:20.503370"
    },
    "collapsed": false
   },
   "outputs": [
    {
     "data": {
      "text/plain": [
       "(-0.5, 399.5, 199.5, -0.5)"
      ]
     },
     "execution_count": 125,
     "metadata": {},
     "output_type": "execute_result"
    },
    {
     "data": {
      "image/png": "[encoded data removed]",
      "text/plain": [
       "<matplotlib.figure.Figure at 0x11d01a810>"
      ]
     },
     "metadata": {},
     "output_type": "display_data"
    }
   ],
   "source": [
    "wordcloud = WordCloud().generate(' '.join(test))\n",
    "\n",
    "# Display the generated image:\n",
    "# the matplotlib way:\n",
    "import matplotlib.pyplot as plt\n",
    "plt.figure(figsize=(16,8))\n",
    "plt.imshow(wordcloud)\n",
    "plt.axis(\"off\")"
   ]
  },
  {
   "cell_type": "code",
   "execution_count": 126,
   "metadata": {
    "ExecuteTime": {
     "end_time": "2016-10-16T11:52:21.843911",
     "start_time": "2016-10-16T11:52:21.839562"
    },
    "collapsed": false
   },
   "outputs": [],
   "source": [
    "from wordcloud import get_single_color_func"
   ]
  },
  {
   "cell_type": "code",
   "execution_count": 127,
   "metadata": {
    "ExecuteTime": {
     "end_time": "2016-10-16T11:52:22.525471",
     "start_time": "2016-10-16T11:52:22.518488"
    },
    "collapsed": false
   },
   "outputs": [
    {
     "data": {
      "text/plain": [
       "<function wordcloud.wordcloud.single_color_func>"
      ]
     },
     "execution_count": 127,
     "metadata": {},
     "output_type": "execute_result"
    }
   ],
   "source": [
    "get_single_color_func('white')"
   ]
  },
  {
   "cell_type": "code",
   "execution_count": 128,
   "metadata": {
    "ExecuteTime": {
     "end_time": "2016-10-16T11:52:23.463020",
     "start_time": "2016-10-16T11:52:22.974958"
    },
    "collapsed": false
   },
   "outputs": [
    {
     "data": {
      "image/png": "[encoded data removed]",
      "text/plain": [
       "<matplotlib.figure.Figure at 0x11bdea0d0>"
      ]
     },
     "metadata": {},
     "output_type": "display_data"
    }
   ],
   "source": [
    "wordcloud = WordCloud(max_font_size=50, relative_scaling=.5, background_color='white',\\\n",
    "                      color_func=get_single_color_func('blue')).generate(' '.join(test))\n",
    "plt.figure(figsize=(16,8))\n",
    "plt.imshow(wordcloud)\n",
    "plt.axis(\"off\")\n",
    "plt.show()"
   ]
  },
  {
   "cell_type": "raw",
   "metadata": {},
   "source": [
    "# testing angelco"
   ]
  },
  {
   "cell_type": "raw",
   "metadata": {
    "ExecuteTime": {
     "end_time": "2016-10-16T12:03:39.267543",
     "start_time": "2016-10-16T12:03:38.154481"
    },
    "collapsed": true
   },
   "source": [
    "d = webdriver.PhantomJS(executable_path=path_phantom)"
   ]
  },
  {
   "cell_type": "raw",
   "metadata": {
    "ExecuteTime": {
     "end_time": "2016-10-16T12:03:49.840957",
     "start_time": "2016-10-16T12:03:43.456216"
    },
    "collapsed": true
   },
   "source": [
    "d.get('https://angel.co/jobs#find/f!%7B%22locations%22%3A%5B%222071-New%20York%22%5D%2C%22roles%22%3A%5B%22Data%20Scientist%22%5D%7D')"
   ]
  },
  {
   "cell_type": "raw",
   "metadata": {
    "ExecuteTime": {
     "end_time": "2016-10-16T12:04:06.008363",
     "start_time": "2016-10-16T12:04:05.947428"
    },
    "collapsed": true
   },
   "source": [
    "s = BeautifulSoup(d.page_source, 'lxml')"
   ]
  },
  {
   "cell_type": "raw",
   "metadata": {
    "ExecuteTime": {
     "end_time": "2016-10-16T12:04:11.770330",
     "start_time": "2016-10-16T12:04:11.731689"
    },
    "collapsed": false
   },
   "source": [
    "print s.prettify()"
   ]
  },
  {
   "cell_type": "code",
   "execution_count": 1,
   "metadata": {
    "ExecuteTime": {
     "end_time": "2016-10-16T12:08:19.886039",
     "start_time": "2016-10-16T12:08:19.878525"
    },
    "collapsed": true
   },
   "outputs": [],
   "source": [
    "# importing csvs"
   ]
  },
  {
   "cell_type": "code",
   "execution_count": 5,
   "metadata": {
    "ExecuteTime": {
     "end_time": "2016-10-16T12:09:57.276598",
     "start_time": "2016-10-16T12:09:57.151032"
    },
    "collapsed": false
   },
   "outputs": [],
   "source": [
    "amex = pd.read_csv('AMEX.csv')"
   ]
  },
  {
   "cell_type": "code",
   "execution_count": 6,
   "metadata": {
    "ExecuteTime": {
     "end_time": "2016-10-16T12:10:01.432530",
     "start_time": "2016-10-16T12:10:01.313457"
    },
    "collapsed": false
   },
   "outputs": [
    {
     "data": {
      "text/html": [
       "<div>\n",
       "<table border=\"1\" class=\"dataframe\">\n",
       "  <thead>\n",
       "    <tr style=\"text-align: right;\">\n",
       "      <th></th>\n",
       "      <th>Symbol</th>\n",
       "      <th>Name</th>\n",
       "      <th>LastSale</th>\n",
       "      <th>MarketCap</th>\n",
       "      <th>IPOyear</th>\n",
       "      <th>Sector</th>\n",
       "      <th>industry</th>\n",
       "      <th>Summary Quote</th>\n",
       "    </tr>\n",
       "  </thead>\n",
       "  <tbody>\n",
       "    <tr>\n",
       "      <th>0</th>\n",
       "      <td>XXII</td>\n",
       "      <td>22nd Century Group, Inc</td>\n",
       "      <td>1.26</td>\n",
       "      <td>$103.57M</td>\n",
       "      <td>n/a</td>\n",
       "      <td>Consumer Non-Durables</td>\n",
       "      <td>Farming/Seeds/Milling</td>\n",
       "      <td>http://www.nasdaq.com/symbol/xxii</td>\n",
       "    </tr>\n",
       "    <tr>\n",
       "      <th>1</th>\n",
       "      <td>FAX</td>\n",
       "      <td>Aberdeen Asia-Pacific Income Fund Inc</td>\n",
       "      <td>4.95</td>\n",
       "      <td>$1.27B</td>\n",
       "      <td>1986</td>\n",
       "      <td>n/a</td>\n",
       "      <td>n/a</td>\n",
       "      <td>http://www.nasdaq.com/symbol/fax</td>\n",
       "    </tr>\n",
       "    <tr>\n",
       "      <th>2</th>\n",
       "      <td>IAF</td>\n",
       "      <td>Aberdeen Australia Equity Fund Inc</td>\n",
       "      <td>5.64</td>\n",
       "      <td>$128.42M</td>\n",
       "      <td>n/a</td>\n",
       "      <td>n/a</td>\n",
       "      <td>n/a</td>\n",
       "      <td>http://www.nasdaq.com/symbol/iaf</td>\n",
       "    </tr>\n",
       "    <tr>\n",
       "      <th>3</th>\n",
       "      <td>CH</td>\n",
       "      <td>Aberdeen Chile Fund, Inc.</td>\n",
       "      <td>6.23</td>\n",
       "      <td>$58.48M</td>\n",
       "      <td>n/a</td>\n",
       "      <td>n/a</td>\n",
       "      <td>n/a</td>\n",
       "      <td>http://www.nasdaq.com/symbol/ch</td>\n",
       "    </tr>\n",
       "    <tr>\n",
       "      <th>4</th>\n",
       "      <td>ABE</td>\n",
       "      <td>Aberdeen Emerging Markets Smaller Company Oppo...</td>\n",
       "      <td>12.39</td>\n",
       "      <td>$119.92M</td>\n",
       "      <td>n/a</td>\n",
       "      <td>n/a</td>\n",
       "      <td>n/a</td>\n",
       "      <td>http://www.nasdaq.com/symbol/abe</td>\n",
       "    </tr>\n",
       "  </tbody>\n",
       "</table>\n",
       "</div>"
      ],
      "text/plain": [
       "           Symbol                                               Name LastSale  \\\n",
       "0            XXII                            22nd Century Group, Inc     1.26   \n",
       "1             FAX              Aberdeen Asia-Pacific Income Fund Inc     4.95   \n",
       "2             IAF                 Aberdeen Australia Equity Fund Inc     5.64   \n",
       "3              CH                          Aberdeen Chile Fund, Inc.     6.23   \n",
       "4  ABE             Aberdeen Emerging Markets Smaller Company Oppo...    12.39   \n",
       "\n",
       "  MarketCap IPOyear                 Sector               industry  \\\n",
       "0  $103.57M     n/a  Consumer Non-Durables  Farming/Seeds/Milling   \n",
       "1    $1.27B    1986                    n/a                    n/a   \n",
       "2  $128.42M     n/a                    n/a                    n/a   \n",
       "3   $58.48M     n/a                    n/a                    n/a   \n",
       "4  $119.92M     n/a                    n/a                    n/a   \n",
       "\n",
       "                       Summary Quote  \n",
       "0  http://www.nasdaq.com/symbol/xxii  \n",
       "1   http://www.nasdaq.com/symbol/fax  \n",
       "2   http://www.nasdaq.com/symbol/iaf  \n",
       "3    http://www.nasdaq.com/symbol/ch  \n",
       "4   http://www.nasdaq.com/symbol/abe  "
      ]
     },
     "execution_count": 6,
     "metadata": {},
     "output_type": "execute_result"
    }
   ],
   "source": [
    "amex.head()"
   ]
  },
  {
   "cell_type": "code",
   "execution_count": 7,
   "metadata": {
    "ExecuteTime": {
     "end_time": "2016-10-16T12:10:36.406643",
     "start_time": "2016-10-16T12:10:36.352381"
    },
    "collapsed": false
   },
   "outputs": [
    {
     "data": {
      "text/html": [
       "<div>\n",
       "<table border=\"1\" class=\"dataframe\">\n",
       "  <thead>\n",
       "    <tr style=\"text-align: right;\">\n",
       "      <th></th>\n",
       "      <th>Urban Area</th>\n",
       "      <th>100% Composite Index</th>\n",
       "      <th>13 % Grocery Items</th>\n",
       "      <th>29 % Housing</th>\n",
       "      <th>10% Utilities</th>\n",
       "      <th>12 % Transportation</th>\n",
       "      <th>4% Health Care</th>\n",
       "      <th>32 % Miscellaneous Goods and Services</th>\n",
       "    </tr>\n",
       "  </thead>\n",
       "  <tbody>\n",
       "    <tr>\n",
       "      <th>0</th>\n",
       "      <td>Anniston-Calhoun, County, AL</td>\n",
       "      <td>91.2</td>\n",
       "      <td>101.2</td>\n",
       "      <td>74.8</td>\n",
       "      <td>111.2</td>\n",
       "      <td>88.8</td>\n",
       "      <td>89.3</td>\n",
       "      <td>96.6</td>\n",
       "    </tr>\n",
       "    <tr>\n",
       "      <th>1</th>\n",
       "      <td>Akron OH</td>\n",
       "      <td>100.2</td>\n",
       "      <td>105.1</td>\n",
       "      <td>99.7</td>\n",
       "      <td>107.9</td>\n",
       "      <td>107.1</td>\n",
       "      <td>86.8</td>\n",
       "      <td>96.0</td>\n",
       "    </tr>\n",
       "    <tr>\n",
       "      <th>2</th>\n",
       "      <td>Albany, GA</td>\n",
       "      <td>90.1</td>\n",
       "      <td>108.7</td>\n",
       "      <td>74.8</td>\n",
       "      <td>82.0</td>\n",
       "      <td>96.6</td>\n",
       "      <td>89.8</td>\n",
       "      <td>96.8</td>\n",
       "    </tr>\n",
       "    <tr>\n",
       "      <th>3</th>\n",
       "      <td>Albany, NY</td>\n",
       "      <td>108.1</td>\n",
       "      <td>105.0</td>\n",
       "      <td>112.6</td>\n",
       "      <td>101.0</td>\n",
       "      <td>102.8</td>\n",
       "      <td>111.7</td>\n",
       "      <td>108.6</td>\n",
       "    </tr>\n",
       "    <tr>\n",
       "      <th>4</th>\n",
       "      <td>Alexandria, LA</td>\n",
       "      <td>95.1</td>\n",
       "      <td>96.0</td>\n",
       "      <td>92.7</td>\n",
       "      <td>89.9</td>\n",
       "      <td>97.2</td>\n",
       "      <td>92.9</td>\n",
       "      <td>98.2</td>\n",
       "    </tr>\n",
       "  </tbody>\n",
       "</table>\n",
       "</div>"
      ],
      "text/plain": [
       "                     Urban Area  100% Composite Index  13 % Grocery Items  \\\n",
       "0  Anniston-Calhoun, County, AL                  91.2               101.2   \n",
       "1                      Akron OH                 100.2               105.1   \n",
       "2                    Albany, GA                  90.1               108.7   \n",
       "3                    Albany, NY                 108.1               105.0   \n",
       "4                Alexandria, LA                  95.1                96.0   \n",
       "\n",
       "   29 % Housing  10% Utilities  12 % Transportation  4% Health Care  \\\n",
       "0          74.8          111.2                 88.8            89.3   \n",
       "1          99.7          107.9                107.1            86.8   \n",
       "2          74.8           82.0                 96.6            89.8   \n",
       "3         112.6          101.0                102.8           111.7   \n",
       "4          92.7           89.9                 97.2            92.9   \n",
       "\n",
       "   32 % Miscellaneous Goods and Services  \n",
       "0                                   96.6  \n",
       "1                                   96.0  \n",
       "2                                   96.8  \n",
       "3                                  108.6  \n",
       "4                                   98.2  "
      ]
     },
     "execution_count": 7,
     "metadata": {},
     "output_type": "execute_result"
    }
   ],
   "source": [
    "living_index = pd.read_csv('Living_Index.csv')\n",
    "living_index.head()"
   ]
  },
  {
   "cell_type": "code",
   "execution_count": 9,
   "metadata": {
    "ExecuteTime": {
     "end_time": "2016-10-16T12:11:21.538313",
     "start_time": "2016-10-16T12:11:21.437520"
    },
    "collapsed": false
   },
   "outputs": [
    {
     "data": {
      "text/html": [
       "<div>\n",
       "<table border=\"1\" class=\"dataframe\">\n",
       "  <thead>\n",
       "    <tr style=\"text-align: right;\">\n",
       "      <th></th>\n",
       "      <th>Symbol</th>\n",
       "      <th>Name</th>\n",
       "      <th>LastSale</th>\n",
       "      <th>MarketCap</th>\n",
       "      <th>IPOyear</th>\n",
       "      <th>Sector</th>\n",
       "      <th>industry</th>\n",
       "      <th>Summary Quote</th>\n",
       "    </tr>\n",
       "  </thead>\n",
       "  <tbody>\n",
       "    <tr>\n",
       "      <th>0</th>\n",
       "      <td>AFL</td>\n",
       "      <td>Aflac Incorporated</td>\n",
       "      <td>70.96</td>\n",
       "      <td>$29.06B</td>\n",
       "      <td>n/a</td>\n",
       "      <td>Finance</td>\n",
       "      <td>Accident &amp;Health Insurance</td>\n",
       "      <td>http://www.nasdaq.com/symbol/afl</td>\n",
       "    </tr>\n",
       "    <tr>\n",
       "      <th>1</th>\n",
       "      <td>AFSD</td>\n",
       "      <td>Aflac Incorporated</td>\n",
       "      <td>25.84</td>\n",
       "      <td>n/a</td>\n",
       "      <td>n/a</td>\n",
       "      <td>Finance</td>\n",
       "      <td>Accident &amp;Health Insurance</td>\n",
       "      <td>http://www.nasdaq.com/symbol/afsd</td>\n",
       "    </tr>\n",
       "    <tr>\n",
       "      <th>2</th>\n",
       "      <td>AIZ</td>\n",
       "      <td>Assurant, Inc.</td>\n",
       "      <td>90.98</td>\n",
       "      <td>$5.48B</td>\n",
       "      <td>2004</td>\n",
       "      <td>Finance</td>\n",
       "      <td>Accident &amp;Health Insurance</td>\n",
       "      <td>http://www.nasdaq.com/symbol/aiz</td>\n",
       "    </tr>\n",
       "    <tr>\n",
       "      <th>3</th>\n",
       "      <td>CNO</td>\n",
       "      <td>CNO Financial Group, Inc.</td>\n",
       "      <td>15.67</td>\n",
       "      <td>$2.74B</td>\n",
       "      <td>n/a</td>\n",
       "      <td>Finance</td>\n",
       "      <td>Accident &amp;Health Insurance</td>\n",
       "      <td>http://www.nasdaq.com/symbol/cno</td>\n",
       "    </tr>\n",
       "    <tr>\n",
       "      <th>4</th>\n",
       "      <td>PFG</td>\n",
       "      <td>Principal Financial Group Inc</td>\n",
       "      <td>52.33</td>\n",
       "      <td>$15.05B</td>\n",
       "      <td>2001</td>\n",
       "      <td>Finance</td>\n",
       "      <td>Accident &amp;Health Insurance</td>\n",
       "      <td>http://www.nasdaq.com/symbol/pfg</td>\n",
       "    </tr>\n",
       "  </tbody>\n",
       "</table>\n",
       "</div>"
      ],
      "text/plain": [
       "  Symbol                           Name LastSale MarketCap IPOyear   Sector  \\\n",
       "0    AFL             Aflac Incorporated    70.96   $29.06B     n/a  Finance   \n",
       "1   AFSD             Aflac Incorporated    25.84       n/a     n/a  Finance   \n",
       "2    AIZ                 Assurant, Inc.    90.98    $5.48B    2004  Finance   \n",
       "3    CNO      CNO Financial Group, Inc.    15.67    $2.74B     n/a  Finance   \n",
       "4    PFG  Principal Financial Group Inc    52.33   $15.05B    2001  Finance   \n",
       "\n",
       "                     industry                      Summary Quote  \n",
       "0  Accident &Health Insurance   http://www.nasdaq.com/symbol/afl  \n",
       "1  Accident &Health Insurance  http://www.nasdaq.com/symbol/afsd  \n",
       "2  Accident &Health Insurance   http://www.nasdaq.com/symbol/aiz  \n",
       "3  Accident &Health Insurance   http://www.nasdaq.com/symbol/cno  \n",
       "4  Accident &Health Insurance   http://www.nasdaq.com/symbol/pfg  "
      ]
     },
     "execution_count": 9,
     "metadata": {},
     "output_type": "execute_result"
    }
   ],
   "source": [
    "nyse = pd.read_csv('NYSE.csv')\n",
    "nyse.head()"
   ]
  },
  {
   "cell_type": "code",
   "execution_count": 10,
   "metadata": {
    "ExecuteTime": {
     "end_time": "2016-10-16T12:11:29.451644",
     "start_time": "2016-10-16T12:11:29.413027"
    },
    "collapsed": false
   },
   "outputs": [
    {
     "data": {
      "text/html": [
       "<div>\n",
       "<table border=\"1\" class=\"dataframe\">\n",
       "  <thead>\n",
       "    <tr style=\"text-align: right;\">\n",
       "      <th></th>\n",
       "      <th>Symbol</th>\n",
       "      <th>Name</th>\n",
       "      <th>LastSale</th>\n",
       "      <th>MarketCap</th>\n",
       "      <th>IPOyear</th>\n",
       "      <th>Sector</th>\n",
       "      <th>industry</th>\n",
       "      <th>Summary Quote</th>\n",
       "    </tr>\n",
       "  </thead>\n",
       "  <tbody>\n",
       "    <tr>\n",
       "      <th>0</th>\n",
       "      <td>PIH</td>\n",
       "      <td>1347 Property Insurance Holdings, Inc.</td>\n",
       "      <td>7.55</td>\n",
       "      <td>$45.5M</td>\n",
       "      <td>2014</td>\n",
       "      <td>Finance</td>\n",
       "      <td>Property-Casualty Insurers</td>\n",
       "      <td>http://www.nasdaq.com/symbol/pih</td>\n",
       "    </tr>\n",
       "    <tr>\n",
       "      <th>1</th>\n",
       "      <td>FLWS</td>\n",
       "      <td>1-800 FLOWERS.COM, Inc.</td>\n",
       "      <td>9.07</td>\n",
       "      <td>$589.65M</td>\n",
       "      <td>1999</td>\n",
       "      <td>Consumer Services</td>\n",
       "      <td>Other Specialty Stores</td>\n",
       "      <td>http://www.nasdaq.com/symbol/flws</td>\n",
       "    </tr>\n",
       "    <tr>\n",
       "      <th>2</th>\n",
       "      <td>FCCY</td>\n",
       "      <td>1st Constitution Bancorp (NJ)</td>\n",
       "      <td>13.32</td>\n",
       "      <td>$105.93M</td>\n",
       "      <td>n/a</td>\n",
       "      <td>Finance</td>\n",
       "      <td>Savings Institutions</td>\n",
       "      <td>http://www.nasdaq.com/symbol/fccy</td>\n",
       "    </tr>\n",
       "    <tr>\n",
       "      <th>3</th>\n",
       "      <td>SRCE</td>\n",
       "      <td>1st Source Corporation</td>\n",
       "      <td>34.95</td>\n",
       "      <td>$904.05M</td>\n",
       "      <td>n/a</td>\n",
       "      <td>Finance</td>\n",
       "      <td>Major Banks</td>\n",
       "      <td>http://www.nasdaq.com/symbol/srce</td>\n",
       "    </tr>\n",
       "    <tr>\n",
       "      <th>4</th>\n",
       "      <td>VNET</td>\n",
       "      <td>21Vianet Group, Inc.</td>\n",
       "      <td>6.855</td>\n",
       "      <td>$780.44M</td>\n",
       "      <td>2011</td>\n",
       "      <td>Technology</td>\n",
       "      <td>Computer Software: Programming, Data Processing</td>\n",
       "      <td>http://www.nasdaq.com/symbol/vnet</td>\n",
       "    </tr>\n",
       "  </tbody>\n",
       "</table>\n",
       "</div>"
      ],
      "text/plain": [
       "  Symbol                                    Name LastSale MarketCap IPOyear  \\\n",
       "0    PIH  1347 Property Insurance Holdings, Inc.     7.55    $45.5M    2014   \n",
       "1   FLWS                 1-800 FLOWERS.COM, Inc.     9.07  $589.65M    1999   \n",
       "2   FCCY           1st Constitution Bancorp (NJ)    13.32  $105.93M     n/a   \n",
       "3   SRCE                  1st Source Corporation    34.95  $904.05M     n/a   \n",
       "4   VNET                    21Vianet Group, Inc.    6.855  $780.44M    2011   \n",
       "\n",
       "              Sector                                         industry  \\\n",
       "0            Finance                       Property-Casualty Insurers   \n",
       "1  Consumer Services                           Other Specialty Stores   \n",
       "2            Finance                             Savings Institutions   \n",
       "3            Finance                                      Major Banks   \n",
       "4         Technology  Computer Software: Programming, Data Processing   \n",
       "\n",
       "                       Summary Quote  \n",
       "0   http://www.nasdaq.com/symbol/pih  \n",
       "1  http://www.nasdaq.com/symbol/flws  \n",
       "2  http://www.nasdaq.com/symbol/fccy  \n",
       "3  http://www.nasdaq.com/symbol/srce  \n",
       "4  http://www.nasdaq.com/symbol/vnet  "
      ]
     },
     "execution_count": 10,
     "metadata": {},
     "output_type": "execute_result"
    }
   ],
   "source": [
    "nasdaq = pd.read_csv('NASDAQ.csv')\n",
    "nasdaq.head()"
   ]
  },
  {
   "cell_type": "raw",
   "metadata": {},
   "source": [
    "import urllib\n",
    "URL_SEARCH_TERM = 'Data Scientist'\n",
    "\n",
    "URL = \"http://www.indeed.com/jobs?q=\"+urllib.quote(URL_SEARCH_TERM)+\"&l=\"+urllib.quote(city)+\"&start=\"+str(start)\n",
    "driver.get(URL)\n",
    "soup = BeautifulSoup(driver.page_source, \"lxml\")"
   ]
  },
  {
   "cell_type": "code",
   "execution_count": 34,
   "metadata": {
    "ExecuteTime": {
     "end_time": "2016-10-16T12:33:07.935559",
     "start_time": "2016-10-16T12:33:07.931998"
    },
    "collapsed": true
   },
   "outputs": [],
   "source": [
    "import urllib"
   ]
  },
  {
   "cell_type": "code",
   "execution_count": 35,
   "metadata": {
    "ExecuteTime": {
     "end_time": "2016-10-16T12:33:36.234115",
     "start_time": "2016-10-16T12:33:36.227420"
    },
    "collapsed": false
   },
   "outputs": [
    {
     "data": {
      "text/plain": [
       "'Data%20Scientist'"
      ]
     },
     "execution_count": 35,
     "metadata": {},
     "output_type": "execute_result"
    }
   ],
   "source": [
    "urllib.quote('Data Scientist')"
   ]
  },
  {
   "cell_type": "code",
   "execution_count": 55,
   "metadata": {
    "ExecuteTime": {
     "end_time": "2016-10-16T15:57:19.003051",
     "start_time": "2016-10-16T15:57:18.991884"
    },
    "collapsed": true
   },
   "outputs": [],
   "source": [
    "nyc = pd.read_json('new-york-city.json')"
   ]
  },
  {
   "cell_type": "code",
   "execution_count": 37,
   "metadata": {
    "ExecuteTime": {
     "end_time": "2016-10-16T15:47:45.566152",
     "start_time": "2016-10-16T15:47:45.496044"
    },
    "collapsed": false
   },
   "outputs": [
    {
     "data": {
      "text/html": [
       "<div>\n",
       "<table border=\"1\" class=\"dataframe\">\n",
       "  <thead>\n",
       "    <tr style=\"text-align: right;\">\n",
       "      <th></th>\n",
       "      <th>company</th>\n",
       "      <th>jobTitle</th>\n",
       "      <th>meanPay</th>\n",
       "    </tr>\n",
       "  </thead>\n",
       "  <tbody>\n",
       "    <tr>\n",
       "      <th>0</th>\n",
       "      <td>AIG</td>\n",
       "      <td>Data Scientist</td>\n",
       "      <td>$104,714</td>\n",
       "    </tr>\n",
       "    <tr>\n",
       "      <th>1</th>\n",
       "      <td>Knewton</td>\n",
       "      <td>Data Scientist</td>\n",
       "      <td>$136,000</td>\n",
       "    </tr>\n",
       "    <tr>\n",
       "      <th>2</th>\n",
       "      <td>Audible</td>\n",
       "      <td>Data Scientist</td>\n",
       "      <td>$101,667</td>\n",
       "    </tr>\n",
       "    <tr>\n",
       "      <th>3</th>\n",
       "      <td>Case Commons</td>\n",
       "      <td>Data Scientist</td>\n",
       "      <td>$108,114</td>\n",
       "    </tr>\n",
       "    <tr>\n",
       "      <th>4</th>\n",
       "      <td>EBH Enterprises</td>\n",
       "      <td>Data Scientist</td>\n",
       "      <td>$150,038</td>\n",
       "    </tr>\n",
       "  </tbody>\n",
       "</table>\n",
       "</div>"
      ],
      "text/plain": [
       "           company        jobTitle   meanPay\n",
       "0              AIG  Data Scientist  $104,714\n",
       "1          Knewton  Data Scientist  $136,000\n",
       "2          Audible  Data Scientist  $101,667\n",
       "3     Case Commons  Data Scientist  $108,114\n",
       "4  EBH Enterprises  Data Scientist  $150,038"
      ]
     },
     "execution_count": 37,
     "metadata": {},
     "output_type": "execute_result"
    }
   ],
   "source": [
    "nyc.head()"
   ]
  },
  {
   "cell_type": "code",
   "execution_count": 42,
   "metadata": {
    "ExecuteTime": {
     "end_time": "2016-10-16T15:53:38.644200",
     "start_time": "2016-10-16T15:53:38.425125"
    },
    "collapsed": true
   },
   "outputs": [],
   "source": [
    "listings = pd.concat([amex, nyse, nasdaq]).drop_duplicates()"
   ]
  },
  {
   "cell_type": "code",
   "execution_count": 43,
   "metadata": {
    "ExecuteTime": {
     "end_time": "2016-10-16T15:53:50.797662",
     "start_time": "2016-10-16T15:53:50.788627"
    },
    "collapsed": true
   },
   "outputs": [],
   "source": [
    "test_nyc = nyc.merge(listings, how='left', left_on='company', right_on='Name')"
   ]
  },
  {
   "cell_type": "code",
   "execution_count": 44,
   "metadata": {
    "ExecuteTime": {
     "end_time": "2016-10-16T15:53:51.415391",
     "start_time": "2016-10-16T15:53:51.406726"
    },
    "collapsed": false
   },
   "outputs": [
    {
     "data": {
      "text/plain": [
       "(7, 11)"
      ]
     },
     "execution_count": 44,
     "metadata": {},
     "output_type": "execute_result"
    }
   ],
   "source": [
    "test_nyc[test_nyc['Symbol'].notnull()].shape"
   ]
  },
  {
   "cell_type": "code",
   "execution_count": 142,
   "metadata": {
    "ExecuteTime": {
     "end_time": "2016-10-16T16:15:53.301234",
     "start_time": "2016-10-16T16:15:53.295673"
    },
    "collapsed": false
   },
   "outputs": [],
   "source": [
    "nyc2 = nyc.copy()"
   ]
  },
  {
   "cell_type": "code",
   "execution_count": 143,
   "metadata": {
    "ExecuteTime": {
     "end_time": "2016-10-16T16:15:53.704998",
     "start_time": "2016-10-16T16:15:53.679439"
    },
    "collapsed": false
   },
   "outputs": [
    {
     "data": {
      "text/html": [
       "<div>\n",
       "<table border=\"1\" class=\"dataframe\">\n",
       "  <thead>\n",
       "    <tr style=\"text-align: right;\">\n",
       "      <th></th>\n",
       "      <th>company</th>\n",
       "      <th>jobTitle</th>\n",
       "      <th>meanPay</th>\n",
       "    </tr>\n",
       "  </thead>\n",
       "  <tbody>\n",
       "    <tr>\n",
       "      <th>0</th>\n",
       "      <td>AIG</td>\n",
       "      <td>Data Scientist</td>\n",
       "      <td>$104,714</td>\n",
       "    </tr>\n",
       "    <tr>\n",
       "      <th>1</th>\n",
       "      <td>Knewton</td>\n",
       "      <td>Data Scientist</td>\n",
       "      <td>$136,000</td>\n",
       "    </tr>\n",
       "    <tr>\n",
       "      <th>2</th>\n",
       "      <td>Audible</td>\n",
       "      <td>Data Scientist</td>\n",
       "      <td>$101,667</td>\n",
       "    </tr>\n",
       "    <tr>\n",
       "      <th>3</th>\n",
       "      <td>Case Commons</td>\n",
       "      <td>Data Scientist</td>\n",
       "      <td>$108,114</td>\n",
       "    </tr>\n",
       "    <tr>\n",
       "      <th>4</th>\n",
       "      <td>EBH Enterprises</td>\n",
       "      <td>Data Scientist</td>\n",
       "      <td>$150,038</td>\n",
       "    </tr>\n",
       "  </tbody>\n",
       "</table>\n",
       "</div>"
      ],
      "text/plain": [
       "           company        jobTitle   meanPay\n",
       "0              AIG  Data Scientist  $104,714\n",
       "1          Knewton  Data Scientist  $136,000\n",
       "2          Audible  Data Scientist  $101,667\n",
       "3     Case Commons  Data Scientist  $108,114\n",
       "4  EBH Enterprises  Data Scientist  $150,038"
      ]
     },
     "execution_count": 143,
     "metadata": {},
     "output_type": "execute_result"
    }
   ],
   "source": [
    "nyc2.head()"
   ]
  },
  {
   "cell_type": "code",
   "execution_count": 144,
   "metadata": {
    "ExecuteTime": {
     "end_time": "2016-10-16T16:15:53.990508",
     "start_time": "2016-10-16T16:15:53.983244"
    },
    "collapsed": true
   },
   "outputs": [],
   "source": [
    "nyc2['rate'] = nyc2['meanPay'].map(lambda x: (40*50) if 'hour' in x else 1)"
   ]
  },
  {
   "cell_type": "code",
   "execution_count": 145,
   "metadata": {
    "ExecuteTime": {
     "end_time": "2016-10-16T16:15:54.770238",
     "start_time": "2016-10-16T16:15:54.759557"
    },
    "collapsed": false
   },
   "outputs": [],
   "source": [
    "nyc2['est_sal'] = nyc2['meanPay'].map(get_salary_amount)"
   ]
  },
  {
   "cell_type": "code",
   "execution_count": 146,
   "metadata": {
    "ExecuteTime": {
     "end_time": "2016-10-16T16:15:55.282031",
     "start_time": "2016-10-16T16:15:55.274182"
    },
    "collapsed": false
   },
   "outputs": [
    {
     "data": {
      "text/plain": [
       "97000.0"
      ]
     },
     "execution_count": 146,
     "metadata": {},
     "output_type": "execute_result"
    }
   ],
   "source": [
    "get_salary_amount(nyc2.iloc[5,2])"
   ]
  },
  {
   "cell_type": "code",
   "execution_count": 147,
   "metadata": {
    "ExecuteTime": {
     "end_time": "2016-10-16T16:15:56.336125",
     "start_time": "2016-10-16T16:15:56.297525"
    },
    "collapsed": false
   },
   "outputs": [
    {
     "data": {
      "text/html": [
       "<div>\n",
       "<table border=\"1\" class=\"dataframe\">\n",
       "  <thead>\n",
       "    <tr style=\"text-align: right;\">\n",
       "      <th></th>\n",
       "      <th>rate</th>\n",
       "      <th>est_sal</th>\n",
       "    </tr>\n",
       "  </thead>\n",
       "  <tbody>\n",
       "    <tr>\n",
       "      <th>count</th>\n",
       "      <td>119.0</td>\n",
       "      <td>119.000000</td>\n",
       "    </tr>\n",
       "    <tr>\n",
       "      <th>mean</th>\n",
       "      <td>1.0</td>\n",
       "      <td>118784.928571</td>\n",
       "    </tr>\n",
       "    <tr>\n",
       "      <th>std</th>\n",
       "      <td>0.0</td>\n",
       "      <td>25104.942829</td>\n",
       "    </tr>\n",
       "    <tr>\n",
       "      <th>min</th>\n",
       "      <td>1.0</td>\n",
       "      <td>40.500000</td>\n",
       "    </tr>\n",
       "    <tr>\n",
       "      <th>25%</th>\n",
       "      <td>1.0</td>\n",
       "      <td>105250.000000</td>\n",
       "    </tr>\n",
       "    <tr>\n",
       "      <th>50%</th>\n",
       "      <td>1.0</td>\n",
       "      <td>119000.000000</td>\n",
       "    </tr>\n",
       "    <tr>\n",
       "      <th>75%</th>\n",
       "      <td>1.0</td>\n",
       "      <td>135250.000000</td>\n",
       "    </tr>\n",
       "    <tr>\n",
       "      <th>max</th>\n",
       "      <td>1.0</td>\n",
       "      <td>187500.000000</td>\n",
       "    </tr>\n",
       "  </tbody>\n",
       "</table>\n",
       "</div>"
      ],
      "text/plain": [
       "        rate        est_sal\n",
       "count  119.0     119.000000\n",
       "mean     1.0  118784.928571\n",
       "std      0.0   25104.942829\n",
       "min      1.0      40.500000\n",
       "25%      1.0  105250.000000\n",
       "50%      1.0  119000.000000\n",
       "75%      1.0  135250.000000\n",
       "max      1.0  187500.000000"
      ]
     },
     "execution_count": 147,
     "metadata": {},
     "output_type": "execute_result"
    }
   ],
   "source": [
    "nyc3 = nyc2.copy()\n",
    "nyc3.jobTitle.unique()\n",
    "nyc3.describe()"
   ]
  },
  {
   "cell_type": "code",
   "execution_count": 148,
   "metadata": {
    "ExecuteTime": {
     "end_time": "2016-10-16T16:15:57.079827",
     "start_time": "2016-10-16T16:15:57.071300"
    },
    "collapsed": true
   },
   "outputs": [],
   "source": [
    "nyc_med = np.mean(nyc3['est_sal'])\n",
    "nyc_std = np.std(nyc3['est_sal'])\n",
    "nyc3['sal_class'] = nyc3['est_sal'].map(lambda x: 0 if x < nyc_med else 1 if x < nyc_med+1.5*nyc_std else 2)"
   ]
  },
  {
   "cell_type": "code",
   "execution_count": 149,
   "metadata": {
    "ExecuteTime": {
     "end_time": "2016-10-16T16:15:58.199989",
     "start_time": "2016-10-16T16:15:57.857745"
    },
    "collapsed": false
   },
   "outputs": [
    {
     "data": {
      "text/plain": [
       "<matplotlib.axes._subplots.AxesSubplot at 0x118d9c850>"
      ]
     },
     "execution_count": 149,
     "metadata": {},
     "output_type": "execute_result"
    },
    {
     "data": {
      "image/png": "[encoded data removed]",
      "text/plain": [
       "<matplotlib.figure.Figure at 0x101b91050>"
      ]
     },
     "metadata": {},
     "output_type": "display_data"
    }
   ],
   "source": [
    "nyc3['est_sal'].hist()"
   ]
  },
  {
   "cell_type": "code",
   "execution_count": 150,
   "metadata": {
    "ExecuteTime": {
     "end_time": "2016-10-16T16:15:58.830638",
     "start_time": "2016-10-16T16:15:58.824354"
    },
    "collapsed": true
   },
   "outputs": [],
   "source": [
    "nyc3['junior'] = nyc3['jobTitle'].map(lambda x: 1 if 'Junior' in x or 'Entry'\\\n",
    "                                      in x or 'Intern' in x or 'Associate' in x else 0) "
   ]
  },
  {
   "cell_type": "code",
   "execution_count": 151,
   "metadata": {
    "ExecuteTime": {
     "end_time": "2016-10-16T16:16:02.537045",
     "start_time": "2016-10-16T16:16:02.531501"
    },
    "collapsed": true
   },
   "outputs": [],
   "source": [
    "nyc3['senior'] = nyc3['jobTitle'].map(lambda x: 1 if 'Senior' in x or 'Chief'\\\n",
    "                                      in x or 'Principal' in x else 0) "
   ]
  },
  {
   "cell_type": "code",
   "execution_count": 152,
   "metadata": {
    "ExecuteTime": {
     "end_time": "2016-10-16T16:16:08.614560",
     "start_time": "2016-10-16T16:16:08.608027"
    },
    "collapsed": true
   },
   "outputs": [],
   "source": [
    "co_dummies = pd.get_dummies(nyc2['company'], prefix='company')"
   ]
  },
  {
   "cell_type": "code",
   "execution_count": 153,
   "metadata": {
    "ExecuteTime": {
     "end_time": "2016-10-16T16:16:10.490063",
     "start_time": "2016-10-16T16:16:10.420306"
    },
    "collapsed": false
   },
   "outputs": [
    {
     "data": {
      "text/html": [
       "<div>\n",
       "<table border=\"1\" class=\"dataframe\">\n",
       "  <thead>\n",
       "    <tr style=\"text-align: right;\">\n",
       "      <th></th>\n",
       "      <th>company</th>\n",
       "      <th>jobTitle</th>\n",
       "      <th>meanPay</th>\n",
       "      <th>rate</th>\n",
       "      <th>est_sal</th>\n",
       "      <th>sal_class</th>\n",
       "      <th>junior</th>\n",
       "      <th>senior</th>\n",
       "      <th>company_1010data</th>\n",
       "      <th>company_2U</th>\n",
       "      <th>...</th>\n",
       "      <th>company_ThoughtWorks</th>\n",
       "      <th>company_Time Inc.</th>\n",
       "      <th>company_Twitter</th>\n",
       "      <th>company_Verisk Analytics</th>\n",
       "      <th>company_Verizon</th>\n",
       "      <th>company_Verizon Wireless</th>\n",
       "      <th>company_World Wrestling Entertainment</th>\n",
       "      <th>company_Zurich North America</th>\n",
       "      <th>company_Zynga</th>\n",
       "      <th>company_comScore</th>\n",
       "    </tr>\n",
       "  </thead>\n",
       "  <tbody>\n",
       "    <tr>\n",
       "      <th>0</th>\n",
       "      <td>AIG</td>\n",
       "      <td>Data Scientist</td>\n",
       "      <td>$104,714</td>\n",
       "      <td>1</td>\n",
       "      <td>104714.0</td>\n",
       "      <td>0</td>\n",
       "      <td>0</td>\n",
       "      <td>0</td>\n",
       "      <td>0.0</td>\n",
       "      <td>0.0</td>\n",
       "      <td>...</td>\n",
       "      <td>0.0</td>\n",
       "      <td>0.0</td>\n",
       "      <td>0.0</td>\n",
       "      <td>0.0</td>\n",
       "      <td>0.0</td>\n",
       "      <td>0.0</td>\n",
       "      <td>0.0</td>\n",
       "      <td>0.0</td>\n",
       "      <td>0.0</td>\n",
       "      <td>0.0</td>\n",
       "    </tr>\n",
       "    <tr>\n",
       "      <th>1</th>\n",
       "      <td>Knewton</td>\n",
       "      <td>Data Scientist</td>\n",
       "      <td>$136,000</td>\n",
       "      <td>1</td>\n",
       "      <td>136000.0</td>\n",
       "      <td>1</td>\n",
       "      <td>0</td>\n",
       "      <td>0</td>\n",
       "      <td>0.0</td>\n",
       "      <td>0.0</td>\n",
       "      <td>...</td>\n",
       "      <td>0.0</td>\n",
       "      <td>0.0</td>\n",
       "      <td>0.0</td>\n",
       "      <td>0.0</td>\n",
       "      <td>0.0</td>\n",
       "      <td>0.0</td>\n",
       "      <td>0.0</td>\n",
       "      <td>0.0</td>\n",
       "      <td>0.0</td>\n",
       "      <td>0.0</td>\n",
       "    </tr>\n",
       "    <tr>\n",
       "      <th>2</th>\n",
       "      <td>Audible</td>\n",
       "      <td>Data Scientist</td>\n",
       "      <td>$101,667</td>\n",
       "      <td>1</td>\n",
       "      <td>101667.0</td>\n",
       "      <td>0</td>\n",
       "      <td>0</td>\n",
       "      <td>0</td>\n",
       "      <td>0.0</td>\n",
       "      <td>0.0</td>\n",
       "      <td>...</td>\n",
       "      <td>0.0</td>\n",
       "      <td>0.0</td>\n",
       "      <td>0.0</td>\n",
       "      <td>0.0</td>\n",
       "      <td>0.0</td>\n",
       "      <td>0.0</td>\n",
       "      <td>0.0</td>\n",
       "      <td>0.0</td>\n",
       "      <td>0.0</td>\n",
       "      <td>0.0</td>\n",
       "    </tr>\n",
       "    <tr>\n",
       "      <th>3</th>\n",
       "      <td>Case Commons</td>\n",
       "      <td>Data Scientist</td>\n",
       "      <td>$108,114</td>\n",
       "      <td>1</td>\n",
       "      <td>108114.0</td>\n",
       "      <td>0</td>\n",
       "      <td>0</td>\n",
       "      <td>0</td>\n",
       "      <td>0.0</td>\n",
       "      <td>0.0</td>\n",
       "      <td>...</td>\n",
       "      <td>0.0</td>\n",
       "      <td>0.0</td>\n",
       "      <td>0.0</td>\n",
       "      <td>0.0</td>\n",
       "      <td>0.0</td>\n",
       "      <td>0.0</td>\n",
       "      <td>0.0</td>\n",
       "      <td>0.0</td>\n",
       "      <td>0.0</td>\n",
       "      <td>0.0</td>\n",
       "    </tr>\n",
       "    <tr>\n",
       "      <th>4</th>\n",
       "      <td>EBH Enterprises</td>\n",
       "      <td>Data Scientist</td>\n",
       "      <td>$150,038</td>\n",
       "      <td>1</td>\n",
       "      <td>150038.0</td>\n",
       "      <td>1</td>\n",
       "      <td>0</td>\n",
       "      <td>0</td>\n",
       "      <td>0.0</td>\n",
       "      <td>0.0</td>\n",
       "      <td>...</td>\n",
       "      <td>0.0</td>\n",
       "      <td>0.0</td>\n",
       "      <td>0.0</td>\n",
       "      <td>0.0</td>\n",
       "      <td>0.0</td>\n",
       "      <td>0.0</td>\n",
       "      <td>0.0</td>\n",
       "      <td>0.0</td>\n",
       "      <td>0.0</td>\n",
       "      <td>0.0</td>\n",
       "    </tr>\n",
       "  </tbody>\n",
       "</table>\n",
       "<p>5 rows × 100 columns</p>\n",
       "</div>"
      ],
      "text/plain": [
       "           company        jobTitle   meanPay  rate   est_sal  sal_class  \\\n",
       "0              AIG  Data Scientist  $104,714     1  104714.0          0   \n",
       "1          Knewton  Data Scientist  $136,000     1  136000.0          1   \n",
       "2          Audible  Data Scientist  $101,667     1  101667.0          0   \n",
       "3     Case Commons  Data Scientist  $108,114     1  108114.0          0   \n",
       "4  EBH Enterprises  Data Scientist  $150,038     1  150038.0          1   \n",
       "\n",
       "   junior  senior  company_1010data  company_2U        ...         \\\n",
       "0       0       0               0.0         0.0        ...          \n",
       "1       0       0               0.0         0.0        ...          \n",
       "2       0       0               0.0         0.0        ...          \n",
       "3       0       0               0.0         0.0        ...          \n",
       "4       0       0               0.0         0.0        ...          \n",
       "\n",
       "   company_ThoughtWorks  company_Time Inc.  company_Twitter  \\\n",
       "0                   0.0                0.0              0.0   \n",
       "1                   0.0                0.0              0.0   \n",
       "2                   0.0                0.0              0.0   \n",
       "3                   0.0                0.0              0.0   \n",
       "4                   0.0                0.0              0.0   \n",
       "\n",
       "   company_Verisk Analytics  company_Verizon  company_Verizon Wireless  \\\n",
       "0                       0.0              0.0                       0.0   \n",
       "1                       0.0              0.0                       0.0   \n",
       "2                       0.0              0.0                       0.0   \n",
       "3                       0.0              0.0                       0.0   \n",
       "4                       0.0              0.0                       0.0   \n",
       "\n",
       "   company_World Wrestling Entertainment  company_Zurich North America  \\\n",
       "0                                    0.0                           0.0   \n",
       "1                                    0.0                           0.0   \n",
       "2                                    0.0                           0.0   \n",
       "3                                    0.0                           0.0   \n",
       "4                                    0.0                           0.0   \n",
       "\n",
       "   company_Zynga  company_comScore  \n",
       "0            0.0               0.0  \n",
       "1            0.0               0.0  \n",
       "2            0.0               0.0  \n",
       "3            0.0               0.0  \n",
       "4            0.0               0.0  \n",
       "\n",
       "[5 rows x 100 columns]"
      ]
     },
     "execution_count": 153,
     "metadata": {},
     "output_type": "execute_result"
    }
   ],
   "source": [
    "nyc3 = pd.concat([nyc3, co_dummies], axis=1)\n",
    "nyc3.head()"
   ]
  },
  {
   "cell_type": "code",
   "execution_count": 154,
   "metadata": {
    "ExecuteTime": {
     "end_time": "2016-10-16T16:16:11.099160",
     "start_time": "2016-10-16T16:16:11.094980"
    },
    "collapsed": false
   },
   "outputs": [],
   "source": [
    "features = nyc3.columns.values.tolist()[6:]"
   ]
  },
  {
   "cell_type": "code",
   "execution_count": 155,
   "metadata": {
    "ExecuteTime": {
     "end_time": "2016-10-16T16:16:11.728638",
     "start_time": "2016-10-16T16:16:11.721086"
    },
    "collapsed": true
   },
   "outputs": [],
   "source": [
    "X3 = nyc3[features]\n",
    "y3 = nyc3.sal_class"
   ]
  },
  {
   "cell_type": "code",
   "execution_count": 156,
   "metadata": {
    "ExecuteTime": {
     "end_time": "2016-10-16T16:16:12.189046",
     "start_time": "2016-10-16T16:16:12.183760"
    },
    "collapsed": true
   },
   "outputs": [],
   "source": [
    "lr = LogisticRegressionCV(cv=10, multi_class='multinomial', solver='lbfgs')"
   ]
  },
  {
   "cell_type": "code",
   "execution_count": 157,
   "metadata": {
    "ExecuteTime": {
     "end_time": "2016-10-16T16:16:12.665521",
     "start_time": "2016-10-16T16:16:12.656949"
    },
    "collapsed": false
   },
   "outputs": [
    {
     "data": {
      "text/plain": [
       "0    59\n",
       "1    57\n",
       "2     3\n",
       "Name: sal_class, dtype: int64"
      ]
     },
     "execution_count": 157,
     "metadata": {},
     "output_type": "execute_result"
    }
   ],
   "source": [
    "y3.value_counts()"
   ]
  },
  {
   "cell_type": "code",
   "execution_count": 158,
   "metadata": {
    "ExecuteTime": {
     "end_time": "2016-10-16T16:16:14.819067",
     "start_time": "2016-10-16T16:16:13.655553"
    },
    "collapsed": false
   },
   "outputs": [
    {
     "name": "stderr",
     "output_type": "stream",
     "text": [
      "//anaconda/lib/python2.7/site-packages/sklearn/model_selection/_split.py:579: Warning: The least populated class in y has only 3 members, which is too few. The minimum number of groups for any class cannot be less than n_splits=10.\n",
      "  % (min_groups, self.n_splits)), Warning)\n"
     ]
    }
   ],
   "source": [
    "m3 = lr.fit(X3, y3)"
   ]
  },
  {
   "cell_type": "code",
   "execution_count": 159,
   "metadata": {
    "ExecuteTime": {
     "end_time": "2016-10-16T16:16:15.257071",
     "start_time": "2016-10-16T16:16:15.247400"
    },
    "collapsed": false
   },
   "outputs": [
    {
     "data": {
      "text/plain": [
       "array([0, 0, 0, 0, 0, 0, 0, 0, 0, 0, 0, 0, 0, 0, 0, 0, 0, 0, 0, 0, 0, 0, 0,\n",
       "       0, 0, 0, 0, 0, 0, 0, 0, 0, 0, 0, 0, 0, 0, 0, 0, 0, 0, 0, 0, 0, 0, 0,\n",
       "       0, 0, 0, 0, 0, 0, 0, 0, 0, 0, 0, 0, 0, 0, 0, 0, 0, 0, 0, 0, 0, 0, 0,\n",
       "       0, 0, 0, 0, 0, 0, 1, 1, 1, 0, 0, 0, 0, 1, 1, 1, 1, 1, 1, 1, 1, 1, 1,\n",
       "       1, 1, 1, 1, 1, 1, 1, 1, 1, 1, 1, 1, 0, 0, 0, 0, 0, 0, 1, 1, 1, 1, 1,\n",
       "       1, 0, 0, 0])"
      ]
     },
     "execution_count": 159,
     "metadata": {},
     "output_type": "execute_result"
    }
   ],
   "source": [
    "m3.predict(X3)"
   ]
  },
  {
   "cell_type": "code",
   "execution_count": 174,
   "metadata": {
    "ExecuteTime": {
     "end_time": "2016-10-16T16:22:35.407592",
     "start_time": "2016-10-16T16:22:35.398493"
    },
    "collapsed": false
   },
   "outputs": [
    {
     "data": {
      "text/plain": [
       "0.6470588235294118"
      ]
     },
     "execution_count": 174,
     "metadata": {},
     "output_type": "execute_result"
    }
   ],
   "source": [
    "m3.score(X3, y3)"
   ]
  },
  {
   "cell_type": "code",
   "execution_count": 168,
   "metadata": {
    "ExecuteTime": {
     "end_time": "2016-10-16T16:18:56.345550",
     "start_time": "2016-10-16T16:18:56.324890"
    },
    "collapsed": true
   },
   "outputs": [],
   "source": [
    "feature_imp_2 = pd.DataFrame([features], index=['features']).T"
   ]
  },
  {
   "cell_type": "code",
   "execution_count": 169,
   "metadata": {
    "ExecuteTime": {
     "end_time": "2016-10-16T16:19:27.148482",
     "start_time": "2016-10-16T16:19:27.137162"
    },
    "collapsed": true
   },
   "outputs": [],
   "source": [
    "feature_imp_2 = pd.concat([feature_imp_2,pd.DataFrame(m3.coef_).T], axis=1 )"
   ]
  },
  {
   "cell_type": "code",
   "execution_count": 173,
   "metadata": {
    "ExecuteTime": {
     "end_time": "2016-10-16T16:22:12.344653",
     "start_time": "2016-10-16T16:22:12.263881"
    },
    "collapsed": false
   },
   "outputs": [
    {
     "data": {
      "text/html": [
       "<div>\n",
       "<table border=\"1\" class=\"dataframe\">\n",
       "  <thead>\n",
       "    <tr style=\"text-align: right;\">\n",
       "      <th></th>\n",
       "      <th>features</th>\n",
       "      <th>0</th>\n",
       "      <th>1</th>\n",
       "      <th>2</th>\n",
       "    </tr>\n",
       "  </thead>\n",
       "  <tbody>\n",
       "    <tr>\n",
       "      <th>0</th>\n",
       "      <td>junior</td>\n",
       "      <td>0.026148</td>\n",
       "      <td>-0.024800</td>\n",
       "      <td>-0.001348</td>\n",
       "    </tr>\n",
       "    <tr>\n",
       "      <th>20</th>\n",
       "      <td>company_Booz Allen Hamilton</td>\n",
       "      <td>0.006095</td>\n",
       "      <td>-0.005792</td>\n",
       "      <td>-0.000303</td>\n",
       "    </tr>\n",
       "    <tr>\n",
       "      <th>70</th>\n",
       "      <td>company_OnDeck</td>\n",
       "      <td>0.006095</td>\n",
       "      <td>-0.005792</td>\n",
       "      <td>-0.000303</td>\n",
       "    </tr>\n",
       "    <tr>\n",
       "      <th>69</th>\n",
       "      <td>company_Nielsen</td>\n",
       "      <td>0.006095</td>\n",
       "      <td>-0.005792</td>\n",
       "      <td>-0.000303</td>\n",
       "    </tr>\n",
       "    <tr>\n",
       "      <th>66</th>\n",
       "      <td>company_MetLife</td>\n",
       "      <td>0.005943</td>\n",
       "      <td>-0.005643</td>\n",
       "      <td>-0.000301</td>\n",
       "    </tr>\n",
       "    <tr>\n",
       "      <th>52</th>\n",
       "      <td>company_IBM</td>\n",
       "      <td>0.005895</td>\n",
       "      <td>-0.005292</td>\n",
       "      <td>-0.000603</td>\n",
       "    </tr>\n",
       "    <tr>\n",
       "      <th>91</th>\n",
       "      <td>company_Zurich North America</td>\n",
       "      <td>0.005869</td>\n",
       "      <td>-0.005568</td>\n",
       "      <td>-0.000300</td>\n",
       "    </tr>\n",
       "    <tr>\n",
       "      <th>60</th>\n",
       "      <td>company_Lightpath</td>\n",
       "      <td>0.005869</td>\n",
       "      <td>-0.005568</td>\n",
       "      <td>-0.000300</td>\n",
       "    </tr>\n",
       "    <tr>\n",
       "      <th>15</th>\n",
       "      <td>company_Atos</td>\n",
       "      <td>0.003131</td>\n",
       "      <td>-0.002978</td>\n",
       "      <td>-0.000153</td>\n",
       "    </tr>\n",
       "    <tr>\n",
       "      <th>87</th>\n",
       "      <td>company_Verisk Analytics</td>\n",
       "      <td>0.003131</td>\n",
       "      <td>-0.002978</td>\n",
       "      <td>-0.000153</td>\n",
       "    </tr>\n",
       "    <tr>\n",
       "      <th>36</th>\n",
       "      <td>company_EMC</td>\n",
       "      <td>0.003098</td>\n",
       "      <td>-0.002645</td>\n",
       "      <td>-0.000453</td>\n",
       "    </tr>\n",
       "    <tr>\n",
       "      <th>6</th>\n",
       "      <td>company_AIG</td>\n",
       "      <td>0.002979</td>\n",
       "      <td>-0.002829</td>\n",
       "      <td>-0.000150</td>\n",
       "    </tr>\n",
       "    <tr>\n",
       "      <th>24</th>\n",
       "      <td>company_Case Commons</td>\n",
       "      <td>0.002979</td>\n",
       "      <td>-0.002829</td>\n",
       "      <td>-0.000150</td>\n",
       "    </tr>\n",
       "    <tr>\n",
       "      <th>16</th>\n",
       "      <td>company_Audible</td>\n",
       "      <td>0.002979</td>\n",
       "      <td>-0.002829</td>\n",
       "      <td>-0.000150</td>\n",
       "    </tr>\n",
       "    <tr>\n",
       "      <th>34</th>\n",
       "      <td>company_DemystData</td>\n",
       "      <td>0.002979</td>\n",
       "      <td>-0.002829</td>\n",
       "      <td>-0.000150</td>\n",
       "    </tr>\n",
       "    <tr>\n",
       "      <th>2</th>\n",
       "      <td>company_1010data</td>\n",
       "      <td>0.002979</td>\n",
       "      <td>-0.002829</td>\n",
       "      <td>-0.000150</td>\n",
       "    </tr>\n",
       "    <tr>\n",
       "      <th>62</th>\n",
       "      <td>company_Marketing Evolution</td>\n",
       "      <td>0.002979</td>\n",
       "      <td>-0.002829</td>\n",
       "      <td>-0.000150</td>\n",
       "    </tr>\n",
       "    <tr>\n",
       "      <th>31</th>\n",
       "      <td>company_Credit Suisse</td>\n",
       "      <td>0.002979</td>\n",
       "      <td>-0.002829</td>\n",
       "      <td>-0.000150</td>\n",
       "    </tr>\n",
       "    <tr>\n",
       "      <th>56</th>\n",
       "      <td>company_J.P. Morgan</td>\n",
       "      <td>0.002979</td>\n",
       "      <td>-0.002829</td>\n",
       "      <td>-0.000150</td>\n",
       "    </tr>\n",
       "    <tr>\n",
       "      <th>30</th>\n",
       "      <td>company_ConsultAdd</td>\n",
       "      <td>0.002979</td>\n",
       "      <td>-0.002829</td>\n",
       "      <td>-0.000150</td>\n",
       "    </tr>\n",
       "    <tr>\n",
       "      <th>72</th>\n",
       "      <td>company_Outbrain</td>\n",
       "      <td>0.002979</td>\n",
       "      <td>-0.002829</td>\n",
       "      <td>-0.000150</td>\n",
       "    </tr>\n",
       "    <tr>\n",
       "      <th>12</th>\n",
       "      <td>company_American Express TRS</td>\n",
       "      <td>0.002979</td>\n",
       "      <td>-0.002829</td>\n",
       "      <td>-0.000150</td>\n",
       "    </tr>\n",
       "    <tr>\n",
       "      <th>11</th>\n",
       "      <td>company_American Express</td>\n",
       "      <td>0.002979</td>\n",
       "      <td>-0.002829</td>\n",
       "      <td>-0.000150</td>\n",
       "    </tr>\n",
       "    <tr>\n",
       "      <th>46</th>\n",
       "      <td>company_Google</td>\n",
       "      <td>0.002979</td>\n",
       "      <td>-0.002829</td>\n",
       "      <td>-0.000150</td>\n",
       "    </tr>\n",
       "    <tr>\n",
       "      <th>21</th>\n",
       "      <td>company_CA Technologies</td>\n",
       "      <td>0.002979</td>\n",
       "      <td>-0.002829</td>\n",
       "      <td>-0.000150</td>\n",
       "    </tr>\n",
       "    <tr>\n",
       "      <th>42</th>\n",
       "      <td>company_Feedzai</td>\n",
       "      <td>0.002979</td>\n",
       "      <td>-0.002829</td>\n",
       "      <td>-0.000150</td>\n",
       "    </tr>\n",
       "    <tr>\n",
       "      <th>39</th>\n",
       "      <td>company_FINRA</td>\n",
       "      <td>0.002979</td>\n",
       "      <td>-0.002829</td>\n",
       "      <td>-0.000150</td>\n",
       "    </tr>\n",
       "    <tr>\n",
       "      <th>28</th>\n",
       "      <td>company_Cognizant Technology Solutions</td>\n",
       "      <td>0.002979</td>\n",
       "      <td>-0.002829</td>\n",
       "      <td>-0.000150</td>\n",
       "    </tr>\n",
       "    <tr>\n",
       "      <th>58</th>\n",
       "      <td>company_Kabbage</td>\n",
       "      <td>0.002979</td>\n",
       "      <td>-0.002829</td>\n",
       "      <td>-0.000150</td>\n",
       "    </tr>\n",
       "    <tr>\n",
       "      <th>45</th>\n",
       "      <td>company_Gallup</td>\n",
       "      <td>0.002979</td>\n",
       "      <td>-0.002829</td>\n",
       "      <td>-0.000150</td>\n",
       "    </tr>\n",
       "    <tr>\n",
       "      <th>...</th>\n",
       "      <td>...</td>\n",
       "      <td>...</td>\n",
       "      <td>...</td>\n",
       "      <td>...</td>\n",
       "    </tr>\n",
       "    <tr>\n",
       "      <th>71</th>\n",
       "      <td>company_Oscar Insurance</td>\n",
       "      <td>-0.002997</td>\n",
       "      <td>0.003148</td>\n",
       "      <td>-0.000150</td>\n",
       "    </tr>\n",
       "    <tr>\n",
       "      <th>55</th>\n",
       "      <td>company_Intent Media</td>\n",
       "      <td>-0.002997</td>\n",
       "      <td>0.003148</td>\n",
       "      <td>-0.000150</td>\n",
       "    </tr>\n",
       "    <tr>\n",
       "      <th>27</th>\n",
       "      <td>company_Citi</td>\n",
       "      <td>-0.002997</td>\n",
       "      <td>0.003148</td>\n",
       "      <td>-0.000150</td>\n",
       "    </tr>\n",
       "    <tr>\n",
       "      <th>85</th>\n",
       "      <td>company_Time Inc.</td>\n",
       "      <td>-0.002997</td>\n",
       "      <td>0.003148</td>\n",
       "      <td>-0.000150</td>\n",
       "    </tr>\n",
       "    <tr>\n",
       "      <th>44</th>\n",
       "      <td>company_Fractal Analytics</td>\n",
       "      <td>-0.002997</td>\n",
       "      <td>0.003148</td>\n",
       "      <td>-0.000150</td>\n",
       "    </tr>\n",
       "    <tr>\n",
       "      <th>41</th>\n",
       "      <td>company_Facebook</td>\n",
       "      <td>-0.002997</td>\n",
       "      <td>0.003148</td>\n",
       "      <td>-0.000150</td>\n",
       "    </tr>\n",
       "    <tr>\n",
       "      <th>74</th>\n",
       "      <td>company_Pandora Media</td>\n",
       "      <td>-0.002997</td>\n",
       "      <td>0.003148</td>\n",
       "      <td>-0.000150</td>\n",
       "    </tr>\n",
       "    <tr>\n",
       "      <th>73</th>\n",
       "      <td>company_Palantir Technologies</td>\n",
       "      <td>-0.002997</td>\n",
       "      <td>0.003148</td>\n",
       "      <td>-0.000150</td>\n",
       "    </tr>\n",
       "    <tr>\n",
       "      <th>26</th>\n",
       "      <td>company_Chubb</td>\n",
       "      <td>-0.002997</td>\n",
       "      <td>0.003148</td>\n",
       "      <td>-0.000150</td>\n",
       "    </tr>\n",
       "    <tr>\n",
       "      <th>81</th>\n",
       "      <td>company_Spotify</td>\n",
       "      <td>-0.002997</td>\n",
       "      <td>0.003148</td>\n",
       "      <td>-0.000150</td>\n",
       "    </tr>\n",
       "    <tr>\n",
       "      <th>63</th>\n",
       "      <td>company_MasterCard</td>\n",
       "      <td>-0.002997</td>\n",
       "      <td>0.003148</td>\n",
       "      <td>-0.000150</td>\n",
       "    </tr>\n",
       "    <tr>\n",
       "      <th>13</th>\n",
       "      <td>company_AppNexus</td>\n",
       "      <td>-0.002997</td>\n",
       "      <td>0.003148</td>\n",
       "      <td>-0.000150</td>\n",
       "    </tr>\n",
       "    <tr>\n",
       "      <th>38</th>\n",
       "      <td>company_Experian</td>\n",
       "      <td>-0.002997</td>\n",
       "      <td>0.003148</td>\n",
       "      <td>-0.000150</td>\n",
       "    </tr>\n",
       "    <tr>\n",
       "      <th>90</th>\n",
       "      <td>company_World Wrestling Entertainment</td>\n",
       "      <td>-0.002997</td>\n",
       "      <td>0.003148</td>\n",
       "      <td>-0.000150</td>\n",
       "    </tr>\n",
       "    <tr>\n",
       "      <th>49</th>\n",
       "      <td>company_Honeywell</td>\n",
       "      <td>-0.002997</td>\n",
       "      <td>0.003148</td>\n",
       "      <td>-0.000150</td>\n",
       "    </tr>\n",
       "    <tr>\n",
       "      <th>92</th>\n",
       "      <td>company_Zynga</td>\n",
       "      <td>-0.002997</td>\n",
       "      <td>0.003148</td>\n",
       "      <td>-0.000150</td>\n",
       "    </tr>\n",
       "    <tr>\n",
       "      <th>51</th>\n",
       "      <td>company_Huawei Technologies</td>\n",
       "      <td>-0.002997</td>\n",
       "      <td>0.003148</td>\n",
       "      <td>-0.000150</td>\n",
       "    </tr>\n",
       "    <tr>\n",
       "      <th>86</th>\n",
       "      <td>company_Twitter</td>\n",
       "      <td>-0.002997</td>\n",
       "      <td>0.003148</td>\n",
       "      <td>-0.000150</td>\n",
       "    </tr>\n",
       "    <tr>\n",
       "      <th>10</th>\n",
       "      <td>company_Amazon.com</td>\n",
       "      <td>-0.002997</td>\n",
       "      <td>0.003148</td>\n",
       "      <td>-0.000150</td>\n",
       "    </tr>\n",
       "    <tr>\n",
       "      <th>78</th>\n",
       "      <td>company_Rang Technologies</td>\n",
       "      <td>-0.002997</td>\n",
       "      <td>0.003148</td>\n",
       "      <td>-0.000150</td>\n",
       "    </tr>\n",
       "    <tr>\n",
       "      <th>77</th>\n",
       "      <td>company_PwC</td>\n",
       "      <td>-0.002997</td>\n",
       "      <td>0.003148</td>\n",
       "      <td>-0.000150</td>\n",
       "    </tr>\n",
       "    <tr>\n",
       "      <th>67</th>\n",
       "      <td>company_Morgan Stanley</td>\n",
       "      <td>-0.002997</td>\n",
       "      <td>0.003148</td>\n",
       "      <td>-0.000150</td>\n",
       "    </tr>\n",
       "    <tr>\n",
       "      <th>37</th>\n",
       "      <td>company_Etsy</td>\n",
       "      <td>-0.002997</td>\n",
       "      <td>0.003148</td>\n",
       "      <td>-0.000150</td>\n",
       "    </tr>\n",
       "    <tr>\n",
       "      <th>17</th>\n",
       "      <td>company_BNY Mellon</td>\n",
       "      <td>-0.005675</td>\n",
       "      <td>0.005981</td>\n",
       "      <td>-0.000306</td>\n",
       "    </tr>\n",
       "    <tr>\n",
       "      <th>8</th>\n",
       "      <td>company_AT&amp;T</td>\n",
       "      <td>-0.005690</td>\n",
       "      <td>0.000005</td>\n",
       "      <td>0.005685</td>\n",
       "    </tr>\n",
       "    <tr>\n",
       "      <th>76</th>\n",
       "      <td>company_Pivotal</td>\n",
       "      <td>-0.005826</td>\n",
       "      <td>0.006130</td>\n",
       "      <td>-0.000303</td>\n",
       "    </tr>\n",
       "    <tr>\n",
       "      <th>7</th>\n",
       "      <td>company_AOL</td>\n",
       "      <td>-0.005826</td>\n",
       "      <td>0.006130</td>\n",
       "      <td>-0.000303</td>\n",
       "    </tr>\n",
       "    <tr>\n",
       "      <th>29</th>\n",
       "      <td>company_Comcast</td>\n",
       "      <td>-0.008639</td>\n",
       "      <td>0.009095</td>\n",
       "      <td>-0.000456</td>\n",
       "    </tr>\n",
       "    <tr>\n",
       "      <th>23</th>\n",
       "      <td>company_Capital One</td>\n",
       "      <td>-0.008661</td>\n",
       "      <td>0.003128</td>\n",
       "      <td>0.005533</td>\n",
       "    </tr>\n",
       "    <tr>\n",
       "      <th>1</th>\n",
       "      <td>senior</td>\n",
       "      <td>-0.058330</td>\n",
       "      <td>0.045101</td>\n",
       "      <td>0.013229</td>\n",
       "    </tr>\n",
       "  </tbody>\n",
       "</table>\n",
       "<p>94 rows × 4 columns</p>\n",
       "</div>"
      ],
      "text/plain": [
       "                                  features         0         1         2\n",
       "0                                   junior  0.026148 -0.024800 -0.001348\n",
       "20             company_Booz Allen Hamilton  0.006095 -0.005792 -0.000303\n",
       "70                          company_OnDeck  0.006095 -0.005792 -0.000303\n",
       "69                         company_Nielsen  0.006095 -0.005792 -0.000303\n",
       "66                         company_MetLife  0.005943 -0.005643 -0.000301\n",
       "52                             company_IBM  0.005895 -0.005292 -0.000603\n",
       "91            company_Zurich North America  0.005869 -0.005568 -0.000300\n",
       "60                       company_Lightpath  0.005869 -0.005568 -0.000300\n",
       "15                            company_Atos  0.003131 -0.002978 -0.000153\n",
       "87                company_Verisk Analytics  0.003131 -0.002978 -0.000153\n",
       "36                             company_EMC  0.003098 -0.002645 -0.000453\n",
       "6                              company_AIG  0.002979 -0.002829 -0.000150\n",
       "24                    company_Case Commons  0.002979 -0.002829 -0.000150\n",
       "16                         company_Audible  0.002979 -0.002829 -0.000150\n",
       "34                      company_DemystData  0.002979 -0.002829 -0.000150\n",
       "2                         company_1010data  0.002979 -0.002829 -0.000150\n",
       "62             company_Marketing Evolution  0.002979 -0.002829 -0.000150\n",
       "31                   company_Credit Suisse  0.002979 -0.002829 -0.000150\n",
       "56                     company_J.P. Morgan  0.002979 -0.002829 -0.000150\n",
       "30                      company_ConsultAdd  0.002979 -0.002829 -0.000150\n",
       "72                        company_Outbrain  0.002979 -0.002829 -0.000150\n",
       "12            company_American Express TRS  0.002979 -0.002829 -0.000150\n",
       "11                company_American Express  0.002979 -0.002829 -0.000150\n",
       "46                          company_Google  0.002979 -0.002829 -0.000150\n",
       "21                 company_CA Technologies  0.002979 -0.002829 -0.000150\n",
       "42                         company_Feedzai  0.002979 -0.002829 -0.000150\n",
       "39                           company_FINRA  0.002979 -0.002829 -0.000150\n",
       "28  company_Cognizant Technology Solutions  0.002979 -0.002829 -0.000150\n",
       "58                         company_Kabbage  0.002979 -0.002829 -0.000150\n",
       "45                          company_Gallup  0.002979 -0.002829 -0.000150\n",
       "..                                     ...       ...       ...       ...\n",
       "71                 company_Oscar Insurance -0.002997  0.003148 -0.000150\n",
       "55                    company_Intent Media -0.002997  0.003148 -0.000150\n",
       "27                            company_Citi -0.002997  0.003148 -0.000150\n",
       "85                       company_Time Inc. -0.002997  0.003148 -0.000150\n",
       "44               company_Fractal Analytics -0.002997  0.003148 -0.000150\n",
       "41                        company_Facebook -0.002997  0.003148 -0.000150\n",
       "74                   company_Pandora Media -0.002997  0.003148 -0.000150\n",
       "73           company_Palantir Technologies -0.002997  0.003148 -0.000150\n",
       "26                           company_Chubb -0.002997  0.003148 -0.000150\n",
       "81                         company_Spotify -0.002997  0.003148 -0.000150\n",
       "63                      company_MasterCard -0.002997  0.003148 -0.000150\n",
       "13                        company_AppNexus -0.002997  0.003148 -0.000150\n",
       "38                        company_Experian -0.002997  0.003148 -0.000150\n",
       "90   company_World Wrestling Entertainment -0.002997  0.003148 -0.000150\n",
       "49                       company_Honeywell -0.002997  0.003148 -0.000150\n",
       "92                           company_Zynga -0.002997  0.003148 -0.000150\n",
       "51             company_Huawei Technologies -0.002997  0.003148 -0.000150\n",
       "86                         company_Twitter -0.002997  0.003148 -0.000150\n",
       "10                      company_Amazon.com -0.002997  0.003148 -0.000150\n",
       "78               company_Rang Technologies -0.002997  0.003148 -0.000150\n",
       "77                             company_PwC -0.002997  0.003148 -0.000150\n",
       "67                  company_Morgan Stanley -0.002997  0.003148 -0.000150\n",
       "37                            company_Etsy -0.002997  0.003148 -0.000150\n",
       "17                      company_BNY Mellon -0.005675  0.005981 -0.000306\n",
       "8                             company_AT&T -0.005690  0.000005  0.005685\n",
       "76                         company_Pivotal -0.005826  0.006130 -0.000303\n",
       "7                              company_AOL -0.005826  0.006130 -0.000303\n",
       "29                         company_Comcast -0.008639  0.009095 -0.000456\n",
       "23                     company_Capital One -0.008661  0.003128  0.005533\n",
       "1                                   senior -0.058330  0.045101  0.013229\n",
       "\n",
       "[94 rows x 4 columns]"
      ]
     },
     "execution_count": 173,
     "metadata": {},
     "output_type": "execute_result"
    }
   ],
   "source": [
    "feature_imp_2.sort_values(by=0, ascending=False)"
   ]
  },
  {
   "cell_type": "code",
   "execution_count": null,
   "metadata": {
    "collapsed": true
   },
   "outputs": [],
   "source": []
  }
 ],
 "metadata": {
  "kernelspec": {
   "display_name": "Python 2",
   "language": "python",
   "name": "python2"
  },
  "language_info": {
   "codemirror_mode": {
    "name": "ipython",
    "version": 2
   },
   "file_extension": ".py",
   "mimetype": "text/x-python",
   "name": "python",
   "nbconvert_exporter": "python",
   "pygments_lexer": "ipython2",
   "version": "2.7.12"
  }
 },
 "nbformat": 4,
 "nbformat_minor": 0
}
