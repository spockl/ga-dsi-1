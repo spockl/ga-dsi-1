{
 "cells": [
  {
   "cell_type": "code",
   "execution_count": 71,
   "metadata": {
    "ExecuteTime": {
     "end_time": "2016-10-17T19:54:06.759470",
     "start_time": "2016-10-17T19:54:06.657766"
    },
    "collapsed": true
   },
   "outputs": [],
   "source": [
    "import requests\n",
    "import bs4\n",
    "from bs4 import BeautifulSoup\n",
    "from selenium import webdriver\n",
    "\n",
    "import pandas as pd\n",
    "\n",
    "import numpy as np\n",
    "\n",
    "import seaborn as sns\n",
    "import matplotlib.pyplot as plt\n",
    "%matplotlib inline\n",
    "\n",
    "path_phantom = '//Applications/phantomjs'\n",
    "\n",
    "from sklearn.feature_extraction.text import CountVectorizer\n",
    "\n",
    "from sklearn.linear_model import LogisticRegressionCV, LogisticRegression\n",
    "\n",
    "from wordcloud import WordCloud, ImageColorGenerator, get_single_color_func"
   ]
  },
  {
   "cell_type": "code",
   "execution_count": 72,
   "metadata": {
    "ExecuteTime": {
     "end_time": "2016-10-17T19:54:06.873982",
     "start_time": "2016-10-17T19:54:06.762992"
    },
    "collapsed": false
   },
   "outputs": [],
   "source": [
    "cities=pd.read_csv(\"data/Living_Index.csv\")\n",
    "nyse=pd.read_csv(\"data/NYSE.csv\")\n",
    "nasdaq=pd.read_csv(\"data/NASDAQ.csv\")\n",
    "amex=pd.read_csv(\"data/AMEX.csv\")\n",
    "stocks=nyse.append(nasdaq,ignore_index=True).append(amex,ignore_index=True)\n",
    "cities=cities.rename(columns={\"Urban Area\":\"City\"})\n",
    "city_list=[x for x in cities['City']]"
   ]
  },
  {
   "cell_type": "code",
   "execution_count": 73,
   "metadata": {
    "ExecuteTime": {
     "end_time": "2016-10-17T19:54:06.917900",
     "start_time": "2016-10-17T19:54:06.876646"
    },
    "collapsed": false
   },
   "outputs": [],
   "source": [
    "salaries = pd.read_json(\"data/allcities.json\")"
   ]
  },
  {
   "cell_type": "code",
   "execution_count": 74,
   "metadata": {
    "ExecuteTime": {
     "end_time": "2016-10-17T19:54:06.926207",
     "start_time": "2016-10-17T19:54:06.920091"
    },
    "collapsed": false
   },
   "outputs": [
    {
     "data": {
      "text/plain": [
       "1546"
      ]
     },
     "execution_count": 74,
     "metadata": {},
     "output_type": "execute_result"
    }
   ],
   "source": [
    "len(salaries)"
   ]
  },
  {
   "cell_type": "code",
   "execution_count": 75,
   "metadata": {
    "ExecuteTime": {
     "end_time": "2016-10-17T19:54:06.960435",
     "start_time": "2016-10-17T19:54:06.930112"
    },
    "collapsed": false
   },
   "outputs": [],
   "source": [
    "def only_numerics(seq):\n",
    "    seq = seq.split('-')\n",
    "    try:\n",
    "        out = ((int(filter(type(seq[0]).isdigit, seq[0])) + int(filter(type(seq[1]).isdigit, seq[1])))/2)*1000\n",
    "    except:\n",
    "        out = int(filter(type(seq[0]).isdigit, seq[0]))\n",
    "    return out\n",
    "\n",
    "salaries['meanPay'] = salaries['meanPay'].apply(only_numerics)"
   ]
  },
  {
   "cell_type": "code",
   "execution_count": 76,
   "metadata": {
    "ExecuteTime": {
     "end_time": "2016-10-17T19:54:06.988062",
     "start_time": "2016-10-17T19:54:06.964004"
    },
    "collapsed": false
   },
   "outputs": [
    {
     "data": {
      "text/plain": [
       "array([u'Data Scientist', u'Entry Level Data Scientist',\n",
       "       u'Senior Data Scientist', u'Junior Data Scientist',\n",
       "       u'Principal Data Scientist', u'Data Scientist II',\n",
       "       u'Data Scientist I', u'Associate Data Scientist',\n",
       "       u'Chief Data Scientist',\n",
       "       u'Clinical Laboratory Scientist-data Analyst',\n",
       "       u'Senior Data Scientist/Statistician',\n",
       "       u'Scientist, Statistical and Data Sciences',\n",
       "       u'Data Visualization Scientist', u'Staff Data Scientist',\n",
       "       u'Lead Data Scientist', u'Software Engineer (Data Scientist)'], dtype=object)"
      ]
     },
     "execution_count": 76,
     "metadata": {},
     "output_type": "execute_result"
    }
   ],
   "source": [
    "salaries = salaries[salaries.jobTitle.str.contains(\"Intern\") == False]\n",
    "salaries = salaries[salaries.jobTitle.str.contains(\"Hourly\") == False]\n",
    "salaries['jobTitle'].unique()"
   ]
  },
  {
   "cell_type": "code",
   "execution_count": 77,
   "metadata": {
    "ExecuteTime": {
     "end_time": "2016-10-17T19:54:07.077464",
     "start_time": "2016-10-17T19:54:06.991227"
    },
    "collapsed": false
   },
   "outputs": [],
   "source": [
    "salaries['state'] = salaries.city.apply(lambda x: x[-2:])"
   ]
  },
  {
   "cell_type": "markdown",
   "metadata": {},
   "source": [
    "Remove duplicates:"
   ]
  },
  {
   "cell_type": "code",
   "execution_count": 78,
   "metadata": {
    "ExecuteTime": {
     "end_time": "2016-10-17T19:54:07.108002",
     "start_time": "2016-10-17T19:54:07.080628"
    },
    "collapsed": false
   },
   "outputs": [],
   "source": [
    "cities = salaries.groupby(['city', 'state'])['city'].count().to_frame()"
   ]
  },
  {
   "cell_type": "code",
   "execution_count": 79,
   "metadata": {
    "ExecuteTime": {
     "end_time": "2016-10-17T19:54:07.123809",
     "start_time": "2016-10-17T19:54:07.111686"
    },
    "collapsed": false
   },
   "outputs": [],
   "source": [
    "cities.rename(columns={'city': 'count'}, inplace=True)\n",
    "cities.reset_index(inplace=True)"
   ]
  },
  {
   "cell_type": "code",
   "execution_count": 80,
   "metadata": {
    "ExecuteTime": {
     "end_time": "2016-10-17T19:54:07.134784",
     "start_time": "2016-10-17T19:54:07.127201"
    },
    "collapsed": false
   },
   "outputs": [],
   "source": [
    "cities['duplicated'] = cities.duplicated(['count', 'state'], keep=False)"
   ]
  },
  {
   "cell_type": "code",
   "execution_count": 81,
   "metadata": {
    "ExecuteTime": {
     "end_time": "2016-10-17T19:54:07.216496",
     "start_time": "2016-10-17T19:54:07.138069"
    },
    "collapsed": false
   },
   "outputs": [
    {
     "data": {
      "text/html": [
       "<div>\n",
       "<table border=\"1\" class=\"dataframe\">\n",
       "  <thead>\n",
       "    <tr style=\"text-align: right;\">\n",
       "      <th></th>\n",
       "      <th>city</th>\n",
       "      <th>state</th>\n",
       "      <th>count</th>\n",
       "      <th>duplicated</th>\n",
       "    </tr>\n",
       "  </thead>\n",
       "  <tbody>\n",
       "    <tr>\n",
       "      <th>55</th>\n",
       "      <td>Oakland, CA</td>\n",
       "      <td>CA</td>\n",
       "      <td>134</td>\n",
       "      <td>True</td>\n",
       "    </tr>\n",
       "    <tr>\n",
       "      <th>75</th>\n",
       "      <td>San Francisco, CA</td>\n",
       "      <td>CA</td>\n",
       "      <td>134</td>\n",
       "      <td>True</td>\n",
       "    </tr>\n",
       "    <tr>\n",
       "      <th>9</th>\n",
       "      <td>Bradenton, FL</td>\n",
       "      <td>FL</td>\n",
       "      <td>1</td>\n",
       "      <td>True</td>\n",
       "    </tr>\n",
       "    <tr>\n",
       "      <th>78</th>\n",
       "      <td>Sarasota, FL</td>\n",
       "      <td>FL</td>\n",
       "      <td>1</td>\n",
       "      <td>True</td>\n",
       "    </tr>\n",
       "    <tr>\n",
       "      <th>2</th>\n",
       "      <td>Atlanta, GA</td>\n",
       "      <td>GA</td>\n",
       "      <td>42</td>\n",
       "      <td>True</td>\n",
       "    </tr>\n",
       "    <tr>\n",
       "      <th>48</th>\n",
       "      <td>Marietta, GA</td>\n",
       "      <td>GA</td>\n",
       "      <td>42</td>\n",
       "      <td>True</td>\n",
       "    </tr>\n",
       "    <tr>\n",
       "      <th>6</th>\n",
       "      <td>Baton Rouge, LA</td>\n",
       "      <td>LA</td>\n",
       "      <td>2</td>\n",
       "      <td>True</td>\n",
       "    </tr>\n",
       "    <tr>\n",
       "      <th>36</th>\n",
       "      <td>Hammond, LA</td>\n",
       "      <td>LA</td>\n",
       "      <td>2</td>\n",
       "      <td>True</td>\n",
       "    </tr>\n",
       "    <tr>\n",
       "      <th>45</th>\n",
       "      <td>Lafayette, LA</td>\n",
       "      <td>LA</td>\n",
       "      <td>2</td>\n",
       "      <td>True</td>\n",
       "    </tr>\n",
       "    <tr>\n",
       "      <th>50</th>\n",
       "      <td>Minneapolis, MN</td>\n",
       "      <td>MN</td>\n",
       "      <td>11</td>\n",
       "      <td>True</td>\n",
       "    </tr>\n",
       "    <tr>\n",
       "      <th>82</th>\n",
       "      <td>St. Paul, MN</td>\n",
       "      <td>MN</td>\n",
       "      <td>11</td>\n",
       "      <td>True</td>\n",
       "    </tr>\n",
       "    <tr>\n",
       "      <th>12</th>\n",
       "      <td>Chapel Hill, NC</td>\n",
       "      <td>NC</td>\n",
       "      <td>15</td>\n",
       "      <td>True</td>\n",
       "    </tr>\n",
       "    <tr>\n",
       "      <th>29</th>\n",
       "      <td>Durham, NC</td>\n",
       "      <td>NC</td>\n",
       "      <td>15</td>\n",
       "      <td>True</td>\n",
       "    </tr>\n",
       "    <tr>\n",
       "      <th>65</th>\n",
       "      <td>Raleigh, NC</td>\n",
       "      <td>NC</td>\n",
       "      <td>15</td>\n",
       "      <td>True</td>\n",
       "    </tr>\n",
       "    <tr>\n",
       "      <th>46</th>\n",
       "      <td>Las Cruces, NM</td>\n",
       "      <td>NM</td>\n",
       "      <td>1</td>\n",
       "      <td>True</td>\n",
       "    </tr>\n",
       "    <tr>\n",
       "      <th>67</th>\n",
       "      <td>Rio Rancho, NM</td>\n",
       "      <td>NM</td>\n",
       "      <td>1</td>\n",
       "      <td>True</td>\n",
       "    </tr>\n",
       "    <tr>\n",
       "      <th>0</th>\n",
       "      <td>Albany, NY</td>\n",
       "      <td>NY</td>\n",
       "      <td>1</td>\n",
       "      <td>True</td>\n",
       "    </tr>\n",
       "    <tr>\n",
       "      <th>10</th>\n",
       "      <td>Buffalo, NY</td>\n",
       "      <td>NY</td>\n",
       "      <td>1</td>\n",
       "      <td>True</td>\n",
       "    </tr>\n",
       "    <tr>\n",
       "      <th>85</th>\n",
       "      <td>Syracuse, NY</td>\n",
       "      <td>NY</td>\n",
       "      <td>1</td>\n",
       "      <td>True</td>\n",
       "    </tr>\n",
       "    <tr>\n",
       "      <th>16</th>\n",
       "      <td>Cincinnati, OH</td>\n",
       "      <td>OH</td>\n",
       "      <td>5</td>\n",
       "      <td>True</td>\n",
       "    </tr>\n",
       "    <tr>\n",
       "      <th>17</th>\n",
       "      <td>Cleveland, OH</td>\n",
       "      <td>OH</td>\n",
       "      <td>5</td>\n",
       "      <td>True</td>\n",
       "    </tr>\n",
       "    <tr>\n",
       "      <th>11</th>\n",
       "      <td>Camden, SC</td>\n",
       "      <td>SC</td>\n",
       "      <td>1</td>\n",
       "      <td>True</td>\n",
       "    </tr>\n",
       "    <tr>\n",
       "      <th>19</th>\n",
       "      <td>Columbia, SC</td>\n",
       "      <td>SC</td>\n",
       "      <td>1</td>\n",
       "      <td>True</td>\n",
       "    </tr>\n",
       "    <tr>\n",
       "      <th>84</th>\n",
       "      <td>Sumter, SC</td>\n",
       "      <td>SC</td>\n",
       "      <td>1</td>\n",
       "      <td>True</td>\n",
       "    </tr>\n",
       "    <tr>\n",
       "      <th>44</th>\n",
       "      <td>Knoxville, TN</td>\n",
       "      <td>TN</td>\n",
       "      <td>2</td>\n",
       "      <td>True</td>\n",
       "    </tr>\n",
       "    <tr>\n",
       "      <th>52</th>\n",
       "      <td>Morristown, TN</td>\n",
       "      <td>TN</td>\n",
       "      <td>2</td>\n",
       "      <td>True</td>\n",
       "    </tr>\n",
       "    <tr>\n",
       "      <th>73</th>\n",
       "      <td>San Antonio, TX</td>\n",
       "      <td>TX</td>\n",
       "      <td>3</td>\n",
       "      <td>True</td>\n",
       "    </tr>\n",
       "    <tr>\n",
       "      <th>80</th>\n",
       "      <td>Seguin, TX</td>\n",
       "      <td>TX</td>\n",
       "      <td>3</td>\n",
       "      <td>True</td>\n",
       "    </tr>\n",
       "    <tr>\n",
       "      <th>21</th>\n",
       "      <td>Conroe, TX</td>\n",
       "      <td>TX</td>\n",
       "      <td>16</td>\n",
       "      <td>True</td>\n",
       "    </tr>\n",
       "    <tr>\n",
       "      <th>40</th>\n",
       "      <td>Houston, TX</td>\n",
       "      <td>TX</td>\n",
       "      <td>16</td>\n",
       "      <td>True</td>\n",
       "    </tr>\n",
       "    <tr>\n",
       "      <th>3</th>\n",
       "      <td>Austin, TX</td>\n",
       "      <td>TX</td>\n",
       "      <td>26</td>\n",
       "      <td>True</td>\n",
       "    </tr>\n",
       "    <tr>\n",
       "      <th>70</th>\n",
       "      <td>Round Rock, TX</td>\n",
       "      <td>TX</td>\n",
       "      <td>26</td>\n",
       "      <td>True</td>\n",
       "    </tr>\n",
       "    <tr>\n",
       "      <th>77</th>\n",
       "      <td>San Marcos, TX</td>\n",
       "      <td>TX</td>\n",
       "      <td>26</td>\n",
       "      <td>True</td>\n",
       "    </tr>\n",
       "    <tr>\n",
       "      <th>1</th>\n",
       "      <td>Arlington, TX</td>\n",
       "      <td>TX</td>\n",
       "      <td>39</td>\n",
       "      <td>True</td>\n",
       "    </tr>\n",
       "    <tr>\n",
       "      <th>24</th>\n",
       "      <td>Dallas, TX</td>\n",
       "      <td>TX</td>\n",
       "      <td>39</td>\n",
       "      <td>True</td>\n",
       "    </tr>\n",
       "    <tr>\n",
       "      <th>34</th>\n",
       "      <td>Fort Worth, TX</td>\n",
       "      <td>TX</td>\n",
       "      <td>39</td>\n",
       "      <td>True</td>\n",
       "    </tr>\n",
       "    <tr>\n",
       "      <th>61</th>\n",
       "      <td>Plano, TX</td>\n",
       "      <td>TX</td>\n",
       "      <td>39</td>\n",
       "      <td>True</td>\n",
       "    </tr>\n",
       "    <tr>\n",
       "      <th>89</th>\n",
       "      <td>Weatherford, TX</td>\n",
       "      <td>TX</td>\n",
       "      <td>39</td>\n",
       "      <td>True</td>\n",
       "    </tr>\n",
       "    <tr>\n",
       "      <th>30</th>\n",
       "      <td>Everett, WA</td>\n",
       "      <td>WA</td>\n",
       "      <td>45</td>\n",
       "      <td>True</td>\n",
       "    </tr>\n",
       "    <tr>\n",
       "      <th>79</th>\n",
       "      <td>Seattle, WA</td>\n",
       "      <td>WA</td>\n",
       "      <td>45</td>\n",
       "      <td>True</td>\n",
       "    </tr>\n",
       "    <tr>\n",
       "      <th>86</th>\n",
       "      <td>Tacoma, WA</td>\n",
       "      <td>WA</td>\n",
       "      <td>45</td>\n",
       "      <td>True</td>\n",
       "    </tr>\n",
       "  </tbody>\n",
       "</table>\n",
       "</div>"
      ],
      "text/plain": [
       "                 city state  count duplicated\n",
       "55        Oakland, CA    CA    134       True\n",
       "75  San Francisco, CA    CA    134       True\n",
       "9       Bradenton, FL    FL      1       True\n",
       "78       Sarasota, FL    FL      1       True\n",
       "2         Atlanta, GA    GA     42       True\n",
       "48       Marietta, GA    GA     42       True\n",
       "6     Baton Rouge, LA    LA      2       True\n",
       "36        Hammond, LA    LA      2       True\n",
       "45      Lafayette, LA    LA      2       True\n",
       "50    Minneapolis, MN    MN     11       True\n",
       "82       St. Paul, MN    MN     11       True\n",
       "12    Chapel Hill, NC    NC     15       True\n",
       "29         Durham, NC    NC     15       True\n",
       "65        Raleigh, NC    NC     15       True\n",
       "46     Las Cruces, NM    NM      1       True\n",
       "67     Rio Rancho, NM    NM      1       True\n",
       "0          Albany, NY    NY      1       True\n",
       "10        Buffalo, NY    NY      1       True\n",
       "85       Syracuse, NY    NY      1       True\n",
       "16     Cincinnati, OH    OH      5       True\n",
       "17      Cleveland, OH    OH      5       True\n",
       "11         Camden, SC    SC      1       True\n",
       "19       Columbia, SC    SC      1       True\n",
       "84         Sumter, SC    SC      1       True\n",
       "44      Knoxville, TN    TN      2       True\n",
       "52     Morristown, TN    TN      2       True\n",
       "73    San Antonio, TX    TX      3       True\n",
       "80         Seguin, TX    TX      3       True\n",
       "21         Conroe, TX    TX     16       True\n",
       "40        Houston, TX    TX     16       True\n",
       "3          Austin, TX    TX     26       True\n",
       "70     Round Rock, TX    TX     26       True\n",
       "77     San Marcos, TX    TX     26       True\n",
       "1       Arlington, TX    TX     39       True\n",
       "24         Dallas, TX    TX     39       True\n",
       "34     Fort Worth, TX    TX     39       True\n",
       "61          Plano, TX    TX     39       True\n",
       "89    Weatherford, TX    TX     39       True\n",
       "30        Everett, WA    WA     45       True\n",
       "79        Seattle, WA    WA     45       True\n",
       "86         Tacoma, WA    WA     45       True"
      ]
     },
     "execution_count": 81,
     "metadata": {},
     "output_type": "execute_result"
    }
   ],
   "source": [
    "cities[cities['duplicated']==True].sort_values(by=['state','count'])"
   ]
  },
  {
   "cell_type": "code",
   "execution_count": 82,
   "metadata": {
    "ExecuteTime": {
     "end_time": "2016-10-17T19:54:07.225310",
     "start_time": "2016-10-17T19:54:07.220124"
    },
    "collapsed": false
   },
   "outputs": [],
   "source": [
    "# What to remove:\n",
    "removables = ['Everett, WA', 'Tacoma, WA', 'Weatherford, TX', 'Plano, TX', 'Fort Worth, TX', 'Arlington, TX', 'San Marcos, TX', 'Round Rock, TX', 'Conroe, TX', 'Seguin, TX', 'Morristown, TN', 'Sumter, SC', 'Camden, SC', 'Durham, NC', 'Chapel Hill, NC', 'St. Paul, MN', 'Hammond, LA', 'Marietta, GA', 'Bradenton, FL', 'Oakland, CA']"
   ]
  },
  {
   "cell_type": "code",
   "execution_count": 83,
   "metadata": {
    "ExecuteTime": {
     "end_time": "2016-10-17T19:54:07.237410",
     "start_time": "2016-10-17T19:54:07.228422"
    },
    "collapsed": false
   },
   "outputs": [],
   "source": [
    "salaries = salaries[~salaries['city'].isin(removables)]\n",
    "salaries.reset_index(inplace=True)\n",
    "del salaries['index']"
   ]
  },
  {
   "cell_type": "markdown",
   "metadata": {},
   "source": [
    "Remove state name from city"
   ]
  },
  {
   "cell_type": "code",
   "execution_count": 84,
   "metadata": {
    "ExecuteTime": {
     "end_time": "2016-10-17T19:54:07.309706",
     "start_time": "2016-10-17T19:54:07.240363"
    },
    "collapsed": false
   },
   "outputs": [],
   "source": [
    "salaries['city'] = salaries.city.apply(lambda x: x[:-4])"
   ]
  },
  {
   "cell_type": "markdown",
   "metadata": {},
   "source": [
    "Rearrange state to be next to city"
   ]
  },
  {
   "cell_type": "code",
   "execution_count": 90,
   "metadata": {
    "ExecuteTime": {
     "end_time": "2016-10-17T20:00:22.400127",
     "start_time": "2016-10-17T20:00:22.386284"
    },
    "collapsed": false
   },
   "outputs": [
    {
     "data": {
      "text/plain": [
       "array([u'GE', u'CareerBuilder', u'NCR', u'The Home Depot', u'Feedzai',\n",
       "       u'IBM', u'Booz Allen Hamilton', u'PwC',\n",
       "       u'Cognizant Technology Solutions', u'Rang Technologies', u'KPMG',\n",
       "       u'Gallup', u'Hewlett Packard Enterprise | HPE', u'Verizon',\n",
       "       u'Verizon Wireless', u'Fractal Analytics', u'Equifax',\n",
       "       u'Northrop Grumman', u'ADP', u'Kabbage', u'Citi', u'Honeywell',\n",
       "       u'Intuitive Surgical', u'AT&T', u'Cox Enterprises', u'Hearst',\n",
       "       u\"Macy's\", u'Bank of America', u'Exponent', u'Razorfish',\n",
       "       u'Market Strategies International', u'Experian', u'Think Big',\n",
       "       u'Square Root', u'Adometry', u'Vast', u'Facebook', u'Apple',\n",
       "       u'Amazon.com', u'eBay', u'Visa Inc.', u'NTT DATA', u'Zynga',\n",
       "       u'General Motors', u'The Advisory Board Company',\n",
       "       u'Clockwork Solutions', u'Intel Corporation', u'MaxPoint', u'Dell',\n",
       "       u'Cisco Systems', u'Philips', u'MITRE', u'CORMAC', u'Nielsen',\n",
       "       u'US Department of Defense', u'General Dynamics Mission Systems',\n",
       "       u'Micron Technology', u'Wayfair', u'TripAdvisor', u'TrueMotion',\n",
       "       u'DataXu', u'PayPal', u'Tremor Video', u'Microsoft', u'Altisource',\n",
       "       u'Vantiv', u'Autodesk', u'Brown University',\n",
       "       u'Boston Consulting Group', u'Ciber', u'Nokia', u'Aptima',\n",
       "       u'Alliance Data', u'Epsilon', u'Blackbaud',\n",
       "       u'Sapient Global Markets', u'GoDaddy', u'ViaSat', u'NVIDIA',\n",
       "       u'Novartis Pharmaceuticals', u'Spotify', u'ACI Worldwide',\n",
       "       u'Biogen', u'Tiger Analytics', u'Akamai', u'YuMe', u'FIS',\n",
       "       u'BNY Mellon', u'Fuzzy Logix', u'MetLife', u'Marketing Associates',\n",
       "       u'Elder Research', u'BAE Systems USA', u'MDA IS',\n",
       "       u'Civis Analytics', u'Allstate', u'Uptake', u'Datascope Analytics',\n",
       "       u'Uber', u'Google', u'EMC', u'Motorola Mobility', u'GrubHub',\n",
       "       u'HERE', u'Capital One', u'Hewlett-Packard', u'Groupon', u'SAP',\n",
       "       u'Avanade', u'CNA', u'ShopperTrak', u'Anthem', u'Hertz',\n",
       "       u'84.51\\xb0', u'The Nerdery', u'Expedia', u'IPG Mediabrands',\n",
       "       u'Kemper', u'Gannett', u'SuccessFactors', u'Crowe Horwath',\n",
       "       u'DialogTech', u'Conversant', u'Seamless', u'NPD', u'Avant',\n",
       "       u'Navistar', u'Zurich North America', u'ThoughtWorks', u'Explorys',\n",
       "       u'Atos', u'Raytheon', u'J.P. Morgan', u'Chase', u'State Farm',\n",
       "       u'Match', u'Hudl', u'Lockheed Martin', u'Leidos', u'Humana',\n",
       "       u'Infovision', u'Toyota North America', u'Argo Data',\n",
       "       u'Elevate Credit', u'Engility', u'Oracle', u'SpotX',\n",
       "       u'Anadarko Petroleum', u'Molson Coors', u'DISH',\n",
       "       u'Journal Register', u'MediaNews', u'Digital First Media',\n",
       "       u'DuPont', u'Businessolver', u'Quicken Loans',\n",
       "       u'Ford Motor Company', u'IHS', u'Tata Consultancy Services',\n",
       "       u'Walmart', u'SAIC', u'Ascensus', u'Accenture', u'ING',\n",
       "       u'C&S Wholesale Grocers', u'The Hartford', u'Schlumberger',\n",
       "       u'Chevron', u'Equinix', u'McKinsey & Company', u'Salesforce',\n",
       "       u'MECLABS', u'Florida Blue', u'CGI', u'Altamira Technologies',\n",
       "       u'Live Nation Entertainment', u'Thomson Reuters', u'Cargill',\n",
       "       u'Target', u'NativeX', u'AIG', u'Knewton', u'Audible',\n",
       "       u'Case Commons', u'EBH Enterprises', u'Bloomberg L.P.',\n",
       "       u'Credit Suisse', u'1010data', u'Oscar Insurance', u'OnDeck',\n",
       "       u'Marketing Evolution', u'DemystData', u'Integral Ad Science',\n",
       "       u'American Express', u'Paperless Post', u'Time Inc.', u'ConsultAdd',\n",
       "       u'Intent Media', u'American Express TRS', u'Outbrain',\n",
       "       u'Pandora Media', u'Palantir Technologies', u'Chubb', u'FINRA',\n",
       "       u'MasterCard', u'CA Technologies', u'AppNexus', u'Twitter',\n",
       "       u'Comcast', u'Huawei Technologies', u'Lightpath', u'HookLogic',\n",
       "       u'World Wrestling Entertainment', u'comScore',\n",
       "       u'Insurance Services Office', u'AOL', u'Morgan Stanley',\n",
       "       u'Fidelity Investments', u'Etsy', u'Dealer.com', u'Birchbox',\n",
       "       u'Verisk Analytics', u'Chegg', u'Aetna', u'Pivotal', u'2U',\n",
       "       u'Assero Services', u'QuintilesIMS', u'PRA Health Sciences',\n",
       "       u'L-3 Communications', u'Amazon Lab126', u'LinkedIn', u'PNNL',\n",
       "       u'GitHub', u'McAfee', u'SAS Institute', u'Parsons Brinckerhoff',\n",
       "       u'Vistronix', u'Snagajob', u'Neustar', u'Engage3',\n",
       "       u'Monsanto Company', u'Zions Bancorporation',\n",
       "       u'IM Flash Technologies', u'FICO', u'Teradata', u'Intuit',\n",
       "       u'FocusKPI, Inc.', u'CoreLogic', u'QinetiQ North America',\n",
       "       u'Thermo Fisher Scientific', u'Airbnb', u'Lumiata', u'StumbleUpon',\n",
       "       u'Practice Fusion', u'Zillow', u'Ayasdi', u'AutoGrid',\n",
       "       u'RichRelevance', u'Premise Data Corporation', u'6sense', u'Kixeye',\n",
       "       u'Glassdoor', u'Asana', u'Alpine Data Labs', u'Square', u'Esurance',\n",
       "       u'Stitch Fix', u'Tesla Motors', u'Trulia', u'Gap', u'Tapjoy',\n",
       "       u'Zephyr Health', u'Conviva', u'Tagged', u'Apollo Education Group',\n",
       "       u'GREE International Entertainment', u'Symantec', u'TrueCar',\n",
       "       u\"Kohl's\", u'SocialCode', u'Hotwire', u'Rocket Fuel', u'TellApart',\n",
       "       u'Monogram Biosciences', u'Eventbrite', u'Walmart eCommerce',\n",
       "       u'Ancestry.com', u'ZestFinance', u'Adobe', u'Riverbed Technology',\n",
       "       u'AgilOne', u'IMVU', u'Quora, Inc.', u'Dhingana', u'Seti Institute',\n",
       "       u'Bidgely', u'1618Labs', u'Infosys', u'Yahoo', u'Fujitsu',\n",
       "       u'ServiceNow', u'Netflix', u'BCG Digital Ventures', u'ZEFR',\n",
       "       u'Nordstrom', u'Voicebox Technologies', u'Redfin', u'Boeing',\n",
       "       u'Xerox', u'SRC'], dtype=object)"
      ]
     },
     "execution_count": 90,
     "metadata": {},
     "output_type": "execute_result"
    }
   ],
   "source": [
    "cols = ['city', 'state', 'company', 'jobTitle', 'meanPay']\n",
    "salaries = salaries[cols]\n",
    "salaries.company.unique()"
   ]
  },
  {
   "cell_type": "code",
   "execution_count": 86,
   "metadata": {
    "ExecuteTime": {
     "end_time": "2016-10-17T19:54:07.368807",
     "start_time": "2016-10-17T19:54:07.331774"
    },
    "collapsed": false
   },
   "outputs": [
    {
     "data": {
      "text/html": [
       "<div>\n",
       "<table border=\"1\" class=\"dataframe\">\n",
       "  <thead>\n",
       "    <tr style=\"text-align: right;\">\n",
       "      <th></th>\n",
       "      <th>city</th>\n",
       "      <th>state</th>\n",
       "      <th>company</th>\n",
       "      <th>jobTitle</th>\n",
       "      <th>meanPay</th>\n",
       "    </tr>\n",
       "  </thead>\n",
       "  <tbody>\n",
       "    <tr>\n",
       "      <th>214</th>\n",
       "      <td>Cincinnati</td>\n",
       "      <td>OH</td>\n",
       "      <td>84.51°</td>\n",
       "      <td>Data Scientist</td>\n",
       "      <td>102000</td>\n",
       "    </tr>\n",
       "    <tr>\n",
       "      <th>215</th>\n",
       "      <td>Cincinnati</td>\n",
       "      <td>OH</td>\n",
       "      <td>Booz Allen Hamilton</td>\n",
       "      <td>Data Scientist</td>\n",
       "      <td>73000</td>\n",
       "    </tr>\n",
       "    <tr>\n",
       "      <th>216</th>\n",
       "      <td>Cincinnati</td>\n",
       "      <td>OH</td>\n",
       "      <td>GE</td>\n",
       "      <td>Data Scientist</td>\n",
       "      <td>110000</td>\n",
       "    </tr>\n",
       "    <tr>\n",
       "      <th>217</th>\n",
       "      <td>Cincinnati</td>\n",
       "      <td>OH</td>\n",
       "      <td>Vantiv</td>\n",
       "      <td>Data Scientist</td>\n",
       "      <td>88000</td>\n",
       "    </tr>\n",
       "    <tr>\n",
       "      <th>218</th>\n",
       "      <td>Cincinnati</td>\n",
       "      <td>OH</td>\n",
       "      <td>GE</td>\n",
       "      <td>Senior Data Scientist</td>\n",
       "      <td>124000</td>\n",
       "    </tr>\n",
       "  </tbody>\n",
       "</table>\n",
       "</div>"
      ],
      "text/plain": [
       "           city state              company               jobTitle  meanPay\n",
       "214  Cincinnati    OH               84.51°         Data Scientist   102000\n",
       "215  Cincinnati    OH  Booz Allen Hamilton         Data Scientist    73000\n",
       "216  Cincinnati    OH                   GE         Data Scientist   110000\n",
       "217  Cincinnati    OH               Vantiv         Data Scientist    88000\n",
       "218  Cincinnati    OH                   GE  Senior Data Scientist   124000"
      ]
     },
     "execution_count": 86,
     "metadata": {},
     "output_type": "execute_result"
    }
   ],
   "source": [
    "salaries[salaries['city'] == 'Cincinnati']"
   ]
  },
  {
   "cell_type": "markdown",
   "metadata": {},
   "source": [
    "# Getting job descriptions from Indeed"
   ]
  },
  {
   "cell_type": "code",
   "execution_count": 20,
   "metadata": {
    "ExecuteTime": {
     "end_time": "2016-10-17T19:34:50.873923",
     "start_time": "2016-10-17T19:34:50.831250"
    },
    "collapsed": true
   },
   "outputs": [],
   "source": [
    "## YOUR CODE HERE\n",
    "def extract_location_from_result(result):\n",
    "    try:\n",
    "        location = result.find('span', class_='location').text.strip()\n",
    "    except:\n",
    "        location = ''\n",
    "    return location\n",
    "\n",
    "def extract_title_from_result(result):\n",
    "    try:\n",
    "        job_title = result.find('a', class_='jobtitle').text.strip('\\n')\n",
    "    except:\n",
    "        try:\n",
    "            job_title = result.find('h2', class_='jobtitle').text.strip('\\n')\n",
    "        except:\n",
    "            job_title = ''\n",
    "    return job_title\n",
    "\n",
    "def extract_summary_from_result(result):\n",
    "    try:\n",
    "        summary = result.find('span', class_='summary').text.strip()\n",
    "    except:\n",
    "        summary = ''\n",
    "    return summary\n",
    "\n",
    "def extract_company_from_result(result):\n",
    "    try:\n",
    "        company = result.find('span', class_='company').text.strip()\n",
    "    except:\n",
    "        company = ''\n",
    "    return company\n",
    "\n",
    "def extract_reviews_from_result(result):\n",
    "    try:\n",
    "        sub = result.find('span', class_='slNoUnderline').text.strip()\n",
    "        if 'review' in sub:\n",
    "            reviews = sub.split()[0]\n",
    "    except:\n",
    "        reviews = ''\n",
    "    return reviews\n",
    "\n",
    "def extract_salary_from_result(result):\n",
    "    try:\n",
    "        salary = result.find('td', class_='snip').find('nobr').text.strip()\n",
    "#         salary_text = salary_text.split()\n",
    "#         salary = float(salary_text[0].strip('$').replace(',',''))\n",
    "    except:\n",
    "        salary = ''\n",
    "    return salary\n",
    "\n",
    "def get_all_details(result):\n",
    "#     if extract_salary_from_result(result) != '':\n",
    "    return [extract_title_from_result(result),\\\n",
    "            extract_company_from_result(result),\\\n",
    "            extract_location_from_result(result),\\\n",
    "            extract_summary_from_result(result)]\n",
    "           # extract_salary_from_result(result)]\n",
    "#     else:\n",
    "#         return 'skip'"
   ]
  },
  {
   "cell_type": "code",
   "execution_count": 88,
   "metadata": {
    "ExecuteTime": {
     "end_time": "2016-10-17T19:59:44.240375",
     "start_time": "2016-10-17T19:59:44.229075"
    },
    "collapsed": false
   },
   "outputs": [],
   "source": [
    "search_list = [['+'.join(x[0].split(' ')), x[1], '+'.join((x[3] + ' ' + x[2]).split(' '))] for x in \\\n",
    "              zip(salaries['city'], salaries['state'], salaries['company'],salaries['jobTitle'])]"
   ]
  },
  {
   "cell_type": "raw",
   "metadata": {
    "ExecuteTime": {
     "end_time": "2016-10-17T20:03:53.032644",
     "start_time": "2016-10-17T20:03:52.805058"
    }
   },
   "source": [
    "search_list"
   ]
  },
  {
   "cell_type": "code",
   "execution_count": 101,
   "metadata": {
    "ExecuteTime": {
     "end_time": "2016-10-17T20:04:51.247355",
     "start_time": "2016-10-17T20:04:51.241177"
    },
    "collapsed": false
   },
   "outputs": [],
   "source": [
    "for i in range(len(search_list)):\n",
    "    if '84.51' in search_list[i][2]:\n",
    "        search_list[i][2] = search_list[i][2][:-1]"
   ]
  },
  {
   "cell_type": "code",
   "execution_count": 105,
   "metadata": {
    "ExecuteTime": {
     "end_time": "2016-10-17T20:05:40.574747",
     "start_time": "2016-10-17T20:05:39.470570"
    },
    "collapsed": false
   },
   "outputs": [],
   "source": [
    "url_template = 'http://www.indeed.com/jobs?q={}&l={}%2C+{}'\n",
    "results = []\n",
    "driver = webdriver.PhantomJS(executable_path=path_phantom)"
   ]
  },
  {
   "cell_type": "code",
   "execution_count": 106,
   "metadata": {
    "ExecuteTime": {
     "end_time": "2016-10-17T20:14:34.849397",
     "start_time": "2016-10-17T20:05:41.724960"
    },
    "collapsed": false
   },
   "outputs": [],
   "source": [
    "for i in search_list:\n",
    "    full_url = url_template.format(i[2], i[1], i[0])\n",
    "    driver.get(full_url)\n",
    "    soup = BeautifulSoup(driver.page_source, 'lxml')\n",
    "    # Append to the full set of results\n",
    "    out = get_all_details(soup.find('div', class_='result'))\n",
    "    out.extend(i)\n",
    "    results.append(out)\n",
    "#         pass"
   ]
  },
  {
   "cell_type": "code",
   "execution_count": 111,
   "metadata": {
    "ExecuteTime": {
     "end_time": "2016-10-17T20:16:22.956379",
     "start_time": "2016-10-17T20:16:22.906347"
    },
    "collapsed": false
   },
   "outputs": [
    {
     "data": {
      "text/html": [
       "<div>\n",
       "<table border=\"1\" class=\"dataframe\">\n",
       "  <thead>\n",
       "    <tr style=\"text-align: right;\">\n",
       "      <th></th>\n",
       "      <th>0</th>\n",
       "      <th>1</th>\n",
       "      <th>2</th>\n",
       "      <th>3</th>\n",
       "      <th>4</th>\n",
       "      <th>5</th>\n",
       "      <th>6</th>\n",
       "      <th>7</th>\n",
       "    </tr>\n",
       "  </thead>\n",
       "  <tbody>\n",
       "    <tr>\n",
       "      <th>0</th>\n",
       "      <td>Bioinformatics Data Scientist</td>\n",
       "      <td>GE Corporate</td>\n",
       "      <td>Niskayuna, NY</td>\n",
       "      <td>As a Data Scientist, you will:. Work with a te...</td>\n",
       "      <td></td>\n",
       "      <td>Albany</td>\n",
       "      <td>NY</td>\n",
       "      <td>Data+Scientist+GE</td>\n",
       "    </tr>\n",
       "    <tr>\n",
       "      <th>1</th>\n",
       "      <td>Data Scientist (Data Science R&amp;D)</td>\n",
       "      <td>CareerBuilder</td>\n",
       "      <td>Norcross, GA 30092</td>\n",
       "      <td>Data Scientist (Data Science R&amp;D). The team al...</td>\n",
       "      <td>$10,000 a year</td>\n",
       "      <td>Atlanta</td>\n",
       "      <td>GA</td>\n",
       "      <td>Data+Scientist+CareerBuilder</td>\n",
       "    </tr>\n",
       "    <tr>\n",
       "      <th>2</th>\n",
       "      <td>Data Scientist-1</td>\n",
       "      <td>NCR</td>\n",
       "      <td>Duluth, GA 30096</td>\n",
       "      <td>NCR (. About NCR Corporation. NCR only accepts...</td>\n",
       "      <td></td>\n",
       "      <td>Atlanta</td>\n",
       "      <td>GA</td>\n",
       "      <td>Data+Scientist+NCR</td>\n",
       "    </tr>\n",
       "    <tr>\n",
       "      <th>3</th>\n",
       "      <td>DATA SCIENTIST</td>\n",
       "      <td>Home Depot</td>\n",
       "      <td>Atlanta, GA 30354</td>\n",
       "      <td>Strong communication and data presentation ski...</td>\n",
       "      <td></td>\n",
       "      <td>Atlanta</td>\n",
       "      <td>GA</td>\n",
       "      <td>Data+Scientist+The+Home+Depot</td>\n",
       "    </tr>\n",
       "    <tr>\n",
       "      <th>4</th>\n",
       "      <td>Data Scientist</td>\n",
       "      <td>Feedzai</td>\n",
       "      <td>Atlanta, GA</td>\n",
       "      <td>Feedzai is an Equal Opportunity Employer. If y...</td>\n",
       "      <td></td>\n",
       "      <td>Atlanta</td>\n",
       "      <td>GA</td>\n",
       "      <td>Data+Scientist+Feedzai</td>\n",
       "    </tr>\n",
       "  </tbody>\n",
       "</table>\n",
       "</div>"
      ],
      "text/plain": [
       "                                   0              1                   2  \\\n",
       "0      Bioinformatics Data Scientist   GE Corporate       Niskayuna, NY   \n",
       "1  Data Scientist (Data Science R&D)  CareerBuilder  Norcross, GA 30092   \n",
       "2                   Data Scientist-1            NCR    Duluth, GA 30096   \n",
       "3                     DATA SCIENTIST     Home Depot   Atlanta, GA 30354   \n",
       "4                     Data Scientist        Feedzai         Atlanta, GA   \n",
       "\n",
       "                                                   3               4        5  \\\n",
       "0  As a Data Scientist, you will:. Work with a te...                   Albany   \n",
       "1  Data Scientist (Data Science R&D). The team al...  $10,000 a year  Atlanta   \n",
       "2  NCR (. About NCR Corporation. NCR only accepts...                  Atlanta   \n",
       "3  Strong communication and data presentation ski...                  Atlanta   \n",
       "4  Feedzai is an Equal Opportunity Employer. If y...                  Atlanta   \n",
       "\n",
       "    6                              7  \n",
       "0  NY              Data+Scientist+GE  \n",
       "1  GA   Data+Scientist+CareerBuilder  \n",
       "2  GA             Data+Scientist+NCR  \n",
       "3  GA  Data+Scientist+The+Home+Depot  \n",
       "4  GA         Data+Scientist+Feedzai  "
      ]
     },
     "execution_count": 111,
     "metadata": {},
     "output_type": "execute_result"
    }
   ],
   "source": [
    "indeed_df = pd.DataFrame(results)\n",
    "indeed_df.head()"
   ]
  },
  {
   "cell_type": "code",
   "execution_count": 112,
   "metadata": {
    "ExecuteTime": {
     "end_time": "2016-10-17T20:17:21.004814",
     "start_time": "2016-10-17T20:17:20.999123"
    },
    "collapsed": true
   },
   "outputs": [],
   "source": [
    "indeed_df.columns = ['title', 'company', 'location', 'description',\\\n",
    "                     'drop', 'search_city', 'search_state', 'search_title_company']"
   ]
  },
  {
   "cell_type": "code",
   "execution_count": 120,
   "metadata": {
    "ExecuteTime": {
     "end_time": "2016-10-17T20:20:44.391888",
     "start_time": "2016-10-17T20:20:44.302264"
    },
    "collapsed": false
   },
   "outputs": [
    {
     "data": {
      "text/html": [
       "<div>\n",
       "<table border=\"1\" class=\"dataframe\">\n",
       "  <thead>\n",
       "    <tr style=\"text-align: right;\">\n",
       "      <th></th>\n",
       "      <th>title</th>\n",
       "      <th>company</th>\n",
       "      <th>location</th>\n",
       "      <th>description</th>\n",
       "      <th>drop</th>\n",
       "      <th>search_city</th>\n",
       "      <th>search_state</th>\n",
       "      <th>search_title_company</th>\n",
       "      <th>city</th>\n",
       "      <th>in_city</th>\n",
       "    </tr>\n",
       "  </thead>\n",
       "  <tbody>\n",
       "    <tr>\n",
       "      <th>0</th>\n",
       "      <td>Bioinformatics Data Scientist</td>\n",
       "      <td>GE Corporate</td>\n",
       "      <td>Niskayuna, NY</td>\n",
       "      <td>As a Data Scientist, you will:. Work with a te...</td>\n",
       "      <td></td>\n",
       "      <td>Albany</td>\n",
       "      <td>NY</td>\n",
       "      <td>Data+Scientist+GE</td>\n",
       "      <td>Niskayuna</td>\n",
       "      <td>Niskayuna</td>\n",
       "    </tr>\n",
       "    <tr>\n",
       "      <th>1</th>\n",
       "      <td>Data Scientist (Data Science R&amp;D)</td>\n",
       "      <td>CareerBuilder</td>\n",
       "      <td>Norcross, GA 30092</td>\n",
       "      <td>Data Scientist (Data Science R&amp;D). The team al...</td>\n",
       "      <td>$10,000 a year</td>\n",
       "      <td>Atlanta</td>\n",
       "      <td>GA</td>\n",
       "      <td>Data+Scientist+CareerBuilder</td>\n",
       "      <td>Norcross</td>\n",
       "      <td>Norcross</td>\n",
       "    </tr>\n",
       "    <tr>\n",
       "      <th>2</th>\n",
       "      <td>Data Scientist-1</td>\n",
       "      <td>NCR</td>\n",
       "      <td>Duluth, GA 30096</td>\n",
       "      <td>NCR (. About NCR Corporation. NCR only accepts...</td>\n",
       "      <td></td>\n",
       "      <td>Atlanta</td>\n",
       "      <td>GA</td>\n",
       "      <td>Data+Scientist+NCR</td>\n",
       "      <td>Duluth</td>\n",
       "      <td>Duluth</td>\n",
       "    </tr>\n",
       "    <tr>\n",
       "      <th>3</th>\n",
       "      <td>DATA SCIENTIST</td>\n",
       "      <td>Home Depot</td>\n",
       "      <td>Atlanta, GA 30354</td>\n",
       "      <td>Strong communication and data presentation ski...</td>\n",
       "      <td></td>\n",
       "      <td>Atlanta</td>\n",
       "      <td>GA</td>\n",
       "      <td>Data+Scientist+The+Home+Depot</td>\n",
       "      <td>Atlanta</td>\n",
       "      <td>Atlanta</td>\n",
       "    </tr>\n",
       "    <tr>\n",
       "      <th>4</th>\n",
       "      <td>Data Scientist</td>\n",
       "      <td>Feedzai</td>\n",
       "      <td>Atlanta, GA</td>\n",
       "      <td>Feedzai is an Equal Opportunity Employer. If y...</td>\n",
       "      <td></td>\n",
       "      <td>Atlanta</td>\n",
       "      <td>GA</td>\n",
       "      <td>Data+Scientist+Feedzai</td>\n",
       "      <td>Atlanta</td>\n",
       "      <td>Atlanta</td>\n",
       "    </tr>\n",
       "    <tr>\n",
       "      <th>5</th>\n",
       "      <td>Software Engineers - Data Analytics Engineer</td>\n",
       "      <td>Solidyn Solutions, Inc</td>\n",
       "      <td>United States</td>\n",
       "      <td>Certification in Cloudera data technologies (C...</td>\n",
       "      <td></td>\n",
       "      <td>Atlanta</td>\n",
       "      <td>GA</td>\n",
       "      <td>Data+Scientist+IBM</td>\n",
       "      <td>United States</td>\n",
       "      <td>United States</td>\n",
       "    </tr>\n",
       "    <tr>\n",
       "      <th>6</th>\n",
       "      <td></td>\n",
       "      <td></td>\n",
       "      <td></td>\n",
       "      <td></td>\n",
       "      <td></td>\n",
       "      <td>Atlanta</td>\n",
       "      <td>GA</td>\n",
       "      <td>Data+Scientist+Booz+Allen+Hamilton</td>\n",
       "      <td></td>\n",
       "      <td></td>\n",
       "    </tr>\n",
       "    <tr>\n",
       "      <th>7</th>\n",
       "      <td></td>\n",
       "      <td></td>\n",
       "      <td></td>\n",
       "      <td></td>\n",
       "      <td></td>\n",
       "      <td>Atlanta</td>\n",
       "      <td>GA</td>\n",
       "      <td>Data+Scientist+PwC</td>\n",
       "      <td></td>\n",
       "      <td></td>\n",
       "    </tr>\n",
       "    <tr>\n",
       "      <th>8</th>\n",
       "      <td></td>\n",
       "      <td></td>\n",
       "      <td></td>\n",
       "      <td></td>\n",
       "      <td></td>\n",
       "      <td>Atlanta</td>\n",
       "      <td>GA</td>\n",
       "      <td>Data+Scientist+Cognizant+Technology+Solutions</td>\n",
       "      <td></td>\n",
       "      <td></td>\n",
       "    </tr>\n",
       "    <tr>\n",
       "      <th>9</th>\n",
       "      <td></td>\n",
       "      <td></td>\n",
       "      <td></td>\n",
       "      <td></td>\n",
       "      <td></td>\n",
       "      <td>Atlanta</td>\n",
       "      <td>GA</td>\n",
       "      <td>Data+Scientist+Rang+Technologies</td>\n",
       "      <td></td>\n",
       "      <td></td>\n",
       "    </tr>\n",
       "    <tr>\n",
       "      <th>10</th>\n",
       "      <td>Data Scientist</td>\n",
       "      <td>KPMG</td>\n",
       "      <td>Atlanta, GA 30338</td>\n",
       "      <td>KPMG is currently seeking a Data Scientist, to...</td>\n",
       "      <td></td>\n",
       "      <td>Atlanta</td>\n",
       "      <td>GA</td>\n",
       "      <td>Data+Scientist+KPMG</td>\n",
       "      <td>Atlanta</td>\n",
       "      <td>Atlanta</td>\n",
       "    </tr>\n",
       "    <tr>\n",
       "      <th>11</th>\n",
       "      <td></td>\n",
       "      <td></td>\n",
       "      <td></td>\n",
       "      <td></td>\n",
       "      <td></td>\n",
       "      <td>Atlanta</td>\n",
       "      <td>GA</td>\n",
       "      <td>Data+Scientist+Gallup</td>\n",
       "      <td></td>\n",
       "      <td></td>\n",
       "    </tr>\n",
       "    <tr>\n",
       "      <th>12</th>\n",
       "      <td></td>\n",
       "      <td></td>\n",
       "      <td></td>\n",
       "      <td></td>\n",
       "      <td></td>\n",
       "      <td>Atlanta</td>\n",
       "      <td>GA</td>\n",
       "      <td>Data+Scientist+Hewlett+Packard+Enterprise+|+HPE</td>\n",
       "      <td></td>\n",
       "      <td></td>\n",
       "    </tr>\n",
       "    <tr>\n",
       "      <th>13</th>\n",
       "      <td>Senior Data Scientist</td>\n",
       "      <td>Verizon</td>\n",
       "      <td>Alpharetta, GA 30022</td>\n",
       "      <td>Experience as a data scientist, analyst or sta...</td>\n",
       "      <td></td>\n",
       "      <td>Atlanta</td>\n",
       "      <td>GA</td>\n",
       "      <td>Data+Scientist+Verizon</td>\n",
       "      <td>Alpharetta</td>\n",
       "      <td>Alpharetta</td>\n",
       "    </tr>\n",
       "    <tr>\n",
       "      <th>14</th>\n",
       "      <td>Data Analyst</td>\n",
       "      <td>Verizon</td>\n",
       "      <td>Alpharetta, GA 30004</td>\n",
       "      <td>Data Analytics – Junior Data Scientist. For in...</td>\n",
       "      <td></td>\n",
       "      <td>Atlanta</td>\n",
       "      <td>GA</td>\n",
       "      <td>Data+Scientist+Verizon+Wireless</td>\n",
       "      <td>Alpharetta</td>\n",
       "      <td>Alpharetta</td>\n",
       "    </tr>\n",
       "    <tr>\n",
       "      <th>15</th>\n",
       "      <td></td>\n",
       "      <td></td>\n",
       "      <td></td>\n",
       "      <td></td>\n",
       "      <td></td>\n",
       "      <td>Atlanta</td>\n",
       "      <td>GA</td>\n",
       "      <td>Data+Scientist+Fractal+Analytics</td>\n",
       "      <td></td>\n",
       "      <td></td>\n",
       "    </tr>\n",
       "    <tr>\n",
       "      <th>16</th>\n",
       "      <td>Data Scientist, Identity &amp; Linking</td>\n",
       "      <td>Equifax</td>\n",
       "      <td>Alpharetta, GA 30005</td>\n",
       "      <td>Data Scientist, Entity Resolution and Data Lin...</td>\n",
       "      <td></td>\n",
       "      <td>Atlanta</td>\n",
       "      <td>GA</td>\n",
       "      <td>Data+Scientist+Equifax</td>\n",
       "      <td>Alpharetta</td>\n",
       "      <td>Alpharetta</td>\n",
       "    </tr>\n",
       "    <tr>\n",
       "      <th>17</th>\n",
       "      <td>Business Process Consultant (Oracle OPM SME) (...</td>\n",
       "      <td>CHIPTON ROSS</td>\n",
       "      <td>Atlanta, GA</td>\n",
       "      <td>The resource (s) will serve as a Business Pro...</td>\n",
       "      <td></td>\n",
       "      <td>Atlanta</td>\n",
       "      <td>GA</td>\n",
       "      <td>Data+Scientist+Northrop+Grumman</td>\n",
       "      <td>Atlanta</td>\n",
       "      <td>Atlanta</td>\n",
       "    </tr>\n",
       "    <tr>\n",
       "      <th>18</th>\n",
       "      <td>Lead UI/Angular Developer</td>\n",
       "      <td>ADP</td>\n",
       "      <td>Alpharetta, GA 30004</td>\n",
       "      <td>At ADP, the world's largest B2B cloud company,...</td>\n",
       "      <td></td>\n",
       "      <td>Atlanta</td>\n",
       "      <td>GA</td>\n",
       "      <td>Data+Scientist+ADP</td>\n",
       "      <td>Alpharetta</td>\n",
       "      <td>Alpharetta</td>\n",
       "    </tr>\n",
       "    <tr>\n",
       "      <th>19</th>\n",
       "      <td>Data Scientist</td>\n",
       "      <td>Kabbage</td>\n",
       "      <td>Atlanta, GA</td>\n",
       "      <td>What it takes to be a Data Scientist at Kabbag...</td>\n",
       "      <td></td>\n",
       "      <td>Atlanta</td>\n",
       "      <td>GA</td>\n",
       "      <td>Data+Scientist+Kabbage</td>\n",
       "      <td>Atlanta</td>\n",
       "      <td>Atlanta</td>\n",
       "    </tr>\n",
       "  </tbody>\n",
       "</table>\n",
       "</div>"
      ],
      "text/plain": [
       "                                                title                 company  \\\n",
       "0                       Bioinformatics Data Scientist            GE Corporate   \n",
       "1                   Data Scientist (Data Science R&D)           CareerBuilder   \n",
       "2                                    Data Scientist-1                     NCR   \n",
       "3                                      DATA SCIENTIST              Home Depot   \n",
       "4                                      Data Scientist                 Feedzai   \n",
       "5        Software Engineers - Data Analytics Engineer  Solidyn Solutions, Inc   \n",
       "6                                                                               \n",
       "7                                                                               \n",
       "8                                                                               \n",
       "9                                                                               \n",
       "10                                     Data Scientist                    KPMG   \n",
       "11                                                                              \n",
       "12                                                                              \n",
       "13                              Senior Data Scientist                 Verizon   \n",
       "14                                       Data Analyst                 Verizon   \n",
       "15                                                                              \n",
       "16                 Data Scientist, Identity & Linking                 Equifax   \n",
       "17  Business Process Consultant (Oracle OPM SME) (...            CHIPTON ROSS   \n",
       "18                          Lead UI/Angular Developer                     ADP   \n",
       "19                                     Data Scientist                 Kabbage   \n",
       "\n",
       "                location                                        description  \\\n",
       "0          Niskayuna, NY  As a Data Scientist, you will:. Work with a te...   \n",
       "1     Norcross, GA 30092  Data Scientist (Data Science R&D). The team al...   \n",
       "2       Duluth, GA 30096  NCR (. About NCR Corporation. NCR only accepts...   \n",
       "3      Atlanta, GA 30354  Strong communication and data presentation ski...   \n",
       "4            Atlanta, GA  Feedzai is an Equal Opportunity Employer. If y...   \n",
       "5          United States  Certification in Cloudera data technologies (C...   \n",
       "6                                                                             \n",
       "7                                                                             \n",
       "8                                                                             \n",
       "9                                                                             \n",
       "10     Atlanta, GA 30338  KPMG is currently seeking a Data Scientist, to...   \n",
       "11                                                                            \n",
       "12                                                                            \n",
       "13  Alpharetta, GA 30022  Experience as a data scientist, analyst or sta...   \n",
       "14  Alpharetta, GA 30004  Data Analytics – Junior Data Scientist. For in...   \n",
       "15                                                                            \n",
       "16  Alpharetta, GA 30005  Data Scientist, Entity Resolution and Data Lin...   \n",
       "17           Atlanta, GA  The resource (s) will serve as a Business Pro...   \n",
       "18  Alpharetta, GA 30004  At ADP, the world's largest B2B cloud company,...   \n",
       "19           Atlanta, GA  What it takes to be a Data Scientist at Kabbag...   \n",
       "\n",
       "              drop search_city search_state  \\\n",
       "0                       Albany           NY   \n",
       "1   $10,000 a year     Atlanta           GA   \n",
       "2                      Atlanta           GA   \n",
       "3                      Atlanta           GA   \n",
       "4                      Atlanta           GA   \n",
       "5                      Atlanta           GA   \n",
       "6                      Atlanta           GA   \n",
       "7                      Atlanta           GA   \n",
       "8                      Atlanta           GA   \n",
       "9                      Atlanta           GA   \n",
       "10                     Atlanta           GA   \n",
       "11                     Atlanta           GA   \n",
       "12                     Atlanta           GA   \n",
       "13                     Atlanta           GA   \n",
       "14                     Atlanta           GA   \n",
       "15                     Atlanta           GA   \n",
       "16                     Atlanta           GA   \n",
       "17                     Atlanta           GA   \n",
       "18                     Atlanta           GA   \n",
       "19                     Atlanta           GA   \n",
       "\n",
       "                               search_title_company           city  \\\n",
       "0                                 Data+Scientist+GE      Niskayuna   \n",
       "1                      Data+Scientist+CareerBuilder       Norcross   \n",
       "2                                Data+Scientist+NCR         Duluth   \n",
       "3                     Data+Scientist+The+Home+Depot        Atlanta   \n",
       "4                            Data+Scientist+Feedzai        Atlanta   \n",
       "5                                Data+Scientist+IBM  United States   \n",
       "6                Data+Scientist+Booz+Allen+Hamilton                  \n",
       "7                                Data+Scientist+PwC                  \n",
       "8     Data+Scientist+Cognizant+Technology+Solutions                  \n",
       "9                  Data+Scientist+Rang+Technologies                  \n",
       "10                              Data+Scientist+KPMG        Atlanta   \n",
       "11                            Data+Scientist+Gallup                  \n",
       "12  Data+Scientist+Hewlett+Packard+Enterprise+|+HPE                  \n",
       "13                           Data+Scientist+Verizon     Alpharetta   \n",
       "14                  Data+Scientist+Verizon+Wireless     Alpharetta   \n",
       "15                 Data+Scientist+Fractal+Analytics                  \n",
       "16                           Data+Scientist+Equifax     Alpharetta   \n",
       "17                  Data+Scientist+Northrop+Grumman        Atlanta   \n",
       "18                               Data+Scientist+ADP     Alpharetta   \n",
       "19                           Data+Scientist+Kabbage        Atlanta   \n",
       "\n",
       "          in_city  \n",
       "0       Niskayuna  \n",
       "1        Norcross  \n",
       "2          Duluth  \n",
       "3         Atlanta  \n",
       "4         Atlanta  \n",
       "5   United States  \n",
       "6                  \n",
       "7                  \n",
       "8                  \n",
       "9                  \n",
       "10        Atlanta  \n",
       "11                 \n",
       "12                 \n",
       "13     Alpharetta  \n",
       "14     Alpharetta  \n",
       "15                 \n",
       "16     Alpharetta  \n",
       "17        Atlanta  \n",
       "18     Alpharetta  \n",
       "19        Atlanta  "
      ]
     },
     "execution_count": 120,
     "metadata": {},
     "output_type": "execute_result"
    }
   ],
   "source": [
    "indeed_df.head(20)"
   ]
  },
  {
   "cell_type": "code",
   "execution_count": 121,
   "metadata": {
    "ExecuteTime": {
     "end_time": "2016-10-17T20:21:27.986981",
     "start_time": "2016-10-17T20:21:27.978943"
    },
    "collapsed": false
   },
   "outputs": [],
   "source": [
    "indeed_df['in_city'] = indeed_df['location'].map(lambda x: x.split(',')[0] if x != 'United States' and x != '' else x)"
   ]
  },
  {
   "cell_type": "code",
   "execution_count": 124,
   "metadata": {
    "ExecuteTime": {
     "end_time": "2016-10-17T20:22:04.881511",
     "start_time": "2016-10-17T20:22:04.874305"
    },
    "collapsed": false
   },
   "outputs": [],
   "source": [
    "indeed_df['in_state'] = indeed_df['location'].map(lambda x: x.split(',')[1][1:3] if x != 'United States' and x != '' else x)"
   ]
  },
  {
   "cell_type": "code",
   "execution_count": 125,
   "metadata": {
    "ExecuteTime": {
     "end_time": "2016-10-17T20:22:05.560881",
     "start_time": "2016-10-17T20:22:05.507520"
    },
    "collapsed": false
   },
   "outputs": [
    {
     "data": {
      "text/html": [
       "<div>\n",
       "<table border=\"1\" class=\"dataframe\">\n",
       "  <thead>\n",
       "    <tr style=\"text-align: right;\">\n",
       "      <th></th>\n",
       "      <th>title</th>\n",
       "      <th>company</th>\n",
       "      <th>location</th>\n",
       "      <th>description</th>\n",
       "      <th>drop</th>\n",
       "      <th>search_city</th>\n",
       "      <th>search_state</th>\n",
       "      <th>search_title_company</th>\n",
       "      <th>city</th>\n",
       "      <th>in_city</th>\n",
       "      <th>in_state</th>\n",
       "    </tr>\n",
       "  </thead>\n",
       "  <tbody>\n",
       "    <tr>\n",
       "      <th>0</th>\n",
       "      <td>Bioinformatics Data Scientist</td>\n",
       "      <td>GE Corporate</td>\n",
       "      <td>Niskayuna, NY</td>\n",
       "      <td>As a Data Scientist, you will:. Work with a te...</td>\n",
       "      <td></td>\n",
       "      <td>Albany</td>\n",
       "      <td>NY</td>\n",
       "      <td>Data+Scientist+GE</td>\n",
       "      <td>Niskayuna</td>\n",
       "      <td>Niskayuna</td>\n",
       "      <td>NY</td>\n",
       "    </tr>\n",
       "    <tr>\n",
       "      <th>1</th>\n",
       "      <td>Data Scientist (Data Science R&amp;D)</td>\n",
       "      <td>CareerBuilder</td>\n",
       "      <td>Norcross, GA 30092</td>\n",
       "      <td>Data Scientist (Data Science R&amp;D). The team al...</td>\n",
       "      <td>$10,000 a year</td>\n",
       "      <td>Atlanta</td>\n",
       "      <td>GA</td>\n",
       "      <td>Data+Scientist+CareerBuilder</td>\n",
       "      <td>Norcross</td>\n",
       "      <td>Norcross</td>\n",
       "      <td>GA</td>\n",
       "    </tr>\n",
       "    <tr>\n",
       "      <th>2</th>\n",
       "      <td>Data Scientist-1</td>\n",
       "      <td>NCR</td>\n",
       "      <td>Duluth, GA 30096</td>\n",
       "      <td>NCR (. About NCR Corporation. NCR only accepts...</td>\n",
       "      <td></td>\n",
       "      <td>Atlanta</td>\n",
       "      <td>GA</td>\n",
       "      <td>Data+Scientist+NCR</td>\n",
       "      <td>Duluth</td>\n",
       "      <td>Duluth</td>\n",
       "      <td>GA</td>\n",
       "    </tr>\n",
       "    <tr>\n",
       "      <th>3</th>\n",
       "      <td>DATA SCIENTIST</td>\n",
       "      <td>Home Depot</td>\n",
       "      <td>Atlanta, GA 30354</td>\n",
       "      <td>Strong communication and data presentation ski...</td>\n",
       "      <td></td>\n",
       "      <td>Atlanta</td>\n",
       "      <td>GA</td>\n",
       "      <td>Data+Scientist+The+Home+Depot</td>\n",
       "      <td>Atlanta</td>\n",
       "      <td>Atlanta</td>\n",
       "      <td>GA</td>\n",
       "    </tr>\n",
       "    <tr>\n",
       "      <th>4</th>\n",
       "      <td>Data Scientist</td>\n",
       "      <td>Feedzai</td>\n",
       "      <td>Atlanta, GA</td>\n",
       "      <td>Feedzai is an Equal Opportunity Employer. If y...</td>\n",
       "      <td></td>\n",
       "      <td>Atlanta</td>\n",
       "      <td>GA</td>\n",
       "      <td>Data+Scientist+Feedzai</td>\n",
       "      <td>Atlanta</td>\n",
       "      <td>Atlanta</td>\n",
       "      <td>GA</td>\n",
       "    </tr>\n",
       "  </tbody>\n",
       "</table>\n",
       "</div>"
      ],
      "text/plain": [
       "                               title        company            location  \\\n",
       "0      Bioinformatics Data Scientist   GE Corporate       Niskayuna, NY   \n",
       "1  Data Scientist (Data Science R&D)  CareerBuilder  Norcross, GA 30092   \n",
       "2                   Data Scientist-1            NCR    Duluth, GA 30096   \n",
       "3                     DATA SCIENTIST     Home Depot   Atlanta, GA 30354   \n",
       "4                     Data Scientist        Feedzai         Atlanta, GA   \n",
       "\n",
       "                                         description            drop  \\\n",
       "0  As a Data Scientist, you will:. Work with a te...                   \n",
       "1  Data Scientist (Data Science R&D). The team al...  $10,000 a year   \n",
       "2  NCR (. About NCR Corporation. NCR only accepts...                   \n",
       "3  Strong communication and data presentation ski...                   \n",
       "4  Feedzai is an Equal Opportunity Employer. If y...                   \n",
       "\n",
       "  search_city search_state           search_title_company       city  \\\n",
       "0      Albany           NY              Data+Scientist+GE  Niskayuna   \n",
       "1     Atlanta           GA   Data+Scientist+CareerBuilder   Norcross   \n",
       "2     Atlanta           GA             Data+Scientist+NCR     Duluth   \n",
       "3     Atlanta           GA  Data+Scientist+The+Home+Depot    Atlanta   \n",
       "4     Atlanta           GA         Data+Scientist+Feedzai    Atlanta   \n",
       "\n",
       "     in_city in_state  \n",
       "0  Niskayuna       NY  \n",
       "1   Norcross       GA  \n",
       "2     Duluth       GA  \n",
       "3    Atlanta       GA  \n",
       "4    Atlanta       GA  "
      ]
     },
     "execution_count": 125,
     "metadata": {},
     "output_type": "execute_result"
    }
   ],
   "source": [
    "indeed_df.head()"
   ]
  },
  {
   "cell_type": "code",
   "execution_count": 130,
   "metadata": {
    "ExecuteTime": {
     "end_time": "2016-10-17T20:23:37.270758",
     "start_time": "2016-10-17T20:23:37.264734"
    },
    "collapsed": false
   },
   "outputs": [],
   "source": [
    "indeed_df['city_match'] = (indeed_df['search_city']==indeed_df['in_city'])"
   ]
  },
  {
   "cell_type": "code",
   "execution_count": 131,
   "metadata": {
    "ExecuteTime": {
     "end_time": "2016-10-17T20:23:52.438196",
     "start_time": "2016-10-17T20:23:52.431723"
    },
    "collapsed": true
   },
   "outputs": [],
   "source": [
    "indeed_df['state_match'] = ((indeed_df['search_state']==indeed_df['in_state']))"
   ]
  },
  {
   "cell_type": "code",
   "execution_count": 135,
   "metadata": {
    "ExecuteTime": {
     "end_time": "2016-10-17T20:25:10.970981",
     "start_time": "2016-10-17T20:25:10.963998"
    },
    "collapsed": false
   },
   "outputs": [],
   "source": [
    "indeed_df['location_match'] = [all(i) for i in zip(indeed_df['city_match'] ,indeed_df['state_match'] )]"
   ]
  },
  {
   "cell_type": "code",
   "execution_count": 137,
   "metadata": {
    "ExecuteTime": {
     "end_time": "2016-10-17T20:25:25.315360",
     "start_time": "2016-10-17T20:25:25.252340"
    },
    "collapsed": false
   },
   "outputs": [
    {
     "data": {
      "text/plain": [
       "False    825\n",
       "True     136\n",
       "Name: location_match, dtype: int64"
      ]
     },
     "execution_count": 137,
     "metadata": {},
     "output_type": "execute_result"
    }
   ],
   "source": [
    "indeed_df.location_match.value_counts()"
   ]
  },
  {
   "cell_type": "code",
   "execution_count": null,
   "metadata": {
    "collapsed": true
   },
   "outputs": [],
   "source": []
  }
 ],
 "metadata": {
  "kernelspec": {
   "display_name": "Python 2",
   "language": "python",
   "name": "python2"
  },
  "language_info": {
   "codemirror_mode": {
    "name": "ipython",
    "version": 2
   },
   "file_extension": ".py",
   "mimetype": "text/x-python",
   "name": "python",
   "nbconvert_exporter": "python",
   "pygments_lexer": "ipython2",
   "version": "2.7.12"
  }
 },
 "nbformat": 4,
 "nbformat_minor": 0
}
