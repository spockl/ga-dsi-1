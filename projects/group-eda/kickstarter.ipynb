{
 "cells": [
  {
   "cell_type": "markdown",
   "metadata": {},
   "source": [
    "# Set up notebook"
   ]
  },
  {
   "cell_type": "markdown",
   "metadata": {},
   "source": [
    "## Import libraries"
   ]
  },
  {
   "cell_type": "code",
   "execution_count": 1,
   "metadata": {
    "ExecuteTime": {
     "end_time": "2016-11-09T21:49:41.766843",
     "start_time": "2016-11-09T21:49:39.719859"
    },
    "collapsed": false
   },
   "outputs": [],
   "source": [
    "import pandas as pd \n",
    "import numpy as np\n",
    "import scipy\n",
    "from sklearn import decomposition, manifold, preprocessing, cluster\n",
    "import string\n",
    "from collections import Counter\n",
    "\n",
    "import matplotlib.pyplot as plt\n",
    "import seaborn as sns\n",
    "\n",
    "from selenium import webdriver\n",
    "from bs4 import BeautifulSoup\n",
    "import requests\n",
    "\n",
    "from gensim.models import Word2Vec\n",
    "import nltk\n",
    "from spacy.en import English\n",
    "\n",
    "from ipywidgets import interact\n",
    "\n",
    "%matplotlib inline"
   ]
  },
  {
   "cell_type": "markdown",
   "metadata": {
    "ExecuteTime": {
     "end_time": "2016-11-09T11:46:03.599410",
     "start_time": "2016-11-09T11:46:03.591762"
    }
   },
   "source": [
    "## Plot style"
   ]
  },
  {
   "cell_type": "code",
   "execution_count": 2,
   "metadata": {
    "ExecuteTime": {
     "end_time": "2016-11-09T21:49:41.775803",
     "start_time": "2016-11-09T21:49:41.769258"
    },
    "collapsed": false
   },
   "outputs": [],
   "source": [
    "plt.style.use(\"fivethirtyeight\")"
   ]
  },
  {
   "cell_type": "markdown",
   "metadata": {},
   "source": [
    "## Dataframe options"
   ]
  },
  {
   "cell_type": "code",
   "execution_count": 3,
   "metadata": {
    "ExecuteTime": {
     "end_time": "2016-11-09T21:49:41.783250",
     "start_time": "2016-11-09T21:49:41.778172"
    },
    "collapsed": false
   },
   "outputs": [],
   "source": [
    "pd.set_option('max_colwidth',500)"
   ]
  },
  {
   "cell_type": "markdown",
   "metadata": {},
   "source": [
    "# Load data"
   ]
  },
  {
   "cell_type": "code",
   "execution_count": 4,
   "metadata": {
    "ExecuteTime": {
     "end_time": "2016-11-09T21:49:44.669029",
     "start_time": "2016-11-09T21:49:41.788234"
    },
    "collapsed": false
   },
   "outputs": [],
   "source": [
    "df = pd.read_csv(\"https://raw.githubusercontent.com/socathie/paperplane/master/data/most_backed.csv\").iloc[:,1:]"
   ]
  },
  {
   "cell_type": "markdown",
   "metadata": {},
   "source": [
    "# Exploratory data analysis"
   ]
  },
  {
   "cell_type": "markdown",
   "metadata": {},
   "source": [
    "## What does the data look like"
   ]
  },
  {
   "cell_type": "code",
   "execution_count": 5,
   "metadata": {
    "ExecuteTime": {
     "end_time": "2016-11-09T21:49:44.730432",
     "start_time": "2016-11-09T21:49:44.671240"
    },
    "collapsed": false
   },
   "outputs": [
    {
     "data": {
      "text/html": [
       "<div>\n",
       "<table border=\"1\" class=\"dataframe\">\n",
       "  <thead>\n",
       "    <tr style=\"text-align: right;\">\n",
       "      <th></th>\n",
       "      <th>amt.pledged</th>\n",
       "      <th>blurb</th>\n",
       "      <th>category</th>\n",
       "      <th>currency</th>\n",
       "      <th>goal</th>\n",
       "      <th>location</th>\n",
       "      <th>num.backers</th>\n",
       "      <th>num.backers.tier</th>\n",
       "      <th>pledge.tier</th>\n",
       "      <th>title</th>\n",
       "      <th>url</th>\n",
       "    </tr>\n",
       "  </thead>\n",
       "  <tbody>\n",
       "    <tr>\n",
       "      <th>0</th>\n",
       "      <td>8782571.0</td>\n",
       "      <td>\\nThis is a card game for people who are into kittens and explosions and laser beams and sometimes goats.\\n</td>\n",
       "      <td>Tabletop Games</td>\n",
       "      <td>usd</td>\n",
       "      <td>10000.0</td>\n",
       "      <td>Los Angeles, CA</td>\n",
       "      <td>219382</td>\n",
       "      <td>[15505, 202934, 200, 5]</td>\n",
       "      <td>[20.0, 35.0, 100.0, 500.0]</td>\n",
       "      <td>Exploding Kittens</td>\n",
       "      <td>/projects/elanlee/exploding-kittens</td>\n",
       "    </tr>\n",
       "    <tr>\n",
       "      <th>1</th>\n",
       "      <td>6465690.0</td>\n",
       "      <td>\\nAn unusually addicting, high-quality desk toy designed to help you focus. Fidget at work, in class, and at home in style.\\n</td>\n",
       "      <td>Product Design</td>\n",
       "      <td>usd</td>\n",
       "      <td>15000.0</td>\n",
       "      <td>Denver, CO</td>\n",
       "      <td>154926</td>\n",
       "      <td>[788, 250, 43073, 21796, 41727, 21627, 12215, 7608, 3290, 2189, 82, 85]</td>\n",
       "      <td>[1.0, 14.0, 19.0, 19.0, 35.0, 35.0, 79.0, 79.0, 129.0, 129.0, 849.0, 849.0]</td>\n",
       "      <td>Fidget Cube: A Vinyl Desk Toy</td>\n",
       "      <td>/projects/antsylabs/fidget-cube-a-vinyl-desk-toy</td>\n",
       "    </tr>\n",
       "    <tr>\n",
       "      <th>2</th>\n",
       "      <td>5408916.0</td>\n",
       "      <td>\\nBring Reading Rainbow’s library of interactive books &amp; video field trips to more platforms &amp; provide free access to classrooms in need!\\n</td>\n",
       "      <td>Web</td>\n",
       "      <td>usd</td>\n",
       "      <td>1000000.0</td>\n",
       "      <td>Los Angeles, CA</td>\n",
       "      <td>105857</td>\n",
       "      <td>[19639, 14343, 9136, 2259, 5666, 24512, 4957, 4359, 749, 1248, 500, 339, 282, 417, 1548, 517, 749, 155, 160, 60, 5, 10, 3, 100, 75, 12, 295, 69, 156, 1, 33, 1, 1, 8, 6, 30, 13, 39, 1, 4, 6, 21, 9, 3, 23, 11, 12, 20, 14, 11, 4, 14, 36, 10, 1, 1, 10, 2, 2, 8, 13, 10, 1, 1]</td>\n",
       "      <td>[5.0, 10.0, 25.0, 30.0, 35.0, 50.0, 75.0, 100.0, 110.0, 125.0, 140.0, 145.0, 150.0, 175.0, 200.0, 200.0, 250.0, 250.0, 275.0, 300.0, 300.0, 300.0, 300.0, 350.0, 350.0, 350.0, 375.0, 375.0, 400.0, 400.0, 400.0, 450.0, 500.0, 500.0, 500.0, 600.0, 700.0, 750.0, 750.0, 750.0, 750.0, 750.0, 750.0, 800.0, 800.0, 800.0, 800.0, 800.0, 800.0, 900.0, 1200.0, 1500.0, 1700.0, 2500.0, 2600.0, 3000.0, 3500.0, 3500.0, 3500.0, 3750.0, 5000.0, 10000.0, 10000.0, 10000.0]</td>\n",
       "      <td>Bring Reading Rainbow Back for Every Child, Everywhere!</td>\n",
       "      <td>/projects/readingrainbow/bring-reading-rainbow-back-for-every-child-everywh</td>\n",
       "    </tr>\n",
       "  </tbody>\n",
       "</table>\n",
       "</div>"
      ],
      "text/plain": [
       "   amt.pledged  \\\n",
       "0    8782571.0   \n",
       "1    6465690.0   \n",
       "2    5408916.0   \n",
       "\n",
       "                                                                                                                                         blurb  \\\n",
       "0                                  \\nThis is a card game for people who are into kittens and explosions and laser beams and sometimes goats.\\n   \n",
       "1                \\nAn unusually addicting, high-quality desk toy designed to help you focus. Fidget at work, in class, and at home in style.\\n   \n",
       "2  \\nBring Reading Rainbow’s library of interactive books & video field trips to more platforms & provide free access to classrooms in need!\\n   \n",
       "\n",
       "         category currency       goal         location  num.backers  \\\n",
       "0  Tabletop Games      usd    10000.0  Los Angeles, CA       219382   \n",
       "1  Product Design      usd    15000.0       Denver, CO       154926   \n",
       "2             Web      usd  1000000.0  Los Angeles, CA       105857   \n",
       "\n",
       "                                                                                                                                                                                                                                                                  num.backers.tier  \\\n",
       "0                                                                                                                                                                                                                                                          [15505, 202934, 200, 5]   \n",
       "1                                                                                                                                                                                                          [788, 250, 43073, 21796, 41727, 21627, 12215, 7608, 3290, 2189, 82, 85]   \n",
       "2  [19639, 14343, 9136, 2259, 5666, 24512, 4957, 4359, 749, 1248, 500, 339, 282, 417, 1548, 517, 749, 155, 160, 60, 5, 10, 3, 100, 75, 12, 295, 69, 156, 1, 33, 1, 1, 8, 6, 30, 13, 39, 1, 4, 6, 21, 9, 3, 23, 11, 12, 20, 14, 11, 4, 14, 36, 10, 1, 1, 10, 2, 2, 8, 13, 10, 1, 1]   \n",
       "\n",
       "                                                                                                                                                                                                                                                                                                                                                                                                                                                                 pledge.tier  \\\n",
       "0                                                                                                                                                                                                                                                                                                                                                                                                                                                 [20.0, 35.0, 100.0, 500.0]   \n",
       "1                                                                                                                                                                                                                                                                                                                                                                                                [1.0, 14.0, 19.0, 19.0, 35.0, 35.0, 79.0, 79.0, 129.0, 129.0, 849.0, 849.0]   \n",
       "2  [5.0, 10.0, 25.0, 30.0, 35.0, 50.0, 75.0, 100.0, 110.0, 125.0, 140.0, 145.0, 150.0, 175.0, 200.0, 200.0, 250.0, 250.0, 275.0, 300.0, 300.0, 300.0, 300.0, 350.0, 350.0, 350.0, 375.0, 375.0, 400.0, 400.0, 400.0, 450.0, 500.0, 500.0, 500.0, 600.0, 700.0, 750.0, 750.0, 750.0, 750.0, 750.0, 750.0, 800.0, 800.0, 800.0, 800.0, 800.0, 800.0, 900.0, 1200.0, 1500.0, 1700.0, 2500.0, 2600.0, 3000.0, 3500.0, 3500.0, 3500.0, 3750.0, 5000.0, 10000.0, 10000.0, 10000.0]   \n",
       "\n",
       "                                                     title  \\\n",
       "0                                        Exploding Kittens   \n",
       "1                            Fidget Cube: A Vinyl Desk Toy   \n",
       "2  Bring Reading Rainbow Back for Every Child, Everywhere!   \n",
       "\n",
       "                                                                           url  \n",
       "0                                          /projects/elanlee/exploding-kittens  \n",
       "1                             /projects/antsylabs/fidget-cube-a-vinyl-desk-toy  \n",
       "2  /projects/readingrainbow/bring-reading-rainbow-back-for-every-child-everywh  "
      ]
     },
     "execution_count": 5,
     "metadata": {},
     "output_type": "execute_result"
    }
   ],
   "source": [
    "df.head(3)"
   ]
  },
  {
   "cell_type": "code",
   "execution_count": 6,
   "metadata": {
    "ExecuteTime": {
     "end_time": "2016-11-09T21:49:44.748576",
     "start_time": "2016-11-09T21:49:44.733401"
    },
    "collapsed": false
   },
   "outputs": [
    {
     "name": "stdout",
     "output_type": "stream",
     "text": [
      "<class 'pandas.core.frame.DataFrame'>\n",
      "RangeIndex: 4000 entries, 0 to 3999\n",
      "Data columns (total 11 columns):\n",
      "amt.pledged         4000 non-null float64\n",
      "blurb               4000 non-null object\n",
      "category            4000 non-null object\n",
      "currency            4000 non-null object\n",
      "goal                4000 non-null float64\n",
      "location            4000 non-null object\n",
      "num.backers         4000 non-null int64\n",
      "num.backers.tier    4000 non-null object\n",
      "pledge.tier         4000 non-null object\n",
      "title               4000 non-null object\n",
      "url                 4000 non-null object\n",
      "dtypes: float64(2), int64(1), object(8)\n",
      "memory usage: 343.8+ KB\n"
     ]
    }
   ],
   "source": [
    "df.info()"
   ]
  },
  {
   "cell_type": "code",
   "execution_count": 7,
   "metadata": {
    "ExecuteTime": {
     "end_time": "2016-11-09T21:49:44.781260",
     "start_time": "2016-11-09T21:49:44.751680"
    },
    "collapsed": false
   },
   "outputs": [
    {
     "data": {
      "text/html": [
       "<div>\n",
       "<table border=\"1\" class=\"dataframe\">\n",
       "  <thead>\n",
       "    <tr style=\"text-align: right;\">\n",
       "      <th></th>\n",
       "      <th>amt.pledged</th>\n",
       "      <th>goal</th>\n",
       "      <th>num.backers</th>\n",
       "    </tr>\n",
       "  </thead>\n",
       "  <tbody>\n",
       "    <tr>\n",
       "      <th>count</th>\n",
       "      <td>4.000000e+03</td>\n",
       "      <td>4.000000e+03</td>\n",
       "      <td>4000.000000</td>\n",
       "    </tr>\n",
       "    <tr>\n",
       "      <th>mean</th>\n",
       "      <td>2.898410e+05</td>\n",
       "      <td>6.171059e+04</td>\n",
       "      <td>3582.659750</td>\n",
       "    </tr>\n",
       "    <tr>\n",
       "      <th>std</th>\n",
       "      <td>7.119734e+05</td>\n",
       "      <td>1.266611e+05</td>\n",
       "      <td>7316.163105</td>\n",
       "    </tr>\n",
       "    <tr>\n",
       "      <th>min</th>\n",
       "      <td>1.925000e+03</td>\n",
       "      <td>1.000000e+00</td>\n",
       "      <td>1109.000000</td>\n",
       "    </tr>\n",
       "    <tr>\n",
       "      <th>25%</th>\n",
       "      <td>6.755950e+04</td>\n",
       "      <td>1.300000e+04</td>\n",
       "      <td>1406.000000</td>\n",
       "    </tr>\n",
       "    <tr>\n",
       "      <th>50%</th>\n",
       "      <td>1.203770e+05</td>\n",
       "      <td>3.000000e+04</td>\n",
       "      <td>1946.000000</td>\n",
       "    </tr>\n",
       "    <tr>\n",
       "      <th>75%</th>\n",
       "      <td>2.591978e+05</td>\n",
       "      <td>6.000000e+04</td>\n",
       "      <td>3372.000000</td>\n",
       "    </tr>\n",
       "    <tr>\n",
       "      <th>max</th>\n",
       "      <td>2.033899e+07</td>\n",
       "      <td>2.000000e+06</td>\n",
       "      <td>219382.000000</td>\n",
       "    </tr>\n",
       "  </tbody>\n",
       "</table>\n",
       "</div>"
      ],
      "text/plain": [
       "        amt.pledged          goal    num.backers\n",
       "count  4.000000e+03  4.000000e+03    4000.000000\n",
       "mean   2.898410e+05  6.171059e+04    3582.659750\n",
       "std    7.119734e+05  1.266611e+05    7316.163105\n",
       "min    1.925000e+03  1.000000e+00    1109.000000\n",
       "25%    6.755950e+04  1.300000e+04    1406.000000\n",
       "50%    1.203770e+05  3.000000e+04    1946.000000\n",
       "75%    2.591978e+05  6.000000e+04    3372.000000\n",
       "max    2.033899e+07  2.000000e+06  219382.000000"
      ]
     },
     "execution_count": 7,
     "metadata": {},
     "output_type": "execute_result"
    }
   ],
   "source": [
    "df.describe()"
   ]
  },
  {
   "cell_type": "code",
   "execution_count": 8,
   "metadata": {
    "ExecuteTime": {
     "end_time": "2016-11-09T21:49:44.870007",
     "start_time": "2016-11-09T21:49:44.784943"
    },
    "collapsed": false
   },
   "outputs": [
    {
     "data": {
      "text/html": [
       "<div>\n",
       "<table border=\"1\" class=\"dataframe\">\n",
       "  <thead>\n",
       "    <tr style=\"text-align: right;\">\n",
       "      <th></th>\n",
       "      <th>blurb</th>\n",
       "      <th>category</th>\n",
       "      <th>currency</th>\n",
       "      <th>location</th>\n",
       "      <th>num.backers.tier</th>\n",
       "      <th>pledge.tier</th>\n",
       "      <th>title</th>\n",
       "      <th>url</th>\n",
       "    </tr>\n",
       "  </thead>\n",
       "  <tbody>\n",
       "    <tr>\n",
       "      <th>count</th>\n",
       "      <td>4000</td>\n",
       "      <td>4000</td>\n",
       "      <td>4000</td>\n",
       "      <td>4000</td>\n",
       "      <td>4000</td>\n",
       "      <td>4000</td>\n",
       "      <td>4000</td>\n",
       "      <td>4000</td>\n",
       "    </tr>\n",
       "    <tr>\n",
       "      <th>unique</th>\n",
       "      <td>3980</td>\n",
       "      <td>115</td>\n",
       "      <td>9</td>\n",
       "      <td>808</td>\n",
       "      <td>3998</td>\n",
       "      <td>3978</td>\n",
       "      <td>3995</td>\n",
       "      <td>3998</td>\n",
       "    </tr>\n",
       "    <tr>\n",
       "      <th>top</th>\n",
       "      <td>\\n</td>\n",
       "      <td>Product Design</td>\n",
       "      <td>usd</td>\n",
       "      <td>San Francisco, CA</td>\n",
       "      <td>[83, 669, 413, 60]</td>\n",
       "      <td>[90.0, 100.0]</td>\n",
       "      <td>Werewolf</td>\n",
       "      <td>/projects/1609568567/code-hardcore-the-coolest-2d-mecha-battle-game</td>\n",
       "    </tr>\n",
       "    <tr>\n",
       "      <th>freq</th>\n",
       "      <td>9</td>\n",
       "      <td>769</td>\n",
       "      <td>3437</td>\n",
       "      <td>280</td>\n",
       "      <td>2</td>\n",
       "      <td>4</td>\n",
       "      <td>2</td>\n",
       "      <td>2</td>\n",
       "    </tr>\n",
       "  </tbody>\n",
       "</table>\n",
       "</div>"
      ],
      "text/plain": [
       "       blurb        category currency           location    num.backers.tier  \\\n",
       "count   4000            4000     4000               4000                4000   \n",
       "unique  3980             115        9                808                3998   \n",
       "top       \\n  Product Design      usd  San Francisco, CA  [83, 669, 413, 60]   \n",
       "freq       9             769     3437                280                   2   \n",
       "\n",
       "          pledge.tier     title  \\\n",
       "count            4000      4000   \n",
       "unique           3978      3995   \n",
       "top     [90.0, 100.0]  Werewolf   \n",
       "freq                4         2   \n",
       "\n",
       "                                                                        url  \n",
       "count                                                                  4000  \n",
       "unique                                                                 3998  \n",
       "top     /projects/1609568567/code-hardcore-the-coolest-2d-mecha-battle-game  \n",
       "freq                                                                      2  "
      ]
     },
     "execution_count": 8,
     "metadata": {},
     "output_type": "execute_result"
    }
   ],
   "source": [
    "df.describe(include=[\"O\"])"
   ]
  },
  {
   "cell_type": "markdown",
   "metadata": {},
   "source": [
    "# Data mining/ data wrangling"
   ]
  },
  {
   "cell_type": "code",
   "execution_count": 9,
   "metadata": {
    "ExecuteTime": {
     "end_time": "2016-11-09T21:49:44.880272",
     "start_time": "2016-11-09T21:49:44.873488"
    },
    "collapsed": false
   },
   "outputs": [],
   "source": [
    "df2 = df.copy()"
   ]
  },
  {
   "cell_type": "markdown",
   "metadata": {},
   "source": [
    "## Rename columns"
   ]
  },
  {
   "cell_type": "code",
   "execution_count": 10,
   "metadata": {
    "ExecuteTime": {
     "end_time": "2016-11-09T21:49:44.890733",
     "start_time": "2016-11-09T21:49:44.884206"
    },
    "collapsed": true
   },
   "outputs": [],
   "source": [
    "df2.columns = [i.replace(\".\", \"_\").replace(\" \", \"_\") for i in df2.columns]"
   ]
  },
  {
   "cell_type": "markdown",
   "metadata": {},
   "source": [
    "## Standardizing dollar amounts"
   ]
  },
  {
   "cell_type": "code",
   "execution_count": 11,
   "metadata": {
    "ExecuteTime": {
     "end_time": "2016-11-09T21:49:44.902915",
     "start_time": "2016-11-09T21:49:44.894056"
    },
    "collapsed": false
   },
   "outputs": [
    {
     "data": {
      "text/plain": [
       "array(['usd', 'gbp', 'cad', 'aud', 'eur', 'sek', 'nzd', 'dkk', 'chf'], dtype=object)"
      ]
     },
     "execution_count": 11,
     "metadata": {},
     "output_type": "execute_result"
    }
   ],
   "source": [
    "df2[\"currency\"].unique()"
   ]
  },
  {
   "cell_type": "code",
   "execution_count": 12,
   "metadata": {
    "ExecuteTime": {
     "end_time": "2016-11-09T21:49:44.913116",
     "start_time": "2016-11-09T21:49:44.905627"
    },
    "collapsed": true
   },
   "outputs": [],
   "source": [
    "# Create exchange rate dictionary (note: exchange rates based on 11/9/16)\n",
    "exchange_dict = {\n",
    "    'usd': 1.00,\n",
    "    'gbp': 1.25,\n",
    "    'cad': 0.75,\n",
    "    'eur': 1.09,\n",
    "    'aud': 0.77,\n",
    "    'sek': 0.11,\n",
    "    'nzd': 0.73,\n",
    "    'dkk': 0.15,\n",
    "    'chf': 1.02,}"
   ]
  },
  {
   "cell_type": "code",
   "execution_count": 13,
   "metadata": {
    "ExecuteTime": {
     "end_time": "2016-11-09T21:49:44.925867",
     "start_time": "2016-11-09T21:49:44.916204"
    },
    "collapsed": true
   },
   "outputs": [],
   "source": [
    "# Create a new column that maps out exchange rate based on currency\n",
    "df2['exchange_rate'] = df2['currency'].map(exchange_dict)\n",
    "\n",
    "# Create new column that converts all data to USD \n",
    "df2['pledged_USD'] = df2['amt_pledged'] * df2['exchange_rate']\n",
    "df2['goal_USD'] = df2['goal'] * df2['exchange_rate']"
   ]
  },
  {
   "cell_type": "markdown",
   "metadata": {},
   "source": [
    "## Percentage of goal received"
   ]
  },
  {
   "cell_type": "code",
   "execution_count": 14,
   "metadata": {
    "ExecuteTime": {
     "end_time": "2016-11-09T21:49:44.935301",
     "start_time": "2016-11-09T21:49:44.929295"
    },
    "collapsed": true
   },
   "outputs": [],
   "source": [
    "# Create a new column that shows pledged/goal in percentage terms\n",
    "df2['percent_received'] = df2['pledged_USD'] / df2['goal_USD'] * 100."
   ]
  },
  {
   "cell_type": "markdown",
   "metadata": {},
   "source": [
    "## Binning dollar amounts"
   ]
  },
  {
   "cell_type": "code",
   "execution_count": 15,
   "metadata": {
    "ExecuteTime": {
     "end_time": "2016-11-09T21:49:44.942410",
     "start_time": "2016-11-09T21:49:44.938166"
    },
    "collapsed": true
   },
   "outputs": [],
   "source": [
    "levels = [\"low\", \"medium\", \"high\", \"dreaming\"]"
   ]
  },
  {
   "cell_type": "markdown",
   "metadata": {},
   "source": [
    "### Goals"
   ]
  },
  {
   "cell_type": "code",
   "execution_count": 16,
   "metadata": {
    "ExecuteTime": {
     "end_time": "2016-11-09T21:49:44.957240",
     "start_time": "2016-11-09T21:49:44.946469"
    },
    "collapsed": false
   },
   "outputs": [],
   "source": [
    "goal_bin = [(i,j) for i,j \n",
    "            in enumerate(zip([df2[\"goal_USD\"].quantile(k) \n",
    "                              for k in [0.1, 0.33, 0.67, 1.0]], \n",
    "                             levels))]"
   ]
  },
  {
   "cell_type": "code",
   "execution_count": 17,
   "metadata": {
    "ExecuteTime": {
     "end_time": "2016-11-09T21:49:44.972015",
     "start_time": "2016-11-09T21:49:44.961646"
    },
    "collapsed": false
   },
   "outputs": [],
   "source": [
    "def bin_goals_num(amt):\n",
    "    for i in goal_bin:\n",
    "        if amt <= i[1][0]:\n",
    "            return i[0]\n",
    "\n",
    "def bin_goals(amt):\n",
    "    for i in goal_bin:\n",
    "        if amt <= i[1][0]:\n",
    "            return i[1][1]"
   ]
  },
  {
   "cell_type": "code",
   "execution_count": 18,
   "metadata": {
    "ExecuteTime": {
     "end_time": "2016-11-09T21:49:45.001313",
     "start_time": "2016-11-09T21:49:44.974775"
    },
    "collapsed": true
   },
   "outputs": [],
   "source": [
    "df2[\"goal_level\"] = df2[\"goal_USD\"].map(bin_goals)\n",
    "df2[\"goal_level_num\"] = df2[\"goal_USD\"].map(bin_goals_num)"
   ]
  },
  {
   "cell_type": "markdown",
   "metadata": {},
   "source": [
    "### Pledges"
   ]
  },
  {
   "cell_type": "code",
   "execution_count": 19,
   "metadata": {
    "ExecuteTime": {
     "end_time": "2016-11-09T21:49:45.012271",
     "start_time": "2016-11-09T21:49:45.004013"
    },
    "collapsed": false
   },
   "outputs": [],
   "source": [
    "pledge_bin = [(i,j) for i,j \n",
    "              in enumerate(zip([df2[\"pledged_USD\"].quantile(k) \n",
    "                            for k in [0.1, 0.33, 0.67, 1.0]], levels))]"
   ]
  },
  {
   "cell_type": "code",
   "execution_count": 20,
   "metadata": {
    "ExecuteTime": {
     "end_time": "2016-11-09T21:49:45.022097",
     "start_time": "2016-11-09T21:49:45.015056"
    },
    "collapsed": false
   },
   "outputs": [],
   "source": [
    "def bin_pledges(amt):\n",
    "    for i in pledge_bin:\n",
    "        if amt <= i[1][0]:\n",
    "            return i[1][1]\n",
    "        \n",
    "def bin_pledges_num(amt):\n",
    "    for i in pledge_bin:\n",
    "        if amt <= i[1][0]:\n",
    "            return i[0]"
   ]
  },
  {
   "cell_type": "code",
   "execution_count": 21,
   "metadata": {
    "ExecuteTime": {
     "end_time": "2016-11-09T21:49:45.044223",
     "start_time": "2016-11-09T21:49:45.025512"
    },
    "collapsed": true
   },
   "outputs": [],
   "source": [
    "df2[\"pledge_level\"] = df2[\"goal_USD\"].map(bin_pledges)\n",
    "df2[\"pledge_level_num\"] = df2[\"goal_USD\"].map(bin_pledges_num)"
   ]
  },
  {
   "cell_type": "markdown",
   "metadata": {},
   "source": [
    "## Getting creator info"
   ]
  },
  {
   "cell_type": "code",
   "execution_count": 22,
   "metadata": {
    "ExecuteTime": {
     "end_time": "2016-11-09T21:49:45.061818",
     "start_time": "2016-11-09T21:49:45.047178"
    },
    "collapsed": false
   },
   "outputs": [],
   "source": [
    "df2[\"creator\"] = df2[\"url\"].map(lambda x: x.split(\"/\")[2])"
   ]
  },
  {
   "cell_type": "raw",
   "metadata": {
    "ExecuteTime": {
     "end_time": "2016-11-09T14:44:09.887267",
     "start_time": "2016-11-09T14:44:09.815321"
    },
    "collapsed": false
   },
   "source": [
    "df2.head()"
   ]
  },
  {
   "cell_type": "markdown",
   "metadata": {},
   "source": [
    "### Some of the creators are just numbers\n",
    "\n",
    "Scrape Kickstarter profile pages to get their names\n",
    "- Scraper run outside of Jupyter Notebook for efficiency\n",
    "    - See code on [GitHub]()"
   ]
  },
  {
   "cell_type": "code",
   "execution_count": 23,
   "metadata": {
    "ExecuteTime": {
     "end_time": "2016-11-09T21:49:45.074460",
     "start_time": "2016-11-09T21:49:45.064527"
    },
    "collapsed": false
   },
   "outputs": [],
   "source": [
    "names = np.array(pd.read_csv(\"names_full.txt\", delimiter=\"\\n\", header=None)[0])"
   ]
  },
  {
   "cell_type": "code",
   "execution_count": 24,
   "metadata": {
    "ExecuteTime": {
     "end_time": "2016-11-09T21:49:45.087664",
     "start_time": "2016-11-09T21:49:45.078533"
    },
    "collapsed": false
   },
   "outputs": [
    {
     "data": {
      "text/plain": [
       "array(['Elan Lee', 'Matthew and Mark McLachlan',\n",
       "       'LeVar Burton & Reading Rainbow', ..., 'OFF LIFE', 'Rick Davidson',\n",
       "       'Kevin Crawford'], dtype=object)"
      ]
     },
     "execution_count": 24,
     "metadata": {},
     "output_type": "execute_result"
    }
   ],
   "source": [
    "names"
   ]
  },
  {
   "cell_type": "code",
   "execution_count": 25,
   "metadata": {
    "ExecuteTime": {
     "end_time": "2016-11-09T21:49:45.095944",
     "start_time": "2016-11-09T21:49:45.090965"
    },
    "collapsed": true
   },
   "outputs": [],
   "source": [
    "df2[\"creator_names\"] = names"
   ]
  },
  {
   "cell_type": "markdown",
   "metadata": {},
   "source": [
    "## Location"
   ]
  },
  {
   "cell_type": "code",
   "execution_count": 26,
   "metadata": {
    "ExecuteTime": {
     "end_time": "2016-11-09T21:49:45.129152",
     "start_time": "2016-11-09T21:49:45.099291"
    },
    "collapsed": false
   },
   "outputs": [],
   "source": [
    "# Each location has a [primary], [secondary] location - we'll separate that\n",
    "df2[\"loc1\"] = df2[\"location\"].map(lambda x: x.split(\", \")[0].strip())\n",
    "df2[\"loc2\"] = df2[\"location\"].map(lambda x: x.split(\", \")[1].strip())"
   ]
  },
  {
   "cell_type": "code",
   "execution_count": 27,
   "metadata": {
    "ExecuteTime": {
     "end_time": "2016-11-09T21:49:45.213127",
     "start_time": "2016-11-09T21:49:45.133113"
    },
    "collapsed": false
   },
   "outputs": [
    {
     "data": {
      "text/html": [
       "<div>\n",
       "<table border=\"1\" class=\"dataframe\">\n",
       "  <thead>\n",
       "    <tr style=\"text-align: right;\">\n",
       "      <th></th>\n",
       "      <th>amt_pledged</th>\n",
       "      <th>blurb</th>\n",
       "      <th>category</th>\n",
       "      <th>currency</th>\n",
       "      <th>goal</th>\n",
       "      <th>location</th>\n",
       "      <th>num_backers</th>\n",
       "      <th>num_backers_tier</th>\n",
       "      <th>pledge_tier</th>\n",
       "      <th>title</th>\n",
       "      <th>...</th>\n",
       "      <th>goal_USD</th>\n",
       "      <th>percent_received</th>\n",
       "      <th>goal_level</th>\n",
       "      <th>goal_level_num</th>\n",
       "      <th>pledge_level</th>\n",
       "      <th>pledge_level_num</th>\n",
       "      <th>creator</th>\n",
       "      <th>creator_names</th>\n",
       "      <th>loc1</th>\n",
       "      <th>loc2</th>\n",
       "    </tr>\n",
       "  </thead>\n",
       "  <tbody>\n",
       "    <tr>\n",
       "      <th>0</th>\n",
       "      <td>8782571.0</td>\n",
       "      <td>\\nThis is a card game for people who are into kittens and explosions and laser beams and sometimes goats.\\n</td>\n",
       "      <td>Tabletop Games</td>\n",
       "      <td>usd</td>\n",
       "      <td>10000.0</td>\n",
       "      <td>Los Angeles, CA</td>\n",
       "      <td>219382</td>\n",
       "      <td>[15505, 202934, 200, 5]</td>\n",
       "      <td>[20.0, 35.0, 100.0, 500.0]</td>\n",
       "      <td>Exploding Kittens</td>\n",
       "      <td>...</td>\n",
       "      <td>10000.0</td>\n",
       "      <td>87825.71</td>\n",
       "      <td>medium</td>\n",
       "      <td>1</td>\n",
       "      <td>low</td>\n",
       "      <td>0</td>\n",
       "      <td>elanlee</td>\n",
       "      <td>Elan Lee</td>\n",
       "      <td>Los Angeles</td>\n",
       "      <td>CA</td>\n",
       "    </tr>\n",
       "    <tr>\n",
       "      <th>1</th>\n",
       "      <td>6465690.0</td>\n",
       "      <td>\\nAn unusually addicting, high-quality desk toy designed to help you focus. Fidget at work, in class, and at home in style.\\n</td>\n",
       "      <td>Product Design</td>\n",
       "      <td>usd</td>\n",
       "      <td>15000.0</td>\n",
       "      <td>Denver, CO</td>\n",
       "      <td>154926</td>\n",
       "      <td>[788, 250, 43073, 21796, 41727, 21627, 12215, 7608, 3290, 2189, 82, 85]</td>\n",
       "      <td>[1.0, 14.0, 19.0, 19.0, 35.0, 35.0, 79.0, 79.0, 129.0, 129.0, 849.0, 849.0]</td>\n",
       "      <td>Fidget Cube: A Vinyl Desk Toy</td>\n",
       "      <td>...</td>\n",
       "      <td>15000.0</td>\n",
       "      <td>43104.60</td>\n",
       "      <td>medium</td>\n",
       "      <td>1</td>\n",
       "      <td>low</td>\n",
       "      <td>0</td>\n",
       "      <td>antsylabs</td>\n",
       "      <td>Matthew and Mark McLachlan</td>\n",
       "      <td>Denver</td>\n",
       "      <td>CO</td>\n",
       "    </tr>\n",
       "  </tbody>\n",
       "</table>\n",
       "<p>2 rows × 23 columns</p>\n",
       "</div>"
      ],
      "text/plain": [
       "   amt_pledged  \\\n",
       "0    8782571.0   \n",
       "1    6465690.0   \n",
       "\n",
       "                                                                                                                           blurb  \\\n",
       "0                    \\nThis is a card game for people who are into kittens and explosions and laser beams and sometimes goats.\\n   \n",
       "1  \\nAn unusually addicting, high-quality desk toy designed to help you focus. Fidget at work, in class, and at home in style.\\n   \n",
       "\n",
       "         category currency     goal         location  num_backers  \\\n",
       "0  Tabletop Games      usd  10000.0  Los Angeles, CA       219382   \n",
       "1  Product Design      usd  15000.0       Denver, CO       154926   \n",
       "\n",
       "                                                          num_backers_tier  \\\n",
       "0                                                  [15505, 202934, 200, 5]   \n",
       "1  [788, 250, 43073, 21796, 41727, 21627, 12215, 7608, 3290, 2189, 82, 85]   \n",
       "\n",
       "                                                                   pledge_tier  \\\n",
       "0                                                   [20.0, 35.0, 100.0, 500.0]   \n",
       "1  [1.0, 14.0, 19.0, 19.0, 35.0, 35.0, 79.0, 79.0, 129.0, 129.0, 849.0, 849.0]   \n",
       "\n",
       "                           title ...  goal_USD  percent_received  goal_level  \\\n",
       "0              Exploding Kittens ...   10000.0          87825.71      medium   \n",
       "1  Fidget Cube: A Vinyl Desk Toy ...   15000.0          43104.60      medium   \n",
       "\n",
       "   goal_level_num  pledge_level pledge_level_num    creator  \\\n",
       "0               1           low                0    elanlee   \n",
       "1               1           low                0  antsylabs   \n",
       "\n",
       "                creator_names         loc1 loc2  \n",
       "0                    Elan Lee  Los Angeles   CA  \n",
       "1  Matthew and Mark McLachlan       Denver   CO  \n",
       "\n",
       "[2 rows x 23 columns]"
      ]
     },
     "execution_count": 27,
     "metadata": {},
     "output_type": "execute_result"
    }
   ],
   "source": [
    "df2.head(2)"
   ]
  },
  {
   "cell_type": "code",
   "execution_count": 28,
   "metadata": {
    "ExecuteTime": {
     "end_time": "2016-11-09T21:49:45.224413",
     "start_time": "2016-11-09T21:49:45.216083"
    },
    "collapsed": false
   },
   "outputs": [],
   "source": [
    "# A lot of them had two-letter state representations for the secondary location\n",
    "# Let's see what were the ones that didn't\n",
    "df2[\"is_state\"] = df2.loc2.map(lambda x: 1 if len(x) == 2 else 0)"
   ]
  },
  {
   "cell_type": "code",
   "execution_count": 29,
   "metadata": {
    "ExecuteTime": {
     "end_time": "2016-11-09T21:49:45.240140",
     "start_time": "2016-11-09T21:49:45.227904"
    },
    "collapsed": false
   },
   "outputs": [
    {
     "data": {
      "text/plain": [
       "array(['Canada', 'Japan', 'Czech Republic', 'China', 'Norway', 'Belgium',\n",
       "       'Sweden', 'Germany', 'France', 'Manhattan', 'Poland', 'Slovenia',\n",
       "       'India', 'Denmark', 'Spain', 'Luxembourg', 'Taiwan', 'Los Angeles',\n",
       "       'Netherlands', 'Mexico', 'Queens', 'Russia', 'Thailand', 'Israel',\n",
       "       'Italy', 'Austria', 'South Korea', 'Bulgaria', 'South Africa',\n",
       "       'Afghanistan', 'Hong Kong', 'Brazil', 'Switzerland', 'Ukraine',\n",
       "       'Chile', 'Argentina', 'United Arab Emirates', 'Finland', 'Belarus',\n",
       "       'Turkey', 'Romania', 'Brooklyn', 'Malta', 'Greece', 'Iceland',\n",
       "       'Slovakia', 'Singapore', 'Nashville', 'Macedonia', 'Philadelphia',\n",
       "       'San Diego', 'Costa Rica', 'Bakersfield', 'Portland', 'Miami',\n",
       "       'Philippines', 'Croatia', 'Egypt', 'Ireland', 'Thousand Oaks',\n",
       "       'Virgin Islands', 'Crested Butte', 'Puerto Rico', 'Indonesia',\n",
       "       'Cameroon', 'Framingham', 'Hungary', 'Colombia', 'Maplewood',\n",
       "       'Latvia', 'Kenya'], dtype=object)"
      ]
     },
     "execution_count": 29,
     "metadata": {},
     "output_type": "execute_result"
    }
   ],
   "source": [
    "df2[\"loc2\"][df2[\"is_state\"] == 0].unique()"
   ]
  },
  {
   "cell_type": "code",
   "execution_count": 30,
   "metadata": {
    "ExecuteTime": {
     "end_time": "2016-11-09T21:49:45.249191",
     "start_time": "2016-11-09T21:49:45.242831"
    },
    "collapsed": false
   },
   "outputs": [],
   "source": [
    "# Some of them look like they're in the USA\n",
    "# Looked at Kickstarter for some of them, projects are allowed to choose sub-locations within their cities\n",
    "# So we end up with [location, city, state] instead of just [city, state]\n",
    "# But only the first 2 items get picked up\n",
    "# For now, we'll manually pick these out\n",
    "in_USA = [\"Manhattan\", \"Brooklyn\", \"Nashville\", \"Philadelphia\", \"San Diego\", \"Portland\", \n",
    "          \"Miami\", \"Thousand Oaks\", \"Virgin Islands\", \"Crested Butte\", \"Framingham\", \"Maplewood\"]"
   ]
  },
  {
   "cell_type": "code",
   "execution_count": 31,
   "metadata": {
    "ExecuteTime": {
     "end_time": "2016-11-09T21:49:45.259881",
     "start_time": "2016-11-09T21:49:45.252599"
    },
    "collapsed": true
   },
   "outputs": [],
   "source": [
    "def get_country(loc):\n",
    "    if loc in in_USA or len(loc) == 2:\n",
    "        return \"USA\"\n",
    "    else:\n",
    "        return loc"
   ]
  },
  {
   "cell_type": "code",
   "execution_count": 32,
   "metadata": {
    "ExecuteTime": {
     "end_time": "2016-11-09T21:49:45.276865",
     "start_time": "2016-11-09T21:49:45.263330"
    },
    "collapsed": false
   },
   "outputs": [],
   "source": [
    "df2[\"country\"] = df2[\"loc2\"].map(get_country)"
   ]
  },
  {
   "cell_type": "code",
   "execution_count": 33,
   "metadata": {
    "ExecuteTime": {
     "end_time": "2016-11-09T21:49:45.338865",
     "start_time": "2016-11-09T21:49:45.279503"
    },
    "collapsed": false
   },
   "outputs": [
    {
     "data": {
      "text/html": [
       "<div>\n",
       "<table border=\"1\" class=\"dataframe\">\n",
       "  <thead>\n",
       "    <tr style=\"text-align: right;\">\n",
       "      <th></th>\n",
       "      <th>amt_pledged</th>\n",
       "      <th>blurb</th>\n",
       "      <th>category</th>\n",
       "      <th>currency</th>\n",
       "      <th>goal</th>\n",
       "      <th>location</th>\n",
       "      <th>num_backers</th>\n",
       "      <th>num_backers_tier</th>\n",
       "      <th>pledge_tier</th>\n",
       "      <th>title</th>\n",
       "      <th>...</th>\n",
       "      <th>goal_level</th>\n",
       "      <th>goal_level_num</th>\n",
       "      <th>pledge_level</th>\n",
       "      <th>pledge_level_num</th>\n",
       "      <th>creator</th>\n",
       "      <th>creator_names</th>\n",
       "      <th>loc1</th>\n",
       "      <th>loc2</th>\n",
       "      <th>is_state</th>\n",
       "      <th>country</th>\n",
       "    </tr>\n",
       "  </thead>\n",
       "  <tbody>\n",
       "    <tr>\n",
       "      <th>0</th>\n",
       "      <td>8782571.0</td>\n",
       "      <td>\\nThis is a card game for people who are into kittens and explosions and laser beams and sometimes goats.\\n</td>\n",
       "      <td>Tabletop Games</td>\n",
       "      <td>usd</td>\n",
       "      <td>10000.0</td>\n",
       "      <td>Los Angeles, CA</td>\n",
       "      <td>219382</td>\n",
       "      <td>[15505, 202934, 200, 5]</td>\n",
       "      <td>[20.0, 35.0, 100.0, 500.0]</td>\n",
       "      <td>Exploding Kittens</td>\n",
       "      <td>...</td>\n",
       "      <td>medium</td>\n",
       "      <td>1</td>\n",
       "      <td>low</td>\n",
       "      <td>0</td>\n",
       "      <td>elanlee</td>\n",
       "      <td>Elan Lee</td>\n",
       "      <td>Los Angeles</td>\n",
       "      <td>CA</td>\n",
       "      <td>1</td>\n",
       "      <td>USA</td>\n",
       "    </tr>\n",
       "  </tbody>\n",
       "</table>\n",
       "<p>1 rows × 25 columns</p>\n",
       "</div>"
      ],
      "text/plain": [
       "   amt_pledged  \\\n",
       "0    8782571.0   \n",
       "\n",
       "                                                                                                         blurb  \\\n",
       "0  \\nThis is a card game for people who are into kittens and explosions and laser beams and sometimes goats.\\n   \n",
       "\n",
       "         category currency     goal         location  num_backers  \\\n",
       "0  Tabletop Games      usd  10000.0  Los Angeles, CA       219382   \n",
       "\n",
       "          num_backers_tier                 pledge_tier              title  \\\n",
       "0  [15505, 202934, 200, 5]  [20.0, 35.0, 100.0, 500.0]  Exploding Kittens   \n",
       "\n",
       "    ...   goal_level  goal_level_num  pledge_level  pledge_level_num  creator  \\\n",
       "0   ...       medium               1           low                 0  elanlee   \n",
       "\n",
       "  creator_names         loc1 loc2  is_state country  \n",
       "0      Elan Lee  Los Angeles   CA         1     USA  \n",
       "\n",
       "[1 rows x 25 columns]"
      ]
     },
     "execution_count": 33,
     "metadata": {},
     "output_type": "execute_result"
    }
   ],
   "source": [
    "df2.head(1)"
   ]
  },
  {
   "cell_type": "raw",
   "metadata": {
    "ExecuteTime": {
     "end_time": "2016-11-09T14:44:14.750129",
     "start_time": "2016-11-09T14:44:14.740316"
    },
    "collapsed": true
   },
   "source": [
    "country_encode = preprocessing.LabelEncoder()\n",
    "df2[\"country_num\"] = country_encode.fit_transform(df2[\"country\"])"
   ]
  },
  {
   "cell_type": "raw",
   "metadata": {
    "ExecuteTime": {
     "end_time": "2016-11-09T14:44:17.879179",
     "start_time": "2016-11-09T14:44:17.795651"
    },
    "collapsed": false
   },
   "source": [
    "df2[\"blurb\"] = df2[\"blurb\"].map(lambda x: x.replace(\"\\n\", \"\").replace(\",\", \"\"))\n",
    "df2[\"title\"] = df2[\"title\"].map(lambda x: x.replace(\"\\n\", \"\").replace(\",\", \"\").replace(\"|\", \"-\"))\n",
    "df2.to_csv(\"addedstuff.csv\")"
   ]
  },
  {
   "cell_type": "raw",
   "metadata": {
    "ExecuteTime": {
     "end_time": "2016-11-09T14:28:48.011556",
     "start_time": "2016-11-09T14:28:48.002115"
    },
    "collapsed": false
   },
   "source": [
    "for i in df2[\"title\"]:\n",
    "    if \"BAU\" in i:\n",
    "        print i"
   ]
  },
  {
   "cell_type": "code",
   "execution_count": null,
   "metadata": {
    "ExecuteTime": {
     "end_time": "2016-11-09T14:37:05.264078",
     "start_time": "2016-11-09T14:37:05.259444"
    },
    "collapsed": false
   },
   "outputs": [],
   "source": []
  },
  {
   "cell_type": "markdown",
   "metadata": {
    "collapsed": true
   },
   "source": [
    "## Duration of campaign\n",
    "\n",
    "Scrape Kickstarter project pages to get details of the duration and dates\n",
    "\n",
    "- Scraper run outside of Jupyter Notebook for efficiency\n",
    "    - See code on [GitHub]()"
   ]
  },
  {
   "cell_type": "code",
   "execution_count": 34,
   "metadata": {
    "ExecuteTime": {
     "end_time": "2016-11-09T21:49:45.358641",
     "start_time": "2016-11-09T21:49:45.341270"
    },
    "collapsed": true
   },
   "outputs": [],
   "source": [
    "dates = pd.read_csv(\"dates_info.csv\").iloc[:,1:]"
   ]
  },
  {
   "cell_type": "code",
   "execution_count": 35,
   "metadata": {
    "ExecuteTime": {
     "end_time": "2016-11-09T21:49:45.386160",
     "start_time": "2016-11-09T21:49:45.362270"
    },
    "collapsed": false
   },
   "outputs": [],
   "source": [
    "df2 = df2.merge(dates, on=\"url\")"
   ]
  },
  {
   "cell_type": "code",
   "execution_count": 36,
   "metadata": {
    "ExecuteTime": {
     "end_time": "2016-11-09T21:49:47.371886",
     "start_time": "2016-11-09T21:49:45.389649"
    },
    "collapsed": false
   },
   "outputs": [],
   "source": [
    "df2[\"start\"] = pd.to_datetime(df2[\"start\"])\n",
    "df2[\"end\"] = pd.to_datetime(df2[\"end\"])"
   ]
  },
  {
   "cell_type": "code",
   "execution_count": 37,
   "metadata": {
    "ExecuteTime": {
     "end_time": "2016-11-09T21:49:47.440941",
     "start_time": "2016-11-09T21:49:47.374624"
    },
    "collapsed": false
   },
   "outputs": [
    {
     "data": {
      "text/html": [
       "<div>\n",
       "<table border=\"1\" class=\"dataframe\">\n",
       "  <thead>\n",
       "    <tr style=\"text-align: right;\">\n",
       "      <th></th>\n",
       "      <th>amt_pledged</th>\n",
       "      <th>blurb</th>\n",
       "      <th>category</th>\n",
       "      <th>currency</th>\n",
       "      <th>goal</th>\n",
       "      <th>location</th>\n",
       "      <th>num_backers</th>\n",
       "      <th>num_backers_tier</th>\n",
       "      <th>pledge_tier</th>\n",
       "      <th>title</th>\n",
       "      <th>...</th>\n",
       "      <th>pledge_level_num</th>\n",
       "      <th>creator</th>\n",
       "      <th>creator_names</th>\n",
       "      <th>loc1</th>\n",
       "      <th>loc2</th>\n",
       "      <th>is_state</th>\n",
       "      <th>country</th>\n",
       "      <th>start</th>\n",
       "      <th>end</th>\n",
       "      <th>days</th>\n",
       "    </tr>\n",
       "  </thead>\n",
       "  <tbody>\n",
       "    <tr>\n",
       "      <th>0</th>\n",
       "      <td>8782571.0</td>\n",
       "      <td>\\nThis is a card game for people who are into kittens and explosions and laser beams and sometimes goats.\\n</td>\n",
       "      <td>Tabletop Games</td>\n",
       "      <td>usd</td>\n",
       "      <td>10000.0</td>\n",
       "      <td>Los Angeles, CA</td>\n",
       "      <td>219382</td>\n",
       "      <td>[15505, 202934, 200, 5]</td>\n",
       "      <td>[20.0, 35.0, 100.0, 500.0]</td>\n",
       "      <td>Exploding Kittens</td>\n",
       "      <td>...</td>\n",
       "      <td>0</td>\n",
       "      <td>elanlee</td>\n",
       "      <td>Elan Lee</td>\n",
       "      <td>Los Angeles</td>\n",
       "      <td>CA</td>\n",
       "      <td>1</td>\n",
       "      <td>USA</td>\n",
       "      <td>2015-01-20</td>\n",
       "      <td>2015-02-19</td>\n",
       "      <td>30</td>\n",
       "    </tr>\n",
       "    <tr>\n",
       "      <th>1</th>\n",
       "      <td>6465690.0</td>\n",
       "      <td>\\nAn unusually addicting, high-quality desk toy designed to help you focus. Fidget at work, in class, and at home in style.\\n</td>\n",
       "      <td>Product Design</td>\n",
       "      <td>usd</td>\n",
       "      <td>15000.0</td>\n",
       "      <td>Denver, CO</td>\n",
       "      <td>154926</td>\n",
       "      <td>[788, 250, 43073, 21796, 41727, 21627, 12215, 7608, 3290, 2189, 82, 85]</td>\n",
       "      <td>[1.0, 14.0, 19.0, 19.0, 35.0, 35.0, 79.0, 79.0, 129.0, 129.0, 849.0, 849.0]</td>\n",
       "      <td>Fidget Cube: A Vinyl Desk Toy</td>\n",
       "      <td>...</td>\n",
       "      <td>0</td>\n",
       "      <td>antsylabs</td>\n",
       "      <td>Matthew and Mark McLachlan</td>\n",
       "      <td>Denver</td>\n",
       "      <td>CO</td>\n",
       "      <td>1</td>\n",
       "      <td>USA</td>\n",
       "      <td>2016-08-30</td>\n",
       "      <td>2016-10-19</td>\n",
       "      <td>50</td>\n",
       "    </tr>\n",
       "  </tbody>\n",
       "</table>\n",
       "<p>2 rows × 28 columns</p>\n",
       "</div>"
      ],
      "text/plain": [
       "   amt_pledged  \\\n",
       "0    8782571.0   \n",
       "1    6465690.0   \n",
       "\n",
       "                                                                                                                           blurb  \\\n",
       "0                    \\nThis is a card game for people who are into kittens and explosions and laser beams and sometimes goats.\\n   \n",
       "1  \\nAn unusually addicting, high-quality desk toy designed to help you focus. Fidget at work, in class, and at home in style.\\n   \n",
       "\n",
       "         category currency     goal         location  num_backers  \\\n",
       "0  Tabletop Games      usd  10000.0  Los Angeles, CA       219382   \n",
       "1  Product Design      usd  15000.0       Denver, CO       154926   \n",
       "\n",
       "                                                          num_backers_tier  \\\n",
       "0                                                  [15505, 202934, 200, 5]   \n",
       "1  [788, 250, 43073, 21796, 41727, 21627, 12215, 7608, 3290, 2189, 82, 85]   \n",
       "\n",
       "                                                                   pledge_tier  \\\n",
       "0                                                   [20.0, 35.0, 100.0, 500.0]   \n",
       "1  [1.0, 14.0, 19.0, 19.0, 35.0, 35.0, 79.0, 79.0, 129.0, 129.0, 849.0, 849.0]   \n",
       "\n",
       "                           title ...  pledge_level_num    creator  \\\n",
       "0              Exploding Kittens ...                 0    elanlee   \n",
       "1  Fidget Cube: A Vinyl Desk Toy ...                 0  antsylabs   \n",
       "\n",
       "                creator_names         loc1  loc2 is_state  country      start  \\\n",
       "0                    Elan Lee  Los Angeles    CA        1      USA 2015-01-20   \n",
       "1  Matthew and Mark McLachlan       Denver    CO        1      USA 2016-08-30   \n",
       "\n",
       "         end days  \n",
       "0 2015-02-19   30  \n",
       "1 2016-10-19   50  \n",
       "\n",
       "[2 rows x 28 columns]"
      ]
     },
     "execution_count": 37,
     "metadata": {},
     "output_type": "execute_result"
    }
   ],
   "source": [
    "df2.head(2)"
   ]
  },
  {
   "cell_type": "markdown",
   "metadata": {},
   "source": [
    "## Categories"
   ]
  },
  {
   "cell_type": "code",
   "execution_count": 38,
   "metadata": {
    "ExecuteTime": {
     "end_time": "2016-11-09T21:49:47.448689",
     "start_time": "2016-11-09T21:49:47.443823"
    },
    "collapsed": false,
    "scrolled": true
   },
   "outputs": [],
   "source": [
    "categories = df2[\"category\"].unique()\n",
    "categories = [[i.lower()] for i in categories]"
   ]
  },
  {
   "cell_type": "code",
   "execution_count": 39,
   "metadata": {
    "ExecuteTime": {
     "end_time": "2016-11-09T21:49:47.460389",
     "start_time": "2016-11-09T21:49:47.451764"
    },
    "collapsed": true
   },
   "outputs": [],
   "source": [
    "kcats = [\"Art\",\n",
    "\"Comics\",\n",
    "\"Crafts\",\n",
    "\"Dance\",\n",
    "\"Design\",\n",
    "\"Fashion\",\n",
    "\"Film & Video\",\n",
    "\"Food\",\n",
    "\"Games\",\n",
    "\"Journalism\",\n",
    "\"Music\",\n",
    "\"Photography\",\n",
    "\"Publishing\",\n",
    "\"Technology\",\n",
    "\"Theater\"]"
   ]
  },
  {
   "cell_type": "code",
   "execution_count": 40,
   "metadata": {
    "ExecuteTime": {
     "end_time": "2016-11-09T21:49:47.468452",
     "start_time": "2016-11-09T21:49:47.463589"
    },
    "collapsed": true
   },
   "outputs": [],
   "source": [
    "kcats = [[i.lower()] for i in kcats]"
   ]
  },
  {
   "cell_type": "code",
   "execution_count": 41,
   "metadata": {
    "ExecuteTime": {
     "end_time": "2016-11-09T21:49:47.475330",
     "start_time": "2016-11-09T21:49:47.471036"
    },
    "collapsed": true
   },
   "outputs": [],
   "source": [
    "categories.extend(kcats)"
   ]
  },
  {
   "cell_type": "code",
   "execution_count": 42,
   "metadata": {
    "ExecuteTime": {
     "end_time": "2016-11-09T21:49:47.498472",
     "start_time": "2016-11-09T21:49:47.478777"
    },
    "collapsed": true
   },
   "outputs": [],
   "source": [
    "model = Word2Vec(categories, min_count=0)"
   ]
  },
  {
   "cell_type": "code",
   "execution_count": 43,
   "metadata": {
    "ExecuteTime": {
     "end_time": "2016-11-09T21:49:47.522422",
     "start_time": "2016-11-09T21:49:47.501842"
    },
    "collapsed": false
   },
   "outputs": [
    {
     "name": "stdout",
     "output_type": "stream",
     "text": [
      "['art']\n",
      "('stationery', 0.18190565705299377)\n",
      "('hip-hop', 0.17864373326301575)\n",
      "('playing cards', 0.1732616126537323)\n",
      "('sound', 0.1540769338607788)\n",
      "('interactive design', 0.14903217554092407)\n",
      "\n",
      "['comics']\n",
      "('action', 0.18668465316295624)\n",
      "('puzzles', 0.16805586218833923)\n",
      "(\"children's books\", 0.1503983736038208)\n",
      "('playing cards', 0.14931637048721313)\n",
      "('anthologies', 0.14254578948020935)\n",
      "\n",
      "['crafts']\n",
      "('rock', 0.21476006507873535)\n",
      "('spaces', 0.18376420438289642)\n",
      "('installations', 0.16720616817474365)\n",
      "('people', 0.1659121960401535)\n",
      "('anthologies', 0.15770873427391052)\n",
      "\n",
      "['dance']\n",
      "('country &amp; folk', 0.21552163362503052)\n",
      "('spaces', 0.1784234344959259)\n",
      "('action', 0.17598041892051697)\n",
      "('video games', 0.17465408146381378)\n",
      "('vegan', 0.15892380475997925)\n",
      "\n",
      "['design']\n",
      "('rock', 0.19560274481773376)\n",
      "('video', 0.18019834160804749)\n",
      "(\"children's books\", 0.17965483665466309)\n",
      "('camera equipment', 0.1769547164440155)\n",
      "('spaces', 0.17587065696716309)\n",
      "\n",
      "['fashion']\n",
      "('thrillers', 0.1677640974521637)\n",
      "('stationery', 0.15893054008483887)\n",
      "('puzzles', 0.15668490529060364)\n",
      "('nonfiction', 0.14913706481456757)\n",
      "('pop', 0.13239571452140808)\n",
      "\n",
      "['film & video']\n",
      "('sculpture', 0.20253175497055054)\n",
      "('thrillers', 0.1700279265642166)\n",
      "('video', 0.16981977224349976)\n",
      "('sound', 0.1675577461719513)\n",
      "('installations', 0.1571745127439499)\n",
      "\n",
      "['food']\n",
      "('action', 0.21805612742900848)\n",
      "('romance', 0.19076621532440186)\n",
      "('video', 0.1901267170906067)\n",
      "('nonfiction', 0.16055329144001007)\n",
      "(\"children's books\", 0.15975508093833923)\n",
      "\n",
      "['games']\n",
      "('video', 0.20226013660430908)\n",
      "('nonfiction', 0.18514631688594818)\n",
      "(\"children's books\", 0.17688634991645813)\n",
      "('accessories', 0.1647075116634369)\n",
      "('interactive design', 0.1597336232662201)\n",
      "\n",
      "['journalism']\n",
      "(\"children's books\", 0.21755176782608032)\n",
      "('people', 0.18912003934383392)\n",
      "('sound', 0.1866675615310669)\n",
      "('family', 0.18041664361953735)\n",
      "('installations', 0.15342110395431519)\n",
      "\n",
      "['music']\n",
      "('pop', 0.20630155503749847)\n",
      "(\"children's books\", 0.19551733136177063)\n",
      "('anthologies', 0.17055702209472656)\n",
      "('sound', 0.16373993456363678)\n",
      "('action', 0.15744441747665405)\n",
      "\n",
      "['photography']\n",
      "(\"children's books\", 0.2984469532966614)\n",
      "('anthologies', 0.25500714778900146)\n",
      "('action', 0.1956561803817749)\n",
      "('video', 0.1523461639881134)\n",
      "('interactive design', 0.14386942982673645)\n",
      "\n",
      "['publishing']\n",
      "('comic books', 0.18726488947868347)\n",
      "('periodicals', 0.16126412153244019)\n",
      "('vegan', 0.15093205869197845)\n",
      "('anthologies', 0.1484760046005249)\n",
      "('installations', 0.14433227479457855)\n",
      "\n",
      "['technology']\n",
      "('puzzles', 0.2174462378025055)\n",
      "(\"children's books\", 0.1741572767496109)\n",
      "('nonfiction', 0.155034601688385)\n",
      "('spaces', 0.15225154161453247)\n",
      "('gadgets', 0.14872539043426514)\n",
      "\n",
      "['theater']\n",
      "(\"children's books\", 0.19008475542068481)\n",
      "('family', 0.17241130769252777)\n",
      "('video', 0.17085672914981842)\n",
      "('architecture', 0.15590155124664307)\n",
      "('hip-hop', 0.14968904852867126)\n",
      "\n"
     ]
    }
   ],
   "source": [
    "for i in kcats:\n",
    "    print i\n",
    "    for j in model.most_similar(positive=i, negative=[x[0] for x in kcats if x != i],topn=5):\n",
    "        print j\n",
    "    print"
   ]
  },
  {
   "cell_type": "raw",
   "metadata": {
    "ExecuteTime": {
     "end_time": "2016-11-09T21:29:11.843856",
     "start_time": "2016-11-09T21:29:00.730022"
    }
   },
   "source": [
    "nlp = English()"
   ]
  },
  {
   "cell_type": "raw",
   "metadata": {
    "ExecuteTime": {
     "end_time": "2016-11-09T21:29:24.633268",
     "start_time": "2016-11-09T21:29:24.628097"
    }
   },
   "source": [
    "parsed = nlp(unicode(df2[\"creator_names\"][50]))"
   ]
  },
  {
   "cell_type": "raw",
   "metadata": {
    "ExecuteTime": {
     "end_time": "2016-11-09T21:38:07.234835",
     "start_time": "2016-11-09T21:38:07.226788"
    }
   },
   "source": [
    "def get_type(x):\n",
    "    try:\n",
    "        parsed = nlp(unicode(x))\n",
    "        type_list = []\n",
    "        for i, j in enumerate(parsed):\n",
    "            type_list.append(j.ent_type_)\n",
    "        type_counts = Counter(type_list)\n",
    "        return type_counts.most_common(1)[0][0]\n",
    "    except:\n",
    "        return \"\""
   ]
  },
  {
   "cell_type": "raw",
   "metadata": {
    "ExecuteTime": {
     "end_time": "2016-11-09T21:38:09.857993",
     "start_time": "2016-11-09T21:38:09.184733"
    }
   },
   "source": [
    "df2[\"creator_type\"] = df2[\"creator_names\"].map(get_type)"
   ]
  },
  {
   "cell_type": "raw",
   "metadata": {
    "ExecuteTime": {
     "end_time": "2016-11-09T21:38:11.622602",
     "start_time": "2016-11-09T21:38:11.609226"
    }
   },
   "source": [
    "df2[\"creator_type\"].value_counts()"
   ]
  },
  {
   "cell_type": "raw",
   "metadata": {
    "ExecuteTime": {
     "end_time": "2016-11-09T21:38:50.682083",
     "start_time": "2016-11-09T21:38:50.661223"
    }
   },
   "source": [
    "df2[\"creator_names\"][df2[\"creator_type\"] == \"PERSON\"]"
   ]
  },
  {
   "cell_type": "markdown",
   "metadata": {},
   "source": [
    "## Export to csv"
   ]
  },
  {
   "cell_type": "code",
   "execution_count": 44,
   "metadata": {
    "ExecuteTime": {
     "end_time": "2016-11-09T21:49:47.535351",
     "start_time": "2016-11-09T21:49:47.524930"
    },
    "collapsed": true
   },
   "outputs": [],
   "source": [
    "df3 = df2.copy()"
   ]
  },
  {
   "cell_type": "code",
   "execution_count": 45,
   "metadata": {
    "ExecuteTime": {
     "end_time": "2016-11-09T21:49:47.545664",
     "start_time": "2016-11-09T21:49:47.538700"
    },
    "collapsed": false
   },
   "outputs": [
    {
     "name": "stdout",
     "output_type": "stream",
     "text": [
      "['amt_pledged', 'blurb', 'category', 'currency', 'goal', 'location', 'num_backers', 'num_backers_tier', 'pledge_tier', 'title', 'url', 'exchange_rate', 'pledged_USD', 'goal_USD', 'percent_received', 'goal_level', 'goal_level_num', 'pledge_level', 'pledge_level_num', 'creator', 'creator_names', 'loc1', 'loc2', 'is_state', 'country', 'start', 'end', 'days']\n"
     ]
    }
   ],
   "source": [
    "print list(df3.columns)"
   ]
  },
  {
   "cell_type": "code",
   "execution_count": 46,
   "metadata": {
    "ExecuteTime": {
     "end_time": "2016-11-09T21:49:47.554734",
     "start_time": "2016-11-09T21:49:47.548350"
    },
    "collapsed": true
   },
   "outputs": [],
   "source": [
    "columns = ['title', 'blurb', 'category', 'location', 'goal_USD', 'pledged_USD', 'percent_received', \n",
    "           'pledged_USD', 'num_backers', 'num_backers_tier', 'pledge_tier', 'url', \n",
    "           'exchange_rate', 'goal_level', 'goal_level_num', 'pledge_level', 'pledge_level_num', \n",
    "           'creator', 'creator_names', 'country', 'start', 'end', 'days']"
   ]
  },
  {
   "cell_type": "code",
   "execution_count": 47,
   "metadata": {
    "ExecuteTime": {
     "end_time": "2016-11-09T21:49:47.567505",
     "start_time": "2016-11-09T21:49:47.558337"
    },
    "collapsed": true
   },
   "outputs": [],
   "source": [
    "df3 = df3[columns]"
   ]
  },
  {
   "cell_type": "code",
   "execution_count": 49,
   "metadata": {
    "ExecuteTime": {
     "end_time": "2016-11-09T21:52:14.015548",
     "start_time": "2016-11-09T21:52:14.010955"
    },
    "collapsed": true
   },
   "outputs": [],
   "source": [
    "def remove_n(x):\n",
    "    try:\n",
    "        return x.replace(\"\\n\", \"\")\n",
    "    except:\n",
    "        return x"
   ]
  },
  {
   "cell_type": "code",
   "execution_count": 50,
   "metadata": {
    "ExecuteTime": {
     "end_time": "2016-11-09T21:52:27.031224",
     "start_time": "2016-11-09T21:52:26.732461"
    },
    "collapsed": true
   },
   "outputs": [],
   "source": [
    "df3 = df3.applymap(remove_n)"
   ]
  },
  {
   "cell_type": "code",
   "execution_count": 52,
   "metadata": {
    "ExecuteTime": {
     "end_time": "2016-11-09T21:52:44.901906",
     "start_time": "2016-11-09T21:52:44.742110"
    },
    "collapsed": false
   },
   "outputs": [],
   "source": [
    "df3.to_csv(\"more_data.csv\", sep=\"|\")"
   ]
  },
  {
   "cell_type": "code",
   "execution_count": null,
   "metadata": {
    "collapsed": true
   },
   "outputs": [],
   "source": []
  }
 ],
 "metadata": {
  "anaconda-cloud": {},
  "kernelspec": {
   "display_name": "Python [default]",
   "language": "python",
   "name": "python2"
  },
  "language_info": {
   "codemirror_mode": {
    "name": "ipython",
    "version": 2
   },
   "file_extension": ".py",
   "mimetype": "text/x-python",
   "name": "python",
   "nbconvert_exporter": "python",
   "pygments_lexer": "ipython2",
   "version": "2.7.12"
  },
  "toc": {
   "nav_menu": {
    "height": "192px",
    "width": "252px"
   },
   "navigate_menu": true,
   "number_sections": true,
   "sideBar": true,
   "threshold": 4,
   "toc_cell": false,
   "toc_section_display": "block",
   "toc_window_display": true
  }
 },
 "nbformat": 4,
 "nbformat_minor": 1
}
