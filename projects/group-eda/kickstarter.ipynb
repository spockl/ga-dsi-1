{
 "cells": [
  {
   "cell_type": "markdown",
   "metadata": {},
   "source": [
    "# Set up notebook"
   ]
  },
  {
   "cell_type": "markdown",
   "metadata": {},
   "source": [
    "## Import libraries"
   ]
  },
  {
   "cell_type": "code",
   "execution_count": 69,
   "metadata": {
    "ExecuteTime": {
     "end_time": "2016-11-09T18:50:21.080670",
     "start_time": "2016-11-09T18:50:20.199990"
    },
    "collapsed": false
   },
   "outputs": [],
   "source": [
    "import pandas as pd \n",
    "import numpy as np\n",
    "import scipy\n",
    "from sklearn import decomposition, manifold, preprocessing, cluster\n",
    "import string\n",
    "\n",
    "import matplotlib.pyplot as plt\n",
    "import seaborn as sns\n",
    "\n",
    "from selenium import webdriver\n",
    "from bs4 import BeautifulSoup\n",
    "import requests\n",
    "\n",
    "from gensim.models import Word2Vec\n",
    "import nltk\n",
    "from spacy.en import English\n",
    "\n",
    "from ipywidgets import interact\n",
    "\n",
    "%matplotlib inline"
   ]
  },
  {
   "cell_type": "markdown",
   "metadata": {
    "ExecuteTime": {
     "end_time": "2016-11-09T11:46:03.599410",
     "start_time": "2016-11-09T11:46:03.591762"
    }
   },
   "source": [
    "## Plot style"
   ]
  },
  {
   "cell_type": "code",
   "execution_count": 2,
   "metadata": {
    "ExecuteTime": {
     "end_time": "2016-11-09T18:38:25.677009",
     "start_time": "2016-11-09T18:38:25.671625"
    },
    "collapsed": false
   },
   "outputs": [],
   "source": [
    "plt.style.use(\"fivethirtyeight\")"
   ]
  },
  {
   "cell_type": "markdown",
   "metadata": {},
   "source": [
    "## Dataframe options"
   ]
  },
  {
   "cell_type": "code",
   "execution_count": 3,
   "metadata": {
    "ExecuteTime": {
     "end_time": "2016-11-09T18:38:25.684905",
     "start_time": "2016-11-09T18:38:25.680342"
    },
    "collapsed": false
   },
   "outputs": [],
   "source": [
    "pd.set_option('max_colwidth',500)"
   ]
  },
  {
   "cell_type": "markdown",
   "metadata": {},
   "source": [
    "# Load data"
   ]
  },
  {
   "cell_type": "code",
   "execution_count": 4,
   "metadata": {
    "ExecuteTime": {
     "end_time": "2016-11-09T18:38:27.276843",
     "start_time": "2016-11-09T18:38:25.690113"
    },
    "collapsed": false
   },
   "outputs": [],
   "source": [
    "df = pd.read_csv(\"https://raw.githubusercontent.com/socathie/paperplane/master/data/most_backed.csv\").iloc[:,1:]"
   ]
  },
  {
   "cell_type": "markdown",
   "metadata": {},
   "source": [
    "# Exploratory data analysis"
   ]
  },
  {
   "cell_type": "markdown",
   "metadata": {},
   "source": [
    "## What does the data look like"
   ]
  },
  {
   "cell_type": "code",
   "execution_count": 5,
   "metadata": {
    "ExecuteTime": {
     "end_time": "2016-11-09T18:38:27.345929",
     "start_time": "2016-11-09T18:38:27.279629"
    },
    "collapsed": false
   },
   "outputs": [
    {
     "data": {
      "text/html": [
       "<div>\n",
       "<table border=\"1\" class=\"dataframe\">\n",
       "  <thead>\n",
       "    <tr style=\"text-align: right;\">\n",
       "      <th></th>\n",
       "      <th>amt.pledged</th>\n",
       "      <th>blurb</th>\n",
       "      <th>category</th>\n",
       "      <th>currency</th>\n",
       "      <th>goal</th>\n",
       "      <th>location</th>\n",
       "      <th>num.backers</th>\n",
       "      <th>num.backers.tier</th>\n",
       "      <th>pledge.tier</th>\n",
       "      <th>title</th>\n",
       "      <th>url</th>\n",
       "    </tr>\n",
       "  </thead>\n",
       "  <tbody>\n",
       "    <tr>\n",
       "      <th>0</th>\n",
       "      <td>8782571.0</td>\n",
       "      <td>\\nThis is a card game for people who are into kittens and explosions and laser beams and sometimes goats.\\n</td>\n",
       "      <td>Tabletop Games</td>\n",
       "      <td>usd</td>\n",
       "      <td>10000.0</td>\n",
       "      <td>Los Angeles, CA</td>\n",
       "      <td>219382</td>\n",
       "      <td>[15505, 202934, 200, 5]</td>\n",
       "      <td>[20.0, 35.0, 100.0, 500.0]</td>\n",
       "      <td>Exploding Kittens</td>\n",
       "      <td>/projects/elanlee/exploding-kittens</td>\n",
       "    </tr>\n",
       "    <tr>\n",
       "      <th>1</th>\n",
       "      <td>6465690.0</td>\n",
       "      <td>\\nAn unusually addicting, high-quality desk toy designed to help you focus. Fidget at work, in class, and at home in style.\\n</td>\n",
       "      <td>Product Design</td>\n",
       "      <td>usd</td>\n",
       "      <td>15000.0</td>\n",
       "      <td>Denver, CO</td>\n",
       "      <td>154926</td>\n",
       "      <td>[788, 250, 43073, 21796, 41727, 21627, 12215, 7608, 3290, 2189, 82, 85]</td>\n",
       "      <td>[1.0, 14.0, 19.0, 19.0, 35.0, 35.0, 79.0, 79.0, 129.0, 129.0, 849.0, 849.0]</td>\n",
       "      <td>Fidget Cube: A Vinyl Desk Toy</td>\n",
       "      <td>/projects/antsylabs/fidget-cube-a-vinyl-desk-toy</td>\n",
       "    </tr>\n",
       "    <tr>\n",
       "      <th>2</th>\n",
       "      <td>5408916.0</td>\n",
       "      <td>\\nBring Reading Rainbow’s library of interactive books &amp; video field trips to more platforms &amp; provide free access to classrooms in need!\\n</td>\n",
       "      <td>Web</td>\n",
       "      <td>usd</td>\n",
       "      <td>1000000.0</td>\n",
       "      <td>Los Angeles, CA</td>\n",
       "      <td>105857</td>\n",
       "      <td>[19639, 14343, 9136, 2259, 5666, 24512, 4957, 4359, 749, 1248, 500, 339, 282, 417, 1548, 517, 749, 155, 160, 60, 5, 10, 3, 100, 75, 12, 295, 69, 156, 1, 33, 1, 1, 8, 6, 30, 13, 39, 1, 4, 6, 21, 9, 3, 23, 11, 12, 20, 14, 11, 4, 14, 36, 10, 1, 1, 10, 2, 2, 8, 13, 10, 1, 1]</td>\n",
       "      <td>[5.0, 10.0, 25.0, 30.0, 35.0, 50.0, 75.0, 100.0, 110.0, 125.0, 140.0, 145.0, 150.0, 175.0, 200.0, 200.0, 250.0, 250.0, 275.0, 300.0, 300.0, 300.0, 300.0, 350.0, 350.0, 350.0, 375.0, 375.0, 400.0, 400.0, 400.0, 450.0, 500.0, 500.0, 500.0, 600.0, 700.0, 750.0, 750.0, 750.0, 750.0, 750.0, 750.0, 800.0, 800.0, 800.0, 800.0, 800.0, 800.0, 900.0, 1200.0, 1500.0, 1700.0, 2500.0, 2600.0, 3000.0, 3500.0, 3500.0, 3500.0, 3750.0, 5000.0, 10000.0, 10000.0, 10000.0]</td>\n",
       "      <td>Bring Reading Rainbow Back for Every Child, Everywhere!</td>\n",
       "      <td>/projects/readingrainbow/bring-reading-rainbow-back-for-every-child-everywh</td>\n",
       "    </tr>\n",
       "  </tbody>\n",
       "</table>\n",
       "</div>"
      ],
      "text/plain": [
       "   amt.pledged  \\\n",
       "0    8782571.0   \n",
       "1    6465690.0   \n",
       "2    5408916.0   \n",
       "\n",
       "                                                                                                                                         blurb  \\\n",
       "0                                  \\nThis is a card game for people who are into kittens and explosions and laser beams and sometimes goats.\\n   \n",
       "1                \\nAn unusually addicting, high-quality desk toy designed to help you focus. Fidget at work, in class, and at home in style.\\n   \n",
       "2  \\nBring Reading Rainbow’s library of interactive books & video field trips to more platforms & provide free access to classrooms in need!\\n   \n",
       "\n",
       "         category currency       goal         location  num.backers  \\\n",
       "0  Tabletop Games      usd    10000.0  Los Angeles, CA       219382   \n",
       "1  Product Design      usd    15000.0       Denver, CO       154926   \n",
       "2             Web      usd  1000000.0  Los Angeles, CA       105857   \n",
       "\n",
       "                                                                                                                                                                                                                                                                  num.backers.tier  \\\n",
       "0                                                                                                                                                                                                                                                          [15505, 202934, 200, 5]   \n",
       "1                                                                                                                                                                                                          [788, 250, 43073, 21796, 41727, 21627, 12215, 7608, 3290, 2189, 82, 85]   \n",
       "2  [19639, 14343, 9136, 2259, 5666, 24512, 4957, 4359, 749, 1248, 500, 339, 282, 417, 1548, 517, 749, 155, 160, 60, 5, 10, 3, 100, 75, 12, 295, 69, 156, 1, 33, 1, 1, 8, 6, 30, 13, 39, 1, 4, 6, 21, 9, 3, 23, 11, 12, 20, 14, 11, 4, 14, 36, 10, 1, 1, 10, 2, 2, 8, 13, 10, 1, 1]   \n",
       "\n",
       "                                                                                                                                                                                                                                                                                                                                                                                                                                                                 pledge.tier  \\\n",
       "0                                                                                                                                                                                                                                                                                                                                                                                                                                                 [20.0, 35.0, 100.0, 500.0]   \n",
       "1                                                                                                                                                                                                                                                                                                                                                                                                [1.0, 14.0, 19.0, 19.0, 35.0, 35.0, 79.0, 79.0, 129.0, 129.0, 849.0, 849.0]   \n",
       "2  [5.0, 10.0, 25.0, 30.0, 35.0, 50.0, 75.0, 100.0, 110.0, 125.0, 140.0, 145.0, 150.0, 175.0, 200.0, 200.0, 250.0, 250.0, 275.0, 300.0, 300.0, 300.0, 300.0, 350.0, 350.0, 350.0, 375.0, 375.0, 400.0, 400.0, 400.0, 450.0, 500.0, 500.0, 500.0, 600.0, 700.0, 750.0, 750.0, 750.0, 750.0, 750.0, 750.0, 800.0, 800.0, 800.0, 800.0, 800.0, 800.0, 900.0, 1200.0, 1500.0, 1700.0, 2500.0, 2600.0, 3000.0, 3500.0, 3500.0, 3500.0, 3750.0, 5000.0, 10000.0, 10000.0, 10000.0]   \n",
       "\n",
       "                                                     title  \\\n",
       "0                                        Exploding Kittens   \n",
       "1                            Fidget Cube: A Vinyl Desk Toy   \n",
       "2  Bring Reading Rainbow Back for Every Child, Everywhere!   \n",
       "\n",
       "                                                                           url  \n",
       "0                                          /projects/elanlee/exploding-kittens  \n",
       "1                             /projects/antsylabs/fidget-cube-a-vinyl-desk-toy  \n",
       "2  /projects/readingrainbow/bring-reading-rainbow-back-for-every-child-everywh  "
      ]
     },
     "execution_count": 5,
     "metadata": {},
     "output_type": "execute_result"
    }
   ],
   "source": [
    "df.head(3)"
   ]
  },
  {
   "cell_type": "code",
   "execution_count": 6,
   "metadata": {
    "ExecuteTime": {
     "end_time": "2016-11-09T18:38:27.369121",
     "start_time": "2016-11-09T18:38:27.349037"
    },
    "collapsed": false
   },
   "outputs": [
    {
     "name": "stdout",
     "output_type": "stream",
     "text": [
      "<class 'pandas.core.frame.DataFrame'>\n",
      "RangeIndex: 4000 entries, 0 to 3999\n",
      "Data columns (total 11 columns):\n",
      "amt.pledged         4000 non-null float64\n",
      "blurb               4000 non-null object\n",
      "category            4000 non-null object\n",
      "currency            4000 non-null object\n",
      "goal                4000 non-null float64\n",
      "location            4000 non-null object\n",
      "num.backers         4000 non-null int64\n",
      "num.backers.tier    4000 non-null object\n",
      "pledge.tier         4000 non-null object\n",
      "title               4000 non-null object\n",
      "url                 4000 non-null object\n",
      "dtypes: float64(2), int64(1), object(8)\n",
      "memory usage: 343.8+ KB\n"
     ]
    }
   ],
   "source": [
    "df.info()"
   ]
  },
  {
   "cell_type": "code",
   "execution_count": 7,
   "metadata": {
    "ExecuteTime": {
     "end_time": "2016-11-09T18:38:27.413582",
     "start_time": "2016-11-09T18:38:27.372507"
    },
    "collapsed": false
   },
   "outputs": [
    {
     "data": {
      "text/html": [
       "<div>\n",
       "<table border=\"1\" class=\"dataframe\">\n",
       "  <thead>\n",
       "    <tr style=\"text-align: right;\">\n",
       "      <th></th>\n",
       "      <th>amt.pledged</th>\n",
       "      <th>goal</th>\n",
       "      <th>num.backers</th>\n",
       "    </tr>\n",
       "  </thead>\n",
       "  <tbody>\n",
       "    <tr>\n",
       "      <th>count</th>\n",
       "      <td>4.000000e+03</td>\n",
       "      <td>4.000000e+03</td>\n",
       "      <td>4000.000000</td>\n",
       "    </tr>\n",
       "    <tr>\n",
       "      <th>mean</th>\n",
       "      <td>2.898410e+05</td>\n",
       "      <td>6.171059e+04</td>\n",
       "      <td>3582.659750</td>\n",
       "    </tr>\n",
       "    <tr>\n",
       "      <th>std</th>\n",
       "      <td>7.119734e+05</td>\n",
       "      <td>1.266611e+05</td>\n",
       "      <td>7316.163105</td>\n",
       "    </tr>\n",
       "    <tr>\n",
       "      <th>min</th>\n",
       "      <td>1.925000e+03</td>\n",
       "      <td>1.000000e+00</td>\n",
       "      <td>1109.000000</td>\n",
       "    </tr>\n",
       "    <tr>\n",
       "      <th>25%</th>\n",
       "      <td>6.755950e+04</td>\n",
       "      <td>1.300000e+04</td>\n",
       "      <td>1406.000000</td>\n",
       "    </tr>\n",
       "    <tr>\n",
       "      <th>50%</th>\n",
       "      <td>1.203770e+05</td>\n",
       "      <td>3.000000e+04</td>\n",
       "      <td>1946.000000</td>\n",
       "    </tr>\n",
       "    <tr>\n",
       "      <th>75%</th>\n",
       "      <td>2.591978e+05</td>\n",
       "      <td>6.000000e+04</td>\n",
       "      <td>3372.000000</td>\n",
       "    </tr>\n",
       "    <tr>\n",
       "      <th>max</th>\n",
       "      <td>2.033899e+07</td>\n",
       "      <td>2.000000e+06</td>\n",
       "      <td>219382.000000</td>\n",
       "    </tr>\n",
       "  </tbody>\n",
       "</table>\n",
       "</div>"
      ],
      "text/plain": [
       "        amt.pledged          goal    num.backers\n",
       "count  4.000000e+03  4.000000e+03    4000.000000\n",
       "mean   2.898410e+05  6.171059e+04    3582.659750\n",
       "std    7.119734e+05  1.266611e+05    7316.163105\n",
       "min    1.925000e+03  1.000000e+00    1109.000000\n",
       "25%    6.755950e+04  1.300000e+04    1406.000000\n",
       "50%    1.203770e+05  3.000000e+04    1946.000000\n",
       "75%    2.591978e+05  6.000000e+04    3372.000000\n",
       "max    2.033899e+07  2.000000e+06  219382.000000"
      ]
     },
     "execution_count": 7,
     "metadata": {},
     "output_type": "execute_result"
    }
   ],
   "source": [
    "df.describe()"
   ]
  },
  {
   "cell_type": "code",
   "execution_count": 8,
   "metadata": {
    "ExecuteTime": {
     "end_time": "2016-11-09T18:38:27.526384",
     "start_time": "2016-11-09T18:38:27.417261"
    },
    "collapsed": false
   },
   "outputs": [
    {
     "data": {
      "text/html": [
       "<div>\n",
       "<table border=\"1\" class=\"dataframe\">\n",
       "  <thead>\n",
       "    <tr style=\"text-align: right;\">\n",
       "      <th></th>\n",
       "      <th>blurb</th>\n",
       "      <th>category</th>\n",
       "      <th>currency</th>\n",
       "      <th>location</th>\n",
       "      <th>num.backers.tier</th>\n",
       "      <th>pledge.tier</th>\n",
       "      <th>title</th>\n",
       "      <th>url</th>\n",
       "    </tr>\n",
       "  </thead>\n",
       "  <tbody>\n",
       "    <tr>\n",
       "      <th>count</th>\n",
       "      <td>4000</td>\n",
       "      <td>4000</td>\n",
       "      <td>4000</td>\n",
       "      <td>4000</td>\n",
       "      <td>4000</td>\n",
       "      <td>4000</td>\n",
       "      <td>4000</td>\n",
       "      <td>4000</td>\n",
       "    </tr>\n",
       "    <tr>\n",
       "      <th>unique</th>\n",
       "      <td>3980</td>\n",
       "      <td>115</td>\n",
       "      <td>9</td>\n",
       "      <td>808</td>\n",
       "      <td>3998</td>\n",
       "      <td>3978</td>\n",
       "      <td>3995</td>\n",
       "      <td>3998</td>\n",
       "    </tr>\n",
       "    <tr>\n",
       "      <th>top</th>\n",
       "      <td>\\n</td>\n",
       "      <td>Product Design</td>\n",
       "      <td>usd</td>\n",
       "      <td>San Francisco, CA</td>\n",
       "      <td>[83, 669, 413, 60]</td>\n",
       "      <td>[90.0, 100.0]</td>\n",
       "      <td>Werewolf</td>\n",
       "      <td>/projects/1609568567/code-hardcore-the-coolest-2d-mecha-battle-game</td>\n",
       "    </tr>\n",
       "    <tr>\n",
       "      <th>freq</th>\n",
       "      <td>9</td>\n",
       "      <td>769</td>\n",
       "      <td>3437</td>\n",
       "      <td>280</td>\n",
       "      <td>2</td>\n",
       "      <td>4</td>\n",
       "      <td>2</td>\n",
       "      <td>2</td>\n",
       "    </tr>\n",
       "  </tbody>\n",
       "</table>\n",
       "</div>"
      ],
      "text/plain": [
       "       blurb        category currency           location    num.backers.tier  \\\n",
       "count   4000            4000     4000               4000                4000   \n",
       "unique  3980             115        9                808                3998   \n",
       "top       \\n  Product Design      usd  San Francisco, CA  [83, 669, 413, 60]   \n",
       "freq       9             769     3437                280                   2   \n",
       "\n",
       "          pledge.tier     title  \\\n",
       "count            4000      4000   \n",
       "unique           3978      3995   \n",
       "top     [90.0, 100.0]  Werewolf   \n",
       "freq                4         2   \n",
       "\n",
       "                                                                        url  \n",
       "count                                                                  4000  \n",
       "unique                                                                 3998  \n",
       "top     /projects/1609568567/code-hardcore-the-coolest-2d-mecha-battle-game  \n",
       "freq                                                                      2  "
      ]
     },
     "execution_count": 8,
     "metadata": {},
     "output_type": "execute_result"
    }
   ],
   "source": [
    "df.describe(include=[\"O\"])"
   ]
  },
  {
   "cell_type": "markdown",
   "metadata": {},
   "source": [
    "# Data mining/ data wrangling"
   ]
  },
  {
   "cell_type": "code",
   "execution_count": 9,
   "metadata": {
    "ExecuteTime": {
     "end_time": "2016-11-09T18:38:27.534610",
     "start_time": "2016-11-09T18:38:27.529014"
    },
    "collapsed": false
   },
   "outputs": [],
   "source": [
    "df2 = df.copy()"
   ]
  },
  {
   "cell_type": "markdown",
   "metadata": {},
   "source": [
    "## Rename columns"
   ]
  },
  {
   "cell_type": "code",
   "execution_count": 10,
   "metadata": {
    "ExecuteTime": {
     "end_time": "2016-11-09T18:38:27.544913",
     "start_time": "2016-11-09T18:38:27.538334"
    },
    "collapsed": true
   },
   "outputs": [],
   "source": [
    "df2.columns = [i.replace(\".\", \"_\").replace(\" \", \"_\") for i in df2.columns]"
   ]
  },
  {
   "cell_type": "markdown",
   "metadata": {},
   "source": [
    "## Standardizing dollar amounts"
   ]
  },
  {
   "cell_type": "code",
   "execution_count": 11,
   "metadata": {
    "ExecuteTime": {
     "end_time": "2016-11-09T18:38:27.556605",
     "start_time": "2016-11-09T18:38:27.548896"
    },
    "collapsed": false
   },
   "outputs": [
    {
     "data": {
      "text/plain": [
       "array(['usd', 'gbp', 'cad', 'aud', 'eur', 'sek', 'nzd', 'dkk', 'chf'], dtype=object)"
      ]
     },
     "execution_count": 11,
     "metadata": {},
     "output_type": "execute_result"
    }
   ],
   "source": [
    "df2[\"currency\"].unique()"
   ]
  },
  {
   "cell_type": "code",
   "execution_count": 12,
   "metadata": {
    "ExecuteTime": {
     "end_time": "2016-11-09T18:38:27.567741",
     "start_time": "2016-11-09T18:38:27.559731"
    },
    "collapsed": true
   },
   "outputs": [],
   "source": [
    "# Create exchange rate dictionary (note: exchange rates based on 11/9/16)\n",
    "exchange_dict = {\n",
    "    'usd': 1.00,\n",
    "    'gbp': 1.25,\n",
    "    'cad': 0.75,\n",
    "    'eur': 1.09,\n",
    "    'aud': 0.77,\n",
    "    'sek': 0.11,\n",
    "    'nzd': 0.73,\n",
    "    'dkk': 0.15,\n",
    "    'chf': 1.02,}"
   ]
  },
  {
   "cell_type": "code",
   "execution_count": 13,
   "metadata": {
    "ExecuteTime": {
     "end_time": "2016-11-09T18:38:27.582898",
     "start_time": "2016-11-09T18:38:27.570989"
    },
    "collapsed": true
   },
   "outputs": [],
   "source": [
    "# Create a new column that maps out exchange rate based on currency\n",
    "df2['exchange_rate'] = df2['currency'].map(exchange_dict)\n",
    "\n",
    "# Create new column that converts all data to USD \n",
    "df2['pledged_USD'] = df2['amt_pledged'] * df2['exchange_rate']\n",
    "df2['goal_USD'] = df2['goal'] * df2['exchange_rate']"
   ]
  },
  {
   "cell_type": "markdown",
   "metadata": {},
   "source": [
    "## Percentage of goal received"
   ]
  },
  {
   "cell_type": "code",
   "execution_count": 14,
   "metadata": {
    "ExecuteTime": {
     "end_time": "2016-11-09T18:38:27.592803",
     "start_time": "2016-11-09T18:38:27.585877"
    },
    "collapsed": true
   },
   "outputs": [],
   "source": [
    "# Create a new column that shows pledged/goal in percentage terms\n",
    "df2['percent_total'] = df2['pledged_USD'] / df2['goal_USD'] * 100."
   ]
  },
  {
   "cell_type": "markdown",
   "metadata": {},
   "source": [
    "## Binning dollar amounts"
   ]
  },
  {
   "cell_type": "code",
   "execution_count": 15,
   "metadata": {
    "ExecuteTime": {
     "end_time": "2016-11-09T18:38:27.603942",
     "start_time": "2016-11-09T18:38:27.596241"
    },
    "collapsed": true
   },
   "outputs": [],
   "source": [
    "levels = [\"low\", \"medium\", \"high\", \"dreaming\"]"
   ]
  },
  {
   "cell_type": "markdown",
   "metadata": {},
   "source": [
    "### Goals"
   ]
  },
  {
   "cell_type": "code",
   "execution_count": 16,
   "metadata": {
    "ExecuteTime": {
     "end_time": "2016-11-09T18:38:27.619785",
     "start_time": "2016-11-09T18:38:27.608785"
    },
    "collapsed": false
   },
   "outputs": [],
   "source": [
    "goal_bin = [(i,j) for i,j \n",
    "            in enumerate(zip([df2[\"goal_USD\"].quantile(k) \n",
    "                              for k in [0.1, 0.33, 0.67, 1.0]], \n",
    "                             levels))]"
   ]
  },
  {
   "cell_type": "code",
   "execution_count": 17,
   "metadata": {
    "ExecuteTime": {
     "end_time": "2016-11-09T18:38:27.633179",
     "start_time": "2016-11-09T18:38:27.624307"
    },
    "collapsed": false
   },
   "outputs": [],
   "source": [
    "def bin_goals_num(amt):\n",
    "    for i in goal_bin:\n",
    "        if amt <= i[1][0]:\n",
    "            return i[0]\n",
    "\n",
    "def bin_goals(amt):\n",
    "    for i in goal_bin:\n",
    "        if amt <= i[1][0]:\n",
    "            return i[1][1]"
   ]
  },
  {
   "cell_type": "code",
   "execution_count": 18,
   "metadata": {
    "ExecuteTime": {
     "end_time": "2016-11-09T18:38:27.662363",
     "start_time": "2016-11-09T18:38:27.637062"
    },
    "collapsed": true
   },
   "outputs": [],
   "source": [
    "df2[\"goal_level\"] = df2[\"goal_USD\"].map(bin_goals)\n",
    "df2[\"goal_level_num\"] = df2[\"goal_USD\"].map(bin_goals_num)"
   ]
  },
  {
   "cell_type": "markdown",
   "metadata": {},
   "source": [
    "### Pledges"
   ]
  },
  {
   "cell_type": "code",
   "execution_count": 19,
   "metadata": {
    "ExecuteTime": {
     "end_time": "2016-11-09T18:38:27.676853",
     "start_time": "2016-11-09T18:38:27.666116"
    },
    "collapsed": false
   },
   "outputs": [],
   "source": [
    "pledge_bin = [(i,j) for i,j \n",
    "              in enumerate(zip([df2[\"pledged_USD\"].quantile(k) \n",
    "                            for k in [0.1, 0.33, 0.67, 1.0]], levels))]"
   ]
  },
  {
   "cell_type": "code",
   "execution_count": 20,
   "metadata": {
    "ExecuteTime": {
     "end_time": "2016-11-09T18:38:27.687800",
     "start_time": "2016-11-09T18:38:27.680160"
    },
    "collapsed": false
   },
   "outputs": [],
   "source": [
    "def bin_pledges(amt):\n",
    "    for i in pledge_bin:\n",
    "        if amt <= i[1][0]:\n",
    "            return i[1][1]\n",
    "        \n",
    "def bin_pledges_num(amt):\n",
    "    for i in pledge_bin:\n",
    "        if amt <= i[1][0]:\n",
    "            return i[0]"
   ]
  },
  {
   "cell_type": "code",
   "execution_count": 21,
   "metadata": {
    "ExecuteTime": {
     "end_time": "2016-11-09T18:38:27.715434",
     "start_time": "2016-11-09T18:38:27.691335"
    },
    "collapsed": true
   },
   "outputs": [],
   "source": [
    "df2[\"pledge_level\"] = df2[\"goal_USD\"].map(bin_pledges)\n",
    "df2[\"pledge_level_num\"] = df2[\"goal_USD\"].map(bin_pledges_num)"
   ]
  },
  {
   "cell_type": "markdown",
   "metadata": {},
   "source": [
    "## Getting creator info"
   ]
  },
  {
   "cell_type": "code",
   "execution_count": 22,
   "metadata": {
    "ExecuteTime": {
     "end_time": "2016-11-09T18:38:27.732596",
     "start_time": "2016-11-09T18:38:27.719414"
    },
    "collapsed": false
   },
   "outputs": [],
   "source": [
    "df2[\"creator\"] = df2[\"url\"].map(lambda x: x.split(\"/\")[2])"
   ]
  },
  {
   "cell_type": "raw",
   "metadata": {
    "ExecuteTime": {
     "end_time": "2016-11-09T14:44:09.887267",
     "start_time": "2016-11-09T14:44:09.815321"
    },
    "collapsed": false
   },
   "source": [
    "df2.head()"
   ]
  },
  {
   "cell_type": "markdown",
   "metadata": {},
   "source": [
    "### Some of the creators are just numbers\n",
    "\n",
    "Scrape Kickstarter profile pages to get their names\n",
    "- Scraper run outside of Jupyter Notebook for efficiency\n",
    "    - See code on [GitHub]()"
   ]
  },
  {
   "cell_type": "code",
   "execution_count": 74,
   "metadata": {
    "ExecuteTime": {
     "end_time": "2016-11-09T20:04:34.039419",
     "start_time": "2016-11-09T20:04:33.585799"
    },
    "collapsed": true
   },
   "outputs": [],
   "source": [
    "names = list(pd.read_csv(\"names.txt\", delimiter=\"|\").columns)"
   ]
  },
  {
   "cell_type": "code",
   "execution_count": 78,
   "metadata": {
    "ExecuteTime": {
     "end_time": "2016-11-09T20:04:56.484001",
     "start_time": "2016-11-09T20:04:56.474011"
    },
    "collapsed": false
   },
   "outputs": [
    {
     "name": "stdout",
     "output_type": "stream",
     "text": [
      "['Elan Lee', 'Matthew and Mark McLachlan', 'LeVar Burton & Reading Rainbow', 'Rob Thomas', 'Double Fine and 2 Player Productions', 'Pebble Technology', 'inXile entertainment', 'Obsidian Entertainment', 'Playtonic Games', 'ZNAPS', 'Ys Net', 'Pebble Technology.1', 'comcept USA, LLC', 'Pebble Technology.2', 'Koji Igarashi', 'Cyanide And Happiness', 'OUYA', 'Ryan Grepper', 'inXile entertainment.1', 'Joel Hodgson', 'Zach Braff', 'BAUBAX LLC', 'Uber Entertainment Inc', 'Larian Studios LLC', 'Harebrained Schemes LLC', 'Next Thing Co.', 'PINE64 Inc.', 'Harebrained Schemes LLC.1', 'Warhorse Studios', 'Max Temkin', 'Cloud Imperium Games Corporation', 'inXile entertainment.2', 'Double Fine and 2 Player Productions.1', 'Harebrained Schemes LLC.2', 'Steamforged Games Ltd', 'Rooster Teeth', 'Nimrod Back', 'Charles Harris', 'Sauropod Studio', 'WobbleWorks LLC.', 'Peak Design', 'Frontier Developments', 'Amanda Palmer', 'MS Paint Adventures', 'Heart Machine', 'Eric Falconer', 'Angelia Trinidad', 'Bill Nye, CEO, The Planetary Society', 'Radiant Entertainment', 'CoolMiniOrNot', 'Portalarium, Inc.', 'Cyan, Inc.', 'Jide Tech', 'Red Thread Games', 'PRX, Inc', 'Nightdive Studios', 'Tinnus Enterprises', 'Shai Goitein', 'CoolMiniOrNot.1', 'Knog', 'Planet Money', 'Stoic', 'Privateer Press Interactive', 'Hairy Turtle Pty Ltd', 'Larian Studios LLC.1', 'Hello', 'Jeremy Smith', 'WayForward', 'the PonoMusic Team', 'Frederator / Cartoon Hangover', 'Pencil Test Studios, Inc.', 'Cryptozoic Entertainment', 'Reaper Miniatures', 'Jamey Stegmaier', 'Tony Pearce', 'Laser Unicorns', 'Planetary Resources', 'Matchstick.tv', '22cans', 'Peak Design.1', 'ArtCraft Entertainment, Inc.', 'David Alvarado and Jason Sussberg', 'Andromium Inc.', 'Tiko 3D', 'Onion', 'BetterBack', 'Perihelion Interactive LLC', 'Angelia Trinidad.1', 'OLO 3D Inc.', 'Monolith Board Games LLC', 'BRAGI LLC.', 'Playdek', 'CIA, Inc.', 'Stainless Games', 'Ron Gilbert & Gary Winnick', 'Ryan North', 'DM Initiatives', 'Ryan Crabtree', '5 Lives Studios', 'Reaper Miniatures.1', 'Rich Burlew', 'Adam Lewis Greene', 'City State Entertainment', 'Yacht Club Games', 'No Matter Studios', 'Gamelyn Games', 'Luuup Inc.', 'Andrew Gardner', 'Kris, Rob, Matt & Dave', 'Airship Syndicate', 'PolyHero Dice', 'Harmonix Music Systems', 'Replay Games', 'Revolution Software', 'OtherSide Entertainment', 'The Fun Pimps Entertainment LLC', 'Dan Shapiro', 'Winterkewl Games LLC', 'Knix Wear', 'Scott Wilson + MINIMAL', 'Reaper Miniatures.2', 'Timbuktu Labs', 'Kano', 'Zane Lamprey', 'Kate Matsudaira', 'Misen', 'The CGC team', 'Nick Seluk', 'KC Green', 'Kris Cheng', 'SLUGHAUS', 'Prepd', 'Field Company', 'Casey Hopkins + ElevationLab', 'Gamelyn Games.1', 'Crate Entertainment', 'Electroninks Incorporated', 'Randy Greenback - Gun Media', 'Cheapass Games', 'Mentat Studios LLC', 'Serious Poulp', 'Torquing Group Ltd', 'CoolMiniOrNot.2', 'Joscha Sauer', 'Robert Dougherty', 'M3D LLC', 'Jake Bronstein', 'PRX, Inc.1', 'RiffTrax: Mike, Bill & Kevin', 'eZelleron Inc.', 'SUPERHOT Team', 'Crytivo Games', 'Camouflaj', 'John Wick', 'Pablo Garcia & Golan Levin', 'FireFlies Audio', 'ZUNGLE', 'Albino Dragon', 'Cesar Kuriyama', 'De La Soul', 'SolarFall Games', 'Jay Silver', 'Rocketbook', 'Norlan', 'Michael Mindes', 'CoolMiniOrNot.3', 'Two Guys From Andromeda', 'Ozma Records', 'Bagel Labs, Inc.', 'Soulbound Studios', 'ROCKFISH Games', 'Gamelyn Games.2', 'David Malki !', 'XD Design', 'Anze Miklavec', 'Freddie Wong', 'Revols', 'Anova Culinary', 'Click & Grow', 'Cubical Drift', 'LA Game Space', 'GrowlerWerks', 'OSSIC', 'ZipChip Sports', 'Orbitkey', 'David Teie', 'WobbleWorks LLC..1', 'CoolMiniOrNot.4', 'PUGZ', 'Fred Hicks / Evil Hat Productions', 'DoubleBear Productions', 'Bulkhead Interactive', 'CoolMiniOrNot.5', 'GreaterThanGames', 'Mobvoi', 'MOGICS', 'CoolMiniOrNot.6', 'Subset Games', 'niftydrives', 'Apption Labs', 'Magzook Tightening Systems', 'Eric Ries', 'Tyler Sigman', 'Awaken Realms', 'Skinners Technologies', 'Charles Harris.1', 'BlankMediaGames', 'Harebrained Inc.', 'Oculus', 'Tynan Sylvester', 'Smithsonian Institution', 'Peak Design.2', 'Adam Nimoy', 'DFTBA Games', 'Sarah Munir', 'Linda Liukas', 'Phil Bosua', 'Jake Bronstein.1', 'CREATION CELL', 'Gears for Breakfast', 'Jon Richards & Jacob Durham', 'HUDWAY', 'Hawkers Co', 'Jeremy Smith.1', 'Penny Arcade', 'Jon Richards & Jacob Durham.1', 'Michael Mindes.1', 'Zachary Weiner', 'Flare Audio', 'Subutai Corporation', 'Prynt', 'Gamelyn Games.3', 'CoolMiniOrNot.7', 'Taryn Brumfitt', 'Michael Patrick', 'Knocki', 'Humanature Studios', 'James Olander', 'North Aware Inc', 'Podo Labs', 'Jesse Reed & Hamish Smyth', 'Robocat', 'Shalgi Design Studio', 'Goblinworks Inc.', 'Alex Winter', 'Evolutive Labs', 'Fred Hicks / Evil Hat Productions.1', 'Nebia', 'Radiate Athletics', 'Axanar Productions', 'INTIMINA', 'Tim', 'Greg Pak', 'Lomography', 'Antony Evans', 'Cryptozoic Entertainment.1', 'earin', 'Subterranean Games', 'Vivien Muller', 'Rafael Araujo', 'Dotan Saguy', 'Leo Babauta', 'David Toledo', 'PLX Devices', 'Zane Lamprey.1', 'Novaquark', 'Descendent Studios', 'Ryan Wiens', 'Innomdle Lab', 'Simon Roth', 'Krillbite Studio', 'Peak Design.3', 'LIX', 'NONDA', 'Haloband Inc.', 'Zachary Weiner.1', 'Hidrate, Inc.', 'Travis', 'Frank Bouchard', 'Studio TRIGGER', 'Made In College', 'FCTRY', 'Steven Elliot', 'The Muv-Luv Team', 'Ananda Svarupa Das', 'MegaBots, Inc.', 'Pavel & Ian', 'Peter Riering-Czekalla', 'Lorenzo, Carlo and Paolo', 'Cheapass Games.1', 'Laurens Laudowicz', 'Nura', 'John McLear', 'Loish and 3dtotal Publishing', 'Central Standard Timing', 'inkbox ink inc.', 'SECURIFI', 'Blur Studio', 'Aaron Diaz', 'KING Art Games', 'OBD Solutions', 'Jack Sutter', 'Tim Fowers', 'Steve King', 'BlankMediaGames.1', 'BSX Athletics', 'Ronimo Games', 'HYPER by Sanho Corporation', 'CANDY HOUSE Inc.', 'Alonso Martin', 'Alex Peake', 'Kate Matsudaira.1', 'Compulsion Games', 'The Molasses Flood', 'Cantrip Games', 'Infinite Fall', '1251236349', 'Chris Granger', 'Certifiable Studios', 'Lunar Missions Ltd', 'The Undress, inc.', 'CritSuccess', 'Paula Blankenship', 'LifeBEAM', 'Anamanaguchi', 'Ryan Laukat', 'Karl Kozak', 'Nerd Kingdom', 'Kevin Bates', 'Jemaine Clement', 'Ryan Wiens.1', 'Eddy Boxerman', 'Full Control', 'Pemberley Digital', 'Ice-Pick Lodge', 'Zachary Weiner.2', 'Gavan Brown of Roxley Games', 'John Lee Dumas', 'Indie Boards and Cards', 'Days of Wonder', 'Robert Dougherty.1', 'Masters Of Anatomy', 'Geek Ammo', 'Stone Blade Entertainment', 'North Star Games', 'Anita Sarkeesian', 'Hinterland', 'Chris Jones & Aaron Conners', 'Joy', 'The GD Studio', 'Discord Games LLC', 'Uwe Eickert', 'Daily Magic Games', 'Altered:', 'Bare Mettle Entertainment', 'Del Marth LLC', 'Mindless Self Indulgence', 'Matt Fleming', 'Zack Danger Brown', 'Elad Burko', 'Native Union', 'Brotherwise Games', 'Blink', 'Michael Mindes.2', 'Saar Shai', 'Power Practical', 'orange monkie', 'Alice Min Soo Chun & Stacy Kelly', 'Jesse Reed & Hamish Smyth.1', 'Danny Fein', 'Cardboard Utopia', 'Storium / Stephen Hood', 'Five24 Labs', 'Matt Dryfhout', 'Soda Pop Miniatures', 'Ndemic Creations', 'Soda Pop Miniatures.1', 'Next Keyboard', 'Derek Muller', 'Urvogel Games, LLC', 'GMT Games', 'Kacha', 'Bitbanger Labs', 'Primo Toys', 'Best Self Co.', 'Rachel Brathen', 'Linda Bloodworth Thomason', 'Ravean Team', 'Maxwell Salzberg', 'Matt Marrocco', 'Spike Lee', 'Gabor Vida - Teknision', 'Zeboyd Games', 'Massive Damage, Inc.', 'Pangea Designs: Michael Dickson', 'Toad The Wet Sprocket', 'YOLK', 'Hidden Path Entertainment, AMD & Razer', 'a2z(Interactive);', 'Imbue LLC', 'Supr Good Co.', 'Typica', 'League of Geeks', 'Michael Mindes.3', 'Michael Mindes.4', 'Dan Provost & Tom Gerhardt', 'Smoovie', 'Boaz Almog', 'Jon Richards & Jacob Durham.2', 'Black Forest Games', 'Radu & Andrew', 'Bifrost Biotech, Inc.', 'Space Goat Productions, Inc.', 'Laboratory', 'memobottle', 'RiffTrax: Mike, Bill & Kevin.1', 'F\\xc5\\xaaZ Designs', 'Far Off Games', 'Corey Cole', 'Tim Fowers.1', 'Danielius & Matas', 'NEEO Inc.', 'Lumos Helmet', 'ProSounds', 'MIITO', 'Kitfox Games', 'IDW Games', 'Acceptable Comics', 'Cliffhanger Productions', 'Qblinks', 'Samuel Agboola', 'Erik Kettenburg', 'Mantic Games', 'Tesla Amazing', 'Asthree Works', 'Dan Vinson and David Hunt', 'KING Art Games.1', 'OMOCAT', 'NostalgiCO', 'Geometrical Inc. & Rambod Radmard', 'Seth Hiatt', 'Jane Jensen', 'Team RippleBuds', 'I-Novae Studios', 'Spurcycle', 'sekaiproject', 'Technocel', 'Woodenshark', '730727524', 'SNOOZ, LLC', 'CoolMiniOrNot.8', 'Michael Mindes.5', 'Niki Singlaub', 'laboitedejeu', 'Starburns Industries, Inc.', 'Ananda Svarupa Das.1', 'BitsFactory', 'Andy & Rich', 'Fuckjerry', 'Lunar Ray Games', 'Gimmy Chu, Tom Rodinger, Christian Yan', 'chadwick parker & joe huang', 'John August', 'IronSpike', 'Ankama', 'Mobile Media Ventures, Inc.', 'SmartThings', 'GameStick', 'Secret Labs + House of Horology', 'Tommy Tallarico', 'Freddie Wong.1', 'PRX, Inc.2', 'Brotherwise Games.1', 'Lomography.1', 'Leanne Brown', 'Disastercake', 'Adam Hogsett', 'Camille van Gestel', 'Nic Ramirez, Matt and Leigh Capozzi', 'Tanner & Taylor Dame', 'Dick Figures', 'Star Command', 'Zombie Orpheus', 'Phil Bosua.1', 'FILM Ferrania', 'Jake Bronstein.2', 'Spark IO', 'Tim Buckley', 'Cherrymochi Game Studio', 'Spark IO.1', 'Lisa Q. Fetterman', 'Brandon Hudson', 'Gamelyn Games.4', 'Debbie Sterling', 'Geraint Krumpe of Y Line Product Design', 'Steve Jackson Games', 'ThoughtSTEM', 'Travis.1', 'ShaoLan Hsueh', 'Josh Parnell', 'Funforge LLC', 'Aqua Design Innovations', 'Noah Dentzel + Adam Miller + Brian Hahn', 'Christian Allen, Serellan LLC', 'Inglenook', 'Y Athletics', 'Food Huggers', 'Kingdom Death', 'Irrational Ventures', 'Dwarven Forge', 'Steve Swink', 'MERCS Miniatures', 'John VDN + Vitor Santa Maria', 'ZENLET', 'Palladium Books', 'Bill Trammel', 'The Chipolo Team', 'Mr. B. Games', 'Howard Tayler', 'Daniel Kane', 'Travis.2', 'SMO SmartMicroOptics', 'Barbell Apparel', 'Jamey Stegmaier.1', 'Manuka Makers', 'Max Gunawan', 'Dan Provost & Tom Gerhardt.1', 'Skyshine Games', 'Lilibet Foster', 'Peak Design.4', 'CoolMiniOrNot.9', 'Penny Arcade.1', \"John O'Nolan\", 'Good Games USA', 'Digital Sun Games', 'Motrr', 'James', 'Playism Games', 'Hero Forge', 'Josh Leake', 'Conatus Creative', 'Golchi LLC', 'Logbar inc.', 'Eric Allam', 'Lone Shark Games', 'Bulat', 'Neostream', 'Flag', 'Gamelyn Games.5', 'Gary Hustwit', 'Dave Zuverink', 'Bomber Barrel', 'Zachary Weiner.3', 'Thomas Larson', 'Ngozi', 'Power Practical.1', 'Travis.3', 'OTM Technologies Ltd.', 'BLOCKS Wearables', 'Imagos Softworks', 'Julian Gollop', 'North Star Games.1', 'Carman Licciardello', 'Hans Fex', 'Monument Labs, Inc.', 'PLUST, A Design Firm', 'Tony Peniche', 'Missing Worlds Media', 'Penny Arcade.2', 'Landfill Harmonic', 'Adonit', 'Zane Lamprey.2', 'Adapteva', 'Orbitkey.1', 'Fred Gallagher', 'Artix Entertainment, LLC', 'Intelligent Change', 'Pixel Titans', 'Solo Stove', 'i10 Accessories', 'Zach Crain', 'Sano Creative Design Lab', 'DIANE & FRANCK LEVY', 'Big Robot', 'Steve Grand', 'Isaac Childres', 'dean verhoeven', 'Ably Apparel', 'Revival Productions', 'Minion Games', 'RiffTrax: Mike, Bill & Kevin.2', 'CoolMiniOrNot.10', 'Fon', 'ForeverSpin.com', 'Canard PC', 'BioLite', 'Plugfones', 'Travis.4', 'Steven Elliot.1', 'Bezier Games', 'Moment', 'LOCTOTE INDUSTRIAL BAG CO.', 'Jim Young', 'Sam Farmer', 'Dave & Dave', 'Foam Sword', '5-Second Films', 'CoolMiniOrNot.11', 'LINJER', 'Jamey Stegmaier.2', 'Marina Abramovic Institute', 'Glynn Washington', 'MERCS Miniatures.1', 'Silvon', 'Flying Frog Productions', 'Jason Hilbourne', 'Gamelyn Games.6', 'Moment.1', \"Jason O'Mara\", 'King Dinosaur Games', 'Brotherwise Games.2', 'Michael Mindes.6', 'ThanoTech Inc.', 'HYPER by Sanho Corporation.1', 'Benjamin Black', 'Goldhawk Interactive', 'Monte Cook Games', 'Soda Pop Miniatures.2', 'Danny Zondervan', 'mininch', \"Tales of Game's\", 'THANASIT (SUNNY) INKAVESVAANIT', 'Muse Games', 'Make That Thing', 'FRED WATER', 'mininch.1', 'Scott Wilson + MINIMAL.1', 'Jeff Cannata', 'Dacuda', 'John Krajewski', 'Lars Simkins', 'chadwick parker & joe huang.1', 'Dan Provost & Tom Gerhardt.2', 'Ignition Design Labs', 'CommitStrip', 'Pathea Games', 'Jon Fawcett + [Fuse]Chicken', 'Pixelscopic', 'Masontops, Inc.', 'Nitzan Shafat & Aviv Rozenfeld', 'StudioBananaThings', 'Tom Vasel', 'Snowcastle Games', 'Mindclash Games', 'Steve Taylor', 'F\\xc5\\xaaZ Designs.1', 'Born Ready Games', 'don hertzfeldt', 'Crank Tank Studios', 'Paul & Rudy', 'Bobby Chiu', 'Tan Le', 'George Galloway MP', 'Onion.1', 'Offworld Industries', 'Monomyth Games', 'MIN MENDIS', 'Studio Foglio', 'Havok Timepieces', 'Alex Fundora', 'Kemer', 'Rinnovated Design', 'Sandy Petersen', 'CoolMiniOrNot.12', 'Hush', 'DarkSeas Games', 'Joywing Tech', 'PlayWay', 'CoolMiniOrNot.13', 'AREA 5', 'Sasha Joseph Neulinger', 'Sandy Petersen.1', 'Cryptozoic Entertainment.2', 'Charlie Carroll', 'Matthew Sprange', 'Omate', 'MIPOW USA', 'Vivo Labs', 'Erik Kettenburg.1', 'Cabinet & Modiphius', 'Richard Thomas', 'UGEARS', 'The Deep End Games', 'Chris Birch, Modiphius', 'Angelia Trinidad.2', 'sekaiproject.1', 'Jamey Stegmaier.3', 'Vincent Baker', 'Mindclash Games.1', 'Don Moyer', 'Massoud Hassani', 'Zombie Orpheus.1', 'Mantic Games.1', 'darkForge', 'Christopher Bischoff', 'orange monkie.1', 'FINsix', 'CoolMiniOrNot.14', 'Ryan James Yezak', 'Failbetter Games', 'Martin Kastner / Crucial Detail', 'Daniel Kalliontzis', 'Max Steiner Agency Inc.', 'Kate Matsudaira.2', 'Denny Tedesco', 'UDOO', 'Ben Tristem', 'Sethgodin', 'Baron Fig', 'Shane Hensley', 'Jeremy Cowart', 'Steven Elliot.2', 'Sean Connell', 'Mathew Sisson (and friends)', 'Sandswept Studios', 'Asylum Entertainment, Inc.', 'Gramovox', 'Goblinworks Inc..1', 'TLC', 'Scott Wilson + MINIMAL.2', 'Keymaster Games', 'Gail Simone/Jim Calafiore', 'U-Cube Designs LLC', 'Refract Studios', 'UDOO.1', 'Massoud Hassani.1', 'Jitesh Rawal', 'Matter And Form Inc.', 'Die Gute Fabrik', 'HOT Smart Watch from PHTL', 'Matt Harding', 'Fugitive Games', 'Sam Dyer', 'James E. Thomas', 'Karl Kozak.1', 'Luke Cutforth', 'Gamesbymo', 'Adam Hicks', 'Craneballs', 'Reproduction IO', 'James Matthew Wearing', 'Nikhil & Alejandro', 'XY-FindIt', 'Richard Thomas.1', 'Scott Heimendinger', 'Tyler Newton', 'Y Athletics.1', 'GUTS Department', 'Ben Melinger', 'Kevin Cancienne', 'Schell Games', 'Lattepanda', 'Chase Treibt', 'KOR', 'cw&t', 'Midgar Studio', 'Grimm Bros', 'Aamir Patel', 'Fortius Arms', 'Handground', 'Flexo', 'Boie USA', 'MSTRMND Collective', 'Rockwell Razors', 'BEDJET, LLC', 'Tyler Deeb', 'Uwe Eickert.1', 'Christopher Ferguson', 'Erik Moon', 'Zachary Weiner.4', 'GUSTIN', 'Nick Mastandrea', 'MIKE/PLATEAUS', 'Zahra Tashakorinia & Derek Tarnow', 'Jason Steele', 'Jay Silver.1', 'OTTO DesignWorks', 'Hurdler Studios', 'FarSight Studios', 'Hybra Advance Technology, Inc.', 'Nick Kelsey, Silicondust USA Inc', 'Mografi', 'Supermechanical', 'Saulo Camarotti', 'Jorge Cham', 'Arenar', 'Michael Mindes.7', 'Scott McCormack', 'Dwarven Forge.1', 'Gordon Alan Stewart', 'Arkami, Inc.', 'Richard Thomas.2', 'John Harper', 'Joey Comeau and Emily Horne', 'SunCreature Studio', 'AwareStack, Inc.', 'Hawk Wargames', 'Zach Wahls', 'Jack Stratton', 'GIROPTIC', 'Sam Gordon', 'Swiss Barefoot Company', 'Kyle J. Britt', 'Iridium Studios', 'Interceptor Entertainment', 'Taitale Studios', 'Ze Frank', 'Free League Publishing', 'Matika Wilbur', 'Tribute Games', 'Amanda Palmer.1', 'Farjay Studios', 'Daily Magic Games.1', 'Kiril and Catherine Alexandrov', 'Technical Illusions', 'Alan Gerding', 'Eone Timepieces', 'IronSpike.1', 'orange monkie.2', 'Chris & Thalia Bradley', 'PIECE', 'Midgar Studio.1', 'RiffTrax: Mike, Bill & Kevin.3', 'Pamela Green and Jarik van Sluijs', 'Michael Mindes.8', 'Adrian Grenier and Josh Zeman', 'ForeverSpin.com.1', 'WayCap', 'BoardGameGeek', 'PLX Devices.1', 'Y Athletics.2', 'David Jackson', 'Erasnep LLC', 'Jacob Kornbluth', 'MERCS Miniatures.2', 'Massive Black Inc', 'Dark Gate Games', 'NURUGO', 'Hoshinchu Air Bonsai Garden', 'hunter lee soik', 'BioLite.1', 'Lunarch Studios', 'Thomas Brush', 'Mind Lab', 'Bezier Games.1', 'Jaime Raijman', 'Will and Vince Simon', 'CoolMiniOrNot.15', 'Michelle Czajkowski', 'Five Iron Frenzy', 'Robert Weide & Don Argott', 'Playroom Entertainment', 'Ares Games', 'Devotec Industries', 'The Gay Women Channel', 'Mantic Games.2', 'Richard Herring', 'Mr Bingo', 'Michelle Czajkowski.1', 'Zero Radius Games LLC', 'Escape Hatch Entertainment', 'Team StarKid', 'Lofelt', 'Noria Home', 'Tommy Tallarico.1', 'outdoor element', 'Kevin Harrington', 'Steambot', 'Crystal Wash', 'Solgaard Design', 'BJ Minson / Grip6', '101Hero', 'Blue Beard Entertainment', 'Ryan Green & Josh Larson', 'Ernest Wright and Son Limited', 'SALT LLC', 'Two Tumbleweeds', 'MaxMax Inc.', 'Evolutive Labs.1', 'Chaosium Inc.', 'Dejobaan Games', 'Tommy Tallarico.2', 'Concepter', 'Juggernaut Games', 'John VDN + Vitor Santa Maria.1', 'Hope Nicholson', 'Stephan Rath', 'Wylie Beckert', 'MonochromeLLC', 'LOON Lab, Inc', '2 Player Productions', 'Flintu', 'Hush Hush Projects', 'Bartosz Kowalski & Joseph Chehade', 'Daniel Kane.1', 'Nextbit', 'Podo Labs.1', 'Matt Gilgenbach', 'Michael Mindes.9', 'Jack Monroe', 'Alex Baca + 1Lss Inc.', 'Iconoscope Films/Westpaw Films', 'Open Source RF', 'Counterplay Games', '6e6e6e', 'Trunkster', 'Griffin Dunne and Susanne Rostock', 'Sara Bordo', 'John Kricfalusi', 'Artana LLC', 'Studio MONO', 'Scott DeSapio', 'Coalatree', 'Double Double', 'Team StarKid.1', 'Becky and Joe', 'MOFILY', 'Michael Stokes', 'Photon Productions', 'Max Temkin.1', 'Lomography.2', 'Brenda Brundage', 'Robert Burke', 'Crafty Games', 'Disgruntled Decks LLC', 'Acteon', 'OwnPhones', 'ROAM', 'ALEX Bottle', 'Lumi', 'PACE', 'Pirate3D Inc', 'WaterMelon Co.', 'Satori Films', 'Mark Weiser', 'Rob Percival', 'Occipital', 'A. Magpoc Designs', 'David Chott', 'Tom Vasel.1', 'Saar Shai.1', 'Chris Birch, Modiphius.1', 'Scott Hussa', 'Vaultskin', 'Evolutive Labs.2', 'Keep Pursuing', 'Das Keyboard', 'Radlicht', 'Zojoi', 'Michael Laine', 'Ivent', 'Six to Start and Naomi Alderman', 'Leonard & Church', 'NEXUM', 'Jason Anarchy', 'CoolMiniOrNot.16', 'Wynd Technologies, Inc.', 'Adam Scorgie', 'KING Art Games.2', 'Zive', 'IronOak Games', 'SOScharger', 'D2M ', ' Design to Matter', 'John Paul Easley', 'Dead Mage', 'Smart Nora Inc.', 'Donn Manalili', 'TERC', 'Asymmetric', 'Brian Mazzaferri', 'iblazr lab', \"McSweeney's Publishing\", 'Alan C. Martin', 'Travis Hancock', 'Atlas Games', 'Seeed', 'Micaton Ergonomics, S.L.', 'WN Products Germany', 'Action Phase Games', 'Barracuda', 'Artiphon', 'Dave Zuverink.1', 'mochibags', 'American McGee', 'Elsewhere Films - Carl Deal & Tia Lessin', 'Lomography.3', 'the Star Trek: Renegades team', 'Studio Foglio.1', 'Stephen La Rivi\\xc3\\xa8re', 'MSTRMND Collective.1', 'Mariquel & Gaston', 'Robert Reed', 'CoolMiniOrNot.17', 'Unicube', 'Chad DeShon', 'Epic Minds', 'Karen Diggs and Eric Klein', 'Mantic Games.3', 'CycleLabs', 'Dane Wilcox', 'Ruggie', 'Onipunks', 'RunRev Ltd', 'William Heimsoth & Aaron Attebery', 'Padkix Design Lab', 'Avegant', 'Toms Liepkalns', 'Percko', 'SmileTitans Publishing', 'Danny Fein.1', 'Abby Howard', 'InfiniteUSB', 'Monte Cook Games.1', 'Trinket Studios', 'KAZ Designs', 'Bezier Games.2', 'D.LINK STUDIO LLC', 'David W, Barrett P, Mike M, Mike A', 'Smoko Inc', 'Yonder Biology', 'Murder by Death', 'Ann and Phelim Media LLC', 'aMagic', 'Michael Mindes.10', 'Narbeh Khoygani', 'Dan Barasch', 'Krzysztof Wolicki REDIMP', 'Matt', 'Joey Graceffa', 'Far Off Games.1', '1001 Knights', 'Contingent99', 'ANIMUSIC', 'Soda Pop Miniatures.3', 'Tom and Michael', 'RiotMinds', 'Minsoo & Emily Seo', 'IdeaLcenter', 'Brad Leong', 'Daniel Haarburger', 'chadwick parker & joe huang.2', 'Nectar Game Studios', 'julia nunes', 'Travis.5', 'Everybody On Deck', 'Hans Fex.1', 'Elad Burko.1', 'Float a Goat Games', 'Virtuix', 'Christian Bennefeld', 'Richard Thomas.3', 'Celsius Game Studios', 'Michael Larson', 'Production I.G', '3 Stags', 'Jamey Stegmaier.4', 'Rebecca Melsky and Eva St. Clair', 'SadSquare Studio', 'Succubus Publishing', 'David Miller', 'Bruer', 'Armand Ferranti', 'Chris Ovdiyenko', 'Westwood Sunglasses', 'Gavan Brown of Roxley Games.1', 'Loopy Cases', 'CJ Good-Man', 'Bryt', 'Light', 'Arwen Curry', 'Laced Records', 'Chris Handy of Perplext', 'Pebblebee', 'Family and PlayLab', 'Meytal Cohen', 'Paul Stoffregen', 'Andrew Peterson', 'Hendo Hover', 'Agust\\xc3\\xadn Cordes', 'Chris Birch, Modiphius.2', 'Infinitec', 'Limeade', 'Himalaya Studios, Inc.', 'Christian Carlberg', 'Chris Reed', 'clairvoire', 'Ministry of Supply', 'Kodama, Inc.', 'Steve Isaac & Brad Melmon', 'Westwood Sunglasses.1', 'Interdimensional Games Inc', 'Timeular', 'Brandon Stastny', 'Erin Bried', 'Ring Runner', 'TitanforgeGames', 'UDOO.2', 'Megan Lavey-Heaton', 'Andrew Groen', 'Keyport, Inc.', 'TV Tropes', 'Andreas Zoltan', 'Peak Design.5', 'Mega Tiny Corp.', 'Tom Tomorrow', 'Flim Flam Films', 'Lynktec', 'Cryptozoic Entertainment.3', 'Pebblebee.1', 'ZUtA Labs Ltd.', 'VideoLAN', 'Nimrod Back.1', 'Sam Dyer.1', 'Mark Kokavec', 'En House Studios', 'Grant Odgers - Swiftpoint', 'Alec Gillis/ADI', 'chadwick parker & joe huang.3', 'Greg Pak.1', 'Chris Cieslik', 'Angelo Garro', 'Trance Metals', \"Loud'n Raging\", 'Brent Garcia', 'Fred Hicks / Evil Hat Productions.2', 'Josh Woodle', 'Rob Loukotka', 'SiDi Huang', 'Mark Jenner & Tom Putnam', 'Dead Gentlemen Productions', 'Rain World', 'Ynnis Interactive', 'Jumpshot', 'Egg Addiction', 'Toystorian Enterprises', 'Matt White', 'Ekster Wallets', 'Jon Shafer', 'Studio Foglio.2', 'Michael Chou', 'Victory Point Games', 'Kevin Curry', 'Mantic Games.4', 'CreatureBox', 'Awful Fantasy', 'Chris Leung and the FreedomCase Team', 'Zivix', 'Touchkraft LLC', 'Power Practical.2', 'Stephen Beeman', 'Space Monkey', 'GNARBOX', 'beehive design collective', 'Truebuds', 'Brian @ MGoBlog', 'Celestial Tribe', 'Far From Home, LLC', 'Ben Harkins', 'SILCA', 'Ladar Levison', 'Gary Groth', 'BloomSky', 'Ga\\xc5\\xa1per Premo\\xc5\\xbee', 'Colin Thom - Dimensional Games', 'Maximilian Uriarte', 'Game Salute', 'THANASIT (SUNNY) INKAVESVAANIT.1', 'T.J. Eaton and Rich Amundson', 'Studio Foglio.3', 'Kramer and Kevin', 'CoolMiniOrNot.18', 'Ohad Cohen', 'Mighty Audio', 'Devil Pig Games', 'Bitsbox', 'Icon For Hire', 'Nevermore Games', 'Airship Ambassador', 'Brent Garcia.1', 'David B. Talton Jr.', 'Ethan Lowry & Joe Heitzeberg', 'Nicholas Verity', 'John Rhee', 'Paul Hildebrandt', 'David Alden', 'CoSM', 'F\\xc5\\xaaZ Designs.2', 'Elizabeth & Clarke', 'goTenna Team', 'Greg Rucka', 'Fridgecrisis Games', 'Lisa Glover', 'Luke Peterschmidt', 'Patrick Leder', 'Sean Kieley', 'Ryder Carroll', 'Monte Cook Games.2', 'John Galley', 'Dan Abramson', 'GreaterThanGames.1', 'Killer Robot Games', 'Memoto', 'Masters Of Anatomy.1', 'Tom Vasel.2', 'Paul Mulders', 'darkfalzx', 'Duncan Shotton', 'Jeff Beck, Uproarious Games', 'Michael Perry', 'Jake Bronstein.3', 'Doppler Labs', 'Simple Wallet', 'Alex Daly & Hamish Smyth', 'Waves Audio', 'Rainforest Connection', 'Tom Cannon', 'KeokeN Interactive', 'Don Hejny', 'Neptune', 'Bill May', 'Team Niche', 'Travis Peterson and Nick Peterson', 'Dice Hate Me Games', '21 Draw', 'Rost', 'Meow The Jewels', 'Edge Tech Labs', 'Atlas Games.1', 'Tyler Renelle', 'ilumi solutions', 'Action Phase Games.1', 'Steven Elliot.3', 'Lil Dicky', 'Booker and Dax Lab', 'Mantic Games.5', 'Handelabra Games', 'Charmed Labs and Carnegie Mellon', 'Lightspeed Magazine', 'Josh Presseisen', 'Mark Andrew Smith', 'Jackson Robinson', 'Ministry of Supply.1', 'Vincent Pilot Ng', 'Glow, LLC', 'Steve Minty', 'Angelia Trinidad.3', 'Tom Fay and Jamie Mackay', 'NF Publishing, LLC', 'Benjamin Redford', 'Black Powder Media', 'David B. Talton Jr..1', 'Greenbrier Games INC', 'Christian Valencia', 'Black Cloud Studios', 'Matt.1', 'PLX Devices.2', 'LudiCreations', 'Fit Pay Inc.', 'Kwanza Osajyefo', 'David Sears', 'Frank Cho and Flesk Publications', 'Gal & Boaz Zucker', 'Natalia & Allen @ Jiva Cubes', 'Too Many Zooz', 'Wiivv', 'Dice Hate Me Games.1', 'Stone Blade Entertainment.1', 'Mantic Games.6', 'Macaw', 'Lucky Duck Games', 'Mono+Mono', \"Loud'n Raging.1\", 'Mantic Games.7', 'Zach Lengell', 'Queen Games', 'Sequential Films', 'Charles Waugh', 'The Undress, inc..1', 'Elzra Games', 'Daniel Chin', 'Gil Hova', \"Tell 'Em Steve-Dave Clay Animation Film\", 'Helmgast AB', 'Cassie Jaye', 'Barxbell, LLC', 'Tanner & Taylor Dame.1', 'Aterdux Entertainment', \"Matej 'Retro' Jan\", 'Kello Labs', 'Three1Design', 'Melon', 'Dwarven Forge.2', 'Bernhard Hamaker', 'Imagination Station Detroit', 'Jacques GIRIBET - IDAPT', 'Danny Fein.2', 'Put2Go.com', 'Enormous Industries', 'Vincent Regan', 'Cheapass Games.2', 'Pied Piper / DIRECTIONS / Studio Rikka', 'Tim DeBenedictis', 'Pixelated Milk', 'SunCreature Studio.1', 'Matthew Taranto', 'FLUX Technology LLC', 'UnCommon Beat', 'Jackson Robinson.1', 'Daniel Collings', 'Equiso Smart TV', 'Ryan Sohmer', 'The Contender', 'John VDN + Vitor Santa Maria.2', 'Bryce North', 'Scott Thomas', 'ele', 'Lindsay Condefer', 'Michael Rondinelli', 'Richard Thomas.4', 'BodyBoss Portable Gym', 'American McGee.1', 'TFK', 'Keep Gear', 'KeyDisk Co.', 'David Silva', 'ThingM', 'Peter Lord', 'True Bloom LLC', 'Super Systems Softworks', 'HamletMachine', 'The Comfortable Boxers Co.', 'Rakesh & Kate Reddy', 'Joshua A.C. Newman', 'Jasco Games', 'ELWN', 'StudioBananaThings.1', 'iblazr lab.1', 'Spring Barnickle', 'Abrakam', 'Lone Shark Games.1', 'Meeple Source', 'John Coveyou (Genius Games)', 'Woolet Co', 'David B. Talton Jr..2', 'Lumu Labs', 'laboitedejeu.1', 'Michael Brockhoff', 'emberlight', 'Jocus', 'Texel Raptor', 'Far From Home, LLC.1', 'Murder by Death.1', 'Gonzalo Aguirre Bisi', 'Jill Thompson', 'Dr. Allan Coopersmith', 'Cultic Games', 'James.1', 'Andrew Federspiel', 'Idle Thumbs', 'Chevy Ray Johnston', 'Small Fish Studios', 'Wonderous', 'Howard Tayler.1', 'Seeed.1', 'Michael Mindes.11', 'MAGE Company', 'Jennifer Brea', 'Jason Hilbourne.1', 'Rumpl', 'Letterforms', 'The Comfortable Boxers Co..1', 'King Post', 'Richard Herring.1', 'David Lang', 'TicToc Games', 'AMPY', 'Nate Zavaleta', 'Twinbeard', 'Muku Labs', 'Matter', 'Gabriel Mountjoy', 'Geometrical Inc. & Rambod Radmard.1', 'The Lowline', 'Everyman', 'Artana LLC.1', 'Cheapass Games.3', 'Peter Hauser', 'Michael Mindes.12', 'Ignite Lighters Ltd.', 'Ryan Laukat.1', 'Ilya Shevchenko', 'Reed Timmer', 'MIOPS', 'Fangamer', 'Tabletopia', 'Benign Kingdom', 'Sushee', 'Mantic Games.8', 'Shai Goitein.1', 'The Thrilling Adventure Hour', 'The Classic Crime', 'Arc Dream Publishing', 'Brady Whitney', 'Prairie Pants Distribution and Space Mop', 'Albino Dragon.1', 'Studio Fawn', 'The Yes Men', 'Alex Eames - RasPi.TV', 'Mad God Productions', 'Peter Mohrbacher', 'Sf\\xc3\\xa9 and Taneka', 'IAmElemental', 'Arist', 'Chris Chung', 'Gal & Boaz Zucker.1', 'Sean Pollman', 'Travis.6', 'Erick Scarecrow', 'Holga Digital', 'Makeblock', 'ocremix', 'The Impossible Project', 'Carolina! & Kyron!', 'Zyntony', 'Johannes Voss', 'Craig Muth', 'NSKN Games - LudiBooster', 'Shareef Abdul-Malik', 'Coney Island USA', 'Chris Cieslik.1', 'Mantic Games.9', 'Brian Linton', 'Sharnon Tulabadi', 'George Bashaw + 1.0 Innovations LLC', 'Lone Shark Games.2', 'Bob Crowley', 'Daily Magic Games.2', 'North Star Games.2', 'Ryan Sohmer.1', 'Hiveworks Comics', 'LinearFlux USA Inc', 'Bad Influence Press', 'Steve Taylor.1', 'CoolMiniOrNot.19', 'Clint Slone, Mike & Eric Strasser', 'twokinds', 'Alex Woolfson', 'Anthony Vilgiate', 'Monte Cook Games.3', 'Sage Kobold Productions', 'Disciple', '8TH SUMMIT', 'zach weiner', 'Lawrence Wu', 'Gamila Company: Aly & Beth Khalifa', 'James Olander.1', 'BJ Minson / Grip6.1', 'James Fyfe', 'Original Grain', 'Jihong Digiacomo', 'THAT!', 'ONE80', 'SALTY Features', 'Michael Mindes.13', 'Aer', 'Evan Balster', 'KENDAL & HYDE', 'Decibullz Custom Molded Earphones', 'Makestuff, LLC', 'Croix Sather', 'Lee Miller', 'Jolt Team', 'Korey Coleman', 'GrubTon Games', 'Meeple Source.1', 'HEVO LABS', 'Jed Henry', 'Ryan', 'Jennifer Siebel Newsom', 'PiJuice', 'Zach Crain.1', 'Kolelinia', 'Baksha Games', 'Zeraph - Eddie Cheung', 'Robert Sha + CAPSULE\\xe2\\x84\\xa2', 'Tony Yu', 'Chris Crawford', 'Crash Games', 'Watchismo', 'Playism Games.1', 'Rik Falch', 'Lil BUB/Mike Bridavsky', 'ODO\\xe2\\x84\\xa2 DENIM', 'Fashionary International Ltd', 'Kamala Lopez', 'Minaal', 'Kano.1', 'Kirsty Mitchell Photography', 'Toby Fox', 'Custom SLR', 'Nicola Caulfield & Anthony Caulfield', 'ISKN Team', 'WirelessMe', 'Pandasaurus Games', 'Blue Brain Games', 'Fire & Bone', 'Becca Bair', 'FarSight Studios.1', 'Richard Ham', 'Q-workshop', 'Maksym Pashanin', 'Sixense', 'Serge and Elena Karnegie', 'Jason Aron', '\\xc5\\x8cURA', 'Artipia Games', 'Trendlift', 'Tesladyne LLC', 'GRIN Gamestudio', 'GRAYL', 'Hazel Newlevant', 'Brom and Flesk Publications', 'myType\\xe2\\x84\\xa2 Keyboard', 'Jellyfish Art', 'Brendan G. Conway', 'the Star Trek: Renegades team.1', 'Greg Petersen', 'FarSight Studios.2', 'Amber Rix', 'ROCKI', 'EH Leather Goods', 'FlyKly', 'The Sioux Chef\\xe2\\x84\\xa2', 'Darren Wilson', 'Scott Brodie', 'Lightspeed Magazine.1', 'Juliana Patel & Ariel Rubin', 'Wool&Prince', 'Jay Yoo', 'Ewen Cluney', 'B&A Studio', 'Bezier Games.3', 'Rachel Coleman/Two Little Hands', 'Game-Ovations, LLC', 'Steamroller Studios', 'Mike Kennedy', 'Evertide Games', 'eca', 'Der-shing Helmer', 'Nate Barr', 'Ryan Koo', 'Edyn', 'Squadrone System', 'Harald Geisler and Elizabeth Waterhouse', 'Decibullz Custom Molded Earphones.1', 'Alersteam', 'PyroPet', 'Sandy Petersen.2', 'JR Sanchez', 'Michael Putlack', 'Taga USA Inc.', 'Spencer Boerup', 'Pasha Baiborodin', 'Clay Gardner', 'Travis.7', 'Soma', 'Dice Hate Me Games.2', 'Dina Falconi and Wendy Hollender', 'Nataly Dawn', 'Michael Mindes.14', 'Kobold Press', 'Hackaball', 'Goodman Games', 'Zendure', 'Erasnep LLC.1', 'Mr. B. Games.1', 'Saar Shai.2', 'William Dub\\xc3\\xa9', 'Sean T. Rayburn', 'Pascalle Lepas', 'Prismatic Games LLC', 'Hustle Stone Planner', 'ProSounds.1', 'IronSpike.2', 'Jason Kotarski', 'Aaron Dunn', 'SteadXP', 'Mindarin', 'Jason Fullmer', 'Crazy Pictures', 'MiKandi Japan', 'Seth Hiatt.1', 'Atellani', 'Elysian Shadows Team', 'Privateer Press', 'Chris Lowell', 'Ringbow', 'Donald Brewer', 'Peng Lee', 'Seth Hiatt.2', 'Cheapass Games.4', 'Thousand', 'Fangamer.1', 'Dan Provost & Tom Gerhardt.3', 'Charles Harris.2', 'RedBear', 'Ryan & Tina Essmaker', 'Esington', 'nicholas gurewitch', 'Dennis Hoyle', 'The Repopulation', 'Keyport, Inc..1', 'KRISHNA DAS', 'Goodman Games.1', 'Jon Atherton', 'Game Salute.1', 'Chely Wright', 'Lindsay and Alex Small-Butera', 'Wyrd Miniatures', 'Paul Cocksedge + Paul Cocksedge Studio\\xe2\\x84\\xa2', 'Completely Fair Games, Ltd.', 'Goodman Games.2', 'Elder Wood', 'WakaWaka', 'Elemental Path', 'Robin @ Roundthird', 'Zak Ayles', 'SpineGym', 'Bonaverde Coffee Changers', 'Ainova Robotics Inc.', 'LoadingReadyRun', 'Lightspeed Magazine.2', 'mininch.2', 'Richard Thomas.5', 'Electric Objects', 'Travis.8', 'KKMC', 'Ares Magazine', 'stillalive studios', 'Dreadlocks', 'NeoLAB Sydney Studio', 'Blue Scholars', 'Darren Wall', 'Mitch Thompson', 'John Coveyou (Genius Games).1', 'Lukas Litvaj', 'Bryce Alexander', 'Kirby Ferguson', 'Momentum Labs LLC', 'Elzra Games.1', 'Petcube, Inc.', 'Gizco International', 'Tale of Tales', 'Harebrained Inc..1', 'Maison Impeccable', 'Sarah Northway', 'I AM Cardboard', 'Sensible Object', \"Matthew O'Malley\", 'Minna Life', 'Jumpdrive Studios', 'Tyler Panian', 'Chris Kyle', 'matthew lillard', 'Albino Dragon.2', 'Paul and Storm', 'Smart Atoms', 'Gryphon and Eagle Games', 'Arthur Kuo', 'Roxlou Games', 'King Flex Entertainment', 'Don Moyer.1', 'AICO Tech', 'Sonne & Vantore', 'Ben Davidson', 'Emily Brooke', 'Eduardo Baraf', 'ThingM.1', 'Audrey Assad', 'sekaiproject.2', 'Sleepy Duck', 'Christopher Ferguson.1', 'Original Grain.1', 'Grace Buchele Mineta', 'Redux & Co.', 'sekaiproject.3', 'HalfBus', 'Harebrained Schemes LLC.3', 'Lester Chambers & Alexis Ohanian', 'Jack Haldrup', 'Hamish Dobbie', 'Steve Young', 'Artipia Games.1', 'Frank Cho', 'Unbelievable Testing Laboratory', 'StudioBananaThings.2', 'Crash Games.1', 'Chris Coyier', 'Robin D. Laws', 'Jamey Stegmaier.5', 'Daniel Bauen + Microfacturing', 'Dice Hate Me Games.3', 'Ohad Cohen.1', 'Jake Parker', 'Joen Choe', 'Unbelievable Testing Laboratory.1', 'the Bike Balls Team', 'Rick Meints', 'Six to Start and Naomi Alderman.1', 'Robert J Woodhead', 'GreaterThanGames.2', 'Peter Marx', 'Joan Cornell\\xc3\\xa0', 'Andrew Peterson.1', 'Hibermate', 'Rascal Department', 'PolyHero Dice.1', 'Bitbanger Labs.1', 'LIV - Swiss Watches', 'Product 3 LLC', 'Tim Walsh', 'Michael Mindes.15', 'Sosu Sauces', 'Story & Pixel', 'Rebecca DeRosa', 'Artipia Games.2', 'Denver Film Society', 'Team Cherry', 'Thomas Larson.1', 'Supermechanical.1', 'Sand Hat Games', 'Calvin Kwok', 'Fortress Clothing', 'Travis.9', 'Steve Minty.1', 'You Tune', 'Iyin Landre', 'Jayme Smaldone', 'Mark Price', 'Scott Weaver', 'GreaterThanGames.3', 'Gavin Fish', 'Jerason Banes', 'Philip Campbell', 'Richard Thomas.6', '52Kards', 'Sebastian Junger', 'eora 3D', 'Tom Murray', 'chadwick parker & joe huang.4', 'Keep Pursuing.1', 'Rockwell Razors.1', 'Chuck Frizelle', 'Caveman Factory', 'Mac Smith', 'Team Pixel Pi', 'Jonty Lovell', 'Killer Robot Games.1', 'Brattle Film Foundation', 'Dreamling Books', 'Axanar Productions.1', 'Rik Falch.1', 'Jon Schnepp', 'flying tent', 'Cheryl Kellond', 'BT', 'Amara and Chelsea, Meraki Printing', 'Jasn Painter', 'LiteWire', 'Witching Hour Studios', 'Steven Elliot.4', 'Frank Chimero', 'Luke Crane', 'Ice-Pick Lodge.1', 'CECLY', 'Nerdcore Medical', 'Richard Thomas.7', 'Arrowstorm Entertainment', 'ZionEyez Team', 'Commemorative Air Force', 'Ryan Clark', 'GameSmith', 'HUNDRED MILLION', 'Linsanity', 'GameNightLife', 'Michael Carpanzano', 'idea3Di', 'SlideBelts', 'Hex', 'Britt Duenyas', 'Larry Elmore', 'BetaDwarf', 'namisu', 'JJ Heller', 'Warrick Bell and Miguel Marrero', 'democratech', 'Pat Contri', 'Marc \"Traveller\" Miller', 'Simon Morris', 'Red Cloak Games', 'Brian @ MGoBlog.1', 'Dark Cult Games', 'Little Sun', 'Will Hindmarch', 'Aqua Design Innovations.1', 'Richard Thomas.8', 'Drink Tanks', 'Vidonn Smartband', 'Fred Hicks / Evil Hat Productions.3', 'HRIBARCAIN', 'StoreBound', 'Keyboardio', 'Alex Harvey', \"Bubba Albrecht and Give'r\", 'Gemio', 'The Center for Investigative Reporting', 'Kacha.1', 'Formlabs', 'White Cherry Games', 'Chris Huelsbeck', 'NockCo', 'Jenny Newcomer', 'Adam Hogsett.1', 'MagKey', 'Ryan Estrada', 'Gimmy Chu, Tom Rodinger, Christian Yan.1', 'Aquanox Team', 'Waybury', 'Campfire Games', 'Serge and Elena Karnegie.1', 'Haptix Touch', 'Seth Hiatt.3', 'Funimation', 'Andy Kitkowski', 'Rockwell Razors.2', 'OmieLife', 'tinyBuild', 'Steve Rothery', 'Woodenshark.1', 'Looney Labs', 'Liminal Games', 'Ace Marks', 'Paul Hildebrandt.1', 'Custom Game Lab', 'Good Widget Company', 'Jason Wishnow', 'Jeff Gracia: Greenbrier Games', 'FLINK', 'Neil Barron', 'Mike Robb and Tom \"Ozzy\" Osborne', 'Walli Wearables', 'Third Editions', 'Jake Parker.1', 'Potluck Games', 'Game Salute.2', 'Brian Quinn', 'Noki Home Solutions GmbH', 'Cipher Prime', 'Lomography.4', 'Ivelin Demirov', 'Allen Chang', 'SlugFest Games', 'Shem Phillips', 'Sam Dyer.2', 'Tom Fec', 'Peter Marigold', 'Richard Thomas.9', 'Fluxmob', 'Steve Piggott', 'MOGICS.1', 'Aken Technologies, LLC', 'Josan', 'Kevin Sousa', 'Gnarwhal Studios', 'No Depression', 'Havok Timepieces.1', 'Havok Timepieces.2', 'paul wheaton', \"Jason O'Mara.1\", 'Fredrik Gertten', 'L8 SmartLight', '5ID', 'Cinetics', 'Make Playing Cards - MPC', 'Alex Hague', 'Henry Smith', 'TREMBLAY BROS STUDIOS', 'Disciple.1', 'Plus 8', 'swissmiss', 'GogoToro', 'SFB Games & Armor Games', 'BladeKey LLC', 'Aisha Tyler', 'Fletcher Heisler', 'Dark Energy', 'Auris, Inc.', 'Form Devices, Inc.', 'Ricky Choi & Phil Moldavski', 'John Bura', 'Band Industries', 'Simple Matters', 'Devil Pig Games.1', 'Wastelands Interactive', 'Christopher Salmon', \"SEAN O'MEARA and GLENN MADDOCKS\", 'Renae De Liz', 'Eiz Proto', 'Richard Herring.2', 'WANDRD', 'Distil Union', 'Crash Games.2', 'Storm Sondors', 'Dean Putney', 'Phillip Isherwood', 'VANMOOF', 'Shem Phillips.1', 'Bruce Shapiro', 'Wayside Creations', 'Michael Ossmann', 'Cloop', 'UrbanGearPro', 'Eric Mack', 'Monte Cook Games.4', 'Colin Kent', 'Benitosub', 'Ray Walker', 'Victor Mathieux', 'The Classic Crime.1', 'Charlie Corry', 'Kevin W. Kulp', 'Seth Hiatt.4', 'IELLO', 'NSKN Games - LudiBooster.1', 'Abigail Samoun & Elizabeth Haidle', 'WynLABS', 'Pixie Trix Comix', 'THANASIT (SUNNY) INKAVESVAANIT.2', 'James Lantz and Eat More Kale guy', 'Planet Traveler', 'Copper Pot Pictures', 'Dead Gentlemen Productions.1', 'PlayWay.1', 'Hank and Jed Movie Pictures', 'Final Frontier Games', 'Beam Labs, Inc.', 'NF Publishing, LLC.1', 'Graphite Lab', 'Chris Birch, Modiphius.3', 'Triggertrap', 'Tim Roxas', 'Sandy Petersen.3', 'Aurofinity & Dreamatrix', 'David Thorpe', 'Energy Aware Technology Inc.', 'Toasteroid', 'Molly Ostertag', 'Evan Briggs', 'Hunters Books', 'Chad and Amy', 'Gametee', 'Jeff Lieberman', 'K-Kat Innovative Pet Products', 'Wintersmiths', 'Awkward Black Girl', 'Pinckard Tools, LLC', 'Megacom Games', 'Drink Tanks.1', 'Veterinarian, Dr Liz Bales', 'Rocket Punch', 'Rocket Punch.1', 'Breakthrough Photography', 'A.J. Porfirio', 'Manuel Rappard', 'Powergoat', 'LoadingReadyRun.1', 'Sarvi Designs', 'Tony Go', 'Cory Silverberg', 'Katie Tiedrich', 'Michael Lundwall', 'Randi Rhodes', 'Kris Straub', 'John August.1', 'Foster Huntington', 'Edge Tech Labs.1', 'Shaun Teblum & Rob Gold', 'Organic Basics', 'Oscar Ram\\xc3\\xadrez', 'AndHeGames', 'AirDroids', 'Koen Hendrix', 'Good Gadgets', 'Intelclinic', 'Brad', 'Reelight', 'NSKN Games', 'Mark Schmid', 'Jon Atherton.1', 'Eric Whitacre', 'Aurai', 'Nick and Ranko', 'FarSight Studios.3', 'Exotac Inc', 'Matteo di Pascale', 'CREATIVEMAKER LLC', 'nexpaq, Inc.', 'Pyrodactyl Games', 'Eric Prum', 'Gigi D.G.', 'Damien George', '8-Bit Lit', 'Dreadlocks.1', 'Stuck In Attic', 'Ben Templesmith', 'Kobold Press.1', 'Asad Chaudhry', 'Brian @ MGoBlog.2', 'Seth Hiatt.5', 'Tabletop Forge', 'Seth Hiatt.6', 'Punch Through', 'The Doubleclicks', 'Travis.10', 'Nate Barr.1', 'By Night Studios', 'Stephen McCranie', 'Thing 12 Games', 'NIMB', 'The Cifaldi Brothers', 'Silence in the Library Publishing', 'Hexlox', 'AppSeed Team', 'Fria Ligan', 'SWDTech Games', 'BetaDwarf.1', '44FLOOD', 'Action Phase Games.2', 'John Wrot!', 'THAT!.1', 'Weappy', 'Kammok', 'Andy & Rich.1', 'Robert Collignon', 'Devil Pig Games.2', 'Nauvoo Games', 'Erin Bagwell', 'All the Anime', 'LinearFlux USA Inc.1', 'Marcin Jakubowski', 'Inventek', 'ForeverSpin.com.2', 'infomorph', 'PicoBrew Inc', 'CoolMiniOrNot.20', 'Bare Conductive', 'Ben Harkins.1', 'FarSight Studios.4', 'Hiveworks Comics.1', 'Simon Lyons + VERSION 22', 'Alex Baca + 1Lss Inc..1', 'She Reads Truth', 'Jeff McComsey', 'Cillian McMinn', 'Rick Beardsell', 'Ecoxotic', 'Gordon Williams', 'MbientLab Inc.', 'BigGiantCircles', 'Jordan Lejuwaan', 'Intelliplus', 'april winchell', 'Paul Michael Kane', 'Pantera Entertainment', 'Matthew Moore', 'Martin Wallace', 'Jon Norton & Joe Molinari', 'APE Gamer', 'Lisa Q. Fetterman.1', 'Christopher Ferguson.2', 'Tamara Saviano', 'Rocketcat Games', 'Tasty Minstrel Games', 'Queen Games.1', 'Queen Games.2', 'GIR: Get It Right', 'Matt King', 'Feltmark', 'Frank Bouchard.1', 'Michael Woods', 'Ben Porter', 'Holt Evans & Radu Zarnescu', 'SOS PowerBank', 'iCradle, Inc.', 'Simplistyk', 'gato negro', 'Colleen M, John S, & Eric Z', 'Corey Cole.1', 'comcept USA, LLC.1', 'Chad Russell', 'New Starship', 'Rob Percival.1', 'Samantha Futerman', 'Ashley Chloe Inc.', 'Karl Kozak.2', 'Ash and Eli', 'Jason Kotarski.1', 'Pact Coffee', 'Robert Lockhart', 'Jason Webley', 'David B. Talton Jr..3', 'Michael Stokes.1', 'Toonhound Studios', 'Gabriel Wyner', 'Marrow Production', 'Lance, Brandon, Heather Hyde', 'David Willis', 'Abby Howard.1', 'shinymind', 'Exploding Rabbit', 'Umoro', 'Heather ONeill', 'Mike Wen', 'G Cid', 'Erika Moen', 'Samantha Whitten', '\\xc3\\x96GON DESIGNS', 'smallboxgames', 'Oovee Game Studios', 'StudioBananaThings.3', 'Monte Cook Games.5', 'edgar muniz', 'Gregory Venters', 'Joe Born', 'Lewis Shaw', 'Shane Hensley.1', 'Kate Barr', 'Josh Krause', 'Lone Wolf Development', 'Luke Leafgren', 'Prometheus Lights', 'Digital Siberia', 'Obscura', 'Narbeh Khoygani.1', 'Studio Cheha', 'Random Seed Games', 'R8 Games Ltd', 'sekaiproject.4', 'Framing Hanley', 'Puuung', 'Richard Hine', 'Eagre Games', 'Taika Waititi', 'Pan Studio', 'RobotLovesKitty', 'Technology Will Save Us', 'Berserk Games', '3Dsimo', 'Jewelbots', 'Lunatec', 'Sam Dyer.3', 'Tribesports', 'New Scribbler Press', 'MUNITIO', 'Artist Hardware', 'Owlchemy Labs', 'Craig Engler', 'Sean Farley', 'Gary Hustwit.1', 'Craig Rabin', 'DropShades', 'Jim Batt', 'Sofawolf Press Kickstarter Team', 'Albino Dragon.3', 'Thought Moment Media', 'Dotan Saguy.1', 'Pr\\xc3\\xaat \\xc3\\xa0 Pousser', 'Brook Drumm', 'Stable Goods', 'Starbeam', 'Jan Soukal', 'Bob Mould', 'DigiThinkIT, Inc.', 'LudiCreations.1', 'Lomography.5', 'Stinson Hunter', 'Scott Wilson + MINIMAL.3', 'Grey Fox Games', 'Polly Parker Press', 'Isaac Childres.1', 'Club Fantasci', 'DU/ER performance denim', 'Eunice Hwang', 'Don Lehman', 'Mesa Mundi Inc.', 'Ares Games.1', '3 Bears Entertainment', 'Kazu Kibuishi', 'GaymerX', 'Fluxmob.1', 'Woodford Design', 'Outdoor Tech\\xc2\\xae Design Lab', 'Hal Hartley', 'Tamara Salem, Barak Kirschner', 'Andy Baio', 'easyicecubes', 'Timothy Sullivan', 'Aaron Blaise & Chuck Williams', 'Brandon Boyer', 'The Blackout', 'iCache, Inc', 'Solomon Liou', 'Michael Neumann', 'Leveraxe', 'The Key Armory', 'Baron Fig.1', 'Seeed.2', 'Andrew Hagen & Kingsley Fiegert', 'Tomorrow Magazine', 'Nicola Caulfield & Anthony Caulfield.1', 'Kasper & Oswald GmbH', 'Wintersmiths.1', 'Ananda Svarupa Das.2', 'Spencer Boerup.1', 'Oscar Pedroso and David Brenner', 'Brian @ MGoBlog.3', 'Mobot Studios', 'Jonathan P. King', 'MIOPS.1', 'Ninja Blocks', 'Paul Cocksedge + Paul Cocksedge Studio\\xe2\\x84\\xa2.1', 'CoolMiniOrNot.21', 'Ananda Svarupa Das.3', 'Deaf West Theatre', 'Beacon Audio', 'Dean Trippe', 'Studio Woe', 'Ryan Browne', 'Richard Thomas.10', 'eric victorino', 'MetaWatch', 'Digital Eel', 'Meep Morp Studio', 'infinityPV ApS', 'Tabetha Boyajian', 'Glo Bible', 'Cregle Inc.', 'Nick Fauchald', 'Beluga Shave Co.', 'Spencer Boerup.2', 'Petcube, Inc..1', 'detroitfirefilm', 'Katherine Zuniga', 'Magic Meeple Games', 'Studio Killers Limited', 'Burl & Fur', 'Deus Ex Technology Ltd', 'RedBear.1', 'Ellie Holcomb', 'Niko Klansek', 'Brown Dog Gadgets', 'Upheaval Arts', 'Level 3B', 'Robert J Woodhead.1', 'Vadym Chalenko', 'Fourattic', 'Designers & Books', 'Steven Sal Debus', 'Abby Epstein and Ricki Lake', 'Fantasy Coin, LLC', 'Fred Hicks / Evil Hat Productions.4', 'Michael J. Sullivan', 'LITTLE FOOLERY', 'Paul / Adam', 'Max Lugavere and kNow Productions', 'Liquidity Nanotech', 'Serafim', 'Minion Games.1', 'John McLear.1', 'Luke Crane.1', 'Games & Gears', 'Mayku Industries', 'Roman Atwood', 'Opiate of the Masses', 'CREATABLES', 'Hernan Jimenez', 'Nathanael Mortensen.', 'Mark King', 'Robert Padbury', 'EarSkinz', 'Ocean Alliance', 'Three1Design.1', 'David, Ben & Mike', 'Victory Point Games.1', 'Simon Klose', 'Alan Kelly', 'Craft a Brew', 'Ian Schon', 'Arrowstorm Entertainment.1', 'Kurt Rauer', 'Paul Zakrzewski', 'The Game Crafter', 'Michael Mindes.16', 'Rich Fulop', 'NV team', 'Craig Stern', 'Loren Cunningham', 'Nick Walter', 'Mina Yoo', 'Invented4', 'Thorne Winter, V', 'N3V Games', 'Leafy Games', 'Matt Bigelow', 'Mepsu Comics', 'TenNapel', 'Joel Schroeder', 'David Mayer', 'Paradox Girl', 'Andrew Hagen & Kingsley Fiegert.1', 'Eric Saligumba', 'Nalla', 'Cam Carter', 'Tmouse Design', 'Continue?', 'Kunal Chaudhary', 'Tom Lawton', 'Doug Foreman', 'Laboratory.1', 'Manuel Rappard.1', 'Stonehaven Miniatures', 'Trese Brothers Games', 'Favela Painting', 'Indie Voyage LLC', 'Alexandra \"Lexxy\" Douglass', 'MAGE Company.1', 'Woojer', 'Erick Scarecrow.1', 'Connectify', 'Jeff Siadek', 'nLabs', 'Lumu Labs.1', 'Andy Kitkowski.1', 'Brad.1', 'Reductivist', 'Dexter Industries', 'Rob Balder', 'Dan Miller & Andy Wright', 'PLX Devices.3', 'Eliot Higgins', 'Stephen Silver', 'Wool & Oak', 'Will Hodges', 'Russell Kercheval', 'Studio MONO.1', 'Raging Mammoth', 'Steven Yu', 'Steve Jackson Games.1', 'The 99%', 'Code 10 (Charles Kelly/Chris Stammbach)', 'Greg Burnham', 'Rob Stewart', 'Fantasy Coin, LLC.1', 'thomas lehman', 'WigWag', 'The Outsider Team', 'BD Games', 'Gordon Williams.1', 'Fantastic Fungi', 'Obsidian Portal', 'Color Tiger', 'Tim Eisner', 'hopoo', 'Dwarven Forge.3', 'Shane Koyczan', 'Casey Hopkins + ElevationLab.1', 'Fred & Ran', 'Creative Commons', 'Shaun Inman', 'Daniel Eckler', 'Game Salute.3', 'Colin Hanks', 'Brexit The Movie', 'julia nunes.1', 'namisu.1', 'Mantic Games.10', 'Capsicum Games', 'Dotan Saguy.2', 'Citadel Studios', 'Justin Barwick', 'mochibags.1', 'Erika Svanoe', 'NSKN Games - LudiBooster.2', 'Maximum Fun', 'Sander Bakker - SplinterSeed', 'Elite Playing Cards', 'Ashley Cope', 'Franky Shaw', 'iBox Printers', 'Paul Droege', 'Matt & Andrew', 'Ben Robbins', 'Laurens Laudowicz.1', 'Waylens, Inc.', 'Randy Rathert', 'Jack Stratton.1', 'Daniel Falus', 'BEZALEL Corp.', 'Kel McDonald', 'Mentat Studios LLC.1', 'ByteFoundry', 'MOOD', 'Sand Sailor Studio', 'David Mayer.1', 'Brian Manowitz', 'Artipia Games.3', 'Jackbox Games', 'SlugFest Games.1', 'Mirror Box Games', 'Richard Ham.1', 'Alan Gerding.1', 'nbrianna', 'Drew Cleaver', 'Jay Tholen', 'LUUV Forward GmbH', 'Trayser Metal Works', 'Elite Playing Cards.1', 'Lume Cube', 'LightFreq Inc', 'Elite Playing Cards.2', 'Iotera', 'Steven \"Blackthorne\" Alexander', 'Jolt Team.1', 'Teku Studios', 'Battle Systems Ltd', 'Inov8 Labs', 'Grimlord Games', 'Payload Studios', 'Jake Parker.2', 'Kevin Devine', 'Acteon.1', 'Brain Vessel Creative', 'Kegan & Roberto', 'David Sirlin', 'Pied Piper, Inc.', 'MIDWAY FILM', 'Boston Boot Co.', 'Everykey Inc.', 'Das Horn', 'Erik Heumiller', 'Math For Love', 'Leo Dasso', 'Mike Dewhirst', 'Paul Jenkins', 'Mileseey', 'Make That Thing.1', 'Bruno Zamborlin', 'Elephant Laboratories', 'KeyDisk Co..1', 'Caezar and Kuly from Alley Cat Games', 'Grant Rodiek (Hyperbole Games)', 'ClearGrass', 'Richard Loomis', 'GIR: Get It Right.1', 'Jasn Painter.1', 'Senic', 'Jackson Robinson.2', 'Forte', 'Chris Cieslik.2', 'Minaal.1', 'Jeffrey Yoo Warren', 'Ash and Eli.1', 'Jeff Morin', 'Richard Thomas.11', 'AirBolt', 'Jason Glover', 'Technocel.1', 'David Cross', 'Catch Motion Inc.', 'Andrew Levin & Justin Altus', 'Cogent (UK)', 'Erik Kettenburg.2', 'Genis Carreras', 'chadwick parker & joe huang.5', 'Ryan Laukat.2', 'Main Dog Productions', 'Andrea Seabrook', 'Rohan Gunatillake', 'Ben Tristem.1', 'Jacob Hanks', 'Slidenjoy', 'Gigi D.G..1', 'Shane Tyree', 'Doodle3D', 'Toril Orlesky', 'Bryce Alexander.1', 'Adam', 'JTW Productions', 'Clever Dog Products', 'WAR GAMES LLC', 'Trinity Audio Engineering', 'Cathy Fisher', 'Watchismo.1', 'Richard Thomas.12', 'Pascal Campion', 'GeoOrbital', 'smallboxgames.1', 'Josh Milas & Alex Obenauer', 'Steve Hoogendyk', 'ArcBotics', 'Happion Laboratories', 'Caroline Hobbs', 'ManCan', 'John Wundes', 'Jason Steele.1', 'Duncan Shotton.1', 'Avatar Press', 'Chez Brungraber', 'Kris Cheng.1', 'Breadpig, Inc', 'Yoga Inspiration', 'Ulisses Spiele', 'Oliver Sykes & Ben Ashton-Bell', 'Grant Odgers - Swiftpoint.1', 'LearnDistrict Inc.', 'Pinckard Tools, LLC.1', 'Shalgi Design Studio.1', 'Ragtag Studio', 'Michael, Enblue Technology', 'Andrew Sanderson', 'Monisha Perkash', 'Janice Engel', 'Matthew McLachlan', 'Sensel', 'Corey Fields', 'Ed Carter / Amber Ying', 'Gaetan Policard & Stanley Prato', 'Tim Eisner.1', 'Small Fish Studios.1', 'Worldspinner LLC', 'LarryPixel', 'Conquistador Games', 'Crazy Viking Studios', 'Devil Pig Games.3', 'Ross Atkin', 'Fictiorama Studios', 'Comedy Film Nerds', 'OPEN-2, LLC', 'Iso Rabins', 'Rory Landon Aronson', 'Erato Audio Technology Ltd.', 'Break From Reality Games', 'Queen Games.3', 'Game Salute.4', 'John Bonadies', 'Tado Inc.', 'Centerline Engineering', 'Wylie Robinson and Nick Polinko', 'Judy L. Tyrer', 'A.J. Porfirio.1', 'Ryan Estrada.1', 'Keep Pursuing.2', 'Richie Bisso', 'ThanoTech Inc..1', 'Joe and Sami Kuipers', 'Flutter Wireless', 'Action Phase Games.3', 'Justin and Christian Arquilla', 'Limefuel', 'BlinkWorks', 'Nate Barr.2', 'c3sk', 'Edgy Brothers', 'David Hellman & Tevis Thompson', 'Steve Black', 'Dice Hate Me Games.4', 'FreeWavz', 'Teptron', 'SmartWallit Inc.', 'Amy Fox', 'Tim Tu', 'Robert Scott', 'Kio Stark', 'theironrachel', 'Federal Donuts', 'Steve Jackson Games.2', 'FourbitFriday', 'Action Phase Games.4', 'Amy Reeder', 'Len Kensey', 'Josh & Adam Carlson', 'Kidneythieves', 'Nicola Caulfield & Anthony Caulfield.2', 'Amrit Brar', 'Curiscope', 'Riley Dutton', 'Brandon Blanks', 'Padkix Design Lab.1', 'Modular Robotics', 'robyn jasko', 'Ngozi.1', 'The Windowfarms Project', 'Julia Albain', 'Daan Roosegaarde', 'Sarah Giblin', 'Nate Jones', '3DTotal Games', 'The Story Department', 'Mighty Boards', 'Kai Nesbit', 'Origami Unicorn', 'Ryan Saunders', 'Rekcahdam', 'Paul Stoffregen.1', 'Project Hexapod', 'Kabaccha Shoes', 'CBLDF', 'John Milanovich', 'Priority Bicycles by Dave Weiner', 'Alternate History Comics Inc.', 'Logic Artists', 'Supr Good Co..1', 'Dark Ice Games', 'Haloband Inc..1', 'Dent-de-Lion du Midi', 'Mantic Games.11', 'Arstidir', 'Lindsey Laurain, founder of ezpz', 'oneTesla', 'Cloudhead Games', 'Travis.11', 'Amy Truong & Aaron Son', 'Jenny Newcomer.1', 'PlayWay.2', 'Stephen Glassman', '3 Bears Entertainment.1', 'Kevin Crawford', 'IronSpike.3', 'klokers', 'Shauna James Ahern and Daniel Ahern', 'Brian @ MGoBlog.4', 'Gavan Woolery', 'Crafty Games.1', 'SOUNDBOKS', 'Cregle Inc..1', 'Mike Whitehead', 'Load Board Game', 'Alan Moore, Mitch Jenkins & Lex Projects', 'Artizens, Inc.', 'Morbid Anatomy Museum', 'maverick:muse', 'Public Lab', 'RAFINO', 'PSY Corporation LTD', 'Anthony & Nhu', 'Sandy Petersen.4', 'Freezepop', 'Matt Kepnes', 'Sean Preston', 'Emily & Betsy N\\xc3\\xba\\xc3\\xb1ez', 'Choicee', 'Jon Atherton.2', 'Sherwood Marketing', 'Beyond Press', 'Ohad Cohen.2', 'CutterPillar', 'Carla Hall', 'Adam Paulin', 'Meld', 'John Szczepaniak', 'Travis.12', 'Morning Players', 'Dave & Calvin Laituri', 'So iLL', 'Elijah Stephens', 'JH Lab', 'Jay Johnson', 'foolography GmbH', 'Aaron Bishop', 'Cole Jefferies', 'Unsettle & Co', 'Rob Balder.1', 'iSmartAlarm', 'Wyrd Miniatures.1', 'Gleb Polyakov and Igor Zamlinsky', 'Joe Walnes and Alex Lukashevich', 'Quickfire Games', 'Paul Weatherstone', 'bitplay Inc.', 'JIMMY PALMIOTTI', 'Elroy Project', 'Minion Games.2', 'Game Salute.5', 'Dethrone Games', 'Rachel Coleman/Two Little Hands.1', 'Donnalou Stevens', 'FUGU LUGGAGE', 'OCDesk', 'Copenhagen Parts', 'Doki Technologies', 'UV Paqlite', 'Nowhere Studios', 'The Jacks', 'Adam B. Hocherman', 'Lone Shark Games.3', 'Marlon Travel', 'Esoteric Software', 'GaymerX.1', 'Brian Knappenberger - Luminant Media', 'Veronica Varlow', 'Jared Spool and Dr. Leslie Jensen-Inman', 'Uusi', 'DAN Cases UG (haftungsbeschr\\xc3\\xa4nkt)', 'Jolly Roger Games', 'KeyDisk Co..2', 'Eagle Games', 'Wiley Davis', 'Arrowstorm Entertainment.2', 'Erin Reynolds', 'Andy Kitkowski.2', 'XMachines LLC', 'simpli press coffee', 'Dr. Wayne B. Hayes', 'Brian Bagnall', 'Daniel Kane.2', 'Drawlab', 'Brian Davis', 'Teach By Magic', 'Limefuel.1', 'IronSpike.4', 'Richard Stevens', 'Elisa Goodkind & Lily Mandelbaum', 'Anton King', 'Under the Wagon / Karla Pacheco', 'John Mark McMillan', 'Fred Hicks / Evil Hat Productions.5', 'Cliff Currie', 'William Hellwarth', 'Samantha Kalman', 'govy', 'CyPhy Works', 'Business of Being Born', 'Monte Cook Games.6', 'Nicole Lindroos of Green Ronin', 'OAXIS INC.', 'Angee Inc.', 'Outer Limit Games, LLC', 'PlayWay.3', 'Eric Green', 'Shu', 'CoSM.1', 'Betabook', 'FOUR HORSEMEN STUDIOS', 'Reaper Miniatures.3', 'Upwind Pictures', 'Full Steam Press, LLC', 'Robert J Woodhead.2', 'FiveNinjas', 'Ananda Svarupa Das.4', 'Espionage Cosmetics', 'Pimoroni Ltd', 'The Stone Cup', 'KoryBing', 'Wastelands Interactive US', 'Johnny Wander', 'Restrap', 'Ironward', 'Prometheus Lights.1', 'Tory Orzeck', 'Guillaume Rolland', 'Sketchy Logic', 'Ben Tristem.2', 'Jon Pack and Gary Hustwit', 'Bryan Q. Miller', 'Lucky Pause', 'Kris Straub.1', 'GIR: Get It Right.2', '1210699059', 'Ken Burns', 'Wesley LaPorte & Dan Barnes', 'Scott Norrie', 'Jackson Robinson.3', 'Postworldgames Jim Pinto', 'Kurt Vonnegut Memorial Library', 'Robert J Schwalb', 'Gorshatastic!', 'Toneloof', 'Backzips', 'Jesse Suchmann', 'Kwan', 'Charles Darius', 'Pixie Trix Comix.1', 'Matt Marrocco.1', 'IRIS V.R.', 'BE-LINK Bluetooth Integration System', 'Dog Days Films', 'Jeremy Glen', 'SnapJet', 'Colby Kane', 'Robert Knox', 'Michael Reaves', 'Daniel Haarburger.1', 'The Actors Fund', 'Dirk Strothmann', 'Sam Barclay', 'Potluck Games.1', 'KarasKustoms', 'Studio Cheha.1', 'Ema Ryan Yamazaki', 'Ryan Koons', 'Starhawk', 'Tristan Hall', 'Game Salute.6', 'Harald Geisler and R. Keller', 'Sky Ship Studios', 'Integreight, Inc.', 'FOVE', 'Pandasaurus Games.1', 'Ninepin Press', 'Seth Hiatt.7', 'Matthew D Riddle', 'Arrowstorm Entertainment.3', 'Groupmuse', 'They Innovate', 'Gene Ha', 'Will Graylin & George Wallner', 'Tom Tullis', 'Dust Studio', 'Microduino Studio', 'Janelle Asselin', '4PM DESIGNS', 'Y Athletics.3', 'SeaCliff Interactive', 'Willam Belli', 'Ryan Frayne', 'Matt Marrocco.2', 'OCEARCH', 'Johnny Wander.1', 'Jim Shepard', 'Glenn Fleishman', 'Daily Magic Productions', 'Keewifi', 'Vufine', 'Viktor Jondal & Peter Ragonetti', 'Go Design', 'Terry White', 'iocaine studios', 'Michael Mindes.17', 'Jonathan Thomas', 'Out of Print', 'J2 Product Development, LLC', 'Blue Hats Creative, Inc', 'Secret Weapon', 'Kevin Kallaugher', 'Pegasus Spiele', 'StatGear', 'Alex Hague.1', 'Jason Hilbourne.2', 'Queen Games.4', 'Chris Handy of Perplext.1', 'Outlier Linguistic Solutions', 'Bonus Level Entertainment', 'Morrus', 'LabNation', 'Fire & Bone.1', 'Xolutronic', 'Paul Jenkins.1', 'Atom Switch, Inc.', 'Dischan Media', 'Tara Theoharis', 'E.o.E.Games', 'Rachel Coleman/Two Little Hands.2', 'Tiny Labs', 'CAMpanion', 'Aaron Lieber', 'Nonlinear Studio', 'TIO', 'Flyte Socks', 'Sequart Research & Literacy Organization', 'Vienna Teng', 'Chris Ovdiyenko.1', 'Varia Games', 'Fantasy Coin, LLC.2', 'Everpurse', 'Juby', 'Wish Bros.', 'YoYo Mats', 'Rebecca Ramsay', 'Ben Thompson', 'Trina Chiasson', 'Gordon Williams.2', 'DU/ER performance denim.1', 'Caleb Stokes', 'Hasslefree Miniatures', 'Jolly Roger Games.1', 'Gary Hustwit.2', 'Joe Talbot & Jimmie Fails', 'John Coveyou (Genius Games).2', 'Dice Hate Me Games.5', 'Plume', 'Elliott Snyder', 'Jeremy Johnson', 'Powerstrap', 'Convoy Games', 'Atellani.1', 'Copper Canyon Press', 'Chris Chelko', 'Susan Wilson', 'Kent, Adam & Jim', 'Sheldon Petit', 'Planetary Collective', 'Erick Scarecrow.2', 'George Quraishi', 'MC YOGI', 'Mikael Cho', 'Ship to Shore PhonoCo.', 'Spor (Solar Chargers)', 'Aaron Rasmussen', 'Betternet', 'Bite Designs', 'The Classic Crime.2', 'Fluux Design Lab', 'Two Tumbleweeds.1', 'Scrona', 'RiotMinds.1', 'Amy Truong & Aaron Son.1', 'Scott Thrift', 'Erika Moen.1', 'Pillar', 'John Storm (Torrap)', 'Sortasoft LLC', 'Minion Games.3', 'The Fifth Sacred Thing', 'Sherif Zaki', 'SunGod', 'Foxtrot Games', 'Brian Banks, Shane Glick', 'Pera Games', 'Chris Grady', 'John Gallagher', 'Janelle Asselin.1', 'Raging Mammoth.1', 'Spellbind Studios', 'Dallas Graham', 'Custom SLR.1', 'Queen Games.5', 'iWinks LLC', 'designed by m', 'Justin Nagelberg & Matthew Waldman', 'Uusi.1', 'Michael Mindes.18', 'Jordis', 'Japanime Games', 'Wyrmwood Gaming', 'Boombotix', 'James Kornacki', 'Chris Wilkins', 'Robert Burke.1', 'Jesse Singer', 'sjlykowski', 'Josh Mattingly', 'Paul, Chris and Leigh', 'The Amazing Acrocats', 'Pelgrane Press', 'Jeff Gracia: Greenbrier Games.1', 'Gilad Arwatz', 'Slava Menn', 'Ursa Major', 'Top Cow Productions', 'Christopher Frederick', 'Jennifer Muhm & Malorie Catchpole', 'Medical I Movie LLC', 'The Big Tiny Co', 'UV Paqlite.1', 'Jamie Anderson', 'Ray Wehrs', 'Alphonso Ngiam', 'Foobler', 'Jehane Noujaim', 'Matt Rutledge', 'Ascension Games', 'Gigi D.G..2', 'Chelsea Thompson', 'IronSpike.5', 'Requiem Team', 'K-ble', 'Jason Bulmahn', 'David Whelan', 'Leaf Shave', 'Linda Goldstein Knowlton', 'sekaiproject.5', 'Richard Thomas.13', 'Amber Rix.1', 'Disparity Games', 'paul wheaton.1', 'John Wrot!.1', 'Shannon Sun-Higginson', 'Ollie Aplin', 'Scott Johnson', 'Tom Vasel.3', 'CowTech', 'Tim Hickman', 'Damien George.1', 'Apex Publications', 'Kill Screen', 'Last Limb LLC', 'Jon Peter Lewis', 'Jonathan Jeffrey Lai', 'Joey Spiotto', 'ISI Technology - CEO Jerry Callahan', 'LYNCH THREE PROJECT', 'Joamette Gil', 'Buffoonery Factory LLC', 'Hello Mazel', 'Secret Weapon.1', 'Defiant Development', 'Brian Probst + CruxCase', \"Kyle Hoff / Alex O'Dell\", 'Jackson Robinson.4', 'Escargot', 'Scribe Labs', \"Tim O'Connor\", 'Dfywallets', 'Nam Do, Dale Herigstad, A-M Roussel', 'Max Temkin.2', 'Jeremy Chrysler', 'IronSpike.6', 'Singularity&Co.', 'IronWall Games, Inc.', 'Section 9 Entertainment', 'Don Wilder', '4tiitoo', 'V3G', 'SkyGoblin', 'Zetland', 'Richard Loomis.1', 'Mike Lancaster', 'Witti Inc', 'Games & Gears.1', 'FANTASMAGORIA Games LLC', 'Jacob Janerka', 'Daniel Bramme', 'Spyglass Innovations Ltd - Garry Stewart', 'Cinemaware', 'Tivoli Cinemas in Westport', 'Airinum', 'Modern Toss', 'Hooke', 'Dice Hate Me Games.6', 'Lindsay Cristelli', 'Mitchel Resnick', 'Killer Robot Games.2', 'Balcony Team', 'Marcin Jakubowski.1', 'Bureo Skateboards', 'Arrowstorm Entertainment.4', 'The WiPy', 'Clever Mojo Games', 'SpaceVR', 'Aesthetec Studio', 'Pebblebee.2', 'Rollocam', 'Perch Products', 'Scott Kosmach', 'Catt White', 'Skiva Technologies', 'Satya Twena', 'Vantage Point Productions', 'Warbird Games', '4PM DESIGNS.1', 'Seatylock', 'Wyrmwood Gaming.1', 'Piper', '10x10 Room', 'Mike Scully', 'Erik Moon.1', 'myLED', 'Chaosium Inc..1', 'Lexell Watches', 'Botanica Boutique', 'AfterMaster Audio Labs', 'Stonehaven Miniatures.1', 'Aaron Latzke & David Delcourt', 'Any\\xc3\\xa9 Spivey', 'Cybernetic Research Labs', 'The Venus Project', 'Zadbox Entertainment', 'The Cinefamily', 'F\\xc5\\xaaZ Designs.3', 'Earl Scioneaux', 'DYLN Inspired', 'Dominic Crinson', 'Leigh Alexander and Laura Hudson', 'Pine Hill Project', 'Robb De Nicola', 'Aoineko Studios', 'Jordan Warren', 'Erika Moen.2', 'FMC Smart', 'Johnny Wander.2', 'Kelly Thompson', 'Tetrio', 'CASH Music', 'Kenny Trythall  + newFlux', 'Magnus Macdonald', 'Elite Playing Cards.3', 'Liz Dickinson', 'Simple Shoes', 'Aaron Alexovich', 'TenNapel.1', 'Free Range Games', 'Katie Rice', 'Deb Talan', 'Dylan Saunders', 'Jason Brubaker', 'Ben + Katie Richardson + Puj', 'Skiva Technologies.1', 'Casey J Davis', 'Alexander Nikitin', 'Chantal Molnar', 'Heather & Amie // Mnemonic Productions', 'Japanime Games.1', 'Seamless Toy Company, Inc.', 'Cloudscape Comics', 'CYCOP', 'MayAna Creatives', 'Foundation for the Study of HSPs', 'Liberty & Justice', 'Richard Thomas.14', 'Collective Eye Films', 'Helico Aerospace Industries US LLC', 'Embedded Micro', 'Hank Shaw', 'Jordan & Taryn', 'Demigods Rising', 'Archetype Studios', 'IDEO.org', 'Steve Sullivan', 'Nat Iwata', 'd20 Entertainment', 'Zach Gage', 'Gabe Durham', 'Conflict Games', 'Matt Gray', 'Cheapass Games.5', 'Zhi Teng', 'Queen Games.6', 'Mike Driscoll', 'Chris Taylor', 'Koala-Gear', 'DIRTBAG Movie', 'Ink Whiskey LLC', 'Tino Sanandaji', 'Jon Adams', 'Anthony Holden', 'Janulus', 'PROMiXX\\xe2\\x84\\xa2', 'Polymaker', 'Articulate', 'Brian Conti', 'Richard Harmon', 'Jake Jackson', 'Inslip MFG LLC', 'Alexander Lim', 'Artem Starostenko', 'Colby Bauer', 'Shane & Shane', 'Public Rec', 'ryo tech', 'FANTASMAGORIA Games LLC.1', 'The Polyphonic Spree', 'Loop Labs, Inc.', 'HUNDRED MILLION.1', 'Blyts', 'Frederic Lumiere', 'sekaiproject.6', 'Bite Designs.1', 'Darin Ross', 'David B. Talton Jr..4', 'Potluck Games.2', 'Wes Goulbourne', 'Nord Games', 'God Help The Girl', 'Bully Pulpit Games', 'Bill Plympton', 'Chris Huelsbeck.1', 'Steelmans', 'Dr. Vincent Marcel, D.C.', 'Sibel Edmonds', 'Larry Tiefenbrunn', 'Pycom', 'JIMMY PALMIOTTI.1', 'Team PERCEPTION / NEURON', 'Reggie Senegal', 'Aaron Stanton', 'Julie Sygiel', 'Bryce Alexander.2', 'Scott Tavenner', 'PLX Devices.4', 'Trin Garritano', 'Mark Dwight', 'Tesladyne LLC.1', 'Plum Geek', 'Jason Tagmire', 'OpenROV', 'ScrewAttack', '106 Labs', 'Ben Pieratt', 'JASON MAXWELL', 'Kytelabs', 'Gotham Sauce Company', \"Weebl's Stuff\", 'Kuy Mainwaring', 'Royal Academy of Arts', 'Kim Boekbinder', 'Colin Dickey', 'Dave Cohen', 'Steelmans.1', 'Steve Taylor.2', 'Sidekick Creatives', 'LevelUp', 'teamPixel, LLC', 'Elder Game, LLC.', 'Tom Newth', 'Gavin J. Grant', 'Impervious', 'The Connection Crew', 'Joshua Tsui', 'Angelica Sweeting', 'Dr. P. Patel', 'Justin Schaffer', 'The Kiwi Factory', 'Griffin Hammond', 'Sansaire', 'Cheapass Games.6', 'SunTzuGames', 'Numantian Games', 'Michael Mindes.19', 'Scott Thomas.1', 'ALLSTAR WEEKEND', 'Will Potter', 'Watchtower Games', 'Ekuator Games', 'Patrick Sherwin', 'Plug In Digital Label', 'Robert Moran', 'Queen Games.7', 'Armorz', 'Mike Wokasch - Fairway 3 Games, LLC', 'David Laituri', 'Jess Fink', 'Ube', 'David B. Talton Jr..5', 'Adam West', 'Shadi Muklashy', 'Brian Pulido', 'Peter Marx.1', 'JUMPER Threads', 'Jason Rohrer', 'Tinker Games', 'David Jarvis/Gun Metal Games', 'Jaha, Inc.', 'David Willis.1', 'Stronghold Games', 'Parabole', 'Livid Instruments', 'Stuart C. Paul', 'Ian Lambot and Greg Girard', 'Garlic Shaker', 'Spider Holster', '3 Bears Entertainment.2', 'Marvin Weinberger', 'MOLT AMERICA INC.', 'Shem Phillips.2', 'Zachary Weiner.5', \"Patrick O'Neill\", 'Scott Hussa.1', 'Memrise', 'Japanime Games.2', 'Dane Christianson', 'Stryd', 'Ilya Tabakh', '1964ADEL', 'Lay Waste Games LLC', 'Keith Gehrke', 'Six Foods', 'Konda Mason', 'Tyler & Wendy Chin-Tanner', 'Ehtonal', 'Flobots', 'One Third Stories', 'Renae De Liz.1', 'Victory Point Games.2', 'Jason Kapalka', 'Richard Monson-Haefel', 'Andy Rawson', 'Ralph Bakshi', 'Dock+', 'Belle-V Kitchen', 'Game Salute.7', 'Margaret Weis Productions', 'Joseph Hoffman', 'Grouch & Eligh', 'Breton', 'MbientLab Inc..1', 'Carsie Blanton', 'B&A Studio.1', 'Brian Conti.1', 'Frank Bouchard.2', 'Astro Monastery Media', 'Jimmy John Design, LLC', 'Make That Thing.2', 'Wayside Creations.1', 'PlayWay.4', 'DJIT', 'Ari Fruchter', 'Ernest Gary Gygax Jr', 'GIR: Get It Right.3', 'Chris Cieslik.3', 'Tentacles and Teeth/ Richard Luong', 'Mark Bollobas', 'Mohu', 'Brian H\\xc3\\xb8j Andersen', 'Rachel Koteen/540 Films', 'Whale Hammer Games', 'Tommy Maranges', 'Nathanael Matanick', 'Oomph Coffee', 'Phil & John - Earth Starter', 'The Doubleclicks.1', 'BubblePix', 'Clairy', 'Thomas Hurst + COVR LLC', 'Jay Tholen.1', 'Marccus', 'Rossling & Co.', 'dCables + PhoneRumble', 'David Willis.2', 'Jide Tech.1', 'Brandon Dierker', 'Meromorph Games', 'Ares Games.2', 'Justin Herd', 'Dapperbox', 'Rick Meints.1', 'Tom Tullis.1', \"Weebl's Stuff.1\", 'Driven Arts', 'Aaron Dunn.1', 'Yanim studio', 'Gaspard Tin\\xc3\\xa9-Ber\\xc3\\xa8s & Ruben Valensi', 'Ashley Cope.1', 'Benjamin Monnig', 'V3G.1', 'Zinovta', 'David Willis.3', 'Chris, James and Matt at Thames Baths', 'The Vegan Zombie', 'ONDU', 'Antagonist', 'Dice Hate Me Games.7', 'Bamloff', 'StoreBound.1', 'The Hamill Family', 'Michael Swain', 'Chez Brungraber.1', 'Zip Grip & Go, LLC', 'John Bull', 'Skiva Technologies.2', 'Texas Tribune', 'Alexander Lim.1', 'David Jones', 'Green Pea Cookie', 'ChillCrow', 'Jacques, Fabrice, Andrew & the HAPI team', 'Mesh Motion Inc', 'Kamikaze Games', 'David Hagar', 'Uusi.2', 'Antler Games', 'smallboxgames.2', 'Daniel Fox', 'Wade Dyer', 'Ares Games.3', 'UGEARS.1', 'Wulven Game Studios', 'UFactory', 'Skreens', 'Game Salute.8', 'Christopher Ferguson.3', 'LudiCreations.2', 'christopher gabrielson', 'Kristi Carlson', 'Mike Kennedy.1', 'OpenElectrons.com', 'Flare Audio.1', 'Ryan Laukat.3', 'Nickolas Dimondi', 'Cloud Island', 'Alan Forbes', 'Tomas Eriksson', \"Shannon O'Malley + Keith Wilson\", 'Heartbeast Studios', 'Rob Howland', 'Everyman.1', 'Rever Brand', 'Tin Man Games', 'Scott Crawford', '8 Points', 'Crash Games.3', 'Eskil Nordhaug', 'xCraft', 'Lucy Bellwood', 'Integral Design', 'This is the Story of Sir Boast A Lot', 'Nate Schmold', 'Alphonso Ngiam.1', 'Nikolay Nedev', 'ViDi Action Cameras', 'Miselu', 'M. C. Matz', 'Otis & Eleanor', 'MERCS Miniatures.3', 'Darren J. Gendron', 'Jason Tagmire.1', 'THAC LLC', 'Rachel Coleman/Two Little Hands.3', 'Stefan Loble', 'Alexandria Bombach & Mo Scarpelli', 'Daniel Hindes', 'Hans Braxmeier and Simon Steinberger', 'RoBo 3D Printer', 'GeeFi', 'SpeedX', 'Joshua Nite', 'Team O6 by Fingertips Lab', 'Catherine Braiding', 'Ryan Key', 'Matt Bors', 'Mustafa Mannan', 'Shawn Alexander Allen', 'Evan Blaustein', 'Rob Heinsoo Games', 'Elijah Parker', 'Mova', 'Padkix Design Lab.2', 'NOW. HERE. THIS.', 'Eric Heins', 'Sunstone Games, LLC.', 'The Forking Path, Co.', 'Noble and Porter, LLC', 'Magnus Macdonald.1', 'Nord Games.1', 'Gabriel', 'Ben Haskett', 'Megan Fox', 'Plai', 'Magic & Mirrors', 'Phillip Kilcrease', 'paul wheaton.2', 'Breakfall', 'Grand Gamers Guild', 'E\\xc3\\xadmear Noone', 'Philippe Chr\\xc3\\xa9tien', 'Albino Dragon.4', \"Sir Lancelot's Armor\", 'Crazy Bricks', 'ZeroDesktop, Inc', 'Samantha Futerman.1', 'Fwoosh LLC', 'Exo', 'Friendly Rabbit Inc', 'Dunstan Bruce', 'Brent Garcia.2', 'Nicole Kramer Easterday', 'Good Games USA.1', 'Michael Collins', 'Wearhaus Inc', 'Igor Zemskov & Stephen Hughett', 'Jamal Igle', 'Snowgum Films', 'Sentri', 'Epicleff Media', 'CoolMiniOrNot.22', 'Monique', 'Commons Designs Group', 'Sini Anderson', 'Garden Tower Project', 'Joe Hanson', 'Patrick Buckley', 'Jen-Jen Rose', 'J.M. Martin', 'SmartWallit Inc..1', 'Articulate.1', 'Hiroshi Katagiri', 'Grey Fox Games.1', 'Topher Wurts', 'The Game Forger', 'Dave Zuverink.2', 'dialed', 'Meredith Ramirez & Ricefield Collective', 'James Hurman & Juliet Burton', '4gency', 'GIC Nexus', 'Anderson Ponty Band', 'MotionMetrics', 'Jackson Robinson.5', 'Darma Inc.', 'Book Riot', 'InfiniteLoop', 'StudioBento', 'Rewordable', 'Queen Games.8', 'Scrap Pile Labs', 'Laurens Laudowicz.2', 'Albino Dragon.5', 'Evan Dahm', \"'Bob' Langly-Smith\", 'Mary Dore & Nancy Kennedy', 'haveltec', 'Brent Garcia.3', 'Erik Kettenburg.3', 'Joey L.', 'I AM Cardboard.1', 'Last Gasp', 'The Retronauts', 'LudiCreations.3', 'Kapture', 'Gabe Durham.1', 'Matt Chisholm', 'Matt Chisholm.1', 'Game Salute.9', 'Randal Milholland', 'Comic Book Girl 19', 'Jed Henry.1', 'Dale Mathis', 'Hide&Seek', 'Supertoy Robotics', 'OhNoo Studio', 'W Ryan Ziegler', 'John Vanderslice', 'LudiCreations.4', 'Mepsu Comics.1', 'Darren Wall.1', 'July Nine', 'ABFMB, Jeriney, COL, Hartzell', 'Martin Zboril (Team21)', 'Game Salute.10', 'WIK CABLES', 'John Robson & Brigitte Pellerin', 'Alex Winter.1', 'David B. Talton Jr..6', 'Reggie and the Full Effect/ james dewees', 'Team AB', '2 Dawn Games', 'Stonehaven Miniatures.2', 'Bob Hercules and Rita Coburn Whack', 'Murobo LLC', 'Rick & Neil Levine', 'CHRIS HANSEN', 'Alex Eames - RasPi.TV.1', 'Bill Pike', 'Vlad Dragusin + Candylab Toys', 'Seth Hiatt.8', 'Katrina Spade', 'Hawaiian Licorice Company', 'Dale Lott', 'Showrunners Documentary', 'Dan Lucchesi & Bryan Gardner', 'Dirk', 'Love in Space', 'Other Side Press', 'Justin Baldwin', 'Luke Crane.2', 'Krita Foundation', 'Everly', 'Darin Ross.1', 'Rick Dakan', 'Chris Rowlands', 'OROS', 'Foxtrot Games.1', 'Danielle Corsetto', 'Sean Kauppinen', 'B&A Studio.2', 'Michael Herman', 'triHOLD Inc.', 'Martian Watches', 'Wesley LaPorte & Dan Barnes.1', 'Muse Games.1', 'Dan Provost & Tom Gerhardt.4', 'digitalmanga', 'Outland Entertainment', 'StarworksArt Studio', 'Now Playing Podcast', 'Patrick Mathews + Breffo', 'Prizm', 'Cobblebot LLC', 'Hanakai Studio', 'dobot.cc', 'GoFar.co', 'ONDU.1', 'New Starship.1', 'the playsets team', 'Brandon Stastny.1', 'sekaiproject.7', 'Alternate History Comics Inc..1', 'Harry Connolly', 'Don Moyer.2', 'The Grid', 'WDW Magazine', 'Mixed Media Engineering', 'Cody and Robert Solomon + SoloMatrix', 'Armstart Inc.', 'Nicole Blaine', 'Robin Sukroso', 'B&A Studio.3', 'Poppy Jasper Games', 'Seekios', 'Battle Systems Ltd.1', 'Family and PlayLab.1', 'Simon Morris.1', 'Adam Grossman & Jack Turner', 'Ravi Shamaiengar, MD', 'Nolan Walsh and Connor Wilson', 'jt and alli', 'Barnstorm Games', 'Eva Bonde', 'Crash Games.4', 'Sean Riley', 'Creative Concepts', 'Yamina und Daniel', 'KOR-FX (Immerz, Inc)', 'scott teplin', 'Shira Lane', 'Fred Hicks / Evil Hat Productions.6', 'Cybernetic Research Labs.1', 'swissmiss.1', 'Eagle Games.1', 'Jim Jourdane', 'Scott King', 'Chris Birch, Modiphius.4', 'Attic Door Productions', 'SlugFest Games.2', 'KISS Ltd.', 'Minion Games.4', 'Hollow Tree Games', 'Derek Van Gorder and Otto Stockmeier', 'Boss Fight Studio', 'Dann Kriss', 'GreaterThanGames.4', 'Shawna Kaszer', 'Bobby@Go7 Gaming', 'Steve Venezia', 'Fifth House Ensemble', 'Marauder GR', 'Rachel Johnson', 'Daniel Morse', 'Paww', 'Grant Howitt', 'Josh Hano', 'Graham Hunter', '2Awesome Studio', 'Amber Rix.2', '4PM DESIGNS.2', 'Simon Schuetz', 'Alex Solomon', 'Ray Chou', 'Heath Hen Films', 'Levit8 Co.', 'UltraRunawayGames', 'Maxwell Atoms', 'Team Ubi', '9thLevel', 'Ember Equipment', 'Black Forest Games.1', 'Matthew D Riddle.1', 'Chuck D Yager', 'Daniel Shiffman', 'Over The Moon', 'A.J. Porfirio.2', 'Grey Fox Games.2', 'Pranay & Paul', 'Ronak Patel', 'OpenElectrons.com.1', 'Nate Tite', 'Ken Burns.1', 'Barisieur Ltd.', 'Game Salute.11', 'James R. Eads', 'NFNT', 'Ray Chou.1', 'Benjamin Longmier, Ph.D.', 'Espionage Cosmetics.1', 'Wafaa Bilal', 'Mosigra', 'Ares Games.4', 'mcchris', 'Robert \"Nob\" Rauch', 'Cobey Pile', 'Brad.2', 'Jean-Baptiste Monge', 'HI Resolution Enterprises', 'BeeZeeArt', 'Bart Leib', 'Stefan Loble.1', 'TRAK Team', 'Robin Arnott', 'Anna Wallmark & Andreas \\xc3\\x96hman', 'Aer.1', 'SovietGames', 'Dula Yavne & Douglas Anthony Cooper', 'Bill Barnes', 'Warpo', 'Robert Dougherty.2', 'Nick Bertke', 'Tasty Peach Studios', 'GreaterThanGames.5', 'Dreamlords Digital', 'Stary Boards', 'Scott Starrett', 'Vlad Dragusin + Candylab Toys.1', 'Shon Whitney', 'Mogees Ltd.', 'Mystic Ape Games', 'Kegan & Roberto.1', 'Terrible People LLC', 'The HeavyM Team', 'Edwin Finch', 'Slava Menn.1', 'Collective Eye Films.1', 'Shawn Smith', 'John Walter', 'Epiphany Labs', 'Charlie Brumfield', 'Joe Brusha', 'Lisabeth Sewell McCann', 'Alex Hornstein', 'Ice, Myark, Casper and Denis Stewart', 'Calley', 'Morgan Davies', 'Birth Story', 'Jeremy Chrysler.1', 'Artipia Games.4', 'Love Light & Melody', 'Adam Clarkson', 'Gryphon and Eagle Games.1', 'Chris Ovdiyenko.2', 'Ron Adair', 'Martinka', 'TABU Design', 'Spire Music', 'James Talbot', 'Ryan Laukat.4', 'Sea Wolf', 'Don Moyer.3', 'Robo Wunderkind', 'Alex Hague.2', 'BrokenMyth Studios', 'One Dimension Games', 'Star Command.1', 'BBDL Limited', 'Darren J. Gendron.1', 'Jenn Giles Kemper', 'Josh Fox', 'A-games', 'FOUR HORSEMEN STUDIOS.1', 'Victor Athletics', 'ChargeLight\\xc2\\xae', 'Simon Freethy', 'Kitty', 'James Wallis', 'Seth Hiatt.9', 'Chris Wilkins.1', 'Breakthrough Photography.1', 'Fargoal, LLC', 'Katie Chironis', 'Guitar Triller Inc.', 'DAX', 'Chris Haryono', 'The Control VR Team', 'Chenault & Gray Publishing', 'AutoAttack Games', 'Andy Hunt', 'Oskar & Klaus', 'IDW Games.1', 'Schuyler Towne', \"James D'Amato\", 'Edge Desk, LLC', 'Floatti Inc', 'Don Moyer.4', 'Opal Squad', 'Ynnis Interactive.1', 'GlocalMe', 'Minimax Lab', 'Emergent Games', 'Moff, Inc.', 'PAIX Design', 'Reflect Studios', 'ManaVoid Entertainment', 'Tim Doyle', 'Guillaume Laidet', 'Richard Herring.3', 'JASON MAXWELL.1', 'Charles DeYoe', 'Premium Chocolatiers', 'ButcherBox', 'Rift Inc', 'Maykah Inc.', 'Brian Davis.1', 'Craig Sheldon Thomas', 'Naomi Starkman and Paula Crossfield', 'Meeple Source.2', 'sailorhg', 'Cory Scanlan (Vorpal Chainsword Games)', 'Snaak LLC', 'Microbric', 'Romotive', 'Eamon Carrig', 'Battle Systems Ltd.2', 'MIPOW USA.1', 'Pilot Electronics', 'Zero Breeze', 'Brian Conti.2', 'Jason Ciaramella & Greg Murphy', 'Steven Sanders', 'Too Kind Studio', 'Ember Lab', 'Fire & Bone.2', 'Pleasant Company Games', 'XRAY.FM', 'Watchismo.2', 'Inkwell Ideas', 'Rob Balder.2', 'Progressive Products', 'Don Moyer.5', 'Downward Viral', 'The Tin Can Brothers', 'Windy Hill Studio', 'Doug Worple', 'Rebecca Gray', 'Calder Bateman Communications', 'Salim Larochelle', 'Flippfly', 'Nathan Schreiber', 'Joseph Krzemienski', 'Samantha Youssef', 'CleverPet', 'Daily Magic Games.3', 'Red Republic Games', 'Load&Road, LLC.', 'Jay Rosenkrantz, Ryan Firpo, Taylor Caby', 'Chenault & Gray Publishing.1', 'Shane Hensley.2', 'John M. Scrudder', 'Brad Ruff', 'sekaiproject.8', 'Oneadaptr', 'Vine', 'Sabrina Chun', 'Shipwrecked Comedy', 'Grace Lee', 'CoolMiniOrNot.23', 'Christopher Locke', 'Calan Horsman', 'The Department of Design', 'NSKN Games - LudiBooster.3', 'Unit Editions', 'Marko Borko and Andrej Gla\\xc5\\xbear', 'Element Pure', 'sekaiproject.9', 'Aqualumina', 'Wes Otis', 'innie', 'Chris Pramas: Green Ronin Publishing', 'Mark Bollman', 'Queen Games.9', 'WELLY', 'Ryan Ward', 'The FED UP Film Team', 'Seth Hiatt.10', 'Japanime Games.3', 'IO Worlds', 'Richard Thomas.15', 'Jason Tagmire.2', 'Jeremy Snead', 'robyn jasko.1', 'Volker Ritzhaupt', 'U-Turn Audio', \"The Boys at Grillin' and Chillin'\", 'Lindsay Conner', 'Geoffrey Litwack', 'Charlie Brumfield.1', 'Chris Smits', 'Action Phase Games.5', 'FAKEGRIMLOCK', 'The Peak', 'Confide', 'Two Bit Circus', 'Azpen Innovation', 'eoseek llc', '44FLOOD.1', 'cw&t.1', 'Scott Phillips and Joel Kamerman', 'Zhi Teng.1', 'Wayside Creations.2', 'Solid Art Labs', 'De-Evolution Studios', 'TrueREVO', 'Realm Pictures', 'Ivelin Demirov.1', 'Curt Peters', 'R.A. Salvatore', 'Bombshell Miniatures', \"E'NOD\", 'HakJak', 'Unit Editions.1', 'Max Michael', 'John Coveyou (Genius Games).3', 'Ludus Magnus Studio LLC', 'Todd Bol', 'of Montreal', 'Bradley Slattery', 'AIBrain & Bonavision', 'Always Right', 'Michael Beach Nichols/Christopher Walker', 'Adventureland Games', 'Rowdy Robot', 'peter han', 'GREG PABICH', 'CINEIK', 'Wilderness Collective', 'Jonathan Price & Michael Mojica', 'SBARK dog toys', 'Joshua Montgomery', 'Kate Funk', 'Gauri Nanda and Audry Hill', 'Erik Kittlaus + Dekke', 'Savvy Curls LLC', 'MAGE Company.2', 'Adventureland Games.1', 'ZeroPi Team', 'Ben Jaszczak', 'Richard Thomas.16', 'Travis.13', 'Grant Howitt.1', 'Zombie Orpheus.2', 'David B. Talton Jr..7', 'Raffaello Siniscalco', 'Twogether Studios, LLC', 'Grass Fed Coffee', 'Locust Moon Press', 'HandyMan Studios', 'Fancy Boy', 'Minimal Design Company', 'Carly Gloge', 'PES', 'Matt Veenstra', 'Draugiem Group', 'Aric Norine', 'The Blackout.1', 'Black Chicken Studios', 'Ben Robbins.1', 'Vlad Dragusin + Candylab Toys.2', 'GCT Studios', 'Lono', 'Design Imperator', 'Dave & Calvin Laituri.1', 'Pavel Muntyan', 'Solgaard Design.1', 'Emily Kaiser Thelin', 'Tristan Parrish Moore', 'Don Moyer.6', 'Nicholas Vitek', 'Nisolo', 'Nick Walter.1', 'Cameron Huber', 'Craighton Berman', 'Homicide Watch', 'Sparr Games LLC', 'Lantern Studio', 'Alex Shpetniy', 'Jordan McRae', 'Boosted Boards', 'Leafcutter Designs', 'Shane Hensley.3', 'PulsePet', 'I AM Cardboard.2', 'OFF LIFE', 'Rick Davidson', 'Kevin Crawford.1']\n"
     ]
    }
   ],
   "source": [
    "print names"
   ]
  },
  {
   "cell_type": "markdown",
   "metadata": {},
   "source": [
    "## Location"
   ]
  },
  {
   "cell_type": "code",
   "execution_count": 23,
   "metadata": {
    "ExecuteTime": {
     "end_time": "2016-11-09T18:38:27.763557",
     "start_time": "2016-11-09T18:38:27.736853"
    },
    "collapsed": false
   },
   "outputs": [],
   "source": [
    "# Each location has a [primary], [secondary] location - we'll separate that\n",
    "df2[\"loc1\"] = df2[\"location\"].map(lambda x: x.split(\", \")[0].strip())\n",
    "df2[\"loc2\"] = df2[\"location\"].map(lambda x: x.split(\", \")[1].strip())"
   ]
  },
  {
   "cell_type": "code",
   "execution_count": 24,
   "metadata": {
    "ExecuteTime": {
     "end_time": "2016-11-09T18:38:27.870814",
     "start_time": "2016-11-09T18:38:27.768248"
    },
    "collapsed": false
   },
   "outputs": [
    {
     "data": {
      "text/html": [
       "<div>\n",
       "<table border=\"1\" class=\"dataframe\">\n",
       "  <thead>\n",
       "    <tr style=\"text-align: right;\">\n",
       "      <th></th>\n",
       "      <th>amt_pledged</th>\n",
       "      <th>blurb</th>\n",
       "      <th>category</th>\n",
       "      <th>currency</th>\n",
       "      <th>goal</th>\n",
       "      <th>location</th>\n",
       "      <th>num_backers</th>\n",
       "      <th>num_backers_tier</th>\n",
       "      <th>pledge_tier</th>\n",
       "      <th>title</th>\n",
       "      <th>...</th>\n",
       "      <th>pledged_USD</th>\n",
       "      <th>goal_USD</th>\n",
       "      <th>percent_total</th>\n",
       "      <th>goal_level</th>\n",
       "      <th>goal_level_num</th>\n",
       "      <th>pledge_level</th>\n",
       "      <th>pledge_level_num</th>\n",
       "      <th>creator</th>\n",
       "      <th>loc1</th>\n",
       "      <th>loc2</th>\n",
       "    </tr>\n",
       "  </thead>\n",
       "  <tbody>\n",
       "    <tr>\n",
       "      <th>0</th>\n",
       "      <td>8782571.0</td>\n",
       "      <td>\\nThis is a card game for people who are into kittens and explosions and laser beams and sometimes goats.\\n</td>\n",
       "      <td>Tabletop Games</td>\n",
       "      <td>usd</td>\n",
       "      <td>10000.0</td>\n",
       "      <td>Los Angeles, CA</td>\n",
       "      <td>219382</td>\n",
       "      <td>[15505, 202934, 200, 5]</td>\n",
       "      <td>[20.0, 35.0, 100.0, 500.0]</td>\n",
       "      <td>Exploding Kittens</td>\n",
       "      <td>...</td>\n",
       "      <td>8782571.0</td>\n",
       "      <td>10000.0</td>\n",
       "      <td>87825.71</td>\n",
       "      <td>medium</td>\n",
       "      <td>1</td>\n",
       "      <td>low</td>\n",
       "      <td>0</td>\n",
       "      <td>elanlee</td>\n",
       "      <td>Los Angeles</td>\n",
       "      <td>CA</td>\n",
       "    </tr>\n",
       "    <tr>\n",
       "      <th>1</th>\n",
       "      <td>6465690.0</td>\n",
       "      <td>\\nAn unusually addicting, high-quality desk toy designed to help you focus. Fidget at work, in class, and at home in style.\\n</td>\n",
       "      <td>Product Design</td>\n",
       "      <td>usd</td>\n",
       "      <td>15000.0</td>\n",
       "      <td>Denver, CO</td>\n",
       "      <td>154926</td>\n",
       "      <td>[788, 250, 43073, 21796, 41727, 21627, 12215, 7608, 3290, 2189, 82, 85]</td>\n",
       "      <td>[1.0, 14.0, 19.0, 19.0, 35.0, 35.0, 79.0, 79.0, 129.0, 129.0, 849.0, 849.0]</td>\n",
       "      <td>Fidget Cube: A Vinyl Desk Toy</td>\n",
       "      <td>...</td>\n",
       "      <td>6465690.0</td>\n",
       "      <td>15000.0</td>\n",
       "      <td>43104.60</td>\n",
       "      <td>medium</td>\n",
       "      <td>1</td>\n",
       "      <td>low</td>\n",
       "      <td>0</td>\n",
       "      <td>antsylabs</td>\n",
       "      <td>Denver</td>\n",
       "      <td>CO</td>\n",
       "    </tr>\n",
       "  </tbody>\n",
       "</table>\n",
       "<p>2 rows × 22 columns</p>\n",
       "</div>"
      ],
      "text/plain": [
       "   amt_pledged  \\\n",
       "0    8782571.0   \n",
       "1    6465690.0   \n",
       "\n",
       "                                                                                                                           blurb  \\\n",
       "0                    \\nThis is a card game for people who are into kittens and explosions and laser beams and sometimes goats.\\n   \n",
       "1  \\nAn unusually addicting, high-quality desk toy designed to help you focus. Fidget at work, in class, and at home in style.\\n   \n",
       "\n",
       "         category currency     goal         location  num_backers  \\\n",
       "0  Tabletop Games      usd  10000.0  Los Angeles, CA       219382   \n",
       "1  Product Design      usd  15000.0       Denver, CO       154926   \n",
       "\n",
       "                                                          num_backers_tier  \\\n",
       "0                                                  [15505, 202934, 200, 5]   \n",
       "1  [788, 250, 43073, 21796, 41727, 21627, 12215, 7608, 3290, 2189, 82, 85]   \n",
       "\n",
       "                                                                   pledge_tier  \\\n",
       "0                                                   [20.0, 35.0, 100.0, 500.0]   \n",
       "1  [1.0, 14.0, 19.0, 19.0, 35.0, 35.0, 79.0, 79.0, 129.0, 129.0, 849.0, 849.0]   \n",
       "\n",
       "                           title ...  pledged_USD  goal_USD  percent_total  \\\n",
       "0              Exploding Kittens ...    8782571.0   10000.0       87825.71   \n",
       "1  Fidget Cube: A Vinyl Desk Toy ...    6465690.0   15000.0       43104.60   \n",
       "\n",
       "   goal_level  goal_level_num pledge_level  pledge_level_num    creator  \\\n",
       "0      medium               1          low                 0    elanlee   \n",
       "1      medium               1          low                 0  antsylabs   \n",
       "\n",
       "          loc1 loc2  \n",
       "0  Los Angeles   CA  \n",
       "1       Denver   CO  \n",
       "\n",
       "[2 rows x 22 columns]"
      ]
     },
     "execution_count": 24,
     "metadata": {},
     "output_type": "execute_result"
    }
   ],
   "source": [
    "df2.head(2)"
   ]
  },
  {
   "cell_type": "code",
   "execution_count": 25,
   "metadata": {
    "ExecuteTime": {
     "end_time": "2016-11-09T18:38:27.887076",
     "start_time": "2016-11-09T18:38:27.874077"
    },
    "collapsed": false
   },
   "outputs": [],
   "source": [
    "# A lot of them had two-letter state representations for the secondary location\n",
    "# Let's see what were the ones that didn't\n",
    "df2[\"is_state\"] = df2.loc2.map(lambda x: 1 if len(x) == 2 else 0)"
   ]
  },
  {
   "cell_type": "code",
   "execution_count": 26,
   "metadata": {
    "ExecuteTime": {
     "end_time": "2016-11-09T18:38:27.901932",
     "start_time": "2016-11-09T18:38:27.890323"
    },
    "collapsed": false
   },
   "outputs": [
    {
     "data": {
      "text/plain": [
       "array(['Canada', 'Japan', 'Czech Republic', 'China', 'Norway', 'Belgium',\n",
       "       'Sweden', 'Germany', 'France', 'Manhattan', 'Poland', 'Slovenia',\n",
       "       'India', 'Denmark', 'Spain', 'Luxembourg', 'Taiwan', 'Los Angeles',\n",
       "       'Netherlands', 'Mexico', 'Queens', 'Russia', 'Thailand', 'Israel',\n",
       "       'Italy', 'Austria', 'South Korea', 'Bulgaria', 'South Africa',\n",
       "       'Afghanistan', 'Hong Kong', 'Brazil', 'Switzerland', 'Ukraine',\n",
       "       'Chile', 'Argentina', 'United Arab Emirates', 'Finland', 'Belarus',\n",
       "       'Turkey', 'Romania', 'Brooklyn', 'Malta', 'Greece', 'Iceland',\n",
       "       'Slovakia', 'Singapore', 'Nashville', 'Macedonia', 'Philadelphia',\n",
       "       'San Diego', 'Costa Rica', 'Bakersfield', 'Portland', 'Miami',\n",
       "       'Philippines', 'Croatia', 'Egypt', 'Ireland', 'Thousand Oaks',\n",
       "       'Virgin Islands', 'Crested Butte', 'Puerto Rico', 'Indonesia',\n",
       "       'Cameroon', 'Framingham', 'Hungary', 'Colombia', 'Maplewood',\n",
       "       'Latvia', 'Kenya'], dtype=object)"
      ]
     },
     "execution_count": 26,
     "metadata": {},
     "output_type": "execute_result"
    }
   ],
   "source": [
    "df2[\"loc2\"][df2[\"is_state\"] == 0].unique()"
   ]
  },
  {
   "cell_type": "code",
   "execution_count": 27,
   "metadata": {
    "ExecuteTime": {
     "end_time": "2016-11-09T18:38:27.912577",
     "start_time": "2016-11-09T18:38:27.905019"
    },
    "collapsed": false
   },
   "outputs": [],
   "source": [
    "# Some of them look like they're in the USA\n",
    "# Looked at Kickstarter for some of them, projects are allowed to choose sub-locations within their cities\n",
    "# So we end up with [location, city, state] instead of just [city, state]\n",
    "# But only the first 2 items get picked up\n",
    "# For now, we'll manually pick these out\n",
    "in_USA = [\"Manhattan\", \"Brooklyn\", \"Nashville\", \"Philadelphia\", \"San Diego\", \"Portland\", \n",
    "          \"Miami\", \"Thousand Oaks\", \"Virgin Islands\", \"Crested Butte\", \"Framingham\", \"Maplewood\"]"
   ]
  },
  {
   "cell_type": "code",
   "execution_count": 28,
   "metadata": {
    "ExecuteTime": {
     "end_time": "2016-11-09T18:38:27.922716",
     "start_time": "2016-11-09T18:38:27.916312"
    },
    "collapsed": true
   },
   "outputs": [],
   "source": [
    "def get_country(loc):\n",
    "    if loc in in_USA or len(loc) == 2:\n",
    "        return \"USA\"\n",
    "    else:\n",
    "        return loc"
   ]
  },
  {
   "cell_type": "code",
   "execution_count": 29,
   "metadata": {
    "ExecuteTime": {
     "end_time": "2016-11-09T18:38:27.937374",
     "start_time": "2016-11-09T18:38:27.926037"
    },
    "collapsed": false
   },
   "outputs": [],
   "source": [
    "df2[\"country\"] = df2[\"loc2\"].map(get_country)"
   ]
  },
  {
   "cell_type": "code",
   "execution_count": 30,
   "metadata": {
    "ExecuteTime": {
     "end_time": "2016-11-09T18:38:28.015588",
     "start_time": "2016-11-09T18:38:27.940965"
    },
    "collapsed": false
   },
   "outputs": [
    {
     "data": {
      "text/html": [
       "<div>\n",
       "<table border=\"1\" class=\"dataframe\">\n",
       "  <thead>\n",
       "    <tr style=\"text-align: right;\">\n",
       "      <th></th>\n",
       "      <th>amt_pledged</th>\n",
       "      <th>blurb</th>\n",
       "      <th>category</th>\n",
       "      <th>currency</th>\n",
       "      <th>goal</th>\n",
       "      <th>location</th>\n",
       "      <th>num_backers</th>\n",
       "      <th>num_backers_tier</th>\n",
       "      <th>pledge_tier</th>\n",
       "      <th>title</th>\n",
       "      <th>...</th>\n",
       "      <th>percent_total</th>\n",
       "      <th>goal_level</th>\n",
       "      <th>goal_level_num</th>\n",
       "      <th>pledge_level</th>\n",
       "      <th>pledge_level_num</th>\n",
       "      <th>creator</th>\n",
       "      <th>loc1</th>\n",
       "      <th>loc2</th>\n",
       "      <th>is_state</th>\n",
       "      <th>country</th>\n",
       "    </tr>\n",
       "  </thead>\n",
       "  <tbody>\n",
       "    <tr>\n",
       "      <th>0</th>\n",
       "      <td>8782571.0</td>\n",
       "      <td>\\nThis is a card game for people who are into kittens and explosions and laser beams and sometimes goats.\\n</td>\n",
       "      <td>Tabletop Games</td>\n",
       "      <td>usd</td>\n",
       "      <td>10000.0</td>\n",
       "      <td>Los Angeles, CA</td>\n",
       "      <td>219382</td>\n",
       "      <td>[15505, 202934, 200, 5]</td>\n",
       "      <td>[20.0, 35.0, 100.0, 500.0]</td>\n",
       "      <td>Exploding Kittens</td>\n",
       "      <td>...</td>\n",
       "      <td>87825.71</td>\n",
       "      <td>medium</td>\n",
       "      <td>1</td>\n",
       "      <td>low</td>\n",
       "      <td>0</td>\n",
       "      <td>elanlee</td>\n",
       "      <td>Los Angeles</td>\n",
       "      <td>CA</td>\n",
       "      <td>1</td>\n",
       "      <td>USA</td>\n",
       "    </tr>\n",
       "  </tbody>\n",
       "</table>\n",
       "<p>1 rows × 24 columns</p>\n",
       "</div>"
      ],
      "text/plain": [
       "   amt_pledged  \\\n",
       "0    8782571.0   \n",
       "\n",
       "                                                                                                         blurb  \\\n",
       "0  \\nThis is a card game for people who are into kittens and explosions and laser beams and sometimes goats.\\n   \n",
       "\n",
       "         category currency     goal         location  num_backers  \\\n",
       "0  Tabletop Games      usd  10000.0  Los Angeles, CA       219382   \n",
       "\n",
       "          num_backers_tier                 pledge_tier              title  \\\n",
       "0  [15505, 202934, 200, 5]  [20.0, 35.0, 100.0, 500.0]  Exploding Kittens   \n",
       "\n",
       "    ...   percent_total  goal_level  goal_level_num  pledge_level  \\\n",
       "0   ...        87825.71      medium               1           low   \n",
       "\n",
       "   pledge_level_num  creator         loc1 loc2  is_state country  \n",
       "0                 0  elanlee  Los Angeles   CA         1     USA  \n",
       "\n",
       "[1 rows x 24 columns]"
      ]
     },
     "execution_count": 30,
     "metadata": {},
     "output_type": "execute_result"
    }
   ],
   "source": [
    "df2.head(1)"
   ]
  },
  {
   "cell_type": "raw",
   "metadata": {
    "ExecuteTime": {
     "end_time": "2016-11-09T14:44:14.750129",
     "start_time": "2016-11-09T14:44:14.740316"
    },
    "collapsed": true
   },
   "source": [
    "country_encode = preprocessing.LabelEncoder()\n",
    "df2[\"country_num\"] = country_encode.fit_transform(df2[\"country\"])"
   ]
  },
  {
   "cell_type": "raw",
   "metadata": {
    "ExecuteTime": {
     "end_time": "2016-11-09T14:44:17.879179",
     "start_time": "2016-11-09T14:44:17.795651"
    },
    "collapsed": false
   },
   "source": [
    "df2[\"blurb\"] = df2[\"blurb\"].map(lambda x: x.replace(\"\\n\", \"\").replace(\",\", \"\"))\n",
    "df2[\"title\"] = df2[\"title\"].map(lambda x: x.replace(\"\\n\", \"\").replace(\",\", \"\").replace(\"|\", \"-\"))\n",
    "df2.to_csv(\"addedstuff.csv\")"
   ]
  },
  {
   "cell_type": "raw",
   "metadata": {
    "ExecuteTime": {
     "end_time": "2016-11-09T14:28:48.011556",
     "start_time": "2016-11-09T14:28:48.002115"
    },
    "collapsed": false
   },
   "source": [
    "for i in df2[\"title\"]:\n",
    "    if \"BAU\" in i:\n",
    "        print i"
   ]
  },
  {
   "cell_type": "code",
   "execution_count": null,
   "metadata": {
    "ExecuteTime": {
     "end_time": "2016-11-09T14:37:05.264078",
     "start_time": "2016-11-09T14:37:05.259444"
    },
    "collapsed": false
   },
   "outputs": [],
   "source": []
  },
  {
   "cell_type": "markdown",
   "metadata": {
    "collapsed": true
   },
   "source": [
    "## Length of campaign"
   ]
  },
  {
   "cell_type": "raw",
   "metadata": {
    "ExecuteTime": {
     "end_time": "2016-11-09T18:00:35.134864",
     "start_time": "2016-11-09T18:00:34.652439"
    }
   },
   "source": [
    "r = requests.get(url.format(df2[\"url\"][0]))"
   ]
  },
  {
   "cell_type": "raw",
   "metadata": {
    "ExecuteTime": {
     "end_time": "2016-11-09T18:00:46.627258",
     "start_time": "2016-11-09T18:00:46.429306"
    }
   },
   "source": [
    "soup = BeautifulSoup(r.content, \"lxml\")"
   ]
  },
  {
   "cell_type": "raw",
   "metadata": {
    "ExecuteTime": {
     "end_time": "2016-11-09T18:00:54.712798",
     "start_time": "2016-11-09T18:00:54.482780"
    }
   },
   "source": [
    "print soup.prettify()"
   ]
  },
  {
   "cell_type": "raw",
   "metadata": {
    "ExecuteTime": {
     "end_time": "2016-11-09T18:05:27.747060",
     "start_time": "2016-11-09T18:05:27.633811"
    }
   },
   "source": [
    "text = soup.find(\"div\", class_=\"NS_campaigns__funding_period\").text"
   ]
  },
  {
   "cell_type": "code",
   "execution_count": 31,
   "metadata": {
    "ExecuteTime": {
     "end_time": "2016-11-09T18:38:28.034196",
     "start_time": "2016-11-09T18:38:28.018090"
    },
    "collapsed": true
   },
   "outputs": [],
   "source": [
    "base = \"https://www.kickstarter.com{}\"\n",
    "\n",
    "def get_period(url):\n",
    "    r = requests.get(base.format(url))\n",
    "    soup = BeautifulSoup(r.content, \"lxml\")\n",
    "    text = soup.find(\"div\", class_=\"NS_campaigns__funding_period\").text\n",
    "    try:\n",
    "        text = text.strip()\n",
    "        text = text.replace(\"-\", \"\\n\").split(\"\\n\")\n",
    "        text = [i.strip() for i in text if len(i) > 0]\n",
    "        text = text[1:]\n",
    "        text[-1] = text[-1][1:-1].split()[0]\n",
    "        return text\n",
    "    except:\n",
    "        return [\"\",\"\",\"\"]"
   ]
  },
  {
   "cell_type": "raw",
   "metadata": {
    "ExecuteTime": {
     "end_time": "2016-11-09T18:05:28.203698",
     "start_time": "2016-11-09T18:05:28.200118"
    }
   },
   "source": [
    "text = text.strip()"
   ]
  },
  {
   "cell_type": "raw",
   "metadata": {
    "ExecuteTime": {
     "end_time": "2016-11-09T18:05:28.621236",
     "start_time": "2016-11-09T18:05:28.617001"
    }
   },
   "source": [
    "text = text.replace(\"-\", \"\\n\").split(\"\\n\")"
   ]
  },
  {
   "cell_type": "raw",
   "metadata": {
    "ExecuteTime": {
     "end_time": "2016-11-09T18:05:36.528434",
     "start_time": "2016-11-09T18:05:36.520639"
    }
   },
   "source": [
    "[i.strip() for i in text if len(i) > 0]"
   ]
  },
  {
   "cell_type": "raw",
   "metadata": {
    "ExecuteTime": {
     "end_time": "2016-11-09T18:07:28.858884",
     "start_time": "2016-11-09T18:07:28.853355"
    }
   },
   "source": [
    "test = list(df2[\"url\"])"
   ]
  },
  {
   "cell_type": "raw",
   "metadata": {
    "ExecuteTime": {
     "end_time": "2016-11-09T18:12:25.424357",
     "start_time": "2016-11-09T18:12:12.715648"
    }
   },
   "source": [
    "for i in np.random.choice(test, 10, replace=False):\n",
    "    print get_period(i)"
   ]
  },
  {
   "cell_type": "markdown",
   "metadata": {},
   "source": [
    "## Categories"
   ]
  },
  {
   "cell_type": "code",
   "execution_count": 49,
   "metadata": {
    "ExecuteTime": {
     "end_time": "2016-11-09T18:43:16.335689",
     "start_time": "2016-11-09T18:43:16.329188"
    },
    "collapsed": false,
    "scrolled": true
   },
   "outputs": [],
   "source": [
    "categories = df2[\"category\"].unique()\n",
    "categories = [[i.lower()] for i in categories]"
   ]
  },
  {
   "cell_type": "code",
   "execution_count": 34,
   "metadata": {
    "ExecuteTime": {
     "end_time": "2016-11-09T18:39:09.130645",
     "start_time": "2016-11-09T18:39:09.126252"
    },
    "collapsed": true
   },
   "outputs": [],
   "source": []
  },
  {
   "cell_type": "code",
   "execution_count": 59,
   "metadata": {
    "ExecuteTime": {
     "end_time": "2016-11-09T18:46:01.971377",
     "start_time": "2016-11-09T18:46:01.953988"
    },
    "collapsed": true
   },
   "outputs": [],
   "source": [
    "model = Word2Vec(categories, min_count=0)"
   ]
  },
  {
   "cell_type": "code",
   "execution_count": 56,
   "metadata": {
    "ExecuteTime": {
     "end_time": "2016-11-09T18:45:26.412132",
     "start_time": "2016-11-09T18:45:26.402918"
    },
    "collapsed": true
   },
   "outputs": [],
   "source": [
    "kcats = [\"Art\",\n",
    "\"Comics\",\n",
    "\"Crafts\",\n",
    "\"Dance\",\n",
    "\"Design\",\n",
    "\"Fashion\",\n",
    "\"Film & Video\",\n",
    "\"Food\",\n",
    "\"Games\",\n",
    "\"Journalism\",\n",
    "\"Music\",\n",
    "\"Photography\",\n",
    "\"Publishing\",\n",
    "\"Technology\",\n",
    "\"Theater\"]"
   ]
  },
  {
   "cell_type": "code",
   "execution_count": 57,
   "metadata": {
    "ExecuteTime": {
     "end_time": "2016-11-09T18:45:47.677293",
     "start_time": "2016-11-09T18:45:47.673008"
    },
    "collapsed": true
   },
   "outputs": [],
   "source": [
    "kcats = [[i.lower()] for i in kcats]"
   ]
  },
  {
   "cell_type": "code",
   "execution_count": 58,
   "metadata": {
    "ExecuteTime": {
     "end_time": "2016-11-09T18:45:58.326743",
     "start_time": "2016-11-09T18:45:58.321580"
    },
    "collapsed": true
   },
   "outputs": [],
   "source": [
    "categories.extend(kcats)"
   ]
  },
  {
   "cell_type": "code",
   "execution_count": 68,
   "metadata": {
    "ExecuteTime": {
     "end_time": "2016-11-09T18:48:32.289416",
     "start_time": "2016-11-09T18:48:32.274409"
    },
    "collapsed": false
   },
   "outputs": [
    {
     "name": "stdout",
     "output_type": "stream",
     "text": [
      "['art']\n",
      "('stationery', 0.18190565705299377)\n",
      "('hip-hop', 0.17864373326301575)\n",
      "('playing cards', 0.1732616126537323)\n",
      "('sound', 0.1540769338607788)\n",
      "('interactive design', 0.14903217554092407)\n",
      "\n",
      "['comics']\n",
      "('action', 0.18668465316295624)\n",
      "('puzzles', 0.16805586218833923)\n",
      "(\"children's books\", 0.1503983736038208)\n",
      "('playing cards', 0.14931637048721313)\n",
      "('anthologies', 0.14254578948020935)\n",
      "\n",
      "['crafts']\n",
      "('rock', 0.21476006507873535)\n",
      "('spaces', 0.18376420438289642)\n",
      "('installations', 0.16720616817474365)\n",
      "('people', 0.1659121960401535)\n",
      "('anthologies', 0.15770873427391052)\n",
      "\n",
      "['dance']\n",
      "('country &amp; folk', 0.21552163362503052)\n",
      "('spaces', 0.1784234344959259)\n",
      "('action', 0.17598041892051697)\n",
      "('video games', 0.17465408146381378)\n",
      "('vegan', 0.15892380475997925)\n",
      "\n",
      "['design']\n",
      "('rock', 0.19560274481773376)\n",
      "('video', 0.18019834160804749)\n",
      "(\"children's books\", 0.17965483665466309)\n",
      "('camera equipment', 0.1769547164440155)\n",
      "('spaces', 0.17587065696716309)\n",
      "\n",
      "['fashion']\n",
      "('thrillers', 0.1677640974521637)\n",
      "('stationery', 0.15893054008483887)\n",
      "('puzzles', 0.15668490529060364)\n",
      "('nonfiction', 0.14913706481456757)\n",
      "('pop', 0.13239571452140808)\n",
      "\n",
      "['film & video']\n",
      "('sculpture', 0.20253175497055054)\n",
      "('thrillers', 0.1700279265642166)\n",
      "('video', 0.16981977224349976)\n",
      "('sound', 0.1675577461719513)\n",
      "('installations', 0.1571745127439499)\n",
      "\n",
      "['food']\n",
      "('action', 0.21805612742900848)\n",
      "('romance', 0.19076621532440186)\n",
      "('video', 0.1901267170906067)\n",
      "('nonfiction', 0.16055329144001007)\n",
      "(\"children's books\", 0.15975508093833923)\n",
      "\n",
      "['games']\n",
      "('video', 0.20226013660430908)\n",
      "('nonfiction', 0.18514631688594818)\n",
      "(\"children's books\", 0.17688634991645813)\n",
      "('accessories', 0.1647075116634369)\n",
      "('interactive design', 0.1597336232662201)\n",
      "\n",
      "['journalism']\n",
      "(\"children's books\", 0.21755176782608032)\n",
      "('people', 0.18912003934383392)\n",
      "('sound', 0.1866675615310669)\n",
      "('family', 0.18041664361953735)\n",
      "('installations', 0.15342110395431519)\n",
      "\n",
      "['music']\n",
      "('pop', 0.20630155503749847)\n",
      "(\"children's books\", 0.19551733136177063)\n",
      "('anthologies', 0.17055702209472656)\n",
      "('sound', 0.16373993456363678)\n",
      "('action', 0.15744441747665405)\n",
      "\n",
      "['photography']\n",
      "(\"children's books\", 0.2984469532966614)\n",
      "('anthologies', 0.25500714778900146)\n",
      "('action', 0.1956561803817749)\n",
      "('video', 0.1523461639881134)\n",
      "('interactive design', 0.14386942982673645)\n",
      "\n",
      "['publishing']\n",
      "('comic books', 0.18726488947868347)\n",
      "('periodicals', 0.16126412153244019)\n",
      "('vegan', 0.15093205869197845)\n",
      "('anthologies', 0.1484760046005249)\n",
      "('installations', 0.14433227479457855)\n",
      "\n",
      "['technology']\n",
      "('puzzles', 0.2174462378025055)\n",
      "(\"children's books\", 0.1741572767496109)\n",
      "('nonfiction', 0.155034601688385)\n",
      "('spaces', 0.15225154161453247)\n",
      "('gadgets', 0.14872539043426514)\n",
      "\n",
      "['theater']\n",
      "(\"children's books\", 0.19008475542068481)\n",
      "('family', 0.17241130769252777)\n",
      "('video', 0.17085672914981842)\n",
      "('architecture', 0.15590155124664307)\n",
      "('hip-hop', 0.14968904852867126)\n",
      "\n"
     ]
    }
   ],
   "source": [
    "for i in kcats:\n",
    "    print i\n",
    "    for j in model.most_similar(positive=i, negative=[x[0] for x in kcats if x != i],topn=5):\n",
    "        print j\n",
    "    print"
   ]
  },
  {
   "cell_type": "code",
   "execution_count": null,
   "metadata": {
    "collapsed": true
   },
   "outputs": [],
   "source": []
  }
 ],
 "metadata": {
  "anaconda-cloud": {},
  "kernelspec": {
   "display_name": "Python [default]",
   "language": "python",
   "name": "python2"
  },
  "language_info": {
   "codemirror_mode": {
    "name": "ipython",
    "version": 2
   },
   "file_extension": ".py",
   "mimetype": "text/x-python",
   "name": "python",
   "nbconvert_exporter": "python",
   "pygments_lexer": "ipython2",
   "version": "2.7.12"
  },
  "toc": {
   "nav_menu": {
    "height": "192px",
    "width": "252px"
   },
   "navigate_menu": true,
   "number_sections": true,
   "sideBar": true,
   "threshold": 4,
   "toc_cell": false,
   "toc_section_display": "block",
   "toc_window_display": true
  }
 },
 "nbformat": 4,
 "nbformat_minor": 1
}
