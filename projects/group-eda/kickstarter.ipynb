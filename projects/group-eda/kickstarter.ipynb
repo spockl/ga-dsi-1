{
 "cells": [
  {
   "cell_type": "markdown",
   "metadata": {},
   "source": [
    "# Set up notebook"
   ]
  },
  {
   "cell_type": "markdown",
   "metadata": {},
   "source": [
    "## Import libraries"
   ]
  },
  {
   "cell_type": "code",
   "execution_count": 37,
   "metadata": {
    "ExecuteTime": {
     "end_time": "2016-11-09T12:13:33.857006",
     "start_time": "2016-11-09T12:13:33.609279"
    },
    "collapsed": true
   },
   "outputs": [],
   "source": [
    "import pandas as pd \n",
    "import numpy as np\n",
    "import scipy\n",
    "from sklearn import decomposition, manifold, preprocessing, cluster\n",
    "\n",
    "import matplotlib.pyplot as plt\n",
    "import seaborn as sns\n",
    "\n",
    "from selenium import webdriver\n",
    "from bs4 import BeautifulSoup\n",
    "import requests\n",
    "\n",
    "from ipywidgets import interact\n",
    "\n",
    "%matplotlib inline"
   ]
  },
  {
   "cell_type": "markdown",
   "metadata": {
    "ExecuteTime": {
     "end_time": "2016-11-09T11:46:03.599410",
     "start_time": "2016-11-09T11:46:03.591762"
    }
   },
   "source": [
    "## Plot style"
   ]
  },
  {
   "cell_type": "code",
   "execution_count": 3,
   "metadata": {
    "ExecuteTime": {
     "end_time": "2016-11-09T11:47:17.850086",
     "start_time": "2016-11-09T11:47:17.844474"
    },
    "collapsed": true
   },
   "outputs": [],
   "source": [
    "plt.style.use(\"fivethirtyeight\")"
   ]
  },
  {
   "cell_type": "code",
   "execution_count": 107,
   "metadata": {
    "ExecuteTime": {
     "end_time": "2016-11-09T13:43:14.086803",
     "start_time": "2016-11-09T13:43:14.081931"
    },
    "collapsed": true
   },
   "outputs": [],
   "source": [
    "pd.set_option('max_colwidth',500)"
   ]
  },
  {
   "cell_type": "markdown",
   "metadata": {},
   "source": [
    "# Load data"
   ]
  },
  {
   "cell_type": "code",
   "execution_count": 108,
   "metadata": {
    "ExecuteTime": {
     "end_time": "2016-11-09T13:43:15.765882",
     "start_time": "2016-11-09T13:43:15.257601"
    },
    "collapsed": false
   },
   "outputs": [],
   "source": [
    "df = pd.read_csv(\"https://raw.githubusercontent.com/socathie/paperplane/master/data/most_backed.csv\").iloc[:,1:]"
   ]
  },
  {
   "cell_type": "markdown",
   "metadata": {},
   "source": [
    "# Exploratory data analysis"
   ]
  },
  {
   "cell_type": "markdown",
   "metadata": {},
   "source": [
    "## What does the data look like"
   ]
  },
  {
   "cell_type": "code",
   "execution_count": 109,
   "metadata": {
    "ExecuteTime": {
     "end_time": "2016-11-09T13:43:16.821202",
     "start_time": "2016-11-09T13:43:16.755961"
    },
    "collapsed": false
   },
   "outputs": [
    {
     "data": {
      "text/html": [
       "<div>\n",
       "<table border=\"1\" class=\"dataframe\">\n",
       "  <thead>\n",
       "    <tr style=\"text-align: right;\">\n",
       "      <th></th>\n",
       "      <th>amt.pledged</th>\n",
       "      <th>blurb</th>\n",
       "      <th>category</th>\n",
       "      <th>currency</th>\n",
       "      <th>goal</th>\n",
       "      <th>location</th>\n",
       "      <th>num.backers</th>\n",
       "      <th>num.backers.tier</th>\n",
       "      <th>pledge.tier</th>\n",
       "      <th>title</th>\n",
       "      <th>url</th>\n",
       "    </tr>\n",
       "  </thead>\n",
       "  <tbody>\n",
       "    <tr>\n",
       "      <th>0</th>\n",
       "      <td>8782571.0</td>\n",
       "      <td>\\nThis is a card game for people who are into kittens and explosions and laser beams and sometimes goats.\\n</td>\n",
       "      <td>Tabletop Games</td>\n",
       "      <td>usd</td>\n",
       "      <td>10000.0</td>\n",
       "      <td>Los Angeles, CA</td>\n",
       "      <td>219382</td>\n",
       "      <td>[15505, 202934, 200, 5]</td>\n",
       "      <td>[20.0, 35.0, 100.0, 500.0]</td>\n",
       "      <td>Exploding Kittens</td>\n",
       "      <td>/projects/elanlee/exploding-kittens</td>\n",
       "    </tr>\n",
       "    <tr>\n",
       "      <th>1</th>\n",
       "      <td>6465690.0</td>\n",
       "      <td>\\nAn unusually addicting, high-quality desk toy designed to help you focus. Fidget at work, in class, and at home in style.\\n</td>\n",
       "      <td>Product Design</td>\n",
       "      <td>usd</td>\n",
       "      <td>15000.0</td>\n",
       "      <td>Denver, CO</td>\n",
       "      <td>154926</td>\n",
       "      <td>[788, 250, 43073, 21796, 41727, 21627, 12215, 7608, 3290, 2189, 82, 85]</td>\n",
       "      <td>[1.0, 14.0, 19.0, 19.0, 35.0, 35.0, 79.0, 79.0, 129.0, 129.0, 849.0, 849.0]</td>\n",
       "      <td>Fidget Cube: A Vinyl Desk Toy</td>\n",
       "      <td>/projects/antsylabs/fidget-cube-a-vinyl-desk-toy</td>\n",
       "    </tr>\n",
       "    <tr>\n",
       "      <th>2</th>\n",
       "      <td>5408916.0</td>\n",
       "      <td>\\nBring Reading Rainbow’s library of interactive books &amp; video field trips to more platforms &amp; provide free access to classrooms in need!\\n</td>\n",
       "      <td>Web</td>\n",
       "      <td>usd</td>\n",
       "      <td>1000000.0</td>\n",
       "      <td>Los Angeles, CA</td>\n",
       "      <td>105857</td>\n",
       "      <td>[19639, 14343, 9136, 2259, 5666, 24512, 4957, 4359, 749, 1248, 500, 339, 282, 417, 1548, 517, 749, 155, 160, 60, 5, 10, 3, 100, 75, 12, 295, 69, 156, 1, 33, 1, 1, 8, 6, 30, 13, 39, 1, 4, 6, 21, 9, 3, 23, 11, 12, 20, 14, 11, 4, 14, 36, 10, 1, 1, 10, 2, 2, 8, 13, 10, 1, 1]</td>\n",
       "      <td>[5.0, 10.0, 25.0, 30.0, 35.0, 50.0, 75.0, 100.0, 110.0, 125.0, 140.0, 145.0, 150.0, 175.0, 200.0, 200.0, 250.0, 250.0, 275.0, 300.0, 300.0, 300.0, 300.0, 350.0, 350.0, 350.0, 375.0, 375.0, 400.0, 400.0, 400.0, 450.0, 500.0, 500.0, 500.0, 600.0, 700.0, 750.0, 750.0, 750.0, 750.0, 750.0, 750.0, 800.0, 800.0, 800.0, 800.0, 800.0, 800.0, 900.0, 1200.0, 1500.0, 1700.0, 2500.0, 2600.0, 3000.0, 3500.0, 3500.0, 3500.0, 3750.0, 5000.0, 10000.0, 10000.0, 10000.0]</td>\n",
       "      <td>Bring Reading Rainbow Back for Every Child, Everywhere!</td>\n",
       "      <td>/projects/readingrainbow/bring-reading-rainbow-back-for-every-child-everywh</td>\n",
       "    </tr>\n",
       "    <tr>\n",
       "      <th>3</th>\n",
       "      <td>5702153.0</td>\n",
       "      <td>\\nUPDATED: This is it. We're making a Veronica Mars movie! Now the only question is: how big can we make it? We need your help!\\n</td>\n",
       "      <td>Narrative Film</td>\n",
       "      <td>usd</td>\n",
       "      <td>2000000.0</td>\n",
       "      <td>San Diego, CA</td>\n",
       "      <td>91585</td>\n",
       "      <td>[5938, 8423, 11509, 22997, 23227, 1865, 7260, 152, 150, 1478, 3048, 100, 891, 91, 100, 135, 40, 100, 50, 150, 150, 50, 100, 100, 100, 20, 30, 10, 4, 3, 3, 1]</td>\n",
       "      <td>[1.0, 10.0, 25.0, 35.0, 50.0, 75.0, 100.0, 150.0, 150.0, 175.0, 200.0, 250.0, 275.0, 350.0, 400.0, 400.0, 450.0, 500.0, 600.0, 750.0, 750.0, 750.0, 1000.0, 1000.0, 1000.0, 2500.0, 3000.0, 3500.0, 5000.0, 6500.0, 8000.0, 10000.0]</td>\n",
       "      <td>The Veronica Mars Movie Project</td>\n",
       "      <td>/projects/559914737/the-veronica-mars-movie-project</td>\n",
       "    </tr>\n",
       "    <tr>\n",
       "      <th>4</th>\n",
       "      <td>3336371.0</td>\n",
       "      <td>\\nAn adventure game from Tim Schafer, Double Fine, and YOU!\\n</td>\n",
       "      <td>Video Games</td>\n",
       "      <td>usd</td>\n",
       "      <td>400000.0</td>\n",
       "      <td>San Francisco, CA</td>\n",
       "      <td>87142</td>\n",
       "      <td>[47946, 24636, 1090, 11530, 900, 148, 100, 10, 4]</td>\n",
       "      <td>[15.0, 30.0, 60.0, 100.0, 250.0, 500.0, 1000.0, 5000.0, 10000.0]</td>\n",
       "      <td>Double Fine Adventure</td>\n",
       "      <td>/projects/doublefine/double-fine-adventure</td>\n",
       "    </tr>\n",
       "  </tbody>\n",
       "</table>\n",
       "</div>"
      ],
      "text/plain": [
       "   amt.pledged  \\\n",
       "0    8782571.0   \n",
       "1    6465690.0   \n",
       "2    5408916.0   \n",
       "3    5702153.0   \n",
       "4    3336371.0   \n",
       "\n",
       "                                                                                                                                         blurb  \\\n",
       "0                                  \\nThis is a card game for people who are into kittens and explosions and laser beams and sometimes goats.\\n   \n",
       "1                \\nAn unusually addicting, high-quality desk toy designed to help you focus. Fidget at work, in class, and at home in style.\\n   \n",
       "2  \\nBring Reading Rainbow’s library of interactive books & video field trips to more platforms & provide free access to classrooms in need!\\n   \n",
       "3            \\nUPDATED: This is it. We're making a Veronica Mars movie! Now the only question is: how big can we make it? We need your help!\\n   \n",
       "4                                                                                \\nAn adventure game from Tim Schafer, Double Fine, and YOU!\\n   \n",
       "\n",
       "         category currency       goal           location  num.backers  \\\n",
       "0  Tabletop Games      usd    10000.0    Los Angeles, CA       219382   \n",
       "1  Product Design      usd    15000.0         Denver, CO       154926   \n",
       "2             Web      usd  1000000.0    Los Angeles, CA       105857   \n",
       "3  Narrative Film      usd  2000000.0      San Diego, CA        91585   \n",
       "4     Video Games      usd   400000.0  San Francisco, CA        87142   \n",
       "\n",
       "                                                                                                                                                                                                                                                                  num.backers.tier  \\\n",
       "0                                                                                                                                                                                                                                                          [15505, 202934, 200, 5]   \n",
       "1                                                                                                                                                                                                          [788, 250, 43073, 21796, 41727, 21627, 12215, 7608, 3290, 2189, 82, 85]   \n",
       "2  [19639, 14343, 9136, 2259, 5666, 24512, 4957, 4359, 749, 1248, 500, 339, 282, 417, 1548, 517, 749, 155, 160, 60, 5, 10, 3, 100, 75, 12, 295, 69, 156, 1, 33, 1, 1, 8, 6, 30, 13, 39, 1, 4, 6, 21, 9, 3, 23, 11, 12, 20, 14, 11, 4, 14, 36, 10, 1, 1, 10, 2, 2, 8, 13, 10, 1, 1]   \n",
       "3                                                                                                                    [5938, 8423, 11509, 22997, 23227, 1865, 7260, 152, 150, 1478, 3048, 100, 891, 91, 100, 135, 40, 100, 50, 150, 150, 50, 100, 100, 100, 20, 30, 10, 4, 3, 3, 1]   \n",
       "4                                                                                                                                                                                                                                [47946, 24636, 1090, 11530, 900, 148, 100, 10, 4]   \n",
       "\n",
       "                                                                                                                                                                                                                                                                                                                                                                                                                                                                 pledge.tier  \\\n",
       "0                                                                                                                                                                                                                                                                                                                                                                                                                                                 [20.0, 35.0, 100.0, 500.0]   \n",
       "1                                                                                                                                                                                                                                                                                                                                                                                                [1.0, 14.0, 19.0, 19.0, 35.0, 35.0, 79.0, 79.0, 129.0, 129.0, 849.0, 849.0]   \n",
       "2  [5.0, 10.0, 25.0, 30.0, 35.0, 50.0, 75.0, 100.0, 110.0, 125.0, 140.0, 145.0, 150.0, 175.0, 200.0, 200.0, 250.0, 250.0, 275.0, 300.0, 300.0, 300.0, 300.0, 350.0, 350.0, 350.0, 375.0, 375.0, 400.0, 400.0, 400.0, 450.0, 500.0, 500.0, 500.0, 600.0, 700.0, 750.0, 750.0, 750.0, 750.0, 750.0, 750.0, 800.0, 800.0, 800.0, 800.0, 800.0, 800.0, 900.0, 1200.0, 1500.0, 1700.0, 2500.0, 2600.0, 3000.0, 3500.0, 3500.0, 3500.0, 3750.0, 5000.0, 10000.0, 10000.0, 10000.0]   \n",
       "3                                                                                                                                                                                                                                       [1.0, 10.0, 25.0, 35.0, 50.0, 75.0, 100.0, 150.0, 150.0, 175.0, 200.0, 250.0, 275.0, 350.0, 400.0, 400.0, 450.0, 500.0, 600.0, 750.0, 750.0, 750.0, 1000.0, 1000.0, 1000.0, 2500.0, 3000.0, 3500.0, 5000.0, 6500.0, 8000.0, 10000.0]   \n",
       "4                                                                                                                                                                                                                                                                                                                                                                                                           [15.0, 30.0, 60.0, 100.0, 250.0, 500.0, 1000.0, 5000.0, 10000.0]   \n",
       "\n",
       "                                                     title  \\\n",
       "0                                        Exploding Kittens   \n",
       "1                            Fidget Cube: A Vinyl Desk Toy   \n",
       "2  Bring Reading Rainbow Back for Every Child, Everywhere!   \n",
       "3                          The Veronica Mars Movie Project   \n",
       "4                                    Double Fine Adventure   \n",
       "\n",
       "                                                                           url  \n",
       "0                                          /projects/elanlee/exploding-kittens  \n",
       "1                             /projects/antsylabs/fidget-cube-a-vinyl-desk-toy  \n",
       "2  /projects/readingrainbow/bring-reading-rainbow-back-for-every-child-everywh  \n",
       "3                          /projects/559914737/the-veronica-mars-movie-project  \n",
       "4                                   /projects/doublefine/double-fine-adventure  "
      ]
     },
     "execution_count": 109,
     "metadata": {},
     "output_type": "execute_result"
    }
   ],
   "source": [
    "df.head()"
   ]
  },
  {
   "cell_type": "code",
   "execution_count": 15,
   "metadata": {
    "ExecuteTime": {
     "end_time": "2016-11-09T11:56:23.084905",
     "start_time": "2016-11-09T11:56:23.020329"
    },
    "collapsed": false
   },
   "outputs": [
    {
     "name": "stdout",
     "output_type": "stream",
     "text": [
      "<class 'pandas.core.frame.DataFrame'>\n",
      "RangeIndex: 4000 entries, 0 to 3999\n",
      "Data columns (total 11 columns):\n",
      "amt.pledged         4000 non-null float64\n",
      "blurb               4000 non-null object\n",
      "category            4000 non-null object\n",
      "currency            4000 non-null object\n",
      "goal                4000 non-null float64\n",
      "location            4000 non-null object\n",
      "num.backers         4000 non-null int64\n",
      "num.backers.tier    4000 non-null object\n",
      "pledge.tier         4000 non-null object\n",
      "title               4000 non-null object\n",
      "url                 4000 non-null object\n",
      "dtypes: float64(2), int64(1), object(8)\n",
      "memory usage: 343.8+ KB\n"
     ]
    }
   ],
   "source": [
    "df.info()"
   ]
  },
  {
   "cell_type": "code",
   "execution_count": 16,
   "metadata": {
    "ExecuteTime": {
     "end_time": "2016-11-09T11:57:03.397967",
     "start_time": "2016-11-09T11:57:03.298813"
    },
    "collapsed": false
   },
   "outputs": [
    {
     "data": {
      "text/html": [
       "<div>\n",
       "<table border=\"1\" class=\"dataframe\">\n",
       "  <thead>\n",
       "    <tr style=\"text-align: right;\">\n",
       "      <th></th>\n",
       "      <th>amt.pledged</th>\n",
       "      <th>goal</th>\n",
       "      <th>num.backers</th>\n",
       "    </tr>\n",
       "  </thead>\n",
       "  <tbody>\n",
       "    <tr>\n",
       "      <th>count</th>\n",
       "      <td>4.000000e+03</td>\n",
       "      <td>4.000000e+03</td>\n",
       "      <td>4000.000000</td>\n",
       "    </tr>\n",
       "    <tr>\n",
       "      <th>mean</th>\n",
       "      <td>2.898410e+05</td>\n",
       "      <td>6.171059e+04</td>\n",
       "      <td>3582.659750</td>\n",
       "    </tr>\n",
       "    <tr>\n",
       "      <th>std</th>\n",
       "      <td>7.119734e+05</td>\n",
       "      <td>1.266611e+05</td>\n",
       "      <td>7316.163105</td>\n",
       "    </tr>\n",
       "    <tr>\n",
       "      <th>min</th>\n",
       "      <td>1.925000e+03</td>\n",
       "      <td>1.000000e+00</td>\n",
       "      <td>1109.000000</td>\n",
       "    </tr>\n",
       "    <tr>\n",
       "      <th>25%</th>\n",
       "      <td>6.755950e+04</td>\n",
       "      <td>1.300000e+04</td>\n",
       "      <td>1406.000000</td>\n",
       "    </tr>\n",
       "    <tr>\n",
       "      <th>50%</th>\n",
       "      <td>1.203770e+05</td>\n",
       "      <td>3.000000e+04</td>\n",
       "      <td>1946.000000</td>\n",
       "    </tr>\n",
       "    <tr>\n",
       "      <th>75%</th>\n",
       "      <td>2.591978e+05</td>\n",
       "      <td>6.000000e+04</td>\n",
       "      <td>3372.000000</td>\n",
       "    </tr>\n",
       "    <tr>\n",
       "      <th>max</th>\n",
       "      <td>2.033899e+07</td>\n",
       "      <td>2.000000e+06</td>\n",
       "      <td>219382.000000</td>\n",
       "    </tr>\n",
       "  </tbody>\n",
       "</table>\n",
       "</div>"
      ],
      "text/plain": [
       "        amt.pledged          goal    num.backers\n",
       "count  4.000000e+03  4.000000e+03    4000.000000\n",
       "mean   2.898410e+05  6.171059e+04    3582.659750\n",
       "std    7.119734e+05  1.266611e+05    7316.163105\n",
       "min    1.925000e+03  1.000000e+00    1109.000000\n",
       "25%    6.755950e+04  1.300000e+04    1406.000000\n",
       "50%    1.203770e+05  3.000000e+04    1946.000000\n",
       "75%    2.591978e+05  6.000000e+04    3372.000000\n",
       "max    2.033899e+07  2.000000e+06  219382.000000"
      ]
     },
     "execution_count": 16,
     "metadata": {},
     "output_type": "execute_result"
    }
   ],
   "source": [
    "df.describe()"
   ]
  },
  {
   "cell_type": "code",
   "execution_count": 17,
   "metadata": {
    "ExecuteTime": {
     "end_time": "2016-11-09T11:58:47.138029",
     "start_time": "2016-11-09T11:58:47.047802"
    },
    "collapsed": false
   },
   "outputs": [
    {
     "data": {
      "text/html": [
       "<div>\n",
       "<table border=\"1\" class=\"dataframe\">\n",
       "  <thead>\n",
       "    <tr style=\"text-align: right;\">\n",
       "      <th></th>\n",
       "      <th>blurb</th>\n",
       "      <th>category</th>\n",
       "      <th>currency</th>\n",
       "      <th>location</th>\n",
       "      <th>num.backers.tier</th>\n",
       "      <th>pledge.tier</th>\n",
       "      <th>title</th>\n",
       "      <th>url</th>\n",
       "    </tr>\n",
       "  </thead>\n",
       "  <tbody>\n",
       "    <tr>\n",
       "      <th>count</th>\n",
       "      <td>4000</td>\n",
       "      <td>4000</td>\n",
       "      <td>4000</td>\n",
       "      <td>4000</td>\n",
       "      <td>4000</td>\n",
       "      <td>4000</td>\n",
       "      <td>4000</td>\n",
       "      <td>4000</td>\n",
       "    </tr>\n",
       "    <tr>\n",
       "      <th>unique</th>\n",
       "      <td>3980</td>\n",
       "      <td>115</td>\n",
       "      <td>9</td>\n",
       "      <td>808</td>\n",
       "      <td>3998</td>\n",
       "      <td>3978</td>\n",
       "      <td>3995</td>\n",
       "      <td>3998</td>\n",
       "    </tr>\n",
       "    <tr>\n",
       "      <th>top</th>\n",
       "      <td>\\n</td>\n",
       "      <td>Product Design</td>\n",
       "      <td>usd</td>\n",
       "      <td>San Francisco, CA</td>\n",
       "      <td>[83, 669, 413, 60]</td>\n",
       "      <td>[90.0, 100.0]</td>\n",
       "      <td>Werewolf</td>\n",
       "      <td>/projects/1609568567/code-hardcore-the-coolest...</td>\n",
       "    </tr>\n",
       "    <tr>\n",
       "      <th>freq</th>\n",
       "      <td>9</td>\n",
       "      <td>769</td>\n",
       "      <td>3437</td>\n",
       "      <td>280</td>\n",
       "      <td>2</td>\n",
       "      <td>4</td>\n",
       "      <td>2</td>\n",
       "      <td>2</td>\n",
       "    </tr>\n",
       "  </tbody>\n",
       "</table>\n",
       "</div>"
      ],
      "text/plain": [
       "       blurb        category currency           location    num.backers.tier  \\\n",
       "count   4000            4000     4000               4000                4000   \n",
       "unique  3980             115        9                808                3998   \n",
       "top       \\n  Product Design      usd  San Francisco, CA  [83, 669, 413, 60]   \n",
       "freq       9             769     3437                280                   2   \n",
       "\n",
       "          pledge.tier     title  \\\n",
       "count            4000      4000   \n",
       "unique           3978      3995   \n",
       "top     [90.0, 100.0]  Werewolf   \n",
       "freq                4         2   \n",
       "\n",
       "                                                      url  \n",
       "count                                                4000  \n",
       "unique                                               3998  \n",
       "top     /projects/1609568567/code-hardcore-the-coolest...  \n",
       "freq                                                    2  "
      ]
     },
     "execution_count": 17,
     "metadata": {},
     "output_type": "execute_result"
    }
   ],
   "source": [
    "df.describe(include=[\"O\"])"
   ]
  },
  {
   "cell_type": "markdown",
   "metadata": {},
   "source": [
    "# Data mining"
   ]
  },
  {
   "cell_type": "code",
   "execution_count": 191,
   "metadata": {
    "ExecuteTime": {
     "end_time": "2016-11-09T14:44:09.146310",
     "start_time": "2016-11-09T14:44:09.140721"
    },
    "collapsed": true
   },
   "outputs": [],
   "source": [
    "df2 = df.copy()"
   ]
  },
  {
   "cell_type": "markdown",
   "metadata": {},
   "source": [
    "## Getting creator info"
   ]
  },
  {
   "cell_type": "code",
   "execution_count": 192,
   "metadata": {
    "ExecuteTime": {
     "end_time": "2016-11-09T14:44:09.735936",
     "start_time": "2016-11-09T14:44:09.724955"
    },
    "collapsed": true
   },
   "outputs": [],
   "source": [
    "df2[\"creator\"] = df2[\"url\"].map(lambda x: x.split(\"/\")[2])"
   ]
  },
  {
   "cell_type": "code",
   "execution_count": 193,
   "metadata": {
    "ExecuteTime": {
     "end_time": "2016-11-09T14:44:09.887267",
     "start_time": "2016-11-09T14:44:09.815321"
    },
    "collapsed": false
   },
   "outputs": [
    {
     "data": {
      "text/html": [
       "<div>\n",
       "<table border=\"1\" class=\"dataframe\">\n",
       "  <thead>\n",
       "    <tr style=\"text-align: right;\">\n",
       "      <th></th>\n",
       "      <th>amt.pledged</th>\n",
       "      <th>blurb</th>\n",
       "      <th>category</th>\n",
       "      <th>currency</th>\n",
       "      <th>goal</th>\n",
       "      <th>location</th>\n",
       "      <th>num.backers</th>\n",
       "      <th>num.backers.tier</th>\n",
       "      <th>pledge.tier</th>\n",
       "      <th>title</th>\n",
       "      <th>url</th>\n",
       "      <th>creator</th>\n",
       "    </tr>\n",
       "  </thead>\n",
       "  <tbody>\n",
       "    <tr>\n",
       "      <th>0</th>\n",
       "      <td>8782571.0</td>\n",
       "      <td>\\nThis is a card game for people who are into kittens and explosions and laser beams and sometimes goats.\\n</td>\n",
       "      <td>Tabletop Games</td>\n",
       "      <td>usd</td>\n",
       "      <td>10000.0</td>\n",
       "      <td>Los Angeles, CA</td>\n",
       "      <td>219382</td>\n",
       "      <td>[15505, 202934, 200, 5]</td>\n",
       "      <td>[20.0, 35.0, 100.0, 500.0]</td>\n",
       "      <td>Exploding Kittens</td>\n",
       "      <td>/projects/elanlee/exploding-kittens</td>\n",
       "      <td>elanlee</td>\n",
       "    </tr>\n",
       "    <tr>\n",
       "      <th>1</th>\n",
       "      <td>6465690.0</td>\n",
       "      <td>\\nAn unusually addicting, high-quality desk toy designed to help you focus. Fidget at work, in class, and at home in style.\\n</td>\n",
       "      <td>Product Design</td>\n",
       "      <td>usd</td>\n",
       "      <td>15000.0</td>\n",
       "      <td>Denver, CO</td>\n",
       "      <td>154926</td>\n",
       "      <td>[788, 250, 43073, 21796, 41727, 21627, 12215, 7608, 3290, 2189, 82, 85]</td>\n",
       "      <td>[1.0, 14.0, 19.0, 19.0, 35.0, 35.0, 79.0, 79.0, 129.0, 129.0, 849.0, 849.0]</td>\n",
       "      <td>Fidget Cube: A Vinyl Desk Toy</td>\n",
       "      <td>/projects/antsylabs/fidget-cube-a-vinyl-desk-toy</td>\n",
       "      <td>antsylabs</td>\n",
       "    </tr>\n",
       "    <tr>\n",
       "      <th>2</th>\n",
       "      <td>5408916.0</td>\n",
       "      <td>\\nBring Reading Rainbow’s library of interactive books &amp; video field trips to more platforms &amp; provide free access to classrooms in need!\\n</td>\n",
       "      <td>Web</td>\n",
       "      <td>usd</td>\n",
       "      <td>1000000.0</td>\n",
       "      <td>Los Angeles, CA</td>\n",
       "      <td>105857</td>\n",
       "      <td>[19639, 14343, 9136, 2259, 5666, 24512, 4957, 4359, 749, 1248, 500, 339, 282, 417, 1548, 517, 749, 155, 160, 60, 5, 10, 3, 100, 75, 12, 295, 69, 156, 1, 33, 1, 1, 8, 6, 30, 13, 39, 1, 4, 6, 21, 9, 3, 23, 11, 12, 20, 14, 11, 4, 14, 36, 10, 1, 1, 10, 2, 2, 8, 13, 10, 1, 1]</td>\n",
       "      <td>[5.0, 10.0, 25.0, 30.0, 35.0, 50.0, 75.0, 100.0, 110.0, 125.0, 140.0, 145.0, 150.0, 175.0, 200.0, 200.0, 250.0, 250.0, 275.0, 300.0, 300.0, 300.0, 300.0, 350.0, 350.0, 350.0, 375.0, 375.0, 400.0, 400.0, 400.0, 450.0, 500.0, 500.0, 500.0, 600.0, 700.0, 750.0, 750.0, 750.0, 750.0, 750.0, 750.0, 800.0, 800.0, 800.0, 800.0, 800.0, 800.0, 900.0, 1200.0, 1500.0, 1700.0, 2500.0, 2600.0, 3000.0, 3500.0, 3500.0, 3500.0, 3750.0, 5000.0, 10000.0, 10000.0, 10000.0]</td>\n",
       "      <td>Bring Reading Rainbow Back for Every Child, Everywhere!</td>\n",
       "      <td>/projects/readingrainbow/bring-reading-rainbow-back-for-every-child-everywh</td>\n",
       "      <td>readingrainbow</td>\n",
       "    </tr>\n",
       "    <tr>\n",
       "      <th>3</th>\n",
       "      <td>5702153.0</td>\n",
       "      <td>\\nUPDATED: This is it. We're making a Veronica Mars movie! Now the only question is: how big can we make it? We need your help!\\n</td>\n",
       "      <td>Narrative Film</td>\n",
       "      <td>usd</td>\n",
       "      <td>2000000.0</td>\n",
       "      <td>San Diego, CA</td>\n",
       "      <td>91585</td>\n",
       "      <td>[5938, 8423, 11509, 22997, 23227, 1865, 7260, 152, 150, 1478, 3048, 100, 891, 91, 100, 135, 40, 100, 50, 150, 150, 50, 100, 100, 100, 20, 30, 10, 4, 3, 3, 1]</td>\n",
       "      <td>[1.0, 10.0, 25.0, 35.0, 50.0, 75.0, 100.0, 150.0, 150.0, 175.0, 200.0, 250.0, 275.0, 350.0, 400.0, 400.0, 450.0, 500.0, 600.0, 750.0, 750.0, 750.0, 1000.0, 1000.0, 1000.0, 2500.0, 3000.0, 3500.0, 5000.0, 6500.0, 8000.0, 10000.0]</td>\n",
       "      <td>The Veronica Mars Movie Project</td>\n",
       "      <td>/projects/559914737/the-veronica-mars-movie-project</td>\n",
       "      <td>559914737</td>\n",
       "    </tr>\n",
       "    <tr>\n",
       "      <th>4</th>\n",
       "      <td>3336371.0</td>\n",
       "      <td>\\nAn adventure game from Tim Schafer, Double Fine, and YOU!\\n</td>\n",
       "      <td>Video Games</td>\n",
       "      <td>usd</td>\n",
       "      <td>400000.0</td>\n",
       "      <td>San Francisco, CA</td>\n",
       "      <td>87142</td>\n",
       "      <td>[47946, 24636, 1090, 11530, 900, 148, 100, 10, 4]</td>\n",
       "      <td>[15.0, 30.0, 60.0, 100.0, 250.0, 500.0, 1000.0, 5000.0, 10000.0]</td>\n",
       "      <td>Double Fine Adventure</td>\n",
       "      <td>/projects/doublefine/double-fine-adventure</td>\n",
       "      <td>doublefine</td>\n",
       "    </tr>\n",
       "  </tbody>\n",
       "</table>\n",
       "</div>"
      ],
      "text/plain": [
       "   amt.pledged  \\\n",
       "0    8782571.0   \n",
       "1    6465690.0   \n",
       "2    5408916.0   \n",
       "3    5702153.0   \n",
       "4    3336371.0   \n",
       "\n",
       "                                                                                                                                         blurb  \\\n",
       "0                                  \\nThis is a card game for people who are into kittens and explosions and laser beams and sometimes goats.\\n   \n",
       "1                \\nAn unusually addicting, high-quality desk toy designed to help you focus. Fidget at work, in class, and at home in style.\\n   \n",
       "2  \\nBring Reading Rainbow’s library of interactive books & video field trips to more platforms & provide free access to classrooms in need!\\n   \n",
       "3            \\nUPDATED: This is it. We're making a Veronica Mars movie! Now the only question is: how big can we make it? We need your help!\\n   \n",
       "4                                                                                \\nAn adventure game from Tim Schafer, Double Fine, and YOU!\\n   \n",
       "\n",
       "         category currency       goal           location  num.backers  \\\n",
       "0  Tabletop Games      usd    10000.0    Los Angeles, CA       219382   \n",
       "1  Product Design      usd    15000.0         Denver, CO       154926   \n",
       "2             Web      usd  1000000.0    Los Angeles, CA       105857   \n",
       "3  Narrative Film      usd  2000000.0      San Diego, CA        91585   \n",
       "4     Video Games      usd   400000.0  San Francisco, CA        87142   \n",
       "\n",
       "                                                                                                                                                                                                                                                                  num.backers.tier  \\\n",
       "0                                                                                                                                                                                                                                                          [15505, 202934, 200, 5]   \n",
       "1                                                                                                                                                                                                          [788, 250, 43073, 21796, 41727, 21627, 12215, 7608, 3290, 2189, 82, 85]   \n",
       "2  [19639, 14343, 9136, 2259, 5666, 24512, 4957, 4359, 749, 1248, 500, 339, 282, 417, 1548, 517, 749, 155, 160, 60, 5, 10, 3, 100, 75, 12, 295, 69, 156, 1, 33, 1, 1, 8, 6, 30, 13, 39, 1, 4, 6, 21, 9, 3, 23, 11, 12, 20, 14, 11, 4, 14, 36, 10, 1, 1, 10, 2, 2, 8, 13, 10, 1, 1]   \n",
       "3                                                                                                                    [5938, 8423, 11509, 22997, 23227, 1865, 7260, 152, 150, 1478, 3048, 100, 891, 91, 100, 135, 40, 100, 50, 150, 150, 50, 100, 100, 100, 20, 30, 10, 4, 3, 3, 1]   \n",
       "4                                                                                                                                                                                                                                [47946, 24636, 1090, 11530, 900, 148, 100, 10, 4]   \n",
       "\n",
       "                                                                                                                                                                                                                                                                                                                                                                                                                                                                 pledge.tier  \\\n",
       "0                                                                                                                                                                                                                                                                                                                                                                                                                                                 [20.0, 35.0, 100.0, 500.0]   \n",
       "1                                                                                                                                                                                                                                                                                                                                                                                                [1.0, 14.0, 19.0, 19.0, 35.0, 35.0, 79.0, 79.0, 129.0, 129.0, 849.0, 849.0]   \n",
       "2  [5.0, 10.0, 25.0, 30.0, 35.0, 50.0, 75.0, 100.0, 110.0, 125.0, 140.0, 145.0, 150.0, 175.0, 200.0, 200.0, 250.0, 250.0, 275.0, 300.0, 300.0, 300.0, 300.0, 350.0, 350.0, 350.0, 375.0, 375.0, 400.0, 400.0, 400.0, 450.0, 500.0, 500.0, 500.0, 600.0, 700.0, 750.0, 750.0, 750.0, 750.0, 750.0, 750.0, 800.0, 800.0, 800.0, 800.0, 800.0, 800.0, 900.0, 1200.0, 1500.0, 1700.0, 2500.0, 2600.0, 3000.0, 3500.0, 3500.0, 3500.0, 3750.0, 5000.0, 10000.0, 10000.0, 10000.0]   \n",
       "3                                                                                                                                                                                                                                       [1.0, 10.0, 25.0, 35.0, 50.0, 75.0, 100.0, 150.0, 150.0, 175.0, 200.0, 250.0, 275.0, 350.0, 400.0, 400.0, 450.0, 500.0, 600.0, 750.0, 750.0, 750.0, 1000.0, 1000.0, 1000.0, 2500.0, 3000.0, 3500.0, 5000.0, 6500.0, 8000.0, 10000.0]   \n",
       "4                                                                                                                                                                                                                                                                                                                                                                                                           [15.0, 30.0, 60.0, 100.0, 250.0, 500.0, 1000.0, 5000.0, 10000.0]   \n",
       "\n",
       "                                                     title  \\\n",
       "0                                        Exploding Kittens   \n",
       "1                            Fidget Cube: A Vinyl Desk Toy   \n",
       "2  Bring Reading Rainbow Back for Every Child, Everywhere!   \n",
       "3                          The Veronica Mars Movie Project   \n",
       "4                                    Double Fine Adventure   \n",
       "\n",
       "                                                                           url  \\\n",
       "0                                          /projects/elanlee/exploding-kittens   \n",
       "1                             /projects/antsylabs/fidget-cube-a-vinyl-desk-toy   \n",
       "2  /projects/readingrainbow/bring-reading-rainbow-back-for-every-child-everywh   \n",
       "3                          /projects/559914737/the-veronica-mars-movie-project   \n",
       "4                                   /projects/doublefine/double-fine-adventure   \n",
       "\n",
       "          creator  \n",
       "0         elanlee  \n",
       "1       antsylabs  \n",
       "2  readingrainbow  \n",
       "3       559914737  \n",
       "4      doublefine  "
      ]
     },
     "execution_count": 193,
     "metadata": {},
     "output_type": "execute_result"
    }
   ],
   "source": [
    "df2.head()"
   ]
  },
  {
   "cell_type": "markdown",
   "metadata": {},
   "source": [
    "### Some of the creators are just numbers\n",
    "\n",
    "Scrape Kickstarter profile pages to get their names"
   ]
  },
  {
   "cell_type": "raw",
   "metadata": {
    "ExecuteTime": {
     "end_time": "2016-11-09T12:24:44.378079",
     "start_time": "2016-11-09T12:24:44.373980"
    },
    "collapsed": true
   },
   "source": [
    "base = \"https://www.kickstarter.com/profile/{}\""
   ]
  },
  {
   "cell_type": "raw",
   "metadata": {
    "ExecuteTime": {
     "end_time": "2016-11-09T13:25:44.162087",
     "start_time": "2016-11-09T13:25:44.151918"
    }
   },
   "source": [
    "def get_name(x):\n",
    "    r = requests.get(base.format(x))\n",
    "    soup = BeautifulSoup(r.content, \"lxml\")\n",
    "    try:\n",
    "        y = soup.find(\"div\", class_=\"profile_bio\").find(\"h2\").text.strip(\"\\n\")\n",
    "    except:\n",
    "        y = None\n",
    "    if y is not None:\n",
    "        return y\n",
    "    else:\n",
    "        return x"
   ]
  },
  {
   "cell_type": "raw",
   "metadata": {
    "ExecuteTime": {
     "end_time": "2016-11-09T13:03:27.489433",
     "start_time": "2016-11-09T12:36:44.894487"
    }
   },
   "source": [
    "df2[\"creator_names\"] = df2[\"creator\"].map(get_name)"
   ]
  },
  {
   "cell_type": "raw",
   "metadata": {
    "ExecuteTime": {
     "end_time": "2016-11-09T13:30:44.192227",
     "start_time": "2016-11-09T13:25:45.225656"
    }
   },
   "source": [
    "names = [get_name(i) for i in df2[\"creator\"]]"
   ]
  },
  {
   "cell_type": "markdown",
   "metadata": {},
   "source": [
    "## Location"
   ]
  },
  {
   "cell_type": "code",
   "execution_count": 194,
   "metadata": {
    "ExecuteTime": {
     "end_time": "2016-11-09T14:44:10.423707",
     "start_time": "2016-11-09T14:44:10.394565"
    },
    "collapsed": false
   },
   "outputs": [],
   "source": [
    "df2[\"loc1\"] = df2[\"location\"].map(lambda x: x.split(\", \")[0].strip())\n",
    "df2[\"loc2\"] = df2[\"location\"].map(lambda x: x.split(\", \")[1].strip())"
   ]
  },
  {
   "cell_type": "code",
   "execution_count": 195,
   "metadata": {
    "ExecuteTime": {
     "end_time": "2016-11-09T14:44:10.552269",
     "start_time": "2016-11-09T14:44:10.480830"
    },
    "collapsed": false
   },
   "outputs": [
    {
     "data": {
      "text/html": [
       "<div>\n",
       "<table border=\"1\" class=\"dataframe\">\n",
       "  <thead>\n",
       "    <tr style=\"text-align: right;\">\n",
       "      <th></th>\n",
       "      <th>amt.pledged</th>\n",
       "      <th>blurb</th>\n",
       "      <th>category</th>\n",
       "      <th>currency</th>\n",
       "      <th>goal</th>\n",
       "      <th>location</th>\n",
       "      <th>num.backers</th>\n",
       "      <th>num.backers.tier</th>\n",
       "      <th>pledge.tier</th>\n",
       "      <th>title</th>\n",
       "      <th>url</th>\n",
       "      <th>creator</th>\n",
       "      <th>loc1</th>\n",
       "      <th>loc2</th>\n",
       "    </tr>\n",
       "  </thead>\n",
       "  <tbody>\n",
       "    <tr>\n",
       "      <th>0</th>\n",
       "      <td>8782571.0</td>\n",
       "      <td>\\nThis is a card game for people who are into kittens and explosions and laser beams and sometimes goats.\\n</td>\n",
       "      <td>Tabletop Games</td>\n",
       "      <td>usd</td>\n",
       "      <td>10000.0</td>\n",
       "      <td>Los Angeles, CA</td>\n",
       "      <td>219382</td>\n",
       "      <td>[15505, 202934, 200, 5]</td>\n",
       "      <td>[20.0, 35.0, 100.0, 500.0]</td>\n",
       "      <td>Exploding Kittens</td>\n",
       "      <td>/projects/elanlee/exploding-kittens</td>\n",
       "      <td>elanlee</td>\n",
       "      <td>Los Angeles</td>\n",
       "      <td>CA</td>\n",
       "    </tr>\n",
       "    <tr>\n",
       "      <th>1</th>\n",
       "      <td>6465690.0</td>\n",
       "      <td>\\nAn unusually addicting, high-quality desk toy designed to help you focus. Fidget at work, in class, and at home in style.\\n</td>\n",
       "      <td>Product Design</td>\n",
       "      <td>usd</td>\n",
       "      <td>15000.0</td>\n",
       "      <td>Denver, CO</td>\n",
       "      <td>154926</td>\n",
       "      <td>[788, 250, 43073, 21796, 41727, 21627, 12215, 7608, 3290, 2189, 82, 85]</td>\n",
       "      <td>[1.0, 14.0, 19.0, 19.0, 35.0, 35.0, 79.0, 79.0, 129.0, 129.0, 849.0, 849.0]</td>\n",
       "      <td>Fidget Cube: A Vinyl Desk Toy</td>\n",
       "      <td>/projects/antsylabs/fidget-cube-a-vinyl-desk-toy</td>\n",
       "      <td>antsylabs</td>\n",
       "      <td>Denver</td>\n",
       "      <td>CO</td>\n",
       "    </tr>\n",
       "    <tr>\n",
       "      <th>2</th>\n",
       "      <td>5408916.0</td>\n",
       "      <td>\\nBring Reading Rainbow’s library of interactive books &amp; video field trips to more platforms &amp; provide free access to classrooms in need!\\n</td>\n",
       "      <td>Web</td>\n",
       "      <td>usd</td>\n",
       "      <td>1000000.0</td>\n",
       "      <td>Los Angeles, CA</td>\n",
       "      <td>105857</td>\n",
       "      <td>[19639, 14343, 9136, 2259, 5666, 24512, 4957, 4359, 749, 1248, 500, 339, 282, 417, 1548, 517, 749, 155, 160, 60, 5, 10, 3, 100, 75, 12, 295, 69, 156, 1, 33, 1, 1, 8, 6, 30, 13, 39, 1, 4, 6, 21, 9, 3, 23, 11, 12, 20, 14, 11, 4, 14, 36, 10, 1, 1, 10, 2, 2, 8, 13, 10, 1, 1]</td>\n",
       "      <td>[5.0, 10.0, 25.0, 30.0, 35.0, 50.0, 75.0, 100.0, 110.0, 125.0, 140.0, 145.0, 150.0, 175.0, 200.0, 200.0, 250.0, 250.0, 275.0, 300.0, 300.0, 300.0, 300.0, 350.0, 350.0, 350.0, 375.0, 375.0, 400.0, 400.0, 400.0, 450.0, 500.0, 500.0, 500.0, 600.0, 700.0, 750.0, 750.0, 750.0, 750.0, 750.0, 750.0, 800.0, 800.0, 800.0, 800.0, 800.0, 800.0, 900.0, 1200.0, 1500.0, 1700.0, 2500.0, 2600.0, 3000.0, 3500.0, 3500.0, 3500.0, 3750.0, 5000.0, 10000.0, 10000.0, 10000.0]</td>\n",
       "      <td>Bring Reading Rainbow Back for Every Child, Everywhere!</td>\n",
       "      <td>/projects/readingrainbow/bring-reading-rainbow-back-for-every-child-everywh</td>\n",
       "      <td>readingrainbow</td>\n",
       "      <td>Los Angeles</td>\n",
       "      <td>CA</td>\n",
       "    </tr>\n",
       "    <tr>\n",
       "      <th>3</th>\n",
       "      <td>5702153.0</td>\n",
       "      <td>\\nUPDATED: This is it. We're making a Veronica Mars movie! Now the only question is: how big can we make it? We need your help!\\n</td>\n",
       "      <td>Narrative Film</td>\n",
       "      <td>usd</td>\n",
       "      <td>2000000.0</td>\n",
       "      <td>San Diego, CA</td>\n",
       "      <td>91585</td>\n",
       "      <td>[5938, 8423, 11509, 22997, 23227, 1865, 7260, 152, 150, 1478, 3048, 100, 891, 91, 100, 135, 40, 100, 50, 150, 150, 50, 100, 100, 100, 20, 30, 10, 4, 3, 3, 1]</td>\n",
       "      <td>[1.0, 10.0, 25.0, 35.0, 50.0, 75.0, 100.0, 150.0, 150.0, 175.0, 200.0, 250.0, 275.0, 350.0, 400.0, 400.0, 450.0, 500.0, 600.0, 750.0, 750.0, 750.0, 1000.0, 1000.0, 1000.0, 2500.0, 3000.0, 3500.0, 5000.0, 6500.0, 8000.0, 10000.0]</td>\n",
       "      <td>The Veronica Mars Movie Project</td>\n",
       "      <td>/projects/559914737/the-veronica-mars-movie-project</td>\n",
       "      <td>559914737</td>\n",
       "      <td>San Diego</td>\n",
       "      <td>CA</td>\n",
       "    </tr>\n",
       "    <tr>\n",
       "      <th>4</th>\n",
       "      <td>3336371.0</td>\n",
       "      <td>\\nAn adventure game from Tim Schafer, Double Fine, and YOU!\\n</td>\n",
       "      <td>Video Games</td>\n",
       "      <td>usd</td>\n",
       "      <td>400000.0</td>\n",
       "      <td>San Francisco, CA</td>\n",
       "      <td>87142</td>\n",
       "      <td>[47946, 24636, 1090, 11530, 900, 148, 100, 10, 4]</td>\n",
       "      <td>[15.0, 30.0, 60.0, 100.0, 250.0, 500.0, 1000.0, 5000.0, 10000.0]</td>\n",
       "      <td>Double Fine Adventure</td>\n",
       "      <td>/projects/doublefine/double-fine-adventure</td>\n",
       "      <td>doublefine</td>\n",
       "      <td>San Francisco</td>\n",
       "      <td>CA</td>\n",
       "    </tr>\n",
       "  </tbody>\n",
       "</table>\n",
       "</div>"
      ],
      "text/plain": [
       "   amt.pledged  \\\n",
       "0    8782571.0   \n",
       "1    6465690.0   \n",
       "2    5408916.0   \n",
       "3    5702153.0   \n",
       "4    3336371.0   \n",
       "\n",
       "                                                                                                                                         blurb  \\\n",
       "0                                  \\nThis is a card game for people who are into kittens and explosions and laser beams and sometimes goats.\\n   \n",
       "1                \\nAn unusually addicting, high-quality desk toy designed to help you focus. Fidget at work, in class, and at home in style.\\n   \n",
       "2  \\nBring Reading Rainbow’s library of interactive books & video field trips to more platforms & provide free access to classrooms in need!\\n   \n",
       "3            \\nUPDATED: This is it. We're making a Veronica Mars movie! Now the only question is: how big can we make it? We need your help!\\n   \n",
       "4                                                                                \\nAn adventure game from Tim Schafer, Double Fine, and YOU!\\n   \n",
       "\n",
       "         category currency       goal           location  num.backers  \\\n",
       "0  Tabletop Games      usd    10000.0    Los Angeles, CA       219382   \n",
       "1  Product Design      usd    15000.0         Denver, CO       154926   \n",
       "2             Web      usd  1000000.0    Los Angeles, CA       105857   \n",
       "3  Narrative Film      usd  2000000.0      San Diego, CA        91585   \n",
       "4     Video Games      usd   400000.0  San Francisco, CA        87142   \n",
       "\n",
       "                                                                                                                                                                                                                                                                  num.backers.tier  \\\n",
       "0                                                                                                                                                                                                                                                          [15505, 202934, 200, 5]   \n",
       "1                                                                                                                                                                                                          [788, 250, 43073, 21796, 41727, 21627, 12215, 7608, 3290, 2189, 82, 85]   \n",
       "2  [19639, 14343, 9136, 2259, 5666, 24512, 4957, 4359, 749, 1248, 500, 339, 282, 417, 1548, 517, 749, 155, 160, 60, 5, 10, 3, 100, 75, 12, 295, 69, 156, 1, 33, 1, 1, 8, 6, 30, 13, 39, 1, 4, 6, 21, 9, 3, 23, 11, 12, 20, 14, 11, 4, 14, 36, 10, 1, 1, 10, 2, 2, 8, 13, 10, 1, 1]   \n",
       "3                                                                                                                    [5938, 8423, 11509, 22997, 23227, 1865, 7260, 152, 150, 1478, 3048, 100, 891, 91, 100, 135, 40, 100, 50, 150, 150, 50, 100, 100, 100, 20, 30, 10, 4, 3, 3, 1]   \n",
       "4                                                                                                                                                                                                                                [47946, 24636, 1090, 11530, 900, 148, 100, 10, 4]   \n",
       "\n",
       "                                                                                                                                                                                                                                                                                                                                                                                                                                                                 pledge.tier  \\\n",
       "0                                                                                                                                                                                                                                                                                                                                                                                                                                                 [20.0, 35.0, 100.0, 500.0]   \n",
       "1                                                                                                                                                                                                                                                                                                                                                                                                [1.0, 14.0, 19.0, 19.0, 35.0, 35.0, 79.0, 79.0, 129.0, 129.0, 849.0, 849.0]   \n",
       "2  [5.0, 10.0, 25.0, 30.0, 35.0, 50.0, 75.0, 100.0, 110.0, 125.0, 140.0, 145.0, 150.0, 175.0, 200.0, 200.0, 250.0, 250.0, 275.0, 300.0, 300.0, 300.0, 300.0, 350.0, 350.0, 350.0, 375.0, 375.0, 400.0, 400.0, 400.0, 450.0, 500.0, 500.0, 500.0, 600.0, 700.0, 750.0, 750.0, 750.0, 750.0, 750.0, 750.0, 800.0, 800.0, 800.0, 800.0, 800.0, 800.0, 900.0, 1200.0, 1500.0, 1700.0, 2500.0, 2600.0, 3000.0, 3500.0, 3500.0, 3500.0, 3750.0, 5000.0, 10000.0, 10000.0, 10000.0]   \n",
       "3                                                                                                                                                                                                                                       [1.0, 10.0, 25.0, 35.0, 50.0, 75.0, 100.0, 150.0, 150.0, 175.0, 200.0, 250.0, 275.0, 350.0, 400.0, 400.0, 450.0, 500.0, 600.0, 750.0, 750.0, 750.0, 1000.0, 1000.0, 1000.0, 2500.0, 3000.0, 3500.0, 5000.0, 6500.0, 8000.0, 10000.0]   \n",
       "4                                                                                                                                                                                                                                                                                                                                                                                                           [15.0, 30.0, 60.0, 100.0, 250.0, 500.0, 1000.0, 5000.0, 10000.0]   \n",
       "\n",
       "                                                     title  \\\n",
       "0                                        Exploding Kittens   \n",
       "1                            Fidget Cube: A Vinyl Desk Toy   \n",
       "2  Bring Reading Rainbow Back for Every Child, Everywhere!   \n",
       "3                          The Veronica Mars Movie Project   \n",
       "4                                    Double Fine Adventure   \n",
       "\n",
       "                                                                           url  \\\n",
       "0                                          /projects/elanlee/exploding-kittens   \n",
       "1                             /projects/antsylabs/fidget-cube-a-vinyl-desk-toy   \n",
       "2  /projects/readingrainbow/bring-reading-rainbow-back-for-every-child-everywh   \n",
       "3                          /projects/559914737/the-veronica-mars-movie-project   \n",
       "4                                   /projects/doublefine/double-fine-adventure   \n",
       "\n",
       "          creator           loc1 loc2  \n",
       "0         elanlee    Los Angeles   CA  \n",
       "1       antsylabs         Denver   CO  \n",
       "2  readingrainbow    Los Angeles   CA  \n",
       "3       559914737      San Diego   CA  \n",
       "4      doublefine  San Francisco   CA  "
      ]
     },
     "execution_count": 195,
     "metadata": {},
     "output_type": "execute_result"
    }
   ],
   "source": [
    "df2.head()"
   ]
  },
  {
   "cell_type": "code",
   "execution_count": 196,
   "metadata": {
    "ExecuteTime": {
     "end_time": "2016-11-09T14:44:10.602707",
     "start_time": "2016-11-09T14:44:10.592828"
    },
    "collapsed": false
   },
   "outputs": [],
   "source": [
    "df2[\"is_state\"] = df2.loc2.map(lambda x: 1 if len(x) == 2 else 0)"
   ]
  },
  {
   "cell_type": "code",
   "execution_count": 197,
   "metadata": {
    "ExecuteTime": {
     "end_time": "2016-11-09T14:44:10.663574",
     "start_time": "2016-11-09T14:44:10.653976"
    },
    "collapsed": false
   },
   "outputs": [
    {
     "data": {
      "text/plain": [
       "array(['Canada', 'Japan', 'Czech Republic', 'China', 'Norway', 'Belgium',\n",
       "       'Sweden', 'Germany', 'France', 'Manhattan', 'Poland', 'Slovenia',\n",
       "       'India', 'Denmark', 'Spain', 'Luxembourg', 'Taiwan', 'Los Angeles',\n",
       "       'Netherlands', 'Mexico', 'Queens', 'Russia', 'Thailand', 'Israel',\n",
       "       'Italy', 'Austria', 'South Korea', 'Bulgaria', 'South Africa',\n",
       "       'Afghanistan', 'Hong Kong', 'Brazil', 'Switzerland', 'Ukraine',\n",
       "       'Chile', 'Argentina', 'United Arab Emirates', 'Finland', 'Belarus',\n",
       "       'Turkey', 'Romania', 'Brooklyn', 'Malta', 'Greece', 'Iceland',\n",
       "       'Slovakia', 'Singapore', 'Nashville', 'Macedonia', 'Philadelphia',\n",
       "       'San Diego', 'Costa Rica', 'Bakersfield', 'Portland', 'Miami',\n",
       "       'Philippines', 'Croatia', 'Egypt', 'Ireland', 'Thousand Oaks',\n",
       "       'Virgin Islands', 'Crested Butte', 'Puerto Rico', 'Indonesia',\n",
       "       'Cameroon', 'Framingham', 'Hungary', 'Colombia', 'Maplewood',\n",
       "       'Latvia', 'Kenya'], dtype=object)"
      ]
     },
     "execution_count": 197,
     "metadata": {},
     "output_type": "execute_result"
    }
   ],
   "source": [
    "df2[\"loc2\"][df2[\"is_state\"] == 0].unique()"
   ]
  },
  {
   "cell_type": "code",
   "execution_count": 198,
   "metadata": {
    "ExecuteTime": {
     "end_time": "2016-11-09T14:44:10.736724",
     "start_time": "2016-11-09T14:44:10.730788"
    },
    "collapsed": true
   },
   "outputs": [],
   "source": [
    "in_USA = [\"Manhattan\", \"Brooklyn\", \"Nashville\", \"Philadelphia\", \"San Diego\", \"Portland\", \n",
    "          \"Miami\", \"Thousand Oaks\", \"Virgin Islands\", \"Crested Butte\", \"Framingham\", \"Maplewood\"]"
   ]
  },
  {
   "cell_type": "code",
   "execution_count": 199,
   "metadata": {
    "ExecuteTime": {
     "end_time": "2016-11-09T14:44:11.629759",
     "start_time": "2016-11-09T14:44:11.618944"
    },
    "collapsed": true
   },
   "outputs": [],
   "source": [
    "df2[\"loc_USA\"] = df2[\"loc2\"].map(lambda x: 1 if len(x) == 2 or x in in_USA else 0)"
   ]
  },
  {
   "cell_type": "code",
   "execution_count": 200,
   "metadata": {
    "ExecuteTime": {
     "end_time": "2016-11-09T14:44:12.291276",
     "start_time": "2016-11-09T14:44:12.205294"
    },
    "collapsed": false
   },
   "outputs": [
    {
     "data": {
      "text/html": [
       "<div>\n",
       "<table border=\"1\" class=\"dataframe\">\n",
       "  <thead>\n",
       "    <tr style=\"text-align: right;\">\n",
       "      <th></th>\n",
       "      <th>amt.pledged</th>\n",
       "      <th>blurb</th>\n",
       "      <th>category</th>\n",
       "      <th>currency</th>\n",
       "      <th>goal</th>\n",
       "      <th>location</th>\n",
       "      <th>num.backers</th>\n",
       "      <th>num.backers.tier</th>\n",
       "      <th>pledge.tier</th>\n",
       "      <th>title</th>\n",
       "      <th>url</th>\n",
       "      <th>creator</th>\n",
       "      <th>loc1</th>\n",
       "      <th>loc2</th>\n",
       "      <th>is_state</th>\n",
       "      <th>loc_USA</th>\n",
       "    </tr>\n",
       "  </thead>\n",
       "  <tbody>\n",
       "    <tr>\n",
       "      <th>0</th>\n",
       "      <td>8782571.0</td>\n",
       "      <td>\\nThis is a card game for people who are into kittens and explosions and laser beams and sometimes goats.\\n</td>\n",
       "      <td>Tabletop Games</td>\n",
       "      <td>usd</td>\n",
       "      <td>10000.0</td>\n",
       "      <td>Los Angeles, CA</td>\n",
       "      <td>219382</td>\n",
       "      <td>[15505, 202934, 200, 5]</td>\n",
       "      <td>[20.0, 35.0, 100.0, 500.0]</td>\n",
       "      <td>Exploding Kittens</td>\n",
       "      <td>/projects/elanlee/exploding-kittens</td>\n",
       "      <td>elanlee</td>\n",
       "      <td>Los Angeles</td>\n",
       "      <td>CA</td>\n",
       "      <td>1</td>\n",
       "      <td>1</td>\n",
       "    </tr>\n",
       "    <tr>\n",
       "      <th>1</th>\n",
       "      <td>6465690.0</td>\n",
       "      <td>\\nAn unusually addicting, high-quality desk toy designed to help you focus. Fidget at work, in class, and at home in style.\\n</td>\n",
       "      <td>Product Design</td>\n",
       "      <td>usd</td>\n",
       "      <td>15000.0</td>\n",
       "      <td>Denver, CO</td>\n",
       "      <td>154926</td>\n",
       "      <td>[788, 250, 43073, 21796, 41727, 21627, 12215, 7608, 3290, 2189, 82, 85]</td>\n",
       "      <td>[1.0, 14.0, 19.0, 19.0, 35.0, 35.0, 79.0, 79.0, 129.0, 129.0, 849.0, 849.0]</td>\n",
       "      <td>Fidget Cube: A Vinyl Desk Toy</td>\n",
       "      <td>/projects/antsylabs/fidget-cube-a-vinyl-desk-toy</td>\n",
       "      <td>antsylabs</td>\n",
       "      <td>Denver</td>\n",
       "      <td>CO</td>\n",
       "      <td>1</td>\n",
       "      <td>1</td>\n",
       "    </tr>\n",
       "    <tr>\n",
       "      <th>2</th>\n",
       "      <td>5408916.0</td>\n",
       "      <td>\\nBring Reading Rainbow’s library of interactive books &amp; video field trips to more platforms &amp; provide free access to classrooms in need!\\n</td>\n",
       "      <td>Web</td>\n",
       "      <td>usd</td>\n",
       "      <td>1000000.0</td>\n",
       "      <td>Los Angeles, CA</td>\n",
       "      <td>105857</td>\n",
       "      <td>[19639, 14343, 9136, 2259, 5666, 24512, 4957, 4359, 749, 1248, 500, 339, 282, 417, 1548, 517, 749, 155, 160, 60, 5, 10, 3, 100, 75, 12, 295, 69, 156, 1, 33, 1, 1, 8, 6, 30, 13, 39, 1, 4, 6, 21, 9, 3, 23, 11, 12, 20, 14, 11, 4, 14, 36, 10, 1, 1, 10, 2, 2, 8, 13, 10, 1, 1]</td>\n",
       "      <td>[5.0, 10.0, 25.0, 30.0, 35.0, 50.0, 75.0, 100.0, 110.0, 125.0, 140.0, 145.0, 150.0, 175.0, 200.0, 200.0, 250.0, 250.0, 275.0, 300.0, 300.0, 300.0, 300.0, 350.0, 350.0, 350.0, 375.0, 375.0, 400.0, 400.0, 400.0, 450.0, 500.0, 500.0, 500.0, 600.0, 700.0, 750.0, 750.0, 750.0, 750.0, 750.0, 750.0, 800.0, 800.0, 800.0, 800.0, 800.0, 800.0, 900.0, 1200.0, 1500.0, 1700.0, 2500.0, 2600.0, 3000.0, 3500.0, 3500.0, 3500.0, 3750.0, 5000.0, 10000.0, 10000.0, 10000.0]</td>\n",
       "      <td>Bring Reading Rainbow Back for Every Child, Everywhere!</td>\n",
       "      <td>/projects/readingrainbow/bring-reading-rainbow-back-for-every-child-everywh</td>\n",
       "      <td>readingrainbow</td>\n",
       "      <td>Los Angeles</td>\n",
       "      <td>CA</td>\n",
       "      <td>1</td>\n",
       "      <td>1</td>\n",
       "    </tr>\n",
       "    <tr>\n",
       "      <th>3</th>\n",
       "      <td>5702153.0</td>\n",
       "      <td>\\nUPDATED: This is it. We're making a Veronica Mars movie! Now the only question is: how big can we make it? We need your help!\\n</td>\n",
       "      <td>Narrative Film</td>\n",
       "      <td>usd</td>\n",
       "      <td>2000000.0</td>\n",
       "      <td>San Diego, CA</td>\n",
       "      <td>91585</td>\n",
       "      <td>[5938, 8423, 11509, 22997, 23227, 1865, 7260, 152, 150, 1478, 3048, 100, 891, 91, 100, 135, 40, 100, 50, 150, 150, 50, 100, 100, 100, 20, 30, 10, 4, 3, 3, 1]</td>\n",
       "      <td>[1.0, 10.0, 25.0, 35.0, 50.0, 75.0, 100.0, 150.0, 150.0, 175.0, 200.0, 250.0, 275.0, 350.0, 400.0, 400.0, 450.0, 500.0, 600.0, 750.0, 750.0, 750.0, 1000.0, 1000.0, 1000.0, 2500.0, 3000.0, 3500.0, 5000.0, 6500.0, 8000.0, 10000.0]</td>\n",
       "      <td>The Veronica Mars Movie Project</td>\n",
       "      <td>/projects/559914737/the-veronica-mars-movie-project</td>\n",
       "      <td>559914737</td>\n",
       "      <td>San Diego</td>\n",
       "      <td>CA</td>\n",
       "      <td>1</td>\n",
       "      <td>1</td>\n",
       "    </tr>\n",
       "    <tr>\n",
       "      <th>4</th>\n",
       "      <td>3336371.0</td>\n",
       "      <td>\\nAn adventure game from Tim Schafer, Double Fine, and YOU!\\n</td>\n",
       "      <td>Video Games</td>\n",
       "      <td>usd</td>\n",
       "      <td>400000.0</td>\n",
       "      <td>San Francisco, CA</td>\n",
       "      <td>87142</td>\n",
       "      <td>[47946, 24636, 1090, 11530, 900, 148, 100, 10, 4]</td>\n",
       "      <td>[15.0, 30.0, 60.0, 100.0, 250.0, 500.0, 1000.0, 5000.0, 10000.0]</td>\n",
       "      <td>Double Fine Adventure</td>\n",
       "      <td>/projects/doublefine/double-fine-adventure</td>\n",
       "      <td>doublefine</td>\n",
       "      <td>San Francisco</td>\n",
       "      <td>CA</td>\n",
       "      <td>1</td>\n",
       "      <td>1</td>\n",
       "    </tr>\n",
       "  </tbody>\n",
       "</table>\n",
       "</div>"
      ],
      "text/plain": [
       "   amt.pledged  \\\n",
       "0    8782571.0   \n",
       "1    6465690.0   \n",
       "2    5408916.0   \n",
       "3    5702153.0   \n",
       "4    3336371.0   \n",
       "\n",
       "                                                                                                                                         blurb  \\\n",
       "0                                  \\nThis is a card game for people who are into kittens and explosions and laser beams and sometimes goats.\\n   \n",
       "1                \\nAn unusually addicting, high-quality desk toy designed to help you focus. Fidget at work, in class, and at home in style.\\n   \n",
       "2  \\nBring Reading Rainbow’s library of interactive books & video field trips to more platforms & provide free access to classrooms in need!\\n   \n",
       "3            \\nUPDATED: This is it. We're making a Veronica Mars movie! Now the only question is: how big can we make it? We need your help!\\n   \n",
       "4                                                                                \\nAn adventure game from Tim Schafer, Double Fine, and YOU!\\n   \n",
       "\n",
       "         category currency       goal           location  num.backers  \\\n",
       "0  Tabletop Games      usd    10000.0    Los Angeles, CA       219382   \n",
       "1  Product Design      usd    15000.0         Denver, CO       154926   \n",
       "2             Web      usd  1000000.0    Los Angeles, CA       105857   \n",
       "3  Narrative Film      usd  2000000.0      San Diego, CA        91585   \n",
       "4     Video Games      usd   400000.0  San Francisco, CA        87142   \n",
       "\n",
       "                                                                                                                                                                                                                                                                  num.backers.tier  \\\n",
       "0                                                                                                                                                                                                                                                          [15505, 202934, 200, 5]   \n",
       "1                                                                                                                                                                                                          [788, 250, 43073, 21796, 41727, 21627, 12215, 7608, 3290, 2189, 82, 85]   \n",
       "2  [19639, 14343, 9136, 2259, 5666, 24512, 4957, 4359, 749, 1248, 500, 339, 282, 417, 1548, 517, 749, 155, 160, 60, 5, 10, 3, 100, 75, 12, 295, 69, 156, 1, 33, 1, 1, 8, 6, 30, 13, 39, 1, 4, 6, 21, 9, 3, 23, 11, 12, 20, 14, 11, 4, 14, 36, 10, 1, 1, 10, 2, 2, 8, 13, 10, 1, 1]   \n",
       "3                                                                                                                    [5938, 8423, 11509, 22997, 23227, 1865, 7260, 152, 150, 1478, 3048, 100, 891, 91, 100, 135, 40, 100, 50, 150, 150, 50, 100, 100, 100, 20, 30, 10, 4, 3, 3, 1]   \n",
       "4                                                                                                                                                                                                                                [47946, 24636, 1090, 11530, 900, 148, 100, 10, 4]   \n",
       "\n",
       "                                                                                                                                                                                                                                                                                                                                                                                                                                                                 pledge.tier  \\\n",
       "0                                                                                                                                                                                                                                                                                                                                                                                                                                                 [20.0, 35.0, 100.0, 500.0]   \n",
       "1                                                                                                                                                                                                                                                                                                                                                                                                [1.0, 14.0, 19.0, 19.0, 35.0, 35.0, 79.0, 79.0, 129.0, 129.0, 849.0, 849.0]   \n",
       "2  [5.0, 10.0, 25.0, 30.0, 35.0, 50.0, 75.0, 100.0, 110.0, 125.0, 140.0, 145.0, 150.0, 175.0, 200.0, 200.0, 250.0, 250.0, 275.0, 300.0, 300.0, 300.0, 300.0, 350.0, 350.0, 350.0, 375.0, 375.0, 400.0, 400.0, 400.0, 450.0, 500.0, 500.0, 500.0, 600.0, 700.0, 750.0, 750.0, 750.0, 750.0, 750.0, 750.0, 800.0, 800.0, 800.0, 800.0, 800.0, 800.0, 900.0, 1200.0, 1500.0, 1700.0, 2500.0, 2600.0, 3000.0, 3500.0, 3500.0, 3500.0, 3750.0, 5000.0, 10000.0, 10000.0, 10000.0]   \n",
       "3                                                                                                                                                                                                                                       [1.0, 10.0, 25.0, 35.0, 50.0, 75.0, 100.0, 150.0, 150.0, 175.0, 200.0, 250.0, 275.0, 350.0, 400.0, 400.0, 450.0, 500.0, 600.0, 750.0, 750.0, 750.0, 1000.0, 1000.0, 1000.0, 2500.0, 3000.0, 3500.0, 5000.0, 6500.0, 8000.0, 10000.0]   \n",
       "4                                                                                                                                                                                                                                                                                                                                                                                                           [15.0, 30.0, 60.0, 100.0, 250.0, 500.0, 1000.0, 5000.0, 10000.0]   \n",
       "\n",
       "                                                     title  \\\n",
       "0                                        Exploding Kittens   \n",
       "1                            Fidget Cube: A Vinyl Desk Toy   \n",
       "2  Bring Reading Rainbow Back for Every Child, Everywhere!   \n",
       "3                          The Veronica Mars Movie Project   \n",
       "4                                    Double Fine Adventure   \n",
       "\n",
       "                                                                           url  \\\n",
       "0                                          /projects/elanlee/exploding-kittens   \n",
       "1                             /projects/antsylabs/fidget-cube-a-vinyl-desk-toy   \n",
       "2  /projects/readingrainbow/bring-reading-rainbow-back-for-every-child-everywh   \n",
       "3                          /projects/559914737/the-veronica-mars-movie-project   \n",
       "4                                   /projects/doublefine/double-fine-adventure   \n",
       "\n",
       "          creator           loc1 loc2  is_state  loc_USA  \n",
       "0         elanlee    Los Angeles   CA         1        1  \n",
       "1       antsylabs         Denver   CO         1        1  \n",
       "2  readingrainbow    Los Angeles   CA         1        1  \n",
       "3       559914737      San Diego   CA         1        1  \n",
       "4      doublefine  San Francisco   CA         1        1  "
      ]
     },
     "execution_count": 200,
     "metadata": {},
     "output_type": "execute_result"
    }
   ],
   "source": [
    "df2.head()"
   ]
  },
  {
   "cell_type": "code",
   "execution_count": 201,
   "metadata": {
    "ExecuteTime": {
     "end_time": "2016-11-09T14:44:12.976137",
     "start_time": "2016-11-09T14:44:12.689500"
    },
    "collapsed": true
   },
   "outputs": [],
   "source": [
    "locations = []\n",
    "for i in range(df2.shape[0]):\n",
    "    if df2[\"loc_USA\"][i] == 1:\n",
    "        locations.append(\"USA\")\n",
    "    else:\n",
    "        locations.append(df2[\"loc2\"][i])"
   ]
  },
  {
   "cell_type": "code",
   "execution_count": 202,
   "metadata": {
    "ExecuteTime": {
     "end_time": "2016-11-09T14:44:13.232529",
     "start_time": "2016-11-09T14:44:13.223778"
    },
    "collapsed": true
   },
   "outputs": [],
   "source": [
    "df2[\"country\"] = np.array(locations)"
   ]
  },
  {
   "cell_type": "code",
   "execution_count": 203,
   "metadata": {
    "ExecuteTime": {
     "end_time": "2016-11-09T14:44:13.973630",
     "start_time": "2016-11-09T14:44:13.878748"
    },
    "collapsed": false
   },
   "outputs": [
    {
     "data": {
      "text/html": [
       "<div>\n",
       "<table border=\"1\" class=\"dataframe\">\n",
       "  <thead>\n",
       "    <tr style=\"text-align: right;\">\n",
       "      <th></th>\n",
       "      <th>amt.pledged</th>\n",
       "      <th>blurb</th>\n",
       "      <th>category</th>\n",
       "      <th>currency</th>\n",
       "      <th>goal</th>\n",
       "      <th>location</th>\n",
       "      <th>num.backers</th>\n",
       "      <th>num.backers.tier</th>\n",
       "      <th>pledge.tier</th>\n",
       "      <th>title</th>\n",
       "      <th>url</th>\n",
       "      <th>creator</th>\n",
       "      <th>loc1</th>\n",
       "      <th>loc2</th>\n",
       "      <th>is_state</th>\n",
       "      <th>loc_USA</th>\n",
       "      <th>country</th>\n",
       "    </tr>\n",
       "  </thead>\n",
       "  <tbody>\n",
       "    <tr>\n",
       "      <th>0</th>\n",
       "      <td>8782571.0</td>\n",
       "      <td>\\nThis is a card game for people who are into kittens and explosions and laser beams and sometimes goats.\\n</td>\n",
       "      <td>Tabletop Games</td>\n",
       "      <td>usd</td>\n",
       "      <td>10000.0</td>\n",
       "      <td>Los Angeles, CA</td>\n",
       "      <td>219382</td>\n",
       "      <td>[15505, 202934, 200, 5]</td>\n",
       "      <td>[20.0, 35.0, 100.0, 500.0]</td>\n",
       "      <td>Exploding Kittens</td>\n",
       "      <td>/projects/elanlee/exploding-kittens</td>\n",
       "      <td>elanlee</td>\n",
       "      <td>Los Angeles</td>\n",
       "      <td>CA</td>\n",
       "      <td>1</td>\n",
       "      <td>1</td>\n",
       "      <td>USA</td>\n",
       "    </tr>\n",
       "    <tr>\n",
       "      <th>1</th>\n",
       "      <td>6465690.0</td>\n",
       "      <td>\\nAn unusually addicting, high-quality desk toy designed to help you focus. Fidget at work, in class, and at home in style.\\n</td>\n",
       "      <td>Product Design</td>\n",
       "      <td>usd</td>\n",
       "      <td>15000.0</td>\n",
       "      <td>Denver, CO</td>\n",
       "      <td>154926</td>\n",
       "      <td>[788, 250, 43073, 21796, 41727, 21627, 12215, 7608, 3290, 2189, 82, 85]</td>\n",
       "      <td>[1.0, 14.0, 19.0, 19.0, 35.0, 35.0, 79.0, 79.0, 129.0, 129.0, 849.0, 849.0]</td>\n",
       "      <td>Fidget Cube: A Vinyl Desk Toy</td>\n",
       "      <td>/projects/antsylabs/fidget-cube-a-vinyl-desk-toy</td>\n",
       "      <td>antsylabs</td>\n",
       "      <td>Denver</td>\n",
       "      <td>CO</td>\n",
       "      <td>1</td>\n",
       "      <td>1</td>\n",
       "      <td>USA</td>\n",
       "    </tr>\n",
       "    <tr>\n",
       "      <th>2</th>\n",
       "      <td>5408916.0</td>\n",
       "      <td>\\nBring Reading Rainbow’s library of interactive books &amp; video field trips to more platforms &amp; provide free access to classrooms in need!\\n</td>\n",
       "      <td>Web</td>\n",
       "      <td>usd</td>\n",
       "      <td>1000000.0</td>\n",
       "      <td>Los Angeles, CA</td>\n",
       "      <td>105857</td>\n",
       "      <td>[19639, 14343, 9136, 2259, 5666, 24512, 4957, 4359, 749, 1248, 500, 339, 282, 417, 1548, 517, 749, 155, 160, 60, 5, 10, 3, 100, 75, 12, 295, 69, 156, 1, 33, 1, 1, 8, 6, 30, 13, 39, 1, 4, 6, 21, 9, 3, 23, 11, 12, 20, 14, 11, 4, 14, 36, 10, 1, 1, 10, 2, 2, 8, 13, 10, 1, 1]</td>\n",
       "      <td>[5.0, 10.0, 25.0, 30.0, 35.0, 50.0, 75.0, 100.0, 110.0, 125.0, 140.0, 145.0, 150.0, 175.0, 200.0, 200.0, 250.0, 250.0, 275.0, 300.0, 300.0, 300.0, 300.0, 350.0, 350.0, 350.0, 375.0, 375.0, 400.0, 400.0, 400.0, 450.0, 500.0, 500.0, 500.0, 600.0, 700.0, 750.0, 750.0, 750.0, 750.0, 750.0, 750.0, 800.0, 800.0, 800.0, 800.0, 800.0, 800.0, 900.0, 1200.0, 1500.0, 1700.0, 2500.0, 2600.0, 3000.0, 3500.0, 3500.0, 3500.0, 3750.0, 5000.0, 10000.0, 10000.0, 10000.0]</td>\n",
       "      <td>Bring Reading Rainbow Back for Every Child, Everywhere!</td>\n",
       "      <td>/projects/readingrainbow/bring-reading-rainbow-back-for-every-child-everywh</td>\n",
       "      <td>readingrainbow</td>\n",
       "      <td>Los Angeles</td>\n",
       "      <td>CA</td>\n",
       "      <td>1</td>\n",
       "      <td>1</td>\n",
       "      <td>USA</td>\n",
       "    </tr>\n",
       "    <tr>\n",
       "      <th>3</th>\n",
       "      <td>5702153.0</td>\n",
       "      <td>\\nUPDATED: This is it. We're making a Veronica Mars movie! Now the only question is: how big can we make it? We need your help!\\n</td>\n",
       "      <td>Narrative Film</td>\n",
       "      <td>usd</td>\n",
       "      <td>2000000.0</td>\n",
       "      <td>San Diego, CA</td>\n",
       "      <td>91585</td>\n",
       "      <td>[5938, 8423, 11509, 22997, 23227, 1865, 7260, 152, 150, 1478, 3048, 100, 891, 91, 100, 135, 40, 100, 50, 150, 150, 50, 100, 100, 100, 20, 30, 10, 4, 3, 3, 1]</td>\n",
       "      <td>[1.0, 10.0, 25.0, 35.0, 50.0, 75.0, 100.0, 150.0, 150.0, 175.0, 200.0, 250.0, 275.0, 350.0, 400.0, 400.0, 450.0, 500.0, 600.0, 750.0, 750.0, 750.0, 1000.0, 1000.0, 1000.0, 2500.0, 3000.0, 3500.0, 5000.0, 6500.0, 8000.0, 10000.0]</td>\n",
       "      <td>The Veronica Mars Movie Project</td>\n",
       "      <td>/projects/559914737/the-veronica-mars-movie-project</td>\n",
       "      <td>559914737</td>\n",
       "      <td>San Diego</td>\n",
       "      <td>CA</td>\n",
       "      <td>1</td>\n",
       "      <td>1</td>\n",
       "      <td>USA</td>\n",
       "    </tr>\n",
       "    <tr>\n",
       "      <th>4</th>\n",
       "      <td>3336371.0</td>\n",
       "      <td>\\nAn adventure game from Tim Schafer, Double Fine, and YOU!\\n</td>\n",
       "      <td>Video Games</td>\n",
       "      <td>usd</td>\n",
       "      <td>400000.0</td>\n",
       "      <td>San Francisco, CA</td>\n",
       "      <td>87142</td>\n",
       "      <td>[47946, 24636, 1090, 11530, 900, 148, 100, 10, 4]</td>\n",
       "      <td>[15.0, 30.0, 60.0, 100.0, 250.0, 500.0, 1000.0, 5000.0, 10000.0]</td>\n",
       "      <td>Double Fine Adventure</td>\n",
       "      <td>/projects/doublefine/double-fine-adventure</td>\n",
       "      <td>doublefine</td>\n",
       "      <td>San Francisco</td>\n",
       "      <td>CA</td>\n",
       "      <td>1</td>\n",
       "      <td>1</td>\n",
       "      <td>USA</td>\n",
       "    </tr>\n",
       "  </tbody>\n",
       "</table>\n",
       "</div>"
      ],
      "text/plain": [
       "   amt.pledged  \\\n",
       "0    8782571.0   \n",
       "1    6465690.0   \n",
       "2    5408916.0   \n",
       "3    5702153.0   \n",
       "4    3336371.0   \n",
       "\n",
       "                                                                                                                                         blurb  \\\n",
       "0                                  \\nThis is a card game for people who are into kittens and explosions and laser beams and sometimes goats.\\n   \n",
       "1                \\nAn unusually addicting, high-quality desk toy designed to help you focus. Fidget at work, in class, and at home in style.\\n   \n",
       "2  \\nBring Reading Rainbow’s library of interactive books & video field trips to more platforms & provide free access to classrooms in need!\\n   \n",
       "3            \\nUPDATED: This is it. We're making a Veronica Mars movie! Now the only question is: how big can we make it? We need your help!\\n   \n",
       "4                                                                                \\nAn adventure game from Tim Schafer, Double Fine, and YOU!\\n   \n",
       "\n",
       "         category currency       goal           location  num.backers  \\\n",
       "0  Tabletop Games      usd    10000.0    Los Angeles, CA       219382   \n",
       "1  Product Design      usd    15000.0         Denver, CO       154926   \n",
       "2             Web      usd  1000000.0    Los Angeles, CA       105857   \n",
       "3  Narrative Film      usd  2000000.0      San Diego, CA        91585   \n",
       "4     Video Games      usd   400000.0  San Francisco, CA        87142   \n",
       "\n",
       "                                                                                                                                                                                                                                                                  num.backers.tier  \\\n",
       "0                                                                                                                                                                                                                                                          [15505, 202934, 200, 5]   \n",
       "1                                                                                                                                                                                                          [788, 250, 43073, 21796, 41727, 21627, 12215, 7608, 3290, 2189, 82, 85]   \n",
       "2  [19639, 14343, 9136, 2259, 5666, 24512, 4957, 4359, 749, 1248, 500, 339, 282, 417, 1548, 517, 749, 155, 160, 60, 5, 10, 3, 100, 75, 12, 295, 69, 156, 1, 33, 1, 1, 8, 6, 30, 13, 39, 1, 4, 6, 21, 9, 3, 23, 11, 12, 20, 14, 11, 4, 14, 36, 10, 1, 1, 10, 2, 2, 8, 13, 10, 1, 1]   \n",
       "3                                                                                                                    [5938, 8423, 11509, 22997, 23227, 1865, 7260, 152, 150, 1478, 3048, 100, 891, 91, 100, 135, 40, 100, 50, 150, 150, 50, 100, 100, 100, 20, 30, 10, 4, 3, 3, 1]   \n",
       "4                                                                                                                                                                                                                                [47946, 24636, 1090, 11530, 900, 148, 100, 10, 4]   \n",
       "\n",
       "                                                                                                                                                                                                                                                                                                                                                                                                                                                                 pledge.tier  \\\n",
       "0                                                                                                                                                                                                                                                                                                                                                                                                                                                 [20.0, 35.0, 100.0, 500.0]   \n",
       "1                                                                                                                                                                                                                                                                                                                                                                                                [1.0, 14.0, 19.0, 19.0, 35.0, 35.0, 79.0, 79.0, 129.0, 129.0, 849.0, 849.0]   \n",
       "2  [5.0, 10.0, 25.0, 30.0, 35.0, 50.0, 75.0, 100.0, 110.0, 125.0, 140.0, 145.0, 150.0, 175.0, 200.0, 200.0, 250.0, 250.0, 275.0, 300.0, 300.0, 300.0, 300.0, 350.0, 350.0, 350.0, 375.0, 375.0, 400.0, 400.0, 400.0, 450.0, 500.0, 500.0, 500.0, 600.0, 700.0, 750.0, 750.0, 750.0, 750.0, 750.0, 750.0, 800.0, 800.0, 800.0, 800.0, 800.0, 800.0, 900.0, 1200.0, 1500.0, 1700.0, 2500.0, 2600.0, 3000.0, 3500.0, 3500.0, 3500.0, 3750.0, 5000.0, 10000.0, 10000.0, 10000.0]   \n",
       "3                                                                                                                                                                                                                                       [1.0, 10.0, 25.0, 35.0, 50.0, 75.0, 100.0, 150.0, 150.0, 175.0, 200.0, 250.0, 275.0, 350.0, 400.0, 400.0, 450.0, 500.0, 600.0, 750.0, 750.0, 750.0, 1000.0, 1000.0, 1000.0, 2500.0, 3000.0, 3500.0, 5000.0, 6500.0, 8000.0, 10000.0]   \n",
       "4                                                                                                                                                                                                                                                                                                                                                                                                           [15.0, 30.0, 60.0, 100.0, 250.0, 500.0, 1000.0, 5000.0, 10000.0]   \n",
       "\n",
       "                                                     title  \\\n",
       "0                                        Exploding Kittens   \n",
       "1                            Fidget Cube: A Vinyl Desk Toy   \n",
       "2  Bring Reading Rainbow Back for Every Child, Everywhere!   \n",
       "3                          The Veronica Mars Movie Project   \n",
       "4                                    Double Fine Adventure   \n",
       "\n",
       "                                                                           url  \\\n",
       "0                                          /projects/elanlee/exploding-kittens   \n",
       "1                             /projects/antsylabs/fidget-cube-a-vinyl-desk-toy   \n",
       "2  /projects/readingrainbow/bring-reading-rainbow-back-for-every-child-everywh   \n",
       "3                          /projects/559914737/the-veronica-mars-movie-project   \n",
       "4                                   /projects/doublefine/double-fine-adventure   \n",
       "\n",
       "          creator           loc1 loc2  is_state  loc_USA country  \n",
       "0         elanlee    Los Angeles   CA         1        1     USA  \n",
       "1       antsylabs         Denver   CO         1        1     USA  \n",
       "2  readingrainbow    Los Angeles   CA         1        1     USA  \n",
       "3       559914737      San Diego   CA         1        1     USA  \n",
       "4      doublefine  San Francisco   CA         1        1     USA  "
      ]
     },
     "execution_count": 203,
     "metadata": {},
     "output_type": "execute_result"
    }
   ],
   "source": [
    "df2.head()"
   ]
  },
  {
   "cell_type": "code",
   "execution_count": 204,
   "metadata": {
    "ExecuteTime": {
     "end_time": "2016-11-09T14:44:14.750129",
     "start_time": "2016-11-09T14:44:14.740316"
    },
    "collapsed": true
   },
   "outputs": [],
   "source": [
    "country_encode = preprocessing.LabelEncoder()\n",
    "df2[\"country_num\"] = country_encode.fit_transform(df2[\"country\"])"
   ]
  },
  {
   "cell_type": "code",
   "execution_count": 205,
   "metadata": {
    "ExecuteTime": {
     "end_time": "2016-11-09T14:44:15.614327",
     "start_time": "2016-11-09T14:44:15.603688"
    },
    "collapsed": false
   },
   "outputs": [],
   "source": [
    "test = df2[[\"country\", \"goal\", \"amt.pledged\"]].head(500)"
   ]
  },
  {
   "cell_type": "code",
   "execution_count": 145,
   "metadata": {
    "ExecuteTime": {
     "end_time": "2016-11-09T14:11:52.953098",
     "start_time": "2016-11-09T14:11:26.987755"
    },
    "collapsed": false
   },
   "outputs": [
    {
     "data": {
      "image/png": "[encoded data removed]",
      "text/plain": [
       "<matplotlib.figure.Figure at 0x119a14e10>"
      ]
     },
     "metadata": {},
     "output_type": "display_data"
    }
   ],
   "source": [
    "plt.subplots(figsize=(16,8));\n",
    "sns.swarmplot(x=\"country\", y=\"goal\", data=test);"
   ]
  },
  {
   "cell_type": "code",
   "execution_count": 206,
   "metadata": {
    "ExecuteTime": {
     "end_time": "2016-11-09T14:44:17.879179",
     "start_time": "2016-11-09T14:44:17.795651"
    },
    "collapsed": false
   },
   "outputs": [],
   "source": [
    "df2[\"blurb\"] = df2[\"blurb\"].map(lambda x: x.replace(\"\\n\", \"\").replace(\",\", \"\"))\n",
    "df2[\"title\"] = df2[\"title\"].map(lambda x: x.replace(\"\\n\", \"\").replace(\",\", \"\").replace(\"|\", \"-\"))\n",
    "df2.to_csv(\"addedstuff.csv\")"
   ]
  },
  {
   "cell_type": "code",
   "execution_count": 171,
   "metadata": {
    "ExecuteTime": {
     "end_time": "2016-11-09T14:28:48.011556",
     "start_time": "2016-11-09T14:28:48.002115"
    },
    "collapsed": false
   },
   "outputs": [
    {
     "name": "stdout",
     "output_type": "stream",
     "text": [
      "The World's Best TRAVEL JACKET with 15 Features -- BAUBAX\n",
      "BAUHAUS:  Titanium Keychain / Key Carabiner\n"
     ]
    }
   ],
   "source": [
    "for i in df2[\"title\"]:\n",
    "    if \"BAU\" in i:\n",
    "        print i"
   ]
  },
  {
   "cell_type": "code",
   "execution_count": 173,
   "metadata": {
    "ExecuteTime": {
     "end_time": "2016-11-09T14:37:05.264078",
     "start_time": "2016-11-09T14:37:05.259444"
    },
    "collapsed": true
   },
   "outputs": [],
   "source": [
    "import string"
   ]
  },
  {
   "cell_type": "code",
   "execution_count": 174,
   "metadata": {
    "ExecuteTime": {
     "end_time": "2016-11-09T14:37:15.378784",
     "start_time": "2016-11-09T14:37:15.371600"
    },
    "collapsed": false
   },
   "outputs": [
    {
     "data": {
      "text/plain": [
       "'!\"#$%&\\'()*+,-./:;<=>?@[\\\\]^_`{|}~'"
      ]
     },
     "execution_count": 174,
     "metadata": {},
     "output_type": "execute_result"
    }
   ],
   "source": [
    "string.punctuation"
   ]
  },
  {
   "cell_type": "code",
   "execution_count": 208,
   "metadata": {
    "ExecuteTime": {
     "end_time": "2016-11-09T14:47:56.324118",
     "start_time": "2016-11-09T14:47:56.263471"
    },
    "collapsed": false
   },
   "outputs": [
    {
     "data": {
      "text/html": [
       "<div>\n",
       "<table border=\"1\" class=\"dataframe\">\n",
       "  <thead>\n",
       "    <tr style=\"text-align: right;\">\n",
       "      <th></th>\n",
       "      <th>amt.pledged</th>\n",
       "      <th>blurb</th>\n",
       "      <th>category</th>\n",
       "      <th>currency</th>\n",
       "      <th>goal</th>\n",
       "      <th>location</th>\n",
       "      <th>num.backers</th>\n",
       "      <th>num.backers.tier</th>\n",
       "      <th>pledge.tier</th>\n",
       "      <th>title</th>\n",
       "      <th>url</th>\n",
       "      <th>creator</th>\n",
       "      <th>loc1</th>\n",
       "      <th>loc2</th>\n",
       "      <th>is_state</th>\n",
       "      <th>loc_USA</th>\n",
       "      <th>country</th>\n",
       "      <th>country_num</th>\n",
       "    </tr>\n",
       "  </thead>\n",
       "  <tbody>\n",
       "    <tr>\n",
       "      <th>3600</th>\n",
       "      <td>105734.0</td>\n",
       "      <td>Support the publication of 'Vanilla Essence' by Yamatogawa! A heartwarming erotic manga anthology.</td>\n",
       "      <td>Graphic Novels</td>\n",
       "      <td>usd</td>\n",
       "      <td>27000.0</td>\n",
       "      <td>Gardena, CA</td>\n",
       "      <td>1211</td>\n",
       "      <td>[17, 203, 65, 2, 319, 152, 121, 35, 9, 8, 40, 157, 55, 7, 9, 2, 4, 3, 1]</td>\n",
       "      <td>[1.0, 10.0, 17.0, 20.0, 25.0, 32.0, 55.0, 60.0, 92.0, 92.0, 125.0, 125.0, 300.0, 350.0, 350.0, 450.0, 550.0, 850.0, 1000.0]</td>\n",
       "      <td>Vanilla Essence - a heartwarming erotic manga anthology</td>\n",
       "      <td>/projects/digitalmanga/vanilla-essence-a-heartwarming-erotic-manga-anthol</td>\n",
       "      <td>digitalmanga</td>\n",
       "      <td>Gardena</td>\n",
       "      <td>CA</td>\n",
       "      <td>1</td>\n",
       "      <td>1</td>\n",
       "      <td>USA</td>\n",
       "      <td>57</td>\n",
       "    </tr>\n",
       "  </tbody>\n",
       "</table>\n",
       "</div>"
      ],
      "text/plain": [
       "      amt.pledged  \\\n",
       "3600     105734.0   \n",
       "\n",
       "                                                                                                   blurb  \\\n",
       "3600  Support the publication of 'Vanilla Essence' by Yamatogawa! A heartwarming erotic manga anthology.   \n",
       "\n",
       "            category currency     goal     location  num.backers  \\\n",
       "3600  Graphic Novels      usd  27000.0  Gardena, CA         1211   \n",
       "\n",
       "                                                              num.backers.tier  \\\n",
       "3600  [17, 203, 65, 2, 319, 152, 121, 35, 9, 8, 40, 157, 55, 7, 9, 2, 4, 3, 1]   \n",
       "\n",
       "                                                                                                                      pledge.tier  \\\n",
       "3600  [1.0, 10.0, 17.0, 20.0, 25.0, 32.0, 55.0, 60.0, 92.0, 92.0, 125.0, 125.0, 300.0, 350.0, 350.0, 450.0, 550.0, 850.0, 1000.0]   \n",
       "\n",
       "                                                        title  \\\n",
       "3600  Vanilla Essence - a heartwarming erotic manga anthology   \n",
       "\n",
       "                                                                            url  \\\n",
       "3600  /projects/digitalmanga/vanilla-essence-a-heartwarming-erotic-manga-anthol   \n",
       "\n",
       "           creator     loc1 loc2  is_state  loc_USA country  country_num  \n",
       "3600  digitalmanga  Gardena   CA         1        1     USA           57  "
      ]
     },
     "execution_count": 208,
     "metadata": {},
     "output_type": "execute_result"
    }
   ],
   "source": [
    "df2[df2.creator == \"digitalmanga\"]"
   ]
  },
  {
   "cell_type": "code",
   "execution_count": null,
   "metadata": {
    "collapsed": true
   },
   "outputs": [],
   "source": []
  }
 ],
 "metadata": {
  "anaconda-cloud": {},
  "kernelspec": {
   "display_name": "Python [default]",
   "language": "python",
   "name": "python2"
  },
  "language_info": {
   "codemirror_mode": {
    "name": "ipython",
    "version": 2
   },
   "file_extension": ".py",
   "mimetype": "text/x-python",
   "name": "python",
   "nbconvert_exporter": "python",
   "pygments_lexer": "ipython2",
   "version": "2.7.12"
  },
  "toc": {
   "nav_menu": {
    "height": "192px",
    "width": "252px"
   },
   "navigate_menu": true,
   "number_sections": true,
   "sideBar": true,
   "threshold": 4,
   "toc_cell": false,
   "toc_section_display": "block",
   "toc_window_display": false
  }
 },
 "nbformat": 4,
 "nbformat_minor": 1
}
