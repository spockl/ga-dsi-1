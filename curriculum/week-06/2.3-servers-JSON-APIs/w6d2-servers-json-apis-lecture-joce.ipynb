{
 "cells": [
  {
   "cell_type": "markdown",
   "metadata": {
    "slideshow": {
     "slide_type": "slide"
    }
   },
   "source": [
    "# ![](https://ga-dash.s3.amazonaws.com/production/assets/logo-9f88ae6c9c3871690e33280fcf557f33.png) Servers, JSON, & APIs\n",
    "Week 6| Lesson 2.2"
   ]
  },
  {
   "cell_type": "markdown",
   "metadata": {
    "slideshow": {
     "slide_type": "slide"
    }
   },
   "source": [
    "### LEARNING OBJECTIVES\n",
    "*After this lesson, you will be able to:*\n",
    "- Identify HTTP verbs & their uses.\n",
    "- Describe APIs\n",
    "- Make calls to public APIs\n",
    "- Read and write data in JSON format"
   ]
  },
  {
   "cell_type": "markdown",
   "metadata": {
    "slideshow": {
     "slide_type": "slide"
    }
   },
   "source": [
    "### LESSON GUIDE\n",
    "\n",
    "| TIMING  | TYPE  | TOPIC  |\n",
    "|:-:|---|---|\n",
    "| 5 min | [Opening](#opening) | Opening |\n",
    "| 15 min | [Introduction](#introduction) | Introduction |\n",
    "| 15 min | [Demo](#demo) | Demo: HTTP |\n",
    "| 10 min | [Introduction](#introduction_2) | JSON |\n",
    "| 10 min | [Ind-practice](#ind-practice_1) | Independent Practice: Validate JSON |\n",
    "| 15 min | [Guided-practice/](#guided-practice/) | Guided Practice: Pulling data from API |\n",
    "| 10 min | [Ind-practice](#ind-practice_2/) | Independent Practice: Python APIs |\n",
    "| 5 min | [Conclusion](#conclusion) | Conclusion |"
   ]
  },
  {
   "cell_type": "markdown",
   "metadata": {
    "slideshow": {
     "slide_type": "slide"
    }
   },
   "source": [
    "<a name=\"opening\"></a>\n",
    "## Opening (5 min)\n",
    "An API (application program interface) is a set of routines, protocols, and tools for building software applications. It specifies how software components should interact.\n",
    "\n",
    "In the context of data science, APIs are a very important method for interacting with data hosted by third parties -- it's our way into someone else's database."
   ]
  },
  {
   "cell_type": "markdown",
   "metadata": {
    "slideshow": {
     "slide_type": "slide"
    }
   },
   "source": [
    "## An API request!\n",
    "\n",
    "https://maps.googleapis.com/maps/api/geocode/json?address=10+E+21ST+New+York+NY\n",
    "\n",
    "> Check: what do you think is happening here? What's the input pattern? What's the output?"
   ]
  },
  {
   "cell_type": "code",
   "execution_count": 2,
   "metadata": {
    "ExecuteTime": {
     "end_time": "2016-10-25T15:08:10.349365",
     "start_time": "2016-10-25T15:07:40.169376"
    },
    "collapsed": false,
    "slideshow": {
     "slide_type": "fragment"
    }
   },
   "outputs": [
    {
     "ename": "KeyboardInterrupt",
     "evalue": "",
     "output_type": "error",
     "traceback": [
      "\u001b[0;31m---------------------------------------------------------------------------\u001b[0m",
      "\u001b[0;31mKeyboardInterrupt\u001b[0m                         Traceback (most recent call last)",
      "\u001b[0;32m<ipython-input-2-5e1628c8e93b>\u001b[0m in \u001b[0;36m<module>\u001b[0;34m()\u001b[0m\n\u001b[1;32m      2\u001b[0m \u001b[0murl\u001b[0m \u001b[0;34m=\u001b[0m \u001b[0;34m'https://maps.googleapis.com/maps/api/geocode/json?address='\u001b[0m\u001b[0;34m\u001b[0m\u001b[0m\n\u001b[1;32m      3\u001b[0m \u001b[0maddress\u001b[0m \u001b[0;34m=\u001b[0m \u001b[0;34m'10+E+21st+New+York+NY'\u001b[0m\u001b[0;34m\u001b[0m\u001b[0m\n\u001b[0;32m----> 4\u001b[0;31m \u001b[0mresponse\u001b[0m \u001b[0;34m=\u001b[0m \u001b[0mrequests\u001b[0m\u001b[0;34m.\u001b[0m\u001b[0mpost\u001b[0m\u001b[0;34m(\u001b[0m\u001b[0murl\u001b[0m\u001b[0;34m+\u001b[0m\u001b[0maddress\u001b[0m\u001b[0;34m)\u001b[0m\u001b[0;34m\u001b[0m\u001b[0m\n\u001b[0m\u001b[1;32m      5\u001b[0m \u001b[0;31m#response.text\u001b[0m\u001b[0;34m\u001b[0m\u001b[0;34m\u001b[0m\u001b[0m\n\u001b[1;32m      6\u001b[0m \u001b[0;31m#response.json\u001b[0m\u001b[0;34m\u001b[0m\u001b[0;34m\u001b[0m\u001b[0m\n",
      "\u001b[0;32m//anaconda/lib/python2.7/site-packages/requests/api.pyc\u001b[0m in \u001b[0;36mpost\u001b[0;34m(url, data, json, **kwargs)\u001b[0m\n\u001b[1;32m    105\u001b[0m     \"\"\"\n\u001b[1;32m    106\u001b[0m \u001b[0;34m\u001b[0m\u001b[0m\n\u001b[0;32m--> 107\u001b[0;31m     \u001b[0;32mreturn\u001b[0m \u001b[0mrequest\u001b[0m\u001b[0;34m(\u001b[0m\u001b[0;34m'post'\u001b[0m\u001b[0;34m,\u001b[0m \u001b[0murl\u001b[0m\u001b[0;34m,\u001b[0m \u001b[0mdata\u001b[0m\u001b[0;34m=\u001b[0m\u001b[0mdata\u001b[0m\u001b[0;34m,\u001b[0m \u001b[0mjson\u001b[0m\u001b[0;34m=\u001b[0m\u001b[0mjson\u001b[0m\u001b[0;34m,\u001b[0m \u001b[0;34m**\u001b[0m\u001b[0mkwargs\u001b[0m\u001b[0;34m)\u001b[0m\u001b[0;34m\u001b[0m\u001b[0m\n\u001b[0m\u001b[1;32m    108\u001b[0m \u001b[0;34m\u001b[0m\u001b[0m\n\u001b[1;32m    109\u001b[0m \u001b[0;34m\u001b[0m\u001b[0m\n",
      "\u001b[0;32m//anaconda/lib/python2.7/site-packages/requests/api.pyc\u001b[0m in \u001b[0;36mrequest\u001b[0;34m(method, url, **kwargs)\u001b[0m\n\u001b[1;32m     51\u001b[0m     \u001b[0;31m# cases, and look like a memory leak in others.\u001b[0m\u001b[0;34m\u001b[0m\u001b[0;34m\u001b[0m\u001b[0m\n\u001b[1;32m     52\u001b[0m     \u001b[0;32mwith\u001b[0m \u001b[0msessions\u001b[0m\u001b[0;34m.\u001b[0m\u001b[0mSession\u001b[0m\u001b[0;34m(\u001b[0m\u001b[0;34m)\u001b[0m \u001b[0;32mas\u001b[0m \u001b[0msession\u001b[0m\u001b[0;34m:\u001b[0m\u001b[0;34m\u001b[0m\u001b[0m\n\u001b[0;32m---> 53\u001b[0;31m         \u001b[0;32mreturn\u001b[0m \u001b[0msession\u001b[0m\u001b[0;34m.\u001b[0m\u001b[0mrequest\u001b[0m\u001b[0;34m(\u001b[0m\u001b[0mmethod\u001b[0m\u001b[0;34m=\u001b[0m\u001b[0mmethod\u001b[0m\u001b[0;34m,\u001b[0m \u001b[0murl\u001b[0m\u001b[0;34m=\u001b[0m\u001b[0murl\u001b[0m\u001b[0;34m,\u001b[0m \u001b[0;34m**\u001b[0m\u001b[0mkwargs\u001b[0m\u001b[0;34m)\u001b[0m\u001b[0;34m\u001b[0m\u001b[0m\n\u001b[0m\u001b[1;32m     54\u001b[0m \u001b[0;34m\u001b[0m\u001b[0m\n\u001b[1;32m     55\u001b[0m \u001b[0;34m\u001b[0m\u001b[0m\n",
      "\u001b[0;32m//anaconda/lib/python2.7/site-packages/requests/sessions.pyc\u001b[0m in \u001b[0;36mrequest\u001b[0;34m(self, method, url, params, data, headers, cookies, files, auth, timeout, allow_redirects, proxies, hooks, stream, verify, cert, json)\u001b[0m\n\u001b[1;32m    457\u001b[0m \u001b[0;34m\u001b[0m\u001b[0m\n\u001b[1;32m    458\u001b[0m         settings = self.merge_environment_settings(\n\u001b[0;32m--> 459\u001b[0;31m             \u001b[0mprep\u001b[0m\u001b[0;34m.\u001b[0m\u001b[0murl\u001b[0m\u001b[0;34m,\u001b[0m \u001b[0mproxies\u001b[0m\u001b[0;34m,\u001b[0m \u001b[0mstream\u001b[0m\u001b[0;34m,\u001b[0m \u001b[0mverify\u001b[0m\u001b[0;34m,\u001b[0m \u001b[0mcert\u001b[0m\u001b[0;34m\u001b[0m\u001b[0m\n\u001b[0m\u001b[1;32m    460\u001b[0m         )\n\u001b[1;32m    461\u001b[0m \u001b[0;34m\u001b[0m\u001b[0m\n",
      "\u001b[0;32m//anaconda/lib/python2.7/site-packages/requests/sessions.pyc\u001b[0m in \u001b[0;36mmerge_environment_settings\u001b[0;34m(self, url, proxies, stream, verify, cert)\u001b[0m\n\u001b[1;32m    615\u001b[0m         \u001b[0;32mif\u001b[0m \u001b[0mself\u001b[0m\u001b[0;34m.\u001b[0m\u001b[0mtrust_env\u001b[0m\u001b[0;34m:\u001b[0m\u001b[0;34m\u001b[0m\u001b[0m\n\u001b[1;32m    616\u001b[0m             \u001b[0;31m# Set environment's proxies.\u001b[0m\u001b[0;34m\u001b[0m\u001b[0;34m\u001b[0m\u001b[0m\n\u001b[0;32m--> 617\u001b[0;31m             \u001b[0menv_proxies\u001b[0m \u001b[0;34m=\u001b[0m \u001b[0mget_environ_proxies\u001b[0m\u001b[0;34m(\u001b[0m\u001b[0murl\u001b[0m\u001b[0;34m)\u001b[0m \u001b[0;32mor\u001b[0m \u001b[0;34m{\u001b[0m\u001b[0;34m}\u001b[0m\u001b[0;34m\u001b[0m\u001b[0m\n\u001b[0m\u001b[1;32m    618\u001b[0m             \u001b[0;32mfor\u001b[0m \u001b[0;34m(\u001b[0m\u001b[0mk\u001b[0m\u001b[0;34m,\u001b[0m \u001b[0mv\u001b[0m\u001b[0;34m)\u001b[0m \u001b[0;32min\u001b[0m \u001b[0menv_proxies\u001b[0m\u001b[0;34m.\u001b[0m\u001b[0mitems\u001b[0m\u001b[0;34m(\u001b[0m\u001b[0;34m)\u001b[0m\u001b[0;34m:\u001b[0m\u001b[0;34m\u001b[0m\u001b[0m\n\u001b[1;32m    619\u001b[0m                 \u001b[0mproxies\u001b[0m\u001b[0;34m.\u001b[0m\u001b[0msetdefault\u001b[0m\u001b[0;34m(\u001b[0m\u001b[0mk\u001b[0m\u001b[0;34m,\u001b[0m \u001b[0mv\u001b[0m\u001b[0;34m)\u001b[0m\u001b[0;34m\u001b[0m\u001b[0m\n",
      "\u001b[0;32m//anaconda/lib/python2.7/site-packages/requests/utils.pyc\u001b[0m in \u001b[0;36mget_environ_proxies\u001b[0;34m(url)\u001b[0m\n\u001b[1;32m    560\u001b[0m \u001b[0;32mdef\u001b[0m \u001b[0mget_environ_proxies\u001b[0m\u001b[0;34m(\u001b[0m\u001b[0murl\u001b[0m\u001b[0;34m)\u001b[0m\u001b[0;34m:\u001b[0m\u001b[0;34m\u001b[0m\u001b[0m\n\u001b[1;32m    561\u001b[0m     \u001b[0;34m\"\"\"Return a dict of environment proxies.\"\"\"\u001b[0m\u001b[0;34m\u001b[0m\u001b[0m\n\u001b[0;32m--> 562\u001b[0;31m     \u001b[0;32mif\u001b[0m \u001b[0mshould_bypass_proxies\u001b[0m\u001b[0;34m(\u001b[0m\u001b[0murl\u001b[0m\u001b[0;34m)\u001b[0m\u001b[0;34m:\u001b[0m\u001b[0;34m\u001b[0m\u001b[0m\n\u001b[0m\u001b[1;32m    563\u001b[0m         \u001b[0;32mreturn\u001b[0m \u001b[0;34m{\u001b[0m\u001b[0;34m}\u001b[0m\u001b[0;34m\u001b[0m\u001b[0m\n\u001b[1;32m    564\u001b[0m     \u001b[0;32melse\u001b[0m\u001b[0;34m:\u001b[0m\u001b[0;34m\u001b[0m\u001b[0m\n",
      "\u001b[0;32m//anaconda/lib/python2.7/site-packages/requests/utils.pyc\u001b[0m in \u001b[0;36mshould_bypass_proxies\u001b[0;34m(url)\u001b[0m\n\u001b[1;32m    549\u001b[0m     \u001b[0;31m# legitimate problems.\u001b[0m\u001b[0;34m\u001b[0m\u001b[0;34m\u001b[0m\u001b[0m\n\u001b[1;32m    550\u001b[0m     \u001b[0;32mtry\u001b[0m\u001b[0;34m:\u001b[0m\u001b[0;34m\u001b[0m\u001b[0m\n\u001b[0;32m--> 551\u001b[0;31m         \u001b[0mbypass\u001b[0m \u001b[0;34m=\u001b[0m \u001b[0mproxy_bypass\u001b[0m\u001b[0;34m(\u001b[0m\u001b[0mnetloc\u001b[0m\u001b[0;34m)\u001b[0m\u001b[0;34m\u001b[0m\u001b[0m\n\u001b[0m\u001b[1;32m    552\u001b[0m     \u001b[0;32mexcept\u001b[0m \u001b[0;34m(\u001b[0m\u001b[0mTypeError\u001b[0m\u001b[0;34m,\u001b[0m \u001b[0msocket\u001b[0m\u001b[0;34m.\u001b[0m\u001b[0mgaierror\u001b[0m\u001b[0;34m)\u001b[0m\u001b[0;34m:\u001b[0m\u001b[0;34m\u001b[0m\u001b[0m\n\u001b[1;32m    553\u001b[0m         \u001b[0mbypass\u001b[0m \u001b[0;34m=\u001b[0m \u001b[0mFalse\u001b[0m\u001b[0;34m\u001b[0m\u001b[0m\n",
      "\u001b[0;32m//anaconda/lib/python2.7/urllib.pyc\u001b[0m in \u001b[0;36mproxy_bypass\u001b[0;34m(host)\u001b[0m\n\u001b[1;32m   1508\u001b[0m             \u001b[0;32mreturn\u001b[0m \u001b[0mproxy_bypass_environment\u001b[0m\u001b[0;34m(\u001b[0m\u001b[0mhost\u001b[0m\u001b[0;34m,\u001b[0m \u001b[0mproxies\u001b[0m\u001b[0;34m)\u001b[0m\u001b[0;34m\u001b[0m\u001b[0m\n\u001b[1;32m   1509\u001b[0m         \u001b[0;32melse\u001b[0m\u001b[0;34m:\u001b[0m\u001b[0;34m\u001b[0m\u001b[0m\n\u001b[0;32m-> 1510\u001b[0;31m             \u001b[0;32mreturn\u001b[0m \u001b[0mproxy_bypass_macosx_sysconf\u001b[0m\u001b[0;34m(\u001b[0m\u001b[0mhost\u001b[0m\u001b[0;34m)\u001b[0m\u001b[0;34m\u001b[0m\u001b[0m\n\u001b[0m\u001b[1;32m   1511\u001b[0m \u001b[0;34m\u001b[0m\u001b[0m\n\u001b[1;32m   1512\u001b[0m     \u001b[0;32mdef\u001b[0m \u001b[0mgetproxies\u001b[0m\u001b[0;34m(\u001b[0m\u001b[0;34m)\u001b[0m\u001b[0;34m:\u001b[0m\u001b[0;34m\u001b[0m\u001b[0m\n",
      "\u001b[0;32m//anaconda/lib/python2.7/urllib.pyc\u001b[0m in \u001b[0;36mproxy_bypass_macosx_sysconf\u001b[0;34m(host)\u001b[0m\n\u001b[1;32m   1468\u001b[0m                 \u001b[0;32mif\u001b[0m \u001b[0mhostIP\u001b[0m \u001b[0;32mis\u001b[0m \u001b[0mNone\u001b[0m\u001b[0;34m:\u001b[0m\u001b[0;34m\u001b[0m\u001b[0m\n\u001b[1;32m   1469\u001b[0m                     \u001b[0;32mtry\u001b[0m\u001b[0;34m:\u001b[0m\u001b[0;34m\u001b[0m\u001b[0m\n\u001b[0;32m-> 1470\u001b[0;31m                         \u001b[0mhostIP\u001b[0m \u001b[0;34m=\u001b[0m \u001b[0msocket\u001b[0m\u001b[0;34m.\u001b[0m\u001b[0mgethostbyname\u001b[0m\u001b[0;34m(\u001b[0m\u001b[0mhostonly\u001b[0m\u001b[0;34m)\u001b[0m\u001b[0;34m\u001b[0m\u001b[0m\n\u001b[0m\u001b[1;32m   1471\u001b[0m                         \u001b[0mhostIP\u001b[0m \u001b[0;34m=\u001b[0m \u001b[0mip2num\u001b[0m\u001b[0;34m(\u001b[0m\u001b[0mhostIP\u001b[0m\u001b[0;34m)\u001b[0m\u001b[0;34m\u001b[0m\u001b[0m\n\u001b[1;32m   1472\u001b[0m                     \u001b[0;32mexcept\u001b[0m \u001b[0msocket\u001b[0m\u001b[0;34m.\u001b[0m\u001b[0merror\u001b[0m\u001b[0;34m:\u001b[0m\u001b[0;34m\u001b[0m\u001b[0m\n",
      "\u001b[0;31mKeyboardInterrupt\u001b[0m: "
     ]
    }
   ],
   "source": [
    "import requests\n",
    "url = 'https://maps.googleapis.com/maps/api/geocode/json?address='\n",
    "address = '10+E+21st+New+York+NY'\n",
    "response = requests.post(url+address)\n",
    "#response.text\n",
    "#response.json"
   ]
  },
  {
   "cell_type": "code",
   "execution_count": null,
   "metadata": {
    "ExecuteTime": {
     "end_time": "2016-10-25T15:08:10.352246",
     "start_time": "2016-10-25T19:07:40.562Z"
    },
    "collapsed": true
   },
   "outputs": [],
   "source": [
    "response2 = requests.get(url+address)"
   ]
  },
  {
   "cell_type": "markdown",
   "metadata": {
    "slideshow": {
     "slide_type": "fragment"
    }
   },
   "source": [
    "That's it -- we just used an API together! The response is JSON-structured text; later in the lesson we'll parse it together."
   ]
  },
  {
   "cell_type": "markdown",
   "metadata": {
    "slideshow": {
     "slide_type": "slide"
    }
   },
   "source": [
    "<a name=\"introduction\"></a>\n",
    "## Introduction (15 min)\n",
    "\n",
    "API calls are, in practice, a term for making _HTTP requests_ to a server and sending/receiving structured data from that endpoint. We are still communicating with URLs, however instead of receiving markup, like we do with HTML pages, we receive data.\n",
    "\n",
    "[Representational state transfer (REST)](https://en.wikipedia.org/wiki/Representational_state_transfer) is the most common* architecture style for passing information to and from these API endpoints.\n",
    "\n",
    "Before we start consuming these services however, it's important to understand the fundamentals of the underlying communication layer: HTTP.\n",
    "\n",
    "$^*$[GraphQL](https://facebook.github.io/react/blog/2015/05/01/graphql-introduction.html) may begin to [replace](https://medium.com/chute-engineering/graphql-in-the-age-of-rest-apis-b10f2bf09bba#.bmo4u9h32) the REST architectural style over the next 3-5 years.\n",
    "\n"
   ]
  },
  {
   "cell_type": "markdown",
   "metadata": {
    "slideshow": {
     "slide_type": "slide"
    }
   },
   "source": [
    "### HTTP\n",
    "\n",
    "HTTP is a protocol - a system of rules - that determines how web pages (see:'hypertext') get sent (see:'transferred') from one place to another. Among other things, it defines the format of the messages passed between HTTP clients and HTTP servers.\n",
    "\n",
    "![Web Architecture](./assets/images/webserver_to_rails_setup.jpeg \"Web Architecture\")\n",
    "\n",
    "Since the web is a service, it works through a combination of clients which _make_ requests and servers (which _receive_ requests).\n",
    "\n"
   ]
  },
  {
   "cell_type": "markdown",
   "metadata": {
    "slideshow": {
     "slide_type": "slide"
    }
   },
   "source": [
    "#### HTTP Client\n",
    "\n",
    "HTTP Clients make or generate HTTP Requests. Some types of clients are:\n",
    "\n",
    "* Browsers - Chrome, Firefox and Safari.\n",
    "* Command Line programs - [curl](http://curl.haxx.se/docs/) and [wget](http://www.gnu.org/software/wget/manual/wget.html).\n",
    "\n",
    "HTTP Clients respond to HTTP Responses from a Web Server. They process the data being returned frrm a web server, aka HTTP Server.\n",
    "\n"
   ]
  },
  {
   "cell_type": "markdown",
   "metadata": {
    "slideshow": {
     "slide_type": "slide"
    }
   },
   "source": [
    "#### HTTP/Web Server\n",
    "\n",
    "All _Web Servers_ receive _HTTP Requests_ and generate _HTTP Responses_. Often Web Servers are just the middleman, passing HTTP Request and Responses between the client and web application. Two of the most popular _HTTP or Web servers_ are [Apache](http://httpd.apache.org/) and [Nginx](http://nginx.com/), But there are lots different [web servers](http://en.wikipedia.org/wiki/Comparison_of_web_server_software) out there.\n",
    "\n",
    "\n"
   ]
  },
  {
   "cell_type": "markdown",
   "metadata": {
    "slideshow": {
     "slide_type": "slide"
    }
   },
   "source": [
    "### Web Applications\n",
    "\n",
    "Web Applications are programs that run on a web server, process the HTTP requests that the server receives, and generate HTTP Responses.\n",
    "\n",
    "![HTTP Request and Response](./assets/images/http_req_resp.gif)"
   ]
  },
  {
   "cell_type": "markdown",
   "metadata": {
    "slideshow": {
     "slide_type": "slide"
    }
   },
   "source": [
    "1. A client sends a HTTP Request to a HTTP Server running on a remote machine.  \n",
    "  * The _hostname_, given in the URL, indicates which server will receive the request.  \n",
    "2. The HTTP server processes the HTTP Request. This may entail passing the request to some Web Application, which creates a HTTP Response.\n",
    "3. The response gets sent back to the client.\n",
    "4. The client processes the response.\n",
    "\n"
   ]
  },
  {
   "cell_type": "markdown",
   "metadata": {
    "slideshow": {
     "slide_type": "slide"
    }
   },
   "source": [
    "How does the server know what the request is asking for? This is specified by the URL, a special kind of path that specifies where a resource can be found on the web.\n",
    "\n",
    "![URL](./assets/images/http1-url-structure.png)\n"
   ]
  },
  {
   "cell_type": "markdown",
   "metadata": {
    "slideshow": {
     "slide_type": "slide"
    }
   },
   "source": [
    "<a name=\"demo\"></a>\n",
    "## Demo: HTTP (15 min)\n",
    "\n",
    "Lets explore HTTP resources. We'll start by looking at HTTP requests and responses using the Chrome Inspector.\n",
    "\n",
    "![HTTP Request and Response](./assets/images/http_request_response.jpeg \"HTTP Request and Response\")\n",
    "\n",
    "* In Chrome, open up Chrome Inspector (*command + option + 'i', or ctrl + click and select 'inspect element'*).\n"
   ]
  },
  {
   "cell_type": "markdown",
   "metadata": {
    "slideshow": {
     "slide_type": "slide"
    }
   },
   "source": [
    "* Select the Network tab. It should look something like this:\n",
    "\n",
    "![Chrome Inspector](./assets/images/chrome_inspector.png)\n",
    "\n"
   ]
  },
  {
   "cell_type": "markdown",
   "metadata": {
    "slideshow": {
     "slide_type": "slide"
    }
   },
   "source": [
    "* Next, go to the URL https://generalassemb.ly/\n",
    "\n",
    "  You should be able to see a few HTTP Requests and Responses in the Network tab; for each request you'll see a **Path**, **Method**, **Status**, **Type**, and **Size** ('Content-Length'), along with info about how long it took to get each of these resources.\n",
    "  *Most of this information comes from the HTTP Request and Response.*\n",
    "\n",
    "  * Some HTTP requests are for CSS, JavaScript and images that are referenced by the HTML.\n",
    "  * Select `generalassemb.ly` in the Path column on the far left.\n",
    "  * Select the Headers tab. **Headers** are meta-data properties of an HTTP request or response, separate from the body of the message.\n",
    "\n"
   ]
  },
  {
   "cell_type": "markdown",
   "metadata": {
    "slideshow": {
     "slide_type": "slide"
    }
   },
   "source": [
    "### HTTP Request\n",
    "\n",
    "_GET_ is an **HTTP Request Method**.\n",
    "\n",
    "![HTTP Request](./assets/images/http_request.jpeg \"HTTP Request\")\n",
    "\n",
    "**HTTP Request Methods:**   \n",
    "\n",
    "* **GET** => Retrieve a resource.  \n",
    "* **POST** => Create a resource.  \n",
    "* **PATCH** (_or **PUT**, but **PATCH** is recommended_) => Update an existing resource.  \n",
    "* **DELETE** => Delete a resource.  \n",
    "* **HEAD** => Retrieve the headers for a resource.\n",
    "\n",
    "Of these, **GET** and **POST** are the most widely used.\n",
    "\n"
   ]
  },
  {
   "cell_type": "markdown",
   "metadata": {
    "slideshow": {
     "slide_type": "slide"
    }
   },
   "source": [
    "**HTTP Request Structure:**\n",
    "\n",
    "```\n",
    "[http request method] [URL] [http version]  \n",
    "[list of headers]\n",
    "(blank line)\n",
    "[request body]\n",
    "```\n"
   ]
  },
  {
   "cell_type": "markdown",
   "metadata": {
    "slideshow": {
     "slide_type": "slide"
    }
   },
   "source": [
    "**HTTP Request Method Example (No Body)**\n",
    "\n",
    "    GET http://vermonster.com HTTP/1.1  \n",
    "    Accept:text/html,application/xhtml+xml,application/xml;q=0.9,image/webp,*/*;q=0.8  \n",
    "    Accept-Encoding:gzip,deflate,sdch\n",
    "    Accept-Language:en-US,en;q=0.8  \n",
    "    Connection:keep-alive  \n",
    "    Host:vermonster.com  \n",
    "    User-Agent:Mozilla/5.0 (Macintosh; Intel Mac OS X 10_8_5)  \n",
    "    AppleWebKit/537.36 (KHTML, like Gecko) Chrome/32.0.1659.2 Safari/537.36\n",
    "    \n",
    "Understanding this structure can help troubleshoot web scraping, among other work. For instance you may want to manually spoof user-agent identities. (As long as you're not violating Terms of Service.)\n"
   ]
  },
  {
   "cell_type": "markdown",
   "metadata": {
    "slideshow": {
     "slide_type": "slide"
    }
   },
   "source": [
    "### HTTP Response\n",
    "\n",
    "![HTTP Response](./assets/images/http_response.jpeg \"HTTP Response\")\n",
    "\n",
    "When a client sends a request, the server sends back a response; the standard format for this response is:\n",
    "\n",
    "```\n",
    "[http version] [status] [reason]  \n",
    "[list of headers]\n",
    "\n",
    "[response body] # typically HTML, JSON, ...  \n",
    "```\n",
    "[Here's the list of possible status codes.](http://en.wikipedia.org/wiki/List_of_HTTP_status_codes) \n",
    "\n",
    "> **Check:** take turns explaining to a partner the different HTTP request methods, and when might use them\n"
   ]
  },
  {
   "cell_type": "markdown",
   "metadata": {
    "slideshow": {
     "slide_type": "slide"
    }
   },
   "source": [
    "<a name=\"introduction_2\"></a>\n",
    "## JSON (10 min)  \n",
    "\n",
    "JSON is short for _JavaScript Object Notation_. It is a standardized data schema that is common, compact, relatively easy to parse and (sort of) human-readable.\n",
    "\n",
    "JSON is built on two structures:\n",
    "\n",
    "* Objects, which are collections of key:value pairs. The syntax is {string: value, ...}.\n",
    "* Arrays, which are ordered collections of values. Their syntax is [value, value, ...].\n",
    "\n",
    "\"These are universal data structures. Virtually all modern programming languages support them in one form or another. It makes sense that a data format that is interchangeable with programming languages also be based on these structures.\" (http://json.org/)\n"
   ]
  },
  {
   "cell_type": "markdown",
   "metadata": {
    "slideshow": {
     "slide_type": "slide"
    }
   },
   "source": [
    "<a name=\"ind-practice_1\"></a>\n",
    "## Independent Practice: Validate JSON (10 min)\n",
    "JSON is very simple to use if correctly structured. One of the resources to validate JSON and check if the syntax is correct is [JSON Viewer](http://codebeautify.org/jsonviewer).\n",
    "\n",
    "Let's check out the JSON from the GoogleMaps API."
   ]
  },
  {
   "cell_type": "code",
   "execution_count": null,
   "metadata": {
    "ExecuteTime": {
     "end_time": "2016-10-25T15:07:38.340719",
     "start_time": "2016-10-25T19:07:07.809Z"
    },
    "collapsed": false,
    "slideshow": {
     "slide_type": "fragment"
    }
   },
   "outputs": [],
   "source": [
    "response.json()\n",
    "type(response.json()) # It's a dictionary -- how can we dump it out as text?"
   ]
  },
  {
   "cell_type": "code",
   "execution_count": null,
   "metadata": {
    "ExecuteTime": {
     "end_time": "2016-10-25T15:07:38.341297",
     "start_time": "2016-10-25T19:07:07.812Z"
    },
    "collapsed": false
   },
   "outputs": [],
   "source": [
    "response.json()"
   ]
  },
  {
   "cell_type": "code",
   "execution_count": null,
   "metadata": {
    "ExecuteTime": {
     "end_time": "2016-10-25T15:07:38.342097",
     "start_time": "2016-10-25T19:07:07.814Z"
    },
    "collapsed": false,
    "slideshow": {
     "slide_type": "fragment"
    }
   },
   "outputs": [],
   "source": [
    "import json\n",
    "json.dumps(response.json())"
   ]
  },
  {
   "cell_type": "markdown",
   "metadata": {
    "slideshow": {
     "slide_type": "slide"
    }
   },
   "source": [
    "If you see \"Valid JSON\", click \"Beautify\" and you will see a more readable way of JSON. If you do not see the message \"Valid JSON\", it means that there is a syntax error.\n"
   ]
  },
  {
   "cell_type": "markdown",
   "metadata": {
    "slideshow": {
     "slide_type": "fragment"
    }
   },
   "source": [
    "How about [this JSON](./assets/datasets/test.json)? Is it valid?"
   ]
  },
  {
   "cell_type": "markdown",
   "metadata": {
    "slideshow": {
     "slide_type": "slide"
    }
   },
   "source": [
    "* First, correct errors if there are any.\n",
    "* Then, work **in pairs** to identify the structure of the JSON:\n",
    "\n",
    "    - does whitespace matter?\n",
    "    - what is a root element?\n",
    "    - are there any arrays?\n",
    "    - how many objects are there?\n",
    "    - what are the attributes of an object?\n"
   ]
  },
  {
   "cell_type": "raw",
   "metadata": {},
   "source": [
    "[{\"event_type\": \"started-mission\", \"keen\": {\"created_at\": \"2015-06-12T23:09:03.966Z\", \"id\": \"557b668fd2eaaa2e7c5e916b\", \"timestamp\": \"2015-06-12T23:09:07.971Z\"}, \"sequence\": 1}, {\"event_type\": \"started-screen\", \"keen\": {\"created_at\": \"2015-06-12T23:09:03.979Z\", \"id\": \"557b668f90e4bd26c10b6ed6\", \"timestamp\": \"2015-06-12T23:09:07.987Z\"}, \"mission\": 1, \"amount\":\"$3k\", \"sequence\": 4, \"type\": \"code\"}, {\"event_type\": \"started-screen\", \"keen\": {\"created_at\": \"2015-06-12T23:09:22.517Z\", \"id\": \"557b66a246f9a7239038b1e0\", \"timestamp\": \"2015-06-12T23:09:24.246Z\"}, \"mission\": 1, \"amount\":\"$2k\", \"sequence\": 3, \"type\": \"code\"} ]\n"
   ]
  },
  {
   "cell_type": "markdown",
   "metadata": {
    "slideshow": {
     "slide_type": "slide"
    }
   },
   "source": [
    "<a name=\"guided-practice/\"></a>\n",
    "## Guided Practice: Pulling data from API (15 min)\n",
    "\n",
    "APIs are methods and data formats to tell people how to \"talk\" to a system. A couple of examples will clarify:\n",
    "\n",
    "### Example 1: Movies\n",
    "The internet movie database is a large collection of data about movies. It can be browsed at the address: http://www.imdb.com/.\n",
    "\n",
    "What if we wanted to programatically access the data in the database? Unless we are employees of IMDB.com, we probably don't have direct access to their internal database, so we cannot perform SQL queries on their data.\n",
    "\n",
    "We could use scraping to retrieve data from the web page, and in some cases we will have to do exactly that.\n",
    "Note: check the \"Terms of Service\" before you scrape a website, you could be infringing their terms.\n",
    "\n",
    "In other cases, the website offers a way to programatically access data from their database. That's an API.\n",
    "\n",
    "In the case of movies, this is offered by http://www.omdbapi.com/\n",
    "\n",
    "\n",
    "1. Let's try for example to retrieve the data about the \"Avengers\" movie in 2015:\n",
    "\n",
    "In a browser paste:\n",
    "    http://www.omdbapi.com/?t=avengers&y=2015&plot=short&r=json\n",
    "    \n",
    "you should see something like:\n",
    "\n",
    "    {\n",
    "    Title: \"Avengers: Age of Ultron\",\n",
    "    Year: \"2015\",\n",
    "    Rated: \"PG-13\",\n",
    "    Released: \"01 May 2015\",\n",
    "    Runtime: \"141 min\",\n",
    "    Genre: \"Action, Adventure, Sci-Fi\",\n",
    "    Director: \"Joss Whedon\",\n",
    "    Writer: \"Joss Whedon, Stan Lee (Marvel comics), Jack Kirby (Marvel comics)\",\n",
    "    Actors: \"Robert Downey Jr., Chris Hemsworth, Mark Ruffalo, Chris Evans\",\n",
    "    Plot: \"When Tony Stark and Bruce Banner try to jump-start a dormant peacekeeping program called Ultron, things go horribly wrong and it's up to Earth's Mightiest Heroes to stop the villainous Ultron from enacting his terrible plans.\",\n",
    "    Language: \"English\",\n",
    "    Country: \"USA\",\n",
    "    Awards: \"2 wins & 37 nominations.\",\n",
    "    Poster: \"http://ia.media-imdb.com/images/M/MV5BMTM4OGJmNWMtOTM4Ni00NTE3LTg3MDItZmQxYjc4N2JhNmUxXkEyXkFqcGdeQXVyNTgzMDMzMTg@._V1_SX300.jpg\",\n",
    "    Metascore: \"66\",\n",
    "    imdbRating: \"7.5\",\n",
    "    imdbVotes: \"420,714\",\n",
    "    imdbID: \"tt2395427\",\n",
    "    Type: \"movie\",\n",
    "    Response: \"True\"\n",
    "    }\n",
    "\n",
    "Notice what happened: we interrogated a url and we received json as an answer.\n",
    "\n",
    "2. Try submitting a couple more queries to familiarize with the API.\n",
    "- You can also query an API from the command line using the app `curl`. Try typing:\n",
    "\n",
    "    curl http://www.omdbapi.com/?t=whiplash&plot=short&r=json\n",
    "    \n",
    "you should see something like:\n",
    "    \n",
    "    {\"Title\":\"Whiplash\",\"Year\":\"2014\",\"Rated\":\"R\",\"Released\":\"15 Oct 2014\",\"Runtime\":\"107 min\",\"Genre\":\"Drama, Music\",\"Director\":\"Damien Chazelle\",\"Writer\":\"Damien Chazelle\",\"Actors\":\"Miles Teller, J.K. Simmons, Paul Reiser, Melissa Benoist\",\"Plot\":\"A promising young drummer enrolls at a cut-throat music conservatory where his dreams of greatness are mentored by an instructor who will stop at nothing to realize a student's potential.\",\"Language\":\"English\",\"Country\":\"USA\",\"Awards\":\"Won 3 Oscars. Another 84 wins & 125 nominations.\",\"Poster\":\"http://ia.media-imdb.com/images/M/MV5BMTU4OTQ3MDUyMV5BMl5BanBnXkFtZTgwOTA2MjU0MjE@._V1_SX300.jpg\",\"Metascore\":\"88\",\"imdbRating\":\"8.5\",\"imdbVotes\":\"368,942\",\"imdbID\":\"tt2582802\",\"Type\":\"movie\",\"Response\":\"True\"}\n",
    "    \n",
    "\n",
    "### Example 2: Google Geocode API\n",
    "\n",
    "Google offers a freely accessible API to query their GEO databases.\n",
    "\n",
    "Try pasting the following line in your browser:\n",
    "\n",
    "    https://maps.googleapis.com/maps/api/geocode/json?address=033+BELDEN+PL+San+Francisco+CA\n",
    "    \n",
    "you should see something like:\n",
    "\n",
    "    {\n",
    "    results: [\n",
    "    {\n",
    "    address_components: [\n",
    "    {\n",
    "    long_name: \"33\",\n",
    "    short_name: \"33\",\n",
    "    types: [\n",
    "    \"street_number\"\n",
    "    ]\n",
    "    },\n",
    "    {\n",
    "    long_name: \"Belden Place\",\n",
    "    short_name: \"Belden Pl\",\n",
    "    types: [\n",
    "    \"route\"\n",
    "    ]\n",
    "    },\n",
    "    {\n",
    "    long_name: \"Financial District\",\n",
    "    short_name: \"Financial District\",\n",
    "    types: [\n",
    "    \"neighborhood\",\n",
    "    \"political\"\n",
    "    ]\n",
    "    },\n",
    "    {\n",
    "    long_name: \"San Francisco\",\n",
    "    short_name: \"SF\",\n",
    "    types: [\n",
    "    \"locality\",\n",
    "    \"political\"\n",
    "    ]\n",
    "    },\n",
    "    {\n",
    "    long_name: \"San Francisco County\",\n",
    "    short_name: \"San Francisco County\",\n",
    "    types: [\n",
    "    \"administrative_area_level_2\",\n",
    "    \"political\"\n",
    "    ]\n",
    "    },\n",
    "    {\n",
    "    long_name: \"California\",\n",
    "    short_name: \"CA\",\n",
    "    types: [\n",
    "    \"administrative_area_level_1\",\n",
    "    \"political\"\n",
    "    ]\n",
    "    },\n",
    "    {\n",
    "    long_name: \"United States\",\n",
    "    short_name: \"US\",\n",
    "    types: [\n",
    "    \"country\",\n",
    "    \"political\"\n",
    "    ]\n",
    "    },\n",
    "    {\n",
    "    long_name: \"94104\",\n",
    "    short_name: \"94104\",\n",
    "    types: [\n",
    "    \"postal_code\"\n",
    "    ]\n",
    "    }\n",
    "    ],\n",
    "    formatted_address: \"33 Belden Pl, San Francisco, CA 94104, USA\",\n",
    "    geometry: {\n",
    "    bounds: {\n",
    "    northeast: {\n",
    "    lat: 37.7913528,\n",
    "    lng: -122.4038195\n",
    "    },\n",
    "    southwest: {\n",
    "    lat: 37.7913502,\n",
    "    lng: -122.4038379\n",
    "    }\n",
    "    },\n",
    "    location: {\n",
    "    lat: 37.7913502,\n",
    "    lng: -122.4038379\n",
    "    },\n",
    "    location_type: \"RANGE_INTERPOLATED\",\n",
    "    viewport: {\n",
    "    northeast: {\n",
    "    lat: 37.7927004802915,\n",
    "    lng: -122.4024797197085\n",
    "    },\n",
    "    southwest: {\n",
    "    lat: 37.7900025197085,\n",
    "    lng: -122.4051776802915\n",
    "    }\n",
    "    }\n",
    "    },\n",
    "    place_id: \"EiozMyBCZWxkZW4gUGwsIFNhbiBGcmFuY2lzY28sIENBIDk0MTA0LCBVU0E\",\n",
    "    types: [\n",
    "    \"street_address\"\n",
    "    ]\n",
    "    }\n",
    "    ],\n",
    "    status: \"OK\"\n",
    "    }\n",
    "\n",
    "We queried an address and got back a lot of JSON data stored in Google's databases for that address.\n",
    "\n",
    "\n",
    "### OAUTH\n",
    "\n",
    "Many APIs are not free to access. You first need to register as a developer and obtain an authorization key. In most cases, this is also accompanied by a temporary token that needs to be renewed after some time. This is a way to prevent abuse on the server's resources.\n",
    "\n",
    "You can read more about it here: http://oauth.net/2/\n"
   ]
  },
  {
   "cell_type": "markdown",
   "metadata": {
    "slideshow": {
     "slide_type": "slide"
    }
   },
   "source": [
    "<a name=\"ind-practice_2/\"></a>\n",
    "## Independent Practice: Python APIs (15 min)\n",
    "\n",
    "### Python APIs\n",
    "\n",
    "1. form pairs and do the following\n",
    "- go to http://www.pythonforbeginners.com/api/list-of-python-apis\n",
    "- choose either the Wikipedia or GeoPy API: what data you can get? (Neither of these should require API keys)\n",
    "- install python module, try to extract data\n",
    "- discuss: how could you leverage that api? how could you use the data?\n",
    "- if you have time, try accessing one of the APIs which require registration and authentication"
   ]
  },
  {
   "cell_type": "code",
   "execution_count": null,
   "metadata": {
    "ExecuteTime": {
     "end_time": "2016-10-25T15:07:38.342684",
     "start_time": "2016-10-25T19:07:07.862Z"
    },
    "collapsed": true
   },
   "outputs": [],
   "source": [
    "import geopy\n",
    "import wikipedia"
   ]
  },
  {
   "cell_type": "code",
   "execution_count": null,
   "metadata": {
    "ExecuteTime": {
     "end_time": "2016-10-25T15:07:38.343267",
     "start_time": "2016-10-25T19:07:07.865Z"
    },
    "collapsed": false
   },
   "outputs": [],
   "source": [
    "print wikipedia.summary(\"Wikipedia\")"
   ]
  },
  {
   "cell_type": "code",
   "execution_count": null,
   "metadata": {
    "ExecuteTime": {
     "end_time": "2016-10-25T15:07:38.343807",
     "start_time": "2016-10-25T19:07:07.867Z"
    },
    "collapsed": false
   },
   "outputs": [],
   "source": [
    "test = wikipedia.page(\"New York\")"
   ]
  },
  {
   "cell_type": "code",
   "execution_count": null,
   "metadata": {
    "ExecuteTime": {
     "end_time": "2016-10-25T15:07:38.344318",
     "start_time": "2016-10-25T19:07:07.874Z"
    },
    "collapsed": false
   },
   "outputs": [],
   "source": [
    "test.html()"
   ]
  },
  {
   "cell_type": "code",
   "execution_count": null,
   "metadata": {
    "ExecuteTime": {
     "end_time": "2016-10-25T15:07:38.344833",
     "start_time": "2016-10-25T19:07:07.878Z"
    },
    "collapsed": false
   },
   "outputs": [],
   "source": [
    ">>> from geopy.geocoders import Nominatim\n",
    ">>> geolocator = Nominatim()\n",
    ">>> location = geolocator.geocode(\"175 5th Avenue NYC\")\n",
    ">>> print(location.address)\n",
    "# Flatiron Building, 175, 5th Avenue, Flatiron, New York, NYC, New York, ...\n",
    ">>> print((location.latitude, location.longitude))\n",
    "# (40.7410861, -73.9896297241625)\n",
    ">>> print(location.raw)\n",
    "# {'place_id': '9167009604', 'type': 'attraction', ...}"
   ]
  },
  {
   "cell_type": "code",
   "execution_count": 3,
   "metadata": {
    "ExecuteTime": {
     "end_time": "2016-10-25T15:10:31.885891",
     "start_time": "2016-10-25T15:10:31.020343"
    },
    "collapsed": true
   },
   "outputs": [],
   "source": [
    ">>> import twitter\n",
    ">>> api = twitter.Api(consumer_key='isbH41qVfiP4hGAolaa8FrodB',\n",
    "                      consumer_secret='izIIMJpcLrNudIhANwC5NiAwMCtK0wtxLotjDkbTEJFX2ooeiB',\n",
    "                      access_token_key='3546434294-fAPQoZ3aTYyZAouLESOSf8OTsXIpOD0a5YE4BDE',\n",
    "                      access_token_secret='K7RNSX4NDGJEfh26mqYqpowQ54WZa6fyCfnyH4dSb9R7m')"
   ]
  },
  {
   "cell_type": "code",
   "execution_count": 4,
   "metadata": {
    "ExecuteTime": {
     "end_time": "2016-10-25T15:10:48.213087",
     "start_time": "2016-10-25T15:10:47.133903"
    },
    "collapsed": false
   },
   "outputs": [
    {
     "name": "stdout",
     "output_type": "stream",
     "text": [
      "{\"created_at\": \"Sun Sep 13 06:49:52 +0000 2015\", \"default_profile\": true, \"favourites_count\": 1, \"followers_count\": 8, \"friends_count\": 32, \"id\": 3546434294, \"lang\": \"en\", \"listed_count\": 3, \"name\": \"joce ong\", \"profile_background_color\": \"C0DEED\", \"profile_background_image_url\": \"http://abs.twimg.com/images/themes/theme1/bg.png\", \"profile_image_url\": \"http://pbs.twimg.com/profile_images/642954088775225346/fE8OQaXv_normal.jpg\", \"profile_link_color\": \"0084B4\", \"profile_sidebar_fill_color\": \"DDEEF6\", \"profile_text_color\": \"333333\", \"screen_name\": \"joce_ong\", \"status\": {\"created_at\": \"Tue Oct 25 14:00:25 +0000 2016\", \"hashtags\": [{\"text\": \"unreadable\"}, {\"text\": \"jupyter\"}, {\"text\": \"notebook\"}, {\"text\": \"github\"}, {\"text\": \"versioncontrol\"}], \"id\": 790915923574132736, \"id_str\": \"790915923574132736\", \"lang\": \"en\", \"source\": \"<a href=\\\"http://twitter.com/download/iphone\\\" rel=\\\"nofollow\\\">Twitter for iPhone</a>\", \"text\": \"Just had a terrible scare with an #unreadable #jupyter #notebook. Thank goodness for #github and #versioncontrol \\ud83d\\ude05\\ud83d\\ude01\\ud83e\\udd13\", \"urls\": [], \"user_mentions\": []}, \"statuses_count\": 40, \"time_zone\": \"Eastern Time (US & Canada)\", \"utc_offset\": -14400}\n"
     ]
    }
   ],
   "source": [
    ">>> print(api.VerifyCredentials())\n",
    "# {\"id\": 16133, \"location\": \"Philadelphia\", \"name\": \"bear\"}"
   ]
  },
  {
   "cell_type": "markdown",
   "metadata": {
    "slideshow": {
     "slide_type": "slide"
    }
   },
   "source": [
    "<a name=\"conclusion\"></a>\n",
    "## Conclusion (5 min)\n",
    "Today we learned about HTTP, APIs and JSON formats. They are very important for systematically accessing data from the web.\n",
    "\n",
    "**Check:** can you think of a few websites you would like to pull data from? Do they have an API available?"
   ]
  },
  {
   "cell_type": "markdown",
   "metadata": {},
   "source": [
    "### ADDITIONAL RESOURCES\n",
    "\n",
    "- [Blog post on json with pandas](https://www.dataquest.io/blog/using-json-data-in-pandas/)\n",
    "- [API article Wikipedia](https://en.wikipedia.org/wiki/Application_programming_interface)\n",
    "- [Programmable web](http://www.programmableweb.com/)"
   ]
  }
 ],
 "metadata": {
  "celltoolbar": "Slideshow",
  "kernelspec": {
   "display_name": "Python 2",
   "language": "python",
   "name": "python2"
  },
  "language_info": {
   "codemirror_mode": {
    "name": "ipython",
    "version": 2
   },
   "file_extension": ".py",
   "mimetype": "text/x-python",
   "name": "python",
   "nbconvert_exporter": "python",
   "pygments_lexer": "ipython2",
   "version": "2.7.12"
  }
 },
 "nbformat": 4,
 "nbformat_minor": 0
}
