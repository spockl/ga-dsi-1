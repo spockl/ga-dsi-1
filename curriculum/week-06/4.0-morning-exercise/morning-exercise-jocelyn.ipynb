{
 "cells": [
  {
   "cell_type": "markdown",
   "metadata": {},
   "source": [
    "- Take the Roman numerals from 1-1000. Here's a lookup table if you need a refresher.\n",
    "\n",
    "- Write a function to_roman() that converts an integer to its value as a Roman numeral.  \n",
    "- Write a function from_roman() that does the reverse: convert a string of Roman numerals to its integer value.\n",
    "- Submit each of your functions to Slack. Look at your classmates functions. See if you can find a way to break their code.\n",
    "- Your functions should be able to handle integers from 1-1000 and return out the appropriate errors if the input is out of range, or of the wrong type."
   ]
  },
  {
   "cell_type": "markdown",
   "metadata": {},
   "source": [
    "http://literacy.kent.edu/Minigrants/Cinci/romanchart.htm"
   ]
  },
  {
   "cell_type": "code",
   "execution_count": 1,
   "metadata": {
    "ExecuteTime": {
     "end_time": "2016-10-27T10:44:30.142098",
     "start_time": "2016-10-27T10:44:30.133550"
    },
    "collapsed": true
   },
   "outputs": [],
   "source": [
    "# Notes\n",
    "# I = 1\n",
    "# V = 5\n",
    "# X = 10\n",
    "# L = 50\n",
    "# C = 100\n",
    "# D = 500\n",
    "# M = 1000"
   ]
  },
  {
   "cell_type": "code",
   "execution_count": 2,
   "metadata": {
    "ExecuteTime": {
     "end_time": "2016-10-27T10:47:05.970118",
     "start_time": "2016-10-27T10:47:05.965616"
    },
    "collapsed": true
   },
   "outputs": [],
   "source": [
    "# Anything that is one unit before a V, X, C, D, M is that item-(the one before)"
   ]
  },
  {
   "cell_type": "code",
   "execution_count": null,
   "metadata": {
    "collapsed": true
   },
   "outputs": [],
   "source": [
    "main_numerals = [5, 10, 50, 100, 500, 1000]\n",
    "one_below = [4, 9, 40, 90, 400, 900]"
   ]
  },
  {
   "cell_type": "code",
   "execution_count": 264,
   "metadata": {
    "ExecuteTime": {
     "end_time": "2016-10-27T12:24:57.451858",
     "start_time": "2016-10-27T12:24:57.384250"
    },
    "collapsed": false
   },
   "outputs": [],
   "source": [
    "positions = ['one', 'ten', 'hundred', 'thousand']\n",
    "symbols = {'one': ['I', 'V', 'X'], 'ten': ['X', 'L', 'C'], 'hundred': ['C', 'D', 'M'], 'thousand': ['M']}\n",
    "\n",
    "def to_roman(num):\n",
    "    try:\n",
    "        num = int(num)\n",
    "        if num > 1000 or num < 1:\n",
    "            return \"Value out of range.\"\n",
    "        elif num == 1000:\n",
    "            return symbols['thousand'][0]\n",
    "        else:\n",
    "            num_list = list(str(num))\n",
    "            num_list = num_list[::-1]\n",
    "            sym_all = []\n",
    "            for i in range(len(num_list)):\n",
    "                symbol = symbols[positions[i]]\n",
    "                test = int(num_list[i])\n",
    "                if test < 4:\n",
    "                    sym = symbol[0] * test\n",
    "                elif test == 4:\n",
    "                    sym = ''.join(symbol)\n",
    "                elif test == 5:\n",
    "                    sym = symbol[1]\n",
    "                elif test < 9:\n",
    "                    sym = symbol[1] + symbol[0] * (test-5)\n",
    "                elif test == 9:\n",
    "                    sym = symbol[0]+symbol[2]\n",
    "                sym_all.insert(0,sym)\n",
    "            return ''.join(sym_all)\n",
    "            \n",
    "    except:\n",
    "        return \"Incorrect input format.\"\n",
    "\n",
    "roman = {}\n",
    "for i in range(1,1001):\n",
    "    roman[i] = to_roman(i)\n",
    "\n",
    "def from_roman(num):\n",
    "    try:\n",
    "        for k, v in roman.items():\n",
    "            if v == num:\n",
    "                return k\n",
    "            else:\n",
    "                return \"Incorrect input format.\"\n",
    "    except:\n",
    "        return \"Incorrect input format.\""
   ]
  },
  {
   "cell_type": "code",
   "execution_count": 265,
   "metadata": {
    "ExecuteTime": {
     "end_time": "2016-10-27T12:24:59.212184",
     "start_time": "2016-10-27T12:24:59.199193"
    },
    "collapsed": true
   },
   "outputs": [],
   "source": [
    "stuff = [(1000, 'M'), (900, 'CM'), (500, 'D'), (400, 'CD'), (100, 'C'), (90, 'XC'),\n",
    "         (50, 'L'), (40, 'XL'), (10, 'X'), (9, 'IX'), (5, 'V'), (4, 'IV'), (1, 'I')]\n",
    "\n",
    "\n",
    "def the_roman(num):\n",
    "   roman = ''\n",
    "\n",
    "   while num > 0:\n",
    "       for i, r in stuff:\n",
    "           while num >= i:\n",
    "               roman += r\n",
    "               num -= i\n",
    "\n",
    "   return roman\n"
   ]
  },
  {
   "cell_type": "code",
   "execution_count": 268,
   "metadata": {
    "ExecuteTime": {
     "end_time": "2016-10-27T12:27:48.021112",
     "start_time": "2016-10-27T12:27:48.013906"
    },
    "collapsed": false
   },
   "outputs": [
    {
     "data": {
      "text/plain": [
       "'MMMMMMMMMCMXCIX'"
      ]
     },
     "execution_count": 268,
     "metadata": {},
     "output_type": "execute_result"
    }
   ],
   "source": [
    "the_roman(9999)"
   ]
  },
  {
   "cell_type": "code",
   "execution_count": 267,
   "metadata": {
    "ExecuteTime": {
     "end_time": "2016-10-27T12:25:00.052217",
     "start_time": "2016-10-27T12:25:00.045597"
    },
    "collapsed": false
   },
   "outputs": [
    {
     "data": {
      "text/plain": [
       "'CLVI'"
      ]
     },
     "execution_count": 267,
     "metadata": {},
     "output_type": "execute_result"
    }
   ],
   "source": [
    "to_roman(156)"
   ]
  },
  {
   "cell_type": "code",
   "execution_count": 296,
   "metadata": {
    "ExecuteTime": {
     "end_time": "2016-10-27T12:33:39.979519",
     "start_time": "2016-10-27T12:33:39.866880"
    },
    "collapsed": true
   },
   "outputs": [],
   "source": [
    "numbers = [(1000, 'M'), (900, 'CM'), (500, 'D'), (400, 'CD'), (100, 'C'), (90, 'XC'),\n",
    "         (50, 'L'), (40, 'XL'), (10, 'X'), (9, 'IX'), (5, 'V'), (4, 'IV'), (1, 'I')]\n",
    "\n",
    "def to_roman2(num):\n",
    "    try:\n",
    "        out = ''\n",
    "        while num > 0:\n",
    "            for n,r in numbers:\n",
    "                while num >= n:\n",
    "                    out += r\n",
    "                    num -= n\n",
    "        if out == '':\n",
    "            return 'Invalid input, please try another number.'\n",
    "        else:\n",
    "            return out\n",
    "    except:\n",
    "        return 'Invalid input, please try another number.'\n",
    "    \n",
    "roman = {}\n",
    "for i in range(1,9999):\n",
    "    roman[i] = to_roman2(i)\n",
    "\n",
    "def from_roman2(num):\n",
    "    for k, v in roman.items():\n",
    "        if v == num.upper():\n",
    "            return k"
   ]
  },
  {
   "cell_type": "code",
   "execution_count": 297,
   "metadata": {
    "ExecuteTime": {
     "end_time": "2016-10-27T12:33:40.587746",
     "start_time": "2016-10-27T12:33:40.547119"
    },
    "collapsed": false
   },
   "outputs": [
    {
     "data": {
      "text/plain": [
       "5"
      ]
     },
     "execution_count": 297,
     "metadata": {},
     "output_type": "execute_result"
    }
   ],
   "source": [
    "from_roman2('V')"
   ]
  },
  {
   "cell_type": "code",
   "execution_count": null,
   "metadata": {
    "collapsed": true
   },
   "outputs": [],
   "source": []
  }
 ],
 "metadata": {
  "kernelspec": {
   "display_name": "Python 2",
   "language": "python",
   "name": "python2"
  },
  "language_info": {
   "codemirror_mode": {
    "name": "ipython",
    "version": 2
   },
   "file_extension": ".py",
   "mimetype": "text/x-python",
   "name": "python",
   "nbconvert_exporter": "python",
   "pygments_lexer": "ipython2",
   "version": "2.7.12"
  }
 },
 "nbformat": 4,
 "nbformat_minor": 0
}
