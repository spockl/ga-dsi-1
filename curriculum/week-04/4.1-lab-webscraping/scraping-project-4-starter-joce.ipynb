{
 "cells": [
  {
   "cell_type": "markdown",
   "metadata": {},
   "source": [
    "# ![](https://ga-dash.s3.amazonaws.com/production/assets/logo-9f88ae6c9c3871690e33280fcf557f33.png) Webscraping Project 4 Lab\n",
    "\n",
    "Week 4 | Day 4"
   ]
  },
  {
   "cell_type": "markdown",
   "metadata": {
    "focus": false,
    "id": "34681254-c802-462f-829d-8894d0772d08"
   },
   "source": [
    "In this project, we will practice two major skills: collecting data by scraping a website and then building a binary predictor with Logistic Regression.\n",
    "\n",
    "We are going to collect salary information on data science jobs in a variety of markets. Then using the location, title and summary of the job we will attempt to predict the salary of the job. For job posting sites, this would be extraordinarily useful. While most listings DO NOT come with salary information (as you will see in this exercise), being to able extrapolate or predict the expected salaries from other listings can help guide negotiations.\n",
    "\n",
    "Normally, we could use regression for this task; however, we will convert this problem into classification and use Logistic Regression.\n",
    "\n",
    "- Question: Why would we want this to be a classification problem?\n",
    "- Answer: While more precision may be better, there is a fair amount of natural variance in job salaries - predicting a range be may be useful.\n",
    "\n",
    "Therefore, the first part of the assignment will be focused on scraping Indeed.com (or other sites at your team's discretion). In the second part, the focus is on using listings with salary information to build a model and predict high or low salaries and what features are predictive of that result."
   ]
  },
  {
   "cell_type": "markdown",
   "metadata": {
    "focus": false,
    "id": "a948d79c-5527-4c0d-ab23-f5d43ce72056"
   },
   "source": [
    "### Scraping job listings from Indeed.com"
   ]
  },
  {
   "cell_type": "markdown",
   "metadata": {
    "focus": true,
    "id": "7203e0c9-e437-4802-a6ad-7dc464f94436"
   },
   "source": [
    "We will be scraping job listings from Indeed.com using BeautifulSoup. Luckily, Indeed.com is a simple text page where we can easily find relevant entries.\n",
    "\n",
    "First, look at the source of an Indeed.com page: (http://www.indeed.com/jobs?q=data+scientist+%2420%2C000&l=New+York&start=10\")\n",
    "\n",
    "Notice, each job listing is underneath a `div` tag with a class name of `result`. We can use BeautifulSoup to extract those. "
   ]
  },
  {
   "cell_type": "markdown",
   "metadata": {
    "focus": false,
    "id": "9732c901-ae26-4160-8376-42e22dd327df"
   },
   "source": [
    "#### Setup a request (using `requests`) to the URL below. Use BeautifulSoup to parse the page and extract all results (HINT: Look for div tags with class name result)"
   ]
  },
  {
   "cell_type": "code",
   "execution_count": 37,
   "metadata": {
    "ExecuteTime": {
     "end_time": "2016-10-14T10:47:04.869395",
     "start_time": "2016-10-14T10:47:04.865082"
    },
    "collapsed": false,
    "focus": false,
    "id": "e915023e-6b0d-4982-af2a-b1e0355f4927"
   },
   "outputs": [],
   "source": [
    "URL = \"http://www.indeed.com/jobs?q=data+scientist+%2420%2C000&l=New+York&start=10\""
   ]
  },
  {
   "cell_type": "code",
   "execution_count": 38,
   "metadata": {
    "ExecuteTime": {
     "end_time": "2016-10-14T10:47:05.798495",
     "start_time": "2016-10-14T10:47:05.792880"
    },
    "collapsed": false,
    "focus": false,
    "id": "2efefc73-064a-482d-b3b5-ddf5508cb4ec"
   },
   "outputs": [],
   "source": [
    "import requests\n",
    "import bs4\n",
    "from bs4 import BeautifulSoup\n",
    "from selenium import webdriver"
   ]
  },
  {
   "cell_type": "code",
   "execution_count": 39,
   "metadata": {
    "ExecuteTime": {
     "end_time": "2016-10-14T10:47:06.566483",
     "start_time": "2016-10-14T10:47:06.561942"
    },
    "collapsed": true
   },
   "outputs": [],
   "source": [
    "path_phantom = '//Applications/phantomjs'"
   ]
  },
  {
   "cell_type": "code",
   "execution_count": 40,
   "metadata": {
    "ExecuteTime": {
     "end_time": "2016-10-14T10:47:09.730124",
     "start_time": "2016-10-14T10:47:07.601072"
    },
    "collapsed": false,
    "focus": false,
    "id": "2c6752c4-7704-4c94-8bc0-6f13d2d0d570"
   },
   "outputs": [],
   "source": [
    "## YOUR CODE HERE\n",
    "driver = webdriver.PhantomJS(executable_path=path_phantom)"
   ]
  },
  {
   "cell_type": "code",
   "execution_count": 41,
   "metadata": {
    "ExecuteTime": {
     "end_time": "2016-10-14T10:47:11.690147",
     "start_time": "2016-10-14T10:47:10.825350"
    },
    "collapsed": true
   },
   "outputs": [],
   "source": [
    "driver.get(URL)"
   ]
  },
  {
   "cell_type": "code",
   "execution_count": 42,
   "metadata": {
    "ExecuteTime": {
     "end_time": "2016-10-14T10:47:12.245472",
     "start_time": "2016-10-14T10:47:12.130775"
    },
    "collapsed": false
   },
   "outputs": [],
   "source": [
    "soup = BeautifulSoup(driver.page_source, 'lxml')"
   ]
  },
  {
   "cell_type": "raw",
   "metadata": {
    "ExecuteTime": {
     "end_time": "2016-10-14T10:43:42.360870",
     "start_time": "2016-10-14T10:43:42.338146"
    }
   },
   "source": [
    "print soup.find('div', class_='result').prettify()"
   ]
  },
  {
   "cell_type": "markdown",
   "metadata": {
    "focus": false,
    "id": "bb0b866a-26a7-45e9-8084-5a0f90eb4b3e"
   },
   "source": [
    "Let's look at one result more closely. A single `result` looks like\n",
    "\n",
    "```\n",
    "<div class=\" row result\" data-jk=\"2480d203f7e97210\" data-tn-component=\"organicJob\" id=\"p_2480d203f7e97210\" itemscope=\"\" itemtype=\"http://schema.org/JobPosting\">\n",
    "<h2 class=\"jobtitle\" id=\"jl_2480d203f7e97210\">\n",
    "<a class=\"turnstileLink\" data-tn-element=\"jobTitle\" onmousedown=\"return rclk(this,jobmap[0],1);\" rel=\"nofollow\" target=\"_blank\" title=\"AVP/Quantitative Analyst\">AVP/Quantitative Analyst</a>\n",
    "</h2>\n",
    "<span class=\"company\" itemprop=\"hiringOrganization\" itemtype=\"http://schema.org/Organization\">\n",
    "<span itemprop=\"name\">\n",
    "<a href=\"/cmp/Alliancebernstein?from=SERP&amp;campaignid=serp-linkcompanyname&amp;fromjk=2480d203f7e97210&amp;jcid=b374f2a780e04789\" target=\"_blank\">\n",
    "    AllianceBernstein</a></span>\n",
    "</span>\n",
    "<tr>\n",
    "<td class=\"snip\">\n",
    "<nobr>$117,500 - $127,500 a year</nobr>\n",
    "<div>\n",
    "<span class=\"summary\" itemprop=\"description\">\n",
    "C onduct quantitative and statistical research as well as portfolio management for various investment portfolios. Collaborate with Quantitative Analysts and</span>\n",
    "</div>\n",
    "</div>\n",
    "</td>\n",
    "</tr>\n",
    "</table>\n",
    "</div>\n",
    "```\n",
    "\n",
    "While this has some more verbose elements removed, we can see that there is some structure to the above:\n",
    "- The salary is available in a `nobr` element inside of a `td` element with `class='snip`.\n",
    "- The title of a job is in a link with class set to `jobtitle` and a `data-tn-element=\"jobTitle`.  \n",
    "- The location is set in a `span` with `class='location'`. \n",
    "- The company is set in a `span` with `class='company'`. "
   ]
  },
  {
   "cell_type": "markdown",
   "metadata": {
    "focus": false,
    "id": "f1eddb90-4ba8-483c-a229-77e93aa53119"
   },
   "source": [
    "### Write 4 functions to extract each item: location, company, job, and salary.\n",
    "\n",
    "example: \n",
    "```python\n",
    "def extract_location_from_result(result):\n",
    "    return result.find ...\n",
    "```\n",
    "\n",
    "\n",
    "- Make sure these functions are robust and can handle cases where the data/field may not be available.\n",
    "- Test the functions on the results above\n",
    "- Include any other features you may want to use later (e.g. summary, #of reviews...)"
   ]
  },
  {
   "cell_type": "code",
   "execution_count": 99,
   "metadata": {
    "ExecuteTime": {
     "end_time": "2016-10-14T11:13:08.399448",
     "start_time": "2016-10-14T11:13:08.361657"
    },
    "collapsed": false,
    "focus": false,
    "id": "a1af53c9-9090-494f-b82e-cadb60a54909"
   },
   "outputs": [],
   "source": [
    "## YOUR CODE HERE\n",
    "def extract_location_from_result(result):\n",
    "    try:\n",
    "        location = result.find('span', class_='location').text.strip()\n",
    "    except:\n",
    "        location = ''\n",
    "    return location\n",
    "\n",
    "def extract_title_from_result(result):\n",
    "    try:\n",
    "        job_title = result.find('a', class_='jobtitle').text.strip('\\n')\n",
    "    except:\n",
    "        try:\n",
    "            job_title = result.find('h2', class_='jobtitle').text.strip('\\n')\n",
    "        except:\n",
    "            job_title = ''\n",
    "    return job_title\n",
    "\n",
    "def extract_summary_from_result(result):\n",
    "    try:\n",
    "        summary = result.find('span', class_='summary').text.strip()\n",
    "    except:\n",
    "        summary = ''\n",
    "    return summary\n",
    "\n",
    "def extract_company_from_result(result):\n",
    "    try:\n",
    "        company = result.find('span', class_='company').text.strip()\n",
    "    except:\n",
    "        company = ''\n",
    "    return company\n",
    "\n",
    "def extract_reviews_from_result(result):\n",
    "    try:\n",
    "        sub = result.find('span', class_='slNoUnderline').text.strip()\n",
    "        if 'review' in sub:\n",
    "            reviews = sub.split()[0]\n",
    "    except:\n",
    "        reviews = ''\n",
    "    return reviews\n",
    "\n",
    "def extract_salary_from_result(result):\n",
    "    try:\n",
    "        salary = result.find('td', class_='snip').find('nobr').text.strip()\n",
    "#         salary_text = salary_text.split()\n",
    "#         salary = float(salary_text[0].strip('$').replace(',',''))\n",
    "    except:\n",
    "        salary = ''\n",
    "    return salary\n",
    "\n",
    "def get_all_details(result):\n",
    "    return [extract_title_from_result(result),\\\n",
    "            extract_company_from_result(result),\\\n",
    "            extract_location_from_result(result),\\\n",
    "            extract_reviews_from_result(result),\\\n",
    "            extract_summary_from_result(result),\\\n",
    "            extract_salary_from_result(result)]"
   ]
  },
  {
   "cell_type": "raw",
   "metadata": {
    "ExecuteTime": {
     "end_time": "2016-10-14T10:51:32.598245",
     "start_time": "2016-10-14T10:51:32.387995"
    }
   },
   "source": [
    "data = []\n",
    "for i in soup.findAll('div', class_='result'):\n",
    "    print i.prettify()\n",
    "    print\n",
    "    data.append(get_all_details(i))"
   ]
  },
  {
   "cell_type": "code",
   "execution_count": 100,
   "metadata": {
    "ExecuteTime": {
     "end_time": "2016-10-14T11:13:10.675681",
     "start_time": "2016-10-14T11:13:10.671406"
    },
    "collapsed": true
   },
   "outputs": [],
   "source": [
    "import pandas as pd"
   ]
  },
  {
   "cell_type": "raw",
   "metadata": {
    "ExecuteTime": {
     "end_time": "2016-10-14T10:51:33.435290",
     "start_time": "2016-10-14T10:51:33.427727"
    }
   },
   "source": [
    "df = pd.DataFrame(data, columns=['title', 'company', 'location', 'reviews', 'summary', 'salary'])"
   ]
  },
  {
   "cell_type": "raw",
   "metadata": {
    "ExecuteTime": {
     "end_time": "2016-10-14T10:51:34.043739",
     "start_time": "2016-10-14T10:51:33.997211"
    }
   },
   "source": [
    "df"
   ]
  },
  {
   "cell_type": "markdown",
   "metadata": {
    "focus": false,
    "id": "34070e89-9521-4b45-90c8-57a6599aac68"
   },
   "source": [
    "Now, to scale up our scraping, we need to accumulate more results. We can do this by examining the URL above.\n",
    "\n",
    "- \"http://www.indeed.com/jobs?q=data+scientist+%2420%2C000&l=New+York&start=10\"\n",
    "\n",
    "There are two query parameters here we can alter to collect more results, the `l=New+York` and the `start=10`. The first controls the location of the results (so we can try a different city). The second controls where in the results to start and gives 10 results (thus, we can keep incrementing by 10 to go further in the list)."
   ]
  },
  {
   "cell_type": "markdown",
   "metadata": {
    "focus": false,
    "id": "e8beed7c-3e42-40c0-810f-5f67f8f885a0"
   },
   "source": [
    "### Complete the following code to collect results from multiple cities and starting points. \n",
    "- Indeed.com only has salary information for an estimated 20% of job postings. You may want to add other cities to the list below to gather more data. \n",
    "- Remember to convert your salary to U.S. Dollars to match the other cities if the currency is different"
   ]
  },
  {
   "cell_type": "code",
   "execution_count": 101,
   "metadata": {
    "ExecuteTime": {
     "end_time": "2016-10-14T11:14:37.416909",
     "start_time": "2016-10-14T11:13:12.175685"
    },
    "collapsed": false,
    "focus": false,
    "id": "04b0f9af-540e-402f-8292-81748707c676"
   },
   "outputs": [],
   "source": [
    "url_template = \"http://www.indeed.com/jobs?q=data+scientist+%2420%2C000&l={}&start={}\"\n",
    "max_results_per_city = 100\n",
    "\n",
    "results = []\n",
    "\n",
    "for city in set(['New+York', 'Chicago', 'San+Francisco', 'Austin', 'Atlanta']):\n",
    "    for start in range(0, max_results_per_city, 10):\n",
    "        # Grab the results from the request (as above)\n",
    "        full_url = url_template.format(city, start)\n",
    "        driver.get(full_url)\n",
    "        soup = BeautifulSoup(driver.page_source)\n",
    "        # Append to the full set of results\n",
    "        for item in soup.findAll('div', class_='result'):\n",
    "            results.append(get_all_details(item))\n",
    "#         pass"
   ]
  },
  {
   "cell_type": "markdown",
   "metadata": {
    "focus": false,
    "id": "20339c09-5032-4e27-91be-286e9b46cd13"
   },
   "source": [
    "#### Use the functions you wrote above to parse out the 4 fields - location, title, company and salary. Create a dataframe from the results with those 4 columns."
   ]
  },
  {
   "cell_type": "code",
   "execution_count": 102,
   "metadata": {
    "ExecuteTime": {
     "end_time": "2016-10-14T11:14:37.423500",
     "start_time": "2016-10-14T11:14:37.419294"
    },
    "collapsed": false,
    "focus": false,
    "id": "6e259594-1c52-436b-ab9e-527e071941c1"
   },
   "outputs": [],
   "source": [
    "## YOUR CODE HERE"
   ]
  },
  {
   "cell_type": "code",
   "execution_count": 103,
   "metadata": {
    "ExecuteTime": {
     "end_time": "2016-10-14T11:14:37.493809",
     "start_time": "2016-10-14T11:14:37.426206"
    },
    "collapsed": true
   },
   "outputs": [],
   "source": [
    "df = pd.DataFrame(results, columns=['title', 'company', 'location', 'reviews', 'summary', 'salary'])"
   ]
  },
  {
   "cell_type": "code",
   "execution_count": 104,
   "metadata": {
    "ExecuteTime": {
     "end_time": "2016-10-14T11:14:37.505502",
     "start_time": "2016-10-14T11:14:37.496924"
    },
    "collapsed": false
   },
   "outputs": [
    {
     "data": {
      "text/plain": [
       "(746, 6)"
      ]
     },
     "execution_count": 104,
     "metadata": {},
     "output_type": "execute_result"
    }
   ],
   "source": [
    "df.shape"
   ]
  },
  {
   "cell_type": "raw",
   "metadata": {
    "ExecuteTime": {
     "end_time": "2016-10-14T11:14:41.351543",
     "start_time": "2016-10-14T11:14:41.343572"
    }
   },
   "source": [
    "df.salary.unique()"
   ]
  },
  {
   "cell_type": "markdown",
   "metadata": {
    "focus": false,
    "id": "ff98ce64-78a7-441f-a675-63464e32c834"
   },
   "source": [
    "Lastly, we need to clean up salary data. \n",
    "1. Some of the salaries are not yearly but hourly, these will be useful to us for now\n",
    "2. The salaries are given as text and usually with ranges.\n",
    "\n",
    "#### Filter out the salaries that are not yearly (filter those that refer to hour)"
   ]
  },
  {
   "cell_type": "code",
   "execution_count": 106,
   "metadata": {
    "ExecuteTime": {
     "end_time": "2016-10-14T11:14:42.817811",
     "start_time": "2016-10-14T11:14:42.813757"
    },
    "collapsed": false,
    "focus": false,
    "id": "58533e57-f86b-494a-b841-e7b59c6229c6"
   },
   "outputs": [],
   "source": [
    "## YOUR CODE HERE"
   ]
  },
  {
   "cell_type": "code",
   "execution_count": 107,
   "metadata": {
    "ExecuteTime": {
     "end_time": "2016-10-14T11:14:43.103268",
     "start_time": "2016-10-14T11:14:43.096682"
    },
    "collapsed": true
   },
   "outputs": [],
   "source": [
    "df['hourly'] = df['salary'].map(lambda x: 1 if 'hour' in x else 0)"
   ]
  },
  {
   "cell_type": "code",
   "execution_count": 108,
   "metadata": {
    "ExecuteTime": {
     "end_time": "2016-10-14T11:14:43.587971",
     "start_time": "2016-10-14T11:14:43.581720"
    },
    "collapsed": true
   },
   "outputs": [],
   "source": [
    "df['monthly'] = df['salary'].map(lambda x: 1 if 'month' in x else 0)"
   ]
  },
  {
   "cell_type": "code",
   "execution_count": 109,
   "metadata": {
    "ExecuteTime": {
     "end_time": "2016-10-14T11:14:43.931801",
     "start_time": "2016-10-14T11:14:43.926757"
    },
    "collapsed": true
   },
   "outputs": [],
   "source": [
    "df['yearly'] = df['salary'].map(lambda x: 1 if 'year' in x else 0)"
   ]
  },
  {
   "cell_type": "code",
   "execution_count": 110,
   "metadata": {
    "ExecuteTime": {
     "end_time": "2016-10-14T11:14:44.721504",
     "start_time": "2016-10-14T11:14:44.687239"
    },
    "collapsed": false
   },
   "outputs": [
    {
     "data": {
      "text/html": [
       "<div>\n",
       "<table border=\"1\" class=\"dataframe\">\n",
       "  <thead>\n",
       "    <tr style=\"text-align: right;\">\n",
       "      <th></th>\n",
       "      <th>title</th>\n",
       "      <th>company</th>\n",
       "      <th>location</th>\n",
       "      <th>reviews</th>\n",
       "      <th>summary</th>\n",
       "      <th>salary</th>\n",
       "      <th>hourly</th>\n",
       "      <th>monthly</th>\n",
       "      <th>yearly</th>\n",
       "    </tr>\n",
       "  </thead>\n",
       "  <tbody>\n",
       "    <tr>\n",
       "      <th>712</th>\n",
       "      <td>Lead Data Scientist</td>\n",
       "      <td>Workbridge Associates</td>\n",
       "      <td>Chicago, IL 60603 (Loop area)</td>\n",
       "      <td>25</td>\n",
       "      <td>MS in Data Science/Computer Science or Related...</td>\n",
       "      <td>$90 an hour</td>\n",
       "      <td>1</td>\n",
       "      <td>0</td>\n",
       "      <td>0</td>\n",
       "    </tr>\n",
       "  </tbody>\n",
       "</table>\n",
       "</div>"
      ],
      "text/plain": [
       "                   title                company  \\\n",
       "712  Lead Data Scientist  Workbridge Associates   \n",
       "\n",
       "                          location reviews  \\\n",
       "712  Chicago, IL 60603 (Loop area)      25   \n",
       "\n",
       "                                               summary       salary  hourly  \\\n",
       "712  MS in Data Science/Computer Science or Related...  $90 an hour       1   \n",
       "\n",
       "     monthly  yearly  \n",
       "712        0       0  "
      ]
     },
     "execution_count": 110,
     "metadata": {},
     "output_type": "execute_result"
    }
   ],
   "source": [
    "df[df['hourly'] == 1]"
   ]
  },
  {
   "cell_type": "markdown",
   "metadata": {
    "focus": false,
    "id": "7d4bc860-b214-4f75-9cd0-b234830b1ec2"
   },
   "source": [
    "#### Write a function that takes a salary string and converts it to a number, averaging a salary range if necessary"
   ]
  },
  {
   "cell_type": "code",
   "execution_count": 111,
   "metadata": {
    "ExecuteTime": {
     "end_time": "2016-10-14T11:14:47.667235",
     "start_time": "2016-10-14T11:14:47.662837"
    },
    "collapsed": true
   },
   "outputs": [],
   "source": [
    "import numpy as np"
   ]
  },
  {
   "cell_type": "code",
   "execution_count": 112,
   "metadata": {
    "ExecuteTime": {
     "end_time": "2016-10-14T11:14:48.217832",
     "start_time": "2016-10-14T11:14:48.207075"
    },
    "collapsed": false,
    "focus": false,
    "id": "a0f701e0-80bd-40ba-9101-4535860c0968"
   },
   "outputs": [],
   "source": [
    "## YOUR CODE HERE\n",
    "def get_salary_amount(salary_string):\n",
    "    try:\n",
    "        sal_list = salary_string.split()\n",
    "        figures = [float(i.strip('$').replace(',','')) for i in sal_list if '$' in i]\n",
    "#         print figures\n",
    "        return (np.mean(figures))\n",
    "    except:\n",
    "        return np.nan"
   ]
  },
  {
   "cell_type": "code",
   "execution_count": 114,
   "metadata": {
    "ExecuteTime": {
     "end_time": "2016-10-14T11:14:58.640274",
     "start_time": "2016-10-14T11:14:58.632912"
    },
    "collapsed": false
   },
   "outputs": [
    {
     "data": {
      "text/plain": [
       "90.0"
      ]
     },
     "execution_count": 114,
     "metadata": {},
     "output_type": "execute_result"
    }
   ],
   "source": [
    "get_salary_amount(df.ix[712,'salary'])"
   ]
  },
  {
   "cell_type": "code",
   "execution_count": 115,
   "metadata": {
    "ExecuteTime": {
     "end_time": "2016-10-14T11:14:59.190381",
     "start_time": "2016-10-14T11:14:59.158417"
    },
    "collapsed": false
   },
   "outputs": [],
   "source": [
    "df['est_sal'] = df['salary'].map(get_salary_amount)"
   ]
  },
  {
   "cell_type": "code",
   "execution_count": 116,
   "metadata": {
    "ExecuteTime": {
     "end_time": "2016-10-14T11:15:00.363229",
     "start_time": "2016-10-14T11:15:00.324251"
    },
    "collapsed": false
   },
   "outputs": [
    {
     "data": {
      "text/html": [
       "<div>\n",
       "<table border=\"1\" class=\"dataframe\">\n",
       "  <thead>\n",
       "    <tr style=\"text-align: right;\">\n",
       "      <th></th>\n",
       "      <th>title</th>\n",
       "      <th>company</th>\n",
       "      <th>location</th>\n",
       "      <th>reviews</th>\n",
       "      <th>summary</th>\n",
       "      <th>salary</th>\n",
       "      <th>hourly</th>\n",
       "      <th>monthly</th>\n",
       "      <th>yearly</th>\n",
       "      <th>est_sal</th>\n",
       "    </tr>\n",
       "  </thead>\n",
       "  <tbody>\n",
       "    <tr>\n",
       "      <th>0</th>\n",
       "      <td>Staff Data Engineer - QE</td>\n",
       "      <td>Intuit</td>\n",
       "      <td>Mountain View, CA 94043</td>\n",
       "      <td>466</td>\n",
       "      <td>Work with Data Engineers, Product Managers and...</td>\n",
       "      <td></td>\n",
       "      <td>0</td>\n",
       "      <td>0</td>\n",
       "      <td>0</td>\n",
       "      <td>NaN</td>\n",
       "    </tr>\n",
       "    <tr>\n",
       "      <th>1</th>\n",
       "      <td>Data Scientist</td>\n",
       "      <td>C3 IoT</td>\n",
       "      <td>Redwood City, CA</td>\n",
       "      <td></td>\n",
       "      <td>In addition, you will help find the appropriat...</td>\n",
       "      <td></td>\n",
       "      <td>0</td>\n",
       "      <td>0</td>\n",
       "      <td>0</td>\n",
       "      <td>NaN</td>\n",
       "    </tr>\n",
       "    <tr>\n",
       "      <th>2</th>\n",
       "      <td>Research Scientist</td>\n",
       "      <td>Accenture</td>\n",
       "      <td>San Francisco, CA 94105</td>\n",
       "      <td>6,902</td>\n",
       "      <td>We’d love to discuss our Research Scientist op...</td>\n",
       "      <td></td>\n",
       "      <td>0</td>\n",
       "      <td>0</td>\n",
       "      <td>0</td>\n",
       "      <td>NaN</td>\n",
       "    </tr>\n",
       "    <tr>\n",
       "      <th>3</th>\n",
       "      <td>Machine Learning Deployment Engineer, Professi...</td>\n",
       "      <td>Google</td>\n",
       "      <td>San Francisco, CA</td>\n",
       "      <td>1,216</td>\n",
       "      <td>Experience interpreting technical data and cre...</td>\n",
       "      <td></td>\n",
       "      <td>0</td>\n",
       "      <td>0</td>\n",
       "      <td>0</td>\n",
       "      <td>NaN</td>\n",
       "    </tr>\n",
       "    <tr>\n",
       "      <th>4</th>\n",
       "      <td>Data Engineer</td>\n",
       "      <td>Opendoor</td>\n",
       "      <td>San Francisco, CA</td>\n",
       "      <td>2</td>\n",
       "      <td>Collaborate with Data Scientists to derive fea...</td>\n",
       "      <td></td>\n",
       "      <td>0</td>\n",
       "      <td>0</td>\n",
       "      <td>0</td>\n",
       "      <td>NaN</td>\n",
       "    </tr>\n",
       "  </tbody>\n",
       "</table>\n",
       "</div>"
      ],
      "text/plain": [
       "                                               title    company  \\\n",
       "0                           Staff Data Engineer - QE     Intuit   \n",
       "1                                     Data Scientist     C3 IoT   \n",
       "2                                 Research Scientist  Accenture   \n",
       "3  Machine Learning Deployment Engineer, Professi...     Google   \n",
       "4                                      Data Engineer   Opendoor   \n",
       "\n",
       "                  location reviews  \\\n",
       "0  Mountain View, CA 94043     466   \n",
       "1         Redwood City, CA           \n",
       "2  San Francisco, CA 94105   6,902   \n",
       "3        San Francisco, CA   1,216   \n",
       "4        San Francisco, CA       2   \n",
       "\n",
       "                                             summary salary  hourly  monthly  \\\n",
       "0  Work with Data Engineers, Product Managers and...              0        0   \n",
       "1  In addition, you will help find the appropriat...              0        0   \n",
       "2  We’d love to discuss our Research Scientist op...              0        0   \n",
       "3  Experience interpreting technical data and cre...              0        0   \n",
       "4  Collaborate with Data Scientists to derive fea...              0        0   \n",
       "\n",
       "   yearly  est_sal  \n",
       "0       0      NaN  \n",
       "1       0      NaN  \n",
       "2       0      NaN  \n",
       "3       0      NaN  \n",
       "4       0      NaN  "
      ]
     },
     "execution_count": 116,
     "metadata": {},
     "output_type": "execute_result"
    }
   ],
   "source": [
    "df.head()"
   ]
  },
  {
   "cell_type": "code",
   "execution_count": 117,
   "metadata": {
    "ExecuteTime": {
     "end_time": "2016-10-14T11:15:01.990783",
     "start_time": "2016-10-14T11:15:01.943468"
    },
    "collapsed": false
   },
   "outputs": [
    {
     "data": {
      "text/html": [
       "<div>\n",
       "<table border=\"1\" class=\"dataframe\">\n",
       "  <thead>\n",
       "    <tr style=\"text-align: right;\">\n",
       "      <th></th>\n",
       "      <th>hourly</th>\n",
       "      <th>monthly</th>\n",
       "      <th>yearly</th>\n",
       "      <th>est_sal</th>\n",
       "    </tr>\n",
       "  </thead>\n",
       "  <tbody>\n",
       "    <tr>\n",
       "      <th>count</th>\n",
       "      <td>746.000000</td>\n",
       "      <td>746.000000</td>\n",
       "      <td>746.000000</td>\n",
       "      <td>48.000000</td>\n",
       "    </tr>\n",
       "    <tr>\n",
       "      <th>mean</th>\n",
       "      <td>0.001340</td>\n",
       "      <td>0.018767</td>\n",
       "      <td>0.044236</td>\n",
       "      <td>85701.739583</td>\n",
       "    </tr>\n",
       "    <tr>\n",
       "      <th>std</th>\n",
       "      <td>0.036613</td>\n",
       "      <td>0.135791</td>\n",
       "      <td>0.205757</td>\n",
       "      <td>72831.896141</td>\n",
       "    </tr>\n",
       "    <tr>\n",
       "      <th>min</th>\n",
       "      <td>0.000000</td>\n",
       "      <td>0.000000</td>\n",
       "      <td>0.000000</td>\n",
       "      <td>90.000000</td>\n",
       "    </tr>\n",
       "    <tr>\n",
       "      <th>25%</th>\n",
       "      <td>0.000000</td>\n",
       "      <td>0.000000</td>\n",
       "      <td>0.000000</td>\n",
       "      <td>6062.500000</td>\n",
       "    </tr>\n",
       "    <tr>\n",
       "      <th>50%</th>\n",
       "      <td>0.000000</td>\n",
       "      <td>0.000000</td>\n",
       "      <td>0.000000</td>\n",
       "      <td>79255.250000</td>\n",
       "    </tr>\n",
       "    <tr>\n",
       "      <th>75%</th>\n",
       "      <td>0.000000</td>\n",
       "      <td>0.000000</td>\n",
       "      <td>0.000000</td>\n",
       "      <td>133125.000000</td>\n",
       "    </tr>\n",
       "    <tr>\n",
       "      <th>max</th>\n",
       "      <td>1.000000</td>\n",
       "      <td>1.000000</td>\n",
       "      <td>1.000000</td>\n",
       "      <td>250000.000000</td>\n",
       "    </tr>\n",
       "  </tbody>\n",
       "</table>\n",
       "</div>"
      ],
      "text/plain": [
       "           hourly     monthly      yearly        est_sal\n",
       "count  746.000000  746.000000  746.000000      48.000000\n",
       "mean     0.001340    0.018767    0.044236   85701.739583\n",
       "std      0.036613    0.135791    0.205757   72831.896141\n",
       "min      0.000000    0.000000    0.000000      90.000000\n",
       "25%      0.000000    0.000000    0.000000    6062.500000\n",
       "50%      0.000000    0.000000    0.000000   79255.250000\n",
       "75%      0.000000    0.000000    0.000000  133125.000000\n",
       "max      1.000000    1.000000    1.000000  250000.000000"
      ]
     },
     "execution_count": 117,
     "metadata": {},
     "output_type": "execute_result"
    }
   ],
   "source": [
    "df.describe()"
   ]
  },
  {
   "cell_type": "markdown",
   "metadata": {
    "collapsed": false,
    "focus": false,
    "id": "43e71edd-210e-42b1-9336-70a931f048af"
   },
   "source": [
    "### Save your results as a CSV"
   ]
  },
  {
   "cell_type": "code",
   "execution_count": 118,
   "metadata": {
    "ExecuteTime": {
     "end_time": "2016-10-14T11:15:04.418007",
     "start_time": "2016-10-14T11:15:04.413824"
    },
    "collapsed": false,
    "focus": false,
    "id": "783fd153-28ac-47ab-bfca-27e7c1de95b4"
   },
   "outputs": [],
   "source": [
    "## YOUR CODE HERE"
   ]
  },
  {
   "cell_type": "code",
   "execution_count": 119,
   "metadata": {
    "ExecuteTime": {
     "end_time": "2016-10-14T11:15:28.459896",
     "start_time": "2016-10-14T11:15:28.407570"
    },
    "collapsed": true
   },
   "outputs": [],
   "source": [
    "df2 = df.copy()\n",
    "df2 = df2.drop('salary', axis=1)"
   ]
  },
  {
   "cell_type": "code",
   "execution_count": 121,
   "metadata": {
    "ExecuteTime": {
     "end_time": "2016-10-14T11:16:06.665396",
     "start_time": "2016-10-14T11:16:06.598945"
    },
    "collapsed": false
   },
   "outputs": [],
   "source": [
    "df2.to_csv('indeed.csv', encoding='utf-8')"
   ]
  },
  {
   "cell_type": "code",
   "execution_count": 123,
   "metadata": {
    "ExecuteTime": {
     "end_time": "2016-10-14T11:23:27.105977",
     "start_time": "2016-10-14T11:23:24.000822"
    },
    "collapsed": true
   },
   "outputs": [],
   "source": [
    "import seaborn as sns\n",
    "import matplotlib.pyplot as plt\n",
    "%matplotlib inline"
   ]
  },
  {
   "cell_type": "code",
   "execution_count": 124,
   "metadata": {
    "ExecuteTime": {
     "end_time": "2016-10-14T11:24:51.705461",
     "start_time": "2016-10-14T11:24:50.541404"
    },
    "collapsed": false
   },
   "outputs": [
    {
     "data": {
      "text/plain": [
       "<matplotlib.axes._subplots.AxesSubplot at 0x115b69d50>"
      ]
     },
     "execution_count": 124,
     "metadata": {},
     "output_type": "execute_result"
    },
    {
     "data": {
      "image/png": "[encoded data removed]",
      "text/plain": [
       "<matplotlib.figure.Figure at 0x115b69490>"
      ]
     },
     "metadata": {},
     "output_type": "display_data"
    }
   ],
   "source": [
    "df2.est_sal.hist() "
   ]
  },
  {
   "cell_type": "code",
   "execution_count": null,
   "metadata": {
    "collapsed": true
   },
   "outputs": [],
   "source": []
  }
 ],
 "metadata": {
  "kernelspec": {
   "display_name": "Python 2",
   "language": "python",
   "name": "python2"
  },
  "language_info": {
   "codemirror_mode": {
    "name": "ipython",
    "version": 2
   },
   "file_extension": ".py",
   "mimetype": "text/x-python",
   "name": "python",
   "nbconvert_exporter": "python",
   "pygments_lexer": "ipython2",
   "version": "2.7.12"
  }
 },
 "nbformat": 4,
 "nbformat_minor": 0
}
