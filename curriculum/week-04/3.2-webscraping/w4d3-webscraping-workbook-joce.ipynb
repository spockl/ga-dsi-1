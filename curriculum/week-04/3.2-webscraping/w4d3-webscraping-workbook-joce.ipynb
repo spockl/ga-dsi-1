{
 "cells": [
  {
   "cell_type": "code",
   "execution_count": 1,
   "metadata": {
    "ExecuteTime": {
     "end_time": "2016-10-14T16:48:05.533687",
     "start_time": "2016-10-14T16:48:02.038826"
    },
    "collapsed": false,
    "slideshow": {
     "slide_type": "skip"
    }
   },
   "outputs": [],
   "source": [
    "import pandas as pd\n",
    "import numpy as np"
   ]
  },
  {
   "cell_type": "markdown",
   "metadata": {
    "slideshow": {
     "slide_type": "slide"
    }
   },
   "source": [
    "# ![](https://ga-dash.s3.amazonaws.com/production/assets/logo-9f88ae6c9c3871690e33280fcf557f33.png) Webscraping\n",
    "\n",
    "Week 4 | Day 4"
   ]
  },
  {
   "cell_type": "markdown",
   "metadata": {
    "slideshow": {
     "slide_type": "slide"
    }
   },
   "source": [
    "### LEARNING OBJECTIVES\n",
    "*After this lesson, you will be able to:*\n",
    "- Describe how web scraping works conceptually\n",
    "- Explain how to Web Scraping works using python\n",
    "- Define how to approach scraping project data"
   ]
  },
  {
   "cell_type": "markdown",
   "metadata": {
    "slideshow": {
     "slide_type": "slide"
    }
   },
   "source": [
    "# Webscraping"
   ]
  },
  {
   "cell_type": "markdown",
   "metadata": {
    "slideshow": {
     "slide_type": "-"
    }
   },
   "source": [
    "In data science work, it is often necessary to retrieve data from websites. Occassionally, sites will provide an API that allows their data to be easily accessed, but often this isn't the case. When an API is not available, the only real option is to build a webscraper. \n",
    "\n",
    "\n",
    "A webscraper retrieves the webpage in the same way your browser retrieves the page, but because we're doing it with code, we are able to parse the resulting site's content.\n",
    "\n",
    "\n",
    "**So how can we retrieve webpage content programmatically?**<br>\n",
    "The first step is to understand how HTTP works..."
   ]
  },
  {
   "cell_type": "markdown",
   "metadata": {
    "slideshow": {
     "slide_type": "slide"
    }
   },
   "source": [
    "## HTTP"
   ]
  },
  {
   "cell_type": "markdown",
   "metadata": {
    "slideshow": {
     "slide_type": "-"
    }
   },
   "source": [
    "Hypertext Transfer Protocol, or HTTP, is a text-based standard that allows clients and servers to communicate over TCP/IP. \n",
    "\n",
    "**HTTP  = the language computers communicate with**<br>\n",
    "**TCP/IP = the channel over which that communication takes place**\n",
    "\n",
    "HTTP is based on a client-server model. A client makes a request for some resource, and the server responds with the status of that request and the resource if available."
   ]
  },
  {
   "cell_type": "markdown",
   "metadata": {
    "slideshow": {
     "slide_type": "slide"
    }
   },
   "source": [
    "## HTTP Requests"
   ]
  },
  {
   "cell_type": "markdown",
   "metadata": {
    "slideshow": {
     "slide_type": "-"
    }
   },
   "source": [
    "There are two common types of HTTP requests: **GET and POST**"
   ]
  },
  {
   "cell_type": "markdown",
   "metadata": {
    "slideshow": {
     "slide_type": "slide"
    }
   },
   "source": [
    "### GET Requests"
   ]
  },
  {
   "cell_type": "markdown",
   "metadata": {
    "slideshow": {
     "slide_type": "-"
    }
   },
   "source": [
    "GET requests are by far the most common, they simply ask the server to retrieve some resource, typically a webpage, and to return it."
   ]
  },
  {
   "cell_type": "markdown",
   "metadata": {
    "collapsed": false,
    "slideshow": {
     "slide_type": "-"
    }
   },
   "source": [
    "<img src=\"http://i.imgur.com/qBG7jmB.png\" width=\"900\">"
   ]
  },
  {
   "cell_type": "markdown",
   "metadata": {
    "slideshow": {
     "slide_type": "slide"
    }
   },
   "source": [
    "### POST Requests"
   ]
  },
  {
   "cell_type": "markdown",
   "metadata": {
    "slideshow": {
     "slide_type": "-"
    }
   },
   "source": [
    "A POST request is nearly identical to a GET request, but includes a payload of some sort in the request body. "
   ]
  },
  {
   "cell_type": "markdown",
   "metadata": {
    "collapsed": false,
    "slideshow": {
     "slide_type": "-"
    }
   },
   "source": [
    "<img src=\"http://i.imgur.com/mzWB0wD.png\" width=900>"
   ]
  },
  {
   "cell_type": "markdown",
   "metadata": {
    "slideshow": {
     "slide_type": "slide"
    }
   },
   "source": [
    "## Typical Use Cases"
   ]
  },
  {
   "cell_type": "markdown",
   "metadata": {
    "slideshow": {
     "slide_type": "-"
    }
   },
   "source": [
    "GET requests are the standard way to request a webpage (as your browser would do). Some simple forms will use get as well. \n",
    "\n",
    "More sophisticated forms will utilize a POST request. GET requests pass parameters in the URL, while POST requests do not. This tends to make POST request more secure. \n",
    "\n",
    "N.B. Do not rely on POST alone as a security measure!"
   ]
  },
  {
   "cell_type": "markdown",
   "metadata": {
    "slideshow": {
     "slide_type": "slide"
    }
   },
   "source": [
    "## So once you make a request, naturally you expect a response...\n",
    "\n",
    "\n",
    "In the language of http, responses are provided first as a code"
   ]
  },
  {
   "cell_type": "markdown",
   "metadata": {
    "slideshow": {
     "slide_type": "slide"
    }
   },
   "source": [
    "## HTTP Response Codes"
   ]
  },
  {
   "cell_type": "markdown",
   "metadata": {
    "slideshow": {
     "slide_type": "-"
    }
   },
   "source": [
    "- 1XX - Informational\n",
    "- 2XX - Success\n",
    "- 3XX - Redirection\n",
    "- 4XX - Client Error\n",
    "- 5XX - Server Error"
   ]
  },
  {
   "cell_type": "markdown",
   "metadata": {
    "slideshow": {
     "slide_type": "slide"
    }
   },
   "source": [
    "### Response Codes - The Greatest Hits"
   ]
  },
  {
   "cell_type": "markdown",
   "metadata": {
    "slideshow": {
     "slide_type": "-"
    }
   },
   "source": [
    "- **200 - OK** - The requested action was successfully executed\n",
    "- **301 - Moved Permanently** - The resource has been relocated (and will not be back, so please stop asking me)\n",
    "- **400 - Bad Request** - The the client request is malformed in some way\n",
    "- **403 - Forbidden** - The requesting client (i.e. you) does not have permission to view the resource\n",
    "- **404 - Not Found** - The resource can't be found at the moment (may be in the future, so check back later)\n",
    "- **405 - Method Not Allowed** - Used GET when only POST was applicable for example\n",
    "- **418 - I'm a teapot** - For when the server is a teapot\n",
    "- **420 - NOT an HTTP code** - you're thinking of something else\n",
    "- **429 - Too Many Requests** - They're on to you and if you keep it up, they'll block you permenantly\n",
    "- **500 - Internal Server Error** -Some non-specific bad happened on their end\n",
    "- **502 - Bad Gateway** - The server was waiting on another resource and it ended badly\n",
    "- **503 - Service Unavailable** - The server is overloaded or down at the moment"
   ]
  },
  {
   "cell_type": "markdown",
   "metadata": {
    "slideshow": {
     "slide_type": "slide"
    }
   },
   "source": [
    "## So that is the basic language of the web, now how do we actually use this to get our content..."
   ]
  },
  {
   "cell_type": "markdown",
   "metadata": {
    "slideshow": {
     "slide_type": "slide"
    }
   },
   "source": [
    "## Python Requests"
   ]
  },
  {
   "cell_type": "markdown",
   "metadata": {
    "slideshow": {
     "slide_type": "-"
    }
   },
   "source": [
    "<img src=\"http://i.imgur.com/qpfNAPb.png\" width=\"900\">"
   ]
  },
  {
   "cell_type": "markdown",
   "metadata": {
    "slideshow": {
     "slide_type": "-"
    }
   },
   "source": [
    "Requests allows us to send the server a request using (POST or GET) and in return we receive our response code and content where applicable."
   ]
  },
  {
   "cell_type": "markdown",
   "metadata": {
    "slideshow": {
     "slide_type": "slide"
    }
   },
   "source": [
    "## First, we make a request to retrieve a website"
   ]
  },
  {
   "cell_type": "code",
   "execution_count": 2,
   "metadata": {
    "ExecuteTime": {
     "end_time": "2016-10-14T16:48:05.871647",
     "start_time": "2016-10-14T16:48:05.536560"
    },
    "collapsed": false,
    "slideshow": {
     "slide_type": "-"
    }
   },
   "outputs": [],
   "source": [
    "import requests"
   ]
  },
  {
   "cell_type": "code",
   "execution_count": 3,
   "metadata": {
    "ExecuteTime": {
     "end_time": "2016-10-14T16:48:07.163290",
     "start_time": "2016-10-14T16:48:05.874652"
    },
    "collapsed": false,
    "slideshow": {
     "slide_type": "-"
    }
   },
   "outputs": [],
   "source": [
    "r = requests.get('http://news.ycombinator.com')"
   ]
  },
  {
   "cell_type": "markdown",
   "metadata": {
    "slideshow": {
     "slide_type": "slide"
    }
   },
   "source": [
    "## We can check the response code"
   ]
  },
  {
   "cell_type": "code",
   "execution_count": 4,
   "metadata": {
    "ExecuteTime": {
     "end_time": "2016-10-14T16:48:07.198076",
     "start_time": "2016-10-14T16:48:07.166781"
    },
    "collapsed": false,
    "slideshow": {
     "slide_type": "-"
    }
   },
   "outputs": [
    {
     "data": {
      "text/plain": [
       "<Response [200]>"
      ]
     },
     "execution_count": 4,
     "metadata": {},
     "output_type": "execute_result"
    }
   ],
   "source": [
    "r"
   ]
  },
  {
   "cell_type": "markdown",
   "metadata": {
    "slideshow": {
     "slide_type": "-"
    }
   },
   "source": [
    "### Check: What is a 200? Is that good or bad for what we're trying to do?"
   ]
  },
  {
   "cell_type": "markdown",
   "metadata": {
    "slideshow": {
     "slide_type": "slide"
    }
   },
   "source": [
    "## Let's see the request headers we sent"
   ]
  },
  {
   "cell_type": "code",
   "execution_count": 5,
   "metadata": {
    "ExecuteTime": {
     "end_time": "2016-10-14T16:48:07.209117",
     "start_time": "2016-10-14T16:48:07.202188"
    },
    "collapsed": false,
    "slideshow": {
     "slide_type": "-"
    }
   },
   "outputs": [
    {
     "data": {
      "text/plain": [
       "{'Connection': 'keep-alive', 'Cookie': '__cfduid=d977afae7ce0ce5154d7f4912b8719a4b1476478086', 'Accept-Encoding': 'gzip, deflate', 'Accept': '*/*', 'User-Agent': 'python-requests/2.9.1'}"
      ]
     },
     "execution_count": 5,
     "metadata": {},
     "output_type": "execute_result"
    }
   ],
   "source": [
    "r.request.headers"
   ]
  },
  {
   "cell_type": "code",
   "execution_count": 6,
   "metadata": {
    "ExecuteTime": {
     "end_time": "2016-10-14T16:48:07.219906",
     "start_time": "2016-10-14T16:48:07.212226"
    },
    "collapsed": false,
    "slideshow": {
     "slide_type": "-"
    }
   },
   "outputs": [
    {
     "name": "stdout",
     "output_type": "stream",
     "text": [
      "Connection: keep-alive\n",
      "Cookie: __cfduid=d977afae7ce0ce5154d7f4912b8719a4b1476478086\n",
      "Accept-Encoding: gzip, deflate\n",
      "Accept: */*\n",
      "User-Agent: python-requests/2.9.1\n"
     ]
    }
   ],
   "source": [
    "# we can print those out nicely\n",
    "for k, v in r.request.headers.items():\n",
    "    print k + ':', v"
   ]
  },
  {
   "cell_type": "markdown",
   "metadata": {
    "slideshow": {
     "slide_type": "slide"
    }
   },
   "source": [
    "## We can also see the response headers"
   ]
  },
  {
   "cell_type": "code",
   "execution_count": 7,
   "metadata": {
    "ExecuteTime": {
     "end_time": "2016-10-14T16:48:07.231182",
     "start_time": "2016-10-14T16:48:07.223226"
    },
    "collapsed": false,
    "slideshow": {
     "slide_type": "-"
    }
   },
   "outputs": [
    {
     "data": {
      "text/plain": [
       "{'Content-Encoding': 'gzip', 'Transfer-Encoding': 'chunked', 'Strict-Transport-Security': 'max-age=31556900; includeSubDomains', 'Vary': 'Accept-Encoding', 'Server': 'cloudflare-nginx', 'Connection': 'keep-alive', 'Cache-Control': 'private, max-age=0', 'Date': 'Fri, 14 Oct 2016 20:48:06 GMT', 'X-Frame-Options': 'DENY', 'Content-Type': 'text/html; charset=utf-8', 'CF-RAY': '2f1de3eaabc621c2-EWR'}"
      ]
     },
     "execution_count": 7,
     "metadata": {},
     "output_type": "execute_result"
    }
   ],
   "source": [
    "r.headers"
   ]
  },
  {
   "cell_type": "code",
   "execution_count": 8,
   "metadata": {
    "ExecuteTime": {
     "end_time": "2016-10-14T16:48:07.242327",
     "start_time": "2016-10-14T16:48:07.234934"
    },
    "collapsed": false,
    "slideshow": {
     "slide_type": "-"
    }
   },
   "outputs": [
    {
     "name": "stdout",
     "output_type": "stream",
     "text": [
      "Content-Encoding: gzip\n",
      "Transfer-Encoding: chunked\n",
      "Strict-Transport-Security: max-age=31556900; includeSubDomains\n",
      "Vary: Accept-Encoding\n",
      "Server: cloudflare-nginx\n",
      "Connection: keep-alive\n",
      "Cache-Control: private, max-age=0\n",
      "Date: Fri, 14 Oct 2016 20:48:06 GMT\n",
      "X-Frame-Options: DENY\n",
      "Content-Type: text/html; charset=utf-8\n",
      "CF-RAY: 2f1de3eaabc621c2-EWR\n"
     ]
    }
   ],
   "source": [
    "for k, v in r.headers.items():\n",
    "    print k + ':', v "
   ]
  },
  {
   "cell_type": "markdown",
   "metadata": {
    "slideshow": {
     "slide_type": "slide"
    }
   },
   "source": [
    "## Let's see what content came back"
   ]
  },
  {
   "cell_type": "code",
   "execution_count": 9,
   "metadata": {
    "ExecuteTime": {
     "end_time": "2016-10-14T16:48:07.262339",
     "start_time": "2016-10-14T16:48:07.247422"
    },
    "collapsed": false,
    "scrolled": false,
    "slideshow": {
     "slide_type": "fragment"
    }
   },
   "outputs": [
    {
     "data": {
      "text/plain": [
       "'<html op=\"news\"><head><meta name=\"referrer\" content=\"origin\"><meta name=\"viewport\" content=\"width=device-width, initial-scale=1.0\"><link rel=\"stylesheet\" type=\"text/css\" href=\"news.css?0jKc9Keyn2Zl7D1UAQcy\">\\n        <link rel=\"shortcut icon\" href=\"favicon.ico\">\\n          <link rel=\"alternate\" type=\"application/rss+xml\" title=\"RSS\" href=\"rss\">\\n        <title>Hacker News</title>\\n      </head><body><center><table id=\"hnmain\" border=\"0\" cellpadding=\"0\" cellspacing=\"0\" width=\"85%\" bgcolor=\"#f6f6ef\">\\n        <tr><td bgcolor=\"#ff6600\"><table border=\"0\" cellpadding=\"0\" cellspacing=\"0\" width=\"100%\" style=\"padding:2px\"><tr><td style=\"width:18px;padding-right:4px\"><a href=\"http://www.ycombinator.com\"><img src=\"y18.gif\" width=\"18\" height=\"18\" style=\"border:1px white solid;\"></a></td>\\n                  <td style=\"line-height:12pt; height:10px;\"><span class=\"pagetop\"><b class=\"hnname\"><a href=\"news\">Hacker News</a></b>\\n              <a href=\"newest\">new</a> | <a href=\"newcomments\">comments</a> | <a href=\"show\">show</a> | <a href=\"ask\">ask</a> | <a href=\"jobs\">jobs</a> | <a href=\"submit\">submit</a>            </span></td><td style=\"text-align:right;padding-right:4px;\"><span class=\"pagetop\">\\n                              <a href=\"login?goto=news\">login</a>\\n                          </span></td>\\n              </tr></table></td></tr>\\n<tr style=\"height:10px\"></tr><tr><td><table border=\"0\" cellpadding=\"0\" cellspacing=\"0\" class=\"itemlist\">\\n              <tr class=\\'athing\\' id=\\'12707606\\'>\\n      <td align=\"right\" valign=\"top\" class=\"title\"><span class=\"rank\">1.</span></td>      <td valign=\"top\" class=\"votelinks\"><center><a id=\\'up_12707606\\' href=\\'vote?id=12707606&amp;how=up&amp;goto=news\\'><div class=\\'votearrow\\' title=\\'upvote\\'></div></a></center></td><td class=\"title\"><a href=\"https://www.briangilham.com/blog/2016/10/10/be-kind\" class=\"storylink\">Be Kind</a><span class=\"sitebit comhead\"> (<a href=\"from?site=briangilham.com\"><span class=\"sitestr\">briangilham.com</span></a>)</span></td></tr><tr><td colspan=\"2\"></td><td class=\"subtext\">\\n        <span class=\"score\" id=\"score_12707606\">1374 points</span> by <a href=\"user?id=bgilham\" class=\"hnuser\">bgilham</a> <span class=\"age\"><a href=\"item?id=12707606\">8 hours ago</a></span> <span id=\"unv_12707606\"></span> | <a href=\"hide?id=12707606&amp;goto=news\">hide</a> | <a href=\"item?id=12707606\">303&nbsp;comments</a>              </td></tr>\\n      <tr class=\"spacer\" style=\"height:5px\"></tr>\\n                <tr class=\\'athing\\' id=\\'12709220\\'>\\n      <td align=\"right\" valign=\"top\" class=\"title\"><span class=\"rank\">2.</span></td>      <td valign=\"top\" class=\"votelinks\"><center><a id=\\'up_12709220\\' href=\\'vote?id=12709220&amp;how=up&amp;goto=news\\'><div class=\\'votearrow\\' title=\\'upvote\\'></div></a></center></td><td class=\"title\"><a href=\"http://lemire.me/blog/2016/10/14/intel-will-add-deep-learning-instructions-to-its-processors/\" class=\"storylink\">Intel will add deep-learning instructions to its processors</a><span class=\"sitebit comhead\"> (<a href=\"from?site=lemire.me\"><span class=\"sitestr\">lemire.me</span></a>)</span></td></tr><tr><td colspan=\"2\"></td><td class=\"subtext\">\\n        <span class=\"score\" id=\"score_12709220\">171 points</span> by <a href=\"user?id=ingve\" class=\"hnuser\">ingve</a> <span class=\"age\"><a href=\"item?id=12709220\">4 hours ago</a></span> <span id=\"unv_12709220\"></span> | <a href=\"hide?id=12709220&amp;goto=news\">hide</a> | <a href=\"item?id=12709220\">77&nbsp;comments</a>              </td></tr>\\n      <tr class=\"spacer\" style=\"height:5px\"></tr>\\n                <tr class=\\'athing\\' id=\\'12710756\\'>\\n      <td align=\"right\" valign=\"top\" class=\"title\"><span class=\"rank\">3.</span></td>      <td valign=\"top\" class=\"votelinks\"><center><a id=\\'up_12710756\\' href=\\'vote?id=12710756&amp;how=up&amp;goto=news\\'><div class=\\'votearrow\\' title=\\'upvote\\'></div></a></center></td><td class=\"title\"><a href=\"http://www.nybooks.com/daily/2016/10/14/kansas-city-librarian-arrest-for-defending-free-speech/\" class=\"storylink\">When Librarians Are Silenced</a><span class=\"sitebit comhead\"> (<a href=\"from?site=nybooks.com\"><span class=\"sitestr\">nybooks.com</span></a>)</span></td></tr><tr><td colspan=\"2\"></td><td class=\"subtext\">\\n        <span class=\"score\" id=\"score_12710756\">12 points</span> by <a href=\"user?id=todayiamme\" class=\"hnuser\">todayiamme</a> <span class=\"age\"><a href=\"item?id=12710756\">31 minutes ago</a></span> <span id=\"unv_12710756\"></span> | <a href=\"hide?id=12710756&amp;goto=news\">hide</a> | <a href=\"item?id=12710756\">1&nbsp;comment</a>              </td></tr>\\n      <tr class=\"spacer\" style=\"height:5px\"></tr>\\n                <tr class=\\'athing\\' id=\\'12708576\\'>\\n      <td align=\"right\" valign=\"top\" class=\"title\"><span class=\"rank\">4.</span></td>      <td valign=\"top\" class=\"votelinks\"><center><a id=\\'up_12708576\\' href=\\'vote?id=12708576&amp;how=up&amp;goto=news\\'><div class=\\'votearrow\\' title=\\'upvote\\'></div></a></center></td><td class=\"title\"><a href=\"http://www.bloomberg.com/news/articles/2016-10-13/hyperloop-one-raises-50-million-hires-former-uber-cfo\" class=\"storylink\">Hyperloop One Raises $50M, Hires Former Uber CFO</a><span class=\"sitebit comhead\"> (<a href=\"from?site=bloomberg.com\"><span class=\"sitestr\">bloomberg.com</span></a>)</span></td></tr><tr><td colspan=\"2\"></td><td class=\"subtext\">\\n        <span class=\"score\" id=\"score_12708576\">146 points</span> by <a href=\"user?id=jonbaer\" class=\"hnuser\">jonbaer</a> <span class=\"age\"><a href=\"item?id=12708576\">5 hours ago</a></span> <span id=\"unv_12708576\"></span> | <a href=\"hide?id=12708576&amp;goto=news\">hide</a> | <a href=\"item?id=12708576\">121&nbsp;comments</a>              </td></tr>\\n      <tr class=\"spacer\" style=\"height:5px\"></tr>\\n                <tr class=\\'athing\\' id=\\'12709802\\'>\\n      <td align=\"right\" valign=\"top\" class=\"title\"><span class=\"rank\">5.</span></td>      <td valign=\"top\" class=\"votelinks\"><center><a id=\\'up_12709802\\' href=\\'vote?id=12709802&amp;how=up&amp;goto=news\\'><div class=\\'votearrow\\' title=\\'upvote\\'></div></a></center></td><td class=\"title\"><a href=\"http://web.archive.org/web/19991022233047/www.itvc.com/Technology/4os.htm\" class=\"storylink\">4os \\xe2\\x80\\x93 An operating system written completely in Forth</a><span class=\"sitebit comhead\"> (<a href=\"from?site=archive.org\"><span class=\"sitestr\">archive.org</span></a>)</span></td></tr><tr><td colspan=\"2\"></td><td class=\"subtext\">\\n        <span class=\"score\" id=\"score_12709802\">64 points</span> by <a href=\"user?id=zeveb\" class=\"hnuser\">zeveb</a> <span class=\"age\"><a href=\"item?id=12709802\">3 hours ago</a></span> <span id=\"unv_12709802\"></span> | <a href=\"hide?id=12709802&amp;goto=news\">hide</a> | <a href=\"item?id=12709802\">20&nbsp;comments</a>              </td></tr>\\n      <tr class=\"spacer\" style=\"height:5px\"></tr>\\n                <tr class=\\'athing\\' id=\\'12710560\\'>\\n      <td align=\"right\" valign=\"top\" class=\"title\"><span class=\"rank\">6.</span></td>      <td valign=\"top\" class=\"votelinks\"><center><a id=\\'up_12710560\\' href=\\'vote?id=12710560&amp;how=up&amp;goto=news\\'><div class=\\'votearrow\\' title=\\'upvote\\'></div></a></center></td><td class=\"title\"><a href=\"http://www.bloomberg.com/news/articles/2016-10-14/theranos-faces-growing-number-of-lawsuits-over-blood-tests\" class=\"storylink\">Theranos Faces Growing Number of Lawsuits Over Blood Tests</a><span class=\"sitebit comhead\"> (<a href=\"from?site=bloomberg.com\"><span class=\"sitestr\">bloomberg.com</span></a>)</span></td></tr><tr><td colspan=\"2\"></td><td class=\"subtext\">\\n        <span class=\"score\" id=\"score_12710560\">22 points</span> by <a href=\"user?id=ucha\" class=\"hnuser\">ucha</a> <span class=\"age\"><a href=\"item?id=12710560\">1 hour ago</a></span> <span id=\"unv_12710560\"></span> | <a href=\"hide?id=12710560&amp;goto=news\">hide</a> | <a href=\"item?id=12710560\">3&nbsp;comments</a>              </td></tr>\\n      <tr class=\"spacer\" style=\"height:5px\"></tr>\\n                <tr class=\\'athing\\' id=\\'12710698\\'>\\n      <td align=\"right\" valign=\"top\" class=\"title\"><span class=\"rank\">7.</span></td>      <td valign=\"top\" class=\"votelinks\"><center><a id=\\'up_12710698\\' href=\\'vote?id=12710698&amp;how=up&amp;goto=news\\'><div class=\\'votearrow\\' title=\\'upvote\\'></div></a></center></td><td class=\"title\"><a href=\"http://www.nytimes.com/2016/10/14/opinion/the-man-blocking-peace-in-colombia.html?_r=0\" class=\"storylink\">The Man Blocking Peace in Colombia</a><span class=\"sitebit comhead\"> (<a href=\"from?site=nytimes.com\"><span class=\"sitestr\">nytimes.com</span></a>)</span></td></tr><tr><td colspan=\"2\"></td><td class=\"subtext\">\\n        <span class=\"score\" id=\"score_12710698\">11 points</span> by <a href=\"user?id=santiagogo\" class=\"hnuser\">santiagogo</a> <span class=\"age\"><a href=\"item?id=12710698\">40 minutes ago</a></span> <span id=\"unv_12710698\"></span> | <a href=\"hide?id=12710698&amp;goto=news\">hide</a> | <a href=\"item?id=12710698\">1&nbsp;comment</a>              </td></tr>\\n      <tr class=\"spacer\" style=\"height:5px\"></tr>\\n                <tr class=\\'athing\\' id=\\'12709820\\'>\\n      <td align=\"right\" valign=\"top\" class=\"title\"><span class=\"rank\">8.</span></td>      <td valign=\"top\" class=\"votelinks\"><center><a id=\\'up_12709820\\' href=\\'vote?id=12709820&amp;how=up&amp;goto=news\\'><div class=\\'votearrow\\' title=\\'upvote\\'></div></a></center></td><td class=\"title\"><a href=\"http://www.ec2instances.info/\" class=\"storylink\">Easy Amazon EC2 Instance Comparison</a><span class=\"sitebit comhead\"> (<a href=\"from?site=ec2instances.info\"><span class=\"sitestr\">ec2instances.info</span></a>)</span></td></tr><tr><td colspan=\"2\"></td><td class=\"subtext\">\\n        <span class=\"score\" id=\"score_12709820\">49 points</span> by <a href=\"user?id=obi1kenobi\" class=\"hnuser\">obi1kenobi</a> <span class=\"age\"><a href=\"item?id=12709820\">2 hours ago</a></span> <span id=\"unv_12709820\"></span> | <a href=\"hide?id=12709820&amp;goto=news\">hide</a> | <a href=\"item?id=12709820\">7&nbsp;comments</a>              </td></tr>\\n      <tr class=\"spacer\" style=\"height:5px\"></tr>\\n                <tr class=\\'athing\\' id=\\'12708689\\'>\\n      <td align=\"right\" valign=\"top\" class=\"title\"><span class=\"rank\">9.</span></td>      <td valign=\"top\" class=\"votelinks\"><center><a id=\\'up_12708689\\' href=\\'vote?id=12708689&amp;how=up&amp;goto=news\\'><div class=\\'votearrow\\' title=\\'upvote\\'></div></a></center></td><td class=\"title\"><a href=\"http://www.allaboutcircuits.com/news/end-of-mosfets-carbon-nanotubes-finally-outperform-silicon-in-transistors/\" class=\"storylink\">Carbon Nanotubes Finally Outperform Silicon in Transistors</a><span class=\"sitebit comhead\"> (<a href=\"from?site=allaboutcircuits.com\"><span class=\"sitestr\">allaboutcircuits.com</span></a>)</span></td></tr><tr><td colspan=\"2\"></td><td class=\"subtext\">\\n        <span class=\"score\" id=\"score_12708689\">84 points</span> by <a href=\"user?id=xd\" class=\"hnuser\">xd</a> <span class=\"age\"><a href=\"item?id=12708689\">5 hours ago</a></span> <span id=\"unv_12708689\"></span> | <a href=\"hide?id=12708689&amp;goto=news\">hide</a> | <a href=\"item?id=12708689\">18&nbsp;comments</a>              </td></tr>\\n      <tr class=\"spacer\" style=\"height:5px\"></tr>\\n                <tr class=\\'athing\\' id=\\'12705137\\'>\\n      <td align=\"right\" valign=\"top\" class=\"title\"><span class=\"rank\">10.</span></td>      <td valign=\"top\" class=\"votelinks\"><center><a id=\\'up_12705137\\' href=\\'vote?id=12705137&amp;how=up&amp;goto=news\\'><div class=\\'votearrow\\' title=\\'upvote\\'></div></a></center></td><td class=\"title\"><a href=\"http://www.npr.org/sections/alltechconsidered/2016/10/13/497820170/the-man-who-stood-up-to-facebook\" class=\"storylink\">A Man Who Stood Up To Facebook</a><span class=\"sitebit comhead\"> (<a href=\"from?site=npr.org\"><span class=\"sitestr\">npr.org</span></a>)</span></td></tr><tr><td colspan=\"2\"></td><td class=\"subtext\">\\n        <span class=\"score\" id=\"score_12705137\">281 points</span> by <a href=\"user?id=krissara\" class=\"hnuser\">krissara</a> <span class=\"age\"><a href=\"item?id=12705137\">9 hours ago</a></span> <span id=\"unv_12705137\"></span> | <a href=\"hide?id=12705137&amp;goto=news\">hide</a> | <a href=\"item?id=12705137\">68&nbsp;comments</a>              </td></tr>\\n      <tr class=\"spacer\" style=\"height:5px\"></tr>\\n                <tr class=\\'athing\\' id=\\'12708280\\'>\\n      <td align=\"right\" valign=\"top\" class=\"title\"><span class=\"rank\">11.</span></td>      <td valign=\"top\" class=\"votelinks\"><center><a id=\\'up_12708280\\' href=\\'vote?id=12708280&amp;how=up&amp;goto=news\\'><div class=\\'votearrow\\' title=\\'upvote\\'></div></a></center></td><td class=\"title\"><a href=\"http://www.anandtech.com/show/10759/opencapi-unveiled-amd-ibm-google-more\" class=\"storylink\">OpenCAPI Unveiled: AMD, IBM, Google, Xilinx, Micron and Mellanox Join Forces</a><span class=\"sitebit comhead\"> (<a href=\"from?site=anandtech.com\"><span class=\"sitestr\">anandtech.com</span></a>)</span></td></tr><tr><td colspan=\"2\"></td><td class=\"subtext\">\\n        <span class=\"score\" id=\"score_12708280\">76 points</span> by <a href=\"user?id=ajdlinux\" class=\"hnuser\">ajdlinux</a> <span class=\"age\"><a href=\"item?id=12708280\">6 hours ago</a></span> <span id=\"unv_12708280\"></span> | <a href=\"hide?id=12708280&amp;goto=news\">hide</a> | <a href=\"item?id=12708280\">42&nbsp;comments</a>              </td></tr>\\n      <tr class=\"spacer\" style=\"height:5px\"></tr>\\n                <tr class=\\'athing\\' id=\\'12707411\\'>\\n      <td align=\"right\" valign=\"top\" class=\"title\"><span class=\"rank\">12.</span></td>      <td valign=\"top\" class=\"votelinks\"><center><a id=\\'up_12707411\\' href=\\'vote?id=12707411&amp;how=up&amp;goto=news\\'><div class=\\'votearrow\\' title=\\'upvote\\'></div></a></center></td><td class=\"title\"><a href=\"http://med.stanford.edu/news/all-news/2016/10/common-prostate-cancer-treatment-linked-to-later-dementia.html\" class=\"storylink\">Common prostate cancer treatment linked to later dementia, researcher says</a><span class=\"sitebit comhead\"> (<a href=\"from?site=stanford.edu\"><span class=\"sitestr\">stanford.edu</span></a>)</span></td></tr><tr><td colspan=\"2\"></td><td class=\"subtext\">\\n        <span class=\"score\" id=\"score_12707411\">137 points</span> by <a href=\"user?id=CapitalistCartr\" class=\"hnuser\">CapitalistCartr</a> <span class=\"age\"><a href=\"item?id=12707411\">9 hours ago</a></span> <span id=\"unv_12707411\"></span> | <a href=\"hide?id=12707411&amp;goto=news\">hide</a> | <a href=\"item?id=12707411\">44&nbsp;comments</a>              </td></tr>\\n      <tr class=\"spacer\" style=\"height:5px\"></tr>\\n                <tr class=\\'athing\\' id=\\'12710888\\'>\\n      <td align=\"right\" valign=\"top\" class=\"title\"><span class=\"rank\">13.</span></td>      <td valign=\"top\" class=\"votelinks\"><center><a id=\\'up_12710888\\' href=\\'vote?id=12710888&amp;how=up&amp;goto=news\\'><div class=\\'votearrow\\' title=\\'upvote\\'></div></a></center></td><td class=\"title\"><a href=\"https://www.nobelprize.org/nobel_prizes/medicine/laureates/2016/advanced-medicineprize2016.pdf\" class=\"storylink\" rel=\"nofollow\">Scientific Background \\xe2\\x80\\x93 Discoveries of Mechanisms for Autophagy [pdf]</a><span class=\"sitebit comhead\"> (<a href=\"from?site=nobelprize.org\"><span class=\"sitestr\">nobelprize.org</span></a>)</span></td></tr><tr><td colspan=\"2\"></td><td class=\"subtext\">\\n        <span class=\"score\" id=\"score_12710888\">3 points</span> by <a href=\"user?id=hariis\" class=\"hnuser\">hariis</a> <span class=\"age\"><a href=\"item?id=12710888\">12 minutes ago</a></span> <span id=\"unv_12710888\"></span> | <a href=\"hide?id=12710888&amp;goto=news\">hide</a> | <a href=\"item?id=12710888\">discuss</a>              </td></tr>\\n      <tr class=\"spacer\" style=\"height:5px\"></tr>\\n                <tr class=\\'athing\\' id=\\'12710546\\'>\\n      <td align=\"right\" valign=\"top\" class=\"title\"><span class=\"rank\">14.</span></td>      <td></td><td class=\"title\"><a href=\"https://jobs.lever.co/bitnami/29d26810-26b2-4af2-a014-7f720d8cc9aa?lever-via=h0xac23hV9\" class=\"storylink\" rel=\"nofollow\">Love cloud and containers? Bitnami is hiring SREs (SF / Remote)</a><span class=\"sitebit comhead\"> (<a href=\"from?site=lever.co\"><span class=\"sitestr\">lever.co</span></a>)</span></td></tr><tr><td colspan=\"2\"></td><td class=\"subtext\">\\n        <span class=\"age\"><a href=\"item?id=12710546\">1 hour ago</a></span> | <a href=\"hide?id=12710546&amp;goto=news\">hide</a>      </td></tr>\\n      <tr class=\"spacer\" style=\"height:5px\"></tr>\\n                <tr class=\\'athing\\' id=\\'12707973\\'>\\n      <td align=\"right\" valign=\"top\" class=\"title\"><span class=\"rank\">15.</span></td>      <td valign=\"top\" class=\"votelinks\"><center><a id=\\'up_12707973\\' href=\\'vote?id=12707973&amp;how=up&amp;goto=news\\'><div class=\\'votearrow\\' title=\\'upvote\\'></div></a></center></td><td class=\"title\"><a href=\"https://github.com/antirez/redis/commit/c7a4e694ad3689d934897b0d2c37144d7b2d0b97\" class=\"storylink\">SWAPDB Redis command</a><span class=\"sitebit comhead\"> (<a href=\"from?site=github.com\"><span class=\"sitestr\">github.com</span></a>)</span></td></tr><tr><td colspan=\"2\"></td><td class=\"subtext\">\\n        <span class=\"score\" id=\"score_12707973\">88 points</span> by <a href=\"user?id=openmaze\" class=\"hnuser\">openmaze</a> <span class=\"age\"><a href=\"item?id=12707973\">7 hours ago</a></span> <span id=\"unv_12707973\"></span> | <a href=\"hide?id=12707973&amp;goto=news\">hide</a> | <a href=\"item?id=12707973\">15&nbsp;comments</a>              </td></tr>\\n      <tr class=\"spacer\" style=\"height:5px\"></tr>\\n                <tr class=\\'athing\\' id=\\'12706531\\'>\\n      <td align=\"right\" valign=\"top\" class=\"title\"><span class=\"rank\">16.</span></td>      <td valign=\"top\" class=\"votelinks\"><center><a id=\\'up_12706531\\' href=\\'vote?id=12706531&amp;how=up&amp;goto=news\\'><div class=\\'votearrow\\' title=\\'upvote\\'></div></a></center></td><td class=\"title\"><a href=\"http://www.heliocastro.info/?p=291\" class=\"storylink\">KDE Project releases KDE 1</a><span class=\"sitebit comhead\"> (<a href=\"from?site=heliocastro.info\"><span class=\"sitestr\">heliocastro.info</span></a>)</span></td></tr><tr><td colspan=\"2\"></td><td class=\"subtext\">\\n        <span class=\"score\" id=\"score_12706531\">253 points</span> by <a href=\"user?id=oever\" class=\"hnuser\">oever</a> <span class=\"age\"><a href=\"item?id=12706531\">13 hours ago</a></span> <span id=\"unv_12706531\"></span> | <a href=\"hide?id=12706531&amp;goto=news\">hide</a> | <a href=\"item?id=12706531\">132&nbsp;comments</a>              </td></tr>\\n      <tr class=\"spacer\" style=\"height:5px\"></tr>\\n                <tr class=\\'athing\\' id=\\'12710722\\'>\\n      <td align=\"right\" valign=\"top\" class=\"title\"><span class=\"rank\">17.</span></td>      <td valign=\"top\" class=\"votelinks\"><center><a id=\\'up_12710722\\' href=\\'vote?id=12710722&amp;how=up&amp;goto=news\\'><div class=\\'votearrow\\' title=\\'upvote\\'></div></a></center></td><td class=\"title\"><a href=\"https://theintercept.com/2016/10/14/freed-from-gag-order-google-reveals-it-received-secret-fbi-subpoena/\" class=\"storylink\">Google Reveals It Received Secret FBI Subpoena</a><span class=\"sitebit comhead\"> (<a href=\"from?site=theintercept.com\"><span class=\"sitestr\">theintercept.com</span></a>)</span></td></tr><tr><td colspan=\"2\"></td><td class=\"subtext\">\\n        <span class=\"score\" id=\"score_12710722\">20 points</span> by <a href=\"user?id=aestetix\" class=\"hnuser\">aestetix</a> <span class=\"age\"><a href=\"item?id=12710722\">37 minutes ago</a></span> <span id=\"unv_12710722\"></span> | <a href=\"hide?id=12710722&amp;goto=news\">hide</a> | <a href=\"item?id=12710722\">3&nbsp;comments</a>              </td></tr>\\n      <tr class=\"spacer\" style=\"height:5px\"></tr>\\n                <tr class=\\'athing\\' id=\\'12708747\\'>\\n      <td align=\"right\" valign=\"top\" class=\"title\"><span class=\"rank\">18.</span></td>      <td valign=\"top\" class=\"votelinks\"><center><a id=\\'up_12708747\\' href=\\'vote?id=12708747&amp;how=up&amp;goto=news\\'><div class=\\'votearrow\\' title=\\'upvote\\'></div></a></center></td><td class=\"title\"><a href=\"https://juokaz.com/blog/becoming-a-cto\" class=\"storylink\">Becoming a CTO</a><span class=\"sitebit comhead\"> (<a href=\"from?site=juokaz.com\"><span class=\"sitestr\">juokaz.com</span></a>)</span></td></tr><tr><td colspan=\"2\"></td><td class=\"subtext\">\\n        <span class=\"score\" id=\"score_12708747\">183 points</span> by <a href=\"user?id=djug\" class=\"hnuser\">djug</a> <span class=\"age\"><a href=\"item?id=12708747\">5 hours ago</a></span> <span id=\"unv_12708747\"></span> | <a href=\"hide?id=12708747&amp;goto=news\">hide</a> | <a href=\"item?id=12708747\">69&nbsp;comments</a>              </td></tr>\\n      <tr class=\"spacer\" style=\"height:5px\"></tr>\\n                <tr class=\\'athing\\' id=\\'12708086\\'>\\n      <td align=\"right\" valign=\"top\" class=\"title\"><span class=\"rank\">19.</span></td>      <td valign=\"top\" class=\"votelinks\"><center><a id=\\'up_12708086\\' href=\\'vote?id=12708086&amp;how=up&amp;goto=news\\'><div class=\\'votearrow\\' title=\\'upvote\\'></div></a></center></td><td class=\"title\"><a href=\"http://www.bbc.co.uk/news/business-37656303\" class=\"storylink\">\\'Flash crash\\' trader loses US extradition battle</a><span class=\"sitebit comhead\"> (<a href=\"from?site=bbc.co.uk\"><span class=\"sitestr\">bbc.co.uk</span></a>)</span></td></tr><tr><td colspan=\"2\"></td><td class=\"subtext\">\\n        <span class=\"score\" id=\"score_12708086\">57 points</span> by <a href=\"user?id=hanoz\" class=\"hnuser\">hanoz</a> <span class=\"age\"><a href=\"item?id=12708086\">6 hours ago</a></span> <span id=\"unv_12708086\"></span> | <a href=\"hide?id=12708086&amp;goto=news\">hide</a> | <a href=\"item?id=12708086\">47&nbsp;comments</a>              </td></tr>\\n      <tr class=\"spacer\" style=\"height:5px\"></tr>\\n                <tr class=\\'athing\\' id=\\'12706986\\'>\\n      <td align=\"right\" valign=\"top\" class=\"title\"><span class=\"rank\">20.</span></td>      <td valign=\"top\" class=\"votelinks\"><center><a id=\\'up_12706986\\' href=\\'vote?id=12706986&amp;how=up&amp;goto=news\\'><div class=\\'votearrow\\' title=\\'upvote\\'></div></a></center></td><td class=\"title\"><a href=\"http://dmitryfrank.com/articles/lisp_on_mcu\" class=\"storylink\">Let\\xe2\\x80\\x99s Run Lisp on a Microcontroller</a><span class=\"sitebit comhead\"> (<a href=\"from?site=dmitryfrank.com\"><span class=\"sitestr\">dmitryfrank.com</span></a>)</span></td></tr><tr><td colspan=\"2\"></td><td class=\"subtext\">\\n        <span class=\"score\" id=\"score_12706986\">113 points</span> by <a href=\"user?id=gattilorenz\" class=\"hnuser\">gattilorenz</a> <span class=\"age\"><a href=\"item?id=12706986\">11 hours ago</a></span> <span id=\"unv_12706986\"></span> | <a href=\"hide?id=12706986&amp;goto=news\">hide</a> | <a href=\"item?id=12706986\">6&nbsp;comments</a>              </td></tr>\\n      <tr class=\"spacer\" style=\"height:5px\"></tr>\\n                <tr class=\\'athing\\' id=\\'12709221\\'>\\n      <td align=\"right\" valign=\"top\" class=\"title\"><span class=\"rank\">21.</span></td>      <td valign=\"top\" class=\"votelinks\"><center><a id=\\'up_12709221\\' href=\\'vote?id=12709221&amp;how=up&amp;goto=news\\'><div class=\\'votearrow\\' title=\\'upvote\\'></div></a></center></td><td class=\"title\"><a href=\"https://cloudrail.com/cloud-storage-report-dropbox-owns-cloud-storage-mobile/\" class=\"storylink\">Dropbox Owns Cloud Storage on Mobile</a><span class=\"sitebit comhead\"> (<a href=\"from?site=cloudrail.com\"><span class=\"sitestr\">cloudrail.com</span></a>)</span></td></tr><tr><td colspan=\"2\"></td><td class=\"subtext\">\\n        <span class=\"score\" id=\"score_12709221\">52 points</span> by <a href=\"user?id=droidz\" class=\"hnuser\">droidz</a> <span class=\"age\"><a href=\"item?id=12709221\">4 hours ago</a></span> <span id=\"unv_12709221\"></span> | <a href=\"hide?id=12709221&amp;goto=news\">hide</a> | <a href=\"item?id=12709221\">43&nbsp;comments</a>              </td></tr>\\n      <tr class=\"spacer\" style=\"height:5px\"></tr>\\n                <tr class=\\'athing\\' id=\\'12706308\\'>\\n      <td align=\"right\" valign=\"top\" class=\"title\"><span class=\"rank\">22.</span></td>      <td valign=\"top\" class=\"votelinks\"><center><a id=\\'up_12706308\\' href=\\'vote?id=12706308&amp;how=up&amp;goto=news\\'><div class=\\'votearrow\\' title=\\'upvote\\'></div></a></center></td><td class=\"title\"><a href=\"https://blog.mozilla.org/nnethercote/2016/10/14/how-to-speed-up-the-rust-compiler/\" class=\"storylink\">How to speed up the Rust compiler</a><span class=\"sitebit comhead\"> (<a href=\"from?site=mozilla.org\"><span class=\"sitestr\">mozilla.org</span></a>)</span></td></tr><tr><td colspan=\"2\"></td><td class=\"subtext\">\\n        <span class=\"score\" id=\"score_12706308\">173 points</span> by <a href=\"user?id=nnethercote\" class=\"hnuser\">nnethercote</a> <span class=\"age\"><a href=\"item?id=12706308\">15 hours ago</a></span> <span id=\"unv_12706308\"></span> | <a href=\"hide?id=12706308&amp;goto=news\">hide</a> | <a href=\"item?id=12706308\">83&nbsp;comments</a>              </td></tr>\\n      <tr class=\"spacer\" style=\"height:5px\"></tr>\\n                <tr class=\\'athing\\' id=\\'12709546\\'>\\n      <td align=\"right\" valign=\"top\" class=\"title\"><span class=\"rank\">23.</span></td>      <td valign=\"top\" class=\"votelinks\"><center><a id=\\'up_12709546\\' href=\\'vote?id=12709546&amp;how=up&amp;goto=news\\'><div class=\\'votearrow\\' title=\\'upvote\\'></div></a></center></td><td class=\"title\"><a href=\"https://medium.com/@yardenkatz/universities-have-turned-over-hundreds-of-patents-to-patent-trolls-99d5cdec1d8a#.vulqukskk\" class=\"storylink\">Universities have turned over hundreds of patents to patent trolls</a><span class=\"sitebit comhead\"> (<a href=\"from?site=medium.com\"><span class=\"sitestr\">medium.com</span></a>)</span></td></tr><tr><td colspan=\"2\"></td><td class=\"subtext\">\\n        <span class=\"score\" id=\"score_12709546\">68 points</span> by <a href=\"user?id=doener\" class=\"hnuser\">doener</a> <span class=\"age\"><a href=\"item?id=12709546\">3 hours ago</a></span> <span id=\"unv_12709546\"></span> | <a href=\"hide?id=12709546&amp;goto=news\">hide</a> | <a href=\"item?id=12709546\">11&nbsp;comments</a>              </td></tr>\\n      <tr class=\"spacer\" style=\"height:5px\"></tr>\\n                <tr class=\\'athing\\' id=\\'12709443\\'>\\n      <td align=\"right\" valign=\"top\" class=\"title\"><span class=\"rank\">24.</span></td>      <td valign=\"top\" class=\"votelinks\"><center><a id=\\'up_12709443\\' href=\\'vote?id=12709443&amp;how=up&amp;goto=news\\'><div class=\\'votearrow\\' title=\\'upvote\\'></div></a></center></td><td class=\"title\"><a href=\"https://blogs.msdn.microsoft.com/visualstudio/2016/10/14/improved-overall-visual-studio-15-responsiveness/\" class=\"storylink\">Improved Overall Visual Studio \\xe2\\x80\\x9c15\\xe2\\x80\\x9d Responsiveness</a><span class=\"sitebit comhead\"> (<a href=\"from?site=microsoft.com\"><span class=\"sitestr\">microsoft.com</span></a>)</span></td></tr><tr><td colspan=\"2\"></td><td class=\"subtext\">\\n        <span class=\"score\" id=\"score_12709443\">28 points</span> by <a href=\"user?id=dustinmoris\" class=\"hnuser\">dustinmoris</a> <span class=\"age\"><a href=\"item?id=12709443\">3 hours ago</a></span> <span id=\"unv_12709443\"></span> | <a href=\"hide?id=12709443&amp;goto=news\">hide</a> | <a href=\"item?id=12709443\">22&nbsp;comments</a>              </td></tr>\\n      <tr class=\"spacer\" style=\"height:5px\"></tr>\\n                <tr class=\\'athing\\' id=\\'12709714\\'>\\n      <td align=\"right\" valign=\"top\" class=\"title\"><span class=\"rank\">25.</span></td>      <td valign=\"top\" class=\"votelinks\"><center><a id=\\'up_12709714\\' href=\\'vote?id=12709714&amp;how=up&amp;goto=news\\'><div class=\\'votearrow\\' title=\\'upvote\\'></div></a></center></td><td class=\"title\"><a href=\"http://www.marketwatch.com/story/twitter-shares-tank-as-salesforce-reported-to-be-out-of-the-bidding-process-2016-10-14\" class=\"storylink\">Twitter shares drop as Salesforce reported to be out of the bidding process</a><span class=\"sitebit comhead\"> (<a href=\"from?site=marketwatch.com\"><span class=\"sitestr\">marketwatch.com</span></a>)</span></td></tr><tr><td colspan=\"2\"></td><td class=\"subtext\">\\n        <span class=\"score\" id=\"score_12709714\">45 points</span> by <a href=\"user?id=obi1kenobi\" class=\"hnuser\">obi1kenobi</a> <span class=\"age\"><a href=\"item?id=12709714\">3 hours ago</a></span> <span id=\"unv_12709714\"></span> | <a href=\"hide?id=12709714&amp;goto=news\">hide</a> | <a href=\"item?id=12709714\">38&nbsp;comments</a>              </td></tr>\\n      <tr class=\"spacer\" style=\"height:5px\"></tr>\\n                <tr class=\\'athing\\' id=\\'12707388\\'>\\n      <td align=\"right\" valign=\"top\" class=\"title\"><span class=\"rank\">26.</span></td>      <td valign=\"top\" class=\"votelinks\"><center><a id=\\'up_12707388\\' href=\\'vote?id=12707388&amp;how=up&amp;goto=news\\'><div class=\\'votearrow\\' title=\\'upvote\\'></div></a></center></td><td class=\"title\"><a href=\"http://chalkdustmagazine.com/features/proof-by-storytelling/\" class=\"storylink\">Proof by storytelling</a><span class=\"sitebit comhead\"> (<a href=\"from?site=chalkdustmagazine.com\"><span class=\"sitestr\">chalkdustmagazine.com</span></a>)</span></td></tr><tr><td colspan=\"2\"></td><td class=\"subtext\">\\n        <span class=\"score\" id=\"score_12707388\">34 points</span> by <a href=\"user?id=CarolineW\" class=\"hnuser\">CarolineW</a> <span class=\"age\"><a href=\"item?id=12707388\">8 hours ago</a></span> <span id=\"unv_12707388\"></span> | <a href=\"hide?id=12707388&amp;goto=news\">hide</a> | <a href=\"item?id=12707388\">3&nbsp;comments</a>              </td></tr>\\n      <tr class=\"spacer\" style=\"height:5px\"></tr>\\n                <tr class=\\'athing\\' id=\\'12707067\\'>\\n      <td align=\"right\" valign=\"top\" class=\"title\"><span class=\"rank\">27.</span></td>      <td valign=\"top\" class=\"votelinks\"><center><a id=\\'up_12707067\\' href=\\'vote?id=12707067&amp;how=up&amp;goto=news\\'><div class=\\'votearrow\\' title=\\'upvote\\'></div></a></center></td><td class=\"title\"><a href=\"https://github.com/mulle-nat/mulle-allocator\" class=\"storylink\">Show HN: Flexible C memory allocation scheme with leak checking</a><span class=\"sitebit comhead\"> (<a href=\"from?site=github.com\"><span class=\"sitestr\">github.com</span></a>)</span></td></tr><tr><td colspan=\"2\"></td><td class=\"subtext\">\\n        <span class=\"score\" id=\"score_12707067\">39 points</span> by <a href=\"user?id=mulle_nat\" class=\"hnuser\">mulle_nat</a> <span class=\"age\"><a href=\"item?id=12707067\">10 hours ago</a></span> <span id=\"unv_12707067\"></span> | <a href=\"hide?id=12707067&amp;goto=news\">hide</a> | <a href=\"item?id=12707067\">9&nbsp;comments</a>              </td></tr>\\n      <tr class=\"spacer\" style=\"height:5px\"></tr>\\n                <tr class=\\'athing\\' id=\\'12703751\\'>\\n      <td align=\"right\" valign=\"top\" class=\"title\"><span class=\"rank\">28.</span></td>      <td valign=\"top\" class=\"votelinks\"><center><a id=\\'up_12703751\\' href=\\'vote?id=12703751&amp;how=up&amp;goto=news\\'><div class=\\'votearrow\\' title=\\'upvote\\'></div></a></center></td><td class=\"title\"><a href=\"https://slack.engineering/taking-php-seriously-cf7a60065329#.v643zvbw3\" class=\"storylink\">Taking PHP Seriously</a><span class=\"sitebit comhead\"> (<a href=\"from?site=slack.engineering\"><span class=\"sitestr\">slack.engineering</span></a>)</span></td></tr><tr><td colspan=\"2\"></td><td class=\"subtext\">\\n        <span class=\"score\" id=\"score_12703751\">716 points</span> by <a href=\"user?id=josephscott\" class=\"hnuser\">josephscott</a> <span class=\"age\"><a href=\"item?id=12703751\">1 day ago</a></span> <span id=\"unv_12703751\"></span> | <a href=\"hide?id=12703751&amp;goto=news\">hide</a> | <a href=\"item?id=12703751\">557&nbsp;comments</a>              </td></tr>\\n      <tr class=\"spacer\" style=\"height:5px\"></tr>\\n                <tr class=\\'athing\\' id=\\'12710593\\'>\\n      <td align=\"right\" valign=\"top\" class=\"title\"><span class=\"rank\">29.</span></td>      <td valign=\"top\" class=\"votelinks\"><center><a id=\\'up_12710593\\' href=\\'vote?id=12710593&amp;how=up&amp;goto=news\\'><div class=\\'votearrow\\' title=\\'upvote\\'></div></a></center></td><td class=\"title\"><a href=\"http://www.coindesk.com/so-it-looks-like-ethereum-is-going-to-have-to-fork-again/\" class=\"storylink\" rel=\"nofollow\">So, It Looks Like Ethereum Is Going to Have to Fork Again</a><span class=\"sitebit comhead\"> (<a href=\"from?site=coindesk.com\"><span class=\"sitestr\">coindesk.com</span></a>)</span></td></tr><tr><td colspan=\"2\"></td><td class=\"subtext\">\\n        <span class=\"score\" id=\"score_12710593\">7 points</span> by <a href=\"user?id=avadhoot\" class=\"hnuser\">avadhoot</a> <span class=\"age\"><a href=\"item?id=12710593\">58 minutes ago</a></span> <span id=\"unv_12710593\"></span> | <a href=\"hide?id=12710593&amp;goto=news\">hide</a> | <a href=\"item?id=12710593\">discuss</a>              </td></tr>\\n      <tr class=\"spacer\" style=\"height:5px\"></tr>\\n                <tr class=\\'athing\\' id=\\'12705546\\'>\\n      <td align=\"right\" valign=\"top\" class=\"title\"><span class=\"rank\">30.</span></td>      <td valign=\"top\" class=\"votelinks\"><center><a id=\\'up_12705546\\' href=\\'vote?id=12705546&amp;how=up&amp;goto=news\\'><div class=\\'votearrow\\' title=\\'upvote\\'></div></a></center></td><td class=\"title\"><a href=\"http://www.maslowcnc.com\" class=\"storylink\">Maslow CNC</a><span class=\"sitebit comhead\"> (<a href=\"from?site=maslowcnc.com\"><span class=\"sitestr\">maslowcnc.com</span></a>)</span></td></tr><tr><td colspan=\"2\"></td><td class=\"subtext\">\\n        <span class=\"score\" id=\"score_12705546\">372 points</span> by <a href=\"user?id=MaslowCNC\" class=\"hnuser\">MaslowCNC</a> <span class=\"age\"><a href=\"item?id=12705546\">19 hours ago</a></span> <span id=\"unv_12705546\"></span> | <a href=\"hide?id=12705546&amp;goto=news\">hide</a> | <a href=\"item?id=12705546\">90&nbsp;comments</a>              </td></tr>\\n      <tr class=\"spacer\" style=\"height:5px\"></tr>\\n            <tr class=\"morespace\" style=\"height:10px\"></tr><tr><td colspan=\"2\"></td><td class=\"title\"><a href=\"news?p=2\" class=\"morelink\" rel=\"nofollow\">More</a></td></tr>\\n  </table>\\n</td></tr>\\n<tr><td><img src=\"s.gif\" height=\"10\" width=\"0\"><table width=\"100%\" cellspacing=\"0\" cellpadding=\"1\"><tr><td bgcolor=\"#ff6600\"></td></tr></table><br><center><span class=\"yclinks\"><a href=\"newsguidelines.html\">Guidelines</a>\\n        | <a href=\"newsfaq.html\">FAQ</a>\\n        | <a href=\"mailto:hn@ycombinator.com\">Support</a>\\n        | <a href=\"https://github.com/HackerNews/API\">API</a>\\n        | <a href=\"security.html\">Security</a>\\n        | <a href=\"lists\">Lists</a>\\n        | <a href=\"bookmarklet.html\">Bookmarklet</a>\\n        | <a href=\"dmca.html\">DMCA</a>\\n        | <a href=\"http://www.ycombinator.com/apply/\">Apply to YC</a>\\n        | <a href=\"mailto:hn@ycombinator.com\">Contact</a></span><br><br><form method=\"get\" action=\"//hn.algolia.com/\">Search:\\n          <input type=\"text\" name=\"q\" value=\"\" size=\"17\" autocorrect=\"off\" spellcheck=\"false\" autocapitalize=\"off\" autocomplete=\"false\"></form>\\n            </center></td></tr>      </table></center></body><script type=\\'text/javascript\\' src=\\'hn.js?0jKc9Keyn2Zl7D1UAQcy\\'></script></html>\\n'"
      ]
     },
     "execution_count": 9,
     "metadata": {},
     "output_type": "execute_result"
    }
   ],
   "source": [
    "r.content"
   ]
  },
  {
   "cell_type": "markdown",
   "metadata": {
    "slideshow": {
     "slide_type": "slide"
    }
   },
   "source": [
    "## We can wrap that in HTML to see the code"
   ]
  },
  {
   "cell_type": "code",
   "execution_count": 10,
   "metadata": {
    "ExecuteTime": {
     "end_time": "2016-10-14T16:48:07.281176",
     "start_time": "2016-10-14T16:48:07.266922"
    },
    "collapsed": false,
    "slideshow": {
     "slide_type": "-"
    }
   },
   "outputs": [
    {
     "data": {
      "text/html": [
       "<html op=\"news\"><head><meta name=\"referrer\" content=\"origin\"><meta name=\"viewport\" content=\"width=device-width, initial-scale=1.0\"><link rel=\"stylesheet\" type=\"text/css\" href=\"news.css?0jKc9Keyn2Zl7D1UAQcy\">\n",
       "        <link rel=\"shortcut icon\" href=\"favicon.ico\">\n",
       "          <link rel=\"alternate\" type=\"application/rss+xml\" title=\"RSS\" href=\"rss\">\n",
       "        <title>Hacker News</title>\n",
       "      </head><body><center><table id=\"hnmain\" border=\"0\" cellpadding=\"0\" cellspacing=\"0\" width=\"85%\" bgcolor=\"#f6f6ef\">\n",
       "        <tr><td bgcolor=\"#ff6600\"><table border=\"0\" cellpadding=\"0\" cellspacing=\"0\" width=\"100%\" style=\"padding:2px\"><tr><td style=\"width:18px;padding-right:4px\"><a href=\"http://www.ycombinator.com\"><img src=\"y18.gif\" width=\"18\" height=\"18\" style=\"border:1px white solid;\"></a></td>\n",
       "                  <td style=\"line-height:12pt; height:10px;\"><span class=\"pagetop\"><b class=\"hnname\"><a href=\"news\">Hacker News</a></b>\n",
       "              <a href=\"newest\">new</a> | <a href=\"newcomments\">comments</a> | <a href=\"show\">show</a> | <a href=\"ask\">ask</a> | <a href=\"jobs\">jobs</a> | <a href=\"submit\">submit</a>            </span></td><td style=\"text-align:right;padding-right:4px;\"><span class=\"pagetop\">\n",
       "                              <a href=\"login?goto=news\">login</a>\n",
       "                          </span></td>\n",
       "              </tr></table></td></tr>\n",
       "<tr style=\"height:10px\"></tr><tr><td><table border=\"0\" cellpadding=\"0\" cellspacing=\"0\" class=\"itemlist\">\n",
       "              <tr class='athing' id='12707606'>\n",
       "      <td align=\"right\" valign=\"top\" class=\"title\"><span class=\"rank\">1.</span></td>      <td valign=\"top\" class=\"votelinks\"><center><a id='up_12707606' href='vote?id=12707606&amp;how=up&amp;goto=news'><div class='votearrow' title='upvote'></div></a></center></td><td class=\"title\"><a href=\"https://www.briangilham.com/blog/2016/10/10/be-kind\" class=\"storylink\">Be Kind</a><span class=\"sitebit comhead\"> (<a href=\"from?site=briangilham.com\"><span class=\"sitestr\">briangilham.com</span></a>)</span></td></tr><tr><td colspan=\"2\"></td><td class=\"subtext\">\n",
       "        <span class=\"score\" id=\"score_12707606\">1374 points</span> by <a href=\"user?id=bgilham\" class=\"hnuser\">bgilham</a> <span class=\"age\"><a href=\"item?id=12707606\">8 hours ago</a></span> <span id=\"unv_12707606\"></span> | <a href=\"hide?id=12707606&amp;goto=news\">hide</a> | <a href=\"item?id=12707606\">303&nbsp;comments</a>              </td></tr>\n",
       "      <tr class=\"spacer\" style=\"height:5px\"></tr>\n",
       "                <tr class='athing' id='12709220'>\n",
       "      <td align=\"right\" valign=\"top\" class=\"title\"><span class=\"rank\">2.</span></td>      <td valign=\"top\" class=\"votelinks\"><center><a id='up_12709220' href='vote?id=12709220&amp;how=up&amp;goto=news'><div class='votearrow' title='upvote'></div></a></center></td><td class=\"title\"><a href=\"http://lemire.me/blog/2016/10/14/intel-will-add-deep-learning-instructions-to-its-processors/\" class=\"storylink\">Intel will add deep-learning instructions to its processors</a><span class=\"sitebit comhead\"> (<a href=\"from?site=lemire.me\"><span class=\"sitestr\">lemire.me</span></a>)</span></td></tr><tr><td colspan=\"2\"></td><td class=\"subtext\">\n",
       "        <span class=\"score\" id=\"score_12709220\">171 points</span> by <a href=\"user?id=ingve\" class=\"hnuser\">ingve</a> <span class=\"age\"><a href=\"item?id=12709220\">4 hours ago</a></span> <span id=\"unv_12709220\"></span> | <a href=\"hide?id=12709220&amp;goto=news\">hide</a> | <a href=\"item?id=12709220\">77&nbsp;comments</a>              </td></tr>\n",
       "      <tr class=\"spacer\" style=\"height:5px\"></tr>\n",
       "                <tr class='athing' id='12710756'>\n",
       "      <td align=\"right\" valign=\"top\" class=\"title\"><span class=\"rank\">3.</span></td>      <td valign=\"top\" class=\"votelinks\"><center><a id='up_12710756' href='vote?id=12710756&amp;how=up&amp;goto=news'><div class='votearrow' title='upvote'></div></a></center></td><td class=\"title\"><a href=\"http://www.nybooks.com/daily/2016/10/14/kansas-city-librarian-arrest-for-defending-free-speech/\" class=\"storylink\">When Librarians Are Silenced</a><span class=\"sitebit comhead\"> (<a href=\"from?site=nybooks.com\"><span class=\"sitestr\">nybooks.com</span></a>)</span></td></tr><tr><td colspan=\"2\"></td><td class=\"subtext\">\n",
       "        <span class=\"score\" id=\"score_12710756\">12 points</span> by <a href=\"user?id=todayiamme\" class=\"hnuser\">todayiamme</a> <span class=\"age\"><a href=\"item?id=12710756\">31 minutes ago</a></span> <span id=\"unv_12710756\"></span> | <a href=\"hide?id=12710756&amp;goto=news\">hide</a> | <a href=\"item?id=12710756\">1&nbsp;comment</a>              </td></tr>\n",
       "      <tr class=\"spacer\" style=\"height:5px\"></tr>\n",
       "                <tr class='athing' id='12708576'>\n",
       "      <td align=\"right\" valign=\"top\" class=\"title\"><span class=\"rank\">4.</span></td>      <td valign=\"top\" class=\"votelinks\"><center><a id='up_12708576' href='vote?id=12708576&amp;how=up&amp;goto=news'><div class='votearrow' title='upvote'></div></a></center></td><td class=\"title\"><a href=\"http://www.bloomberg.com/news/articles/2016-10-13/hyperloop-one-raises-50-million-hires-former-uber-cfo\" class=\"storylink\">Hyperloop One Raises $50M, Hires Former Uber CFO</a><span class=\"sitebit comhead\"> (<a href=\"from?site=bloomberg.com\"><span class=\"sitestr\">bloomberg.com</span></a>)</span></td></tr><tr><td colspan=\"2\"></td><td class=\"subtext\">\n",
       "        <span class=\"score\" id=\"score_12708576\">146 points</span> by <a href=\"user?id=jonbaer\" class=\"hnuser\">jonbaer</a> <span class=\"age\"><a href=\"item?id=12708576\">5 hours ago</a></span> <span id=\"unv_12708576\"></span> | <a href=\"hide?id=12708576&amp;goto=news\">hide</a> | <a href=\"item?id=12708576\">121&nbsp;comments</a>              </td></tr>\n",
       "      <tr class=\"spacer\" style=\"height:5px\"></tr>\n",
       "                <tr class='athing' id='12709802'>\n",
       "      <td align=\"right\" valign=\"top\" class=\"title\"><span class=\"rank\">5.</span></td>      <td valign=\"top\" class=\"votelinks\"><center><a id='up_12709802' href='vote?id=12709802&amp;how=up&amp;goto=news'><div class='votearrow' title='upvote'></div></a></center></td><td class=\"title\"><a href=\"http://web.archive.org/web/19991022233047/www.itvc.com/Technology/4os.htm\" class=\"storylink\">4os – An operating system written completely in Forth</a><span class=\"sitebit comhead\"> (<a href=\"from?site=archive.org\"><span class=\"sitestr\">archive.org</span></a>)</span></td></tr><tr><td colspan=\"2\"></td><td class=\"subtext\">\n",
       "        <span class=\"score\" id=\"score_12709802\">64 points</span> by <a href=\"user?id=zeveb\" class=\"hnuser\">zeveb</a> <span class=\"age\"><a href=\"item?id=12709802\">3 hours ago</a></span> <span id=\"unv_12709802\"></span> | <a href=\"hide?id=12709802&amp;goto=news\">hide</a> | <a href=\"item?id=12709802\">20&nbsp;comments</a>              </td></tr>\n",
       "      <tr class=\"spacer\" style=\"height:5px\"></tr>\n",
       "                <tr class='athing' id='12710560'>\n",
       "      <td align=\"right\" valign=\"top\" class=\"title\"><span class=\"rank\">6.</span></td>      <td valign=\"top\" class=\"votelinks\"><center><a id='up_12710560' href='vote?id=12710560&amp;how=up&amp;goto=news'><div class='votearrow' title='upvote'></div></a></center></td><td class=\"title\"><a href=\"http://www.bloomberg.com/news/articles/2016-10-14/theranos-faces-growing-number-of-lawsuits-over-blood-tests\" class=\"storylink\">Theranos Faces Growing Number of Lawsuits Over Blood Tests</a><span class=\"sitebit comhead\"> (<a href=\"from?site=bloomberg.com\"><span class=\"sitestr\">bloomberg.com</span></a>)</span></td></tr><tr><td colspan=\"2\"></td><td class=\"subtext\">\n",
       "        <span class=\"score\" id=\"score_12710560\">22 points</span> by <a href=\"user?id=ucha\" class=\"hnuser\">ucha</a> <span class=\"age\"><a href=\"item?id=12710560\">1 hour ago</a></span> <span id=\"unv_12710560\"></span> | <a href=\"hide?id=12710560&amp;goto=news\">hide</a> | <a href=\"item?id=12710560\">3&nbsp;comments</a>              </td></tr>\n",
       "      <tr class=\"spacer\" style=\"height:5px\"></tr>\n",
       "                <tr class='athing' id='12710698'>\n",
       "      <td align=\"right\" valign=\"top\" class=\"title\"><span class=\"rank\">7.</span></td>      <td valign=\"top\" class=\"votelinks\"><center><a id='up_12710698' href='vote?id=12710698&amp;how=up&amp;goto=news'><div class='votearrow' title='upvote'></div></a></center></td><td class=\"title\"><a href=\"http://www.nytimes.com/2016/10/14/opinion/the-man-blocking-peace-in-colombia.html?_r=0\" class=\"storylink\">The Man Blocking Peace in Colombia</a><span class=\"sitebit comhead\"> (<a href=\"from?site=nytimes.com\"><span class=\"sitestr\">nytimes.com</span></a>)</span></td></tr><tr><td colspan=\"2\"></td><td class=\"subtext\">\n",
       "        <span class=\"score\" id=\"score_12710698\">11 points</span> by <a href=\"user?id=santiagogo\" class=\"hnuser\">santiagogo</a> <span class=\"age\"><a href=\"item?id=12710698\">40 minutes ago</a></span> <span id=\"unv_12710698\"></span> | <a href=\"hide?id=12710698&amp;goto=news\">hide</a> | <a href=\"item?id=12710698\">1&nbsp;comment</a>              </td></tr>\n",
       "      <tr class=\"spacer\" style=\"height:5px\"></tr>\n",
       "                <tr class='athing' id='12709820'>\n",
       "      <td align=\"right\" valign=\"top\" class=\"title\"><span class=\"rank\">8.</span></td>      <td valign=\"top\" class=\"votelinks\"><center><a id='up_12709820' href='vote?id=12709820&amp;how=up&amp;goto=news'><div class='votearrow' title='upvote'></div></a></center></td><td class=\"title\"><a href=\"http://www.ec2instances.info/\" class=\"storylink\">Easy Amazon EC2 Instance Comparison</a><span class=\"sitebit comhead\"> (<a href=\"from?site=ec2instances.info\"><span class=\"sitestr\">ec2instances.info</span></a>)</span></td></tr><tr><td colspan=\"2\"></td><td class=\"subtext\">\n",
       "        <span class=\"score\" id=\"score_12709820\">49 points</span> by <a href=\"user?id=obi1kenobi\" class=\"hnuser\">obi1kenobi</a> <span class=\"age\"><a href=\"item?id=12709820\">2 hours ago</a></span> <span id=\"unv_12709820\"></span> | <a href=\"hide?id=12709820&amp;goto=news\">hide</a> | <a href=\"item?id=12709820\">7&nbsp;comments</a>              </td></tr>\n",
       "      <tr class=\"spacer\" style=\"height:5px\"></tr>\n",
       "                <tr class='athing' id='12708689'>\n",
       "      <td align=\"right\" valign=\"top\" class=\"title\"><span class=\"rank\">9.</span></td>      <td valign=\"top\" class=\"votelinks\"><center><a id='up_12708689' href='vote?id=12708689&amp;how=up&amp;goto=news'><div class='votearrow' title='upvote'></div></a></center></td><td class=\"title\"><a href=\"http://www.allaboutcircuits.com/news/end-of-mosfets-carbon-nanotubes-finally-outperform-silicon-in-transistors/\" class=\"storylink\">Carbon Nanotubes Finally Outperform Silicon in Transistors</a><span class=\"sitebit comhead\"> (<a href=\"from?site=allaboutcircuits.com\"><span class=\"sitestr\">allaboutcircuits.com</span></a>)</span></td></tr><tr><td colspan=\"2\"></td><td class=\"subtext\">\n",
       "        <span class=\"score\" id=\"score_12708689\">84 points</span> by <a href=\"user?id=xd\" class=\"hnuser\">xd</a> <span class=\"age\"><a href=\"item?id=12708689\">5 hours ago</a></span> <span id=\"unv_12708689\"></span> | <a href=\"hide?id=12708689&amp;goto=news\">hide</a> | <a href=\"item?id=12708689\">18&nbsp;comments</a>              </td></tr>\n",
       "      <tr class=\"spacer\" style=\"height:5px\"></tr>\n",
       "                <tr class='athing' id='12705137'>\n",
       "      <td align=\"right\" valign=\"top\" class=\"title\"><span class=\"rank\">10.</span></td>      <td valign=\"top\" class=\"votelinks\"><center><a id='up_12705137' href='vote?id=12705137&amp;how=up&amp;goto=news'><div class='votearrow' title='upvote'></div></a></center></td><td class=\"title\"><a href=\"http://www.npr.org/sections/alltechconsidered/2016/10/13/497820170/the-man-who-stood-up-to-facebook\" class=\"storylink\">A Man Who Stood Up To Facebook</a><span class=\"sitebit comhead\"> (<a href=\"from?site=npr.org\"><span class=\"sitestr\">npr.org</span></a>)</span></td></tr><tr><td colspan=\"2\"></td><td class=\"subtext\">\n",
       "        <span class=\"score\" id=\"score_12705137\">281 points</span> by <a href=\"user?id=krissara\" class=\"hnuser\">krissara</a> <span class=\"age\"><a href=\"item?id=12705137\">9 hours ago</a></span> <span id=\"unv_12705137\"></span> | <a href=\"hide?id=12705137&amp;goto=news\">hide</a> | <a href=\"item?id=12705137\">68&nbsp;comments</a>              </td></tr>\n",
       "      <tr class=\"spacer\" style=\"height:5px\"></tr>\n",
       "                <tr class='athing' id='12708280'>\n",
       "      <td align=\"right\" valign=\"top\" class=\"title\"><span class=\"rank\">11.</span></td>      <td valign=\"top\" class=\"votelinks\"><center><a id='up_12708280' href='vote?id=12708280&amp;how=up&amp;goto=news'><div class='votearrow' title='upvote'></div></a></center></td><td class=\"title\"><a href=\"http://www.anandtech.com/show/10759/opencapi-unveiled-amd-ibm-google-more\" class=\"storylink\">OpenCAPI Unveiled: AMD, IBM, Google, Xilinx, Micron and Mellanox Join Forces</a><span class=\"sitebit comhead\"> (<a href=\"from?site=anandtech.com\"><span class=\"sitestr\">anandtech.com</span></a>)</span></td></tr><tr><td colspan=\"2\"></td><td class=\"subtext\">\n",
       "        <span class=\"score\" id=\"score_12708280\">76 points</span> by <a href=\"user?id=ajdlinux\" class=\"hnuser\">ajdlinux</a> <span class=\"age\"><a href=\"item?id=12708280\">6 hours ago</a></span> <span id=\"unv_12708280\"></span> | <a href=\"hide?id=12708280&amp;goto=news\">hide</a> | <a href=\"item?id=12708280\">42&nbsp;comments</a>              </td></tr>\n",
       "      <tr class=\"spacer\" style=\"height:5px\"></tr>\n",
       "                <tr class='athing' id='12707411'>\n",
       "      <td align=\"right\" valign=\"top\" class=\"title\"><span class=\"rank\">12.</span></td>      <td valign=\"top\" class=\"votelinks\"><center><a id='up_12707411' href='vote?id=12707411&amp;how=up&amp;goto=news'><div class='votearrow' title='upvote'></div></a></center></td><td class=\"title\"><a href=\"http://med.stanford.edu/news/all-news/2016/10/common-prostate-cancer-treatment-linked-to-later-dementia.html\" class=\"storylink\">Common prostate cancer treatment linked to later dementia, researcher says</a><span class=\"sitebit comhead\"> (<a href=\"from?site=stanford.edu\"><span class=\"sitestr\">stanford.edu</span></a>)</span></td></tr><tr><td colspan=\"2\"></td><td class=\"subtext\">\n",
       "        <span class=\"score\" id=\"score_12707411\">137 points</span> by <a href=\"user?id=CapitalistCartr\" class=\"hnuser\">CapitalistCartr</a> <span class=\"age\"><a href=\"item?id=12707411\">9 hours ago</a></span> <span id=\"unv_12707411\"></span> | <a href=\"hide?id=12707411&amp;goto=news\">hide</a> | <a href=\"item?id=12707411\">44&nbsp;comments</a>              </td></tr>\n",
       "      <tr class=\"spacer\" style=\"height:5px\"></tr>\n",
       "                <tr class='athing' id='12710888'>\n",
       "      <td align=\"right\" valign=\"top\" class=\"title\"><span class=\"rank\">13.</span></td>      <td valign=\"top\" class=\"votelinks\"><center><a id='up_12710888' href='vote?id=12710888&amp;how=up&amp;goto=news'><div class='votearrow' title='upvote'></div></a></center></td><td class=\"title\"><a href=\"https://www.nobelprize.org/nobel_prizes/medicine/laureates/2016/advanced-medicineprize2016.pdf\" class=\"storylink\" rel=\"nofollow\">Scientific Background – Discoveries of Mechanisms for Autophagy [pdf]</a><span class=\"sitebit comhead\"> (<a href=\"from?site=nobelprize.org\"><span class=\"sitestr\">nobelprize.org</span></a>)</span></td></tr><tr><td colspan=\"2\"></td><td class=\"subtext\">\n",
       "        <span class=\"score\" id=\"score_12710888\">3 points</span> by <a href=\"user?id=hariis\" class=\"hnuser\">hariis</a> <span class=\"age\"><a href=\"item?id=12710888\">12 minutes ago</a></span> <span id=\"unv_12710888\"></span> | <a href=\"hide?id=12710888&amp;goto=news\">hide</a> | <a href=\"item?id=12710888\">discuss</a>              </td></tr>\n",
       "      <tr class=\"spacer\" style=\"height:5px\"></tr>\n",
       "                <tr class='athing' id='12710546'>\n",
       "      <td align=\"right\" valign=\"top\" class=\"title\"><span class=\"rank\">14.</span></td>      <td></td><td class=\"title\"><a href=\"https://jobs.lever.co/bitnami/29d26810-26b2-4af2-a014-7f720d8cc9aa?lever-via=h0xac23hV9\" class=\"storylink\" rel=\"nofollow\">Love cloud and containers? Bitnami is hiring SREs (SF / Remote)</a><span class=\"sitebit comhead\"> (<a href=\"from?site=lever.co\"><span class=\"sitestr\">lever.co</span></a>)</span></td></tr><tr><td colspan=\"2\"></td><td class=\"subtext\">\n",
       "        <span class=\"age\"><a href=\"item?id=12710546\">1 hour ago</a></span> | <a href=\"hide?id=12710546&amp;goto=news\">hide</a>      </td></tr>\n",
       "      <tr class=\"spacer\" style=\"height:5px\"></tr>\n",
       "                <tr class='athing' id='12707973'>\n",
       "      <td align=\"right\" valign=\"top\" class=\"title\"><span class=\"rank\">15.</span></td>      <td valign=\"top\" class=\"votelinks\"><center><a id='up_12707973' href='vote?id=12707973&amp;how=up&amp;goto=news'><div class='votearrow' title='upvote'></div></a></center></td><td class=\"title\"><a href=\"https://github.com/antirez/redis/commit/c7a4e694ad3689d934897b0d2c37144d7b2d0b97\" class=\"storylink\">SWAPDB Redis command</a><span class=\"sitebit comhead\"> (<a href=\"from?site=github.com\"><span class=\"sitestr\">github.com</span></a>)</span></td></tr><tr><td colspan=\"2\"></td><td class=\"subtext\">\n",
       "        <span class=\"score\" id=\"score_12707973\">88 points</span> by <a href=\"user?id=openmaze\" class=\"hnuser\">openmaze</a> <span class=\"age\"><a href=\"item?id=12707973\">7 hours ago</a></span> <span id=\"unv_12707973\"></span> | <a href=\"hide?id=12707973&amp;goto=news\">hide</a> | <a href=\"item?id=12707973\">15&nbsp;comments</a>              </td></tr>\n",
       "      <tr class=\"spacer\" style=\"height:5px\"></tr>\n",
       "                <tr class='athing' id='12706531'>\n",
       "      <td align=\"right\" valign=\"top\" class=\"title\"><span class=\"rank\">16.</span></td>      <td valign=\"top\" class=\"votelinks\"><center><a id='up_12706531' href='vote?id=12706531&amp;how=up&amp;goto=news'><div class='votearrow' title='upvote'></div></a></center></td><td class=\"title\"><a href=\"http://www.heliocastro.info/?p=291\" class=\"storylink\">KDE Project releases KDE 1</a><span class=\"sitebit comhead\"> (<a href=\"from?site=heliocastro.info\"><span class=\"sitestr\">heliocastro.info</span></a>)</span></td></tr><tr><td colspan=\"2\"></td><td class=\"subtext\">\n",
       "        <span class=\"score\" id=\"score_12706531\">253 points</span> by <a href=\"user?id=oever\" class=\"hnuser\">oever</a> <span class=\"age\"><a href=\"item?id=12706531\">13 hours ago</a></span> <span id=\"unv_12706531\"></span> | <a href=\"hide?id=12706531&amp;goto=news\">hide</a> | <a href=\"item?id=12706531\">132&nbsp;comments</a>              </td></tr>\n",
       "      <tr class=\"spacer\" style=\"height:5px\"></tr>\n",
       "                <tr class='athing' id='12710722'>\n",
       "      <td align=\"right\" valign=\"top\" class=\"title\"><span class=\"rank\">17.</span></td>      <td valign=\"top\" class=\"votelinks\"><center><a id='up_12710722' href='vote?id=12710722&amp;how=up&amp;goto=news'><div class='votearrow' title='upvote'></div></a></center></td><td class=\"title\"><a href=\"https://theintercept.com/2016/10/14/freed-from-gag-order-google-reveals-it-received-secret-fbi-subpoena/\" class=\"storylink\">Google Reveals It Received Secret FBI Subpoena</a><span class=\"sitebit comhead\"> (<a href=\"from?site=theintercept.com\"><span class=\"sitestr\">theintercept.com</span></a>)</span></td></tr><tr><td colspan=\"2\"></td><td class=\"subtext\">\n",
       "        <span class=\"score\" id=\"score_12710722\">20 points</span> by <a href=\"user?id=aestetix\" class=\"hnuser\">aestetix</a> <span class=\"age\"><a href=\"item?id=12710722\">37 minutes ago</a></span> <span id=\"unv_12710722\"></span> | <a href=\"hide?id=12710722&amp;goto=news\">hide</a> | <a href=\"item?id=12710722\">3&nbsp;comments</a>              </td></tr>\n",
       "      <tr class=\"spacer\" style=\"height:5px\"></tr>\n",
       "                <tr class='athing' id='12708747'>\n",
       "      <td align=\"right\" valign=\"top\" class=\"title\"><span class=\"rank\">18.</span></td>      <td valign=\"top\" class=\"votelinks\"><center><a id='up_12708747' href='vote?id=12708747&amp;how=up&amp;goto=news'><div class='votearrow' title='upvote'></div></a></center></td><td class=\"title\"><a href=\"https://juokaz.com/blog/becoming-a-cto\" class=\"storylink\">Becoming a CTO</a><span class=\"sitebit comhead\"> (<a href=\"from?site=juokaz.com\"><span class=\"sitestr\">juokaz.com</span></a>)</span></td></tr><tr><td colspan=\"2\"></td><td class=\"subtext\">\n",
       "        <span class=\"score\" id=\"score_12708747\">183 points</span> by <a href=\"user?id=djug\" class=\"hnuser\">djug</a> <span class=\"age\"><a href=\"item?id=12708747\">5 hours ago</a></span> <span id=\"unv_12708747\"></span> | <a href=\"hide?id=12708747&amp;goto=news\">hide</a> | <a href=\"item?id=12708747\">69&nbsp;comments</a>              </td></tr>\n",
       "      <tr class=\"spacer\" style=\"height:5px\"></tr>\n",
       "                <tr class='athing' id='12708086'>\n",
       "      <td align=\"right\" valign=\"top\" class=\"title\"><span class=\"rank\">19.</span></td>      <td valign=\"top\" class=\"votelinks\"><center><a id='up_12708086' href='vote?id=12708086&amp;how=up&amp;goto=news'><div class='votearrow' title='upvote'></div></a></center></td><td class=\"title\"><a href=\"http://www.bbc.co.uk/news/business-37656303\" class=\"storylink\">'Flash crash' trader loses US extradition battle</a><span class=\"sitebit comhead\"> (<a href=\"from?site=bbc.co.uk\"><span class=\"sitestr\">bbc.co.uk</span></a>)</span></td></tr><tr><td colspan=\"2\"></td><td class=\"subtext\">\n",
       "        <span class=\"score\" id=\"score_12708086\">57 points</span> by <a href=\"user?id=hanoz\" class=\"hnuser\">hanoz</a> <span class=\"age\"><a href=\"item?id=12708086\">6 hours ago</a></span> <span id=\"unv_12708086\"></span> | <a href=\"hide?id=12708086&amp;goto=news\">hide</a> | <a href=\"item?id=12708086\">47&nbsp;comments</a>              </td></tr>\n",
       "      <tr class=\"spacer\" style=\"height:5px\"></tr>\n",
       "                <tr class='athing' id='12706986'>\n",
       "      <td align=\"right\" valign=\"top\" class=\"title\"><span class=\"rank\">20.</span></td>      <td valign=\"top\" class=\"votelinks\"><center><a id='up_12706986' href='vote?id=12706986&amp;how=up&amp;goto=news'><div class='votearrow' title='upvote'></div></a></center></td><td class=\"title\"><a href=\"http://dmitryfrank.com/articles/lisp_on_mcu\" class=\"storylink\">Let’s Run Lisp on a Microcontroller</a><span class=\"sitebit comhead\"> (<a href=\"from?site=dmitryfrank.com\"><span class=\"sitestr\">dmitryfrank.com</span></a>)</span></td></tr><tr><td colspan=\"2\"></td><td class=\"subtext\">\n",
       "        <span class=\"score\" id=\"score_12706986\">113 points</span> by <a href=\"user?id=gattilorenz\" class=\"hnuser\">gattilorenz</a> <span class=\"age\"><a href=\"item?id=12706986\">11 hours ago</a></span> <span id=\"unv_12706986\"></span> | <a href=\"hide?id=12706986&amp;goto=news\">hide</a> | <a href=\"item?id=12706986\">6&nbsp;comments</a>              </td></tr>\n",
       "      <tr class=\"spacer\" style=\"height:5px\"></tr>\n",
       "                <tr class='athing' id='12709221'>\n",
       "      <td align=\"right\" valign=\"top\" class=\"title\"><span class=\"rank\">21.</span></td>      <td valign=\"top\" class=\"votelinks\"><center><a id='up_12709221' href='vote?id=12709221&amp;how=up&amp;goto=news'><div class='votearrow' title='upvote'></div></a></center></td><td class=\"title\"><a href=\"https://cloudrail.com/cloud-storage-report-dropbox-owns-cloud-storage-mobile/\" class=\"storylink\">Dropbox Owns Cloud Storage on Mobile</a><span class=\"sitebit comhead\"> (<a href=\"from?site=cloudrail.com\"><span class=\"sitestr\">cloudrail.com</span></a>)</span></td></tr><tr><td colspan=\"2\"></td><td class=\"subtext\">\n",
       "        <span class=\"score\" id=\"score_12709221\">52 points</span> by <a href=\"user?id=droidz\" class=\"hnuser\">droidz</a> <span class=\"age\"><a href=\"item?id=12709221\">4 hours ago</a></span> <span id=\"unv_12709221\"></span> | <a href=\"hide?id=12709221&amp;goto=news\">hide</a> | <a href=\"item?id=12709221\">43&nbsp;comments</a>              </td></tr>\n",
       "      <tr class=\"spacer\" style=\"height:5px\"></tr>\n",
       "                <tr class='athing' id='12706308'>\n",
       "      <td align=\"right\" valign=\"top\" class=\"title\"><span class=\"rank\">22.</span></td>      <td valign=\"top\" class=\"votelinks\"><center><a id='up_12706308' href='vote?id=12706308&amp;how=up&amp;goto=news'><div class='votearrow' title='upvote'></div></a></center></td><td class=\"title\"><a href=\"https://blog.mozilla.org/nnethercote/2016/10/14/how-to-speed-up-the-rust-compiler/\" class=\"storylink\">How to speed up the Rust compiler</a><span class=\"sitebit comhead\"> (<a href=\"from?site=mozilla.org\"><span class=\"sitestr\">mozilla.org</span></a>)</span></td></tr><tr><td colspan=\"2\"></td><td class=\"subtext\">\n",
       "        <span class=\"score\" id=\"score_12706308\">173 points</span> by <a href=\"user?id=nnethercote\" class=\"hnuser\">nnethercote</a> <span class=\"age\"><a href=\"item?id=12706308\">15 hours ago</a></span> <span id=\"unv_12706308\"></span> | <a href=\"hide?id=12706308&amp;goto=news\">hide</a> | <a href=\"item?id=12706308\">83&nbsp;comments</a>              </td></tr>\n",
       "      <tr class=\"spacer\" style=\"height:5px\"></tr>\n",
       "                <tr class='athing' id='12709546'>\n",
       "      <td align=\"right\" valign=\"top\" class=\"title\"><span class=\"rank\">23.</span></td>      <td valign=\"top\" class=\"votelinks\"><center><a id='up_12709546' href='vote?id=12709546&amp;how=up&amp;goto=news'><div class='votearrow' title='upvote'></div></a></center></td><td class=\"title\"><a href=\"https://medium.com/@yardenkatz/universities-have-turned-over-hundreds-of-patents-to-patent-trolls-99d5cdec1d8a#.vulqukskk\" class=\"storylink\">Universities have turned over hundreds of patents to patent trolls</a><span class=\"sitebit comhead\"> (<a href=\"from?site=medium.com\"><span class=\"sitestr\">medium.com</span></a>)</span></td></tr><tr><td colspan=\"2\"></td><td class=\"subtext\">\n",
       "        <span class=\"score\" id=\"score_12709546\">68 points</span> by <a href=\"user?id=doener\" class=\"hnuser\">doener</a> <span class=\"age\"><a href=\"item?id=12709546\">3 hours ago</a></span> <span id=\"unv_12709546\"></span> | <a href=\"hide?id=12709546&amp;goto=news\">hide</a> | <a href=\"item?id=12709546\">11&nbsp;comments</a>              </td></tr>\n",
       "      <tr class=\"spacer\" style=\"height:5px\"></tr>\n",
       "                <tr class='athing' id='12709443'>\n",
       "      <td align=\"right\" valign=\"top\" class=\"title\"><span class=\"rank\">24.</span></td>      <td valign=\"top\" class=\"votelinks\"><center><a id='up_12709443' href='vote?id=12709443&amp;how=up&amp;goto=news'><div class='votearrow' title='upvote'></div></a></center></td><td class=\"title\"><a href=\"https://blogs.msdn.microsoft.com/visualstudio/2016/10/14/improved-overall-visual-studio-15-responsiveness/\" class=\"storylink\">Improved Overall Visual Studio “15” Responsiveness</a><span class=\"sitebit comhead\"> (<a href=\"from?site=microsoft.com\"><span class=\"sitestr\">microsoft.com</span></a>)</span></td></tr><tr><td colspan=\"2\"></td><td class=\"subtext\">\n",
       "        <span class=\"score\" id=\"score_12709443\">28 points</span> by <a href=\"user?id=dustinmoris\" class=\"hnuser\">dustinmoris</a> <span class=\"age\"><a href=\"item?id=12709443\">3 hours ago</a></span> <span id=\"unv_12709443\"></span> | <a href=\"hide?id=12709443&amp;goto=news\">hide</a> | <a href=\"item?id=12709443\">22&nbsp;comments</a>              </td></tr>\n",
       "      <tr class=\"spacer\" style=\"height:5px\"></tr>\n",
       "                <tr class='athing' id='12709714'>\n",
       "      <td align=\"right\" valign=\"top\" class=\"title\"><span class=\"rank\">25.</span></td>      <td valign=\"top\" class=\"votelinks\"><center><a id='up_12709714' href='vote?id=12709714&amp;how=up&amp;goto=news'><div class='votearrow' title='upvote'></div></a></center></td><td class=\"title\"><a href=\"http://www.marketwatch.com/story/twitter-shares-tank-as-salesforce-reported-to-be-out-of-the-bidding-process-2016-10-14\" class=\"storylink\">Twitter shares drop as Salesforce reported to be out of the bidding process</a><span class=\"sitebit comhead\"> (<a href=\"from?site=marketwatch.com\"><span class=\"sitestr\">marketwatch.com</span></a>)</span></td></tr><tr><td colspan=\"2\"></td><td class=\"subtext\">\n",
       "        <span class=\"score\" id=\"score_12709714\">45 points</span> by <a href=\"user?id=obi1kenobi\" class=\"hnuser\">obi1kenobi</a> <span class=\"age\"><a href=\"item?id=12709714\">3 hours ago</a></span> <span id=\"unv_12709714\"></span> | <a href=\"hide?id=12709714&amp;goto=news\">hide</a> | <a href=\"item?id=12709714\">38&nbsp;comments</a>              </td></tr>\n",
       "      <tr class=\"spacer\" style=\"height:5px\"></tr>\n",
       "                <tr class='athing' id='12707388'>\n",
       "      <td align=\"right\" valign=\"top\" class=\"title\"><span class=\"rank\">26.</span></td>      <td valign=\"top\" class=\"votelinks\"><center><a id='up_12707388' href='vote?id=12707388&amp;how=up&amp;goto=news'><div class='votearrow' title='upvote'></div></a></center></td><td class=\"title\"><a href=\"http://chalkdustmagazine.com/features/proof-by-storytelling/\" class=\"storylink\">Proof by storytelling</a><span class=\"sitebit comhead\"> (<a href=\"from?site=chalkdustmagazine.com\"><span class=\"sitestr\">chalkdustmagazine.com</span></a>)</span></td></tr><tr><td colspan=\"2\"></td><td class=\"subtext\">\n",
       "        <span class=\"score\" id=\"score_12707388\">34 points</span> by <a href=\"user?id=CarolineW\" class=\"hnuser\">CarolineW</a> <span class=\"age\"><a href=\"item?id=12707388\">8 hours ago</a></span> <span id=\"unv_12707388\"></span> | <a href=\"hide?id=12707388&amp;goto=news\">hide</a> | <a href=\"item?id=12707388\">3&nbsp;comments</a>              </td></tr>\n",
       "      <tr class=\"spacer\" style=\"height:5px\"></tr>\n",
       "                <tr class='athing' id='12707067'>\n",
       "      <td align=\"right\" valign=\"top\" class=\"title\"><span class=\"rank\">27.</span></td>      <td valign=\"top\" class=\"votelinks\"><center><a id='up_12707067' href='vote?id=12707067&amp;how=up&amp;goto=news'><div class='votearrow' title='upvote'></div></a></center></td><td class=\"title\"><a href=\"https://github.com/mulle-nat/mulle-allocator\" class=\"storylink\">Show HN: Flexible C memory allocation scheme with leak checking</a><span class=\"sitebit comhead\"> (<a href=\"from?site=github.com\"><span class=\"sitestr\">github.com</span></a>)</span></td></tr><tr><td colspan=\"2\"></td><td class=\"subtext\">\n",
       "        <span class=\"score\" id=\"score_12707067\">39 points</span> by <a href=\"user?id=mulle_nat\" class=\"hnuser\">mulle_nat</a> <span class=\"age\"><a href=\"item?id=12707067\">10 hours ago</a></span> <span id=\"unv_12707067\"></span> | <a href=\"hide?id=12707067&amp;goto=news\">hide</a> | <a href=\"item?id=12707067\">9&nbsp;comments</a>              </td></tr>\n",
       "      <tr class=\"spacer\" style=\"height:5px\"></tr>\n",
       "                <tr class='athing' id='12703751'>\n",
       "      <td align=\"right\" valign=\"top\" class=\"title\"><span class=\"rank\">28.</span></td>      <td valign=\"top\" class=\"votelinks\"><center><a id='up_12703751' href='vote?id=12703751&amp;how=up&amp;goto=news'><div class='votearrow' title='upvote'></div></a></center></td><td class=\"title\"><a href=\"https://slack.engineering/taking-php-seriously-cf7a60065329#.v643zvbw3\" class=\"storylink\">Taking PHP Seriously</a><span class=\"sitebit comhead\"> (<a href=\"from?site=slack.engineering\"><span class=\"sitestr\">slack.engineering</span></a>)</span></td></tr><tr><td colspan=\"2\"></td><td class=\"subtext\">\n",
       "        <span class=\"score\" id=\"score_12703751\">716 points</span> by <a href=\"user?id=josephscott\" class=\"hnuser\">josephscott</a> <span class=\"age\"><a href=\"item?id=12703751\">1 day ago</a></span> <span id=\"unv_12703751\"></span> | <a href=\"hide?id=12703751&amp;goto=news\">hide</a> | <a href=\"item?id=12703751\">557&nbsp;comments</a>              </td></tr>\n",
       "      <tr class=\"spacer\" style=\"height:5px\"></tr>\n",
       "                <tr class='athing' id='12710593'>\n",
       "      <td align=\"right\" valign=\"top\" class=\"title\"><span class=\"rank\">29.</span></td>      <td valign=\"top\" class=\"votelinks\"><center><a id='up_12710593' href='vote?id=12710593&amp;how=up&amp;goto=news'><div class='votearrow' title='upvote'></div></a></center></td><td class=\"title\"><a href=\"http://www.coindesk.com/so-it-looks-like-ethereum-is-going-to-have-to-fork-again/\" class=\"storylink\" rel=\"nofollow\">So, It Looks Like Ethereum Is Going to Have to Fork Again</a><span class=\"sitebit comhead\"> (<a href=\"from?site=coindesk.com\"><span class=\"sitestr\">coindesk.com</span></a>)</span></td></tr><tr><td colspan=\"2\"></td><td class=\"subtext\">\n",
       "        <span class=\"score\" id=\"score_12710593\">7 points</span> by <a href=\"user?id=avadhoot\" class=\"hnuser\">avadhoot</a> <span class=\"age\"><a href=\"item?id=12710593\">58 minutes ago</a></span> <span id=\"unv_12710593\"></span> | <a href=\"hide?id=12710593&amp;goto=news\">hide</a> | <a href=\"item?id=12710593\">discuss</a>              </td></tr>\n",
       "      <tr class=\"spacer\" style=\"height:5px\"></tr>\n",
       "                <tr class='athing' id='12705546'>\n",
       "      <td align=\"right\" valign=\"top\" class=\"title\"><span class=\"rank\">30.</span></td>      <td valign=\"top\" class=\"votelinks\"><center><a id='up_12705546' href='vote?id=12705546&amp;how=up&amp;goto=news'><div class='votearrow' title='upvote'></div></a></center></td><td class=\"title\"><a href=\"http://www.maslowcnc.com\" class=\"storylink\">Maslow CNC</a><span class=\"sitebit comhead\"> (<a href=\"from?site=maslowcnc.com\"><span class=\"sitestr\">maslowcnc.com</span></a>)</span></td></tr><tr><td colspan=\"2\"></td><td class=\"subtext\">\n",
       "        <span class=\"score\" id=\"score_12705546\">372 points</span> by <a href=\"user?id=MaslowCNC\" class=\"hnuser\">MaslowCNC</a> <span class=\"age\"><a href=\"item?id=12705546\">19 hours ago</a></span> <span id=\"unv_12705546\"></span> | <a href=\"hide?id=12705546&amp;goto=news\">hide</a> | <a href=\"item?id=12705546\">90&nbsp;comments</a>              </td></tr>\n",
       "      <tr class=\"spacer\" style=\"height:5px\"></tr>\n",
       "            <tr class=\"morespace\" style=\"height:10px\"></tr><tr><td colspan=\"2\"></td><td class=\"title\"><a href=\"news?p=2\" class=\"morelink\" rel=\"nofollow\">More</a></td></tr>\n",
       "  </table>\n",
       "</td></tr>\n",
       "<tr><td><img src=\"s.gif\" height=\"10\" width=\"0\"><table width=\"100%\" cellspacing=\"0\" cellpadding=\"1\"><tr><td bgcolor=\"#ff6600\"></td></tr></table><br><center><span class=\"yclinks\"><a href=\"newsguidelines.html\">Guidelines</a>\n",
       "        | <a href=\"newsfaq.html\">FAQ</a>\n",
       "        | <a href=\"mailto:hn@ycombinator.com\">Support</a>\n",
       "        | <a href=\"https://github.com/HackerNews/API\">API</a>\n",
       "        | <a href=\"security.html\">Security</a>\n",
       "        | <a href=\"lists\">Lists</a>\n",
       "        | <a href=\"bookmarklet.html\">Bookmarklet</a>\n",
       "        | <a href=\"dmca.html\">DMCA</a>\n",
       "        | <a href=\"http://www.ycombinator.com/apply/\">Apply to YC</a>\n",
       "        | <a href=\"mailto:hn@ycombinator.com\">Contact</a></span><br><br><form method=\"get\" action=\"//hn.algolia.com/\">Search:\n",
       "          <input type=\"text\" name=\"q\" value=\"\" size=\"17\" autocorrect=\"off\" spellcheck=\"false\" autocapitalize=\"off\" autocomplete=\"false\"></form>\n",
       "            </center></td></tr>      </table></center></body><script type='text/javascript' src='hn.js?0jKc9Keyn2Zl7D1UAQcy'></script></html>\n"
      ],
      "text/plain": [
       "<IPython.core.display.HTML object>"
      ]
     },
     "execution_count": 10,
     "metadata": {},
     "output_type": "execute_result"
    }
   ],
   "source": [
    "from IPython.core.display import HTML\n",
    "HTML(r.content.decode('utf-8'))"
   ]
  },
  {
   "cell_type": "markdown",
   "metadata": {
    "collapsed": false,
    "scrolled": true,
    "slideshow": {
     "slide_type": "slide"
    }
   },
   "source": [
    "## Exercise\n",
    "\n",
    "- Using the requests library, retrieve a wepage of your choosing with a GET request\n",
    "- Examine the response code, the headers, and the content\n",
    "- Use ```IPython.core.display's HTML()``` to display the page in your notebook \n",
    "- Compare the results with the actual page you requested in your browser"
   ]
  },
  {
   "cell_type": "raw",
   "metadata": {
    "ExecuteTime": {
     "end_time": "2016-10-13T15:31:11.269726",
     "start_time": "2016-10-13T15:31:10.597323"
    },
    "collapsed": false
   },
   "source": [
    "response = requests.get('https://jocelyn-ong.github.io/')"
   ]
  },
  {
   "cell_type": "raw",
   "metadata": {
    "ExecuteTime": {
     "end_time": "2016-10-13T15:31:11.282185",
     "start_time": "2016-10-13T15:31:11.272781"
    },
    "collapsed": false
   },
   "source": [
    "HTML(response.content.decode('utf-8'))"
   ]
  },
  {
   "cell_type": "markdown",
   "metadata": {
    "slideshow": {
     "slide_type": "slide"
    }
   },
   "source": [
    "## Webscraping - The Struggle is real"
   ]
  },
  {
   "cell_type": "markdown",
   "metadata": {
    "slideshow": {
     "slide_type": "-"
    }
   },
   "source": [
    "- Robots.txt\n",
    "- User Agent\n",
    "- Ajax"
   ]
  },
  {
   "cell_type": "markdown",
   "metadata": {
    "slideshow": {
     "slide_type": "slide"
    }
   },
   "source": [
    "## Ajax - The enemy of the webscraper"
   ]
  },
  {
   "cell_type": "code",
   "execution_count": 11,
   "metadata": {
    "ExecuteTime": {
     "end_time": "2016-10-14T16:48:08.916299",
     "start_time": "2016-10-14T16:48:07.286241"
    },
    "collapsed": false,
    "slideshow": {
     "slide_type": "-"
    }
   },
   "outputs": [],
   "source": [
    "r2 = requests.get('https://www.google.com/#q=data+science')"
   ]
  },
  {
   "cell_type": "code",
   "execution_count": 12,
   "metadata": {
    "ExecuteTime": {
     "end_time": "2016-10-14T16:48:08.926585",
     "start_time": "2016-10-14T16:48:08.919629"
    },
    "collapsed": false,
    "slideshow": {
     "slide_type": "-"
    }
   },
   "outputs": [
    {
     "data": {
      "text/plain": [
       "<Response [200]>"
      ]
     },
     "execution_count": 12,
     "metadata": {},
     "output_type": "execute_result"
    }
   ],
   "source": [
    "r2"
   ]
  },
  {
   "cell_type": "code",
   "execution_count": 13,
   "metadata": {
    "ExecuteTime": {
     "end_time": "2016-10-14T16:48:09.025148",
     "start_time": "2016-10-14T16:48:08.930965"
    },
    "collapsed": false,
    "slideshow": {
     "slide_type": "slide"
    }
   },
   "outputs": [
    {
     "data": {
      "text/html": [
       "<!doctype html><html itemscope=\"\" itemtype=\"http://schema.org/WebPage\" lang=\"en\"><head><meta content=\"Search the world's information, including webpages, images, videos and more. Google has many special features to help you find exactly what you're looking for.\" name=\"description\"><meta content=\"noodp\" name=\"robots\"><meta content=\"text/html; charset=UTF-8\" http-equiv=\"Content-Type\"><meta content=\"/images/branding/googleg/1x/googleg_standard_color_128dp.png\" itemprop=\"image\"><title>Google</title><script>(function(){window.google={kEI:'iEQBWPqaNcPRmAGY0YsY',kEXPI:'18168,1351634,3700280,3700389,3700400,4029815,4031109,4032678,4036527,4038012,4039268,4043492,4045841,4048347,4052304,4055745,4064493,4065787,4067860,4068550,4069148,4069839,4069841,4070327,4071230,4071604,4071842,4072289,4072364,4072602,4072705,4072773,4073405,4073418,4073959,4074348,4074684,4074807,4076081,4076083,4076096,4076607,4076930,4076998,4077039,4077221,4077238,4077298,4078430,4078438,4078456,4078547,4078607,4078768,4079083,4079105,4079155,4079388,4079553,4079810,4079872,4080098,4080104,4080167,4080198,4080230,4080271,4080480,4080500,4080514,4080902,4081017,4081037,4081038,4081253,4081264,4081371,4081460,4081482,4081671,4081874,4082074,4082458,8300096,8300273,8502184,8503585,8504846,8505150,8505152,8506251,8506255,8506340,8506615,8507070,8507073,8507080,8507125,8507204,8507209,8507273,8507336,8507380,10200083,10200095,13500016',authuser:0,kscs:'c9c918f0_24'};google.kHL='en';})();(function(){google.lc=[];google.li=0;google.getEI=function(a){for(var b;a&&(!a.getAttribute||!(b=a.getAttribute(\"eid\")));)a=a.parentNode;return b||google.kEI};google.getLEI=function(a){for(var b=null;a&&(!a.getAttribute||!(b=a.getAttribute(\"leid\")));)a=a.parentNode;return b};google.https=function(){return\"https:\"==window.location.protocol};google.ml=function(){return null};google.wl=function(a,b){try{google.ml(Error(a),!1,b)}catch(c){}};google.time=function(){return(new Date).getTime()};google.log=function(a,b,c,e,g){a=google.logUrl(a,b,c,e,g);if(\"\"!=a){b=new Image;var d=google.lc,f=google.li;d[f]=b;b.onerror=b.onload=b.onabort=function(){delete d[f]};window.google&&window.google.vel&&window.google.vel.lu&&window.google.vel.lu(a);b.src=a;google.li=f+1}};google.logUrl=function(a,b,c,e,g){var d=\"\",f=google.ls||\"\";if(!c&&-1==b.search(\"&ei=\")){var h=google.getEI(e),d=\"&ei=\"+h;-1==b.search(\"&lei=\")&&((e=google.getLEI(e))?d+=\"&lei=\"+e:h!=google.kEI&&(d+=\"&lei=\"+google.kEI))}a=c||\"/\"+(g||\"gen_204\")+\"?atyp=i&ct=\"+a+\"&cad=\"+b+d+f+\"&zx=\"+google.time();/^http:/i.test(a)&&google.https()&&(google.ml(Error(\"a\"),!1,{src:a,glmm:1}),a=\"\");return a};google.y={};google.x=function(a,b){google.y[a.id]=[a,b];return!1};google.lq=[];google.load=function(a,b,c){google.lq.push([[a],b,c])};google.loadAll=function(a,b){google.lq.push([a,b])};})();var a=window.location,b=a.href.indexOf(\"#\");if(0<=b){var c=a.href.substring(b+1);/(^|&)q=/.test(c)&&-1==c.indexOf(\"#\")&&a.replace(\"/search?\"+c.replace(/(^|&)fp=[^&]*/g,\"\")+\"&cad=h\")};</script><style>#gbar,#guser{font-size:13px;padding-top:1px !important;}#gbar{height:22px}#guser{padding-bottom:7px !important;text-align:right}.gbh,.gbd{border-top:1px solid #c9d7f1;font-size:1px}.gbh{height:0;position:absolute;top:24px;width:100%}@media all{.gb1{height:22px;margin-right:.5em;vertical-align:top}#gbar{float:left}}a.gb1,a.gb4{text-decoration:underline !important}a.gb1,a.gb4{color:#00c !important}.gbi .gb4{color:#dd8e27 !important}.gbf .gb4{color:#900 !important}\n",
       "</style><style>body,td,a,p,.h{font-family:arial,sans-serif}body{margin:0;overflow-y:scroll}#gog{padding:3px 8px 0}td{line-height:.8em}.gac_m td{line-height:17px}form{margin-bottom:20px}.h{color:#36c}.q{color:#00c}.ts td{padding:0}.ts{border-collapse:collapse}em{font-weight:bold;font-style:normal}.lst{height:25px;width:496px}.gsfi,.lst{font:18px arial,sans-serif}.gsfs{font:17px arial,sans-serif}.ds{display:inline-box;display:inline-block;margin:3px 0 4px;margin-left:4px}input{font-family:inherit}a.gb1,a.gb2,a.gb3,a.gb4{color:#11c !important}body{background:#fff;color:black}a{color:#11c;text-decoration:none}a:hover,a:active{text-decoration:underline}.fl a{color:#36c}a:visited{color:#551a8b}a.gb1,a.gb4{text-decoration:underline}a.gb3:hover{text-decoration:none}#ghead a.gb2:hover{color:#fff !important}.sblc{padding-top:5px}.sblc a{display:block;margin:2px 0;margin-left:13px;font-size:11px}.lsbb{background:#eee;border:solid 1px;border-color:#ccc #999 #999 #ccc;height:30px}.lsbb{display:block}.ftl,#fll a{display:inline-block;margin:0 12px}.lsb{background:url(/images/nav_logo229.png) 0 -261px repeat-x;border:none;color:#000;cursor:pointer;height:30px;margin:0;outline:0;font:15px arial,sans-serif;vertical-align:top}.lsb:active{background:#ccc}.lst:focus{outline:none}</style><script></script><link href=\"/images/branding/product/ico/googleg_lodp.ico\" rel=\"shortcut icon\"></head><body bgcolor=\"#fff\"><script>(function(){var src='/images/nav_logo229.png';var iesg=false;document.body.onload = function(){window.n && window.n();if (document.images){new Image().src=src;}\n",
       "if (!iesg){document.f&&document.f.q.focus();document.gbqf&&document.gbqf.q.focus();}\n",
       "}\n",
       "})();</script><div id=\"mngb\"> <div id=gbar><nobr><b class=gb1>Search</b> <a class=gb1 href=\"https://www.google.com/imghp?hl=en&tab=wi\">Images</a> <a class=gb1 href=\"https://maps.google.com/maps?hl=en&tab=wl\">Maps</a> <a class=gb1 href=\"https://play.google.com/?hl=en&tab=w8\">Play</a> <a class=gb1 href=\"https://www.youtube.com/?tab=w1\">YouTube</a> <a class=gb1 href=\"https://news.google.com/nwshp?hl=en&tab=wn\">News</a> <a class=gb1 href=\"https://mail.google.com/mail/?tab=wm\">Gmail</a> <a class=gb1 href=\"https://drive.google.com/?tab=wo\">Drive</a> <a class=gb1 style=\"text-decoration:none\" href=\"https://www.google.com/intl/en/options/\"><u>More</u> &raquo;</a></nobr></div><div id=guser width=100%><nobr><span id=gbn class=gbi></span><span id=gbf class=gbf></span><span id=gbe></span><a href=\"http://www.google.com/history/optout?hl=en\" class=gb4>Web History</a> | <a  href=\"/preferences?hl=en\" class=gb4>Settings</a> | <a target=_top id=gb_70 href=\"https://accounts.google.com/ServiceLogin?hl=en&passive=true&continue=https://www.google.com/\" class=gb4>Sign in</a></nobr></div><div class=gbh style=left:0></div><div class=gbh style=right:0></div> </div><center><br clear=\"all\" id=\"lgpd\"><div id=\"lga\"><img alt=\"Google\" height=\"92\" src=\"/images/branding/googlelogo/1x/googlelogo_white_background_color_272x92dp.png\" style=\"padding:28px 0 14px\" width=\"272\" id=\"hplogo\" onload=\"window.lol&&lol()\"><br><br></div><form action=\"/search\" name=\"f\"><table cellpadding=\"0\" cellspacing=\"0\"><tr valign=\"top\"><td width=\"25%\">&nbsp;</td><td align=\"center\" nowrap=\"\"><input name=\"ie\" value=\"ISO-8859-1\" type=\"hidden\"><input value=\"en\" name=\"hl\" type=\"hidden\"><input name=\"source\" type=\"hidden\" value=\"hp\"><input name=\"biw\" type=\"hidden\"><input name=\"bih\" type=\"hidden\"><div class=\"ds\" style=\"height:32px;margin:4px 0\"><input style=\"color:#000;margin:0;padding:5px 8px 0 6px;vertical-align:top\" autocomplete=\"off\" class=\"lst\" value=\"\" title=\"Google Search\" maxlength=\"2048\" name=\"q\" size=\"57\"></div><br style=\"line-height:0\"><span class=\"ds\"><span class=\"lsbb\"><input class=\"lsb\" value=\"Google Search\" name=\"btnG\" type=\"submit\"></span></span><span class=\"ds\"><span class=\"lsbb\"><input class=\"lsb\" value=\"I'm Feeling Lucky\" name=\"btnI\" onclick=\"if(this.form.q.value)this.checked=1; else top.location='/doodles/'\" type=\"submit\"></span></span></td><td class=\"fl sblc\" align=\"left\" nowrap=\"\" width=\"25%\"><a href=\"/advanced_search?hl=en&amp;authuser=0\">Advanced search</a><a href=\"/language_tools?hl=en&amp;authuser=0\">Language tools</a></td></tr></table><input id=\"gbv\" name=\"gbv\" type=\"hidden\" value=\"1\"></form><div id=\"gac_scont\"></div><div style=\"font-size:83%;min-height:3.5em\"><br><div id=\"prm\"><style>.szppmdbYutt__middle-slot-promo{font-size:small;margin-bottom:32px}.szppmdbYutt__middle-slot-promo a._uFi{display:inline-block;text-decoration:none}.szppmdbYutt__middle-slot-promo img{border:none;margin-right:5px;vertical-align:middle}.szppmdbYutt__middle-slot-promo ._vFi{color:red}</style><div class=\"szppmdbYutt__middle-slot-promo r-ikH5nuivar4k\" jsl=\"$t t-Gza07Ho9En4;$x 0;\" data-ved=\"0ahUKEwj6_oXAldvPAhXDKCYKHZjoAgMQnIcBCAQ\"><a class=\"_uFi\" href=\"https://www.google.com/url?q=https://www.google.com/search%3Fq%3Dhow%2Bto%2Bregister%2Bto%2Bvote&amp;source=hpp&amp;id=5085949&amp;ct=3&amp;usg=AFQjCNHQWmL9zGOIQcJOdru9MjH8eu-P9A&amp;sa=X&amp;ved=0ahUKEwj6_oXAldvPAhXDKCYKHZjoAgMQ8IcBCAU\"><img height=\"38px\" src=\"/images/hpp/ic_register_38px.png\" width=\"38px\"></a>Today&#8217;s the last day to <a class=\"_XIi\" href=\"https://www.google.com/url?q=https://www.google.com/search%3Fq%3Dhow%2Bto%2Bregister%2Bto%2Bvote&amp;source=hpp&amp;id=5085949&amp;ct=3&amp;usg=AFQjCNHQWmL9zGOIQcJOdru9MjH8eu-P9A&amp;sa=X&amp;ved=0ahUKEwj6_oXAldvPAhXDKCYKHZjoAgMQ8IcBCAY\" rel=\"nofollow\">register to vote in New York</a></div></div></div><span id=\"footer\"><div style=\"font-size:10pt\"><div style=\"margin:19px auto;text-align:center\" id=\"fll\"><a href=\"/intl/en/ads/\">Advertising Programs</a><a href=\"/services/\">Business Solutions</a><a href=\"https://plus.google.com/116899029375914044550\" rel=\"publisher\">+Google</a><a href=\"/intl/en/about.html\">About Google</a></div></div><p style=\"color:#767676;font-size:8pt\">&copy; 2016 - <a href=\"/intl/en/policies/privacy/\">Privacy</a> - <a href=\"/intl/en/policies/terms/\">Terms</a></p></span></center><script>(function(){window.google.cdo={height:0,width:0};(function(){var a=window.innerWidth,b=window.innerHeight;if(!a||!b)var c=window.document,d=\"CSS1Compat\"==c.compatMode?c.documentElement:c.body,a=d.clientWidth,b=d.clientHeight;a&&b&&(a!=google.cdo.width||b!=google.cdo.height)&&google.log(\"\",\"\",\"/client_204?&atyp=i&biw=\"+a+\"&bih=\"+b+\"&ei=\"+google.kEI);})();})();</script><div id=\"xjsd\"></div><div id=\"xjsi\"><script>(function(){function c(b){window.setTimeout(function(){var a=document.createElement(\"script\");a.src=b;document.getElementById(\"xjsd\").appendChild(a)},0)}google.dljp=function(b,a){google.xjsu=b;c(a)};google.dlj=c;})();(function(){window.google.xjsrm=['mids'];})();if(google.y)google.y.first=[];if(!google.xjs){window._=window._||{};window._._DumpException=function(e){throw e};if(google.timers&&google.timers.load.t){google.timers.load.t.xjsls=new Date().getTime();}google.dljp('/xjs/_/js/k\\x3dxjs.hp.en_US.OKd_GehDbVo.O/m\\x3dsb_he,d/rt\\x3dj/d\\x3d1/t\\x3dzcms/rs\\x3dACT90oHqsFYagKUT1F8bn3nE4HJSQZWqTQ','/xjs/_/js/k\\x3dxjs.hp.en_US.OKd_GehDbVo.O/m\\x3dsb_he,d/rt\\x3dj/d\\x3d1/t\\x3dzcms/rs\\x3dACT90oHqsFYagKUT1F8bn3nE4HJSQZWqTQ');google.xjs=1;}google.pmc={\"sb_he\":{\"agen\":true,\"cgen\":true,\"client\":\"heirloom-hp\",\"dh\":true,\"dhqt\":true,\"ds\":\"\",\"fl\":true,\"host\":\"google.com\",\"isbh\":28,\"jam\":0,\"jsonp\":true,\"msgs\":{\"cibl\":\"Clear Search\",\"dym\":\"Did you mean:\",\"lcky\":\"I\\u0026#39;m Feeling Lucky\",\"lml\":\"Learn more\",\"oskt\":\"Input tools\",\"psrc\":\"This search was removed from your \\u003Ca href=\\\"/history\\\"\\u003EWeb History\\u003C/a\\u003E\",\"psrl\":\"Remove\",\"sbit\":\"Search by image\",\"srch\":\"Google Search\"},\"nds\":true,\"ovr\":{},\"pq\":\"\",\"refpd\":true,\"rfs\":[],\"scd\":10,\"sce\":5,\"stok\":\"ihMU7VOxQhyxwAoveSrKRVMfWgw\"},\"d\":{}};google.y.first.push(function(){if(google.med){google.med('init');google.initHistory();google.med('history');}});if(google.j&&google.j.en&&google.j.xi){window.setTimeout(google.j.xi,0);}\n",
       "</script></div></body></html>"
      ],
      "text/plain": [
       "<IPython.core.display.HTML object>"
      ]
     },
     "execution_count": 13,
     "metadata": {},
     "output_type": "execute_result"
    }
   ],
   "source": [
    "# notice anything missing?\n",
    "HTML(r2.content.decode('latin-1'))"
   ]
  },
  {
   "cell_type": "markdown",
   "metadata": {
    "slideshow": {
     "slide_type": "slide"
    }
   },
   "source": [
    "## What is AJAX?"
   ]
  },
  {
   "cell_type": "markdown",
   "metadata": {
    "slideshow": {
     "slide_type": "-"
    }
   },
   "source": [
    ">Conventional web applications transmit information to and from the server using synchronous requests. It means you fill out a form, hit submit, and get directed to a new page with new information from the server.\n",
    "\n",
    ">With AJAX, when you hit submit, JavaScript will make a request to the server, interpret the results, and **update the current screen**. In the purest sense, the user would never know that anything was even transmitted to the server."
   ]
  },
  {
   "cell_type": "markdown",
   "metadata": {
    "slideshow": {
     "slide_type": "slide"
    }
   },
   "source": [
    "## How do you handle Ajax?"
   ]
  },
  {
   "cell_type": "markdown",
   "metadata": {
    "slideshow": {
     "slide_type": "-"
    }
   },
   "source": [
    "If a site uses ajax on content you need to scrape, **you will have to use a browser object** to retrieve it. \n",
    "\n",
    "The difference between a library like requests and an actual browser object is that requests just sends and receives text. The browser object \"renders\" the webpage just like Firefox or Chrome does. \n",
    "\n",
    "So how do we do this? We'll need to libraries to accomplish this...\n",
    "\n",
    "\n",
    "- Selenium\n",
    "\n",
    "- PhantomJS"
   ]
  },
  {
   "cell_type": "markdown",
   "metadata": {
    "slideshow": {
     "slide_type": "slide"
    }
   },
   "source": [
    "## Selenium\n",
    "\n",
    "- Selenium is a browser automation library (used extensively in testing)<br>"
   ]
  },
  {
   "cell_type": "markdown",
   "metadata": {
    "slideshow": {
     "slide_type": "-"
    }
   },
   "source": [
    " <img src=\"http://i.imgur.com/WLs22wp.png\" width=500>"
   ]
  },
  {
   "cell_type": "markdown",
   "metadata": {
    "slideshow": {
     "slide_type": "slide"
    }
   },
   "source": [
    "## PhantomJS\n",
    "\n",
    "PhantomJS is a \"headless\" browswer. It allows us all the functionality available in a full browser, but without the overhead of a UI."
   ]
  },
  {
   "cell_type": "markdown",
   "metadata": {
    "slideshow": {
     "slide_type": "-"
    }
   },
   "source": [
    "<img src=\"http://i.imgur.com/hN5trU9.png\" width=\"500\">"
   ]
  },
  {
   "cell_type": "markdown",
   "metadata": {
    "slideshow": {
     "slide_type": "slide"
    }
   },
   "source": [
    "## Using Selenium with PhantomJS"
   ]
  },
  {
   "cell_type": "code",
   "execution_count": 14,
   "metadata": {
    "ExecuteTime": {
     "end_time": "2016-10-14T16:48:09.218383",
     "start_time": "2016-10-14T16:48:09.029839"
    },
    "collapsed": false
   },
   "outputs": [],
   "source": [
    "from selenium import webdriver"
   ]
  },
  {
   "cell_type": "code",
   "execution_count": 15,
   "metadata": {
    "ExecuteTime": {
     "end_time": "2016-10-14T16:48:09.228661",
     "start_time": "2016-10-14T16:48:09.222967"
    },
    "collapsed": false
   },
   "outputs": [],
   "source": [
    "phan_path = '//Applications/phantomjs'"
   ]
  },
  {
   "cell_type": "code",
   "execution_count": 16,
   "metadata": {
    "ExecuteTime": {
     "end_time": "2016-10-14T16:48:11.318929",
     "start_time": "2016-10-14T16:48:09.232640"
    },
    "collapsed": false
   },
   "outputs": [],
   "source": [
    "driver = webdriver.PhantomJS(executable_path=phan_path)"
   ]
  },
  {
   "cell_type": "code",
   "execution_count": 17,
   "metadata": {
    "ExecuteTime": {
     "end_time": "2016-10-14T16:48:15.033570",
     "start_time": "2016-10-14T16:48:11.323107"
    },
    "collapsed": false,
    "scrolled": true,
    "slideshow": {
     "slide_type": "-"
    }
   },
   "outputs": [],
   "source": [
    "driver.set_window_size(1024, 768) \n",
    "driver.get('https://www.google.com/#q=data+science')"
   ]
  },
  {
   "cell_type": "code",
   "execution_count": 18,
   "metadata": {
    "ExecuteTime": {
     "end_time": "2016-10-14T16:48:15.135374",
     "start_time": "2016-10-14T16:48:15.036703"
    },
    "collapsed": false,
    "slideshow": {
     "slide_type": "slide"
    }
   },
   "outputs": [
    {
     "data": {
      "text/html": [
       "<!DOCTYPE html><html itemscope=\"\" itemtype=\"http://schema.org/SearchResultsPage\" lang=\"en\"><head><meta content=\"text/html; charset=UTF-8\" http-equiv=\"Content-Type\"><meta content=\"/images/branding/googleg/1x/googleg_standard_color_128dp.png\" itemprop=\"image\"><link href=\"/images/branding/product/ico/googleg_lodp.ico\" rel=\"shortcut icon\"><noscript>&lt;meta content=\"0;url=/search?q=data+science&amp;amp;gbv=1&amp;amp;sei=jEQBWO7sAoaq-QHdqZbADw\" http-equiv=\"refresh\"&gt;&lt;style&gt;table,div,span,p{display:none}&lt;/style&gt;&lt;div style=\"display:block\"&gt;Please click &lt;a href=\"/search?q=data+science&amp;amp;gbv=1&amp;amp;sei=jEQBWO7sAoaq-QHdqZbADw\"&gt;here&lt;/a&gt; if you are not redirected within a few seconds.&lt;/div&gt;</noscript><title>data science - Google Search</title><style>#gb{font:13px/27px Arial,sans-serif;height:30px}#gbz,#gbg{position:absolute;white-space:nowrap;top:0;height:30px;z-index:1000}#gbz{left:0;padding-left:4px}#gbg{right:0;padding-right:5px}#gbs{background:transparent;position:absolute;top:-999px;visibility:hidden;z-index:998;right:0}.gbto #gbs{background:#fff}#gbx3,#gbx4{background-color:#2d2d2d;background-image:none;_background-image:none;background-position:0 -138px;background-repeat:repeat-x;border-bottom:1px solid #000;font-size:24px;height:29px;_height:30px;opacity:1;filter:alpha(opacity=100);position:absolute;top:0;width:100%;z-index:990}#gbx3{left:0}#gbx4{right:0}#gbb{position:relative}#gbbw{left:0;position:absolute;top:30px;width:100%}.gbtcb{position:absolute;visibility:hidden}#gbz .gbtcb{right:0}#gbg .gbtcb{left:0}.gbxx{display:none !important}.gbxo{opacity:0 !important;filter:alpha(opacity=0) !important}.gbm{position:absolute;z-index:999;top:-999px;visibility:hidden;text-align:left;border:1px solid #bebebe;background:#fff;-moz-box-shadow:-1px 1px 1px rgba(0,0,0,.2);-webkit-box-shadow:0 2px 4px rgba(0,0,0,.2);box-shadow:0 2px 4px rgba(0,0,0,.2)}.gbrtl .gbm{-moz-box-shadow:1px 1px 1px rgba(0,0,0,.2)}.gbto .gbm,.gbto #gbs{top:29px;visibility:visible}#gbz .gbm{left:0}#gbg .gbm{right:0}.gbxms{background-color:#ccc;display:block;position:absolute;z-index:1;top:-1px;left:-2px;right:-2px;bottom:-2px;opacity:.4;-moz-border-radius:3px;filter:progid:DXImageTransform.Microsoft.Blur(pixelradius=5);*opacity:1;*top:-2px;*left:-5px;*right:5px;*bottom:4px;-ms-filter:\"progid:DXImageTransform.Microsoft.Blur(pixelradius=5)\";opacity:1\\0/;top:-4px\\0/;left:-6px\\0/;right:5px\\0/;bottom:4px\\0/}.gbma{position:relative;top:-1px;border-style:solid dashed dashed;border-color:transparent;border-top-color:#c0c0c0;display:-moz-inline-box;display:inline-block;font-size:0;height:0;line-height:0;width:0;border-width:3px 3px 0;padding-top:1px;left:4px}#gbztms1,#gbi4m1,#gbi4s,#gbi4t{zoom:1}.gbtc,.gbmc,.gbmcc{display:block;list-style:none;margin:0;padding:0}.gbmc{background:#fff;padding:10px 0;position:relative;z-index:2;zoom:1}.gbt{position:relative;display:-moz-inline-box;display:inline-block;line-height:27px;padding:0;vertical-align:top}.gbt{*display:inline}.gbto{box-shadow:0 2px 4px rgba(0,0,0,.2);-moz-box-shadow:0 2px 4px rgba(0,0,0,.2);-webkit-box-shadow:0 2px 4px rgba(0,0,0,.2)}.gbzt,.gbgt{cursor:pointer;display:block;text-decoration:none !important}span#gbg6,span#gbg4{cursor:default}.gbts{border-left:1px solid transparent;border-right:1px solid transparent;display:block;*display:inline-block;padding:0 5px;position:relative;z-index:1000}.gbts{*display:inline}.gbzt .gbts{display:inline;zoom:1}.gbto .gbts{background:#fff;border-color:#bebebe;color:#36c;padding-bottom:1px;padding-top:2px}.gbz0l .gbts{color:#fff;font-weight:bold}.gbtsa{padding-right:9px}#gbz .gbzt,#gbz .gbgt,#gbg .gbgt{color:#ccc!important}.gbtb2{display:block;border-top:2px solid transparent}.gbto .gbzt .gbtb2,.gbto .gbgt .gbtb2{border-top-width:0}.gbtb .gbts{background:url(//ssl.gstatic.com/gb/images/b_8d5afc09.png);_background:url(//ssl.gstatic.com/gb/images/b8_3615d64d.png);background-position:-27px -22px;border:0;font-size:0;padding:29px 0 0;*padding:27px 0 0;width:1px}.gbzt:hover,.gbzt:focus,.gbgt-hvr,.gbgt:focus{background-color:#4c4c4c;background-image:none;_background-image:none;background-position:0 -102px;background-repeat:repeat-x;outline:none;text-decoration:none !important}.gbpdjs .gbto .gbm{min-width:99%}.gbz0l .gbtb2{border-top-color:#dd4b39!important}#gbi4s,#gbi4s1{font-weight:bold}#gbg6.gbgt-hvr,#gbg6.gbgt:focus{background-color:transparent;background-image:none}.gbg4a{font-size:0;line-height:0}.gbg4a .gbts{padding:27px 5px 0;*padding:25px 5px 0}.gbto .gbg4a .gbts{padding:29px 5px 1px;*padding:27px 5px 1px}#gbi4i,#gbi4id{left:5px;border:0;height:24px;position:absolute;top:1px;width:24px}.gbto #gbi4i,.gbto #gbi4id{top:3px}.gbi4p{display:block;width:24px}#gbi4id{background-position:-44px -101px}#gbmpid{background-position:0 0}#gbmpi,#gbmpid{border:none;display:inline-block;height:48px;width:48px}#gbmpiw{display:inline-block;line-height:9px;padding-left:20px;margin-top:10px;position:relative}#gbmpi,#gbmpid,#gbmpiw{*display:inline}#gbg5{font-size:0}#gbgs5{padding:5px !important}.gbto #gbgs5{padding:7px 5px 6px !important}#gbi5{background:url(//ssl.gstatic.com/gb/images/b_8d5afc09.png);_background:url(//ssl.gstatic.com/gb/images/b8_3615d64d.png);background-position:0 0;display:block;font-size:0;height:17px;width:16px}.gbto #gbi5{background-position:-6px -22px}.gbn .gbmt,.gbn .gbmt:visited,.gbnd .gbmt,.gbnd .gbmt:visited{color:#dd8e27 !important}.gbf .gbmt,.gbf .gbmt:visited{color:#900 !important}.gbmt,.gbml1,.gbmlb,.gbmt:visited,.gbml1:visited,.gbmlb:visited{color:#36c !important;text-decoration:none !important}.gbmt,.gbmt:visited{display:block}.gbml1,.gbmlb,.gbml1:visited,.gbmlb:visited{display:inline-block;margin:0 10px}.gbml1,.gbmlb,.gbml1:visited,.gbmlb:visited{*display:inline}.gbml1,.gbml1:visited{padding:0 10px}.gbml1-hvr,.gbml1:focus{outline:none;text-decoration:underline !important}#gbpm .gbml1{display:inline;margin:0;padding:0;white-space:nowrap}.gbmlb,.gbmlb:visited{line-height:27px}.gbmlb-hvr,.gbmlb:focus{outline:none;text-decoration:underline !important}.gbmlbw{color:#ccc;margin:0 10px}.gbmt{padding:0 20px}.gbmt:hover,.gbmt:focus{background:#eee;cursor:pointer;outline:0 solid black;text-decoration:none !important}.gbm0l,.gbm0l:visited{color:#000 !important;font-weight:bold}.gbmh{border-top:1px solid #bebebe;font-size:0;margin:10px 0}#gbd4 .gbmc{background:#f5f5f5;padding-top:0}#gbd4 .gbsbic::-webkit-scrollbar-track:vertical{background-color:#f5f5f5;margin-top:2px}#gbmpdv{background:#fff;border-bottom:1px solid #bebebe;-moz-box-shadow:0 2px 4px rgba(0,0,0,.12);-o-box-shadow:0 2px 4px rgba(0,0,0,.12);-webkit-box-shadow:0 2px 4px rgba(0,0,0,.12);box-shadow:0 2px 4px rgba(0,0,0,.12);position:relative;z-index:1}#gbd4 .gbmh{margin:0}.gbmtc{padding:0;margin:0;line-height:27px}.GBMCC:last-child:after,#GBMPAL:last-child:after{content:'\\0A\\0A';white-space:pre;position:absolute}#gbmps{*zoom:1}#gbd4 .gbpc,#gbmpas .gbmt{line-height:17px}#gbd4 .gbpgs .gbmtc{line-height:27px}#gbd4 .gbmtc{border-bottom:1px solid #bebebe}#gbd4 .gbpc{display:inline-block;margin:16px 0 10px;padding-right:50px;vertical-align:top}#gbd4 .gbpc{*display:inline}.gbpc .gbps,.gbpc .gbps2{display:block;margin:0 20px}#gbmplp.gbps{margin:0 10px}.gbpc .gbps{color:#000;font-weight:bold}.gbpc .gbpd{margin-bottom:5px}.gbpd .gbmt,.gbpd .gbps{color:#666 !important}.gbpd .gbmt{opacity:.4;filter:alpha(opacity=40)}.gbps2{color:#666;display:block}.gbp0{display:none}.gbp0 .gbps2{font-weight:bold}#gbd4 .gbmcc{margin-top:5px}.gbpmc{background:#fef9db}.gbpmc .gbpmtc{padding:10px 20px}#gbpm{border:0;*border-collapse:collapse;border-spacing:0;margin:0;white-space:normal}#gbpm .gbpmtc{border-top:none;color:#000 !important;font:11px Arial,sans-serif}#gbpms{*white-space:nowrap}.gbpms2{font-weight:bold;white-space:nowrap}#gbmpal{*border-collapse:collapse;border-spacing:0;border:0;margin:0;white-space:nowrap;width:100%}.gbmpala,.gbmpalb{font:13px Arial,sans-serif;line-height:27px;padding:10px 20px 0;white-space:nowrap}.gbmpala{padding-left:0;text-align:left}.gbmpalb{padding-right:0;text-align:right}#gbmpasb .gbps{color:#000}#gbmpal .gbqfbb{margin:0 20px}.gbp0 .gbps{*display:inline}a.gbiba{margin:8px 20px 10px}.gbmpiaw{display:inline-block;padding-right:10px;margin-bottom:6px;margin-top:10px}.gbxv{visibility:hidden}.gbmpiaa{display:block;margin-top:10px}.gbmpia{border:none;display:block;height:48px;width:48px}.gbmpnw{display:inline-block;height:auto;margin:10px 0;vertical-align:top} .gbqfb,.gbqfba,.gbqfbb{-moz-border-radius:2px;-webkit-border-radius:2px;border-radius:2px;cursor:default !important;display:inline-block;font-weight:bold;height:29px;line-height:29px;min-width:54px;*min-width:70px;padding:0 8px;text-align:center;text-decoration:none !important;-moz-user-select:none;-webkit-user-select:none}.gbqfb:focus,.gbqfba:focus,.gbqfbb:focus{border:1px solid #4d90fe;-moz-box-shadow:inset 0 0 0 1px rgba(255, 255, 255, 0.5);-webkit-box-shadow:inset 0 0 0 1px rgba(255, 255, 255, 0.5);box-shadow:inset 0 0 0 1px rgba(255, 255, 255, 0.5);outline:none}.gbqfb-hvr:focus,.gbqfba-hvr:focus,.gbqfbb-hvr:focus{-webkit-box-shadow:inset 0 0 0 1px #fff,0 1px 1px rgba(0,0,0,.1);-moz-box-shadow:inset 0 0 0 1px #fff,0 1px 1px rgba(0,0,0,.1);box-shadow:inset 0 0 0 1px #fff,0 1px 1px rgba(0,0,0,.1)}.gbqfb-no-focus:focus{border:1px solid #3079ed;-moz-box-shadow:none;-webkit-box-shadow:none;box-shadow:none}.gbqfb-hvr,.gbqfba-hvr,.gbqfbb-hvr{-webkit-box-shadow:0 1px 1px rgba(0,0,0,.1);-moz-box-shadow:0 1px 1px rgba(0,0,0,.1);box-shadow:0 1px 1px rgba(0,0,0,.1)}.gbqfb::-moz-focus-inner,.gbqfba::-moz-focus-inner,.gbqfbb::-moz-focus-inner{border:0}.gbqfba,.gbqfbb{border:1px solid #dcdcdc;border-color:rgba(0,0,0,.1);color:#444 !important;font-size:11px}.gbqfb{background-color:#4d90fe;background-image:-webkit-gradient(linear,left top,left bottom,from(#4d90fe),to(#4787ed));background-image:-webkit-linear-gradient(top,#4d90fe,#4787ed);background-image:-moz-linear-gradient(top,#4d90fe,#4787ed);background-image:-ms-linear-gradient(top,#4d90fe,#4787ed);background-image:-o-linear-gradient(top,#4d90fe,#4787ed);background-image:linear-gradient(top,#4d90fe,#4787ed);filter:progid:DXImageTransform.Microsoft.gradient(startColorStr='#4d90fe',EndColorStr='#4787ed');border:1px solid #3079ed;color:#fff!important;margin:0 0}.gbqfb-hvr{border-color:#2f5bb7}.gbqfb-hvr:focus{border-color:#2f5bb7}.gbqfb-hvr,.gbqfb-hvr:focus{background-color:#357ae8;background-image:-webkit-gradient(linear,left top,left bottom,from(#4d90fe),to(#357ae8));background-image:-webkit-linear-gradient(top,#4d90fe,#357ae8);background-image:-moz-linear-gradient(top,#4d90fe,#357ae8);background-image:-ms-linear-gradient(top,#4d90fe,#357ae8);background-image:-o-linear-gradient(top,#4d90fe,#357ae8);background-image:linear-gradient(top,#4d90fe,#357ae8)}.gbqfb:active{background-color:inherit;-webkit-box-shadow:inset 0 1px 2px rgba(0, 0, 0, 0.3);-moz-box-shadow:inset 0 1px 2px rgba(0, 0, 0, 0.3);box-shadow:inset 0 1px 2px rgba(0, 0, 0, 0.3)}.gbqfba{background-color:#f5f5f5;background-image:-webkit-gradient(linear,left top,left bottom,from(#f5f5f5),to(#f1f1f1));background-image:-webkit-linear-gradient(top,#f5f5f5,#f1f1f1);background-image:-moz-linear-gradient(top,#f5f5f5,#f1f1f1);background-image:-ms-linear-gradient(top,#f5f5f5,#f1f1f1);background-image:-o-linear-gradient(top,#f5f5f5,#f1f1f1);background-image:linear-gradient(top,#f5f5f5,#f1f1f1);filter:progid:DXImageTransform.Microsoft.gradient(startColorStr='#f5f5f5',EndColorStr='#f1f1f1')}.gbqfba-hvr,.gbqfba-hvr:active{background-color:#f8f8f8;background-image:-webkit-gradient(linear,left top,left bottom,from(#f8f8f8),to(#f1f1f1));background-image:-webkit-linear-gradient(top,#f8f8f8,#f1f1f1);background-image:-moz-linear-gradient(top,#f8f8f8,#f1f1f1);background-image:-ms-linear-gradient(top,#f8f8f8,#f1f1f1);background-image:-o-linear-gradient(top,#f8f8f8,#f1f1f1);background-image:linear-gradient(top,#f8f8f8,#f1f1f1);filter:progid:DXImageTransform.Microsoft.gradient(startColorStr='#f8f8f8',EndColorStr='#f1f1f1')}.gbqfbb{background-color:#fff;background-image:-webkit-gradient(linear,left top,left bottom,from(#fff),to(#fbfbfb));background-image:-webkit-linear-gradient(top,#fff,#fbfbfb);background-image:-moz-linear-gradient(top,#fff,#fbfbfb);background-image:-ms-linear-gradient(top,#fff,#fbfbfb);background-image:-o-linear-gradient(top,#fff,#fbfbfb);background-image:linear-gradient(top,#fff,#fbfbfb);filter:progid:DXImageTransform.Microsoft.gradient(startColorStr='#ffffff',EndColorStr='#fbfbfb')}.gbqfbb-hvr,.gbqfbb-hvr:active{background-color:#fff;background-image:-webkit-gradient(linear,left top,left bottom,from(#fff),to(#f8f8f8));background-image:-webkit-linear-gradient(top,#fff,#f8f8f8);background-image:-moz-linear-gradient(top,#fff,#f8f8f8);background-image:-ms-linear-gradient(top,#fff,#f8f8f8);background-image:-o-linear-gradient(top,#fff,#f8f8f8);background-image:linear-gradient(top,#fff,#f8f8f8);filter:progid:DXImageTransform.Microsoft.gradient(startColorStr='#ffffff',EndColorStr='#f8f8f8')}.gbqfba-hvr,.gbqfba-hvr:active,.gbqfbb-hvr,.gbqfbb-hvr:active{border-color:#c6c6c6;-webkit-box-shadow:0 1px 1px rgba(0,0,0,.1);-moz-box-shadow:0 1px 1px rgba(0,0,0,.1);box-shadow:0 1px 1px rgba(0,0,0,.1);color:#222 !important}.gbqfba:active,.gbqfbb:active{-webkit-box-shadow:inset 0 1px 2px rgba(0,0,0,.1);-moz-box-shadow:inset 0 1px 2px rgba(0,0,0,.1);box-shadow:inset 0 1px 2px rgba(0,0,0,.1)} .gbprcd{padding:0;width:258px;white-space:normal}.gbprcb{display:inline-block;height:27px;padding:0 15px;text-decoration:none}#gbprc .gbprcbc{background-color:;background-image:none;border-color:;color:!important}#gbprc .gbprcbc:hover{color:!important}#gbprc .gbprcbc:active,#gbprc .gbprcbc:focus{color:!important}.gbprct{color:#666;line-height:17px;margin:0;margin-bottom:20px}.gbprci{color:#333;font-size:16px;line-height:20px;margin:0;margin-bottom:16px}#gbprc .gbmc{padding:26px;padding-bottom:22px;border:1px solid #bebebe}#gbprc .gbm{border:0}#gbprc .gbprcx,#gbprc .gbprcx.gbgt-hvr,#gbprc .gbprcx:focus,#gbprc .gbprcx:active{right:12px;background:url(//ssl.gstatic.com/s2/oz/images/stars/x.png);display:block;height:9px;opacity:.8;filter:alpha(opacity=80);position:absolute;top:12px;width:9px}#gbprc .gbprcx.gbgt-hvr,#gbprc .gbprcx:focus,#gbprc .gbprcx:active{opacity:1;filter:alpha(opacity=100)}.gbgs .gbmab,.gbgs .gbmab{left:10px;margin:40px 0 0}.gbgs .gbmac,.gbgs .gbmac{left:10px;margin:41px 0 0}.gbemi .gbgs .gbmab,.gbem .gbgs .gbmab{left:10px;margin:40px 0 0}.gbemi .gbgs .gbmac,.gbem .gbgs .gbmac{left:10px;margin:41px 0 0}.gbesi .gbgs .gbmab,.gbes .gbgs .gbmab{left:10px;margin:40px 0 0}.gbesi .gbgs .gbmac,.gbes .gbgs .gbmac{left:10px;margin:41px 0 0}#gbprca .gbmab{z-index:999}#gbprca .gbmac{border-bottom-color:#fff;z-index:999}#gbprcs{position:absolute;background:transparent;top:-999px;z-index:-1;visibility:hidden;margin-top:1px;margin-left:1px} #gb #gbprc{right:-28px;top:15px;z-index:997}#gbprca{left:-63px;position:relative;top:-22px}.gbmab,.gbmac{left:5px;border-style:dashed dashed solid;border-color:transparent;border-bottom-color:#bebebe;border-width:0 10px 10px;display:-moz-inline-box;display:inline-block;font-size:0;height:0;line-height:0;position:absolute;top:0;width:0;z-index:1000}.gbmab,.gbmac{visibility:hidden}.gbmac{border-bottom-color:#fff}.gbto .gbmab,.gbto .gbmac{visibility:visible}#gbqfqw,#gbqfb{vertical-align:top}#gbqfbw{right:0;margin:0 15px;position:absolute;top:0}.gbqfb{background-color:#4d90fe;background-image:-webkit-gradient(linear,left top,left bottom,from(#4d90fe),to(#4787ed));background-image:-webkit-linear-gradient(top,#4d90fe,#4787ed);background-image:-moz-linear-gradient(top,#4d90fe,#4787ed);background-image:-ms-linear-gradient(top,#4d90fe,#4787ed);background-image:-o-linear-gradient(top,#4d90fe,#4787ed);background-image:linear-gradient(top,#4d90fe,#4787ed);filter:progid:DXImageTransform.Microsoft.gradient(startColorStr='#4d90fe',EndColorStr='#4787ed');border:1px solid #3079ed;-moz-border-radius:2px;-webkit-border-radius:2px;border-radius:2px;-moz-user-select:none;-webkit-user-select:none;color:#fff;cursor:default;font-size:11px;font-weight:bold;height:29px;min-width:54px;*min-width:70px;text-align:center;padding:0 8px}.gbqfb-hvr{border:1px solid #2f5bb7;background-color:#357ae8;background-image:-webkit-gradient(linear,left top,left bottom,from(#4d90fe),to(#357ae8));background-image:-webkit-linear-gradient(top,#4d90fe,#357ae8);background-image:-moz-linear-gradient(top,#4d90fe,#357ae8);background-image:-ms-linear-gradient(top,#4d90fe,#357ae8);background-image:-o-linear-gradient(top,#4d90fe,#357ae8);background-image:linear-gradient(top,#4d90fe,#357ae8);-webkit-box-shadow:0 1px 1px rgba(0,0,0,.1);-moz-box-shadow:0 1px 1px rgba(0,0,0,.1);box-shadow:0 1px 1px rgba(0,0,0,.1)}.gbqfb:focus{-moz-box-shadow:inset 0 0 0 1px #fff;-webkit-box-shadow:inset 0 0 0 1px #fff;box-shadow:inset 0 0 0 1px #fff;outline:none}.gbqfb::-moz-focus-inner{border:0}.gbqfb-hvr:focus{-moz-box-shadow:inset 0 0 0 1px #fff,0 1px 1px rgba(0,0,0,.1);-webkit-box-shadow:inset 0 0 0 1px #fff,0 1px 1px rgba(0,0,0,.1);box-shadow:inset 0 0 0 1px #fff,0 1px 1px rgba(0,0,0,.1)}.gbqfb:active{-moz-box-shadow:inset 0 1px 2px rgba(0,0,0,.3);-webkit-box-shadow:inset 0 1px 2px rgba(0,0,0,.3);box-shadow:inset 0 1px 2px rgba(0,0,0,.3)} #gbmpas{max-height:220px}#gbmm{max-height:530px}.gbsb{-webkit-box-sizing:border-box;display:block;position:relative;*zoom:1}.gbsbic{overflow:auto}.gbsbis .gbsbt,.gbsbis .gbsbb{-webkit-mask-box-image:-webkit-gradient(linear,left top,right top,color-stop(0,rgba(0,0,0,.1)),color-stop(.5,rgba(0,0,0,.8)),color-stop(1,rgba(0,0,0,.1)));left:0;margin-right:0;opacity:0;position:absolute;width:100%}.gbsb .gbsbt:after,.gbsb .gbsbb:after{content:\"\";display:block;height:0;left:0;position:absolute;width:100%}.gbsbis .gbsbt{background:-webkit-gradient(linear,left top,left bottom,from(rgba(0,0,0,.2)),to(rgba(0,0,0,0)));background-image:-webkit-linear-gradient(top,rgba(0,0,0,.2),rgba(0,0,0,0));background-image:-moz-linear-gradient(top,rgba(0,0,0,.2),rgba(0,0,0,0));background-image:-ms-linear-gradient(top,rgba(0,0,0,.2),rgba(0,0,0,0));background-image:-o-linear-gradient(top,rgba(0,0,0,.2),rgba(0,0,0,0));background-image:linear-gradient(top,rgba(0,0,0,.2),rgba(0,0,0,0));height:6px;top:0}.gbsb .gbsbt:after{border-top:1px solid #ebebeb;border-color:rgba(0,0,0,.3);top:0}.gbsb .gbsbb{-webkit-mask-box-image:-webkit-gradient(linear,left top,right top,color-stop(0,rgba(0,0,0,.1)),color-stop(.5,rgba(0,0,0,.8)),color-stop(1,rgba(0,0,0,.1)));background:-webkit-gradient(linear,left bottom,left top,from(rgba(0,0,0,.2)),to(rgba(0,0,0,0)));background-image:-webkit-linear-gradient(bottom,rgba(0,0,0,.2),rgba(0,0,0,0));background-image:-moz-linear-gradient(bottom,rgba(0,0,0,.2),rgba(0,0,0,0));background-image:-ms-linear-gradient(bottom,rgba(0,0,0,.2),rgba(0,0,0,0));background-image:-o-linear-gradient(bottom,rgba(0,0,0,.2),rgba(0,0,0,0));background-image:linear-gradient(bottom,rgba(0,0,0,.2),rgba(0,0,0,0));bottom:0;height:4px}.gbsb .gbsbb:after{border-bottom:1px solid #ebebeb;border-color:rgba(0,0,0,.3);bottom:0} .gbsbic::-webkit-scrollbar{height:16px;width:16px}.gbsbic::-webkit-scrollbar-button{height:0;width:0}.gbsbic::-webkit-scrollbar-button:start:decrement,.gbsbic::-webkit-scrollbar-button:end:increment{display:block}.gbsbic::-webkit-scrollbar-button:vertical:start:increment,.gbsbic::-webkit-scrollbar-button:vertical:end:decrement{display:none}.gbsbic::-webkit-scrollbar-track:vertical,.gbsbic::-webkit-scrollbar-track:horizontal,.gbsbic::-webkit-scrollbar-thumb:vertical,.gbsbic::-webkit-scrollbar-thumb:horizontal,.gbsbis .gbsbic::-webkit-scrollbar-track:vertical,.gbsbis .gbsbic::-webkit-scrollbar-track:horizontal,.gbsbis .gbsbic::-webkit-scrollbar-thumb:vertical,.gbsbis .gbsbic::-webkit-scrollbar-thumb:horizontal{border-style:solid;border-color:transparent}.gbsbic::-webkit-scrollbar-track:vertical{background-clip:padding-box;background-color:#fff;border-left-width:5px;border-right-width:0}.gbsbic::-webkit-scrollbar-track:horizontal{background-clip:padding-box;background-color:#fff;border-bottom-width:0;border-top-width:5px}.gbsbic::-webkit-scrollbar-thumb{-webkit-box-shadow:inset 1px 1px 0 rgba(0,0,0,.1),inset 0 -1px 0 rgba(0,0,0,.07);background-clip:padding-box;background-color:rgba(0,0,0,.2);min-height:28px;padding-top:100px}.gbsbic::-webkit-scrollbar-thumb:hover{-webkit-box-shadow:inset 1px 1px 1px rgba(0,0,0,.25);background-color:rgba(0,0,0,.4)}.gbsbic::-webkit-scrollbar-thumb:active{-webkit-box-shadow:inset 1px 1px 3px rgba(0,0,0,.35);background-color:rgba(0,0,0,.5)}.gbsbic::-webkit-scrollbar-thumb:vertical{border-width:0;border-left-width:5px}.gbsbic::-webkit-scrollbar-thumb:horizontal{border-width:0;border-top-width:5px}.gbsbis .gbsbic::-webkit-scrollbar-track:vertical{border-left-width:6px;border-right-width:1px}.gbsbis .gbsbic::-webkit-scrollbar-track:horizontal{border-bottom:1px;border-top:6px}.gbsbis .gbsbic::-webkit-scrollbar-thumb:vertical{border-width:0;border-left-width:6px;border-right-width:1px}.gbsbis .gbsbic::-webkit-scrollbar-thumb:horizontal{border-width:0;border-bottom:1px;border-top:6px}.gbsbic::-webkit-scrollbar-track:hover{-webkit-box-shadow:inset 1px 0 0 rgba(0,0,0,.1);background-color:rgba(0,0,0,.05)}.gbsbic::-webkit-scrollbar-track:active{-webkit-box-shadow:inset 1px 0 0 rgba(0,0,0,.14),inset -1px -1px 0 rgba(0,0,0,.07);background-color:rgba(0,0,0,.05)} </style><style>.star{float:left;margin-top:1px;overflow:hidden}._yhd{font-size:11px}.j{width:34em}body,td,div,.p,a{font-family:arial,sans-serif;-webkit-tap-highlight-color:rgba(255,255,255,0)}body{margin:0}a img{border:0}#gbar{float:left;height:22px;padding-left:2px;font-size:13px}.gsfi,.gsfs{font-size:17px}.w,.q:active,.q:visited,.tbotu{color:#11c}a.gl{text-decoration:none}._Umd a:link{color:#0E1CB3}#foot{padding:0 8px}#foot a{white-space:nowrap}h3{font-size:16px;font-weight:normal;margin:0;padding:0}#res h3{display:inline}.hd{height:1px;position:absolute;top:-1000em}.g,body,html,table,.std{font-size:13px}.g{margin-bottom:23px;margin-top:0;zoom:1}ol li,ul li{list-style:none}h1,ol,ul,li{margin:0;padding:0}#mbEnd h2{font-weight:normal}.e{margin:2px 0 0.75em}#leftnav a{text-decoration:none}#leftnav h2{color:#767676;font-weight:normal;margin:0}#nav{border-collapse:collapse;margin-top:17px;text-align:left}#nav td{text-align:center}.nobr{white-space:nowrap}.ts{border-collapse:collapse}.s br{display:none}.csb{display:block;height:40px}.images_table td{line-height:17px;padding-bottom:16px}.images_table img{border:1px solid #ccc;padding:1px}#tbd,#abd{display:block;min-height:1px}#abd{padding-top:3px}#tbd li{display:inline}._ITd,._JTd{margin-bottom:8px}#tbd .tbt li{display:block;font-size:13px;line-height:1.2;padding-bottom:3px;padding-left:8px;text-indent:-8px}.tbos,.b{font-weight:bold}em{font-weight:bold;font-style:normal}.mime{color:#1a0dab;font-weight:bold;font-size:x-small}._lwd{right:-2px !important;overflow:hidden}.soc a{text-decoration:none}.soc{color:#808080}._AC a{text-decoration:none}._AC{color:#808080}._kgd{color:#e7711b}#_vBb{border:1px solid #e0e0e0;margin-left:-8px;margin-right:-8px;padding:15px 20px 5px}._m3b{font-size:32px}._eGc{color:#777;font-size:16px;margin-top:5px}._H0d{color:#777;font-size:14px;margin-top:5px}._HLh{border:1px solid #e0e0e0;padding-left:20px}._Tki{border:1px solid #e0e0e0;padding:5px 20px}#vob{border:1px solid #e0e0e0;padding:15px 15px}#_Nyc{font-size:22px;line-height:22px;padding-bottom:5px}#vob_st{line-height:1.24}._Tsb{border-width:1px;border-style:solid;border-color:#eee;background-color:#fff;position:relative;margin-bottom:26px}._Peb,._Qeb,._Usb{font-family:Arial;font-weight:lighter}._Peb{margin-bottom:5px}._Peb{font-size:xx-large}._Qeb{font-size:medium}._Usb{font-size:small}._Tsb{margin-left:-8px;margin-right:-15px;padding:20px 20px 24px}._rOc{border-spacing:0px 2px}._sOc{max-width:380px;text-overflow:ellipsis;white-space:nowrap;overflow:hidden;padding-left:0px}._v9b{padding-left:15px;white-space:nowrap;color:#666}._pOc{padding-left:0px}._rkc{color:#212121}._HOb{color:#878787}._lMf{color:#093}._jMf{color:#c00}._kMf{padding:1px}._CKg{color:#dd4b39}.gssb_a{padding:0 10px !important}.gssb_c{left:132px !important;right:295px !important;top:78px !important;width:572px !important}.gssb_c table{font-size:16px !important}.gssb_e{border:1px solid #ccc !important;border-top-color:#d9d9d9 !important}.gssb_i{background:#eee !important}#res{padding:0 8px}#rhs_block{padding-top:43px}#_FQd{padding:0 8px}#subform_ctrl{font-size:11px;height:17px;margin:5px 3px 0 17px}.taf{padding-bottom:3px}._chd{padding:20px 0 3px}._bhd{padding:20px 0 3px}#topstuff .e{padding-bottom:6px}.slk .sld{width:250px}.slk{margin-bottom:-3px}.slk ._z3b{padding-bottom:5px;width:250px}._QPd{margin-top:1px;margin-bottom:-11px}._zuc{color:#545454}._Auc{padding-top:2px;padding-bottom:1px}._Buc{padding-top:1px;margin-bottom:14px}.ac,.st{line-height:1.24}.mfr,#ofr{font-size:16px;margin:1em 0;padding:0 8px}._tLi{padding-bottom:25px}.s{color:#545454}.ac,._JEe{color:#545454}a.fl,._cD a,.osl a{color:#1a0dab;text-decoration:none}a:link{color:#1a0dab;cursor:pointer}#tads a:link{color:#1a0dab}#tads .soc a:link{color:#808080}#tads ._AC a:link{color:#808080}._AC a:link{color:#808080}._AC a:visited{color:#808080}._AC a:hover{color:#808080;text-decoration:underline}a:visited{color:#61C}.blg a{text-decoration:none}cite,cite a:link{color:#006621;font-style:normal}#tads cite{color:#006621}.kv{font-size:15px}.kvs{margin-top:1px}.kv,.kvs,.slp{display:block;margin-bottom:1px}.kt{border-spacing:2px 0;margin-top:1px}#mbEnd li{margin:20px 8px 0 0}.f{color:#808080}._pJb{color:#093}h4.r{display:inline;font-size:small;font-weight:normal}.g{line-height:1.2}._sPb{display:inline-block;vertical-align:top;overflow:hidden;position:relative}._Gnc{margin:0 0 2em 1.3em}._Gnc li{list-style-type:disc}.osl{color:#777;margin-top:4px}.r{font-size:16px;margin:0}.spell{font-size:16px}.spell_orig{font-size:13px}.spell_orig a{text-decoration:none}.spell_orig b i{font-style:normal;font-weight:normal}.th{border:1px solid #ebebeb}.ts td{padding:0}.videobox{padding-bottom:3px}.slk a{text-decoration:none}#leftnav a:hover,#leftnav .tbou a:hover,.slk h3 a,a:hover{text-decoration:underline}#mn{table-layout:fixed;width:100%}#leftnav a{color:#222;font-size:13px}#leftnav{padding:43px 4px 4px 0}.tbos{color:#dd4b39}._AEd{border-top:1px solid #efefef;font-size:13px;margin:10px 0 14px 10px;padding:0}.tbt{margin-bottom:28px}#tbd{padding:0 0 0 16px}.tbou a{color:#222}#center_col{border:0;padding:0 8px 0 0}#topstuff .e{padding-top:3px}#topstuff .sp_cnt{padding-top:6px}#ab_name{color:#dd4b39;font:20px \"Arial\";margin-left:15px}._fld{border-bottom:1px solid #dedede;height:56px;padding-top:1px}#resultStats{color:#999;font-size:13px;overflow:hidden;white-space:nowrap}.mslg>td{padding-right:1px;padding-top:2px}.slk .sld{margin-top:2px;padding:5px 0 5px 5px}._Mvd,.fmp{padding-top:3px}.close_btn{overflow:hidden}#fll a,#bfl a{color:#1a0dab !important;margin:0 12px;text-decoration:none !important}.ng{color:#dd4b39}#mss{margin:.33em 0 0;padding:0;display:table}._mY{display:inline-block;float:left;white-space:nowrap;padding-right:16px}#mss p{margin:0;padding-top:5px}.tn{border-bottom:1px solid #ebebeb;display:block;float:left;height:59px;line-height:54px;min-width:980px;padding:0;position:relative;white-space:nowrap}._UXb,a._UXb{color:#777;cursor:pointer;display:inline-block;font-family:arial,sans-serif;font-size:small;height:54px;line-height:54px;margin:0 8px;padding:0 8px;text-decoration:none;white-space:nowrap}._Ihd{border-bottom:3px solid #dd4b39;color:#dd4b39;font-weight:bold;margin:2px 8px 0}a._Jhd:hover{color:black;text-decoration:none;white-space:nowrap}body{margin:0;padding:0}._sxc{display:inline-block;float:left;margin-top:2px}._Hhd,a._Hhd{margin-left:1px}.sd{line-height:43px;padding:0 8px 0 9px}a:active,.osl a:active,.tbou a:active,#leftnav a:active{color:#dd4b39}#_Xud a:active,#bfl a:active{color:#dd4b39 !important}.csb{background:url(/images/nav_logo229.png) no-repeat;overflow:hidden}.close_btn{background:url(/images/nav_logo229.png) no-repeat -138px -84px;height:14px;width:14px;display:block}.star{background:url(/images/nav_logo229.png) no-repeat -94px -245px;height:13px;width:65px;display:block}.star div,.star span{background:url(/images/nav_logo229.png) no-repeat 0 -245px;height:13px;width:65px;display:block}._nBb{display:inline;margin:0 3px;outline-color:transparent;overflow:hidden;position:relative}._nBb>div{outline-color:transparent}._O0{border-color:transparent;border-style:solid dashed dashed;border-top-color:green;border-width:4px 4px 0 4px;cursor:pointer;display:inline-block;font-size:0;height:0;left:4px;line-height:0;outline-color:transparent;position:relative;top:-3px;width:0}._O0{margin-top:-4px}.am-dropdown-menu{display:block;background:#fff;border:1px solid #dcdcdc;font-size:13px;left:0;padding:0;position:absolute;right:auto;white-space:nowrap;z-index:3}._Ykb{list-style:none;white-space:nowrap}._Ykb:hover{background-color:#eee}a._Zkb{color:#333;cursor:pointer;display:block;padding:7px 18px;text-decoration:none}#tads a._Zkb{color:#333}.sfbgg{background:#f1f1f1;border-bottom:1px solid #e5e5e5;height:71px}#logocont{z-index:1;padding-left:4px;padding-top:4px}#logo{display:block;height:49px;margin-top:12px;margin-left:12px;overflow:hidden;position:relative;width:137px}#logo img{left:0;position:absolute;top:-41px}.lst-a{background:white;border:1px solid #d9d9d9;border-top-color:silver;width:570px}.lst-a:hover{border:1px solid #b9b9b9;border-top:1px solid #a0a0a0;box-shadow:inset 0 1px 2px rgba(0,0,0,0.1);-webkit-box-shadow:inset 0 1px 2px rgba(0,0,0,0.1);-moz-box-shadow:inset 0 1px 2px rgba(0,0,0,0.1)}.lst-td{border:none;padding:0}.tia input{border-right:none;padding-right:0}.tia{padding-right:0}.lst{background:none;border:none;color:#000;font:16px arial,sans-serif;float:left;height:22px;margin:0;padding:3px 6px 2px 9px;vertical-align:top;width:100%;word-break:break-all}.lst:focus{outline:none}.lst-b{background:none;border:none;height:26px;padding:0 6px 0 12px}.ds{border-right:1px solid #e7e7e7;position:relative;height:29px;margin-left:17px;z-index:100}.lsbb{background-image:-moz-linear-gradient(top,#4d90fe,#4787ed);background-image:-ms-linear-gradient(top,#4d90fe,#4787ed);background-image:-o-linear-gradient(top,#4d90fe,#4787ed);background-image:-webkit-gradient(linear,left top,left bottom,from(#4d90fe),to(#4787ed));background-image:-webkit-linear-gradient(top,#4d90fe,#4787ed);background-image:linear-gradient(top,#4d90fe,#4787ed);border:1px solid #3079ed;border-radius:2px;background-color:#4d90fe;height:27px;width:68px}.lsbb:hover{background-image:-moz-linear-gradient(top,#4d90fe,#357ae8);background-image:-ms-linear-gradient(top,#4d90fe,#357ae8);background-image:-o-linear-gradient(top,#4d90fe,#357ae8);background-image:-webkit-gradient(linear,left top,left bottom,from(#4d90fe),to(#357ae8));background-image:-webkit-linear-gradient(top,#4d90fe,#357ae8);background-color:#357ae8;background-image:linear-gradient(top,#4d90fe,#357ae8);border:1px solid #2f5bb7}.lsb{background:transparent;background-position:0 -343px;background-repeat:repeat-x;border:none;color:#000;cursor:default;font:15px arial,sans-serif;height:29px;margin:0;vertical-align:top;width:100%}.lsb:active{-moz-box-shadow:inset 0 1px 2px rgba(0,0,0,0.3);-webkit-box-shadow:inset 0 1px 2px rgba(0,0,0,0.3);box-shadow:inset 0 1px 2px rgba(0,0,0,0.3);background:transparent;color:transparent;overflow:hidden;position:relative;width:100%}.sbico{color:transparent;display:inline-block;height:15px;margin:0 auto;margin-top:2px;width:15px;overflow:hidden}</style><script>(function(){window.google={kEI:'jEQBWO7sAoaq-QHdqZbADw',kEXPI:'750401,1351634,3700318,3700389,3700400,4019511,4029815,4031109,4032677,4036211,4036527,4038012,4039268,4041302,4043492,4045841,4048347,4052304,4058543,4062185,4064493,4064858,4065786,4066195,4067860,4068188,4068550,4068560,4069148,4069838,4069841,4070327,4071603,4071842,4072288,4072364,4072602,4072705,4072775,4073405,4073419,4073958,4074684,4074809,4076082,4076096,4076686,4076930,4076999,4077039,4077221,4077238,4077298,4078430,4078432,4078438,4078457,4078547,4079085,4079105,4079155,4079200,4079259,4079303,4079388,4079553,4079721,4079810,4079870,4079873,4080099,4080105,4080167,4080198,4080230,4080272,4080513,4080903,4081037,4081038,4081129,4081253,4081264,4081371,4081459,4081576,4081757,4082458,4082549,4082586,8300096,8300273,8502184,8503585,8504110,8504846,8505150,8505152,8506251,8506255,8506340,8506615,8506983,8507070,8507073,8507080,8507124,8507204,8507210,8507273,8507336,8507380,8507536,10200083,13500016,16200027',authuser:0,kscs:'c9c918f0_24'};google.kHL='en';})();(function(){google.lc=[];google.li=0;google.getEI=function(a){for(var b;a&&(!a.getAttribute||!(b=a.getAttribute(\"eid\")));)a=a.parentNode;return b||google.kEI};google.getLEI=function(a){for(var b=null;a&&(!a.getAttribute||!(b=a.getAttribute(\"leid\")));)a=a.parentNode;return b};google.https=function(){return\"https:\"==window.location.protocol};google.ml=function(){return null};google.wl=function(a,b){try{google.ml(Error(a),!1,b)}catch(c){}};google.time=function(){return(new Date).getTime()};google.log=function(a,b,c,e,g){a=google.logUrl(a,b,c,e,g);if(\"\"!=a){b=new Image;var d=google.lc,f=google.li;d[f]=b;b.onerror=b.onload=b.onabort=function(){delete d[f]};window.google&&window.google.vel&&window.google.vel.lu&&window.google.vel.lu(a);b.src=a;google.li=f+1}};google.logUrl=function(a,b,c,e,g){var d=\"\",f=google.ls||\"\";if(!c&&-1==b.search(\"&ei=\")){var h=google.getEI(e),d=\"&ei=\"+h;-1==b.search(\"&lei=\")&&((e=google.getLEI(e))?d+=\"&lei=\"+e:h!=google.kEI&&(d+=\"&lei=\"+google.kEI))}a=c||\"/\"+(g||\"gen_204\")+\"?atyp=i&ct=\"+a+\"&cad=\"+b+d+f+\"&zx=\"+google.time();/^http:/i.test(a)&&google.https()&&(google.ml(Error(\"a\"),!1,{src:a,glmm:1}),a=\"\");return a};google.y={};google.x=function(a,b){google.y[a.id]=[a,b];return!1};google.lq=[];google.load=function(a,b,c){google.lq.push([[a],b,c])};google.loadAll=function(a,b){google.lq.push([a,b])};})();(function(){var b=[function(){google.c&&google.tick(\"load\",\"dcl\")}];google.dcl=!1;google.dclc=function(a){google.dcl?a():b.push(a)};function c(){if(!google.dcl){google.dcl=!0;for(var a;a=b.shift();)a()}}window.addEventListener?(document.addEventListener(\"DOMContentLoaded\",c,!1),window.addEventListener(\"load\",c,!1)):window.attachEvent&&window.attachEvent(\"onload\",c);})();</script><script type=\"text/javascript\">(function(){try{var e=this;var aa=function(a,b,c,d){d=d||{};d._sn=[\"cfg\",b,c].join(\".\");window.gbar.logger.ml(a,d)};var h=window.gbar=window.gbar||{},k=window.gbar.i=window.gbar.i||{},ba;function _tvn(a,b){var c=parseInt(a,10);return isNaN(c)?b:c}function _tvf(a,b){var c=parseFloat(a);return isNaN(c)?b:c}function _tvv(a){return!!a}function p(a,b,c){(c||h)[a]=b}h.bv={n:_tvn(\"2\",0),r:\"\",f:\".66.41.\",e:\"1300102,3700318,3700389,3700400\",m:_tvn(\"1\",1)}; function ca(a,b,c){var d=\"on\"+b;if(a.addEventListener)a.addEventListener(b,c,!1);else if(a.attachEvent)a.attachEvent(d,c);else{var f=a[d];a[d]=function(){var a=f.apply(this,arguments),b=c.apply(this,arguments);return void 0==a?b:void 0==b?a:b&&a}}}var da=function(a){return function(){return h.bv.m==a}},ea=da(1),fa=da(2);p(\"sb\",ea);p(\"kn\",fa);k.a=_tvv;k.b=_tvf;k.c=_tvn;k.i=aa;var q=window.gbar.i.i;var t=function(){},u=function(){},ia=function(a){var b=new Image,c=ga;b.onerror=b.onload=b.onabort=function(){try{delete ha[c]}catch(d){}};ha[c]=b;b.src=a;ga=c+1},ha=[],ga=0;p(\"logger\",{il:u,ml:t,log:ia});var v=window.gbar.logger;var y={},ja={},A=[],ka=k.b(\"0.1\",.1),la=k.a(\"1\",!0),ma=function(a,b){A.push([a,b])},na=function(a,b){y[a]=b},oa=function(a){return a in y},B={},C=function(a,b){B[a]||(B[a]=[]);B[a].push(b)},D=function(a){C(\"m\",a)},pa=function(a,b){var c=document.createElement(\"script\");c.src=a;c.async=la;Math.random()<ka&&(c.onerror=function(){c.onerror=null;t(Error(\"Bundle load failed: name=\"+(b||\"UNK\")+\" url=\"+a))});(document.getElementById(\"xjsc\")||document.getElementsByTagName(\"body\")[0]|| document.getElementsByTagName(\"head\")[0]).appendChild(c)},F=function(a){for(var b=0,c;(c=A[b])&&c[0]!=a;++b);!c||c[1].l||c[1].s||(c[1].s=!0,qa(2,a),c[1].url&&pa(c[1].url,a),c[1].libs&&E&&E(c[1].libs))},ra=function(a){C(\"gc\",a)},sa=null,ta=function(a){sa=a},qa=function(a,b,c){if(sa){a={t:a,b:b};if(c)for(var d in c)a[d]=c[d];try{sa(a)}catch(f){}}};p(\"mdc\",y);p(\"mdi\",ja);p(\"bnc\",A);p(\"qGC\",ra);p(\"qm\",D);p(\"qd\",B);p(\"lb\",F);p(\"mcf\",na);p(\"bcf\",ma);p(\"aq\",C);p(\"mdd\",\"\"); p(\"has\",oa);p(\"trh\",ta);p(\"tev\",qa);if(k.a(\"1\")){var ua=k.a(\"1\"),va=k.a(\"\"),wa=k.a(\"\"),xa=window.gapi={},ya=function(a,b){var c=function(){h.dgl(a,b)};ua?D(c):(C(\"gl\",c),F(\"gl\"))},za={},Aa=function(a){a=a.split(\":\");for(var b;(b=a.pop())&&za[b];);return!b},E=function(a){function b(){for(var b=a.split(\":\"),d=0,f;f=b[d];++d)za[f]=1;for(b=0;d=A[b];++b)d=d[1],(f=d.libs)&&!d.l&&d.i&&Aa(f)&&d.i()}h.dgl(a,b)},H=window.___jsl={};H.h=\"m;/_/scs/abc-static/_/js/k=gapi.gapi.en.7oVtUiQEjBQ.O/m=__features__/rt=j/d=1/rs=AHpOoo_fXT30ofkY5Dx9fPN7DPCKQYvAAQ\";H.ms=\"https://apis.google.com\"; H.m=\"\";H.l=[];ua||A.push([\"gl\",{url:\"//ssl.gstatic.com/gb/js/abc/glm_e7bb39a7e1a24581ff4f8d199678b1b9.js\"}]);var Ba={pu:va,sh:\"\",si:wa,hl:\"en\"};y.gl=Ba;p(\"load\",ya,xa);p(\"dgl\",ya);p(\"agl\",Aa);k.o=ua};var Ca=k.b(\"0.1\",.001),Da=0; function _mlToken(a,b){try{if(1>Da){Da++;var c,d=a,f=b||{},g=encodeURIComponent,l=[\"//www.google.com/gen_204?atyp=i&zx=\",(new Date).getTime(),\"&jexpid=\",g(\"28834\"),\"&srcpg=\",g(\"prop=1\"),\"&jsr=\",Math.round(1/Ca),\"&ogev=\",g(\"jEQBWK6OBMj8-AHX266oAw\"),\"&ogf=\",h.bv.f,\"&ogrp=\",g(\"1\"),\"&ogv=\",g(\"1476066396.0\"),\"&oggv=\"+g(\"es_plusone_gc_20161006.0_p0\"),\"&ogd=\",g(\"com\"),\"&ogc=\",g(\"USA\"),\"&ogl=\",g(\"en\")];f._sn&&(f._sn= \"og.\"+f._sn);for(var n in f)l.push(\"&\"),l.push(g(n)),l.push(\"=\"),l.push(g(f[n]));l.push(\"&emsg=\");l.push(g(d.name+\":\"+d.message));var m=l.join(\"\");Ea(m)&&(m=m.substr(0,2E3));c=m;var r=window.gbar.logger._aem(a,c);ia(r)}}catch(z){}}var Ea=function(a){return 2E3<=a.length},Fa=function(a,b){return b};function Ga(a){t=a;p(\"_itl\",Ea,v);p(\"_aem\",Fa,v);p(\"ml\",t,v);a={};y.er=a}k.a(\"\")?Ga(function(a){throw a;}):k.a(\"1\")&&Math.random()<Ca&&Ga(_mlToken);var _E=\"left\",Ha=k.a(\"\"),J=function(a,b){var c=a.className;I(a,b)||(a.className+=(\"\"!=c?\" \":\"\")+b)},K=function(a,b){var c=a.className,d=new RegExp(\"\\\\s?\\\\b\"+b+\"\\\\b\");c&&c.match(d)&&(a.className=c.replace(d,\"\"))},I=function(a,b){var c=new RegExp(\"\\\\b\"+b+\"\\\\b\"),d=a.className;return!(!d||!d.match(c))},Ia=function(a,b){I(a,b)?K(a,b):J(a,b)},Ja=function(a,b){a[b]=function(c){var d=arguments;h.qm(function(){a[b].apply(this,d)})}},Ka=function(a){a=[\"//www.gstatic.com\", \"/og/_/js/d=1/k=\",\"og.og2.en_US.5GdZkFfW974.O\",\"/rt=j/m=\",a,\"/rs=\",\"AA2YrTvoYEywEgOlIXNj5qfXUsEKpzh87A\"];Ha&&a.push(\"?host=www.gstatic.com&bust=og.og2.en_US.DQydnUMOqeA.DU\");a=a.join(\"\");pa(a)};p(\"ca\",J);p(\"cr\",K);p(\"cc\",I);k.k=J;k.l=K;k.m=I;k.n=Ia;k.p=Ka;k.q=Ja;var La=[\"gb_71\",\"gb_155\"],Ma;function Na(a){Ma=a}function Oa(a){var b=Ma&&!a.href.match(/.*\\/accounts\\/ClearSID[?]/)&&encodeURIComponent(Ma());b&&(a.href=a.href.replace(/([?&]continue=)[^&]*/,\"$1\"+b))}function Pa(a){window.gApplication&&(a.href=window.gApplication.getTabUrl(a.href))}function Qa(a){try{var b=(document.forms[0].q||\"\").value;b&&(a.href=a.href.replace(/([?&])q=[^&]*|$/,function(a,d){return(d||\"&\")+\"q=\"+encodeURIComponent(b)}))}catch(c){q(c,\"sb\",\"pq\")}} var Ra=function(){for(var a=[],b=0,c;c=La[b];++b)(c=document.getElementById(c))&&a.push(c);return a},Sa=function(){var a=Ra();return 0<a.length?a[0]:null},Ta=function(){return document.getElementById(\"gb_70\")},L={},M={},Ua={},N={},O=void 0,Za=function(a,b){try{var c=document.getElementById(\"gb\");J(c,\"gbpdjs\");P();Va(document.getElementById(\"gb\"))&&J(c,\"gbrtl\");if(b&&b.getAttribute){var d=b.getAttribute(\"aria-owns\");if(d.length){var f=document.getElementById(d);if(f){var g=b.parentNode;if(O==d)O=void 0, K(g,\"gbto\");else{if(O){var l=document.getElementById(O);if(l&&l.getAttribute){var n=l.getAttribute(\"aria-owner\");if(n.length){var m=document.getElementById(n);m&&m.parentNode&&K(m.parentNode,\"gbto\")}}}Wa(f)&&Xa(f);O=d;J(g,\"gbto\")}}}}D(function(){h.tg(a,b,!0)});Ya(a)}catch(r){q(r,\"sb\",\"tg\")}},$a=function(a){D(function(){h.close(a)})},ab=function(a){D(function(){h.rdd(a)})},Va=function(a){var b,c=document.defaultView;c&&c.getComputedStyle?(a=c.getComputedStyle(a,\"\"))&&(b=a.direction):b=a.currentStyle? a.currentStyle.direction:a.style.direction;return\"rtl\"==b},cb=function(a,b,c){if(a)try{var d=document.getElementById(\"gbd5\");if(d){var f=d.firstChild,g=f.firstChild,l=document.createElement(\"li\");l.className=b+\" gbmtc\";l.id=c;a.className=\"gbmt\";l.appendChild(a);if(g.hasChildNodes()){c=[[\"gbkc\"],[\"gbf\",\"gbe\",\"gbn\"],[\"gbkp\"],[\"gbnd\"]];for(var d=0,n=g.childNodes.length,f=!1,m=-1,r=0,z;z=c[r];r++){for(var T=0,G;G=z[T];T++){for(;d<n&&I(g.childNodes[d],G);)d++;if(G==b){g.insertBefore(l,g.childNodes[d]|| null);f=!0;break}}if(f){if(d+1<g.childNodes.length){var U=g.childNodes[d+1];I(U.firstChild,\"gbmh\")||bb(U,z)||(m=d+1)}else if(0<=d-1){var V=g.childNodes[d-1];I(V.firstChild,\"gbmh\")||bb(V,z)||(m=d)}break}0<d&&d+1<n&&d++}if(0<=m){var w=document.createElement(\"li\"),x=document.createElement(\"div\");w.className=\"gbmtc\";x.className=\"gbmt gbmh\";w.appendChild(x);g.insertBefore(w,g.childNodes[m])}h.addHover&&h.addHover(a)}else g.appendChild(l)}}catch(Ab){q(Ab,\"sb\",\"al\")}},bb=function(a,b){for(var c=b.length, d=0;d<c;d++)if(I(a,b[d]))return!0;return!1},db=function(a,b,c){cb(a,b,c)},eb=function(a,b){cb(a,\"gbe\",b)},fb=function(){D(function(){h.pcm&&h.pcm()})},gb=function(){D(function(){h.pca&&h.pca()})},hb=function(a,b,c,d,f,g,l,n,m,r){D(function(){h.paa&&h.paa(a,b,c,d,f,g,l,n,m,r)})},ib=function(a,b){L[a]||(L[a]=[]);L[a].push(b)},jb=function(a,b){M[a]||(M[a]=[]);M[a].push(b)},kb=function(a,b){Ua[a]=b},lb=function(a,b){N[a]||(N[a]=[]);N[a].push(b)},Ya=function(a){a.preventDefault&&a.preventDefault();a.returnValue= !1;a.cancelBubble=!0},mb=null,Xa=function(a,b){P();if(a){nb(a,\"Opening&hellip;\");Q(a,!0);var c=\"undefined\"!=typeof b?b:1E4,d=function(){ob(a)};mb=window.setTimeout(d,c)}},pb=function(a){P();a&&(Q(a,!1),nb(a,\"\"))},ob=function(a){try{P();var b=a||document.getElementById(O);b&&(nb(b,\"This service is currently unavailable.%1$sPlease try again later.\",\"%1$s\"),Q(b,!0))}catch(c){q(c,\"sb\",\"sdhe\")}},nb=function(a,b,c){if(a&&b){var d=Wa(a);if(d){if(c){d.innerHTML=\"\";b=b.split(c);c=0;for(var f;f=b[c];c++){var g=document.createElement(\"div\"); g.innerHTML=f;d.appendChild(g)}}else d.innerHTML=b;Q(a,!0)}}},Q=function(a,b){var c=void 0!==b?b:!0;c?J(a,\"gbmsgo\"):K(a,\"gbmsgo\")},Wa=function(a){for(var b=0,c;c=a.childNodes[b];b++)if(I(c,\"gbmsg\"))return c},P=function(){mb&&window.clearTimeout(mb)},qb=function(a){var b=\"inner\"+a;a=\"offset\"+a;return window[b]?window[b]:document.documentElement&&document.documentElement[a]?document.documentElement[a]:0},rb=function(){return!1},sb=function(){return!!O};p(\"so\",Sa);p(\"sos\",Ra);p(\"si\",Ta);p(\"tg\",Za); p(\"close\",$a);p(\"rdd\",ab);p(\"addLink\",db);p(\"addExtraLink\",eb);p(\"pcm\",fb);p(\"pca\",gb);p(\"paa\",hb);p(\"ddld\",Xa);p(\"ddrd\",pb);p(\"dderr\",ob);p(\"rtl\",Va);p(\"op\",sb);p(\"bh\",L);p(\"abh\",ib);p(\"dh\",M);p(\"adh\",jb);p(\"ch\",N);p(\"ach\",lb);p(\"eh\",Ua);p(\"aeh\",kb);ba=k.a(\"\")?Pa:Qa;p(\"qs\",ba);p(\"setContinueCb\",Na);p(\"pc\",Oa);p(\"bsy\",rb);k.d=Ya;k.j=qb;var tb={};y.base=tb;A.push([\"m\",{url:\"//ssl.gstatic.com/gb/js/sem_28ccd69532c2390ae661f0e31ef881fd.js\"}]);h.sg={c:\"1\"};p(\"wg\",{rg:{}});var ub={tiw:k.c(\"15000\",0),tie:k.c(\"30000\",0)};y.wg=ub;var vb={thi:k.c(\"10000\",0),thp:k.c(\"180000\",0),tho:k.c(\"5000\",0),tet:k.b(\"0.5\",0)};y.wm=vb;if(k.a(\"1\")){var wb=k.a(\"\");A.push([\"gc\",{auto:wb,url:\"//ssl.gstatic.com/gb/js/abc/gci_91f30755d6a6b787dcc2a4062e6e9824.js\",libs:\"googleapis.client:plusone:gapi.iframes\"}]);var xb={version:\"gci_91f30755d6a6b787dcc2a4062e6e9824.js\",index:\"\",lang:\"en\"};y.gc=xb;var yb=function(a){window.googleapis&&window.iframes?a&&a():(a&&ra(a),F(\"gc\"))};p(\"lGC\",yb);k.a(\"1\")&&p(\"lPWF\",yb)};window.__PVT=\"\";if(k.a(\"1\")&&k.a(\"1\")){var zb=function(a){yb(function(){C(\"pw\",a);F(\"pw\")})};p(\"lPW\",zb);A.push([\"pw\",{url:\"//ssl.gstatic.com/gb/js/abc/pwm_45f73e4df07a0e388b0fa1f3d30e7280.js\"}]);var Bb=[],Cb=function(a){Bb[0]=a},Db=function(a,b){var c=b||{};c._sn=\"pw\";t(a,c)},Eb={signed:Bb,elog:Db,base:\"https://plusone.google.com/u/0\",loadTime:(new Date).getTime()};y.pw=Eb;var Fb=function(a,b){for(var c=b.split(\".\"),d=function(){var b=arguments;a(function(){for(var a=h,d=0,f=c.length-1;d<f;++d)a=a[c[d]];a[c[d]].apply(a,b)})},f=h,g=0,l=c.length-1;g< l;++g)f=f[c[g]]=f[c[g]]||{};return f[c[g]]=d};Fb(zb,\"pw.clk\");Fb(zb,\"pw.hvr\");p(\"su\",Cb,h.pw)};var Gb=[1,2,3,4,5,6,9,10,11,13,14,28,29,30,34,35,37,38,39,40,41,42,43,48,49,500];var Hb=k.b(\"0.001\",1E-4),Ib=k.b(\"1\",1),Jb=!1,Kb=!1;if(k.a(\"1\")){var Lb=Math.random();Lb<Hb&&(Jb=!0);Lb<Ib&&(Kb=!0)}var R=null; function Mb(a,b){var c=Hb,d=Jb,f;f=a;if(!R){R={};for(var g=0;g<Gb.length;g++){var l=Gb[g];R[l]=!0}}if(f=!!R[f])c=Ib,d=Kb;if(d){var d=encodeURIComponent,n=\"es_plusone_gc_20161006.0_p0\",m;h.rp?(m=h.rp(),m=\"-1\"!=m?m:\"1\"):m=\"1\";f=(new Date).getTime();var g=d(\"28834\"),l=d(\"jEQBWK6OBMj8-AHX266oAw\"),r=h.bv.f,z=d(\"1\");m=d(m);var c=Math.round(1/c),T=d(\"1476066396.0\"),n=n?\"&oggv=\"+d(n):\"\",G=d(\"com\"),U=d(\"en\"), V=d(\"USA\"),w;w=0;k.a(\"\")&&(w|=1);k.a(\"\")&&(w|=2);k.a(\"\")&&(w|=4);f=[\"//www.google.com/gen_204?atyp=i&zx=\",f,\"&oge=\",a,\"&ogex=\",g,\"&ogev=\",l,\"&ogf=\",r,\"&ogp=\",z,\"&ogrp=\",m,\"&ogsr=\",c,\"&ogv=\",T,n,\"&ogd=\",G,\"&ogl=\",U,\"&ogc=\",V,\"&ogus=\",w];if(b){\"ogw\"in b&&(f.push(\"&ogw=\"+b.ogw),delete b.ogw);var x,g=b,l=[];for(x in g)0!=l.length&&l.push(\",\"),l.push(Nb(x)),l.push(\".\"),l.push(Nb(g[x]));x=l.join(\"\");\"\"!=x&&(f.push(\"&ogad=\"),f.push(d(x)))}ia(f.join(\"\"))}} function Nb(a){\"number\"==typeof a&&(a+=\"\");return\"string\"==typeof a?a.replace(\".\",\"%2E\").replace(\",\",\"%2C\"):a}u=Mb;p(\"il\",u,v);var Ob={};y.il=Ob;var Pb=function(a,b,c,d,f,g,l,n,m,r){D(function(){h.paa(a,b,c,d,f,g,l,n,m,r)})},Qb=function(){D(function(){h.prm()})},Rb=function(a){D(function(){h.spn(a)})},Sb=function(a){D(function(){h.sps(a)})},Tb=function(a){D(function(){h.spp(a)})},Ub={\"27\":\"//ssl.gstatic.com/gb/images/silhouette_24.png\",\"27\":\"//ssl.gstatic.com/gb/images/silhouette_24.png\",\"27\":\"//ssl.gstatic.com/gb/images/silhouette_24.png\"},Vb=function(a){return(a=Ub[a])||\"//ssl.gstatic.com/gb/images/silhouette_24.png\"}, Wb=function(){D(function(){h.spd()})};p(\"spn\",Rb);p(\"spp\",Tb);p(\"sps\",Sb);p(\"spd\",Wb);p(\"paa\",Pb);p(\"prm\",Qb);ib(\"gbd4\",Qb); if(k.a(\"\")){var Xb={d:k.a(\"\"),e:\"\",sanw:k.a(\"\"),p:\"//ssl.gstatic.com/gb/images/silhouette_96.png\",cp:\"1\",xp:k.a(\"1\"),mg:\"%1$s (delegated)\",md:\"%1$s (default)\",mh:\"220\",s:\"1\",pp:Vb,ppl:k.a(\"\"),ppa:k.a(\"\"), ppm:\"Google+ page\"};y.prf=Xb};var S,Yb,W,Zb,X=0,$b=function(a,b,c){if(a.indexOf)return a.indexOf(b,c);if(Array.indexOf)return Array.indexOf(a,b,c);for(c=null==c?0:0>c?Math.max(0,a.length+c):c;c<a.length;c++)if(c in a&&a[c]===b)return c;return-1},Y=function(a,b){return-1==$b(a,X)?(q(Error(X+\"_\"+b),\"up\",\"caa\"),!1):!0},bc=function(a,b){Y([1,2],\"r\")&&(S[a]=S[a]||[],S[a].push(b),2==X&&window.setTimeout(function(){b(ac(a))},0))},cc=function(a,b,c){if(Y([1],\"nap\")&&c){for(var d=0;d<c.length;d++)Yb[c[d]]=!0;h.up.spl(a,b,\"nap\",c)}},dc= function(a,b,c){if(Y([1],\"aop\")&&c){if(W)for(var d in W)W[d]=W[d]&&-1!=$b(c,d);else for(W={},d=0;d<c.length;d++)W[c[d]]=!0;h.up.spl(a,b,\"aop\",c)}},ec=function(){try{if(X=2,!Zb){Zb=!0;for(var a in S)for(var b=S[a],c=0;c<b.length;c++)try{b[c](ac(a))}catch(d){q(d,\"up\",\"tp\")}}}catch(d){q(d,\"up\",\"mtp\")}},ac=function(a){if(Y([2],\"ssp\")){var b=!Yb[a];W&&(b=b&&!!W[a]);return b}};Zb=!1;S={};Yb={};W=null; var X=1,fc=function(a){var b=!1;try{b=a.cookie&&a.cookie.match(\"PREF\")}catch(c){}return!b},gc=function(){try{return!!e.localStorage&&\"object\"==typeof e.localStorage}catch(a){return!1}},hc=function(a){return a&&a.style&&a.style.behavior&&\"undefined\"!=typeof a.load},ic=function(a,b,c,d){try{fc(document)||(d||(b=\"og-up-\"+b),gc()?e.localStorage.setItem(b,c):hc(a)&&(a.setAttribute(b,c),a.save(a.id)))}catch(f){f.code!=DOMException.QUOTA_EXCEEDED_ERR&&q(f,\"up\",\"spd\")}},jc=function(a,b,c){try{if(fc(document))return\"\"; c||(b=\"og-up-\"+b);if(gc())return e.localStorage.getItem(b);if(hc(a))return a.load(a.id),a.getAttribute(b)}catch(d){d.code!=DOMException.QUOTA_EXCEEDED_ERR&&q(d,\"up\",\"gpd\")}return\"\"},kc=function(a,b,c){a.addEventListener?a.addEventListener(b,c,!1):a.attachEvent&&a.attachEvent(\"on\"+b,c)},lc=function(a){for(var b=0,c;c=a[b];b++){var d=h.up;c=c in d&&d[c];if(!c)return!1}return!0},mc=function(a,b){try{if(fc(a))return-1;var c=a.cookie.match(/OGPC=([^;]*)/);if(c&&c[1]){var d=c[1].match(new RegExp(\"\\\\b\"+ b+\"-([0-9]+):\"));if(d&&d[1])return parseInt(d[1],10)}}catch(f){f.code!=DOMException.QUOTA_EXCEEDED_ERR&&q(f,\"up\",\"gcc\")}return-1};p(\"up\",{r:bc,nap:cc,aop:dc,tp:ec,ssp:ac,spd:ic,gpd:jc,aeh:kc,aal:lc,gcc:mc});var Z=function(a,b){a[b]=function(c){var d=arguments;h.qm(function(){a[b].apply(this,d)})}};Z(h.up,\"sl\");Z(h.up,\"si\");Z(h.up,\"spl\");Z(h.up,\"dpc\");Z(h.up,\"iic\");h.mcf(\"up\",{sp:k.b(\"0.01\",1),tld:\"com\",prid:\"1\"});function nc(){function a(){for(var b;(b=g[l++])&&\"m\"!=b[0]&&!b[1].auto;);b&&(qa(2,b[0]),b[1].url&&pa(b[1].url,b[0]),b[1].libs&&E&&E(b[1].libs));l<g.length&&setTimeout(a,0)}function b(){0<f--?setTimeout(b,0):a()}var c=k.a(\"1\"),d=k.a(\"\"),f=3,g=A,l=0,n=window.gbarOnReady;if(n)try{n()}catch(m){q(m,\"ml\",\"or\")}d?p(\"ldb\",a):c?ca(window,\"load\",b):b()}p(\"rdl\",nc);}catch(e){window.gbar&&gbar.logger&&gbar.logger.ml(e,{\"_sn\":\"cfg.init\"});}})(); (function(){try{var b=window.gbar;var d=function(a,c){b[a]=function(){return window.navigator&&window.navigator.userAgent?c(window.navigator.userAgent):!1}},e=function(a){return!(/AppleWebKit\\/.+(?:Version\\/[35]\\.|Chrome\\/[01]\\.)/.test(a)||-1!=a.indexOf(\"Firefox/3.5.\"))};d(\"bs_w\",e);}catch(e){window.gbar&&gbar.logger&&gbar.logger.ml(e,{\"_sn\":\"cfg.init\"});}})(); (function(){try{var a=window.gbar;a.mcf(\"pm\",{p:\"19000096,8QJ,7,,\"});}catch(e){window.gbar&&gbar.logger&&gbar.logger.ml(e,{\"_sn\":\"cfg.init\"});}})(); (function(){try{var a=window.gbar;a.mcf(\"mm\",{s:\"1\"});}catch(e){window.gbar&&gbar.logger&&gbar.logger.ml(e,{\"_sn\":\"cfg.init\"});}})(); (function(){try{var d=window.gbar.i.i;var e=window.gbar;var f=e.i;var g=f.c(\"1\",0),h=/\\bgbmt\\b/,k=function(a){try{var b=document.getElementById(\"gb_\"+g),c=document.getElementById(\"gb_\"+a);b&&f.l(b,h.test(b.className)?\"gbm0l\":\"gbz0l\");c&&f.k(c,h.test(c.className)?\"gbm0l\":\"gbz0l\")}catch(l){d(l,\"sj\",\"ssp\")}g=a},m=e.qs,n=function(a){var b;b=a.href;var c=window.location.href.match(/.*?:\\/\\/[^\\/]*/)[0],c=new RegExp(\"^\"+c+\"/search\\\\?\");(b=c.test(b))&&!/(^|\\\\?|&)ei=/.test(a.href)&&(b=window.google)&&b.kEXPI&&(a.href+=\"&ei=\"+b.kEI)},p=function(a){m(a); n(a)},q=function(){if(window.google&&window.google.sn){var a=/.*hp$/;return a.test(window.google.sn)?\"\":\"1\"}return\"-1\"};e.rp=q;e.slp=k;e.qs=p;e.qsi=n;}catch(e){window.gbar&&gbar.logger&&gbar.logger.ml(e,{\"_sn\":\"cfg.init\"});}})(); (function(){try{var a=this;var b=window.gbar;var c=b.i;var d=c.a,e=c.c,f={cty:\"USA\",cv:\"1476066396\",dbg:d(\"\"),ecv:\"0\",ei:e(\"jEQBWK6OBMj8-AHX266oAw\"),ele:d(\"1\"),esr:e(\"0.1\"),evts:[\"mousedown\",\"touchstart\",\"touchmove\",\"wheel\",\"keydown\"],gbl:\"es_plusone_gc_20161006.0_p0\",hd:\"com\",hl:\"en\",irp:d(\"1\"),pid:e(\"1\"), snid:e(\"28834\"),to:e(\"300000\"),u:e(\"\"),vf:\".66.41.\"},g=f,h=[\"bndcfg\"],k=a;h[0]in k||!k.execScript||k.execScript(\"var \"+h[0]);for(var l;h.length&&(l=h.shift());)h.length||void 0===g?k=k[l]?k[l]:k[l]={}:k[l]=g;}catch(e){window.gbar&&gbar.logger&&gbar.logger.ml(e,{\"_sn\":\"cfg.init\"});}})(); (function(){try{window.gbar.rdl();}catch(e){window.gbar&&gbar.logger&&gbar.logger.ml(e,{\"_sn\":\"cfg.init\"});}})(); </script><script>(function(){var a=function(f){for(var g=f.parentElement,d=null,e=0;e<g.childNodes.length;e++){var h=g.childNodes[e];-1<(\" \"+h.className+\" \").indexOf(\" am-dropdown-menu \")&&(d=h)}\"none\"==d.style.display?(d.style.display=\"\",google.log(\"hpam\",\"&ved=\"+f.getAttribute(\"data-ved\"))):d.style.display=\"none\"},b=[\"google\",\"sham\"],c=this;b[0]in c||!c.execScript||c.execScript(\"var \"+b[0]);for(var k;b.length&&(k=b.shift());)b.length||void 0===a?c[k]?c=c[k]:c=c[k]={}:c[k]=a;}).call(window);</script><style type=\"text/css\">.gsib_a{width:100%;padding:4px 6px 0}.gsib_a,.gsib_b{vertical-align:top}.gssb_c{border:0;position:absolute;z-index:989}.gssb_e{border:1px solid #ccc;border-top-color:#d9d9d9;box-shadow:0 2px 4px rgba(0,0,0,0.2);-webkit-box-shadow:0 2px 4px rgba(0,0,0,0.2);cursor:default}.gssb_f{visibility:hidden;white-space:nowrap}.gssb_k{border:0;display:block;position:absolute;top:0;z-index:988}.gsdd_a{border:none!important}.gsmq_a{padding:0}a.gspqs_a{padding:0 3px 0 8px}.gspqs_b{color:#666;line-height:22px}.gsls_a{color:red}.gsn_a{padding-top:4px;padding-bottom:1px}.gsn_b{display:block;line-height:16px}.gsn_c{color:green;font-size:13px}.gsq_a{padding:0}.gssb_a{padding:0 7px}.gssb_a,.gssb_a td{white-space:nowrap;overflow:hidden;line-height:22px}#gssb_b{font-size:11px;color:#36c;text-decoration:none}#gssb_b:hover{font-size:11px;color:#36c;text-decoration:underline}.gssb_g{text-align:center;padding:8px 0 7px;position:relative}.gssb_h{font-size:15px;height:28px;margin:0.2em;-webkit-appearance:button}.gssb_i{background:#eee}.gss_ifl{visibility:hidden;padding-left:5px}.gssb_i .gss_ifl{visibility:visible}a.gssb_j{font-size:13px;color:#36c;text-decoration:none;line-height:100%}a.gssb_j:hover{text-decoration:underline}.gssb_l{height:1px;background-color:#e5e5e5}.gssb_m{color:#000;background:#fff}a.gspqs_a{padding-left:0}.gssb_e{border-top:1px solid #a2bff0;border-right:1px solid #558be3;border-bottom:1px solid #558be3;border-left:1px solid #a2bff0;}.gssb_i{background:#d5e2ff}</style></head><body class=\"hsrp\" bgcolor=\"#ffffff\" marginheight=\"0\" marginwidth=\"0\" topmargin=\"0\"><div id=\"gb\"><script>window.gbar&&gbar.eli&&gbar.eli()</script><div id=\"gbw\"><div id=\"gbz\"><span class=\"gbtcb\"></span><ol id=\"gbzc\" class=\"gbtc\"><li class=\"gbt\"><a onclick=\"gbar.logger.il(1,{t:119});\" class=\"gbzt\" id=\"gb_119\" href=\"https://plus.google.com/?gpsrc=ogpy0&amp;tab=wX\"><span class=\"gbtb2\"></span><span class=\"gbts\">Google+</span></a></li><li class=\"gbt\"><a onclick=\"gbar.logger.il(1,{t:1});\" class=\"gbzt gbz0l gbp1\" id=\"gb_1\" href=\"https://www.google.com/webhp?tab=ww\"><span class=\"gbtb2\"></span><span class=\"gbts\">Search</span></a></li><li class=\"gbt\"><a onclick=\"gbar.logger.il(1,{t:2});\" class=\"gbzt\" id=\"gb_2\" href=\"https://www.google.com/search?hl=en&amp;tbm=isch&amp;source=og&amp;tab=wi\"><span class=\"gbtb2\"></span><span class=\"gbts\">Images</span></a></li><li class=\"gbt\"><a onclick=\"gbar.logger.il(1,{t:8});\" class=\"gbzt\" id=\"gb_8\" href=\"https://maps.google.com/maps?hl=en&amp;tab=wl\"><span class=\"gbtb2\"></span><span class=\"gbts\">Maps</span></a></li><li class=\"gbt\"><a onclick=\"gbar.logger.il(1,{t:78});\" class=\"gbzt\" id=\"gb_78\" href=\"https://play.google.com/?hl=en&amp;tab=w8\"><span class=\"gbtb2\"></span><span class=\"gbts\">Play</span></a></li><li class=\"gbt\"><a onclick=\"gbar.logger.il(1,{t:36});\" class=\"gbzt\" id=\"gb_36\" href=\"https://www.youtube.com/results?tab=w1\"><span class=\"gbtb2\"></span><span class=\"gbts\">YouTube</span></a></li><li class=\"gbt\"><a onclick=\"gbar.logger.il(1,{t:5});\" class=\"gbzt\" id=\"gb_5\" href=\"https://news.google.com/nwshp?hl=en&amp;tab=wn\"><span class=\"gbtb2\"></span><span class=\"gbts\">News</span></a></li><li class=\"gbt\"><a onclick=\"gbar.logger.il(1,{t:23});\" class=\"gbzt\" id=\"gb_23\" href=\"https://mail.google.com/mail/?tab=wm\"><span class=\"gbtb2\"></span><span class=\"gbts\">Gmail</span></a></li><li class=\"gbt\"><a class=\"gbgt\" id=\"gbztm\" href=\"https://www.google.com/intl/en/options/\" onclick=\"gbar.tg(event,this)\" aria-haspopup=\"true\" aria-owns=\"gbd\"><span class=\"gbtb2\"></span><span id=\"gbztms\" class=\"gbts gbtsa\"><span id=\"gbztms1\">More</span><span class=\"gbma\"></span></span></a><div class=\"gbm\" id=\"gbd\" aria-owner=\"gbztm\"><div id=\"gbmmb\" class=\"gbmc gbsb gbsbis\"><ol id=\"gbmm\" class=\"gbmcc gbsbic\"><li class=\"gbmtc\"><a onclick=\"gbar.logger.il(1,{t:49});\" class=\"gbmt\" id=\"gb_49\" href=\"https://drive.google.com/?tab=wo\">Drive</a></li><li class=\"gbmtc\"><a onclick=\"gbar.logger.il(1,{t:24});\" class=\"gbmt\" id=\"gb_24\" href=\"https://www.google.com/calendar?tab=wc\">Calendar</a></li><li class=\"gbmtc\"><a onclick=\"gbar.logger.il(1,{t:51});\" class=\"gbmt\" id=\"gb_51\" href=\"https://translate.google.com/?hl=en&amp;tab=wT\">Translate</a></li><li class=\"gbmtc\"><a onclick=\"gbar.logger.il(1,{t:17});\" class=\"gbmt\" id=\"gb_17\" href=\"http://www.google.com/mobile/?hl=en&amp;tab=wD\">Mobile</a></li><li class=\"gbmtc\"><a onclick=\"gbar.logger.il(1,{t:10});\" class=\"gbmt\" id=\"gb_10\" href=\"https://www.google.com/search?hl=en&amp;tbo=u&amp;tbm=bks&amp;source=og&amp;tab=wp\">Books</a></li><li class=\"gbmtc\"><a onclick=\"gbar.logger.il(1,{t:212});\" class=\"gbmt\" id=\"gb_212\" href=\"https://wallet.google.com/manage/?tab=wa\">Wallet</a></li><li class=\"gbmtc\"><a onclick=\"gbar.logger.il(1,{t:6});\" class=\"gbmt\" id=\"gb_6\" href=\"https://www.google.com/search?hl=en&amp;tbo=u&amp;tbm=shop&amp;source=og&amp;tab=wf\">Shopping</a></li><li class=\"gbmtc\"><a onclick=\"gbar.logger.il(1,{t:30});\" class=\"gbmt\" id=\"gb_30\" href=\"https://www.blogger.com/?tab=wj\">Blogger</a></li><li class=\"gbmtc\"><a onclick=\"gbar.logger.il(1,{t:27});\" class=\"gbmt\" id=\"gb_27\" href=\"https://www.google.com/finance?tab=we\">Finance</a></li><li class=\"gbmtc\"><a onclick=\"gbar.logger.il(1,{t:31});\" class=\"gbmt\" id=\"gb_31\" href=\"https://photos.google.com/?tab=wq\">Photos</a></li><li class=\"gbmtc\"><a onclick=\"gbar.logger.il(1,{t:12});\" class=\"gbmt\" id=\"gb_12\" href=\"https://www.google.com/search?hl=en&amp;tbo=u&amp;tbm=vid&amp;source=og&amp;tab=wv\">Videos</a></li><li class=\"gbmtc\"><a onclick=\"gbar.logger.il(1,{t:25});\" class=\"gbmt\" id=\"gb_25\" href=\"https://docs.google.com/document/?usp=docs_alc\">Docs</a></li><li class=\"gbmtc\"><div class=\"gbmt gbmh\"></div></li><li class=\"gbmtc\"><a onclick=\"gbar.logger.il(1,{t:66});\" href=\"https://www.google.com/intl/en/options/\" class=\"gbmt\">Even more »</a></li></ol><div class=\"gbsbt\" style=\"opacity: 0;\"></div><div class=\"gbsbb\" style=\"opacity: 0;\"></div></div></div></li></ol></div><div id=\"gbg\"><h2 class=\"gbxx\">Account Options</h2><span class=\"gbtcb\"></span><ol class=\"gbtc\"><li class=\"gbt\"><a target=\"_top\" href=\"https://accounts.google.com/ServiceLogin?hl=en&amp;passive=true&amp;continue=https://www.google.com/search%3Fq%3Ddata%2Bscience\" onclick=\"gbar.logger.il(9,{l:'i'})\" id=\"gb_70\" class=\"gbgt\"><span class=\"gbtb2\"></span><span id=\"gbgs4\" class=\"gbts\"><span id=\"gbi4s1\">Sign in</span></span></a></li><li class=\"gbt gbtb\"><span class=\"gbts\"></span></li><li class=\"gbt\"><a class=\"gbgt\" id=\"gbg5\" href=\"http://www.google.com/preferences?hl=en\" title=\"Options\" onclick=\"gbar.tg(event,this)\" aria-haspopup=\"true\" aria-owns=\"gbd5\"><span class=\"gbtb2\"></span><span id=\"gbgs5\" class=\"gbts\"><span id=\"gbi5\"></span></span></a><div class=\"gbm\" id=\"gbd5\" aria-owner=\"gbg5\"><div class=\"gbmc\"><ol id=\"gbom\" class=\"gbmcc\"><li class=\"gbkc gbmtc\"><a class=\"gbmt\" href=\"/preferences?hl=en\">Search settings</a></li><li class=\"gbmtc\"><div class=\"gbmt gbmh\"></div></li><li class=\"gbkp gbmtc\"><a class=\"gbmt\" href=\"http://www.google.com/history/optout?hl=en\">Web History</a></li></ol></div></div></li></ol></div></div><div id=\"gbx3\"></div><div id=\"gbx4\"></div><script>window.gbar&&gbar.elp&&gbar.elp()</script></div><table id=\"mn\" border=\"0\" cellpadding=\"0\" cellspacing=\"0\" style=\"position:relative\"><tbody><tr><th width=\"132\"></th><th width=\"573\"></th><th width=\"278\"></th><th></th></tr><tr><td class=\"sfbgg\" valign=\"top\"><div id=\"logocont\"><h1><a href=\"/webhp?hl=en\" style=\"background:url(/images/nav_logo229.png) no-repeat 0 -41px;height:37px;width:95px;display:block\" id=\"logo\" title=\"Go to Google Home\"></a></h1></div></td><td class=\"sfbgg\" colspan=\"2\" valign=\"top\" style=\"padding-left:0px\"><form style=\"display:block;margin:0;background:none\" action=\"/search\" id=\"tsf\" method=\"GET\" name=\"gs\"><table border=\"0\" cellpadding=\"0\" cellspacing=\"0\" style=\"margin-top:20px;position:relative\"><tbody><tr><td><div class=\"lst-a\"><table cellpadding=\"0\" cellspacing=\"0\"><tbody><tr><td class=\"lst-td\" width=\"555\" valign=\"bottom\"><div style=\"position:relative;zoom:1\"><input class=\"lst\" value=\"data science\" title=\"Search\" autocomplete=\"off\" id=\"sbhost\" maxlength=\"2048\" name=\"q\" type=\"text\" dir=\"ltr\" spellcheck=\"false\" style=\"outline: none;\"></div></td></tr></tbody></table></div></td><td><div class=\"ds\"><div class=\"lsbb\"><button class=\"lsb\" value=\"Search\" name=\"btnG\" type=\"submit\"><span class=\"sbico\" style=\"background:url(/images/nav_logo229.png) no-repeat -36px -111px;height:14px;width:13px;display:block\"></span></button></div></div></td></tr></tbody></table><input type=\"hidden\" name=\"oq\"><input type=\"hidden\" name=\"gs_l\"></form></td><td class=\"sfbgg\">&nbsp;</td></tr><tr style=\"position:relative\"><td><div style=\"border-bottom:1px solid #ebebeb;height:59px\"></div></td><td colspan=\"2\"><div class=\"tn\"><div class=\"_UXb _Ihd _sxc _Hhd\">All</div><div class=\"_sxc\"><a class=\"_UXb _Jhd\" href=\"/search?q=data+science&amp;prmd=ivnsb&amp;source=lnms&amp;tbm=isch&amp;sa=X&amp;ved=0ahUKEwju4sfBldvPAhUGVT4KHd2UBfgQ_AUIBQ\">Images</a></div><div class=\"_sxc\"><a class=\"_UXb _Jhd\" href=\"/search?q=data+science&amp;prmd=ivnsb&amp;source=lnms&amp;tbm=vid&amp;sa=X&amp;ved=0ahUKEwju4sfBldvPAhUGVT4KHd2UBfgQ_AUIBg\">Videos</a></div><div class=\"_sxc\"><a class=\"_UXb _Jhd\" href=\"/search?q=data+science&amp;prmd=ivnsb&amp;source=lnms&amp;tbm=nws&amp;sa=X&amp;ved=0ahUKEwju4sfBldvPAhUGVT4KHd2UBfgQ_AUIBw\">News</a></div><div class=\"_sxc\"><a class=\"_UXb _Jhd\" href=\"/search?q=data+science&amp;prmd=ivnsb&amp;source=lnms&amp;tbm=shop&amp;sa=X&amp;ved=0ahUKEwju4sfBldvPAhUGVT4KHd2UBfgQ_AUICA\">Shopping</a></div><div class=\"_sxc\"><a class=\"_UXb _Jhd\" href=\"/search?q=data+science&amp;prmd=ivnsb&amp;source=lnms&amp;tbm=bks&amp;sa=X&amp;ved=0ahUKEwju4sfBldvPAhUGVT4KHd2UBfgQ_AUICQ\">Books</a></div><div class=\"_sxc\"><a class=\"_UXb _Jhd\" href=\"https://maps.google.com/maps?q=data+science&amp;um=1&amp;ie=UTF-8&amp;sa=X&amp;ved=0ahUKEwju4sfBldvPAhUGVT4KHd2UBfgQ_AUICg\">Maps</a></div></div><div style=\"border-bottom:1px solid #ebebeb;height:59px\"></div></td><td><div style=\"border-bottom:1px solid #ebebeb;height:59px\"></div></td></tr></tbody><tbody data-jibp=\"h\" data-jiis=\"uc\" id=\"desktop-search\"><style>._Bu,._Bu a:link,._Bu a:visited,a._Bu:link,a._Bu:visited{color:#808080}._kBb{color:#61C}.ellip{overflow:hidden;text-overflow:ellipsis;white-space:nowrap}._hM{margin:0;font-weight:normal;font-size:0;line-height:0}#_Ltg ._Dtg,#_Ktg ._Dtg{float:right}#_Ltg ._hM,#_Ktg ._hM{position:relative;top:3px;right:4px}._kug{margin-bottom:23px}#_Ltg{padding:0 8px 11px}#_Ktg{margin:-10px 0 11px;padding-left:8px;padding-right:8px}#_Ltg{margin-bottom:6px}#_Ktg{padding-bottom:12px;padding-top:9px}#_Stg{padding:0 8px 18px 10px;white-space:nowrap}#_Stg ._hM{padding-bottom:13px}#_Stg ._hM{padding-top:1px}#_Stg ._Dtg{position:relative;top:2px;left:3px}.ads-ad{color:#545454}.ads-ad a{text-decoration:none}.ads-ad a:hover,.ads-ad h3 a{text-decoration:underline}.ads-visurl{font-size:15px;margin-bottom:2px}._WGk{display:inline-block;max-width:505px;overflow:hidden;text-overflow:ellipsis;vertical-align:bottom;white-space:nowrap}.ads-visurl ._mB{margin-right:7px}._Tkg{overflow:hidden;max-height:38px}._xyk{overflow:hidden;max-height:32px}.ads-ad{color:#545454;line-height:1.24}._mB{background-color:#59946b;border-radius:2px;color:#fff;display:inline-block;font-size:12px;padding:0 2px;line-height:14px;vertical-align:baseline}._MEc{margin-top:3px}</style><tr><td id=\"leftnav\" valign=\"top\"><div><h2 class=\"hd\">Search Options</h2><ul class=\"med\" id=\"tbd\"><li><ul class=\"tbt\"><li class=\"tbos\" id=\"qdr_\">Any time</li><li class=\"tbou\" id=\"qdr_h\"><a class=\"q\" href=\"/search?q=data+science&amp;prmd=ivnsb&amp;source=lnt&amp;tbs=qdr:h&amp;sa=X&amp;ved=0ahUKEwju4sfBldvPAhUGVT4KHd2UBfgQpwUIDw\">Past hour</a></li><li class=\"tbou\" id=\"qdr_d\"><a class=\"q\" href=\"/search?q=data+science&amp;prmd=ivnsb&amp;source=lnt&amp;tbs=qdr:d&amp;sa=X&amp;ved=0ahUKEwju4sfBldvPAhUGVT4KHd2UBfgQpwUIDw\">Past 24 hours</a></li><li class=\"tbou\" id=\"qdr_w\"><a class=\"q\" href=\"/search?q=data+science&amp;prmd=ivnsb&amp;source=lnt&amp;tbs=qdr:w&amp;sa=X&amp;ved=0ahUKEwju4sfBldvPAhUGVT4KHd2UBfgQpwUIDw\">Past week</a></li><li class=\"tbou\" id=\"qdr_m\"><a class=\"q\" href=\"/search?q=data+science&amp;prmd=ivnsb&amp;source=lnt&amp;tbs=qdr:m&amp;sa=X&amp;ved=0ahUKEwju4sfBldvPAhUGVT4KHd2UBfgQpwUIDw\">Past month</a></li><li class=\"tbou\" id=\"qdr_y\"><a class=\"q\" href=\"/search?q=data+science&amp;prmd=ivnsb&amp;source=lnt&amp;tbs=qdr:y&amp;sa=X&amp;ved=0ahUKEwju4sfBldvPAhUGVT4KHd2UBfgQpwUIDw\">Past year</a></li></ul></li><li><ul class=\"tbt\"><li class=\"tbos\" id=\"li_\">All results</li><li class=\"tbou\" id=\"li_1\"><a class=\"q\" href=\"/search?q=data+science&amp;prmd=ivnsb&amp;source=lnt&amp;tbs=li:1&amp;sa=X&amp;ved=0ahUKEwju4sfBldvPAhUGVT4KHd2UBfgQpwUIDw\">Verbatim</a></li></ul></li></ul></div></td><td valign=\"top\"><div id=\"center_col\"><div class=\"sd\" id=\"resultStats\">About 63,400,000 results</div><div class=\"_Ak\" id=\"_Ltg\"><h2 class=\"_hM\"></h2><ol><li class=\"ads-ad _kug\"><h3 class=\"ellip\"><a href=\"http://www.google.com/aclk?sa=l&amp;ai=DChcSEwj49MrBldvPAhVYI4EKHaA_DxQYABAA&amp;sig=AOD64_2JtV80u0k99Ols40BP9qlFhXWKDA&amp;ved=0ahUKEwju4sfBldvPAhUGVT4KHd2UBfgQ0QwIEg&amp;adurl=\"><b>Data Science</b> - 12 Weeks - generalassemb.ly</a></h3><div class=\"ads-visurl\"><span class=\"_mB\">Ad</span><cite class=\"_WGk\">www.generalassemb.ly/<b>Data</b>-<b>Science</b></cite>‎<div class=\"_nBb\"><div style=\"display:inline\" onclick=\"google.sham(this);\" aria-expanded=\"false\" aria-haspopup=\"true\" tabindex=\"0\" data-ved=\"0ahUKEwju4sfBldvPAhUGVT4KHd2UBfgQ7B0IEw\"><span class=\"_O0\"></span></div><div style=\"display:none\" class=\"am-dropdown-menu\" role=\"menu\" tabindex=\"-1\"><ul><li class=\"_Ykb\" style=\"margin:0\"><a class=\"_Zkb\" href=\"/url?q=/settings/ads/preferences%3Fhl%3Den&amp;sa=U&amp;ved=0ahUKEwju4sfBldvPAhUGVT4KHd2UBfgQgRMIFQ&amp;usg=AFQjCNEAXNOZ62ka46D3FTH_48RcIwnQgw\" target=\"_blank\">Why this ad?</a></li></ul></div></div></div><div class=\"ads-creative ellip\">Learn Python, Git, Unix &amp; More. Join Our Tech Community Today.</div><div class=\"ellip\">Courses: Git, UNIX, &amp; Relational Databases, Data Analysis &amp; Python…</div><a href=\"http://www.google.com/aclk?sa=l&amp;ai=DChcSEwj49MrBldvPAhVYI4EKHaA_DxQYABAB&amp;sig=AOD64_3QejI6Fr2_MXBvRe57lDViu_zhmA&amp;ctype=50&amp;ved=0ahUKEwju4sfBldvPAhUGVT4KHd2UBfgQmxAIGw&amp;adurl=\">902 Broadway, 4th Floor, New York, NY</a></li><li class=\"ads-ad _kug\"><h3 class=\"ellip\"><a href=\"http://www.google.com/aclk?sa=l&amp;ai=DChcSEwj49MrBldvPAhVYI4EKHaA_DxQYABAC&amp;sig=AOD64_0Q5U1nWJm_1LLlgxfC_2gKcTzpdA&amp;ved=0ahUKEwju4sfBldvPAhUGVT4KHd2UBfgQ0QwIHQ&amp;adurl=\"><b>Data Science</b> - Don't Waste Time Job Searching - Hired.com</a></h3><div class=\"ads-visurl\"><span class=\"_mB\">Ad</span><cite class=\"_WGk\">www.hired.com/new-york-city</cite>‎<div class=\"_nBb\"><div style=\"display:inline\" onclick=\"google.sham(this);\" aria-expanded=\"false\" aria-haspopup=\"true\" tabindex=\"0\" data-ved=\"0ahUKEwju4sfBldvPAhUGVT4KHd2UBfgQ7B0IHg\"><span class=\"_O0\"></span></div><div style=\"display:none\" class=\"am-dropdown-menu\" role=\"menu\" tabindex=\"-1\"><ul><li class=\"_Ykb\" style=\"margin:0\"><a class=\"_Zkb\" href=\"/url?q=/settings/ads/preferences%3Fhl%3Den&amp;sa=U&amp;ved=0ahUKEwju4sfBldvPAhUGVT4KHd2UBfgQgRMIIA&amp;usg=AFQjCNEAXNOZ62ka46D3FTH_48RcIwnQgw\" target=\"_blank\">Why this ad?</a></li></ul></div></div></div><div class=\"ads-creative ellip\">Let Tech Companies Apply to You!</div><div>Join Hired Today&nbsp;·&nbsp;Get a $1k Signing Bonus&nbsp;·&nbsp;Salaries Between $75-250k</div><div class=\"_MEc\"><a href=\"http://www.google.com/aclk?sa=l&amp;ai=DChcSEwj49MrBldvPAhVYI4EKHaA_DxQYABAD&amp;sig=AOD64_2Kj-VKFCzDqhAP5iiQtGQZ3daYgw&amp;ctype=4&amp;ved=0ahUKEwju4sfBldvPAhUGVT4KHd2UBfgQpigIIygA&amp;adurl=\">Refer a Friend Bonus</a> - <a href=\"http://www.google.com/aclk?sa=l&amp;ai=DChcSEwj49MrBldvPAhVYI4EKHaA_DxQYABAE&amp;sig=AOD64_0x73lWlVC5MFf8bxSr9Jw3HbpclQ&amp;ctype=4&amp;ved=0ahUKEwju4sfBldvPAhUGVT4KHd2UBfgQpigIJCgB&amp;adurl=\">Apply Once. Get Hired.</a> - <a href=\"http://www.google.com/aclk?sa=l&amp;ai=DChcSEwj49MrBldvPAhVYI4EKHaA_DxQYABAF&amp;sig=AOD64_0ufB38CRbX1SmtR3NkebsvHGvMlg&amp;ctype=4&amp;ved=0ahUKEwju4sfBldvPAhUGVT4KHd2UBfgQpigIJSgC&amp;adurl=\">For Employers</a></div></li><li class=\"ads-ad _kug\"><h3 class=\"ellip\"><a href=\"http://www.google.com/aclk?sa=L&amp;ai=DChcSEwj49MrBldvPAhVYI4EKHaA_DxQYABAG&amp;sig=AOD64_3a-PHyI5_3Pi7KX6m-pRnQ9d2Muw&amp;ved=0ahUKEwju4sfBldvPAhUGVT4KHd2UBfgQ0QwIJw&amp;adurl=\"><b>Data Science</b> Jobs - indeed.com</a></h3><div class=\"ads-visurl\"><span class=\"_mB\">Ad</span><cite class=\"_WGk\">www.indeed.com/Prime</cite>‎<div class=\"_nBb\"><div style=\"display:inline\" onclick=\"google.sham(this);\" aria-expanded=\"false\" aria-haspopup=\"true\" tabindex=\"0\" data-ved=\"0ahUKEwju4sfBldvPAhUGVT4KHd2UBfgQ7B0IKA\"><span class=\"_O0\"></span></div><div style=\"display:none\" class=\"am-dropdown-menu\" role=\"menu\" tabindex=\"-1\"><ul><li class=\"_Ykb\" style=\"margin:0\"><a class=\"_Zkb\" href=\"/url?q=/settings/ads/preferences%3Fhl%3Den&amp;sa=U&amp;ved=0ahUKEwju4sfBldvPAhUGVT4KHd2UBfgQgRMIKg&amp;usg=AFQjCNEAXNOZ62ka46D3FTH_48RcIwnQgw\" target=\"_blank\">Why this ad?</a></li></ul></div></div></div><div class=\"ads-creative ellip\">The Best Tech Companies Are Hiring Find a Job, Get $2K Signing Bonus</div><div class=\"ellip\">Locations: Austin, London, Boston, San Francisco, Seattle…</div><div class=\"_MEc\"><a href=\"http://www.google.com/aclk?sa=L&amp;ai=DChcSEwj49MrBldvPAhVYI4EKHaA_DxQYABAH&amp;sig=AOD64_3oMV_s0sBkbtsTqUFnzR1Ng2vPdQ&amp;ctype=4&amp;ved=0ahUKEwju4sfBldvPAhUGVT4KHd2UBfgQpigINCgA&amp;adurl=\">Free for Candidates</a> - <a href=\"http://www.google.com/aclk?sa=L&amp;ai=DChcSEwj49MrBldvPAhVYI4EKHaA_DxQYABAI&amp;sig=AOD64_1RMjT0lMwZDRgARpRIqVFIZPS0Ng&amp;ctype=4&amp;ved=0ahUKEwju4sfBldvPAhUGVT4KHd2UBfgQpigINSgB&amp;adurl=\">Referral Bonus</a> - <a href=\"http://www.google.com/aclk?sa=L&amp;ai=DChcSEwj49MrBldvPAhVYI4EKHaA_DxQYABAJ&amp;sig=AOD64_1s6xMnmoDNcMu-_s5ySEpLOJ6mgw&amp;ctype=4&amp;ved=0ahUKEwju4sfBldvPAhUGVT4KHd2UBfgQpigINigC&amp;adurl=\">For Employers</a></div></li><li class=\"ads-ad\"><h3 class=\"ellip\"><a href=\"http://www.google.com/aclk?sa=l&amp;ai=DChcSEwj49MrBldvPAhVYI4EKHaA_DxQYABAK&amp;sig=AOD64_2cj_T15YtbEMegK15fPw3-yaT5gA&amp;ved=0ahUKEwju4sfBldvPAhUGVT4KHd2UBfgQ0QwIOA&amp;adurl=\"><b>Data</b> Discovery &amp; <b>Data Science</b>. - Don't Let Your <b>Data</b> Own You.</a></h3><div class=\"ads-visurl\"><span class=\"_mB\">Ad</span><cite class=\"_WGk\">sailfish.boozallen.com/</cite>‎<div class=\"_nBb\"><div style=\"display:inline\" onclick=\"google.sham(this);\" aria-expanded=\"false\" aria-haspopup=\"true\" tabindex=\"0\" data-ved=\"0ahUKEwju4sfBldvPAhUGVT4KHd2UBfgQ7B0IOQ\"><span class=\"_O0\"></span></div><div style=\"display:none\" class=\"am-dropdown-menu\" role=\"menu\" tabindex=\"-1\"><ul><li class=\"_Ykb\" style=\"margin:0\"><a class=\"_Zkb\" href=\"/url?q=/settings/ads/preferences%3Fhl%3Den&amp;sa=U&amp;ved=0ahUKEwju4sfBldvPAhUGVT4KHd2UBfgQgRMIOw&amp;usg=AFQjCNEAXNOZ62ka46D3FTH_48RcIwnQgw\" target=\"_blank\">Why this ad?</a></li></ul></div></div></div><div class=\"ads-creative ellip\">With Sailfish, Insights Into Your Complex <b>Data</b> Are Within Reach. Try Today!</div><div>Data Science Made Easy&nbsp;·&nbsp;Social Data Curation&nbsp;·&nbsp;Data Science For All</div><div class=\"_MEc\"><a href=\"http://www.google.com/aclk?sa=l&amp;ai=DChcSEwj49MrBldvPAhVYI4EKHaA_DxQYABAL&amp;sig=AOD64_1zD6m9YkMsBTQXe6uYnlu7SB6b_w&amp;ctype=4&amp;ved=0ahUKEwju4sfBldvPAhUGVT4KHd2UBfgQpigIPigA&amp;adurl=\">Sign Up - 2 Weeks Free</a> - <a href=\"http://www.google.com/aclk?sa=l&amp;ai=DChcSEwj49MrBldvPAhVYI4EKHaA_DxQYABAM&amp;sig=AOD64_13OikM59_KJuyUYZKgQqGidvm4AA&amp;ctype=4&amp;ved=0ahUKEwju4sfBldvPAhUGVT4KHd2UBfgQpigIPygB&amp;adurl=\">Contact Us Today</a> - <a href=\"http://www.google.com/aclk?sa=l&amp;ai=DChcSEwj49MrBldvPAhVYI4EKHaA_DxQYABAN&amp;sig=AOD64_3Nj5VpXbC7NDlUyP3qF63JXkM2Dw&amp;ctype=4&amp;ved=0ahUKEwju4sfBldvPAhUGVT4KHd2UBfgQpigIQCgC&amp;adurl=\">Sailfish - Exchange</a></div></li></ol></div><div id=\"res\"><div id=\"topstuff\"></div><div id=\"search\"><div id=\"ires\"><ol><div class=\"g\"><h3 class=\"r\"><a href=\"/url?q=https://en.wikipedia.org/wiki/Data_science&amp;sa=U&amp;ved=0ahUKEwju4sfBldvPAhUGVT4KHd2UBfgQFghFMAA&amp;usg=AFQjCNFQh0RwboJfKUkxOpkW7aPg9OGy3A\"><b>Data science</b> - Wikipedia</a></h3><div class=\"s\"><div class=\"kv\" style=\"margin-bottom:2px\"><cite>https://en.wikipedia.org/wiki/<b>Data</b>_<b>science</b></cite><div class=\"_nBb\">‎<div style=\"display:inline\" onclick=\"google.sham(this);\" aria-expanded=\"false\" aria-haspopup=\"true\" tabindex=\"0\" data-ved=\"0ahUKEwju4sfBldvPAhUGVT4KHd2UBfgQ7B0IRjAA\"><span class=\"_O0\"></span></div><div style=\"display:none\" class=\"am-dropdown-menu\" role=\"menu\" tabindex=\"-1\"><ul><li class=\"_Ykb\"><a class=\"_Zkb\" href=\"/url?q=http://webcache.googleusercontent.com/search%3Fq%3Dcache:0TLy5dtiWvwJ:https://en.wikipedia.org/wiki/Data_science%252Bdata%2Bscience%26hl%3Den%26ct%3Dclnk&amp;sa=U&amp;ved=0ahUKEwju4sfBldvPAhUGVT4KHd2UBfgQIAhIMAA&amp;usg=AFQjCNGdFs6gNsKnL9wfJf6ckr06__5y3w\">Cached</a></li><li class=\"_Ykb\"><a class=\"_Zkb\" href=\"/search?q=related:https://en.wikipedia.org/wiki/Data_science+data+science&amp;tbo=1&amp;sa=X&amp;ved=0ahUKEwju4sfBldvPAhUGVT4KHd2UBfgQHwhJMAA\">Similar</a></li></ul></div></div></div><span class=\"st\"><b>Data science</b> is an interdisciplinary field about processes and systems to extract <br>\n",
       "knowledge or insights from data in various forms, either structured or&nbsp;...</span><br><div class=\"osl\">‎<a href=\"/url?q=https://en.wikipedia.org/wiki/Data_science%23Overview&amp;sa=U&amp;ved=0ahUKEwju4sfBldvPAhUGVT4KHd2UBfgQ0gIISygAMAA&amp;usg=AFQjCNGBOuxrghbLoq3gGiAVmkJejPP6bg\">Overview</a> - ‎<a href=\"/url?q=https://en.wikipedia.org/wiki/Data_science%23Data_scientist&amp;sa=U&amp;ved=0ahUKEwju4sfBldvPAhUGVT4KHd2UBfgQ0gIITCgBMAA&amp;usg=AFQjCNGQAxmql0GYXKfYomoD0EH1_t4NOQ\">Data scientist</a> - ‎<a href=\"/url?q=https://en.wikipedia.org/wiki/Data_science%23History&amp;sa=U&amp;ved=0ahUKEwju4sfBldvPAhUGVT4KHd2UBfgQ0gIITSgCMAA&amp;usg=AFQjCNEw6GDVfZimin4kufPbS-r71Ut8fA\">History</a> - ‎<a href=\"/url?q=https://en.wikipedia.org/wiki/Data_science%23Criticism&amp;sa=U&amp;ved=0ahUKEwju4sfBldvPAhUGVT4KHd2UBfgQ0gIITigDMAA&amp;usg=AFQjCNFzbVrvYS0SIwnFMhc9PkQn08JKJA\">Criticism</a></div></div></div><div class=\"g\"><h3 class=\"r\"><a href=\"/url?q=https://www.coursera.org/specializations/jhu-data-science&amp;sa=U&amp;ved=0ahUKEwju4sfBldvPAhUGVT4KHd2UBfgQFghQMAE&amp;usg=AFQjCNEK59LpjiNInQWIC3fivzEiD7zICQ\"><b>Data Science</b> | Coursera</a></h3><div class=\"s\"><div class=\"kv\" style=\"margin-bottom:2px\"><cite>https://www.coursera.org/specializations/jhu-<b>data</b>-<b>science</b></cite><div class=\"_nBb\">‎<div style=\"display:inline\" onclick=\"google.sham(this);\" aria-expanded=\"false\" aria-haspopup=\"true\" tabindex=\"0\" data-ved=\"0ahUKEwju4sfBldvPAhUGVT4KHd2UBfgQ7B0IUTAB\"><span class=\"_O0\"></span></div><div style=\"display:none\" class=\"am-dropdown-menu\" role=\"menu\" tabindex=\"-1\"><ul><li class=\"_Ykb\"><a class=\"_Zkb\" href=\"/url?q=http://webcache.googleusercontent.com/search%3Fq%3Dcache:FLmQQ_RjoisJ:https://www.coursera.org/specializations/jhu-data-science%252Bdata%2Bscience%26hl%3Den%26ct%3Dclnk&amp;sa=U&amp;ved=0ahUKEwju4sfBldvPAhUGVT4KHd2UBfgQIAhTMAE&amp;usg=AFQjCNEHGGPJ2MsspIEqmPjnBIMBUA2yug\">Cached</a></li><li class=\"_Ykb\"><a class=\"_Zkb\" href=\"/search?q=related:https://www.coursera.org/specializations/jhu-data-science+data+science&amp;tbo=1&amp;sa=X&amp;ved=0ahUKEwju4sfBldvPAhUGVT4KHd2UBfgQHwhUMAE\">Similar</a></li></ul></div></div></div><span class=\"st\">Explore <b>Data Science</b> Certificate offered by Johns Hopkins University. Launch <br>\n",
       "Your Career in <b>Data Science</b> - A nine-course introduction to <b>data science</b>,&nbsp;...</span><br></div></div><div class=\"g\"><h3 class=\"r\"><a href=\"/url?q=http://datascience.nyu.edu/&amp;sa=U&amp;ved=0ahUKEwju4sfBldvPAhUGVT4KHd2UBfgQFghWMAI&amp;usg=AFQjCNE6eEHKOE8v9038R-YnfVdcBu9lTw\"><b>Data Science</b> at NYU</a></h3><div class=\"s\"><div class=\"kv\" style=\"margin-bottom:2px\"><cite><b>datascience</b>.nyu.edu/</cite><div class=\"_nBb\">‎<div style=\"display:inline\" onclick=\"google.sham(this);\" aria-expanded=\"false\" aria-haspopup=\"true\" tabindex=\"0\" data-ved=\"0ahUKEwju4sfBldvPAhUGVT4KHd2UBfgQ7B0IVzAC\"><span class=\"_O0\"></span></div><div style=\"display:none\" class=\"am-dropdown-menu\" role=\"menu\" tabindex=\"-1\"><ul><li class=\"_Ykb\"><a class=\"_Zkb\" href=\"/url?q=http://webcache.googleusercontent.com/search%3Fq%3Dcache:i15V01FkkrEJ:http://datascience.nyu.edu/%252Bdata%2Bscience%26hl%3Den%26ct%3Dclnk&amp;sa=U&amp;ved=0ahUKEwju4sfBldvPAhUGVT4KHd2UBfgQIAhZMAI&amp;usg=AFQjCNHKc91tK22CQcLojo30R53s3vdSoA\">Cached</a></li><li class=\"_Ykb\"><a class=\"_Zkb\" href=\"/search?q=related:datascience.nyu.edu/+data+science&amp;tbo=1&amp;sa=X&amp;ved=0ahUKEwju4sfBldvPAhUGVT4KHd2UBfgQHwhaMAI\">Similar</a></li></ul></div></div></div><span class=\"st\">The <b>data science</b> initiative at NYU is a university-wide effort to establish the <br>\n",
       "country's leading <b>data science</b> training and research facilities at NYU.</span><br></div></div><div class=\"g\"><div><h3 class=\"r\"><a href=\"/search?q=data+science&amp;prmd=ivnsb&amp;source=univ&amp;tbm=nws&amp;tbo=u&amp;sa=X&amp;ved=0ahUKEwju4sfBldvPAhUGVT4KHd2UBfgQqAIIXA\">News for <b>data science</b></a></h3><table class=\"ts\"><tbody><tr><td valign=\"top\" style=\"font-size:78%;line-height:normal;padding:7px 8px 0 0;text-align:center\"><a href=\"/url?q=http://www.informationsecuritybuzz.com/articles/data-science-key-cybersecurity/&amp;sa=U&amp;ved=0ahUKEwju4sfBldvPAhUGVT4KHd2UBfgQpwIIXQ&amp;usg=AFQjCNGkFofqCrT6wO2X8yUhayCx9d8fgw\"><img class=\"th\" height=\"100\" src=\"https://encrypted-tbn1.gstatic.com/images?q=tbn:ANd9GcRA7A16l6ziDnf0Mfu0cnVqvFt4IG7A16ZLUmxzF0mM2fqzTRxKEBHiKEnnvni4k14ef6M\" width=\"100\" border=\"1\"><br></a><span class=\"_pJb _yhd\">ISBuzz News</span></td><td valign=\"top\"><div style=\"margin-top:5px\"><a href=\"/url?q=http://www.informationsecuritybuzz.com/articles/data-science-key-cybersecurity/&amp;sa=U&amp;ved=0ahUKEwju4sfBldvPAhUGVT4KHd2UBfgQqQIIXzAD&amp;usg=AFQjCNGkFofqCrT6wO2X8yUhayCx9d8fgw\">Is Data Science the Key to Cybersecurity?</a><div style=\"padding-top:2px\"><cite>ISBuzz News</cite><span class=\"f\"> - <span class=\"nobr\">11 hours ago</span><span class=\"nobr\"></span></span></div><div class=\"j\" style=\"margin-top:1px;margin-bottom:4px\"><span class=\"st\"><b>data</b>-<b>science</b>-1 In many ways, fighting cybercrime is a lot like playing “Whack-A-<br>\n",
       "Mole,” the ever popular arcade game. For every threat that is&nbsp;...</span></div></div><div style=\"margin-top:4px\"><a href=\"/url?q=http://www.nwitimes.com/business/jobs-and-employment/workplace/college-spotlight/vu-offers-new-undergrad-degree-in-data-science/article_9f2d1499-fce9-56e7-a4bf-39553c4adfd4.html&amp;sa=U&amp;ved=0ahUKEwju4sfBldvPAhUGVT4KHd2UBfgQqQIIYTAE&amp;usg=AFQjCNFe1-I_haxRz76FdeJyGOeuAt1eww\">VU offers new undergrad degree in data science</a><div style=\"padding-top:2px\"><cite>nwitimes.com</cite><span class=\"f\"> - <span class=\"nobr\">1 day ago</span><span class=\"nobr\"></span></span></div></div><div style=\"margin-top:4px\"><a href=\"/url?q=https://appdevelopermagazine.com/4522/2016/10/14/New-AnacondaCrew-partner-program-to-leverage-open-data-science-technology&amp;sa=U&amp;ved=0ahUKEwju4sfBldvPAhUGVT4KHd2UBfgQqQIIYzAF&amp;usg=AFQjCNGIcEdypgctYQPvQQc8LUdIftELKA\">New AnacondaCrew partner program to leverage open data science technology</a><div style=\"padding-top:2px\"><cite>App Developer Magazine</cite><span class=\"f\"> - <span class=\"nobr\">1 hour ago</span><span class=\"nobr\"></span></span></div></div></td></tr></tbody></table></div></div><div class=\"g\"><h3 class=\"r\"><a href=\"/url?q=http://datascience.columbia.edu/certification&amp;sa=U&amp;ved=0ahUKEwju4sfBldvPAhUGVT4KHd2UBfgQFghlMAY&amp;usg=AFQjCNGwYCPLO41a6e3dcNzHwGCg0eN2ow\">Columbia Certification of Professional Achievement in <b>Data Sciences</b></a></h3><div class=\"s\"><div class=\"kv\" style=\"margin-bottom:2px\"><cite><b>datascience</b>.columbia.edu/certification</cite><div class=\"_nBb\">‎<div style=\"display:inline\" onclick=\"google.sham(this);\" aria-expanded=\"false\" aria-haspopup=\"true\" tabindex=\"0\" data-ved=\"0ahUKEwju4sfBldvPAhUGVT4KHd2UBfgQ7B0IZjAG\"><span class=\"_O0\"></span></div><div style=\"display:none\" class=\"am-dropdown-menu\" role=\"menu\" tabindex=\"-1\"><ul><li class=\"_Ykb\"><a class=\"_Zkb\" href=\"/url?q=http://webcache.googleusercontent.com/search%3Fq%3Dcache:UcprjQ6g3NIJ:http://datascience.columbia.edu/certification%252Bdata%2Bscience%26hl%3Den%26ct%3Dclnk&amp;sa=U&amp;ved=0ahUKEwju4sfBldvPAhUGVT4KHd2UBfgQIAhoMAY&amp;usg=AFQjCNHr-tgyps5SMCSliqfz6BJXpf1_UA\">Cached</a></li><li class=\"_Ykb\"><a class=\"_Zkb\" href=\"/search?q=related:datascience.columbia.edu/certification+data+science&amp;tbo=1&amp;sa=X&amp;ved=0ahUKEwju4sfBldvPAhUGVT4KHd2UBfgQHwhpMAY\">Similar</a></li></ul></div></div></div><span class=\"st\">The Certification of Professional Achievement in <b>Data Sciences</b> prepares <br>\n",
       "students to expand their career prospects or change career paths by developing<br>\n",
       "&nbsp;...</span><br></div></div><div class=\"g\"><h3 class=\"r\"><a href=\"/url?q=https://www.udacity.com/course/intro-to-data-science--ud359&amp;sa=U&amp;ved=0ahUKEwju4sfBldvPAhUGVT4KHd2UBfgQFghrMAc&amp;usg=AFQjCNEpEPwQ5H--XzQPkAO7p_DeKEe6PA\">Intro to <b>Data Science</b> Online Course | Udacity</a></h3><div class=\"s\"><div class=\"kv\" style=\"margin-bottom:2px\"><cite>https://www.udacity.com/course/intro-to-<b>data</b>-<b>science</b>--ud359</cite><div class=\"_nBb\">‎<div style=\"display:inline\" onclick=\"google.sham(this);\" aria-expanded=\"false\" aria-haspopup=\"true\" tabindex=\"0\" data-ved=\"0ahUKEwju4sfBldvPAhUGVT4KHd2UBfgQ7B0IbDAH\"><span class=\"_O0\"></span></div><div style=\"display:none\" class=\"am-dropdown-menu\" role=\"menu\" tabindex=\"-1\"><ul><li class=\"_Ykb\"><a class=\"_Zkb\" href=\"/url?q=http://webcache.googleusercontent.com/search%3Fq%3Dcache:n8JCnEjMnysJ:https://www.udacity.com/course/intro-to-data-science--ud359%252Bdata%2Bscience%26hl%3Den%26ct%3Dclnk&amp;sa=U&amp;ved=0ahUKEwju4sfBldvPAhUGVT4KHd2UBfgQIAhuMAc&amp;usg=AFQjCNHbf8p3SEeSfsZMAAODsZto7wWG_w\">Cached</a></li><li class=\"_Ykb\"><a class=\"_Zkb\" href=\"/search?q=related:https://www.udacity.com/course/intro-to-data-science--ud359+data+science&amp;tbo=1&amp;sa=X&amp;ved=0ahUKEwju4sfBldvPAhUGVT4KHd2UBfgQHwhvMAc\">Similar</a></li></ul></div></div></div><span class=\"st\">Intro to <b>Data Science</b> covers the basics of big data through data manipulation, <br>\n",
       "analysis and communication while completing a hands on <b>data science</b> project.</span><br></div></div><div class=\"g\"><h3 class=\"r\"><a href=\"/url?q=https://datascience.berkeley.edu/about/what-is-data-science/&amp;sa=U&amp;ved=0ahUKEwju4sfBldvPAhUGVT4KHd2UBfgQFghxMAg&amp;usg=AFQjCNEBUaMPfWTilyBMTDJr63KQ3bQ63Q\">What is <b>Data Science</b>? - <b>DataScience</b>@Berkeley</a></h3><div class=\"s\"><div class=\"kv\" style=\"margin-bottom:2px\"><cite>https://<b>datascience</b>.berkeley.edu/about/what-is-<b>data</b>-<b>science</b>/</cite><div class=\"_nBb\">‎<div style=\"display:inline\" onclick=\"google.sham(this);\" aria-expanded=\"false\" aria-haspopup=\"true\" tabindex=\"0\" data-ved=\"0ahUKEwju4sfBldvPAhUGVT4KHd2UBfgQ7B0IcjAI\"><span class=\"_O0\"></span></div><div style=\"display:none\" class=\"am-dropdown-menu\" role=\"menu\" tabindex=\"-1\"><ul><li class=\"_Ykb\"><a class=\"_Zkb\" href=\"/url?q=http://webcache.googleusercontent.com/search%3Fq%3Dcache:EGIx1bXGIvMJ:https://datascience.berkeley.edu/about/what-is-data-science/%252Bdata%2Bscience%26hl%3Den%26ct%3Dclnk&amp;sa=U&amp;ved=0ahUKEwju4sfBldvPAhUGVT4KHd2UBfgQIAh0MAg&amp;usg=AFQjCNEDKqcZm0XyhSLD6I80JKtWmbgoog\">Cached</a></li><li class=\"_Ykb\"><a class=\"_Zkb\" href=\"/search?q=related:https://datascience.berkeley.edu/about/what-is-data-science/+data+science&amp;tbo=1&amp;sa=X&amp;ved=0ahUKEwju4sfBldvPAhUGVT4KHd2UBfgQHwh1MAg\">Similar</a></li></ul></div></div></div><span class=\"st\">The supply of professionals who can work effectively with data at scale is limited, <br>\n",
       "and is reflected by rapidly rising salaries for data engineers, <b>data scientists</b>,&nbsp;...</span><br></div></div><div class=\"g\"><h3 class=\"r\"><a href=\"/url?q=https://www.datascience.com/&amp;sa=U&amp;ved=0ahUKEwju4sfBldvPAhUGVT4KHd2UBfgQFgh3MAk&amp;usg=AFQjCNF2nTcIXBnSYXBwssLAgbfduzCSBg\"><b>Data Science</b> Company | <b>Data Science</b> Platform | <b>Data Science</b> ...</a></h3><div class=\"s\"><div class=\"kv\" style=\"margin-bottom:2px\"><cite>https://www.<b>datascience</b>.com/</cite><div class=\"_nBb\">‎<div style=\"display:inline\" onclick=\"google.sham(this);\" aria-expanded=\"false\" aria-haspopup=\"true\" tabindex=\"0\" data-ved=\"0ahUKEwju4sfBldvPAhUGVT4KHd2UBfgQ7B0IeDAJ\"><span class=\"_O0\"></span></div><div style=\"display:none\" class=\"am-dropdown-menu\" role=\"menu\" tabindex=\"-1\"><ul><li class=\"_Ykb\"><a class=\"_Zkb\" href=\"/url?q=http://webcache.googleusercontent.com/search%3Fq%3Dcache:KIV1I-Mk9sAJ:https://www.datascience.com/%252Bdata%2Bscience%26hl%3Den%26ct%3Dclnk&amp;sa=U&amp;ved=0ahUKEwju4sfBldvPAhUGVT4KHd2UBfgQIAh6MAk&amp;usg=AFQjCNH_vB0hXUKm1v453ochSBwY6mSjdA\">Cached</a></li></ul></div></div></div><span class=\"st\">The <b>DataScience</b> Cloud is a <b>data science</b> platform that brings together best-in-<br>\n",
       "class tools, infrastructure, and expertise in a modern, full-service offering.</span><br></div></div><div class=\"g\"><h3 class=\"r\"><a href=\"/url?q=https://www.extension.harvard.edu/academics/professional-graduate-certificates/data-science-certificate&amp;sa=U&amp;ved=0ahUKEwju4sfBldvPAhUGVT4KHd2UBfgQFgh8MAo&amp;usg=AFQjCNHe03FA3xaIUR_XdIju6r-2dS1kQA\"><b>Data Science</b> Certificate | Harvard Extension</a></h3><div class=\"s\"><div class=\"kv\" style=\"margin-bottom:2px\"><cite>https://www.extension.harvard.edu/academics/.../<b>data</b>-<b>science</b>-certificate</cite><div class=\"_nBb\">‎<div style=\"display:inline\" onclick=\"google.sham(this);\" aria-expanded=\"false\" aria-haspopup=\"true\" tabindex=\"0\" data-ved=\"0ahUKEwju4sfBldvPAhUGVT4KHd2UBfgQ7B0IfTAK\"><span class=\"_O0\"></span></div><div style=\"display:none\" class=\"am-dropdown-menu\" role=\"menu\" tabindex=\"-1\"><ul><li class=\"_Ykb\"><a class=\"_Zkb\" href=\"/search?q=related:https://www.extension.harvard.edu/academics/professional-graduate-certificates/data-science-certificate+data+science&amp;tbo=1&amp;sa=X&amp;ved=0ahUKEwju4sfBldvPAhUGVT4KHd2UBfgQHwh_MAo\">Similar</a></li></ul></div></div></div><span class=\"st\">Learn to interpret big data sets with the <b>data science</b> certificate from Harvard <br>\n",
       "Extension. Your analysis education can start today.</span><br></div></div><div class=\"g\"><h3 class=\"r\"><a href=\"/url?q=https://www.edx.org/course/programming-python-data-science-microsoft-dat210x-1&amp;sa=U&amp;ved=0ahUKEwju4sfBldvPAhUGVT4KHd2UBfgQFgiBATAL&amp;usg=AFQjCNEkzxFB2LBaWEpasJKjlzBEcjEz6A\">Programming with Python for <b>Data Science</b> | edX</a></h3><div class=\"s\"><div class=\"kv\" style=\"margin-bottom:2px\"><cite>https://www.edx.org/.../programming-python-<b>data</b>-<b>science</b>-microsoft-dat210x -1</cite><div class=\"_nBb\">‎<div style=\"display:inline\" onclick=\"google.sham(this);\" aria-expanded=\"false\" aria-haspopup=\"true\" tabindex=\"0\" data-ved=\"0ahUKEwju4sfBldvPAhUGVT4KHd2UBfgQ7B0IggEwCw\"><span class=\"_O0\"></span></div><div style=\"display:none\" class=\"am-dropdown-menu\" role=\"menu\" tabindex=\"-1\"><ul><li class=\"_Ykb\"><a class=\"_Zkb\" href=\"/url?q=http://webcache.googleusercontent.com/search%3Fq%3Dcache:BUC-gxy3J8AJ:https://www.edx.org/course/programming-python-data-science-microsoft-dat210x-1%252Bdata%2Bscience%26hl%3Den%26ct%3Dclnk&amp;sa=U&amp;ved=0ahUKEwju4sfBldvPAhUGVT4KHd2UBfgQIAiEATAL&amp;usg=AFQjCNGHyzuTBMucxiQdLf4kTpi9E3-vhQ\">Cached</a></li></ul></div></div></div><span class=\"st\">Traverse the <b>data</b> analysis pipeline using advanced visualizations in Python, and <br>\n",
       "make machine learning start working for you.</span><br></div></div></ol></div></div></div><div class=\"_Ak\" id=\"_Ktg\"><h2 class=\"_hM\"></h2><ol><li class=\"ads-ad _kug\"><h3 class=\"ellip\"><a href=\"http://www.google.com/aclk?sa=l&amp;ai=DChcSEwj49MrBldvPAhVYI4EKHaA_DxQYABAO&amp;sig=AOD64_2EccysQOR1U33985NFEMqCSmOtnA&amp;ved=0ahUKEwju4sfBldvPAhUGVT4KHd2UBfgQ0QwIhwE&amp;adurl=\">Google Cloud Big <b>Data</b> - Build at the Speed of Google</a></h3><div class=\"ads-visurl\"><span class=\"_mB\">Ad</span><cite class=\"_WGk\">cloud.google.com/</cite>‎<div class=\"_nBb\"><div style=\"display:inline\" onclick=\"google.sham(this);\" aria-expanded=\"false\" aria-haspopup=\"true\" tabindex=\"0\" data-ved=\"0ahUKEwju4sfBldvPAhUGVT4KHd2UBfgQ7B0IiAE\"><span class=\"_O0\"></span></div><div style=\"display:none\" class=\"am-dropdown-menu\" role=\"menu\" tabindex=\"-1\"><ul><li class=\"_Ykb\" style=\"margin:0\"><a class=\"_Zkb\" href=\"/url?q=/settings/ads/preferences%3Fhl%3Den&amp;sa=U&amp;ved=0ahUKEwju4sfBldvPAhUGVT4KHd2UBfgQgRMIigE&amp;usg=AFQjCNEAXNOZ62ka46D3FTH_48RcIwnQgw\" target=\"_blank\">Why this ad?</a></li></ul></div></div></div><div class=\"ads-creative ellip\">Create Simple Sites to Complex Apps</div><div>Get The Support You Need&nbsp;·&nbsp;Highly Scalable&nbsp;·&nbsp;$300 Free Trial&nbsp;·&nbsp;Deploy in Minutes</div><div class=\"_MEc\"><a href=\"http://www.google.com/aclk?sa=l&amp;ai=DChcSEwj49MrBldvPAhVYI4EKHaA_DxQYABAP&amp;sig=AOD64_2FqbknXas1TdPDPWeHJL77WfmArg&amp;ctype=4&amp;ved=0ahUKEwju4sfBldvPAhUGVT4KHd2UBfgQpigIjQEoAA&amp;adurl=\">Mobile &amp; Data Solutions</a> - <a href=\"http://www.google.com/aclk?sa=l&amp;ai=DChcSEwj49MrBldvPAhVYI4EKHaA_DxQYABAQ&amp;sig=AOD64_15PLP5LQEOV95AuImidKvliyBSDw&amp;ctype=4&amp;ved=0ahUKEwju4sfBldvPAhUGVT4KHd2UBfgQpigIjgEoAQ&amp;adurl=\">Deploy Bitnami Apps</a> - <a href=\"http://www.google.com/aclk?sa=l&amp;ai=DChcSEwj49MrBldvPAhVYI4EKHaA_DxQYABAR&amp;sig=AOD64_3cjAM-Vbx1MuoUVIteA0Dpx8tDcQ&amp;ctype=4&amp;ved=0ahUKEwju4sfBldvPAhUGVT4KHd2UBfgQpigIjwEoAg&amp;adurl=\">Pricing</a> - <a href=\"http://www.google.com/aclk?sa=l&amp;ai=DChcSEwj49MrBldvPAhVYI4EKHaA_DxQYABAS&amp;sig=AOD64_0ymlnfke5wQEFfE8etiBHqhSlWzw&amp;ctype=4&amp;ved=0ahUKEwju4sfBldvPAhUGVT4KHd2UBfgQpigIkAEoAw&amp;adurl=\">Case Studies</a></div></li><li class=\"ads-ad _kug\"><h3 class=\"ellip\"><a href=\"http://www.google.com/aclk?sa=l&amp;ai=DChcSEwj49MrBldvPAhVYI4EKHaA_DxQYABAT&amp;sig=AOD64_2KkwmrsZOz2otKVEXFwa9A8HrJ2w&amp;ved=0ahUKEwju4sfBldvPAhUGVT4KHd2UBfgQ0QwIkgE&amp;adurl=\">Deep Learning on Time Series - Predict Your Business Future</a></h3><div class=\"ads-visurl\"><span class=\"_mB\">Ad</span><cite class=\"_WGk\">www.arimo.com/</cite>‎<div class=\"_nBb\"><div style=\"display:inline\" onclick=\"google.sham(this);\" aria-expanded=\"false\" aria-haspopup=\"true\" tabindex=\"0\" data-ved=\"0ahUKEwju4sfBldvPAhUGVT4KHd2UBfgQ7B0IkwE\"><span class=\"_O0\"></span></div><div style=\"display:none\" class=\"am-dropdown-menu\" role=\"menu\" tabindex=\"-1\"><ul><li class=\"_Ykb\" style=\"margin:0\"><a class=\"_Zkb\" href=\"/url?q=/settings/ads/preferences%3Fhl%3Den&amp;sa=U&amp;ved=0ahUKEwju4sfBldvPAhUGVT4KHd2UBfgQgRMIlQE&amp;usg=AFQjCNEAXNOZ62ka46D3FTH_48RcIwnQgw\" target=\"_blank\">Why this ad?</a></li></ul></div></div></div><div class=\"ads-creative ellip\">Understand your customers' behaviors today. Take action to better serve them.</div><div>Easy Data Discovery&nbsp;·&nbsp;Machine/Deep Learning&nbsp;·&nbsp;Big Data Analytics</div><div class=\"_MEc\"><a href=\"http://www.google.com/aclk?sa=l&amp;ai=DChcSEwj49MrBldvPAhVYI4EKHaA_DxQYABAU&amp;sig=AOD64_0wWBpu40TeHra0IajBGQlrLKxgqQ&amp;ctype=4&amp;ved=0ahUKEwju4sfBldvPAhUGVT4KHd2UBfgQpigImAEoAA&amp;adurl=\">Home</a> - <a href=\"http://www.google.com/aclk?sa=l&amp;ai=DChcSEwj49MrBldvPAhVYI4EKHaA_DxQYABAV&amp;sig=AOD64_2p_eC-apvNRabuHVBPXooVC3ODAQ&amp;ctype=4&amp;ved=0ahUKEwju4sfBldvPAhUGVT4KHd2UBfgQpigImQEoAQ&amp;adurl=\">Products</a> - <a href=\"http://www.google.com/aclk?sa=l&amp;ai=DChcSEwj49MrBldvPAhVYI4EKHaA_DxQYABAW&amp;sig=AOD64_2XBxWL17GsF6nJJVLJhRZ6Ae90Yw&amp;ctype=4&amp;ved=0ahUKEwju4sfBldvPAhUGVT4KHd2UBfgQpigImgEoAg&amp;adurl=\">Solutions</a> - <a href=\"http://www.google.com/aclk?sa=l&amp;ai=DChcSEwj49MrBldvPAhVYI4EKHaA_DxQYABAX&amp;sig=AOD64_0OmQu0xv_q4O3qte9KrfXF8AgtIw&amp;ctype=4&amp;ved=0ahUKEwju4sfBldvPAhUGVT4KHd2UBfgQpigImwEoAw&amp;adurl=\">About</a></div></li><li class=\"ads-ad\"><h3 class=\"ellip\"><a href=\"http://www.google.com/aclk?sa=l&amp;ai=DChcSEwj49MrBldvPAhVYI4EKHaA_DxQYABAY&amp;sig=AOD64_0K0sG2r01uZSueDvT51p1DxzTUpQ&amp;ved=0ahUKEwju4sfBldvPAhUGVT4KHd2UBfgQ0QwInQE&amp;adurl=\"><b>Data Scientist</b> Masters Program - Attend 100+ Online Batches.</a></h3><div class=\"ads-visurl\"><span class=\"_mB\">Ad</span><cite class=\"_WGk\">www.simplilearn.com/<b>Data</b>_<b>Scientist</b>/Master_Program</cite>‎<div class=\"_nBb\"><div style=\"display:inline\" onclick=\"google.sham(this);\" aria-expanded=\"false\" aria-haspopup=\"true\" tabindex=\"0\" data-ved=\"0ahUKEwju4sfBldvPAhUGVT4KHd2UBfgQ7B0IngE\"><span class=\"_O0\"></span></div><div style=\"display:none\" class=\"am-dropdown-menu\" role=\"menu\" tabindex=\"-1\"><ul><li class=\"_Ykb\" style=\"margin:0\"><a class=\"_Zkb\" href=\"/url?q=/settings/ads/preferences%3Fhl%3Den&amp;sa=U&amp;ved=0ahUKEwju4sfBldvPAhUGVT4KHd2UBfgQgRMIoAE&amp;usg=AFQjCNEAXNOZ62ka46D3FTH_48RcIwnQgw\" target=\"_blank\">Why this ad?</a></li></ul></div></div></div><div class=\"ads-creative ellip\">Mentorship from Industry experts, industry-recommended learning path. Join Now!</div><div>Creating 200K Data Sci.&nbsp;·&nbsp;Prog. Dr. Lillian Pierson</div><div class=\"_MEc\"><a href=\"http://www.google.com/aclk?sa=l&amp;ai=DChcSEwj49MrBldvPAhVYI4EKHaA_DxQYABAZ&amp;sig=AOD64_1NPhwKmYTloOWdZq8DFPUyXBDAdQ&amp;ctype=4&amp;ved=0ahUKEwju4sfBldvPAhUGVT4KHd2UBfgQpigIowEoAA&amp;adurl=\">Python Training</a> - <a href=\"http://www.google.com/aclk?sa=l&amp;ai=DChcSEwj49MrBldvPAhVYI4EKHaA_DxQYABAa&amp;sig=AOD64_1NJ2wY7cJVNAv2ZhsJETMKXM_CPw&amp;ctype=4&amp;ved=0ahUKEwju4sfBldvPAhUGVT4KHd2UBfgQpigIpAEoAQ&amp;adurl=\">Corporate Data Science</a> - <a href=\"http://www.google.com/aclk?sa=l&amp;ai=DChcSEwj49MrBldvPAhVYI4EKHaA_DxQYABAb&amp;sig=AOD64_3DvOUv88g4SBns7ZNTsYqKOvNfrA&amp;ctype=4&amp;ved=0ahUKEwju4sfBldvPAhUGVT4KHd2UBfgQpigIpQEoAg&amp;adurl=\">Busi. Analyst with Excel</a></div></li></ol></div><div style=\"clear:both;margin-bottom:17px;overflow:hidden\"><div style=\"font-size:16px;padding:0 8px 1px\">Searches related to <b>data science</b></div><table border=\"0\" cellpadding=\"0\" cellspacing=\"0\"><tbody><tr><td valign=\"top\"><p class=\"_Bmc\" style=\"margin:3px 8px\"><a href=\"/search?q=data+science+course&amp;sa=X&amp;ved=0ahUKEwju4sfBldvPAhUGVT4KHd2UBfgQ1QIIqAEoAA\">data science <b>course</b></a></p></td><td valign=\"top\" style=\"padding-left:10px\"><p class=\"_Bmc\" style=\"margin:3px 8px\"><a href=\"/search?q=data+science+coursera&amp;sa=X&amp;ved=0ahUKEwju4sfBldvPAhUGVT4KHd2UBfgQ1QIIqQEoAQ\">data science <b>coursera</b></a></p></td></tr><tr><td valign=\"top\"><p class=\"_Bmc\" style=\"margin:3px 8px\"><a href=\"/search?q=data+science+salary&amp;sa=X&amp;ved=0ahUKEwju4sfBldvPAhUGVT4KHd2UBfgQ1QIIqgEoAg\">data science <b>salary</b></a></p></td><td valign=\"top\" style=\"padding-left:10px\"><p class=\"_Bmc\" style=\"margin:3px 8px\"><a href=\"/search?q=data+science+certification&amp;sa=X&amp;ved=0ahUKEwju4sfBldvPAhUGVT4KHd2UBfgQ1QIIqwEoAw\">data science <b>certification</b></a></p></td></tr><tr><td valign=\"top\"><p class=\"_Bmc\" style=\"margin:3px 8px\"><a href=\"/search?q=data+science+degree&amp;sa=X&amp;ved=0ahUKEwju4sfBldvPAhUGVT4KHd2UBfgQ1QIIrAEoBA\">data science <b>degree</b></a></p></td><td valign=\"top\" style=\"padding-left:10px\"><p class=\"_Bmc\" style=\"margin:3px 8px\"><a href=\"/search?q=data+science+pdf&amp;sa=X&amp;ved=0ahUKEwju4sfBldvPAhUGVT4KHd2UBfgQ1QIIrQEoBQ\">data science <b>pdf</b></a></p></td></tr><tr><td valign=\"top\"><p class=\"_Bmc\" style=\"margin:3px 8px\"><a href=\"/search?q=data+science+definition&amp;sa=X&amp;ved=0ahUKEwju4sfBldvPAhUGVT4KHd2UBfgQ1QIIrgEoBg\">data science <b>definition</b></a></p></td><td valign=\"top\" style=\"padding-left:10px\"><p class=\"_Bmc\" style=\"margin:3px 8px\"><a href=\"/search?q=data+science+books&amp;sa=X&amp;ved=0ahUKEwju4sfBldvPAhUGVT4KHd2UBfgQ1QIIrwEoBw\">data science <b>books</b></a></p></td></tr></tbody></table></div></div><div id=\"foot\"><table align=\"center\" border=\"0\" cellpadding=\"0\" cellspacing=\"0\" id=\"nav\"><tbody><tr valign=\"top\"><td align=\"left\" class=\"b\"><span class=\"csb\" style=\"background-position:-24px 0;width:28px\"></span><b></b></td><td><span class=\"csb\" style=\"background-position:-53px 0;width:20px\"></span><b>1</b></td><td><a class=\"fl\" href=\"/search?q=data+science&amp;prmd=ivnsb&amp;ei=jEQBWO7sAoaq-QHdqZbADw&amp;start=10&amp;sa=N\"><span class=\"csb\" style=\"background-position:-74px 0;width:20px\"></span>2</a></td><td><a class=\"fl\" href=\"/search?q=data+science&amp;prmd=ivnsb&amp;ei=jEQBWO7sAoaq-QHdqZbADw&amp;start=20&amp;sa=N\"><span class=\"csb\" style=\"background-position:-74px 0;width:20px\"></span>3</a></td><td><a class=\"fl\" href=\"/search?q=data+science&amp;prmd=ivnsb&amp;ei=jEQBWO7sAoaq-QHdqZbADw&amp;start=30&amp;sa=N\"><span class=\"csb\" style=\"background-position:-74px 0;width:20px\"></span>4</a></td><td><a class=\"fl\" href=\"/search?q=data+science&amp;prmd=ivnsb&amp;ei=jEQBWO7sAoaq-QHdqZbADw&amp;start=40&amp;sa=N\"><span class=\"csb\" style=\"background-position:-74px 0;width:20px\"></span>5</a></td><td><a class=\"fl\" href=\"/search?q=data+science&amp;prmd=ivnsb&amp;ei=jEQBWO7sAoaq-QHdqZbADw&amp;start=50&amp;sa=N\"><span class=\"csb\" style=\"background-position:-74px 0;width:20px\"></span>6</a></td><td><a class=\"fl\" href=\"/search?q=data+science&amp;prmd=ivnsb&amp;ei=jEQBWO7sAoaq-QHdqZbADw&amp;start=60&amp;sa=N\"><span class=\"csb\" style=\"background-position:-74px 0;width:20px\"></span>7</a></td><td><a class=\"fl\" href=\"/search?q=data+science&amp;prmd=ivnsb&amp;ei=jEQBWO7sAoaq-QHdqZbADw&amp;start=70&amp;sa=N\"><span class=\"csb\" style=\"background-position:-74px 0;width:20px\"></span>8</a></td><td><a class=\"fl\" href=\"/search?q=data+science&amp;prmd=ivnsb&amp;ei=jEQBWO7sAoaq-QHdqZbADw&amp;start=80&amp;sa=N\"><span class=\"csb\" style=\"background-position:-74px 0;width:20px\"></span>9</a></td><td><a class=\"fl\" href=\"/search?q=data+science&amp;prmd=ivnsb&amp;ei=jEQBWO7sAoaq-QHdqZbADw&amp;start=90&amp;sa=N\"><span class=\"csb\" style=\"background-position:-74px 0;width:20px\"></span>10</a></td><td class=\"b\" style=\"text-align:left\"><a class=\"fl\" href=\"/search?q=data+science&amp;prmd=ivnsb&amp;ei=jEQBWO7sAoaq-QHdqZbADw&amp;start=10&amp;sa=N\" style=\"text-align:left\"><span class=\"csb\" style=\"background-position:-96px 0;width:71px\"></span><span style=\"display:block;margin-left:53px\">Next</span></a></td></tr></tbody></table><p class=\"_cD\" id=\"bfl\" style=\"margin:19px 0 0;text-align:center\"><a href=\"/advanced_search?q=data+science&amp;prmd=ivnsb\">Advanced search</a><a href=\"/support/websearch/bin/answer.py?answer=134479&amp;hl=en\">Search Help</a> <a href=\"/tools/feedback/survey/html?productId=196&amp;query=data+science&amp;hl=en\">Send feedback</a></p><div class=\"_cD\" id=\"fll\" style=\"margin:19px auto 19px auto;text-align:center\"><a href=\"/\">Google&nbsp;Home</a> <a href=\"/intl/en/ads\">Advertising&nbsp;Programs</a> <a href=\"/services\">Business Solutions</a> <a href=\"/intl/en/policies/privacy/\">Privacy</a> <a href=\"/intl/en/policies/terms/\">Terms</a> <a href=\"/intl/en/about.html\">About Google</a></div></div></td><td id=\"rhs_block\" valign=\"top\"></td></tr></tbody></table><script type=\"text/javascript\">(function(){var eventid='jEQBWO7sAoaq-QHdqZbADw';google.kEI = eventid;})();</script><script src=\"/xjs/_/js/k=xjs.hp.en_US.OKd_GehDbVo.O/m=sb_he,d/rt=j/d=1/t=zcms/rs=ACT90oHqsFYagKUT1F8bn3nE4HJSQZWqTQ\"></script><script type=\"text/javascript\">google.ac&&google.ac.c({\"agen\":true,\"cgen\":true,\"client\":\"heirloom-serp\",\"dh\":true,\"dhqt\":true,\"ds\":\"\",\"fl\":true,\"host\":\"google.com\",\"isbh\":28,\"jam\":0,\"jsonp\":true,\"msgs\":{\"cibl\":\"Clear Search\",\"dym\":\"Did you mean:\",\"lcky\":\"I\\u0026#39;m Feeling Lucky\",\"lml\":\"Learn more\",\"oskt\":\"Input tools\",\"psrc\":\"This search was removed from your \\u003Ca href=\\\"/history\\\"\\u003EWeb History\\u003C/a\\u003E\",\"psrl\":\"Remove\",\"sbit\":\"Search by image\",\"srch\":\"Google Search\"},\"nds\":true,\"ovr\":{},\"pq\":\"data science\",\"refpd\":true,\"rfs\":[\"data science course\",\"data science salary\",\"data science degree\",\"data science definition\",\"data science coursera\",\"data science certification\",\"data science pdf\",\"data science books\"],\"scd\":10,\"sce\":5,\"stok\":\"PBIFXBuQZDPDQ-R-AaWvqLKJ3gI\"})</script><table cellspacing=\"0\" cellpadding=\"0\" class=\"gstl_0 gssb_c\" style=\"width: 570px; display: none; top: 78px; left: 133px; position: absolute;\"><tbody><tr><td class=\"gssb_f\"></td><td class=\"gssb_e\" style=\"width: 100%;\"></td></tr></tbody></table><script>(function(){window.google.cdo={height:0,width:0};(function(){var a=window.innerWidth,b=window.innerHeight;if(!a||!b)var c=window.document,d=\"CSS1Compat\"==c.compatMode?c.documentElement:c.body,a=d.clientWidth,b=d.clientHeight;a&&b&&(a!=google.cdo.width||b!=google.cdo.height)&&google.log(\"\",\"\",\"/client_204?&atyp=i&biw=\"+a+\"&bih=\"+b+\"&ei=\"+google.kEI);})();})();</script><script src=\"//ssl.gstatic.com/gb/js/sem_28ccd69532c2390ae661f0e31ef881fd.js\" async=\"\"></script></body></html>"
      ],
      "text/plain": [
       "<IPython.core.display.HTML object>"
      ]
     },
     "execution_count": 18,
     "metadata": {},
     "output_type": "execute_result"
    }
   ],
   "source": [
    "# .page_source gives us our document\n",
    "HTML(driver.page_source)"
   ]
  },
  {
   "cell_type": "markdown",
   "metadata": {
    "slideshow": {
     "slide_type": "slide"
    }
   },
   "source": [
    "## Exercise\n",
    "1. Pip install selenium \n",
    "2. Download and unzip phantomJS 2.1.1 from https://bitbucket.org/ariya/phantomjs/downloads\n",
    "3. Use the library to pull down an ajax-based page such as Google search results"
   ]
  },
  {
   "cell_type": "raw",
   "metadata": {
    "ExecuteTime": {
     "end_time": "2016-10-13T15:49:12.457682",
     "start_time": "2016-10-13T15:49:10.565546"
    }
   },
   "source": [
    "driver.get('https://news.google.com/')\n",
    "HTML(driver.page_source)"
   ]
  },
  {
   "cell_type": "markdown",
   "metadata": {
    "slideshow": {
     "slide_type": "slide"
    }
   },
   "source": [
    "# Now how do we get the content we want from the page?"
   ]
  },
  {
   "cell_type": "markdown",
   "metadata": {
    "slideshow": {
     "slide_type": "slide"
    }
   },
   "source": [
    "## DOM"
   ]
  },
  {
   "cell_type": "markdown",
   "metadata": {
    "slideshow": {
     "slide_type": "-"
    }
   },
   "source": [
    "> The Document Object Model (DOM) is a programming interface for HTML and XML documents. It provides a structured representation of the document and it defines a way that the structure can be accessed from programs so that they can change the document structure, style and content. The DOM provides a representation of the document as a structured group of nodes and objects that have properties and methods. Essentially, it connects web pages to scripts or programming languages."
   ]
  },
  {
   "cell_type": "markdown",
   "metadata": {
    "slideshow": {
     "slide_type": "slide"
    }
   },
   "source": [
    "## Typical Web Page Structure"
   ]
  },
  {
   "cell_type": "markdown",
   "metadata": {
    "slideshow": {
     "slide_type": "-"
    }
   },
   "source": [
    "    <html>\n",
    "        <head>\n",
    "        </head>\n",
    "        <body>\n",
    "            <div id=\"header\" class=\"extraFancy\">I'm a header!</div>\n",
    "            <div id=\"main\">\n",
    "                I'm a div!\n",
    "                <ul>\n",
    "                    I'm an unordered list!\n",
    "                    <li>I'm list item 1</li>\n",
    "                    <li>I'm list item 2</li>\n",
    "                </ul>\n",
    "            </div>\n",
    "            <div id=\"footer\" class=\"extraFancy\">I'm a footer</div>\n",
    "        </body>\n",
    "    </html>"
   ]
  },
  {
   "cell_type": "code",
   "execution_count": 19,
   "metadata": {
    "ExecuteTime": {
     "end_time": "2016-10-14T16:48:15.145471",
     "start_time": "2016-10-14T16:48:15.138754"
    },
    "collapsed": false,
    "slideshow": {
     "slide_type": "slide"
    }
   },
   "outputs": [],
   "source": [
    "page_html = \"\"\"\n",
    "    <html>\n",
    "        <head>\n",
    "        <title>Super Cool Website!</title>\n",
    "        </head>\n",
    "        <body>\n",
    "            <div id=\"header\" class=\"extraFancy\">I'm a header!</div>\n",
    "            <div id=\"main\">\n",
    "                I'm a div!\n",
    "                <ul>\n",
    "                    I'm an unordered list!\n",
    "                    <li>I'm list item 1</li>\n",
    "                    <li>I'm list item 2</li>\n",
    "                </ul>\n",
    "            </div>\n",
    "            <div id=\"footer\" class=\"extraFancy\">I'm a footer</div>\n",
    "        </body>\n",
    "    </html>\n",
    "\"\"\""
   ]
  },
  {
   "cell_type": "markdown",
   "metadata": {
    "slideshow": {
     "slide_type": "slide"
    }
   },
   "source": [
    "## We're going to feed this full HTML into a library called Beautiful Soup"
   ]
  },
  {
   "cell_type": "markdown",
   "metadata": {
    "slideshow": {
     "slide_type": "-"
    }
   },
   "source": [
    "<img src=\"http://i.imgur.com/klVeXY7.png\" width=\"800\">"
   ]
  },
  {
   "cell_type": "markdown",
   "metadata": {
    "slideshow": {
     "slide_type": "slide"
    }
   },
   "source": [
    "## Coding BeautifulSoup"
   ]
  },
  {
   "cell_type": "code",
   "execution_count": 20,
   "metadata": {
    "ExecuteTime": {
     "end_time": "2016-10-14T16:48:15.433274",
     "start_time": "2016-10-14T16:48:15.149019"
    },
    "collapsed": false,
    "slideshow": {
     "slide_type": "-"
    }
   },
   "outputs": [],
   "source": [
    "from bs4 import BeautifulSoup"
   ]
  },
  {
   "cell_type": "markdown",
   "metadata": {
    "slideshow": {
     "slide_type": "slide"
    }
   },
   "source": [
    "## Pass the HTML into the BS object"
   ]
  },
  {
   "cell_type": "code",
   "execution_count": 21,
   "metadata": {
    "ExecuteTime": {
     "end_time": "2016-10-14T16:48:15.474307",
     "start_time": "2016-10-14T16:48:15.435655"
    },
    "collapsed": false,
    "slideshow": {
     "slide_type": "-"
    }
   },
   "outputs": [],
   "source": [
    "soup = BeautifulSoup(page_html, \"lxml\")"
   ]
  },
  {
   "cell_type": "markdown",
   "metadata": {
    "slideshow": {
     "slide_type": "-"
    }
   },
   "source": [
    "From there it can be searched and parsed"
   ]
  },
  {
   "cell_type": "markdown",
   "metadata": {
    "slideshow": {
     "slide_type": "slide"
    }
   },
   "source": [
    "## Print the html"
   ]
  },
  {
   "cell_type": "code",
   "execution_count": 22,
   "metadata": {
    "ExecuteTime": {
     "end_time": "2016-10-14T16:48:15.481959",
     "start_time": "2016-10-14T16:48:15.476744"
    },
    "collapsed": false,
    "slideshow": {
     "slide_type": "-"
    }
   },
   "outputs": [
    {
     "name": "stdout",
     "output_type": "stream",
     "text": [
      "<html>\n",
      " <head>\n",
      "  <title>\n",
      "   Super Cool Website!\n",
      "  </title>\n",
      " </head>\n",
      " <body>\n",
      "  <div class=\"extraFancy\" id=\"header\">\n",
      "   I'm a header!\n",
      "  </div>\n",
      "  <div id=\"main\">\n",
      "   I'm a div!\n",
      "   <ul>\n",
      "    I'm an unordered list!\n",
      "    <li>\n",
      "     I'm list item 1\n",
      "    </li>\n",
      "    <li>\n",
      "     I'm list item 2\n",
      "    </li>\n",
      "   </ul>\n",
      "  </div>\n",
      "  <div class=\"extraFancy\" id=\"footer\">\n",
      "   I'm a footer\n",
      "  </div>\n",
      " </body>\n",
      "</html>\n",
      "\n"
     ]
    }
   ],
   "source": [
    "print(soup.prettify())"
   ]
  },
  {
   "cell_type": "markdown",
   "metadata": {
    "slideshow": {
     "slide_type": "slide"
    }
   },
   "source": [
    "## Let's now do some parsing of the HTML using the DOM"
   ]
  },
  {
   "cell_type": "markdown",
   "metadata": {
    "slideshow": {
     "slide_type": "slide"
    }
   },
   "source": [
    "## Get the title"
   ]
  },
  {
   "cell_type": "code",
   "execution_count": 23,
   "metadata": {
    "ExecuteTime": {
     "end_time": "2016-10-14T16:48:15.490997",
     "start_time": "2016-10-14T16:48:15.484695"
    },
    "collapsed": false,
    "scrolled": false,
    "slideshow": {
     "slide_type": "-"
    }
   },
   "outputs": [
    {
     "data": {
      "text/plain": [
       "<title>Super Cool Website!</title>"
      ]
     },
     "execution_count": 23,
     "metadata": {},
     "output_type": "execute_result"
    }
   ],
   "source": [
    "soup.title"
   ]
  },
  {
   "cell_type": "code",
   "execution_count": 24,
   "metadata": {
    "ExecuteTime": {
     "end_time": "2016-10-14T16:48:15.499189",
     "start_time": "2016-10-14T16:48:15.493229"
    },
    "collapsed": false,
    "slideshow": {
     "slide_type": "-"
    }
   },
   "outputs": [
    {
     "data": {
      "text/plain": [
       "u'Super Cool Website!'"
      ]
     },
     "execution_count": 24,
     "metadata": {},
     "output_type": "execute_result"
    }
   ],
   "source": [
    "soup.title.text"
   ]
  },
  {
   "cell_type": "markdown",
   "metadata": {
    "slideshow": {
     "slide_type": "slide"
    }
   },
   "source": [
    "## Find - get the first result"
   ]
  },
  {
   "cell_type": "code",
   "execution_count": 25,
   "metadata": {
    "ExecuteTime": {
     "end_time": "2016-10-14T16:48:15.506925",
     "start_time": "2016-10-14T16:48:15.501239"
    },
    "collapsed": false,
    "slideshow": {
     "slide_type": "-"
    }
   },
   "outputs": [
    {
     "data": {
      "text/plain": [
       "<div class=\"extraFancy\" id=\"header\">I'm a header!</div>"
      ]
     },
     "execution_count": 25,
     "metadata": {},
     "output_type": "execute_result"
    }
   ],
   "source": [
    "soup.find('div')"
   ]
  },
  {
   "cell_type": "markdown",
   "metadata": {
    "slideshow": {
     "slide_type": "slide"
    }
   },
   "source": [
    "## FindAll - get all matching results"
   ]
  },
  {
   "cell_type": "code",
   "execution_count": 26,
   "metadata": {
    "ExecuteTime": {
     "end_time": "2016-10-14T16:48:15.514480",
     "start_time": "2016-10-14T16:48:15.508952"
    },
    "collapsed": false,
    "slideshow": {
     "slide_type": "-"
    }
   },
   "outputs": [
    {
     "name": "stdout",
     "output_type": "stream",
     "text": [
      "(0, <div class=\"extraFancy\" id=\"header\">I'm a header!</div>)\n",
      "\n",
      "\n",
      "(1, <div id=\"main\">\\n                I'm a div!\\n                <ul>\\n                    I'm an unordered list!\\n                    <li>I'm list item 1</li>\\n<li>I'm list item 2</li>\\n</ul>\\n</div>)\n",
      "\n",
      "\n",
      "(2, <div class=\"extraFancy\" id=\"footer\">I'm a footer</div>)\n",
      "\n",
      "\n"
     ]
    }
   ],
   "source": [
    "i = 0\n",
    "for d in soup.findAll('div'):\n",
    "    print(i, d)\n",
    "    print('\\n')\n",
    "    i += 1"
   ]
  },
  {
   "cell_type": "markdown",
   "metadata": {
    "slideshow": {
     "slide_type": "slide"
    }
   },
   "source": [
    "## Get the page's text"
   ]
  },
  {
   "cell_type": "code",
   "execution_count": 27,
   "metadata": {
    "ExecuteTime": {
     "end_time": "2016-10-14T16:48:15.547955",
     "start_time": "2016-10-14T16:48:15.516420"
    },
    "collapsed": false,
    "slideshow": {
     "slide_type": "-"
    }
   },
   "outputs": [
    {
     "name": "stdout",
     "output_type": "stream",
     "text": [
      "\n",
      "\n",
      "Super Cool Website!\n",
      "\n",
      "\n",
      "I'm a header!\n",
      "\n",
      "                I'm a div!\n",
      "                \n",
      "                    I'm an unordered list!\n",
      "                    I'm list item 1\n",
      "I'm list item 2\n",
      "\n",
      "\n",
      "I'm a footer\n",
      "\n",
      "\n",
      "\n"
     ]
    }
   ],
   "source": [
    "print(soup.text)"
   ]
  },
  {
   "cell_type": "markdown",
   "metadata": {
    "slideshow": {
     "slide_type": "slide"
    }
   },
   "source": [
    "## Get the class of an element"
   ]
  },
  {
   "cell_type": "code",
   "execution_count": 28,
   "metadata": {
    "ExecuteTime": {
     "end_time": "2016-10-14T16:48:15.558727",
     "start_time": "2016-10-14T16:48:15.551219"
    },
    "collapsed": false,
    "slideshow": {
     "slide_type": "-"
    }
   },
   "outputs": [
    {
     "data": {
      "text/plain": [
       "['extraFancy']"
      ]
     },
     "execution_count": 28,
     "metadata": {},
     "output_type": "execute_result"
    }
   ],
   "source": [
    "# find returns the first result\n",
    "soup.find('div')['class']"
   ]
  },
  {
   "cell_type": "markdown",
   "metadata": {
    "slideshow": {
     "slide_type": "slide"
    }
   },
   "source": [
    "## Search by the id of an element"
   ]
  },
  {
   "cell_type": "code",
   "execution_count": 29,
   "metadata": {
    "ExecuteTime": {
     "end_time": "2016-10-14T16:48:15.568032",
     "start_time": "2016-10-14T16:48:15.561610"
    },
    "collapsed": false,
    "slideshow": {
     "slide_type": "-"
    }
   },
   "outputs": [
    {
     "name": "stdout",
     "output_type": "stream",
     "text": [
      "<div id=\"main\">\n",
      "                I'm a div!\n",
      "                <ul>\n",
      "                    I'm an unordered list!\n",
      "                    <li>I'm list item 1</li>\n",
      "<li>I'm list item 2</li>\n",
      "</ul>\n",
      "</div>\n"
     ]
    }
   ],
   "source": [
    "print(soup.find(id='main'))"
   ]
  },
  {
   "cell_type": "markdown",
   "metadata": {
    "slideshow": {
     "slide_type": "slide"
    }
   },
   "source": [
    "## Search by the class"
   ]
  },
  {
   "cell_type": "code",
   "execution_count": 30,
   "metadata": {
    "ExecuteTime": {
     "end_time": "2016-10-14T16:48:15.579131",
     "start_time": "2016-10-14T16:48:15.573154"
    },
    "collapsed": false,
    "slideshow": {
     "slide_type": "fragment"
    }
   },
   "outputs": [
    {
     "name": "stdout",
     "output_type": "stream",
     "text": [
      "[<div class=\"extraFancy\" id=\"header\">I'm a header!</div>, <div class=\"extraFancy\" id=\"footer\">I'm a footer</div>]\n"
     ]
    }
   ],
   "source": [
    "#  note the underscore after class\n",
    "print(soup.findAll(class_='extraFancy'))"
   ]
  },
  {
   "cell_type": "markdown",
   "metadata": {
    "slideshow": {
     "slide_type": "slide"
    }
   },
   "source": [
    "## Get the children of an element"
   ]
  },
  {
   "cell_type": "code",
   "execution_count": 31,
   "metadata": {
    "ExecuteTime": {
     "end_time": "2016-10-14T16:48:15.586516",
     "start_time": "2016-10-14T16:48:15.582671"
    },
    "collapsed": false,
    "slideshow": {
     "slide_type": "-"
    }
   },
   "outputs": [],
   "source": [
    "my_ul = soup.find('ul')"
   ]
  },
  {
   "cell_type": "code",
   "execution_count": 32,
   "metadata": {
    "ExecuteTime": {
     "end_time": "2016-10-14T16:48:15.595328",
     "start_time": "2016-10-14T16:48:15.589887"
    },
    "collapsed": false,
    "slideshow": {
     "slide_type": "-"
    }
   },
   "outputs": [
    {
     "name": "stdout",
     "output_type": "stream",
     "text": [
      "<ul>\n",
      "                    I'm an unordered list!\n",
      "                    <li>I'm list item 1</li>\n",
      "<li>I'm list item 2</li>\n",
      "</ul>\n"
     ]
    }
   ],
   "source": [
    "print(my_ul)"
   ]
  },
  {
   "cell_type": "code",
   "execution_count": 33,
   "metadata": {
    "ExecuteTime": {
     "end_time": "2016-10-14T16:48:15.605468",
     "start_time": "2016-10-14T16:48:15.598638"
    },
    "collapsed": false,
    "slideshow": {
     "slide_type": "-"
    }
   },
   "outputs": [
    {
     "data": {
      "text/plain": [
       "[<li>I'm list item 1</li>, <li>I'm list item 2</li>]"
      ]
     },
     "execution_count": 33,
     "metadata": {},
     "output_type": "execute_result"
    }
   ],
   "source": [
    "my_ul.findChildren()"
   ]
  },
  {
   "cell_type": "markdown",
   "metadata": {
    "slideshow": {
     "slide_type": "slide"
    }
   },
   "source": [
    "## Exercise\n",
    "\n",
    "Using Requests and BeautifulSoup, pull down hacker news and print out the headlines and the story links in your notebook"
   ]
  },
  {
   "cell_type": "code",
   "execution_count": 34,
   "metadata": {
    "ExecuteTime": {
     "end_time": "2016-10-14T16:48:15.831030",
     "start_time": "2016-10-14T16:48:15.608872"
    },
    "collapsed": false,
    "slideshow": {
     "slide_type": "slide"
    }
   },
   "outputs": [],
   "source": [
    "r3 = requests.get('https://news.ycombinator.com/')"
   ]
  },
  {
   "cell_type": "code",
   "execution_count": 35,
   "metadata": {
    "ExecuteTime": {
     "end_time": "2016-10-14T16:48:15.906684",
     "start_time": "2016-10-14T16:48:15.834160"
    },
    "collapsed": false,
    "slideshow": {
     "slide_type": "-"
    }
   },
   "outputs": [],
   "source": [
    "soup2 = BeautifulSoup(r3.content, 'lxml')"
   ]
  },
  {
   "cell_type": "code",
   "execution_count": 36,
   "metadata": {
    "ExecuteTime": {
     "end_time": "2016-10-14T16:48:15.955555",
     "start_time": "2016-10-14T16:48:15.910018"
    },
    "collapsed": false
   },
   "outputs": [
    {
     "name": "stdout",
     "output_type": "stream",
     "text": [
      "Be Kind\n",
      "https://www.briangilham.com/blog/2016/10/10/be-kind\n",
      "\n",
      "Intel will add deep-learning instructions to its processors\n",
      "http://lemire.me/blog/2016/10/14/intel-will-add-deep-learning-instructions-to-its-processors/\n",
      "\n",
      "When Librarians Are Silenced\n",
      "http://www.nybooks.com/daily/2016/10/14/kansas-city-librarian-arrest-for-defending-free-speech/\n",
      "\n",
      "Hyperloop One Raises $50M, Hires Former Uber CFO\n",
      "http://www.bloomberg.com/news/articles/2016-10-13/hyperloop-one-raises-50-million-hires-former-uber-cfo\n",
      "\n",
      "4os – An operating system written completely in Forth\n",
      "http://web.archive.org/web/19991022233047/www.itvc.com/Technology/4os.htm\n",
      "\n",
      "Theranos Faces Growing Number of Lawsuits Over Blood Tests\n",
      "http://www.bloomberg.com/news/articles/2016-10-14/theranos-faces-growing-number-of-lawsuits-over-blood-tests\n",
      "\n",
      "The Man Blocking Peace in Colombia\n",
      "http://www.nytimes.com/2016/10/14/opinion/the-man-blocking-peace-in-colombia.html?_r=0\n",
      "\n",
      "Easy Amazon EC2 Instance Comparison\n",
      "http://www.ec2instances.info/\n",
      "\n",
      "Carbon Nanotubes Finally Outperform Silicon in Transistors\n",
      "http://www.allaboutcircuits.com/news/end-of-mosfets-carbon-nanotubes-finally-outperform-silicon-in-transistors/\n",
      "\n",
      "A Man Who Stood Up To Facebook\n",
      "http://www.npr.org/sections/alltechconsidered/2016/10/13/497820170/the-man-who-stood-up-to-facebook\n",
      "\n",
      "OpenCAPI Unveiled: AMD, IBM, Google, Xilinx, Micron and Mellanox Join Forces\n",
      "http://www.anandtech.com/show/10759/opencapi-unveiled-amd-ibm-google-more\n",
      "\n",
      "Common prostate cancer treatment linked to later dementia, researcher says\n",
      "http://med.stanford.edu/news/all-news/2016/10/common-prostate-cancer-treatment-linked-to-later-dementia.html\n",
      "\n",
      "Scientific Background – Discoveries of Mechanisms for Autophagy [pdf]\n",
      "https://www.nobelprize.org/nobel_prizes/medicine/laureates/2016/advanced-medicineprize2016.pdf\n",
      "\n",
      "Love cloud and containers? Bitnami is hiring SREs (SF / Remote)\n",
      "https://jobs.lever.co/bitnami/29d26810-26b2-4af2-a014-7f720d8cc9aa?lever-via=h0xac23hV9\n",
      "\n",
      "SWAPDB Redis command\n",
      "https://github.com/antirez/redis/commit/c7a4e694ad3689d934897b0d2c37144d7b2d0b97\n",
      "\n",
      "KDE Project releases KDE 1\n",
      "http://www.heliocastro.info/?p=291\n",
      "\n",
      "Google Reveals It Received Secret FBI Subpoena\n",
      "https://theintercept.com/2016/10/14/freed-from-gag-order-google-reveals-it-received-secret-fbi-subpoena/\n",
      "\n",
      "Becoming a CTO\n",
      "https://juokaz.com/blog/becoming-a-cto\n",
      "\n",
      "'Flash crash' trader loses US extradition battle\n",
      "http://www.bbc.co.uk/news/business-37656303\n",
      "\n",
      "Let’s Run Lisp on a Microcontroller\n",
      "http://dmitryfrank.com/articles/lisp_on_mcu\n",
      "\n",
      "Dropbox Owns Cloud Storage on Mobile\n",
      "https://cloudrail.com/cloud-storage-report-dropbox-owns-cloud-storage-mobile/\n",
      "\n",
      "How to speed up the Rust compiler\n",
      "https://blog.mozilla.org/nnethercote/2016/10/14/how-to-speed-up-the-rust-compiler/\n",
      "\n",
      "Universities have turned over hundreds of patents to patent trolls\n",
      "https://medium.com/@yardenkatz/universities-have-turned-over-hundreds-of-patents-to-patent-trolls-99d5cdec1d8a#.vulqukskk\n",
      "\n",
      "Improved Overall Visual Studio “15” Responsiveness\n",
      "https://blogs.msdn.microsoft.com/visualstudio/2016/10/14/improved-overall-visual-studio-15-responsiveness/\n",
      "\n",
      "Twitter shares drop as Salesforce reported to be out of the bidding process\n",
      "http://www.marketwatch.com/story/twitter-shares-tank-as-salesforce-reported-to-be-out-of-the-bidding-process-2016-10-14\n",
      "\n",
      "Proof by storytelling\n",
      "http://chalkdustmagazine.com/features/proof-by-storytelling/\n",
      "\n",
      "Show HN: Flexible C memory allocation scheme with leak checking\n",
      "https://github.com/mulle-nat/mulle-allocator\n",
      "\n",
      "Taking PHP Seriously\n",
      "https://slack.engineering/taking-php-seriously-cf7a60065329#.v643zvbw3\n",
      "\n",
      "So, It Looks Like Ethereum Is Going to Have to Fork Again\n",
      "http://www.coindesk.com/so-it-looks-like-ethereum-is-going-to-have-to-fork-again/\n",
      "\n",
      "Maslow CNC\n",
      "http://www.maslowcnc.com\n",
      "\n"
     ]
    }
   ],
   "source": [
    "for i in soup2.findAll('a', class_='storylink'):\n",
    "    print i.text\n",
    "    print i['href']\n",
    "    print "
   ]
  },
  {
   "cell_type": "code",
   "execution_count": null,
   "metadata": {
    "collapsed": false,
    "scrolled": true,
    "slideshow": {
     "slide_type": "-"
    }
   },
   "outputs": [],
   "source": []
  },
  {
   "cell_type": "markdown",
   "metadata": {
    "slideshow": {
     "slide_type": "slide"
    }
   },
   "source": [
    "## Now for the Easy Way"
   ]
  },
  {
   "cell_type": "markdown",
   "metadata": {
    "slideshow": {
     "slide_type": "slide"
    }
   },
   "source": [
    "## Import.io"
   ]
  },
  {
   "cell_type": "markdown",
   "metadata": {
    "slideshow": {
     "slide_type": "-"
    }
   },
   "source": [
    "Using the URL, go to \"http://www.zillow.com/new-york-city-ny/apartments/\""
   ]
  },
  {
   "cell_type": "markdown",
   "metadata": {
    "slideshow": {
     "slide_type": "slide"
    }
   },
   "source": [
    "## Independent Practice"
   ]
  },
  {
   "cell_type": "markdown",
   "metadata": {
    "slideshow": {
     "slide_type": "-"
    }
   },
   "source": [
    "1. Programmatically run a google search for 'Data Science' using Selenium and PhantomJS\n",
    "\n",
    "2. Retrieve only the links and their titles using BS - avoid getting the ads in your list\n",
    "\n",
    "3. Place those into a DataFrame"
   ]
  },
  {
   "cell_type": "code",
   "execution_count": 37,
   "metadata": {
    "ExecuteTime": {
     "end_time": "2016-10-14T16:48:16.482292",
     "start_time": "2016-10-14T16:48:15.959157"
    },
    "collapsed": false,
    "slideshow": {
     "slide_type": "slide"
    }
   },
   "outputs": [],
   "source": [
    "driver.get('https://www.google.com/#q=data+science')"
   ]
  },
  {
   "cell_type": "code",
   "execution_count": 38,
   "metadata": {
    "ExecuteTime": {
     "end_time": "2016-10-14T16:48:16.556099",
     "start_time": "2016-10-14T16:48:16.485685"
    },
    "collapsed": false,
    "slideshow": {
     "slide_type": "-"
    }
   },
   "outputs": [],
   "source": [
    "soup3 = BeautifulSoup(driver.page_source, 'lxml')"
   ]
  },
  {
   "cell_type": "code",
   "execution_count": null,
   "metadata": {
    "collapsed": true
   },
   "outputs": [],
   "source": [
    "soup3.findAll('div', id='search')"
   ]
  },
  {
   "cell_type": "code",
   "execution_count": 39,
   "metadata": {
    "ExecuteTime": {
     "end_time": "2016-10-14T16:48:16.605952",
     "start_time": "2016-10-14T16:48:16.558148"
    },
    "collapsed": false,
    "scrolled": false,
    "slideshow": {
     "slide_type": "slide"
    }
   },
   "outputs": [],
   "source": [
    "search_results = []\n",
    "for i in soup3.findAll('div', id='search'):\n",
    "    for k in i.findAll('h3', class_= 'r'):\n",
    "        if '/url?q=' in k.find('a')['href']:\n",
    "            link = k.find('a')['href'].strip('/url?q=')\n",
    "            search_results.append([str(k.text), link])\n",
    "        else:\n",
    "            link = k.find('a')['href']\n",
    "        "
   ]
  },
  {
   "cell_type": "code",
   "execution_count": 40,
   "metadata": {
    "ExecuteTime": {
     "end_time": "2016-10-14T16:48:16.612818",
     "start_time": "2016-10-14T16:48:16.608443"
    },
    "collapsed": false
   },
   "outputs": [],
   "source": [
    "import pandas as pd"
   ]
  },
  {
   "cell_type": "code",
   "execution_count": 41,
   "metadata": {
    "ExecuteTime": {
     "end_time": "2016-10-14T16:48:16.621508",
     "start_time": "2016-10-14T16:48:16.615975"
    },
    "collapsed": false
   },
   "outputs": [],
   "source": [
    "search_df = pd.DataFrame(search_results, columns=['Title', 'Link'])"
   ]
  },
  {
   "cell_type": "code",
   "execution_count": 42,
   "metadata": {
    "ExecuteTime": {
     "end_time": "2016-10-14T16:48:16.651242",
     "start_time": "2016-10-14T16:48:16.624770"
    },
    "collapsed": false
   },
   "outputs": [
    {
     "data": {
      "text/html": [
       "<div>\n",
       "<table border=\"1\" class=\"dataframe\">\n",
       "  <thead>\n",
       "    <tr style=\"text-align: right;\">\n",
       "      <th></th>\n",
       "      <th>Title</th>\n",
       "      <th>Link</th>\n",
       "    </tr>\n",
       "  </thead>\n",
       "  <tbody>\n",
       "    <tr>\n",
       "      <th>0</th>\n",
       "      <td>Data science - Wikipedia</td>\n",
       "      <td>https://en.wikipedia.org/wiki/Data_science&amp;sa=...</td>\n",
       "    </tr>\n",
       "    <tr>\n",
       "      <th>1</th>\n",
       "      <td>Data Science | Coursera</td>\n",
       "      <td>https://www.coursera.org/specializations/jhu-d...</td>\n",
       "    </tr>\n",
       "    <tr>\n",
       "      <th>2</th>\n",
       "      <td>Data Science at NYU</td>\n",
       "      <td>http://datascience.nyu.edu/&amp;sa=U&amp;ved=0ahUKEwiw...</td>\n",
       "    </tr>\n",
       "    <tr>\n",
       "      <th>3</th>\n",
       "      <td>Columbia Certification of Professional Achieve...</td>\n",
       "      <td>http://datascience.columbia.edu/certification&amp;...</td>\n",
       "    </tr>\n",
       "    <tr>\n",
       "      <th>4</th>\n",
       "      <td>Intro to Data Science Online Course | Udacity</td>\n",
       "      <td>https://www.udacity.com/course/intro-to-data-s...</td>\n",
       "    </tr>\n",
       "    <tr>\n",
       "      <th>5</th>\n",
       "      <td>What is Data Science? - DataScience@Berkeley</td>\n",
       "      <td>https://datascience.berkeley.edu/about/what-is...</td>\n",
       "    </tr>\n",
       "    <tr>\n",
       "      <th>6</th>\n",
       "      <td>Data Science Company | Data Science Platform |...</td>\n",
       "      <td>https://www.datascience.com/&amp;sa=U&amp;ved=0ahUKEwi...</td>\n",
       "    </tr>\n",
       "    <tr>\n",
       "      <th>7</th>\n",
       "      <td>Data Science Certificate | Harvard Extension</td>\n",
       "      <td>https://www.extension.harvard.edu/academics/pr...</td>\n",
       "    </tr>\n",
       "    <tr>\n",
       "      <th>8</th>\n",
       "      <td>Programming with Python for Data Science | edX</td>\n",
       "      <td>https://www.edx.org/course/programming-python-...</td>\n",
       "    </tr>\n",
       "  </tbody>\n",
       "</table>\n",
       "</div>"
      ],
      "text/plain": [
       "                                               Title  \\\n",
       "0                           Data science - Wikipedia   \n",
       "1                            Data Science | Coursera   \n",
       "2                                Data Science at NYU   \n",
       "3  Columbia Certification of Professional Achieve...   \n",
       "4      Intro to Data Science Online Course | Udacity   \n",
       "5       What is Data Science? - DataScience@Berkeley   \n",
       "6  Data Science Company | Data Science Platform |...   \n",
       "7       Data Science Certificate | Harvard Extension   \n",
       "8     Programming with Python for Data Science | edX   \n",
       "\n",
       "                                                Link  \n",
       "0  https://en.wikipedia.org/wiki/Data_science&sa=...  \n",
       "1  https://www.coursera.org/specializations/jhu-d...  \n",
       "2  http://datascience.nyu.edu/&sa=U&ved=0ahUKEwiw...  \n",
       "3  http://datascience.columbia.edu/certification&...  \n",
       "4  https://www.udacity.com/course/intro-to-data-s...  \n",
       "5  https://datascience.berkeley.edu/about/what-is...  \n",
       "6  https://www.datascience.com/&sa=U&ved=0ahUKEwi...  \n",
       "7  https://www.extension.harvard.edu/academics/pr...  \n",
       "8  https://www.edx.org/course/programming-python-...  "
      ]
     },
     "execution_count": 42,
     "metadata": {},
     "output_type": "execute_result"
    }
   ],
   "source": [
    "search_df"
   ]
  },
  {
   "cell_type": "code",
   "execution_count": 43,
   "metadata": {
    "ExecuteTime": {
     "end_time": "2016-10-14T16:48:16.711683",
     "start_time": "2016-10-14T16:48:16.654296"
    },
    "collapsed": false
   },
   "outputs": [
    {
     "name": "stdout",
     "output_type": "stream",
     "text": [
      "<!DOCTYPE html>\n",
      "<html itemscope=\"\" itemtype=\"http://schema.org/SearchResultsPage\" lang=\"en\">\n",
      " <head>\n",
      "  <meta content=\"text/html; charset=utf-8\" http-equiv=\"Content-Type\"/>\n",
      "  <meta content=\"/images/branding/googleg/1x/googleg_standard_color_128dp.png\" itemprop=\"image\"/>\n",
      "  <link href=\"/images/branding/product/ico/googleg_lodp.ico\" rel=\"shortcut icon\"/>\n",
      "  <noscript>\n",
      "   &lt;meta content=\"0;url=/search?q=data+science&amp;amp;gbv=1&amp;amp;sei=kEQBWLDcA4Ox-QGBsaWgAQ\" http-equiv=\"refresh\"&gt;&lt;style&gt;table,div,span,p{display:none}&lt;/style&gt;&lt;div style=\"display:block\"&gt;Please click &lt;a href=\"/search?q=data+science&amp;amp;gbv=1&amp;amp;sei=kEQBWLDcA4Ox-QGBsaWgAQ\"&gt;here&lt;/a&gt; if you are not redirected within a few seconds.&lt;/div&gt;\n",
      "  </noscript>\n",
      "  <title>\n",
      "   data science - Google Search\n",
      "  </title>\n",
      "  <style>\n",
      "   #gb{font:13px/27px Arial,sans-serif;height:30px}#gbz,#gbg{position:absolute;white-space:nowrap;top:0;height:30px;z-index:1000}#gbz{left:0;padding-left:4px}#gbg{right:0;padding-right:5px}#gbs{background:transparent;position:absolute;top:-999px;visibility:hidden;z-index:998;right:0}.gbto #gbs{background:#fff}#gbx3,#gbx4{background-color:#2d2d2d;background-image:none;_background-image:none;background-position:0 -138px;background-repeat:repeat-x;border-bottom:1px solid #000;font-size:24px;height:29px;_height:30px;opacity:1;filter:alpha(opacity=100);position:absolute;top:0;width:100%;z-index:990}#gbx3{left:0}#gbx4{right:0}#gbb{position:relative}#gbbw{left:0;position:absolute;top:30px;width:100%}.gbtcb{position:absolute;visibility:hidden}#gbz .gbtcb{right:0}#gbg .gbtcb{left:0}.gbxx{display:none !important}.gbxo{opacity:0 !important;filter:alpha(opacity=0) !important}.gbm{position:absolute;z-index:999;top:-999px;visibility:hidden;text-align:left;border:1px solid #bebebe;background:#fff;-moz-box-shadow:-1px 1px 1px rgba(0,0,0,.2);-webkit-box-shadow:0 2px 4px rgba(0,0,0,.2);box-shadow:0 2px 4px rgba(0,0,0,.2)}.gbrtl .gbm{-moz-box-shadow:1px 1px 1px rgba(0,0,0,.2)}.gbto .gbm,.gbto #gbs{top:29px;visibility:visible}#gbz .gbm{left:0}#gbg .gbm{right:0}.gbxms{background-color:#ccc;display:block;position:absolute;z-index:1;top:-1px;left:-2px;right:-2px;bottom:-2px;opacity:.4;-moz-border-radius:3px;filter:progid:DXImageTransform.Microsoft.Blur(pixelradius=5);*opacity:1;*top:-2px;*left:-5px;*right:5px;*bottom:4px;-ms-filter:\"progid:DXImageTransform.Microsoft.Blur(pixelradius=5)\";opacity:1\\0/;top:-4px\\0/;left:-6px\\0/;right:5px\\0/;bottom:4px\\0/}.gbma{position:relative;top:-1px;border-style:solid dashed dashed;border-color:transparent;border-top-color:#c0c0c0;display:-moz-inline-box;display:inline-block;font-size:0;height:0;line-height:0;width:0;border-width:3px 3px 0;padding-top:1px;left:4px}#gbztms1,#gbi4m1,#gbi4s,#gbi4t{zoom:1}.gbtc,.gbmc,.gbmcc{display:block;list-style:none;margin:0;padding:0}.gbmc{background:#fff;padding:10px 0;position:relative;z-index:2;zoom:1}.gbt{position:relative;display:-moz-inline-box;display:inline-block;line-height:27px;padding:0;vertical-align:top}.gbt{*display:inline}.gbto{box-shadow:0 2px 4px rgba(0,0,0,.2);-moz-box-shadow:0 2px 4px rgba(0,0,0,.2);-webkit-box-shadow:0 2px 4px rgba(0,0,0,.2)}.gbzt,.gbgt{cursor:pointer;display:block;text-decoration:none !important}span#gbg6,span#gbg4{cursor:default}.gbts{border-left:1px solid transparent;border-right:1px solid transparent;display:block;*display:inline-block;padding:0 5px;position:relative;z-index:1000}.gbts{*display:inline}.gbzt .gbts{display:inline;zoom:1}.gbto .gbts{background:#fff;border-color:#bebebe;color:#36c;padding-bottom:1px;padding-top:2px}.gbz0l .gbts{color:#fff;font-weight:bold}.gbtsa{padding-right:9px}#gbz .gbzt,#gbz .gbgt,#gbg .gbgt{color:#ccc!important}.gbtb2{display:block;border-top:2px solid transparent}.gbto .gbzt .gbtb2,.gbto .gbgt .gbtb2{border-top-width:0}.gbtb .gbts{background:url(//ssl.gstatic.com/gb/images/b_8d5afc09.png);_background:url(//ssl.gstatic.com/gb/images/b8_3615d64d.png);background-position:-27px -22px;border:0;font-size:0;padding:29px 0 0;*padding:27px 0 0;width:1px}.gbzt:hover,.gbzt:focus,.gbgt-hvr,.gbgt:focus{background-color:#4c4c4c;background-image:none;_background-image:none;background-position:0 -102px;background-repeat:repeat-x;outline:none;text-decoration:none !important}.gbpdjs .gbto .gbm{min-width:99%}.gbz0l .gbtb2{border-top-color:#dd4b39!important}#gbi4s,#gbi4s1{font-weight:bold}#gbg6.gbgt-hvr,#gbg6.gbgt:focus{background-color:transparent;background-image:none}.gbg4a{font-size:0;line-height:0}.gbg4a .gbts{padding:27px 5px 0;*padding:25px 5px 0}.gbto .gbg4a .gbts{padding:29px 5px 1px;*padding:27px 5px 1px}#gbi4i,#gbi4id{left:5px;border:0;height:24px;position:absolute;top:1px;width:24px}.gbto #gbi4i,.gbto #gbi4id{top:3px}.gbi4p{display:block;width:24px}#gbi4id{background-position:-44px -101px}#gbmpid{background-position:0 0}#gbmpi,#gbmpid{border:none;display:inline-block;height:48px;width:48px}#gbmpiw{display:inline-block;line-height:9px;padding-left:20px;margin-top:10px;position:relative}#gbmpi,#gbmpid,#gbmpiw{*display:inline}#gbg5{font-size:0}#gbgs5{padding:5px !important}.gbto #gbgs5{padding:7px 5px 6px !important}#gbi5{background:url(//ssl.gstatic.com/gb/images/b_8d5afc09.png);_background:url(//ssl.gstatic.com/gb/images/b8_3615d64d.png);background-position:0 0;display:block;font-size:0;height:17px;width:16px}.gbto #gbi5{background-position:-6px -22px}.gbn .gbmt,.gbn .gbmt:visited,.gbnd .gbmt,.gbnd .gbmt:visited{color:#dd8e27 !important}.gbf .gbmt,.gbf .gbmt:visited{color:#900 !important}.gbmt,.gbml1,.gbmlb,.gbmt:visited,.gbml1:visited,.gbmlb:visited{color:#36c !important;text-decoration:none !important}.gbmt,.gbmt:visited{display:block}.gbml1,.gbmlb,.gbml1:visited,.gbmlb:visited{display:inline-block;margin:0 10px}.gbml1,.gbmlb,.gbml1:visited,.gbmlb:visited{*display:inline}.gbml1,.gbml1:visited{padding:0 10px}.gbml1-hvr,.gbml1:focus{outline:none;text-decoration:underline !important}#gbpm .gbml1{display:inline;margin:0;padding:0;white-space:nowrap}.gbmlb,.gbmlb:visited{line-height:27px}.gbmlb-hvr,.gbmlb:focus{outline:none;text-decoration:underline !important}.gbmlbw{color:#ccc;margin:0 10px}.gbmt{padding:0 20px}.gbmt:hover,.gbmt:focus{background:#eee;cursor:pointer;outline:0 solid black;text-decoration:none !important}.gbm0l,.gbm0l:visited{color:#000 !important;font-weight:bold}.gbmh{border-top:1px solid #bebebe;font-size:0;margin:10px 0}#gbd4 .gbmc{background:#f5f5f5;padding-top:0}#gbd4 .gbsbic::-webkit-scrollbar-track:vertical{background-color:#f5f5f5;margin-top:2px}#gbmpdv{background:#fff;border-bottom:1px solid #bebebe;-moz-box-shadow:0 2px 4px rgba(0,0,0,.12);-o-box-shadow:0 2px 4px rgba(0,0,0,.12);-webkit-box-shadow:0 2px 4px rgba(0,0,0,.12);box-shadow:0 2px 4px rgba(0,0,0,.12);position:relative;z-index:1}#gbd4 .gbmh{margin:0}.gbmtc{padding:0;margin:0;line-height:27px}.GBMCC:last-child:after,#GBMPAL:last-child:after{content:'\\0A\\0A';white-space:pre;position:absolute}#gbmps{*zoom:1}#gbd4 .gbpc,#gbmpas .gbmt{line-height:17px}#gbd4 .gbpgs .gbmtc{line-height:27px}#gbd4 .gbmtc{border-bottom:1px solid #bebebe}#gbd4 .gbpc{display:inline-block;margin:16px 0 10px;padding-right:50px;vertical-align:top}#gbd4 .gbpc{*display:inline}.gbpc .gbps,.gbpc .gbps2{display:block;margin:0 20px}#gbmplp.gbps{margin:0 10px}.gbpc .gbps{color:#000;font-weight:bold}.gbpc .gbpd{margin-bottom:5px}.gbpd .gbmt,.gbpd .gbps{color:#666 !important}.gbpd .gbmt{opacity:.4;filter:alpha(opacity=40)}.gbps2{color:#666;display:block}.gbp0{display:none}.gbp0 .gbps2{font-weight:bold}#gbd4 .gbmcc{margin-top:5px}.gbpmc{background:#fef9db}.gbpmc .gbpmtc{padding:10px 20px}#gbpm{border:0;*border-collapse:collapse;border-spacing:0;margin:0;white-space:normal}#gbpm .gbpmtc{border-top:none;color:#000 !important;font:11px Arial,sans-serif}#gbpms{*white-space:nowrap}.gbpms2{font-weight:bold;white-space:nowrap}#gbmpal{*border-collapse:collapse;border-spacing:0;border:0;margin:0;white-space:nowrap;width:100%}.gbmpala,.gbmpalb{font:13px Arial,sans-serif;line-height:27px;padding:10px 20px 0;white-space:nowrap}.gbmpala{padding-left:0;text-align:left}.gbmpalb{padding-right:0;text-align:right}#gbmpasb .gbps{color:#000}#gbmpal .gbqfbb{margin:0 20px}.gbp0 .gbps{*display:inline}a.gbiba{margin:8px 20px 10px}.gbmpiaw{display:inline-block;padding-right:10px;margin-bottom:6px;margin-top:10px}.gbxv{visibility:hidden}.gbmpiaa{display:block;margin-top:10px}.gbmpia{border:none;display:block;height:48px;width:48px}.gbmpnw{display:inline-block;height:auto;margin:10px 0;vertical-align:top} .gbqfb,.gbqfba,.gbqfbb{-moz-border-radius:2px;-webkit-border-radius:2px;border-radius:2px;cursor:default !important;display:inline-block;font-weight:bold;height:29px;line-height:29px;min-width:54px;*min-width:70px;padding:0 8px;text-align:center;text-decoration:none !important;-moz-user-select:none;-webkit-user-select:none}.gbqfb:focus,.gbqfba:focus,.gbqfbb:focus{border:1px solid #4d90fe;-moz-box-shadow:inset 0 0 0 1px rgba(255, 255, 255, 0.5);-webkit-box-shadow:inset 0 0 0 1px rgba(255, 255, 255, 0.5);box-shadow:inset 0 0 0 1px rgba(255, 255, 255, 0.5);outline:none}.gbqfb-hvr:focus,.gbqfba-hvr:focus,.gbqfbb-hvr:focus{-webkit-box-shadow:inset 0 0 0 1px #fff,0 1px 1px rgba(0,0,0,.1);-moz-box-shadow:inset 0 0 0 1px #fff,0 1px 1px rgba(0,0,0,.1);box-shadow:inset 0 0 0 1px #fff,0 1px 1px rgba(0,0,0,.1)}.gbqfb-no-focus:focus{border:1px solid #3079ed;-moz-box-shadow:none;-webkit-box-shadow:none;box-shadow:none}.gbqfb-hvr,.gbqfba-hvr,.gbqfbb-hvr{-webkit-box-shadow:0 1px 1px rgba(0,0,0,.1);-moz-box-shadow:0 1px 1px rgba(0,0,0,.1);box-shadow:0 1px 1px rgba(0,0,0,.1)}.gbqfb::-moz-focus-inner,.gbqfba::-moz-focus-inner,.gbqfbb::-moz-focus-inner{border:0}.gbqfba,.gbqfbb{border:1px solid #dcdcdc;border-color:rgba(0,0,0,.1);color:#444 !important;font-size:11px}.gbqfb{background-color:#4d90fe;background-image:-webkit-gradient(linear,left top,left bottom,from(#4d90fe),to(#4787ed));background-image:-webkit-linear-gradient(top,#4d90fe,#4787ed);background-image:-moz-linear-gradient(top,#4d90fe,#4787ed);background-image:-ms-linear-gradient(top,#4d90fe,#4787ed);background-image:-o-linear-gradient(top,#4d90fe,#4787ed);background-image:linear-gradient(top,#4d90fe,#4787ed);filter:progid:DXImageTransform.Microsoft.gradient(startColorStr='#4d90fe',EndColorStr='#4787ed');border:1px solid #3079ed;color:#fff!important;margin:0 0}.gbqfb-hvr{border-color:#2f5bb7}.gbqfb-hvr:focus{border-color:#2f5bb7}.gbqfb-hvr,.gbqfb-hvr:focus{background-color:#357ae8;background-image:-webkit-gradient(linear,left top,left bottom,from(#4d90fe),to(#357ae8));background-image:-webkit-linear-gradient(top,#4d90fe,#357ae8);background-image:-moz-linear-gradient(top,#4d90fe,#357ae8);background-image:-ms-linear-gradient(top,#4d90fe,#357ae8);background-image:-o-linear-gradient(top,#4d90fe,#357ae8);background-image:linear-gradient(top,#4d90fe,#357ae8)}.gbqfb:active{background-color:inherit;-webkit-box-shadow:inset 0 1px 2px rgba(0, 0, 0, 0.3);-moz-box-shadow:inset 0 1px 2px rgba(0, 0, 0, 0.3);box-shadow:inset 0 1px 2px rgba(0, 0, 0, 0.3)}.gbqfba{background-color:#f5f5f5;background-image:-webkit-gradient(linear,left top,left bottom,from(#f5f5f5),to(#f1f1f1));background-image:-webkit-linear-gradient(top,#f5f5f5,#f1f1f1);background-image:-moz-linear-gradient(top,#f5f5f5,#f1f1f1);background-image:-ms-linear-gradient(top,#f5f5f5,#f1f1f1);background-image:-o-linear-gradient(top,#f5f5f5,#f1f1f1);background-image:linear-gradient(top,#f5f5f5,#f1f1f1);filter:progid:DXImageTransform.Microsoft.gradient(startColorStr='#f5f5f5',EndColorStr='#f1f1f1')}.gbqfba-hvr,.gbqfba-hvr:active{background-color:#f8f8f8;background-image:-webkit-gradient(linear,left top,left bottom,from(#f8f8f8),to(#f1f1f1));background-image:-webkit-linear-gradient(top,#f8f8f8,#f1f1f1);background-image:-moz-linear-gradient(top,#f8f8f8,#f1f1f1);background-image:-ms-linear-gradient(top,#f8f8f8,#f1f1f1);background-image:-o-linear-gradient(top,#f8f8f8,#f1f1f1);background-image:linear-gradient(top,#f8f8f8,#f1f1f1);filter:progid:DXImageTransform.Microsoft.gradient(startColorStr='#f8f8f8',EndColorStr='#f1f1f1')}.gbqfbb{background-color:#fff;background-image:-webkit-gradient(linear,left top,left bottom,from(#fff),to(#fbfbfb));background-image:-webkit-linear-gradient(top,#fff,#fbfbfb);background-image:-moz-linear-gradient(top,#fff,#fbfbfb);background-image:-ms-linear-gradient(top,#fff,#fbfbfb);background-image:-o-linear-gradient(top,#fff,#fbfbfb);background-image:linear-gradient(top,#fff,#fbfbfb);filter:progid:DXImageTransform.Microsoft.gradient(startColorStr='#ffffff',EndColorStr='#fbfbfb')}.gbqfbb-hvr,.gbqfbb-hvr:active{background-color:#fff;background-image:-webkit-gradient(linear,left top,left bottom,from(#fff),to(#f8f8f8));background-image:-webkit-linear-gradient(top,#fff,#f8f8f8);background-image:-moz-linear-gradient(top,#fff,#f8f8f8);background-image:-ms-linear-gradient(top,#fff,#f8f8f8);background-image:-o-linear-gradient(top,#fff,#f8f8f8);background-image:linear-gradient(top,#fff,#f8f8f8);filter:progid:DXImageTransform.Microsoft.gradient(startColorStr='#ffffff',EndColorStr='#f8f8f8')}.gbqfba-hvr,.gbqfba-hvr:active,.gbqfbb-hvr,.gbqfbb-hvr:active{border-color:#c6c6c6;-webkit-box-shadow:0 1px 1px rgba(0,0,0,.1);-moz-box-shadow:0 1px 1px rgba(0,0,0,.1);box-shadow:0 1px 1px rgba(0,0,0,.1);color:#222 !important}.gbqfba:active,.gbqfbb:active{-webkit-box-shadow:inset 0 1px 2px rgba(0,0,0,.1);-moz-box-shadow:inset 0 1px 2px rgba(0,0,0,.1);box-shadow:inset 0 1px 2px rgba(0,0,0,.1)} .gbprcd{padding:0;width:258px;white-space:normal}.gbprcb{display:inline-block;height:27px;padding:0 15px;text-decoration:none}#gbprc .gbprcbc{background-color:;background-image:none;border-color:;color:!important}#gbprc .gbprcbc:hover{color:!important}#gbprc .gbprcbc:active,#gbprc .gbprcbc:focus{color:!important}.gbprct{color:#666;line-height:17px;margin:0;margin-bottom:20px}.gbprci{color:#333;font-size:16px;line-height:20px;margin:0;margin-bottom:16px}#gbprc .gbmc{padding:26px;padding-bottom:22px;border:1px solid #bebebe}#gbprc .gbm{border:0}#gbprc .gbprcx,#gbprc .gbprcx.gbgt-hvr,#gbprc .gbprcx:focus,#gbprc .gbprcx:active{right:12px;background:url(//ssl.gstatic.com/s2/oz/images/stars/x.png);display:block;height:9px;opacity:.8;filter:alpha(opacity=80);position:absolute;top:12px;width:9px}#gbprc .gbprcx.gbgt-hvr,#gbprc .gbprcx:focus,#gbprc .gbprcx:active{opacity:1;filter:alpha(opacity=100)}.gbgs .gbmab,.gbgs .gbmab{left:10px;margin:40px 0 0}.gbgs .gbmac,.gbgs .gbmac{left:10px;margin:41px 0 0}.gbemi .gbgs .gbmab,.gbem .gbgs .gbmab{left:10px;margin:40px 0 0}.gbemi .gbgs .gbmac,.gbem .gbgs .gbmac{left:10px;margin:41px 0 0}.gbesi .gbgs .gbmab,.gbes .gbgs .gbmab{left:10px;margin:40px 0 0}.gbesi .gbgs .gbmac,.gbes .gbgs .gbmac{left:10px;margin:41px 0 0}#gbprca .gbmab{z-index:999}#gbprca .gbmac{border-bottom-color:#fff;z-index:999}#gbprcs{position:absolute;background:transparent;top:-999px;z-index:-1;visibility:hidden;margin-top:1px;margin-left:1px} #gb #gbprc{right:-28px;top:15px;z-index:997}#gbprca{left:-63px;position:relative;top:-22px}.gbmab,.gbmac{left:5px;border-style:dashed dashed solid;border-color:transparent;border-bottom-color:#bebebe;border-width:0 10px 10px;display:-moz-inline-box;display:inline-block;font-size:0;height:0;line-height:0;position:absolute;top:0;width:0;z-index:1000}.gbmab,.gbmac{visibility:hidden}.gbmac{border-bottom-color:#fff}.gbto .gbmab,.gbto .gbmac{visibility:visible}#gbqfqw,#gbqfb{vertical-align:top}#gbqfbw{right:0;margin:0 15px;position:absolute;top:0}.gbqfb{background-color:#4d90fe;background-image:-webkit-gradient(linear,left top,left bottom,from(#4d90fe),to(#4787ed));background-image:-webkit-linear-gradient(top,#4d90fe,#4787ed);background-image:-moz-linear-gradient(top,#4d90fe,#4787ed);background-image:-ms-linear-gradient(top,#4d90fe,#4787ed);background-image:-o-linear-gradient(top,#4d90fe,#4787ed);background-image:linear-gradient(top,#4d90fe,#4787ed);filter:progid:DXImageTransform.Microsoft.gradient(startColorStr='#4d90fe',EndColorStr='#4787ed');border:1px solid #3079ed;-moz-border-radius:2px;-webkit-border-radius:2px;border-radius:2px;-moz-user-select:none;-webkit-user-select:none;color:#fff;cursor:default;font-size:11px;font-weight:bold;height:29px;min-width:54px;*min-width:70px;text-align:center;padding:0 8px}.gbqfb-hvr{border:1px solid #2f5bb7;background-color:#357ae8;background-image:-webkit-gradient(linear,left top,left bottom,from(#4d90fe),to(#357ae8));background-image:-webkit-linear-gradient(top,#4d90fe,#357ae8);background-image:-moz-linear-gradient(top,#4d90fe,#357ae8);background-image:-ms-linear-gradient(top,#4d90fe,#357ae8);background-image:-o-linear-gradient(top,#4d90fe,#357ae8);background-image:linear-gradient(top,#4d90fe,#357ae8);-webkit-box-shadow:0 1px 1px rgba(0,0,0,.1);-moz-box-shadow:0 1px 1px rgba(0,0,0,.1);box-shadow:0 1px 1px rgba(0,0,0,.1)}.gbqfb:focus{-moz-box-shadow:inset 0 0 0 1px #fff;-webkit-box-shadow:inset 0 0 0 1px #fff;box-shadow:inset 0 0 0 1px #fff;outline:none}.gbqfb::-moz-focus-inner{border:0}.gbqfb-hvr:focus{-moz-box-shadow:inset 0 0 0 1px #fff,0 1px 1px rgba(0,0,0,.1);-webkit-box-shadow:inset 0 0 0 1px #fff,0 1px 1px rgba(0,0,0,.1);box-shadow:inset 0 0 0 1px #fff,0 1px 1px rgba(0,0,0,.1)}.gbqfb:active{-moz-box-shadow:inset 0 1px 2px rgba(0,0,0,.3);-webkit-box-shadow:inset 0 1px 2px rgba(0,0,0,.3);box-shadow:inset 0 1px 2px rgba(0,0,0,.3)} #gbmpas{max-height:220px}#gbmm{max-height:530px}.gbsb{-webkit-box-sizing:border-box;display:block;position:relative;*zoom:1}.gbsbic{overflow:auto}.gbsbis .gbsbt,.gbsbis .gbsbb{-webkit-mask-box-image:-webkit-gradient(linear,left top,right top,color-stop(0,rgba(0,0,0,.1)),color-stop(.5,rgba(0,0,0,.8)),color-stop(1,rgba(0,0,0,.1)));left:0;margin-right:0;opacity:0;position:absolute;width:100%}.gbsb .gbsbt:after,.gbsb .gbsbb:after{content:\"\";display:block;height:0;left:0;position:absolute;width:100%}.gbsbis .gbsbt{background:-webkit-gradient(linear,left top,left bottom,from(rgba(0,0,0,.2)),to(rgba(0,0,0,0)));background-image:-webkit-linear-gradient(top,rgba(0,0,0,.2),rgba(0,0,0,0));background-image:-moz-linear-gradient(top,rgba(0,0,0,.2),rgba(0,0,0,0));background-image:-ms-linear-gradient(top,rgba(0,0,0,.2),rgba(0,0,0,0));background-image:-o-linear-gradient(top,rgba(0,0,0,.2),rgba(0,0,0,0));background-image:linear-gradient(top,rgba(0,0,0,.2),rgba(0,0,0,0));height:6px;top:0}.gbsb .gbsbt:after{border-top:1px solid #ebebeb;border-color:rgba(0,0,0,.3);top:0}.gbsb .gbsbb{-webkit-mask-box-image:-webkit-gradient(linear,left top,right top,color-stop(0,rgba(0,0,0,.1)),color-stop(.5,rgba(0,0,0,.8)),color-stop(1,rgba(0,0,0,.1)));background:-webkit-gradient(linear,left bottom,left top,from(rgba(0,0,0,.2)),to(rgba(0,0,0,0)));background-image:-webkit-linear-gradient(bottom,rgba(0,0,0,.2),rgba(0,0,0,0));background-image:-moz-linear-gradient(bottom,rgba(0,0,0,.2),rgba(0,0,0,0));background-image:-ms-linear-gradient(bottom,rgba(0,0,0,.2),rgba(0,0,0,0));background-image:-o-linear-gradient(bottom,rgba(0,0,0,.2),rgba(0,0,0,0));background-image:linear-gradient(bottom,rgba(0,0,0,.2),rgba(0,0,0,0));bottom:0;height:4px}.gbsb .gbsbb:after{border-bottom:1px solid #ebebeb;border-color:rgba(0,0,0,.3);bottom:0} .gbsbic::-webkit-scrollbar{height:16px;width:16px}.gbsbic::-webkit-scrollbar-button{height:0;width:0}.gbsbic::-webkit-scrollbar-button:start:decrement,.gbsbic::-webkit-scrollbar-button:end:increment{display:block}.gbsbic::-webkit-scrollbar-button:vertical:start:increment,.gbsbic::-webkit-scrollbar-button:vertical:end:decrement{display:none}.gbsbic::-webkit-scrollbar-track:vertical,.gbsbic::-webkit-scrollbar-track:horizontal,.gbsbic::-webkit-scrollbar-thumb:vertical,.gbsbic::-webkit-scrollbar-thumb:horizontal,.gbsbis .gbsbic::-webkit-scrollbar-track:vertical,.gbsbis .gbsbic::-webkit-scrollbar-track:horizontal,.gbsbis .gbsbic::-webkit-scrollbar-thumb:vertical,.gbsbis .gbsbic::-webkit-scrollbar-thumb:horizontal{border-style:solid;border-color:transparent}.gbsbic::-webkit-scrollbar-track:vertical{background-clip:padding-box;background-color:#fff;border-left-width:5px;border-right-width:0}.gbsbic::-webkit-scrollbar-track:horizontal{background-clip:padding-box;background-color:#fff;border-bottom-width:0;border-top-width:5px}.gbsbic::-webkit-scrollbar-thumb{-webkit-box-shadow:inset 1px 1px 0 rgba(0,0,0,.1),inset 0 -1px 0 rgba(0,0,0,.07);background-clip:padding-box;background-color:rgba(0,0,0,.2);min-height:28px;padding-top:100px}.gbsbic::-webkit-scrollbar-thumb:hover{-webkit-box-shadow:inset 1px 1px 1px rgba(0,0,0,.25);background-color:rgba(0,0,0,.4)}.gbsbic::-webkit-scrollbar-thumb:active{-webkit-box-shadow:inset 1px 1px 3px rgba(0,0,0,.35);background-color:rgba(0,0,0,.5)}.gbsbic::-webkit-scrollbar-thumb:vertical{border-width:0;border-left-width:5px}.gbsbic::-webkit-scrollbar-thumb:horizontal{border-width:0;border-top-width:5px}.gbsbis .gbsbic::-webkit-scrollbar-track:vertical{border-left-width:6px;border-right-width:1px}.gbsbis .gbsbic::-webkit-scrollbar-track:horizontal{border-bottom:1px;border-top:6px}.gbsbis .gbsbic::-webkit-scrollbar-thumb:vertical{border-width:0;border-left-width:6px;border-right-width:1px}.gbsbis .gbsbic::-webkit-scrollbar-thumb:horizontal{border-width:0;border-bottom:1px;border-top:6px}.gbsbic::-webkit-scrollbar-track:hover{-webkit-box-shadow:inset 1px 0 0 rgba(0,0,0,.1);background-color:rgba(0,0,0,.05)}.gbsbic::-webkit-scrollbar-track:active{-webkit-box-shadow:inset 1px 0 0 rgba(0,0,0,.14),inset -1px -1px 0 rgba(0,0,0,.07);background-color:rgba(0,0,0,.05)}\n",
      "  </style>\n",
      "  <style>\n",
      "   .star{float:left;margin-top:1px;overflow:hidden}._yhd{font-size:11px}.j{width:34em}body,td,div,.p,a{font-family:arial,sans-serif;-webkit-tap-highlight-color:rgba(255,255,255,0)}body{margin:0}a img{border:0}#gbar{float:left;height:22px;padding-left:2px;font-size:13px}.gsfi,.gsfs{font-size:17px}.w,.q:active,.q:visited,.tbotu{color:#11c}a.gl{text-decoration:none}._Umd a:link{color:#0E1CB3}#foot{padding:0 8px}#foot a{white-space:nowrap}h3{font-size:16px;font-weight:normal;margin:0;padding:0}#res h3{display:inline}.hd{height:1px;position:absolute;top:-1000em}.g,body,html,table,.std{font-size:13px}.g{margin-bottom:23px;margin-top:0;zoom:1}ol li,ul li{list-style:none}h1,ol,ul,li{margin:0;padding:0}#mbEnd h2{font-weight:normal}.e{margin:2px 0 0.75em}#leftnav a{text-decoration:none}#leftnav h2{color:#767676;font-weight:normal;margin:0}#nav{border-collapse:collapse;margin-top:17px;text-align:left}#nav td{text-align:center}.nobr{white-space:nowrap}.ts{border-collapse:collapse}.s br{display:none}.csb{display:block;height:40px}.images_table td{line-height:17px;padding-bottom:16px}.images_table img{border:1px solid #ccc;padding:1px}#tbd,#abd{display:block;min-height:1px}#abd{padding-top:3px}#tbd li{display:inline}._ITd,._JTd{margin-bottom:8px}#tbd .tbt li{display:block;font-size:13px;line-height:1.2;padding-bottom:3px;padding-left:8px;text-indent:-8px}.tbos,.b{font-weight:bold}em{font-weight:bold;font-style:normal}.mime{color:#1a0dab;font-weight:bold;font-size:x-small}._lwd{right:-2px !important;overflow:hidden}.soc a{text-decoration:none}.soc{color:#808080}._AC a{text-decoration:none}._AC{color:#808080}._kgd{color:#e7711b}#_vBb{border:1px solid #e0e0e0;margin-left:-8px;margin-right:-8px;padding:15px 20px 5px}._m3b{font-size:32px}._eGc{color:#777;font-size:16px;margin-top:5px}._H0d{color:#777;font-size:14px;margin-top:5px}._HLh{border:1px solid #e0e0e0;padding-left:20px}._Tki{border:1px solid #e0e0e0;padding:5px 20px}#vob{border:1px solid #e0e0e0;padding:15px 15px}#_Nyc{font-size:22px;line-height:22px;padding-bottom:5px}#vob_st{line-height:1.24}._Tsb{border-width:1px;border-style:solid;border-color:#eee;background-color:#fff;position:relative;margin-bottom:26px}._Peb,._Qeb,._Usb{font-family:Arial;font-weight:lighter}._Peb{margin-bottom:5px}._Peb{font-size:xx-large}._Qeb{font-size:medium}._Usb{font-size:small}._Tsb{margin-left:-8px;margin-right:-15px;padding:20px 20px 24px}._rOc{border-spacing:0px 2px}._sOc{max-width:380px;text-overflow:ellipsis;white-space:nowrap;overflow:hidden;padding-left:0px}._v9b{padding-left:15px;white-space:nowrap;color:#666}._pOc{padding-left:0px}._rkc{color:#212121}._HOb{color:#878787}._lMf{color:#093}._jMf{color:#c00}._kMf{padding:1px}._CKg{color:#dd4b39}.gssb_a{padding:0 10px !important}.gssb_c{left:132px !important;right:295px !important;top:78px !important;width:572px !important}.gssb_c table{font-size:16px !important}.gssb_e{border:1px solid #ccc !important;border-top-color:#d9d9d9 !important}.gssb_i{background:#eee !important}#res{padding:0 8px}#rhs_block{padding-top:43px}#_FQd{padding:0 8px}#subform_ctrl{font-size:11px;height:17px;margin:5px 3px 0 17px}.taf{padding-bottom:3px}._chd{padding:20px 0 3px}._bhd{padding:20px 0 3px}#topstuff .e{padding-bottom:6px}.slk .sld{width:250px}.slk{margin-bottom:-3px}.slk ._z3b{padding-bottom:5px;width:250px}._QPd{margin-top:1px;margin-bottom:-11px}._zuc{color:#545454}._Auc{padding-top:2px;padding-bottom:1px}._Buc{padding-top:1px;margin-bottom:14px}.ac,.st{line-height:1.24}.mfr,#ofr{font-size:16px;margin:1em 0;padding:0 8px}._tLi{padding-bottom:25px}.s{color:#545454}.ac,._JEe{color:#545454}a.fl,._cD a,.osl a{color:#1a0dab;text-decoration:none}a:link{color:#1a0dab;cursor:pointer}#tads a:link{color:#1a0dab}#tads .soc a:link{color:#808080}#tads ._AC a:link{color:#808080}._AC a:link{color:#808080}._AC a:visited{color:#808080}._AC a:hover{color:#808080;text-decoration:underline}a:visited{color:#61C}.blg a{text-decoration:none}cite,cite a:link{color:#006621;font-style:normal}#tads cite{color:#006621}.kv{font-size:15px}.kvs{margin-top:1px}.kv,.kvs,.slp{display:block;margin-bottom:1px}.kt{border-spacing:2px 0;margin-top:1px}#mbEnd li{margin:20px 8px 0 0}.f{color:#808080}._pJb{color:#093}h4.r{display:inline;font-size:small;font-weight:normal}.g{line-height:1.2}._sPb{display:inline-block;vertical-align:top;overflow:hidden;position:relative}._Gnc{margin:0 0 2em 1.3em}._Gnc li{list-style-type:disc}.osl{color:#777;margin-top:4px}.r{font-size:16px;margin:0}.spell{font-size:16px}.spell_orig{font-size:13px}.spell_orig a{text-decoration:none}.spell_orig b i{font-style:normal;font-weight:normal}.th{border:1px solid #ebebeb}.ts td{padding:0}.videobox{padding-bottom:3px}.slk a{text-decoration:none}#leftnav a:hover,#leftnav .tbou a:hover,.slk h3 a,a:hover{text-decoration:underline}#mn{table-layout:fixed;width:100%}#leftnav a{color:#222;font-size:13px}#leftnav{padding:43px 4px 4px 0}.tbos{color:#dd4b39}._AEd{border-top:1px solid #efefef;font-size:13px;margin:10px 0 14px 10px;padding:0}.tbt{margin-bottom:28px}#tbd{padding:0 0 0 16px}.tbou a{color:#222}#center_col{border:0;padding:0 8px 0 0}#topstuff .e{padding-top:3px}#topstuff .sp_cnt{padding-top:6px}#ab_name{color:#dd4b39;font:20px \"Arial\";margin-left:15px}._fld{border-bottom:1px solid #dedede;height:56px;padding-top:1px}#resultStats{color:#999;font-size:13px;overflow:hidden;white-space:nowrap}.mslg>td{padding-right:1px;padding-top:2px}.slk .sld{margin-top:2px;padding:5px 0 5px 5px}._Mvd,.fmp{padding-top:3px}.close_btn{overflow:hidden}#fll a,#bfl a{color:#1a0dab !important;margin:0 12px;text-decoration:none !important}.ng{color:#dd4b39}#mss{margin:.33em 0 0;padding:0;display:table}._mY{display:inline-block;float:left;white-space:nowrap;padding-right:16px}#mss p{margin:0;padding-top:5px}.tn{border-bottom:1px solid #ebebeb;display:block;float:left;height:59px;line-height:54px;min-width:980px;padding:0;position:relative;white-space:nowrap}._UXb,a._UXb{color:#777;cursor:pointer;display:inline-block;font-family:arial,sans-serif;font-size:small;height:54px;line-height:54px;margin:0 8px;padding:0 8px;text-decoration:none;white-space:nowrap}._Ihd{border-bottom:3px solid #dd4b39;color:#dd4b39;font-weight:bold;margin:2px 8px 0}a._Jhd:hover{color:black;text-decoration:none;white-space:nowrap}body{margin:0;padding:0}._sxc{display:inline-block;float:left;margin-top:2px}._Hhd,a._Hhd{margin-left:1px}.sd{line-height:43px;padding:0 8px 0 9px}a:active,.osl a:active,.tbou a:active,#leftnav a:active{color:#dd4b39}#_Xud a:active,#bfl a:active{color:#dd4b39 !important}.csb{background:url(/images/nav_logo229.png) no-repeat;overflow:hidden}.close_btn{background:url(/images/nav_logo229.png) no-repeat -138px -84px;height:14px;width:14px;display:block}.star{background:url(/images/nav_logo229.png) no-repeat -94px -245px;height:13px;width:65px;display:block}.star div,.star span{background:url(/images/nav_logo229.png) no-repeat 0 -245px;height:13px;width:65px;display:block}._nBb{display:inline;margin:0 3px;outline-color:transparent;overflow:hidden;position:relative}._nBb>div{outline-color:transparent}._O0{border-color:transparent;border-style:solid dashed dashed;border-top-color:green;border-width:4px 4px 0 4px;cursor:pointer;display:inline-block;font-size:0;height:0;left:4px;line-height:0;outline-color:transparent;position:relative;top:-3px;width:0}._O0{margin-top:-4px}.am-dropdown-menu{display:block;background:#fff;border:1px solid #dcdcdc;font-size:13px;left:0;padding:0;position:absolute;right:auto;white-space:nowrap;z-index:3}._Ykb{list-style:none;white-space:nowrap}._Ykb:hover{background-color:#eee}a._Zkb{color:#333;cursor:pointer;display:block;padding:7px 18px;text-decoration:none}#tads a._Zkb{color:#333}.sfbgg{background:#f1f1f1;border-bottom:1px solid #e5e5e5;height:71px}#logocont{z-index:1;padding-left:4px;padding-top:4px}#logo{display:block;height:49px;margin-top:12px;margin-left:12px;overflow:hidden;position:relative;width:137px}#logo img{left:0;position:absolute;top:-41px}.lst-a{background:white;border:1px solid #d9d9d9;border-top-color:silver;width:570px}.lst-a:hover{border:1px solid #b9b9b9;border-top:1px solid #a0a0a0;box-shadow:inset 0 1px 2px rgba(0,0,0,0.1);-webkit-box-shadow:inset 0 1px 2px rgba(0,0,0,0.1);-moz-box-shadow:inset 0 1px 2px rgba(0,0,0,0.1)}.lst-td{border:none;padding:0}.tia input{border-right:none;padding-right:0}.tia{padding-right:0}.lst{background:none;border:none;color:#000;font:16px arial,sans-serif;float:left;height:22px;margin:0;padding:3px 6px 2px 9px;vertical-align:top;width:100%;word-break:break-all}.lst:focus{outline:none}.lst-b{background:none;border:none;height:26px;padding:0 6px 0 12px}.ds{border-right:1px solid #e7e7e7;position:relative;height:29px;margin-left:17px;z-index:100}.lsbb{background-image:-moz-linear-gradient(top,#4d90fe,#4787ed);background-image:-ms-linear-gradient(top,#4d90fe,#4787ed);background-image:-o-linear-gradient(top,#4d90fe,#4787ed);background-image:-webkit-gradient(linear,left top,left bottom,from(#4d90fe),to(#4787ed));background-image:-webkit-linear-gradient(top,#4d90fe,#4787ed);background-image:linear-gradient(top,#4d90fe,#4787ed);border:1px solid #3079ed;border-radius:2px;background-color:#4d90fe;height:27px;width:68px}.lsbb:hover{background-image:-moz-linear-gradient(top,#4d90fe,#357ae8);background-image:-ms-linear-gradient(top,#4d90fe,#357ae8);background-image:-o-linear-gradient(top,#4d90fe,#357ae8);background-image:-webkit-gradient(linear,left top,left bottom,from(#4d90fe),to(#357ae8));background-image:-webkit-linear-gradient(top,#4d90fe,#357ae8);background-color:#357ae8;background-image:linear-gradient(top,#4d90fe,#357ae8);border:1px solid #2f5bb7}.lsb{background:transparent;background-position:0 -343px;background-repeat:repeat-x;border:none;color:#000;cursor:default;font:15px arial,sans-serif;height:29px;margin:0;vertical-align:top;width:100%}.lsb:active{-moz-box-shadow:inset 0 1px 2px rgba(0,0,0,0.3);-webkit-box-shadow:inset 0 1px 2px rgba(0,0,0,0.3);box-shadow:inset 0 1px 2px rgba(0,0,0,0.3);background:transparent;color:transparent;overflow:hidden;position:relative;width:100%}.sbico{color:transparent;display:inline-block;height:15px;margin:0 auto;margin-top:2px;width:15px;overflow:hidden}\n",
      "  </style>\n",
      "  <script>\n",
      "   (function(){window.google={kEI:'kEQBWLDcA4Ox-QGBsaWgAQ',kEXPI:'750401,1351634,3700318,3700389,3700400,4019511,4029815,4031109,4032677,4036211,4036527,4038012,4039268,4041302,4043492,4045841,4048347,4052304,4058543,4062185,4064493,4064858,4065786,4066195,4067860,4068188,4068550,4068560,4069148,4069838,4069841,4070327,4071603,4071842,4072288,4072364,4072602,4072705,4072775,4073405,4073419,4073958,4074684,4074809,4076082,4076096,4076686,4076930,4076999,4077039,4077221,4077238,4077298,4078430,4078432,4078438,4078457,4078547,4079085,4079105,4079155,4079200,4079259,4079303,4079388,4079553,4079721,4079810,4079870,4079873,4080099,4080105,4080167,4080198,4080230,4080272,4080513,4080903,4081037,4081038,4081129,4081253,4081264,4081371,4081459,4081576,4081757,4082458,4082549,4082586,8300096,8300273,8502184,8503585,8504110,8504846,8505150,8505152,8506251,8506255,8506340,8506615,8506983,8507070,8507073,8507080,8507124,8507204,8507210,8507273,8507336,8507380,8507536,10200083,13500016,16200027',authuser:0,kscs:'c9c918f0_24'};google.kHL='en';})();(function(){google.lc=[];google.li=0;google.getEI=function(a){for(var b;a&&(!a.getAttribute||!(b=a.getAttribute(\"eid\")));)a=a.parentNode;return b||google.kEI};google.getLEI=function(a){for(var b=null;a&&(!a.getAttribute||!(b=a.getAttribute(\"leid\")));)a=a.parentNode;return b};google.https=function(){return\"https:\"==window.location.protocol};google.ml=function(){return null};google.wl=function(a,b){try{google.ml(Error(a),!1,b)}catch(c){}};google.time=function(){return(new Date).getTime()};google.log=function(a,b,c,e,g){a=google.logUrl(a,b,c,e,g);if(\"\"!=a){b=new Image;var d=google.lc,f=google.li;d[f]=b;b.onerror=b.onload=b.onabort=function(){delete d[f]};window.google&&window.google.vel&&window.google.vel.lu&&window.google.vel.lu(a);b.src=a;google.li=f+1}};google.logUrl=function(a,b,c,e,g){var d=\"\",f=google.ls||\"\";if(!c&&-1==b.search(\"&ei=\")){var h=google.getEI(e),d=\"&ei=\"+h;-1==b.search(\"&lei=\")&&((e=google.getLEI(e))?d+=\"&lei=\"+e:h!=google.kEI&&(d+=\"&lei=\"+google.kEI))}a=c||\"/\"+(g||\"gen_204\")+\"?atyp=i&ct=\"+a+\"&cad=\"+b+d+f+\"&zx=\"+google.time();/^http:/i.test(a)&&google.https()&&(google.ml(Error(\"a\"),!1,{src:a,glmm:1}),a=\"\");return a};google.y={};google.x=function(a,b){google.y[a.id]=[a,b];return!1};google.lq=[];google.load=function(a,b,c){google.lq.push([[a],b,c])};google.loadAll=function(a,b){google.lq.push([a,b])};})();(function(){var b=[function(){google.c&&google.tick(\"load\",\"dcl\")}];google.dcl=!1;google.dclc=function(a){google.dcl?a():b.push(a)};function c(){if(!google.dcl){google.dcl=!0;for(var a;a=b.shift();)a()}}window.addEventListener?(document.addEventListener(\"DOMContentLoaded\",c,!1),window.addEventListener(\"load\",c,!1)):window.attachEvent&&window.attachEvent(\"onload\",c);})();\n",
      "  </script>\n",
      "  <script type=\"text/javascript\">\n",
      "   (function(){try{var e=this;var aa=function(a,b,c,d){d=d||{};d._sn=[\"cfg\",b,c].join(\".\");window.gbar.logger.ml(a,d)};var h=window.gbar=window.gbar||{},k=window.gbar.i=window.gbar.i||{},ba;function _tvn(a,b){var c=parseInt(a,10);return isNaN(c)?b:c}function _tvf(a,b){var c=parseFloat(a);return isNaN(c)?b:c}function _tvv(a){return!!a}function p(a,b,c){(c||h)[a]=b}h.bv={n:_tvn(\"2\",0),r:\"\",f:\".66.41.\",e:\"1300102,3700318,3700389,3700400\",m:_tvn(\"1\",1)}; function ca(a,b,c){var d=\"on\"+b;if(a.addEventListener)a.addEventListener(b,c,!1);else if(a.attachEvent)a.attachEvent(d,c);else{var f=a[d];a[d]=function(){var a=f.apply(this,arguments),b=c.apply(this,arguments);return void 0==a?b:void 0==b?a:b&&a}}}var da=function(a){return function(){return h.bv.m==a}},ea=da(1),fa=da(2);p(\"sb\",ea);p(\"kn\",fa);k.a=_tvv;k.b=_tvf;k.c=_tvn;k.i=aa;var q=window.gbar.i.i;var t=function(){},u=function(){},ia=function(a){var b=new Image,c=ga;b.onerror=b.onload=b.onabort=function(){try{delete ha[c]}catch(d){}};ha[c]=b;b.src=a;ga=c+1},ha=[],ga=0;p(\"logger\",{il:u,ml:t,log:ia});var v=window.gbar.logger;var y={},ja={},A=[],ka=k.b(\"0.1\",.1),la=k.a(\"1\",!0),ma=function(a,b){A.push([a,b])},na=function(a,b){y[a]=b},oa=function(a){return a in y},B={},C=function(a,b){B[a]||(B[a]=[]);B[a].push(b)},D=function(a){C(\"m\",a)},pa=function(a,b){var c=document.createElement(\"script\");c.src=a;c.async=la;Math.random()<ka&&(c.onerror=function(){c.onerror=null;t(Error(\"Bundle load failed: name=\"+(b||\"UNK\")+\" url=\"+a))});(document.getElementById(\"xjsc\")||document.getElementsByTagName(\"body\")[0]|| document.getElementsByTagName(\"head\")[0]).appendChild(c)},F=function(a){for(var b=0,c;(c=A[b])&&c[0]!=a;++b);!c||c[1].l||c[1].s||(c[1].s=!0,qa(2,a),c[1].url&&pa(c[1].url,a),c[1].libs&&E&&E(c[1].libs))},ra=function(a){C(\"gc\",a)},sa=null,ta=function(a){sa=a},qa=function(a,b,c){if(sa){a={t:a,b:b};if(c)for(var d in c)a[d]=c[d];try{sa(a)}catch(f){}}};p(\"mdc\",y);p(\"mdi\",ja);p(\"bnc\",A);p(\"qGC\",ra);p(\"qm\",D);p(\"qd\",B);p(\"lb\",F);p(\"mcf\",na);p(\"bcf\",ma);p(\"aq\",C);p(\"mdd\",\"\"); p(\"has\",oa);p(\"trh\",ta);p(\"tev\",qa);if(k.a(\"1\")){var ua=k.a(\"1\"),va=k.a(\"\"),wa=k.a(\"\"),xa=window.gapi={},ya=function(a,b){var c=function(){h.dgl(a,b)};ua?D(c):(C(\"gl\",c),F(\"gl\"))},za={},Aa=function(a){a=a.split(\":\");for(var b;(b=a.pop())&&za[b];);return!b},E=function(a){function b(){for(var b=a.split(\":\"),d=0,f;f=b[d];++d)za[f]=1;for(b=0;d=A[b];++b)d=d[1],(f=d.libs)&&!d.l&&d.i&&Aa(f)&&d.i()}h.dgl(a,b)},H=window.___jsl={};H.h=\"m;/_/scs/abc-static/_/js/k=gapi.gapi.en.7oVtUiQEjBQ.O/m=__features__/rt=j/d=1/rs=AHpOoo_fXT30ofkY5Dx9fPN7DPCKQYvAAQ\";H.ms=\"https://apis.google.com\"; H.m=\"\";H.l=[];ua||A.push([\"gl\",{url:\"//ssl.gstatic.com/gb/js/abc/glm_e7bb39a7e1a24581ff4f8d199678b1b9.js\"}]);var Ba={pu:va,sh:\"\",si:wa,hl:\"en\"};y.gl=Ba;p(\"load\",ya,xa);p(\"dgl\",ya);p(\"agl\",Aa);k.o=ua};var Ca=k.b(\"0.1\",.001),Da=0; function _mlToken(a,b){try{if(1>Da){Da++;var c,d=a,f=b||{},g=encodeURIComponent,l=[\"//www.google.com/gen_204?atyp=i&zx=\",(new Date).getTime(),\"&jexpid=\",g(\"28834\"),\"&srcpg=\",g(\"prop=1\"),\"&jsr=\",Math.round(1/Ca),\"&ogev=\",g(\"kEQBWPK3BsLT-QGE-oGgCA\"),\"&ogf=\",h.bv.f,\"&ogrp=\",g(\"1\"),\"&ogv=\",g(\"1476066396.0\"),\"&oggv=\"+g(\"es_plusone_gc_20161006.0_p0\"),\"&ogd=\",g(\"com\"),\"&ogc=\",g(\"USA\"),\"&ogl=\",g(\"en\")];f._sn&&(f._sn= \"og.\"+f._sn);for(var n in f)l.push(\"&\"),l.push(g(n)),l.push(\"=\"),l.push(g(f[n]));l.push(\"&emsg=\");l.push(g(d.name+\":\"+d.message));var m=l.join(\"\");Ea(m)&&(m=m.substr(0,2E3));c=m;var r=window.gbar.logger._aem(a,c);ia(r)}}catch(z){}}var Ea=function(a){return 2E3<=a.length},Fa=function(a,b){return b};function Ga(a){t=a;p(\"_itl\",Ea,v);p(\"_aem\",Fa,v);p(\"ml\",t,v);a={};y.er=a}k.a(\"\")?Ga(function(a){throw a;}):k.a(\"1\")&&Math.random()<Ca&&Ga(_mlToken);var _E=\"left\",Ha=k.a(\"\"),J=function(a,b){var c=a.className;I(a,b)||(a.className+=(\"\"!=c?\" \":\"\")+b)},K=function(a,b){var c=a.className,d=new RegExp(\"\\\\s?\\\\b\"+b+\"\\\\b\");c&&c.match(d)&&(a.className=c.replace(d,\"\"))},I=function(a,b){var c=new RegExp(\"\\\\b\"+b+\"\\\\b\"),d=a.className;return!(!d||!d.match(c))},Ia=function(a,b){I(a,b)?K(a,b):J(a,b)},Ja=function(a,b){a[b]=function(c){var d=arguments;h.qm(function(){a[b].apply(this,d)})}},Ka=function(a){a=[\"//www.gstatic.com\", \"/og/_/js/d=1/k=\",\"og.og2.en_US.5GdZkFfW974.O\",\"/rt=j/m=\",a,\"/rs=\",\"AA2YrTvoYEywEgOlIXNj5qfXUsEKpzh87A\"];Ha&&a.push(\"?host=www.gstatic.com&bust=og.og2.en_US.DQydnUMOqeA.DU\");a=a.join(\"\");pa(a)};p(\"ca\",J);p(\"cr\",K);p(\"cc\",I);k.k=J;k.l=K;k.m=I;k.n=Ia;k.p=Ka;k.q=Ja;var La=[\"gb_71\",\"gb_155\"],Ma;function Na(a){Ma=a}function Oa(a){var b=Ma&&!a.href.match(/.*\\/accounts\\/ClearSID[?]/)&&encodeURIComponent(Ma());b&&(a.href=a.href.replace(/([?&]continue=)[^&]*/,\"$1\"+b))}function Pa(a){window.gApplication&&(a.href=window.gApplication.getTabUrl(a.href))}function Qa(a){try{var b=(document.forms[0].q||\"\").value;b&&(a.href=a.href.replace(/([?&])q=[^&]*|$/,function(a,d){return(d||\"&\")+\"q=\"+encodeURIComponent(b)}))}catch(c){q(c,\"sb\",\"pq\")}} var Ra=function(){for(var a=[],b=0,c;c=La[b];++b)(c=document.getElementById(c))&&a.push(c);return a},Sa=function(){var a=Ra();return 0<a.length?a[0]:null},Ta=function(){return document.getElementById(\"gb_70\")},L={},M={},Ua={},N={},O=void 0,Za=function(a,b){try{var c=document.getElementById(\"gb\");J(c,\"gbpdjs\");P();Va(document.getElementById(\"gb\"))&&J(c,\"gbrtl\");if(b&&b.getAttribute){var d=b.getAttribute(\"aria-owns\");if(d.length){var f=document.getElementById(d);if(f){var g=b.parentNode;if(O==d)O=void 0, K(g,\"gbto\");else{if(O){var l=document.getElementById(O);if(l&&l.getAttribute){var n=l.getAttribute(\"aria-owner\");if(n.length){var m=document.getElementById(n);m&&m.parentNode&&K(m.parentNode,\"gbto\")}}}Wa(f)&&Xa(f);O=d;J(g,\"gbto\")}}}}D(function(){h.tg(a,b,!0)});Ya(a)}catch(r){q(r,\"sb\",\"tg\")}},$a=function(a){D(function(){h.close(a)})},ab=function(a){D(function(){h.rdd(a)})},Va=function(a){var b,c=document.defaultView;c&&c.getComputedStyle?(a=c.getComputedStyle(a,\"\"))&&(b=a.direction):b=a.currentStyle? a.currentStyle.direction:a.style.direction;return\"rtl\"==b},cb=function(a,b,c){if(a)try{var d=document.getElementById(\"gbd5\");if(d){var f=d.firstChild,g=f.firstChild,l=document.createElement(\"li\");l.className=b+\" gbmtc\";l.id=c;a.className=\"gbmt\";l.appendChild(a);if(g.hasChildNodes()){c=[[\"gbkc\"],[\"gbf\",\"gbe\",\"gbn\"],[\"gbkp\"],[\"gbnd\"]];for(var d=0,n=g.childNodes.length,f=!1,m=-1,r=0,z;z=c[r];r++){for(var T=0,G;G=z[T];T++){for(;d<n&&I(g.childNodes[d],G);)d++;if(G==b){g.insertBefore(l,g.childNodes[d]|| null);f=!0;break}}if(f){if(d+1<g.childNodes.length){var U=g.childNodes[d+1];I(U.firstChild,\"gbmh\")||bb(U,z)||(m=d+1)}else if(0<=d-1){var V=g.childNodes[d-1];I(V.firstChild,\"gbmh\")||bb(V,z)||(m=d)}break}0<d&&d+1<n&&d++}if(0<=m){var w=document.createElement(\"li\"),x=document.createElement(\"div\");w.className=\"gbmtc\";x.className=\"gbmt gbmh\";w.appendChild(x);g.insertBefore(w,g.childNodes[m])}h.addHover&&h.addHover(a)}else g.appendChild(l)}}catch(Ab){q(Ab,\"sb\",\"al\")}},bb=function(a,b){for(var c=b.length, d=0;d<c;d++)if(I(a,b[d]))return!0;return!1},db=function(a,b,c){cb(a,b,c)},eb=function(a,b){cb(a,\"gbe\",b)},fb=function(){D(function(){h.pcm&&h.pcm()})},gb=function(){D(function(){h.pca&&h.pca()})},hb=function(a,b,c,d,f,g,l,n,m,r){D(function(){h.paa&&h.paa(a,b,c,d,f,g,l,n,m,r)})},ib=function(a,b){L[a]||(L[a]=[]);L[a].push(b)},jb=function(a,b){M[a]||(M[a]=[]);M[a].push(b)},kb=function(a,b){Ua[a]=b},lb=function(a,b){N[a]||(N[a]=[]);N[a].push(b)},Ya=function(a){a.preventDefault&&a.preventDefault();a.returnValue= !1;a.cancelBubble=!0},mb=null,Xa=function(a,b){P();if(a){nb(a,\"Opening&hellip;\");Q(a,!0);var c=\"undefined\"!=typeof b?b:1E4,d=function(){ob(a)};mb=window.setTimeout(d,c)}},pb=function(a){P();a&&(Q(a,!1),nb(a,\"\"))},ob=function(a){try{P();var b=a||document.getElementById(O);b&&(nb(b,\"This service is currently unavailable.%1$sPlease try again later.\",\"%1$s\"),Q(b,!0))}catch(c){q(c,\"sb\",\"sdhe\")}},nb=function(a,b,c){if(a&&b){var d=Wa(a);if(d){if(c){d.innerHTML=\"\";b=b.split(c);c=0;for(var f;f=b[c];c++){var g=document.createElement(\"div\"); g.innerHTML=f;d.appendChild(g)}}else d.innerHTML=b;Q(a,!0)}}},Q=function(a,b){var c=void 0!==b?b:!0;c?J(a,\"gbmsgo\"):K(a,\"gbmsgo\")},Wa=function(a){for(var b=0,c;c=a.childNodes[b];b++)if(I(c,\"gbmsg\"))return c},P=function(){mb&&window.clearTimeout(mb)},qb=function(a){var b=\"inner\"+a;a=\"offset\"+a;return window[b]?window[b]:document.documentElement&&document.documentElement[a]?document.documentElement[a]:0},rb=function(){return!1},sb=function(){return!!O};p(\"so\",Sa);p(\"sos\",Ra);p(\"si\",Ta);p(\"tg\",Za); p(\"close\",$a);p(\"rdd\",ab);p(\"addLink\",db);p(\"addExtraLink\",eb);p(\"pcm\",fb);p(\"pca\",gb);p(\"paa\",hb);p(\"ddld\",Xa);p(\"ddrd\",pb);p(\"dderr\",ob);p(\"rtl\",Va);p(\"op\",sb);p(\"bh\",L);p(\"abh\",ib);p(\"dh\",M);p(\"adh\",jb);p(\"ch\",N);p(\"ach\",lb);p(\"eh\",Ua);p(\"aeh\",kb);ba=k.a(\"\")?Pa:Qa;p(\"qs\",ba);p(\"setContinueCb\",Na);p(\"pc\",Oa);p(\"bsy\",rb);k.d=Ya;k.j=qb;var tb={};y.base=tb;A.push([\"m\",{url:\"//ssl.gstatic.com/gb/js/sem_28ccd69532c2390ae661f0e31ef881fd.js\"}]);h.sg={c:\"1\"};p(\"wg\",{rg:{}});var ub={tiw:k.c(\"15000\",0),tie:k.c(\"30000\",0)};y.wg=ub;var vb={thi:k.c(\"10000\",0),thp:k.c(\"180000\",0),tho:k.c(\"5000\",0),tet:k.b(\"0.5\",0)};y.wm=vb;if(k.a(\"1\")){var wb=k.a(\"\");A.push([\"gc\",{auto:wb,url:\"//ssl.gstatic.com/gb/js/abc/gci_91f30755d6a6b787dcc2a4062e6e9824.js\",libs:\"googleapis.client:plusone:gapi.iframes\"}]);var xb={version:\"gci_91f30755d6a6b787dcc2a4062e6e9824.js\",index:\"\",lang:\"en\"};y.gc=xb;var yb=function(a){window.googleapis&&window.iframes?a&&a():(a&&ra(a),F(\"gc\"))};p(\"lGC\",yb);k.a(\"1\")&&p(\"lPWF\",yb)};window.__PVT=\"\";if(k.a(\"1\")&&k.a(\"1\")){var zb=function(a){yb(function(){C(\"pw\",a);F(\"pw\")})};p(\"lPW\",zb);A.push([\"pw\",{url:\"//ssl.gstatic.com/gb/js/abc/pwm_45f73e4df07a0e388b0fa1f3d30e7280.js\"}]);var Bb=[],Cb=function(a){Bb[0]=a},Db=function(a,b){var c=b||{};c._sn=\"pw\";t(a,c)},Eb={signed:Bb,elog:Db,base:\"https://plusone.google.com/u/0\",loadTime:(new Date).getTime()};y.pw=Eb;var Fb=function(a,b){for(var c=b.split(\".\"),d=function(){var b=arguments;a(function(){for(var a=h,d=0,f=c.length-1;d<f;++d)a=a[c[d]];a[c[d]].apply(a,b)})},f=h,g=0,l=c.length-1;g< l;++g)f=f[c[g]]=f[c[g]]||{};return f[c[g]]=d};Fb(zb,\"pw.clk\");Fb(zb,\"pw.hvr\");p(\"su\",Cb,h.pw)};var Gb=[1,2,3,4,5,6,9,10,11,13,14,28,29,30,34,35,37,38,39,40,41,42,43,48,49,500];var Hb=k.b(\"0.001\",1E-4),Ib=k.b(\"1\",1),Jb=!1,Kb=!1;if(k.a(\"1\")){var Lb=Math.random();Lb<Hb&&(Jb=!0);Lb<Ib&&(Kb=!0)}var R=null; function Mb(a,b){var c=Hb,d=Jb,f;f=a;if(!R){R={};for(var g=0;g<Gb.length;g++){var l=Gb[g];R[l]=!0}}if(f=!!R[f])c=Ib,d=Kb;if(d){var d=encodeURIComponent,n=\"es_plusone_gc_20161006.0_p0\",m;h.rp?(m=h.rp(),m=\"-1\"!=m?m:\"1\"):m=\"1\";f=(new Date).getTime();var g=d(\"28834\"),l=d(\"kEQBWPK3BsLT-QGE-oGgCA\"),r=h.bv.f,z=d(\"1\");m=d(m);var c=Math.round(1/c),T=d(\"1476066396.0\"),n=n?\"&oggv=\"+d(n):\"\",G=d(\"com\"),U=d(\"en\"), V=d(\"USA\"),w;w=0;k.a(\"\")&&(w|=1);k.a(\"\")&&(w|=2);k.a(\"\")&&(w|=4);f=[\"//www.google.com/gen_204?atyp=i&zx=\",f,\"&oge=\",a,\"&ogex=\",g,\"&ogev=\",l,\"&ogf=\",r,\"&ogp=\",z,\"&ogrp=\",m,\"&ogsr=\",c,\"&ogv=\",T,n,\"&ogd=\",G,\"&ogl=\",U,\"&ogc=\",V,\"&ogus=\",w];if(b){\"ogw\"in b&&(f.push(\"&ogw=\"+b.ogw),delete b.ogw);var x,g=b,l=[];for(x in g)0!=l.length&&l.push(\",\"),l.push(Nb(x)),l.push(\".\"),l.push(Nb(g[x]));x=l.join(\"\");\"\"!=x&&(f.push(\"&ogad=\"),f.push(d(x)))}ia(f.join(\"\"))}} function Nb(a){\"number\"==typeof a&&(a+=\"\");return\"string\"==typeof a?a.replace(\".\",\"%2E\").replace(\",\",\"%2C\"):a}u=Mb;p(\"il\",u,v);var Ob={};y.il=Ob;var Pb=function(a,b,c,d,f,g,l,n,m,r){D(function(){h.paa(a,b,c,d,f,g,l,n,m,r)})},Qb=function(){D(function(){h.prm()})},Rb=function(a){D(function(){h.spn(a)})},Sb=function(a){D(function(){h.sps(a)})},Tb=function(a){D(function(){h.spp(a)})},Ub={\"27\":\"//ssl.gstatic.com/gb/images/silhouette_24.png\",\"27\":\"//ssl.gstatic.com/gb/images/silhouette_24.png\",\"27\":\"//ssl.gstatic.com/gb/images/silhouette_24.png\"},Vb=function(a){return(a=Ub[a])||\"//ssl.gstatic.com/gb/images/silhouette_24.png\"}, Wb=function(){D(function(){h.spd()})};p(\"spn\",Rb);p(\"spp\",Tb);p(\"sps\",Sb);p(\"spd\",Wb);p(\"paa\",Pb);p(\"prm\",Qb);ib(\"gbd4\",Qb); if(k.a(\"\")){var Xb={d:k.a(\"\"),e:\"\",sanw:k.a(\"\"),p:\"//ssl.gstatic.com/gb/images/silhouette_96.png\",cp:\"1\",xp:k.a(\"1\"),mg:\"%1$s (delegated)\",md:\"%1$s (default)\",mh:\"220\",s:\"1\",pp:Vb,ppl:k.a(\"\"),ppa:k.a(\"\"), ppm:\"Google+ page\"};y.prf=Xb};var S,Yb,W,Zb,X=0,$b=function(a,b,c){if(a.indexOf)return a.indexOf(b,c);if(Array.indexOf)return Array.indexOf(a,b,c);for(c=null==c?0:0>c?Math.max(0,a.length+c):c;c<a.length;c++)if(c in a&&a[c]===b)return c;return-1},Y=function(a,b){return-1==$b(a,X)?(q(Error(X+\"_\"+b),\"up\",\"caa\"),!1):!0},bc=function(a,b){Y([1,2],\"r\")&&(S[a]=S[a]||[],S[a].push(b),2==X&&window.setTimeout(function(){b(ac(a))},0))},cc=function(a,b,c){if(Y([1],\"nap\")&&c){for(var d=0;d<c.length;d++)Yb[c[d]]=!0;h.up.spl(a,b,\"nap\",c)}},dc= function(a,b,c){if(Y([1],\"aop\")&&c){if(W)for(var d in W)W[d]=W[d]&&-1!=$b(c,d);else for(W={},d=0;d<c.length;d++)W[c[d]]=!0;h.up.spl(a,b,\"aop\",c)}},ec=function(){try{if(X=2,!Zb){Zb=!0;for(var a in S)for(var b=S[a],c=0;c<b.length;c++)try{b[c](ac(a))}catch(d){q(d,\"up\",\"tp\")}}}catch(d){q(d,\"up\",\"mtp\")}},ac=function(a){if(Y([2],\"ssp\")){var b=!Yb[a];W&&(b=b&&!!W[a]);return b}};Zb=!1;S={};Yb={};W=null; var X=1,fc=function(a){var b=!1;try{b=a.cookie&&a.cookie.match(\"PREF\")}catch(c){}return!b},gc=function(){try{return!!e.localStorage&&\"object\"==typeof e.localStorage}catch(a){return!1}},hc=function(a){return a&&a.style&&a.style.behavior&&\"undefined\"!=typeof a.load},ic=function(a,b,c,d){try{fc(document)||(d||(b=\"og-up-\"+b),gc()?e.localStorage.setItem(b,c):hc(a)&&(a.setAttribute(b,c),a.save(a.id)))}catch(f){f.code!=DOMException.QUOTA_EXCEEDED_ERR&&q(f,\"up\",\"spd\")}},jc=function(a,b,c){try{if(fc(document))return\"\"; c||(b=\"og-up-\"+b);if(gc())return e.localStorage.getItem(b);if(hc(a))return a.load(a.id),a.getAttribute(b)}catch(d){d.code!=DOMException.QUOTA_EXCEEDED_ERR&&q(d,\"up\",\"gpd\")}return\"\"},kc=function(a,b,c){a.addEventListener?a.addEventListener(b,c,!1):a.attachEvent&&a.attachEvent(\"on\"+b,c)},lc=function(a){for(var b=0,c;c=a[b];b++){var d=h.up;c=c in d&&d[c];if(!c)return!1}return!0},mc=function(a,b){try{if(fc(a))return-1;var c=a.cookie.match(/OGPC=([^;]*)/);if(c&&c[1]){var d=c[1].match(new RegExp(\"\\\\b\"+ b+\"-([0-9]+):\"));if(d&&d[1])return parseInt(d[1],10)}}catch(f){f.code!=DOMException.QUOTA_EXCEEDED_ERR&&q(f,\"up\",\"gcc\")}return-1};p(\"up\",{r:bc,nap:cc,aop:dc,tp:ec,ssp:ac,spd:ic,gpd:jc,aeh:kc,aal:lc,gcc:mc});var Z=function(a,b){a[b]=function(c){var d=arguments;h.qm(function(){a[b].apply(this,d)})}};Z(h.up,\"sl\");Z(h.up,\"si\");Z(h.up,\"spl\");Z(h.up,\"dpc\");Z(h.up,\"iic\");h.mcf(\"up\",{sp:k.b(\"0.01\",1),tld:\"com\",prid:\"1\"});function nc(){function a(){for(var b;(b=g[l++])&&\"m\"!=b[0]&&!b[1].auto;);b&&(qa(2,b[0]),b[1].url&&pa(b[1].url,b[0]),b[1].libs&&E&&E(b[1].libs));l<g.length&&setTimeout(a,0)}function b(){0<f--?setTimeout(b,0):a()}var c=k.a(\"1\"),d=k.a(\"\"),f=3,g=A,l=0,n=window.gbarOnReady;if(n)try{n()}catch(m){q(m,\"ml\",\"or\")}d?p(\"ldb\",a):c?ca(window,\"load\",b):b()}p(\"rdl\",nc);}catch(e){window.gbar&&gbar.logger&&gbar.logger.ml(e,{\"_sn\":\"cfg.init\"});}})(); (function(){try{var b=window.gbar;var d=function(a,c){b[a]=function(){return window.navigator&&window.navigator.userAgent?c(window.navigator.userAgent):!1}},e=function(a){return!(/AppleWebKit\\/.+(?:Version\\/[35]\\.|Chrome\\/[01]\\.)/.test(a)||-1!=a.indexOf(\"Firefox/3.5.\"))};d(\"bs_w\",e);}catch(e){window.gbar&&gbar.logger&&gbar.logger.ml(e,{\"_sn\":\"cfg.init\"});}})(); (function(){try{var a=window.gbar;a.mcf(\"pm\",{p:\"19000096,8QJ,7,,\"});}catch(e){window.gbar&&gbar.logger&&gbar.logger.ml(e,{\"_sn\":\"cfg.init\"});}})(); (function(){try{var a=window.gbar;a.mcf(\"mm\",{s:\"1\"});}catch(e){window.gbar&&gbar.logger&&gbar.logger.ml(e,{\"_sn\":\"cfg.init\"});}})(); (function(){try{var d=window.gbar.i.i;var e=window.gbar;var f=e.i;var g=f.c(\"1\",0),h=/\\bgbmt\\b/,k=function(a){try{var b=document.getElementById(\"gb_\"+g),c=document.getElementById(\"gb_\"+a);b&&f.l(b,h.test(b.className)?\"gbm0l\":\"gbz0l\");c&&f.k(c,h.test(c.className)?\"gbm0l\":\"gbz0l\")}catch(l){d(l,\"sj\",\"ssp\")}g=a},m=e.qs,n=function(a){var b;b=a.href;var c=window.location.href.match(/.*?:\\/\\/[^\\/]*/)[0],c=new RegExp(\"^\"+c+\"/search\\\\?\");(b=c.test(b))&&!/(^|\\\\?|&)ei=/.test(a.href)&&(b=window.google)&&b.kEXPI&&(a.href+=\"&ei=\"+b.kEI)},p=function(a){m(a); n(a)},q=function(){if(window.google&&window.google.sn){var a=/.*hp$/;return a.test(window.google.sn)?\"\":\"1\"}return\"-1\"};e.rp=q;e.slp=k;e.qs=p;e.qsi=n;}catch(e){window.gbar&&gbar.logger&&gbar.logger.ml(e,{\"_sn\":\"cfg.init\"});}})(); (function(){try{var a=this;var b=window.gbar;var c=b.i;var d=c.a,e=c.c,f={cty:\"USA\",cv:\"1476066396\",dbg:d(\"\"),ecv:\"0\",ei:e(\"kEQBWPK3BsLT-QGE-oGgCA\"),ele:d(\"1\"),esr:e(\"0.1\"),evts:[\"mousedown\",\"touchstart\",\"touchmove\",\"wheel\",\"keydown\"],gbl:\"es_plusone_gc_20161006.0_p0\",hd:\"com\",hl:\"en\",irp:d(\"1\"),pid:e(\"1\"), snid:e(\"28834\"),to:e(\"300000\"),u:e(\"\"),vf:\".66.41.\"},g=f,h=[\"bndcfg\"],k=a;h[0]in k||!k.execScript||k.execScript(\"var \"+h[0]);for(var l;h.length&&(l=h.shift());)h.length||void 0===g?k=k[l]?k[l]:k[l]={}:k[l]=g;}catch(e){window.gbar&&gbar.logger&&gbar.logger.ml(e,{\"_sn\":\"cfg.init\"});}})(); (function(){try{window.gbar.rdl();}catch(e){window.gbar&&gbar.logger&&gbar.logger.ml(e,{\"_sn\":\"cfg.init\"});}})();\n",
      "  </script>\n",
      "  <script>\n",
      "   (function(){var a=function(f){for(var g=f.parentElement,d=null,e=0;e<g.childNodes.length;e++){var h=g.childNodes[e];-1<(\" \"+h.className+\" \").indexOf(\" am-dropdown-menu \")&&(d=h)}\"none\"==d.style.display?(d.style.display=\"\",google.log(\"hpam\",\"&ved=\"+f.getAttribute(\"data-ved\"))):d.style.display=\"none\"},b=[\"google\",\"sham\"],c=this;b[0]in c||!c.execScript||c.execScript(\"var \"+b[0]);for(var k;b.length&&(k=b.shift());)b.length||void 0===a?c[k]?c=c[k]:c=c[k]={}:c[k]=a;}).call(window);\n",
      "  </script>\n",
      "  <style type=\"text/css\">\n",
      "   .gsib_a{width:100%;padding:4px 6px 0}.gsib_a,.gsib_b{vertical-align:top}.gssb_c{border:0;position:absolute;z-index:989}.gssb_e{border:1px solid #ccc;border-top-color:#d9d9d9;box-shadow:0 2px 4px rgba(0,0,0,0.2);-webkit-box-shadow:0 2px 4px rgba(0,0,0,0.2);cursor:default}.gssb_f{visibility:hidden;white-space:nowrap}.gssb_k{border:0;display:block;position:absolute;top:0;z-index:988}.gsdd_a{border:none!important}.gsmq_a{padding:0}a.gspqs_a{padding:0 3px 0 8px}.gspqs_b{color:#666;line-height:22px}.gsls_a{color:red}.gsn_a{padding-top:4px;padding-bottom:1px}.gsn_b{display:block;line-height:16px}.gsn_c{color:green;font-size:13px}.gsq_a{padding:0}.gssb_a{padding:0 7px}.gssb_a,.gssb_a td{white-space:nowrap;overflow:hidden;line-height:22px}#gssb_b{font-size:11px;color:#36c;text-decoration:none}#gssb_b:hover{font-size:11px;color:#36c;text-decoration:underline}.gssb_g{text-align:center;padding:8px 0 7px;position:relative}.gssb_h{font-size:15px;height:28px;margin:0.2em;-webkit-appearance:button}.gssb_i{background:#eee}.gss_ifl{visibility:hidden;padding-left:5px}.gssb_i .gss_ifl{visibility:visible}a.gssb_j{font-size:13px;color:#36c;text-decoration:none;line-height:100%}a.gssb_j:hover{text-decoration:underline}.gssb_l{height:1px;background-color:#e5e5e5}.gssb_m{color:#000;background:#fff}a.gspqs_a{padding-left:0}.gssb_e{border-top:1px solid #a2bff0;border-right:1px solid #558be3;border-bottom:1px solid #558be3;border-left:1px solid #a2bff0;}.gssb_i{background:#d5e2ff}\n",
      "  </style>\n",
      " </head>\n",
      " <body bgcolor=\"#ffffff\" class=\"hsrp\" marginheight=\"0\" marginwidth=\"0\" topmargin=\"0\">\n",
      "  <div id=\"gb\">\n",
      "   <script>\n",
      "    window.gbar&&gbar.eli&&gbar.eli()\n",
      "   </script>\n",
      "   <div id=\"gbw\">\n",
      "    <div id=\"gbz\">\n",
      "     <span class=\"gbtcb\">\n",
      "     </span>\n",
      "     <ol class=\"gbtc\" id=\"gbzc\">\n",
      "      <li class=\"gbt\">\n",
      "       <a class=\"gbzt\" href=\"https://plus.google.com/?gpsrc=ogpy0&amp;tab=wX\" id=\"gb_119\" onclick=\"gbar.logger.il(1,{t:119});\">\n",
      "        <span class=\"gbtb2\">\n",
      "        </span>\n",
      "        <span class=\"gbts\">\n",
      "         Google+\n",
      "        </span>\n",
      "       </a>\n",
      "      </li>\n",
      "      <li class=\"gbt\">\n",
      "       <a class=\"gbzt gbz0l gbp1\" href=\"https://www.google.com/webhp?tab=ww\" id=\"gb_1\" onclick=\"gbar.logger.il(1,{t:1});\">\n",
      "        <span class=\"gbtb2\">\n",
      "        </span>\n",
      "        <span class=\"gbts\">\n",
      "         Search\n",
      "        </span>\n",
      "       </a>\n",
      "      </li>\n",
      "      <li class=\"gbt\">\n",
      "       <a class=\"gbzt\" href=\"https://www.google.com/search?hl=en&amp;tbm=isch&amp;source=og&amp;tab=wi\" id=\"gb_2\" onclick=\"gbar.logger.il(1,{t:2});\">\n",
      "        <span class=\"gbtb2\">\n",
      "        </span>\n",
      "        <span class=\"gbts\">\n",
      "         Images\n",
      "        </span>\n",
      "       </a>\n",
      "      </li>\n",
      "      <li class=\"gbt\">\n",
      "       <a class=\"gbzt\" href=\"https://maps.google.com/maps?hl=en&amp;tab=wl\" id=\"gb_8\" onclick=\"gbar.logger.il(1,{t:8});\">\n",
      "        <span class=\"gbtb2\">\n",
      "        </span>\n",
      "        <span class=\"gbts\">\n",
      "         Maps\n",
      "        </span>\n",
      "       </a>\n",
      "      </li>\n",
      "      <li class=\"gbt\">\n",
      "       <a class=\"gbzt\" href=\"https://play.google.com/?hl=en&amp;tab=w8\" id=\"gb_78\" onclick=\"gbar.logger.il(1,{t:78});\">\n",
      "        <span class=\"gbtb2\">\n",
      "        </span>\n",
      "        <span class=\"gbts\">\n",
      "         Play\n",
      "        </span>\n",
      "       </a>\n",
      "      </li>\n",
      "      <li class=\"gbt\">\n",
      "       <a class=\"gbzt\" href=\"https://www.youtube.com/results?tab=w1\" id=\"gb_36\" onclick=\"gbar.logger.il(1,{t:36});\">\n",
      "        <span class=\"gbtb2\">\n",
      "        </span>\n",
      "        <span class=\"gbts\">\n",
      "         YouTube\n",
      "        </span>\n",
      "       </a>\n",
      "      </li>\n",
      "      <li class=\"gbt\">\n",
      "       <a class=\"gbzt\" href=\"https://news.google.com/nwshp?hl=en&amp;tab=wn\" id=\"gb_5\" onclick=\"gbar.logger.il(1,{t:5});\">\n",
      "        <span class=\"gbtb2\">\n",
      "        </span>\n",
      "        <span class=\"gbts\">\n",
      "         News\n",
      "        </span>\n",
      "       </a>\n",
      "      </li>\n",
      "      <li class=\"gbt\">\n",
      "       <a class=\"gbzt\" href=\"https://mail.google.com/mail/?tab=wm\" id=\"gb_23\" onclick=\"gbar.logger.il(1,{t:23});\">\n",
      "        <span class=\"gbtb2\">\n",
      "        </span>\n",
      "        <span class=\"gbts\">\n",
      "         Gmail\n",
      "        </span>\n",
      "       </a>\n",
      "      </li>\n",
      "      <li class=\"gbt\">\n",
      "       <a aria-haspopup=\"true\" aria-owns=\"gbd\" class=\"gbgt\" href=\"https://www.google.com/intl/en/options/\" id=\"gbztm\" onclick=\"gbar.tg(event,this)\">\n",
      "        <span class=\"gbtb2\">\n",
      "        </span>\n",
      "        <span class=\"gbts gbtsa\" id=\"gbztms\">\n",
      "         <span id=\"gbztms1\">\n",
      "          More\n",
      "         </span>\n",
      "         <span class=\"gbma\">\n",
      "         </span>\n",
      "        </span>\n",
      "       </a>\n",
      "       <div aria-owner=\"gbztm\" class=\"gbm\" id=\"gbd\">\n",
      "        <div class=\"gbmc gbsb gbsbis\" id=\"gbmmb\">\n",
      "         <ol class=\"gbmcc gbsbic\" id=\"gbmm\">\n",
      "          <li class=\"gbmtc\">\n",
      "           <a class=\"gbmt\" href=\"https://drive.google.com/?tab=wo\" id=\"gb_49\" onclick=\"gbar.logger.il(1,{t:49});\">\n",
      "            Drive\n",
      "           </a>\n",
      "          </li>\n",
      "          <li class=\"gbmtc\">\n",
      "           <a class=\"gbmt\" href=\"https://www.google.com/calendar?tab=wc\" id=\"gb_24\" onclick=\"gbar.logger.il(1,{t:24});\">\n",
      "            Calendar\n",
      "           </a>\n",
      "          </li>\n",
      "          <li class=\"gbmtc\">\n",
      "           <a class=\"gbmt\" href=\"https://translate.google.com/?hl=en&amp;tab=wT\" id=\"gb_51\" onclick=\"gbar.logger.il(1,{t:51});\">\n",
      "            Translate\n",
      "           </a>\n",
      "          </li>\n",
      "          <li class=\"gbmtc\">\n",
      "           <a class=\"gbmt\" href=\"http://www.google.com/mobile/?hl=en&amp;tab=wD\" id=\"gb_17\" onclick=\"gbar.logger.il(1,{t:17});\">\n",
      "            Mobile\n",
      "           </a>\n",
      "          </li>\n",
      "          <li class=\"gbmtc\">\n",
      "           <a class=\"gbmt\" href=\"https://www.google.com/search?hl=en&amp;tbo=u&amp;tbm=bks&amp;source=og&amp;tab=wp\" id=\"gb_10\" onclick=\"gbar.logger.il(1,{t:10});\">\n",
      "            Books\n",
      "           </a>\n",
      "          </li>\n",
      "          <li class=\"gbmtc\">\n",
      "           <a class=\"gbmt\" href=\"https://wallet.google.com/manage/?tab=wa\" id=\"gb_212\" onclick=\"gbar.logger.il(1,{t:212});\">\n",
      "            Wallet\n",
      "           </a>\n",
      "          </li>\n",
      "          <li class=\"gbmtc\">\n",
      "           <a class=\"gbmt\" href=\"https://www.google.com/search?hl=en&amp;tbo=u&amp;tbm=shop&amp;source=og&amp;tab=wf\" id=\"gb_6\" onclick=\"gbar.logger.il(1,{t:6});\">\n",
      "            Shopping\n",
      "           </a>\n",
      "          </li>\n",
      "          <li class=\"gbmtc\">\n",
      "           <a class=\"gbmt\" href=\"https://www.blogger.com/?tab=wj\" id=\"gb_30\" onclick=\"gbar.logger.il(1,{t:30});\">\n",
      "            Blogger\n",
      "           </a>\n",
      "          </li>\n",
      "          <li class=\"gbmtc\">\n",
      "           <a class=\"gbmt\" href=\"https://www.google.com/finance?tab=we\" id=\"gb_27\" onclick=\"gbar.logger.il(1,{t:27});\">\n",
      "            Finance\n",
      "           </a>\n",
      "          </li>\n",
      "          <li class=\"gbmtc\">\n",
      "           <a class=\"gbmt\" href=\"https://photos.google.com/?tab=wq\" id=\"gb_31\" onclick=\"gbar.logger.il(1,{t:31});\">\n",
      "            Photos\n",
      "           </a>\n",
      "          </li>\n",
      "          <li class=\"gbmtc\">\n",
      "           <a class=\"gbmt\" href=\"https://www.google.com/search?hl=en&amp;tbo=u&amp;tbm=vid&amp;source=og&amp;tab=wv\" id=\"gb_12\" onclick=\"gbar.logger.il(1,{t:12});\">\n",
      "            Videos\n",
      "           </a>\n",
      "          </li>\n",
      "          <li class=\"gbmtc\">\n",
      "           <a class=\"gbmt\" href=\"https://docs.google.com/document/?usp=docs_alc\" id=\"gb_25\" onclick=\"gbar.logger.il(1,{t:25});\">\n",
      "            Docs\n",
      "           </a>\n",
      "          </li>\n",
      "          <li class=\"gbmtc\">\n",
      "           <div class=\"gbmt gbmh\">\n",
      "           </div>\n",
      "          </li>\n",
      "          <li class=\"gbmtc\">\n",
      "           <a class=\"gbmt\" href=\"https://www.google.com/intl/en/options/\" onclick=\"gbar.logger.il(1,{t:66});\">\n",
      "            Even more »\n",
      "           </a>\n",
      "          </li>\n",
      "         </ol>\n",
      "         <div class=\"gbsbt\" style=\"opacity: 0;\">\n",
      "         </div>\n",
      "         <div class=\"gbsbb\" style=\"opacity: 0;\">\n",
      "         </div>\n",
      "        </div>\n",
      "       </div>\n",
      "      </li>\n",
      "     </ol>\n",
      "    </div>\n",
      "    <div id=\"gbg\">\n",
      "     <h2 class=\"gbxx\">\n",
      "      Account Options\n",
      "     </h2>\n",
      "     <span class=\"gbtcb\">\n",
      "     </span>\n",
      "     <ol class=\"gbtc\">\n",
      "      <li class=\"gbt\">\n",
      "       <a class=\"gbgt\" href=\"https://accounts.google.com/ServiceLogin?hl=en&amp;passive=true&amp;continue=https://www.google.com/search%3Fq%3Ddata%2Bscience\" id=\"gb_70\" onclick=\"gbar.logger.il(9,{l:'i'})\" target=\"_top\">\n",
      "        <span class=\"gbtb2\">\n",
      "        </span>\n",
      "        <span class=\"gbts\" id=\"gbgs4\">\n",
      "         <span id=\"gbi4s1\">\n",
      "          Sign in\n",
      "         </span>\n",
      "        </span>\n",
      "       </a>\n",
      "      </li>\n",
      "      <li class=\"gbt gbtb\">\n",
      "       <span class=\"gbts\">\n",
      "       </span>\n",
      "      </li>\n",
      "      <li class=\"gbt\">\n",
      "       <a aria-haspopup=\"true\" aria-owns=\"gbd5\" class=\"gbgt\" href=\"http://www.google.com/preferences?hl=en\" id=\"gbg5\" onclick=\"gbar.tg(event,this)\" title=\"Options\">\n",
      "        <span class=\"gbtb2\">\n",
      "        </span>\n",
      "        <span class=\"gbts\" id=\"gbgs5\">\n",
      "         <span id=\"gbi5\">\n",
      "         </span>\n",
      "        </span>\n",
      "       </a>\n",
      "       <div aria-owner=\"gbg5\" class=\"gbm\" id=\"gbd5\">\n",
      "        <div class=\"gbmc\">\n",
      "         <ol class=\"gbmcc\" id=\"gbom\">\n",
      "          <li class=\"gbkc gbmtc\">\n",
      "           <a class=\"gbmt\" href=\"/preferences?hl=en\">\n",
      "            Search settings\n",
      "           </a>\n",
      "          </li>\n",
      "          <li class=\"gbmtc\">\n",
      "           <div class=\"gbmt gbmh\">\n",
      "           </div>\n",
      "          </li>\n",
      "          <li class=\"gbkp gbmtc\">\n",
      "           <a class=\"gbmt\" href=\"http://www.google.com/history/optout?hl=en\">\n",
      "            Web History\n",
      "           </a>\n",
      "          </li>\n",
      "         </ol>\n",
      "        </div>\n",
      "       </div>\n",
      "      </li>\n",
      "     </ol>\n",
      "    </div>\n",
      "   </div>\n",
      "   <div id=\"gbx3\">\n",
      "   </div>\n",
      "   <div id=\"gbx4\">\n",
      "   </div>\n",
      "   <script>\n",
      "    window.gbar&&gbar.elp&&gbar.elp()\n",
      "   </script>\n",
      "  </div>\n",
      "  <table border=\"0\" cellpadding=\"0\" cellspacing=\"0\" id=\"mn\" style=\"position:relative\">\n",
      "   <tbody>\n",
      "    <tr>\n",
      "     <th width=\"132\">\n",
      "     </th>\n",
      "     <th width=\"573\">\n",
      "     </th>\n",
      "     <th width=\"278\">\n",
      "     </th>\n",
      "     <th>\n",
      "     </th>\n",
      "    </tr>\n",
      "    <tr>\n",
      "     <td class=\"sfbgg\" valign=\"top\">\n",
      "      <div id=\"logocont\">\n",
      "       <h1>\n",
      "        <a href=\"/webhp?hl=en\" id=\"logo\" style=\"background:url(/images/nav_logo229.png) no-repeat 0 -41px;height:37px;width:95px;display:block\" title=\"Go to Google Home\">\n",
      "        </a>\n",
      "       </h1>\n",
      "      </div>\n",
      "     </td>\n",
      "     <td class=\"sfbgg\" colspan=\"2\" style=\"padding-left:0px\" valign=\"top\">\n",
      "      <form action=\"/search\" id=\"tsf\" method=\"GET\" name=\"gs\" style=\"display:block;margin:0;background:none\">\n",
      "       <table border=\"0\" cellpadding=\"0\" cellspacing=\"0\" style=\"margin-top:20px;position:relative\">\n",
      "        <tbody>\n",
      "         <tr>\n",
      "          <td>\n",
      "           <div class=\"lst-a\">\n",
      "            <table cellpadding=\"0\" cellspacing=\"0\">\n",
      "             <tbody>\n",
      "              <tr>\n",
      "               <td class=\"lst-td\" valign=\"bottom\" width=\"555\">\n",
      "                <div style=\"position:relative;zoom:1\">\n",
      "                 <input autocomplete=\"off\" class=\"lst\" dir=\"ltr\" id=\"sbhost\" maxlength=\"2048\" name=\"q\" spellcheck=\"false\" style=\"outline: none;\" title=\"Search\" type=\"text\" value=\"data science\"/>\n",
      "                </div>\n",
      "               </td>\n",
      "              </tr>\n",
      "             </tbody>\n",
      "            </table>\n",
      "           </div>\n",
      "          </td>\n",
      "          <td>\n",
      "           <div class=\"ds\">\n",
      "            <div class=\"lsbb\">\n",
      "             <button class=\"lsb\" name=\"btnG\" type=\"submit\" value=\"Search\">\n",
      "              <span class=\"sbico\" style=\"background:url(/images/nav_logo229.png) no-repeat -36px -111px;height:14px;width:13px;display:block\">\n",
      "              </span>\n",
      "             </button>\n",
      "            </div>\n",
      "           </div>\n",
      "          </td>\n",
      "         </tr>\n",
      "        </tbody>\n",
      "       </table>\n",
      "       <input name=\"oq\" type=\"hidden\"/>\n",
      "       <input name=\"gs_l\" type=\"hidden\"/>\n",
      "      </form>\n",
      "     </td>\n",
      "     <td class=\"sfbgg\">\n",
      "     </td>\n",
      "    </tr>\n",
      "    <tr style=\"position:relative\">\n",
      "     <td>\n",
      "      <div style=\"border-bottom:1px solid #ebebeb;height:59px\">\n",
      "      </div>\n",
      "     </td>\n",
      "     <td colspan=\"2\">\n",
      "      <div class=\"tn\">\n",
      "       <div class=\"_UXb _Ihd _sxc _Hhd\">\n",
      "        All\n",
      "       </div>\n",
      "       <div class=\"_sxc\">\n",
      "        <a class=\"_UXb _Jhd\" href=\"/search?q=data+science&amp;prmd=ivnsb&amp;source=lnms&amp;tbm=isch&amp;sa=X&amp;ved=0ahUKEwiw5LzDldvPAhWDWD4KHYFYCRQQ_AUIBQ\">\n",
      "         Images\n",
      "        </a>\n",
      "       </div>\n",
      "       <div class=\"_sxc\">\n",
      "        <a class=\"_UXb _Jhd\" href=\"/search?q=data+science&amp;prmd=ivnsb&amp;source=lnms&amp;tbm=vid&amp;sa=X&amp;ved=0ahUKEwiw5LzDldvPAhWDWD4KHYFYCRQQ_AUIBg\">\n",
      "         Videos\n",
      "        </a>\n",
      "       </div>\n",
      "       <div class=\"_sxc\">\n",
      "        <a class=\"_UXb _Jhd\" href=\"/search?q=data+science&amp;prmd=ivnsb&amp;source=lnms&amp;tbm=nws&amp;sa=X&amp;ved=0ahUKEwiw5LzDldvPAhWDWD4KHYFYCRQQ_AUIBw\">\n",
      "         News\n",
      "        </a>\n",
      "       </div>\n",
      "       <div class=\"_sxc\">\n",
      "        <a class=\"_UXb _Jhd\" href=\"/search?q=data+science&amp;prmd=ivnsb&amp;source=lnms&amp;tbm=shop&amp;sa=X&amp;ved=0ahUKEwiw5LzDldvPAhWDWD4KHYFYCRQQ_AUICA\">\n",
      "         Shopping\n",
      "        </a>\n",
      "       </div>\n",
      "       <div class=\"_sxc\">\n",
      "        <a class=\"_UXb _Jhd\" href=\"/search?q=data+science&amp;prmd=ivnsb&amp;source=lnms&amp;tbm=bks&amp;sa=X&amp;ved=0ahUKEwiw5LzDldvPAhWDWD4KHYFYCRQQ_AUICQ\">\n",
      "         Books\n",
      "        </a>\n",
      "       </div>\n",
      "       <div class=\"_sxc\">\n",
      "        <a class=\"_UXb _Jhd\" href=\"https://maps.google.com/maps?q=data+science&amp;um=1&amp;ie=UTF-8&amp;sa=X&amp;ved=0ahUKEwiw5LzDldvPAhWDWD4KHYFYCRQQ_AUICg\">\n",
      "         Maps\n",
      "        </a>\n",
      "       </div>\n",
      "      </div>\n",
      "      <div style=\"border-bottom:1px solid #ebebeb;height:59px\">\n",
      "      </div>\n",
      "     </td>\n",
      "     <td>\n",
      "      <div style=\"border-bottom:1px solid #ebebeb;height:59px\">\n",
      "      </div>\n",
      "     </td>\n",
      "    </tr>\n",
      "   </tbody>\n",
      "   <tbody data-jibp=\"h\" data-jiis=\"uc\" id=\"desktop-search\">\n",
      "    <style>\n",
      "     ._Bu,._Bu a:link,._Bu a:visited,a._Bu:link,a._Bu:visited{color:#808080}._kBb{color:#61C}.ellip{overflow:hidden;text-overflow:ellipsis;white-space:nowrap}._hM{margin:0;font-weight:normal;font-size:0;line-height:0}#_Ltg ._Dtg,#_Ktg ._Dtg{float:right}#_Ltg ._hM,#_Ktg ._hM{position:relative;top:3px;right:4px}._kug{margin-bottom:23px}#_Ltg{padding:0 8px 11px}#_Ktg{margin:-10px 0 11px;padding-left:8px;padding-right:8px}#_Ltg{margin-bottom:6px}#_Ktg{padding-bottom:12px;padding-top:9px}#_Stg{padding:0 8px 18px 10px;white-space:nowrap}#_Stg ._hM{padding-bottom:13px}#_Stg ._hM{padding-top:1px}#_Stg ._Dtg{position:relative;top:2px;left:3px}.ads-ad{color:#545454}.ads-ad a{text-decoration:none}.ads-ad a:hover,.ads-ad h3 a{text-decoration:underline}.ads-visurl{font-size:15px;margin-bottom:2px}._WGk{display:inline-block;max-width:505px;overflow:hidden;text-overflow:ellipsis;vertical-align:bottom;white-space:nowrap}.ads-visurl ._mB{margin-right:7px}._Tkg{overflow:hidden;max-height:38px}._xyk{overflow:hidden;max-height:32px}.ads-ad{color:#545454;line-height:1.24}._mB{background-color:#59946b;border-radius:2px;color:#fff;display:inline-block;font-size:12px;padding:0 2px;line-height:14px;vertical-align:baseline}._MEc{margin-top:3px}\n",
      "    </style>\n",
      "    <tr>\n",
      "     <td id=\"leftnav\" valign=\"top\">\n",
      "      <div>\n",
      "       <h2 class=\"hd\">\n",
      "        Search Options\n",
      "       </h2>\n",
      "       <ul class=\"med\" id=\"tbd\">\n",
      "        <li>\n",
      "         <ul class=\"tbt\">\n",
      "          <li class=\"tbos\" id=\"qdr_\">\n",
      "           Any time\n",
      "          </li>\n",
      "          <li class=\"tbou\" id=\"qdr_h\">\n",
      "           <a class=\"q\" href=\"/search?q=data+science&amp;prmd=ivnsb&amp;source=lnt&amp;tbs=qdr:h&amp;sa=X&amp;ved=0ahUKEwiw5LzDldvPAhWDWD4KHYFYCRQQpwUIDw\">\n",
      "            Past hour\n",
      "           </a>\n",
      "          </li>\n",
      "          <li class=\"tbou\" id=\"qdr_d\">\n",
      "           <a class=\"q\" href=\"/search?q=data+science&amp;prmd=ivnsb&amp;source=lnt&amp;tbs=qdr:d&amp;sa=X&amp;ved=0ahUKEwiw5LzDldvPAhWDWD4KHYFYCRQQpwUIDw\">\n",
      "            Past 24 hours\n",
      "           </a>\n",
      "          </li>\n",
      "          <li class=\"tbou\" id=\"qdr_w\">\n",
      "           <a class=\"q\" href=\"/search?q=data+science&amp;prmd=ivnsb&amp;source=lnt&amp;tbs=qdr:w&amp;sa=X&amp;ved=0ahUKEwiw5LzDldvPAhWDWD4KHYFYCRQQpwUIDw\">\n",
      "            Past week\n",
      "           </a>\n",
      "          </li>\n",
      "          <li class=\"tbou\" id=\"qdr_m\">\n",
      "           <a class=\"q\" href=\"/search?q=data+science&amp;prmd=ivnsb&amp;source=lnt&amp;tbs=qdr:m&amp;sa=X&amp;ved=0ahUKEwiw5LzDldvPAhWDWD4KHYFYCRQQpwUIDw\">\n",
      "            Past month\n",
      "           </a>\n",
      "          </li>\n",
      "          <li class=\"tbou\" id=\"qdr_y\">\n",
      "           <a class=\"q\" href=\"/search?q=data+science&amp;prmd=ivnsb&amp;source=lnt&amp;tbs=qdr:y&amp;sa=X&amp;ved=0ahUKEwiw5LzDldvPAhWDWD4KHYFYCRQQpwUIDw\">\n",
      "            Past year\n",
      "           </a>\n",
      "          </li>\n",
      "         </ul>\n",
      "        </li>\n",
      "        <li>\n",
      "         <ul class=\"tbt\">\n",
      "          <li class=\"tbos\" id=\"li_\">\n",
      "           All results\n",
      "          </li>\n",
      "          <li class=\"tbou\" id=\"li_1\">\n",
      "           <a class=\"q\" href=\"/search?q=data+science&amp;prmd=ivnsb&amp;source=lnt&amp;tbs=li:1&amp;sa=X&amp;ved=0ahUKEwiw5LzDldvPAhWDWD4KHYFYCRQQpwUIDw\">\n",
      "            Verbatim\n",
      "           </a>\n",
      "          </li>\n",
      "         </ul>\n",
      "        </li>\n",
      "       </ul>\n",
      "      </div>\n",
      "     </td>\n",
      "     <td valign=\"top\">\n",
      "      <div id=\"center_col\">\n",
      "       <div class=\"sd\" id=\"resultStats\">\n",
      "        About 63,400,000 results\n",
      "       </div>\n",
      "       <div class=\"_Ak\" id=\"_Ltg\">\n",
      "        <h2 class=\"_hM\">\n",
      "        </h2>\n",
      "        <ol>\n",
      "         <li class=\"ads-ad _kug\">\n",
      "          <h3 class=\"ellip\">\n",
      "           <a href=\"http://www.google.com/aclk?sa=l&amp;ai=DChcSEwjdwsHDldvPAhWFHYEKHYEMA9YYABAA&amp;sig=AOD64_1T79FgmPQYKjX5cWG_9w2KysCNyQ&amp;ved=0ahUKEwiw5LzDldvPAhWDWD4KHYFYCRQQ0QwIEg&amp;adurl=\">\n",
      "            <b>\n",
      "             Data Science\n",
      "            </b>\n",
      "            - 12 Weeks - generalassemb.ly\n",
      "           </a>\n",
      "          </h3>\n",
      "          <div class=\"ads-visurl\">\n",
      "           <span class=\"_mB\">\n",
      "            Ad\n",
      "           </span>\n",
      "           <cite class=\"_WGk\">\n",
      "            www.generalassemb.ly/\n",
      "            <b>\n",
      "             Data\n",
      "            </b>\n",
      "            -\n",
      "            <b>\n",
      "             Science\n",
      "            </b>\n",
      "           </cite>\n",
      "           ‎\n",
      "           <div class=\"_nBb\">\n",
      "            <div aria-expanded=\"false\" aria-haspopup=\"true\" data-ved=\"0ahUKEwiw5LzDldvPAhWDWD4KHYFYCRQQ7B0IEw\" onclick=\"google.sham(this);\" style=\"display:inline\" tabindex=\"0\">\n",
      "             <span class=\"_O0\">\n",
      "             </span>\n",
      "            </div>\n",
      "            <div class=\"am-dropdown-menu\" role=\"menu\" style=\"display:none\" tabindex=\"-1\">\n",
      "             <ul>\n",
      "              <li class=\"_Ykb\" style=\"margin:0\">\n",
      "               <a class=\"_Zkb\" href=\"/url?q=/settings/ads/preferences%3Fhl%3Den&amp;sa=U&amp;ved=0ahUKEwiw5LzDldvPAhWDWD4KHYFYCRQQgRMIFQ&amp;usg=AFQjCNEAXNOZ62ka46D3FTH_48RcIwnQgw\" target=\"_blank\">\n",
      "                Why this ad?\n",
      "               </a>\n",
      "              </li>\n",
      "             </ul>\n",
      "            </div>\n",
      "           </div>\n",
      "          </div>\n",
      "          <div class=\"ads-creative ellip\">\n",
      "           Learn Python, Git, Unix &amp; More. Join Our Tech Community Today.\n",
      "          </div>\n",
      "          <div class=\"ellip\">\n",
      "           Courses: Git, UNIX, &amp; Relational Databases, Data Analysis &amp; Python…\n",
      "          </div>\n",
      "          <div>\n",
      "           2015's most innovative education company in the world‎ –\n",
      "           <a class=\"_Bu\" href=\"/url?q=http://www.fastcompany.com/3041645/most-innovative-companies-2015/the-worlds-top-10-most-innovative-companies-of-2015-in-educat&amp;sa=U&amp;ved=0ahUKEwiw5LzDldvPAhWDWD4KHYFYCRQQ9xsIGw&amp;usg=AFQjCNGVAf_pHsAUTTfpP4GD5DlQpCwGzg\">\n",
      "            Fast Company\n",
      "           </a>\n",
      "          </div>\n",
      "          <a href=\"http://www.google.com/aclk?sa=l&amp;ai=DChcSEwjdwsHDldvPAhWFHYEKHYEMA9YYABAB&amp;sig=AOD64_2b-HHjsfT8CQfF13Cfjg_xWlePSQ&amp;ctype=50&amp;ved=0ahUKEwiw5LzDldvPAhWDWD4KHYFYCRQQmxAIHA&amp;adurl=\">\n",
      "           902 Broadway, 4th Floor, New York, NY\n",
      "          </a>\n",
      "         </li>\n",
      "         <li class=\"ads-ad _kug\">\n",
      "          <h3 class=\"ellip\">\n",
      "           <a href=\"http://www.google.com/aclk?sa=l&amp;ai=DChcSEwjdwsHDldvPAhWFHYEKHYEMA9YYABAC&amp;sig=AOD64_0Xfob079XMcHaIwJsYAu0KRtuEqw&amp;ved=0ahUKEwiw5LzDldvPAhWDWD4KHYFYCRQQ0QwIHg&amp;adurl=\">\n",
      "            <b>\n",
      "             Data Science\n",
      "            </b>\n",
      "            - Don't Waste Time Job Searching - Hired.com\n",
      "           </a>\n",
      "          </h3>\n",
      "          <div class=\"ads-visurl\">\n",
      "           <span class=\"_mB\">\n",
      "            Ad\n",
      "           </span>\n",
      "           <cite class=\"_WGk\">\n",
      "            www.hired.com/new-york-city\n",
      "           </cite>\n",
      "           ‎\n",
      "           <div class=\"_nBb\">\n",
      "            <div aria-expanded=\"false\" aria-haspopup=\"true\" data-ved=\"0ahUKEwiw5LzDldvPAhWDWD4KHYFYCRQQ7B0IHw\" onclick=\"google.sham(this);\" style=\"display:inline\" tabindex=\"0\">\n",
      "             <span class=\"_O0\">\n",
      "             </span>\n",
      "            </div>\n",
      "            <div class=\"am-dropdown-menu\" role=\"menu\" style=\"display:none\" tabindex=\"-1\">\n",
      "             <ul>\n",
      "              <li class=\"_Ykb\" style=\"margin:0\">\n",
      "               <a class=\"_Zkb\" href=\"/url?q=/settings/ads/preferences%3Fhl%3Den&amp;sa=U&amp;ved=0ahUKEwiw5LzDldvPAhWDWD4KHYFYCRQQgRMIIQ&amp;usg=AFQjCNEAXNOZ62ka46D3FTH_48RcIwnQgw\" target=\"_blank\">\n",
      "                Why this ad?\n",
      "               </a>\n",
      "              </li>\n",
      "             </ul>\n",
      "            </div>\n",
      "           </div>\n",
      "          </div>\n",
      "          <div class=\"ads-creative ellip\">\n",
      "           Let Tech Companies Apply to You!\n",
      "          </div>\n",
      "          <div>\n",
      "           Salaries Between $75-250k · Join Hired Today · Top Tech Companies\n",
      "          </div>\n",
      "          <div class=\"_MEc\">\n",
      "           <a href=\"http://www.google.com/aclk?sa=l&amp;ai=DChcSEwjdwsHDldvPAhWFHYEKHYEMA9YYABAD&amp;sig=AOD64_3sCdwcSjE1jU5IF-XieRC9cyu3KA&amp;ctype=4&amp;ved=0ahUKEwiw5LzDldvPAhWDWD4KHYFYCRQQpigIJCgA&amp;adurl=\">\n",
      "            Apply Once. Get Hired.\n",
      "           </a>\n",
      "           -\n",
      "           <a href=\"http://www.google.com/aclk?sa=l&amp;ai=DChcSEwjdwsHDldvPAhWFHYEKHYEMA9YYABAE&amp;sig=AOD64_3CmKrAle-kUrOppXifSK4mi2FzXg&amp;ctype=4&amp;ved=0ahUKEwiw5LzDldvPAhWDWD4KHYFYCRQQpigIJSgB&amp;adurl=\">\n",
      "            Refer a Friend Bonus\n",
      "           </a>\n",
      "           -\n",
      "           <a href=\"http://www.google.com/aclk?sa=l&amp;ai=DChcSEwjdwsHDldvPAhWFHYEKHYEMA9YYABAF&amp;sig=AOD64_1PGM6nyXYIeowTswM0Ely0NdF-vA&amp;ctype=4&amp;ved=0ahUKEwiw5LzDldvPAhWDWD4KHYFYCRQQpigIJigC&amp;adurl=\">\n",
      "            List of Companies\n",
      "           </a>\n",
      "          </div>\n",
      "         </li>\n",
      "         <li class=\"ads-ad _kug\">\n",
      "          <h3 class=\"ellip\">\n",
      "           <a href=\"http://www.google.com/aclk?sa=l&amp;ai=DChcSEwjdwsHDldvPAhWFHYEKHYEMA9YYABAG&amp;sig=AOD64_10Msh55QEqP-NU9MTVZ7wzUYTfbA&amp;ved=0ahUKEwiw5LzDldvPAhWDWD4KHYFYCRQQ0QwIKA&amp;adurl=\">\n",
      "            <b>\n",
      "             Data\n",
      "            </b>\n",
      "            Discovery &amp;\n",
      "            <b>\n",
      "             Data Science\n",
      "            </b>\n",
      "            . - Don't Let Your\n",
      "            <b>\n",
      "             Data\n",
      "            </b>\n",
      "            Own You.\n",
      "           </a>\n",
      "          </h3>\n",
      "          <div class=\"ads-visurl\">\n",
      "           <span class=\"_mB\">\n",
      "            Ad\n",
      "           </span>\n",
      "           <cite class=\"_WGk\">\n",
      "            sailfish.boozallen.com/\n",
      "           </cite>\n",
      "           ‎\n",
      "           <div class=\"_nBb\">\n",
      "            <div aria-expanded=\"false\" aria-haspopup=\"true\" data-ved=\"0ahUKEwiw5LzDldvPAhWDWD4KHYFYCRQQ7B0IKQ\" onclick=\"google.sham(this);\" style=\"display:inline\" tabindex=\"0\">\n",
      "             <span class=\"_O0\">\n",
      "             </span>\n",
      "            </div>\n",
      "            <div class=\"am-dropdown-menu\" role=\"menu\" style=\"display:none\" tabindex=\"-1\">\n",
      "             <ul>\n",
      "              <li class=\"_Ykb\" style=\"margin:0\">\n",
      "               <a class=\"_Zkb\" href=\"/url?q=/settings/ads/preferences%3Fhl%3Den&amp;sa=U&amp;ved=0ahUKEwiw5LzDldvPAhWDWD4KHYFYCRQQgRMIKw&amp;usg=AFQjCNEAXNOZ62ka46D3FTH_48RcIwnQgw\" target=\"_blank\">\n",
      "                Why this ad?\n",
      "               </a>\n",
      "              </li>\n",
      "             </ul>\n",
      "            </div>\n",
      "           </div>\n",
      "          </div>\n",
      "          <div class=\"ads-creative ellip\">\n",
      "           With Sailfish, Insights Into Your Complex\n",
      "           <b>\n",
      "            Data\n",
      "           </b>\n",
      "           Are Within Reach. Try Today!\n",
      "          </div>\n",
      "          <div>\n",
      "           600+ Data Scientists · Answers on Demand · Data Science For All\n",
      "          </div>\n",
      "          <div class=\"_MEc\">\n",
      "           <a href=\"http://www.google.com/aclk?sa=l&amp;ai=DChcSEwjdwsHDldvPAhWFHYEKHYEMA9YYABAH&amp;sig=AOD64_3KhyVUuqM3BO4ENcsmu3e1MmylKA&amp;ctype=4&amp;ved=0ahUKEwiw5LzDldvPAhWDWD4KHYFYCRQQpigILigA&amp;adurl=\">\n",
      "            Sailfish - Exchange\n",
      "           </a>\n",
      "           -\n",
      "           <a href=\"http://www.google.com/aclk?sa=l&amp;ai=DChcSEwjdwsHDldvPAhWFHYEKHYEMA9YYABAI&amp;sig=AOD64_3o68mDzsxMW-WzPwbBky4lMOIgJg&amp;ctype=4&amp;ved=0ahUKEwiw5LzDldvPAhWDWD4KHYFYCRQQpigILygB&amp;adurl=\">\n",
      "            Sign Up - 2 Weeks Free\n",
      "           </a>\n",
      "           -\n",
      "           <a href=\"http://www.google.com/aclk?sa=l&amp;ai=DChcSEwjdwsHDldvPAhWFHYEKHYEMA9YYABAJ&amp;sig=AOD64_2Er0wqPKBv79xZLc5gQJTrLm6hUw&amp;ctype=4&amp;ved=0ahUKEwiw5LzDldvPAhWDWD4KHYFYCRQQpigIMCgC&amp;adurl=\">\n",
      "            Contact Us Today\n",
      "           </a>\n",
      "          </div>\n",
      "         </li>\n",
      "         <li class=\"ads-ad\">\n",
      "          <h3 class=\"ellip\">\n",
      "           <a href=\"http://www.google.com/aclk?sa=L&amp;ai=DChcSEwjdwsHDldvPAhWFHYEKHYEMA9YYABAK&amp;sig=AOD64_1pnFC6pHTOLv6QmmEoKeqJrQx-Mg&amp;ved=0ahUKEwiw5LzDldvPAhWDWD4KHYFYCRQQ0QwIMg&amp;adurl=\">\n",
      "            <b>\n",
      "             Data Science\n",
      "            </b>\n",
      "            Jobs - indeed.com\n",
      "           </a>\n",
      "          </h3>\n",
      "          <div class=\"ads-visurl\">\n",
      "           <span class=\"_mB\">\n",
      "            Ad\n",
      "           </span>\n",
      "           <cite class=\"_WGk\">\n",
      "            www.indeed.com/Prime\n",
      "           </cite>\n",
      "           ‎\n",
      "           <div class=\"_nBb\">\n",
      "            <div aria-expanded=\"false\" aria-haspopup=\"true\" data-ved=\"0ahUKEwiw5LzDldvPAhWDWD4KHYFYCRQQ7B0IMw\" onclick=\"google.sham(this);\" style=\"display:inline\" tabindex=\"0\">\n",
      "             <span class=\"_O0\">\n",
      "             </span>\n",
      "            </div>\n",
      "            <div class=\"am-dropdown-menu\" role=\"menu\" style=\"display:none\" tabindex=\"-1\">\n",
      "             <ul>\n",
      "              <li class=\"_Ykb\" style=\"margin:0\">\n",
      "               <a class=\"_Zkb\" href=\"/url?q=/settings/ads/preferences%3Fhl%3Den&amp;sa=U&amp;ved=0ahUKEwiw5LzDldvPAhWDWD4KHYFYCRQQgRMINQ&amp;usg=AFQjCNEAXNOZ62ka46D3FTH_48RcIwnQgw\" target=\"_blank\">\n",
      "                Why this ad?\n",
      "               </a>\n",
      "              </li>\n",
      "             </ul>\n",
      "            </div>\n",
      "           </div>\n",
      "          </div>\n",
      "          <div class=\"ads-creative ellip\">\n",
      "           The Best Tech Companies Are Hiring Find a Job, Get $2K Signing Bonus\n",
      "          </div>\n",
      "          <div class=\"_MEc\">\n",
      "           <a href=\"http://www.google.com/aclk?sa=L&amp;ai=DChcSEwjdwsHDldvPAhWFHYEKHYEMA9YYABAL&amp;sig=AOD64_0eQGMXDn82VxV0kqqyf_PW2e-A6g&amp;ctype=4&amp;ved=0ahUKEwiw5LzDldvPAhWDWD4KHYFYCRQQpigINygA&amp;adurl=\">\n",
      "            Free for Candidates\n",
      "           </a>\n",
      "           -\n",
      "           <a href=\"http://www.google.com/aclk?sa=L&amp;ai=DChcSEwjdwsHDldvPAhWFHYEKHYEMA9YYABAM&amp;sig=AOD64_1rUjZcdQZngV7KxCM38JNWsfyZ2w&amp;ctype=4&amp;ved=0ahUKEwiw5LzDldvPAhWDWD4KHYFYCRQQpigIOCgB&amp;adurl=\">\n",
      "            For Employers\n",
      "           </a>\n",
      "           -\n",
      "           <a href=\"http://www.google.com/aclk?sa=L&amp;ai=DChcSEwjdwsHDldvPAhWFHYEKHYEMA9YYABAN&amp;sig=AOD64_26hyYLi-vjVDXOcvuguJXQufAf0g&amp;ctype=4&amp;ved=0ahUKEwiw5LzDldvPAhWDWD4KHYFYCRQQpigIOSgC&amp;adurl=\">\n",
      "            Referral Bonus\n",
      "           </a>\n",
      "          </div>\n",
      "         </li>\n",
      "        </ol>\n",
      "       </div>\n",
      "       <div id=\"res\">\n",
      "        <div id=\"topstuff\">\n",
      "        </div>\n",
      "        <div id=\"search\">\n",
      "         <div id=\"ires\">\n",
      "          <ol>\n",
      "           <div class=\"g\">\n",
      "            <h3 class=\"r\">\n",
      "             <a href=\"/url?q=https://en.wikipedia.org/wiki/Data_science&amp;sa=U&amp;ved=0ahUKEwiw5LzDldvPAhWDWD4KHYFYCRQQFgg-MAA&amp;usg=AFQjCNFQh0RwboJfKUkxOpkW7aPg9OGy3A\">\n",
      "              <b>\n",
      "               Data science\n",
      "              </b>\n",
      "              - Wikipedia\n",
      "             </a>\n",
      "            </h3>\n",
      "            <div class=\"s\">\n",
      "             <div class=\"kv\" style=\"margin-bottom:2px\">\n",
      "              <cite>\n",
      "               https://en.wikipedia.org/wiki/\n",
      "               <b>\n",
      "                Data\n",
      "               </b>\n",
      "               _\n",
      "               <b>\n",
      "                science\n",
      "               </b>\n",
      "              </cite>\n",
      "              <div class=\"_nBb\">\n",
      "               ‎\n",
      "               <div aria-expanded=\"false\" aria-haspopup=\"true\" data-ved=\"0ahUKEwiw5LzDldvPAhWDWD4KHYFYCRQQ7B0IPzAA\" onclick=\"google.sham(this);\" style=\"display:inline\" tabindex=\"0\">\n",
      "                <span class=\"_O0\">\n",
      "                </span>\n",
      "               </div>\n",
      "               <div class=\"am-dropdown-menu\" role=\"menu\" style=\"display:none\" tabindex=\"-1\">\n",
      "                <ul>\n",
      "                 <li class=\"_Ykb\">\n",
      "                  <a class=\"_Zkb\" href=\"/url?q=http://webcache.googleusercontent.com/search%3Fq%3Dcache:0TLy5dtiWvwJ:https://en.wikipedia.org/wiki/Data_science%252Bdata%2Bscience%26hl%3Den%26ct%3Dclnk&amp;sa=U&amp;ved=0ahUKEwiw5LzDldvPAhWDWD4KHYFYCRQQIAhBMAA&amp;usg=AFQjCNGdFs6gNsKnL9wfJf6ckr06__5y3w\">\n",
      "                   Cached\n",
      "                  </a>\n",
      "                 </li>\n",
      "                 <li class=\"_Ykb\">\n",
      "                  <a class=\"_Zkb\" href=\"/search?q=related:https://en.wikipedia.org/wiki/Data_science+data+science&amp;tbo=1&amp;sa=X&amp;ved=0ahUKEwiw5LzDldvPAhWDWD4KHYFYCRQQHwhCMAA\">\n",
      "                   Similar\n",
      "                  </a>\n",
      "                 </li>\n",
      "                </ul>\n",
      "               </div>\n",
      "              </div>\n",
      "             </div>\n",
      "             <span class=\"st\">\n",
      "              <b>\n",
      "               Data science\n",
      "              </b>\n",
      "              is an interdisciplinary field about processes and systems to extract\n",
      "              <br/>\n",
      "              knowledge or insights from data in various forms, either structured or ...\n",
      "             </span>\n",
      "             <br/>\n",
      "             <div class=\"osl\">\n",
      "              ‎\n",
      "              <a href=\"/url?q=https://en.wikipedia.org/wiki/Data_science%23Overview&amp;sa=U&amp;ved=0ahUKEwiw5LzDldvPAhWDWD4KHYFYCRQQ0gIIRCgAMAA&amp;usg=AFQjCNGBOuxrghbLoq3gGiAVmkJejPP6bg\">\n",
      "               Overview\n",
      "              </a>\n",
      "              - ‎\n",
      "              <a href=\"/url?q=https://en.wikipedia.org/wiki/Data_science%23Data_scientist&amp;sa=U&amp;ved=0ahUKEwiw5LzDldvPAhWDWD4KHYFYCRQQ0gIIRSgBMAA&amp;usg=AFQjCNGQAxmql0GYXKfYomoD0EH1_t4NOQ\">\n",
      "               Data scientist\n",
      "              </a>\n",
      "              - ‎\n",
      "              <a href=\"/url?q=https://en.wikipedia.org/wiki/Data_science%23History&amp;sa=U&amp;ved=0ahUKEwiw5LzDldvPAhWDWD4KHYFYCRQQ0gIIRigCMAA&amp;usg=AFQjCNEw6GDVfZimin4kufPbS-r71Ut8fA\">\n",
      "               History\n",
      "              </a>\n",
      "              - ‎\n",
      "              <a href=\"/url?q=https://en.wikipedia.org/wiki/Data_science%23Criticism&amp;sa=U&amp;ved=0ahUKEwiw5LzDldvPAhWDWD4KHYFYCRQQ0gIIRygDMAA&amp;usg=AFQjCNFzbVrvYS0SIwnFMhc9PkQn08JKJA\">\n",
      "               Criticism\n",
      "              </a>\n",
      "             </div>\n",
      "            </div>\n",
      "           </div>\n",
      "           <div class=\"g\">\n",
      "            <h3 class=\"r\">\n",
      "             <a href=\"/url?q=https://www.coursera.org/specializations/jhu-data-science&amp;sa=U&amp;ved=0ahUKEwiw5LzDldvPAhWDWD4KHYFYCRQQFghJMAE&amp;usg=AFQjCNEK59LpjiNInQWIC3fivzEiD7zICQ\">\n",
      "              <b>\n",
      "               Data Science\n",
      "              </b>\n",
      "              | Coursera\n",
      "             </a>\n",
      "            </h3>\n",
      "            <div class=\"s\">\n",
      "             <div class=\"kv\" style=\"margin-bottom:2px\">\n",
      "              <cite>\n",
      "               https://www.coursera.org/specializations/jhu-\n",
      "               <b>\n",
      "                data\n",
      "               </b>\n",
      "               -\n",
      "               <b>\n",
      "                science\n",
      "               </b>\n",
      "              </cite>\n",
      "              <div class=\"_nBb\">\n",
      "               ‎\n",
      "               <div aria-expanded=\"false\" aria-haspopup=\"true\" data-ved=\"0ahUKEwiw5LzDldvPAhWDWD4KHYFYCRQQ7B0ISjAB\" onclick=\"google.sham(this);\" style=\"display:inline\" tabindex=\"0\">\n",
      "                <span class=\"_O0\">\n",
      "                </span>\n",
      "               </div>\n",
      "               <div class=\"am-dropdown-menu\" role=\"menu\" style=\"display:none\" tabindex=\"-1\">\n",
      "                <ul>\n",
      "                 <li class=\"_Ykb\">\n",
      "                  <a class=\"_Zkb\" href=\"/url?q=http://webcache.googleusercontent.com/search%3Fq%3Dcache:FLmQQ_RjoisJ:https://www.coursera.org/specializations/jhu-data-science%252Bdata%2Bscience%26hl%3Den%26ct%3Dclnk&amp;sa=U&amp;ved=0ahUKEwiw5LzDldvPAhWDWD4KHYFYCRQQIAhMMAE&amp;usg=AFQjCNEHGGPJ2MsspIEqmPjnBIMBUA2yug\">\n",
      "                   Cached\n",
      "                  </a>\n",
      "                 </li>\n",
      "                 <li class=\"_Ykb\">\n",
      "                  <a class=\"_Zkb\" href=\"/search?q=related:https://www.coursera.org/specializations/jhu-data-science+data+science&amp;tbo=1&amp;sa=X&amp;ved=0ahUKEwiw5LzDldvPAhWDWD4KHYFYCRQQHwhNMAE\">\n",
      "                   Similar\n",
      "                  </a>\n",
      "                 </li>\n",
      "                </ul>\n",
      "               </div>\n",
      "              </div>\n",
      "             </div>\n",
      "             <span class=\"st\">\n",
      "              Explore\n",
      "              <b>\n",
      "               Data Science\n",
      "              </b>\n",
      "              Certificate offered by Johns Hopkins University. Launch\n",
      "              <br/>\n",
      "              Your Career in\n",
      "              <b>\n",
      "               Data Science\n",
      "              </b>\n",
      "              - A nine-course introduction to\n",
      "              <b>\n",
      "               data science\n",
      "              </b>\n",
      "              , ...\n",
      "             </span>\n",
      "             <br/>\n",
      "            </div>\n",
      "           </div>\n",
      "           <div class=\"g\">\n",
      "            <h3 class=\"r\">\n",
      "             <a href=\"/url?q=http://datascience.nyu.edu/&amp;sa=U&amp;ved=0ahUKEwiw5LzDldvPAhWDWD4KHYFYCRQQFghPMAI&amp;usg=AFQjCNE6eEHKOE8v9038R-YnfVdcBu9lTw\">\n",
      "              <b>\n",
      "               Data Science\n",
      "              </b>\n",
      "              at NYU\n",
      "             </a>\n",
      "            </h3>\n",
      "            <div class=\"s\">\n",
      "             <div class=\"kv\" style=\"margin-bottom:2px\">\n",
      "              <cite>\n",
      "               <b>\n",
      "                datascience\n",
      "               </b>\n",
      "               .nyu.edu/\n",
      "              </cite>\n",
      "              <div class=\"_nBb\">\n",
      "               ‎\n",
      "               <div aria-expanded=\"false\" aria-haspopup=\"true\" data-ved=\"0ahUKEwiw5LzDldvPAhWDWD4KHYFYCRQQ7B0IUDAC\" onclick=\"google.sham(this);\" style=\"display:inline\" tabindex=\"0\">\n",
      "                <span class=\"_O0\">\n",
      "                </span>\n",
      "               </div>\n",
      "               <div class=\"am-dropdown-menu\" role=\"menu\" style=\"display:none\" tabindex=\"-1\">\n",
      "                <ul>\n",
      "                 <li class=\"_Ykb\">\n",
      "                  <a class=\"_Zkb\" href=\"/url?q=http://webcache.googleusercontent.com/search%3Fq%3Dcache:i15V01FkkrEJ:http://datascience.nyu.edu/%252Bdata%2Bscience%26hl%3Den%26ct%3Dclnk&amp;sa=U&amp;ved=0ahUKEwiw5LzDldvPAhWDWD4KHYFYCRQQIAhSMAI&amp;usg=AFQjCNHKc91tK22CQcLojo30R53s3vdSoA\">\n",
      "                   Cached\n",
      "                  </a>\n",
      "                 </li>\n",
      "                 <li class=\"_Ykb\">\n",
      "                  <a class=\"_Zkb\" href=\"/search?q=related:datascience.nyu.edu/+data+science&amp;tbo=1&amp;sa=X&amp;ved=0ahUKEwiw5LzDldvPAhWDWD4KHYFYCRQQHwhTMAI\">\n",
      "                   Similar\n",
      "                  </a>\n",
      "                 </li>\n",
      "                </ul>\n",
      "               </div>\n",
      "              </div>\n",
      "             </div>\n",
      "             <span class=\"st\">\n",
      "              The\n",
      "              <b>\n",
      "               data science\n",
      "              </b>\n",
      "              initiative at NYU is a university-wide effort to establish the\n",
      "              <br/>\n",
      "              country's leading\n",
      "              <b>\n",
      "               data science\n",
      "              </b>\n",
      "              training and research facilities at NYU.\n",
      "             </span>\n",
      "             <br/>\n",
      "            </div>\n",
      "           </div>\n",
      "           <div class=\"g\">\n",
      "            <div>\n",
      "             <h3 class=\"r\">\n",
      "              <a href=\"/search?q=data+science&amp;prmd=ivnsb&amp;source=univ&amp;tbm=nws&amp;tbo=u&amp;sa=X&amp;ved=0ahUKEwiw5LzDldvPAhWDWD4KHYFYCRQQqAIIVQ\">\n",
      "               News for\n",
      "               <b>\n",
      "                data science\n",
      "               </b>\n",
      "              </a>\n",
      "             </h3>\n",
      "             <table class=\"ts\">\n",
      "              <tbody>\n",
      "               <tr>\n",
      "                <td style=\"font-size:78%;line-height:normal;padding:7px 8px 0 0;text-align:center\" valign=\"top\">\n",
      "                 <a href=\"/url?q=http://www.informationsecuritybuzz.com/articles/data-science-key-cybersecurity/&amp;sa=U&amp;ved=0ahUKEwiw5LzDldvPAhWDWD4KHYFYCRQQpwIIVg&amp;usg=AFQjCNGkFofqCrT6wO2X8yUhayCx9d8fgw\">\n",
      "                  <img border=\"1\" class=\"th\" height=\"100\" src=\"https://encrypted-tbn1.gstatic.com/images?q=tbn:ANd9GcRA7A16l6ziDnf0Mfu0cnVqvFt4IG7A16ZLUmxzF0mM2fqzTRxKEBHiKEnnvni4k14ef6M\" width=\"100\"/>\n",
      "                  <br/>\n",
      "                 </a>\n",
      "                 <span class=\"_pJb _yhd\">\n",
      "                  ISBuzz News\n",
      "                 </span>\n",
      "                </td>\n",
      "                <td valign=\"top\">\n",
      "                 <div style=\"margin-top:5px\">\n",
      "                  <a href=\"/url?q=http://www.informationsecuritybuzz.com/articles/data-science-key-cybersecurity/&amp;sa=U&amp;ved=0ahUKEwiw5LzDldvPAhWDWD4KHYFYCRQQqQIIWDAD&amp;usg=AFQjCNGkFofqCrT6wO2X8yUhayCx9d8fgw\">\n",
      "                   Is Data Science the Key to Cybersecurity?\n",
      "                  </a>\n",
      "                  <div style=\"padding-top:2px\">\n",
      "                   <cite>\n",
      "                    ISBuzz News\n",
      "                   </cite>\n",
      "                   <span class=\"f\">\n",
      "                    -\n",
      "                    <span class=\"nobr\">\n",
      "                     11 hours ago\n",
      "                    </span>\n",
      "                    <span class=\"nobr\">\n",
      "                    </span>\n",
      "                   </span>\n",
      "                  </div>\n",
      "                  <div class=\"j\" style=\"margin-top:1px;margin-bottom:4px\">\n",
      "                   <span class=\"st\">\n",
      "                    <b>\n",
      "                     data\n",
      "                    </b>\n",
      "                    -\n",
      "                    <b>\n",
      "                     science\n",
      "                    </b>\n",
      "                    -1 In many ways, fighting cybercrime is a lot like playing “Whack-A-\n",
      "                    <br/>\n",
      "                    Mole,” the ever popular arcade game. For every threat that is ...\n",
      "                   </span>\n",
      "                  </div>\n",
      "                 </div>\n",
      "                 <div style=\"margin-top:4px\">\n",
      "                  <a href=\"/url?q=http://www.nwitimes.com/business/jobs-and-employment/workplace/college-spotlight/vu-offers-new-undergrad-degree-in-data-science/article_9f2d1499-fce9-56e7-a4bf-39553c4adfd4.html&amp;sa=U&amp;ved=0ahUKEwiw5LzDldvPAhWDWD4KHYFYCRQQqQIIWjAE&amp;usg=AFQjCNFe1-I_haxRz76FdeJyGOeuAt1eww\">\n",
      "                   VU offers new undergrad degree in data science\n",
      "                  </a>\n",
      "                  <div style=\"padding-top:2px\">\n",
      "                   <cite>\n",
      "                    nwitimes.com\n",
      "                   </cite>\n",
      "                   <span class=\"f\">\n",
      "                    -\n",
      "                    <span class=\"nobr\">\n",
      "                     1 day ago\n",
      "                    </span>\n",
      "                    <span class=\"nobr\">\n",
      "                    </span>\n",
      "                   </span>\n",
      "                  </div>\n",
      "                 </div>\n",
      "                 <div style=\"margin-top:4px\">\n",
      "                  <a href=\"/url?q=https://appdevelopermagazine.com/4522/2016/10/14/New-AnacondaCrew-partner-program-to-leverage-open-data-science-technology&amp;sa=U&amp;ved=0ahUKEwiw5LzDldvPAhWDWD4KHYFYCRQQqQIIXDAF&amp;usg=AFQjCNGIcEdypgctYQPvQQc8LUdIftELKA\">\n",
      "                   New AnacondaCrew partner program to leverage open data science technology\n",
      "                  </a>\n",
      "                  <div style=\"padding-top:2px\">\n",
      "                   <cite>\n",
      "                    App Developer Magazine\n",
      "                   </cite>\n",
      "                   <span class=\"f\">\n",
      "                    -\n",
      "                    <span class=\"nobr\">\n",
      "                     1 hour ago\n",
      "                    </span>\n",
      "                    <span class=\"nobr\">\n",
      "                    </span>\n",
      "                   </span>\n",
      "                  </div>\n",
      "                 </div>\n",
      "                </td>\n",
      "               </tr>\n",
      "              </tbody>\n",
      "             </table>\n",
      "            </div>\n",
      "           </div>\n",
      "           <div class=\"g\">\n",
      "            <h3 class=\"r\">\n",
      "             <a href=\"/url?q=http://datascience.columbia.edu/certification&amp;sa=U&amp;ved=0ahUKEwiw5LzDldvPAhWDWD4KHYFYCRQQFgheMAY&amp;usg=AFQjCNGwYCPLO41a6e3dcNzHwGCg0eN2ow\">\n",
      "              Columbia Certification of Professional Achievement in\n",
      "              <b>\n",
      "               Data Sciences\n",
      "              </b>\n",
      "             </a>\n",
      "            </h3>\n",
      "            <div class=\"s\">\n",
      "             <div class=\"kv\" style=\"margin-bottom:2px\">\n",
      "              <cite>\n",
      "               <b>\n",
      "                datascience\n",
      "               </b>\n",
      "               .columbia.edu/certification\n",
      "              </cite>\n",
      "              <div class=\"_nBb\">\n",
      "               ‎\n",
      "               <div aria-expanded=\"false\" aria-haspopup=\"true\" data-ved=\"0ahUKEwiw5LzDldvPAhWDWD4KHYFYCRQQ7B0IXzAG\" onclick=\"google.sham(this);\" style=\"display:inline\" tabindex=\"0\">\n",
      "                <span class=\"_O0\">\n",
      "                </span>\n",
      "               </div>\n",
      "               <div class=\"am-dropdown-menu\" role=\"menu\" style=\"display:none\" tabindex=\"-1\">\n",
      "                <ul>\n",
      "                 <li class=\"_Ykb\">\n",
      "                  <a class=\"_Zkb\" href=\"/url?q=http://webcache.googleusercontent.com/search%3Fq%3Dcache:UcprjQ6g3NIJ:http://datascience.columbia.edu/certification%252Bdata%2Bscience%26hl%3Den%26ct%3Dclnk&amp;sa=U&amp;ved=0ahUKEwiw5LzDldvPAhWDWD4KHYFYCRQQIAhhMAY&amp;usg=AFQjCNHr-tgyps5SMCSliqfz6BJXpf1_UA\">\n",
      "                   Cached\n",
      "                  </a>\n",
      "                 </li>\n",
      "                 <li class=\"_Ykb\">\n",
      "                  <a class=\"_Zkb\" href=\"/search?q=related:datascience.columbia.edu/certification+data+science&amp;tbo=1&amp;sa=X&amp;ved=0ahUKEwiw5LzDldvPAhWDWD4KHYFYCRQQHwhiMAY\">\n",
      "                   Similar\n",
      "                  </a>\n",
      "                 </li>\n",
      "                </ul>\n",
      "               </div>\n",
      "              </div>\n",
      "             </div>\n",
      "             <span class=\"st\">\n",
      "              The Certification of Professional Achievement in\n",
      "              <b>\n",
      "               Data Sciences\n",
      "              </b>\n",
      "              prepares\n",
      "              <br/>\n",
      "              students to expand their career prospects or change career paths by developing\n",
      "              <br/>\n",
      "              ...\n",
      "             </span>\n",
      "             <br/>\n",
      "            </div>\n",
      "           </div>\n",
      "           <div class=\"g\">\n",
      "            <h3 class=\"r\">\n",
      "             <a href=\"/url?q=https://www.udacity.com/course/intro-to-data-science--ud359&amp;sa=U&amp;ved=0ahUKEwiw5LzDldvPAhWDWD4KHYFYCRQQFghkMAc&amp;usg=AFQjCNEpEPwQ5H--XzQPkAO7p_DeKEe6PA\">\n",
      "              Intro to\n",
      "              <b>\n",
      "               Data Science\n",
      "              </b>\n",
      "              Online Course | Udacity\n",
      "             </a>\n",
      "            </h3>\n",
      "            <div class=\"s\">\n",
      "             <div class=\"kv\" style=\"margin-bottom:2px\">\n",
      "              <cite>\n",
      "               https://www.udacity.com/course/intro-to-\n",
      "               <b>\n",
      "                data\n",
      "               </b>\n",
      "               -\n",
      "               <b>\n",
      "                science\n",
      "               </b>\n",
      "               --ud359\n",
      "              </cite>\n",
      "              <div class=\"_nBb\">\n",
      "               ‎\n",
      "               <div aria-expanded=\"false\" aria-haspopup=\"true\" data-ved=\"0ahUKEwiw5LzDldvPAhWDWD4KHYFYCRQQ7B0IZTAH\" onclick=\"google.sham(this);\" style=\"display:inline\" tabindex=\"0\">\n",
      "                <span class=\"_O0\">\n",
      "                </span>\n",
      "               </div>\n",
      "               <div class=\"am-dropdown-menu\" role=\"menu\" style=\"display:none\" tabindex=\"-1\">\n",
      "                <ul>\n",
      "                 <li class=\"_Ykb\">\n",
      "                  <a class=\"_Zkb\" href=\"/url?q=http://webcache.googleusercontent.com/search%3Fq%3Dcache:n8JCnEjMnysJ:https://www.udacity.com/course/intro-to-data-science--ud359%252Bdata%2Bscience%26hl%3Den%26ct%3Dclnk&amp;sa=U&amp;ved=0ahUKEwiw5LzDldvPAhWDWD4KHYFYCRQQIAhnMAc&amp;usg=AFQjCNHbf8p3SEeSfsZMAAODsZto7wWG_w\">\n",
      "                   Cached\n",
      "                  </a>\n",
      "                 </li>\n",
      "                 <li class=\"_Ykb\">\n",
      "                  <a class=\"_Zkb\" href=\"/search?q=related:https://www.udacity.com/course/intro-to-data-science--ud359+data+science&amp;tbo=1&amp;sa=X&amp;ved=0ahUKEwiw5LzDldvPAhWDWD4KHYFYCRQQHwhoMAc\">\n",
      "                   Similar\n",
      "                  </a>\n",
      "                 </li>\n",
      "                </ul>\n",
      "               </div>\n",
      "              </div>\n",
      "             </div>\n",
      "             <span class=\"st\">\n",
      "              Intro to\n",
      "              <b>\n",
      "               Data Science\n",
      "              </b>\n",
      "              covers the basics of big data through data manipulation,\n",
      "              <br/>\n",
      "              analysis and communication while completing a hands on\n",
      "              <b>\n",
      "               data science\n",
      "              </b>\n",
      "              project.\n",
      "             </span>\n",
      "             <br/>\n",
      "            </div>\n",
      "           </div>\n",
      "           <div class=\"g\">\n",
      "            <h3 class=\"r\">\n",
      "             <a href=\"/url?q=https://datascience.berkeley.edu/about/what-is-data-science/&amp;sa=U&amp;ved=0ahUKEwiw5LzDldvPAhWDWD4KHYFYCRQQFghqMAg&amp;usg=AFQjCNEBUaMPfWTilyBMTDJr63KQ3bQ63Q\">\n",
      "              What is\n",
      "              <b>\n",
      "               Data Science\n",
      "              </b>\n",
      "              ? -\n",
      "              <b>\n",
      "               DataScience\n",
      "              </b>\n",
      "              @Berkeley\n",
      "             </a>\n",
      "            </h3>\n",
      "            <div class=\"s\">\n",
      "             <div class=\"kv\" style=\"margin-bottom:2px\">\n",
      "              <cite>\n",
      "               https://\n",
      "               <b>\n",
      "                datascience\n",
      "               </b>\n",
      "               .berkeley.edu/about/what-is-\n",
      "               <b>\n",
      "                data\n",
      "               </b>\n",
      "               -\n",
      "               <b>\n",
      "                science\n",
      "               </b>\n",
      "               /\n",
      "              </cite>\n",
      "              <div class=\"_nBb\">\n",
      "               ‎\n",
      "               <div aria-expanded=\"false\" aria-haspopup=\"true\" data-ved=\"0ahUKEwiw5LzDldvPAhWDWD4KHYFYCRQQ7B0IazAI\" onclick=\"google.sham(this);\" style=\"display:inline\" tabindex=\"0\">\n",
      "                <span class=\"_O0\">\n",
      "                </span>\n",
      "               </div>\n",
      "               <div class=\"am-dropdown-menu\" role=\"menu\" style=\"display:none\" tabindex=\"-1\">\n",
      "                <ul>\n",
      "                 <li class=\"_Ykb\">\n",
      "                  <a class=\"_Zkb\" href=\"/url?q=http://webcache.googleusercontent.com/search%3Fq%3Dcache:EGIx1bXGIvMJ:https://datascience.berkeley.edu/about/what-is-data-science/%252Bdata%2Bscience%26hl%3Den%26ct%3Dclnk&amp;sa=U&amp;ved=0ahUKEwiw5LzDldvPAhWDWD4KHYFYCRQQIAhtMAg&amp;usg=AFQjCNEDKqcZm0XyhSLD6I80JKtWmbgoog\">\n",
      "                   Cached\n",
      "                  </a>\n",
      "                 </li>\n",
      "                 <li class=\"_Ykb\">\n",
      "                  <a class=\"_Zkb\" href=\"/search?q=related:https://datascience.berkeley.edu/about/what-is-data-science/+data+science&amp;tbo=1&amp;sa=X&amp;ved=0ahUKEwiw5LzDldvPAhWDWD4KHYFYCRQQHwhuMAg\">\n",
      "                   Similar\n",
      "                  </a>\n",
      "                 </li>\n",
      "                </ul>\n",
      "               </div>\n",
      "              </div>\n",
      "             </div>\n",
      "             <span class=\"st\">\n",
      "              The supply of professionals who can work effectively with data at scale is limited,\n",
      "              <br/>\n",
      "              and is reflected by rapidly rising salaries for data engineers,\n",
      "              <b>\n",
      "               data scientists\n",
      "              </b>\n",
      "              , ...\n",
      "             </span>\n",
      "             <br/>\n",
      "            </div>\n",
      "           </div>\n",
      "           <div class=\"g\">\n",
      "            <h3 class=\"r\">\n",
      "             <a href=\"/url?q=https://www.datascience.com/&amp;sa=U&amp;ved=0ahUKEwiw5LzDldvPAhWDWD4KHYFYCRQQFghwMAk&amp;usg=AFQjCNF2nTcIXBnSYXBwssLAgbfduzCSBg\">\n",
      "              <b>\n",
      "               Data Science\n",
      "              </b>\n",
      "              Company |\n",
      "              <b>\n",
      "               Data Science\n",
      "              </b>\n",
      "              Platform |\n",
      "              <b>\n",
      "               Data Science\n",
      "              </b>\n",
      "              ...\n",
      "             </a>\n",
      "            </h3>\n",
      "            <div class=\"s\">\n",
      "             <div class=\"kv\" style=\"margin-bottom:2px\">\n",
      "              <cite>\n",
      "               https://www.\n",
      "               <b>\n",
      "                datascience\n",
      "               </b>\n",
      "               .com/\n",
      "              </cite>\n",
      "              <div class=\"_nBb\">\n",
      "               ‎\n",
      "               <div aria-expanded=\"false\" aria-haspopup=\"true\" data-ved=\"0ahUKEwiw5LzDldvPAhWDWD4KHYFYCRQQ7B0IcTAJ\" onclick=\"google.sham(this);\" style=\"display:inline\" tabindex=\"0\">\n",
      "                <span class=\"_O0\">\n",
      "                </span>\n",
      "               </div>\n",
      "               <div class=\"am-dropdown-menu\" role=\"menu\" style=\"display:none\" tabindex=\"-1\">\n",
      "                <ul>\n",
      "                 <li class=\"_Ykb\">\n",
      "                  <a class=\"_Zkb\" href=\"/url?q=http://webcache.googleusercontent.com/search%3Fq%3Dcache:KIV1I-Mk9sAJ:https://www.datascience.com/%252Bdata%2Bscience%26hl%3Den%26ct%3Dclnk&amp;sa=U&amp;ved=0ahUKEwiw5LzDldvPAhWDWD4KHYFYCRQQIAhzMAk&amp;usg=AFQjCNH_vB0hXUKm1v453ochSBwY6mSjdA\">\n",
      "                   Cached\n",
      "                  </a>\n",
      "                 </li>\n",
      "                </ul>\n",
      "               </div>\n",
      "              </div>\n",
      "             </div>\n",
      "             <span class=\"st\">\n",
      "              The\n",
      "              <b>\n",
      "               DataScience\n",
      "              </b>\n",
      "              Cloud is a\n",
      "              <b>\n",
      "               data science\n",
      "              </b>\n",
      "              platform that brings together best-in-\n",
      "              <br/>\n",
      "              class tools, infrastructure, and expertise in a modern, full-service offering.\n",
      "             </span>\n",
      "             <br/>\n",
      "            </div>\n",
      "           </div>\n",
      "           <div class=\"g\">\n",
      "            <h3 class=\"r\">\n",
      "             <a href=\"/url?q=https://www.extension.harvard.edu/academics/professional-graduate-certificates/data-science-certificate&amp;sa=U&amp;ved=0ahUKEwiw5LzDldvPAhWDWD4KHYFYCRQQFgh1MAo&amp;usg=AFQjCNHe03FA3xaIUR_XdIju6r-2dS1kQA\">\n",
      "              <b>\n",
      "               Data Science\n",
      "              </b>\n",
      "              Certificate | Harvard Extension\n",
      "             </a>\n",
      "            </h3>\n",
      "            <div class=\"s\">\n",
      "             <div class=\"kv\" style=\"margin-bottom:2px\">\n",
      "              <cite>\n",
      "               https://www.extension.harvard.edu/academics/.../\n",
      "               <b>\n",
      "                data\n",
      "               </b>\n",
      "               -\n",
      "               <b>\n",
      "                science\n",
      "               </b>\n",
      "               -certificate\n",
      "              </cite>\n",
      "              <div class=\"_nBb\">\n",
      "               ‎\n",
      "               <div aria-expanded=\"false\" aria-haspopup=\"true\" data-ved=\"0ahUKEwiw5LzDldvPAhWDWD4KHYFYCRQQ7B0IdjAK\" onclick=\"google.sham(this);\" style=\"display:inline\" tabindex=\"0\">\n",
      "                <span class=\"_O0\">\n",
      "                </span>\n",
      "               </div>\n",
      "               <div class=\"am-dropdown-menu\" role=\"menu\" style=\"display:none\" tabindex=\"-1\">\n",
      "                <ul>\n",
      "                 <li class=\"_Ykb\">\n",
      "                  <a class=\"_Zkb\" href=\"/search?q=related:https://www.extension.harvard.edu/academics/professional-graduate-certificates/data-science-certificate+data+science&amp;tbo=1&amp;sa=X&amp;ved=0ahUKEwiw5LzDldvPAhWDWD4KHYFYCRQQHwh4MAo\">\n",
      "                   Similar\n",
      "                  </a>\n",
      "                 </li>\n",
      "                </ul>\n",
      "               </div>\n",
      "              </div>\n",
      "             </div>\n",
      "             <span class=\"st\">\n",
      "              Learn to interpret big data sets with the\n",
      "              <b>\n",
      "               data science\n",
      "              </b>\n",
      "              certificate from Harvard\n",
      "              <br/>\n",
      "              Extension. Your analysis education can start today.\n",
      "             </span>\n",
      "             <br/>\n",
      "            </div>\n",
      "           </div>\n",
      "           <div class=\"g\">\n",
      "            <h3 class=\"r\">\n",
      "             <a href=\"/url?q=https://www.edx.org/course/programming-python-data-science-microsoft-dat210x-1&amp;sa=U&amp;ved=0ahUKEwiw5LzDldvPAhWDWD4KHYFYCRQQFgh6MAs&amp;usg=AFQjCNEkzxFB2LBaWEpasJKjlzBEcjEz6A\">\n",
      "              Programming with Python for\n",
      "              <b>\n",
      "               Data Science\n",
      "              </b>\n",
      "              | edX\n",
      "             </a>\n",
      "            </h3>\n",
      "            <div class=\"s\">\n",
      "             <div class=\"kv\" style=\"margin-bottom:2px\">\n",
      "              <cite>\n",
      "               https://www.edx.org/.../programming-python-\n",
      "               <b>\n",
      "                data\n",
      "               </b>\n",
      "               -\n",
      "               <b>\n",
      "                science\n",
      "               </b>\n",
      "               -microsoft-dat210x -1\n",
      "              </cite>\n",
      "              <div class=\"_nBb\">\n",
      "               ‎\n",
      "               <div aria-expanded=\"false\" aria-haspopup=\"true\" data-ved=\"0ahUKEwiw5LzDldvPAhWDWD4KHYFYCRQQ7B0IezAL\" onclick=\"google.sham(this);\" style=\"display:inline\" tabindex=\"0\">\n",
      "                <span class=\"_O0\">\n",
      "                </span>\n",
      "               </div>\n",
      "               <div class=\"am-dropdown-menu\" role=\"menu\" style=\"display:none\" tabindex=\"-1\">\n",
      "                <ul>\n",
      "                 <li class=\"_Ykb\">\n",
      "                  <a class=\"_Zkb\" href=\"/url?q=http://webcache.googleusercontent.com/search%3Fq%3Dcache:BUC-gxy3J8AJ:https://www.edx.org/course/programming-python-data-science-microsoft-dat210x-1%252Bdata%2Bscience%26hl%3Den%26ct%3Dclnk&amp;sa=U&amp;ved=0ahUKEwiw5LzDldvPAhWDWD4KHYFYCRQQIAh9MAs&amp;usg=AFQjCNGHyzuTBMucxiQdLf4kTpi9E3-vhQ\">\n",
      "                   Cached\n",
      "                  </a>\n",
      "                 </li>\n",
      "                </ul>\n",
      "               </div>\n",
      "              </div>\n",
      "             </div>\n",
      "             <span class=\"st\">\n",
      "              Traverse the\n",
      "              <b>\n",
      "               data\n",
      "              </b>\n",
      "              analysis pipeline using advanced visualizations in Python, and\n",
      "              <br/>\n",
      "              make machine learning start working for you.\n",
      "             </span>\n",
      "             <br/>\n",
      "            </div>\n",
      "           </div>\n",
      "          </ol>\n",
      "         </div>\n",
      "        </div>\n",
      "       </div>\n",
      "       <div class=\"_Ak\" id=\"_Ktg\">\n",
      "        <h2 class=\"_hM\">\n",
      "        </h2>\n",
      "        <ol>\n",
      "         <li class=\"ads-ad _kug\">\n",
      "          <h3 class=\"ellip\">\n",
      "           <a href=\"http://www.google.com/aclk?sa=l&amp;ai=DChcSEwjdwsHDldvPAhWFHYEKHYEMA9YYABAO&amp;sig=AOD64_0ChEBPTHaXp_p2MWi7FdqBFCpGeQ&amp;ved=0ahUKEwiw5LzDldvPAhWDWD4KHYFYCRQQ0QwIgAE&amp;adurl=\">\n",
      "            Google Cloud Big\n",
      "            <b>\n",
      "             Data\n",
      "            </b>\n",
      "            - Build at the Speed of Google\n",
      "           </a>\n",
      "          </h3>\n",
      "          <div class=\"ads-visurl\">\n",
      "           <span class=\"_mB\">\n",
      "            Ad\n",
      "           </span>\n",
      "           <cite class=\"_WGk\">\n",
      "            cloud.google.com/\n",
      "           </cite>\n",
      "           ‎\n",
      "           <div class=\"_nBb\">\n",
      "            <div aria-expanded=\"false\" aria-haspopup=\"true\" data-ved=\"0ahUKEwiw5LzDldvPAhWDWD4KHYFYCRQQ7B0IgQE\" onclick=\"google.sham(this);\" style=\"display:inline\" tabindex=\"0\">\n",
      "             <span class=\"_O0\">\n",
      "             </span>\n",
      "            </div>\n",
      "            <div class=\"am-dropdown-menu\" role=\"menu\" style=\"display:none\" tabindex=\"-1\">\n",
      "             <ul>\n",
      "              <li class=\"_Ykb\" style=\"margin:0\">\n",
      "               <a class=\"_Zkb\" href=\"/url?q=/settings/ads/preferences%3Fhl%3Den&amp;sa=U&amp;ved=0ahUKEwiw5LzDldvPAhWDWD4KHYFYCRQQgRMIgwE&amp;usg=AFQjCNEAXNOZ62ka46D3FTH_48RcIwnQgw\" target=\"_blank\">\n",
      "                Why this ad?\n",
      "               </a>\n",
      "              </li>\n",
      "             </ul>\n",
      "            </div>\n",
      "           </div>\n",
      "          </div>\n",
      "          <div class=\"ads-creative ellip\">\n",
      "           Create Simple Sites to Complex Apps\n",
      "          </div>\n",
      "          <div>\n",
      "           $300 Free Trial · Deploy in Minutes · Mix &amp; Match Services · Highly Scalable\n",
      "          </div>\n",
      "          <div class=\"_MEc\">\n",
      "           <a href=\"http://www.google.com/aclk?sa=l&amp;ai=DChcSEwjdwsHDldvPAhWFHYEKHYEMA9YYABAP&amp;sig=AOD64_3nSGwi5ygdSZTwB81k6O90xFuz4w&amp;ctype=4&amp;ved=0ahUKEwiw5LzDldvPAhWDWD4KHYFYCRQQpigIhgEoAA&amp;adurl=\">\n",
      "            Competitor Guide\n",
      "           </a>\n",
      "           -\n",
      "           <a href=\"http://www.google.com/aclk?sa=l&amp;ai=DChcSEwjdwsHDldvPAhWFHYEKHYEMA9YYABAQ&amp;sig=AOD64_3iVyoAZ8xOryl7sJyy4aul9GaTEw&amp;ctype=4&amp;ved=0ahUKEwiw5LzDldvPAhWDWD4KHYFYCRQQpigIhwEoAQ&amp;adurl=\">\n",
      "            Case Studies\n",
      "           </a>\n",
      "           -\n",
      "           <a href=\"http://www.google.com/aclk?sa=l&amp;ai=DChcSEwjdwsHDldvPAhWFHYEKHYEMA9YYABAR&amp;sig=AOD64_3-5z5uaQjz2HyvKXo8jz121SdYuQ&amp;ctype=4&amp;ved=0ahUKEwiw5LzDldvPAhWDWD4KHYFYCRQQpigIiAEoAg&amp;adurl=\">\n",
      "            Compute Engine\n",
      "           </a>\n",
      "           -\n",
      "           <a href=\"http://www.google.com/aclk?sa=l&amp;ai=DChcSEwjdwsHDldvPAhWFHYEKHYEMA9YYABAS&amp;sig=AOD64_3D42Mc5M32xh9nK21D1BcbT8zOXw&amp;ctype=4&amp;ved=0ahUKEwiw5LzDldvPAhWDWD4KHYFYCRQQpigIiQEoAw&amp;adurl=\">\n",
      "            Download SDK\n",
      "           </a>\n",
      "           -\n",
      "           <a href=\"http://www.google.com/aclk?sa=l&amp;ai=DChcSEwjdwsHDldvPAhWFHYEKHYEMA9YYABAT&amp;sig=AOD64_1Z6AryGsdVxevZm6x6676MFAQDUg&amp;ctype=4&amp;ved=0ahUKEwiw5LzDldvPAhWDWD4KHYFYCRQQpigIigEoBA&amp;adurl=\">\n",
      "            Pricing\n",
      "           </a>\n",
      "          </div>\n",
      "         </li>\n",
      "         <li class=\"ads-ad _kug\">\n",
      "          <h3 class=\"ellip\">\n",
      "           <a href=\"http://www.google.com/aclk?sa=l&amp;ai=DChcSEwjdwsHDldvPAhWFHYEKHYEMA9YYABAU&amp;sig=AOD64_13oXXe22dTh3VgNKa97bWr_jFJRA&amp;ved=0ahUKEwiw5LzDldvPAhWDWD4KHYFYCRQQ0QwIjAE&amp;adurl=\">\n",
      "            Deep Learning on Time Series - Predict Your Business Future\n",
      "           </a>\n",
      "          </h3>\n",
      "          <div class=\"ads-visurl\">\n",
      "           <span class=\"_mB\">\n",
      "            Ad\n",
      "           </span>\n",
      "           <cite class=\"_WGk\">\n",
      "            www.arimo.com/\n",
      "           </cite>\n",
      "           ‎\n",
      "           <div class=\"_nBb\">\n",
      "            <div aria-expanded=\"false\" aria-haspopup=\"true\" data-ved=\"0ahUKEwiw5LzDldvPAhWDWD4KHYFYCRQQ7B0IjQE\" onclick=\"google.sham(this);\" style=\"display:inline\" tabindex=\"0\">\n",
      "             <span class=\"_O0\">\n",
      "             </span>\n",
      "            </div>\n",
      "            <div class=\"am-dropdown-menu\" role=\"menu\" style=\"display:none\" tabindex=\"-1\">\n",
      "             <ul>\n",
      "              <li class=\"_Ykb\" style=\"margin:0\">\n",
      "               <a class=\"_Zkb\" href=\"/url?q=/settings/ads/preferences%3Fhl%3Den&amp;sa=U&amp;ved=0ahUKEwiw5LzDldvPAhWDWD4KHYFYCRQQgRMIjwE&amp;usg=AFQjCNEAXNOZ62ka46D3FTH_48RcIwnQgw\" target=\"_blank\">\n",
      "                Why this ad?\n",
      "               </a>\n",
      "              </li>\n",
      "             </ul>\n",
      "            </div>\n",
      "           </div>\n",
      "          </div>\n",
      "          <div class=\"ads-creative ellip\">\n",
      "           Understand your customers' behaviors today. Take action to better serve them.\n",
      "          </div>\n",
      "          <div>\n",
      "           Machine/Deep Learning · Easy Data Discovery · Big Data Analytics\n",
      "          </div>\n",
      "          <div class=\"_MEc\">\n",
      "           <a href=\"http://www.google.com/aclk?sa=l&amp;ai=DChcSEwjdwsHDldvPAhWFHYEKHYEMA9YYABAV&amp;sig=AOD64_1A3Rt70UXTb5x17q5iyZ4shNaH7Q&amp;ctype=4&amp;ved=0ahUKEwiw5LzDldvPAhWDWD4KHYFYCRQQpigIkgEoAA&amp;adurl=\">\n",
      "            Solutions\n",
      "           </a>\n",
      "           -\n",
      "           <a href=\"http://www.google.com/aclk?sa=l&amp;ai=DChcSEwjdwsHDldvPAhWFHYEKHYEMA9YYABAW&amp;sig=AOD64_3NRTFyjFSL1RdJgFCn3E3IIhmjEQ&amp;ctype=4&amp;ved=0ahUKEwiw5LzDldvPAhWDWD4KHYFYCRQQpigIkwEoAQ&amp;adurl=\">\n",
      "            Products\n",
      "           </a>\n",
      "           -\n",
      "           <a href=\"http://www.google.com/aclk?sa=l&amp;ai=DChcSEwjdwsHDldvPAhWFHYEKHYEMA9YYABAX&amp;sig=AOD64_2VcYPK9l2X1VEwxC52gtFCJ4f5LQ&amp;ctype=4&amp;ved=0ahUKEwiw5LzDldvPAhWDWD4KHYFYCRQQpigIlAEoAg&amp;adurl=\">\n",
      "            About\n",
      "           </a>\n",
      "           -\n",
      "           <a href=\"http://www.google.com/aclk?sa=l&amp;ai=DChcSEwjdwsHDldvPAhWFHYEKHYEMA9YYABAY&amp;sig=AOD64_1kVboZM7VK1F4e73OS4b-3FCMNuQ&amp;ctype=4&amp;ved=0ahUKEwiw5LzDldvPAhWDWD4KHYFYCRQQpigIlQEoAw&amp;adurl=\">\n",
      "            Home\n",
      "           </a>\n",
      "          </div>\n",
      "         </li>\n",
      "         <li class=\"ads-ad\">\n",
      "          <h3 class=\"ellip\">\n",
      "           <a href=\"http://www.google.com/aclk?sa=l&amp;ai=DChcSEwjdwsHDldvPAhWFHYEKHYEMA9YYABAZ&amp;sig=AOD64_1zhzcSRStyIs7MbFMr5kksy-3AYw&amp;ved=0ahUKEwiw5LzDldvPAhWDWD4KHYFYCRQQ0QwIlwE&amp;adurl=\">\n",
      "            <b>\n",
      "             Data Scientist\n",
      "            </b>\n",
      "            Masters Program - Attend 100+ Online Batches.\n",
      "           </a>\n",
      "          </h3>\n",
      "          <div class=\"ads-visurl\">\n",
      "           <span class=\"_mB\">\n",
      "            Ad\n",
      "           </span>\n",
      "           <cite class=\"_WGk\">\n",
      "            www.simplilearn.com/\n",
      "            <b>\n",
      "             Data\n",
      "            </b>\n",
      "            _\n",
      "            <b>\n",
      "             Scientist\n",
      "            </b>\n",
      "            /Master_Program\n",
      "           </cite>\n",
      "           ‎\n",
      "           <div class=\"_nBb\">\n",
      "            <div aria-expanded=\"false\" aria-haspopup=\"true\" data-ved=\"0ahUKEwiw5LzDldvPAhWDWD4KHYFYCRQQ7B0ImAE\" onclick=\"google.sham(this);\" style=\"display:inline\" tabindex=\"0\">\n",
      "             <span class=\"_O0\">\n",
      "             </span>\n",
      "            </div>\n",
      "            <div class=\"am-dropdown-menu\" role=\"menu\" style=\"display:none\" tabindex=\"-1\">\n",
      "             <ul>\n",
      "              <li class=\"_Ykb\" style=\"margin:0\">\n",
      "               <a class=\"_Zkb\" href=\"/url?q=/settings/ads/preferences%3Fhl%3Den&amp;sa=U&amp;ved=0ahUKEwiw5LzDldvPAhWDWD4KHYFYCRQQgRMImgE&amp;usg=AFQjCNEAXNOZ62ka46D3FTH_48RcIwnQgw\" target=\"_blank\">\n",
      "                Why this ad?\n",
      "               </a>\n",
      "              </li>\n",
      "             </ul>\n",
      "            </div>\n",
      "           </div>\n",
      "          </div>\n",
      "          <div class=\"ads-creative ellip\">\n",
      "           Mentorship from Industry experts, industry-recommended learning path. Join Now!\n",
      "          </div>\n",
      "          <div>\n",
      "           Prog. Dr. Lillian Pierson · Creating 200K Data Sci.\n",
      "          </div>\n",
      "          <div class=\"_MEc\">\n",
      "           <a href=\"http://www.google.com/aclk?sa=l&amp;ai=DChcSEwjdwsHDldvPAhWFHYEKHYEMA9YYABAa&amp;sig=AOD64_3_TMeOm0EJ2NXK09tkwZVT_L2k0w&amp;ctype=4&amp;ved=0ahUKEwiw5LzDldvPAhWDWD4KHYFYCRQQpigInQEoAA&amp;adurl=\">\n",
      "            Big Data Masters Program\n",
      "           </a>\n",
      "           -\n",
      "           <a href=\"http://www.google.com/aclk?sa=l&amp;ai=DChcSEwjdwsHDldvPAhWFHYEKHYEMA9YYABAb&amp;sig=AOD64_3Hv2wUgQWTbgbId97USmrL1MjA3w&amp;ctype=4&amp;ved=0ahUKEwiw5LzDldvPAhWDWD4KHYFYCRQQpigIngEoAQ&amp;adurl=\">\n",
      "            Python Training\n",
      "           </a>\n",
      "           -\n",
      "           <a href=\"http://www.google.com/aclk?sa=l&amp;ai=DChcSEwjdwsHDldvPAhWFHYEKHYEMA9YYABAc&amp;sig=AOD64_3i7vaLSwJiGyiYJcE8X7SJV_r31g&amp;ctype=4&amp;ved=0ahUKEwiw5LzDldvPAhWDWD4KHYFYCRQQpigInwEoAg&amp;adurl=\">\n",
      "            Busi. Analyst with Excel\n",
      "           </a>\n",
      "          </div>\n",
      "         </li>\n",
      "        </ol>\n",
      "       </div>\n",
      "       <div style=\"clear:both;margin-bottom:17px;overflow:hidden\">\n",
      "        <div style=\"font-size:16px;padding:0 8px 1px\">\n",
      "         Searches related to\n",
      "         <b>\n",
      "          data science\n",
      "         </b>\n",
      "        </div>\n",
      "        <table border=\"0\" cellpadding=\"0\" cellspacing=\"0\">\n",
      "         <tbody>\n",
      "          <tr>\n",
      "           <td valign=\"top\">\n",
      "            <p class=\"_Bmc\" style=\"margin:3px 8px\">\n",
      "             <a href=\"/search?q=data+science+course&amp;sa=X&amp;ved=0ahUKEwiw5LzDldvPAhWDWD4KHYFYCRQQ1QIIogEoAA\">\n",
      "              data science\n",
      "              <b>\n",
      "               course\n",
      "              </b>\n",
      "             </a>\n",
      "            </p>\n",
      "           </td>\n",
      "           <td style=\"padding-left:10px\" valign=\"top\">\n",
      "            <p class=\"_Bmc\" style=\"margin:3px 8px\">\n",
      "             <a href=\"/search?q=data+science+coursera&amp;sa=X&amp;ved=0ahUKEwiw5LzDldvPAhWDWD4KHYFYCRQQ1QIIowEoAQ\">\n",
      "              data science\n",
      "              <b>\n",
      "               coursera\n",
      "              </b>\n",
      "             </a>\n",
      "            </p>\n",
      "           </td>\n",
      "          </tr>\n",
      "          <tr>\n",
      "           <td valign=\"top\">\n",
      "            <p class=\"_Bmc\" style=\"margin:3px 8px\">\n",
      "             <a href=\"/search?q=data+science+salary&amp;sa=X&amp;ved=0ahUKEwiw5LzDldvPAhWDWD4KHYFYCRQQ1QIIpAEoAg\">\n",
      "              data science\n",
      "              <b>\n",
      "               salary\n",
      "              </b>\n",
      "             </a>\n",
      "            </p>\n",
      "           </td>\n",
      "           <td style=\"padding-left:10px\" valign=\"top\">\n",
      "            <p class=\"_Bmc\" style=\"margin:3px 8px\">\n",
      "             <a href=\"/search?q=data+science+certification&amp;sa=X&amp;ved=0ahUKEwiw5LzDldvPAhWDWD4KHYFYCRQQ1QIIpQEoAw\">\n",
      "              data science\n",
      "              <b>\n",
      "               certification\n",
      "              </b>\n",
      "             </a>\n",
      "            </p>\n",
      "           </td>\n",
      "          </tr>\n",
      "          <tr>\n",
      "           <td valign=\"top\">\n",
      "            <p class=\"_Bmc\" style=\"margin:3px 8px\">\n",
      "             <a href=\"/search?q=data+science+degree&amp;sa=X&amp;ved=0ahUKEwiw5LzDldvPAhWDWD4KHYFYCRQQ1QIIpgEoBA\">\n",
      "              data science\n",
      "              <b>\n",
      "               degree\n",
      "              </b>\n",
      "             </a>\n",
      "            </p>\n",
      "           </td>\n",
      "           <td style=\"padding-left:10px\" valign=\"top\">\n",
      "            <p class=\"_Bmc\" style=\"margin:3px 8px\">\n",
      "             <a href=\"/search?q=data+science+pdf&amp;sa=X&amp;ved=0ahUKEwiw5LzDldvPAhWDWD4KHYFYCRQQ1QIIpwEoBQ\">\n",
      "              data science\n",
      "              <b>\n",
      "               pdf\n",
      "              </b>\n",
      "             </a>\n",
      "            </p>\n",
      "           </td>\n",
      "          </tr>\n",
      "          <tr>\n",
      "           <td valign=\"top\">\n",
      "            <p class=\"_Bmc\" style=\"margin:3px 8px\">\n",
      "             <a href=\"/search?q=data+science+definition&amp;sa=X&amp;ved=0ahUKEwiw5LzDldvPAhWDWD4KHYFYCRQQ1QIIqAEoBg\">\n",
      "              data science\n",
      "              <b>\n",
      "               definition\n",
      "              </b>\n",
      "             </a>\n",
      "            </p>\n",
      "           </td>\n",
      "           <td style=\"padding-left:10px\" valign=\"top\">\n",
      "            <p class=\"_Bmc\" style=\"margin:3px 8px\">\n",
      "             <a href=\"/search?q=data+science+books&amp;sa=X&amp;ved=0ahUKEwiw5LzDldvPAhWDWD4KHYFYCRQQ1QIIqQEoBw\">\n",
      "              data science\n",
      "              <b>\n",
      "               books\n",
      "              </b>\n",
      "             </a>\n",
      "            </p>\n",
      "           </td>\n",
      "          </tr>\n",
      "         </tbody>\n",
      "        </table>\n",
      "       </div>\n",
      "      </div>\n",
      "      <div id=\"foot\">\n",
      "       <table align=\"center\" border=\"0\" cellpadding=\"0\" cellspacing=\"0\" id=\"nav\">\n",
      "        <tbody>\n",
      "         <tr valign=\"top\">\n",
      "          <td align=\"left\" class=\"b\">\n",
      "           <span class=\"csb\" style=\"background-position:-24px 0;width:28px\">\n",
      "           </span>\n",
      "           <b>\n",
      "           </b>\n",
      "          </td>\n",
      "          <td>\n",
      "           <span class=\"csb\" style=\"background-position:-53px 0;width:20px\">\n",
      "           </span>\n",
      "           <b>\n",
      "            1\n",
      "           </b>\n",
      "          </td>\n",
      "          <td>\n",
      "           <a class=\"fl\" href=\"/search?q=data+science&amp;prmd=ivnsb&amp;ei=kEQBWLDcA4Ox-QGBsaWgAQ&amp;start=10&amp;sa=N\">\n",
      "            <span class=\"csb\" style=\"background-position:-74px 0;width:20px\">\n",
      "            </span>\n",
      "            2\n",
      "           </a>\n",
      "          </td>\n",
      "          <td>\n",
      "           <a class=\"fl\" href=\"/search?q=data+science&amp;prmd=ivnsb&amp;ei=kEQBWLDcA4Ox-QGBsaWgAQ&amp;start=20&amp;sa=N\">\n",
      "            <span class=\"csb\" style=\"background-position:-74px 0;width:20px\">\n",
      "            </span>\n",
      "            3\n",
      "           </a>\n",
      "          </td>\n",
      "          <td>\n",
      "           <a class=\"fl\" href=\"/search?q=data+science&amp;prmd=ivnsb&amp;ei=kEQBWLDcA4Ox-QGBsaWgAQ&amp;start=30&amp;sa=N\">\n",
      "            <span class=\"csb\" style=\"background-position:-74px 0;width:20px\">\n",
      "            </span>\n",
      "            4\n",
      "           </a>\n",
      "          </td>\n",
      "          <td>\n",
      "           <a class=\"fl\" href=\"/search?q=data+science&amp;prmd=ivnsb&amp;ei=kEQBWLDcA4Ox-QGBsaWgAQ&amp;start=40&amp;sa=N\">\n",
      "            <span class=\"csb\" style=\"background-position:-74px 0;width:20px\">\n",
      "            </span>\n",
      "            5\n",
      "           </a>\n",
      "          </td>\n",
      "          <td>\n",
      "           <a class=\"fl\" href=\"/search?q=data+science&amp;prmd=ivnsb&amp;ei=kEQBWLDcA4Ox-QGBsaWgAQ&amp;start=50&amp;sa=N\">\n",
      "            <span class=\"csb\" style=\"background-position:-74px 0;width:20px\">\n",
      "            </span>\n",
      "            6\n",
      "           </a>\n",
      "          </td>\n",
      "          <td>\n",
      "           <a class=\"fl\" href=\"/search?q=data+science&amp;prmd=ivnsb&amp;ei=kEQBWLDcA4Ox-QGBsaWgAQ&amp;start=60&amp;sa=N\">\n",
      "            <span class=\"csb\" style=\"background-position:-74px 0;width:20px\">\n",
      "            </span>\n",
      "            7\n",
      "           </a>\n",
      "          </td>\n",
      "          <td>\n",
      "           <a class=\"fl\" href=\"/search?q=data+science&amp;prmd=ivnsb&amp;ei=kEQBWLDcA4Ox-QGBsaWgAQ&amp;start=70&amp;sa=N\">\n",
      "            <span class=\"csb\" style=\"background-position:-74px 0;width:20px\">\n",
      "            </span>\n",
      "            8\n",
      "           </a>\n",
      "          </td>\n",
      "          <td>\n",
      "           <a class=\"fl\" href=\"/search?q=data+science&amp;prmd=ivnsb&amp;ei=kEQBWLDcA4Ox-QGBsaWgAQ&amp;start=80&amp;sa=N\">\n",
      "            <span class=\"csb\" style=\"background-position:-74px 0;width:20px\">\n",
      "            </span>\n",
      "            9\n",
      "           </a>\n",
      "          </td>\n",
      "          <td>\n",
      "           <a class=\"fl\" href=\"/search?q=data+science&amp;prmd=ivnsb&amp;ei=kEQBWLDcA4Ox-QGBsaWgAQ&amp;start=90&amp;sa=N\">\n",
      "            <span class=\"csb\" style=\"background-position:-74px 0;width:20px\">\n",
      "            </span>\n",
      "            10\n",
      "           </a>\n",
      "          </td>\n",
      "          <td class=\"b\" style=\"text-align:left\">\n",
      "           <a class=\"fl\" href=\"/search?q=data+science&amp;prmd=ivnsb&amp;ei=kEQBWLDcA4Ox-QGBsaWgAQ&amp;start=10&amp;sa=N\" style=\"text-align:left\">\n",
      "            <span class=\"csb\" style=\"background-position:-96px 0;width:71px\">\n",
      "            </span>\n",
      "            <span style=\"display:block;margin-left:53px\">\n",
      "             Next\n",
      "            </span>\n",
      "           </a>\n",
      "          </td>\n",
      "         </tr>\n",
      "        </tbody>\n",
      "       </table>\n",
      "       <p class=\"_cD\" id=\"bfl\" style=\"margin:19px 0 0;text-align:center\">\n",
      "        <a href=\"/advanced_search?q=data+science&amp;prmd=ivnsb\">\n",
      "         Advanced search\n",
      "        </a>\n",
      "        <a href=\"/support/websearch/bin/answer.py?answer=134479&amp;hl=en\">\n",
      "         Search Help\n",
      "        </a>\n",
      "        <a href=\"/tools/feedback/survey/html?productId=196&amp;query=data+science&amp;hl=en\">\n",
      "         Send feedback\n",
      "        </a>\n",
      "       </p>\n",
      "       <div class=\"_cD\" id=\"fll\" style=\"margin:19px auto 19px auto;text-align:center\">\n",
      "        <a href=\"/\">\n",
      "         Google Home\n",
      "        </a>\n",
      "        <a href=\"/intl/en/ads\">\n",
      "         Advertising Programs\n",
      "        </a>\n",
      "        <a href=\"/services\">\n",
      "         Business Solutions\n",
      "        </a>\n",
      "        <a href=\"/intl/en/policies/privacy/\">\n",
      "         Privacy\n",
      "        </a>\n",
      "        <a href=\"/intl/en/policies/terms/\">\n",
      "         Terms\n",
      "        </a>\n",
      "        <a href=\"/intl/en/about.html\">\n",
      "         About Google\n",
      "        </a>\n",
      "       </div>\n",
      "      </div>\n",
      "     </td>\n",
      "     <td id=\"rhs_block\" valign=\"top\">\n",
      "     </td>\n",
      "    </tr>\n",
      "   </tbody>\n",
      "  </table>\n",
      "  <script type=\"text/javascript\">\n",
      "   (function(){var eventid='kEQBWLDcA4Ox-QGBsaWgAQ';google.kEI = eventid;})();\n",
      "  </script>\n",
      "  <script src=\"/xjs/_/js/k=xjs.hp.en_US.OKd_GehDbVo.O/m=sb_he,d/rt=j/d=1/t=zcms/rs=ACT90oHqsFYagKUT1F8bn3nE4HJSQZWqTQ\">\n",
      "  </script>\n",
      "  <script type=\"text/javascript\">\n",
      "   google.ac&&google.ac.c({\"agen\":true,\"cgen\":true,\"client\":\"heirloom-serp\",\"dh\":true,\"dhqt\":true,\"ds\":\"\",\"fl\":true,\"host\":\"google.com\",\"isbh\":28,\"jam\":0,\"jsonp\":true,\"msgs\":{\"cibl\":\"Clear Search\",\"dym\":\"Did you mean:\",\"lcky\":\"I\\u0026#39;m Feeling Lucky\",\"lml\":\"Learn more\",\"oskt\":\"Input tools\",\"psrc\":\"This search was removed from your \\u003Ca href=\\\"/history\\\"\\u003EWeb History\\u003C/a\\u003E\",\"psrl\":\"Remove\",\"sbit\":\"Search by image\",\"srch\":\"Google Search\"},\"nds\":true,\"ovr\":{},\"pq\":\"data science\",\"refpd\":true,\"rfs\":[\"data science course\",\"data science salary\",\"data science degree\",\"data science definition\",\"data science coursera\",\"data science certification\",\"data science pdf\",\"data science books\"],\"scd\":10,\"sce\":5,\"stok\":\"PBIFXBuQZDPDQ-R-AaWvqLKJ3gI\"})\n",
      "  </script>\n",
      "  <table cellpadding=\"0\" cellspacing=\"0\" class=\"gstl_0 gssb_c\" style=\"width: 570px; display: none; top: 78px; left: 133px; position: absolute;\">\n",
      "   <tbody>\n",
      "    <tr>\n",
      "     <td class=\"gssb_f\">\n",
      "     </td>\n",
      "     <td class=\"gssb_e\" style=\"width: 100%;\">\n",
      "     </td>\n",
      "    </tr>\n",
      "   </tbody>\n",
      "  </table>\n",
      "  <script>\n",
      "   (function(){window.google.cdo={height:0,width:0};(function(){var a=window.innerWidth,b=window.innerHeight;if(!a||!b)var c=window.document,d=\"CSS1Compat\"==c.compatMode?c.documentElement:c.body,a=d.clientWidth,b=d.clientHeight;a&&b&&(a!=google.cdo.width||b!=google.cdo.height)&&google.log(\"\",\"\",\"/client_204?&atyp=i&biw=\"+a+\"&bih=\"+b+\"&ei=\"+google.kEI);})();})();\n",
      "  </script>\n",
      "  <script async=\"\" src=\"//ssl.gstatic.com/gb/js/sem_28ccd69532c2390ae661f0e31ef881fd.js\">\n",
      "  </script>\n",
      " </body>\n",
      "</html>\n"
     ]
    }
   ],
   "source": [
    "print soup3.prettify()"
   ]
  },
  {
   "cell_type": "code",
   "execution_count": null,
   "metadata": {
    "collapsed": false
   },
   "outputs": [],
   "source": []
  }
 ],
 "metadata": {
  "celltoolbar": "Slideshow",
  "kernelspec": {
   "display_name": "Python 2",
   "language": "python",
   "name": "python2"
  },
  "language_info": {
   "codemirror_mode": {
    "name": "ipython",
    "version": 2
   },
   "file_extension": ".py",
   "mimetype": "text/x-python",
   "name": "python",
   "nbconvert_exporter": "python",
   "pygments_lexer": "ipython2",
   "version": "2.7.12"
  }
 },
 "nbformat": 4,
 "nbformat_minor": 0
}
