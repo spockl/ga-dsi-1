{
 "cells": [
  {
   "cell_type": "code",
   "execution_count": 181,
   "metadata": {
    "ExecuteTime": {
     "end_time": "2016-10-11T12:15:00.436088",
     "start_time": "2016-10-11T12:15:00.416482"
    },
    "collapsed": true
   },
   "outputs": [],
   "source": [
    "from sklearn import datasets\n",
    "import pandas as pd\n",
    "import numpy as np\n",
    "from sklearn.cross_validation import train_test_split\n",
    "import seaborn as sns\n",
    "import matplotlib.pyplot as plt\n",
    "%matplotlib inline"
   ]
  },
  {
   "cell_type": "code",
   "execution_count": 182,
   "metadata": {
    "ExecuteTime": {
     "end_time": "2016-10-11T12:15:00.703397",
     "start_time": "2016-10-11T12:15:00.695969"
    },
    "collapsed": false
   },
   "outputs": [],
   "source": [
    "def calculate_distance(p, q):\n",
    "    \"\"\" Calculate Euclidean distance between two points.\"\"\"\n",
    "    # Assuming that there are only 2 dimensions to the points (e.g. x and y)\n",
    "    distance = np.sqrt((float(p[0])-float(q[0]))**2 + (float(p[1])-float(q[1]))**2 )\n",
    "    return distance"
   ]
  },
  {
   "cell_type": "code",
   "execution_count": 183,
   "metadata": {
    "ExecuteTime": {
     "end_time": "2016-10-11T12:15:00.848555",
     "start_time": "2016-10-11T12:15:00.838924"
    },
    "collapsed": false
   },
   "outputs": [
    {
     "data": {
      "text/plain": [
       "1.4142135623730951"
      ]
     },
     "execution_count": 183,
     "metadata": {},
     "output_type": "execute_result"
    }
   ],
   "source": [
    "calculate_distance([1,1], [2,2])"
   ]
  },
  {
   "cell_type": "code",
   "execution_count": 216,
   "metadata": {
    "ExecuteTime": {
     "end_time": "2016-10-11T12:30:26.585441",
     "start_time": "2016-10-11T12:30:26.560542"
    },
    "collapsed": false
   },
   "outputs": [],
   "source": [
    "def neighbor_vote(labels):\n",
    "    \"\"\" Get the majority label from k neighbors.\"\"\"\n",
    "    # Is it possible to have a tie? How would you handle that?\n",
    "    # labels should be a list of [label, distance]\n",
    "    \n",
    "    labels_only = [i[0] for i in labels]\n",
    "    # create a dictionary with key = labels and key = number of those labels\n",
    "    vote_dict = {i: labels_only.count(i) for i in labels_only}\n",
    "    \n",
    "    # create a list of the keys that have the max count\n",
    "    vote_list = [x for x,y in vote_dict.items() if y == max(vote_dict.values())]\n",
    "    \n",
    "    # dealing with distances\n",
    "    # if odd number of labels\n",
    "    if len(labels) % 2 != 0:\n",
    "        vote = vote_list[0]\n",
    "    \n",
    "    # if even number of labels\n",
    "    else:\n",
    "\n",
    "        # and the vote_list has more than 1 item\n",
    "        # class, count, total distance\n",
    "        if len(vote_list) > 1:\n",
    "            # create a dictionary with keys = labels with max counts and key = total distance of those labels\n",
    "            vote_dict_2 = {i: sum([x[1] for x in labels if x[0] == i]) for i in vote_list}\n",
    "            \n",
    "            # create a list of the keys that have the min distance\n",
    "            vote_list_2 = [x for x, y in vote_dict.items() if y == min(vote_dict_2.values())]\n",
    "            vote = vote_list_2[0]\n",
    "        else:\n",
    "            # if there's no tie, then just return whatever is in vote list\n",
    "            vote = vote_list[0]\n",
    "    return vote"
   ]
  },
  {
   "cell_type": "code",
   "execution_count": 270,
   "metadata": {
    "ExecuteTime": {
     "end_time": "2016-10-11T13:50:20.487593",
     "start_time": "2016-10-11T13:50:20.466581"
    },
    "collapsed": false
   },
   "outputs": [],
   "source": [
    "def knn_classifier(labeled_points, new_point, k):\n",
    "    \"\"\" Given classified points and one new point, return a prediction based on the votes of k neighbors.\"\"\"\n",
    "    # labeled points should be a df with columns [label, x, y]\n",
    "    df = labeled_points.copy()\n",
    "    df.columns = ['label', 'x', 'y']\n",
    "    df['distance'] = [calculate_distance([df.ix[i,'x'],\\\n",
    "                                                df.ix[i,'y']], new_point)\\\n",
    "                                  for i in range(len(df))]\n",
    "#     return df\n",
    "    df = df.sort_values(by='distance')\n",
    "    top_k = df.head(k)\n",
    "    top_k = top_k.reset_index(drop=True)\n",
    "    top_k_labels = [[top_k.ix[i, 'label'], top_k.ix[i, 'distance']] for i in range(k)]\n",
    "    #return top_k_labels\n",
    "    prediction = neighbor_vote(top_k_labels)\n",
    "    return prediction"
   ]
  },
  {
   "cell_type": "code",
   "execution_count": 271,
   "metadata": {
    "ExecuteTime": {
     "end_time": "2016-10-11T13:50:21.251206",
     "start_time": "2016-10-11T13:50:21.118778"
    },
    "collapsed": false
   },
   "outputs": [],
   "source": [
    "# import data\n",
    "iris = datasets.load_iris()\n",
    "X = iris.data[:100, :2]  # use the first two features and just the first two classes.\n",
    "y = iris.target[:100]\n",
    "X_train, X_test, y_train, y_test = train_test_split(X, y, test_size=0.30, random_state=42)\n",
    "\n",
    "# Split 70/30 into initial data and new points to classify\n",
    "training_df = pd.DataFrame({'feature1':X_train[:,0],'feature2':X_train[:,1],'class':y_train})\n",
    "test_df = pd.DataFrame({'feature1':X_test[:,0],'feature2':X_test[:,1],'class':y_test})"
   ]
  },
  {
   "cell_type": "code",
   "execution_count": 272,
   "metadata": {
    "ExecuteTime": {
     "end_time": "2016-10-11T13:50:21.502838",
     "start_time": "2016-10-11T13:50:21.481892"
    },
    "collapsed": false
   },
   "outputs": [
    {
     "data": {
      "text/html": [
       "<div>\n",
       "<table border=\"1\" class=\"dataframe\">\n",
       "  <thead>\n",
       "    <tr style=\"text-align: right;\">\n",
       "      <th></th>\n",
       "      <th>class</th>\n",
       "      <th>feature1</th>\n",
       "      <th>feature2</th>\n",
       "    </tr>\n",
       "  </thead>\n",
       "  <tbody>\n",
       "    <tr>\n",
       "      <th>0</th>\n",
       "      <td>0</td>\n",
       "      <td>4.8</td>\n",
       "      <td>3.4</td>\n",
       "    </tr>\n",
       "    <tr>\n",
       "      <th>1</th>\n",
       "      <td>0</td>\n",
       "      <td>4.6</td>\n",
       "      <td>3.2</td>\n",
       "    </tr>\n",
       "    <tr>\n",
       "      <th>2</th>\n",
       "      <td>1</td>\n",
       "      <td>6.0</td>\n",
       "      <td>3.4</td>\n",
       "    </tr>\n",
       "    <tr>\n",
       "      <th>3</th>\n",
       "      <td>0</td>\n",
       "      <td>5.2</td>\n",
       "      <td>3.4</td>\n",
       "    </tr>\n",
       "    <tr>\n",
       "      <th>4</th>\n",
       "      <td>1</td>\n",
       "      <td>5.0</td>\n",
       "      <td>2.3</td>\n",
       "    </tr>\n",
       "  </tbody>\n",
       "</table>\n",
       "</div>"
      ],
      "text/plain": [
       "   class  feature1  feature2\n",
       "0      0       4.8       3.4\n",
       "1      0       4.6       3.2\n",
       "2      1       6.0       3.4\n",
       "3      0       5.2       3.4\n",
       "4      1       5.0       2.3"
      ]
     },
     "execution_count": 272,
     "metadata": {},
     "output_type": "execute_result"
    }
   ],
   "source": [
    "training_df.head()"
   ]
  },
  {
   "cell_type": "code",
   "execution_count": 273,
   "metadata": {
    "ExecuteTime": {
     "end_time": "2016-10-11T13:50:22.513664",
     "start_time": "2016-10-11T13:50:22.358508"
    },
    "collapsed": false
   },
   "outputs": [],
   "source": [
    "\"\"\" Iteratively classify new points in test_df, based on the labeled points in training_df, and track your accuracy.\"\"\"\n",
    "kf =5\n",
    "test_df['predictions'] = [knn_classifier(training_df, [test_df.ix[i, 'feature1'],\\\n",
    "                                                       test_df.ix[i, 'feature2']], kf) for i in range(len(test_df))]\n",
    "\n",
    "# for i in range(len(test_df)):\n",
    "#     new = [test_df.ix[i, 'feature1'], test_df.ix[i, 'feature2']]\n",
    "#     print knn_classifier(training_df, new, 5)"
   ]
  },
  {
   "cell_type": "raw",
   "metadata": {
    "ExecuteTime": {
     "end_time": "2016-10-11T12:43:44.678130",
     "start_time": "2016-10-11T12:43:44.627080"
    }
   },
   "source": [
    "test_df"
   ]
  },
  {
   "cell_type": "code",
   "execution_count": 274,
   "metadata": {
    "ExecuteTime": {
     "end_time": "2016-10-11T13:50:24.184026",
     "start_time": "2016-10-11T13:50:23.728201"
    },
    "collapsed": false
   },
   "outputs": [
    {
     "data": {
      "image/png": "[encoded data removed]",
      "text/plain": [
       "<matplotlib.figure.Figure at 0x11d98d150>"
      ]
     },
     "metadata": {},
     "output_type": "display_data"
    }
   ],
   "source": [
    "\"\"\" BONUS: plot the labeled points and an example of a new point being classified.\"\"\"\n",
    "sns.pairplot(training_df,x_vars='feature1', y_vars='feature2', hue='class', size=6);\n",
    "test_point = 2\n",
    "new_x = test_df.ix[test_point, 'feature1']\n",
    "new_y = test_df.ix[test_point, 'feature2']\n",
    "plt.plot(new_x,new_y, 'ro');\n",
    "plt.annotate('Predicted class = {}'.format(test_df.ix[test_point, 'predictions']), (new_x+0.05,new_y+0.05));"
   ]
  },
  {
   "cell_type": "code",
   "execution_count": 285,
   "metadata": {
    "ExecuteTime": {
     "end_time": "2016-10-11T13:53:16.794353",
     "start_time": "2016-10-11T13:53:16.104411"
    },
    "collapsed": false
   },
   "outputs": [
    {
     "data": {
      "image/png": "[encoded data removed]",
      "text/plain": [
       "<matplotlib.figure.Figure at 0x11d68ad10>"
      ]
     },
     "metadata": {},
     "output_type": "display_data"
    }
   ],
   "source": [
    "\"\"\" BONUS: plot the labeled points and an example of a new point being classified.\"\"\"\n",
    "sns.pairplot(training_df,x_vars='feature1', y_vars='feature2', hue='class', markers='o', size=6);\n",
    "for i in range(len(test_df)):\n",
    "    new_x = test_df.ix[i, 'feature1']\n",
    "    new_y = test_df.ix[i, 'feature2']\n",
    "    if test_df.ix[i, 'predictions'] == 1:\n",
    "        plt.plot(new_x,new_y,'ro');\n",
    "    else:\n",
    "        plt.plot(new_x,new_y,'bo');\n",
    "#     plt.annotate('Predicted class = {}'.format(test_df.ix[test_point, 'predictions']), (new_x+0.05,new_y+0.05));"
   ]
  },
  {
   "cell_type": "code",
   "execution_count": null,
   "metadata": {
    "collapsed": true
   },
   "outputs": [],
   "source": []
  },
  {
   "cell_type": "code",
   "execution_count": null,
   "metadata": {
    "collapsed": true
   },
   "outputs": [],
   "source": []
  }
 ],
 "metadata": {
  "kernelspec": {
   "display_name": "Python 2",
   "language": "python",
   "name": "python2"
  },
  "language_info": {
   "codemirror_mode": {
    "name": "ipython",
    "version": 2
   },
   "file_extension": ".py",
   "mimetype": "text/x-python",
   "name": "python",
   "nbconvert_exporter": "python",
   "pygments_lexer": "ipython2",
   "version": "2.7.12"
  }
 },
 "nbformat": 4,
 "nbformat_minor": 0
}
