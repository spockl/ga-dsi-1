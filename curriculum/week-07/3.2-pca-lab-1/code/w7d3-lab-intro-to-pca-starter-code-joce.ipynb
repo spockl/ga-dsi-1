{
 "cells": [
  {
   "cell_type": "code",
   "execution_count": 133,
   "metadata": {
    "collapsed": true
   },
   "outputs": [],
   "source": [
    "import pandas as pd\n",
    "import numpy as np\n",
    "import os\n",
    "from matplotlib import pyplot as plts\n",
    "import seaborn as sns\n",
    "import numpy as np\n",
    "import math\n",
    "from sklearn.preprocessing import StandardScaler, LabelEncoder\n",
    "from sklearn.decomposition import PCA \n",
    "from sklearn import model_selection\n",
    "from sklearn import linear_model, metrics\n",
    "\n",
    "votes_file = '../assets/datasets/votes.csv'\n",
    "airport_file = '../assets/datasets/Airport_operations.csv'"
   ]
  },
  {
   "cell_type": "code",
   "execution_count": 35,
   "metadata": {
    "collapsed": true
   },
   "outputs": [],
   "source": [
    "%matplotlib inline"
   ]
  },
  {
   "cell_type": "markdown",
   "metadata": {},
   "source": [
    "# Case #1: Congressional Voting Data"
   ]
  },
  {
   "cell_type": "markdown",
   "metadata": {},
   "source": [
    "After you've downloaded the data from the repository, go ahead and load it with Pandas"
   ]
  },
  {
   "cell_type": "code",
   "execution_count": 84,
   "metadata": {
    "collapsed": false
   },
   "outputs": [],
   "source": [
    "vote_df = pd.read_csv(votes_file).iloc[:,1:]"
   ]
  },
  {
   "cell_type": "code",
   "execution_count": 85,
   "metadata": {
    "collapsed": false
   },
   "outputs": [
    {
     "data": {
      "text/html": [
       "<div>\n",
       "<table border=\"1\" class=\"dataframe\">\n",
       "  <thead>\n",
       "    <tr style=\"text-align: right;\">\n",
       "      <th></th>\n",
       "      <th>Class</th>\n",
       "      <th>V1</th>\n",
       "      <th>V2</th>\n",
       "      <th>V3</th>\n",
       "      <th>V4</th>\n",
       "      <th>V5</th>\n",
       "      <th>V6</th>\n",
       "      <th>V7</th>\n",
       "      <th>V8</th>\n",
       "      <th>V9</th>\n",
       "      <th>V10</th>\n",
       "      <th>V11</th>\n",
       "      <th>V12</th>\n",
       "      <th>V13</th>\n",
       "      <th>V14</th>\n",
       "      <th>V15</th>\n",
       "      <th>V16</th>\n",
       "    </tr>\n",
       "  </thead>\n",
       "  <tbody>\n",
       "    <tr>\n",
       "      <th>0</th>\n",
       "      <td>republican</td>\n",
       "      <td>n</td>\n",
       "      <td>y</td>\n",
       "      <td>n</td>\n",
       "      <td>y</td>\n",
       "      <td>y</td>\n",
       "      <td>y</td>\n",
       "      <td>n</td>\n",
       "      <td>n</td>\n",
       "      <td>n</td>\n",
       "      <td>y</td>\n",
       "      <td>NaN</td>\n",
       "      <td>y</td>\n",
       "      <td>y</td>\n",
       "      <td>y</td>\n",
       "      <td>n</td>\n",
       "      <td>y</td>\n",
       "    </tr>\n",
       "    <tr>\n",
       "      <th>1</th>\n",
       "      <td>republican</td>\n",
       "      <td>n</td>\n",
       "      <td>y</td>\n",
       "      <td>n</td>\n",
       "      <td>y</td>\n",
       "      <td>y</td>\n",
       "      <td>y</td>\n",
       "      <td>n</td>\n",
       "      <td>n</td>\n",
       "      <td>n</td>\n",
       "      <td>n</td>\n",
       "      <td>n</td>\n",
       "      <td>y</td>\n",
       "      <td>y</td>\n",
       "      <td>y</td>\n",
       "      <td>n</td>\n",
       "      <td>NaN</td>\n",
       "    </tr>\n",
       "    <tr>\n",
       "      <th>2</th>\n",
       "      <td>democrat</td>\n",
       "      <td>NaN</td>\n",
       "      <td>y</td>\n",
       "      <td>y</td>\n",
       "      <td>NaN</td>\n",
       "      <td>y</td>\n",
       "      <td>y</td>\n",
       "      <td>n</td>\n",
       "      <td>n</td>\n",
       "      <td>n</td>\n",
       "      <td>n</td>\n",
       "      <td>y</td>\n",
       "      <td>n</td>\n",
       "      <td>y</td>\n",
       "      <td>y</td>\n",
       "      <td>n</td>\n",
       "      <td>n</td>\n",
       "    </tr>\n",
       "    <tr>\n",
       "      <th>3</th>\n",
       "      <td>democrat</td>\n",
       "      <td>n</td>\n",
       "      <td>y</td>\n",
       "      <td>y</td>\n",
       "      <td>n</td>\n",
       "      <td>NaN</td>\n",
       "      <td>y</td>\n",
       "      <td>n</td>\n",
       "      <td>n</td>\n",
       "      <td>n</td>\n",
       "      <td>n</td>\n",
       "      <td>y</td>\n",
       "      <td>n</td>\n",
       "      <td>y</td>\n",
       "      <td>n</td>\n",
       "      <td>n</td>\n",
       "      <td>y</td>\n",
       "    </tr>\n",
       "    <tr>\n",
       "      <th>4</th>\n",
       "      <td>democrat</td>\n",
       "      <td>y</td>\n",
       "      <td>y</td>\n",
       "      <td>y</td>\n",
       "      <td>n</td>\n",
       "      <td>y</td>\n",
       "      <td>y</td>\n",
       "      <td>n</td>\n",
       "      <td>n</td>\n",
       "      <td>n</td>\n",
       "      <td>n</td>\n",
       "      <td>y</td>\n",
       "      <td>NaN</td>\n",
       "      <td>y</td>\n",
       "      <td>y</td>\n",
       "      <td>y</td>\n",
       "      <td>y</td>\n",
       "    </tr>\n",
       "  </tbody>\n",
       "</table>\n",
       "</div>"
      ],
      "text/plain": [
       "        Class   V1 V2 V3   V4   V5 V6 V7 V8 V9 V10  V11  V12 V13 V14 V15  V16\n",
       "0  republican    n  y  n    y    y  y  n  n  n   y  NaN    y   y   y   n    y\n",
       "1  republican    n  y  n    y    y  y  n  n  n   n    n    y   y   y   n  NaN\n",
       "2    democrat  NaN  y  y  NaN    y  y  n  n  n   n    y    n   y   y   n    n\n",
       "3    democrat    n  y  y    n  NaN  y  n  n  n   n    y    n   y   n   n    y\n",
       "4    democrat    y  y  y    n    y  y  n  n  n   n    y  NaN   y   y   y    y"
      ]
     },
     "execution_count": 85,
     "metadata": {},
     "output_type": "execute_result"
    }
   ],
   "source": [
    "vote_df.head()"
   ]
  },
  {
   "cell_type": "markdown",
   "metadata": {},
   "source": [
    "Next, let's define the x and y variables: "
   ]
  },
  {
   "cell_type": "code",
   "execution_count": 86,
   "metadata": {
    "collapsed": false
   },
   "outputs": [],
   "source": [
    "vote_df.replace(\"n\", 0, inplace=True)\n",
    "vote_df.replace(\"y\", 1, inplace=True)"
   ]
  },
  {
   "cell_type": "code",
   "execution_count": 87,
   "metadata": {
    "collapsed": true
   },
   "outputs": [],
   "source": [
    "# Assumption: if values are NaN, treat as 0\n",
    "vote_df.fillna(0, inplace=True)"
   ]
  },
  {
   "cell_type": "code",
   "execution_count": 88,
   "metadata": {
    "collapsed": false
   },
   "outputs": [],
   "source": [
    "X = vote_df[[i for i in vote_df.columns if \"V\" in i]]\n",
    "scaler = StandardScaler()\n",
    "X_scaled = scaler.fit_transform(X)"
   ]
  },
  {
   "cell_type": "code",
   "execution_count": 89,
   "metadata": {
    "collapsed": true
   },
   "outputs": [],
   "source": [
    "y = vote_df[\"Class\"]"
   ]
  },
  {
   "cell_type": "markdown",
   "metadata": {},
   "source": [
    "Next, create the covariance matrix from the standardized x-values and decompose these values to find the eigenvalues and eigenvectors"
   ]
  },
  {
   "cell_type": "code",
   "execution_count": 90,
   "metadata": {
    "collapsed": true
   },
   "outputs": [],
   "source": [
    "cov_mat = np.cov(X_scaled.T)"
   ]
  },
  {
   "cell_type": "code",
   "execution_count": 91,
   "metadata": {
    "collapsed": true
   },
   "outputs": [],
   "source": [
    "eigenvalues, eigenvectors = np.linalg.eig(cov_mat)"
   ]
  },
  {
   "cell_type": "markdown",
   "metadata": {},
   "source": [
    "Now, let's check the eigenvalues: "
   ]
  },
  {
   "cell_type": "code",
   "execution_count": 92,
   "metadata": {
    "collapsed": false
   },
   "outputs": [
    {
     "data": {
      "text/plain": [
       "array([ 7.102243  ,  1.44867882,  1.1998064 ,  0.88126251,  0.8248454 ,\n",
       "        0.7380054 ,  0.14086407,  0.21188391,  0.61036665,  0.27622346,\n",
       "        0.31858994,  0.35967328,  0.41340487,  0.54030753,  0.51431461,\n",
       "        0.45639653])"
      ]
     },
     "execution_count": 92,
     "metadata": {},
     "output_type": "execute_result"
    }
   ],
   "source": [
    "eigenvalues"
   ]
  },
  {
   "cell_type": "markdown",
   "metadata": {},
   "source": [
    "And the eigenvectors: "
   ]
  },
  {
   "cell_type": "code",
   "execution_count": 93,
   "metadata": {
    "collapsed": false
   },
   "outputs": [
    {
     "data": {
      "text/plain": [
       "array([[-0.18803934, -0.19357121,  0.07328808,  0.51751543,  0.35845006,\n",
       "         0.62089874, -0.05713493, -0.00747574,  0.15602045, -0.03613906,\n",
       "        -0.07010134, -0.20296072,  0.12290505,  0.07348099,  0.20525446,\n",
       "        -0.04760145],\n",
       "       [ 0.05231849, -0.5860793 , -0.23045319,  0.37516036,  0.12646973,\n",
       "        -0.55398342,  0.01855198, -0.10910015,  0.10486865,  0.0799821 ,\n",
       "         0.0801356 , -0.13259865, -0.06581724,  0.07925709, -0.00808044,\n",
       "         0.26963501]])"
      ]
     },
     "execution_count": 93,
     "metadata": {},
     "output_type": "execute_result"
    }
   ],
   "source": [
    "eigenvectors[:2]"
   ]
  },
  {
   "cell_type": "markdown",
   "metadata": {},
   "source": [
    "To find the principal componants, find the eigenpairs, and sort them from highest to lowest. "
   ]
  },
  {
   "cell_type": "code",
   "execution_count": 94,
   "metadata": {
    "collapsed": true
   },
   "outputs": [],
   "source": [
    "eigenpairs = [(np.abs(eigenvalues[i]), eigenvectors[:,i]) for i,_ in enumerate(eigenvalues)]"
   ]
  },
  {
   "cell_type": "code",
   "execution_count": 95,
   "metadata": {
    "collapsed": true
   },
   "outputs": [],
   "source": [
    "eigenpairs.sort(reverse=True)"
   ]
  },
  {
   "cell_type": "code",
   "execution_count": 96,
   "metadata": {
    "collapsed": false
   },
   "outputs": [
    {
     "data": {
      "text/plain": [
       "[(7.1022429960917224,\n",
       "  array([-0.18803934,  0.05231849, -0.29660826,  0.31510691,  0.33401889,\n",
       "          0.26716267, -0.29182075, -0.32681104, -0.29287877,  0.01359228,\n",
       "         -0.07112483,  0.28929338,  0.27553751,  0.28769832, -0.24744034,\n",
       "         -0.07138452])),\n",
       " (1.4486788186332433,\n",
       "  array([-0.19357121, -0.5860793 , -0.08013044,  0.1422561 , -0.0385968 ,\n",
       "         -0.07972083,  0.19643052,  0.0725546 ,  0.18058669,  0.37071451,\n",
       "         -0.4880378 ,  0.15955659, -0.06114016,  0.14238328, -0.0173265 ,\n",
       "          0.28757258])),\n",
       " (1.1998063964339241,\n",
       "  array([ 0.07328808, -0.23045319, -0.16884543,  0.07340739, -0.02237429,\n",
       "         -0.25992991, -0.04588376, -0.07536811, -0.00924878, -0.57391342,\n",
       "         -0.44655414,  0.01496153, -0.14476793, -0.13711492, -0.01321806,\n",
       "         -0.51258496])),\n",
       " (0.88126250977162979,\n",
       "  array([ 0.51751543,  0.37516036, -0.01308925,  0.13936979,  0.09559165,\n",
       "         -0.19341153,  0.09917934,  0.00111245,  0.03611105, -0.15274865,\n",
       "         -0.38257418, -0.04203207,  0.12948346,  0.00581328, -0.29871419,\n",
       "          0.48647494])),\n",
       " (0.82484540030574582,\n",
       "  array([ 0.35845006,  0.12646973,  0.10990706, -0.00770719, -0.01349543,\n",
       "          0.03386373,  0.00585422,  0.08663186,  0.01701353,  0.60726484,\n",
       "         -0.2003779 , -0.07669119,  0.04813455,  0.03355151, -0.2442241 ,\n",
       "         -0.59693453]))]"
      ]
     },
     "execution_count": 96,
     "metadata": {},
     "output_type": "execute_result"
    }
   ],
   "source": [
    "eigenpairs[:5]"
   ]
  },
  {
   "cell_type": "markdown",
   "metadata": {
    "collapsed": true
   },
   "source": [
    "Now, calculate the explained variance. Recall the methods we learned in lesson 2.2!"
   ]
  },
  {
   "cell_type": "markdown",
   "metadata": {},
   "source": [
    "Now, calculate the explained variance and the Cumulative explained variance"
   ]
  },
  {
   "cell_type": "code",
   "execution_count": 97,
   "metadata": {
    "collapsed": false
   },
   "outputs": [
    {
     "name": "stdout",
     "output_type": "stream",
     "text": [
      "[ 44.286975    53.32040327  60.80195465  66.29718352  71.44061604\n",
      "  76.04254625  79.84856815  83.21772715  86.42480392  89.27072481\n",
      "  91.8485655   94.09135577  96.07796544  97.80039334  99.12162345 100.        ]\n"
     ]
    }
   ],
   "source": [
    "tot = sum(eigenvalues)\n",
    "var_exp = [(i / tot)*100 for i in sorted(eigenvalues, reverse=True)]\n",
    "cum_var_exp = np.cumsum(var_exp)\n",
    "print cum_var_exp"
   ]
  },
  {
   "cell_type": "code",
   "execution_count": 98,
   "metadata": {
    "collapsed": false
   },
   "outputs": [
    {
     "data": {
      "image/png": "[encoded data removed]",
      "text/plain": [
       "<matplotlib.figure.Figure at 0x11ebe87d0>"
      ]
     },
     "metadata": {},
     "output_type": "display_data"
    }
   ],
   "source": [
    "plt.plot(range(1,len(cum_var_exp)+1), cum_var_exp);\n",
    "plt.ylim(0,100);"
   ]
  },
  {
   "cell_type": "markdown",
   "metadata": {},
   "source": [
    "Now, conduct a PCA using scikit learn\n",
    "\n",
    "http://scikit-learn.org/stable/modules/generated/sklearn.decomposition.PCA.html"
   ]
  },
  {
   "cell_type": "code",
   "execution_count": 39,
   "metadata": {
    "collapsed": true
   },
   "outputs": [],
   "source": [
    "p = PCA(n_components=5)"
   ]
  },
  {
   "cell_type": "code",
   "execution_count": 40,
   "metadata": {
    "collapsed": true
   },
   "outputs": [],
   "source": [
    "X_decomposed = p.fit_transform(X_scaled)"
   ]
  },
  {
   "cell_type": "code",
   "execution_count": 45,
   "metadata": {
    "collapsed": false
   },
   "outputs": [
    {
     "data": {
      "text/plain": [
       "array([[-0.18803934,  0.05231849, -0.29660826,  0.31510691,  0.33401889,\n",
       "         0.26716267, -0.29182075, -0.32681104, -0.29287877,  0.01359228,\n",
       "        -0.07112483,  0.28929338,  0.27553751,  0.28769832, -0.24744034,\n",
       "        -0.07138452],\n",
       "       [ 0.19357121,  0.5860793 ,  0.08013044, -0.1422561 ,  0.0385968 ,\n",
       "         0.07972083, -0.19643052, -0.0725546 , -0.18058669, -0.37071451,\n",
       "         0.4880378 , -0.15955659,  0.06114016, -0.14238328,  0.0173265 ,\n",
       "        -0.28757258],\n",
       "       [ 0.07328808, -0.23045319, -0.16884543,  0.07340739, -0.02237429,\n",
       "        -0.25992991, -0.04588376, -0.07536811, -0.00924878, -0.57391342,\n",
       "        -0.44655414,  0.01496153, -0.14476793, -0.13711492, -0.01321806,\n",
       "        -0.51258496],\n",
       "       [-0.51751543, -0.37516036,  0.01308925, -0.13936979, -0.09559165,\n",
       "         0.19341153, -0.09917934, -0.00111245, -0.03611105,  0.15274865,\n",
       "         0.38257418,  0.04203207, -0.12948346, -0.00581328,  0.29871419,\n",
       "        -0.48647494],\n",
       "       [ 0.35845006,  0.12646973,  0.10990706, -0.00770719, -0.01349543,\n",
       "         0.03386373,  0.00585422,  0.08663186,  0.01701353,  0.60726484,\n",
       "        -0.2003779 , -0.07669119,  0.04813455,  0.03355151, -0.2442241 ,\n",
       "        -0.59693453]])"
      ]
     },
     "execution_count": 45,
     "metadata": {},
     "output_type": "execute_result"
    }
   ],
   "source": [
    "p.components_"
   ]
  },
  {
   "cell_type": "markdown",
   "metadata": {},
   "source": [
    "# Case #2: Airport Delays"
   ]
  },
  {
   "cell_type": "code",
   "execution_count": 99,
   "metadata": {
    "collapsed": true
   },
   "outputs": [],
   "source": [
    "airport_df = pd.read_csv(airport_file)"
   ]
  },
  {
   "cell_type": "code",
   "execution_count": 100,
   "metadata": {
    "collapsed": false
   },
   "outputs": [
    {
     "data": {
      "text/html": [
       "<div>\n",
       "<table border=\"1\" class=\"dataframe\">\n",
       "  <thead>\n",
       "    <tr style=\"text-align: right;\">\n",
       "      <th></th>\n",
       "      <th>airport</th>\n",
       "      <th>year</th>\n",
       "      <th>departures for metric computation</th>\n",
       "      <th>arrivals for metric computation</th>\n",
       "      <th>percent on-time gate departures</th>\n",
       "      <th>percent on-time airport departures</th>\n",
       "      <th>percent on-time gate arrivals</th>\n",
       "      <th>average_gate_departure_delay</th>\n",
       "      <th>average_taxi_out_time</th>\n",
       "      <th>average taxi out delay</th>\n",
       "      <th>average airport departure delay</th>\n",
       "      <th>average airborne delay</th>\n",
       "      <th>average taxi in delay</th>\n",
       "      <th>average block delay</th>\n",
       "      <th>average gate arrival delay</th>\n",
       "    </tr>\n",
       "  </thead>\n",
       "  <tbody>\n",
       "    <tr>\n",
       "      <th>0</th>\n",
       "      <td>ABQ</td>\n",
       "      <td>2004</td>\n",
       "      <td>53971</td>\n",
       "      <td>53818</td>\n",
       "      <td>0.8030</td>\n",
       "      <td>0.7809</td>\n",
       "      <td>0.7921</td>\n",
       "      <td>10.38</td>\n",
       "      <td>9.89</td>\n",
       "      <td>2.43</td>\n",
       "      <td>12.10</td>\n",
       "      <td>2.46</td>\n",
       "      <td>0.83</td>\n",
       "      <td>2.55</td>\n",
       "      <td>10.87</td>\n",
       "    </tr>\n",
       "    <tr>\n",
       "      <th>1</th>\n",
       "      <td>ABQ</td>\n",
       "      <td>2005</td>\n",
       "      <td>51829</td>\n",
       "      <td>51877</td>\n",
       "      <td>0.8140</td>\n",
       "      <td>0.7922</td>\n",
       "      <td>0.8001</td>\n",
       "      <td>9.60</td>\n",
       "      <td>9.79</td>\n",
       "      <td>2.29</td>\n",
       "      <td>11.20</td>\n",
       "      <td>2.26</td>\n",
       "      <td>0.89</td>\n",
       "      <td>2.34</td>\n",
       "      <td>10.24</td>\n",
       "    </tr>\n",
       "    <tr>\n",
       "      <th>2</th>\n",
       "      <td>ABQ</td>\n",
       "      <td>2006</td>\n",
       "      <td>49682</td>\n",
       "      <td>51199</td>\n",
       "      <td>0.7983</td>\n",
       "      <td>0.7756</td>\n",
       "      <td>0.7746</td>\n",
       "      <td>10.84</td>\n",
       "      <td>9.89</td>\n",
       "      <td>2.16</td>\n",
       "      <td>12.33</td>\n",
       "      <td>2.12</td>\n",
       "      <td>0.84</td>\n",
       "      <td>2.66</td>\n",
       "      <td>11.82</td>\n",
       "    </tr>\n",
       "    <tr>\n",
       "      <th>3</th>\n",
       "      <td>ABQ</td>\n",
       "      <td>2007</td>\n",
       "      <td>53255</td>\n",
       "      <td>53611</td>\n",
       "      <td>0.8005</td>\n",
       "      <td>0.7704</td>\n",
       "      <td>0.7647</td>\n",
       "      <td>11.29</td>\n",
       "      <td>10.34</td>\n",
       "      <td>2.40</td>\n",
       "      <td>12.95</td>\n",
       "      <td>2.19</td>\n",
       "      <td>1.29</td>\n",
       "      <td>3.06</td>\n",
       "      <td>12.71</td>\n",
       "    </tr>\n",
       "    <tr>\n",
       "      <th>4</th>\n",
       "      <td>ABQ</td>\n",
       "      <td>2008</td>\n",
       "      <td>49589</td>\n",
       "      <td>49512</td>\n",
       "      <td>0.8103</td>\n",
       "      <td>0.7844</td>\n",
       "      <td>0.7875</td>\n",
       "      <td>10.79</td>\n",
       "      <td>10.41</td>\n",
       "      <td>2.41</td>\n",
       "      <td>12.32</td>\n",
       "      <td>1.82</td>\n",
       "      <td>1.03</td>\n",
       "      <td>2.79</td>\n",
       "      <td>11.48</td>\n",
       "    </tr>\n",
       "  </tbody>\n",
       "</table>\n",
       "</div>"
      ],
      "text/plain": [
       "  airport  year  departures for metric computation  \\\n",
       "0     ABQ  2004                              53971   \n",
       "1     ABQ  2005                              51829   \n",
       "2     ABQ  2006                              49682   \n",
       "3     ABQ  2007                              53255   \n",
       "4     ABQ  2008                              49589   \n",
       "\n",
       "   arrivals for metric computation  percent on-time gate departures  \\\n",
       "0                            53818                           0.8030   \n",
       "1                            51877                           0.8140   \n",
       "2                            51199                           0.7983   \n",
       "3                            53611                           0.8005   \n",
       "4                            49512                           0.8103   \n",
       "\n",
       "   percent on-time airport departures  percent on-time gate arrivals  \\\n",
       "0                              0.7809                         0.7921   \n",
       "1                              0.7922                         0.8001   \n",
       "2                              0.7756                         0.7746   \n",
       "3                              0.7704                         0.7647   \n",
       "4                              0.7844                         0.7875   \n",
       "\n",
       "   average_gate_departure_delay  average_taxi_out_time  \\\n",
       "0                         10.38                   9.89   \n",
       "1                          9.60                   9.79   \n",
       "2                         10.84                   9.89   \n",
       "3                         11.29                  10.34   \n",
       "4                         10.79                  10.41   \n",
       "\n",
       "   average taxi out delay  average airport departure delay  \\\n",
       "0                    2.43                            12.10   \n",
       "1                    2.29                            11.20   \n",
       "2                    2.16                            12.33   \n",
       "3                    2.40                            12.95   \n",
       "4                    2.41                            12.32   \n",
       "\n",
       "   average airborne delay  average taxi in delay  average block delay  \\\n",
       "0                    2.46                   0.83                 2.55   \n",
       "1                    2.26                   0.89                 2.34   \n",
       "2                    2.12                   0.84                 2.66   \n",
       "3                    2.19                   1.29                 3.06   \n",
       "4                    1.82                   1.03                 2.79   \n",
       "\n",
       "   average gate arrival delay  \n",
       "0                       10.87  \n",
       "1                       10.24  \n",
       "2                       11.82  \n",
       "3                       12.71  \n",
       "4                       11.48  "
      ]
     },
     "execution_count": 100,
     "metadata": {},
     "output_type": "execute_result"
    }
   ],
   "source": [
    "airport_df.head()"
   ]
  },
  {
   "cell_type": "markdown",
   "metadata": {},
   "source": [
    "First, let's define the x and y variables: Airport is going to be our target variable"
   ]
  },
  {
   "cell_type": "code",
   "execution_count": 101,
   "metadata": {
    "collapsed": true
   },
   "outputs": [],
   "source": [
    "le = LabelEncoder()\n",
    "y = le.fit_transform(airport_df[\"airport\"])"
   ]
  },
  {
   "cell_type": "code",
   "execution_count": 102,
   "metadata": {
    "collapsed": true
   },
   "outputs": [],
   "source": [
    "X = airport_df.iloc[:,1:]"
   ]
  },
  {
   "cell_type": "markdown",
   "metadata": {},
   "source": [
    "Then, standardize the x variable for analysis"
   ]
  },
  {
   "cell_type": "code",
   "execution_count": 103,
   "metadata": {
    "collapsed": false
   },
   "outputs": [],
   "source": [
    "scaler = StandardScaler()"
   ]
  },
  {
   "cell_type": "code",
   "execution_count": 104,
   "metadata": {
    "collapsed": true
   },
   "outputs": [],
   "source": [
    "X_scaled = scaler.fit_transform(X)"
   ]
  },
  {
   "cell_type": "markdown",
   "metadata": {},
   "source": [
    "Next, create the covariance matrix from the standardized x-values and decompose these values to find the eigenvalues and eigenvectors"
   ]
  },
  {
   "cell_type": "code",
   "execution_count": 105,
   "metadata": {
    "collapsed": false
   },
   "outputs": [],
   "source": [
    "cov_mat = np.cov(X_scaled.T)"
   ]
  },
  {
   "cell_type": "markdown",
   "metadata": {},
   "source": [
    "Then, check your eigenvalues and eigenvectors:"
   ]
  },
  {
   "cell_type": "code",
   "execution_count": 106,
   "metadata": {
    "collapsed": true
   },
   "outputs": [],
   "source": [
    "eigenvalues, eigenvectors = np.linalg.eig(cov_mat)"
   ]
  },
  {
   "cell_type": "markdown",
   "metadata": {},
   "source": [
    "To find the principal components, find the eigenpairs, and sort them from highest to lowest. "
   ]
  },
  {
   "cell_type": "code",
   "execution_count": 107,
   "metadata": {
    "collapsed": true
   },
   "outputs": [],
   "source": [
    "eigenpairs = [(np.abs(eigenvalues[i]), eigenvectors[:,i]) for i,_ in enumerate(eigenvalues)]"
   ]
  },
  {
   "cell_type": "markdown",
   "metadata": {},
   "source": [
    "Next, Calculate the explained variance"
   ]
  },
  {
   "cell_type": "code",
   "execution_count": 108,
   "metadata": {
    "collapsed": false
   },
   "outputs": [],
   "source": [
    "tot = sum(eigenvalues)\n",
    "var_exp = [ (i/tot * 100) for i in sorted(eigenvalues, reverse=True)]\n",
    "cum_var_exp = np.cumsum(var_exp)"
   ]
  },
  {
   "cell_type": "code",
   "execution_count": 109,
   "metadata": {
    "collapsed": false
   },
   "outputs": [
    {
     "data": {
      "image/png": "[encoded data removed]",
      "text/plain": [
       "<matplotlib.figure.Figure at 0x11d7be590>"
      ]
     },
     "metadata": {},
     "output_type": "display_data"
    }
   ],
   "source": [
    "plt.plot(np.arange(1,len(cum_var_exp)+1), cum_var_exp);\n",
    "plt.ylim(0,100);"
   ]
  },
  {
   "cell_type": "code",
   "execution_count": 110,
   "metadata": {
    "collapsed": false
   },
   "outputs": [
    {
     "data": {
      "image/png": "[encoded data removed]",
      "text/plain": [
       "<matplotlib.figure.Figure at 0x11de27410>"
      ]
     },
     "metadata": {},
     "output_type": "display_data"
    }
   ],
   "source": [
    "test = [0]\n",
    "test.extend(cum_var_exp)\n",
    "plt.plot(test);"
   ]
  },
  {
   "cell_type": "markdown",
   "metadata": {},
   "source": [
    "Finally, conduct the PCA - use the results above to guide your selection of n components"
   ]
  },
  {
   "cell_type": "code",
   "execution_count": 114,
   "metadata": {
    "collapsed": false
   },
   "outputs": [],
   "source": [
    "W = np.hstack((eigenpairs[0][1].reshape(len(eigenpairs),1), \n",
    "              eigenpairs[1][1].reshape(len(eigenpairs),1)))"
   ]
  },
  {
   "cell_type": "code",
   "execution_count": 115,
   "metadata": {
    "collapsed": false
   },
   "outputs": [
    {
     "data": {
      "text/plain": [
       "array([[-0.05747614,  0.05252557],\n",
       "       [ 0.11683294, -0.41190929],\n",
       "       [ 0.1164079 , -0.41158191],\n",
       "       [-0.31455588, -0.25353041],\n",
       "       [-0.37512831, -0.07870829],\n",
       "       [-0.31944346, -0.25961871],\n",
       "       [ 0.3394426 ,  0.21205574],\n",
       "       [ 0.20370273, -0.35157249],\n",
       "       [ 0.17921314, -0.36563423],\n",
       "       [ 0.38208105,  0.04418206],\n",
       "       [ 0.26636432, -0.1225854 ],\n",
       "       [ 0.11754539, -0.4016139 ],\n",
       "       [ 0.292669  , -0.0920439 ],\n",
       "       [ 0.3500623 ,  0.17689915]])"
      ]
     },
     "execution_count": 115,
     "metadata": {},
     "output_type": "execute_result"
    }
   ],
   "source": [
    "W"
   ]
  },
  {
   "cell_type": "code",
   "execution_count": 116,
   "metadata": {
    "collapsed": true
   },
   "outputs": [],
   "source": [
    "Z = X_scaled.dot(W)"
   ]
  },
  {
   "cell_type": "markdown",
   "metadata": {
    "collapsed": false
   },
   "source": [
    "**Bonus**: build and contrast classification models to predict the target classes for each problem, using both the original (or n-best) features and the principal components. If you arrive at <= 3-dimensional feature space, try plotting your data!"
   ]
  },
  {
   "cell_type": "code",
   "execution_count": 135,
   "metadata": {
    "collapsed": false
   },
   "outputs": [],
   "source": [
    "def fit_model(model, name,  X_train, X_test, y_train, y_test):\n",
    "    model.fit(X_train,y_train)\n",
    "    y_pred = model.predict(X_test)\n",
    "    score = model.score(X_test, y_test)\n",
    "    print \"{} Score: {:.2f}\".format(name, score)\n",
    "    \n",
    "    return model, y_pred\n",
    "    \n",
    "def evaluate_model(model, name, X, y):\n",
    "    print name\n",
    "#     try:\n",
    "    # set X and y\n",
    "    X_train, X_test, y_train, y_test = model_selection.train_test_split(X, y, stratify=y, \n",
    "                                                                  test_size=0.3, random_state=77)\n",
    "\n",
    "    # fit the model\n",
    "    model, y_pred = fit_model(model, name, X_train, X_test, y_train, y_test)\n",
    "\n",
    "    # confusion matrix\n",
    "    conmat = metrics.confusion_matrix(y_test, y_pred)\n",
    "    conmat = pd.DataFrame(conmat)\n",
    "    conmat\n",
    "\n",
    "    # classification report\n",
    "    print metrics.classification_report(y_test, y_pred)\n",
    "\n",
    "    # plotting\n",
    "#     try:\n",
    "#         y_score = model.decision_function(X_test)\n",
    "#     except:\n",
    "#         y_score = model.predict_proba(X_test)[:,1]\n",
    "\n",
    "#     fpr, tpr, thresholds = metrics.roc_curve(y_test, y_score)\n",
    "#     plt.plot(fpr,tpr);\n",
    "#     plt.title(\"{}\\nROC curve\".format(name));\n",
    "#     plt.ylim((-0.1, 1.1));\n",
    "#     plt.xlim((-0.1, 1.1));\n",
    "#     plt.xlabel(\"FPR\");\n",
    "#     plt.ylabel(\"TPR\");\n",
    "#     plt.text(0.8,0.05,\"AUC: {:0.2f}\".format(metrics.roc_auc_score(y_test, y_score)));\n",
    "\n",
    "    return model, conmat, X, y\n",
    "#     except:\n",
    "#         return \"Wrong type\""
   ]
  },
  {
   "cell_type": "code",
   "execution_count": 136,
   "metadata": {
    "collapsed": false
   },
   "outputs": [
    {
     "name": "stdout",
     "output_type": "stream",
     "text": [
      "Logistic Regression\n",
      "Logistic Regression Score: 0.06\n",
      "             precision    recall  f1-score   support\n",
      "\n",
      "          0       0.00      0.00      0.00         3\n",
      "          1       0.00      0.00      0.00         4\n",
      "          2       0.38      1.00      0.55         3\n",
      "          3       0.00      0.00      0.00         3\n",
      "          4       0.00      0.00      0.00         3\n",
      "          5       0.00      0.00      0.00         3\n",
      "          6       0.00      0.00      0.00         4\n",
      "          7       0.00      0.00      0.00         4\n",
      "          8       0.00      0.00      0.00         3\n",
      "          9       0.00      0.00      0.00         3\n",
      "         10       0.00      0.00      0.00         4\n",
      "         11       0.00      0.00      0.00         4\n",
      "         12       0.00      0.00      0.00         3\n",
      "         13       0.00      0.00      0.00         3\n",
      "         14       0.00      0.00      0.00         4\n",
      "         15       0.00      0.00      0.00         4\n",
      "         16       0.00      0.00      0.00         3\n",
      "         17       0.00      0.00      0.00         4\n",
      "         18       0.00      0.00      0.00         3\n",
      "         19       0.00      0.00      0.00         4\n",
      "         20       0.00      0.00      0.00         3\n",
      "         21       0.00      0.00      0.00         3\n",
      "         22       0.00      0.00      0.00         3\n",
      "         23       0.00      0.00      0.00         3\n",
      "         24       0.00      0.00      0.00         4\n",
      "         25       0.00      0.00      0.00         3\n",
      "         26       0.00      0.00      0.00         3\n",
      "         27       0.00      0.00      0.00         3\n",
      "         28       0.00      0.00      0.00         3\n",
      "         29       0.00      0.00      0.00         3\n",
      "         30       0.00      0.00      0.00         3\n",
      "         31       0.15      0.75      0.25         4\n",
      "         32       0.00      0.00      0.00         4\n",
      "         33       0.00      0.00      0.00         3\n",
      "         34       0.00      0.00      0.00         3\n",
      "         35       0.00      0.00      0.00         4\n",
      "         36       0.00      0.00      0.00         4\n",
      "         37       0.00      0.00      0.00         4\n",
      "         38       0.00      0.00      0.00         3\n",
      "         39       0.00      0.00      0.00         4\n",
      "         40       0.00      0.00      0.00         3\n",
      "         41       0.00      0.00      0.00         3\n",
      "         42       0.00      0.00      0.00         3\n",
      "         43       0.00      0.00      0.00         3\n",
      "         44       0.00      0.00      0.00         4\n",
      "         45       0.00      0.00      0.00         3\n",
      "         46       0.00      0.00      0.00         3\n",
      "         47       0.00      0.00      0.00         4\n",
      "         48       0.00      0.00      0.00         3\n",
      "         49       0.00      0.00      0.00         3\n",
      "         50       0.18      0.67      0.29         3\n",
      "         51       0.00      0.00      0.00         3\n",
      "         52       0.00      0.00      0.00         3\n",
      "         53       0.00      0.00      0.00         4\n",
      "         54       0.00      0.00      0.00         4\n",
      "         55       0.00      0.00      0.00         3\n",
      "         56       0.00      0.00      0.00         3\n",
      "         57       0.00      0.00      0.00         3\n",
      "         58       0.00      0.00      0.00         4\n",
      "         59       0.10      0.67      0.17         3\n",
      "         60       0.00      0.00      0.00         4\n",
      "         61       0.00      0.00      0.00         3\n",
      "         62       0.00      0.00      0.00         3\n",
      "         63       0.00      0.00      0.00         3\n",
      "         64       0.00      0.00      0.00         3\n",
      "         65       0.00      0.00      0.00         3\n",
      "         66       0.00      0.00      0.00         3\n",
      "         67       0.00      0.00      0.00         3\n",
      "         68       0.00      0.00      0.00         3\n",
      "         69       0.00      0.00      0.00         3\n",
      "         70       0.00      0.00      0.00         3\n",
      "         71       0.00      0.00      0.00         3\n",
      "         72       0.00      0.00      0.00         3\n",
      "         73       0.67      0.67      0.67         3\n",
      "         74       0.00      0.00      0.00         3\n",
      "         75       0.00      0.00      0.00         3\n",
      "         76       0.75      1.00      0.86         3\n",
      "\n",
      "avg / total       0.03      0.06      0.03       253\n",
      "\n"
     ]
    }
   ],
   "source": [
    "logreg = evaluate_model(linear_model.LogisticRegressionCV(), \"Logistic Regression\", pd.DataFrame(Z), y)"
   ]
  },
  {
   "cell_type": "code",
   "execution_count": null,
   "metadata": {
    "collapsed": true
   },
   "outputs": [],
   "source": []
  }
 ],
 "metadata": {
  "anaconda-cloud": {},
  "kernelspec": {
   "display_name": "Python [default]",
   "language": "python",
   "name": "python2"
  },
  "language_info": {
   "codemirror_mode": {
    "name": "ipython",
    "version": 2
   },
   "file_extension": ".py",
   "mimetype": "text/x-python",
   "name": "python",
   "nbconvert_exporter": "python",
   "pygments_lexer": "ipython2",
   "version": "2.7.12"
  }
 },
 "nbformat": 4,
 "nbformat_minor": 0
}
