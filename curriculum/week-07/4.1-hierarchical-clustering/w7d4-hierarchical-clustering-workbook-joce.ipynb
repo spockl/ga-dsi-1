{
 "cells": [
  {
   "cell_type": "code",
   "execution_count": 1,
   "metadata": {
    "collapsed": false,
    "slideshow": {
     "slide_type": "skip"
    }
   },
   "outputs": [],
   "source": [
    "import numpy as np\n",
    "import pandas as pd\n",
    "\n",
    "import matplotlib.pyplot as plt\n",
    "%matplotlib inline"
   ]
  },
  {
   "cell_type": "markdown",
   "metadata": {
    "slideshow": {
     "slide_type": "slide"
    }
   },
   "source": [
    "# ![](https://ga-dash.s3.amazonaws.com/production/assets/logo-9f88ae6c9c3871690e33280fcf557f33.png) Intro to Hierarchical Clustering\n",
    "Week 7 | Lesson 2.3"
   ]
  },
  {
   "cell_type": "markdown",
   "metadata": {
    "slideshow": {
     "slide_type": "slide"
    }
   },
   "source": [
    "### LEARNING OBJECTIVES\n",
    "*After this lesson, you will be able to:*\n",
    "- Perform a Hierarchical Clustering\n",
    "- Plot, Analyze, and Understand the Dendrogram\n",
    "- Understand Linkages"
   ]
  },
  {
   "cell_type": "markdown",
   "metadata": {
    "slideshow": {
     "slide_type": "slide"
    }
   },
   "source": [
    "### LESSON GUIDE\n",
    "| TYPE  | TOPIC  |\n",
    "|---|---|\n",
    "| Introduction  | What is Hierarchical Clustering?  |\n",
    "| Demo | Example of Hierarchical Clustering  |\n",
    "| Guided Practice | Hierarchical Clustering in Python |\n",
    "| Independent Practice | Implement hierarchical clustering"
   ]
  },
  {
   "cell_type": "markdown",
   "metadata": {
    "slideshow": {
     "slide_type": "slide"
    }
   },
   "source": [
    "## Clustering Review"
   ]
  },
  {
   "cell_type": "markdown",
   "metadata": {
    "slideshow": {
     "slide_type": "-"
    }
   },
   "source": [
    "### What we're doing\n",
    "\n",
    "> In clustering, we seek to use the similarities between features to infer groupings"
   ]
  },
  {
   "cell_type": "markdown",
   "metadata": {
    "slideshow": {
     "slide_type": "slide"
    }
   },
   "source": [
    "### How we know we're doing it well\n",
    "\n",
    "> We see high intra-cluster similarity and low inter-cluster similarity"
   ]
  },
  {
   "cell_type": "markdown",
   "metadata": {
    "slideshow": {
     "slide_type": "slide"
    }
   },
   "source": [
    "### What we've seen so far:"
   ]
  },
  {
   "cell_type": "markdown",
   "metadata": {
    "slideshow": {
     "slide_type": "-"
    }
   },
   "source": [
    "### K-Means"
   ]
  },
  {
   "cell_type": "markdown",
   "metadata": {
    "slideshow": {
     "slide_type": "slide"
    }
   },
   "source": [
    "### How K-Means works:\n",
    "\n",
    "- Pick k\n",
    "- Select k random points in the feature space\n",
    "- Calculate the nearest centroid to each point\n",
    "- Move centroid to the center of the associated points\n",
    "- Repeat last two steps until centroids stabilize"
   ]
  },
  {
   "cell_type": "markdown",
   "metadata": {
    "slideshow": {
     "slide_type": "slide"
    }
   },
   "source": [
    "### Visually:"
   ]
  },
  {
   "cell_type": "markdown",
   "metadata": {
    "collapsed": false,
    "hideCode": true,
    "hidePrompt": true,
    "slideshow": {
     "slide_type": "-"
    }
   },
   "source": [
    "<img src=\"http://simplystatistics.org/wp-content/uploads/2014/02/kmeans.gif\">"
   ]
  },
  {
   "cell_type": "markdown",
   "metadata": {
    "slideshow": {
     "slide_type": "slide"
    }
   },
   "source": [
    "## Question: Is k-means deterministic?"
   ]
  },
  {
   "cell_type": "markdown",
   "metadata": {},
   "source": [
    "No, the centroids start at random points."
   ]
  },
  {
   "cell_type": "markdown",
   "metadata": {
    "slideshow": {
     "slide_type": "slide"
    }
   },
   "source": [
    "## K-Means"
   ]
  },
  {
   "cell_type": "markdown",
   "metadata": {
    "slideshow": {
     "slide_type": "-"
    }
   },
   "source": [
    "### Pros:\n",
    "\n",
    "- Easy to implement even on relatively large data sets ( ~$O(n)$ )\n",
    "- Usually \"good enough\" results\n",
    "\n",
    "### Cons:\n",
    "\n",
    "- Requires an arbitrary k\n",
    "- Sensitive to outliers (k-medians is more robust)\n",
    "- With random initial centroids lacks repeatability (but can be seeded)\n",
    "- Works best if data conforms to circular -> spherical -> hyperspherical shape (n.b. using means)\n",
    "- Works best with similar density clusters"
   ]
  },
  {
   "cell_type": "markdown",
   "metadata": {
    "slideshow": {
     "slide_type": "slide"
    }
   },
   "source": [
    "## K-Means is an example of \"Flat Clustering\""
   ]
  },
  {
   "cell_type": "markdown",
   "metadata": {
    "slideshow": {
     "slide_type": "slide"
    }
   },
   "source": [
    "## Today we look at Hierarchical Clustering"
   ]
  },
  {
   "cell_type": "markdown",
   "metadata": {
    "collapsed": false,
    "hideCode": true,
    "hidePrompt": true,
    "slideshow": {
     "slide_type": "-"
    }
   },
   "source": [
    "<img src=\"http://i.imgur.com/A0IRhu9.png\" width=400>"
   ]
  },
  {
   "cell_type": "markdown",
   "metadata": {
    "slideshow": {
     "slide_type": "slide"
    }
   },
   "source": [
    "## What is Hierarchical Clustering?\n",
    "\n",
    "It is an iterative approach to clustering that works by computing pairwise distances between clusters"
   ]
  },
  {
   "cell_type": "markdown",
   "metadata": {
    "slideshow": {
     "slide_type": "slide"
    }
   },
   "source": [
    "## How It's Done:\n",
    "\n",
    "Two Approaches: Agglomorative and Divisive"
   ]
  },
  {
   "cell_type": "markdown",
   "metadata": {
    "slideshow": {
     "slide_type": "slide"
    }
   },
   "source": [
    "## Agglomorative (bottom-up)\n",
    "\n",
    "Agglomorative works by starting with each point in a separate group. At each step the two points/clusters with the least distance between them are linked. This continues until there is only one cluster."
   ]
  },
  {
   "cell_type": "markdown",
   "metadata": {
    "slideshow": {
     "slide_type": "slide"
    }
   },
   "source": [
    "## Divisive (top-down)\n",
    "\n",
    "Divisive clustering works the opposite way. All points are in a single cluster to begin with. At each iteratiion, the points with the greatest distance are serparated."
   ]
  },
  {
   "cell_type": "markdown",
   "metadata": {
    "slideshow": {
     "slide_type": "slide"
    }
   },
   "source": [
    "## Agglomorative is far more common in practice (simpler to implement), so we'll be focusing on that."
   ]
  },
  {
   "cell_type": "markdown",
   "metadata": {
    "slideshow": {
     "slide_type": "slide"
    }
   },
   "source": [
    "## Visualization of the agglomorative process"
   ]
  },
  {
   "cell_type": "markdown",
   "metadata": {
    "collapsed": false,
    "hideCode": true,
    "hidePrompt": true,
    "slideshow": {
     "slide_type": "-"
    }
   },
   "source": [
    "<img src=\"http://i.makeagif.com/media/2-24-2014/DkJOLy.gif\" width=500>"
   ]
  },
  {
   "cell_type": "markdown",
   "metadata": {
    "slideshow": {
     "slide_type": "slide"
    }
   },
   "source": [
    "## Step by step"
   ]
  },
  {
   "cell_type": "markdown",
   "metadata": {
    "collapsed": false,
    "hideCode": true,
    "hidePrompt": true,
    "slideshow": {
     "slide_type": "-"
    }
   },
   "source": [
    "<img src=\"http://i.imgur.com/t2n4j6k.png\" width=500>"
   ]
  },
  {
   "cell_type": "markdown",
   "metadata": {
    "slideshow": {
     "slide_type": "slide"
    }
   },
   "source": [
    "## We'll start the process..."
   ]
  },
  {
   "cell_type": "markdown",
   "metadata": {
    "slideshow": {
     "slide_type": "-"
    }
   },
   "source": [
    "At each step we greedily merge to two nearest points"
   ]
  },
  {
   "cell_type": "markdown",
   "metadata": {
    "collapsed": false,
    "hideCode": true,
    "hidePrompt": true,
    "slideshow": {
     "slide_type": "fragment"
    }
   },
   "source": [
    "<img src=\"http://i.imgur.com/B2nKI1i.png\" width=500>"
   ]
  },
  {
   "cell_type": "markdown",
   "metadata": {
    "slideshow": {
     "slide_type": "slide"
    }
   },
   "source": [
    "## We can visualize it with a dendrogram"
   ]
  },
  {
   "cell_type": "markdown",
   "metadata": {
    "collapsed": false,
    "hideCode": true,
    "hidePrompt": true,
    "slideshow": {
     "slide_type": "-"
    }
   },
   "source": [
    "<img src=\"http://i.imgur.com/MQAn5UQ.png\" width=700>"
   ]
  },
  {
   "cell_type": "markdown",
   "metadata": {
    "slideshow": {
     "slide_type": "slide"
    }
   },
   "source": [
    "## Clusters side-by-side with dendrogram"
   ]
  },
  {
   "cell_type": "markdown",
   "metadata": {
    "collapsed": false,
    "hideCode": true,
    "hidePrompt": true,
    "slideshow": {
     "slide_type": "-"
    }
   },
   "source": [
    "<img src=\"http://i.imgur.com/9rDaKJK.png\" width=700>"
   ]
  },
  {
   "cell_type": "markdown",
   "metadata": {
    "slideshow": {
     "slide_type": "slide"
    }
   },
   "source": [
    "## Dendrogram Properties:\n",
    "\n",
    "- Each leaf corresponds to a single point\n",
    "- Each internal node represents a cluster\n",
    "- Each node has two child nodes\n",
    "- The root node encompases all points\n",
    "- The height of each node is proportional to the distance between each cluster"
   ]
  },
  {
   "cell_type": "markdown",
   "metadata": {
    "slideshow": {
     "slide_type": "slide"
    }
   },
   "source": [
    "## So how do we calculate the distance between the clusters?"
   ]
  },
  {
   "cell_type": "markdown",
   "metadata": {
    "slideshow": {
     "slide_type": "-"
    }
   },
   "source": [
    "## Three Basic Options (but there are more):\n",
    "\n",
    "We use a distance metric (typically euclidean) calculated in one of the following ways:\n",
    "\n",
    "- Single Linkage\n",
    "\n",
    "- Complete Linkage\n",
    "\n",
    "- Average"
   ]
  },
  {
   "cell_type": "markdown",
   "metadata": {
    "slideshow": {
     "slide_type": "slide"
    }
   },
   "source": [
    "## Single Linkage\n",
    "\n",
    "Is the shortest distance between all points in the cluster"
   ]
  },
  {
   "cell_type": "markdown",
   "metadata": {
    "collapsed": false,
    "hideCode": true,
    "hidePrompt": true,
    "slideshow": {
     "slide_type": "-"
    }
   },
   "source": [
    "<img src=\"http://i.imgur.com/Hj6cTqi.png\" width=500>"
   ]
  },
  {
   "cell_type": "markdown",
   "metadata": {
    "slideshow": {
     "slide_type": "slide"
    }
   },
   "source": [
    "## Complete Linkage\n",
    "\n",
    "Is the furthest distance between all points in the cluster"
   ]
  },
  {
   "cell_type": "markdown",
   "metadata": {
    "collapsed": false,
    "hideCode": true,
    "hidePrompt": true,
    "slideshow": {
     "slide_type": "-"
    }
   },
   "source": [
    "<img src=\"http://i.imgur.com/HHCEvNb.png\" width=500>"
   ]
  },
  {
   "cell_type": "markdown",
   "metadata": {
    "slideshow": {
     "slide_type": "slide"
    }
   },
   "source": [
    "## Average Linkage\n",
    "\n",
    "Is the average distance between all points"
   ]
  },
  {
   "cell_type": "markdown",
   "metadata": {
    "collapsed": false,
    "hideCode": true,
    "hidePrompt": true,
    "slideshow": {
     "slide_type": "-"
    }
   },
   "source": [
    "<img src=\"http://i.imgur.com/E7tfvY2.png\" width=500>"
   ]
  },
  {
   "cell_type": "markdown",
   "metadata": {
    "slideshow": {
     "slide_type": "slide"
    }
   },
   "source": [
    "## Check: does scaling matter?"
   ]
  },
  {
   "cell_type": "markdown",
   "metadata": {
    "slideshow": {
     "slide_type": "slide"
    }
   },
   "source": [
    "## Which is best?"
   ]
  },
  {
   "cell_type": "markdown",
   "metadata": {
    "slideshow": {
     "slide_type": "fragment"
    }
   },
   "source": [
    "You didn't reeaaally think there is a simple answer do you?"
   ]
  },
  {
   "cell_type": "markdown",
   "metadata": {
    "slideshow": {
     "slide_type": "slide"
    }
   },
   "source": [
    "## Which is best?"
   ]
  },
  {
   "cell_type": "markdown",
   "metadata": {
    "slideshow": {
     "slide_type": "-"
    }
   },
   "source": [
    "- Single can cause \"chaining\" where clusters are too spread out\n",
    "\n",
    "- Complete can cause crowding where points are closer to another cluster than their own\n",
    "\n",
    "- Average tries to strike a balance, but tends to be less intrepretable"
   ]
  },
  {
   "cell_type": "markdown",
   "metadata": {
    "slideshow": {
     "slide_type": "slide"
    }
   },
   "source": [
    "<img src=\"http://i.imgur.com/0yGI6IK.png\" width=600>"
   ]
  },
  {
   "cell_type": "markdown",
   "metadata": {
    "slideshow": {
     "slide_type": "slide"
    }
   },
   "source": [
    "## But if everything is ultimately linked, how do we choose the optimal number of clusters?"
   ]
  },
  {
   "cell_type": "markdown",
   "metadata": {
    "slideshow": {
     "slide_type": "fragment"
    }
   },
   "source": [
    "## <center>Eyeball it.</center>\n",
    "<br><br>\n",
    "### (Pro-tip: Don't use Google image search for the word \"eyeball\")"
   ]
  },
  {
   "cell_type": "markdown",
   "metadata": {
    "slideshow": {
     "slide_type": "slide"
    }
   },
   "source": [
    "## Where we cut the trees determines this"
   ]
  },
  {
   "cell_type": "markdown",
   "metadata": {
    "collapsed": false,
    "hideCode": true,
    "hidePrompt": true,
    "slideshow": {
     "slide_type": "-"
    }
   },
   "source": [
    "<img src=\"http://i.imgur.com/ecH4BTK.png\" width=700>"
   ]
  },
  {
   "cell_type": "markdown",
   "metadata": {
    "slideshow": {
     "slide_type": "slide"
    }
   },
   "source": [
    "## Exercise\n",
    "1. As a table, draw an x,y plane with 8 randomly placed data points.\n",
    "2. Using hierarchical clustering (single linkage) cluster together the points step by step. You should also build a dendrogram to trace your steps."
   ]
  },
  {
   "cell_type": "markdown",
   "metadata": {
    "slideshow": {
     "slide_type": "slide"
    }
   },
   "source": [
    "## Implementing hierarchical clustering in python"
   ]
  },
  {
   "cell_type": "markdown",
   "metadata": {
    "slideshow": {
     "slide_type": "slide"
    }
   },
   "source": [
    "## 1. Get our data..."
   ]
  },
  {
   "cell_type": "code",
   "execution_count": 121,
   "metadata": {
    "collapsed": false,
    "slideshow": {
     "slide_type": "-"
    }
   },
   "outputs": [],
   "source": [
    "X = pd.read_csv('https://www.dropbox.com/s/1v1rai5007ps5yu/cities.csv?dl=1', index_col=0)"
   ]
  },
  {
   "cell_type": "code",
   "execution_count": 122,
   "metadata": {
    "collapsed": false,
    "slideshow": {
     "slide_type": "-"
    }
   },
   "outputs": [
    {
     "data": {
      "text/html": [
       "<div>\n",
       "<table border=\"1\" class=\"dataframe\">\n",
       "  <thead>\n",
       "    <tr style=\"text-align: right;\">\n",
       "      <th></th>\n",
       "      <th>BOS</th>\n",
       "      <th>NY</th>\n",
       "      <th>DC</th>\n",
       "      <th>MIA</th>\n",
       "      <th>CHI</th>\n",
       "      <th>SEA</th>\n",
       "      <th>SF</th>\n",
       "      <th>LA</th>\n",
       "      <th>DEN</th>\n",
       "    </tr>\n",
       "  </thead>\n",
       "  <tbody>\n",
       "    <tr>\n",
       "      <th>BOS</th>\n",
       "      <td>0</td>\n",
       "      <td>206</td>\n",
       "      <td>429</td>\n",
       "      <td>1504</td>\n",
       "      <td>963</td>\n",
       "      <td>2976</td>\n",
       "      <td>3095</td>\n",
       "      <td>2979</td>\n",
       "      <td>1949</td>\n",
       "    </tr>\n",
       "    <tr>\n",
       "      <th>NY</th>\n",
       "      <td>206</td>\n",
       "      <td>0</td>\n",
       "      <td>233</td>\n",
       "      <td>1308</td>\n",
       "      <td>802</td>\n",
       "      <td>2815</td>\n",
       "      <td>2934</td>\n",
       "      <td>2786</td>\n",
       "      <td>1771</td>\n",
       "    </tr>\n",
       "    <tr>\n",
       "      <th>DC</th>\n",
       "      <td>429</td>\n",
       "      <td>233</td>\n",
       "      <td>0</td>\n",
       "      <td>1075</td>\n",
       "      <td>671</td>\n",
       "      <td>2684</td>\n",
       "      <td>2799</td>\n",
       "      <td>2631</td>\n",
       "      <td>1616</td>\n",
       "    </tr>\n",
       "    <tr>\n",
       "      <th>MIA</th>\n",
       "      <td>1504</td>\n",
       "      <td>1308</td>\n",
       "      <td>1075</td>\n",
       "      <td>0</td>\n",
       "      <td>1329</td>\n",
       "      <td>3273</td>\n",
       "      <td>3053</td>\n",
       "      <td>2687</td>\n",
       "      <td>2037</td>\n",
       "    </tr>\n",
       "    <tr>\n",
       "      <th>CHI</th>\n",
       "      <td>963</td>\n",
       "      <td>802</td>\n",
       "      <td>671</td>\n",
       "      <td>1329</td>\n",
       "      <td>0</td>\n",
       "      <td>2013</td>\n",
       "      <td>2142</td>\n",
       "      <td>2054</td>\n",
       "      <td>996</td>\n",
       "    </tr>\n",
       "    <tr>\n",
       "      <th>SEA</th>\n",
       "      <td>2976</td>\n",
       "      <td>2815</td>\n",
       "      <td>2684</td>\n",
       "      <td>3273</td>\n",
       "      <td>2013</td>\n",
       "      <td>0</td>\n",
       "      <td>808</td>\n",
       "      <td>1131</td>\n",
       "      <td>1307</td>\n",
       "    </tr>\n",
       "    <tr>\n",
       "      <th>SF</th>\n",
       "      <td>3095</td>\n",
       "      <td>2934</td>\n",
       "      <td>2799</td>\n",
       "      <td>3053</td>\n",
       "      <td>2142</td>\n",
       "      <td>808</td>\n",
       "      <td>0</td>\n",
       "      <td>379</td>\n",
       "      <td>1235</td>\n",
       "    </tr>\n",
       "    <tr>\n",
       "      <th>LA</th>\n",
       "      <td>2979</td>\n",
       "      <td>2786</td>\n",
       "      <td>2631</td>\n",
       "      <td>2687</td>\n",
       "      <td>2054</td>\n",
       "      <td>1131</td>\n",
       "      <td>379</td>\n",
       "      <td>0</td>\n",
       "      <td>1059</td>\n",
       "    </tr>\n",
       "    <tr>\n",
       "      <th>DEN</th>\n",
       "      <td>1949</td>\n",
       "      <td>1771</td>\n",
       "      <td>1616</td>\n",
       "      <td>2037</td>\n",
       "      <td>996</td>\n",
       "      <td>1307</td>\n",
       "      <td>1235</td>\n",
       "      <td>1059</td>\n",
       "      <td>0</td>\n",
       "    </tr>\n",
       "  </tbody>\n",
       "</table>\n",
       "</div>"
      ],
      "text/plain": [
       "      BOS    NY    DC   MIA   CHI   SEA    SF    LA   DEN\n",
       "BOS     0   206   429  1504   963  2976  3095  2979  1949\n",
       "NY    206     0   233  1308   802  2815  2934  2786  1771\n",
       "DC    429   233     0  1075   671  2684  2799  2631  1616\n",
       "MIA  1504  1308  1075     0  1329  3273  3053  2687  2037\n",
       "CHI   963   802   671  1329     0  2013  2142  2054   996\n",
       "SEA  2976  2815  2684  3273  2013     0   808  1131  1307\n",
       "SF   3095  2934  2799  3053  2142   808     0   379  1235\n",
       "LA   2979  2786  2631  2687  2054  1131   379     0  1059\n",
       "DEN  1949  1771  1616  2037   996  1307  1235  1059     0"
      ]
     },
     "execution_count": 122,
     "metadata": {},
     "output_type": "execute_result"
    }
   ],
   "source": [
    "X"
   ]
  },
  {
   "cell_type": "markdown",
   "metadata": {
    "slideshow": {
     "slide_type": "slide"
    }
   },
   "source": [
    "## 2. Set our imports"
   ]
  },
  {
   "cell_type": "code",
   "execution_count": 5,
   "metadata": {
    "collapsed": true,
    "slideshow": {
     "slide_type": "-"
    }
   },
   "outputs": [],
   "source": [
    "from scipy.cluster import hierarchy\n",
    "from scipy.spatial import distance as ssd"
   ]
  },
  {
   "cell_type": "markdown",
   "metadata": {
    "slideshow": {
     "slide_type": "slide"
    }
   },
   "source": [
    "## 3. Pass our into SciPy's hierarchy.linkagage()"
   ]
  },
  {
   "cell_type": "code",
   "execution_count": 126,
   "metadata": {
    "collapsed": false
   },
   "outputs": [
    {
     "data": {
      "text/html": [
       "<div>\n",
       "<table border=\"1\" class=\"dataframe\">\n",
       "  <thead>\n",
       "    <tr style=\"text-align: right;\">\n",
       "      <th></th>\n",
       "      <th>BOS</th>\n",
       "      <th>NY</th>\n",
       "      <th>DC</th>\n",
       "      <th>MIA</th>\n",
       "      <th>CHI</th>\n",
       "      <th>SEA</th>\n",
       "      <th>SF</th>\n",
       "      <th>LA</th>\n",
       "      <th>DEN</th>\n",
       "    </tr>\n",
       "  </thead>\n",
       "  <tbody>\n",
       "    <tr>\n",
       "      <th>BOS</th>\n",
       "      <td>0</td>\n",
       "      <td>206</td>\n",
       "      <td>429</td>\n",
       "      <td>1504</td>\n",
       "      <td>963</td>\n",
       "      <td>2976</td>\n",
       "      <td>3095</td>\n",
       "      <td>2979</td>\n",
       "      <td>1949</td>\n",
       "    </tr>\n",
       "    <tr>\n",
       "      <th>NY</th>\n",
       "      <td>206</td>\n",
       "      <td>0</td>\n",
       "      <td>233</td>\n",
       "      <td>1308</td>\n",
       "      <td>802</td>\n",
       "      <td>2815</td>\n",
       "      <td>2934</td>\n",
       "      <td>2786</td>\n",
       "      <td>1771</td>\n",
       "    </tr>\n",
       "    <tr>\n",
       "      <th>DC</th>\n",
       "      <td>429</td>\n",
       "      <td>233</td>\n",
       "      <td>0</td>\n",
       "      <td>1075</td>\n",
       "      <td>671</td>\n",
       "      <td>2684</td>\n",
       "      <td>2799</td>\n",
       "      <td>2631</td>\n",
       "      <td>1616</td>\n",
       "    </tr>\n",
       "    <tr>\n",
       "      <th>MIA</th>\n",
       "      <td>1504</td>\n",
       "      <td>1308</td>\n",
       "      <td>1075</td>\n",
       "      <td>0</td>\n",
       "      <td>1329</td>\n",
       "      <td>3273</td>\n",
       "      <td>3053</td>\n",
       "      <td>2687</td>\n",
       "      <td>2037</td>\n",
       "    </tr>\n",
       "    <tr>\n",
       "      <th>CHI</th>\n",
       "      <td>963</td>\n",
       "      <td>802</td>\n",
       "      <td>671</td>\n",
       "      <td>1329</td>\n",
       "      <td>0</td>\n",
       "      <td>2013</td>\n",
       "      <td>2142</td>\n",
       "      <td>2054</td>\n",
       "      <td>996</td>\n",
       "    </tr>\n",
       "    <tr>\n",
       "      <th>SEA</th>\n",
       "      <td>2976</td>\n",
       "      <td>2815</td>\n",
       "      <td>2684</td>\n",
       "      <td>3273</td>\n",
       "      <td>2013</td>\n",
       "      <td>0</td>\n",
       "      <td>808</td>\n",
       "      <td>1131</td>\n",
       "      <td>1307</td>\n",
       "    </tr>\n",
       "    <tr>\n",
       "      <th>SF</th>\n",
       "      <td>3095</td>\n",
       "      <td>2934</td>\n",
       "      <td>2799</td>\n",
       "      <td>3053</td>\n",
       "      <td>2142</td>\n",
       "      <td>808</td>\n",
       "      <td>0</td>\n",
       "      <td>379</td>\n",
       "      <td>1235</td>\n",
       "    </tr>\n",
       "    <tr>\n",
       "      <th>LA</th>\n",
       "      <td>2979</td>\n",
       "      <td>2786</td>\n",
       "      <td>2631</td>\n",
       "      <td>2687</td>\n",
       "      <td>2054</td>\n",
       "      <td>1131</td>\n",
       "      <td>379</td>\n",
       "      <td>0</td>\n",
       "      <td>1059</td>\n",
       "    </tr>\n",
       "    <tr>\n",
       "      <th>DEN</th>\n",
       "      <td>1949</td>\n",
       "      <td>1771</td>\n",
       "      <td>1616</td>\n",
       "      <td>2037</td>\n",
       "      <td>996</td>\n",
       "      <td>1307</td>\n",
       "      <td>1235</td>\n",
       "      <td>1059</td>\n",
       "      <td>0</td>\n",
       "    </tr>\n",
       "  </tbody>\n",
       "</table>\n",
       "</div>"
      ],
      "text/plain": [
       "      BOS    NY    DC   MIA   CHI   SEA    SF    LA   DEN\n",
       "BOS     0   206   429  1504   963  2976  3095  2979  1949\n",
       "NY    206     0   233  1308   802  2815  2934  2786  1771\n",
       "DC    429   233     0  1075   671  2684  2799  2631  1616\n",
       "MIA  1504  1308  1075     0  1329  3273  3053  2687  2037\n",
       "CHI   963   802   671  1329     0  2013  2142  2054   996\n",
       "SEA  2976  2815  2684  3273  2013     0   808  1131  1307\n",
       "SF   3095  2934  2799  3053  2142   808     0   379  1235\n",
       "LA   2979  2786  2631  2687  2054  1131   379     0  1059\n",
       "DEN  1949  1771  1616  2037   996  1307  1235  1059     0"
      ]
     },
     "execution_count": 126,
     "metadata": {},
     "output_type": "execute_result"
    }
   ],
   "source": [
    "X"
   ]
  },
  {
   "cell_type": "code",
   "execution_count": 127,
   "metadata": {
    "collapsed": false
   },
   "outputs": [
    {
     "data": {
      "text/plain": [
       "36"
      ]
     },
     "execution_count": 127,
     "metadata": {},
     "output_type": "execute_result"
    }
   ],
   "source": [
    "len(ssd.squareform(X))"
   ]
  },
  {
   "cell_type": "code",
   "execution_count": 128,
   "metadata": {
    "collapsed": false
   },
   "outputs": [
    {
     "data": {
      "text/plain": [
       "9"
      ]
     },
     "execution_count": 128,
     "metadata": {},
     "output_type": "execute_result"
    }
   ],
   "source": [
    "len(X)"
   ]
  },
  {
   "cell_type": "code",
   "execution_count": 123,
   "metadata": {
    "collapsed": false
   },
   "outputs": [
    {
     "data": {
      "text/plain": [
       "array([  206.,   429.,  1504.,   963.,  2976.,  3095.,  2979.,  1949.,\n",
       "         233.,  1308.,   802.,  2815.,  2934.,  2786.,  1771.,  1075.,\n",
       "         671.,  2684.,  2799.,  2631.,  1616.,  1329.,  3273.,  3053.,\n",
       "        2687.,  2037.,  2013.,  2142.,  2054.,   996.,   808.,  1131.,\n",
       "        1307.,   379.,  1235.,  1059.])"
      ]
     },
     "execution_count": 123,
     "metadata": {},
     "output_type": "execute_result"
    }
   ],
   "source": [
    "ssd.squareform(X)"
   ]
  },
  {
   "cell_type": "code",
   "execution_count": 6,
   "metadata": {
    "collapsed": false,
    "slideshow": {
     "slide_type": "-"
    }
   },
   "outputs": [],
   "source": [
    "# due to open github issue with distance matrix using squareform\n",
    "# see http://stackoverflow.com/questions/36520043/triangle-vs-square-distance-matrix-for-hierarchical-clustering-python\n",
    "Z = hierarchy.linkage(ssd.squareform(X), method=\"complete\")"
   ]
  },
  {
   "cell_type": "markdown",
   "metadata": {
    "slideshow": {
     "slide_type": "slide"
    }
   },
   "source": [
    "## 4. Then plot using hierarchy.dendrogram()"
   ]
  },
  {
   "cell_type": "code",
   "execution_count": 7,
   "metadata": {
    "collapsed": false,
    "slideshow": {
     "slide_type": "-"
    }
   },
   "outputs": [
    {
     "data": {
      "image/png": "[encoded data removed]",
      "text/plain": [
       "<matplotlib.figure.Figure at 0x115a68ed0>"
      ]
     },
     "metadata": {},
     "output_type": "display_data"
    }
   ],
   "source": [
    "fig, ax = plt.subplots(figsize=(12,8))\n",
    "dn = hierarchy.dendrogram(Z)"
   ]
  },
  {
   "cell_type": "markdown",
   "metadata": {
    "slideshow": {
     "slide_type": "slide"
    }
   },
   "source": [
    "## We can change the orientation and add labels"
   ]
  },
  {
   "cell_type": "code",
   "execution_count": 8,
   "metadata": {
    "collapsed": false,
    "slideshow": {
     "slide_type": "-"
    }
   },
   "outputs": [
    {
     "data": {
      "image/png": "[encoded data removed]",
      "text/plain": [
       "<matplotlib.figure.Figure at 0x1183e1450>"
      ]
     },
     "metadata": {},
     "output_type": "display_data"
    }
   ],
   "source": [
    "fig, ax = plt.subplots(figsize=(12,8))\n",
    "dn = hierarchy.dendrogram(Z, orientation='left', labels=X.index)"
   ]
  },
  {
   "cell_type": "markdown",
   "metadata": {
    "slideshow": {
     "slide_type": "slide"
    }
   },
   "source": [
    "## Change the cut point using .fcluster()"
   ]
  },
  {
   "cell_type": "markdown",
   "metadata": {
    "slideshow": {
     "slide_type": "-"
    }
   },
   "source": [
    "### Cut at 1000 miles"
   ]
  },
  {
   "cell_type": "code",
   "execution_count": 9,
   "metadata": {
    "collapsed": false,
    "slideshow": {
     "slide_type": "-"
    }
   },
   "outputs": [
    {
     "data": {
      "text/plain": [
       "array([4, 4, 4, 5, 4, 2, 1, 1, 3], dtype=int32)"
      ]
     },
     "execution_count": 9,
     "metadata": {},
     "output_type": "execute_result"
    }
   ],
   "source": [
    "max_dist = 1000\n",
    "clusters1k = hierarchy.fcluster(Z, max_dist, criterion='distance')\n",
    "clusters1k"
   ]
  },
  {
   "cell_type": "code",
   "execution_count": 10,
   "metadata": {
    "collapsed": false,
    "slideshow": {
     "slide_type": "-"
    }
   },
   "outputs": [
    {
     "data": {
      "image/png": "[encoded data removed]",
      "text/plain": [
       "<matplotlib.figure.Figure at 0x1186ee890>"
      ]
     },
     "metadata": {},
     "output_type": "display_data"
    }
   ],
   "source": [
    "fig, ax = plt.subplots(figsize=(12,8))\n",
    "plt.scatter(X.iloc[:,0], X.iloc[:,0], c=clusters1k, cmap='prism', s=100);"
   ]
  },
  {
   "cell_type": "markdown",
   "metadata": {
    "slideshow": {
     "slide_type": "slide"
    }
   },
   "source": [
    "### Cut at 2000 miles"
   ]
  },
  {
   "cell_type": "code",
   "execution_count": 11,
   "metadata": {
    "collapsed": false,
    "slideshow": {
     "slide_type": "-"
    }
   },
   "outputs": [
    {
     "data": {
      "text/plain": [
       "array([2, 2, 2, 2, 2, 1, 1, 1, 1], dtype=int32)"
      ]
     },
     "execution_count": 11,
     "metadata": {},
     "output_type": "execute_result"
    }
   ],
   "source": [
    "max_dist = 2000\n",
    "clusters2k = hierarchy.fcluster(Z, max_dist, criterion='distance')\n",
    "clusters2k"
   ]
  },
  {
   "cell_type": "code",
   "execution_count": 12,
   "metadata": {
    "collapsed": false,
    "slideshow": {
     "slide_type": "-"
    }
   },
   "outputs": [
    {
     "data": {
      "image/png": "[encoded data removed]",
      "text/plain": [
       "<matplotlib.figure.Figure at 0x118772dd0>"
      ]
     },
     "metadata": {},
     "output_type": "display_data"
    }
   ],
   "source": [
    "fig, ax = plt.subplots(figsize=(12,8))\n",
    "plt.scatter(X.iloc[:,0], X.iloc[:,0], c=clusters2k, cmap='prism', s=100);"
   ]
  },
  {
   "cell_type": "markdown",
   "metadata": {
    "slideshow": {
     "slide_type": "slide"
    }
   },
   "source": [
    "## Exercise:\n",
    "\n",
    "How will using single linkage rather than complete affect this?<br>\n",
    "- Using the data from above, run a model with a cut point of 2000, but use 'single' as the linkage method\n",
    "- Plot the dendrogram\n",
    "- How many clusters do you have at that level? How and why is it different from the one above with complete linkage?"
   ]
  },
  {
   "cell_type": "code",
   "execution_count": 13,
   "metadata": {
    "collapsed": true
   },
   "outputs": [],
   "source": [
    "Z2 = hierarchy.linkage(ssd.squareform(X), method=\"single\")"
   ]
  },
  {
   "cell_type": "code",
   "execution_count": 21,
   "metadata": {
    "collapsed": false
   },
   "outputs": [
    {
     "data": {
      "image/png": "[encoded data removed]",
      "text/plain": [
       "<matplotlib.figure.Figure at 0x1193bed10>"
      ]
     },
     "metadata": {},
     "output_type": "display_data"
    }
   ],
   "source": [
    "hierarchy.dendrogram(Z2, orientation=\"left\", labels=X.index);"
   ]
  },
  {
   "cell_type": "code",
   "execution_count": 14,
   "metadata": {
    "collapsed": true
   },
   "outputs": [],
   "source": [
    "clusters2k2 = hierarchy.fcluster(Z2, 2000, criterion=\"distance\")"
   ]
  },
  {
   "cell_type": "code",
   "execution_count": 16,
   "metadata": {
    "collapsed": false
   },
   "outputs": [
    {
     "data": {
      "text/plain": [
       "BOS       0\n",
       "NY      206\n",
       "DC      429\n",
       "MIA    1504\n",
       "CHI     963\n",
       "SEA    2976\n",
       "SF     3095\n",
       "LA     2979\n",
       "DEN    1949\n",
       "Name: BOS, dtype: int64"
      ]
     },
     "execution_count": 16,
     "metadata": {},
     "output_type": "execute_result"
    }
   ],
   "source": [
    "X.iloc[:,0]"
   ]
  },
  {
   "cell_type": "code",
   "execution_count": 38,
   "metadata": {
    "collapsed": false
   },
   "outputs": [
    {
     "data": {
      "text/plain": [
       "Index([u'BOS', u'NY', u'DC', u'MIA', u'CHI', u'SEA', u'SF', u'LA', u'DEN'], dtype='object')"
      ]
     },
     "execution_count": 38,
     "metadata": {},
     "output_type": "execute_result"
    }
   ],
   "source": [
    "X.index"
   ]
  },
  {
   "cell_type": "code",
   "execution_count": 40,
   "metadata": {
    "collapsed": false
   },
   "outputs": [
    {
     "data": {
      "image/png": "[encoded data removed]",
      "text/plain": [
       "<matplotlib.figure.Figure at 0x118e0b110>"
      ]
     },
     "metadata": {},
     "output_type": "display_data"
    }
   ],
   "source": [
    "fig, ax = plt.subplots(figsize=(12,8));\n",
    "plt.scatter(X.iloc[:,0], X.iloc[:,0], c=clusters2k2, cmap=\"prism\", s=100);\n",
    "for i, j in enumerate(X.iloc[:,0]):\n",
    "    plt.annotate(X.index[i], xy=(j-50,j-300));"
   ]
  },
  {
   "cell_type": "markdown",
   "metadata": {
    "slideshow": {
     "slide_type": "slide"
    }
   },
   "source": [
    "## Independent Practice"
   ]
  },
  {
   "cell_type": "markdown",
   "metadata": {
    "slideshow": {
     "slide_type": "-"
    }
   },
   "source": [
    "Utilize the starter code to practice hierarchical clustering on the iris dataset"
   ]
  },
  {
   "cell_type": "code",
   "execution_count": 92,
   "metadata": {
    "collapsed": true
   },
   "outputs": [],
   "source": [
    "from sklearn import datasets, preprocessing"
   ]
  },
  {
   "cell_type": "code",
   "execution_count": 42,
   "metadata": {
    "collapsed": true
   },
   "outputs": [],
   "source": [
    "iris = datasets.load_iris()"
   ]
  },
  {
   "cell_type": "code",
   "execution_count": 97,
   "metadata": {
    "collapsed": false
   },
   "outputs": [],
   "source": [
    "df = pd.DataFrame(iris.data, columns=iris.feature_names)\n",
    "scaler = preprocessing.MinMaxScaler()\n",
    "df = pd.DataFrame(scaler.fit_transform(df), columns=iris.feature_names)"
   ]
  },
  {
   "cell_type": "code",
   "execution_count": 189,
   "metadata": {
    "collapsed": false
   },
   "outputs": [],
   "source": [
    "ZX = hierarchy.linkage(ssd.pdist(iris.data), \"complete\")"
   ]
  },
  {
   "cell_type": "code",
   "execution_count": 190,
   "metadata": {
    "collapsed": false
   },
   "outputs": [
    {
     "data": {
      "image/png": "[encoded data removed]",
      "text/plain": [
       "<matplotlib.figure.Figure at 0x118d87690>"
      ]
     },
     "metadata": {},
     "output_type": "display_data"
    }
   ],
   "source": [
    "hierarchy.dendrogram(ZX);"
   ]
  },
  {
   "cell_type": "code",
   "execution_count": 187,
   "metadata": {
    "collapsed": false
   },
   "outputs": [],
   "source": [
    "ZX2 = hierarchy.linkage(iris.data, \"complete\")"
   ]
  },
  {
   "cell_type": "code",
   "execution_count": 186,
   "metadata": {
    "collapsed": false
   },
   "outputs": [
    {
     "data": {
      "image/png": "[encoded data removed]",
      "text/plain": [
       "<matplotlib.figure.Figure at 0x119016510>"
      ]
     },
     "metadata": {},
     "output_type": "display_data"
    }
   ],
   "source": [
    "hierarchy.dendrogram(ZX2);"
   ]
  },
  {
   "cell_type": "code",
   "execution_count": 138,
   "metadata": {
    "collapsed": false
   },
   "outputs": [
    {
     "data": {
      "text/plain": [
       "11175"
      ]
     },
     "execution_count": 138,
     "metadata": {},
     "output_type": "execute_result"
    }
   ],
   "source": [
    "len(ssd.pdist(df))"
   ]
  },
  {
   "cell_type": "code",
   "execution_count": 139,
   "metadata": {
    "collapsed": false
   },
   "outputs": [
    {
     "data": {
      "text/plain": [
       "11175"
      ]
     },
     "execution_count": 139,
     "metadata": {},
     "output_type": "execute_result"
    }
   ],
   "source": [
    "len(ssd.squareform(X3))"
   ]
  },
  {
   "cell_type": "code",
   "execution_count": 98,
   "metadata": {
    "collapsed": false
   },
   "outputs": [
    {
     "data": {
      "text/html": [
       "<div>\n",
       "<table border=\"1\" class=\"dataframe\">\n",
       "  <thead>\n",
       "    <tr style=\"text-align: right;\">\n",
       "      <th></th>\n",
       "      <th>sepal length (cm)</th>\n",
       "      <th>sepal width (cm)</th>\n",
       "      <th>petal length (cm)</th>\n",
       "      <th>petal width (cm)</th>\n",
       "    </tr>\n",
       "  </thead>\n",
       "  <tbody>\n",
       "    <tr>\n",
       "      <th>0</th>\n",
       "      <td>0.222222</td>\n",
       "      <td>0.625000</td>\n",
       "      <td>0.067797</td>\n",
       "      <td>0.041667</td>\n",
       "    </tr>\n",
       "    <tr>\n",
       "      <th>1</th>\n",
       "      <td>0.166667</td>\n",
       "      <td>0.416667</td>\n",
       "      <td>0.067797</td>\n",
       "      <td>0.041667</td>\n",
       "    </tr>\n",
       "    <tr>\n",
       "      <th>2</th>\n",
       "      <td>0.111111</td>\n",
       "      <td>0.500000</td>\n",
       "      <td>0.050847</td>\n",
       "      <td>0.041667</td>\n",
       "    </tr>\n",
       "    <tr>\n",
       "      <th>3</th>\n",
       "      <td>0.083333</td>\n",
       "      <td>0.458333</td>\n",
       "      <td>0.084746</td>\n",
       "      <td>0.041667</td>\n",
       "    </tr>\n",
       "    <tr>\n",
       "      <th>4</th>\n",
       "      <td>0.194444</td>\n",
       "      <td>0.666667</td>\n",
       "      <td>0.067797</td>\n",
       "      <td>0.041667</td>\n",
       "    </tr>\n",
       "  </tbody>\n",
       "</table>\n",
       "</div>"
      ],
      "text/plain": [
       "   sepal length (cm)  sepal width (cm)  petal length (cm)  petal width (cm)\n",
       "0           0.222222          0.625000           0.067797          0.041667\n",
       "1           0.166667          0.416667           0.067797          0.041667\n",
       "2           0.111111          0.500000           0.050847          0.041667\n",
       "3           0.083333          0.458333           0.084746          0.041667\n",
       "4           0.194444          0.666667           0.067797          0.041667"
      ]
     },
     "execution_count": 98,
     "metadata": {},
     "output_type": "execute_result"
    }
   ],
   "source": [
    "df.head()"
   ]
  },
  {
   "cell_type": "raw",
   "metadata": {
    "collapsed": false
   },
   "source": [
    "X2 = df.sum(axis=1)\n",
    "X2 = pd.DataFrame(X2, columns=[\"ref\"])"
   ]
  },
  {
   "cell_type": "raw",
   "metadata": {
    "collapsed": false
   },
   "source": [
    "X2.head()"
   ]
  },
  {
   "cell_type": "raw",
   "metadata": {
    "collapsed": true
   },
   "source": [
    "for i in range(X2.shape[0]):\n",
    "    X2[i] = [X2.ix[j, \"ref\"] - X2.ix[i,\"ref\"] for j in range(X2.shape[0])]"
   ]
  },
  {
   "cell_type": "raw",
   "metadata": {
    "collapsed": false
   },
   "source": [
    "X3 = X2.copy()\n",
    "del X3[\"ref\"]\n",
    "X3 = abs(X3)\n",
    "X3.head()"
   ]
  },
  {
   "cell_type": "raw",
   "metadata": {
    "collapsed": false
   },
   "source": [
    "Z3 = hierarchy.linkage(ssd.squareform(X3), method=\"complete\")"
   ]
  },
  {
   "cell_type": "raw",
   "metadata": {
    "collapsed": false
   },
   "source": [
    "hierarchy.dendrogram(Z3, orientation=\"left\");"
   ]
  },
  {
   "cell_type": "code",
   "execution_count": 160,
   "metadata": {
    "collapsed": false
   },
   "outputs": [
    {
     "data": {
      "image/png": "[encoded data removed]",
      "text/plain": [
       "<matplotlib.figure.Figure at 0x11a557a50>"
      ]
     },
     "metadata": {},
     "output_type": "display_data"
    }
   ],
   "source": [
    "clusters3 = hierarchy.fcluster(ZX, 0.19, criterion=\"distance\")\n",
    "\n",
    "plt.scatter(ssd.pdist(df)[:len(clusters3)], ssd.pdist(df)[:len(clusters3)], c=clusters3, cmap=\"prism\");"
   ]
  },
  {
   "cell_type": "code",
   "execution_count": 125,
   "metadata": {
    "collapsed": false
   },
   "outputs": [
    {
     "data": {
      "text/plain": [
       "array([ 1.52707156,  1.52707156,  1.52707156, ...,  1.63677024,\n",
       "        0.69891714,  1.63677024])"
      ]
     },
     "execution_count": 125,
     "metadata": {},
     "output_type": "execute_result"
    }
   ],
   "source": [
    "hierarchy.cophenet(Z3)"
   ]
  },
  {
   "cell_type": "code",
   "execution_count": 161,
   "metadata": {
    "collapsed": true
   },
   "outputs": [],
   "source": [
    "iris_df = iris.data"
   ]
  },
  {
   "cell_type": "code",
   "execution_count": 162,
   "metadata": {
    "collapsed": true
   },
   "outputs": [],
   "source": [
    "def _convert_to_double(X):\n",
    "    if X.dtype != np.double:\n",
    "        X = X.astype(np.double)\n",
    "    if not X.flags.contiguous:\n",
    "        X = X.copy()\n",
    "    return X"
   ]
  },
  {
   "cell_type": "code",
   "execution_count": 167,
   "metadata": {
    "collapsed": false
   },
   "outputs": [],
   "source": [
    "test = _convert_to_double(np.asarray(iris_df, \"c\"))"
   ]
  },
  {
   "cell_type": "code",
   "execution_count": 168,
   "metadata": {
    "collapsed": false
   },
   "outputs": [
    {
     "data": {
      "text/plain": [
       "2"
      ]
     },
     "execution_count": 168,
     "metadata": {},
     "output_type": "execute_result"
    }
   ],
   "source": [
    "test.ndim"
   ]
  },
  {
   "cell_type": "code",
   "execution_count": 171,
   "metadata": {
    "collapsed": false
   },
   "outputs": [
    {
     "data": {
      "text/plain": [
       "array([ 0.53851648,  0.50990195,  0.64807407, ...,  0.6164414 ,\n",
       "        0.64031242,  0.76811457])"
      ]
     },
     "execution_count": 171,
     "metadata": {},
     "output_type": "execute_result"
    }
   ],
   "source": [
    "ssd.pdist(iris.data)"
   ]
  },
  {
   "cell_type": "code",
   "execution_count": 173,
   "metadata": {
    "collapsed": false
   },
   "outputs": [
    {
     "data": {
      "text/plain": [
       "1"
      ]
     },
     "execution_count": 173,
     "metadata": {},
     "output_type": "execute_result"
    }
   ],
   "source": [
    "test[0].ndim"
   ]
  },
  {
   "cell_type": "code",
   "execution_count": 175,
   "metadata": {
    "collapsed": false
   },
   "outputs": [
    {
     "data": {
      "text/plain": [
       "array([ 1.])"
      ]
     },
     "execution_count": 175,
     "metadata": {},
     "output_type": "execute_result"
    }
   ],
   "source": [
    "ssd.pdist(test[:2])"
   ]
  },
  {
   "cell_type": "code",
   "execution_count": null,
   "metadata": {
    "collapsed": true
   },
   "outputs": [],
   "source": [
    "ssd.pdist"
   ]
  },
  {
   "cell_type": "markdown",
   "metadata": {
    "slideshow": {
     "slide_type": "slide"
    }
   },
   "source": [
    "## Conclusion: Hierarchical Clustering\n",
    "\n",
    "Pros:\n",
    "\n",
    "- No need to pick explicit k (...but kinda bc of split point)\n",
    "- Repeatability/Deterministic model (always get the same clusters) \n",
    "- Can dial cluster levels at will\n",
    "    \n",
    "Cons:\n",
    "    \n",
    "- Runs in $~O(n^2)$ time - so must be relatively small dataset\n",
    "- Requires selecting a linkage method"
   ]
  },
  {
   "cell_type": "markdown",
   "metadata": {
    "collapsed": true,
    "slideshow": {
     "slide_type": "skip"
    }
   },
   "source": [
    "## Additional Resources\n",
    "\n",
    "- [Hierarchical Clustering Video](https://www.youtube.com/watch?v=OcoE7JlbXvY)"
   ]
  }
 ],
 "metadata": {
  "anaconda-cloud": {},
  "celltoolbar": "Slideshow",
  "kernelspec": {
   "display_name": "Python [default]",
   "language": "python",
   "name": "python2"
  },
  "language_info": {
   "codemirror_mode": {
    "name": "ipython",
    "version": 2
   },
   "file_extension": ".py",
   "mimetype": "text/x-python",
   "name": "python",
   "nbconvert_exporter": "python",
   "pygments_lexer": "ipython2",
   "version": "2.7.12"
  }
 },
 "nbformat": 4,
 "nbformat_minor": 0
}
