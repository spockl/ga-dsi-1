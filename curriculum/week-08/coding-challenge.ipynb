{
 "cells": [
  {
   "cell_type": "markdown",
   "metadata": {},
   "source": [
    "Define a function that takes an array and an integer and returns if the sum of any 2 numbers in the array returns the integer"
   ]
  },
  {
   "cell_type": "markdown",
   "metadata": {
    "ExecuteTime": {
     "end_time": "2016-11-07T16:37:47.076566",
     "start_time": "2016-11-07T16:37:47.066625"
    }
   },
   "source": [
    "you can use the same number twice"
   ]
  },
  {
   "cell_type": "code",
   "execution_count": 75,
   "metadata": {
    "ExecuteTime": {
     "end_time": "2016-11-07T17:17:56.985471",
     "start_time": "2016-11-07T17:17:56.980028"
    },
    "collapsed": true
   },
   "outputs": [],
   "source": [
    "from itertools import combinations, combinations_with_replacement"
   ]
  },
  {
   "cell_type": "code",
   "execution_count": 74,
   "metadata": {
    "ExecuteTime": {
     "end_time": "2016-11-07T17:17:45.508705",
     "start_time": "2016-11-07T17:17:45.501622"
    },
    "collapsed": false
   },
   "outputs": [
    {
     "name": "stdout",
     "output_type": "stream",
     "text": [
      "(4, 93)\n",
      "(4, 2000)\n",
      "(4, 36)\n",
      "(4, 55)\n",
      "(93, 2000)\n",
      "(93, 36)\n",
      "(93, 55)\n",
      "(2000, 36)\n",
      "(2000, 55)\n",
      "(36, 55)\n"
     ]
    }
   ],
   "source": [
    "for i in combinations([4, 93, 2000, 36, 55], 2):\n",
    "    print i"
   ]
  },
  {
   "cell_type": "code",
   "execution_count": 76,
   "metadata": {
    "ExecuteTime": {
     "end_time": "2016-11-07T17:18:01.698171",
     "start_time": "2016-11-07T17:18:01.691642"
    },
    "collapsed": false
   },
   "outputs": [
    {
     "name": "stdout",
     "output_type": "stream",
     "text": [
      "(4, 4)\n",
      "(4, 93)\n",
      "(4, 2000)\n",
      "(4, 36)\n",
      "(4, 55)\n",
      "(93, 93)\n",
      "(93, 2000)\n",
      "(93, 36)\n",
      "(93, 55)\n",
      "(2000, 2000)\n",
      "(2000, 36)\n",
      "(2000, 55)\n",
      "(36, 36)\n",
      "(36, 55)\n",
      "(55, 55)\n"
     ]
    }
   ],
   "source": [
    "for i in combinations_with_replacement([4, 93, 2000, 36, 55], 2):\n",
    "    print i"
   ]
  },
  {
   "cell_type": "code",
   "execution_count": 80,
   "metadata": {
    "ExecuteTime": {
     "end_time": "2016-11-07T17:19:39.137806",
     "start_time": "2016-11-07T17:19:39.123464"
    },
    "collapsed": false
   },
   "outputs": [],
   "source": [
    "def sum_to_integer2(test_case):\n",
    "    array, integer = test_case\n",
    "    full_array = combinations_with_replacement(array, 2)\n",
    "    is_found = False\n",
    "    comp1 = []\n",
    "    comp2 = []\n",
    "    for i, j in full_array:\n",
    "        if is_found == False:\n",
    "            try:\n",
    "                comp1.append(i)\n",
    "                comp2.append(j)\n",
    "                array_sum = i + j\n",
    "                if array_sum == integer:\n",
    "                    is_found = True\n",
    "            except:\n",
    "                pass\n",
    "    return is_found, zip(comp1, comp2)"
   ]
  },
  {
   "cell_type": "code",
   "execution_count": 83,
   "metadata": {
    "ExecuteTime": {
     "end_time": "2016-11-07T17:21:13.912534",
     "start_time": "2016-11-07T17:21:13.899071"
    },
    "collapsed": false
   },
   "outputs": [],
   "source": [
    "def sum_to_integer3(test_case):\n",
    "    array, integer = test_case\n",
    "    full_array = combinations(array, 2)\n",
    "    is_found = False\n",
    "    comp1 = []\n",
    "    comp2 = []\n",
    "    for i, j in full_array:\n",
    "        if is_found == False:\n",
    "            try:\n",
    "                comp1.append(i)\n",
    "                comp2.append(j)\n",
    "                array_sum = i + j\n",
    "                if array_sum == integer:\n",
    "                    is_found = True\n",
    "            except:\n",
    "                pass\n",
    "    return is_found, zip(comp1, comp2)"
   ]
  },
  {
   "cell_type": "code",
   "execution_count": 57,
   "metadata": {
    "ExecuteTime": {
     "end_time": "2016-11-07T16:53:04.497148",
     "start_time": "2016-11-07T16:53:04.483787"
    },
    "collapsed": false
   },
   "outputs": [],
   "source": [
    "def sum_to_integer(test_case):\n",
    "    array, integer = test_case\n",
    "    full_array = array + array\n",
    "    is_found = False\n",
    "    comp1 = []\n",
    "    comp2 = []\n",
    "    for i, j in enumerate(full_array):\n",
    "        if is_found == False:\n",
    "            try:\n",
    "                comp1.append(full_array[i])\n",
    "                comp2.append(full_array[i+1])\n",
    "                array_sum = full_array[i] + full_array[i+1]\n",
    "                if array_sum == integer:\n",
    "                    is_found = True\n",
    "            except:\n",
    "                pass\n",
    "    return is_found, zip(comp1, comp2)"
   ]
  },
  {
   "cell_type": "code",
   "execution_count": 84,
   "metadata": {
    "ExecuteTime": {
     "end_time": "2016-11-07T17:21:31.203359",
     "start_time": "2016-11-07T17:21:31.186756"
    },
    "collapsed": false
   },
   "outputs": [],
   "source": [
    "def sum_to_integer4(test_case):\n",
    "    array, integer = test_case\n",
    "    full_array = array\n",
    "    is_found = False\n",
    "    comp1 = []\n",
    "    comp2 = []\n",
    "    for i, j in enumerate(full_array):\n",
    "        if is_found == False:\n",
    "            try:\n",
    "                comp1.append(full_array[i])\n",
    "                comp2.append(full_array[i+1])\n",
    "                array_sum = full_array[i] + full_array[i+1]\n",
    "                if array_sum == integer:\n",
    "                    is_found = True\n",
    "            except:\n",
    "                pass\n",
    "    return is_found, zip(comp1, comp2)"
   ]
  },
  {
   "cell_type": "code",
   "execution_count": 50,
   "metadata": {
    "ExecuteTime": {
     "end_time": "2016-11-07T16:50:03.091818",
     "start_time": "2016-11-07T16:50:03.085139"
    },
    "collapsed": false
   },
   "outputs": [
    {
     "data": {
      "text/plain": [
       "'True, components =2 and 0'"
      ]
     },
     "execution_count": 50,
     "metadata": {},
     "output_type": "execute_result"
    }
   ],
   "source": [
    "sum_to_integer(([0,1,2,],2))"
   ]
  },
  {
   "cell_type": "code",
   "execution_count": 52,
   "metadata": {
    "ExecuteTime": {
     "end_time": "2016-11-07T16:50:27.556947",
     "start_time": "2016-11-07T16:50:27.549687"
    },
    "collapsed": false
   },
   "outputs": [],
   "source": [
    "test_1 = ([3, 7, 88, 24, 9, 0], 9)\n",
    "test_2 = ([4, 93, 2000, 36, 55], 41)\n",
    "test_3 = ([4, 44, 4444, 1616, 8, 16], 48)\n",
    "test_4 =([2, -3, 72, -6, 1], 1)"
   ]
  },
  {
   "cell_type": "code",
   "execution_count": 85,
   "metadata": {
    "ExecuteTime": {
     "end_time": "2016-11-07T17:21:43.650803",
     "start_time": "2016-11-07T17:21:43.641220"
    },
    "collapsed": false
   },
   "outputs": [
    {
     "name": "stdout",
     "output_type": "stream",
     "text": [
      "CPU times: user 35 µs, sys: 21 µs, total: 56 µs\n",
      "Wall time: 45.1 µs\n"
     ]
    },
    {
     "data": {
      "text/plain": [
       "(True,\n",
       " [(3, 7),\n",
       "  (3, 88),\n",
       "  (3, 24),\n",
       "  (3, 9),\n",
       "  (3, 0),\n",
       "  (7, 88),\n",
       "  (7, 24),\n",
       "  (7, 9),\n",
       "  (7, 0),\n",
       "  (88, 24),\n",
       "  (88, 9),\n",
       "  (88, 0),\n",
       "  (24, 9),\n",
       "  (24, 0),\n",
       "  (9, 0)])"
      ]
     },
     "execution_count": 85,
     "metadata": {},
     "output_type": "execute_result"
    }
   ],
   "source": [
    "%%time\n",
    "sum_to_integer3(test_1)"
   ]
  },
  {
   "cell_type": "code",
   "execution_count": 86,
   "metadata": {
    "ExecuteTime": {
     "end_time": "2016-11-07T17:21:43.650803",
     "start_time": "2016-11-07T17:21:43.641220"
    },
    "collapsed": false
   },
   "outputs": [
    {
     "name": "stdout",
     "output_type": "stream",
     "text": [
      "CPU times: user 33 µs, sys: 8 µs, total: 41 µs\n",
      "Wall time: 42 µs\n"
     ]
    },
    {
     "data": {
      "text/plain": [
       "(True, [(3, 7), (7, 88), (88, 24), (24, 9), (9, 0)])"
      ]
     },
     "execution_count": 86,
     "metadata": {},
     "output_type": "execute_result"
    }
   ],
   "source": [
    "%%time\n",
    "sum_to_integer4(test_1)"
   ]
  },
  {
   "cell_type": "code",
   "execution_count": 87,
   "metadata": {
    "ExecuteTime": {
     "end_time": "2016-11-07T17:21:44.228167",
     "start_time": "2016-11-07T17:21:44.217026"
    },
    "collapsed": false
   },
   "outputs": [
    {
     "name": "stdout",
     "output_type": "stream",
     "text": [
      "CPU times: user 35 µs, sys: 8 µs, total: 43 µs\n",
      "Wall time: 42.9 µs\n"
     ]
    },
    {
     "data": {
      "text/plain": [
       "(True, [(3, 7), (7, 88), (88, 24), (24, 9), (9, 0)])"
      ]
     },
     "execution_count": 87,
     "metadata": {},
     "output_type": "execute_result"
    }
   ],
   "source": [
    "%%time\n",
    "sum_to_integer(test_1)"
   ]
  },
  {
   "cell_type": "code",
   "execution_count": 88,
   "metadata": {
    "ExecuteTime": {
     "end_time": "2016-11-07T17:21:44.728118",
     "start_time": "2016-11-07T17:21:44.713281"
    },
    "collapsed": false
   },
   "outputs": [
    {
     "name": "stdout",
     "output_type": "stream",
     "text": [
      "CPU times: user 44 µs, sys: 20 µs, total: 64 µs\n",
      "Wall time: 51 µs\n"
     ]
    },
    {
     "data": {
      "text/plain": [
       "(True,\n",
       " [(3, 3),\n",
       "  (3, 7),\n",
       "  (3, 88),\n",
       "  (3, 24),\n",
       "  (3, 9),\n",
       "  (3, 0),\n",
       "  (7, 7),\n",
       "  (7, 88),\n",
       "  (7, 24),\n",
       "  (7, 9),\n",
       "  (7, 0),\n",
       "  (88, 88),\n",
       "  (88, 24),\n",
       "  (88, 9),\n",
       "  (88, 0),\n",
       "  (24, 24),\n",
       "  (24, 9),\n",
       "  (24, 0),\n",
       "  (9, 9),\n",
       "  (9, 0)])"
      ]
     },
     "execution_count": 88,
     "metadata": {},
     "output_type": "execute_result"
    }
   ],
   "source": [
    "%%time\n",
    "sum_to_integer2(test_1)"
   ]
  },
  {
   "cell_type": "code",
   "execution_count": 68,
   "metadata": {
    "ExecuteTime": {
     "end_time": "2016-11-07T17:04:12.179650",
     "start_time": "2016-11-07T17:04:12.169733"
    },
    "collapsed": false
   },
   "outputs": [
    {
     "data": {
      "text/plain": [
       "(False,\n",
       " [(4, 93),\n",
       "  (93, 2000),\n",
       "  (2000, 36),\n",
       "  (36, 55),\n",
       "  (55, 4),\n",
       "  (4, 93),\n",
       "  (93, 2000),\n",
       "  (2000, 36),\n",
       "  (36, 55)])"
      ]
     },
     "execution_count": 68,
     "metadata": {},
     "output_type": "execute_result"
    }
   ],
   "source": [
    "sum_to_integer(test_2)"
   ]
  },
  {
   "cell_type": "code",
   "execution_count": 69,
   "metadata": {
    "ExecuteTime": {
     "end_time": "2016-11-07T17:04:12.552115",
     "start_time": "2016-11-07T17:04:12.543850"
    },
    "collapsed": false
   },
   "outputs": [
    {
     "data": {
      "text/plain": [
       "(True, [(4, 44)])"
      ]
     },
     "execution_count": 69,
     "metadata": {},
     "output_type": "execute_result"
    }
   ],
   "source": [
    "sum_to_integer(test_3)"
   ]
  },
  {
   "cell_type": "code",
   "execution_count": 70,
   "metadata": {
    "ExecuteTime": {
     "end_time": "2016-11-07T17:04:13.106294",
     "start_time": "2016-11-07T17:04:13.096072"
    },
    "collapsed": false
   },
   "outputs": [
    {
     "data": {
      "text/plain": [
       "(False,\n",
       " [(2, -3),\n",
       "  (-3, 72),\n",
       "  (72, -6),\n",
       "  (-6, 1),\n",
       "  (1, 2),\n",
       "  (2, -3),\n",
       "  (-3, 72),\n",
       "  (72, -6),\n",
       "  (-6, 1)])"
      ]
     },
     "execution_count": 70,
     "metadata": {},
     "output_type": "execute_result"
    }
   ],
   "source": [
    "sum_to_integer(test_4)"
   ]
  },
  {
   "cell_type": "markdown",
   "metadata": {},
   "source": [
    "data structures in python - diff between binary tree storage vs hash map"
   ]
  },
  {
   "cell_type": "code",
   "execution_count": null,
   "metadata": {
    "collapsed": true
   },
   "outputs": [],
   "source": [
    "- "
   ]
  },
  {
   "cell_type": "markdown",
   "metadata": {},
   "source": [
    "how import modules work"
   ]
  },
  {
   "cell_type": "markdown",
   "metadata": {},
   "source": [
    "- looks for the module, and then \"calls the function\" info the code so that we can use it"
   ]
  },
  {
   "cell_type": "code",
   "execution_count": null,
   "metadata": {
    "collapsed": true
   },
   "outputs": [],
   "source": []
  }
 ],
 "metadata": {
  "anaconda-cloud": {},
  "kernelspec": {
   "display_name": "Python [default]",
   "language": "python",
   "name": "python2"
  },
  "language_info": {
   "codemirror_mode": {
    "name": "ipython",
    "version": 2
   },
   "file_extension": ".py",
   "mimetype": "text/x-python",
   "name": "python",
   "nbconvert_exporter": "python",
   "pygments_lexer": "ipython2",
   "version": "2.7.12"
  },
  "toc": {
   "nav_menu": {
    "height": "12px",
    "width": "252px"
   },
   "navigate_menu": true,
   "number_sections": true,
   "sideBar": true,
   "threshold": 4,
   "toc_cell": false,
   "toc_section_display": "block",
   "toc_window_display": false
  }
 },
 "nbformat": 4,
 "nbformat_minor": 1
}
