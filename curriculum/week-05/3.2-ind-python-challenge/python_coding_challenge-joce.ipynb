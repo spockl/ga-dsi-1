{
 "cells": [
  {
   "cell_type": "markdown",
   "metadata": {},
   "source": [
    "<img src=\"https://ga-dash.s3.amazonaws.com/production/assets/logo-9f88ae6c9c3871690e33280fcf557f33.png\" style=\"float: left; margin: 10px\">\n",
    "\n",
    "\n",
    "\n",
    "# Individual Coding Challenge\n",
    "Week 5 | Day 3\n",
    "\n",
    "There are a series of exercises in this notebook that you will need to perform. This challenge to be done individually - without help from either fellow students or the instructors. You are free to use the documention or any online resources you choose. You will have one hour to complete this workbook. If you get stuck on one question keep moving.\n",
    "\n",
    "It must be submitted before 11.30 AM via a Slack DM or email to me (@winston / winston.featherly-bean@ga.co). \n",
    "\n",
    "#### - NO LATE ENTRIES WILL BE ACCEPTED - \n",
    "\n",
    "The Slack timestamp of submission will be definitive."
   ]
  },
  {
   "cell_type": "markdown",
   "metadata": {},
   "source": [
    "### 1. Without using any external libraries (e.g. numpy, pandas), create a list of integers at least 10 elements long and calculate: a) the mean, b) the standard deviation"
   ]
  },
  {
   "cell_type": "code",
   "execution_count": 1,
   "metadata": {
    "ExecuteTime": {
     "end_time": "2016-10-19T10:36:08.800828",
     "start_time": "2016-10-19T10:36:08.773106"
    },
    "collapsed": false
   },
   "outputs": [
    {
     "data": {
      "text/plain": [
       "10"
      ]
     },
     "execution_count": 1,
     "metadata": {},
     "output_type": "execute_result"
    }
   ],
   "source": [
    "list_int = range(3,50,4)\n",
    "list_int = list_int[:10]\n",
    "len(list_int)"
   ]
  },
  {
   "cell_type": "code",
   "execution_count": 4,
   "metadata": {
    "ExecuteTime": {
     "end_time": "2016-10-19T10:36:59.615384",
     "start_time": "2016-10-19T10:36:59.610436"
    },
    "collapsed": true
   },
   "outputs": [],
   "source": [
    "def get_mean(l):\n",
    "    return float(sum(l))/len(l)"
   ]
  },
  {
   "cell_type": "code",
   "execution_count": 5,
   "metadata": {
    "ExecuteTime": {
     "end_time": "2016-10-19T10:37:00.178637",
     "start_time": "2016-10-19T10:37:00.173525"
    },
    "collapsed": false
   },
   "outputs": [
    {
     "name": "stdout",
     "output_type": "stream",
     "text": [
      "21.0\n"
     ]
    }
   ],
   "source": [
    "print get_mean(list_int)"
   ]
  },
  {
   "cell_type": "code",
   "execution_count": 11,
   "metadata": {
    "ExecuteTime": {
     "end_time": "2016-10-19T10:39:17.758755",
     "start_time": "2016-10-19T10:39:17.752545"
    },
    "collapsed": true
   },
   "outputs": [],
   "source": [
    "def get_std(l):\n",
    "    m = get_mean(l)\n",
    "    v = get_mean([(float(x)-m)**2 for x in l])\n",
    "    return v ** 0.5"
   ]
  },
  {
   "cell_type": "code",
   "execution_count": 12,
   "metadata": {
    "ExecuteTime": {
     "end_time": "2016-10-19T10:39:18.269447",
     "start_time": "2016-10-19T10:39:18.264019"
    },
    "collapsed": false
   },
   "outputs": [
    {
     "name": "stdout",
     "output_type": "stream",
     "text": [
      "11.4891252931\n"
     ]
    }
   ],
   "source": [
    "print get_std(list_int)"
   ]
  },
  {
   "cell_type": "markdown",
   "metadata": {},
   "source": [
    "### 2. Write code that prompts the user for a name, then returns the associated phone number from this dictionary:\n",
    "\n",
    "\n",
    "`{\"Jerry\" : \"212-555-3015\",\n",
    "\"Elaine\" : \"212-683-5555\",\n",
    "\"Kramer\" : \"212-555-0804\",\n",
    "\"George\" : \"646-111-0000\",\n",
    "\"Newman\" : \"917-666-6666\"\n",
    "}`\n",
    "\n",
    "E.g. you should see an output like:\n",
    "\n",
    "`Who do you want to call? Jerry\n",
    "212-555-3015`"
   ]
  },
  {
   "cell_type": "code",
   "execution_count": 16,
   "metadata": {
    "ExecuteTime": {
     "end_time": "2016-10-19T10:40:25.836795",
     "start_time": "2016-10-19T10:40:25.830828"
    },
    "collapsed": true
   },
   "outputs": [],
   "source": [
    "phone = {\"Jerry\" : \"212-555-3015\",\\\n",
    "         \"Elaine\" : \"212-683-5555\",\\\n",
    "         \"Kramer\" : \"212-555-0804\",\\\n",
    "         \"George\" : \"646-111-0000\",\\\n",
    "         \"Newman\" : \"917-666-6666\"}"
   ]
  },
  {
   "cell_type": "code",
   "execution_count": 21,
   "metadata": {
    "ExecuteTime": {
     "end_time": "2016-10-19T10:42:14.799494",
     "start_time": "2016-10-19T10:42:13.062002"
    },
    "collapsed": false
   },
   "outputs": [
    {
     "name": "stdout",
     "output_type": "stream",
     "text": [
      "Whose number do you need? jerry\n",
      "212-555-3015\n"
     ]
    }
   ],
   "source": [
    "name = raw_input('Whose number do you need? ')\n",
    "if name.title() in phone.keys():\n",
    "    print phone[name.title()]\n",
    "else:\n",
    "    print \"Unknown contact\""
   ]
  },
  {
   "cell_type": "markdown",
   "metadata": {},
   "source": [
    "### 3. Define a function that accepts a string, converts its alphabetical characters to lower case, removes trailing or leading whitespace, and returns the result.\n",
    "\n",
    "E.g. `\"hello this is a test   \"` should return `['hello', 'this', 'is', 'a', 'test']`"
   ]
  },
  {
   "cell_type": "code",
   "execution_count": 74,
   "metadata": {
    "ExecuteTime": {
     "end_time": "2016-10-19T11:11:44.060488",
     "start_time": "2016-10-19T11:11:44.048294"
    },
    "collapsed": false
   },
   "outputs": [],
   "source": [
    "def get_list_from_string(s):\n",
    "    s2 = [i.lower().strip() for i in s.strip().split(' ') if type(i)==str]\n",
    "    return s2"
   ]
  },
  {
   "cell_type": "code",
   "execution_count": 75,
   "metadata": {
    "ExecuteTime": {
     "end_time": "2016-10-19T11:11:44.806970",
     "start_time": "2016-10-19T11:11:44.799858"
    },
    "collapsed": false
   },
   "outputs": [
    {
     "name": "stdout",
     "output_type": "stream",
     "text": [
      "['hello', 'this', 'is', 'a', 'test']\n"
     ]
    }
   ],
   "source": [
    "print get_list_from_string(\"hello this is a test   \")"
   ]
  },
  {
   "cell_type": "markdown",
   "metadata": {},
   "source": [
    "### 4. Write a program that prints the numbers from 1 to 100. But for multiples of three print “Buzz” instead of the number and for the multiples of five print \"Fizz”. For numbers which are multiples of both three and five print “BuzzFizz” \n",
    "\n",
    "For example, the numbers 8-15 look like: ... 8 Buzz 9 Fizz 11 Buzz 13 14 BuzzFizz ..."
   ]
  },
  {
   "cell_type": "code",
   "execution_count": 29,
   "metadata": {
    "ExecuteTime": {
     "end_time": "2016-10-19T10:46:37.364451",
     "start_time": "2016-10-19T10:46:37.356238"
    },
    "collapsed": false
   },
   "outputs": [],
   "source": [
    "def fizzbuzz(start, stop):\n",
    "    for i in range(start, stop+1,1):\n",
    "        if i % 3 == 0 and i % 5 == 0:\n",
    "            print 'BuzzFizz',\n",
    "        elif i % 3 == 0:\n",
    "            print 'Buzz',\n",
    "        elif i % 5 == 0:\n",
    "            print 'Fizz',\n",
    "        else:\n",
    "            print i,"
   ]
  },
  {
   "cell_type": "code",
   "execution_count": 30,
   "metadata": {
    "ExecuteTime": {
     "end_time": "2016-10-19T10:46:38.540927",
     "start_time": "2016-10-19T10:46:38.531676"
    },
    "collapsed": false
   },
   "outputs": [
    {
     "name": "stdout",
     "output_type": "stream",
     "text": [
      "1 2 Buzz 4 Fizz Buzz 7 8 Buzz Fizz 11 Buzz 13 14 BuzzFizz 16 17 Buzz 19 Fizz Buzz 22 23 Buzz Fizz 26 Buzz 28 29 BuzzFizz 31 32 Buzz 34 Fizz Buzz 37 38 Buzz Fizz 41 Buzz 43 44 BuzzFizz 46 47 Buzz 49 Fizz Buzz 52 53 Buzz Fizz 56 Buzz 58 59 BuzzFizz 61 62 Buzz 64 Fizz Buzz 67 68 Buzz Fizz 71 Buzz 73 74 BuzzFizz 76 77 Buzz 79 Fizz Buzz 82 83 Buzz Fizz 86 Buzz 88 89 BuzzFizz 91 92 Buzz 94 Fizz Buzz 97 98 Buzz Fizz\n"
     ]
    }
   ],
   "source": [
    "fizzbuzz(1,100)"
   ]
  },
  {
   "cell_type": "markdown",
   "metadata": {},
   "source": [
    "### 5. Using the `requests` library and a for- or while- loop, send 5 HTTP GET requests to google.com (or another site of your choice). For each result, select the value of the 'Date' header and split its elements into a list. Print the `hour:minute:second` elements of these lists.\n",
    "\n",
    "E.g.:\n",
    "\n",
    "`\n",
    "13:35:11\n",
    "13:35:12\n",
    "13:35:12\n",
    "13:35:12\n",
    "13:35:12\n",
    "`"
   ]
  },
  {
   "cell_type": "code",
   "execution_count": 31,
   "metadata": {
    "ExecuteTime": {
     "end_time": "2016-10-19T10:47:05.021066",
     "start_time": "2016-10-19T10:47:04.224039"
    },
    "collapsed": false
   },
   "outputs": [],
   "source": [
    "import requests"
   ]
  },
  {
   "cell_type": "code",
   "execution_count": 78,
   "metadata": {
    "ExecuteTime": {
     "end_time": "2016-10-19T11:12:28.752543",
     "start_time": "2016-10-19T11:12:27.422987"
    },
    "collapsed": false
   },
   "outputs": [
    {
     "name": "stdout",
     "output_type": "stream",
     "text": [
      "15:12:27\n",
      "15:12:27\n",
      "15:12:28\n",
      "15:12:28\n",
      "15:12:28\n"
     ]
    }
   ],
   "source": [
    "for i in range(5):\n",
    "    r = requests.get(\"https://www.google.com/\")\n",
    "    date = r.headers['Date']\n",
    "    date_list = date.split(' ')\n",
    "    time = date_list[4]\n",
    "    print time"
   ]
  },
  {
   "cell_type": "markdown",
   "metadata": {},
   "source": [
    "(I seem to be in the wrong time zone.)"
   ]
  },
  {
   "cell_type": "markdown",
   "metadata": {},
   "source": [
    "### 6. Define a function that prints out a box of x,y dimensions using the '-' and '|' characters\n",
    "E.g. if your function gets the inputs x=3, y =2, it should print out:\n",
    "\n",
    "```\n",
    "---\n",
    "| |\n",
    "| |\n",
    "---\n",
    "```"
   ]
  },
  {
   "cell_type": "code",
   "execution_count": 79,
   "metadata": {
    "ExecuteTime": {
     "end_time": "2016-10-19T11:12:59.449016",
     "start_time": "2016-10-19T11:12:59.441460"
    },
    "collapsed": false
   },
   "outputs": [],
   "source": [
    "def draw_box(x, y):\n",
    "    if x > 1:\n",
    "        print '-'*x\n",
    "        for i in range(y):\n",
    "            print '|'+' '*(x-2)+ '|'\n",
    "        print '-'*x\n",
    "    else:\n",
    "        print ' - '\n",
    "        for i in range(y):\n",
    "            print '|'+' '*(x)+ '|'\n",
    "        print ' - '"
   ]
  },
  {
   "cell_type": "code",
   "execution_count": 80,
   "metadata": {
    "ExecuteTime": {
     "end_time": "2016-10-19T11:12:59.915852",
     "start_time": "2016-10-19T11:12:59.910373"
    },
    "collapsed": false
   },
   "outputs": [
    {
     "name": "stdout",
     "output_type": "stream",
     "text": [
      "-----\n",
      "|   |\n",
      "|   |\n",
      "|   |\n",
      "|   |\n",
      "-----\n"
     ]
    }
   ],
   "source": [
    "draw_box(5,4)"
   ]
  },
  {
   "cell_type": "markdown",
   "metadata": {},
   "source": [
    "### 7. Write a function that returns the value at any (column, row) location of [Pascal's triangle](https://en.wikipedia.org/wiki/Pascal%27s_triangle) (not easy!).\n",
    "\n",
    "E.g. pascal(1,2) would return 2 from the structure. Note that this is 0-indexed:\n",
    "\n",
    "\n",
    "```\n",
    "     1\n",
    "    1 1\n",
    "   1 2 1\n",
    "  1 3 3 1\n",
    " 1 4 6 4 1\n",
    "```\n",
    " \n",
    "Explain your solution with comments in the code.\n",
    " "
   ]
  },
  {
   "cell_type": "code",
   "execution_count": 81,
   "metadata": {
    "ExecuteTime": {
     "end_time": "2016-10-19T11:13:00.867515",
     "start_time": "2016-10-19T11:13:00.855091"
    },
    "collapsed": false
   },
   "outputs": [],
   "source": [
    "# Pascal Triangle: Each element (column, row) is \n",
    "# the sum of the element right above it (column, row-1) and the element to the left of that (column-1, row-1)\n",
    "def get_pascal(col, row):\n",
    "    # In a Pascal Triangle, the nth row has n elements (i.e. n columns)\n",
    "    # If you're in a column that is bigger than a row\n",
    "    # you're outside the Triangle, and the value is considered a 0 (for this formula to work)\n",
    "    if col > row:\n",
    "        return 0\n",
    "    # If you have a valid row and column (i.e. column smaller or equal to row)\n",
    "    else:\n",
    "        # If you're in the first column or first two rows, the number is always 1\n",
    "        if col == 0 or row == 0 or row == 1:\n",
    "            return 1\n",
    "        # If you're not in the first column or first two rows\n",
    "        # then your value is found by finding\n",
    "        # the value right above you\n",
    "        # and the value diagonally to the left above you\n",
    "        # i.e. you call this function recursively (over and over again)\n",
    "        # until you reach either column 1 or row 1 or row 2\n",
    "        # then the function builds up from there\n",
    "        else:\n",
    "            return get_pascal(col-1, row-1)+get_pascal(col, row-1)\n",
    "        "
   ]
  },
  {
   "cell_type": "code",
   "execution_count": 82,
   "metadata": {
    "ExecuteTime": {
     "end_time": "2016-10-19T11:13:01.576298",
     "start_time": "2016-10-19T11:13:01.569445"
    },
    "collapsed": false
   },
   "outputs": [
    {
     "data": {
      "text/plain": [
       "15"
      ]
     },
     "execution_count": 82,
     "metadata": {},
     "output_type": "execute_result"
    }
   ],
   "source": [
    "get_pascal(4,6)"
   ]
  },
  {
   "cell_type": "code",
   "execution_count": null,
   "metadata": {
    "collapsed": true
   },
   "outputs": [],
   "source": []
  }
 ],
 "metadata": {
  "kernelspec": {
   "display_name": "Python 2",
   "language": "python",
   "name": "python2"
  },
  "language_info": {
   "codemirror_mode": {
    "name": "ipython",
    "version": 2
   },
   "file_extension": ".py",
   "mimetype": "text/x-python",
   "name": "python",
   "nbconvert_exporter": "python",
   "pygments_lexer": "ipython2",
   "version": "2.7.12"
  }
 },
 "nbformat": 4,
 "nbformat_minor": 0
}
