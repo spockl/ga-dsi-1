{
 "cells": [
  {
   "cell_type": "markdown",
   "metadata": {},
   "source": [
    "<img src=\"https://ga-dash.s3.amazonaws.com/production/assets/logo-9f88ae6c9c3871690e33280fcf557f33.png\" style=\"float: left; margin: 10px\">\n",
    "\n",
    "\n",
    "\n",
    "# Individual Coding Challenge\n",
    "Week 5 | Day 3\n",
    "\n",
    "There are a series of exercises in this notebook that you will need to perform. This challenge to be done individually - without help from either fellow students or the instructors. You are free to use the documention or any online resources you choose. You will have one hour to complete this workbook. If you get stuck on one question keep moving.\n",
    "\n",
    "It must be submitted before 11.30 AM via a Slack DM or email to me (@winston / winston.featherly-bean@ga.co). \n",
    "\n",
    "#### - NO LATE ENTRIES WILL BE ACCEPTED - \n",
    "\n",
    "The Slack timestamp of submission will be definitive."
   ]
  },
  {
   "cell_type": "markdown",
   "metadata": {},
   "source": [
    "### 1. Without using any external libraries (e.g. numpy, pandas), create a list of integers at least 10 elements long and calculate: a) the mean, b) the standard deviation"
   ]
  },
  {
   "cell_type": "code",
   "execution_count": null,
   "metadata": {
    "collapsed": false
   },
   "outputs": [],
   "source": []
  },
  {
   "cell_type": "markdown",
   "metadata": {},
   "source": [
    "### 2. Write code that prompts the user for a name, then returns the associated phone number from this dictionary:\n",
    "\n",
    "\n",
    "`{\"Jerry\" : \"212-555-3015\",\n",
    "\"Elaine\" : \"212-683-5555\",\n",
    "\"Kramer\" : \"212-555-0804\",\n",
    "\"George\" : \"646-111-0000\",\n",
    "\"Newman\" : \"917-666-6666\"\n",
    "}`\n",
    "\n",
    "E.g. you should see an output like:\n",
    "\n",
    "`Who do you want to call? Jerry\n",
    "212-555-3015`"
   ]
  },
  {
   "cell_type": "code",
   "execution_count": null,
   "metadata": {
    "collapsed": false
   },
   "outputs": [],
   "source": []
  },
  {
   "cell_type": "markdown",
   "metadata": {},
   "source": [
    "### 3. Define a function that accepts a string, converts its alphabetical characters to lower case, removes trailing or leading whitespace, and returns the result.\n",
    "\n",
    "E.g. `\"hello this is a test   \"` should return `['hello', 'this', 'is', 'a', 'test']`"
   ]
  },
  {
   "cell_type": "code",
   "execution_count": null,
   "metadata": {
    "collapsed": false
   },
   "outputs": [],
   "source": []
  },
  {
   "cell_type": "markdown",
   "metadata": {},
   "source": [
    "### 4. Write a program that prints the numbers from 1 to 100. But for multiples of three print “Buzz” instead of the number and for the multiples of five print \"Fizz”. For numbers which are multiples of both three and five print “BuzzFizz” \n",
    "\n",
    "For example, the numbers 8-15 look like: ... 8 Buzz 9 Fizz 11 Buzz 13 14 BuzzFizz ..."
   ]
  },
  {
   "cell_type": "code",
   "execution_count": null,
   "metadata": {
    "collapsed": true
   },
   "outputs": [],
   "source": []
  },
  {
   "cell_type": "markdown",
   "metadata": {},
   "source": [
    "### 5. Using the `requests` library and a for- or while- loop, send 5 HTTP GET requests to google.com (or another site of your choice). For each result, select the value of the 'Date' header and split its elements into a list. Print the `hour:minute:second` elements of these lists.\n",
    "\n",
    "E.g.:\n",
    "\n",
    "`\n",
    "13:35:11\n",
    "13:35:12\n",
    "13:35:12\n",
    "13:35:12\n",
    "13:35:12\n",
    "`"
   ]
  },
  {
   "cell_type": "code",
   "execution_count": null,
   "metadata": {
    "collapsed": false
   },
   "outputs": [],
   "source": []
  },
  {
   "cell_type": "markdown",
   "metadata": {},
   "source": [
    "### 6. Define a function that prints out a box of x,y dimensions using the '-' and '|' characters\n",
    "E.g. if your function gets the inputs x=3, y =2, it should print out:\n",
    "\n",
    "```\n",
    "---\n",
    "| |\n",
    "| |\n",
    "---\n",
    "```"
   ]
  },
  {
   "cell_type": "code",
   "execution_count": null,
   "metadata": {
    "collapsed": false
   },
   "outputs": [],
   "source": []
  },
  {
   "cell_type": "markdown",
   "metadata": {},
   "source": [
    "### 7. Write a function that returns the value at any (column, row) location of [Pascal's triangle](https://en.wikipedia.org/wiki/Pascal%27s_triangle) (not easy!).\n",
    "\n",
    "E.g. pascal(1,2) would return 2 from the structure. Note that this is 0-indexed:\n",
    "\n",
    "\n",
    "```\n",
    "     1\n",
    "    1 1\n",
    "   1 2 1\n",
    "  1 3 3 1\n",
    " 1 4 6 4 1\n",
    "```\n",
    " \n",
    "Explain your solution with comments in the code.\n",
    " "
   ]
  },
  {
   "cell_type": "code",
   "execution_count": null,
   "metadata": {
    "collapsed": false
   },
   "outputs": [],
   "source": []
  }
 ],
 "metadata": {
  "kernelspec": {
   "display_name": "Python 2",
   "language": "python",
   "name": "python2"
  },
  "language_info": {
   "codemirror_mode": {
    "name": "ipython",
    "version": 2
   },
   "file_extension": ".py",
   "mimetype": "text/x-python",
   "name": "python",
   "nbconvert_exporter": "python",
   "pygments_lexer": "ipython2",
   "version": "2.7.12"
  }
 },
 "nbformat": 4,
 "nbformat_minor": 0
}
