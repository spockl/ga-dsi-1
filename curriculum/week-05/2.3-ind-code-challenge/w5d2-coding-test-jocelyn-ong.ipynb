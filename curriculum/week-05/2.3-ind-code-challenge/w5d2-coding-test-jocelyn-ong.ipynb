{
 "cells": [
  {
   "cell_type": "markdown",
   "metadata": {},
   "source": [
    "# ![](https://ga-dash.s3.amazonaws.com/production/assets/logo-9f88ae6c9c3871690e33280fcf557f33.png) Individual Coding Challenge\n",
    "Week 5 | Day 2"
   ]
  },
  {
   "cell_type": "markdown",
   "metadata": {},
   "source": [
    "This is your first individual coding challenge. There are a series of exercises in this notebook that you will need to perform. This challenge to be done individually - **without help from either fellow students or the instructors**. You are free to use the documention or any online resources you choose. You will have one hour to complete this workbook. If you get stuck on one question keep moving.<br><br> **It must be submitted before 5pm via Slack**. <br><br>**- _NO LATE ENTRIES WILL BE ACCEPTED_ - <br><br>The Slack timestamp of submission will be definitive.**"
   ]
  },
  {
   "cell_type": "markdown",
   "metadata": {},
   "source": [
    "### 1. Read in the csv at this link using pandas and save it as a DataFrame:\n",
    "https://www.dropbox.com/s/1k9cgsd7bzce0yk/housing-data.csv?dl=1"
   ]
  },
  {
   "cell_type": "code",
   "execution_count": 36,
   "metadata": {
    "ExecuteTime": {
     "end_time": "2016-10-18T16:36:48.116371",
     "start_time": "2016-10-18T16:36:48.112423"
    },
    "collapsed": true
   },
   "outputs": [],
   "source": [
    "import pandas as pd"
   ]
  },
  {
   "cell_type": "code",
   "execution_count": 37,
   "metadata": {
    "ExecuteTime": {
     "end_time": "2016-10-18T16:36:48.207621",
     "start_time": "2016-10-18T16:36:48.119383"
    },
    "collapsed": false
   },
   "outputs": [
    {
     "name": "stdout",
     "output_type": "stream",
     "text": [
      "ERROR! Session/line number was not unique in database. History logging moved to new session 597\n"
     ]
    }
   ],
   "source": [
    "df = pd.read_csv('housing-data.csv')"
   ]
  },
  {
   "cell_type": "markdown",
   "metadata": {},
   "source": [
    "### 2. Get the datatypes of your DataFrame and find the 75th percentile of 'age' and 'price'"
   ]
  },
  {
   "cell_type": "code",
   "execution_count": 38,
   "metadata": {
    "ExecuteTime": {
     "end_time": "2016-10-18T16:36:48.219297",
     "start_time": "2016-10-18T16:36:48.210858"
    },
    "collapsed": false
   },
   "outputs": [
    {
     "data": {
      "text/plain": [
       "sqft     int64\n",
       "bdrms    int64\n",
       "age      int64\n",
       "price    int64\n",
       "dtype: object"
      ]
     },
     "execution_count": 38,
     "metadata": {},
     "output_type": "execute_result"
    }
   ],
   "source": [
    "df.dtypes"
   ]
  },
  {
   "cell_type": "code",
   "execution_count": 39,
   "metadata": {
    "ExecuteTime": {
     "end_time": "2016-10-18T16:36:48.280441",
     "start_time": "2016-10-18T16:36:48.221973"
    },
    "collapsed": false
   },
   "outputs": [
    {
     "data": {
      "text/html": [
       "<div>\n",
       "<table border=\"1\" class=\"dataframe\">\n",
       "  <thead>\n",
       "    <tr style=\"text-align: right;\">\n",
       "      <th></th>\n",
       "      <th>sqft</th>\n",
       "      <th>bdrms</th>\n",
       "      <th>age</th>\n",
       "      <th>price</th>\n",
       "    </tr>\n",
       "  </thead>\n",
       "  <tbody>\n",
       "    <tr>\n",
       "      <th>count</th>\n",
       "      <td>47.000000</td>\n",
       "      <td>47.000000</td>\n",
       "      <td>47.000000</td>\n",
       "      <td>47.000000</td>\n",
       "    </tr>\n",
       "    <tr>\n",
       "      <th>mean</th>\n",
       "      <td>2000.680851</td>\n",
       "      <td>3.170213</td>\n",
       "      <td>42.744681</td>\n",
       "      <td>340412.659574</td>\n",
       "    </tr>\n",
       "    <tr>\n",
       "      <th>std</th>\n",
       "      <td>794.702354</td>\n",
       "      <td>0.760982</td>\n",
       "      <td>22.873440</td>\n",
       "      <td>125039.899586</td>\n",
       "    </tr>\n",
       "    <tr>\n",
       "      <th>min</th>\n",
       "      <td>852.000000</td>\n",
       "      <td>1.000000</td>\n",
       "      <td>5.000000</td>\n",
       "      <td>169900.000000</td>\n",
       "    </tr>\n",
       "    <tr>\n",
       "      <th>25%</th>\n",
       "      <td>1432.000000</td>\n",
       "      <td>3.000000</td>\n",
       "      <td>24.500000</td>\n",
       "      <td>249900.000000</td>\n",
       "    </tr>\n",
       "    <tr>\n",
       "      <th>50%</th>\n",
       "      <td>1888.000000</td>\n",
       "      <td>3.000000</td>\n",
       "      <td>44.000000</td>\n",
       "      <td>299900.000000</td>\n",
       "    </tr>\n",
       "    <tr>\n",
       "      <th>75%</th>\n",
       "      <td>2269.000000</td>\n",
       "      <td>4.000000</td>\n",
       "      <td>61.500000</td>\n",
       "      <td>384450.000000</td>\n",
       "    </tr>\n",
       "    <tr>\n",
       "      <th>max</th>\n",
       "      <td>4478.000000</td>\n",
       "      <td>5.000000</td>\n",
       "      <td>79.000000</td>\n",
       "      <td>699900.000000</td>\n",
       "    </tr>\n",
       "  </tbody>\n",
       "</table>\n",
       "</div>"
      ],
      "text/plain": [
       "              sqft      bdrms        age          price\n",
       "count    47.000000  47.000000  47.000000      47.000000\n",
       "mean   2000.680851   3.170213  42.744681  340412.659574\n",
       "std     794.702354   0.760982  22.873440  125039.899586\n",
       "min     852.000000   1.000000   5.000000  169900.000000\n",
       "25%    1432.000000   3.000000  24.500000  249900.000000\n",
       "50%    1888.000000   3.000000  44.000000  299900.000000\n",
       "75%    2269.000000   4.000000  61.500000  384450.000000\n",
       "max    4478.000000   5.000000  79.000000  699900.000000"
      ]
     },
     "execution_count": 39,
     "metadata": {},
     "output_type": "execute_result"
    }
   ],
   "source": [
    "df.describe()"
   ]
  },
  {
   "cell_type": "code",
   "execution_count": 40,
   "metadata": {
    "ExecuteTime": {
     "end_time": "2016-10-18T16:36:48.291708",
     "start_time": "2016-10-18T16:36:48.285664"
    },
    "collapsed": false
   },
   "outputs": [
    {
     "name": "stdout",
     "output_type": "stream",
     "text": [
      "Answer: 75th percentile of age = 61.5\n",
      "Answer: 75th percentile of price = 384450\n"
     ]
    }
   ],
   "source": [
    "print 'Answer: 75th percentile of age = 61.5'\n",
    "print 'Answer: 75th percentile of price = 384450'"
   ]
  },
  {
   "cell_type": "markdown",
   "metadata": {},
   "source": [
    "### 3. Get the correlations for each column vs. the others. Which feature has the highest correlation with price?"
   ]
  },
  {
   "cell_type": "code",
   "execution_count": 41,
   "metadata": {
    "ExecuteTime": {
     "end_time": "2016-10-18T16:36:48.385179",
     "start_time": "2016-10-18T16:36:48.295379"
    },
    "collapsed": false
   },
   "outputs": [
    {
     "data": {
      "text/html": [
       "<div>\n",
       "<table border=\"1\" class=\"dataframe\">\n",
       "  <thead>\n",
       "    <tr style=\"text-align: right;\">\n",
       "      <th></th>\n",
       "      <th>sqft</th>\n",
       "      <th>bdrms</th>\n",
       "      <th>age</th>\n",
       "      <th>price</th>\n",
       "    </tr>\n",
       "  </thead>\n",
       "  <tbody>\n",
       "    <tr>\n",
       "      <th>sqft</th>\n",
       "      <td>1.000000</td>\n",
       "      <td>0.559967</td>\n",
       "      <td>0.079853</td>\n",
       "      <td>0.854988</td>\n",
       "    </tr>\n",
       "    <tr>\n",
       "      <th>bdrms</th>\n",
       "      <td>0.559967</td>\n",
       "      <td>1.000000</td>\n",
       "      <td>0.077486</td>\n",
       "      <td>0.442261</td>\n",
       "    </tr>\n",
       "    <tr>\n",
       "      <th>age</th>\n",
       "      <td>0.079853</td>\n",
       "      <td>0.077486</td>\n",
       "      <td>1.000000</td>\n",
       "      <td>0.051791</td>\n",
       "    </tr>\n",
       "    <tr>\n",
       "      <th>price</th>\n",
       "      <td>0.854988</td>\n",
       "      <td>0.442261</td>\n",
       "      <td>0.051791</td>\n",
       "      <td>1.000000</td>\n",
       "    </tr>\n",
       "  </tbody>\n",
       "</table>\n",
       "</div>"
      ],
      "text/plain": [
       "           sqft     bdrms       age     price\n",
       "sqft   1.000000  0.559967  0.079853  0.854988\n",
       "bdrms  0.559967  1.000000  0.077486  0.442261\n",
       "age    0.079853  0.077486  1.000000  0.051791\n",
       "price  0.854988  0.442261  0.051791  1.000000"
      ]
     },
     "execution_count": 41,
     "metadata": {},
     "output_type": "execute_result"
    }
   ],
   "source": [
    "df.corr()"
   ]
  },
  {
   "cell_type": "code",
   "execution_count": 42,
   "metadata": {
    "ExecuteTime": {
     "end_time": "2016-10-18T16:36:48.448435",
     "start_time": "2016-10-18T16:36:48.387805"
    },
    "collapsed": false
   },
   "outputs": [
    {
     "name": "stdout",
     "output_type": "stream",
     "text": [
      "Answer: sqft has the highest correlation with price\n"
     ]
    }
   ],
   "source": [
    "print 'Answer: sqft has the highest correlation with price'"
   ]
  },
  {
   "cell_type": "markdown",
   "metadata": {},
   "source": [
    "### 4. Plot the correlations and histograms using seaborn"
   ]
  },
  {
   "cell_type": "code",
   "execution_count": 43,
   "metadata": {
    "ExecuteTime": {
     "end_time": "2016-10-18T16:36:48.509665",
     "start_time": "2016-10-18T16:36:48.451384"
    },
    "collapsed": false
   },
   "outputs": [],
   "source": [
    "import seaborn as sns\n",
    "%matplotlib inline"
   ]
  },
  {
   "cell_type": "code",
   "execution_count": 45,
   "metadata": {
    "ExecuteTime": {
     "end_time": "2016-10-18T16:37:07.328899",
     "start_time": "2016-10-18T16:37:03.411239"
    },
    "collapsed": false
   },
   "outputs": [
    {
     "data": {
      "image/png": "[encoded data removed]",
      "text/plain": [
       "<matplotlib.figure.Figure at 0x125da8f50>"
      ]
     },
     "metadata": {},
     "output_type": "display_data"
    }
   ],
   "source": [
    "sns.pairplot(df, size=3.5);"
   ]
  },
  {
   "cell_type": "markdown",
   "metadata": {},
   "source": [
    "### 5. Change the column names to uppercase using a list comprehension"
   ]
  },
  {
   "cell_type": "code",
   "execution_count": 46,
   "metadata": {
    "ExecuteTime": {
     "end_time": "2016-10-18T16:37:12.214725",
     "start_time": "2016-10-18T16:37:12.210266"
    },
    "collapsed": false
   },
   "outputs": [],
   "source": [
    "df.columns = [i.upper() for i in df.columns]"
   ]
  },
  {
   "cell_type": "code",
   "execution_count": 47,
   "metadata": {
    "ExecuteTime": {
     "end_time": "2016-10-18T16:37:12.836353",
     "start_time": "2016-10-18T16:37:12.815294"
    },
    "collapsed": false,
    "scrolled": true
   },
   "outputs": [
    {
     "data": {
      "text/html": [
       "<div>\n",
       "<table border=\"1\" class=\"dataframe\">\n",
       "  <thead>\n",
       "    <tr style=\"text-align: right;\">\n",
       "      <th></th>\n",
       "      <th>SQFT</th>\n",
       "      <th>BDRMS</th>\n",
       "      <th>AGE</th>\n",
       "      <th>PRICE</th>\n",
       "    </tr>\n",
       "  </thead>\n",
       "  <tbody>\n",
       "    <tr>\n",
       "      <th>0</th>\n",
       "      <td>2104</td>\n",
       "      <td>3</td>\n",
       "      <td>70</td>\n",
       "      <td>399900</td>\n",
       "    </tr>\n",
       "    <tr>\n",
       "      <th>1</th>\n",
       "      <td>1600</td>\n",
       "      <td>3</td>\n",
       "      <td>28</td>\n",
       "      <td>329900</td>\n",
       "    </tr>\n",
       "    <tr>\n",
       "      <th>2</th>\n",
       "      <td>2400</td>\n",
       "      <td>3</td>\n",
       "      <td>44</td>\n",
       "      <td>369000</td>\n",
       "    </tr>\n",
       "    <tr>\n",
       "      <th>3</th>\n",
       "      <td>1416</td>\n",
       "      <td>2</td>\n",
       "      <td>49</td>\n",
       "      <td>232000</td>\n",
       "    </tr>\n",
       "    <tr>\n",
       "      <th>4</th>\n",
       "      <td>3000</td>\n",
       "      <td>4</td>\n",
       "      <td>75</td>\n",
       "      <td>539900</td>\n",
       "    </tr>\n",
       "  </tbody>\n",
       "</table>\n",
       "</div>"
      ],
      "text/plain": [
       "   SQFT  BDRMS  AGE   PRICE\n",
       "0  2104      3   70  399900\n",
       "1  1600      3   28  329900\n",
       "2  2400      3   44  369000\n",
       "3  1416      2   49  232000\n",
       "4  3000      4   75  539900"
      ]
     },
     "execution_count": 47,
     "metadata": {},
     "output_type": "execute_result"
    }
   ],
   "source": [
    "df.head()"
   ]
  },
  {
   "cell_type": "markdown",
   "metadata": {},
   "source": [
    "### 6. Standardize each column - except price - using a list comprehension. Save the newly scaled columns to the DataFrame with the prepend 'SC_'. For example, 'SC_BDRMS'. You may use numpy for this. \n",
    "\n",
    "Refer to this if you are confused as to the formula: [Standardization](http://sebastianraschka.com/Articles/2014_about_feature_scaling.html#z-score-standardization-or-min-max-scaling)"
   ]
  },
  {
   "cell_type": "code",
   "execution_count": 48,
   "metadata": {
    "ExecuteTime": {
     "end_time": "2016-10-18T16:37:15.199356",
     "start_time": "2016-10-18T16:37:15.194932"
    },
    "collapsed": false,
    "scrolled": true
   },
   "outputs": [],
   "source": [
    "import numpy as np"
   ]
  },
  {
   "cell_type": "code",
   "execution_count": 49,
   "metadata": {
    "ExecuteTime": {
     "end_time": "2016-10-18T16:37:15.848875",
     "start_time": "2016-10-18T16:37:15.819788"
    },
    "collapsed": false,
    "scrolled": true
   },
   "outputs": [],
   "source": [
    "for i in df.columns[:3]:\n",
    "    df['SC_'+i] = [(x-np.mean(df[i]))/np.std(df[i]) for x in df[i]]"
   ]
  },
  {
   "cell_type": "code",
   "execution_count": 50,
   "metadata": {
    "ExecuteTime": {
     "end_time": "2016-10-18T16:37:17.045596",
     "start_time": "2016-10-18T16:37:17.012262"
    },
    "collapsed": false
   },
   "outputs": [
    {
     "data": {
      "text/html": [
       "<div>\n",
       "<table border=\"1\" class=\"dataframe\">\n",
       "  <thead>\n",
       "    <tr style=\"text-align: right;\">\n",
       "      <th></th>\n",
       "      <th>SQFT</th>\n",
       "      <th>BDRMS</th>\n",
       "      <th>AGE</th>\n",
       "      <th>PRICE</th>\n",
       "      <th>SC_SQFT</th>\n",
       "      <th>SC_BDRMS</th>\n",
       "      <th>SC_AGE</th>\n",
       "    </tr>\n",
       "  </thead>\n",
       "  <tbody>\n",
       "    <tr>\n",
       "      <th>0</th>\n",
       "      <td>2104</td>\n",
       "      <td>3</td>\n",
       "      <td>70</td>\n",
       "      <td>399900</td>\n",
       "      <td>0.131415</td>\n",
       "      <td>-0.226093</td>\n",
       "      <td>1.204453</td>\n",
       "    </tr>\n",
       "    <tr>\n",
       "      <th>1</th>\n",
       "      <td>1600</td>\n",
       "      <td>3</td>\n",
       "      <td>28</td>\n",
       "      <td>329900</td>\n",
       "      <td>-0.509641</td>\n",
       "      <td>-0.226093</td>\n",
       "      <td>-0.651589</td>\n",
       "    </tr>\n",
       "    <tr>\n",
       "      <th>2</th>\n",
       "      <td>2400</td>\n",
       "      <td>3</td>\n",
       "      <td>44</td>\n",
       "      <td>369000</td>\n",
       "      <td>0.507909</td>\n",
       "      <td>-0.226093</td>\n",
       "      <td>0.055474</td>\n",
       "    </tr>\n",
       "    <tr>\n",
       "      <th>3</th>\n",
       "      <td>1416</td>\n",
       "      <td>2</td>\n",
       "      <td>49</td>\n",
       "      <td>232000</td>\n",
       "      <td>-0.743677</td>\n",
       "      <td>-1.554392</td>\n",
       "      <td>0.276432</td>\n",
       "    </tr>\n",
       "    <tr>\n",
       "      <th>4</th>\n",
       "      <td>3000</td>\n",
       "      <td>4</td>\n",
       "      <td>75</td>\n",
       "      <td>539900</td>\n",
       "      <td>1.271071</td>\n",
       "      <td>1.102205</td>\n",
       "      <td>1.425410</td>\n",
       "    </tr>\n",
       "  </tbody>\n",
       "</table>\n",
       "</div>"
      ],
      "text/plain": [
       "   SQFT  BDRMS  AGE   PRICE   SC_SQFT  SC_BDRMS    SC_AGE\n",
       "0  2104      3   70  399900  0.131415 -0.226093  1.204453\n",
       "1  1600      3   28  329900 -0.509641 -0.226093 -0.651589\n",
       "2  2400      3   44  369000  0.507909 -0.226093  0.055474\n",
       "3  1416      2   49  232000 -0.743677 -1.554392  0.276432\n",
       "4  3000      4   75  539900  1.271071  1.102205  1.425410"
      ]
     },
     "execution_count": 50,
     "metadata": {},
     "output_type": "execute_result"
    }
   ],
   "source": [
    "df.head()"
   ]
  },
  {
   "cell_type": "markdown",
   "metadata": {},
   "source": [
    "## 7. Use sk-learn's StandardScaler to confirm that your results are correct. You will need to read the documentation on how to use this.\n",
    "\n",
    "[StandardScaler](http://scikit-learn.org/stable/modules/generated/sklearn.preprocessing.StandardScaler.html)"
   ]
  },
  {
   "cell_type": "code",
   "execution_count": 51,
   "metadata": {
    "ExecuteTime": {
     "end_time": "2016-10-18T16:37:18.438795",
     "start_time": "2016-10-18T16:37:18.434349"
    },
    "collapsed": false
   },
   "outputs": [],
   "source": [
    "from sklearn.preprocessing import StandardScaler"
   ]
  },
  {
   "cell_type": "code",
   "execution_count": 52,
   "metadata": {
    "ExecuteTime": {
     "end_time": "2016-10-18T16:37:18.945480",
     "start_time": "2016-10-18T16:37:18.938029"
    },
    "collapsed": false
   },
   "outputs": [],
   "source": [
    "scaler = StandardScaler()\n",
    "scaler.fit(df.iloc[:,:3])\n",
    "scaled = scaler.transform(df.iloc[:,:3])"
   ]
  },
  {
   "cell_type": "code",
   "execution_count": 53,
   "metadata": {
    "ExecuteTime": {
     "end_time": "2016-10-18T16:37:19.301794",
     "start_time": "2016-10-18T16:37:19.296476"
    },
    "collapsed": false
   },
   "outputs": [],
   "source": [
    "scaled = pd.DataFrame(scaled, columns=df.columns[-3:])"
   ]
  },
  {
   "cell_type": "code",
   "execution_count": 54,
   "metadata": {
    "ExecuteTime": {
     "end_time": "2016-10-18T16:37:19.820145",
     "start_time": "2016-10-18T16:37:19.802668"
    },
    "collapsed": false,
    "scrolled": true
   },
   "outputs": [
    {
     "data": {
      "text/html": [
       "<div>\n",
       "<table border=\"1\" class=\"dataframe\">\n",
       "  <thead>\n",
       "    <tr style=\"text-align: right;\">\n",
       "      <th></th>\n",
       "      <th>SC_SQFT</th>\n",
       "      <th>SC_BDRMS</th>\n",
       "      <th>SC_AGE</th>\n",
       "    </tr>\n",
       "  </thead>\n",
       "  <tbody>\n",
       "    <tr>\n",
       "      <th>0</th>\n",
       "      <td>0.131415</td>\n",
       "      <td>-0.226093</td>\n",
       "      <td>1.204453</td>\n",
       "    </tr>\n",
       "    <tr>\n",
       "      <th>1</th>\n",
       "      <td>-0.509641</td>\n",
       "      <td>-0.226093</td>\n",
       "      <td>-0.651589</td>\n",
       "    </tr>\n",
       "    <tr>\n",
       "      <th>2</th>\n",
       "      <td>0.507909</td>\n",
       "      <td>-0.226093</td>\n",
       "      <td>0.055474</td>\n",
       "    </tr>\n",
       "    <tr>\n",
       "      <th>3</th>\n",
       "      <td>-0.743677</td>\n",
       "      <td>-1.554392</td>\n",
       "      <td>0.276432</td>\n",
       "    </tr>\n",
       "    <tr>\n",
       "      <th>4</th>\n",
       "      <td>1.271071</td>\n",
       "      <td>1.102205</td>\n",
       "      <td>1.425410</td>\n",
       "    </tr>\n",
       "  </tbody>\n",
       "</table>\n",
       "</div>"
      ],
      "text/plain": [
       "    SC_SQFT  SC_BDRMS    SC_AGE\n",
       "0  0.131415 -0.226093  1.204453\n",
       "1 -0.509641 -0.226093 -0.651589\n",
       "2  0.507909 -0.226093  0.055474\n",
       "3 -0.743677 -1.554392  0.276432\n",
       "4  1.271071  1.102205  1.425410"
      ]
     },
     "execution_count": 54,
     "metadata": {},
     "output_type": "execute_result"
    }
   ],
   "source": [
    "scaled.head()"
   ]
  },
  {
   "cell_type": "raw",
   "metadata": {
    "ExecuteTime": {
     "end_time": "2016-10-18T16:31:56.382810",
     "start_time": "2016-10-18T16:31:56.373608"
    }
   },
   "source": [
    "check = scaled.copy()\n",
    "for i in check.columns:\n",
    "    check['check_'+i] = check[i] == df[i]"
   ]
  },
  {
   "cell_type": "markdown",
   "metadata": {},
   "source": [
    "### 8. Using .apply() on your _DataFrame_, create a function that returns a count of the number of scaled columns that are positive. For example, if one scaled column is positive and two are negative, return 1. If all are negative return 0. Hint: It may be helpful to use .apply() on just a portion of your DataFrame. Save this new column as 'POS'."
   ]
  },
  {
   "cell_type": "code",
   "execution_count": 55,
   "metadata": {
    "ExecuteTime": {
     "end_time": "2016-10-18T16:37:23.295788",
     "start_time": "2016-10-18T16:37:23.290571"
    },
    "collapsed": false
   },
   "outputs": [],
   "source": [
    "def num_positive(x):\n",
    "    all = [1 if i > 0 else 0 for i in x ]\n",
    "    return sum(all)"
   ]
  },
  {
   "cell_type": "code",
   "execution_count": 56,
   "metadata": {
    "ExecuteTime": {
     "end_time": "2016-10-18T16:37:23.851763",
     "start_time": "2016-10-18T16:37:23.842219"
    },
    "collapsed": false,
    "scrolled": true
   },
   "outputs": [],
   "source": [
    "df['POS'] = df.iloc[:,4:7].apply(num_positive, axis=1)"
   ]
  },
  {
   "cell_type": "code",
   "execution_count": 57,
   "metadata": {
    "ExecuteTime": {
     "end_time": "2016-10-18T16:37:25.356111",
     "start_time": "2016-10-18T16:37:25.324194"
    },
    "collapsed": false
   },
   "outputs": [
    {
     "data": {
      "text/html": [
       "<div>\n",
       "<table border=\"1\" class=\"dataframe\">\n",
       "  <thead>\n",
       "    <tr style=\"text-align: right;\">\n",
       "      <th></th>\n",
       "      <th>SQFT</th>\n",
       "      <th>BDRMS</th>\n",
       "      <th>AGE</th>\n",
       "      <th>PRICE</th>\n",
       "      <th>SC_SQFT</th>\n",
       "      <th>SC_BDRMS</th>\n",
       "      <th>SC_AGE</th>\n",
       "      <th>POS</th>\n",
       "    </tr>\n",
       "  </thead>\n",
       "  <tbody>\n",
       "    <tr>\n",
       "      <th>0</th>\n",
       "      <td>2104</td>\n",
       "      <td>3</td>\n",
       "      <td>70</td>\n",
       "      <td>399900</td>\n",
       "      <td>0.131415</td>\n",
       "      <td>-0.226093</td>\n",
       "      <td>1.204453</td>\n",
       "      <td>2</td>\n",
       "    </tr>\n",
       "    <tr>\n",
       "      <th>1</th>\n",
       "      <td>1600</td>\n",
       "      <td>3</td>\n",
       "      <td>28</td>\n",
       "      <td>329900</td>\n",
       "      <td>-0.509641</td>\n",
       "      <td>-0.226093</td>\n",
       "      <td>-0.651589</td>\n",
       "      <td>0</td>\n",
       "    </tr>\n",
       "    <tr>\n",
       "      <th>2</th>\n",
       "      <td>2400</td>\n",
       "      <td>3</td>\n",
       "      <td>44</td>\n",
       "      <td>369000</td>\n",
       "      <td>0.507909</td>\n",
       "      <td>-0.226093</td>\n",
       "      <td>0.055474</td>\n",
       "      <td>2</td>\n",
       "    </tr>\n",
       "    <tr>\n",
       "      <th>3</th>\n",
       "      <td>1416</td>\n",
       "      <td>2</td>\n",
       "      <td>49</td>\n",
       "      <td>232000</td>\n",
       "      <td>-0.743677</td>\n",
       "      <td>-1.554392</td>\n",
       "      <td>0.276432</td>\n",
       "      <td>1</td>\n",
       "    </tr>\n",
       "    <tr>\n",
       "      <th>4</th>\n",
       "      <td>3000</td>\n",
       "      <td>4</td>\n",
       "      <td>75</td>\n",
       "      <td>539900</td>\n",
       "      <td>1.271071</td>\n",
       "      <td>1.102205</td>\n",
       "      <td>1.425410</td>\n",
       "      <td>3</td>\n",
       "    </tr>\n",
       "  </tbody>\n",
       "</table>\n",
       "</div>"
      ],
      "text/plain": [
       "   SQFT  BDRMS  AGE   PRICE   SC_SQFT  SC_BDRMS    SC_AGE  POS\n",
       "0  2104      3   70  399900  0.131415 -0.226093  1.204453    2\n",
       "1  1600      3   28  329900 -0.509641 -0.226093 -0.651589    0\n",
       "2  2400      3   44  369000  0.507909 -0.226093  0.055474    2\n",
       "3  1416      2   49  232000 -0.743677 -1.554392  0.276432    1\n",
       "4  3000      4   75  539900  1.271071  1.102205  1.425410    3"
      ]
     },
     "execution_count": 57,
     "metadata": {},
     "output_type": "execute_result"
    }
   ],
   "source": [
    "df.head()"
   ]
  },
  {
   "cell_type": "markdown",
   "metadata": {},
   "source": [
    "### 9. Using a lambda function with .apply() return a 1 if the price is above the mean price and a 0 if not. Save this new column as 'HIGH_PRICE'."
   ]
  },
  {
   "cell_type": "code",
   "execution_count": 58,
   "metadata": {
    "ExecuteTime": {
     "end_time": "2016-10-18T16:37:27.197422",
     "start_time": "2016-10-18T16:37:27.186314"
    },
    "collapsed": false
   },
   "outputs": [],
   "source": [
    "df['HIGH_PRICE'] = df['PRICE'].apply(lambda x: 1 if x > np.mean(df['PRICE']) else 0)"
   ]
  },
  {
   "cell_type": "code",
   "execution_count": 59,
   "metadata": {
    "ExecuteTime": {
     "end_time": "2016-10-18T16:37:27.748480",
     "start_time": "2016-10-18T16:37:27.714177"
    },
    "collapsed": false
   },
   "outputs": [
    {
     "data": {
      "text/html": [
       "<div>\n",
       "<table border=\"1\" class=\"dataframe\">\n",
       "  <thead>\n",
       "    <tr style=\"text-align: right;\">\n",
       "      <th></th>\n",
       "      <th>SQFT</th>\n",
       "      <th>BDRMS</th>\n",
       "      <th>AGE</th>\n",
       "      <th>PRICE</th>\n",
       "      <th>SC_SQFT</th>\n",
       "      <th>SC_BDRMS</th>\n",
       "      <th>SC_AGE</th>\n",
       "      <th>POS</th>\n",
       "      <th>HIGH_PRICE</th>\n",
       "    </tr>\n",
       "  </thead>\n",
       "  <tbody>\n",
       "    <tr>\n",
       "      <th>0</th>\n",
       "      <td>2104</td>\n",
       "      <td>3</td>\n",
       "      <td>70</td>\n",
       "      <td>399900</td>\n",
       "      <td>0.131415</td>\n",
       "      <td>-0.226093</td>\n",
       "      <td>1.204453</td>\n",
       "      <td>2</td>\n",
       "      <td>1</td>\n",
       "    </tr>\n",
       "    <tr>\n",
       "      <th>1</th>\n",
       "      <td>1600</td>\n",
       "      <td>3</td>\n",
       "      <td>28</td>\n",
       "      <td>329900</td>\n",
       "      <td>-0.509641</td>\n",
       "      <td>-0.226093</td>\n",
       "      <td>-0.651589</td>\n",
       "      <td>0</td>\n",
       "      <td>0</td>\n",
       "    </tr>\n",
       "    <tr>\n",
       "      <th>2</th>\n",
       "      <td>2400</td>\n",
       "      <td>3</td>\n",
       "      <td>44</td>\n",
       "      <td>369000</td>\n",
       "      <td>0.507909</td>\n",
       "      <td>-0.226093</td>\n",
       "      <td>0.055474</td>\n",
       "      <td>2</td>\n",
       "      <td>1</td>\n",
       "    </tr>\n",
       "    <tr>\n",
       "      <th>3</th>\n",
       "      <td>1416</td>\n",
       "      <td>2</td>\n",
       "      <td>49</td>\n",
       "      <td>232000</td>\n",
       "      <td>-0.743677</td>\n",
       "      <td>-1.554392</td>\n",
       "      <td>0.276432</td>\n",
       "      <td>1</td>\n",
       "      <td>0</td>\n",
       "    </tr>\n",
       "    <tr>\n",
       "      <th>4</th>\n",
       "      <td>3000</td>\n",
       "      <td>4</td>\n",
       "      <td>75</td>\n",
       "      <td>539900</td>\n",
       "      <td>1.271071</td>\n",
       "      <td>1.102205</td>\n",
       "      <td>1.425410</td>\n",
       "      <td>3</td>\n",
       "      <td>1</td>\n",
       "    </tr>\n",
       "  </tbody>\n",
       "</table>\n",
       "</div>"
      ],
      "text/plain": [
       "   SQFT  BDRMS  AGE   PRICE   SC_SQFT  SC_BDRMS    SC_AGE  POS  HIGH_PRICE\n",
       "0  2104      3   70  399900  0.131415 -0.226093  1.204453    2           1\n",
       "1  1600      3   28  329900 -0.509641 -0.226093 -0.651589    0           0\n",
       "2  2400      3   44  369000  0.507909 -0.226093  0.055474    2           1\n",
       "3  1416      2   49  232000 -0.743677 -1.554392  0.276432    1           0\n",
       "4  3000      4   75  539900  1.271071  1.102205  1.425410    3           1"
      ]
     },
     "execution_count": 59,
     "metadata": {},
     "output_type": "execute_result"
    }
   ],
   "source": [
    "df.head()"
   ]
  },
  {
   "cell_type": "markdown",
   "metadata": {},
   "source": [
    "### 9. Using a minimum of 3 feature columns (not 'PRICE'), set a design matrix (X).  Next set a target vector (y). The target vector should be the 'HIGH_PRICE' column you just created."
   ]
  },
  {
   "cell_type": "code",
   "execution_count": 60,
   "metadata": {
    "ExecuteTime": {
     "end_time": "2016-10-18T16:37:28.660683",
     "start_time": "2016-10-18T16:37:28.650153"
    },
    "collapsed": false
   },
   "outputs": [],
   "source": [
    "X = df[df.columns[4:7]]\n",
    "X2 = df[df.columns[:3]]\n",
    "y = df['HIGH_PRICE']"
   ]
  },
  {
   "cell_type": "markdown",
   "metadata": {},
   "source": [
    "### 10. Using sk-learn's GridSearchCV and k-nn, find the optimal hyper-parmaters. Set the number of folds to 3 and the k to the range from 1 to 5. What is the best k? What is the best score? What does this score represent?"
   ]
  },
  {
   "cell_type": "code",
   "execution_count": 61,
   "metadata": {
    "ExecuteTime": {
     "end_time": "2016-10-18T16:37:29.599852",
     "start_time": "2016-10-18T16:37:29.595211"
    },
    "collapsed": false
   },
   "outputs": [],
   "source": [
    "from sklearn.grid_search import GridSearchCV\n",
    "from sklearn.neighbors import KNeighborsClassifier"
   ]
  },
  {
   "cell_type": "code",
   "execution_count": 62,
   "metadata": {
    "ExecuteTime": {
     "end_time": "2016-10-18T16:37:31.222619",
     "start_time": "2016-10-18T16:37:31.090303"
    },
    "collapsed": false
   },
   "outputs": [
    {
     "data": {
      "text/plain": [
       "GridSearchCV(cv=3, error_score='raise',\n",
       "       estimator=KNeighborsClassifier(algorithm='auto', leaf_size=30, metric='minkowski',\n",
       "           metric_params=None, n_jobs=1, n_neighbors=5, p=2,\n",
       "           weights='uniform'),\n",
       "       fit_params={}, iid=True, n_jobs=1,\n",
       "       param_grid={'n_neighbors': array([1, 2, 3, 4, 5])},\n",
       "       pre_dispatch='2*n_jobs', refit=True, scoring=None, verbose=0)"
      ]
     },
     "execution_count": 62,
     "metadata": {},
     "output_type": "execute_result"
    }
   ],
   "source": [
    "gs = GridSearchCV(KNeighborsClassifier(),\n",
    "                 {'n_neighbors': np.arange(1,6,1)},\n",
    "                 cv=3)\n",
    "gs.fit(X,y)"
   ]
  },
  {
   "cell_type": "code",
   "execution_count": 63,
   "metadata": {
    "ExecuteTime": {
     "end_time": "2016-10-18T16:37:31.783193",
     "start_time": "2016-10-18T16:37:31.777900"
    },
    "collapsed": false
   },
   "outputs": [
    {
     "name": "stdout",
     "output_type": "stream",
     "text": [
      "Best K: {'n_neighbors': 1}\n"
     ]
    }
   ],
   "source": [
    "print 'Best K: {}'.format(gs.best_params_)"
   ]
  },
  {
   "cell_type": "code",
   "execution_count": 64,
   "metadata": {
    "ExecuteTime": {
     "end_time": "2016-10-18T16:37:32.354320",
     "start_time": "2016-10-18T16:37:32.349541"
    },
    "collapsed": false
   },
   "outputs": [
    {
     "name": "stdout",
     "output_type": "stream",
     "text": [
      "Best score: 0.702127659574\n"
     ]
    }
   ],
   "source": [
    "print 'Best score: {}'.format(gs.best_score_)"
   ]
  },
  {
   "cell_type": "code",
   "execution_count": 65,
   "metadata": {
    "ExecuteTime": {
     "end_time": "2016-10-18T16:37:32.822442",
     "start_time": "2016-10-18T16:37:32.817058"
    },
    "collapsed": false
   },
   "outputs": [
    {
     "name": "stdout",
     "output_type": "stream",
     "text": [
      "Answer: This score means that the classifier is able to predict correctly 70% of the time whether a row should be high price or not high price.\n"
     ]
    }
   ],
   "source": [
    "print 'Answer: This score means that the classifier is able to predict correctly 70% of the time whether a row should be high price or not high price.'"
   ]
  },
  {
   "cell_type": "markdown",
   "metadata": {},
   "source": [
    "### Bonus: If you have time, re-run the model using the scaled feature columns using a logistic regression. Test which features are most important using a penalized regression. Which is better L1 or L2? What penalty (C) is optimal?"
   ]
  },
  {
   "cell_type": "code",
   "execution_count": 66,
   "metadata": {
    "ExecuteTime": {
     "end_time": "2016-10-18T16:37:35.934618",
     "start_time": "2016-10-18T16:37:35.930067"
    },
    "collapsed": false
   },
   "outputs": [],
   "source": [
    "from sklearn.linear_model import LogisticRegression"
   ]
  },
  {
   "cell_type": "code",
   "execution_count": 67,
   "metadata": {
    "ExecuteTime": {
     "end_time": "2016-10-18T16:37:39.701158",
     "start_time": "2016-10-18T16:37:36.442211"
    },
    "collapsed": false
   },
   "outputs": [
    {
     "data": {
      "text/plain": [
       "GridSearchCV(cv=3, error_score='raise',\n",
       "       estimator=LogisticRegression(C=1.0, class_weight=None, dual=False, fit_intercept=True,\n",
       "          intercept_scaling=1, max_iter=100, multi_class='ovr', n_jobs=1,\n",
       "          penalty='l2', random_state=None, solver='liblinear', tol=0.0001,\n",
       "          verbose=0, warm_start=False),\n",
       "       fit_params={}, iid=True, n_jobs=1,\n",
       "       param_grid={'penalty': ['l1', 'l2'], 'C': array([ 0.1,  0.2, ...,  9.8,  9.9])},\n",
       "       pre_dispatch='2*n_jobs', refit=True, scoring=None, verbose=0)"
      ]
     },
     "execution_count": 67,
     "metadata": {},
     "output_type": "execute_result"
    }
   ],
   "source": [
    "gs2 = GridSearchCV(LogisticRegression(solver='liblinear'),\n",
    "                  {'penalty': ['l1', 'l2'],\n",
    "                  'C': np.arange(0.1,10,0.1)},\n",
    "                  cv=3)\n",
    "gs2.fit(X,y)"
   ]
  },
  {
   "cell_type": "code",
   "execution_count": 68,
   "metadata": {
    "ExecuteTime": {
     "end_time": "2016-10-18T16:37:43.319483",
     "start_time": "2016-10-18T16:37:43.313696"
    },
    "collapsed": false
   },
   "outputs": [
    {
     "name": "stdout",
     "output_type": "stream",
     "text": [
      "Best C: 0.2\n"
     ]
    }
   ],
   "source": [
    "print 'Best C: {}'.format(gs2.best_params_['C'])"
   ]
  },
  {
   "cell_type": "code",
   "execution_count": 69,
   "metadata": {
    "ExecuteTime": {
     "end_time": "2016-10-18T16:37:43.824776",
     "start_time": "2016-10-18T16:37:43.819276"
    },
    "collapsed": false
   },
   "outputs": [
    {
     "name": "stdout",
     "output_type": "stream",
     "text": [
      "Best penalty: l1\n"
     ]
    }
   ],
   "source": [
    "print 'Best penalty: {}'.format(gs2.best_params_['penalty'])"
   ]
  },
  {
   "cell_type": "code",
   "execution_count": 70,
   "metadata": {
    "ExecuteTime": {
     "end_time": "2016-10-18T16:37:44.455371",
     "start_time": "2016-10-18T16:37:44.449746"
    },
    "collapsed": false
   },
   "outputs": [
    {
     "name": "stdout",
     "output_type": "stream",
     "text": [
      "Best score: 0.808510638298\n"
     ]
    }
   ],
   "source": [
    "print 'Best score: {}'.format(gs2.best_score_)"
   ]
  },
  {
   "cell_type": "code",
   "execution_count": null,
   "metadata": {
    "collapsed": true
   },
   "outputs": [],
   "source": []
  }
 ],
 "metadata": {
  "kernelspec": {
   "display_name": "Python 2",
   "language": "python",
   "name": "python2"
  },
  "language_info": {
   "codemirror_mode": {
    "name": "ipython",
    "version": 2
   },
   "file_extension": ".py",
   "mimetype": "text/x-python",
   "name": "python",
   "nbconvert_exporter": "python",
   "pygments_lexer": "ipython2",
   "version": "2.7.12"
  }
 },
 "nbformat": 4,
 "nbformat_minor": 0
}
