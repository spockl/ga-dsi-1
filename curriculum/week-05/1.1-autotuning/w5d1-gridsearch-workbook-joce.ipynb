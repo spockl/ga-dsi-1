{
 "cells": [
  {
   "cell_type": "code",
   "execution_count": 1,
   "metadata": {
    "ExecuteTime": {
     "end_time": "2016-10-17T10:20:37.471996",
     "start_time": "2016-10-17T10:20:31.499019"
    },
    "collapsed": false,
    "slideshow": {
     "slide_type": "skip"
    }
   },
   "outputs": [
    {
     "name": "stderr",
     "output_type": "stream",
     "text": [
      "//anaconda/lib/python2.7/site-packages/sklearn/cross_validation.py:44: DeprecationWarning: This module was deprecated in version 0.18 in favor of the model_selection module into which all the refactored classes and functions are moved. Also note that the interface of the new CV iterators are different from that of this module. This module will be removed in 0.20.\n",
      "  \"This module will be removed in 0.20.\", DeprecationWarning)\n",
      "//anaconda/lib/python2.7/site-packages/sklearn/grid_search.py:43: DeprecationWarning: This module was deprecated in version 0.18 in favor of the model_selection module into which all the refactored classes and functions are moved. This module will be removed in 0.20.\n",
      "  DeprecationWarning)\n"
     ]
    }
   ],
   "source": [
    "import numpy as np\n",
    "import pandas as pd\n",
    "import patsy\n",
    "\n",
    "from sklearn.metrics import classification_report, confusion_matrix, accuracy_score\n",
    "from sklearn.cross_validation import train_test_split, cross_val_score\n",
    "from sklearn.linear_model import LogisticRegression, LogisticRegressionCV\n",
    "from sklearn.grid_search import GridSearchCV"
   ]
  },
  {
   "cell_type": "markdown",
   "metadata": {
    "slideshow": {
     "slide_type": "slide"
    }
   },
   "source": [
    "# ![](https://ga-dash.s3.amazonaws.com/production/assets/logo-9f88ae6c9c3871690e33280fcf557f33.png) Advanced Model Tuning\n",
    "\n",
    "Week 5 | Day 1"
   ]
  },
  {
   "cell_type": "markdown",
   "metadata": {
    "slideshow": {
     "slide_type": "slide"
    }
   },
   "source": [
    "### LEARNING OBJECTIVES\n",
    "*After this lesson, you will be able to:*\n",
    "- Explain what gridsearch is and why it's useful in machine learning\n",
    "- Implement auto-tuning in sklearn"
   ]
  },
  {
   "cell_type": "markdown",
   "metadata": {
    "slideshow": {
     "slide_type": "slide"
    }
   },
   "source": [
    "## Recap\n",
    "\n",
    "At this point we have learned about a couple of differenct classification models.\n",
    "\n",
    "\n",
    "Check: Which models do we know know?"
   ]
  },
  {
   "cell_type": "markdown",
   "metadata": {
    "slideshow": {
     "slide_type": "slide"
    }
   },
   "source": [
    "## Recap\n",
    "\n",
    "And we've seen that each of these models have inputs that can be set upon initialization\n",
    "\n",
    "Check: What are some of these inputs? Take a quick look...\n",
    "    \n",
    "[K-NN](http://scikit-learn.org/stable/modules/generated/sklearn.neighbors.KNeighborsClassifier.html)<br>\n",
    "[Logistic Regression](http://scikit-learn.org/stable/modules/generated/sklearn.linear_model.LogisticRegression.html)"
   ]
  },
  {
   "cell_type": "markdown",
   "metadata": {
    "slideshow": {
     "slide_type": "slide"
    }
   },
   "source": [
    "## Given all the possible inputs, how can we fit the best model?"
   ]
  },
  {
   "cell_type": "markdown",
   "metadata": {
    "collapsed": false,
    "hideCode": true,
    "hidePrompt": true,
    "slideshow": {
     "slide_type": "slide"
    }
   },
   "source": [
    "## Autotune!\n"
   ]
  },
  {
   "cell_type": "markdown",
   "metadata": {
    "slideshow": {
     "slide_type": "slide"
    }
   },
   "source": [
    "It isn't realistic for us to attempt to construct and all the possible combinations of models by hand.\n",
    "\n",
    "Fortunately, sklearn provides a number of built-in functions, that allow us to search the space of all possible models to find the best one. (Recall LassoCV and RidgeCV)\n",
    "\n",
    "We're going to walk through an example of how to do that now step by step..."
   ]
  },
  {
   "cell_type": "markdown",
   "metadata": {
    "slideshow": {
     "slide_type": "slide"
    }
   },
   "source": [
    "## We are going to build a model to predict crime in SF\n"
   ]
  },
  {
   "cell_type": "markdown",
   "metadata": {
    "slideshow": {
     "slide_type": "slide"
    }
   },
   "source": [
    "## The features will included day of week, time, and district\n",
    "## The target is the type of crime"
   ]
  },
  {
   "cell_type": "markdown",
   "metadata": {
    "slideshow": {
     "slide_type": "slide"
    }
   },
   "source": [
    "## Load our data set "
   ]
  },
  {
   "cell_type": "code",
   "execution_count": 2,
   "metadata": {
    "ExecuteTime": {
     "end_time": "2016-10-17T10:37:35.455633",
     "start_time": "2016-10-17T10:37:35.271592"
    },
    "collapsed": false,
    "slideshow": {
     "slide_type": "-"
    }
   },
   "outputs": [],
   "source": [
    "sf_crime = pd.read_csv('./assets/datasets/sf_crime_train.csv')\n",
    "sf_crime = sf_crime.dropna()"
   ]
  },
  {
   "cell_type": "code",
   "execution_count": 3,
   "metadata": {
    "ExecuteTime": {
     "end_time": "2016-10-17T10:37:36.250610",
     "start_time": "2016-10-17T10:37:36.118809"
    },
    "collapsed": false,
    "slideshow": {
     "slide_type": "-"
    }
   },
   "outputs": [
    {
     "data": {
      "text/html": [
       "<div>\n",
       "<table border=\"1\" class=\"dataframe\">\n",
       "  <thead>\n",
       "    <tr style=\"text-align: right;\">\n",
       "      <th></th>\n",
       "      <th>Dates</th>\n",
       "      <th>Category</th>\n",
       "      <th>Descript</th>\n",
       "      <th>DayOfWeek</th>\n",
       "      <th>PdDistrict</th>\n",
       "      <th>Resolution</th>\n",
       "      <th>Address</th>\n",
       "      <th>X</th>\n",
       "      <th>Y</th>\n",
       "    </tr>\n",
       "  </thead>\n",
       "  <tbody>\n",
       "    <tr>\n",
       "      <th>0</th>\n",
       "      <td>5/13/15 23:53</td>\n",
       "      <td>WARRANTS</td>\n",
       "      <td>WARRANT ARREST</td>\n",
       "      <td>Wednesday</td>\n",
       "      <td>NORTHERN</td>\n",
       "      <td>ARREST, BOOKED</td>\n",
       "      <td>OAK ST / LAGUNA ST</td>\n",
       "      <td>-122.425892</td>\n",
       "      <td>37.774599</td>\n",
       "    </tr>\n",
       "    <tr>\n",
       "      <th>1</th>\n",
       "      <td>5/13/15 23:53</td>\n",
       "      <td>OTHER OFFENSES</td>\n",
       "      <td>TRAFFIC VIOLATION ARREST</td>\n",
       "      <td>Wednesday</td>\n",
       "      <td>NORTHERN</td>\n",
       "      <td>ARREST, BOOKED</td>\n",
       "      <td>OAK ST / LAGUNA ST</td>\n",
       "      <td>-122.425892</td>\n",
       "      <td>37.774599</td>\n",
       "    </tr>\n",
       "    <tr>\n",
       "      <th>2</th>\n",
       "      <td>5/13/15 23:33</td>\n",
       "      <td>OTHER OFFENSES</td>\n",
       "      <td>TRAFFIC VIOLATION ARREST</td>\n",
       "      <td>Wednesday</td>\n",
       "      <td>NORTHERN</td>\n",
       "      <td>ARREST, BOOKED</td>\n",
       "      <td>VANNESS AV / GREENWICH ST</td>\n",
       "      <td>-122.424363</td>\n",
       "      <td>37.800414</td>\n",
       "    </tr>\n",
       "    <tr>\n",
       "      <th>3</th>\n",
       "      <td>5/13/15 23:30</td>\n",
       "      <td>LARCENY/THEFT</td>\n",
       "      <td>GRAND THEFT FROM LOCKED AUTO</td>\n",
       "      <td>Wednesday</td>\n",
       "      <td>NORTHERN</td>\n",
       "      <td>NONE</td>\n",
       "      <td>1500 Block of LOMBARD ST</td>\n",
       "      <td>-122.426995</td>\n",
       "      <td>37.800873</td>\n",
       "    </tr>\n",
       "    <tr>\n",
       "      <th>4</th>\n",
       "      <td>5/13/15 23:30</td>\n",
       "      <td>LARCENY/THEFT</td>\n",
       "      <td>GRAND THEFT FROM LOCKED AUTO</td>\n",
       "      <td>Wednesday</td>\n",
       "      <td>PARK</td>\n",
       "      <td>NONE</td>\n",
       "      <td>100 Block of BRODERICK ST</td>\n",
       "      <td>-122.438738</td>\n",
       "      <td>37.771541</td>\n",
       "    </tr>\n",
       "  </tbody>\n",
       "</table>\n",
       "</div>"
      ],
      "text/plain": [
       "           Dates        Category                      Descript  DayOfWeek  \\\n",
       "0  5/13/15 23:53        WARRANTS                WARRANT ARREST  Wednesday   \n",
       "1  5/13/15 23:53  OTHER OFFENSES      TRAFFIC VIOLATION ARREST  Wednesday   \n",
       "2  5/13/15 23:33  OTHER OFFENSES      TRAFFIC VIOLATION ARREST  Wednesday   \n",
       "3  5/13/15 23:30   LARCENY/THEFT  GRAND THEFT FROM LOCKED AUTO  Wednesday   \n",
       "4  5/13/15 23:30   LARCENY/THEFT  GRAND THEFT FROM LOCKED AUTO  Wednesday   \n",
       "\n",
       "  PdDistrict      Resolution                    Address           X          Y  \n",
       "0   NORTHERN  ARREST, BOOKED         OAK ST / LAGUNA ST -122.425892  37.774599  \n",
       "1   NORTHERN  ARREST, BOOKED         OAK ST / LAGUNA ST -122.425892  37.774599  \n",
       "2   NORTHERN  ARREST, BOOKED  VANNESS AV / GREENWICH ST -122.424363  37.800414  \n",
       "3   NORTHERN            NONE   1500 Block of LOMBARD ST -122.426995  37.800873  \n",
       "4       PARK            NONE  100 Block of BRODERICK ST -122.438738  37.771541  "
      ]
     },
     "execution_count": 3,
     "metadata": {},
     "output_type": "execute_result"
    }
   ],
   "source": [
    "sf_crime.head()"
   ]
  },
  {
   "cell_type": "markdown",
   "metadata": {
    "slideshow": {
     "slide_type": "slide"
    }
   },
   "source": [
    "## Data type conversions and transformations"
   ]
  },
  {
   "cell_type": "code",
   "execution_count": 4,
   "metadata": {
    "ExecuteTime": {
     "end_time": "2016-10-17T10:39:06.796409",
     "start_time": "2016-10-17T10:38:58.943043"
    },
    "collapsed": false,
    "slideshow": {
     "slide_type": "-"
    }
   },
   "outputs": [],
   "source": [
    "sf_crime['Dates'] = pd.to_datetime(sf_crime['Dates'])\n",
    "sf_crime_dates = pd.DatetimeIndex(sf_crime['Dates'].values, dtype='datetime64[ns]', freq=None)\n",
    "\n",
    "sf_crime['hour'] = sf_crime_dates.hour\n",
    "sf_crime['month'] = sf_crime_dates.month\n",
    "sf_crime['year'] = sf_crime_dates.year"
   ]
  },
  {
   "cell_type": "markdown",
   "metadata": {
    "slideshow": {
     "slide_type": "slide"
    }
   },
   "source": [
    "## Let's see what all the listed crimes are"
   ]
  },
  {
   "cell_type": "code",
   "execution_count": 5,
   "metadata": {
    "ExecuteTime": {
     "end_time": "2016-10-17T10:39:08.993315",
     "start_time": "2016-10-17T10:39:08.980054"
    },
    "collapsed": false,
    "slideshow": {
     "slide_type": "-"
    }
   },
   "outputs": [
    {
     "data": {
      "text/plain": [
       "array(['WARRANTS', 'OTHER OFFENSES', 'LARCENY/THEFT', 'VEHICLE THEFT',\n",
       "       'VANDALISM', 'NON-CRIMINAL', 'ROBBERY', 'ASSAULT', 'WEAPON LAWS',\n",
       "       'BURGLARY', 'SUSPICIOUS OCC', 'DRUNKENNESS',\n",
       "       'FORGERY/COUNTERFEITING', 'DRUG/NARCOTIC', 'STOLEN PROPERTY',\n",
       "       'SECONDARY CODES', 'TRESPASS', 'MISSING PERSON', 'FRAUD',\n",
       "       'KIDNAPPING', 'RUNAWAY', 'DRIVING UNDER THE INFLUENCE',\n",
       "       'SEX OFFENSES FORCIBLE', 'PROSTITUTION', 'DISORDERLY CONDUCT',\n",
       "       'ARSON', 'FAMILY OFFENSES', 'LIQUOR LAWS', 'BRIBERY',\n",
       "       'EMBEZZLEMENT', 'SUICIDE', 'LOITERING', 'SEX OFFENSES NON FORCIBLE',\n",
       "       'EXTORTION', 'GAMBLING', 'BAD CHECKS'], dtype=object)"
      ]
     },
     "execution_count": 5,
     "metadata": {},
     "output_type": "execute_result"
    }
   ],
   "source": [
    "sf_crime['Category'].unique()"
   ]
  },
  {
   "cell_type": "markdown",
   "metadata": {
    "slideshow": {
     "slide_type": "slide"
    }
   },
   "source": [
    "## We'll select a subsection of the listed crimes"
   ]
  },
  {
   "cell_type": "code",
   "execution_count": 6,
   "metadata": {
    "ExecuteTime": {
     "end_time": "2016-10-17T10:39:10.306578",
     "start_time": "2016-10-17T10:39:10.241416"
    },
    "collapsed": false,
    "slideshow": {
     "slide_type": "-"
    }
   },
   "outputs": [],
   "source": [
    "subset = ['VEHICLE THEFT','BURGLARY','DRUG/NARCOTIC']\n",
    "sf_crime_sub = sf_crime[sf_crime['Category'].isin(subset)]"
   ]
  },
  {
   "cell_type": "code",
   "execution_count": 7,
   "metadata": {
    "ExecuteTime": {
     "end_time": "2016-10-17T10:39:11.322308",
     "start_time": "2016-10-17T10:39:11.243228"
    },
    "collapsed": false,
    "scrolled": false,
    "slideshow": {
     "slide_type": "-"
    }
   },
   "outputs": [
    {
     "data": {
      "text/html": [
       "<div>\n",
       "<table border=\"1\" class=\"dataframe\">\n",
       "  <thead>\n",
       "    <tr style=\"text-align: right;\">\n",
       "      <th></th>\n",
       "      <th>Dates</th>\n",
       "      <th>Category</th>\n",
       "      <th>Descript</th>\n",
       "      <th>DayOfWeek</th>\n",
       "      <th>PdDistrict</th>\n",
       "      <th>Resolution</th>\n",
       "      <th>Address</th>\n",
       "      <th>X</th>\n",
       "      <th>Y</th>\n",
       "      <th>hour</th>\n",
       "      <th>month</th>\n",
       "      <th>year</th>\n",
       "    </tr>\n",
       "  </thead>\n",
       "  <tbody>\n",
       "    <tr>\n",
       "      <th>6</th>\n",
       "      <td>2015-05-13 23:30:00</td>\n",
       "      <td>VEHICLE THEFT</td>\n",
       "      <td>STOLEN AUTOMOBILE</td>\n",
       "      <td>Wednesday</td>\n",
       "      <td>INGLESIDE</td>\n",
       "      <td>NONE</td>\n",
       "      <td>AVALON AV / PERU AV</td>\n",
       "      <td>-122.423327</td>\n",
       "      <td>37.725138</td>\n",
       "      <td>23</td>\n",
       "      <td>5</td>\n",
       "      <td>2015</td>\n",
       "    </tr>\n",
       "    <tr>\n",
       "      <th>7</th>\n",
       "      <td>2015-05-13 23:30:00</td>\n",
       "      <td>VEHICLE THEFT</td>\n",
       "      <td>STOLEN AUTOMOBILE</td>\n",
       "      <td>Wednesday</td>\n",
       "      <td>BAYVIEW</td>\n",
       "      <td>NONE</td>\n",
       "      <td>KIRKWOOD AV / DONAHUE ST</td>\n",
       "      <td>-122.371274</td>\n",
       "      <td>37.727564</td>\n",
       "      <td>23</td>\n",
       "      <td>5</td>\n",
       "      <td>2015</td>\n",
       "    </tr>\n",
       "    <tr>\n",
       "      <th>46</th>\n",
       "      <td>2015-05-13 20:00:00</td>\n",
       "      <td>VEHICLE THEFT</td>\n",
       "      <td>STOLEN MOTORCYCLE</td>\n",
       "      <td>Wednesday</td>\n",
       "      <td>INGLESIDE</td>\n",
       "      <td>NONE</td>\n",
       "      <td>0 Block of CRESCENT AV</td>\n",
       "      <td>-122.423702</td>\n",
       "      <td>37.735233</td>\n",
       "      <td>20</td>\n",
       "      <td>5</td>\n",
       "      <td>2015</td>\n",
       "    </tr>\n",
       "    <tr>\n",
       "      <th>49</th>\n",
       "      <td>2015-05-13 19:52:00</td>\n",
       "      <td>BURGLARY</td>\n",
       "      <td>BURGLARY, VEHICLE (ARREST MADE)</td>\n",
       "      <td>Wednesday</td>\n",
       "      <td>PARK</td>\n",
       "      <td>ARREST, BOOKED</td>\n",
       "      <td>1500 Block of HAIGHT ST</td>\n",
       "      <td>-122.447761</td>\n",
       "      <td>37.769846</td>\n",
       "      <td>19</td>\n",
       "      <td>5</td>\n",
       "      <td>2015</td>\n",
       "    </tr>\n",
       "    <tr>\n",
       "      <th>59</th>\n",
       "      <td>2015-05-13 19:28:00</td>\n",
       "      <td>VEHICLE THEFT</td>\n",
       "      <td>STOLEN AND RECOVERED VEHICLE</td>\n",
       "      <td>Wednesday</td>\n",
       "      <td>CENTRAL</td>\n",
       "      <td>NONE</td>\n",
       "      <td>0 Block of SANSOME ST</td>\n",
       "      <td>-122.400720</td>\n",
       "      <td>37.790712</td>\n",
       "      <td>19</td>\n",
       "      <td>5</td>\n",
       "      <td>2015</td>\n",
       "    </tr>\n",
       "  </tbody>\n",
       "</table>\n",
       "</div>"
      ],
      "text/plain": [
       "                 Dates       Category                         Descript  \\\n",
       "6  2015-05-13 23:30:00  VEHICLE THEFT                STOLEN AUTOMOBILE   \n",
       "7  2015-05-13 23:30:00  VEHICLE THEFT                STOLEN AUTOMOBILE   \n",
       "46 2015-05-13 20:00:00  VEHICLE THEFT                STOLEN MOTORCYCLE   \n",
       "49 2015-05-13 19:52:00       BURGLARY  BURGLARY, VEHICLE (ARREST MADE)   \n",
       "59 2015-05-13 19:28:00  VEHICLE THEFT     STOLEN AND RECOVERED VEHICLE   \n",
       "\n",
       "    DayOfWeek PdDistrict      Resolution                   Address  \\\n",
       "6   Wednesday  INGLESIDE            NONE       AVALON AV / PERU AV   \n",
       "7   Wednesday    BAYVIEW            NONE  KIRKWOOD AV / DONAHUE ST   \n",
       "46  Wednesday  INGLESIDE            NONE    0 Block of CRESCENT AV   \n",
       "49  Wednesday       PARK  ARREST, BOOKED   1500 Block of HAIGHT ST   \n",
       "59  Wednesday    CENTRAL            NONE     0 Block of SANSOME ST   \n",
       "\n",
       "             X          Y  hour  month  year  \n",
       "6  -122.423327  37.725138    23      5  2015  \n",
       "7  -122.371274  37.727564    23      5  2015  \n",
       "46 -122.423702  37.735233    20      5  2015  \n",
       "49 -122.447761  37.769846    19      5  2015  \n",
       "59 -122.400720  37.790712    19      5  2015  "
      ]
     },
     "execution_count": 7,
     "metadata": {},
     "output_type": "execute_result"
    }
   ],
   "source": [
    "sf_crime_sub.head()"
   ]
  },
  {
   "cell_type": "markdown",
   "metadata": {
    "slideshow": {
     "slide_type": "slide"
    }
   },
   "source": [
    "## Check the total number of districts"
   ]
  },
  {
   "cell_type": "code",
   "execution_count": 8,
   "metadata": {
    "ExecuteTime": {
     "end_time": "2016-10-17T10:39:21.147727",
     "start_time": "2016-10-17T10:39:21.139151"
    },
    "collapsed": false,
    "slideshow": {
     "slide_type": "-"
    }
   },
   "outputs": [
    {
     "data": {
      "text/plain": [
       "array(['INGLESIDE', 'BAYVIEW', 'PARK', 'CENTRAL', 'MISSION', 'SOUTHERN',\n",
       "       'NORTHERN', 'RICHMOND', 'TARAVAL', 'TENDERLOIN'], dtype=object)"
      ]
     },
     "execution_count": 8,
     "metadata": {},
     "output_type": "execute_result"
    }
   ],
   "source": [
    "sf_crime_sub['PdDistrict'].unique()"
   ]
  },
  {
   "cell_type": "code",
   "execution_count": 9,
   "metadata": {
    "ExecuteTime": {
     "end_time": "2016-10-17T10:39:23.506340",
     "start_time": "2016-10-17T10:39:23.498870"
    },
    "collapsed": false,
    "slideshow": {
     "slide_type": "-"
    }
   },
   "outputs": [
    {
     "data": {
      "text/plain": [
       "10"
      ]
     },
     "execution_count": 9,
     "metadata": {},
     "output_type": "execute_result"
    }
   ],
   "source": [
    "sf_crime_sub['PdDistrict'].nunique()"
   ]
  },
  {
   "cell_type": "markdown",
   "metadata": {
    "slideshow": {
     "slide_type": "slide"
    }
   },
   "source": [
    "## Set up our design matrix and target vector with Patsy"
   ]
  },
  {
   "cell_type": "markdown",
   "metadata": {
    "slideshow": {
     "slide_type": "-"
    }
   },
   "source": [
    "### Patsy allows us to use R-style formulas to do this \n",
    "[Patsy Docs](http://patsy.readthedocs.io/en/latest/)"
   ]
  },
  {
   "cell_type": "code",
   "execution_count": 10,
   "metadata": {
    "ExecuteTime": {
     "end_time": "2016-10-17T10:40:45.557789",
     "start_time": "2016-10-17T10:40:45.416062"
    },
    "collapsed": false,
    "slideshow": {
     "slide_type": "-"
    }
   },
   "outputs": [],
   "source": [
    "X = patsy.dmatrix('~ C(hour) + C(DayOfWeek) + C(PdDistrict)', sf_crime_sub)\n",
    "y = sf_crime_sub['Category'].values"
   ]
  },
  {
   "cell_type": "code",
   "execution_count": 11,
   "metadata": {
    "ExecuteTime": {
     "end_time": "2016-10-17T10:40:48.043888",
     "start_time": "2016-10-17T10:40:48.032615"
    },
    "collapsed": false,
    "scrolled": true,
    "slideshow": {
     "slide_type": "slide"
    }
   },
   "outputs": [
    {
     "data": {
      "text/plain": [
       "array(['VEHICLE THEFT', 'VEHICLE THEFT', 'VEHICLE THEFT', ...,\n",
       "       'VEHICLE THEFT', 'BURGLARY', 'VEHICLE THEFT'], dtype=object)"
      ]
     },
     "execution_count": 11,
     "metadata": {},
     "output_type": "execute_result"
    }
   ],
   "source": [
    "y"
   ]
  },
  {
   "cell_type": "code",
   "execution_count": 12,
   "metadata": {
    "ExecuteTime": {
     "end_time": "2016-10-17T10:40:49.329470",
     "start_time": "2016-10-17T10:40:49.312061"
    },
    "collapsed": false,
    "scrolled": true,
    "slideshow": {
     "slide_type": "-"
    }
   },
   "outputs": [
    {
     "data": {
      "text/plain": [
       "['Intercept',\n",
       " 'C(hour)[T.1]',\n",
       " 'C(hour)[T.2]',\n",
       " 'C(hour)[T.3]',\n",
       " 'C(hour)[T.4]',\n",
       " 'C(hour)[T.5]',\n",
       " 'C(hour)[T.6]',\n",
       " 'C(hour)[T.7]',\n",
       " 'C(hour)[T.8]',\n",
       " 'C(hour)[T.9]',\n",
       " 'C(hour)[T.10]',\n",
       " 'C(hour)[T.11]',\n",
       " 'C(hour)[T.12]',\n",
       " 'C(hour)[T.13]',\n",
       " 'C(hour)[T.14]',\n",
       " 'C(hour)[T.15]',\n",
       " 'C(hour)[T.16]',\n",
       " 'C(hour)[T.17]',\n",
       " 'C(hour)[T.18]',\n",
       " 'C(hour)[T.19]',\n",
       " 'C(hour)[T.20]',\n",
       " 'C(hour)[T.21]',\n",
       " 'C(hour)[T.22]',\n",
       " 'C(hour)[T.23]',\n",
       " 'C(DayOfWeek)[T.Monday]',\n",
       " 'C(DayOfWeek)[T.Saturday]',\n",
       " 'C(DayOfWeek)[T.Sunday]',\n",
       " 'C(DayOfWeek)[T.Thursday]',\n",
       " 'C(DayOfWeek)[T.Tuesday]',\n",
       " 'C(DayOfWeek)[T.Wednesday]',\n",
       " 'C(PdDistrict)[T.CENTRAL]',\n",
       " 'C(PdDistrict)[T.INGLESIDE]',\n",
       " 'C(PdDistrict)[T.MISSION]',\n",
       " 'C(PdDistrict)[T.NORTHERN]',\n",
       " 'C(PdDistrict)[T.PARK]',\n",
       " 'C(PdDistrict)[T.RICHMOND]',\n",
       " 'C(PdDistrict)[T.SOUTHERN]',\n",
       " 'C(PdDistrict)[T.TARAVAL]',\n",
       " 'C(PdDistrict)[T.TENDERLOIN]']"
      ]
     },
     "execution_count": 12,
     "metadata": {},
     "output_type": "execute_result"
    }
   ],
   "source": [
    "X.design_info.column_names"
   ]
  },
  {
   "cell_type": "markdown",
   "metadata": {
    "slideshow": {
     "slide_type": "slide"
    }
   },
   "source": [
    "## Let's look at our design matrix as a DataFrame"
   ]
  },
  {
   "cell_type": "code",
   "execution_count": 13,
   "metadata": {
    "ExecuteTime": {
     "end_time": "2016-10-17T10:41:35.634597",
     "start_time": "2016-10-17T10:41:35.153455"
    },
    "collapsed": false,
    "scrolled": true,
    "slideshow": {
     "slide_type": "-"
    }
   },
   "outputs": [
    {
     "data": {
      "text/html": [
       "<div>\n",
       "<table border=\"1\" class=\"dataframe\">\n",
       "  <thead>\n",
       "    <tr style=\"text-align: right;\">\n",
       "      <th></th>\n",
       "      <th>Intercept</th>\n",
       "      <th>C(hour)[T.1]</th>\n",
       "      <th>C(hour)[T.2]</th>\n",
       "      <th>C(hour)[T.3]</th>\n",
       "      <th>C(hour)[T.4]</th>\n",
       "      <th>C(hour)[T.5]</th>\n",
       "      <th>C(hour)[T.6]</th>\n",
       "      <th>C(hour)[T.7]</th>\n",
       "      <th>C(hour)[T.8]</th>\n",
       "      <th>C(hour)[T.9]</th>\n",
       "      <th>...</th>\n",
       "      <th>C(PdDistrict)[T.CENTRAL]</th>\n",
       "      <th>C(PdDistrict)[T.INGLESIDE]</th>\n",
       "      <th>C(PdDistrict)[T.MISSION]</th>\n",
       "      <th>C(PdDistrict)[T.NORTHERN]</th>\n",
       "      <th>C(PdDistrict)[T.PARK]</th>\n",
       "      <th>C(PdDistrict)[T.RICHMOND]</th>\n",
       "      <th>C(PdDistrict)[T.SOUTHERN]</th>\n",
       "      <th>C(PdDistrict)[T.TARAVAL]</th>\n",
       "      <th>C(PdDistrict)[T.TENDERLOIN]</th>\n",
       "      <th>Target</th>\n",
       "    </tr>\n",
       "  </thead>\n",
       "  <tbody>\n",
       "    <tr>\n",
       "      <th>0</th>\n",
       "      <td>1.0</td>\n",
       "      <td>0.0</td>\n",
       "      <td>0.0</td>\n",
       "      <td>0.0</td>\n",
       "      <td>0.0</td>\n",
       "      <td>0.0</td>\n",
       "      <td>0.0</td>\n",
       "      <td>0.0</td>\n",
       "      <td>0.0</td>\n",
       "      <td>0.0</td>\n",
       "      <td>...</td>\n",
       "      <td>0.0</td>\n",
       "      <td>1.0</td>\n",
       "      <td>0.0</td>\n",
       "      <td>0.0</td>\n",
       "      <td>0.0</td>\n",
       "      <td>0.0</td>\n",
       "      <td>0.0</td>\n",
       "      <td>0.0</td>\n",
       "      <td>0.0</td>\n",
       "      <td>VEHICLE THEFT</td>\n",
       "    </tr>\n",
       "    <tr>\n",
       "      <th>1</th>\n",
       "      <td>1.0</td>\n",
       "      <td>0.0</td>\n",
       "      <td>0.0</td>\n",
       "      <td>0.0</td>\n",
       "      <td>0.0</td>\n",
       "      <td>0.0</td>\n",
       "      <td>0.0</td>\n",
       "      <td>0.0</td>\n",
       "      <td>0.0</td>\n",
       "      <td>0.0</td>\n",
       "      <td>...</td>\n",
       "      <td>0.0</td>\n",
       "      <td>0.0</td>\n",
       "      <td>0.0</td>\n",
       "      <td>0.0</td>\n",
       "      <td>0.0</td>\n",
       "      <td>0.0</td>\n",
       "      <td>0.0</td>\n",
       "      <td>0.0</td>\n",
       "      <td>0.0</td>\n",
       "      <td>VEHICLE THEFT</td>\n",
       "    </tr>\n",
       "    <tr>\n",
       "      <th>2</th>\n",
       "      <td>1.0</td>\n",
       "      <td>0.0</td>\n",
       "      <td>0.0</td>\n",
       "      <td>0.0</td>\n",
       "      <td>0.0</td>\n",
       "      <td>0.0</td>\n",
       "      <td>0.0</td>\n",
       "      <td>0.0</td>\n",
       "      <td>0.0</td>\n",
       "      <td>0.0</td>\n",
       "      <td>...</td>\n",
       "      <td>0.0</td>\n",
       "      <td>1.0</td>\n",
       "      <td>0.0</td>\n",
       "      <td>0.0</td>\n",
       "      <td>0.0</td>\n",
       "      <td>0.0</td>\n",
       "      <td>0.0</td>\n",
       "      <td>0.0</td>\n",
       "      <td>0.0</td>\n",
       "      <td>VEHICLE THEFT</td>\n",
       "    </tr>\n",
       "    <tr>\n",
       "      <th>3</th>\n",
       "      <td>1.0</td>\n",
       "      <td>0.0</td>\n",
       "      <td>0.0</td>\n",
       "      <td>0.0</td>\n",
       "      <td>0.0</td>\n",
       "      <td>0.0</td>\n",
       "      <td>0.0</td>\n",
       "      <td>0.0</td>\n",
       "      <td>0.0</td>\n",
       "      <td>0.0</td>\n",
       "      <td>...</td>\n",
       "      <td>0.0</td>\n",
       "      <td>0.0</td>\n",
       "      <td>0.0</td>\n",
       "      <td>0.0</td>\n",
       "      <td>1.0</td>\n",
       "      <td>0.0</td>\n",
       "      <td>0.0</td>\n",
       "      <td>0.0</td>\n",
       "      <td>0.0</td>\n",
       "      <td>BURGLARY</td>\n",
       "    </tr>\n",
       "    <tr>\n",
       "      <th>4</th>\n",
       "      <td>1.0</td>\n",
       "      <td>0.0</td>\n",
       "      <td>0.0</td>\n",
       "      <td>0.0</td>\n",
       "      <td>0.0</td>\n",
       "      <td>0.0</td>\n",
       "      <td>0.0</td>\n",
       "      <td>0.0</td>\n",
       "      <td>0.0</td>\n",
       "      <td>0.0</td>\n",
       "      <td>...</td>\n",
       "      <td>1.0</td>\n",
       "      <td>0.0</td>\n",
       "      <td>0.0</td>\n",
       "      <td>0.0</td>\n",
       "      <td>0.0</td>\n",
       "      <td>0.0</td>\n",
       "      <td>0.0</td>\n",
       "      <td>0.0</td>\n",
       "      <td>0.0</td>\n",
       "      <td>VEHICLE THEFT</td>\n",
       "    </tr>\n",
       "    <tr>\n",
       "      <th>5</th>\n",
       "      <td>1.0</td>\n",
       "      <td>0.0</td>\n",
       "      <td>0.0</td>\n",
       "      <td>0.0</td>\n",
       "      <td>0.0</td>\n",
       "      <td>0.0</td>\n",
       "      <td>0.0</td>\n",
       "      <td>0.0</td>\n",
       "      <td>0.0</td>\n",
       "      <td>0.0</td>\n",
       "      <td>...</td>\n",
       "      <td>1.0</td>\n",
       "      <td>0.0</td>\n",
       "      <td>0.0</td>\n",
       "      <td>0.0</td>\n",
       "      <td>0.0</td>\n",
       "      <td>0.0</td>\n",
       "      <td>0.0</td>\n",
       "      <td>0.0</td>\n",
       "      <td>0.0</td>\n",
       "      <td>VEHICLE THEFT</td>\n",
       "    </tr>\n",
       "    <tr>\n",
       "      <th>6</th>\n",
       "      <td>1.0</td>\n",
       "      <td>0.0</td>\n",
       "      <td>0.0</td>\n",
       "      <td>0.0</td>\n",
       "      <td>0.0</td>\n",
       "      <td>0.0</td>\n",
       "      <td>0.0</td>\n",
       "      <td>0.0</td>\n",
       "      <td>0.0</td>\n",
       "      <td>0.0</td>\n",
       "      <td>...</td>\n",
       "      <td>0.0</td>\n",
       "      <td>0.0</td>\n",
       "      <td>1.0</td>\n",
       "      <td>0.0</td>\n",
       "      <td>0.0</td>\n",
       "      <td>0.0</td>\n",
       "      <td>0.0</td>\n",
       "      <td>0.0</td>\n",
       "      <td>0.0</td>\n",
       "      <td>VEHICLE THEFT</td>\n",
       "    </tr>\n",
       "    <tr>\n",
       "      <th>7</th>\n",
       "      <td>1.0</td>\n",
       "      <td>0.0</td>\n",
       "      <td>0.0</td>\n",
       "      <td>0.0</td>\n",
       "      <td>0.0</td>\n",
       "      <td>0.0</td>\n",
       "      <td>0.0</td>\n",
       "      <td>0.0</td>\n",
       "      <td>0.0</td>\n",
       "      <td>0.0</td>\n",
       "      <td>...</td>\n",
       "      <td>0.0</td>\n",
       "      <td>0.0</td>\n",
       "      <td>0.0</td>\n",
       "      <td>0.0</td>\n",
       "      <td>0.0</td>\n",
       "      <td>0.0</td>\n",
       "      <td>0.0</td>\n",
       "      <td>0.0</td>\n",
       "      <td>0.0</td>\n",
       "      <td>BURGLARY</td>\n",
       "    </tr>\n",
       "    <tr>\n",
       "      <th>8</th>\n",
       "      <td>1.0</td>\n",
       "      <td>0.0</td>\n",
       "      <td>0.0</td>\n",
       "      <td>0.0</td>\n",
       "      <td>0.0</td>\n",
       "      <td>0.0</td>\n",
       "      <td>0.0</td>\n",
       "      <td>0.0</td>\n",
       "      <td>0.0</td>\n",
       "      <td>0.0</td>\n",
       "      <td>...</td>\n",
       "      <td>0.0</td>\n",
       "      <td>0.0</td>\n",
       "      <td>0.0</td>\n",
       "      <td>0.0</td>\n",
       "      <td>0.0</td>\n",
       "      <td>0.0</td>\n",
       "      <td>1.0</td>\n",
       "      <td>0.0</td>\n",
       "      <td>0.0</td>\n",
       "      <td>BURGLARY</td>\n",
       "    </tr>\n",
       "    <tr>\n",
       "      <th>9</th>\n",
       "      <td>1.0</td>\n",
       "      <td>0.0</td>\n",
       "      <td>0.0</td>\n",
       "      <td>0.0</td>\n",
       "      <td>0.0</td>\n",
       "      <td>0.0</td>\n",
       "      <td>0.0</td>\n",
       "      <td>0.0</td>\n",
       "      <td>0.0</td>\n",
       "      <td>0.0</td>\n",
       "      <td>...</td>\n",
       "      <td>0.0</td>\n",
       "      <td>0.0</td>\n",
       "      <td>0.0</td>\n",
       "      <td>0.0</td>\n",
       "      <td>0.0</td>\n",
       "      <td>0.0</td>\n",
       "      <td>1.0</td>\n",
       "      <td>0.0</td>\n",
       "      <td>0.0</td>\n",
       "      <td>BURGLARY</td>\n",
       "    </tr>\n",
       "    <tr>\n",
       "      <th>10</th>\n",
       "      <td>1.0</td>\n",
       "      <td>0.0</td>\n",
       "      <td>0.0</td>\n",
       "      <td>0.0</td>\n",
       "      <td>0.0</td>\n",
       "      <td>0.0</td>\n",
       "      <td>0.0</td>\n",
       "      <td>0.0</td>\n",
       "      <td>0.0</td>\n",
       "      <td>0.0</td>\n",
       "      <td>...</td>\n",
       "      <td>0.0</td>\n",
       "      <td>0.0</td>\n",
       "      <td>0.0</td>\n",
       "      <td>0.0</td>\n",
       "      <td>0.0</td>\n",
       "      <td>0.0</td>\n",
       "      <td>0.0</td>\n",
       "      <td>0.0</td>\n",
       "      <td>0.0</td>\n",
       "      <td>DRUG/NARCOTIC</td>\n",
       "    </tr>\n",
       "    <tr>\n",
       "      <th>11</th>\n",
       "      <td>1.0</td>\n",
       "      <td>0.0</td>\n",
       "      <td>0.0</td>\n",
       "      <td>0.0</td>\n",
       "      <td>0.0</td>\n",
       "      <td>0.0</td>\n",
       "      <td>0.0</td>\n",
       "      <td>0.0</td>\n",
       "      <td>0.0</td>\n",
       "      <td>0.0</td>\n",
       "      <td>...</td>\n",
       "      <td>1.0</td>\n",
       "      <td>0.0</td>\n",
       "      <td>0.0</td>\n",
       "      <td>0.0</td>\n",
       "      <td>0.0</td>\n",
       "      <td>0.0</td>\n",
       "      <td>0.0</td>\n",
       "      <td>0.0</td>\n",
       "      <td>0.0</td>\n",
       "      <td>BURGLARY</td>\n",
       "    </tr>\n",
       "    <tr>\n",
       "      <th>12</th>\n",
       "      <td>1.0</td>\n",
       "      <td>0.0</td>\n",
       "      <td>0.0</td>\n",
       "      <td>0.0</td>\n",
       "      <td>0.0</td>\n",
       "      <td>0.0</td>\n",
       "      <td>0.0</td>\n",
       "      <td>0.0</td>\n",
       "      <td>0.0</td>\n",
       "      <td>0.0</td>\n",
       "      <td>...</td>\n",
       "      <td>0.0</td>\n",
       "      <td>0.0</td>\n",
       "      <td>0.0</td>\n",
       "      <td>0.0</td>\n",
       "      <td>0.0</td>\n",
       "      <td>0.0</td>\n",
       "      <td>1.0</td>\n",
       "      <td>0.0</td>\n",
       "      <td>0.0</td>\n",
       "      <td>DRUG/NARCOTIC</td>\n",
       "    </tr>\n",
       "    <tr>\n",
       "      <th>13</th>\n",
       "      <td>1.0</td>\n",
       "      <td>0.0</td>\n",
       "      <td>0.0</td>\n",
       "      <td>0.0</td>\n",
       "      <td>0.0</td>\n",
       "      <td>0.0</td>\n",
       "      <td>0.0</td>\n",
       "      <td>0.0</td>\n",
       "      <td>0.0</td>\n",
       "      <td>0.0</td>\n",
       "      <td>...</td>\n",
       "      <td>0.0</td>\n",
       "      <td>0.0</td>\n",
       "      <td>0.0</td>\n",
       "      <td>1.0</td>\n",
       "      <td>0.0</td>\n",
       "      <td>0.0</td>\n",
       "      <td>0.0</td>\n",
       "      <td>0.0</td>\n",
       "      <td>0.0</td>\n",
       "      <td>BURGLARY</td>\n",
       "    </tr>\n",
       "    <tr>\n",
       "      <th>14</th>\n",
       "      <td>1.0</td>\n",
       "      <td>0.0</td>\n",
       "      <td>0.0</td>\n",
       "      <td>0.0</td>\n",
       "      <td>0.0</td>\n",
       "      <td>0.0</td>\n",
       "      <td>0.0</td>\n",
       "      <td>0.0</td>\n",
       "      <td>0.0</td>\n",
       "      <td>0.0</td>\n",
       "      <td>...</td>\n",
       "      <td>0.0</td>\n",
       "      <td>0.0</td>\n",
       "      <td>1.0</td>\n",
       "      <td>0.0</td>\n",
       "      <td>0.0</td>\n",
       "      <td>0.0</td>\n",
       "      <td>0.0</td>\n",
       "      <td>0.0</td>\n",
       "      <td>0.0</td>\n",
       "      <td>VEHICLE THEFT</td>\n",
       "    </tr>\n",
       "    <tr>\n",
       "      <th>15</th>\n",
       "      <td>1.0</td>\n",
       "      <td>0.0</td>\n",
       "      <td>0.0</td>\n",
       "      <td>0.0</td>\n",
       "      <td>0.0</td>\n",
       "      <td>0.0</td>\n",
       "      <td>0.0</td>\n",
       "      <td>0.0</td>\n",
       "      <td>0.0</td>\n",
       "      <td>0.0</td>\n",
       "      <td>...</td>\n",
       "      <td>0.0</td>\n",
       "      <td>0.0</td>\n",
       "      <td>0.0</td>\n",
       "      <td>1.0</td>\n",
       "      <td>0.0</td>\n",
       "      <td>0.0</td>\n",
       "      <td>0.0</td>\n",
       "      <td>0.0</td>\n",
       "      <td>0.0</td>\n",
       "      <td>VEHICLE THEFT</td>\n",
       "    </tr>\n",
       "    <tr>\n",
       "      <th>16</th>\n",
       "      <td>1.0</td>\n",
       "      <td>0.0</td>\n",
       "      <td>0.0</td>\n",
       "      <td>0.0</td>\n",
       "      <td>0.0</td>\n",
       "      <td>0.0</td>\n",
       "      <td>0.0</td>\n",
       "      <td>0.0</td>\n",
       "      <td>0.0</td>\n",
       "      <td>0.0</td>\n",
       "      <td>...</td>\n",
       "      <td>0.0</td>\n",
       "      <td>0.0</td>\n",
       "      <td>0.0</td>\n",
       "      <td>1.0</td>\n",
       "      <td>0.0</td>\n",
       "      <td>0.0</td>\n",
       "      <td>0.0</td>\n",
       "      <td>0.0</td>\n",
       "      <td>0.0</td>\n",
       "      <td>VEHICLE THEFT</td>\n",
       "    </tr>\n",
       "    <tr>\n",
       "      <th>17</th>\n",
       "      <td>1.0</td>\n",
       "      <td>0.0</td>\n",
       "      <td>0.0</td>\n",
       "      <td>0.0</td>\n",
       "      <td>0.0</td>\n",
       "      <td>0.0</td>\n",
       "      <td>0.0</td>\n",
       "      <td>0.0</td>\n",
       "      <td>0.0</td>\n",
       "      <td>0.0</td>\n",
       "      <td>...</td>\n",
       "      <td>0.0</td>\n",
       "      <td>0.0</td>\n",
       "      <td>0.0</td>\n",
       "      <td>1.0</td>\n",
       "      <td>0.0</td>\n",
       "      <td>0.0</td>\n",
       "      <td>0.0</td>\n",
       "      <td>0.0</td>\n",
       "      <td>0.0</td>\n",
       "      <td>VEHICLE THEFT</td>\n",
       "    </tr>\n",
       "    <tr>\n",
       "      <th>18</th>\n",
       "      <td>1.0</td>\n",
       "      <td>0.0</td>\n",
       "      <td>0.0</td>\n",
       "      <td>0.0</td>\n",
       "      <td>0.0</td>\n",
       "      <td>0.0</td>\n",
       "      <td>0.0</td>\n",
       "      <td>0.0</td>\n",
       "      <td>0.0</td>\n",
       "      <td>0.0</td>\n",
       "      <td>...</td>\n",
       "      <td>0.0</td>\n",
       "      <td>0.0</td>\n",
       "      <td>0.0</td>\n",
       "      <td>1.0</td>\n",
       "      <td>0.0</td>\n",
       "      <td>0.0</td>\n",
       "      <td>0.0</td>\n",
       "      <td>0.0</td>\n",
       "      <td>0.0</td>\n",
       "      <td>VEHICLE THEFT</td>\n",
       "    </tr>\n",
       "    <tr>\n",
       "      <th>19</th>\n",
       "      <td>1.0</td>\n",
       "      <td>0.0</td>\n",
       "      <td>0.0</td>\n",
       "      <td>0.0</td>\n",
       "      <td>0.0</td>\n",
       "      <td>0.0</td>\n",
       "      <td>0.0</td>\n",
       "      <td>0.0</td>\n",
       "      <td>0.0</td>\n",
       "      <td>0.0</td>\n",
       "      <td>...</td>\n",
       "      <td>0.0</td>\n",
       "      <td>0.0</td>\n",
       "      <td>0.0</td>\n",
       "      <td>0.0</td>\n",
       "      <td>0.0</td>\n",
       "      <td>0.0</td>\n",
       "      <td>1.0</td>\n",
       "      <td>0.0</td>\n",
       "      <td>0.0</td>\n",
       "      <td>BURGLARY</td>\n",
       "    </tr>\n",
       "    <tr>\n",
       "      <th>20</th>\n",
       "      <td>1.0</td>\n",
       "      <td>0.0</td>\n",
       "      <td>0.0</td>\n",
       "      <td>0.0</td>\n",
       "      <td>0.0</td>\n",
       "      <td>0.0</td>\n",
       "      <td>0.0</td>\n",
       "      <td>0.0</td>\n",
       "      <td>0.0</td>\n",
       "      <td>0.0</td>\n",
       "      <td>...</td>\n",
       "      <td>0.0</td>\n",
       "      <td>0.0</td>\n",
       "      <td>0.0</td>\n",
       "      <td>0.0</td>\n",
       "      <td>1.0</td>\n",
       "      <td>0.0</td>\n",
       "      <td>0.0</td>\n",
       "      <td>0.0</td>\n",
       "      <td>0.0</td>\n",
       "      <td>DRUG/NARCOTIC</td>\n",
       "    </tr>\n",
       "    <tr>\n",
       "      <th>21</th>\n",
       "      <td>1.0</td>\n",
       "      <td>0.0</td>\n",
       "      <td>0.0</td>\n",
       "      <td>0.0</td>\n",
       "      <td>0.0</td>\n",
       "      <td>0.0</td>\n",
       "      <td>0.0</td>\n",
       "      <td>0.0</td>\n",
       "      <td>0.0</td>\n",
       "      <td>0.0</td>\n",
       "      <td>...</td>\n",
       "      <td>0.0</td>\n",
       "      <td>0.0</td>\n",
       "      <td>0.0</td>\n",
       "      <td>0.0</td>\n",
       "      <td>1.0</td>\n",
       "      <td>0.0</td>\n",
       "      <td>0.0</td>\n",
       "      <td>0.0</td>\n",
       "      <td>0.0</td>\n",
       "      <td>DRUG/NARCOTIC</td>\n",
       "    </tr>\n",
       "    <tr>\n",
       "      <th>22</th>\n",
       "      <td>1.0</td>\n",
       "      <td>0.0</td>\n",
       "      <td>0.0</td>\n",
       "      <td>0.0</td>\n",
       "      <td>0.0</td>\n",
       "      <td>0.0</td>\n",
       "      <td>0.0</td>\n",
       "      <td>0.0</td>\n",
       "      <td>0.0</td>\n",
       "      <td>0.0</td>\n",
       "      <td>...</td>\n",
       "      <td>0.0</td>\n",
       "      <td>1.0</td>\n",
       "      <td>0.0</td>\n",
       "      <td>0.0</td>\n",
       "      <td>0.0</td>\n",
       "      <td>0.0</td>\n",
       "      <td>0.0</td>\n",
       "      <td>0.0</td>\n",
       "      <td>0.0</td>\n",
       "      <td>BURGLARY</td>\n",
       "    </tr>\n",
       "    <tr>\n",
       "      <th>23</th>\n",
       "      <td>1.0</td>\n",
       "      <td>0.0</td>\n",
       "      <td>0.0</td>\n",
       "      <td>0.0</td>\n",
       "      <td>0.0</td>\n",
       "      <td>0.0</td>\n",
       "      <td>0.0</td>\n",
       "      <td>0.0</td>\n",
       "      <td>0.0</td>\n",
       "      <td>0.0</td>\n",
       "      <td>...</td>\n",
       "      <td>0.0</td>\n",
       "      <td>0.0</td>\n",
       "      <td>0.0</td>\n",
       "      <td>0.0</td>\n",
       "      <td>0.0</td>\n",
       "      <td>1.0</td>\n",
       "      <td>0.0</td>\n",
       "      <td>0.0</td>\n",
       "      <td>0.0</td>\n",
       "      <td>VEHICLE THEFT</td>\n",
       "    </tr>\n",
       "    <tr>\n",
       "      <th>24</th>\n",
       "      <td>1.0</td>\n",
       "      <td>0.0</td>\n",
       "      <td>0.0</td>\n",
       "      <td>0.0</td>\n",
       "      <td>0.0</td>\n",
       "      <td>0.0</td>\n",
       "      <td>0.0</td>\n",
       "      <td>0.0</td>\n",
       "      <td>0.0</td>\n",
       "      <td>0.0</td>\n",
       "      <td>...</td>\n",
       "      <td>0.0</td>\n",
       "      <td>1.0</td>\n",
       "      <td>0.0</td>\n",
       "      <td>0.0</td>\n",
       "      <td>0.0</td>\n",
       "      <td>0.0</td>\n",
       "      <td>0.0</td>\n",
       "      <td>0.0</td>\n",
       "      <td>0.0</td>\n",
       "      <td>BURGLARY</td>\n",
       "    </tr>\n",
       "    <tr>\n",
       "      <th>25</th>\n",
       "      <td>1.0</td>\n",
       "      <td>0.0</td>\n",
       "      <td>0.0</td>\n",
       "      <td>0.0</td>\n",
       "      <td>0.0</td>\n",
       "      <td>0.0</td>\n",
       "      <td>0.0</td>\n",
       "      <td>0.0</td>\n",
       "      <td>0.0</td>\n",
       "      <td>0.0</td>\n",
       "      <td>...</td>\n",
       "      <td>0.0</td>\n",
       "      <td>1.0</td>\n",
       "      <td>0.0</td>\n",
       "      <td>0.0</td>\n",
       "      <td>0.0</td>\n",
       "      <td>0.0</td>\n",
       "      <td>0.0</td>\n",
       "      <td>0.0</td>\n",
       "      <td>0.0</td>\n",
       "      <td>VEHICLE THEFT</td>\n",
       "    </tr>\n",
       "    <tr>\n",
       "      <th>26</th>\n",
       "      <td>1.0</td>\n",
       "      <td>0.0</td>\n",
       "      <td>0.0</td>\n",
       "      <td>0.0</td>\n",
       "      <td>0.0</td>\n",
       "      <td>0.0</td>\n",
       "      <td>0.0</td>\n",
       "      <td>0.0</td>\n",
       "      <td>0.0</td>\n",
       "      <td>0.0</td>\n",
       "      <td>...</td>\n",
       "      <td>0.0</td>\n",
       "      <td>0.0</td>\n",
       "      <td>0.0</td>\n",
       "      <td>0.0</td>\n",
       "      <td>0.0</td>\n",
       "      <td>0.0</td>\n",
       "      <td>0.0</td>\n",
       "      <td>1.0</td>\n",
       "      <td>0.0</td>\n",
       "      <td>BURGLARY</td>\n",
       "    </tr>\n",
       "    <tr>\n",
       "      <th>27</th>\n",
       "      <td>1.0</td>\n",
       "      <td>0.0</td>\n",
       "      <td>0.0</td>\n",
       "      <td>0.0</td>\n",
       "      <td>0.0</td>\n",
       "      <td>0.0</td>\n",
       "      <td>0.0</td>\n",
       "      <td>0.0</td>\n",
       "      <td>0.0</td>\n",
       "      <td>0.0</td>\n",
       "      <td>...</td>\n",
       "      <td>0.0</td>\n",
       "      <td>0.0</td>\n",
       "      <td>1.0</td>\n",
       "      <td>0.0</td>\n",
       "      <td>0.0</td>\n",
       "      <td>0.0</td>\n",
       "      <td>0.0</td>\n",
       "      <td>0.0</td>\n",
       "      <td>0.0</td>\n",
       "      <td>DRUG/NARCOTIC</td>\n",
       "    </tr>\n",
       "    <tr>\n",
       "      <th>28</th>\n",
       "      <td>1.0</td>\n",
       "      <td>0.0</td>\n",
       "      <td>0.0</td>\n",
       "      <td>0.0</td>\n",
       "      <td>0.0</td>\n",
       "      <td>0.0</td>\n",
       "      <td>0.0</td>\n",
       "      <td>0.0</td>\n",
       "      <td>0.0</td>\n",
       "      <td>0.0</td>\n",
       "      <td>...</td>\n",
       "      <td>0.0</td>\n",
       "      <td>0.0</td>\n",
       "      <td>1.0</td>\n",
       "      <td>0.0</td>\n",
       "      <td>0.0</td>\n",
       "      <td>0.0</td>\n",
       "      <td>0.0</td>\n",
       "      <td>0.0</td>\n",
       "      <td>0.0</td>\n",
       "      <td>DRUG/NARCOTIC</td>\n",
       "    </tr>\n",
       "    <tr>\n",
       "      <th>29</th>\n",
       "      <td>1.0</td>\n",
       "      <td>0.0</td>\n",
       "      <td>0.0</td>\n",
       "      <td>0.0</td>\n",
       "      <td>0.0</td>\n",
       "      <td>0.0</td>\n",
       "      <td>0.0</td>\n",
       "      <td>0.0</td>\n",
       "      <td>0.0</td>\n",
       "      <td>0.0</td>\n",
       "      <td>...</td>\n",
       "      <td>0.0</td>\n",
       "      <td>0.0</td>\n",
       "      <td>0.0</td>\n",
       "      <td>1.0</td>\n",
       "      <td>0.0</td>\n",
       "      <td>0.0</td>\n",
       "      <td>0.0</td>\n",
       "      <td>0.0</td>\n",
       "      <td>0.0</td>\n",
       "      <td>BURGLARY</td>\n",
       "    </tr>\n",
       "    <tr>\n",
       "      <th>...</th>\n",
       "      <td>...</td>\n",
       "      <td>...</td>\n",
       "      <td>...</td>\n",
       "      <td>...</td>\n",
       "      <td>...</td>\n",
       "      <td>...</td>\n",
       "      <td>...</td>\n",
       "      <td>...</td>\n",
       "      <td>...</td>\n",
       "      <td>...</td>\n",
       "      <td>...</td>\n",
       "      <td>...</td>\n",
       "      <td>...</td>\n",
       "      <td>...</td>\n",
       "      <td>...</td>\n",
       "      <td>...</td>\n",
       "      <td>...</td>\n",
       "      <td>...</td>\n",
       "      <td>...</td>\n",
       "      <td>...</td>\n",
       "      <td>...</td>\n",
       "    </tr>\n",
       "    <tr>\n",
       "      <th>2165</th>\n",
       "      <td>1.0</td>\n",
       "      <td>0.0</td>\n",
       "      <td>0.0</td>\n",
       "      <td>0.0</td>\n",
       "      <td>0.0</td>\n",
       "      <td>0.0</td>\n",
       "      <td>0.0</td>\n",
       "      <td>0.0</td>\n",
       "      <td>0.0</td>\n",
       "      <td>0.0</td>\n",
       "      <td>...</td>\n",
       "      <td>0.0</td>\n",
       "      <td>0.0</td>\n",
       "      <td>0.0</td>\n",
       "      <td>0.0</td>\n",
       "      <td>0.0</td>\n",
       "      <td>0.0</td>\n",
       "      <td>0.0</td>\n",
       "      <td>0.0</td>\n",
       "      <td>0.0</td>\n",
       "      <td>DRUG/NARCOTIC</td>\n",
       "    </tr>\n",
       "    <tr>\n",
       "      <th>2166</th>\n",
       "      <td>1.0</td>\n",
       "      <td>0.0</td>\n",
       "      <td>0.0</td>\n",
       "      <td>0.0</td>\n",
       "      <td>0.0</td>\n",
       "      <td>0.0</td>\n",
       "      <td>0.0</td>\n",
       "      <td>0.0</td>\n",
       "      <td>0.0</td>\n",
       "      <td>0.0</td>\n",
       "      <td>...</td>\n",
       "      <td>0.0</td>\n",
       "      <td>0.0</td>\n",
       "      <td>0.0</td>\n",
       "      <td>0.0</td>\n",
       "      <td>0.0</td>\n",
       "      <td>0.0</td>\n",
       "      <td>0.0</td>\n",
       "      <td>0.0</td>\n",
       "      <td>0.0</td>\n",
       "      <td>DRUG/NARCOTIC</td>\n",
       "    </tr>\n",
       "    <tr>\n",
       "      <th>2167</th>\n",
       "      <td>1.0</td>\n",
       "      <td>0.0</td>\n",
       "      <td>0.0</td>\n",
       "      <td>0.0</td>\n",
       "      <td>0.0</td>\n",
       "      <td>0.0</td>\n",
       "      <td>0.0</td>\n",
       "      <td>0.0</td>\n",
       "      <td>0.0</td>\n",
       "      <td>0.0</td>\n",
       "      <td>...</td>\n",
       "      <td>0.0</td>\n",
       "      <td>1.0</td>\n",
       "      <td>0.0</td>\n",
       "      <td>0.0</td>\n",
       "      <td>0.0</td>\n",
       "      <td>0.0</td>\n",
       "      <td>0.0</td>\n",
       "      <td>0.0</td>\n",
       "      <td>0.0</td>\n",
       "      <td>VEHICLE THEFT</td>\n",
       "    </tr>\n",
       "    <tr>\n",
       "      <th>2168</th>\n",
       "      <td>1.0</td>\n",
       "      <td>0.0</td>\n",
       "      <td>0.0</td>\n",
       "      <td>0.0</td>\n",
       "      <td>0.0</td>\n",
       "      <td>0.0</td>\n",
       "      <td>0.0</td>\n",
       "      <td>0.0</td>\n",
       "      <td>0.0</td>\n",
       "      <td>0.0</td>\n",
       "      <td>...</td>\n",
       "      <td>0.0</td>\n",
       "      <td>0.0</td>\n",
       "      <td>0.0</td>\n",
       "      <td>0.0</td>\n",
       "      <td>1.0</td>\n",
       "      <td>0.0</td>\n",
       "      <td>0.0</td>\n",
       "      <td>0.0</td>\n",
       "      <td>0.0</td>\n",
       "      <td>VEHICLE THEFT</td>\n",
       "    </tr>\n",
       "    <tr>\n",
       "      <th>2169</th>\n",
       "      <td>1.0</td>\n",
       "      <td>0.0</td>\n",
       "      <td>0.0</td>\n",
       "      <td>0.0</td>\n",
       "      <td>0.0</td>\n",
       "      <td>0.0</td>\n",
       "      <td>0.0</td>\n",
       "      <td>0.0</td>\n",
       "      <td>0.0</td>\n",
       "      <td>0.0</td>\n",
       "      <td>...</td>\n",
       "      <td>0.0</td>\n",
       "      <td>1.0</td>\n",
       "      <td>0.0</td>\n",
       "      <td>0.0</td>\n",
       "      <td>0.0</td>\n",
       "      <td>0.0</td>\n",
       "      <td>0.0</td>\n",
       "      <td>0.0</td>\n",
       "      <td>0.0</td>\n",
       "      <td>VEHICLE THEFT</td>\n",
       "    </tr>\n",
       "    <tr>\n",
       "      <th>2170</th>\n",
       "      <td>1.0</td>\n",
       "      <td>0.0</td>\n",
       "      <td>0.0</td>\n",
       "      <td>0.0</td>\n",
       "      <td>0.0</td>\n",
       "      <td>0.0</td>\n",
       "      <td>0.0</td>\n",
       "      <td>0.0</td>\n",
       "      <td>0.0</td>\n",
       "      <td>0.0</td>\n",
       "      <td>...</td>\n",
       "      <td>0.0</td>\n",
       "      <td>1.0</td>\n",
       "      <td>0.0</td>\n",
       "      <td>0.0</td>\n",
       "      <td>0.0</td>\n",
       "      <td>0.0</td>\n",
       "      <td>0.0</td>\n",
       "      <td>0.0</td>\n",
       "      <td>0.0</td>\n",
       "      <td>BURGLARY</td>\n",
       "    </tr>\n",
       "    <tr>\n",
       "      <th>2171</th>\n",
       "      <td>1.0</td>\n",
       "      <td>0.0</td>\n",
       "      <td>0.0</td>\n",
       "      <td>0.0</td>\n",
       "      <td>0.0</td>\n",
       "      <td>0.0</td>\n",
       "      <td>0.0</td>\n",
       "      <td>0.0</td>\n",
       "      <td>0.0</td>\n",
       "      <td>1.0</td>\n",
       "      <td>...</td>\n",
       "      <td>1.0</td>\n",
       "      <td>0.0</td>\n",
       "      <td>0.0</td>\n",
       "      <td>0.0</td>\n",
       "      <td>0.0</td>\n",
       "      <td>0.0</td>\n",
       "      <td>0.0</td>\n",
       "      <td>0.0</td>\n",
       "      <td>0.0</td>\n",
       "      <td>VEHICLE THEFT</td>\n",
       "    </tr>\n",
       "    <tr>\n",
       "      <th>2172</th>\n",
       "      <td>1.0</td>\n",
       "      <td>0.0</td>\n",
       "      <td>0.0</td>\n",
       "      <td>0.0</td>\n",
       "      <td>0.0</td>\n",
       "      <td>0.0</td>\n",
       "      <td>0.0</td>\n",
       "      <td>0.0</td>\n",
       "      <td>1.0</td>\n",
       "      <td>0.0</td>\n",
       "      <td>...</td>\n",
       "      <td>1.0</td>\n",
       "      <td>0.0</td>\n",
       "      <td>0.0</td>\n",
       "      <td>0.0</td>\n",
       "      <td>0.0</td>\n",
       "      <td>0.0</td>\n",
       "      <td>0.0</td>\n",
       "      <td>0.0</td>\n",
       "      <td>0.0</td>\n",
       "      <td>BURGLARY</td>\n",
       "    </tr>\n",
       "    <tr>\n",
       "      <th>2173</th>\n",
       "      <td>1.0</td>\n",
       "      <td>0.0</td>\n",
       "      <td>0.0</td>\n",
       "      <td>0.0</td>\n",
       "      <td>0.0</td>\n",
       "      <td>0.0</td>\n",
       "      <td>0.0</td>\n",
       "      <td>0.0</td>\n",
       "      <td>1.0</td>\n",
       "      <td>0.0</td>\n",
       "      <td>...</td>\n",
       "      <td>0.0</td>\n",
       "      <td>0.0</td>\n",
       "      <td>0.0</td>\n",
       "      <td>0.0</td>\n",
       "      <td>0.0</td>\n",
       "      <td>1.0</td>\n",
       "      <td>0.0</td>\n",
       "      <td>0.0</td>\n",
       "      <td>0.0</td>\n",
       "      <td>VEHICLE THEFT</td>\n",
       "    </tr>\n",
       "    <tr>\n",
       "      <th>2174</th>\n",
       "      <td>1.0</td>\n",
       "      <td>0.0</td>\n",
       "      <td>0.0</td>\n",
       "      <td>0.0</td>\n",
       "      <td>0.0</td>\n",
       "      <td>0.0</td>\n",
       "      <td>0.0</td>\n",
       "      <td>0.0</td>\n",
       "      <td>1.0</td>\n",
       "      <td>0.0</td>\n",
       "      <td>...</td>\n",
       "      <td>0.0</td>\n",
       "      <td>0.0</td>\n",
       "      <td>0.0</td>\n",
       "      <td>0.0</td>\n",
       "      <td>0.0</td>\n",
       "      <td>0.0</td>\n",
       "      <td>0.0</td>\n",
       "      <td>0.0</td>\n",
       "      <td>0.0</td>\n",
       "      <td>VEHICLE THEFT</td>\n",
       "    </tr>\n",
       "    <tr>\n",
       "      <th>2175</th>\n",
       "      <td>1.0</td>\n",
       "      <td>0.0</td>\n",
       "      <td>0.0</td>\n",
       "      <td>0.0</td>\n",
       "      <td>0.0</td>\n",
       "      <td>0.0</td>\n",
       "      <td>0.0</td>\n",
       "      <td>0.0</td>\n",
       "      <td>1.0</td>\n",
       "      <td>0.0</td>\n",
       "      <td>...</td>\n",
       "      <td>0.0</td>\n",
       "      <td>0.0</td>\n",
       "      <td>0.0</td>\n",
       "      <td>0.0</td>\n",
       "      <td>0.0</td>\n",
       "      <td>0.0</td>\n",
       "      <td>1.0</td>\n",
       "      <td>0.0</td>\n",
       "      <td>0.0</td>\n",
       "      <td>VEHICLE THEFT</td>\n",
       "    </tr>\n",
       "    <tr>\n",
       "      <th>2176</th>\n",
       "      <td>1.0</td>\n",
       "      <td>0.0</td>\n",
       "      <td>0.0</td>\n",
       "      <td>0.0</td>\n",
       "      <td>0.0</td>\n",
       "      <td>0.0</td>\n",
       "      <td>0.0</td>\n",
       "      <td>0.0</td>\n",
       "      <td>1.0</td>\n",
       "      <td>0.0</td>\n",
       "      <td>...</td>\n",
       "      <td>0.0</td>\n",
       "      <td>0.0</td>\n",
       "      <td>0.0</td>\n",
       "      <td>0.0</td>\n",
       "      <td>0.0</td>\n",
       "      <td>0.0</td>\n",
       "      <td>1.0</td>\n",
       "      <td>0.0</td>\n",
       "      <td>0.0</td>\n",
       "      <td>BURGLARY</td>\n",
       "    </tr>\n",
       "    <tr>\n",
       "      <th>2177</th>\n",
       "      <td>1.0</td>\n",
       "      <td>0.0</td>\n",
       "      <td>0.0</td>\n",
       "      <td>0.0</td>\n",
       "      <td>0.0</td>\n",
       "      <td>0.0</td>\n",
       "      <td>0.0</td>\n",
       "      <td>1.0</td>\n",
       "      <td>0.0</td>\n",
       "      <td>0.0</td>\n",
       "      <td>...</td>\n",
       "      <td>0.0</td>\n",
       "      <td>0.0</td>\n",
       "      <td>0.0</td>\n",
       "      <td>0.0</td>\n",
       "      <td>0.0</td>\n",
       "      <td>1.0</td>\n",
       "      <td>0.0</td>\n",
       "      <td>0.0</td>\n",
       "      <td>0.0</td>\n",
       "      <td>VEHICLE THEFT</td>\n",
       "    </tr>\n",
       "    <tr>\n",
       "      <th>2178</th>\n",
       "      <td>1.0</td>\n",
       "      <td>0.0</td>\n",
       "      <td>0.0</td>\n",
       "      <td>0.0</td>\n",
       "      <td>0.0</td>\n",
       "      <td>0.0</td>\n",
       "      <td>1.0</td>\n",
       "      <td>0.0</td>\n",
       "      <td>0.0</td>\n",
       "      <td>0.0</td>\n",
       "      <td>...</td>\n",
       "      <td>0.0</td>\n",
       "      <td>0.0</td>\n",
       "      <td>0.0</td>\n",
       "      <td>1.0</td>\n",
       "      <td>0.0</td>\n",
       "      <td>0.0</td>\n",
       "      <td>0.0</td>\n",
       "      <td>0.0</td>\n",
       "      <td>0.0</td>\n",
       "      <td>BURGLARY</td>\n",
       "    </tr>\n",
       "    <tr>\n",
       "      <th>2179</th>\n",
       "      <td>1.0</td>\n",
       "      <td>0.0</td>\n",
       "      <td>0.0</td>\n",
       "      <td>0.0</td>\n",
       "      <td>0.0</td>\n",
       "      <td>1.0</td>\n",
       "      <td>0.0</td>\n",
       "      <td>0.0</td>\n",
       "      <td>0.0</td>\n",
       "      <td>0.0</td>\n",
       "      <td>...</td>\n",
       "      <td>0.0</td>\n",
       "      <td>0.0</td>\n",
       "      <td>0.0</td>\n",
       "      <td>0.0</td>\n",
       "      <td>0.0</td>\n",
       "      <td>0.0</td>\n",
       "      <td>1.0</td>\n",
       "      <td>0.0</td>\n",
       "      <td>0.0</td>\n",
       "      <td>BURGLARY</td>\n",
       "    </tr>\n",
       "    <tr>\n",
       "      <th>2180</th>\n",
       "      <td>1.0</td>\n",
       "      <td>0.0</td>\n",
       "      <td>0.0</td>\n",
       "      <td>1.0</td>\n",
       "      <td>0.0</td>\n",
       "      <td>0.0</td>\n",
       "      <td>0.0</td>\n",
       "      <td>0.0</td>\n",
       "      <td>0.0</td>\n",
       "      <td>0.0</td>\n",
       "      <td>...</td>\n",
       "      <td>0.0</td>\n",
       "      <td>1.0</td>\n",
       "      <td>0.0</td>\n",
       "      <td>0.0</td>\n",
       "      <td>0.0</td>\n",
       "      <td>0.0</td>\n",
       "      <td>0.0</td>\n",
       "      <td>0.0</td>\n",
       "      <td>0.0</td>\n",
       "      <td>DRUG/NARCOTIC</td>\n",
       "    </tr>\n",
       "    <tr>\n",
       "      <th>2181</th>\n",
       "      <td>1.0</td>\n",
       "      <td>0.0</td>\n",
       "      <td>1.0</td>\n",
       "      <td>0.0</td>\n",
       "      <td>0.0</td>\n",
       "      <td>0.0</td>\n",
       "      <td>0.0</td>\n",
       "      <td>0.0</td>\n",
       "      <td>0.0</td>\n",
       "      <td>0.0</td>\n",
       "      <td>...</td>\n",
       "      <td>0.0</td>\n",
       "      <td>0.0</td>\n",
       "      <td>0.0</td>\n",
       "      <td>0.0</td>\n",
       "      <td>1.0</td>\n",
       "      <td>0.0</td>\n",
       "      <td>0.0</td>\n",
       "      <td>0.0</td>\n",
       "      <td>0.0</td>\n",
       "      <td>BURGLARY</td>\n",
       "    </tr>\n",
       "    <tr>\n",
       "      <th>2182</th>\n",
       "      <td>1.0</td>\n",
       "      <td>1.0</td>\n",
       "      <td>0.0</td>\n",
       "      <td>0.0</td>\n",
       "      <td>0.0</td>\n",
       "      <td>0.0</td>\n",
       "      <td>0.0</td>\n",
       "      <td>0.0</td>\n",
       "      <td>0.0</td>\n",
       "      <td>0.0</td>\n",
       "      <td>...</td>\n",
       "      <td>0.0</td>\n",
       "      <td>1.0</td>\n",
       "      <td>0.0</td>\n",
       "      <td>0.0</td>\n",
       "      <td>0.0</td>\n",
       "      <td>0.0</td>\n",
       "      <td>0.0</td>\n",
       "      <td>0.0</td>\n",
       "      <td>0.0</td>\n",
       "      <td>VEHICLE THEFT</td>\n",
       "    </tr>\n",
       "    <tr>\n",
       "      <th>2183</th>\n",
       "      <td>1.0</td>\n",
       "      <td>0.0</td>\n",
       "      <td>0.0</td>\n",
       "      <td>0.0</td>\n",
       "      <td>0.0</td>\n",
       "      <td>0.0</td>\n",
       "      <td>0.0</td>\n",
       "      <td>0.0</td>\n",
       "      <td>0.0</td>\n",
       "      <td>0.0</td>\n",
       "      <td>...</td>\n",
       "      <td>0.0</td>\n",
       "      <td>0.0</td>\n",
       "      <td>0.0</td>\n",
       "      <td>0.0</td>\n",
       "      <td>0.0</td>\n",
       "      <td>0.0</td>\n",
       "      <td>0.0</td>\n",
       "      <td>0.0</td>\n",
       "      <td>1.0</td>\n",
       "      <td>BURGLARY</td>\n",
       "    </tr>\n",
       "    <tr>\n",
       "      <th>2184</th>\n",
       "      <td>1.0</td>\n",
       "      <td>0.0</td>\n",
       "      <td>0.0</td>\n",
       "      <td>0.0</td>\n",
       "      <td>0.0</td>\n",
       "      <td>0.0</td>\n",
       "      <td>0.0</td>\n",
       "      <td>0.0</td>\n",
       "      <td>0.0</td>\n",
       "      <td>0.0</td>\n",
       "      <td>...</td>\n",
       "      <td>0.0</td>\n",
       "      <td>0.0</td>\n",
       "      <td>0.0</td>\n",
       "      <td>1.0</td>\n",
       "      <td>0.0</td>\n",
       "      <td>0.0</td>\n",
       "      <td>0.0</td>\n",
       "      <td>0.0</td>\n",
       "      <td>0.0</td>\n",
       "      <td>BURGLARY</td>\n",
       "    </tr>\n",
       "    <tr>\n",
       "      <th>2185</th>\n",
       "      <td>1.0</td>\n",
       "      <td>0.0</td>\n",
       "      <td>0.0</td>\n",
       "      <td>0.0</td>\n",
       "      <td>0.0</td>\n",
       "      <td>0.0</td>\n",
       "      <td>0.0</td>\n",
       "      <td>0.0</td>\n",
       "      <td>0.0</td>\n",
       "      <td>0.0</td>\n",
       "      <td>...</td>\n",
       "      <td>0.0</td>\n",
       "      <td>0.0</td>\n",
       "      <td>0.0</td>\n",
       "      <td>0.0</td>\n",
       "      <td>0.0</td>\n",
       "      <td>0.0</td>\n",
       "      <td>0.0</td>\n",
       "      <td>0.0</td>\n",
       "      <td>1.0</td>\n",
       "      <td>DRUG/NARCOTIC</td>\n",
       "    </tr>\n",
       "    <tr>\n",
       "      <th>2186</th>\n",
       "      <td>1.0</td>\n",
       "      <td>0.0</td>\n",
       "      <td>0.0</td>\n",
       "      <td>0.0</td>\n",
       "      <td>0.0</td>\n",
       "      <td>0.0</td>\n",
       "      <td>0.0</td>\n",
       "      <td>0.0</td>\n",
       "      <td>0.0</td>\n",
       "      <td>0.0</td>\n",
       "      <td>...</td>\n",
       "      <td>0.0</td>\n",
       "      <td>0.0</td>\n",
       "      <td>0.0</td>\n",
       "      <td>0.0</td>\n",
       "      <td>0.0</td>\n",
       "      <td>0.0</td>\n",
       "      <td>0.0</td>\n",
       "      <td>0.0</td>\n",
       "      <td>0.0</td>\n",
       "      <td>VEHICLE THEFT</td>\n",
       "    </tr>\n",
       "    <tr>\n",
       "      <th>2187</th>\n",
       "      <td>1.0</td>\n",
       "      <td>0.0</td>\n",
       "      <td>0.0</td>\n",
       "      <td>0.0</td>\n",
       "      <td>0.0</td>\n",
       "      <td>0.0</td>\n",
       "      <td>0.0</td>\n",
       "      <td>0.0</td>\n",
       "      <td>0.0</td>\n",
       "      <td>0.0</td>\n",
       "      <td>...</td>\n",
       "      <td>0.0</td>\n",
       "      <td>0.0</td>\n",
       "      <td>0.0</td>\n",
       "      <td>0.0</td>\n",
       "      <td>0.0</td>\n",
       "      <td>0.0</td>\n",
       "      <td>0.0</td>\n",
       "      <td>0.0</td>\n",
       "      <td>0.0</td>\n",
       "      <td>VEHICLE THEFT</td>\n",
       "    </tr>\n",
       "    <tr>\n",
       "      <th>2188</th>\n",
       "      <td>1.0</td>\n",
       "      <td>0.0</td>\n",
       "      <td>0.0</td>\n",
       "      <td>0.0</td>\n",
       "      <td>0.0</td>\n",
       "      <td>0.0</td>\n",
       "      <td>0.0</td>\n",
       "      <td>0.0</td>\n",
       "      <td>0.0</td>\n",
       "      <td>0.0</td>\n",
       "      <td>...</td>\n",
       "      <td>0.0</td>\n",
       "      <td>0.0</td>\n",
       "      <td>1.0</td>\n",
       "      <td>0.0</td>\n",
       "      <td>0.0</td>\n",
       "      <td>0.0</td>\n",
       "      <td>0.0</td>\n",
       "      <td>0.0</td>\n",
       "      <td>0.0</td>\n",
       "      <td>VEHICLE THEFT</td>\n",
       "    </tr>\n",
       "    <tr>\n",
       "      <th>2189</th>\n",
       "      <td>1.0</td>\n",
       "      <td>0.0</td>\n",
       "      <td>0.0</td>\n",
       "      <td>0.0</td>\n",
       "      <td>0.0</td>\n",
       "      <td>0.0</td>\n",
       "      <td>0.0</td>\n",
       "      <td>0.0</td>\n",
       "      <td>0.0</td>\n",
       "      <td>0.0</td>\n",
       "      <td>...</td>\n",
       "      <td>0.0</td>\n",
       "      <td>0.0</td>\n",
       "      <td>0.0</td>\n",
       "      <td>1.0</td>\n",
       "      <td>0.0</td>\n",
       "      <td>0.0</td>\n",
       "      <td>0.0</td>\n",
       "      <td>0.0</td>\n",
       "      <td>0.0</td>\n",
       "      <td>VEHICLE THEFT</td>\n",
       "    </tr>\n",
       "    <tr>\n",
       "      <th>2190</th>\n",
       "      <td>1.0</td>\n",
       "      <td>0.0</td>\n",
       "      <td>0.0</td>\n",
       "      <td>0.0</td>\n",
       "      <td>0.0</td>\n",
       "      <td>0.0</td>\n",
       "      <td>0.0</td>\n",
       "      <td>0.0</td>\n",
       "      <td>0.0</td>\n",
       "      <td>0.0</td>\n",
       "      <td>...</td>\n",
       "      <td>0.0</td>\n",
       "      <td>0.0</td>\n",
       "      <td>0.0</td>\n",
       "      <td>0.0</td>\n",
       "      <td>0.0</td>\n",
       "      <td>0.0</td>\n",
       "      <td>0.0</td>\n",
       "      <td>0.0</td>\n",
       "      <td>1.0</td>\n",
       "      <td>DRUG/NARCOTIC</td>\n",
       "    </tr>\n",
       "    <tr>\n",
       "      <th>2191</th>\n",
       "      <td>1.0</td>\n",
       "      <td>0.0</td>\n",
       "      <td>0.0</td>\n",
       "      <td>0.0</td>\n",
       "      <td>0.0</td>\n",
       "      <td>0.0</td>\n",
       "      <td>0.0</td>\n",
       "      <td>0.0</td>\n",
       "      <td>0.0</td>\n",
       "      <td>0.0</td>\n",
       "      <td>...</td>\n",
       "      <td>0.0</td>\n",
       "      <td>0.0</td>\n",
       "      <td>0.0</td>\n",
       "      <td>0.0</td>\n",
       "      <td>1.0</td>\n",
       "      <td>0.0</td>\n",
       "      <td>0.0</td>\n",
       "      <td>0.0</td>\n",
       "      <td>0.0</td>\n",
       "      <td>VEHICLE THEFT</td>\n",
       "    </tr>\n",
       "    <tr>\n",
       "      <th>2192</th>\n",
       "      <td>1.0</td>\n",
       "      <td>0.0</td>\n",
       "      <td>0.0</td>\n",
       "      <td>0.0</td>\n",
       "      <td>0.0</td>\n",
       "      <td>0.0</td>\n",
       "      <td>0.0</td>\n",
       "      <td>0.0</td>\n",
       "      <td>0.0</td>\n",
       "      <td>0.0</td>\n",
       "      <td>...</td>\n",
       "      <td>0.0</td>\n",
       "      <td>0.0</td>\n",
       "      <td>0.0</td>\n",
       "      <td>0.0</td>\n",
       "      <td>0.0</td>\n",
       "      <td>0.0</td>\n",
       "      <td>0.0</td>\n",
       "      <td>1.0</td>\n",
       "      <td>0.0</td>\n",
       "      <td>VEHICLE THEFT</td>\n",
       "    </tr>\n",
       "    <tr>\n",
       "      <th>2193</th>\n",
       "      <td>1.0</td>\n",
       "      <td>0.0</td>\n",
       "      <td>0.0</td>\n",
       "      <td>0.0</td>\n",
       "      <td>0.0</td>\n",
       "      <td>0.0</td>\n",
       "      <td>0.0</td>\n",
       "      <td>0.0</td>\n",
       "      <td>0.0</td>\n",
       "      <td>0.0</td>\n",
       "      <td>...</td>\n",
       "      <td>0.0</td>\n",
       "      <td>0.0</td>\n",
       "      <td>0.0</td>\n",
       "      <td>1.0</td>\n",
       "      <td>0.0</td>\n",
       "      <td>0.0</td>\n",
       "      <td>0.0</td>\n",
       "      <td>0.0</td>\n",
       "      <td>0.0</td>\n",
       "      <td>BURGLARY</td>\n",
       "    </tr>\n",
       "    <tr>\n",
       "      <th>2194</th>\n",
       "      <td>1.0</td>\n",
       "      <td>0.0</td>\n",
       "      <td>0.0</td>\n",
       "      <td>0.0</td>\n",
       "      <td>0.0</td>\n",
       "      <td>0.0</td>\n",
       "      <td>0.0</td>\n",
       "      <td>0.0</td>\n",
       "      <td>0.0</td>\n",
       "      <td>0.0</td>\n",
       "      <td>...</td>\n",
       "      <td>0.0</td>\n",
       "      <td>1.0</td>\n",
       "      <td>0.0</td>\n",
       "      <td>0.0</td>\n",
       "      <td>0.0</td>\n",
       "      <td>0.0</td>\n",
       "      <td>0.0</td>\n",
       "      <td>0.0</td>\n",
       "      <td>0.0</td>\n",
       "      <td>VEHICLE THEFT</td>\n",
       "    </tr>\n",
       "  </tbody>\n",
       "</table>\n",
       "<p>2195 rows × 40 columns</p>\n",
       "</div>"
      ],
      "text/plain": [
       "      Intercept  C(hour)[T.1]  C(hour)[T.2]  C(hour)[T.3]  C(hour)[T.4]  \\\n",
       "0           1.0           0.0           0.0           0.0           0.0   \n",
       "1           1.0           0.0           0.0           0.0           0.0   \n",
       "2           1.0           0.0           0.0           0.0           0.0   \n",
       "3           1.0           0.0           0.0           0.0           0.0   \n",
       "4           1.0           0.0           0.0           0.0           0.0   \n",
       "5           1.0           0.0           0.0           0.0           0.0   \n",
       "6           1.0           0.0           0.0           0.0           0.0   \n",
       "7           1.0           0.0           0.0           0.0           0.0   \n",
       "8           1.0           0.0           0.0           0.0           0.0   \n",
       "9           1.0           0.0           0.0           0.0           0.0   \n",
       "10          1.0           0.0           0.0           0.0           0.0   \n",
       "11          1.0           0.0           0.0           0.0           0.0   \n",
       "12          1.0           0.0           0.0           0.0           0.0   \n",
       "13          1.0           0.0           0.0           0.0           0.0   \n",
       "14          1.0           0.0           0.0           0.0           0.0   \n",
       "15          1.0           0.0           0.0           0.0           0.0   \n",
       "16          1.0           0.0           0.0           0.0           0.0   \n",
       "17          1.0           0.0           0.0           0.0           0.0   \n",
       "18          1.0           0.0           0.0           0.0           0.0   \n",
       "19          1.0           0.0           0.0           0.0           0.0   \n",
       "20          1.0           0.0           0.0           0.0           0.0   \n",
       "21          1.0           0.0           0.0           0.0           0.0   \n",
       "22          1.0           0.0           0.0           0.0           0.0   \n",
       "23          1.0           0.0           0.0           0.0           0.0   \n",
       "24          1.0           0.0           0.0           0.0           0.0   \n",
       "25          1.0           0.0           0.0           0.0           0.0   \n",
       "26          1.0           0.0           0.0           0.0           0.0   \n",
       "27          1.0           0.0           0.0           0.0           0.0   \n",
       "28          1.0           0.0           0.0           0.0           0.0   \n",
       "29          1.0           0.0           0.0           0.0           0.0   \n",
       "...         ...           ...           ...           ...           ...   \n",
       "2165        1.0           0.0           0.0           0.0           0.0   \n",
       "2166        1.0           0.0           0.0           0.0           0.0   \n",
       "2167        1.0           0.0           0.0           0.0           0.0   \n",
       "2168        1.0           0.0           0.0           0.0           0.0   \n",
       "2169        1.0           0.0           0.0           0.0           0.0   \n",
       "2170        1.0           0.0           0.0           0.0           0.0   \n",
       "2171        1.0           0.0           0.0           0.0           0.0   \n",
       "2172        1.0           0.0           0.0           0.0           0.0   \n",
       "2173        1.0           0.0           0.0           0.0           0.0   \n",
       "2174        1.0           0.0           0.0           0.0           0.0   \n",
       "2175        1.0           0.0           0.0           0.0           0.0   \n",
       "2176        1.0           0.0           0.0           0.0           0.0   \n",
       "2177        1.0           0.0           0.0           0.0           0.0   \n",
       "2178        1.0           0.0           0.0           0.0           0.0   \n",
       "2179        1.0           0.0           0.0           0.0           0.0   \n",
       "2180        1.0           0.0           0.0           1.0           0.0   \n",
       "2181        1.0           0.0           1.0           0.0           0.0   \n",
       "2182        1.0           1.0           0.0           0.0           0.0   \n",
       "2183        1.0           0.0           0.0           0.0           0.0   \n",
       "2184        1.0           0.0           0.0           0.0           0.0   \n",
       "2185        1.0           0.0           0.0           0.0           0.0   \n",
       "2186        1.0           0.0           0.0           0.0           0.0   \n",
       "2187        1.0           0.0           0.0           0.0           0.0   \n",
       "2188        1.0           0.0           0.0           0.0           0.0   \n",
       "2189        1.0           0.0           0.0           0.0           0.0   \n",
       "2190        1.0           0.0           0.0           0.0           0.0   \n",
       "2191        1.0           0.0           0.0           0.0           0.0   \n",
       "2192        1.0           0.0           0.0           0.0           0.0   \n",
       "2193        1.0           0.0           0.0           0.0           0.0   \n",
       "2194        1.0           0.0           0.0           0.0           0.0   \n",
       "\n",
       "      C(hour)[T.5]  C(hour)[T.6]  C(hour)[T.7]  C(hour)[T.8]  C(hour)[T.9]  \\\n",
       "0              0.0           0.0           0.0           0.0           0.0   \n",
       "1              0.0           0.0           0.0           0.0           0.0   \n",
       "2              0.0           0.0           0.0           0.0           0.0   \n",
       "3              0.0           0.0           0.0           0.0           0.0   \n",
       "4              0.0           0.0           0.0           0.0           0.0   \n",
       "5              0.0           0.0           0.0           0.0           0.0   \n",
       "6              0.0           0.0           0.0           0.0           0.0   \n",
       "7              0.0           0.0           0.0           0.0           0.0   \n",
       "8              0.0           0.0           0.0           0.0           0.0   \n",
       "9              0.0           0.0           0.0           0.0           0.0   \n",
       "10             0.0           0.0           0.0           0.0           0.0   \n",
       "11             0.0           0.0           0.0           0.0           0.0   \n",
       "12             0.0           0.0           0.0           0.0           0.0   \n",
       "13             0.0           0.0           0.0           0.0           0.0   \n",
       "14             0.0           0.0           0.0           0.0           0.0   \n",
       "15             0.0           0.0           0.0           0.0           0.0   \n",
       "16             0.0           0.0           0.0           0.0           0.0   \n",
       "17             0.0           0.0           0.0           0.0           0.0   \n",
       "18             0.0           0.0           0.0           0.0           0.0   \n",
       "19             0.0           0.0           0.0           0.0           0.0   \n",
       "20             0.0           0.0           0.0           0.0           0.0   \n",
       "21             0.0           0.0           0.0           0.0           0.0   \n",
       "22             0.0           0.0           0.0           0.0           0.0   \n",
       "23             0.0           0.0           0.0           0.0           0.0   \n",
       "24             0.0           0.0           0.0           0.0           0.0   \n",
       "25             0.0           0.0           0.0           0.0           0.0   \n",
       "26             0.0           0.0           0.0           0.0           0.0   \n",
       "27             0.0           0.0           0.0           0.0           0.0   \n",
       "28             0.0           0.0           0.0           0.0           0.0   \n",
       "29             0.0           0.0           0.0           0.0           0.0   \n",
       "...            ...           ...           ...           ...           ...   \n",
       "2165           0.0           0.0           0.0           0.0           0.0   \n",
       "2166           0.0           0.0           0.0           0.0           0.0   \n",
       "2167           0.0           0.0           0.0           0.0           0.0   \n",
       "2168           0.0           0.0           0.0           0.0           0.0   \n",
       "2169           0.0           0.0           0.0           0.0           0.0   \n",
       "2170           0.0           0.0           0.0           0.0           0.0   \n",
       "2171           0.0           0.0           0.0           0.0           1.0   \n",
       "2172           0.0           0.0           0.0           1.0           0.0   \n",
       "2173           0.0           0.0           0.0           1.0           0.0   \n",
       "2174           0.0           0.0           0.0           1.0           0.0   \n",
       "2175           0.0           0.0           0.0           1.0           0.0   \n",
       "2176           0.0           0.0           0.0           1.0           0.0   \n",
       "2177           0.0           0.0           1.0           0.0           0.0   \n",
       "2178           0.0           1.0           0.0           0.0           0.0   \n",
       "2179           1.0           0.0           0.0           0.0           0.0   \n",
       "2180           0.0           0.0           0.0           0.0           0.0   \n",
       "2181           0.0           0.0           0.0           0.0           0.0   \n",
       "2182           0.0           0.0           0.0           0.0           0.0   \n",
       "2183           0.0           0.0           0.0           0.0           0.0   \n",
       "2184           0.0           0.0           0.0           0.0           0.0   \n",
       "2185           0.0           0.0           0.0           0.0           0.0   \n",
       "2186           0.0           0.0           0.0           0.0           0.0   \n",
       "2187           0.0           0.0           0.0           0.0           0.0   \n",
       "2188           0.0           0.0           0.0           0.0           0.0   \n",
       "2189           0.0           0.0           0.0           0.0           0.0   \n",
       "2190           0.0           0.0           0.0           0.0           0.0   \n",
       "2191           0.0           0.0           0.0           0.0           0.0   \n",
       "2192           0.0           0.0           0.0           0.0           0.0   \n",
       "2193           0.0           0.0           0.0           0.0           0.0   \n",
       "2194           0.0           0.0           0.0           0.0           0.0   \n",
       "\n",
       "          ...        C(PdDistrict)[T.CENTRAL]  C(PdDistrict)[T.INGLESIDE]  \\\n",
       "0         ...                             0.0                         1.0   \n",
       "1         ...                             0.0                         0.0   \n",
       "2         ...                             0.0                         1.0   \n",
       "3         ...                             0.0                         0.0   \n",
       "4         ...                             1.0                         0.0   \n",
       "5         ...                             1.0                         0.0   \n",
       "6         ...                             0.0                         0.0   \n",
       "7         ...                             0.0                         0.0   \n",
       "8         ...                             0.0                         0.0   \n",
       "9         ...                             0.0                         0.0   \n",
       "10        ...                             0.0                         0.0   \n",
       "11        ...                             1.0                         0.0   \n",
       "12        ...                             0.0                         0.0   \n",
       "13        ...                             0.0                         0.0   \n",
       "14        ...                             0.0                         0.0   \n",
       "15        ...                             0.0                         0.0   \n",
       "16        ...                             0.0                         0.0   \n",
       "17        ...                             0.0                         0.0   \n",
       "18        ...                             0.0                         0.0   \n",
       "19        ...                             0.0                         0.0   \n",
       "20        ...                             0.0                         0.0   \n",
       "21        ...                             0.0                         0.0   \n",
       "22        ...                             0.0                         1.0   \n",
       "23        ...                             0.0                         0.0   \n",
       "24        ...                             0.0                         1.0   \n",
       "25        ...                             0.0                         1.0   \n",
       "26        ...                             0.0                         0.0   \n",
       "27        ...                             0.0                         0.0   \n",
       "28        ...                             0.0                         0.0   \n",
       "29        ...                             0.0                         0.0   \n",
       "...       ...                             ...                         ...   \n",
       "2165      ...                             0.0                         0.0   \n",
       "2166      ...                             0.0                         0.0   \n",
       "2167      ...                             0.0                         1.0   \n",
       "2168      ...                             0.0                         0.0   \n",
       "2169      ...                             0.0                         1.0   \n",
       "2170      ...                             0.0                         1.0   \n",
       "2171      ...                             1.0                         0.0   \n",
       "2172      ...                             1.0                         0.0   \n",
       "2173      ...                             0.0                         0.0   \n",
       "2174      ...                             0.0                         0.0   \n",
       "2175      ...                             0.0                         0.0   \n",
       "2176      ...                             0.0                         0.0   \n",
       "2177      ...                             0.0                         0.0   \n",
       "2178      ...                             0.0                         0.0   \n",
       "2179      ...                             0.0                         0.0   \n",
       "2180      ...                             0.0                         1.0   \n",
       "2181      ...                             0.0                         0.0   \n",
       "2182      ...                             0.0                         1.0   \n",
       "2183      ...                             0.0                         0.0   \n",
       "2184      ...                             0.0                         0.0   \n",
       "2185      ...                             0.0                         0.0   \n",
       "2186      ...                             0.0                         0.0   \n",
       "2187      ...                             0.0                         0.0   \n",
       "2188      ...                             0.0                         0.0   \n",
       "2189      ...                             0.0                         0.0   \n",
       "2190      ...                             0.0                         0.0   \n",
       "2191      ...                             0.0                         0.0   \n",
       "2192      ...                             0.0                         0.0   \n",
       "2193      ...                             0.0                         0.0   \n",
       "2194      ...                             0.0                         1.0   \n",
       "\n",
       "      C(PdDistrict)[T.MISSION]  C(PdDistrict)[T.NORTHERN]  \\\n",
       "0                          0.0                        0.0   \n",
       "1                          0.0                        0.0   \n",
       "2                          0.0                        0.0   \n",
       "3                          0.0                        0.0   \n",
       "4                          0.0                        0.0   \n",
       "5                          0.0                        0.0   \n",
       "6                          1.0                        0.0   \n",
       "7                          0.0                        0.0   \n",
       "8                          0.0                        0.0   \n",
       "9                          0.0                        0.0   \n",
       "10                         0.0                        0.0   \n",
       "11                         0.0                        0.0   \n",
       "12                         0.0                        0.0   \n",
       "13                         0.0                        1.0   \n",
       "14                         1.0                        0.0   \n",
       "15                         0.0                        1.0   \n",
       "16                         0.0                        1.0   \n",
       "17                         0.0                        1.0   \n",
       "18                         0.0                        1.0   \n",
       "19                         0.0                        0.0   \n",
       "20                         0.0                        0.0   \n",
       "21                         0.0                        0.0   \n",
       "22                         0.0                        0.0   \n",
       "23                         0.0                        0.0   \n",
       "24                         0.0                        0.0   \n",
       "25                         0.0                        0.0   \n",
       "26                         0.0                        0.0   \n",
       "27                         1.0                        0.0   \n",
       "28                         1.0                        0.0   \n",
       "29                         0.0                        1.0   \n",
       "...                        ...                        ...   \n",
       "2165                       0.0                        0.0   \n",
       "2166                       0.0                        0.0   \n",
       "2167                       0.0                        0.0   \n",
       "2168                       0.0                        0.0   \n",
       "2169                       0.0                        0.0   \n",
       "2170                       0.0                        0.0   \n",
       "2171                       0.0                        0.0   \n",
       "2172                       0.0                        0.0   \n",
       "2173                       0.0                        0.0   \n",
       "2174                       0.0                        0.0   \n",
       "2175                       0.0                        0.0   \n",
       "2176                       0.0                        0.0   \n",
       "2177                       0.0                        0.0   \n",
       "2178                       0.0                        1.0   \n",
       "2179                       0.0                        0.0   \n",
       "2180                       0.0                        0.0   \n",
       "2181                       0.0                        0.0   \n",
       "2182                       0.0                        0.0   \n",
       "2183                       0.0                        0.0   \n",
       "2184                       0.0                        1.0   \n",
       "2185                       0.0                        0.0   \n",
       "2186                       0.0                        0.0   \n",
       "2187                       0.0                        0.0   \n",
       "2188                       1.0                        0.0   \n",
       "2189                       0.0                        1.0   \n",
       "2190                       0.0                        0.0   \n",
       "2191                       0.0                        0.0   \n",
       "2192                       0.0                        0.0   \n",
       "2193                       0.0                        1.0   \n",
       "2194                       0.0                        0.0   \n",
       "\n",
       "      C(PdDistrict)[T.PARK]  C(PdDistrict)[T.RICHMOND]  \\\n",
       "0                       0.0                        0.0   \n",
       "1                       0.0                        0.0   \n",
       "2                       0.0                        0.0   \n",
       "3                       1.0                        0.0   \n",
       "4                       0.0                        0.0   \n",
       "5                       0.0                        0.0   \n",
       "6                       0.0                        0.0   \n",
       "7                       0.0                        0.0   \n",
       "8                       0.0                        0.0   \n",
       "9                       0.0                        0.0   \n",
       "10                      0.0                        0.0   \n",
       "11                      0.0                        0.0   \n",
       "12                      0.0                        0.0   \n",
       "13                      0.0                        0.0   \n",
       "14                      0.0                        0.0   \n",
       "15                      0.0                        0.0   \n",
       "16                      0.0                        0.0   \n",
       "17                      0.0                        0.0   \n",
       "18                      0.0                        0.0   \n",
       "19                      0.0                        0.0   \n",
       "20                      1.0                        0.0   \n",
       "21                      1.0                        0.0   \n",
       "22                      0.0                        0.0   \n",
       "23                      0.0                        1.0   \n",
       "24                      0.0                        0.0   \n",
       "25                      0.0                        0.0   \n",
       "26                      0.0                        0.0   \n",
       "27                      0.0                        0.0   \n",
       "28                      0.0                        0.0   \n",
       "29                      0.0                        0.0   \n",
       "...                     ...                        ...   \n",
       "2165                    0.0                        0.0   \n",
       "2166                    0.0                        0.0   \n",
       "2167                    0.0                        0.0   \n",
       "2168                    1.0                        0.0   \n",
       "2169                    0.0                        0.0   \n",
       "2170                    0.0                        0.0   \n",
       "2171                    0.0                        0.0   \n",
       "2172                    0.0                        0.0   \n",
       "2173                    0.0                        1.0   \n",
       "2174                    0.0                        0.0   \n",
       "2175                    0.0                        0.0   \n",
       "2176                    0.0                        0.0   \n",
       "2177                    0.0                        1.0   \n",
       "2178                    0.0                        0.0   \n",
       "2179                    0.0                        0.0   \n",
       "2180                    0.0                        0.0   \n",
       "2181                    1.0                        0.0   \n",
       "2182                    0.0                        0.0   \n",
       "2183                    0.0                        0.0   \n",
       "2184                    0.0                        0.0   \n",
       "2185                    0.0                        0.0   \n",
       "2186                    0.0                        0.0   \n",
       "2187                    0.0                        0.0   \n",
       "2188                    0.0                        0.0   \n",
       "2189                    0.0                        0.0   \n",
       "2190                    0.0                        0.0   \n",
       "2191                    1.0                        0.0   \n",
       "2192                    0.0                        0.0   \n",
       "2193                    0.0                        0.0   \n",
       "2194                    0.0                        0.0   \n",
       "\n",
       "      C(PdDistrict)[T.SOUTHERN]  C(PdDistrict)[T.TARAVAL]  \\\n",
       "0                           0.0                       0.0   \n",
       "1                           0.0                       0.0   \n",
       "2                           0.0                       0.0   \n",
       "3                           0.0                       0.0   \n",
       "4                           0.0                       0.0   \n",
       "5                           0.0                       0.0   \n",
       "6                           0.0                       0.0   \n",
       "7                           0.0                       0.0   \n",
       "8                           1.0                       0.0   \n",
       "9                           1.0                       0.0   \n",
       "10                          0.0                       0.0   \n",
       "11                          0.0                       0.0   \n",
       "12                          1.0                       0.0   \n",
       "13                          0.0                       0.0   \n",
       "14                          0.0                       0.0   \n",
       "15                          0.0                       0.0   \n",
       "16                          0.0                       0.0   \n",
       "17                          0.0                       0.0   \n",
       "18                          0.0                       0.0   \n",
       "19                          1.0                       0.0   \n",
       "20                          0.0                       0.0   \n",
       "21                          0.0                       0.0   \n",
       "22                          0.0                       0.0   \n",
       "23                          0.0                       0.0   \n",
       "24                          0.0                       0.0   \n",
       "25                          0.0                       0.0   \n",
       "26                          0.0                       1.0   \n",
       "27                          0.0                       0.0   \n",
       "28                          0.0                       0.0   \n",
       "29                          0.0                       0.0   \n",
       "...                         ...                       ...   \n",
       "2165                        0.0                       0.0   \n",
       "2166                        0.0                       0.0   \n",
       "2167                        0.0                       0.0   \n",
       "2168                        0.0                       0.0   \n",
       "2169                        0.0                       0.0   \n",
       "2170                        0.0                       0.0   \n",
       "2171                        0.0                       0.0   \n",
       "2172                        0.0                       0.0   \n",
       "2173                        0.0                       0.0   \n",
       "2174                        0.0                       0.0   \n",
       "2175                        1.0                       0.0   \n",
       "2176                        1.0                       0.0   \n",
       "2177                        0.0                       0.0   \n",
       "2178                        0.0                       0.0   \n",
       "2179                        1.0                       0.0   \n",
       "2180                        0.0                       0.0   \n",
       "2181                        0.0                       0.0   \n",
       "2182                        0.0                       0.0   \n",
       "2183                        0.0                       0.0   \n",
       "2184                        0.0                       0.0   \n",
       "2185                        0.0                       0.0   \n",
       "2186                        0.0                       0.0   \n",
       "2187                        0.0                       0.0   \n",
       "2188                        0.0                       0.0   \n",
       "2189                        0.0                       0.0   \n",
       "2190                        0.0                       0.0   \n",
       "2191                        0.0                       0.0   \n",
       "2192                        0.0                       1.0   \n",
       "2193                        0.0                       0.0   \n",
       "2194                        0.0                       0.0   \n",
       "\n",
       "      C(PdDistrict)[T.TENDERLOIN]         Target  \n",
       "0                             0.0  VEHICLE THEFT  \n",
       "1                             0.0  VEHICLE THEFT  \n",
       "2                             0.0  VEHICLE THEFT  \n",
       "3                             0.0       BURGLARY  \n",
       "4                             0.0  VEHICLE THEFT  \n",
       "5                             0.0  VEHICLE THEFT  \n",
       "6                             0.0  VEHICLE THEFT  \n",
       "7                             0.0       BURGLARY  \n",
       "8                             0.0       BURGLARY  \n",
       "9                             0.0       BURGLARY  \n",
       "10                            0.0  DRUG/NARCOTIC  \n",
       "11                            0.0       BURGLARY  \n",
       "12                            0.0  DRUG/NARCOTIC  \n",
       "13                            0.0       BURGLARY  \n",
       "14                            0.0  VEHICLE THEFT  \n",
       "15                            0.0  VEHICLE THEFT  \n",
       "16                            0.0  VEHICLE THEFT  \n",
       "17                            0.0  VEHICLE THEFT  \n",
       "18                            0.0  VEHICLE THEFT  \n",
       "19                            0.0       BURGLARY  \n",
       "20                            0.0  DRUG/NARCOTIC  \n",
       "21                            0.0  DRUG/NARCOTIC  \n",
       "22                            0.0       BURGLARY  \n",
       "23                            0.0  VEHICLE THEFT  \n",
       "24                            0.0       BURGLARY  \n",
       "25                            0.0  VEHICLE THEFT  \n",
       "26                            0.0       BURGLARY  \n",
       "27                            0.0  DRUG/NARCOTIC  \n",
       "28                            0.0  DRUG/NARCOTIC  \n",
       "29                            0.0       BURGLARY  \n",
       "...                           ...            ...  \n",
       "2165                          0.0  DRUG/NARCOTIC  \n",
       "2166                          0.0  DRUG/NARCOTIC  \n",
       "2167                          0.0  VEHICLE THEFT  \n",
       "2168                          0.0  VEHICLE THEFT  \n",
       "2169                          0.0  VEHICLE THEFT  \n",
       "2170                          0.0       BURGLARY  \n",
       "2171                          0.0  VEHICLE THEFT  \n",
       "2172                          0.0       BURGLARY  \n",
       "2173                          0.0  VEHICLE THEFT  \n",
       "2174                          0.0  VEHICLE THEFT  \n",
       "2175                          0.0  VEHICLE THEFT  \n",
       "2176                          0.0       BURGLARY  \n",
       "2177                          0.0  VEHICLE THEFT  \n",
       "2178                          0.0       BURGLARY  \n",
       "2179                          0.0       BURGLARY  \n",
       "2180                          0.0  DRUG/NARCOTIC  \n",
       "2181                          0.0       BURGLARY  \n",
       "2182                          0.0  VEHICLE THEFT  \n",
       "2183                          1.0       BURGLARY  \n",
       "2184                          0.0       BURGLARY  \n",
       "2185                          1.0  DRUG/NARCOTIC  \n",
       "2186                          0.0  VEHICLE THEFT  \n",
       "2187                          0.0  VEHICLE THEFT  \n",
       "2188                          0.0  VEHICLE THEFT  \n",
       "2189                          0.0  VEHICLE THEFT  \n",
       "2190                          1.0  DRUG/NARCOTIC  \n",
       "2191                          0.0  VEHICLE THEFT  \n",
       "2192                          0.0  VEHICLE THEFT  \n",
       "2193                          0.0       BURGLARY  \n",
       "2194                          0.0  VEHICLE THEFT  \n",
       "\n",
       "[2195 rows x 40 columns]"
      ]
     },
     "execution_count": 13,
     "metadata": {},
     "output_type": "execute_result"
    }
   ],
   "source": [
    "pdf = pd.DataFrame(X, columns=X.design_info.column_names)\n",
    "pdf['Target'] = y\n",
    "pdf"
   ]
  },
  {
   "cell_type": "markdown",
   "metadata": {
    "slideshow": {
     "slide_type": "slide"
    }
   },
   "source": [
    "## Let's see how many districts are listed in our design matrix "
   ]
  },
  {
   "cell_type": "code",
   "execution_count": 14,
   "metadata": {
    "ExecuteTime": {
     "end_time": "2016-10-17T10:45:59.745677",
     "start_time": "2016-10-17T10:45:59.726965"
    },
    "collapsed": false,
    "slideshow": {
     "slide_type": "-"
    }
   },
   "outputs": [
    {
     "data": {
      "text/plain": [
       "10"
      ]
     },
     "execution_count": 14,
     "metadata": {},
     "output_type": "execute_result"
    }
   ],
   "source": [
    "sf_crime_sub['PdDistrict'].nunique()"
   ]
  },
  {
   "cell_type": "code",
   "execution_count": 15,
   "metadata": {
    "ExecuteTime": {
     "end_time": "2016-10-17T10:46:00.264591",
     "start_time": "2016-10-17T10:46:00.257067"
    },
    "collapsed": false,
    "slideshow": {
     "slide_type": "-"
    }
   },
   "outputs": [
    {
     "data": {
      "text/plain": [
       "['C(PdDistrict)[T.CENTRAL]',\n",
       " 'C(PdDistrict)[T.INGLESIDE]',\n",
       " 'C(PdDistrict)[T.MISSION]',\n",
       " 'C(PdDistrict)[T.NORTHERN]',\n",
       " 'C(PdDistrict)[T.PARK]',\n",
       " 'C(PdDistrict)[T.RICHMOND]',\n",
       " 'C(PdDistrict)[T.SOUTHERN]',\n",
       " 'C(PdDistrict)[T.TARAVAL]',\n",
       " 'C(PdDistrict)[T.TENDERLOIN]']"
      ]
     },
     "execution_count": 15,
     "metadata": {},
     "output_type": "execute_result"
    }
   ],
   "source": [
    "[x for x in pdf.columns if 'PdDistrict' in x]"
   ]
  },
  {
   "cell_type": "code",
   "execution_count": 16,
   "metadata": {
    "ExecuteTime": {
     "end_time": "2016-10-17T10:46:00.771230",
     "start_time": "2016-10-17T10:46:00.760880"
    },
    "collapsed": false,
    "slideshow": {
     "slide_type": "-"
    }
   },
   "outputs": [
    {
     "data": {
      "text/plain": [
       "9"
      ]
     },
     "execution_count": 16,
     "metadata": {},
     "output_type": "execute_result"
    }
   ],
   "source": [
    "pd.Series([x for x in pdf.columns if 'PdDistrict' in x]).nunique()"
   ]
  },
  {
   "cell_type": "markdown",
   "metadata": {
    "slideshow": {
     "slide_type": "slide"
    }
   },
   "source": [
    "## And how many hours?"
   ]
  },
  {
   "cell_type": "code",
   "execution_count": 17,
   "metadata": {
    "ExecuteTime": {
     "end_time": "2016-10-17T10:46:01.854728",
     "start_time": "2016-10-17T10:46:01.824518"
    },
    "collapsed": false,
    "slideshow": {
     "slide_type": "-"
    }
   },
   "outputs": [
    {
     "data": {
      "text/plain": [
       "24"
      ]
     },
     "execution_count": 17,
     "metadata": {},
     "output_type": "execute_result"
    }
   ],
   "source": [
    "sf_crime_sub['hour'].nunique()"
   ]
  },
  {
   "cell_type": "code",
   "execution_count": 18,
   "metadata": {
    "ExecuteTime": {
     "end_time": "2016-10-17T10:46:02.608128",
     "start_time": "2016-10-17T10:46:02.600269"
    },
    "collapsed": false,
    "slideshow": {
     "slide_type": "-"
    }
   },
   "outputs": [
    {
     "data": {
      "text/plain": [
       "23"
      ]
     },
     "execution_count": 18,
     "metadata": {},
     "output_type": "execute_result"
    }
   ],
   "source": [
    "pd.Series([x for x in pdf.columns if 'hour' in x]).nunique()"
   ]
  },
  {
   "cell_type": "markdown",
   "metadata": {
    "slideshow": {
     "slide_type": "slide"
    }
   },
   "source": [
    "## Check: Why is there one less on both?"
   ]
  },
  {
   "cell_type": "markdown",
   "metadata": {
    "slideshow": {
     "slide_type": "slide"
    }
   },
   "source": [
    "## Set up our training and testing sets"
   ]
  },
  {
   "cell_type": "code",
   "execution_count": 19,
   "metadata": {
    "ExecuteTime": {
     "end_time": "2016-10-17T10:46:05.308850",
     "start_time": "2016-10-17T10:46:05.281208"
    },
    "collapsed": false,
    "slideshow": {
     "slide_type": "-"
    }
   },
   "outputs": [],
   "source": [
    "X_train, X_test, y_train, y_test = train_test_split(X, y, test_size=0.33, random_state=77)"
   ]
  },
  {
   "cell_type": "markdown",
   "metadata": {
    "slideshow": {
     "slide_type": "slide"
    }
   },
   "source": [
    "## Now let's fit a standard logistic regression model"
   ]
  },
  {
   "cell_type": "code",
   "execution_count": 20,
   "metadata": {
    "ExecuteTime": {
     "end_time": "2016-10-17T10:50:22.371300",
     "start_time": "2016-10-17T10:50:22.358855"
    },
    "collapsed": false,
    "slideshow": {
     "slide_type": "-"
    }
   },
   "outputs": [],
   "source": [
    "lr = LogisticRegression(solver='liblinear')"
   ]
  },
  {
   "cell_type": "code",
   "execution_count": 21,
   "metadata": {
    "ExecuteTime": {
     "end_time": "2016-10-17T10:52:41.400100",
     "start_time": "2016-10-17T10:52:41.119611"
    },
    "collapsed": false,
    "slideshow": {
     "slide_type": "-"
    }
   },
   "outputs": [],
   "source": [
    "lr_model = lr.fit(X_train, y_train)"
   ]
  },
  {
   "cell_type": "markdown",
   "metadata": {
    "slideshow": {
     "slide_type": "slide"
    }
   },
   "source": [
    "## Make our predictions"
   ]
  },
  {
   "cell_type": "code",
   "execution_count": 22,
   "metadata": {
    "ExecuteTime": {
     "end_time": "2016-10-17T10:52:42.405346",
     "start_time": "2016-10-17T10:52:42.269881"
    },
    "collapsed": false,
    "slideshow": {
     "slide_type": "-"
    }
   },
   "outputs": [],
   "source": [
    "lr_ypred = lr_model.predict(X_test)"
   ]
  },
  {
   "cell_type": "markdown",
   "metadata": {
    "slideshow": {
     "slide_type": "slide"
    }
   },
   "source": [
    "## Check our misclassifications with a confusion matrix\n",
    "\n",
    "[Confusion Matrix](http://scikit-learn.org/stable/auto_examples/model_selection/plot_confusion_matrix.html#sphx-glr-auto-examples-model-selection-plot-confusion-matrix-py)"
   ]
  },
  {
   "cell_type": "code",
   "execution_count": 23,
   "metadata": {
    "ExecuteTime": {
     "end_time": "2016-10-17T10:52:43.669856",
     "start_time": "2016-10-17T10:52:43.581659"
    },
    "collapsed": false,
    "slideshow": {
     "slide_type": "-"
    }
   },
   "outputs": [
    {
     "data": {
      "text/html": [
       "<div>\n",
       "<table border=\"1\" class=\"dataframe\">\n",
       "  <thead>\n",
       "    <tr style=\"text-align: right;\">\n",
       "      <th></th>\n",
       "      <th>BURGLARY</th>\n",
       "      <th>DRUG/NARCOTIC</th>\n",
       "      <th>VEHICLE THEFT</th>\n",
       "    </tr>\n",
       "  </thead>\n",
       "  <tbody>\n",
       "    <tr>\n",
       "      <th>BURGLARY</th>\n",
       "      <td>96</td>\n",
       "      <td>19</td>\n",
       "      <td>134</td>\n",
       "    </tr>\n",
       "    <tr>\n",
       "      <th>DRUG/NARCOTIC</th>\n",
       "      <td>45</td>\n",
       "      <td>49</td>\n",
       "      <td>76</td>\n",
       "    </tr>\n",
       "    <tr>\n",
       "      <th>VEHICLE THEFT</th>\n",
       "      <td>59</td>\n",
       "      <td>11</td>\n",
       "      <td>236</td>\n",
       "    </tr>\n",
       "  </tbody>\n",
       "</table>\n",
       "</div>"
      ],
      "text/plain": [
       "               BURGLARY  DRUG/NARCOTIC  VEHICLE THEFT\n",
       "BURGLARY             96             19            134\n",
       "DRUG/NARCOTIC        45             49             76\n",
       "VEHICLE THEFT        59             11            236"
      ]
     },
     "execution_count": 23,
     "metadata": {},
     "output_type": "execute_result"
    }
   ],
   "source": [
    "# actual = index; predicted = columns\n",
    "lr_cm = confusion_matrix(y_test, lr_ypred, labels=lr.classes_)\n",
    "lr_cm = pd.DataFrame(lr_cm, columns=lr.classes_, index=lr.classes_)\n",
    "lr_cm"
   ]
  },
  {
   "cell_type": "markdown",
   "metadata": {
    "slideshow": {
     "slide_type": "slide"
    }
   },
   "source": [
    "## Check our precision, recall, and f1\n",
    "\n",
    "[Precision & Recall](https://www.quora.com/What-is-the-best-way-to-understand-the-terms-precision-and-recall)<br>\n",
    "[F1](https://en.wikipedia.org/wiki/F1_score)"
   ]
  },
  {
   "cell_type": "code",
   "execution_count": 24,
   "metadata": {
    "ExecuteTime": {
     "end_time": "2016-10-17T10:52:44.904547",
     "start_time": "2016-10-17T10:52:44.846533"
    },
    "collapsed": false,
    "slideshow": {
     "slide_type": "-"
    }
   },
   "outputs": [
    {
     "name": "stdout",
     "output_type": "stream",
     "text": [
      "               precision    recall  f1-score   support\n",
      "\n",
      "     BURGLARY       0.48      0.39      0.43       249\n",
      "DRUG/NARCOTIC       0.62      0.29      0.39       170\n",
      "VEHICLE THEFT       0.53      0.77      0.63       306\n",
      "\n",
      "  avg / total       0.53      0.53      0.50       725\n",
      "\n"
     ]
    }
   ],
   "source": [
    "print classification_report(y_test, lr_ypred, labels=lr.classes_)"
   ]
  },
  {
   "cell_type": "markdown",
   "metadata": {
    "slideshow": {
     "slide_type": "slide"
    }
   },
   "source": [
    "## Check the CV Score"
   ]
  },
  {
   "cell_type": "code",
   "execution_count": 25,
   "metadata": {
    "ExecuteTime": {
     "end_time": "2016-10-17T10:53:01.367733",
     "start_time": "2016-10-17T10:53:01.192312"
    },
    "collapsed": false,
    "slideshow": {
     "slide_type": "-"
    }
   },
   "outputs": [
    {
     "data": {
      "text/plain": [
       "array([ 0.44947491,  0.50286206,  0.54306079])"
      ]
     },
     "execution_count": 25,
     "metadata": {},
     "output_type": "execute_result"
    }
   ],
   "source": [
    "cvs1 = cross_val_score(lr, X, y, cv=3, scoring='f1_weighted')\n",
    "cvs1"
   ]
  },
  {
   "cell_type": "code",
   "execution_count": 26,
   "metadata": {
    "ExecuteTime": {
     "end_time": "2016-10-17T10:53:03.902369",
     "start_time": "2016-10-17T10:53:03.894322"
    },
    "collapsed": false,
    "slideshow": {
     "slide_type": "-"
    }
   },
   "outputs": [
    {
     "data": {
      "text/plain": [
       "0.49846591887492991"
      ]
     },
     "execution_count": 26,
     "metadata": {},
     "output_type": "execute_result"
    }
   ],
   "source": [
    "cvs1.mean()"
   ]
  },
  {
   "cell_type": "markdown",
   "metadata": {
    "slideshow": {
     "slide_type": "slide"
    }
   },
   "source": [
    "## Let's now use a penalized regression - we'll use LASSO (L1)"
   ]
  },
  {
   "cell_type": "code",
   "execution_count": 27,
   "metadata": {
    "ExecuteTime": {
     "end_time": "2016-10-17T10:53:04.872907",
     "start_time": "2016-10-17T10:53:04.806723"
    },
    "collapsed": false,
    "slideshow": {
     "slide_type": "-"
    }
   },
   "outputs": [],
   "source": [
    "lr_l1 = LogisticRegression(C=1, penalty='l1', solver='liblinear')\n",
    "lr_l1_model = lr_l1.fit(X_train, y_train)"
   ]
  },
  {
   "cell_type": "code",
   "execution_count": 28,
   "metadata": {
    "ExecuteTime": {
     "end_time": "2016-10-17T10:53:05.463734",
     "start_time": "2016-10-17T10:53:05.447156"
    },
    "collapsed": false,
    "slideshow": {
     "slide_type": "-"
    }
   },
   "outputs": [],
   "source": [
    "lr_l1_model = lr_l1.fit(X_train, y_train)"
   ]
  },
  {
   "cell_type": "code",
   "execution_count": 29,
   "metadata": {
    "ExecuteTime": {
     "end_time": "2016-10-17T10:53:05.898319",
     "start_time": "2016-10-17T10:53:05.892363"
    },
    "collapsed": false,
    "slideshow": {
     "slide_type": "-"
    }
   },
   "outputs": [],
   "source": [
    "lr_l1_ypred = lr_l1_model.predict(X_test)"
   ]
  },
  {
   "cell_type": "markdown",
   "metadata": {
    "slideshow": {
     "slide_type": "slide"
    }
   },
   "source": [
    "## Get the confusion matrix"
   ]
  },
  {
   "cell_type": "code",
   "execution_count": 30,
   "metadata": {
    "ExecuteTime": {
     "end_time": "2016-10-17T10:53:06.834618",
     "start_time": "2016-10-17T10:53:06.808282"
    },
    "collapsed": false,
    "slideshow": {
     "slide_type": "-"
    }
   },
   "outputs": [
    {
     "data": {
      "text/html": [
       "<div>\n",
       "<table border=\"1\" class=\"dataframe\">\n",
       "  <thead>\n",
       "    <tr style=\"text-align: right;\">\n",
       "      <th></th>\n",
       "      <th>BURGLARY</th>\n",
       "      <th>DRUG/NARCOTIC</th>\n",
       "      <th>VEHICLE THEFT</th>\n",
       "    </tr>\n",
       "  </thead>\n",
       "  <tbody>\n",
       "    <tr>\n",
       "      <th>BURGLARY</th>\n",
       "      <td>91</td>\n",
       "      <td>18</td>\n",
       "      <td>140</td>\n",
       "    </tr>\n",
       "    <tr>\n",
       "      <th>DRUG/NARCOTIC</th>\n",
       "      <td>45</td>\n",
       "      <td>47</td>\n",
       "      <td>78</td>\n",
       "    </tr>\n",
       "    <tr>\n",
       "      <th>VEHICLE THEFT</th>\n",
       "      <td>63</td>\n",
       "      <td>10</td>\n",
       "      <td>233</td>\n",
       "    </tr>\n",
       "  </tbody>\n",
       "</table>\n",
       "</div>"
      ],
      "text/plain": [
       "               BURGLARY  DRUG/NARCOTIC  VEHICLE THEFT\n",
       "BURGLARY             91             18            140\n",
       "DRUG/NARCOTIC        45             47             78\n",
       "VEHICLE THEFT        63             10            233"
      ]
     },
     "execution_count": 30,
     "metadata": {},
     "output_type": "execute_result"
    }
   ],
   "source": [
    "lr_l1_cm = confusion_matrix(y_test, lr_l1_ypred, labels=lr_l1.classes_)\n",
    "lr_l1_cm = pd.DataFrame(lr_l1_cm, columns=lr_l1.classes_, index=lr_l1.classes_)\n",
    "lr_l1_cm"
   ]
  },
  {
   "cell_type": "markdown",
   "metadata": {
    "slideshow": {
     "slide_type": "slide"
    }
   },
   "source": [
    "## Get the classification report"
   ]
  },
  {
   "cell_type": "code",
   "execution_count": 31,
   "metadata": {
    "ExecuteTime": {
     "end_time": "2016-10-17T10:53:07.769377",
     "start_time": "2016-10-17T10:53:07.759664"
    },
    "collapsed": false,
    "slideshow": {
     "slide_type": "-"
    }
   },
   "outputs": [
    {
     "name": "stdout",
     "output_type": "stream",
     "text": [
      "               precision    recall  f1-score   support\n",
      "\n",
      "     BURGLARY       0.46      0.37      0.41       249\n",
      "DRUG/NARCOTIC       0.63      0.28      0.38       170\n",
      "VEHICLE THEFT       0.52      0.76      0.62       306\n",
      "\n",
      "  avg / total       0.52      0.51      0.49       725\n",
      "\n"
     ]
    }
   ],
   "source": [
    "print classification_report(y_test, lr_l1_ypred, labels=lr_l1.classes_)"
   ]
  },
  {
   "cell_type": "markdown",
   "metadata": {
    "slideshow": {
     "slide_type": "slide"
    }
   },
   "source": [
    "## Get mean cross val score"
   ]
  },
  {
   "cell_type": "code",
   "execution_count": 32,
   "metadata": {
    "ExecuteTime": {
     "end_time": "2016-10-17T10:53:09.299911",
     "start_time": "2016-10-17T10:53:09.238003"
    },
    "collapsed": false,
    "slideshow": {
     "slide_type": "-"
    }
   },
   "outputs": [],
   "source": [
    "cvs2 = cross_val_score(lr_l1, X, y, cv=3)"
   ]
  },
  {
   "cell_type": "code",
   "execution_count": 33,
   "metadata": {
    "ExecuteTime": {
     "end_time": "2016-10-17T10:57:18.418592",
     "start_time": "2016-10-17T10:57:18.409843"
    },
    "collapsed": false,
    "slideshow": {
     "slide_type": "-"
    }
   },
   "outputs": [
    {
     "data": {
      "text/plain": [
       "0.51257287076764779"
      ]
     },
     "execution_count": 33,
     "metadata": {},
     "output_type": "execute_result"
    }
   ],
   "source": [
    "cvs2.mean()"
   ]
  },
  {
   "cell_type": "markdown",
   "metadata": {
    "slideshow": {
     "slide_type": "slide"
    }
   },
   "source": [
    " ## Looks like a minimal + change with L1 penalty at 1, how about other values?"
   ]
  },
  {
   "cell_type": "markdown",
   "metadata": {
    "slideshow": {
     "slide_type": "-"
    }
   },
   "source": [
    "## We can build a function to test this"
   ]
  },
  {
   "cell_type": "code",
   "execution_count": 34,
   "metadata": {
    "ExecuteTime": {
     "end_time": "2016-10-17T10:57:19.620091",
     "start_time": "2016-10-17T10:57:19.612245"
    },
    "collapsed": false,
    "slideshow": {
     "slide_type": "-"
    }
   },
   "outputs": [],
   "source": [
    "def test_penalties(c_val):\n",
    "    lr_l1 = LogisticRegression(C=c_val, penalty='l1', solver='liblinear')\n",
    "    cvs = cross_val_score(lr_l1, X, y, cv=3, scoring='f1_weighted')\n",
    "    return cvs"
   ]
  },
  {
   "cell_type": "code",
   "execution_count": 35,
   "metadata": {
    "ExecuteTime": {
     "end_time": "2016-10-17T10:57:21.007211",
     "start_time": "2016-10-17T10:57:20.287722"
    },
    "collapsed": false,
    "slideshow": {
     "slide_type": "slide"
    }
   },
   "outputs": [
    {
     "name": "stderr",
     "output_type": "stream",
     "text": [
      "//anaconda/lib/python2.7/site-packages/sklearn/metrics/classification.py:1113: UndefinedMetricWarning: F-score is ill-defined and being set to 0.0 in labels with no predicted samples.\n",
      "  'precision', 'predicted', average, warn_for)\n"
     ]
    },
    {
     "data": {
      "text/html": [
       "<div>\n",
       "<table border=\"1\" class=\"dataframe\">\n",
       "  <thead>\n",
       "    <tr style=\"text-align: right;\">\n",
       "      <th></th>\n",
       "      <th>c_vals</th>\n",
       "      <th>score</th>\n",
       "    </tr>\n",
       "  </thead>\n",
       "  <tbody>\n",
       "    <tr>\n",
       "      <th>0</th>\n",
       "      <td>0.001</td>\n",
       "      <td>0.166800</td>\n",
       "    </tr>\n",
       "    <tr>\n",
       "      <th>1</th>\n",
       "      <td>0.010</td>\n",
       "      <td>0.269455</td>\n",
       "    </tr>\n",
       "    <tr>\n",
       "      <th>2</th>\n",
       "      <td>0.100</td>\n",
       "      <td>0.415842</td>\n",
       "    </tr>\n",
       "    <tr>\n",
       "      <th>3</th>\n",
       "      <td>1.000</td>\n",
       "      <td>0.495965</td>\n",
       "    </tr>\n",
       "    <tr>\n",
       "      <th>4</th>\n",
       "      <td>1.500</td>\n",
       "      <td>0.500745</td>\n",
       "    </tr>\n",
       "    <tr>\n",
       "      <th>5</th>\n",
       "      <td>2.500</td>\n",
       "      <td>0.499080</td>\n",
       "    </tr>\n",
       "    <tr>\n",
       "      <th>6</th>\n",
       "      <td>5.000</td>\n",
       "      <td>0.505656</td>\n",
       "    </tr>\n",
       "    <tr>\n",
       "      <th>7</th>\n",
       "      <td>10.000</td>\n",
       "      <td>0.501893</td>\n",
       "    </tr>\n",
       "    <tr>\n",
       "      <th>8</th>\n",
       "      <td>100.000</td>\n",
       "      <td>0.500465</td>\n",
       "    </tr>\n",
       "  </tbody>\n",
       "</table>\n",
       "</div>"
      ],
      "text/plain": [
       "    c_vals     score\n",
       "0    0.001  0.166800\n",
       "1    0.010  0.269455\n",
       "2    0.100  0.415842\n",
       "3    1.000  0.495965\n",
       "4    1.500  0.500745\n",
       "5    2.500  0.499080\n",
       "6    5.000  0.505656\n",
       "7   10.000  0.501893\n",
       "8  100.000  0.500465"
      ]
     },
     "execution_count": 35,
     "metadata": {},
     "output_type": "execute_result"
    }
   ],
   "source": [
    "# let's test it...\n",
    "test_cs = pd.Series([.001, .01, .1, 1, 1.5, 2.5, 5, 10, 100]).to_frame('c_vals')\n",
    "score_frame = pd.DataFrame([test_penalties(x) for x in test_cs['c_vals']]).mean(axis=1).to_frame('score')\n",
    "\n",
    "final_scores = pd.concat([test_cs, score_frame], axis=1)\n",
    "final_scores"
   ]
  },
  {
   "cell_type": "code",
   "execution_count": 36,
   "metadata": {
    "ExecuteTime": {
     "end_time": "2016-10-17T10:57:21.533743",
     "start_time": "2016-10-17T10:57:21.501669"
    },
    "collapsed": false,
    "slideshow": {
     "slide_type": "-"
    }
   },
   "outputs": [
    {
     "data": {
      "text/plain": [
       "5.0"
      ]
     },
     "execution_count": 36,
     "metadata": {},
     "output_type": "execute_result"
    }
   ],
   "source": [
    "# and so the best c value...\n",
    "final_scores['c_vals'][final_scores['score'].idxmax()]"
   ]
  },
  {
   "cell_type": "markdown",
   "metadata": {
    "slideshow": {
     "slide_type": "slide"
    }
   },
   "source": [
    "## That wasn't too bad, but...\n",
    "\n",
    "But that was only changing one parameter. What if we wanted to try out L2 as well as L1? Or if we had a different algorithm with numerous parameters? It can start to become a hassle to code these from scratch.\n",
    "\n",
    "Fortunately, sk-learn has a function that will do this for us."
   ]
  },
  {
   "cell_type": "code",
   "execution_count": 37,
   "metadata": {
    "ExecuteTime": {
     "end_time": "2016-10-17T10:57:25.622974",
     "start_time": "2016-10-17T10:57:24.827760"
    },
    "collapsed": false,
    "slideshow": {
     "slide_type": "-"
    }
   },
   "outputs": [
    {
     "name": "stderr",
     "output_type": "stream",
     "text": [
      "//anaconda/lib/python2.7/site-packages/sklearn/metrics/classification.py:1113: UndefinedMetricWarning: F-score is ill-defined and being set to 0.0 due to no predicted samples.\n",
      "  'precision', 'predicted', average, warn_for)\n"
     ]
    }
   ],
   "source": [
    "# fit model with three folds and lasso regularization\n",
    "# use Cs=20 to test a grid of 20 distinct parameters\n",
    "# remeber: Cs describes the inverse of regularization strength\n",
    "logreg_cv = LogisticRegressionCV(Cs=20, solver='liblinear', cv=3, penalty='l1', scoring='f1')\n",
    "cv_model = logreg_cv.fit(X_train, y_train)"
   ]
  },
  {
   "cell_type": "markdown",
   "metadata": {
    "slideshow": {
     "slide_type": "slide"
    }
   },
   "source": [
    "## Find best C per class"
   ]
  },
  {
   "cell_type": "code",
   "execution_count": 38,
   "metadata": {
    "ExecuteTime": {
     "end_time": "2016-10-17T10:57:27.948545",
     "start_time": "2016-10-17T10:57:27.941592"
    },
    "collapsed": false,
    "slideshow": {
     "slide_type": "-"
    }
   },
   "outputs": [
    {
     "name": "stdout",
     "output_type": "stream",
     "text": [
      "best C for class:\n",
      "{'BURGLARY': 0.0001, 'VEHICLE THEFT': 0.00069519279617756048, 'DRUG/NARCOTIC': 0.00026366508987303583}\n"
     ]
    }
   ],
   "source": [
    "print('best C for class:')\n",
    "best_C = {logreg_cv.classes_[i]:x for i, (x, c) in enumerate(zip(logreg_cv.Cs_, logreg_cv.classes_))}\n",
    "print(best_C)"
   ]
  },
  {
   "cell_type": "markdown",
   "metadata": {
    "slideshow": {
     "slide_type": "slide"
    }
   },
   "source": [
    "## Get the classification report for our best model"
   ]
  },
  {
   "cell_type": "code",
   "execution_count": 39,
   "metadata": {
    "ExecuteTime": {
     "end_time": "2016-10-17T11:01:20.197481",
     "start_time": "2016-10-17T11:01:20.171633"
    },
    "collapsed": false,
    "slideshow": {
     "slide_type": "-"
    }
   },
   "outputs": [
    {
     "name": "stdout",
     "output_type": "stream",
     "text": [
      "               precision    recall  f1-score   support\n",
      "\n",
      "     BURGLARY       0.48      0.40      0.44       249\n",
      "DRUG/NARCOTIC       0.69      0.25      0.36       170\n",
      "VEHICLE THEFT       0.53      0.78      0.63       306\n",
      "\n",
      "  avg / total       0.55      0.53      0.50       725\n",
      "\n"
     ]
    }
   ],
   "source": [
    "print classification_report(y_test, logreg_cv.predict(X_test))"
   ]
  },
  {
   "cell_type": "markdown",
   "metadata": {
    "slideshow": {
     "slide_type": "slide"
    }
   },
   "source": [
    "## Exercise\n",
    "\n",
    "Using the data set (pdf):\n",
    "- Fit two models to predict between \"Burglary\" and \"Drug/Narcotic\" crimes\n",
    "- One model should use an L1 penalty and the other should use an L2 penalty\n",
    "- Make sure to use train_test_split\n",
    "- Print out a confusion matrix and a classification report for both models\n",
    "- Finally, build a third model that uses LogisticRegressionCV\n",
    "- Print our a confusion matrix, classification report and the best value of C"
   ]
  },
  {
   "cell_type": "code",
   "execution_count": 46,
   "metadata": {
    "ExecuteTime": {
     "end_time": "2016-10-17T11:05:48.674815",
     "start_time": "2016-10-17T11:05:48.665981"
    },
    "collapsed": false
   },
   "outputs": [
    {
     "data": {
      "text/plain": [
       "array(['VEHICLE THEFT', 'BURGLARY', 'DRUG/NARCOTIC'], dtype=object)"
      ]
     },
     "execution_count": 46,
     "metadata": {},
     "output_type": "execute_result"
    }
   ],
   "source": [
    "pdf['Target'].unique()"
   ]
  },
  {
   "cell_type": "code",
   "execution_count": 48,
   "metadata": {
    "ExecuteTime": {
     "end_time": "2016-10-17T11:06:32.567336",
     "start_time": "2016-10-17T11:06:32.541606"
    },
    "collapsed": false
   },
   "outputs": [],
   "source": [
    "pdf2 = pdf.copy()\n",
    "pdf2 = pdf2[pdf2['Target']!='VEHICLE THEFT']"
   ]
  },
  {
   "cell_type": "code",
   "execution_count": 50,
   "metadata": {
    "ExecuteTime": {
     "end_time": "2016-10-17T11:07:01.171979",
     "start_time": "2016-10-17T11:07:01.165228"
    },
    "collapsed": false
   },
   "outputs": [],
   "source": [
    "X2 = pdf2[pdf.columns[:-1]]\n",
    "y2 = pdf2['Target']"
   ]
  },
  {
   "cell_type": "code",
   "execution_count": 51,
   "metadata": {
    "ExecuteTime": {
     "end_time": "2016-10-17T11:08:41.150724",
     "start_time": "2016-10-17T11:08:41.140486"
    },
    "collapsed": false
   },
   "outputs": [],
   "source": [
    "X_train2, X_test2, y_train2, y_test2 = train_test_split(X2, y2, test_size=0.33, random_state=77)"
   ]
  },
  {
   "cell_type": "code",
   "execution_count": 52,
   "metadata": {
    "ExecuteTime": {
     "end_time": "2016-10-17T11:09:17.988139",
     "start_time": "2016-10-17T11:09:17.978640"
    },
    "collapsed": false
   },
   "outputs": [],
   "source": [
    "lr3 = LogisticRegression()\n",
    "m3 = lr3.fit(X_train2, y_train2)"
   ]
  },
  {
   "cell_type": "code",
   "execution_count": 54,
   "metadata": {
    "ExecuteTime": {
     "end_time": "2016-10-17T11:11:31.635199",
     "start_time": "2016-10-17T11:11:31.599594"
    },
    "collapsed": false
   },
   "outputs": [
    {
     "data": {
      "text/html": [
       "<div>\n",
       "<table border=\"1\" class=\"dataframe\">\n",
       "  <thead>\n",
       "    <tr style=\"text-align: right;\">\n",
       "      <th></th>\n",
       "      <th>BURGLARY</th>\n",
       "      <th>DRUG/NARCOTIC</th>\n",
       "    </tr>\n",
       "  </thead>\n",
       "  <tbody>\n",
       "    <tr>\n",
       "      <th>BURGLARY</th>\n",
       "      <td>212</td>\n",
       "      <td>37</td>\n",
       "    </tr>\n",
       "    <tr>\n",
       "      <th>DRUG/NARCOTIC</th>\n",
       "      <td>91</td>\n",
       "      <td>66</td>\n",
       "    </tr>\n",
       "  </tbody>\n",
       "</table>\n",
       "</div>"
      ],
      "text/plain": [
       "               BURGLARY  DRUG/NARCOTIC\n",
       "BURGLARY            212             37\n",
       "DRUG/NARCOTIC        91             66"
      ]
     },
     "execution_count": 54,
     "metadata": {},
     "output_type": "execute_result"
    }
   ],
   "source": [
    "cm3 = confusion_matrix(y_test2, m3.predict(X_test2), labels=m3.classes_)\n",
    "cm3 = pd.DataFrame(cm3, columns=m3.classes_, index=m3.classes_)\n",
    "cm3"
   ]
  },
  {
   "cell_type": "code",
   "execution_count": 53,
   "metadata": {
    "ExecuteTime": {
     "end_time": "2016-10-17T11:09:36.819180",
     "start_time": "2016-10-17T11:09:36.778152"
    },
    "collapsed": false
   },
   "outputs": [
    {
     "name": "stdout",
     "output_type": "stream",
     "text": [
      "               precision    recall  f1-score   support\n",
      "\n",
      "     BURGLARY       0.70      0.85      0.77       249\n",
      "DRUG/NARCOTIC       0.64      0.42      0.51       157\n",
      "\n",
      "  avg / total       0.68      0.68      0.67       406\n",
      "\n"
     ]
    }
   ],
   "source": [
    "print classification_report(y_test2, m3.predict(X_test2))"
   ]
  },
  {
   "cell_type": "code",
   "execution_count": 55,
   "metadata": {
    "ExecuteTime": {
     "end_time": "2016-10-17T11:13:24.273739",
     "start_time": "2016-10-17T11:13:24.096737"
    },
    "collapsed": false
   },
   "outputs": [],
   "source": [
    "lr4 = LogisticRegression(penalty='l1')\n",
    "m4 = lr4.fit(X_train2, y_train2)"
   ]
  },
  {
   "cell_type": "code",
   "execution_count": 56,
   "metadata": {
    "ExecuteTime": {
     "end_time": "2016-10-17T11:13:49.675219",
     "start_time": "2016-10-17T11:13:49.655545"
    },
    "collapsed": false
   },
   "outputs": [
    {
     "data": {
      "text/html": [
       "<div>\n",
       "<table border=\"1\" class=\"dataframe\">\n",
       "  <thead>\n",
       "    <tr style=\"text-align: right;\">\n",
       "      <th></th>\n",
       "      <th>BURGLARY</th>\n",
       "      <th>DRUG/NARCOTIC</th>\n",
       "    </tr>\n",
       "  </thead>\n",
       "  <tbody>\n",
       "    <tr>\n",
       "      <th>BURGLARY</th>\n",
       "      <td>221</td>\n",
       "      <td>28</td>\n",
       "    </tr>\n",
       "    <tr>\n",
       "      <th>DRUG/NARCOTIC</th>\n",
       "      <td>95</td>\n",
       "      <td>62</td>\n",
       "    </tr>\n",
       "  </tbody>\n",
       "</table>\n",
       "</div>"
      ],
      "text/plain": [
       "               BURGLARY  DRUG/NARCOTIC\n",
       "BURGLARY            221             28\n",
       "DRUG/NARCOTIC        95             62"
      ]
     },
     "execution_count": 56,
     "metadata": {},
     "output_type": "execute_result"
    }
   ],
   "source": [
    "cm4 = confusion_matrix(y_test2, m4.predict(X_test2), labels=m4.classes_)\n",
    "cm4 = pd.DataFrame(cm4, columns=m4.classes_, index=m4.classes_)\n",
    "cm4"
   ]
  },
  {
   "cell_type": "code",
   "execution_count": 57,
   "metadata": {
    "ExecuteTime": {
     "end_time": "2016-10-17T11:13:53.305631",
     "start_time": "2016-10-17T11:13:53.295415"
    },
    "collapsed": false
   },
   "outputs": [
    {
     "name": "stdout",
     "output_type": "stream",
     "text": [
      "               precision    recall  f1-score   support\n",
      "\n",
      "     BURGLARY       0.70      0.89      0.78       249\n",
      "DRUG/NARCOTIC       0.69      0.39      0.50       157\n",
      "\n",
      "  avg / total       0.70      0.70      0.67       406\n",
      "\n"
     ]
    }
   ],
   "source": [
    "print classification_report(y_test2, m4.predict(X_test2))"
   ]
  },
  {
   "cell_type": "code",
   "execution_count": 58,
   "metadata": {
    "ExecuteTime": {
     "end_time": "2016-10-17T11:13:24.273739",
     "start_time": "2016-10-17T11:13:24.096737"
    },
    "collapsed": false
   },
   "outputs": [],
   "source": [
    "lr5 = LogisticRegressionCV(Cs=20, solver='liblinear', cv=3, penalty='l1', scoring='f1')\n",
    "m5 = lr5.fit(X_train2, y_train2)"
   ]
  },
  {
   "cell_type": "code",
   "execution_count": 59,
   "metadata": {
    "ExecuteTime": {
     "end_time": "2016-10-17T11:13:49.675219",
     "start_time": "2016-10-17T11:13:49.655545"
    },
    "collapsed": false
   },
   "outputs": [
    {
     "data": {
      "text/html": [
       "<div>\n",
       "<table border=\"1\" class=\"dataframe\">\n",
       "  <thead>\n",
       "    <tr style=\"text-align: right;\">\n",
       "      <th></th>\n",
       "      <th>BURGLARY</th>\n",
       "      <th>DRUG/NARCOTIC</th>\n",
       "    </tr>\n",
       "  </thead>\n",
       "  <tbody>\n",
       "    <tr>\n",
       "      <th>BURGLARY</th>\n",
       "      <td>209</td>\n",
       "      <td>40</td>\n",
       "    </tr>\n",
       "    <tr>\n",
       "      <th>DRUG/NARCOTIC</th>\n",
       "      <td>88</td>\n",
       "      <td>69</td>\n",
       "    </tr>\n",
       "  </tbody>\n",
       "</table>\n",
       "</div>"
      ],
      "text/plain": [
       "               BURGLARY  DRUG/NARCOTIC\n",
       "BURGLARY            209             40\n",
       "DRUG/NARCOTIC        88             69"
      ]
     },
     "execution_count": 59,
     "metadata": {},
     "output_type": "execute_result"
    }
   ],
   "source": [
    "cm5 = confusion_matrix(y_test2, m5.predict(X_test2), labels=m5.classes_)\n",
    "cm5 = pd.DataFrame(cm5, columns=m5.classes_, index=m5.classes_)\n",
    "cm5"
   ]
  },
  {
   "cell_type": "code",
   "execution_count": 60,
   "metadata": {
    "ExecuteTime": {
     "end_time": "2016-10-17T11:13:53.305631",
     "start_time": "2016-10-17T11:13:53.295415"
    },
    "collapsed": false
   },
   "outputs": [
    {
     "name": "stdout",
     "output_type": "stream",
     "text": [
      "               precision    recall  f1-score   support\n",
      "\n",
      "     BURGLARY       0.70      0.84      0.77       249\n",
      "DRUG/NARCOTIC       0.63      0.44      0.52       157\n",
      "\n",
      "  avg / total       0.68      0.68      0.67       406\n",
      "\n"
     ]
    }
   ],
   "source": [
    "print classification_report(y_test2, m5.predict(X_test2))"
   ]
  },
  {
   "cell_type": "code",
   "execution_count": 65,
   "metadata": {
    "ExecuteTime": {
     "end_time": "2016-10-17T11:24:12.789123",
     "start_time": "2016-10-17T11:24:12.782248"
    },
    "collapsed": false
   },
   "outputs": [
    {
     "name": "stdout",
     "output_type": "stream",
     "text": [
      "best C:  [ 4.2813324]\n"
     ]
    }
   ],
   "source": [
    "print 'best C: ', m5.C_"
   ]
  },
  {
   "cell_type": "code",
   "execution_count": 61,
   "metadata": {
    "ExecuteTime": {
     "end_time": "2016-10-17T11:14:24.517203",
     "start_time": "2016-10-17T11:14:24.509836"
    },
    "collapsed": false
   },
   "outputs": [
    {
     "name": "stdout",
     "output_type": "stream",
     "text": [
      "best C for class:\n",
      "{'BURGLARY': 0.0001, 'DRUG/NARCOTIC': 0.00026366508987303583}\n"
     ]
    }
   ],
   "source": [
    "print('best C for class:')\n",
    "best_C2 = {m5.classes_[i]:x for i, (x, c) in enumerate(zip(m5.Cs_, m5.classes_))}\n",
    "print(best_C2)"
   ]
  },
  {
   "cell_type": "code",
   "execution_count": null,
   "metadata": {
    "collapsed": false
   },
   "outputs": [],
   "source": []
  },
  {
   "cell_type": "code",
   "execution_count": null,
   "metadata": {
    "collapsed": false
   },
   "outputs": [],
   "source": []
  },
  {
   "cell_type": "markdown",
   "metadata": {
    "slideshow": {
     "slide_type": "slide"
    }
   },
   "source": [
    "## So LogisticRegressionCV is useful for finding the best penalty, but we had to manually change our penalty from 'l1' to 'l2' to try both...What if there was a better way...?"
   ]
  },
  {
   "cell_type": "markdown",
   "metadata": {
    "slideshow": {
     "slide_type": "slide"
    }
   },
   "source": [
    "## Introducing GridSearchCV\n",
    "\n",
    "[GridSearchCV](http://scikit-learn.org/0.17/modules/generated/sklearn.grid_search.GridSearchCV.html)"
   ]
  },
  {
   "cell_type": "markdown",
   "metadata": {
    "slideshow": {
     "slide_type": "slide"
    }
   },
   "source": [
    "## To start we'll select a model and penalties and some hyperparameters \n",
    "\n",
    "Then will pass those to GridSearchCV"
   ]
  },
  {
   "cell_type": "code",
   "execution_count": 66,
   "metadata": {
    "ExecuteTime": {
     "end_time": "2016-10-17T11:26:01.940852",
     "start_time": "2016-10-17T11:25:54.236976"
    },
    "collapsed": false,
    "slideshow": {
     "slide_type": "slide"
    }
   },
   "outputs": [
    {
     "data": {
      "text/plain": [
       "GridSearchCV(cv=15, error_score='raise',\n",
       "       estimator=LogisticRegression(C=1.0, class_weight=None, dual=False, fit_intercept=True,\n",
       "          intercept_scaling=1, max_iter=100, multi_class='ovr', n_jobs=1,\n",
       "          penalty='l2', random_state=None, solver='liblinear', tol=0.0001,\n",
       "          verbose=0, warm_start=False),\n",
       "       fit_params={}, iid=True, n_jobs=1,\n",
       "       param_grid={'penalty': ['l1', 'l2'], 'C': [0.0001, 0.001, 0.01, 0.1, 0.15, 0.25, 0.275, 0.33, 0.5, 0.66, 0.75, 1.0, 2.5, 5.0, 10.0, 100.0, 1000.0]},\n",
       "       pre_dispatch='2*n_jobs', refit=True, scoring=None, verbose=False)"
      ]
     },
     "execution_count": 66,
     "metadata": {},
     "output_type": "execute_result"
    }
   ],
   "source": [
    "logreg = LogisticRegression(solver='liblinear')\n",
    "C_vals = [0.0001, 0.001, 0.01, 0.1, .15, .25, .275, .33, 0.5, .66, 0.75, 1.0, 2.5, 5.0, 10.0, 100.0, 1000.0]\n",
    "penalties = ['l1','l2']\n",
    "\n",
    "gs = GridSearchCV(logreg, {'penalty': penalties, 'C': C_vals}, verbose=False, cv=15)\n",
    "gs.fit(X, y)"
   ]
  },
  {
   "cell_type": "markdown",
   "metadata": {
    "slideshow": {
     "slide_type": "slide"
    }
   },
   "source": [
    "## Now let's find the best parameters"
   ]
  },
  {
   "cell_type": "code",
   "execution_count": 67,
   "metadata": {
    "ExecuteTime": {
     "end_time": "2016-10-17T11:28:19.213733",
     "start_time": "2016-10-17T11:28:19.207075"
    },
    "collapsed": false,
    "slideshow": {
     "slide_type": "-"
    }
   },
   "outputs": [
    {
     "data": {
      "text/plain": [
       "{'C': 0.1, 'penalty': 'l2'}"
      ]
     },
     "execution_count": 67,
     "metadata": {},
     "output_type": "execute_result"
    }
   ],
   "source": [
    "gs.best_params_"
   ]
  },
  {
   "cell_type": "markdown",
   "metadata": {
    "slideshow": {
     "slide_type": "slide"
    }
   },
   "source": [
    "## Use this parameter to fit, predict, and print a classification_report for our X and Y"
   ]
  },
  {
   "cell_type": "code",
   "execution_count": 69,
   "metadata": {
    "ExecuteTime": {
     "end_time": "2016-10-17T11:28:58.093742",
     "start_time": "2016-10-17T11:28:58.084116"
    },
    "collapsed": false,
    "slideshow": {
     "slide_type": "-"
    }
   },
   "outputs": [],
   "source": [
    "logreg = LogisticRegression(C=gs.best_params_['C'], penalty=gs.best_params_['penalty'])\n",
    "cv_model = logreg.fit(X_train2, y_train2)"
   ]
  },
  {
   "cell_type": "code",
   "execution_count": 71,
   "metadata": {
    "ExecuteTime": {
     "end_time": "2016-10-17T11:29:05.912012",
     "start_time": "2016-10-17T11:29:05.907405"
    },
    "collapsed": false,
    "slideshow": {
     "slide_type": "-"
    }
   },
   "outputs": [],
   "source": [
    "cv_pred = cv_model.predict(X_test2)"
   ]
  },
  {
   "cell_type": "markdown",
   "metadata": {
    "slideshow": {
     "slide_type": "slide"
    }
   },
   "source": [
    "## Now let's check our stats..."
   ]
  },
  {
   "cell_type": "code",
   "execution_count": 72,
   "metadata": {
    "ExecuteTime": {
     "end_time": "2016-10-17T11:29:23.795689",
     "start_time": "2016-10-17T11:29:23.785918"
    },
    "collapsed": false,
    "slideshow": {
     "slide_type": "-"
    }
   },
   "outputs": [],
   "source": [
    "cm3 = confusion_matrix(y_test2, cv_pred, labels=logreg.classes_)\n",
    "cm3 = pd.DataFrame(cm3, columns=logreg.classes_, index=logreg.classes_)"
   ]
  },
  {
   "cell_type": "code",
   "execution_count": 73,
   "metadata": {
    "ExecuteTime": {
     "end_time": "2016-10-17T11:29:24.808008",
     "start_time": "2016-10-17T11:29:24.786517"
    },
    "collapsed": false,
    "slideshow": {
     "slide_type": "-"
    }
   },
   "outputs": [
    {
     "data": {
      "text/html": [
       "<div>\n",
       "<table border=\"1\" class=\"dataframe\">\n",
       "  <thead>\n",
       "    <tr style=\"text-align: right;\">\n",
       "      <th></th>\n",
       "      <th>BURGLARY</th>\n",
       "      <th>DRUG/NARCOTIC</th>\n",
       "    </tr>\n",
       "  </thead>\n",
       "  <tbody>\n",
       "    <tr>\n",
       "      <th>BURGLARY</th>\n",
       "      <td>229</td>\n",
       "      <td>20</td>\n",
       "    </tr>\n",
       "    <tr>\n",
       "      <th>DRUG/NARCOTIC</th>\n",
       "      <td>107</td>\n",
       "      <td>50</td>\n",
       "    </tr>\n",
       "  </tbody>\n",
       "</table>\n",
       "</div>"
      ],
      "text/plain": [
       "               BURGLARY  DRUG/NARCOTIC\n",
       "BURGLARY            229             20\n",
       "DRUG/NARCOTIC       107             50"
      ]
     },
     "execution_count": 73,
     "metadata": {},
     "output_type": "execute_result"
    }
   ],
   "source": [
    "cm3"
   ]
  },
  {
   "cell_type": "code",
   "execution_count": 75,
   "metadata": {
    "ExecuteTime": {
     "end_time": "2016-10-17T11:29:33.042503",
     "start_time": "2016-10-17T11:29:33.033501"
    },
    "collapsed": false,
    "slideshow": {
     "slide_type": "slide"
    }
   },
   "outputs": [
    {
     "name": "stdout",
     "output_type": "stream",
     "text": [
      "               precision    recall  f1-score   support\n",
      "\n",
      "     BURGLARY       0.68      0.92      0.78       249\n",
      "DRUG/NARCOTIC       0.71      0.32      0.44       157\n",
      "\n",
      "  avg / total       0.69      0.69      0.65       406\n",
      "\n"
     ]
    }
   ],
   "source": [
    "print classification_report(y_test2, cv_pred, labels=logreg.classes_)"
   ]
  },
  {
   "cell_type": "markdown",
   "metadata": {
    "slideshow": {
     "slide_type": "slide"
    }
   },
   "source": [
    "## Independent Practice\n",
    "\n",
    "Use GridSearchCV with knn on the iris data set:\n",
    "- Use train_test_split with a train size of .66\n",
    "- Set a parameter dictionary with the number of neighbors and at least one other parameter\n",
    "- Get your best estimator and print out a classification report"
   ]
  },
  {
   "cell_type": "code",
   "execution_count": 90,
   "metadata": {
    "ExecuteTime": {
     "end_time": "2016-10-17T11:34:38.494384",
     "start_time": "2016-10-17T11:34:38.490060"
    },
    "collapsed": false
   },
   "outputs": [],
   "source": [
    "from sklearn import datasets\n",
    "from sklearn.neighbors import KNeighborsClassifier"
   ]
  },
  {
   "cell_type": "code",
   "execution_count": 77,
   "metadata": {
    "ExecuteTime": {
     "end_time": "2016-10-17T11:30:30.986806",
     "start_time": "2016-10-17T11:30:30.907022"
    },
    "collapsed": false
   },
   "outputs": [],
   "source": [
    "iris = datasets.load_iris()"
   ]
  },
  {
   "cell_type": "code",
   "execution_count": 84,
   "metadata": {
    "ExecuteTime": {
     "end_time": "2016-10-17T11:31:30.125119",
     "start_time": "2016-10-17T11:31:30.120043"
    },
    "collapsed": false
   },
   "outputs": [],
   "source": [
    "features = pd.DataFrame(iris.data, columns=iris.feature_names)"
   ]
  },
  {
   "cell_type": "code",
   "execution_count": 85,
   "metadata": {
    "ExecuteTime": {
     "end_time": "2016-10-17T11:31:33.374743",
     "start_time": "2016-10-17T11:31:33.353065"
    },
    "collapsed": false
   },
   "outputs": [
    {
     "data": {
      "text/html": [
       "<div>\n",
       "<table border=\"1\" class=\"dataframe\">\n",
       "  <thead>\n",
       "    <tr style=\"text-align: right;\">\n",
       "      <th></th>\n",
       "      <th>sepal length (cm)</th>\n",
       "      <th>sepal width (cm)</th>\n",
       "      <th>petal length (cm)</th>\n",
       "      <th>petal width (cm)</th>\n",
       "    </tr>\n",
       "  </thead>\n",
       "  <tbody>\n",
       "    <tr>\n",
       "      <th>0</th>\n",
       "      <td>5.1</td>\n",
       "      <td>3.5</td>\n",
       "      <td>1.4</td>\n",
       "      <td>0.2</td>\n",
       "    </tr>\n",
       "    <tr>\n",
       "      <th>1</th>\n",
       "      <td>4.9</td>\n",
       "      <td>3.0</td>\n",
       "      <td>1.4</td>\n",
       "      <td>0.2</td>\n",
       "    </tr>\n",
       "    <tr>\n",
       "      <th>2</th>\n",
       "      <td>4.7</td>\n",
       "      <td>3.2</td>\n",
       "      <td>1.3</td>\n",
       "      <td>0.2</td>\n",
       "    </tr>\n",
       "    <tr>\n",
       "      <th>3</th>\n",
       "      <td>4.6</td>\n",
       "      <td>3.1</td>\n",
       "      <td>1.5</td>\n",
       "      <td>0.2</td>\n",
       "    </tr>\n",
       "    <tr>\n",
       "      <th>4</th>\n",
       "      <td>5.0</td>\n",
       "      <td>3.6</td>\n",
       "      <td>1.4</td>\n",
       "      <td>0.2</td>\n",
       "    </tr>\n",
       "  </tbody>\n",
       "</table>\n",
       "</div>"
      ],
      "text/plain": [
       "   sepal length (cm)  sepal width (cm)  petal length (cm)  petal width (cm)\n",
       "0                5.1               3.5                1.4               0.2\n",
       "1                4.9               3.0                1.4               0.2\n",
       "2                4.7               3.2                1.3               0.2\n",
       "3                4.6               3.1                1.5               0.2\n",
       "4                5.0               3.6                1.4               0.2"
      ]
     },
     "execution_count": 85,
     "metadata": {},
     "output_type": "execute_result"
    }
   ],
   "source": [
    "features.head()"
   ]
  },
  {
   "cell_type": "code",
   "execution_count": 86,
   "metadata": {
    "ExecuteTime": {
     "end_time": "2016-10-17T11:31:37.532050",
     "start_time": "2016-10-17T11:31:37.527762"
    },
    "collapsed": false
   },
   "outputs": [],
   "source": [
    "target = iris.target"
   ]
  },
  {
   "cell_type": "code",
   "execution_count": 89,
   "metadata": {
    "ExecuteTime": {
     "end_time": "2016-10-17T11:33:23.020468",
     "start_time": "2016-10-17T11:33:23.013931"
    },
    "collapsed": false
   },
   "outputs": [],
   "source": [
    "X_train3, X_test3, y_train3, y_test3 = train_test_split(features, target,\\\n",
    "                                                        train_size=0.66, stratify=target, random_state=77)"
   ]
  },
  {
   "cell_type": "code",
   "execution_count": 117,
   "metadata": {
    "ExecuteTime": {
     "end_time": "2016-10-17T11:54:14.952571",
     "start_time": "2016-10-17T11:54:14.945793"
    },
    "collapsed": false
   },
   "outputs": [],
   "source": [
    "knn = KNeighborsClassifier()\n",
    "neighbors = np.arange(1,31,1)\n",
    "weights_o = ['uniform', 'distance']\n",
    "leaf = np.arange(10,50,10)"
   ]
  },
  {
   "cell_type": "code",
   "execution_count": 118,
   "metadata": {
    "ExecuteTime": {
     "end_time": "2016-10-17T11:54:15.477427",
     "start_time": "2016-10-17T11:54:15.473431"
    },
    "collapsed": false
   },
   "outputs": [],
   "source": [
    "params = dict(n_neighbors=neighbors, weights=weights_o, leaf_size = leaf)"
   ]
  },
  {
   "cell_type": "code",
   "execution_count": 120,
   "metadata": {
    "ExecuteTime": {
     "end_time": "2016-10-17T11:54:50.420163",
     "start_time": "2016-10-17T11:54:50.410708"
    },
    "collapsed": false
   },
   "outputs": [
    {
     "data": {
      "text/plain": [
       "{'leaf_size': array([10, 20, 30, 40]),\n",
       " 'n_neighbors': array([ 1,  2,  3,  4,  5,  6,  7,  8,  9, 10, 11, 12, 13, 14, 15, 16, 17,\n",
       "        18, 19, 20, 21, 22, 23, 24, 25, 26, 27, 28, 29, 30]),\n",
       " 'weights': ['uniform', 'distance']}"
      ]
     },
     "execution_count": 120,
     "metadata": {},
     "output_type": "execute_result"
    }
   ],
   "source": [
    "params"
   ]
  },
  {
   "cell_type": "code",
   "execution_count": 119,
   "metadata": {
    "ExecuteTime": {
     "end_time": "2016-10-17T11:54:48.583826",
     "start_time": "2016-10-17T11:54:27.994305"
    },
    "collapsed": false
   },
   "outputs": [
    {
     "data": {
      "text/plain": [
       "GridSearchCV(cv=15, error_score='raise',\n",
       "       estimator=KNeighborsClassifier(algorithm='auto', leaf_size=30, metric='minkowski',\n",
       "           metric_params=None, n_jobs=1, n_neighbors=5, p=2,\n",
       "           weights='uniform'),\n",
       "       fit_params={}, iid=True, n_jobs=1,\n",
       "       param_grid={'n_neighbors': array([ 1,  2,  3,  4,  5,  6,  7,  8,  9, 10, 11, 12, 13, 14, 15, 16, 17,\n",
       "       18, 19, 20, 21, 22, 23, 24, 25, 26, 27, 28, 29, 30]), 'weights': ['uniform', 'distance'], 'leaf_size': array([10, 20, 30, 40])},\n",
       "       pre_dispatch='2*n_jobs', refit=True, scoring='accuracy',\n",
       "       verbose=False)"
      ]
     },
     "execution_count": 119,
     "metadata": {},
     "output_type": "execute_result"
    }
   ],
   "source": [
    "gs2 = GridSearchCV(knn, params, verbose=False, cv=15, scoring='accuracy')\n",
    "gs2.fit(X_train3, y_train3)"
   ]
  },
  {
   "cell_type": "code",
   "execution_count": 129,
   "metadata": {
    "ExecuteTime": {
     "end_time": "2016-10-17T11:55:54.896316",
     "start_time": "2016-10-17T11:55:54.887596"
    },
    "collapsed": false
   },
   "outputs": [
    {
     "data": {
      "text/plain": [
       "KNeighborsClassifier(algorithm='auto', leaf_size=10, metric='minkowski',\n",
       "           metric_params=None, n_jobs=1, n_neighbors=9, p=2,\n",
       "           weights='uniform')"
      ]
     },
     "execution_count": 129,
     "metadata": {},
     "output_type": "execute_result"
    }
   ],
   "source": [
    "gs2.best_estimator_"
   ]
  },
  {
   "cell_type": "code",
   "execution_count": 121,
   "metadata": {
    "ExecuteTime": {
     "end_time": "2016-10-17T11:54:56.232193",
     "start_time": "2016-10-17T11:54:56.225107"
    },
    "collapsed": false
   },
   "outputs": [
    {
     "data": {
      "text/plain": [
       "{'leaf_size': 10, 'n_neighbors': 9, 'weights': 'uniform'}"
      ]
     },
     "execution_count": 121,
     "metadata": {},
     "output_type": "execute_result"
    }
   ],
   "source": [
    "gs2.best_params_"
   ]
  },
  {
   "cell_type": "code",
   "execution_count": 130,
   "metadata": {
    "ExecuteTime": {
     "end_time": "2016-10-17T11:56:03.185231",
     "start_time": "2016-10-17T11:56:03.179623"
    },
    "collapsed": false
   },
   "outputs": [
    {
     "data": {
      "text/plain": [
       "0.9696969696969697"
      ]
     },
     "execution_count": 130,
     "metadata": {},
     "output_type": "execute_result"
    }
   ],
   "source": [
    "gs2.best_score_"
   ]
  },
  {
   "cell_type": "raw",
   "metadata": {
    "ExecuteTime": {
     "end_time": "2016-10-17T11:57:06.262246",
     "start_time": "2016-10-17T11:57:06.253302"
    }
   },
   "source": [
    "gs2.best_estimator_.fit(X_train3, y_train3)"
   ]
  },
  {
   "cell_type": "code",
   "execution_count": 132,
   "metadata": {
    "ExecuteTime": {
     "end_time": "2016-10-17T12:01:06.550311",
     "start_time": "2016-10-17T12:01:06.516849"
    },
    "collapsed": false
   },
   "outputs": [
    {
     "data": {
      "text/plain": [
       "array([1, 0, 0, 0, 1, 2, 2, 1, 2, 0, 1, 1, 2, 2, 0, 1, 0, 1, 1, 1, 0, 1, 2,\n",
       "       0, 0, 1, 0, 2, 0, 2, 0, 1, 1, 1, 1, 2, 2, 1, 2, 0, 2, 1, 2, 1, 0, 2,\n",
       "       0, 2, 0, 2, 0])"
      ]
     },
     "execution_count": 132,
     "metadata": {},
     "output_type": "execute_result"
    }
   ],
   "source": [
    "gs2.predict(X_test3)"
   ]
  },
  {
   "cell_type": "code",
   "execution_count": 122,
   "metadata": {
    "ExecuteTime": {
     "end_time": "2016-10-17T11:54:58.122711",
     "start_time": "2016-10-17T11:54:58.105168"
    },
    "collapsed": false
   },
   "outputs": [],
   "source": [
    "knn2 = KNeighborsClassifier(leaf_size= 10, n_neighbors= 9, weights= 'uniform')\n",
    "knn2.fit(X_train3, y_train3)\n",
    "pred = knn2.predict(X_test3)"
   ]
  },
  {
   "cell_type": "code",
   "execution_count": 123,
   "metadata": {
    "ExecuteTime": {
     "end_time": "2016-10-17T11:55:00.371288",
     "start_time": "2016-10-17T11:55:00.362167"
    },
    "collapsed": false
   },
   "outputs": [
    {
     "data": {
      "text/plain": [
       "array([1, 0, 0, 0, 1, 2, 2, 1, 2, 0, 1, 1, 2, 2, 0, 1, 0, 1, 1, 1, 0, 1, 2,\n",
       "       0, 0, 1, 0, 2, 0, 2, 0, 1, 1, 1, 1, 2, 2, 1, 2, 0, 2, 1, 2, 1, 0, 2,\n",
       "       0, 2, 0, 2, 0])"
      ]
     },
     "execution_count": 123,
     "metadata": {},
     "output_type": "execute_result"
    }
   ],
   "source": [
    "pred"
   ]
  },
  {
   "cell_type": "code",
   "execution_count": 124,
   "metadata": {
    "ExecuteTime": {
     "end_time": "2016-10-17T11:55:00.820784",
     "start_time": "2016-10-17T11:55:00.812250"
    },
    "collapsed": false
   },
   "outputs": [
    {
     "data": {
      "text/plain": [
       "array([1, 0, 0, 0, 1, 2, 2, 1, 2, 0, 1, 1, 2, 2, 0, 1, 0, 1, 1, 1, 0, 2, 2,\n",
       "       0, 0, 1, 0, 2, 0, 1, 0, 1, 2, 1, 1, 2, 2, 1, 2, 0, 2, 1, 2, 1, 0, 2,\n",
       "       0, 2, 0, 2, 0])"
      ]
     },
     "execution_count": 124,
     "metadata": {},
     "output_type": "execute_result"
    }
   ],
   "source": [
    "y_test3"
   ]
  },
  {
   "cell_type": "code",
   "execution_count": 125,
   "metadata": {
    "ExecuteTime": {
     "end_time": "2016-10-17T11:55:01.225869",
     "start_time": "2016-10-17T11:55:01.217455"
    },
    "collapsed": false
   },
   "outputs": [],
   "source": [
    "cm6 = confusion_matrix(y_test3, pred, labels=knn2.classes_)\n",
    "cm6 = pd.DataFrame(cm6, columns=knn2.classes_, index=knn2.classes_)"
   ]
  },
  {
   "cell_type": "code",
   "execution_count": 126,
   "metadata": {
    "ExecuteTime": {
     "end_time": "2016-10-17T11:55:01.993219",
     "start_time": "2016-10-17T11:55:01.974714"
    },
    "collapsed": false
   },
   "outputs": [
    {
     "data": {
      "text/html": [
       "<div>\n",
       "<table border=\"1\" class=\"dataframe\">\n",
       "  <thead>\n",
       "    <tr style=\"text-align: right;\">\n",
       "      <th></th>\n",
       "      <th>0</th>\n",
       "      <th>1</th>\n",
       "      <th>2</th>\n",
       "    </tr>\n",
       "  </thead>\n",
       "  <tbody>\n",
       "    <tr>\n",
       "      <th>0</th>\n",
       "      <td>17</td>\n",
       "      <td>0</td>\n",
       "      <td>0</td>\n",
       "    </tr>\n",
       "    <tr>\n",
       "      <th>1</th>\n",
       "      <td>0</td>\n",
       "      <td>16</td>\n",
       "      <td>1</td>\n",
       "    </tr>\n",
       "    <tr>\n",
       "      <th>2</th>\n",
       "      <td>0</td>\n",
       "      <td>2</td>\n",
       "      <td>15</td>\n",
       "    </tr>\n",
       "  </tbody>\n",
       "</table>\n",
       "</div>"
      ],
      "text/plain": [
       "    0   1   2\n",
       "0  17   0   0\n",
       "1   0  16   1\n",
       "2   0   2  15"
      ]
     },
     "execution_count": 126,
     "metadata": {},
     "output_type": "execute_result"
    }
   ],
   "source": [
    "cm6"
   ]
  },
  {
   "cell_type": "code",
   "execution_count": 127,
   "metadata": {
    "ExecuteTime": {
     "end_time": "2016-10-17T11:55:02.439155",
     "start_time": "2016-10-17T11:55:02.433034"
    },
    "collapsed": false
   },
   "outputs": [
    {
     "data": {
      "text/plain": [
       "array(['setosa', 'versicolor', 'virginica'], \n",
       "      dtype='|S10')"
      ]
     },
     "execution_count": 127,
     "metadata": {},
     "output_type": "execute_result"
    }
   ],
   "source": [
    "iris.target_names"
   ]
  },
  {
   "cell_type": "code",
   "execution_count": 128,
   "metadata": {
    "ExecuteTime": {
     "end_time": "2016-10-17T11:55:03.185045",
     "start_time": "2016-10-17T11:55:03.177028"
    },
    "collapsed": false
   },
   "outputs": [
    {
     "name": "stdout",
     "output_type": "stream",
     "text": [
      "             precision    recall  f1-score   support\n",
      "\n",
      "          0       1.00      1.00      1.00        17\n",
      "          1       0.89      0.94      0.91        17\n",
      "          2       0.94      0.88      0.91        17\n",
      "\n",
      "avg / total       0.94      0.94      0.94        51\n",
      "\n"
     ]
    }
   ],
   "source": [
    "print classification_report(y_test3, pred, labels=knn2.classes_)"
   ]
  },
  {
   "cell_type": "code",
   "execution_count": null,
   "metadata": {
    "collapsed": false
   },
   "outputs": [],
   "source": []
  }
 ],
 "metadata": {
  "celltoolbar": "Slideshow",
  "kernelspec": {
   "display_name": "Python 2",
   "language": "python",
   "name": "python2"
  },
  "language_info": {
   "codemirror_mode": {
    "name": "ipython",
    "version": 2
   },
   "file_extension": ".py",
   "mimetype": "text/x-python",
   "name": "python",
   "nbconvert_exporter": "python",
   "pygments_lexer": "ipython2",
   "version": "2.7.12"
  }
 },
 "nbformat": 4,
 "nbformat_minor": 0
}
